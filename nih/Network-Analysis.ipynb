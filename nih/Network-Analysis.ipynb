{
 "cells": [
  {
   "cell_type": "code",
   "execution_count": 3,
   "id": "18460f48-60c3-4ba7-bc55-b988cb85d460",
   "metadata": {},
   "outputs": [],
   "source": [
    "import pandas as pd\n",
    "import os"
   ]
  },
  {
   "cell_type": "code",
   "execution_count": 28,
   "id": "f6e6cd0f-14ed-4182-b31e-011233f5791f",
   "metadata": {},
   "outputs": [],
   "source": [
    "work_dir = '/data/amandeep/nih-dataset'\n",
    "person_dir = '/data/amandeep/nih-dataset/person'\n",
    "org_dir = '/data/amandeep/nih-dataset/organization'\n",
    "os.environ['STORE'] = f'{work_dir}/wikidata.sqlite3.db'\n",
    "os.environ['kypher'] = \"kgtk --debug query --graph-cache \" + os.environ['STORE']\n",
    "os.environ['WORK_DIR'] = work_dir"
   ]
  },
  {
   "cell_type": "code",
   "execution_count": null,
   "id": "9c8bf5ca-7b1c-483b-814b-2b3039a29b7f",
   "metadata": {},
   "outputs": [],
   "source": [
    "!kgtk cat -i $person_dir/replace_nodes_mapping.tsv -i $org_dir/replace_nodes_mapping.tsv \\\n",
    "-o $work_dir/replace_nodes_mapping.tsv"
   ]
  },
  {
   "cell_type": "code",
   "execution_count": 22,
   "id": "5961f739-ea69-47db-858a-036786d7a44e",
   "metadata": {},
   "outputs": [],
   "source": [
    "!kgtk cat \\\n",
    "-i $work_dir/kgtk-files-nih-V3.0/nih_investigator_2016.tsv \\\n",
    "-i $work_dir/kgtk-files-nih-V3.0/nih_investigator_2017.tsv \\\n",
    "-i $work_dir/kgtk-files-nih-V3.0/nih_investigator_2018.tsv \\\n",
    "-i $work_dir/kgtk-files-nih-V3.0/nih_investigator_2019.tsv \\\n",
    "-i $work_dir/kgtk-files-nih-V3.0/nih_investigator_2020.tsv \\\n",
    "-i $work_dir/kgtk-files-nih-V3.0/nih_investigator_2021_002.tsv \\\n",
    "-i $work_dir/kgtk-files-nih-V3.0/nih_investigator_2021_003.tsv \\\n",
    "-i $work_dir/kgtk-files-nih-V3.0/nih_investigator_2021_004.tsv \\\n",
    "-i $work_dir/kgtk-files-nih-V3.0/nih_investigator_2021_005.tsv \\\n",
    "-i $work_dir/kgtk-files-nih-V3.0/nih_investigator_2021_006.tsv \\\n",
    "-i $work_dir/kgtk-files-nih-V3.0/nih_investigator_2021_007.tsv \\\n",
    "-i $work_dir/kgtk-files-nih-V3.0/nih_investigator_2021_008.tsv \\\n",
    "-i $work_dir/kgtk-files-nih-V3.0/nih_investigator_2021_009.tsv \\\n",
    "-i $work_dir/kgtk-files-nih-V3.0/nih_investigator_2021_010.tsv \\\n",
    "-i $work_dir/kgtk-files-nih-V3.0/nih_investigator_2021_011.tsv \\\n",
    "-i $work_dir/kgtk-files-nih-V3.0/nih_investigator_2021_012.tsv \\\n",
    "-i $work_dir/kgtk-files-nih-V3.0/nih_investigator_2021_013.tsv \\\n",
    "-i $work_dir/kgtk-files-nih-V3.0/nih_investigator_2021_014.tsv \\\n",
    "-i $work_dir/kgtk-files-nih-V3.0/nih_investigator_2021_015.tsv \\\n",
    "-i $work_dir/kgtk-files-nih-V3.0/nih_investigator_2021_016.tsv \\\n",
    "-i $work_dir/kgtk-files-nih-V3.0/nih_investigator_2021_017.tsv \\\n",
    "-i $work_dir/kgtk-files-nih-V3.0/nih_investigator_2021_018.tsv \\\n",
    "-i $work_dir/kgtk-files-nih-V3.0/nih_investigator_2021_019.tsv \\\n",
    "-i $work_dir/kgtk-files-nih-V3.0/nih_investigator_2021_020.tsv \\\n",
    "-i $work_dir/kgtk-files-nih-V3.0/nih_investigator_2021_021.tsv \\\n",
    "-i $work_dir/kgtk-files-nih-V3.0/nih_investigator_2021_022.tsv \\\n",
    "-i $work_dir/kgtk-files-nih-V3.0/nih_investigator_2021_023.tsv \\\n",
    "-i $work_dir/kgtk-files-nih-V3.0/nih_investigator_2021_024.tsv \\\n",
    "-i $work_dir/kgtk-files-nih-V3.0/nih_investigator_2021_025.tsv \\\n",
    "-i $work_dir/kgtk-files-nih-V3.0/nih_investigator_2021_026.tsv \\\n",
    "-i $work_dir/kgtk-files-nih-V3.0/nih_investigator_2021_027.tsv \\\n",
    "-i $work_dir/kgtk-files-nih-V3.0/nih_investigator_2021_028.tsv \\\n",
    "-i $work_dir/kgtk-files-nih-V3.0/nih_investigator_2021_029.tsv \\\n",
    "-i $work_dir/kgtk-files-nih-V3.0/nih_investigator_2021_030.tsv \\\n",
    "-i $work_dir/kgtk-files-nih-V3.0/nih_investigator_2021_031.tsv \\\n",
    "-i $work_dir/kgtk-files-nih-V3.0/nih_investigator_2021_032.tsv \\\n",
    "-i $work_dir/kgtk-files-nih-V3.0/nih_investigator_2021_033.tsv \\\n",
    "-i $work_dir/kgtk-files-nih-V3.0/nih_investigator_2021_034.tsv \\\n",
    "-i $work_dir/kgtk-files-nih-V3.0/nih_investigator_2021_035.tsv \\\n",
    "-i $work_dir/kgtk-files-nih-V3.0/nih_investigator_2021_036.tsv \\\n",
    "-i $work_dir/kgtk-files-nih-V3.0/nih_investigator_2021_037.tsv \\\n",
    "-i $work_dir/kgtk-files-nih-V3.0/nih_investigator_2021_038.tsv \\\n",
    "-i $work_dir/kgtk-files-nih-V3.0/nih_investigator_2021_039.tsv \\\n",
    "-i $work_dir/kgtk-files-nih-V3.0/nih_investigator_2021_040.tsv \\\n",
    "-i $work_dir/kgtk-files-nih-V3.0/nih_organization_2016.tsv \\\n",
    "-i $work_dir/kgtk-files-nih-V3.0/nih_organization_2017.tsv \\\n",
    "-i $work_dir/kgtk-files-nih-V3.0/nih_organization_2018.tsv \\\n",
    "-i $work_dir/kgtk-files-nih-V3.0/nih_organization_2019.tsv \\\n",
    "-i $work_dir/kgtk-files-nih-V3.0/nih_organization_2020.tsv \\\n",
    "-i $work_dir/kgtk-files-nih-V3.0/nih_organization_2021_002.tsv \\\n",
    "-i $work_dir/kgtk-files-nih-V3.0/nih_organization_2021_003.tsv \\\n",
    "-i $work_dir/kgtk-files-nih-V3.0/nih_organization_2021_004.tsv \\\n",
    "-i $work_dir/kgtk-files-nih-V3.0/nih_organization_2021_005.tsv \\\n",
    "-i $work_dir/kgtk-files-nih-V3.0/nih_organization_2021_006.tsv \\\n",
    "-i $work_dir/kgtk-files-nih-V3.0/nih_organization_2021_007.tsv \\\n",
    "-i $work_dir/kgtk-files-nih-V3.0/nih_organization_2021_008.tsv \\\n",
    "-i $work_dir/kgtk-files-nih-V3.0/nih_organization_2021_009.tsv \\\n",
    "-i $work_dir/kgtk-files-nih-V3.0/nih_organization_2021_010.tsv \\\n",
    "-i $work_dir/kgtk-files-nih-V3.0/nih_organization_2021_011.tsv \\\n",
    "-i $work_dir/kgtk-files-nih-V3.0/nih_organization_2021_012.tsv \\\n",
    "-i $work_dir/kgtk-files-nih-V3.0/nih_organization_2021_013.tsv \\\n",
    "-i $work_dir/kgtk-files-nih-V3.0/nih_organization_2021_014.tsv \\\n",
    "-i $work_dir/kgtk-files-nih-V3.0/nih_organization_2021_015.tsv \\\n",
    "-i $work_dir/kgtk-files-nih-V3.0/nih_organization_2021_016.tsv \\\n",
    "-i $work_dir/kgtk-files-nih-V3.0/nih_organization_2021_017.tsv \\\n",
    "-i $work_dir/kgtk-files-nih-V3.0/nih_organization_2021_018.tsv \\\n",
    "-i $work_dir/kgtk-files-nih-V3.0/nih_organization_2021_019.tsv \\\n",
    "-i $work_dir/kgtk-files-nih-V3.0/nih_organization_2021_020.tsv \\\n",
    "-i $work_dir/kgtk-files-nih-V3.0/nih_organization_2021_021.tsv \\\n",
    "-i $work_dir/kgtk-files-nih-V3.0/nih_organization_2021_022.tsv \\\n",
    "-i $work_dir/kgtk-files-nih-V3.0/nih_organization_2021_023.tsv \\\n",
    "-i $work_dir/kgtk-files-nih-V3.0/nih_organization_2021_024.tsv \\\n",
    "-i $work_dir/kgtk-files-nih-V3.0/nih_organization_2021_025.tsv \\\n",
    "-i $work_dir/kgtk-files-nih-V3.0/nih_organization_2021_026.tsv \\\n",
    "-i $work_dir/kgtk-files-nih-V3.0/nih_organization_2021_027.tsv \\\n",
    "-i $work_dir/kgtk-files-nih-V3.0/nih_organization_2021_028.tsv \\\n",
    "-i $work_dir/kgtk-files-nih-V3.0/nih_organization_2021_029.tsv \\\n",
    "-i $work_dir/kgtk-files-nih-V3.0/nih_organization_2021_030.tsv \\\n",
    "-i $work_dir/kgtk-files-nih-V3.0/nih_organization_2021_031.tsv \\\n",
    "-i $work_dir/kgtk-files-nih-V3.0/nih_organization_2021_032.tsv \\\n",
    "-i $work_dir/kgtk-files-nih-V3.0/nih_organization_2021_033.tsv \\\n",
    "-i $work_dir/kgtk-files-nih-V3.0/nih_organization_2021_034.tsv \\\n",
    "-i $work_dir/kgtk-files-nih-V3.0/nih_organization_2021_035.tsv \\\n",
    "-i $work_dir/kgtk-files-nih-V3.0/nih_organization_2021_036.tsv \\\n",
    "-i $work_dir/kgtk-files-nih-V3.0/nih_organization_2021_037.tsv \\\n",
    "-i $work_dir/kgtk-files-nih-V3.0/nih_organization_2021_038.tsv \\\n",
    "-i $work_dir/kgtk-files-nih-V3.0/nih_organization_2021_039.tsv \\\n",
    "-i $work_dir/kgtk-files-nih-V3.0/nih_organization_2021_040.tsv \\\n",
    "-i $work_dir/kgtk-files-nih-V3.0/nih_person_2016.tsv \\\n",
    "-i $work_dir/kgtk-files-nih-V3.0/nih_person_2017.tsv \\\n",
    "-i $work_dir/kgtk-files-nih-V3.0/nih_person_2018.tsv \\\n",
    "-i $work_dir/kgtk-files-nih-V3.0/nih_person_2019.tsv \\\n",
    "-i $work_dir/kgtk-files-nih-V3.0/nih_person_2020.tsv \\\n",
    "-i $work_dir/kgtk-files-nih-V3.0/nih_person_2021_002.tsv \\\n",
    "-i $work_dir/kgtk-files-nih-V3.0/nih_person_2021_003.tsv \\\n",
    "-i $work_dir/kgtk-files-nih-V3.0/nih_person_2021_004.tsv \\\n",
    "-i $work_dir/kgtk-files-nih-V3.0/nih_person_2021_005.tsv \\\n",
    "-i $work_dir/kgtk-files-nih-V3.0/nih_person_2021_006.tsv \\\n",
    "-i $work_dir/kgtk-files-nih-V3.0/nih_person_2021_007.tsv \\\n",
    "-i $work_dir/kgtk-files-nih-V3.0/nih_person_2021_008.tsv \\\n",
    "-i $work_dir/kgtk-files-nih-V3.0/nih_person_2021_009.tsv \\\n",
    "-i $work_dir/kgtk-files-nih-V3.0/nih_person_2021_010.tsv \\\n",
    "-i $work_dir/kgtk-files-nih-V3.0/nih_person_2021_011.tsv \\\n",
    "-i $work_dir/kgtk-files-nih-V3.0/nih_person_2021_012.tsv \\\n",
    "-i $work_dir/kgtk-files-nih-V3.0/nih_person_2021_013.tsv \\\n",
    "-i $work_dir/kgtk-files-nih-V3.0/nih_person_2021_014.tsv \\\n",
    "-i $work_dir/kgtk-files-nih-V3.0/nih_person_2021_015.tsv \\\n",
    "-i $work_dir/kgtk-files-nih-V3.0/nih_person_2021_016.tsv \\\n",
    "-i $work_dir/kgtk-files-nih-V3.0/nih_person_2021_017.tsv \\\n",
    "-i $work_dir/kgtk-files-nih-V3.0/nih_person_2021_018.tsv \\\n",
    "-i $work_dir/kgtk-files-nih-V3.0/nih_person_2021_019.tsv \\\n",
    "-i $work_dir/kgtk-files-nih-V3.0/nih_person_2021_020.tsv \\\n",
    "-i $work_dir/kgtk-files-nih-V3.0/nih_person_2021_021.tsv \\\n",
    "-i $work_dir/kgtk-files-nih-V3.0/nih_person_2021_022.tsv \\\n",
    "-i $work_dir/kgtk-files-nih-V3.0/nih_person_2021_023.tsv \\\n",
    "-i $work_dir/kgtk-files-nih-V3.0/nih_person_2021_024.tsv \\\n",
    "-i $work_dir/kgtk-files-nih-V3.0/nih_person_2021_025.tsv \\\n",
    "-i $work_dir/kgtk-files-nih-V3.0/nih_person_2021_026.tsv \\\n",
    "-i $work_dir/kgtk-files-nih-V3.0/nih_person_2021_027.tsv \\\n",
    "-i $work_dir/kgtk-files-nih-V3.0/nih_person_2021_028.tsv \\\n",
    "-i $work_dir/kgtk-files-nih-V3.0/nih_person_2021_029.tsv \\\n",
    "-i $work_dir/kgtk-files-nih-V3.0/nih_person_2021_030.tsv \\\n",
    "-i $work_dir/kgtk-files-nih-V3.0/nih_person_2021_031.tsv \\\n",
    "-i $work_dir/kgtk-files-nih-V3.0/nih_person_2021_032.tsv \\\n",
    "-i $work_dir/kgtk-files-nih-V3.0/nih_person_2021_033.tsv \\\n",
    "-i $work_dir/kgtk-files-nih-V3.0/nih_person_2021_034.tsv \\\n",
    "-i $work_dir/kgtk-files-nih-V3.0/nih_person_2021_035.tsv \\\n",
    "-i $work_dir/kgtk-files-nih-V3.0/nih_person_2021_036.tsv \\\n",
    "-i $work_dir/kgtk-files-nih-V3.0/nih_person_2021_037.tsv \\\n",
    "-i $work_dir/kgtk-files-nih-V3.0/nih_person_2021_038.tsv \\\n",
    "-i $work_dir/kgtk-files-nih-V3.0/nih_person_2021_039.tsv \\\n",
    "-i $work_dir/kgtk-files-nih-V3.0/nih_person_2021_040.tsv \\\n",
    "-o $work_dir/nih-kgtk-concatenated.tsv\n"
   ]
  },
  {
   "cell_type": "code",
   "execution_count": 23,
   "id": "a2584d5a-2f2e-4abd-b7e4-c6ec082da499",
   "metadata": {},
   "outputs": [],
   "source": [
    "!kgtk replace-nodes --split-output-mode -i $work_dir/nih-kgtk-concatenated.tsv \\\n",
    "-o $work_dir/nih-kgtk-wikidata-qnodes.tsv \\\n",
    "--mapping-file $work_dir/replace_nodes_mapping.tsv"
   ]
  },
  {
   "cell_type": "code",
   "execution_count": 24,
   "id": "0fd0b46c-211c-4590-856d-47311de9d5d2",
   "metadata": {},
   "outputs": [],
   "source": [
    "!kgtk add-id --id-style wikidata -i $work_dir/nih-kgtk-wikidata-qnodes.tsv -o $work_dir/nih-kgtk-wikidata-qnodes-ids.tsv"
   ]
  },
  {
   "cell_type": "code",
   "execution_count": 25,
   "id": "954e5195-5ef4-4f08-b3cb-dfe10b6c4971",
   "metadata": {},
   "outputs": [],
   "source": [
    "!kgtk sort -i $work_dir/nih-kgtk-wikidata-qnodes-ids.tsv -o $work_dir/nih-kgtk-wikidata-qnodes-ids-sorted.tsv"
   ]
  },
  {
   "cell_type": "code",
   "execution_count": 26,
   "id": "c0668273-1e9c-44dc-b70d-477c1c7db488",
   "metadata": {},
   "outputs": [],
   "source": [
    "!kgtk compact -i $work_dir/nih-kgtk-wikidata-qnodes-ids-sorted.tsv -o $work_dir/nih-kgtk-wikidata-qnodes-ids-sorted-dedup.tsv"
   ]
  },
  {
   "cell_type": "code",
   "execution_count": 29,
   "id": "22ce072d-db45-4300-8da6-05d7055dd0b6",
   "metadata": {},
   "outputs": [
    {
     "name": "stdout",
     "output_type": "stream",
     "text": [
      "[2021-08-05 10:51:48 sqlstore]: IMPORT graph directly into table graph_1 from /data/amandeep/nih-dataset/nih-kgtk-wikidata-qnodes-ids-sorted-dedup.tsv ...\n",
      "[2021-08-05 10:51:48 query]: SQL Translation:\n",
      "---------------------------------------------\n",
      "  SELECT *\n",
      "     FROM graph_1 AS graph_1_c1\n",
      "     LIMIT ?\n",
      "  PARAS: [10]\n",
      "---------------------------------------------\n",
      "id\tnode1\tlabel\tnode2\n",
      "Q100-label-b24f3f\tQ100\tlabel\t\"BOSTON\"\n",
      "Q100-label-82932d\tQ100\tlabel\t\"Boston\"\n",
      "Q1000479-PNIHID-407787\tQ1000479\tPNIHID\t\"1504801\"\n",
      "Q1000479-PNIHID-51a1d7\tQ1000479\tPNIHID\t1504801\n",
      "Q1000479-PNIHcity-803c8d\tQ1000479\tPNIHcity\t\"QNIHcity_boston_ma_united_states\"\n",
      "Q1000479-PNIHcountry-9cf2db\tQ1000479\tPNIHcountry\t\"QNIHcountry_united_states\"\n",
      "Q1000479-PNIHstate-fbaae5\tQ1000479\tPNIHstate\t\"QNIHstate_ma_united_states\"\n",
      "Q1000479-label-66b845\tQ1000479\tlabel\t\"BOSTON CHILDREN'S HOSPITAL\"\n",
      "Q1001316-label-6805b8\tQ1001316\tlabel\t\"KENNESAW\"\n",
      "Q1001440-label-0598f8\tQ1001440\tlabel\t\"PETIONVILLE\"\n"
     ]
    }
   ],
   "source": [
    "!$kypher -i \"$WORK_DIR/nih-kgtk-wikidata-qnodes-ids-sorted-dedup.tsv\" --as nih \\\n",
    "--limit 10"
   ]
  },
  {
   "cell_type": "code",
   "execution_count": 31,
   "id": "43ce9a57-9f5d-4911-b302-3b358027fa10",
   "metadata": {},
   "outputs": [
    {
     "name": "stdout",
     "output_type": "stream",
     "text": [
      "[2021-08-05 10:52:32 query]: SQL Translation:\n",
      "---------------------------------------------\n",
      "  SELECT DISTINCT graph_1_c1.\"node2\" \"_aLias.node1\", graph_1_c3.\"node2\" \"_aLias.node1;label\", ? \"_aLias.label\", graph_1_c2.\"node2\" \"_aLias.node2\", graph_1_c4.\"node2\" \"_aLias.node2;label\", graph_1_c1.\"node1\" \"_aLias.project\"\n",
      "     FROM graph_1 AS graph_1_c1\n",
      "     INNER JOIN graph_1 AS graph_1_c2, graph_1 AS graph_1_c3, graph_1 AS graph_1_c4\n",
      "     ON graph_1_c1.\"node1\" = graph_1_c2.\"node1\"\n",
      "        AND graph_1_c1.\"node2\" = graph_1_c3.\"node1\"\n",
      "        AND graph_1_c2.\"node2\" = graph_1_c4.\"node1\"\n",
      "        AND graph_1_c1.\"label\" = ?\n",
      "        AND graph_1_c2.\"label\" = ?\n",
      "        AND graph_1_c3.\"label\" = ?\n",
      "        AND graph_1_c4.\"label\" = ?\n",
      "        AND (graph_1_c1.\"node2\" < graph_1_c2.\"node2\")\n",
      "  PARAS: ['Pcoworker', 'P8329', 'P8329', 'label', 'label']\n",
      "---------------------------------------------\n",
      "CPU times: user 58.8 ms, sys: 14.2 ms, total: 73 ms\n",
      "Wall time: 2.7 s\n"
     ]
    }
   ],
   "source": [
    "%%time\n",
    "!$kypher -i nih \\\n",
    "--match '\\\n",
    "    nih: (project)-[:P8329]->(person1), \\\n",
    "    nih: (project)-[:P8329]->(person2),  \\\n",
    "    nih: (person1)-[:label]->(person1_label), \\\n",
    "    nih: (person2)-[:label]->(person2_label)' \\\n",
    "--where 'person1 < person2' \\\n",
    "--return 'distinct person1 as node1, person1_label as `node1;label`, \"Pcoworker\" as label, person2 as node2, person2_label as `node2;label`, project as project' \\\n",
    "-o \"$WORK_DIR\"/coworkers.nih.tsv.gz"
   ]
  },
  {
   "cell_type": "code",
   "execution_count": 32,
   "id": "a8d608c4-604e-49d3-a3c3-6899564515d2",
   "metadata": {},
   "outputs": [
    {
     "name": "stdout",
     "output_type": "stream",
     "text": [
      "node1\tnode1;label\tlabel\tnode2\tnode2;label\tproject\n",
      "Q59133912\t\"MORTAZAVI, SEYED ALI\"\tPcoworker\tQ88880437\t\"YOKOMORI, KYOKO\"\tQNIHPRO10000046\n",
      "Q56947936\t\"WEGHORST, CHRISTOPHER M\"\tPcoworker\tQ93103424\t\"SHIELDS, PETER G.\"\tQNIHPRO10000080\n",
      "Q37604896\t\"FOX, HOWARD S\"\tPcoworker\tQ88663908\t\"BYRAREDDY, SIDDAPPA N\"\tQNIHPRO10000087\n",
      "Q37604896\t\"FOX, HOWARD S.\"\tPcoworker\tQ88663908\t\"BYRAREDDY, SIDDAPPA N\"\tQNIHPRO10000087\n",
      "Q98302632\t\"AL-UBAIDI, MUAYYAD R\"\tPcoworker\tQ98302635\t\"NAASH, MUNA I.\"\tQNIHPRO10000096\n",
      "Q88732368\t\"RAO, SUJATA\"\tPcoworker\tQ88732371\t\"LANG, RICHARD A.\"\tQNIHPRO10000100\n",
      "Q48357782\t\"KORF, BRUCE R\"\tPcoworker\tQ90002613\t\"BARSH, GREGORY STEFAN\"\tQNIHPRO10000123\n",
      "Q102878882\t\"RAZAVIYAYN, MEISAM\"\tPcoworker\tQ59750098\t\"SUEN, SZE-CHUAN\"\tQNIHPRO10000139\n",
      "Q92093359\t\"LINK, BRIAN A\"\tPcoworker\tQ93244307\t\"BESHARSE, JOSEPH C\"\tQNIHPRO10000158\n",
      "\n",
      "gzip: stdout: Broken pipe\n"
     ]
    }
   ],
   "source": [
    "!zcat \"$WORK_DIR\"/coworkers.nih.tsv.gz | head"
   ]
  },
  {
   "cell_type": "code",
   "execution_count": null,
   "id": "8f0edb13-daf3-4553-a419-d4ebb08b8a57",
   "metadata": {},
   "outputs": [],
   "source": []
  }
 ],
 "metadata": {
  "kernelspec": {
   "display_name": "kgtk-env",
   "language": "python",
   "name": "kgtk-env"
  },
  "language_info": {
   "codemirror_mode": {
    "name": "ipython",
    "version": 3
   },
   "file_extension": ".py",
   "mimetype": "text/x-python",
   "name": "python",
   "nbconvert_exporter": "python",
   "pygments_lexer": "ipython3",
   "version": "3.7.10"
  }
 },
 "nbformat": 4,
 "nbformat_minor": 5
}

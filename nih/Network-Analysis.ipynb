{
 "cells": [
  {
   "cell_type": "code",
   "execution_count": null,
   "id": "18460f48-60c3-4ba7-bc55-b988cb85d460",
   "metadata": {},
   "outputs": [],
   "source": [
    "import pandas as pd\n",
    "import os"
   ]
  },
  {
   "cell_type": "code",
   "execution_count": null,
   "id": "f6e6cd0f-14ed-4182-b31e-011233f5791f",
   "metadata": {},
   "outputs": [],
   "source": [
    "work_dir = '/data/amandeep/nih-dataset'\n",
    "person_dir = f'{work_dir}/person'\n",
    "org_dir = f'{work_dir}/organization'\n",
    "\n",
    "combined_dir = f'{work_dir}/combined'\n",
    "\n",
    "os.environ['STORE'] = f'{combined_dir}/wikidata.sqlite3.db'\n",
    "os.environ['kypher'] = \"kgtk --debug query --graph-cache \" + os.environ['STORE']\n",
    "os.environ['COMBINED'] = combined_dir"
   ]
  },
  {
   "cell_type": "code",
   "execution_count": null,
   "id": "eb22c715-a595-43ae-9ea3-89c711ed9f01",
   "metadata": {},
   "outputs": [],
   "source": [
    "!mkdir -p $combined_dir"
   ]
  },
  {
   "cell_type": "code",
   "execution_count": null,
   "id": "ab424ea5-4aa3-4d95-ad6d-69105615c688",
   "metadata": {},
   "outputs": [],
   "source": [
    "!kgtk cat -i $person_dir/replace_nodes_mapping.tsv -i $org_dir/replace_nodes_mapping.tsv \\\n",
    "-o $combined_dir/replace_nodes_mapping.tsv"
   ]
  },
  {
   "cell_type": "code",
   "execution_count": null,
   "id": "a26d8d1c-d378-45fb-ba3a-bd36511b4c77",
   "metadata": {},
   "outputs": [],
   "source": [
    "!kgtk cat -i $person_dir/nih-person-kgtk.tsv -i $org_dir/nih-org-kgtk.tsv \\\n",
    "-o $combined_dir/nih-kgtk.tsv"
   ]
  },
  {
   "cell_type": "code",
   "execution_count": null,
   "id": "a2584d5a-2f2e-4abd-b7e4-c6ec082da499",
   "metadata": {},
   "outputs": [],
   "source": [
    "!kgtk replace-nodes -i $combined_dir/nih-kgtk.tsv -o $combined_dir/nih-kgtk-wikidata-qnodes.tsv --mapping-file $combined_dir/replace_nodes_mapping.tsv"
   ]
  },
  {
   "cell_type": "code",
   "execution_count": null,
   "id": "0fd0b46c-211c-4590-856d-47311de9d5d2",
   "metadata": {},
   "outputs": [],
   "source": [
    "!kgtk add-id --id-style wikidata -i $combined_dir/nih-kgtk-wikidata-qnodes.tsv -o $combined_dir/nih-kgtk-wikidata-qnodes-ids.tsv"
   ]
  },
  {
   "cell_type": "code",
   "execution_count": null,
   "id": "954e5195-5ef4-4f08-b3cb-dfe10b6c4971",
   "metadata": {},
   "outputs": [],
   "source": [
    "!kgtk sort -i $combined_dir/nih-kgtk-wikidata-qnodes-ids.tsv -o $combined_dir/nih-kgtk-wikidata-qnodes-ids-sorted.tsv"
   ]
  },
  {
   "cell_type": "code",
   "execution_count": null,
   "id": "22ce072d-db45-4300-8da6-05d7055dd0b6",
   "metadata": {},
   "outputs": [],
   "source": [
    "!$kypher -i \"$COMBINED/nih-kgtk-wikidata-qnodes-ids-sorted.tsv\" --as nih \\\n",
    "--limit 10"
   ]
  },
  {
   "cell_type": "code",
   "execution_count": null,
   "id": "43ce9a57-9f5d-4911-b302-3b358027fa10",
   "metadata": {},
   "outputs": [],
   "source": [
    "%%time\n",
    "!$kypher -i nih \\\n",
    "--match '\\\n",
    "    nih: (person1)-[:P108]->(org), \\\n",
    "    nih: (person2)-[:P108]->(org),  \\\n",
    "    nih: (person1)-[:label]->(person1_label), \\\n",
    "    nih: (person2)-[:label]->(person2_label), \\\n",
    "    nih: (org)-[:label]->(org_label)' \\\n",
    "--where 'person1 < person2' \\\n",
    "--return 'distinct person1 as node1, person1_label as `node1;label`, \"Pcoworker\" as label, person2 as node2, person2_label as `node2;label`, org as organization, org_label as `organization;label`' \\\n",
    "-o \"$COMBINED\"/coworkers.nih.tsv.gz"
   ]
  },
  {
   "cell_type": "code",
   "execution_count": null,
   "id": "63e5cc4d-3fae-45b7-b475-82cd56b62c13",
   "metadata": {},
   "outputs": [],
   "source": []
  }
 ],
 "metadata": {
  "kernelspec": {
   "display_name": "kgtk-env",
   "language": "python",
   "name": "kgtk-env"
  },
  "language_info": {
   "codemirror_mode": {
    "name": "ipython",
    "version": 3
   },
   "file_extension": ".py",
   "mimetype": "text/x-python",
   "name": "python",
   "nbconvert_exporter": "python",
   "pygments_lexer": "ipython3",
   "version": "3.7.10"
  }
 },
 "nbformat": 4,
 "nbformat_minor": 5
}

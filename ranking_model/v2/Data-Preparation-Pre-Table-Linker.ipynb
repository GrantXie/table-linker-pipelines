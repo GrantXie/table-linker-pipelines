{
 "cells": [
  {
   "cell_type": "code",
   "execution_count": 1,
   "id": "sacred-sculpture",
   "metadata": {},
   "outputs": [],
   "source": [
    "import pandas as pd\n",
    "import os\n",
    "from glob import glob\n",
    "from random import shuffle"
   ]
  },
  {
   "cell_type": "code",
   "execution_count": 14,
   "id": "lesser-stereo",
   "metadata": {},
   "outputs": [],
   "source": [
    "work_dir = '/Users/amandeep/Github/table-linker/data/t2dv2'\n",
    "cea_targets_path = f\"{work_dir}/CEA_Round1_targets.csv\" # columns are file_name, row, col\n",
    "tables_path = f\"{work_dir}/t2dv2-dev-input\"\n",
    "canonical_path = f\"{work_dir}/dev-canonical\""
   ]
  },
  {
   "cell_type": "code",
   "execution_count": 15,
   "id": "elementary-sudan",
   "metadata": {},
   "outputs": [],
   "source": [
    "!mkdir -p $canonical_path"
   ]
  },
  {
   "cell_type": "code",
   "execution_count": 16,
   "id": "engaging-butter",
   "metadata": {},
   "outputs": [],
   "source": [
    "def filter_tables(i_path, o_path, targets_path, t2dv2=False):\n",
    "    if t2dv2:\n",
    "        targets_df = pd.read_csv(targets_path, names=['file_name', 'column', 'row'], header=None)\n",
    "    else:\n",
    "        targets_df = pd.read_csv(targets_path, names=['file_name', 'row', 'column'], header=None)\n",
    "    grouped = targets_df.groupby(by=['file_name'])\n",
    "    for f, gdf in grouped:\n",
    "        i_f_path = f\"{i_path}/{f}.csv\"\n",
    "        o_f_path = f\"{o_path}/{f}.csv\"\n",
    "        if not os.path.exists(i_f_path):\n",
    "            continue\n",
    "        if os.path.exists(o_f_path):\n",
    "            continue\n",
    "        df = pd.read_csv(i_f_path)\n",
    "        columns = df.columns\n",
    "        targeted_columns = \",\".join([columns[i] for i in set(gdf['column'].to_list())])\n",
    "        !tl canonicalize -c  \"$targeted_columns\" --add-context  $i_f_path > $o_f_path\n",
    "    print(\"Done!\")"
   ]
  },
  {
   "cell_type": "code",
   "execution_count": 17,
   "id": "nervous-auction",
   "metadata": {},
   "outputs": [
    {
     "name": "stdout",
     "output_type": "stream",
     "text": [
      "canonicalize Time: 0.002440929412841797s\n",
      "canonicalize Time: 0.0022428035736083984s\n",
      "canonicalize Time: 0.0029730796813964844s\n",
      "canonicalize Time: 0.0029981136322021484s\n",
      "canonicalize Time: 0.002904176712036133s\n",
      "canonicalize Time: 0.002876758575439453s\n",
      "canonicalize Time: 0.0025501251220703125s\n",
      "canonicalize Time: 0.002583026885986328s\n",
      "canonicalize Time: 0.0027740001678466797s\n",
      "canonicalize Time: 0.002226114273071289s\n",
      "Done!\n"
     ]
    }
   ],
   "source": [
    "filter_tables(tables_path, canonical_path, cea_targets_path, t2dv2=True)"
   ]
  },
  {
   "cell_type": "code",
   "execution_count": null,
   "id": "modular-atlantic",
   "metadata": {},
   "outputs": [],
   "source": [
    "gt_path = '/Users/amandeep/Github/table-linker/data/SemTab2020/Round4/round4_gt_with_labels'\n",
    "train_canonical_path  = '/Users/amandeep/Github/table-linker/data/SemTab2020/Round4/train1-canonical'\n",
    "dev_canonical_path  = '/Users/amandeep/Github/table-linker/data/SemTab2020/Round4/dev-canonical'\n",
    "all_canonical_path = '/Users/amandeep/Github/table-linker/data/SemTab2020/Round4/canonical'"
   ]
  },
  {
   "cell_type": "code",
   "execution_count": null,
   "id": "6b197bad-d18d-484c-9566-758e2a238ddc",
   "metadata": {},
   "outputs": [],
   "source": [
    "f_list = glob(f'{gt_path}/*csv')"
   ]
  },
  {
   "cell_type": "code",
   "execution_count": null,
   "id": "b7277969-65f9-4a01-89e9-e2222e9b10a3",
   "metadata": {},
   "outputs": [],
   "source": [
    "len(f_list)"
   ]
  },
  {
   "cell_type": "code",
   "execution_count": null,
   "id": "946a1018-6bd4-4596-ab63-3b8984790f8c",
   "metadata": {},
   "outputs": [],
   "source": [
    "f_list[:5]"
   ]
  },
  {
   "cell_type": "code",
   "execution_count": null,
   "id": "8d349ff1-07b0-478f-9f22-e95fba505f64",
   "metadata": {},
   "outputs": [],
   "source": [
    "shuffle(f_list)"
   ]
  },
  {
   "cell_type": "code",
   "execution_count": null,
   "id": "ef2031d8-4ce2-43ea-9479-63f8d9b46927",
   "metadata": {},
   "outputs": [],
   "source": [
    "f_list[:5]"
   ]
  },
  {
   "cell_type": "code",
   "execution_count": null,
   "id": "c3b16360-7541-4fe4-baa2-6f24911b20b5",
   "metadata": {},
   "outputs": [],
   "source": [
    "c = 0\n",
    "for f in f_list:\n",
    "    if c > 300:\n",
    "        break\n",
    "    f_name = f.split('/')[-1]\n",
    "    c_path = f'{all_canonical_path}/{f_name}'\n",
    "    if os.path.exists(c_path) and os.path.getsize(c_path) >0 :\n",
    "        !cp $c_path $train_canonical_path\n",
    "        c += 1\n",
    "        "
   ]
  },
  {
   "cell_type": "code",
   "execution_count": null,
   "id": "5a4ae3d6-fb6d-4ad1-bda5-b014ba748085",
   "metadata": {},
   "outputs": [],
   "source": [
    "c = 0\n",
    "for f in f_list:\n",
    "    if c > 50:\n",
    "        break\n",
    "    f_name = f.split('/')[-1]\n",
    "    c_path = f'{all_canonical_path}/{f_name}'\n",
    "    if os.path.exists(c_path) and os.path.getsize(c_path) > 0 and not os.path.exists(f'{train_canonical_path}/{f_name}'):\n",
    "        print(c_path)\n",
    "        !cp $c_path $dev_canonical_path\n",
    "        c += 1"
   ]
  },
  {
   "cell_type": "code",
   "execution_count": null,
   "id": "548f1c86-9ae9-48f1-b795-98e95db02aef",
   "metadata": {},
   "outputs": [],
   "source": []
  }
 ],
 "metadata": {
  "kernelspec": {
   "display_name": "tl_env",
   "language": "python",
   "name": "tl_env"
  },
  "language_info": {
   "codemirror_mode": {
    "name": "ipython",
    "version": 3
   },
   "file_extension": ".py",
   "mimetype": "text/x-python",
   "name": "python",
   "nbconvert_exporter": "python",
   "pygments_lexer": "ipython3",
   "version": "3.8.3"
  }
 },
 "nbformat": 4,
 "nbformat_minor": 5
}

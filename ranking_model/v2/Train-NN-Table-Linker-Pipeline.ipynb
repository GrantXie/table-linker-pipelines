{
 "cells": [
  {
   "cell_type": "code",
   "execution_count": 1,
   "id": "executed-anchor",
   "metadata": {},
   "outputs": [],
   "source": [
    "import glob\n",
    "import time\n",
    "import os\n",
    "import pandas as pd\n",
    "import sklearn.metrics\n",
    "from sklearn.preprocessing import MinMaxScaler\n",
    "import pickle\n",
    "from argparse import ArgumentParser, Namespace\n",
    "import random\n",
    "import torch\n",
    "import torch.nn as nn\n",
    "import torch.nn.functional as F\n",
    "import numpy as np\n",
    "from torch.utils.data import Dataset, DataLoader\n",
    "from torch.optim import Adam\n",
    "from itertools import chain\n",
    "from tqdm import tqdm\n",
    "import copy\n",
    "import shutil\n",
    "import pickle"
   ]
  },
  {
   "cell_type": "code",
   "execution_count": 2,
   "id": "retired-shower",
   "metadata": {},
   "outputs": [],
   "source": [
    "es_url = 'http://ckg07:9200'\n",
    "es_index = 'wikidatadwd-augmented'\n",
    "\n",
    "# Input Paths\n",
    "\n",
    "# GDrive Path: /table-linker-dataset/2019-iswc_challenge_data/t2dv2/canonical-with-context/t2dv2-train-canonical/\n",
    "train_path = \"/Users/amandeep/Github/table-linker/data/SemTab2020/Round4/train1-canonical\"\n",
    "\n",
    "# GDrive Path: /table-linker-dataset/2019-iswc_challenge_data/t2dv2/canonical-with-context/t2dv2-dev-canonical/\n",
    "dev_path = \"/Users/amandeep/Github/table-linker/data/SemTab2020/Round4/dev-canonical\"\n",
    "\n",
    "# GDrive Path: /table-linker-dataset/2019-iswc_challenge_data/t2dv2/ground_truth/Xinting_GT_csv\n",
    "ground_truth_files = \"/Users/amandeep/Github/table-linker/data/SemTab2020/Round4/round4_gt_with_labels\"\n",
    "\n",
    "\n",
    "# OUTPUT PATHS\n",
    "output_path = \"/Users/amandeep/Github/table-linker/data/SemTab2020/Round4/table-linker\"\n",
    "train_output_path = f'{output_path}/train1-output/tbl-pipeline-nn'\n",
    "dev_output_path = f'{output_path}/dev-output/tbl-pipeline-nn'\n",
    "\n",
    "# increase version to create a new folder for an experiment\n",
    "PREVIOUS_VERSION = \"v18\"\n",
    "VERSION = \"v19\"\n",
    "\n",
    "train_candidate_path = f'{train_output_path}/{VERSION}/candidates'\n",
    "train_features1_path = f'{train_output_path}/{VERSION}/features1'\n",
    "train_features2_path = f'{train_output_path}/{VERSION}/features2'\n",
    "train_features3_path = f'{train_output_path}/{VERSION}/features3'\n",
    "train_feature_path = f'{train_output_path}/{VERSION}/features'\n",
    "train_missing_candidates_path = f'{train_output_path}/{VERSION}/train_missing_candidates_path'\n",
    "\n",
    "dev_candidate_path = f'{dev_output_path}/{VERSION}/candidates'\n",
    "dev_feature_path = f'{dev_output_path}/{VERSION}/features'\n",
    "dev_features1_path = f'{dev_output_path}/{VERSION}/features1'\n",
    "dev_features2_path = f'{dev_output_path}/{VERSION}/features2'\n",
    "dev_features3_path = f'{dev_output_path}/{VERSION}/features3'\n",
    "dev_output_predictions = f'{dev_output_path}/{VERSION}/dev_predictions'\n",
    "dev_predictions_top_k = f'{dev_output_path}/{VERSION}/dev_predictions_top_k'\n",
    "dev_colorized_path = f'{dev_output_path}/{VERSION}/dev_predictions_colorized'\n",
    "dev_metrics_path = f'{dev_output_path}/{VERSION}/dev_predictions_metrics'\n",
    "dev_missing_candidates_path = f'{dev_output_path}/{VERSION}/dev_missing_candidates_path'\n",
    "\n",
    "aux_field = 'graph_embedding_complex,class_count,property_count,context'\n",
    "\n",
    "\n",
    "train_prop_count = f'{train_output_path}/{VERSION}/train_prop_count' \n",
    "train_class_count = f'{train_output_path}/{VERSION}/train_class_count'\n",
    "train_context_path = f'{train_output_path}/{VERSION}/train_context'\n",
    "train_graph_embedding = f'{train_output_path}/{VERSION}/train_graph_embedding'\n",
    "train_context_property_path = f'{train_output_path}/{VERSION}/train_context_properties'\n",
    "\n",
    "dev_prop_count = f'{dev_output_path}/{VERSION}/dev_prop_count'\n",
    "dev_class_count = f'{dev_output_path}/{VERSION}/dev_class_count'\n",
    "dev_context_path = f'{dev_output_path}/{VERSION}/dev_context'\n",
    "dev_graph_embedding = f'{dev_output_path}/{VERSION}/dev_graph_embedding'\n",
    "dev_context_property_path = f'{dev_output_path}/{VERSION}/dev_context_properties'\n",
    "\n",
    "temp_dir = f'{output_path}/temp'\n",
    "\n",
    "pseudo_gt_model = '/Users/amandeep/Github/table-linker/data/SemTab2020/Round4/table-linker/dev-output/pseudo-gt-nn/v19/saved_models/epoch_1_loss_0.534353494644165_top1_0.7883487007544007.pth'\n",
    "pseudo_gt_min_max_scaler_path = '/Users/amandeep/Github/table-linker/data/SemTab2020/Round4/table-linker/temp/training_data/normalization_factor.pkl'\n",
    "\n",
    "tl_log_file =f'{temp_dir}/tl_log.txt'\n",
    "\n",
    "pos_output = f'{temp_dir}/training_data/tl_pipeline_pos_features.pkl'\n",
    "neg_output = f'{temp_dir}/training_data/tl_pipeline_neg_features.pkl'\n",
    "min_max_scaler_path = f'{temp_dir}/training_data/tl_pipeline_normalization_factor.pkl'\n",
    "\n",
    "final_score_column = 'siamese_prediction'\n",
    "threshold = final_score_column+\":median\"\n",
    "\n",
    "model_save_path = f'{dev_output_path}/{VERSION}/saved_models'\n",
    "best_model_path = ''\n",
    "\n",
    "copy_candidates_from_previous_version = False\n",
    "copy_features1_from_previous_version = False"
   ]
  },
  {
   "cell_type": "code",
   "execution_count": 3,
   "id": "sensitive-craps",
   "metadata": {},
   "outputs": [],
   "source": [
    "!mkdir -p \"$temp_dir\"\n",
    "\n",
    "!mkdir -p \"$train_prop_count\"\n",
    "!mkdir -p \"$dev_prop_count\"\n",
    "!mkdir -p \"$train_class_count\"\n",
    "!mkdir -p \"$dev_class_count\"\n",
    "!mkdir -p \"$train_graph_embedding\"\n",
    "!mkdir -p \"$dev_graph_embedding\"\n",
    "!mkdir -p \"$train_context_path\"\n",
    "!mkdir -p \"$dev_context_path\"\n",
    "\n",
    "!mkdir -p \"$train_candidate_path\"\n",
    "!mkdir -p \"$dev_candidate_path\"\n",
    "\n",
    "!mkdir -p \"$train_feature_path\"\n",
    "!mkdir -p \"$train_features1_path\"\n",
    "!mkdir -p \"$train_features2_path\"\n",
    "!mkdir -p \"$train_features3_path\"\n",
    "!mkdir -p \"$dev_feature_path\"\n",
    "!mkdir -p \"$dev_features1_path\"\n",
    "!mkdir -p \"$dev_features2_path\"\n",
    "!mkdir -p \"$dev_features3_path\"\n",
    "\n",
    "!mkdir -p \"$temp_dir/training_data\"\n",
    "!mkdir -p \"$dev_output_predictions\"\n",
    "!mkdir -p \"$model_save_path\"\n",
    "!mkdir -p \"$dev_predictions_top_k\"\n",
    "!mkdir -p \"$dev_colorized_path\"\n",
    "!mkdir -p \"$dev_metrics_path\"\n",
    "!mkdir -p \"$dev_missing_candidates_path\"\n",
    "!mkdir -p \"$train_missing_candidates_path\"\n",
    "!mkdir -p \"$train_context_property_path\"\n",
    "!mkdir -p \"$dev_context_property_path\""
   ]
  },
  {
   "cell_type": "code",
   "execution_count": null,
   "id": "romance-syria",
   "metadata": {},
   "outputs": [],
   "source": [
    "if copy_candidates_from_previous_version:\n",
    "    !cp $dev_output_path/$PREVIOUS_VERSION/candidates/*csv $dev_output_path/$VERSION/candidates\n",
    "    !cp $dev_output_path/$PREVIOUS_VERSION/dev_prop_count/* $dev_output_path/$VERSION/dev_prop_count\n",
    "    !cp $dev_output_path/$PREVIOUS_VERSION/dev_class_count/* $dev_output_path/$VERSION/dev_class_count\n",
    "    !cp $dev_output_path/$PREVIOUS_VERSION/dev_context/* $dev_output_path/$VERSION/dev_context\n",
    "    !cp $dev_output_path/$PREVIOUS_VERSION/dev_graph_embedding/* $dev_output_path/$VERSION/dev_graph_embedding\n",
    "    \n",
    "    !cp $train_output_path/$PREVIOUS_VERSION/candidates/*csv $train_output_path/$VERSION/candidates\n",
    "    !cp $train_output_path/$PREVIOUS_VERSION/train_prop_count/* $train_output_path/$VERSION/train_prop_count\n",
    "    !cp $train_output_path/$PREVIOUS_VERSION/train_class_count/* $train_output_path/$VERSION/train_class_count\n",
    "    !cp $train_output_path/$PREVIOUS_VERSION/train_context/* $train_output_path/$VERSION/train_context\n",
    "    !cp $train_output_path/$PREVIOUS_VERSION/train_graph_embedding/* $train_output_path/$VERSION/train_graph_embedding"
   ]
  },
  {
   "cell_type": "code",
   "execution_count": 4,
   "id": "4e96e759-e94d-40a6-8e77-7412edaf22fc",
   "metadata": {},
   "outputs": [],
   "source": [
    "pseudo_gt_features = [\"monge_elkan\",\"monge_elkan_aliases\",\"jaro_winkler\",\"levenshtein\",\"singleton\",\"pgr_rts\",\"context_score\",\"smc_class_score\",\"smc_property_score\"]"
   ]
  },
  {
   "cell_type": "markdown",
   "id": "turned-tradition",
   "metadata": {},
   "source": [
    "## Candidate Generation"
   ]
  },
  {
   "cell_type": "code",
   "execution_count": null,
   "id": "planned-netscape",
   "metadata": {},
   "outputs": [],
   "source": [
    "def candidate_generation(path, gt_path, output_path, class_count_path, prop_count_path, context_path, graph_embedding):\n",
    "    file_list = glob.glob(path + '/*.csv')\n",
    "    for i, file in tqdm(enumerate(file_list)):\n",
    "        st = time.time()\n",
    "        filename = file.split('/')[-1]\n",
    "        gt_file = f\"{ground_truth_files}/{filename}\"\n",
    "        output_file = f\"{output_path}/{filename}\"\n",
    "        \n",
    "        !tl --log-file $tl_log_file clean -c label -o label_clean \"$file\" / \\\n",
    "        --url $es_url --index $es_index \\\n",
    "        get-fuzzy-augmented-matches -c label_clean \\\n",
    "        --auxiliary-fields {aux_field} \\\n",
    "        --auxiliary-folder \"$temp_dir\" / \\\n",
    "        --url $es_url --index $es_index \\\n",
    "        get-exact-matches -c label_clean \\\n",
    "        --auxiliary-fields {aux_field} \\\n",
    "        --auxiliary-folder \"$temp_dir\" / \\\n",
    "        / get-ngram-matches -c label_clean  \\\n",
    "        --auxiliary-fields {aux_field} \\\n",
    "        --auxiliary-folder \"$temp_dir\" \\\n",
    "        / ground-truth-labeler --gt-file \"$gt_file\" > \"$output_file\"\n",
    "\n",
    "        for field in aux_field.split(','):\n",
    "            aux_list = []\n",
    "            for f in glob.glob(f'{temp_dir}/*{field}.tsv'):\n",
    "                aux_list.append(pd.read_csv(f, sep='\\t', dtype=object))\n",
    "            aux_df = pd.concat(aux_list).drop_duplicates(subset=['qnode'])\n",
    "            if field == 'class_count':\n",
    "                class_count_file = f\"{class_count_path}/{filename.strip('.csv')}_class_count.tsv\"\n",
    "                aux_df.to_csv(class_count_file, sep='\\t', index=False)\n",
    "            elif field == 'property_count':\n",
    "                prop_count_file = f\"{prop_count_path}/{filename.strip('.csv')}_prop_count.tsv\"\n",
    "                aux_df.to_csv(prop_count_file, sep='\\t', index=False)\n",
    "            elif field == 'context':\n",
    "                context_file = f\"{context_path}/{filename.strip('.csv')}_context.tsv\"\n",
    "                aux_df.to_csv(context_file, sep='\\t', index=False)\n",
    "            else:\n",
    "                graph_embedding_file = f\"{graph_embedding}/{filename.strip('.csv')}_graph_embedding_complex.tsv\"\n",
    "                aux_df.to_csv(graph_embedding_file, sep='\\t', index=False)\n",
    "        "
   ]
  },
  {
   "cell_type": "code",
   "execution_count": null,
   "id": "recreational-berry",
   "metadata": {},
   "outputs": [],
   "source": [
    "if not copy_candidates_from_previous_version:\n",
    "    candidate_generation(train_path, ground_truth_files, train_candidate_path, train_class_count, train_prop_count, train_context_path,train_graph_embedding)"
   ]
  },
  {
   "cell_type": "code",
   "execution_count": null,
   "id": "junior-cooler",
   "metadata": {},
   "outputs": [],
   "source": [
    "if not copy_candidates_from_previous_version:\n",
    "    candidate_generation(dev_path, ground_truth_files, dev_candidate_path, dev_class_count, dev_prop_count, dev_context_path, dev_graph_embedding)"
   ]
  },
  {
   "cell_type": "markdown",
   "id": "sustained-visitor",
   "metadata": {},
   "source": [
    "## Feature Generation"
   ]
  },
  {
   "cell_type": "code",
   "execution_count": null,
   "id": "productive-spank",
   "metadata": {},
   "outputs": [],
   "source": [
    "def features_1(candidate_dir, output_path, context_path, class_count_dir, property_count_dir, pseudo_gt_model, pseudo_gt_min_max_scaler_path):\n",
    "    file_list = glob.glob(candidate_dir + '/*.csv')\n",
    "    for i, file in tqdm(enumerate(file_list)):\n",
    "        if os.path.getsize(file) == 0:\n",
    "            continue\n",
    "        filename = file.split('/')[-1]\n",
    "        output_file = f\"{output_path}/{filename}\"\n",
    "        \n",
    "        context_file = f\"{context_path}/{filename[:-4]}_context.tsv\"\n",
    "        class_count_file = f\"{class_count_dir}/{filename[:-4]}_class_count.tsv\"\n",
    "        property_count_file = f\"{property_count_dir}/{filename[:-4]}_prop_count.tsv\"\n",
    "        feature_str =  \",\".join(pseudo_gt_features)\n",
    "\n",
    "        !tl --log-file $tl_log_file string-similarity -i --method symmetric_monge_elkan:tokenizer=word -o monge_elkan --threshold 0.85 $file \\\n",
    "            / string-similarity -i --method symmetric_monge_elkan:tokenizer=word -c label_clean kg_aliases -o monge_elkan_aliases --threshold 0.85  \\\n",
    "            / string-similarity -i --method jaro_winkler -o jaro_winkler --threshold 0.85  \\\n",
    "            / string-similarity -i --method levenshtein -o levenshtein --threshold 0.85  \\\n",
    "            / create-singleton-feature -o singleton \\\n",
    "            / pick-hc-candidates -o ignore_candidate -s monge_elkan,monge_elkan_aliases,jaro_winkler,levenshtein \\\n",
    "            / context-match --debug --context-file $context_file --ignore-column-name ignore_candidate -o context_score \\\n",
    "            / kth-percentile -c context_score -o kth_percenter --ignore-column ignore_candidate --k-percentile 0.75  --minimum-cells 10 \\\n",
    "            / pgt-semantic-tf-idf \\\n",
    "            -o smc_class_score \\\n",
    "            --pagerank-column pagerank \\\n",
    "            --retrieval-score-column retrieval_score \\\n",
    "            --feature-file \"$class_count_file\" \\\n",
    "            --feature-name class_count \\\n",
    "            --high-confidence-column kth_percenter \\\n",
    "            / pgt-semantic-tf-idf \\\n",
    "            -o smc_property_score \\\n",
    "            --pagerank-column pagerank \\\n",
    "            --retrieval-score-column retrieval_score \\\n",
    "            --feature-file \"$property_count_file\" \\\n",
    "            --feature-name property_count \\\n",
    "            --high-confidence-column kth_percenter \\\n",
    "            / predict-using-model -o pseudo_gt_prediction \\\n",
    "            --features $feature_str \\\n",
    "            --ranking-model $pseudo_gt_model \\\n",
    "            --normalization-factor $pseudo_gt_min_max_scaler_path \\\n",
    "            / create-pseudo-gt -o pseudo_gt \\\n",
    "            --column-thresholds pseudo_gt_prediction:mean \\\n",
    "            --filter smc_class_score:0 > $output_file"
   ]
  },
  {
   "cell_type": "code",
   "execution_count": null,
   "id": "e4384ae2-5ebc-4774-aa28-16cf973076c3",
   "metadata": {},
   "outputs": [],
   "source": [
    "if not copy_features1_from_previous_version:\n",
    "    features_1(train_candidate_path, train_features1_path, train_context_path, train_class_count, train_prop_count,pseudo_gt_model, pseudo_gt_min_max_scaler_path)\n",
    "else:\n",
    "    !cp $train_output_path/$PREVIOUS_VERSION/features1/*csv $train_output_path/$VERSION/features1"
   ]
  },
  {
   "cell_type": "code",
   "execution_count": null,
   "id": "2657676b-d125-4898-96c7-a5def6183212",
   "metadata": {},
   "outputs": [],
   "source": [
    "if not copy_features1_from_previous_version:\n",
    "    features_1(dev_candidate_path, dev_features1_path, dev_context_path, dev_class_count, dev_prop_count,pseudo_gt_model, pseudo_gt_min_max_scaler_path)\n",
    "else:\n",
    "    !cp $dev_output_path/$PREVIOUS_VERSION/features1/*csv $dev_output_path/$VERSION/features1"
   ]
  },
  {
   "cell_type": "code",
   "execution_count": null,
   "id": "6cfc3cf1-e8d5-4827-ace9-09507f496d8a",
   "metadata": {},
   "outputs": [],
   "source": [
    "def features_2(features1_dir, output_path, context_path, context_property_path):\n",
    "    file_list = glob.glob(features1_dir + '/*.csv')\n",
    "    for i, file in tqdm(enumerate(file_list)):\n",
    "        if os.path.getsize(file) == 0:\n",
    "            continue\n",
    "        filename = file.split('/')[-1]\n",
    "        output_file = f\"{output_path}/{filename}\"\n",
    "        context_file = f\"{context_path}/{filename[:-4]}_context.tsv\"\n",
    "        context_property_file = f\"{context_property_path}/{filename[:-4]}_context_properties.csv\"\n",
    "\n",
    "        !tl --log-file $tl_log_file context-match $file -o context_score_2 \\\n",
    "        --context-file $context_file --save-property-scores-path $context_property_file \\\n",
    "        --pseudo-gt-column-name pseudo_gt > $output_file\n",
    "#         / context-match --context-file $context_file -o context_score_3 \\\n",
    "#         --use-saved-property-scores $context_property_file > $output_file"
   ]
  },
  {
   "cell_type": "code",
   "execution_count": null,
   "id": "259af2d4-26af-4971-9518-40644b555657",
   "metadata": {},
   "outputs": [],
   "source": [
    "features_2(train_features1_path, train_features2_path, train_context_path, train_context_property_path)"
   ]
  },
  {
   "cell_type": "code",
   "execution_count": null,
   "id": "5630fa59-b8cd-4afd-ad52-3ee763bc0c56",
   "metadata": {},
   "outputs": [],
   "source": [
    "features_2(dev_features1_path, dev_features2_path, dev_context_path, dev_context_property_path)"
   ]
  },
  {
   "cell_type": "code",
   "execution_count": null,
   "id": "917e614c-378d-48e0-b10d-bef9af099d8d",
   "metadata": {},
   "outputs": [],
   "source": [
    "def features_2_1(features2_dir, output_path, context_path, context_property_path):\n",
    "    file_list = glob.glob(features2_dir + '/*.csv')\n",
    "    for i, file in tqdm(enumerate(file_list)):\n",
    "        if os.path.getsize(file) == 0:\n",
    "            continue\n",
    "        \n",
    "        filename = file.split('/')[-1]\n",
    "        output_file = f\"{output_path}/{filename}\"\n",
    "        context_file = f\"{context_path}/{filename[:-4]}_context.tsv\"\n",
    "        context_property_file = f\"{context_property_path}/{filename[:-4]}_context_properties.csv\"\n",
    "        if os.path.exists(output_file) or filename == '0LZ0M8W4.csv':\n",
    "            continue\n",
    "\n",
    "        !tl --log-file $tl_log_file context-match $file --context-file $context_file -o context_score_3 \\\n",
    "        --use-saved-property-scores $context_property_file > $output_file"
   ]
  },
  {
   "cell_type": "code",
   "execution_count": null,
   "id": "d356222b-0727-49d9-a55d-8d97361bc911",
   "metadata": {},
   "outputs": [],
   "source": [
    "features_2_1(train_features2_path, train_features3_path, train_context_path, train_context_property_path)"
   ]
  },
  {
   "cell_type": "code",
   "execution_count": null,
   "id": "b11b5d50-1a18-4eee-aa59-79984bef79a3",
   "metadata": {},
   "outputs": [],
   "source": [
    "features_2_1(dev_features2_path, dev_features3_path, dev_context_path, dev_context_property_path)"
   ]
  },
  {
   "cell_type": "code",
   "execution_count": 5,
   "id": "b38ba515-01aa-4519-853d-93552c423dab",
   "metadata": {},
   "outputs": [],
   "source": [
    "def features_3(features3_dir, output_path, ge_path, class_count_dir, property_count_dir):\n",
    "    file_list = glob.glob(features3_dir + '/*.csv')\n",
    "    for i, file in tqdm(enumerate(file_list)):\n",
    "        if os.path.getsize(file) == 0:\n",
    "            continue\n",
    "        filename = file.split('/')[-1]\n",
    "        output_file = f\"{output_path}/{filename}\"\n",
    "        embedding_file = f\"{ge_path}/{filename[:-4]}_graph_embedding_complex.tsv\"\n",
    "        class_count_file = f\"{class_count_dir}/{filename[:-4]}_class_count.tsv\"\n",
    "        property_count_file = f\"{property_count_dir}/{filename[:-4]}_prop_count.tsv\"\n",
    "\n",
    "        !tl mosaic-features -c kg_labels --num-char --num-tokens $file \\\n",
    "        / score-using-embedding \\\n",
    "        --column-vector-strategy centroid-of-lof \\\n",
    "        --lof-strategy pseudo-gt \\\n",
    "        -o pgt_centroid_score \\\n",
    "        --embedding-file $embedding_file \\\n",
    "        / compute-tf-idf  \\\n",
    "        --feature-file $class_count_file \\\n",
    "        --feature-name class_count \\\n",
    "        --singleton-column pseudo_gt \\\n",
    "        -o pgt_class_count_tf_idf_score \\\n",
    "        / compute-tf-idf \\\n",
    "        --feature-file $property_count_file \\\n",
    "        --feature-name property_count \\\n",
    "        --singleton-column pseudo_gt \\\n",
    "        -o pgt_property_count_tf_idf_score > $output_file"
   ]
  },
  {
   "cell_type": "code",
   "execution_count": 6,
   "id": "8b20e216-1a43-4e06-8bb2-9141842d63ad",
   "metadata": {},
   "outputs": [
    {
     "name": "stderr",
     "output_type": "stream",
     "text": [
      "0it [00:00, ?it/s]"
     ]
    },
    {
     "name": "stdout",
     "output_type": "stream",
     "text": [
      "mosaic-features Time: 0.005096912384033203s\n",
      "Qnodes to lookup: 1534\n",
      "Qnodes from file: 1516\n",
      "Outlier removal generates 4 lof-voted candidates\n",
      "score-using-embedding Time: 1.3668348789215088s\n",
      "compute-tf-idf-class_count Time: 2.041016101837158s\n",
      "compute-tf-idf-property_count Time: 2.2113211154937744s\n"
     ]
    },
    {
     "name": "stderr",
     "output_type": "stream",
     "text": [
      "1it [00:10, 10.40s/it]"
     ]
    },
    {
     "name": "stdout",
     "output_type": "stream",
     "text": [
      "mosaic-features Time: 0.006936073303222656s\n",
      "Qnodes to lookup: 926\n",
      "Qnodes from file: 915\n",
      "Outlier removal generates 4 lof-voted candidates\n",
      "score-using-embedding Time: 1.9858300685882568s\n",
      "compute-tf-idf-class_count Time: 2.385061025619507s\n",
      "compute-tf-idf-property_count Time: 2.877363920211792s\n"
     ]
    },
    {
     "name": "stderr",
     "output_type": "stream",
     "text": [
      "2it [00:20, 10.06s/it]"
     ]
    },
    {
     "name": "stdout",
     "output_type": "stream",
     "text": [
      "mosaic-features Time: 0.01970195770263672s\n",
      "Qnodes to lookup: 3757\n",
      "Qnodes from file: 3672\n",
      "Outlier removal generates 4 lof-voted candidates\n",
      "Column_vector_stragtegy centroid_of_lof failed\n",
      "Outlier removal generates 4 lof-voted candidates\n",
      "score-using-embedding Time: 1.3709540367126465s\n",
      "compute-tf-idf-class_count Time: 2.8716237545013428s\n",
      "compute-tf-idf-property_count Time: 3.7343780994415283s\n"
     ]
    },
    {
     "name": "stderr",
     "output_type": "stream",
     "text": [
      "3it [00:28,  9.27s/it]"
     ]
    },
    {
     "name": "stdout",
     "output_type": "stream",
     "text": [
      "mosaic-features Time: 0.006380796432495117s\n",
      "Qnodes to lookup: 2610\n",
      "Qnodes from file: 2567\n",
      "Outlier removal generates 5 lof-voted candidates\n",
      "score-using-embedding Time: 0.7762391567230225s\n",
      "compute-tf-idf-class_count Time: 1.2022488117218018s\n",
      "compute-tf-idf-property_count Time: 1.4244170188903809s\n"
     ]
    },
    {
     "name": "stderr",
     "output_type": "stream",
     "text": [
      "4it [00:33,  7.72s/it]"
     ]
    },
    {
     "name": "stdout",
     "output_type": "stream",
     "text": [
      "mosaic-features Time: 0.0207521915435791s\n",
      "Qnodes to lookup: 6142\n",
      "Qnodes from file: 5967\n",
      "Outlier removal generates 5 lof-voted candidates\n",
      "Outlier removal generates 4 lof-voted candidates\n",
      "Outlier removal generates 5 lof-voted candidates\n",
      "score-using-embedding Time: 1.6428401470184326s\n",
      "compute-tf-idf-class_count Time: 2.4648311138153076s\n",
      "compute-tf-idf-property_count Time: 2.978442668914795s\n"
     ]
    },
    {
     "name": "stderr",
     "output_type": "stream",
     "text": [
      "5it [00:42,  8.16s/it]"
     ]
    },
    {
     "name": "stdout",
     "output_type": "stream",
     "text": [
      "mosaic-features Time: 0.006324052810668945s\n",
      "Qnodes to lookup: 2347\n",
      "Qnodes from file: 2320\n",
      "Outlier removal generates 5 lof-voted candidates\n",
      "score-using-embedding Time: 1.0118887424468994s\n",
      "compute-tf-idf-class_count Time: 1.397836685180664s\n",
      "compute-tf-idf-property_count Time: 1.5989229679107666s\n"
     ]
    },
    {
     "name": "stderr",
     "output_type": "stream",
     "text": [
      "6it [00:47,  7.11s/it]"
     ]
    },
    {
     "name": "stdout",
     "output_type": "stream",
     "text": [
      "mosaic-features Time: 0.021924734115600586s\n",
      "Qnodes to lookup: 4628\n",
      "Qnodes from file: 4493\n",
      "Outlier removal generates 4 lof-voted candidates\n",
      "Outlier removal generates 4 lof-voted candidates\n",
      "Outlier removal generates 4 lof-voted candidates\n",
      "score-using-embedding Time: 1.5375070571899414s\n",
      "compute-tf-idf-class_count Time: 2.3646819591522217s\n",
      "compute-tf-idf-property_count Time: 2.882655143737793s\n"
     ]
    },
    {
     "name": "stderr",
     "output_type": "stream",
     "text": [
      "7it [00:54,  6.90s/it]"
     ]
    },
    {
     "name": "stdout",
     "output_type": "stream",
     "text": [
      "mosaic-features Time: 0.02316427230834961s\n",
      "Qnodes to lookup: 6643\n",
      "Qnodes from file: 6526\n",
      "Outlier removal generates 6 lof-voted candidates\n",
      "Column_vector_stragtegy centroid_of_lof failed\n",
      "score-using-embedding Time: 2.0466320514678955s\n",
      "compute-tf-idf-class_count Time: 2.996530055999756s\n",
      "compute-tf-idf-property_count Time: 3.5978879928588867s\n"
     ]
    },
    {
     "name": "stderr",
     "output_type": "stream",
     "text": [
      "8it [01:02,  7.17s/it]"
     ]
    },
    {
     "name": "stdout",
     "output_type": "stream",
     "text": [
      "mosaic-features Time: 0.020169973373413086s\n",
      "Qnodes to lookup: 4888\n",
      "Qnodes from file: 4755\n",
      "Outlier removal generates 5 lof-voted candidates\n",
      "Outlier removal generates 5 lof-voted candidates\n",
      "Outlier removal generates 2 lof-voted candidates\n",
      "score-using-embedding Time: 1.622664213180542s\n",
      "compute-tf-idf-class_count Time: 2.524996757507324s\n",
      "compute-tf-idf-property_count Time: 3.0933520793914795s\n"
     ]
    },
    {
     "name": "stderr",
     "output_type": "stream",
     "text": [
      "9it [01:09,  7.15s/it]"
     ]
    },
    {
     "name": "stdout",
     "output_type": "stream",
     "text": [
      "mosaic-features Time: 0.03502607345581055s\n",
      "Qnodes to lookup: 4379\n",
      "Qnodes from file: 4346\n",
      "Outlier removal generates 5 lof-voted candidates\n",
      "Outlier removal generates 5 lof-voted candidates\n",
      "Outlier removal generates 3 lof-voted candidates\n",
      "Column_vector_stragtegy centroid_of_lof failed\n",
      "score-using-embedding Time: 2.140392303466797s\n",
      "compute-tf-idf-class_count Time: 3.1368520259857178s\n",
      "compute-tf-idf-property_count Time: 3.9475269317626953s\n"
     ]
    },
    {
     "name": "stderr",
     "output_type": "stream",
     "text": [
      "10it [01:17,  7.44s/it]"
     ]
    },
    {
     "name": "stdout",
     "output_type": "stream",
     "text": [
      "mosaic-features Time: 0.00596308708190918s\n",
      "Qnodes to lookup: 1467\n",
      "Qnodes from file: 1437\n",
      "Outlier removal generates 5 lof-voted candidates\n",
      "score-using-embedding Time: 0.8335690498352051s\n",
      "compute-tf-idf-class_count Time: 1.2131779193878174s\n",
      "compute-tf-idf-property_count Time: 1.3726298809051514s\n"
     ]
    },
    {
     "name": "stderr",
     "output_type": "stream",
     "text": [
      "11it [01:23,  6.94s/it]"
     ]
    },
    {
     "name": "stdout",
     "output_type": "stream",
     "text": [
      "mosaic-features Time: 0.010133028030395508s\n",
      "Qnodes to lookup: 1761\n",
      "Qnodes from file: 1687\n",
      "Outlier removal generates 4 lof-voted candidates\n",
      "Outlier removal generates 2 lof-voted candidates\n",
      "score-using-embedding Time: 0.944648027420044s\n",
      "compute-tf-idf-class_count Time: 1.383004903793335s\n",
      "compute-tf-idf-property_count Time: 1.641183853149414s\n"
     ]
    },
    {
     "name": "stderr",
     "output_type": "stream",
     "text": [
      "12it [01:28,  6.44s/it]"
     ]
    },
    {
     "name": "stdout",
     "output_type": "stream",
     "text": [
      "mosaic-features Time: 0.005013942718505859s\n",
      "Qnodes to lookup: 1776\n",
      "Qnodes from file: 1762\n",
      "Outlier removal generates 5 lof-voted candidates\n",
      "score-using-embedding Time: 0.712226152420044s\n",
      "compute-tf-idf-class_count Time: 1.0639610290527344s\n",
      "compute-tf-idf-property_count Time: 1.242319107055664s\n"
     ]
    },
    {
     "name": "stderr",
     "output_type": "stream",
     "text": [
      "13it [01:34,  6.22s/it]"
     ]
    },
    {
     "name": "stdout",
     "output_type": "stream",
     "text": [
      "mosaic-features Time: 0.01092386245727539s\n",
      "Qnodes to lookup: 2771\n",
      "Qnodes from file: 2731\n",
      "Column_vector_stragtegy centroid_of_lof failed\n",
      "Outlier removal generates 4 lof-voted candidates\n",
      "score-using-embedding Time: 1.0068821907043457s\n",
      "compute-tf-idf-class_count Time: 1.573047161102295s\n",
      "compute-tf-idf-property_count Time: 1.8988943099975586s\n"
     ]
    },
    {
     "name": "stderr",
     "output_type": "stream",
     "text": [
      "14it [01:40,  6.15s/it]"
     ]
    },
    {
     "name": "stdout",
     "output_type": "stream",
     "text": [
      "mosaic-features Time: 0.0067789554595947266s\n",
      "Qnodes to lookup: 2363\n",
      "Qnodes from file: 2322\n",
      "Column_vector_stragtegy centroid_of_lof failed\n",
      "score-using-embedding Time: 0.7667357921600342s\n",
      "compute-tf-idf-class_count Time: 1.631014108657837s\n",
      "compute-tf-idf-property_count Time: 1.8297197818756104s\n"
     ]
    },
    {
     "name": "stderr",
     "output_type": "stream",
     "text": [
      "15it [01:45,  5.92s/it]"
     ]
    },
    {
     "name": "stdout",
     "output_type": "stream",
     "text": [
      "mosaic-features Time: 0.017247915267944336s\n",
      "Qnodes to lookup: 6037\n",
      "Qnodes from file: 5956\n",
      "Outlier removal generates 4 lof-voted candidates\n",
      "Outlier removal generates 3 lof-voted candidates\n",
      "Outlier removal generates 3 lof-voted candidates\n",
      "score-using-embedding Time: 1.706561803817749s\n",
      "compute-tf-idf-class_count Time: 2.520608901977539s\n",
      "compute-tf-idf-property_count Time: 3.042161703109741s\n"
     ]
    },
    {
     "name": "stderr",
     "output_type": "stream",
     "text": [
      "16it [01:52,  6.31s/it]"
     ]
    },
    {
     "name": "stdout",
     "output_type": "stream",
     "text": [
      "mosaic-features Time: 0.004708051681518555s\n",
      "Qnodes to lookup: 1822\n",
      "Qnodes from file: 1780\n",
      "Outlier removal generates 5 lof-voted candidates\n",
      "score-using-embedding Time: 0.7206869125366211s\n",
      "compute-tf-idf-class_count Time: 1.083028793334961s\n",
      "compute-tf-idf-property_count Time: 1.2570488452911377s\n"
     ]
    },
    {
     "name": "stderr",
     "output_type": "stream",
     "text": [
      "17it [01:57,  5.94s/it]"
     ]
    },
    {
     "name": "stdout",
     "output_type": "stream",
     "text": [
      "mosaic-features Time: 0.017435789108276367s\n",
      "Qnodes to lookup: 890\n",
      "Qnodes from file: 879\n",
      "Outlier removal generates 5 lof-voted candidates\n",
      "Column_vector_stragtegy centroid_of_lof failed\n",
      "score-using-embedding Time: 1.6025190353393555s\n",
      "compute-tf-idf-class_count Time: 2.1512560844421387s\n",
      "compute-tf-idf-property_count Time: 2.5143918991088867s\n"
     ]
    },
    {
     "name": "stderr",
     "output_type": "stream",
     "text": [
      "18it [02:04,  6.31s/it]"
     ]
    },
    {
     "name": "stdout",
     "output_type": "stream",
     "text": [
      "mosaic-features Time: 0.010355949401855469s\n",
      "Qnodes to lookup: 689\n",
      "Qnodes from file: 680\n",
      "Outlier removal generates 5 lof-voted candidates\n",
      "Column_vector_stragtegy centroid_of_lof failed\n",
      "score-using-embedding Time: 0.9679288864135742s\n",
      "compute-tf-idf-class_count Time: 2.158143997192383s\n",
      "compute-tf-idf-property_count Time: 2.777071714401245s\n"
     ]
    },
    {
     "name": "stderr",
     "output_type": "stream",
     "text": [
      "19it [02:12,  6.67s/it]"
     ]
    },
    {
     "name": "stdout",
     "output_type": "stream",
     "text": [
      "mosaic-features Time: 0.011124134063720703s\n",
      "Qnodes to lookup: 2729\n",
      "Qnodes from file: 2695\n",
      "Outlier removal generates 5 lof-voted candidates\n",
      "score-using-embedding Time: 1.384087085723877s\n",
      "compute-tf-idf-class_count Time: 2.864159107208252s\n",
      "compute-tf-idf-property_count Time: 2.1718828678131104s\n"
     ]
    },
    {
     "name": "stderr",
     "output_type": "stream",
     "text": [
      "20it [02:22,  7.73s/it]"
     ]
    },
    {
     "name": "stdout",
     "output_type": "stream",
     "text": [
      "mosaic-features Time: 0.011141061782836914s\n",
      "Qnodes to lookup: 2329\n",
      "Qnodes from file: 2191\n",
      "Outlier removal generates 4 lof-voted candidates\n",
      "Outlier removal generates 5 lof-voted candidates\n",
      "score-using-embedding Time: 1.38981294631958s\n",
      "compute-tf-idf-class_count Time: 1.9650423526763916s\n",
      "compute-tf-idf-property_count Time: 2.2669339179992676s\n"
     ]
    },
    {
     "name": "stderr",
     "output_type": "stream",
     "text": [
      "21it [02:32,  8.45s/it]"
     ]
    },
    {
     "name": "stdout",
     "output_type": "stream",
     "text": [
      "mosaic-features Time: 0.022015810012817383s\n",
      "Qnodes to lookup: 5459\n",
      "Qnodes from file: 5342\n",
      "Outlier removal generates 5 lof-voted candidates\n",
      "Outlier removal generates 5 lof-voted candidates\n",
      "Outlier removal generates 4 lof-voted candidates\n",
      "Outlier removal generates 4 lof-voted candidates\n",
      "score-using-embedding Time: 1.64005708694458s\n",
      "compute-tf-idf-class_count Time: 2.5443780422210693s\n",
      "compute-tf-idf-property_count Time: 3.0918128490448s\n"
     ]
    },
    {
     "name": "stderr",
     "output_type": "stream",
     "text": [
      "22it [02:42,  8.92s/it]"
     ]
    },
    {
     "name": "stdout",
     "output_type": "stream",
     "text": [
      "mosaic-features Time: 0.01686716079711914s\n",
      "Qnodes to lookup: 2093\n",
      "Qnodes from file: 2082\n",
      "Outlier removal generates 5 lof-voted candidates\n",
      "Column_vector_stragtegy centroid_of_lof failed\n",
      "Column_vector_stragtegy centroid_of_lof failed\n",
      "score-using-embedding Time: 1.3210580348968506s\n",
      "compute-tf-idf-class_count Time: 2.0333609580993652s\n",
      "compute-tf-idf-property_count Time: 2.4838778972625732s\n"
     ]
    },
    {
     "name": "stderr",
     "output_type": "stream",
     "text": [
      "23it [02:50,  8.51s/it]"
     ]
    },
    {
     "name": "stdout",
     "output_type": "stream",
     "text": [
      "mosaic-features Time: 0.01607203483581543s\n",
      "Qnodes to lookup: 3798\n",
      "Qnodes from file: 3682\n",
      "Outlier removal generates 5 lof-voted candidates\n",
      "Outlier removal generates 5 lof-voted candidates\n",
      "score-using-embedding Time: 1.3899791240692139s\n",
      "compute-tf-idf-class_count Time: 1.8797659873962402s\n",
      "compute-tf-idf-property_count Time: 2.202721118927002s\n"
     ]
    },
    {
     "name": "stderr",
     "output_type": "stream",
     "text": [
      "24it [02:58,  8.32s/it]"
     ]
    },
    {
     "name": "stdout",
     "output_type": "stream",
     "text": [
      "mosaic-features Time: 0.01308894157409668s\n",
      "Qnodes to lookup: 4974\n",
      "Qnodes from file: 4890\n",
      "Outlier removal generates 5 lof-voted candidates\n",
      "Outlier removal generates 4 lof-voted candidates\n",
      "Outlier removal generates 5 lof-voted candidates\n",
      "score-using-embedding Time: 1.2265658378601074s\n",
      "compute-tf-idf-class_count Time: 2.037045955657959s\n",
      "compute-tf-idf-property_count Time: 2.4375948905944824s\n"
     ]
    },
    {
     "name": "stderr",
     "output_type": "stream",
     "text": [
      "25it [03:04,  7.72s/it]"
     ]
    },
    {
     "name": "stdout",
     "output_type": "stream",
     "text": [
      "mosaic-features Time: 0.010233163833618164s\n",
      "Qnodes to lookup: 3596\n",
      "Qnodes from file: 3549\n",
      "Outlier removal generates 4 lof-voted candidates\n",
      "score-using-embedding Time: 0.9251861572265625s\n",
      "compute-tf-idf-class_count Time: 1.3963708877563477s\n",
      "compute-tf-idf-property_count Time: 1.672508955001831s\n"
     ]
    },
    {
     "name": "stderr",
     "output_type": "stream",
     "text": [
      "26it [03:09,  6.99s/it]"
     ]
    },
    {
     "name": "stdout",
     "output_type": "stream",
     "text": [
      "mosaic-features Time: 0.006392002105712891s\n",
      "Qnodes to lookup: 1734\n",
      "Qnodes from file: 1730\n",
      "Column_vector_stragtegy centroid_of_lof failed\n",
      "score-using-embedding Time: 0.7492580413818359s\n",
      "compute-tf-idf-class_count Time: 1.0713231563568115s\n",
      "compute-tf-idf-property_count Time: 1.2393908500671387s\n"
     ]
    },
    {
     "name": "stderr",
     "output_type": "stream",
     "text": [
      "27it [03:14,  6.25s/it]"
     ]
    },
    {
     "name": "stdout",
     "output_type": "stream",
     "text": [
      "mosaic-features Time: 0.006433963775634766s\n",
      "Qnodes to lookup: 2616\n",
      "Qnodes from file: 2569\n",
      "Outlier removal generates 2 lof-voted candidates\n",
      "score-using-embedding Time: 0.7728018760681152s\n",
      "compute-tf-idf-class_count Time: 1.18656325340271s\n",
      "compute-tf-idf-property_count Time: 1.4034249782562256s\n"
     ]
    },
    {
     "name": "stderr",
     "output_type": "stream",
     "text": [
      "28it [03:19,  5.93s/it]"
     ]
    },
    {
     "name": "stdout",
     "output_type": "stream",
     "text": [
      "mosaic-features Time: 0.007576942443847656s\n",
      "Qnodes to lookup: 3003\n",
      "Qnodes from file: 2973\n",
      "Outlier removal generates 4 lof-voted candidates\n",
      "score-using-embedding Time: 0.850452184677124s\n",
      "compute-tf-idf-class_count Time: 1.3019921779632568s\n",
      "compute-tf-idf-property_count Time: 1.5567407608032227s\n"
     ]
    },
    {
     "name": "stderr",
     "output_type": "stream",
     "text": [
      "29it [03:24,  5.76s/it]"
     ]
    },
    {
     "name": "stdout",
     "output_type": "stream",
     "text": [
      "mosaic-features Time: 0.004233360290527344s\n",
      "Qnodes to lookup: 1613\n",
      "Qnodes from file: 1593\n",
      "Outlier removal generates 2 lof-voted candidates\n",
      "score-using-embedding Time: 0.6484270095825195s\n",
      "compute-tf-idf-class_count Time: 0.9917969703674316s\n",
      "compute-tf-idf-property_count Time: 1.1658387184143066s\n"
     ]
    },
    {
     "name": "stderr",
     "output_type": "stream",
     "text": [
      "30it [03:29,  5.51s/it]"
     ]
    },
    {
     "name": "stdout",
     "output_type": "stream",
     "text": [
      "mosaic-features Time: 0.005807161331176758s\n",
      "Qnodes to lookup: 834\n",
      "Qnodes from file: 818\n",
      "Outlier removal generates 4 lof-voted candidates\n",
      "score-using-embedding Time: 0.7092359066009521s\n",
      "compute-tf-idf-class_count Time: 1.0468242168426514s\n",
      "compute-tf-idf-property_count Time: 1.2268998622894287s\n"
     ]
    },
    {
     "name": "stderr",
     "output_type": "stream",
     "text": [
      "31it [03:34,  5.39s/it]"
     ]
    },
    {
     "name": "stdout",
     "output_type": "stream",
     "text": [
      "mosaic-features Time: 0.015491962432861328s\n",
      "Qnodes to lookup: 5296\n",
      "Qnodes from file: 5180\n",
      "Outlier removal generates 3 lof-voted candidates\n",
      "Outlier removal generates 4 lof-voted candidates\n",
      "score-using-embedding Time: 1.1974170207977295s\n",
      "compute-tf-idf-class_count Time: 1.808974027633667s\n",
      "compute-tf-idf-property_count Time: 2.176861047744751s\n"
     ]
    },
    {
     "name": "stderr",
     "output_type": "stream",
     "text": [
      "32it [03:41,  5.62s/it]"
     ]
    },
    {
     "name": "stdout",
     "output_type": "stream",
     "text": [
      "mosaic-features Time: 0.016701936721801758s\n",
      "Qnodes to lookup: 3310\n",
      "Qnodes from file: 3250\n",
      "Outlier removal generates 4 lof-voted candidates\n",
      "Outlier removal generates 4 lof-voted candidates\n",
      "score-using-embedding Time: 1.1640911102294922s\n",
      "compute-tf-idf-class_count Time: 1.7911479473114014s\n",
      "compute-tf-idf-property_count Time: 2.2132411003112793s\n"
     ]
    },
    {
     "name": "stderr",
     "output_type": "stream",
     "text": [
      "33it [03:46,  5.62s/it]"
     ]
    },
    {
     "name": "stdout",
     "output_type": "stream",
     "text": [
      "mosaic-features Time: 0.023845195770263672s\n",
      "Qnodes to lookup: 5655\n",
      "Qnodes from file: 5567\n",
      "Outlier removal generates 5 lof-voted candidates\n",
      "Outlier removal generates 2 lof-voted candidates\n",
      "Outlier removal generates 5 lof-voted candidates\n",
      "Outlier removal generates 2 lof-voted candidates\n",
      "score-using-embedding Time: 1.8780441284179688s\n",
      "compute-tf-idf-class_count Time: 2.867892026901245s\n",
      "compute-tf-idf-property_count Time: 3.5146801471710205s\n"
     ]
    },
    {
     "name": "stderr",
     "output_type": "stream",
     "text": [
      "34it [03:54,  6.17s/it]"
     ]
    },
    {
     "name": "stdout",
     "output_type": "stream",
     "text": [
      "mosaic-features Time: 0.02075481414794922s\n",
      "Qnodes to lookup: 3359\n",
      "Qnodes from file: 3292\n",
      "Outlier removal generates 5 lof-voted candidates\n",
      "Outlier removal generates 2 lof-voted candidates\n",
      "Column_vector_stragtegy centroid_of_lof failed\n",
      "score-using-embedding Time: 1.5559418201446533s\n",
      "compute-tf-idf-class_count Time: 2.246134042739868s\n",
      "compute-tf-idf-property_count Time: 2.887190103530884s\n"
     ]
    },
    {
     "name": "stderr",
     "output_type": "stream",
     "text": [
      "35it [04:02,  6.88s/it]"
     ]
    },
    {
     "name": "stdout",
     "output_type": "stream",
     "text": [
      "mosaic-features Time: 0.004322052001953125s\n",
      "Qnodes to lookup: 1382\n",
      "Qnodes from file: 1360\n",
      "Outlier removal generates 4 lof-voted candidates\n",
      "score-using-embedding Time: 0.6786158084869385s\n",
      "compute-tf-idf-class_count Time: 1.0637240409851074s\n",
      "compute-tf-idf-property_count Time: 1.2436082363128662s\n"
     ]
    },
    {
     "name": "stderr",
     "output_type": "stream",
     "text": [
      "36it [04:07,  6.21s/it]"
     ]
    },
    {
     "name": "stdout",
     "output_type": "stream",
     "text": [
      "mosaic-features Time: 0.028692960739135742s\n",
      "Qnodes to lookup: 12706\n",
      "Qnodes from file: 12510\n",
      "Outlier removal generates 4 lof-voted candidates\n",
      "Column_vector_stragtegy centroid_of_lof failed\n",
      "Outlier removal generates 4 lof-voted candidates\n",
      "score-using-embedding Time: 2.3594040870666504s\n",
      "compute-tf-idf-class_count Time: 3.5792412757873535s\n",
      "compute-tf-idf-property_count Time: 4.422524929046631s\n"
     ]
    },
    {
     "name": "stderr",
     "output_type": "stream",
     "text": [
      "37it [04:15,  6.91s/it]"
     ]
    },
    {
     "name": "stdout",
     "output_type": "stream",
     "text": [
      "mosaic-features Time: 0.015154123306274414s\n",
      "Qnodes to lookup: 4539\n",
      "Qnodes from file: 4398\n",
      "Outlier removal generates 3 lof-voted candidates\n",
      "Outlier removal generates 5 lof-voted candidates\n",
      "Outlier removal generates 5 lof-voted candidates\n",
      "score-using-embedding Time: 1.5007717609405518s\n",
      "compute-tf-idf-class_count Time: 2.3241870403289795s\n",
      "compute-tf-idf-property_count Time: 2.7821309566497803s\n"
     ]
    },
    {
     "name": "stderr",
     "output_type": "stream",
     "text": [
      "38it [04:25,  7.66s/it]"
     ]
    },
    {
     "name": "stdout",
     "output_type": "stream",
     "text": [
      "mosaic-features Time: 0.013041019439697266s\n",
      "Qnodes to lookup: 3553\n",
      "Qnodes from file: 3509\n",
      "Outlier removal generates 5 lof-voted candidates\n",
      "Outlier removal generates 3 lof-voted candidates\n",
      "score-using-embedding Time: 1.5296659469604492s\n",
      "compute-tf-idf-class_count Time: 2.1981160640716553s\n",
      "compute-tf-idf-property_count Time: 3.50150203704834s\n"
     ]
    },
    {
     "name": "stderr",
     "output_type": "stream",
     "text": [
      "39it [04:36,  8.69s/it]"
     ]
    },
    {
     "name": "stdout",
     "output_type": "stream",
     "text": [
      "mosaic-features Time: 0.017358064651489258s\n",
      "Qnodes to lookup: 5000\n",
      "Qnodes from file: 4828\n",
      "Outlier removal generates 5 lof-voted candidates\n",
      "Outlier removal generates 4 lof-voted candidates\n",
      "Outlier removal generates 5 lof-voted candidates\n",
      "score-using-embedding Time: 1.7420783042907715s\n",
      "compute-tf-idf-class_count Time: 3.118795156478882s\n",
      "compute-tf-idf-property_count Time: 3.5643908977508545s\n"
     ]
    },
    {
     "name": "stderr",
     "output_type": "stream",
     "text": [
      "40it [04:48,  9.78s/it]"
     ]
    },
    {
     "name": "stdout",
     "output_type": "stream",
     "text": [
      "mosaic-features Time: 0.028238773345947266s\n",
      "Qnodes to lookup: 2723\n",
      "Qnodes from file: 2694\n",
      "Outlier removal generates 4 lof-voted candidates\n",
      "Column_vector_stragtegy centroid_of_lof failed\n",
      "Outlier removal generates 4 lof-voted candidates\n",
      "Column_vector_stragtegy centroid_of_lof failed\n",
      "score-using-embedding Time: 1.9420819282531738s\n",
      "compute-tf-idf-class_count Time: 2.882934093475342s\n",
      "compute-tf-idf-property_count Time: 3.4254791736602783s\n"
     ]
    },
    {
     "name": "stderr",
     "output_type": "stream",
     "text": [
      "41it [05:00, 10.47s/it]"
     ]
    },
    {
     "name": "stdout",
     "output_type": "stream",
     "text": [
      "mosaic-features Time: 0.014522790908813477s\n",
      "Qnodes to lookup: 1924\n",
      "Qnodes from file: 1893\n",
      "Outlier removal generates 5 lof-voted candidates\n",
      "Column_vector_stragtegy centroid_of_lof failed\n",
      "score-using-embedding Time: 1.0411348342895508s\n",
      "compute-tf-idf-class_count Time: 2.0993499755859375s\n",
      "compute-tf-idf-property_count Time: 1.9399878978729248s\n"
     ]
    },
    {
     "name": "stderr",
     "output_type": "stream",
     "text": [
      "42it [05:08,  9.74s/it]"
     ]
    },
    {
     "name": "stdout",
     "output_type": "stream",
     "text": [
      "mosaic-features Time: 0.006819963455200195s\n",
      "Qnodes to lookup: 2113\n",
      "Qnodes from file: 2102\n",
      "Outlier removal generates 4 lof-voted candidates\n",
      "score-using-embedding Time: 1.926501750946045s\n",
      "compute-tf-idf-class_count Time: 2.316812753677368s\n",
      "compute-tf-idf-property_count Time: 2.5359508991241455s\n"
     ]
    },
    {
     "name": "stderr",
     "output_type": "stream",
     "text": [
      "43it [05:15,  8.69s/it]"
     ]
    },
    {
     "name": "stdout",
     "output_type": "stream",
     "text": [
      "mosaic-features Time: 0.006081104278564453s\n",
      "Qnodes to lookup: 1763\n",
      "Qnodes from file: 1731\n",
      "Outlier removal generates 7 lof-voted candidates\n",
      "score-using-embedding Time: 0.7491359710693359s\n",
      "compute-tf-idf-class_count Time: 1.104053020477295s\n",
      "compute-tf-idf-property_count Time: 1.2975459098815918s\n"
     ]
    },
    {
     "name": "stderr",
     "output_type": "stream",
     "text": [
      "44it [05:19,  7.53s/it]"
     ]
    },
    {
     "name": "stdout",
     "output_type": "stream",
     "text": [
      "mosaic-features Time: 0.010146141052246094s\n",
      "Qnodes to lookup: 549\n",
      "Qnodes from file: 489\n",
      "Outlier removal generates 2 lof-voted candidates\n",
      "Outlier removal generates 6 lof-voted candidates\n",
      "score-using-embedding Time: 1.3126261234283447s\n",
      "compute-tf-idf-class_count Time: 1.7820370197296143s\n",
      "compute-tf-idf-property_count Time: 2.039057970046997s\n"
     ]
    },
    {
     "name": "stderr",
     "output_type": "stream",
     "text": [
      "45it [05:26,  7.10s/it]"
     ]
    },
    {
     "name": "stdout",
     "output_type": "stream",
     "text": [
      "mosaic-features Time: 0.01455998420715332s\n",
      "Qnodes to lookup: 2314\n",
      "Qnodes from file: 2278\n",
      "Outlier removal generates 3 lof-voted candidates\n",
      "Column_vector_stragtegy centroid_of_lof failed\n",
      "No pseudo GT available, using all exact matches as high precision\n",
      "Outlier removal generates 21 lof-voted candidates\n",
      "score-using-embedding Time: 1.2080960273742676s\n",
      "compute-tf-idf-class_count Time: 1.7751221656799316s\n",
      "compute-tf-idf-property_count Time: 2.1245980262756348s\n"
     ]
    },
    {
     "name": "stderr",
     "output_type": "stream",
     "text": [
      "46it [05:31,  6.62s/it]"
     ]
    },
    {
     "name": "stdout",
     "output_type": "stream",
     "text": [
      "mosaic-features Time: 0.006506204605102539s\n",
      "Qnodes to lookup: 2546\n",
      "Qnodes from file: 2507\n",
      "Outlier removal generates 2 lof-voted candidates\n",
      "score-using-embedding Time: 0.7995419502258301s\n",
      "compute-tf-idf-class_count Time: 1.1885108947753906s\n",
      "compute-tf-idf-property_count Time: 1.393934965133667s\n"
     ]
    },
    {
     "name": "stderr",
     "output_type": "stream",
     "text": [
      "47it [05:37,  6.52s/it]"
     ]
    },
    {
     "name": "stdout",
     "output_type": "stream",
     "text": [
      "mosaic-features Time: 0.007149934768676758s\n",
      "Qnodes to lookup: 2199\n",
      "Qnodes from file: 2174\n",
      "Outlier removal generates 5 lof-voted candidates\n",
      "score-using-embedding Time: 0.8010039329528809s\n",
      "compute-tf-idf-class_count Time: 1.146813154220581s\n",
      "compute-tf-idf-property_count Time: 1.3517570495605469s\n"
     ]
    },
    {
     "name": "stderr",
     "output_type": "stream",
     "text": [
      "48it [05:43,  6.15s/it]"
     ]
    },
    {
     "name": "stdout",
     "output_type": "stream",
     "text": [
      "mosaic-features Time: 0.005515098571777344s\n",
      "Qnodes to lookup: 1587\n",
      "Qnodes from file: 1475\n",
      "Outlier removal generates 6 lof-voted candidates\n",
      "score-using-embedding Time: 0.768589973449707s\n",
      "compute-tf-idf-class_count Time: 1.1402568817138672s\n",
      "compute-tf-idf-property_count Time: 1.3222520351409912s\n"
     ]
    },
    {
     "name": "stderr",
     "output_type": "stream",
     "text": [
      "49it [05:48,  5.83s/it]"
     ]
    },
    {
     "name": "stdout",
     "output_type": "stream",
     "text": [
      "mosaic-features Time: 0.02081012725830078s\n",
      "Qnodes to lookup: 2102\n",
      "Qnodes from file: 2089\n",
      "Outlier removal generates 4 lof-voted candidates\n",
      "Outlier removal generates 2 lof-voted candidates\n",
      "Column_vector_stragtegy centroid_of_lof failed\n",
      "score-using-embedding Time: 1.3712520599365234s\n",
      "compute-tf-idf-class_count Time: 2.033998727798462s\n",
      "compute-tf-idf-property_count Time: 2.5441977977752686s\n"
     ]
    },
    {
     "name": "stderr",
     "output_type": "stream",
     "text": [
      "50it [05:54,  6.01s/it]"
     ]
    },
    {
     "name": "stdout",
     "output_type": "stream",
     "text": [
      "mosaic-features Time: 0.019662857055664062s\n",
      "Qnodes to lookup: 6210\n",
      "Qnodes from file: 6072\n",
      "Outlier removal generates 3 lof-voted candidates\n",
      "Outlier removal generates 4 lof-voted candidates\n",
      "Outlier removal generates 4 lof-voted candidates\n",
      "score-using-embedding Time: 1.5150272846221924s\n",
      "compute-tf-idf-class_count Time: 2.2917847633361816s\n",
      "compute-tf-idf-property_count Time: 2.812005043029785s\n"
     ]
    },
    {
     "name": "stderr",
     "output_type": "stream",
     "text": [
      "51it [06:01,  6.14s/it]"
     ]
    },
    {
     "name": "stdout",
     "output_type": "stream",
     "text": [
      "mosaic-features Time: 0.0062448978424072266s\n",
      "Qnodes to lookup: 2276\n",
      "Qnodes from file: 2248\n",
      "Outlier removal generates 4 lof-voted candidates\n",
      "score-using-embedding Time: 0.931851863861084s\n",
      "compute-tf-idf-class_count Time: 1.294320821762085s\n",
      "compute-tf-idf-property_count Time: 1.5238111019134521s\n"
     ]
    },
    {
     "name": "stderr",
     "output_type": "stream",
     "text": [
      "52it [06:06,  5.78s/it]"
     ]
    },
    {
     "name": "stdout",
     "output_type": "stream",
     "text": [
      "mosaic-features Time: 0.006860017776489258s\n",
      "Qnodes to lookup: 1171\n",
      "Qnodes from file: 1160\n",
      "Outlier removal generates 5 lof-voted candidates\n",
      "score-using-embedding Time: 0.733314037322998s\n",
      "compute-tf-idf-class_count Time: 1.0910658836364746s\n",
      "compute-tf-idf-property_count Time: 1.2841317653656006s\n"
     ]
    },
    {
     "name": "stderr",
     "output_type": "stream",
     "text": [
      "53it [06:11,  5.71s/it]"
     ]
    },
    {
     "name": "stdout",
     "output_type": "stream",
     "text": [
      "mosaic-features Time: 0.012466907501220703s\n",
      "Qnodes to lookup: 4379\n",
      "Qnodes from file: 4307\n",
      "Outlier removal generates 3 lof-voted candidates\n",
      "Column_vector_stragtegy centroid_of_lof failed\n",
      "Outlier removal generates 4 lof-voted candidates\n",
      "score-using-embedding Time: 1.3231840133666992s\n",
      "compute-tf-idf-class_count Time: 1.9645938873291016s\n",
      "compute-tf-idf-property_count Time: 2.322204113006592s\n"
     ]
    },
    {
     "name": "stderr",
     "output_type": "stream",
     "text": [
      "54it [06:17,  5.89s/it]"
     ]
    },
    {
     "name": "stdout",
     "output_type": "stream",
     "text": [
      "mosaic-features Time: 0.01964092254638672s\n",
      "Qnodes to lookup: 5894\n",
      "Qnodes from file: 5787\n",
      "Outlier removal generates 4 lof-voted candidates\n",
      "Outlier removal generates 5 lof-voted candidates\n",
      "Outlier removal generates 5 lof-voted candidates\n",
      "score-using-embedding Time: 1.4866182804107666s\n",
      "compute-tf-idf-class_count Time: 2.2916300296783447s\n",
      "compute-tf-idf-property_count Time: 2.8039278984069824s\n"
     ]
    },
    {
     "name": "stderr",
     "output_type": "stream",
     "text": [
      "55it [06:24,  6.15s/it]"
     ]
    },
    {
     "name": "stdout",
     "output_type": "stream",
     "text": [
      "mosaic-features Time: 0.009376049041748047s\n",
      "Qnodes to lookup: 3287\n",
      "Qnodes from file: 3224\n",
      "Outlier removal generates 2 lof-voted candidates\n",
      "Column_vector_stragtegy centroid_of_lof failed\n",
      "score-using-embedding Time: 1.1063809394836426s\n",
      "compute-tf-idf-class_count Time: 1.626744031906128s\n",
      "compute-tf-idf-property_count Time: 1.898834228515625s\n"
     ]
    },
    {
     "name": "stderr",
     "output_type": "stream",
     "text": [
      "56it [06:31,  6.24s/it]"
     ]
    },
    {
     "name": "stdout",
     "output_type": "stream",
     "text": [
      "mosaic-features Time: 0.011941909790039062s\n",
      "Qnodes to lookup: 4560\n",
      "Qnodes from file: 4434\n",
      "Outlier removal generates 5 lof-voted candidates\n",
      "Outlier removal generates 5 lof-voted candidates\n",
      "score-using-embedding Time: 1.1176128387451172s\n",
      "compute-tf-idf-class_count Time: 1.6560041904449463s\n",
      "compute-tf-idf-property_count Time: 2.006182909011841s\n"
     ]
    },
    {
     "name": "stderr",
     "output_type": "stream",
     "text": [
      "57it [06:36,  5.98s/it]"
     ]
    },
    {
     "name": "stdout",
     "output_type": "stream",
     "text": [
      "mosaic-features Time: 0.014676094055175781s\n",
      "Qnodes to lookup: 3045\n",
      "Qnodes from file: 2997\n",
      "Outlier removal generates 5 lof-voted candidates\n",
      "Outlier removal generates 5 lof-voted candidates\n",
      "score-using-embedding Time: 1.3980600833892822s\n",
      "compute-tf-idf-class_count Time: 1.906677007675171s\n",
      "compute-tf-idf-property_count Time: 2.1821749210357666s\n"
     ]
    },
    {
     "name": "stderr",
     "output_type": "stream",
     "text": [
      "58it [06:45,  6.91s/it]"
     ]
    },
    {
     "name": "stdout",
     "output_type": "stream",
     "text": [
      "mosaic-features Time: 0.006379842758178711s\n",
      "Qnodes to lookup: 1037\n",
      "Qnodes from file: 1032\n",
      "Outlier removal generates 5 lof-voted candidates\n",
      "score-using-embedding Time: 1.165043830871582s\n",
      "compute-tf-idf-class_count Time: 1.4984970092773438s\n",
      "compute-tf-idf-property_count Time: 1.650660753250122s\n"
     ]
    },
    {
     "name": "stderr",
     "output_type": "stream",
     "text": [
      "59it [06:55,  7.97s/it]"
     ]
    },
    {
     "name": "stdout",
     "output_type": "stream",
     "text": [
      "mosaic-features Time: 0.015782833099365234s\n",
      "Qnodes to lookup: 757\n",
      "Qnodes from file: 746\n",
      "Outlier removal generates 5 lof-voted candidates\n",
      "No pseudo GT available, using all exact matches as high precision\n",
      "Outlier removal generates 20 lof-voted candidates\n",
      "score-using-embedding Time: 1.5171949863433838s\n",
      "compute-tf-idf-class_count Time: 1.9880168437957764s\n",
      "compute-tf-idf-property_count Time: 2.248706817626953s\n"
     ]
    },
    {
     "name": "stderr",
     "output_type": "stream",
     "text": [
      "60it [07:06,  8.79s/it]"
     ]
    },
    {
     "name": "stdout",
     "output_type": "stream",
     "text": [
      "mosaic-features Time: 0.006587028503417969s\n",
      "Qnodes to lookup: 2270\n",
      "Qnodes from file: 2246\n",
      "Outlier removal generates 4 lof-voted candidates\n",
      "score-using-embedding Time: 0.7683207988739014s\n",
      "compute-tf-idf-class_count Time: 1.1619641780853271s\n",
      "compute-tf-idf-property_count Time: 1.3442621231079102s\n"
     ]
    },
    {
     "name": "stderr",
     "output_type": "stream",
     "text": [
      "61it [07:16,  9.15s/it]"
     ]
    },
    {
     "name": "stdout",
     "output_type": "stream",
     "text": [
      "mosaic-features Time: 0.009387016296386719s\n",
      "Qnodes to lookup: 2042\n",
      "Qnodes from file: 2004\n",
      "Outlier removal generates 4 lof-voted candidates\n",
      "score-using-embedding Time: 1.4216289520263672s\n",
      "compute-tf-idf-class_count Time: 1.7975199222564697s\n",
      "compute-tf-idf-property_count Time: 1.9779481887817383s\n"
     ]
    },
    {
     "name": "stderr",
     "output_type": "stream",
     "text": [
      "62it [07:24,  8.73s/it]"
     ]
    },
    {
     "name": "stdout",
     "output_type": "stream",
     "text": [
      "mosaic-features Time: 0.020559072494506836s\n",
      "Qnodes to lookup: 4140\n",
      "Qnodes from file: 4070\n",
      "Outlier removal generates 5 lof-voted candidates\n",
      "Outlier removal generates 4 lof-voted candidates\n",
      "Column_vector_stragtegy centroid_of_lof failed\n",
      "score-using-embedding Time: 1.5027060508728027s\n",
      "compute-tf-idf-class_count Time: 2.2661938667297363s\n",
      "compute-tf-idf-property_count Time: 2.842686891555786s\n"
     ]
    },
    {
     "name": "stderr",
     "output_type": "stream",
     "text": [
      "63it [07:30,  8.07s/it]"
     ]
    },
    {
     "name": "stdout",
     "output_type": "stream",
     "text": [
      "mosaic-features Time: 0.0208740234375s\n",
      "Qnodes to lookup: 692\n",
      "Qnodes from file: 685\n",
      "Outlier removal generates 4 lof-voted candidates\n",
      "Outlier removal generates 5 lof-voted candidates\n",
      "Column_vector_stragtegy centroid_of_lof failed\n",
      "score-using-embedding Time: 1.1996140480041504s\n",
      "compute-tf-idf-class_count Time: 1.7416861057281494s\n",
      "compute-tf-idf-property_count Time: 2.0953469276428223s\n"
     ]
    },
    {
     "name": "stderr",
     "output_type": "stream",
     "text": [
      "64it [07:37,  7.48s/it]"
     ]
    },
    {
     "name": "stdout",
     "output_type": "stream",
     "text": [
      "mosaic-features Time: 0.00548100471496582s\n",
      "Qnodes to lookup: 1737\n",
      "Qnodes from file: 1707\n",
      "Outlier removal generates 5 lof-voted candidates\n",
      "score-using-embedding Time: 0.7171430587768555s\n",
      "compute-tf-idf-class_count Time: 1.0862200260162354s\n",
      "compute-tf-idf-property_count Time: 1.2509100437164307s\n"
     ]
    },
    {
     "name": "stderr",
     "output_type": "stream",
     "text": [
      "65it [07:42,  6.76s/it]"
     ]
    },
    {
     "name": "stdout",
     "output_type": "stream",
     "text": [
      "mosaic-features Time: 0.02077317237854004s\n",
      "Qnodes to lookup: 5609\n",
      "Qnodes from file: 5555\n",
      "Outlier removal generates 5 lof-voted candidates\n",
      "Column_vector_stragtegy centroid_of_lof failed\n",
      "Outlier removal generates 5 lof-voted candidates\n",
      "score-using-embedding Time: 1.4546558856964111s\n",
      "compute-tf-idf-class_count Time: 2.202787160873413s\n",
      "compute-tf-idf-property_count Time: 2.689941883087158s\n"
     ]
    },
    {
     "name": "stderr",
     "output_type": "stream",
     "text": [
      "66it [07:48,  6.74s/it]"
     ]
    },
    {
     "name": "stdout",
     "output_type": "stream",
     "text": [
      "mosaic-features Time: 0.015774011611938477s\n",
      "Qnodes to lookup: 1440\n",
      "Qnodes from file: 1418\n",
      "Outlier removal generates 5 lof-voted candidates\n",
      "Column_vector_stragtegy centroid_of_lof failed\n",
      "score-using-embedding Time: 1.27998685836792s\n",
      "compute-tf-idf-class_count Time: 1.7543919086456299s\n",
      "compute-tf-idf-property_count Time: 2.061563730239868s\n"
     ]
    },
    {
     "name": "stderr",
     "output_type": "stream",
     "text": [
      "67it [07:56,  6.96s/it]"
     ]
    },
    {
     "name": "stdout",
     "output_type": "stream",
     "text": [
      "mosaic-features Time: 0.005731105804443359s\n",
      "Qnodes to lookup: 2190\n",
      "Qnodes from file: 2179\n",
      "Outlier removal generates 2 lof-voted candidates\n",
      "score-using-embedding Time: 0.7269811630249023s\n",
      "compute-tf-idf-class_count Time: 1.5428509712219238s\n",
      "compute-tf-idf-property_count Time: 1.7242190837860107s\n"
     ]
    },
    {
     "name": "stderr",
     "output_type": "stream",
     "text": [
      "68it [08:01,  6.36s/it]"
     ]
    },
    {
     "name": "stdout",
     "output_type": "stream",
     "text": [
      "mosaic-features Time: 0.006482839584350586s\n",
      "Qnodes to lookup: 2325\n",
      "Qnodes from file: 2304\n",
      "Outlier removal generates 4 lof-voted candidates\n",
      "score-using-embedding Time: 0.7647171020507812s\n",
      "compute-tf-idf-class_count Time: 1.6419270038604736s\n",
      "compute-tf-idf-property_count Time: 1.845163106918335s\n"
     ]
    },
    {
     "name": "stderr",
     "output_type": "stream",
     "text": [
      "69it [08:06,  6.04s/it]"
     ]
    },
    {
     "name": "stdout",
     "output_type": "stream",
     "text": [
      "mosaic-features Time: 0.009464740753173828s\n",
      "Qnodes to lookup: 2961\n",
      "Qnodes from file: 2729\n",
      "Outlier removal generates 4 lof-voted candidates\n",
      "Outlier removal generates 4 lof-voted candidates\n",
      "score-using-embedding Time: 0.9251713752746582s\n",
      "compute-tf-idf-class_count Time: 1.4100186824798584s\n",
      "compute-tf-idf-property_count Time: 1.6779389381408691s\n"
     ]
    },
    {
     "name": "stderr",
     "output_type": "stream",
     "text": [
      "70it [08:12,  5.91s/it]"
     ]
    },
    {
     "name": "stdout",
     "output_type": "stream",
     "text": [
      "mosaic-features Time: 0.004695892333984375s\n",
      "Qnodes to lookup: 1700\n",
      "Qnodes from file: 1686\n",
      "Outlier removal generates 4 lof-voted candidates\n",
      "score-using-embedding Time: 0.7061731815338135s\n",
      "compute-tf-idf-class_count Time: 1.0393290519714355s\n",
      "compute-tf-idf-property_count Time: 1.2348873615264893s\n"
     ]
    },
    {
     "name": "stderr",
     "output_type": "stream",
     "text": [
      "71it [08:17,  5.84s/it]"
     ]
    },
    {
     "name": "stdout",
     "output_type": "stream",
     "text": [
      "mosaic-features Time: 0.006477832794189453s\n",
      "Qnodes to lookup: 2200\n",
      "Qnodes from file: 2179\n",
      "Outlier removal generates 4 lof-voted candidates\n",
      "score-using-embedding Time: 0.9006900787353516s\n",
      "compute-tf-idf-class_count Time: 1.2932007312774658s\n",
      "compute-tf-idf-property_count Time: 1.5144498348236084s\n"
     ]
    },
    {
     "name": "stderr",
     "output_type": "stream",
     "text": [
      "72it [08:23,  5.70s/it]"
     ]
    },
    {
     "name": "stdout",
     "output_type": "stream",
     "text": [
      "mosaic-features Time: 0.006670951843261719s\n",
      "Qnodes to lookup: 913\n",
      "Qnodes from file: 904\n",
      "Outlier removal generates 4 lof-voted candidates\n",
      "score-using-embedding Time: 0.713965654373169s\n",
      "compute-tf-idf-class_count Time: 1.0376458168029785s\n",
      "compute-tf-idf-property_count Time: 1.1915979385375977s\n"
     ]
    },
    {
     "name": "stderr",
     "output_type": "stream",
     "text": [
      "73it [08:27,  5.39s/it]"
     ]
    },
    {
     "name": "stdout",
     "output_type": "stream",
     "text": [
      "mosaic-features Time: 0.004998207092285156s\n",
      "Qnodes to lookup: 1491\n",
      "Qnodes from file: 1424\n",
      "Outlier removal generates 4 lof-voted candidates\n",
      "score-using-embedding Time: 0.6806910037994385s\n",
      "compute-tf-idf-class_count Time: 1.520183801651001s\n",
      "compute-tf-idf-property_count Time: 1.1745619773864746s\n"
     ]
    },
    {
     "name": "stderr",
     "output_type": "stream",
     "text": [
      "74it [08:32,  5.26s/it]"
     ]
    },
    {
     "name": "stdout",
     "output_type": "stream",
     "text": [
      "mosaic-features Time: 0.012896060943603516s\n",
      "Qnodes to lookup: 1574\n",
      "Qnodes from file: 1503\n",
      "Outlier removal generates 5 lof-voted candidates\n",
      "Column_vector_stragtegy centroid_of_lof failed\n",
      "score-using-embedding Time: 0.9286770820617676s\n",
      "compute-tf-idf-class_count Time: 1.3917639255523682s\n",
      "compute-tf-idf-property_count Time: 1.64223313331604s\n"
     ]
    },
    {
     "name": "stderr",
     "output_type": "stream",
     "text": [
      "75it [08:38,  5.36s/it]"
     ]
    },
    {
     "name": "stdout",
     "output_type": "stream",
     "text": [
      "mosaic-features Time: 0.005666971206665039s\n",
      "Qnodes to lookup: 1825\n",
      "Qnodes from file: 1800\n",
      "Outlier removal generates 6 lof-voted candidates\n",
      "score-using-embedding Time: 0.7427997589111328s\n",
      "compute-tf-idf-class_count Time: 1.0934300422668457s\n",
      "compute-tf-idf-property_count Time: 1.2998597621917725s\n"
     ]
    },
    {
     "name": "stderr",
     "output_type": "stream",
     "text": [
      "76it [08:43,  5.29s/it]"
     ]
    },
    {
     "name": "stdout",
     "output_type": "stream",
     "text": [
      "mosaic-features Time: 0.007302999496459961s\n",
      "Qnodes to lookup: 1442\n",
      "Qnodes from file: 1418\n",
      "Outlier removal generates 4 lof-voted candidates\n",
      "score-using-embedding Time: 0.865058183670044s\n",
      "compute-tf-idf-class_count Time: 1.2552640438079834s\n",
      "compute-tf-idf-property_count Time: 1.4396698474884033s\n"
     ]
    },
    {
     "name": "stderr",
     "output_type": "stream",
     "text": [
      "77it [08:51,  5.96s/it]"
     ]
    },
    {
     "name": "stdout",
     "output_type": "stream",
     "text": [
      "mosaic-features Time: 0.021297931671142578s\n",
      "Qnodes to lookup: 1989\n",
      "Qnodes from file: 1979\n",
      "Outlier removal generates 4 lof-voted candidates\n",
      "Column_vector_stragtegy centroid_of_lof failed\n",
      "Column_vector_stragtegy centroid_of_lof failed\n",
      "score-using-embedding Time: 1.7527010440826416s\n",
      "compute-tf-idf-class_count Time: 2.422231912612915s\n",
      "compute-tf-idf-property_count Time: 2.7975051403045654s\n"
     ]
    },
    {
     "name": "stderr",
     "output_type": "stream",
     "text": [
      "78it [09:02,  7.56s/it]"
     ]
    },
    {
     "name": "stdout",
     "output_type": "stream",
     "text": [
      "mosaic-features Time: 0.005780935287475586s\n",
      "Qnodes to lookup: 1447\n",
      "Qnodes from file: 1443\n",
      "Column_vector_stragtegy centroid_of_lof failed\n",
      "score-using-embedding Time: 1.205307960510254s\n",
      "compute-tf-idf-class_count Time: 1.4721198081970215s\n",
      "compute-tf-idf-property_count Time: 1.620751142501831s\n"
     ]
    },
    {
     "name": "stderr",
     "output_type": "stream",
     "text": [
      "79it [09:12,  8.33s/it]"
     ]
    },
    {
     "name": "stdout",
     "output_type": "stream",
     "text": [
      "mosaic-features Time: 0.014888763427734375s\n",
      "Qnodes to lookup: 4237\n",
      "Qnodes from file: 4168\n",
      "Outlier removal generates 5 lof-voted candidates\n",
      "Outlier removal generates 4 lof-voted candidates\n",
      "score-using-embedding Time: 1.499189853668213s\n",
      "compute-tf-idf-class_count Time: 2.1626298427581787s\n",
      "compute-tf-idf-property_count Time: 2.5438849925994873s\n"
     ]
    },
    {
     "name": "stderr",
     "output_type": "stream",
     "text": [
      "80it [09:23,  9.13s/it]"
     ]
    },
    {
     "name": "stdout",
     "output_type": "stream",
     "text": [
      "mosaic-features Time: 0.00590205192565918s\n",
      "Qnodes to lookup: 783\n",
      "Qnodes from file: 770\n",
      "Outlier removal generates 5 lof-voted candidates\n",
      "score-using-embedding Time: 0.6867649555206299s\n",
      "compute-tf-idf-class_count Time: 0.9937877655029297s\n",
      "compute-tf-idf-property_count Time: 1.0895371437072754s\n"
     ]
    },
    {
     "name": "stderr",
     "output_type": "stream",
     "text": [
      "81it [09:32,  8.94s/it]"
     ]
    },
    {
     "name": "stdout",
     "output_type": "stream",
     "text": [
      "mosaic-features Time: 0.0065460205078125s\n",
      "Qnodes to lookup: 1362\n",
      "Qnodes from file: 1359\n",
      "Outlier removal generates 5 lof-voted candidates\n",
      "score-using-embedding Time: 1.9102129936218262s\n",
      "compute-tf-idf-class_count Time: 2.2747159004211426s\n",
      "compute-tf-idf-property_count Time: 2.43562388420105s\n"
     ]
    },
    {
     "name": "stderr",
     "output_type": "stream",
     "text": [
      "82it [09:38,  8.21s/it]"
     ]
    },
    {
     "name": "stdout",
     "output_type": "stream",
     "text": [
      "mosaic-features Time: 0.018793106079101562s\n",
      "Qnodes to lookup: 4928\n",
      "Qnodes from file: 4846\n",
      "Outlier removal generates 2 lof-voted candidates\n",
      "Outlier removal generates 4 lof-voted candidates\n",
      "Column_vector_stragtegy centroid_of_lof failed\n",
      "score-using-embedding Time: 1.6516218185424805s\n",
      "compute-tf-idf-class_count Time: 2.4733729362487793s\n",
      "compute-tf-idf-property_count Time: 3.0249948501586914s\n"
     ]
    },
    {
     "name": "stderr",
     "output_type": "stream",
     "text": [
      "83it [09:45,  7.81s/it]"
     ]
    },
    {
     "name": "stdout",
     "output_type": "stream",
     "text": [
      "mosaic-features Time: 0.009820222854614258s\n",
      "Qnodes to lookup: 1794\n",
      "Qnodes from file: 1771\n",
      "Outlier removal generates 4 lof-voted candidates\n",
      "Column_vector_stragtegy centroid_of_lof failed\n",
      "score-using-embedding Time: 0.9422049522399902s\n",
      "compute-tf-idf-class_count Time: 1.4403822422027588s\n",
      "compute-tf-idf-property_count Time: 1.6916489601135254s\n"
     ]
    },
    {
     "name": "stderr",
     "output_type": "stream",
     "text": [
      "84it [09:52,  7.69s/it]"
     ]
    },
    {
     "name": "stdout",
     "output_type": "stream",
     "text": [
      "mosaic-features Time: 0.012861013412475586s\n",
      "Qnodes to lookup: 2634\n",
      "Qnodes from file: 2601\n",
      "Outlier removal generates 4 lof-voted candidates\n",
      "Column_vector_stragtegy centroid_of_lof failed\n",
      "score-using-embedding Time: 1.2243430614471436s\n",
      "compute-tf-idf-class_count Time: 1.8056190013885498s\n",
      "compute-tf-idf-property_count Time: 2.1721911430358887s\n"
     ]
    },
    {
     "name": "stderr",
     "output_type": "stream",
     "text": [
      "85it [09:58,  7.11s/it]"
     ]
    },
    {
     "name": "stdout",
     "output_type": "stream",
     "text": [
      "mosaic-features Time: 0.0083770751953125s\n",
      "Qnodes to lookup: 2042\n",
      "Qnodes from file: 2023\n",
      "Outlier removal generates 5 lof-voted candidates\n",
      "score-using-embedding Time: 0.7603640556335449s\n",
      "compute-tf-idf-class_count Time: 1.1165549755096436s\n",
      "compute-tf-idf-property_count Time: 1.3097453117370605s\n"
     ]
    },
    {
     "name": "stderr",
     "output_type": "stream",
     "text": [
      "86it [10:03,  6.46s/it]"
     ]
    },
    {
     "name": "stdout",
     "output_type": "stream",
     "text": [
      "mosaic-features Time: 0.013440847396850586s\n",
      "Qnodes to lookup: 4609\n",
      "Qnodes from file: 4530\n",
      "Outlier removal generates 5 lof-voted candidates\n",
      "Outlier removal generates 4 lof-voted candidates\n",
      "Outlier removal generates 4 lof-voted candidates\n",
      "score-using-embedding Time: 1.3585617542266846s\n",
      "compute-tf-idf-class_count Time: 2.0548369884490967s\n",
      "compute-tf-idf-property_count Time: 2.451310157775879s\n"
     ]
    },
    {
     "name": "stderr",
     "output_type": "stream",
     "text": [
      "87it [10:09,  6.39s/it]"
     ]
    },
    {
     "name": "stdout",
     "output_type": "stream",
     "text": [
      "mosaic-features Time: 0.013620853424072266s\n",
      "Qnodes to lookup: 5324\n",
      "Qnodes from file: 5134\n",
      "Outlier removal generates 4 lof-voted candidates\n",
      "Outlier removal generates 5 lof-voted candidates\n",
      "Outlier removal generates 4 lof-voted candidates\n",
      "score-using-embedding Time: 1.144214153289795s\n",
      "compute-tf-idf-class_count Time: 1.7252490520477295s\n",
      "compute-tf-idf-property_count Time: 2.062124013900757s\n"
     ]
    },
    {
     "name": "stderr",
     "output_type": "stream",
     "text": [
      "88it [10:15,  6.23s/it]"
     ]
    },
    {
     "name": "stdout",
     "output_type": "stream",
     "text": [
      "mosaic-features Time: 0.014590978622436523s\n",
      "Qnodes to lookup: 2890\n",
      "Qnodes from file: 2825\n",
      "Outlier removal generates 5 lof-voted candidates\n",
      "Outlier removal generates 5 lof-voted candidates\n",
      "Outlier removal generates 5 lof-voted candidates\n",
      "score-using-embedding Time: 1.2264878749847412s\n",
      "compute-tf-idf-class_count Time: 1.8430988788604736s\n",
      "compute-tf-idf-property_count Time: 2.1799476146698s\n"
     ]
    },
    {
     "name": "stderr",
     "output_type": "stream",
     "text": [
      "89it [10:22,  6.42s/it]"
     ]
    },
    {
     "name": "stdout",
     "output_type": "stream",
     "text": [
      "mosaic-features Time: 0.021895885467529297s\n",
      "Qnodes to lookup: 6298\n",
      "Qnodes from file: 6150\n",
      "Outlier removal generates 5 lof-voted candidates\n",
      "Outlier removal generates 4 lof-voted candidates\n",
      "Outlier removal generates 2 lof-voted candidates\n",
      "Outlier removal generates 4 lof-voted candidates\n",
      "score-using-embedding Time: 1.861057996749878s\n",
      "compute-tf-idf-class_count Time: 2.894818067550659s\n",
      "compute-tf-idf-property_count Time: 3.59781813621521s\n"
     ]
    },
    {
     "name": "stderr",
     "output_type": "stream",
     "text": [
      "90it [10:30,  6.81s/it]"
     ]
    },
    {
     "name": "stdout",
     "output_type": "stream",
     "text": [
      "mosaic-features Time: 0.00658106803894043s\n",
      "Qnodes to lookup: 1728\n",
      "Qnodes from file: 1706\n",
      "Outlier removal generates 2 lof-voted candidates\n",
      "score-using-embedding Time: 0.7435770034790039s\n",
      "compute-tf-idf-class_count Time: 1.102020025253296s\n",
      "compute-tf-idf-property_count Time: 1.2780632972717285s\n"
     ]
    },
    {
     "name": "stderr",
     "output_type": "stream",
     "text": [
      "91it [10:35,  6.23s/it]"
     ]
    },
    {
     "name": "stdout",
     "output_type": "stream",
     "text": [
      "mosaic-features Time: 0.01780080795288086s\n",
      "Qnodes to lookup: 3793\n",
      "Qnodes from file: 3729\n",
      "Outlier removal generates 3 lof-voted candidates\n",
      "Outlier removal generates 5 lof-voted candidates\n",
      "Column_vector_stragtegy centroid_of_lof failed\n",
      "score-using-embedding Time: 1.6067578792572021s\n",
      "compute-tf-idf-class_count Time: 2.3491251468658447s\n",
      "compute-tf-idf-property_count Time: 2.822432041168213s\n"
     ]
    },
    {
     "name": "stderr",
     "output_type": "stream",
     "text": [
      "92it [10:41,  6.36s/it]"
     ]
    },
    {
     "name": "stdout",
     "output_type": "stream",
     "text": [
      "mosaic-features Time: 0.013902902603149414s\n",
      "Qnodes to lookup: 1836\n",
      "Qnodes from file: 1816\n",
      "Outlier removal generates 5 lof-voted candidates\n",
      "Outlier removal generates 4 lof-voted candidates\n",
      "score-using-embedding Time: 0.9902069568634033s\n",
      "compute-tf-idf-class_count Time: 1.5610079765319824s\n",
      "compute-tf-idf-property_count Time: 1.8524610996246338s\n"
     ]
    },
    {
     "name": "stderr",
     "output_type": "stream",
     "text": [
      "93it [10:46,  6.02s/it]"
     ]
    },
    {
     "name": "stdout",
     "output_type": "stream",
     "text": [
      "mosaic-features Time: 0.007328987121582031s\n",
      "Qnodes to lookup: 1746\n",
      "Qnodes from file: 1717\n",
      "Outlier removal generates 4 lof-voted candidates\n",
      "score-using-embedding Time: 1.120675802230835s\n",
      "compute-tf-idf-class_count Time: 1.4823880195617676s\n",
      "compute-tf-idf-property_count Time: 1.7000048160552979s\n"
     ]
    },
    {
     "name": "stderr",
     "output_type": "stream",
     "text": [
      "94it [10:52,  5.97s/it]"
     ]
    },
    {
     "name": "stdout",
     "output_type": "stream",
     "text": [
      "mosaic-features Time: 0.014132022857666016s\n",
      "Qnodes to lookup: 3157\n",
      "Qnodes from file: 3121\n",
      "Outlier removal generates 5 lof-voted candidates\n",
      "Outlier removal generates 5 lof-voted candidates\n",
      "Outlier removal generates 3 lof-voted candidates\n",
      "score-using-embedding Time: 1.1068449020385742s\n",
      "compute-tf-idf-class_count Time: 1.7160849571228027s\n",
      "compute-tf-idf-property_count Time: 2.053738832473755s\n"
     ]
    },
    {
     "name": "stderr",
     "output_type": "stream",
     "text": [
      "95it [10:58,  5.87s/it]"
     ]
    },
    {
     "name": "stdout",
     "output_type": "stream",
     "text": [
      "mosaic-features Time: 0.01482391357421875s\n",
      "Qnodes to lookup: 1495\n",
      "Qnodes from file: 1477\n",
      "Outlier removal generates 5 lof-voted candidates\n",
      "Column_vector_stragtegy centroid_of_lof failed\n",
      "score-using-embedding Time: 1.3387227058410645s\n",
      "compute-tf-idf-class_count Time: 1.801422119140625s\n",
      "compute-tf-idf-property_count Time: 2.0686089992523193s\n"
     ]
    },
    {
     "name": "stderr",
     "output_type": "stream",
     "text": [
      "96it [11:04,  6.01s/it]"
     ]
    },
    {
     "name": "stdout",
     "output_type": "stream",
     "text": [
      "mosaic-features Time: 0.008890151977539062s\n",
      "Qnodes to lookup: 858\n",
      "Qnodes from file: 850\n",
      "Outlier removal generates 6 lof-voted candidates\n",
      "score-using-embedding Time: 1.9877381324768066s\n",
      "compute-tf-idf-class_count Time: 2.390565872192383s\n",
      "compute-tf-idf-property_count Time: 2.9371531009674072s\n"
     ]
    },
    {
     "name": "stderr",
     "output_type": "stream",
     "text": [
      "97it [11:13,  6.79s/it]"
     ]
    },
    {
     "name": "stdout",
     "output_type": "stream",
     "text": [
      "mosaic-features Time: 0.021804094314575195s\n",
      "Qnodes to lookup: 2648\n",
      "Qnodes from file: 2615\n",
      "Outlier removal generates 4 lof-voted candidates\n",
      "Outlier removal generates 3 lof-voted candidates\n",
      "Outlier removal generates 4 lof-voted candidates\n",
      "Outlier removal generates 4 lof-voted candidates\n",
      "score-using-embedding Time: 2.416146755218506s\n",
      "compute-tf-idf-class_count Time: 3.2947399616241455s\n",
      "compute-tf-idf-property_count Time: 3.9192183017730713s\n"
     ]
    },
    {
     "name": "stderr",
     "output_type": "stream",
     "text": [
      "98it [11:24,  8.15s/it]"
     ]
    },
    {
     "name": "stdout",
     "output_type": "stream",
     "text": [
      "mosaic-features Time: 0.005255937576293945s\n",
      "Qnodes to lookup: 2093\n",
      "Qnodes from file: 2038\n",
      "Outlier removal generates 4 lof-voted candidates\n",
      "score-using-embedding Time: 1.9381322860717773s\n",
      "compute-tf-idf-class_count Time: 2.3630411624908447s\n",
      "compute-tf-idf-property_count Time: 2.8404958248138428s\n"
     ]
    },
    {
     "name": "stderr",
     "output_type": "stream",
     "text": [
      "99it [11:34,  8.61s/it]"
     ]
    },
    {
     "name": "stdout",
     "output_type": "stream",
     "text": [
      "mosaic-features Time: 0.013474225997924805s\n",
      "Qnodes to lookup: 3042\n",
      "Qnodes from file: 3012\n",
      "Outlier removal generates 4 lof-voted candidates\n",
      "Outlier removal generates 2 lof-voted candidates\n",
      "score-using-embedding Time: 1.0788910388946533s\n",
      "compute-tf-idf-class_count Time: 1.5500619411468506s\n",
      "compute-tf-idf-property_count Time: 1.8651189804077148s\n"
     ]
    },
    {
     "name": "stderr",
     "output_type": "stream",
     "text": [
      "100it [11:42,  8.42s/it]"
     ]
    },
    {
     "name": "stdout",
     "output_type": "stream",
     "text": [
      "mosaic-features Time: 0.023724079132080078s\n",
      "Qnodes to lookup: 6043\n",
      "Qnodes from file: 5943\n",
      "Outlier removal generates 6 lof-voted candidates\n",
      "Outlier removal generates 4 lof-voted candidates\n",
      "Outlier removal generates 3 lof-voted candidates\n",
      "Column_vector_stragtegy centroid_of_lof failed\n",
      "score-using-embedding Time: 1.8416748046875s\n",
      "compute-tf-idf-class_count Time: 2.8577709197998047s\n",
      "compute-tf-idf-property_count Time: 3.4357471466064453s\n"
     ]
    },
    {
     "name": "stderr",
     "output_type": "stream",
     "text": [
      "101it [11:51,  8.69s/it]"
     ]
    },
    {
     "name": "stdout",
     "output_type": "stream",
     "text": [
      "mosaic-features Time: 0.006697177886962891s\n",
      "Qnodes to lookup: 2532\n",
      "Qnodes from file: 2501\n",
      "Outlier removal generates 4 lof-voted candidates\n",
      "score-using-embedding Time: 0.8221249580383301s\n",
      "compute-tf-idf-class_count Time: 1.2250258922576904s\n",
      "compute-tf-idf-property_count Time: 1.4243099689483643s\n"
     ]
    },
    {
     "name": "stderr",
     "output_type": "stream",
     "text": [
      "102it [11:57,  7.90s/it]"
     ]
    },
    {
     "name": "stdout",
     "output_type": "stream",
     "text": [
      "mosaic-features Time: 0.018842220306396484s\n",
      "Qnodes to lookup: 6708\n",
      "Qnodes from file: 6615\n",
      "Outlier removal generates 5 lof-voted candidates\n",
      "Outlier removal generates 4 lof-voted candidates\n",
      "Outlier removal generates 3 lof-voted candidates\n",
      "score-using-embedding Time: 1.5876550674438477s\n",
      "compute-tf-idf-class_count Time: 2.45220685005188s\n",
      "compute-tf-idf-property_count Time: 3.1170811653137207s\n"
     ]
    },
    {
     "name": "stderr",
     "output_type": "stream",
     "text": [
      "103it [12:04,  7.66s/it]"
     ]
    },
    {
     "name": "stdout",
     "output_type": "stream",
     "text": [
      "mosaic-features Time: 0.012176990509033203s\n",
      "Qnodes to lookup: 831\n",
      "Qnodes from file: 831\n",
      "Outlier removal generates 2 lof-voted candidates\n",
      "Outlier removal generates 2 lof-voted candidates\n",
      "score-using-embedding Time: 0.9121122360229492s\n",
      "compute-tf-idf-class_count Time: 1.3192059993743896s\n",
      "compute-tf-idf-property_count Time: 1.6170449256896973s\n"
     ]
    },
    {
     "name": "stderr",
     "output_type": "stream",
     "text": [
      "104it [12:10,  6.97s/it]"
     ]
    },
    {
     "name": "stdout",
     "output_type": "stream",
     "text": [
      "mosaic-features Time: 0.0058519840240478516s\n",
      "Qnodes to lookup: 1060\n",
      "Qnodes from file: 1028\n",
      "Outlier removal generates 6 lof-voted candidates\n",
      "score-using-embedding Time: 1.357450008392334s\n",
      "compute-tf-idf-class_count Time: 2.4294731616973877s\n",
      "compute-tf-idf-property_count Time: 2.616914987564087s\n"
     ]
    },
    {
     "name": "stderr",
     "output_type": "stream",
     "text": [
      "105it [12:16,  6.75s/it]"
     ]
    },
    {
     "name": "stdout",
     "output_type": "stream",
     "text": [
      "mosaic-features Time: 0.015480756759643555s\n",
      "Qnodes to lookup: 3347\n",
      "Qnodes from file: 3288\n",
      "Column_vector_stragtegy centroid_of_lof failed\n",
      "score-using-embedding Time: 0.9932317733764648s\n",
      "compute-tf-idf-class_count Time: 1.519740104675293s\n",
      "compute-tf-idf-property_count Time: 1.8075029850006104s\n"
     ]
    },
    {
     "name": "stderr",
     "output_type": "stream",
     "text": [
      "106it [12:21,  6.31s/it]"
     ]
    },
    {
     "name": "stdout",
     "output_type": "stream",
     "text": [
      "mosaic-features Time: 0.0063250064849853516s\n",
      "Qnodes to lookup: 2182\n",
      "Qnodes from file: 2124\n",
      "Outlier removal generates 5 lof-voted candidates\n",
      "score-using-embedding Time: 1.1143438816070557s\n",
      "compute-tf-idf-class_count Time: 1.5097341537475586s\n",
      "compute-tf-idf-property_count Time: 1.673692226409912s\n"
     ]
    },
    {
     "name": "stderr",
     "output_type": "stream",
     "text": [
      "107it [12:27,  6.22s/it]"
     ]
    },
    {
     "name": "stdout",
     "output_type": "stream",
     "text": [
      "mosaic-features Time: 0.016337156295776367s\n",
      "Qnodes to lookup: 4395\n",
      "Qnodes from file: 4354\n",
      "Outlier removal generates 4 lof-voted candidates\n",
      "Outlier removal generates 5 lof-voted candidates\n",
      "Outlier removal generates 4 lof-voted candidates\n",
      "score-using-embedding Time: 1.205021858215332s\n",
      "compute-tf-idf-class_count Time: 1.8748528957366943s\n",
      "compute-tf-idf-property_count Time: 2.293241262435913s\n"
     ]
    },
    {
     "name": "stderr",
     "output_type": "stream",
     "text": [
      "108it [12:33,  6.20s/it]"
     ]
    },
    {
     "name": "stdout",
     "output_type": "stream",
     "text": [
      "mosaic-features Time: 0.017082929611206055s\n",
      "Qnodes to lookup: 6005\n",
      "Qnodes from file: 5929\n",
      "Outlier removal generates 4 lof-voted candidates\n",
      "Outlier removal generates 3 lof-voted candidates\n",
      "Outlier removal generates 4 lof-voted candidates\n",
      "score-using-embedding Time: 1.539659023284912s\n",
      "compute-tf-idf-class_count Time: 2.3492379188537598s\n",
      "compute-tf-idf-property_count Time: 2.8899948596954346s\n"
     ]
    },
    {
     "name": "stderr",
     "output_type": "stream",
     "text": [
      "109it [12:40,  6.40s/it]"
     ]
    },
    {
     "name": "stdout",
     "output_type": "stream",
     "text": [
      "mosaic-features Time: 0.009380102157592773s\n",
      "Qnodes to lookup: 2633\n",
      "Qnodes from file: 2591\n",
      "Outlier removal generates 4 lof-voted candidates\n",
      "Outlier removal generates 5 lof-voted candidates\n",
      "score-using-embedding Time: 1.0666918754577637s\n",
      "compute-tf-idf-class_count Time: 1.5823030471801758s\n",
      "compute-tf-idf-property_count Time: 1.915565013885498s\n"
     ]
    },
    {
     "name": "stderr",
     "output_type": "stream",
     "text": [
      "110it [12:46,  6.35s/it]"
     ]
    },
    {
     "name": "stdout",
     "output_type": "stream",
     "text": [
      "mosaic-features Time: 0.0126190185546875s\n",
      "Qnodes to lookup: 4002\n",
      "Qnodes from file: 3949\n",
      "Outlier removal generates 4 lof-voted candidates\n",
      "Outlier removal generates 4 lof-voted candidates\n",
      "score-using-embedding Time: 1.115056037902832s\n",
      "compute-tf-idf-class_count Time: 1.682420253753662s\n",
      "compute-tf-idf-property_count Time: 1.989626169204712s\n"
     ]
    },
    {
     "name": "stderr",
     "output_type": "stream",
     "text": [
      "111it [12:52,  6.06s/it]"
     ]
    },
    {
     "name": "stdout",
     "output_type": "stream",
     "text": [
      "mosaic-features Time: 0.01537775993347168s\n",
      "Qnodes to lookup: 2115\n",
      "Qnodes from file: 2086\n",
      "Outlier removal generates 5 lof-voted candidates\n",
      "Outlier removal generates 3 lof-voted candidates\n",
      "score-using-embedding Time: 1.3967430591583252s\n",
      "compute-tf-idf-class_count Time: 1.9978649616241455s\n",
      "compute-tf-idf-property_count Time: 2.369361162185669s\n"
     ]
    },
    {
     "name": "stderr",
     "output_type": "stream",
     "text": [
      "112it [12:58,  5.97s/it]"
     ]
    },
    {
     "name": "stdout",
     "output_type": "stream",
     "text": [
      "mosaic-features Time: 0.005937099456787109s\n",
      "Qnodes to lookup: 1946\n",
      "Qnodes from file: 1866\n",
      "Outlier removal generates 5 lof-voted candidates\n",
      "score-using-embedding Time: 0.7902860641479492s\n",
      "compute-tf-idf-class_count Time: 1.187276840209961s\n",
      "compute-tf-idf-property_count Time: 1.3741161823272705s\n"
     ]
    },
    {
     "name": "stderr",
     "output_type": "stream",
     "text": [
      "113it [13:03,  5.65s/it]"
     ]
    },
    {
     "name": "stdout",
     "output_type": "stream",
     "text": [
      "mosaic-features Time: 0.007481813430786133s\n",
      "Qnodes to lookup: 1555\n",
      "Qnodes from file: 1526\n",
      "Outlier removal generates 3 lof-voted candidates\n",
      "score-using-embedding Time: 1.0667598247528076s\n",
      "compute-tf-idf-class_count Time: 1.442112684249878s\n",
      "compute-tf-idf-property_count Time: 1.636199951171875s\n"
     ]
    },
    {
     "name": "stderr",
     "output_type": "stream",
     "text": [
      "114it [13:08,  5.56s/it]"
     ]
    },
    {
     "name": "stdout",
     "output_type": "stream",
     "text": [
      "mosaic-features Time: 0.00570225715637207s\n",
      "Qnodes to lookup: 1312\n",
      "Qnodes from file: 1301\n",
      "Outlier removal generates 3 lof-voted candidates\n",
      "score-using-embedding Time: 0.637930154800415s\n",
      "compute-tf-idf-class_count Time: 0.9381580352783203s\n",
      "compute-tf-idf-property_count Time: 1.0980749130249023s\n"
     ]
    },
    {
     "name": "stderr",
     "output_type": "stream",
     "text": [
      "115it [13:12,  5.23s/it]"
     ]
    },
    {
     "name": "stdout",
     "output_type": "stream",
     "text": [
      "mosaic-features Time: 0.012577056884765625s\n",
      "Qnodes to lookup: 1346\n",
      "Qnodes from file: 1322\n",
      "Outlier removal generates 2 lof-voted candidates\n",
      "Column_vector_stragtegy centroid_of_lof failed\n",
      "Column_vector_stragtegy centroid_of_lof failed\n",
      "score-using-embedding Time: 1.0553948879241943s\n",
      "compute-tf-idf-class_count Time: 2.0955681800842285s\n",
      "compute-tf-idf-property_count Time: 2.4276092052459717s\n"
     ]
    },
    {
     "name": "stderr",
     "output_type": "stream",
     "text": [
      "116it [13:18,  5.41s/it]"
     ]
    },
    {
     "name": "stdout",
     "output_type": "stream",
     "text": [
      "mosaic-features Time: 0.015027999877929688s\n",
      "Qnodes to lookup: 7076\n",
      "Qnodes from file: 7024\n",
      "Outlier removal generates 5 lof-voted candidates\n",
      "Column_vector_stragtegy centroid_of_lof failed\n",
      "Outlier removal generates 4 lof-voted candidates\n",
      "score-using-embedding Time: 1.4515492916107178s\n",
      "compute-tf-idf-class_count Time: 2.2291059494018555s\n",
      "compute-tf-idf-property_count Time: 2.750898838043213s\n"
     ]
    },
    {
     "name": "stderr",
     "output_type": "stream",
     "text": [
      "117it [13:26,  6.24s/it]"
     ]
    },
    {
     "name": "stdout",
     "output_type": "stream",
     "text": [
      "mosaic-features Time: 0.01576519012451172s\n",
      "Qnodes to lookup: 2673\n",
      "Qnodes from file: 2656\n",
      "Outlier removal generates 5 lof-voted candidates\n",
      "Outlier removal generates 5 lof-voted candidates\n",
      "score-using-embedding Time: 1.2851860523223877s\n",
      "compute-tf-idf-class_count Time: 1.9400229454040527s\n",
      "compute-tf-idf-property_count Time: 2.2174839973449707s\n"
     ]
    },
    {
     "name": "stderr",
     "output_type": "stream",
     "text": [
      "118it [13:37,  7.47s/it]"
     ]
    },
    {
     "name": "stdout",
     "output_type": "stream",
     "text": [
      "mosaic-features Time: 0.03918576240539551s\n",
      "Qnodes to lookup: 329\n",
      "Qnodes from file: 326\n",
      "Outlier removal generates 2 lof-voted candidates\n",
      "Column_vector_stragtegy centroid_of_lof failed\n",
      "Outlier removal generates 5 lof-voted candidates\n",
      "Outlier removal generates 5 lof-voted candidates\n",
      "score-using-embedding Time: 2.595883846282959s\n",
      "compute-tf-idf-class_count Time: 3.842481851577759s\n",
      "compute-tf-idf-property_count Time: 5.184261083602905s\n"
     ]
    },
    {
     "name": "stderr",
     "output_type": "stream",
     "text": [
      "119it [13:51,  9.59s/it]"
     ]
    },
    {
     "name": "stdout",
     "output_type": "stream",
     "text": [
      "mosaic-features Time: 0.008214712142944336s\n",
      "Qnodes to lookup: 2093\n",
      "Qnodes from file: 2070\n",
      "Outlier removal generates 4 lof-voted candidates\n",
      "Outlier removal generates 5 lof-voted candidates\n",
      "score-using-embedding Time: 0.9201641082763672s\n",
      "compute-tf-idf-class_count Time: 1.4025640487670898s\n",
      "compute-tf-idf-property_count Time: 1.661057949066162s\n"
     ]
    },
    {
     "name": "stderr",
     "output_type": "stream",
     "text": [
      "120it [13:57,  8.56s/it]"
     ]
    },
    {
     "name": "stdout",
     "output_type": "stream",
     "text": [
      "mosaic-features Time: 0.015530109405517578s\n",
      "Qnodes to lookup: 1564\n",
      "Qnodes from file: 1539\n",
      "Outlier removal generates 4 lof-voted candidates\n",
      "Column_vector_stragtegy centroid_of_lof failed\n",
      "score-using-embedding Time: 1.5254218578338623s\n",
      "compute-tf-idf-class_count Time: 2.087609052658081s\n",
      "compute-tf-idf-property_count Time: 2.2692108154296875s\n"
     ]
    },
    {
     "name": "stderr",
     "output_type": "stream",
     "text": [
      "121it [14:05,  8.13s/it]"
     ]
    },
    {
     "name": "stdout",
     "output_type": "stream",
     "text": [
      "mosaic-features Time: 0.007537126541137695s\n",
      "Qnodes to lookup: 2017\n",
      "Qnodes from file: 1997\n",
      "Outlier removal generates 4 lof-voted candidates\n",
      "score-using-embedding Time: 0.7711770534515381s\n",
      "compute-tf-idf-class_count Time: 1.1358668804168701s\n",
      "compute-tf-idf-property_count Time: 1.3527820110321045s\n"
     ]
    },
    {
     "name": "stderr",
     "output_type": "stream",
     "text": [
      "122it [14:09,  7.16s/it]"
     ]
    },
    {
     "name": "stdout",
     "output_type": "stream",
     "text": [
      "mosaic-features Time: 0.008024930953979492s\n",
      "Qnodes to lookup: 546\n",
      "Qnodes from file: 535\n",
      "Column_vector_stragtegy centroid_of_lof failed\n",
      "score-using-embedding Time: 0.7616288661956787s\n",
      "compute-tf-idf-class_count Time: 1.105942964553833s\n",
      "compute-tf-idf-property_count Time: 1.302656888961792s\n"
     ]
    },
    {
     "name": "stderr",
     "output_type": "stream",
     "text": [
      "123it [14:18,  7.50s/it]"
     ]
    },
    {
     "name": "stdout",
     "output_type": "stream",
     "text": [
      "mosaic-features Time: 0.02366018295288086s\n",
      "Qnodes to lookup: 6628\n",
      "Qnodes from file: 6462\n",
      "Outlier removal generates 3 lof-voted candidates\n",
      "Outlier removal generates 4 lof-voted candidates\n",
      "Outlier removal generates 5 lof-voted candidates\n",
      "score-using-embedding Time: 1.7019681930541992s\n",
      "compute-tf-idf-class_count Time: 2.600160837173462s\n",
      "compute-tf-idf-property_count Time: 3.168850898742676s\n"
     ]
    },
    {
     "name": "stderr",
     "output_type": "stream",
     "text": [
      "124it [14:26,  7.66s/it]"
     ]
    },
    {
     "name": "stdout",
     "output_type": "stream",
     "text": [
      "mosaic-features Time: 0.010136127471923828s\n",
      "Qnodes to lookup: 2087\n",
      "Qnodes from file: 2025\n",
      "Outlier removal generates 5 lof-voted candidates\n",
      "Outlier removal generates 5 lof-voted candidates\n",
      "score-using-embedding Time: 0.9162838459014893s\n",
      "compute-tf-idf-class_count Time: 1.353626012802124s\n",
      "compute-tf-idf-property_count Time: 1.6248149871826172s\n"
     ]
    },
    {
     "name": "stderr",
     "output_type": "stream",
     "text": [
      "125it [14:31,  6.89s/it]"
     ]
    },
    {
     "name": "stdout",
     "output_type": "stream",
     "text": [
      "mosaic-features Time: 0.025648117065429688s\n",
      "Qnodes to lookup: 1360\n",
      "Qnodes from file: 1354\n",
      "Column_vector_stragtegy centroid_of_lof failed\n",
      "Column_vector_stragtegy centroid_of_lof failed\n",
      "Outlier removal generates 5 lof-voted candidates\n",
      "Column_vector_stragtegy centroid_of_lof failed\n",
      "score-using-embedding Time: 1.5901992321014404s\n",
      "compute-tf-idf-class_count Time: 2.312577962875366s\n",
      "compute-tf-idf-property_count Time: 2.8615312576293945s\n"
     ]
    },
    {
     "name": "stderr",
     "output_type": "stream",
     "text": [
      "126it [14:37,  6.79s/it]"
     ]
    },
    {
     "name": "stdout",
     "output_type": "stream",
     "text": [
      "mosaic-features Time: 0.022420883178710938s\n",
      "Qnodes to lookup: 4033\n",
      "Qnodes from file: 3970\n",
      "Outlier removal generates 5 lof-voted candidates\n",
      "Column_vector_stragtegy centroid_of_lof failed\n",
      "Outlier removal generates 4 lof-voted candidates\n",
      "score-using-embedding Time: 1.6745610237121582s\n",
      "compute-tf-idf-class_count Time: 2.4207448959350586s\n",
      "compute-tf-idf-property_count Time: 2.9188642501831055s\n"
     ]
    },
    {
     "name": "stderr",
     "output_type": "stream",
     "text": [
      "127it [14:44,  6.83s/it]"
     ]
    },
    {
     "name": "stdout",
     "output_type": "stream",
     "text": [
      "mosaic-features Time: 0.007622241973876953s\n",
      "Qnodes to lookup: 2517\n",
      "Qnodes from file: 2451\n",
      "Outlier removal generates 5 lof-voted candidates\n",
      "score-using-embedding Time: 0.7699971199035645s\n",
      "compute-tf-idf-class_count Time: 1.184852123260498s\n",
      "compute-tf-idf-property_count Time: 1.3964180946350098s\n"
     ]
    },
    {
     "name": "stderr",
     "output_type": "stream",
     "text": [
      "128it [14:49,  6.24s/it]"
     ]
    },
    {
     "name": "stdout",
     "output_type": "stream",
     "text": [
      "mosaic-features Time: 0.01642298698425293s\n",
      "Qnodes to lookup: 3037\n",
      "Qnodes from file: 2989\n",
      "Outlier removal generates 6 lof-voted candidates\n",
      "Outlier removal generates 5 lof-voted candidates\n",
      "Outlier removal generates 4 lof-voted candidates\n",
      "score-using-embedding Time: 1.2563350200653076s\n",
      "compute-tf-idf-class_count Time: 1.8781428337097168s\n",
      "compute-tf-idf-property_count Time: 2.2783122062683105s\n"
     ]
    },
    {
     "name": "stderr",
     "output_type": "stream",
     "text": [
      "129it [14:56,  6.40s/it]"
     ]
    },
    {
     "name": "stdout",
     "output_type": "stream",
     "text": [
      "mosaic-features Time: 0.005712032318115234s\n",
      "Qnodes to lookup: 1914\n",
      "Qnodes from file: 1888\n",
      "Outlier removal generates 5 lof-voted candidates\n",
      "score-using-embedding Time: 0.8906891345977783s\n",
      "compute-tf-idf-class_count Time: 1.383033037185669s\n",
      "compute-tf-idf-property_count Time: 1.4819929599761963s\n"
     ]
    },
    {
     "name": "stderr",
     "output_type": "stream",
     "text": [
      "130it [15:02,  6.17s/it]"
     ]
    },
    {
     "name": "stdout",
     "output_type": "stream",
     "text": [
      "mosaic-features Time: 0.00397801399230957s\n",
      "Qnodes to lookup: 369\n",
      "Qnodes from file: 368\n",
      "Outlier removal generates 6 lof-voted candidates\n",
      "score-using-embedding Time: 0.6125609874725342s\n",
      "compute-tf-idf-class_count Time: 0.9204239845275879s\n",
      "compute-tf-idf-property_count Time: 1.0737569332122803s\n"
     ]
    },
    {
     "name": "stderr",
     "output_type": "stream",
     "text": [
      "131it [15:07,  5.98s/it]"
     ]
    },
    {
     "name": "stdout",
     "output_type": "stream",
     "text": [
      "mosaic-features Time: 0.02951216697692871s\n",
      "Qnodes to lookup: 7794\n",
      "Qnodes from file: 7695\n",
      "Outlier removal generates 3 lof-voted candidates\n",
      "Outlier removal generates 2 lof-voted candidates\n",
      "Outlier removal generates 3 lof-voted candidates\n",
      "score-using-embedding Time: 2.0538737773895264s\n",
      "compute-tf-idf-class_count Time: 3.275498867034912s\n",
      "compute-tf-idf-property_count Time: 4.039109945297241s\n"
     ]
    },
    {
     "name": "stderr",
     "output_type": "stream",
     "text": [
      "132it [15:15,  6.47s/it]"
     ]
    },
    {
     "name": "stdout",
     "output_type": "stream",
     "text": [
      "mosaic-features Time: 0.021652936935424805s\n",
      "Qnodes to lookup: 710\n",
      "Qnodes from file: 687\n",
      "Outlier removal generates 6 lof-voted candidates\n",
      "Column_vector_stragtegy centroid_of_lof failed\n",
      "Column_vector_stragtegy centroid_of_lof failed\n",
      "Column_vector_stragtegy centroid_of_lof failed\n",
      "score-using-embedding Time: 1.2947158813476562s\n",
      "compute-tf-idf-class_count Time: 1.9840149879455566s\n",
      "compute-tf-idf-property_count Time: 2.39274001121521s\n"
     ]
    },
    {
     "name": "stderr",
     "output_type": "stream",
     "text": [
      "133it [15:21,  6.33s/it]"
     ]
    },
    {
     "name": "stdout",
     "output_type": "stream",
     "text": [
      "mosaic-features Time: 0.010188102722167969s\n",
      "Qnodes to lookup: 2615\n",
      "Qnodes from file: 2525\n",
      "Outlier removal generates 2 lof-voted candidates\n",
      "Outlier removal generates 4 lof-voted candidates\n",
      "score-using-embedding Time: 1.1863477230072021s\n",
      "compute-tf-idf-class_count Time: 1.6761229038238525s\n",
      "compute-tf-idf-property_count Time: 1.8987789154052734s\n"
     ]
    },
    {
     "name": "stderr",
     "output_type": "stream",
     "text": [
      "134it [15:27,  6.27s/it]"
     ]
    },
    {
     "name": "stdout",
     "output_type": "stream",
     "text": [
      "mosaic-features Time: 0.004931211471557617s\n",
      "Qnodes to lookup: 1140\n",
      "Qnodes from file: 1123\n",
      "Outlier removal generates 4 lof-voted candidates\n",
      "score-using-embedding Time: 0.6517210006713867s\n",
      "compute-tf-idf-class_count Time: 0.9803769588470459s\n",
      "compute-tf-idf-property_count Time: 1.1508769989013672s\n"
     ]
    },
    {
     "name": "stderr",
     "output_type": "stream",
     "text": [
      "135it [15:32,  5.80s/it]"
     ]
    },
    {
     "name": "stdout",
     "output_type": "stream",
     "text": [
      "mosaic-features Time: 0.00737309455871582s\n",
      "Qnodes to lookup: 1653\n",
      "Qnodes from file: 1631\n",
      "Outlier removal generates 5 lof-voted candidates\n",
      "score-using-embedding Time: 1.2074589729309082s\n",
      "compute-tf-idf-class_count Time: 1.5892770290374756s\n",
      "compute-tf-idf-property_count Time: 1.7683498859405518s\n"
     ]
    },
    {
     "name": "stderr",
     "output_type": "stream",
     "text": [
      "136it [15:37,  5.82s/it]"
     ]
    },
    {
     "name": "stdout",
     "output_type": "stream",
     "text": [
      "mosaic-features Time: 0.029006242752075195s\n",
      "Qnodes to lookup: 5286\n",
      "Qnodes from file: 5233\n",
      "Outlier removal generates 2 lof-voted candidates\n",
      "Outlier removal generates 5 lof-voted candidates\n",
      "Column_vector_stragtegy centroid_of_lof failed\n",
      "Outlier removal generates 4 lof-voted candidates\n",
      "score-using-embedding Time: 1.982347011566162s\n",
      "compute-tf-idf-class_count Time: 2.945235252380371s\n",
      "compute-tf-idf-property_count Time: 3.675541877746582s\n"
     ]
    },
    {
     "name": "stderr",
     "output_type": "stream",
     "text": [
      "137it [15:45,  6.28s/it]"
     ]
    },
    {
     "name": "stdout",
     "output_type": "stream",
     "text": [
      "mosaic-features Time: 0.006218910217285156s\n",
      "Qnodes to lookup: 1185\n",
      "Qnodes from file: 1165\n",
      "Outlier removal generates 6 lof-voted candidates\n",
      "score-using-embedding Time: 1.1760120391845703s\n",
      "compute-tf-idf-class_count Time: 1.5864498615264893s\n",
      "compute-tf-idf-property_count Time: 1.7824831008911133s\n"
     ]
    },
    {
     "name": "stderr",
     "output_type": "stream",
     "text": [
      "138it [15:52,  6.70s/it]"
     ]
    },
    {
     "name": "stdout",
     "output_type": "stream",
     "text": [
      "mosaic-features Time: 0.005786895751953125s\n",
      "Qnodes to lookup: 2014\n",
      "Qnodes from file: 1965\n",
      "Outlier removal generates 5 lof-voted candidates\n",
      "score-using-embedding Time: 1.166572093963623s\n",
      "compute-tf-idf-class_count Time: 1.4243569374084473s\n",
      "compute-tf-idf-property_count Time: 2.399783134460449s\n"
     ]
    },
    {
     "name": "stderr",
     "output_type": "stream",
     "text": [
      "139it [16:03,  7.90s/it]"
     ]
    },
    {
     "name": "stdout",
     "output_type": "stream",
     "text": [
      "mosaic-features Time: 0.009379148483276367s\n",
      "Qnodes to lookup: 1567\n",
      "Qnodes from file: 1522\n",
      "Outlier removal generates 4 lof-voted candidates\n",
      "score-using-embedding Time: 1.1513071060180664s\n",
      "compute-tf-idf-class_count Time: 1.4892957210540771s\n",
      "compute-tf-idf-property_count Time: 1.8149778842926025s\n"
     ]
    },
    {
     "name": "stderr",
     "output_type": "stream",
     "text": [
      "140it [16:14,  8.66s/it]"
     ]
    },
    {
     "name": "stdout",
     "output_type": "stream",
     "text": [
      "mosaic-features Time: 0.007212638854980469s\n",
      "Qnodes to lookup: 1445\n",
      "Qnodes from file: 1418\n",
      "Outlier removal generates 5 lof-voted candidates\n",
      "score-using-embedding Time: 0.947005033493042s\n",
      "compute-tf-idf-class_count Time: 1.2393901348114014s\n",
      "compute-tf-idf-property_count Time: 1.5018119812011719s\n"
     ]
    },
    {
     "name": "stderr",
     "output_type": "stream",
     "text": [
      "141it [16:23,  8.95s/it]"
     ]
    },
    {
     "name": "stdout",
     "output_type": "stream",
     "text": [
      "mosaic-features Time: 0.01978015899658203s\n",
      "Qnodes to lookup: 3168\n",
      "Qnodes from file: 3118\n",
      "Outlier removal generates 5 lof-voted candidates\n",
      "Outlier removal generates 4 lof-voted candidates\n",
      "Outlier removal generates 6 lof-voted candidates\n",
      "score-using-embedding Time: 1.7214367389678955s\n",
      "compute-tf-idf-class_count Time: 2.3382790088653564s\n",
      "compute-tf-idf-property_count Time: 2.6879518032073975s\n"
     ]
    },
    {
     "name": "stderr",
     "output_type": "stream",
     "text": [
      "142it [16:31,  8.74s/it]"
     ]
    },
    {
     "name": "stdout",
     "output_type": "stream",
     "text": [
      "mosaic-features Time: 0.004532814025878906s\n",
      "Qnodes to lookup: 1550\n",
      "Qnodes from file: 1535\n",
      "Outlier removal generates 5 lof-voted candidates\n",
      "score-using-embedding Time: 0.7250339984893799s\n",
      "compute-tf-idf-class_count Time: 1.0810208320617676s\n",
      "compute-tf-idf-property_count Time: 1.274914026260376s\n"
     ]
    },
    {
     "name": "stderr",
     "output_type": "stream",
     "text": [
      "143it [16:36,  7.61s/it]"
     ]
    },
    {
     "name": "stdout",
     "output_type": "stream",
     "text": [
      "mosaic-features Time: 0.016840219497680664s\n",
      "Qnodes to lookup: 2077\n",
      "Qnodes from file: 2063\n",
      "Outlier removal generates 6 lof-voted candidates\n",
      "Column_vector_stragtegy centroid_of_lof failed\n",
      "Column_vector_stragtegy centroid_of_lof failed\n",
      "score-using-embedding Time: 1.3247888088226318s\n",
      "compute-tf-idf-class_count Time: 1.9828212261199951s\n",
      "compute-tf-idf-property_count Time: 2.435762882232666s\n"
     ]
    },
    {
     "name": "stderr",
     "output_type": "stream",
     "text": [
      "144it [16:44,  7.53s/it]"
     ]
    },
    {
     "name": "stdout",
     "output_type": "stream",
     "text": [
      "mosaic-features Time: 0.021088123321533203s\n",
      "Qnodes to lookup: 3529\n",
      "Qnodes from file: 3399\n",
      "Outlier removal generates 3 lof-voted candidates\n",
      "Column_vector_stragtegy centroid_of_lof failed\n",
      "Outlier removal generates 2 lof-voted candidates\n",
      "score-using-embedding Time: 1.6089589595794678s\n",
      "compute-tf-idf-class_count Time: 2.340353012084961s\n",
      "compute-tf-idf-property_count Time: 2.8089189529418945s\n"
     ]
    },
    {
     "name": "stderr",
     "output_type": "stream",
     "text": [
      "145it [16:51,  7.49s/it]"
     ]
    },
    {
     "name": "stdout",
     "output_type": "stream",
     "text": [
      "mosaic-features Time: 0.005426883697509766s\n",
      "Qnodes to lookup: 2163\n",
      "Qnodes from file: 2138\n",
      "Outlier removal generates 5 lof-voted candidates\n",
      "score-using-embedding Time: 0.7233381271362305s\n",
      "compute-tf-idf-class_count Time: 1.077362060546875s\n",
      "compute-tf-idf-property_count Time: 1.2789220809936523s\n"
     ]
    },
    {
     "name": "stderr",
     "output_type": "stream",
     "text": [
      "146it [16:56,  6.67s/it]"
     ]
    },
    {
     "name": "stdout",
     "output_type": "stream",
     "text": [
      "mosaic-features Time: 0.005421161651611328s\n",
      "Qnodes to lookup: 2202\n",
      "Qnodes from file: 2179\n",
      "Outlier removal generates 5 lof-voted candidates\n",
      "score-using-embedding Time: 0.7627546787261963s\n",
      "compute-tf-idf-class_count Time: 1.6400249004364014s\n",
      "compute-tf-idf-property_count Time: 1.8394622802734375s\n"
     ]
    },
    {
     "name": "stderr",
     "output_type": "stream",
     "text": [
      "147it [17:02,  6.47s/it]"
     ]
    },
    {
     "name": "stdout",
     "output_type": "stream",
     "text": [
      "mosaic-features Time: 0.01612997055053711s\n",
      "Qnodes to lookup: 4018\n",
      "Qnodes from file: 3961\n",
      "Outlier removal generates 5 lof-voted candidates\n",
      "Outlier removal generates 4 lof-voted candidates\n",
      "Outlier removal generates 4 lof-voted candidates\n",
      "score-using-embedding Time: 1.298671007156372s\n",
      "compute-tf-idf-class_count Time: 1.9693937301635742s\n",
      "compute-tf-idf-property_count Time: 2.3897697925567627s\n"
     ]
    },
    {
     "name": "stderr",
     "output_type": "stream",
     "text": [
      "148it [17:08,  6.33s/it]"
     ]
    },
    {
     "name": "stdout",
     "output_type": "stream",
     "text": [
      "mosaic-features Time: 0.00872492790222168s\n",
      "Qnodes to lookup: 3374\n",
      "Qnodes from file: 3321\n",
      "Outlier removal generates 4 lof-voted candidates\n",
      "score-using-embedding Time: 0.9074296951293945s\n",
      "compute-tf-idf-class_count Time: 1.363577127456665s\n",
      "compute-tf-idf-property_count Time: 1.6389870643615723s\n"
     ]
    },
    {
     "name": "stderr",
     "output_type": "stream",
     "text": [
      "149it [17:13,  5.96s/it]"
     ]
    },
    {
     "name": "stdout",
     "output_type": "stream",
     "text": [
      "mosaic-features Time: 0.010907888412475586s\n",
      "Qnodes to lookup: 5137\n",
      "Qnodes from file: 5037\n",
      "Outlier removal generates 5 lof-voted candidates\n",
      "score-using-embedding Time: 1.1225740909576416s\n",
      "compute-tf-idf-class_count Time: 1.7026100158691406s\n",
      "compute-tf-idf-property_count Time: 2.0464470386505127s\n"
     ]
    },
    {
     "name": "stderr",
     "output_type": "stream",
     "text": [
      "150it [17:19,  5.85s/it]"
     ]
    },
    {
     "name": "stdout",
     "output_type": "stream",
     "text": [
      "mosaic-features Time: 0.006489992141723633s\n",
      "Qnodes to lookup: 1908\n",
      "Qnodes from file: 1856\n",
      "Outlier removal generates 5 lof-voted candidates\n",
      "score-using-embedding Time: 0.7201321125030518s\n",
      "compute-tf-idf-class_count Time: 1.070849895477295s\n",
      "compute-tf-idf-property_count Time: 1.2502868175506592s\n"
     ]
    },
    {
     "name": "stderr",
     "output_type": "stream",
     "text": [
      "151it [17:24,  5.64s/it]"
     ]
    },
    {
     "name": "stdout",
     "output_type": "stream",
     "text": [
      "mosaic-features Time: 0.013628244400024414s\n",
      "Qnodes to lookup: 2757\n",
      "Qnodes from file: 2703\n",
      "Outlier removal generates 2 lof-voted candidates\n",
      "Outlier removal generates 2 lof-voted candidates\n",
      "score-using-embedding Time: 1.1022021770477295s\n",
      "compute-tf-idf-class_count Time: 1.656919002532959s\n",
      "compute-tf-idf-property_count Time: 2.03891921043396s\n"
     ]
    },
    {
     "name": "stderr",
     "output_type": "stream",
     "text": [
      "152it [17:30,  5.73s/it]"
     ]
    },
    {
     "name": "stdout",
     "output_type": "stream",
     "text": [
      "mosaic-features Time: 0.02091693878173828s\n",
      "Qnodes to lookup: 2234\n",
      "Qnodes from file: 2228\n",
      "Outlier removal generates 5 lof-voted candidates\n",
      "Column_vector_stragtegy centroid_of_lof failed\n",
      "Outlier removal generates 4 lof-voted candidates\n",
      "score-using-embedding Time: 1.3014042377471924s\n",
      "compute-tf-idf-class_count Time: 1.8761088848114014s\n",
      "compute-tf-idf-property_count Time: 2.2943220138549805s\n"
     ]
    },
    {
     "name": "stderr",
     "output_type": "stream",
     "text": [
      "153it [17:36,  5.94s/it]"
     ]
    },
    {
     "name": "stdout",
     "output_type": "stream",
     "text": [
      "mosaic-features Time: 0.014288902282714844s\n",
      "Qnodes to lookup: 4560\n",
      "Qnodes from file: 4456\n",
      "Outlier removal generates 4 lof-voted candidates\n",
      "Outlier removal generates 4 lof-voted candidates\n",
      "score-using-embedding Time: 1.256164789199829s\n",
      "compute-tf-idf-class_count Time: 1.8431742191314697s\n",
      "compute-tf-idf-property_count Time: 2.161113977432251s\n"
     ]
    },
    {
     "name": "stderr",
     "output_type": "stream",
     "text": [
      "154it [17:42,  5.99s/it]"
     ]
    },
    {
     "name": "stdout",
     "output_type": "stream",
     "text": [
      "mosaic-features Time: 0.006971836090087891s\n",
      "Qnodes to lookup: 1744\n",
      "Qnodes from file: 1713\n",
      "Outlier removal generates 3 lof-voted candidates\n",
      "score-using-embedding Time: 0.7469689846038818s\n",
      "compute-tf-idf-class_count Time: 1.097433090209961s\n",
      "compute-tf-idf-property_count Time: 1.2985811233520508s\n"
     ]
    },
    {
     "name": "stderr",
     "output_type": "stream",
     "text": [
      "155it [17:48,  5.77s/it]"
     ]
    },
    {
     "name": "stdout",
     "output_type": "stream",
     "text": [
      "mosaic-features Time: 0.012558698654174805s\n",
      "Qnodes to lookup: 3646\n",
      "Qnodes from file: 3595\n",
      "Outlier removal generates 2 lof-voted candidates\n",
      "Outlier removal generates 5 lof-voted candidates\n",
      "score-using-embedding Time: 1.3755428791046143s\n",
      "compute-tf-idf-class_count Time: 2.0354878902435303s\n",
      "compute-tf-idf-property_count Time: 2.327670097351074s\n"
     ]
    },
    {
     "name": "stderr",
     "output_type": "stream",
     "text": [
      "156it [17:54,  5.93s/it]"
     ]
    },
    {
     "name": "stdout",
     "output_type": "stream",
     "text": [
      "mosaic-features Time: 0.04350900650024414s\n",
      "Qnodes to lookup: 7234\n",
      "Qnodes from file: 7039\n",
      "Outlier removal generates 5 lof-voted candidates\n",
      "Column_vector_stragtegy centroid_of_lof failed\n",
      "Outlier removal generates 5 lof-voted candidates\n",
      "Outlier removal generates 5 lof-voted candidates\n",
      "score-using-embedding Time: 3.1334152221679688s\n",
      "compute-tf-idf-class_count Time: 4.816339015960693s\n",
      "compute-tf-idf-property_count Time: 5.944947004318237s\n"
     ]
    },
    {
     "name": "stderr",
     "output_type": "stream",
     "text": [
      "157it [18:06,  7.73s/it]"
     ]
    },
    {
     "name": "stdout",
     "output_type": "stream",
     "text": [
      "mosaic-features Time: 0.007283926010131836s\n",
      "Qnodes to lookup: 1931\n",
      "Qnodes from file: 1900\n",
      "Column_vector_stragtegy centroid_of_lof failed\n",
      "score-using-embedding Time: 1.9196248054504395s\n",
      "compute-tf-idf-class_count Time: 3.2678260803222656s\n",
      "compute-tf-idf-property_count Time: 3.8195629119873047s\n"
     ]
    },
    {
     "name": "stderr",
     "output_type": "stream",
     "text": [
      "158it [18:16,  8.35s/it]"
     ]
    },
    {
     "name": "stdout",
     "output_type": "stream",
     "text": [
      "mosaic-features Time: 0.011584997177124023s\n",
      "Qnodes to lookup: 567\n",
      "Qnodes from file: 528\n",
      "Outlier removal generates 6 lof-voted candidates\n",
      "Column_vector_stragtegy centroid_of_lof failed\n",
      "score-using-embedding Time: 1.5352551937103271s\n",
      "compute-tf-idf-class_count Time: 2.1003918647766113s\n",
      "compute-tf-idf-property_count Time: 2.4328761100769043s\n"
     ]
    },
    {
     "name": "stderr",
     "output_type": "stream",
     "text": [
      "159it [18:25,  8.69s/it]"
     ]
    },
    {
     "name": "stdout",
     "output_type": "stream",
     "text": [
      "mosaic-features Time: 0.013846874237060547s\n",
      "Qnodes to lookup: 3970\n",
      "Qnodes from file: 3895\n",
      "Outlier removal generates 3 lof-voted candidates\n",
      "Outlier removal generates 2 lof-voted candidates\n",
      "score-using-embedding Time: 1.1449201107025146s\n",
      "compute-tf-idf-class_count Time: 1.6981019973754883s\n",
      "compute-tf-idf-property_count Time: 2.0524749755859375s\n"
     ]
    },
    {
     "name": "stderr",
     "output_type": "stream",
     "text": [
      "160it [18:32,  8.09s/it]"
     ]
    },
    {
     "name": "stdout",
     "output_type": "stream",
     "text": [
      "mosaic-features Time: 0.017102718353271484s\n",
      "Qnodes to lookup: 5892\n",
      "Qnodes from file: 5848\n",
      "Outlier removal generates 5 lof-voted candidates\n",
      "Outlier removal generates 3 lof-voted candidates\n",
      "Outlier removal generates 4 lof-voted candidates\n",
      "score-using-embedding Time: 1.4089279174804688s\n",
      "compute-tf-idf-class_count Time: 2.1669201850891113s\n",
      "compute-tf-idf-property_count Time: 2.6362411975860596s\n"
     ]
    },
    {
     "name": "stderr",
     "output_type": "stream",
     "text": [
      "161it [18:41,  8.45s/it]"
     ]
    },
    {
     "name": "stdout",
     "output_type": "stream",
     "text": [
      "mosaic-features Time: 0.007603883743286133s\n",
      "Qnodes to lookup: 3156\n",
      "Qnodes from file: 3090\n",
      "Outlier removal generates 5 lof-voted candidates\n",
      "score-using-embedding Time: 1.1750726699829102s\n",
      "compute-tf-idf-class_count Time: 2.3554611206054688s\n",
      "compute-tf-idf-property_count Time: 1.8394010066986084s\n"
     ]
    },
    {
     "name": "stderr",
     "output_type": "stream",
     "text": [
      "162it [18:49,  8.35s/it]"
     ]
    },
    {
     "name": "stdout",
     "output_type": "stream",
     "text": [
      "mosaic-features Time: 0.012267112731933594s\n",
      "Qnodes to lookup: 2266\n",
      "Qnodes from file: 2249\n",
      "Outlier removal generates 3 lof-voted candidates\n",
      "Outlier removal generates 5 lof-voted candidates\n",
      "score-using-embedding Time: 0.9274308681488037s\n",
      "compute-tf-idf-class_count Time: 1.3881938457489014s\n",
      "compute-tf-idf-property_count Time: 1.6923129558563232s\n"
     ]
    },
    {
     "name": "stderr",
     "output_type": "stream",
     "text": [
      "163it [18:54,  7.43s/it]"
     ]
    },
    {
     "name": "stdout",
     "output_type": "stream",
     "text": [
      "mosaic-features Time: 0.013064861297607422s\n",
      "Qnodes to lookup: 5984\n",
      "Qnodes from file: 5918\n",
      "Outlier removal generates 5 lof-voted candidates\n",
      "Outlier removal generates 2 lof-voted candidates\n",
      "Outlier removal generates 5 lof-voted candidates\n",
      "score-using-embedding Time: 1.2820138931274414s\n",
      "compute-tf-idf-class_count Time: 1.9752798080444336s\n",
      "compute-tf-idf-property_count Time: 2.3948898315429688s\n"
     ]
    },
    {
     "name": "stderr",
     "output_type": "stream",
     "text": [
      "164it [19:01,  7.20s/it]"
     ]
    },
    {
     "name": "stdout",
     "output_type": "stream",
     "text": [
      "mosaic-features Time: 0.019894123077392578s\n",
      "Qnodes to lookup: 2668\n",
      "Qnodes from file: 2637\n",
      "Outlier removal generates 5 lof-voted candidates\n",
      "Column_vector_stragtegy centroid_of_lof failed\n",
      "Column_vector_stragtegy centroid_of_lof failed\n",
      "score-using-embedding Time: 1.5072803497314453s\n",
      "compute-tf-idf-class_count Time: 2.1949069499969482s\n",
      "compute-tf-idf-property_count Time: 2.57908296585083s\n"
     ]
    },
    {
     "name": "stderr",
     "output_type": "stream",
     "text": [
      "165it [19:08,  7.05s/it]"
     ]
    },
    {
     "name": "stdout",
     "output_type": "stream",
     "text": [
      "mosaic-features Time: 0.005835056304931641s\n",
      "Qnodes to lookup: 2619\n",
      "Qnodes from file: 2552\n",
      "Outlier removal generates 4 lof-voted candidates\n",
      "score-using-embedding Time: 0.7519030570983887s\n",
      "compute-tf-idf-class_count Time: 1.1331989765167236s\n",
      "compute-tf-idf-property_count Time: 1.3386940956115723s\n"
     ]
    },
    {
     "name": "stderr",
     "output_type": "stream",
     "text": [
      "166it [19:13,  6.41s/it]"
     ]
    },
    {
     "name": "stdout",
     "output_type": "stream",
     "text": [
      "mosaic-features Time: 0.015569210052490234s\n",
      "Qnodes to lookup: 4852\n",
      "Qnodes from file: 4778\n",
      "Outlier removal generates 5 lof-voted candidates\n",
      "Outlier removal generates 5 lof-voted candidates\n",
      "Outlier removal generates 5 lof-voted candidates\n",
      "score-using-embedding Time: 1.384031057357788s\n",
      "compute-tf-idf-class_count Time: 2.09584903717041s\n",
      "compute-tf-idf-property_count Time: 2.5259151458740234s\n"
     ]
    },
    {
     "name": "stderr",
     "output_type": "stream",
     "text": [
      "167it [19:20,  6.67s/it]"
     ]
    },
    {
     "name": "stdout",
     "output_type": "stream",
     "text": [
      "mosaic-features Time: 0.004954099655151367s\n",
      "Qnodes to lookup: 1958\n",
      "Qnodes from file: 1905\n",
      "Outlier removal generates 5 lof-voted candidates\n",
      "score-using-embedding Time: 0.7144379615783691s\n",
      "compute-tf-idf-class_count Time: 1.0709850788116455s\n",
      "compute-tf-idf-property_count Time: 1.2643868923187256s\n"
     ]
    },
    {
     "name": "stderr",
     "output_type": "stream",
     "text": [
      "168it [19:25,  6.14s/it]"
     ]
    },
    {
     "name": "stdout",
     "output_type": "stream",
     "text": [
      "mosaic-features Time: 0.009960174560546875s\n",
      "Qnodes to lookup: 1988\n",
      "Qnodes from file: 1963\n",
      "Outlier removal generates 5 lof-voted candidates\n",
      "Column_vector_stragtegy centroid_of_lof failed\n",
      "No pseudo GT available, using all exact matches as high precision\n",
      "Outlier removal generates 20 lof-voted candidates\n",
      "score-using-embedding Time: 1.2401957511901855s\n",
      "compute-tf-idf-class_count Time: 1.5587120056152344s\n",
      "compute-tf-idf-property_count Time: 2.623018980026245s\n"
     ]
    },
    {
     "name": "stderr",
     "output_type": "stream",
     "text": [
      "169it [19:32,  6.33s/it]"
     ]
    },
    {
     "name": "stdout",
     "output_type": "stream",
     "text": [
      "mosaic-features Time: 0.007042884826660156s\n",
      "Qnodes to lookup: 1922\n",
      "Qnodes from file: 1867\n",
      "Outlier removal generates 4 lof-voted candidates\n",
      "score-using-embedding Time: 1.0129930973052979s\n",
      "compute-tf-idf-class_count Time: 1.342254638671875s\n",
      "compute-tf-idf-property_count Time: 1.5429298877716064s\n"
     ]
    },
    {
     "name": "stderr",
     "output_type": "stream",
     "text": [
      "170it [19:37,  5.92s/it]"
     ]
    },
    {
     "name": "stdout",
     "output_type": "stream",
     "text": [
      "mosaic-features Time: 0.01830601692199707s\n",
      "Qnodes to lookup: 2094\n",
      "Qnodes from file: 2081\n",
      "Outlier removal generates 4 lof-voted candidates\n",
      "Column_vector_stragtegy centroid_of_lof failed\n",
      "Column_vector_stragtegy centroid_of_lof failed\n",
      "score-using-embedding Time: 1.4600999355316162s\n",
      "compute-tf-idf-class_count Time: 2.1879780292510986s\n",
      "compute-tf-idf-property_count Time: 2.641531229019165s\n"
     ]
    },
    {
     "name": "stderr",
     "output_type": "stream",
     "text": [
      "171it [19:43,  6.03s/it]"
     ]
    },
    {
     "name": "stdout",
     "output_type": "stream",
     "text": [
      "mosaic-features Time: 0.010902166366577148s\n",
      "Qnodes to lookup: 2722\n",
      "Qnodes from file: 2685\n",
      "Outlier removal generates 4 lof-voted candidates\n",
      "score-using-embedding Time: 0.8892569541931152s\n",
      "compute-tf-idf-class_count Time: 1.3768701553344727s\n",
      "compute-tf-idf-property_count Time: 1.5962262153625488s\n"
     ]
    },
    {
     "name": "stderr",
     "output_type": "stream",
     "text": [
      "172it [19:48,  5.89s/it]"
     ]
    },
    {
     "name": "stdout",
     "output_type": "stream",
     "text": [
      "mosaic-features Time: 0.005033016204833984s\n",
      "Qnodes to lookup: 1552\n",
      "Qnodes from file: 1530\n",
      "Outlier removal generates 3 lof-voted candidates\n",
      "score-using-embedding Time: 0.7682549953460693s\n",
      "compute-tf-idf-class_count Time: 1.122161865234375s\n",
      "compute-tf-idf-property_count Time: 1.2864530086517334s\n"
     ]
    },
    {
     "name": "stderr",
     "output_type": "stream",
     "text": [
      "173it [19:54,  5.64s/it]"
     ]
    },
    {
     "name": "stdout",
     "output_type": "stream",
     "text": [
      "mosaic-features Time: 0.015243053436279297s\n",
      "Qnodes to lookup: 3057\n",
      "Qnodes from file: 3013\n",
      "Outlier removal generates 2 lof-voted candidates\n",
      "Column_vector_stragtegy centroid_of_lof failed\n",
      "Column_vector_stragtegy centroid_of_lof failed\n",
      "score-using-embedding Time: 1.2874891757965088s\n",
      "compute-tf-idf-class_count Time: 1.916111946105957s\n",
      "compute-tf-idf-property_count Time: 2.2583701610565186s\n"
     ]
    },
    {
     "name": "stderr",
     "output_type": "stream",
     "text": [
      "174it [20:00,  6.01s/it]"
     ]
    },
    {
     "name": "stdout",
     "output_type": "stream",
     "text": [
      "mosaic-features Time: 0.0072400569915771484s\n",
      "Qnodes to lookup: 1914\n",
      "Qnodes from file: 1899\n",
      "Outlier removal generates 5 lof-voted candidates\n",
      "score-using-embedding Time: 0.7842228412628174s\n",
      "compute-tf-idf-class_count Time: 1.1457600593566895s\n",
      "compute-tf-idf-property_count Time: 1.3554999828338623s\n"
     ]
    },
    {
     "name": "stderr",
     "output_type": "stream",
     "text": [
      "175it [20:06,  5.79s/it]"
     ]
    },
    {
     "name": "stdout",
     "output_type": "stream",
     "text": [
      "mosaic-features Time: 0.013983011245727539s\n",
      "Qnodes to lookup: 5000\n",
      "Qnodes from file: 4907\n",
      "Outlier removal generates 5 lof-voted candidates\n",
      "Column_vector_stragtegy centroid_of_lof failed\n",
      "Outlier removal generates 4 lof-voted candidates\n",
      "score-using-embedding Time: 1.6432740688323975s\n",
      "compute-tf-idf-class_count Time: 3.037160873413086s\n",
      "compute-tf-idf-property_count Time: 3.4774110317230225s\n"
     ]
    },
    {
     "name": "stderr",
     "output_type": "stream",
     "text": [
      "176it [20:15,  6.92s/it]"
     ]
    },
    {
     "name": "stdout",
     "output_type": "stream",
     "text": [
      "mosaic-features Time: 0.028178930282592773s\n",
      "Qnodes to lookup: 2417\n",
      "Qnodes from file: 2366\n",
      "Outlier removal generates 5 lof-voted candidates\n",
      "Column_vector_stragtegy centroid_of_lof failed\n",
      "Column_vector_stragtegy centroid_of_lof failed\n",
      "score-using-embedding Time: 1.952038049697876s\n",
      "compute-tf-idf-class_count Time: 2.7417333126068115s\n",
      "compute-tf-idf-property_count Time: 3.2134649753570557s\n"
     ]
    },
    {
     "name": "stderr",
     "output_type": "stream",
     "text": [
      "177it [20:24,  7.48s/it]"
     ]
    },
    {
     "name": "stdout",
     "output_type": "stream",
     "text": [
      "mosaic-features Time: 0.008574962615966797s\n",
      "Qnodes to lookup: 2920\n",
      "Qnodes from file: 2855\n",
      "Outlier removal generates 4 lof-voted candidates\n",
      "score-using-embedding Time: 1.5303759574890137s\n",
      "compute-tf-idf-class_count Time: 2.130293130874634s\n",
      "compute-tf-idf-property_count Time: 2.3591952323913574s\n"
     ]
    },
    {
     "name": "stderr",
     "output_type": "stream",
     "text": [
      "178it [20:34,  8.21s/it]"
     ]
    },
    {
     "name": "stdout",
     "output_type": "stream",
     "text": [
      "mosaic-features Time: 0.014652013778686523s\n",
      "Qnodes to lookup: 2768\n",
      "Qnodes from file: 2712\n",
      "Outlier removal generates 4 lof-voted candidates\n",
      "Outlier removal generates 4 lof-voted candidates\n",
      "Outlier removal generates 5 lof-voted candidates\n",
      "score-using-embedding Time: 1.6591980457305908s\n",
      "compute-tf-idf-class_count Time: 2.2276389598846436s\n",
      "compute-tf-idf-property_count Time: 2.5212042331695557s\n"
     ]
    },
    {
     "name": "stderr",
     "output_type": "stream",
     "text": [
      "179it [20:45,  9.13s/it]"
     ]
    },
    {
     "name": "stdout",
     "output_type": "stream",
     "text": [
      "mosaic-features Time: 0.022591114044189453s\n",
      "Qnodes to lookup: 4409\n",
      "Qnodes from file: 4361\n",
      "Outlier removal generates 4 lof-voted candidates\n",
      "Outlier removal generates 4 lof-voted candidates\n",
      "Outlier removal generates 4 lof-voted candidates\n",
      "score-using-embedding Time: 2.323664903640747s\n",
      "compute-tf-idf-class_count Time: 3.1233341693878174s\n",
      "compute-tf-idf-property_count Time: 3.631519079208374s\n"
     ]
    },
    {
     "name": "stderr",
     "output_type": "stream",
     "text": [
      "180it [20:56,  9.50s/it]"
     ]
    },
    {
     "name": "stdout",
     "output_type": "stream",
     "text": [
      "mosaic-features Time: 0.023925065994262695s\n",
      "Qnodes to lookup: 2617\n",
      "Qnodes from file: 2559\n",
      "Outlier removal generates 2 lof-voted candidates\n",
      "Column_vector_stragtegy centroid_of_lof failed\n",
      "Column_vector_stragtegy centroid_of_lof failed\n",
      "Column_vector_stragtegy centroid_of_lof failed\n",
      "Outlier removal generates 2 lof-voted candidates\n",
      "score-using-embedding Time: 1.7890923023223877s\n",
      "compute-tf-idf-class_count Time: 2.992873430252075s\n",
      "compute-tf-idf-property_count Time: 3.5960381031036377s\n"
     ]
    },
    {
     "name": "stderr",
     "output_type": "stream",
     "text": [
      "181it [21:03,  8.84s/it]"
     ]
    },
    {
     "name": "stdout",
     "output_type": "stream",
     "text": [
      "mosaic-features Time: 0.02382373809814453s\n",
      "Qnodes to lookup: 5455\n",
      "Qnodes from file: 5325\n",
      "Outlier removal generates 5 lof-voted candidates\n",
      "Column_vector_stragtegy centroid_of_lof failed\n",
      "Outlier removal generates 4 lof-voted candidates\n",
      "score-using-embedding Time: 1.6016199588775635s\n",
      "compute-tf-idf-class_count Time: 2.9607937335968018s\n",
      "compute-tf-idf-property_count Time: 3.523340940475464s\n"
     ]
    },
    {
     "name": "stderr",
     "output_type": "stream",
     "text": [
      "182it [21:10,  8.31s/it]"
     ]
    },
    {
     "name": "stdout",
     "output_type": "stream",
     "text": [
      "mosaic-features Time: 0.013961076736450195s\n",
      "Qnodes to lookup: 3340\n",
      "Qnodes from file: 3309\n",
      "Outlier removal generates 4 lof-voted candidates\n",
      "Outlier removal generates 5 lof-voted candidates\n",
      "Outlier removal generates 5 lof-voted candidates\n",
      "score-using-embedding Time: 1.2227349281311035s\n",
      "compute-tf-idf-class_count Time: 1.83876371383667s\n",
      "compute-tf-idf-property_count Time: 2.204448938369751s\n"
     ]
    },
    {
     "name": "stderr",
     "output_type": "stream",
     "text": [
      "183it [21:16,  7.76s/it]"
     ]
    },
    {
     "name": "stdout",
     "output_type": "stream",
     "text": [
      "mosaic-features Time: 0.016785144805908203s\n",
      "Qnodes to lookup: 5938\n",
      "Qnodes from file: 5865\n",
      "Outlier removal generates 5 lof-voted candidates\n",
      "Outlier removal generates 2 lof-voted candidates\n",
      "Outlier removal generates 4 lof-voted candidates\n",
      "score-using-embedding Time: 1.498507022857666s\n",
      "compute-tf-idf-class_count Time: 2.222119092941284s\n",
      "compute-tf-idf-property_count Time: 2.6598289012908936s\n"
     ]
    },
    {
     "name": "stderr",
     "output_type": "stream",
     "text": [
      "184it [21:23,  7.44s/it]"
     ]
    },
    {
     "name": "stdout",
     "output_type": "stream",
     "text": [
      "mosaic-features Time: 0.010212182998657227s\n",
      "Qnodes to lookup: 3066\n",
      "Qnodes from file: 2979\n",
      "Outlier removal generates 3 lof-voted candidates\n",
      "Outlier removal generates 4 lof-voted candidates\n",
      "score-using-embedding Time: 0.9596269130706787s\n",
      "compute-tf-idf-class_count Time: 1.466352939605713s\n",
      "compute-tf-idf-property_count Time: 1.737429141998291s\n"
     ]
    },
    {
     "name": "stderr",
     "output_type": "stream",
     "text": [
      "185it [21:28,  6.81s/it]"
     ]
    },
    {
     "name": "stdout",
     "output_type": "stream",
     "text": [
      "mosaic-features Time: 0.011461019515991211s\n",
      "Qnodes to lookup: 2204\n",
      "Qnodes from file: 2155\n",
      "Outlier removal generates 2 lof-voted candidates\n",
      "Outlier removal generates 2 lof-voted candidates\n",
      "score-using-embedding Time: 0.9690330028533936s\n",
      "compute-tf-idf-class_count Time: 1.4825890064239502s\n",
      "compute-tf-idf-property_count Time: 1.798269271850586s\n"
     ]
    },
    {
     "name": "stderr",
     "output_type": "stream",
     "text": [
      "186it [21:35,  6.65s/it]"
     ]
    },
    {
     "name": "stdout",
     "output_type": "stream",
     "text": [
      "mosaic-features Time: 0.013874053955078125s\n",
      "Qnodes to lookup: 4205\n",
      "Qnodes from file: 4170\n",
      "Outlier removal generates 5 lof-voted candidates\n",
      "Outlier removal generates 5 lof-voted candidates\n",
      "Column_vector_stragtegy centroid_of_lof failed\n",
      "score-using-embedding Time: 1.3229150772094727s\n",
      "compute-tf-idf-class_count Time: 1.9474680423736572s\n",
      "compute-tf-idf-property_count Time: 2.3671212196350098s\n"
     ]
    },
    {
     "name": "stderr",
     "output_type": "stream",
     "text": [
      "187it [21:41,  6.49s/it]"
     ]
    },
    {
     "name": "stdout",
     "output_type": "stream",
     "text": [
      "mosaic-features Time: 0.006841182708740234s\n",
      "Qnodes to lookup: 1064\n",
      "Qnodes from file: 1032\n",
      "Outlier removal generates 5 lof-voted candidates\n",
      "score-using-embedding Time: 0.8848931789398193s\n",
      "compute-tf-idf-class_count Time: 1.2861168384552002s\n",
      "compute-tf-idf-property_count Time: 1.4587571620941162s\n"
     ]
    },
    {
     "name": "stderr",
     "output_type": "stream",
     "text": [
      "188it [21:47,  6.37s/it]"
     ]
    },
    {
     "name": "stdout",
     "output_type": "stream",
     "text": [
      "mosaic-features Time: 0.0069692134857177734s\n",
      "Qnodes to lookup: 2465\n",
      "Qnodes from file: 2434\n",
      "Outlier removal generates 2 lof-voted candidates\n",
      "score-using-embedding Time: 0.7477710247039795s\n",
      "compute-tf-idf-class_count Time: 1.1475210189819336s\n",
      "compute-tf-idf-property_count Time: 1.3356847763061523s\n"
     ]
    },
    {
     "name": "stderr",
     "output_type": "stream",
     "text": [
      "189it [21:52,  5.95s/it]"
     ]
    },
    {
     "name": "stdout",
     "output_type": "stream",
     "text": [
      "mosaic-features Time: 0.008810997009277344s\n",
      "Qnodes to lookup: 3396\n",
      "Qnodes from file: 3341\n",
      "Outlier removal generates 5 lof-voted candidates\n",
      "Column_vector_stragtegy centroid_of_lof failed\n",
      "score-using-embedding Time: 0.9633810520172119s\n",
      "compute-tf-idf-class_count Time: 1.4765419960021973s\n",
      "compute-tf-idf-property_count Time: 1.7532918453216553s\n"
     ]
    },
    {
     "name": "stderr",
     "output_type": "stream",
     "text": [
      "190it [21:58,  6.13s/it]"
     ]
    },
    {
     "name": "stdout",
     "output_type": "stream",
     "text": [
      "mosaic-features Time: 0.014413118362426758s\n",
      "Qnodes to lookup: 5439\n",
      "Qnodes from file: 5261\n",
      "Outlier removal generates 3 lof-voted candidates\n",
      "Outlier removal generates 4 lof-voted candidates\n",
      "Outlier removal generates 3 lof-voted candidates\n",
      "score-using-embedding Time: 1.4422318935394287s\n",
      "compute-tf-idf-class_count Time: 2.194248914718628s\n",
      "compute-tf-idf-property_count Time: 2.6219708919525146s\n"
     ]
    },
    {
     "name": "stderr",
     "output_type": "stream",
     "text": [
      "191it [22:05,  6.20s/it]"
     ]
    },
    {
     "name": "stdout",
     "output_type": "stream",
     "text": [
      "mosaic-features Time: 0.02178359031677246s\n",
      "Qnodes to lookup: 4960\n",
      "Qnodes from file: 4761\n",
      "Outlier removal generates 5 lof-voted candidates\n",
      "Outlier removal generates 2 lof-voted candidates\n",
      "Outlier removal generates 5 lof-voted candidates\n",
      "score-using-embedding Time: 1.264380931854248s\n",
      "compute-tf-idf-class_count Time: 1.9255740642547607s\n",
      "compute-tf-idf-property_count Time: 2.2937722206115723s\n"
     ]
    },
    {
     "name": "stderr",
     "output_type": "stream",
     "text": [
      "192it [22:11,  6.13s/it]"
     ]
    },
    {
     "name": "stdout",
     "output_type": "stream",
     "text": [
      "mosaic-features Time: 0.01691603660583496s\n",
      "Qnodes to lookup: 2478\n",
      "Qnodes from file: 2376\n",
      "Outlier removal generates 3 lof-voted candidates\n",
      "Column_vector_stragtegy centroid_of_lof failed\n",
      "Column_vector_stragtegy centroid_of_lof failed\n",
      "score-using-embedding Time: 1.551638126373291s\n",
      "compute-tf-idf-class_count Time: 2.2090330123901367s\n",
      "compute-tf-idf-property_count Time: 2.6496739387512207s\n"
     ]
    },
    {
     "name": "stderr",
     "output_type": "stream",
     "text": [
      "193it [22:18,  6.49s/it]"
     ]
    },
    {
     "name": "stdout",
     "output_type": "stream",
     "text": [
      "mosaic-features Time: 0.007737159729003906s\n",
      "Qnodes to lookup: 1181\n",
      "Qnodes from file: 1160\n",
      "Outlier removal generates 6 lof-voted candidates\n",
      "score-using-embedding Time: 0.7899336814880371s\n",
      "compute-tf-idf-class_count Time: 1.1475458145141602s\n",
      "compute-tf-idf-property_count Time: 1.334320068359375s\n"
     ]
    },
    {
     "name": "stderr",
     "output_type": "stream",
     "text": [
      "194it [22:23,  5.99s/it]"
     ]
    },
    {
     "name": "stdout",
     "output_type": "stream",
     "text": [
      "mosaic-features Time: 0.01853489875793457s\n",
      "Qnodes to lookup: 3417\n",
      "Qnodes from file: 3351\n",
      "Outlier removal generates 5 lof-voted candidates\n",
      "Outlier removal generates 3 lof-voted candidates\n",
      "Outlier removal generates 2 lof-voted candidates\n",
      "score-using-embedding Time: 1.3254966735839844s\n",
      "compute-tf-idf-class_count Time: 2.8003990650177s\n",
      "compute-tf-idf-property_count Time: 3.113853931427002s\n"
     ]
    },
    {
     "name": "stderr",
     "output_type": "stream",
     "text": [
      "195it [22:32,  6.86s/it]"
     ]
    },
    {
     "name": "stdout",
     "output_type": "stream",
     "text": [
      "mosaic-features Time: 0.017420053482055664s\n",
      "Qnodes to lookup: 5073\n",
      "Qnodes from file: 4981\n",
      "Outlier removal generates 4 lof-voted candidates\n",
      "Outlier removal generates 2 lof-voted candidates\n",
      "Outlier removal generates 3 lof-voted candidates\n",
      "score-using-embedding Time: 1.5926721096038818s\n",
      "compute-tf-idf-class_count Time: 3.091827869415283s\n",
      "compute-tf-idf-property_count Time: 3.440525770187378s\n"
     ]
    },
    {
     "name": "stderr",
     "output_type": "stream",
     "text": [
      "196it [22:43,  8.15s/it]"
     ]
    },
    {
     "name": "stdout",
     "output_type": "stream",
     "text": [
      "mosaic-features Time: 0.0065348148345947266s\n",
      "Qnodes to lookup: 2175\n",
      "Qnodes from file: 2152\n",
      "Outlier removal generates 3 lof-voted candidates\n",
      "score-using-embedding Time: 1.1065406799316406s\n",
      "compute-tf-idf-class_count Time: 1.5254161357879639s\n",
      "compute-tf-idf-property_count Time: 1.7224457263946533s\n"
     ]
    },
    {
     "name": "stderr",
     "output_type": "stream",
     "text": [
      "197it [22:53,  8.79s/it]"
     ]
    },
    {
     "name": "stdout",
     "output_type": "stream",
     "text": [
      "mosaic-features Time: 0.007009029388427734s\n",
      "Qnodes to lookup: 1441\n",
      "Qnodes from file: 1437\n",
      "Outlier removal generates 4 lof-voted candidates\n",
      "score-using-embedding Time: 1.2138087749481201s\n",
      "compute-tf-idf-class_count Time: 1.514327049255371s\n",
      "compute-tf-idf-property_count Time: 1.6805469989776611s\n"
     ]
    },
    {
     "name": "stderr",
     "output_type": "stream",
     "text": [
      "198it [23:03,  9.20s/it]"
     ]
    },
    {
     "name": "stdout",
     "output_type": "stream",
     "text": [
      "mosaic-features Time: 0.009918928146362305s\n",
      "Qnodes to lookup: 1383\n",
      "Qnodes from file: 1350\n",
      "Outlier removal generates 2 lof-voted candidates\n",
      "Column_vector_stragtegy centroid_of_lof failed\n",
      "Column_vector_stragtegy centroid_of_lof failed\n",
      "score-using-embedding Time: 0.9091639518737793s\n",
      "compute-tf-idf-class_count Time: 1.360645055770874s\n",
      "compute-tf-idf-property_count Time: 1.6207869052886963s\n"
     ]
    },
    {
     "name": "stderr",
     "output_type": "stream",
     "text": [
      "199it [23:14,  9.46s/it]"
     ]
    },
    {
     "name": "stdout",
     "output_type": "stream",
     "text": [
      "mosaic-features Time: 0.012660980224609375s\n",
      "Qnodes to lookup: 3994\n",
      "Qnodes from file: 3911\n",
      "Outlier removal generates 4 lof-voted candidates\n",
      "Outlier removal generates 4 lof-voted candidates\n",
      "score-using-embedding Time: 1.2066519260406494s\n",
      "compute-tf-idf-class_count Time: 1.754729986190796s\n",
      "compute-tf-idf-property_count Time: 2.0897741317749023s\n"
     ]
    },
    {
     "name": "stderr",
     "output_type": "stream",
     "text": [
      "200it [23:22,  9.27s/it]"
     ]
    },
    {
     "name": "stdout",
     "output_type": "stream",
     "text": [
      "mosaic-features Time: 0.014842033386230469s\n",
      "Qnodes to lookup: 4136\n",
      "Qnodes from file: 4059\n",
      "Outlier removal generates 5 lof-voted candidates\n",
      "Outlier removal generates 6 lof-voted candidates\n",
      "Column_vector_stragtegy centroid_of_lof failed\n",
      "score-using-embedding Time: 1.5249238014221191s\n",
      "compute-tf-idf-class_count Time: 2.183871030807495s\n",
      "compute-tf-idf-property_count Time: 2.563066005706787s\n"
     ]
    },
    {
     "name": "stderr",
     "output_type": "stream",
     "text": [
      "201it [23:29,  8.46s/it]"
     ]
    },
    {
     "name": "stdout",
     "output_type": "stream",
     "text": [
      "mosaic-features Time: 0.005825042724609375s\n",
      "Qnodes to lookup: 1835\n",
      "Qnodes from file: 1804\n",
      "Outlier removal generates 4 lof-voted candidates\n",
      "score-using-embedding Time: 0.7698643207550049s\n",
      "compute-tf-idf-class_count Time: 1.1755173206329346s\n",
      "compute-tf-idf-property_count Time: 1.3641583919525146s\n"
     ]
    },
    {
     "name": "stderr",
     "output_type": "stream",
     "text": [
      "202it [23:34,  7.40s/it]"
     ]
    },
    {
     "name": "stdout",
     "output_type": "stream",
     "text": [
      "mosaic-features Time: 0.014453887939453125s\n",
      "Qnodes to lookup: 2196\n",
      "Qnodes from file: 2065\n",
      "Outlier removal generates 4 lof-voted candidates\n",
      "Outlier removal generates 4 lof-voted candidates\n",
      "Outlier removal generates 4 lof-voted candidates\n",
      "score-using-embedding Time: 1.2083559036254883s\n",
      "compute-tf-idf-class_count Time: 1.8051109313964844s\n",
      "compute-tf-idf-property_count Time: 2.1770830154418945s\n"
     ]
    },
    {
     "name": "stderr",
     "output_type": "stream",
     "text": [
      "203it [23:41,  7.25s/it]"
     ]
    },
    {
     "name": "stdout",
     "output_type": "stream",
     "text": [
      "mosaic-features Time: 0.01625800132751465s\n",
      "Qnodes to lookup: 1546\n",
      "Qnodes from file: 1539\n",
      "Outlier removal generates 5 lof-voted candidates\n",
      "Column_vector_stragtegy centroid_of_lof failed\n",
      "Column_vector_stragtegy centroid_of_lof failed\n",
      "score-using-embedding Time: 1.0634920597076416s\n",
      "compute-tf-idf-class_count Time: 1.6442980766296387s\n",
      "compute-tf-idf-property_count Time: 2.0176219940185547s\n"
     ]
    },
    {
     "name": "stderr",
     "output_type": "stream",
     "text": [
      "204it [23:47,  6.87s/it]"
     ]
    },
    {
     "name": "stdout",
     "output_type": "stream",
     "text": [
      "mosaic-features Time: 0.013292789459228516s\n",
      "Qnodes to lookup: 3579\n",
      "Qnodes from file: 3531\n",
      "Outlier removal generates 6 lof-voted candidates\n",
      "score-using-embedding Time: 1.1674902439117432s\n",
      "compute-tf-idf-class_count Time: 1.7498681545257568s\n",
      "compute-tf-idf-property_count Time: 2.0936148166656494s\n"
     ]
    },
    {
     "name": "stderr",
     "output_type": "stream",
     "text": [
      "205it [23:53,  6.67s/it]"
     ]
    },
    {
     "name": "stdout",
     "output_type": "stream",
     "text": [
      "mosaic-features Time: 0.008820772171020508s\n",
      "Qnodes to lookup: 1767\n",
      "Qnodes from file: 1726\n",
      "Outlier removal generates 4 lof-voted candidates\n",
      "Column_vector_stragtegy centroid_of_lof failed\n",
      "score-using-embedding Time: 1.144944190979004s\n",
      "compute-tf-idf-class_count Time: 1.6352159976959229s\n",
      "compute-tf-idf-property_count Time: 1.9153978824615479s\n"
     ]
    },
    {
     "name": "stderr",
     "output_type": "stream",
     "text": [
      "206it [23:58,  6.29s/it]"
     ]
    },
    {
     "name": "stdout",
     "output_type": "stream",
     "text": [
      "mosaic-features Time: 0.014475107192993164s\n",
      "Qnodes to lookup: 1215\n",
      "Qnodes from file: 1190\n",
      "Outlier removal generates 5 lof-voted candidates\n",
      "Column_vector_stragtegy centroid_of_lof failed\n",
      "score-using-embedding Time: 1.0452229976654053s\n",
      "compute-tf-idf-class_count Time: 1.5610768795013428s\n",
      "compute-tf-idf-property_count Time: 1.8581459522247314s\n"
     ]
    },
    {
     "name": "stderr",
     "output_type": "stream",
     "text": [
      "207it [24:04,  6.15s/it]"
     ]
    },
    {
     "name": "stdout",
     "output_type": "stream",
     "text": [
      "mosaic-features Time: 0.024756908416748047s\n",
      "Qnodes to lookup: 8601\n",
      "Qnodes from file: 8096\n",
      "Outlier removal generates 5 lof-voted candidates\n",
      "Outlier removal generates 3 lof-voted candidates\n",
      "Outlier removal generates 5 lof-voted candidates\n",
      "Outlier removal generates 4 lof-voted candidates\n",
      "score-using-embedding Time: 1.995516061782837s\n",
      "compute-tf-idf-class_count Time: 3.0127339363098145s\n",
      "compute-tf-idf-property_count Time: 3.675405979156494s\n"
     ]
    },
    {
     "name": "stderr",
     "output_type": "stream",
     "text": [
      "208it [24:12,  6.67s/it]"
     ]
    },
    {
     "name": "stdout",
     "output_type": "stream",
     "text": [
      "mosaic-features Time: 0.011892080307006836s\n",
      "Qnodes to lookup: 4179\n",
      "Qnodes from file: 3882\n",
      "Outlier removal generates 3 lof-voted candidates\n",
      "Outlier removal generates 4 lof-voted candidates\n",
      "score-using-embedding Time: 1.0602312088012695s\n",
      "compute-tf-idf-class_count Time: 1.59135103225708s\n",
      "compute-tf-idf-property_count Time: 1.912564992904663s\n"
     ]
    },
    {
     "name": "stderr",
     "output_type": "stream",
     "text": [
      "209it [24:18,  6.41s/it]"
     ]
    },
    {
     "name": "stdout",
     "output_type": "stream",
     "text": [
      "mosaic-features Time: 0.020351886749267578s\n",
      "Qnodes to lookup: 1901\n",
      "Qnodes from file: 1881\n",
      "Outlier removal generates 5 lof-voted candidates\n",
      "Outlier removal generates 4 lof-voted candidates\n",
      "Outlier removal generates 5 lof-voted candidates\n",
      "score-using-embedding Time: 1.259639024734497s\n",
      "compute-tf-idf-class_count Time: 2.0237507820129395s\n",
      "compute-tf-idf-property_count Time: 2.4446909427642822s\n"
     ]
    },
    {
     "name": "stderr",
     "output_type": "stream",
     "text": [
      "210it [24:24,  6.48s/it]"
     ]
    },
    {
     "name": "stdout",
     "output_type": "stream",
     "text": [
      "mosaic-features Time: 0.01346588134765625s\n",
      "Qnodes to lookup: 2836\n",
      "Qnodes from file: 2786\n",
      "Outlier removal generates 5 lof-voted candidates\n",
      "Column_vector_stragtegy centroid_of_lof failed\n",
      "score-using-embedding Time: 1.2953908443450928s\n",
      "compute-tf-idf-class_count Time: 1.8333570957183838s\n",
      "compute-tf-idf-property_count Time: 2.1313390731811523s\n"
     ]
    },
    {
     "name": "stderr",
     "output_type": "stream",
     "text": [
      "211it [24:30,  6.31s/it]"
     ]
    },
    {
     "name": "stdout",
     "output_type": "stream",
     "text": [
      "mosaic-features Time: 0.022697925567626953s\n",
      "Qnodes to lookup: 5300\n",
      "Qnodes from file: 5177\n",
      "Outlier removal generates 5 lof-voted candidates\n",
      "Outlier removal generates 2 lof-voted candidates\n",
      "Outlier removal generates 4 lof-voted candidates\n",
      "score-using-embedding Time: 1.6101689338684082s\n",
      "compute-tf-idf-class_count Time: 2.436656951904297s\n",
      "compute-tf-idf-property_count Time: 2.998792886734009s\n"
     ]
    },
    {
     "name": "stderr",
     "output_type": "stream",
     "text": [
      "212it [24:37,  6.51s/it]"
     ]
    },
    {
     "name": "stdout",
     "output_type": "stream",
     "text": [
      "mosaic-features Time: 0.005240917205810547s\n",
      "Qnodes to lookup: 1942\n",
      "Qnodes from file: 1924\n",
      "Outlier removal generates 5 lof-voted candidates\n",
      "score-using-embedding Time: 1.1344797611236572s\n",
      "compute-tf-idf-class_count Time: 1.4925780296325684s\n",
      "compute-tf-idf-property_count Time: 1.6594147682189941s\n"
     ]
    },
    {
     "name": "stderr",
     "output_type": "stream",
     "text": [
      "213it [24:43,  6.39s/it]"
     ]
    },
    {
     "name": "stdout",
     "output_type": "stream",
     "text": [
      "mosaic-features Time: 0.023409366607666016s\n",
      "Qnodes to lookup: 2891\n",
      "Qnodes from file: 2839\n",
      "Outlier removal generates 4 lof-voted candidates\n",
      "Column_vector_stragtegy centroid_of_lof failed\n",
      "Outlier removal generates 5 lof-voted candidates\n",
      "score-using-embedding Time: 1.3661880493164062s\n",
      "compute-tf-idf-class_count Time: 1.9577672481536865s\n",
      "compute-tf-idf-property_count Time: 2.3983309268951416s\n"
     ]
    },
    {
     "name": "stderr",
     "output_type": "stream",
     "text": [
      "214it [24:49,  6.23s/it]"
     ]
    },
    {
     "name": "stdout",
     "output_type": "stream",
     "text": [
      "mosaic-features Time: 0.005449056625366211s\n",
      "Qnodes to lookup: 1143\n",
      "Qnodes from file: 1135\n",
      "Outlier removal generates 5 lof-voted candidates\n",
      "score-using-embedding Time: 1.1255300045013428s\n",
      "compute-tf-idf-class_count Time: 1.4594581127166748s\n",
      "compute-tf-idf-property_count Time: 1.6341679096221924s\n"
     ]
    },
    {
     "name": "stderr",
     "output_type": "stream",
     "text": [
      "215it [24:58,  6.83s/it]"
     ]
    },
    {
     "name": "stdout",
     "output_type": "stream",
     "text": [
      "mosaic-features Time: 0.012964963912963867s\n",
      "Qnodes to lookup: 4474\n",
      "Qnodes from file: 4365\n",
      "Outlier removal generates 5 lof-voted candidates\n",
      "Outlier removal generates 4 lof-voted candidates\n",
      "score-using-embedding Time: 1.6334409713745117s\n",
      "compute-tf-idf-class_count Time: 2.208577871322632s\n",
      "compute-tf-idf-property_count Time: 2.5615811347961426s\n"
     ]
    },
    {
     "name": "stderr",
     "output_type": "stream",
     "text": [
      "216it [25:09,  8.08s/it]"
     ]
    },
    {
     "name": "stdout",
     "output_type": "stream",
     "text": [
      "mosaic-features Time: 0.005468845367431641s\n",
      "Qnodes to lookup: 1609\n",
      "Qnodes from file: 1539\n",
      "Outlier removal generates 3 lof-voted candidates\n",
      "score-using-embedding Time: 1.2234601974487305s\n",
      "compute-tf-idf-class_count Time: 1.9596920013427734s\n",
      "compute-tf-idf-property_count Time: 1.9878578186035156s\n"
     ]
    },
    {
     "name": "stderr",
     "output_type": "stream",
     "text": [
      "217it [25:19,  8.83s/it]"
     ]
    },
    {
     "name": "stdout",
     "output_type": "stream",
     "text": [
      "mosaic-features Time: 0.0053310394287109375s\n",
      "Qnodes to lookup: 2364\n",
      "Qnodes from file: 2339\n",
      "Outlier removal generates 4 lof-voted candidates\n",
      "score-using-embedding Time: 1.2536802291870117s\n",
      "compute-tf-idf-class_count Time: 1.6305088996887207s\n",
      "compute-tf-idf-property_count Time: 1.8524150848388672s\n"
     ]
    },
    {
     "name": "stderr",
     "output_type": "stream",
     "text": [
      "218it [25:29,  9.10s/it]"
     ]
    },
    {
     "name": "stdout",
     "output_type": "stream",
     "text": [
      "mosaic-features Time: 0.009989023208618164s\n",
      "Qnodes to lookup: 664\n",
      "Qnodes from file: 664\n",
      "Column_vector_stragtegy centroid_of_lof failed\n",
      "score-using-embedding Time: 0.6450679302215576s\n",
      "compute-tf-idf-class_count Time: 0.9589221477508545s\n",
      "compute-tf-idf-property_count Time: 1.142134666442871s\n"
     ]
    },
    {
     "name": "stderr",
     "output_type": "stream",
     "text": [
      "219it [25:37,  8.91s/it]"
     ]
    },
    {
     "name": "stdout",
     "output_type": "stream",
     "text": [
      "mosaic-features Time: 0.006055116653442383s\n",
      "Qnodes to lookup: 1884\n",
      "Qnodes from file: 1845\n",
      "Outlier removal generates 5 lof-voted candidates\n",
      "score-using-embedding Time: 0.8744971752166748s\n",
      "compute-tf-idf-class_count Time: 1.2309808731079102s\n",
      "compute-tf-idf-property_count Time: 1.686941146850586s\n"
     ]
    },
    {
     "name": "stderr",
     "output_type": "stream",
     "text": [
      "220it [25:42,  7.75s/it]"
     ]
    },
    {
     "name": "stdout",
     "output_type": "stream",
     "text": [
      "mosaic-features Time: 0.022236108779907227s\n",
      "Qnodes to lookup: 1968\n",
      "Qnodes from file: 1954\n",
      "Outlier removal generates 6 lof-voted candidates\n",
      "Outlier removal generates 5 lof-voted candidates\n",
      "Column_vector_stragtegy centroid_of_lof failed\n",
      "Outlier removal generates 3 lof-voted candidates\n",
      "score-using-embedding Time: 1.570749044418335s\n",
      "compute-tf-idf-class_count Time: 2.3794150352478027s\n",
      "compute-tf-idf-property_count Time: 2.9172780513763428s\n"
     ]
    },
    {
     "name": "stderr",
     "output_type": "stream",
     "text": [
      "221it [25:50,  7.65s/it]"
     ]
    },
    {
     "name": "stdout",
     "output_type": "stream",
     "text": [
      "mosaic-features Time: 0.016231060028076172s\n",
      "Qnodes to lookup: 1099\n",
      "Qnodes from file: 1085\n",
      "Outlier removal generates 4 lof-voted candidates\n",
      "Column_vector_stragtegy centroid_of_lof failed\n",
      "score-using-embedding Time: 1.345369815826416s\n",
      "compute-tf-idf-class_count Time: 1.8194878101348877s\n",
      "compute-tf-idf-property_count Time: 2.089898109436035s\n"
     ]
    },
    {
     "name": "stderr",
     "output_type": "stream",
     "text": [
      "222it [25:56,  7.31s/it]"
     ]
    },
    {
     "name": "stdout",
     "output_type": "stream",
     "text": [
      "mosaic-features Time: 0.006864070892333984s\n",
      "Qnodes to lookup: 2855\n",
      "Qnodes from file: 2815\n",
      "Outlier removal generates 4 lof-voted candidates\n",
      "score-using-embedding Time: 0.8475992679595947s\n",
      "compute-tf-idf-class_count Time: 1.265854835510254s\n",
      "compute-tf-idf-property_count Time: 1.5037798881530762s\n"
     ]
    },
    {
     "name": "stderr",
     "output_type": "stream",
     "text": [
      "223it [26:02,  6.72s/it]"
     ]
    },
    {
     "name": "stdout",
     "output_type": "stream",
     "text": [
      "mosaic-features Time: 0.016133785247802734s\n",
      "Qnodes to lookup: 3513\n",
      "Qnodes from file: 3488\n",
      "Outlier removal generates 4 lof-voted candidates\n",
      "Column_vector_stragtegy centroid_of_lof failed\n",
      "Outlier removal generates 5 lof-voted candidates\n",
      "score-using-embedding Time: 1.377439022064209s\n",
      "compute-tf-idf-class_count Time: 2.0925257205963135s\n",
      "compute-tf-idf-property_count Time: 2.571722984313965s\n"
     ]
    },
    {
     "name": "stderr",
     "output_type": "stream",
     "text": [
      "224it [26:08,  6.70s/it]"
     ]
    },
    {
     "name": "stdout",
     "output_type": "stream",
     "text": [
      "mosaic-features Time: 0.019916057586669922s\n",
      "Qnodes to lookup: 2479\n",
      "Qnodes from file: 2440\n",
      "Outlier removal generates 4 lof-voted candidates\n",
      "Column_vector_stragtegy centroid_of_lof failed\n",
      "Column_vector_stragtegy centroid_of_lof failed\n",
      "score-using-embedding Time: 1.5930852890014648s\n",
      "compute-tf-idf-class_count Time: 2.4021670818328857s\n",
      "compute-tf-idf-property_count Time: 2.911043882369995s\n"
     ]
    },
    {
     "name": "stderr",
     "output_type": "stream",
     "text": [
      "225it [26:15,  6.66s/it]"
     ]
    },
    {
     "name": "stdout",
     "output_type": "stream",
     "text": [
      "mosaic-features Time: 0.009750127792358398s\n",
      "Qnodes to lookup: 4095\n",
      "Qnodes from file: 4005\n",
      "Outlier removal generates 5 lof-voted candidates\n",
      "Outlier removal generates 4 lof-voted candidates\n",
      "score-using-embedding Time: 1.0313951969146729s\n",
      "compute-tf-idf-class_count Time: 1.6041760444641113s\n",
      "compute-tf-idf-property_count Time: 1.9121999740600586s\n"
     ]
    },
    {
     "name": "stderr",
     "output_type": "stream",
     "text": [
      "226it [26:21,  6.40s/it]"
     ]
    },
    {
     "name": "stdout",
     "output_type": "stream",
     "text": [
      "mosaic-features Time: 0.01700305938720703s\n",
      "Qnodes to lookup: 3351\n",
      "Qnodes from file: 3331\n",
      "Outlier removal generates 5 lof-voted candidates\n",
      "Outlier removal generates 6 lof-voted candidates\n",
      "Outlier removal generates 4 lof-voted candidates\n",
      "score-using-embedding Time: 1.492077112197876s\n",
      "compute-tf-idf-class_count Time: 2.0967800617218018s\n",
      "compute-tf-idf-property_count Time: 2.499290943145752s\n"
     ]
    },
    {
     "name": "stderr",
     "output_type": "stream",
     "text": [
      "227it [26:27,  6.52s/it]"
     ]
    },
    {
     "name": "stdout",
     "output_type": "stream",
     "text": [
      "mosaic-features Time: 0.0073049068450927734s\n",
      "Qnodes to lookup: 2388\n",
      "Qnodes from file: 2361\n",
      "Outlier removal generates 3 lof-voted candidates\n",
      "score-using-embedding Time: 0.8415369987487793s\n",
      "compute-tf-idf-class_count Time: 1.2736072540283203s\n",
      "compute-tf-idf-property_count Time: 1.505843162536621s\n"
     ]
    },
    {
     "name": "stderr",
     "output_type": "stream",
     "text": [
      "228it [26:33,  6.13s/it]"
     ]
    },
    {
     "name": "stdout",
     "output_type": "stream",
     "text": [
      "mosaic-features Time: 0.022548913955688477s\n",
      "Qnodes to lookup: 4166\n",
      "Qnodes from file: 4038\n",
      "Outlier removal generates 5 lof-voted candidates\n",
      "Outlier removal generates 5 lof-voted candidates\n",
      "Outlier removal generates 2 lof-voted candidates\n",
      "score-using-embedding Time: 1.3977878093719482s\n",
      "compute-tf-idf-class_count Time: 2.1426808834075928s\n",
      "compute-tf-idf-property_count Time: 2.6018059253692627s\n"
     ]
    },
    {
     "name": "stderr",
     "output_type": "stream",
     "text": [
      "229it [26:40,  6.48s/it]"
     ]
    },
    {
     "name": "stdout",
     "output_type": "stream",
     "text": [
      "mosaic-features Time: 0.005341053009033203s\n",
      "Qnodes to lookup: 1138\n",
      "Qnodes from file: 1123\n",
      "Outlier removal generates 4 lof-voted candidates\n",
      "score-using-embedding Time: 0.7766950130462646s\n",
      "compute-tf-idf-class_count Time: 1.1177949905395508s\n",
      "compute-tf-idf-property_count Time: 1.2943708896636963s\n"
     ]
    },
    {
     "name": "stderr",
     "output_type": "stream",
     "text": [
      "230it [26:45,  6.04s/it]"
     ]
    },
    {
     "name": "stdout",
     "output_type": "stream",
     "text": [
      "mosaic-features Time: 0.016978025436401367s\n",
      "Qnodes to lookup: 6477\n",
      "Qnodes from file: 6325\n",
      "Outlier removal generates 5 lof-voted candidates\n",
      "Outlier removal generates 4 lof-voted candidates\n",
      "Outlier removal generates 4 lof-voted candidates\n",
      "score-using-embedding Time: 1.4155070781707764s\n",
      "compute-tf-idf-class_count Time: 2.175184726715088s\n",
      "compute-tf-idf-property_count Time: 2.62888503074646s\n"
     ]
    },
    {
     "name": "stderr",
     "output_type": "stream",
     "text": [
      "231it [26:52,  6.18s/it]"
     ]
    },
    {
     "name": "stdout",
     "output_type": "stream",
     "text": [
      "mosaic-features Time: 0.004965066909790039s\n",
      "Qnodes to lookup: 1801\n",
      "Qnodes from file: 1783\n",
      "Outlier removal generates 5 lof-voted candidates\n",
      "score-using-embedding Time: 1.1542458534240723s\n",
      "compute-tf-idf-class_count Time: 1.5453858375549316s\n",
      "compute-tf-idf-property_count Time: 1.7374119758605957s\n"
     ]
    },
    {
     "name": "stderr",
     "output_type": "stream",
     "text": [
      "232it [26:57,  5.86s/it]"
     ]
    },
    {
     "name": "stdout",
     "output_type": "stream",
     "text": [
      "mosaic-features Time: 0.016556739807128906s\n",
      "Qnodes to lookup: 4275\n",
      "Qnodes from file: 4194\n",
      "Outlier removal generates 4 lof-voted candidates\n",
      "Outlier removal generates 5 lof-voted candidates\n",
      "score-using-embedding Time: 1.1557350158691406s\n",
      "compute-tf-idf-class_count Time: 1.7573890686035156s\n",
      "compute-tf-idf-property_count Time: 2.1427550315856934s\n"
     ]
    },
    {
     "name": "stderr",
     "output_type": "stream",
     "text": [
      "233it [27:02,  5.76s/it]"
     ]
    },
    {
     "name": "stdout",
     "output_type": "stream",
     "text": [
      "mosaic-features Time: 0.01112508773803711s\n",
      "Qnodes to lookup: 3966\n",
      "Qnodes from file: 3888\n",
      "Outlier removal generates 6 lof-voted candidates\n",
      "Outlier removal generates 3 lof-voted candidates\n",
      "score-using-embedding Time: 1.5360329151153564s\n",
      "compute-tf-idf-class_count Time: 2.147671937942505s\n",
      "compute-tf-idf-property_count Time: 2.4774768352508545s\n"
     ]
    },
    {
     "name": "stderr",
     "output_type": "stream",
     "text": [
      "234it [27:10,  6.25s/it]"
     ]
    },
    {
     "name": "stdout",
     "output_type": "stream",
     "text": [
      "mosaic-features Time: 0.021804094314575195s\n",
      "Qnodes to lookup: 4574\n",
      "Qnodes from file: 4524\n",
      "Outlier removal generates 5 lof-voted candidates\n",
      "Outlier removal generates 5 lof-voted candidates\n",
      "Column_vector_stragtegy centroid_of_lof failed\n",
      "score-using-embedding Time: 1.7334651947021484s\n",
      "compute-tf-idf-class_count Time: 2.6096131801605225s\n",
      "compute-tf-idf-property_count Time: 3.1576881408691406s\n"
     ]
    },
    {
     "name": "stderr",
     "output_type": "stream",
     "text": [
      "235it [27:17,  6.75s/it]"
     ]
    },
    {
     "name": "stdout",
     "output_type": "stream",
     "text": [
      "mosaic-features Time: 0.007588863372802734s\n",
      "Qnodes to lookup: 1015\n",
      "Qnodes from file: 995\n",
      "Outlier removal generates 2 lof-voted candidates\n",
      "score-using-embedding Time: 1.3095118999481201s\n",
      "compute-tf-idf-class_count Time: 1.9303107261657715s\n",
      "compute-tf-idf-property_count Time: 2.12656307220459s\n"
     ]
    },
    {
     "name": "stderr",
     "output_type": "stream",
     "text": [
      "236it [27:27,  7.67s/it]"
     ]
    },
    {
     "name": "stdout",
     "output_type": "stream",
     "text": [
      "mosaic-features Time: 0.004427194595336914s\n",
      "Qnodes to lookup: 608\n",
      "Qnodes from file: 603\n",
      "Outlier removal generates 6 lof-voted candidates\n",
      "score-using-embedding Time: 1.1795170307159424s\n",
      "compute-tf-idf-class_count Time: 1.862234115600586s\n",
      "compute-tf-idf-property_count Time: 2.0227229595184326s\n"
     ]
    },
    {
     "name": "stderr",
     "output_type": "stream",
     "text": [
      "237it [27:37,  8.33s/it]"
     ]
    },
    {
     "name": "stdout",
     "output_type": "stream",
     "text": [
      "mosaic-features Time: 0.016134023666381836s\n",
      "Qnodes to lookup: 2484\n",
      "Qnodes from file: 2451\n",
      "Outlier removal generates 4 lof-voted candidates\n",
      "Outlier removal generates 3 lof-voted candidates\n",
      "Outlier removal generates 5 lof-voted candidates\n",
      "score-using-embedding Time: 1.194505214691162s\n",
      "compute-tf-idf-class_count Time: 1.8039066791534424s\n",
      "compute-tf-idf-property_count Time: 2.187013864517212s\n"
     ]
    },
    {
     "name": "stderr",
     "output_type": "stream",
     "text": [
      "238it [27:46,  8.60s/it]"
     ]
    },
    {
     "name": "stdout",
     "output_type": "stream",
     "text": [
      "mosaic-features Time: 0.009996175765991211s\n",
      "Qnodes to lookup: 1145\n",
      "Qnodes from file: 1121\n",
      "Outlier removal generates 5 lof-voted candidates\n",
      "Column_vector_stragtegy centroid_of_lof failed\n",
      "score-using-embedding Time: 0.8400397300720215s\n",
      "compute-tf-idf-class_count Time: 1.2727327346801758s\n",
      "compute-tf-idf-property_count Time: 1.5147762298583984s\n"
     ]
    },
    {
     "name": "stderr",
     "output_type": "stream",
     "text": [
      "239it [27:54,  8.28s/it]"
     ]
    },
    {
     "name": "stdout",
     "output_type": "stream",
     "text": [
      "mosaic-features Time: 0.017293214797973633s\n",
      "Qnodes to lookup: 4742\n",
      "Qnodes from file: 4690\n",
      "Outlier removal generates 4 lof-voted candidates\n",
      "Outlier removal generates 2 lof-voted candidates\n",
      "Column_vector_stragtegy centroid_of_lof failed\n",
      "score-using-embedding Time: 2.264519214630127s\n",
      "compute-tf-idf-class_count Time: 3.0468437671661377s\n",
      "compute-tf-idf-property_count Time: 3.4570529460906982s\n"
     ]
    },
    {
     "name": "stderr",
     "output_type": "stream",
     "text": [
      "240it [28:01,  7.99s/it]"
     ]
    },
    {
     "name": "stdout",
     "output_type": "stream",
     "text": [
      "mosaic-features Time: 0.0067789554595947266s\n",
      "Qnodes to lookup: 1539\n",
      "Qnodes from file: 1514\n",
      "Outlier removal generates 4 lof-voted candidates\n",
      "score-using-embedding Time: 0.7580082416534424s\n",
      "compute-tf-idf-class_count Time: 1.1241929531097412s\n",
      "compute-tf-idf-property_count Time: 1.3274896144866943s\n"
     ]
    },
    {
     "name": "stderr",
     "output_type": "stream",
     "text": [
      "241it [28:06,  7.06s/it]"
     ]
    },
    {
     "name": "stdout",
     "output_type": "stream",
     "text": [
      "mosaic-features Time: 0.013177156448364258s\n",
      "Qnodes to lookup: 2315\n",
      "Qnodes from file: 2229\n",
      "Outlier removal generates 5 lof-voted candidates\n",
      "Column_vector_stragtegy centroid_of_lof failed\n",
      "Outlier removal generates 5 lof-voted candidates\n",
      "score-using-embedding Time: 1.1249189376831055s\n",
      "compute-tf-idf-class_count Time: 1.6729888916015625s\n",
      "compute-tf-idf-property_count Time: 2.003382921218872s\n"
     ]
    },
    {
     "name": "stderr",
     "output_type": "stream",
     "text": [
      "242it [28:13,  6.96s/it]"
     ]
    },
    {
     "name": "stdout",
     "output_type": "stream",
     "text": [
      "mosaic-features Time: 0.0044879913330078125s\n",
      "Qnodes to lookup: 1513\n",
      "Qnodes from file: 1466\n",
      "Outlier removal generates 4 lof-voted candidates\n",
      "score-using-embedding Time: 0.7288730144500732s\n",
      "compute-tf-idf-class_count Time: 1.0552690029144287s\n",
      "compute-tf-idf-property_count Time: 1.2264578342437744s\n"
     ]
    },
    {
     "name": "stderr",
     "output_type": "stream",
     "text": [
      "243it [28:18,  6.39s/it]"
     ]
    },
    {
     "name": "stdout",
     "output_type": "stream",
     "text": [
      "mosaic-features Time: 0.006422996520996094s\n",
      "Qnodes to lookup: 1942\n",
      "Qnodes from file: 1922\n",
      "Outlier removal generates 4 lof-voted candidates\n",
      "score-using-embedding Time: 0.7202177047729492s\n",
      "compute-tf-idf-class_count Time: 1.0872230529785156s\n",
      "compute-tf-idf-property_count Time: 1.3023350238800049s\n"
     ]
    },
    {
     "name": "stderr",
     "output_type": "stream",
     "text": [
      "244it [28:24,  6.33s/it]"
     ]
    },
    {
     "name": "stdout",
     "output_type": "stream",
     "text": [
      "mosaic-features Time: 0.009532928466796875s\n",
      "Qnodes to lookup: 3520\n",
      "Qnodes from file: 3438\n",
      "Outlier removal generates 5 lof-voted candidates\n",
      "Outlier removal generates 2 lof-voted candidates\n",
      "score-using-embedding Time: 0.9584941864013672s\n",
      "compute-tf-idf-class_count Time: 1.462460994720459s\n",
      "compute-tf-idf-property_count Time: 1.752549171447754s\n"
     ]
    },
    {
     "name": "stderr",
     "output_type": "stream",
     "text": [
      "245it [28:30,  6.11s/it]"
     ]
    },
    {
     "name": "stdout",
     "output_type": "stream",
     "text": [
      "mosaic-features Time: 0.012804269790649414s\n",
      "Qnodes to lookup: 2717\n",
      "Qnodes from file: 2587\n",
      "Outlier removal generates 4 lof-voted candidates\n",
      "Outlier removal generates 5 lof-voted candidates\n",
      "score-using-embedding Time: 1.0452499389648438s\n",
      "compute-tf-idf-class_count Time: 1.581387996673584s\n",
      "compute-tf-idf-property_count Time: 1.9032137393951416s\n"
     ]
    },
    {
     "name": "stderr",
     "output_type": "stream",
     "text": [
      "246it [28:35,  5.93s/it]"
     ]
    },
    {
     "name": "stdout",
     "output_type": "stream",
     "text": [
      "mosaic-features Time: 0.0223691463470459s\n",
      "Qnodes to lookup: 3867\n",
      "Qnodes from file: 3780\n",
      "Outlier removal generates 5 lof-voted candidates\n",
      "Column_vector_stragtegy centroid_of_lof failed\n",
      "Outlier removal generates 5 lof-voted candidates\n",
      "Outlier removal generates 4 lof-voted candidates\n",
      "score-using-embedding Time: 1.755906105041504s\n",
      "compute-tf-idf-class_count Time: 2.599202871322632s\n",
      "compute-tf-idf-property_count Time: 3.1765458583831787s\n"
     ]
    },
    {
     "name": "stderr",
     "output_type": "stream",
     "text": [
      "247it [28:42,  6.16s/it]"
     ]
    },
    {
     "name": "stdout",
     "output_type": "stream",
     "text": [
      "mosaic-features Time: 0.009660720825195312s\n",
      "Qnodes to lookup: 3371\n",
      "Qnodes from file: 3333\n",
      "Outlier removal generates 4 lof-voted candidates\n",
      "Outlier removal generates 5 lof-voted candidates\n",
      "score-using-embedding Time: 0.9772629737854004s\n",
      "compute-tf-idf-class_count Time: 1.4744069576263428s\n",
      "compute-tf-idf-property_count Time: 1.738764762878418s\n"
     ]
    },
    {
     "name": "stderr",
     "output_type": "stream",
     "text": [
      "248it [28:47,  5.98s/it]"
     ]
    },
    {
     "name": "stdout",
     "output_type": "stream",
     "text": [
      "mosaic-features Time: 0.008414745330810547s\n",
      "Qnodes to lookup: 2062\n",
      "Qnodes from file: 2046\n",
      "Outlier removal generates 2 lof-voted candidates\n",
      "score-using-embedding Time: 0.9012548923492432s\n",
      "compute-tf-idf-class_count Time: 1.2875699996948242s\n",
      "compute-tf-idf-property_count Time: 1.5115339756011963s\n"
     ]
    },
    {
     "name": "stderr",
     "output_type": "stream",
     "text": [
      "249it [28:53,  6.00s/it]"
     ]
    },
    {
     "name": "stdout",
     "output_type": "stream",
     "text": [
      "mosaic-features Time: 0.03386712074279785s\n",
      "Qnodes to lookup: 4737\n",
      "Qnodes from file: 4660\n",
      "Outlier removal generates 5 lof-voted candidates\n",
      "Outlier removal generates 4 lof-voted candidates\n",
      "Outlier removal generates 4 lof-voted candidates\n",
      "Outlier removal generates 5 lof-voted candidates\n",
      "Outlier removal generates 5 lof-voted candidates\n",
      "score-using-embedding Time: 2.1128628253936768s\n",
      "compute-tf-idf-class_count Time: 3.175473928451538s\n",
      "compute-tf-idf-property_count Time: 3.965259075164795s\n"
     ]
    },
    {
     "name": "stderr",
     "output_type": "stream",
     "text": [
      "250it [29:02,  6.62s/it]"
     ]
    },
    {
     "name": "stdout",
     "output_type": "stream",
     "text": [
      "mosaic-features Time: 0.015620946884155273s\n",
      "Qnodes to lookup: 3295\n",
      "Qnodes from file: 3228\n",
      "Outlier removal generates 5 lof-voted candidates\n",
      "Outlier removal generates 5 lof-voted candidates\n",
      "score-using-embedding Time: 1.0925109386444092s\n",
      "compute-tf-idf-class_count Time: 1.6877989768981934s\n",
      "compute-tf-idf-property_count Time: 1.9994359016418457s\n"
     ]
    },
    {
     "name": "stderr",
     "output_type": "stream",
     "text": [
      "251it [29:08,  6.45s/it]"
     ]
    },
    {
     "name": "stdout",
     "output_type": "stream",
     "text": [
      "mosaic-features Time: 0.005867958068847656s\n",
      "Qnodes to lookup: 1906\n",
      "Qnodes from file: 1864\n",
      "Outlier removal generates 4 lof-voted candidates\n",
      "score-using-embedding Time: 0.6817150115966797s\n",
      "compute-tf-idf-class_count Time: 1.0329759120941162s\n",
      "compute-tf-idf-property_count Time: 1.2264842987060547s\n"
     ]
    },
    {
     "name": "stderr",
     "output_type": "stream",
     "text": [
      "252it [29:12,  5.87s/it]"
     ]
    },
    {
     "name": "stdout",
     "output_type": "stream",
     "text": [
      "mosaic-features Time: 0.007057905197143555s\n",
      "Qnodes to lookup: 2306\n",
      "Qnodes from file: 2279\n",
      "Outlier removal generates 5 lof-voted candidates\n",
      "score-using-embedding Time: 0.7860138416290283s\n",
      "compute-tf-idf-class_count Time: 1.1602258682250977s\n",
      "compute-tf-idf-property_count Time: 1.3685119152069092s\n"
     ]
    },
    {
     "name": "stderr",
     "output_type": "stream",
     "text": [
      "253it [29:17,  5.65s/it]"
     ]
    },
    {
     "name": "stdout",
     "output_type": "stream",
     "text": [
      "mosaic-features Time: 0.010548114776611328s\n",
      "Qnodes to lookup: 2219\n",
      "Qnodes from file: 2196\n",
      "Outlier removal generates 5 lof-voted candidates\n",
      "Outlier removal generates 5 lof-voted candidates\n",
      "score-using-embedding Time: 2.2286550998687744s\n",
      "compute-tf-idf-class_count Time: 3.0502431392669678s\n",
      "compute-tf-idf-property_count Time: 3.3521838188171387s\n"
     ]
    },
    {
     "name": "stderr",
     "output_type": "stream",
     "text": [
      "254it [29:26,  6.66s/it]"
     ]
    },
    {
     "name": "stdout",
     "output_type": "stream",
     "text": [
      "mosaic-features Time: 0.012411832809448242s\n",
      "Qnodes to lookup: 3613\n",
      "Qnodes from file: 3537\n",
      "Outlier removal generates 4 lof-voted candidates\n",
      "Outlier removal generates 5 lof-voted candidates\n",
      "Outlier removal generates 4 lof-voted candidates\n",
      "score-using-embedding Time: 2.4461729526519775s\n",
      "compute-tf-idf-class_count Time: 3.176624059677124s\n",
      "compute-tf-idf-property_count Time: 3.501582145690918s\n"
     ]
    },
    {
     "name": "stderr",
     "output_type": "stream",
     "text": [
      "255it [29:37,  8.01s/it]"
     ]
    },
    {
     "name": "stdout",
     "output_type": "stream",
     "text": [
      "mosaic-features Time: 0.00391697883605957s\n",
      "Qnodes to lookup: 1000\n",
      "Qnodes from file: 998\n",
      "Outlier removal generates 6 lof-voted candidates\n",
      "score-using-embedding Time: 1.3258941173553467s\n",
      "compute-tf-idf-class_count Time: 2.767580032348633s\n",
      "compute-tf-idf-property_count Time: 2.9400832653045654s\n"
     ]
    },
    {
     "name": "stderr",
     "output_type": "stream",
     "text": [
      "256it [29:47,  8.48s/it]"
     ]
    },
    {
     "name": "stdout",
     "output_type": "stream",
     "text": [
      "mosaic-features Time: 0.007131099700927734s\n",
      "Qnodes to lookup: 2672\n",
      "Qnodes from file: 2628\n",
      "Outlier removal generates 4 lof-voted candidates\n",
      "score-using-embedding Time: 0.8168182373046875s\n",
      "compute-tf-idf-class_count Time: 1.1958699226379395s\n",
      "compute-tf-idf-property_count Time: 1.4087038040161133s\n"
     ]
    },
    {
     "name": "stderr",
     "output_type": "stream",
     "text": [
      "257it [29:54,  8.10s/it]"
     ]
    },
    {
     "name": "stdout",
     "output_type": "stream",
     "text": [
      "mosaic-features Time: 0.010106086730957031s\n",
      "Qnodes to lookup: 2950\n",
      "Qnodes from file: 2906\n",
      "Outlier removal generates 5 lof-voted candidates\n",
      "Outlier removal generates 4 lof-voted candidates\n",
      "score-using-embedding Time: 0.884901762008667s\n",
      "compute-tf-idf-class_count Time: 1.4297242164611816s\n",
      "compute-tf-idf-property_count Time: 1.6900920867919922s\n"
     ]
    },
    {
     "name": "stderr",
     "output_type": "stream",
     "text": [
      "258it [30:03,  8.20s/it]"
     ]
    },
    {
     "name": "stdout",
     "output_type": "stream",
     "text": [
      "mosaic-features Time: 0.03143596649169922s\n",
      "Qnodes to lookup: 10174\n",
      "Qnodes from file: 9953\n",
      "Outlier removal generates 7 lof-voted candidates\n",
      "Column_vector_stragtegy centroid_of_lof failed\n",
      "Column_vector_stragtegy centroid_of_lof failed\n",
      "score-using-embedding Time: 2.7872538566589355s\n",
      "compute-tf-idf-class_count Time: 4.045251131057739s\n",
      "compute-tf-idf-property_count Time: 4.81060004234314s\n"
     ]
    },
    {
     "name": "stderr",
     "output_type": "stream",
     "text": [
      "259it [30:13,  8.96s/it]"
     ]
    },
    {
     "name": "stdout",
     "output_type": "stream",
     "text": [
      "mosaic-features Time: 0.006665945053100586s\n",
      "Qnodes to lookup: 2181\n",
      "Qnodes from file: 2093\n",
      "Outlier removal generates 4 lof-voted candidates\n",
      "score-using-embedding Time: 0.8106842041015625s\n",
      "compute-tf-idf-class_count Time: 1.2197291851043701s\n",
      "compute-tf-idf-property_count Time: 1.4160809516906738s\n"
     ]
    },
    {
     "name": "stderr",
     "output_type": "stream",
     "text": [
      "260it [30:19,  8.00s/it]"
     ]
    },
    {
     "name": "stdout",
     "output_type": "stream",
     "text": [
      "mosaic-features Time: 0.0189969539642334s\n",
      "Qnodes to lookup: 4895\n",
      "Qnodes from file: 4804\n",
      "Outlier removal generates 3 lof-voted candidates\n",
      "Outlier removal generates 2 lof-voted candidates\n",
      "Outlier removal generates 5 lof-voted candidates\n",
      "score-using-embedding Time: 1.5420069694519043s\n",
      "compute-tf-idf-class_count Time: 2.3425118923187256s\n",
      "compute-tf-idf-property_count Time: 2.8528079986572266s\n"
     ]
    },
    {
     "name": "stderr",
     "output_type": "stream",
     "text": [
      "261it [30:26,  7.67s/it]"
     ]
    },
    {
     "name": "stdout",
     "output_type": "stream",
     "text": [
      "mosaic-features Time: 0.01104879379272461s\n",
      "Qnodes to lookup: 2442\n",
      "Qnodes from file: 2410\n",
      "Outlier removal generates 5 lof-voted candidates\n",
      "No pseudo GT available, using all exact matches as high precision\n",
      "Outlier removal generates 20 lof-voted candidates\n",
      "score-using-embedding Time: 0.9673731327056885s\n",
      "compute-tf-idf-class_count Time: 1.4846608638763428s\n",
      "compute-tf-idf-property_count Time: 1.729569911956787s\n"
     ]
    },
    {
     "name": "stderr",
     "output_type": "stream",
     "text": [
      "262it [30:34,  7.87s/it]"
     ]
    },
    {
     "name": "stdout",
     "output_type": "stream",
     "text": [
      "mosaic-features Time: 0.006878852844238281s\n",
      "Qnodes to lookup: 1524\n",
      "Qnodes from file: 1510\n",
      "Outlier removal generates 4 lof-voted candidates\n",
      "score-using-embedding Time: 0.7801437377929688s\n",
      "compute-tf-idf-class_count Time: 1.154127836227417s\n",
      "compute-tf-idf-property_count Time: 1.338005781173706s\n"
     ]
    },
    {
     "name": "stderr",
     "output_type": "stream",
     "text": [
      "263it [30:40,  7.13s/it]"
     ]
    },
    {
     "name": "stdout",
     "output_type": "stream",
     "text": [
      "mosaic-features Time: 0.00704503059387207s\n",
      "Qnodes to lookup: 523\n",
      "Qnodes from file: 516\n",
      "Outlier removal generates 4 lof-voted candidates\n",
      "score-using-embedding Time: 0.6522009372711182s\n",
      "compute-tf-idf-class_count Time: 0.9554407596588135s\n",
      "compute-tf-idf-property_count Time: 1.1376018524169922s\n"
     ]
    },
    {
     "name": "stderr",
     "output_type": "stream",
     "text": [
      "264it [30:45,  6.49s/it]"
     ]
    },
    {
     "name": "stdout",
     "output_type": "stream",
     "text": [
      "mosaic-features Time: 0.019510984420776367s\n",
      "Qnodes to lookup: 4828\n",
      "Qnodes from file: 4762\n",
      "Outlier removal generates 5 lof-voted candidates\n",
      "Outlier removal generates 4 lof-voted candidates\n",
      "Outlier removal generates 4 lof-voted candidates\n",
      "score-using-embedding Time: 1.6318070888519287s\n",
      "compute-tf-idf-class_count Time: 2.413874864578247s\n",
      "compute-tf-idf-property_count Time: 2.890866994857788s\n"
     ]
    },
    {
     "name": "stderr",
     "output_type": "stream",
     "text": [
      "265it [30:52,  6.65s/it]"
     ]
    },
    {
     "name": "stdout",
     "output_type": "stream",
     "text": [
      "mosaic-features Time: 0.007128000259399414s\n",
      "Qnodes to lookup: 2007\n",
      "Qnodes from file: 1964\n",
      "Outlier removal generates 3 lof-voted candidates\n",
      "score-using-embedding Time: 0.7491171360015869s\n",
      "compute-tf-idf-class_count Time: 1.1542198657989502s\n",
      "compute-tf-idf-property_count Time: 1.3335821628570557s\n"
     ]
    },
    {
     "name": "stderr",
     "output_type": "stream",
     "text": [
      "266it [30:56,  6.06s/it]"
     ]
    },
    {
     "name": "stdout",
     "output_type": "stream",
     "text": [
      "mosaic-features Time: 0.004662990570068359s\n",
      "Qnodes to lookup: 1922\n",
      "Qnodes from file: 1893\n",
      "Outlier removal generates 2 lof-voted candidates\n",
      "score-using-embedding Time: 0.7539069652557373s\n",
      "compute-tf-idf-class_count Time: 1.1187949180603027s\n",
      "compute-tf-idf-property_count Time: 1.2798559665679932s\n"
     ]
    },
    {
     "name": "stderr",
     "output_type": "stream",
     "text": [
      "267it [31:02,  6.03s/it]"
     ]
    },
    {
     "name": "stdout",
     "output_type": "stream",
     "text": [
      "mosaic-features Time: 0.015180110931396484s\n",
      "Qnodes to lookup: 4095\n",
      "Qnodes from file: 4049\n",
      "Outlier removal generates 5 lof-voted candidates\n",
      "Outlier removal generates 2 lof-voted candidates\n",
      "Outlier removal generates 4 lof-voted candidates\n",
      "score-using-embedding Time: 1.3019487857818604s\n",
      "compute-tf-idf-class_count Time: 1.9873032569885254s\n",
      "compute-tf-idf-property_count Time: 2.4779999256134033s\n"
     ]
    },
    {
     "name": "stderr",
     "output_type": "stream",
     "text": [
      "268it [31:09,  6.13s/it]"
     ]
    },
    {
     "name": "stdout",
     "output_type": "stream",
     "text": [
      "mosaic-features Time: 0.018029212951660156s\n",
      "Qnodes to lookup: 4103\n",
      "Qnodes from file: 4022\n",
      "Outlier removal generates 4 lof-voted candidates\n",
      "Outlier removal generates 5 lof-voted candidates\n",
      "Column_vector_stragtegy centroid_of_lof failed\n",
      "Outlier removal generates 4 lof-voted candidates\n",
      "score-using-embedding Time: 1.4885480403900146s\n",
      "compute-tf-idf-class_count Time: 2.27787184715271s\n",
      "compute-tf-idf-property_count Time: 2.761898994445801s\n"
     ]
    },
    {
     "name": "stderr",
     "output_type": "stream",
     "text": [
      "269it [31:15,  6.19s/it]"
     ]
    },
    {
     "name": "stdout",
     "output_type": "stream",
     "text": [
      "mosaic-features Time: 0.017390727996826172s\n",
      "Qnodes to lookup: 4372\n",
      "Qnodes from file: 4288\n",
      "Outlier removal generates 2 lof-voted candidates\n",
      "Outlier removal generates 2 lof-voted candidates\n",
      "Outlier removal generates 3 lof-voted candidates\n",
      "score-using-embedding Time: 1.5726406574249268s\n",
      "compute-tf-idf-class_count Time: 2.233729124069214s\n",
      "compute-tf-idf-property_count Time: 2.6585400104522705s\n"
     ]
    },
    {
     "name": "stderr",
     "output_type": "stream",
     "text": [
      "270it [31:21,  6.17s/it]"
     ]
    },
    {
     "name": "stdout",
     "output_type": "stream",
     "text": [
      "mosaic-features Time: 0.005257129669189453s\n",
      "Qnodes to lookup: 2007\n",
      "Qnodes from file: 1974\n",
      "Outlier removal generates 5 lof-voted candidates\n",
      "score-using-embedding Time: 0.7889740467071533s\n",
      "compute-tf-idf-class_count Time: 1.1999728679656982s\n",
      "compute-tf-idf-property_count Time: 1.4015381336212158s\n"
     ]
    },
    {
     "name": "stderr",
     "output_type": "stream",
     "text": [
      "271it [31:26,  5.76s/it]"
     ]
    },
    {
     "name": "stdout",
     "output_type": "stream",
     "text": [
      "mosaic-features Time: 0.011955976486206055s\n",
      "Qnodes to lookup: 2113\n",
      "Qnodes from file: 2103\n",
      "Outlier removal generates 4 lof-voted candidates\n",
      "score-using-embedding Time: 1.3423278331756592s\n",
      "compute-tf-idf-class_count Time: 1.7513070106506348s\n",
      "compute-tf-idf-property_count Time: 1.9807789325714111s\n"
     ]
    },
    {
     "name": "stderr",
     "output_type": "stream",
     "text": [
      "272it [31:32,  5.74s/it]"
     ]
    },
    {
     "name": "stdout",
     "output_type": "stream",
     "text": [
      "mosaic-features Time: 0.008569717407226562s\n",
      "Qnodes to lookup: 2811\n",
      "Qnodes from file: 2799\n",
      "Outlier removal generates 4 lof-voted candidates\n",
      "score-using-embedding Time: 0.8979470729827881s\n",
      "compute-tf-idf-class_count Time: 1.2658109664916992s\n",
      "compute-tf-idf-property_count Time: 1.5089070796966553s\n"
     ]
    },
    {
     "name": "stderr",
     "output_type": "stream",
     "text": [
      "273it [31:37,  5.63s/it]"
     ]
    },
    {
     "name": "stdout",
     "output_type": "stream",
     "text": [
      "mosaic-features Time: 0.006838083267211914s\n",
      "Qnodes to lookup: 2497\n",
      "Qnodes from file: 2473\n",
      "Outlier removal generates 4 lof-voted candidates\n",
      "score-using-embedding Time: 2.027008056640625s\n",
      "compute-tf-idf-class_count Time: 2.5014922618865967s\n",
      "compute-tf-idf-property_count Time: 2.6868720054626465s\n"
     ]
    },
    {
     "name": "stderr",
     "output_type": "stream",
     "text": [
      "274it [31:44,  6.13s/it]"
     ]
    },
    {
     "name": "stdout",
     "output_type": "stream",
     "text": [
      "mosaic-features Time: 0.010009765625s\n",
      "Qnodes to lookup: 2847\n",
      "Qnodes from file: 2822\n",
      "Outlier removal generates 4 lof-voted candidates\n",
      "Outlier removal generates 4 lof-voted candidates\n",
      "score-using-embedding Time: 2.118459939956665s\n",
      "compute-tf-idf-class_count Time: 2.9767370223999023s\n",
      "compute-tf-idf-property_count Time: 3.268401861190796s\n"
     ]
    },
    {
     "name": "stderr",
     "output_type": "stream",
     "text": [
      "275it [31:53,  6.89s/it]"
     ]
    },
    {
     "name": "stdout",
     "output_type": "stream",
     "text": [
      "mosaic-features Time: 0.010185956954956055s\n",
      "Qnodes to lookup: 2116\n",
      "Qnodes from file: 2024\n",
      "Outlier removal generates 3 lof-voted candidates\n",
      "Outlier removal generates 2 lof-voted candidates\n",
      "score-using-embedding Time: 1.5682790279388428s\n",
      "compute-tf-idf-class_count Time: 2.952346086502075s\n",
      "compute-tf-idf-property_count Time: 3.248528003692627s\n"
     ]
    },
    {
     "name": "stderr",
     "output_type": "stream",
     "text": [
      "276it [32:03,  7.84s/it]"
     ]
    },
    {
     "name": "stdout",
     "output_type": "stream",
     "text": [
      "mosaic-features Time: 0.018658876419067383s\n",
      "Qnodes to lookup: 5681\n",
      "Qnodes from file: 5607\n",
      "Outlier removal generates 2 lof-voted candidates\n",
      "Outlier removal generates 4 lof-voted candidates\n",
      "Outlier removal generates 4 lof-voted candidates\n",
      "score-using-embedding Time: 2.910284996032715s\n",
      "compute-tf-idf-class_count Time: 4.525054931640625s\n",
      "compute-tf-idf-property_count Time: 5.061483860015869s\n"
     ]
    },
    {
     "name": "stderr",
     "output_type": "stream",
     "text": [
      "277it [32:16,  9.34s/it]"
     ]
    },
    {
     "name": "stdout",
     "output_type": "stream",
     "text": [
      "mosaic-features Time: 0.009404897689819336s\n",
      "Qnodes to lookup: 2137\n",
      "Qnodes from file: 2122\n",
      "Outlier removal generates 5 lof-voted candidates\n",
      "score-using-embedding Time: 0.848242998123169s\n",
      "compute-tf-idf-class_count Time: 1.24406099319458s\n",
      "compute-tf-idf-property_count Time: 1.4549520015716553s\n"
     ]
    },
    {
     "name": "stderr",
     "output_type": "stream",
     "text": [
      "278it [32:22,  8.19s/it]"
     ]
    },
    {
     "name": "stdout",
     "output_type": "stream",
     "text": [
      "mosaic-features Time: 0.02520608901977539s\n",
      "Qnodes to lookup: 5470\n",
      "Qnodes from file: 5348\n",
      "Outlier removal generates 3 lof-voted candidates\n",
      "Outlier removal generates 4 lof-voted candidates\n",
      "Column_vector_stragtegy centroid_of_lof failed\n",
      "score-using-embedding Time: 1.7547218799591064s\n",
      "compute-tf-idf-class_count Time: 2.462486743927002s\n",
      "compute-tf-idf-property_count Time: 3.208517074584961s\n"
     ]
    },
    {
     "name": "stderr",
     "output_type": "stream",
     "text": [
      "279it [32:30,  8.39s/it]"
     ]
    },
    {
     "name": "stdout",
     "output_type": "stream",
     "text": [
      "mosaic-features Time: 0.02141880989074707s\n",
      "Qnodes to lookup: 1873\n",
      "Qnodes from file: 1849\n",
      "Outlier removal generates 4 lof-voted candidates\n",
      "Column_vector_stragtegy centroid_of_lof failed\n",
      "Column_vector_stragtegy centroid_of_lof failed\n",
      "score-using-embedding Time: 1.5953819751739502s\n",
      "compute-tf-idf-class_count Time: 2.2946131229400635s\n",
      "compute-tf-idf-property_count Time: 2.785301923751831s\n"
     ]
    },
    {
     "name": "stderr",
     "output_type": "stream",
     "text": [
      "280it [32:40,  8.69s/it]"
     ]
    },
    {
     "name": "stdout",
     "output_type": "stream",
     "text": [
      "mosaic-features Time: 0.014226198196411133s\n",
      "Qnodes to lookup: 2915\n",
      "Qnodes from file: 2841\n",
      "Outlier removal generates 6 lof-voted candidates\n",
      "Outlier removal generates 4 lof-voted candidates\n",
      "score-using-embedding Time: 1.2958579063415527s\n",
      "compute-tf-idf-class_count Time: 1.8526008129119873s\n",
      "compute-tf-idf-property_count Time: 2.170722007751465s\n"
     ]
    },
    {
     "name": "stderr",
     "output_type": "stream",
     "text": [
      "281it [32:46,  7.99s/it]"
     ]
    },
    {
     "name": "stdout",
     "output_type": "stream",
     "text": [
      "mosaic-features Time: 0.019447803497314453s\n",
      "Qnodes to lookup: 3779\n",
      "Qnodes from file: 3719\n",
      "Outlier removal generates 2 lof-voted candidates\n",
      "Column_vector_stragtegy centroid_of_lof failed\n",
      "Outlier removal generates 4 lof-voted candidates\n",
      "Outlier removal generates 4 lof-voted candidates\n",
      "score-using-embedding Time: 1.5989627838134766s\n",
      "compute-tf-idf-class_count Time: 2.379201650619507s\n",
      "compute-tf-idf-property_count Time: 2.9110400676727295s\n"
     ]
    },
    {
     "name": "stderr",
     "output_type": "stream",
     "text": [
      "282it [32:53,  7.53s/it]"
     ]
    },
    {
     "name": "stdout",
     "output_type": "stream",
     "text": [
      "mosaic-features Time: 0.007761240005493164s\n",
      "Qnodes to lookup: 1410\n",
      "Qnodes from file: 1367\n",
      "Outlier removal generates 5 lof-voted candidates\n",
      "Column_vector_stragtegy centroid_of_lof failed\n",
      "score-using-embedding Time: 0.8541848659515381s\n",
      "compute-tf-idf-class_count Time: 1.264449119567871s\n",
      "compute-tf-idf-property_count Time: 1.5008809566497803s\n"
     ]
    },
    {
     "name": "stderr",
     "output_type": "stream",
     "text": [
      "283it [32:58,  7.01s/it]"
     ]
    },
    {
     "name": "stdout",
     "output_type": "stream",
     "text": [
      "mosaic-features Time: 0.005884885787963867s\n",
      "Qnodes to lookup: 2260\n",
      "Qnodes from file: 2247\n",
      "Outlier removal generates 3 lof-voted candidates\n",
      "score-using-embedding Time: 0.7249553203582764s\n",
      "compute-tf-idf-class_count Time: 1.069110631942749s\n",
      "compute-tf-idf-property_count Time: 1.2630620002746582s\n"
     ]
    },
    {
     "name": "stderr",
     "output_type": "stream",
     "text": [
      "284it [33:03,  6.39s/it]"
     ]
    },
    {
     "name": "stdout",
     "output_type": "stream",
     "text": [
      "mosaic-features Time: 0.02349996566772461s\n",
      "Qnodes to lookup: 3920\n",
      "Qnodes from file: 3877\n",
      "Outlier removal generates 3 lof-voted candidates\n",
      "Column_vector_stragtegy centroid_of_lof failed\n",
      "Outlier removal generates 3 lof-voted candidates\n",
      "Column_vector_stragtegy centroid_of_lof failed\n",
      "score-using-embedding Time: 1.8313279151916504s\n",
      "compute-tf-idf-class_count Time: 2.4486591815948486s\n",
      "compute-tf-idf-property_count Time: 2.985478162765503s\n"
     ]
    },
    {
     "name": "stderr",
     "output_type": "stream",
     "text": [
      "285it [33:11,  6.68s/it]"
     ]
    },
    {
     "name": "stdout",
     "output_type": "stream",
     "text": [
      "mosaic-features Time: 0.005220174789428711s\n",
      "Qnodes to lookup: 1493\n",
      "Qnodes from file: 1487\n",
      "Outlier removal generates 2 lof-voted candidates\n",
      "score-using-embedding Time: 0.8272631168365479s\n",
      "compute-tf-idf-class_count Time: 1.1421780586242676s\n",
      "compute-tf-idf-property_count Time: 1.314418077468872s\n"
     ]
    },
    {
     "name": "stderr",
     "output_type": "stream",
     "text": [
      "286it [33:15,  6.08s/it]"
     ]
    },
    {
     "name": "stdout",
     "output_type": "stream",
     "text": [
      "mosaic-features Time: 0.011373043060302734s\n",
      "Qnodes to lookup: 3152\n",
      "Qnodes from file: 3097\n",
      "Outlier removal generates 6 lof-voted candidates\n",
      "Outlier removal generates 2 lof-voted candidates\n",
      "score-using-embedding Time: 1.0626871585845947s\n",
      "compute-tf-idf-class_count Time: 1.5797569751739502s\n",
      "compute-tf-idf-property_count Time: 1.9045791625976562s\n"
     ]
    },
    {
     "name": "stderr",
     "output_type": "stream",
     "text": [
      "287it [33:21,  5.95s/it]"
     ]
    },
    {
     "name": "stdout",
     "output_type": "stream",
     "text": [
      "mosaic-features Time: 0.019445180892944336s\n",
      "Qnodes to lookup: 4206\n",
      "Qnodes from file: 4100\n",
      "Outlier removal generates 5 lof-voted candidates\n",
      "Outlier removal generates 2 lof-voted candidates\n",
      "Outlier removal generates 5 lof-voted candidates\n",
      "score-using-embedding Time: 1.444934368133545s\n",
      "compute-tf-idf-class_count Time: 2.2148590087890625s\n",
      "compute-tf-idf-property_count Time: 2.7188520431518555s\n"
     ]
    },
    {
     "name": "stderr",
     "output_type": "stream",
     "text": [
      "288it [33:27,  6.02s/it]"
     ]
    },
    {
     "name": "stdout",
     "output_type": "stream",
     "text": [
      "mosaic-features Time: 0.018819093704223633s\n",
      "Qnodes to lookup: 6418\n",
      "Qnodes from file: 6311\n",
      "Outlier removal generates 4 lof-voted candidates\n",
      "Outlier removal generates 2 lof-voted candidates\n",
      "Outlier removal generates 4 lof-voted candidates\n",
      "score-using-embedding Time: 1.480285882949829s\n",
      "compute-tf-idf-class_count Time: 2.398207902908325s\n",
      "compute-tf-idf-property_count Time: 2.7377829551696777s\n"
     ]
    },
    {
     "name": "stderr",
     "output_type": "stream",
     "text": [
      "289it [33:35,  6.45s/it]"
     ]
    },
    {
     "name": "stdout",
     "output_type": "stream",
     "text": [
      "mosaic-features Time: 0.02394890785217285s\n",
      "Qnodes to lookup: 7220\n",
      "Qnodes from file: 7023\n",
      "Outlier removal generates 5 lof-voted candidates\n",
      "Outlier removal generates 5 lof-voted candidates\n",
      "Outlier removal generates 4 lof-voted candidates\n",
      "Outlier removal generates 4 lof-voted candidates\n",
      "score-using-embedding Time: 1.8925549983978271s\n",
      "compute-tf-idf-class_count Time: 3.0582571029663086s\n",
      "compute-tf-idf-property_count Time: 3.5894691944122314s\n"
     ]
    },
    {
     "name": "stderr",
     "output_type": "stream",
     "text": [
      "290it [33:43,  7.03s/it]"
     ]
    },
    {
     "name": "stdout",
     "output_type": "stream",
     "text": [
      "mosaic-features Time: 0.013577938079833984s\n",
      "Qnodes to lookup: 3827\n",
      "Qnodes from file: 3744\n",
      "Outlier removal generates 5 lof-voted candidates\n",
      "Outlier removal generates 5 lof-voted candidates\n",
      "Outlier removal generates 3 lof-voted candidates\n",
      "score-using-embedding Time: 1.3204331398010254s\n",
      "compute-tf-idf-class_count Time: 2.6152138710021973s\n",
      "compute-tf-idf-property_count Time: 2.9789490699768066s\n"
     ]
    },
    {
     "name": "stderr",
     "output_type": "stream",
     "text": [
      "291it [33:50,  6.97s/it]"
     ]
    },
    {
     "name": "stdout",
     "output_type": "stream",
     "text": [
      "mosaic-features Time: 0.009000301361083984s\n",
      "Qnodes to lookup: 2390\n",
      "Qnodes from file: 2362\n",
      "Column_vector_stragtegy centroid_of_lof failed\n",
      "score-using-embedding Time: 1.2583339214324951s\n",
      "compute-tf-idf-class_count Time: 1.5948200225830078s\n",
      "compute-tf-idf-property_count Time: 1.844005823135376s\n"
     ]
    },
    {
     "name": "stderr",
     "output_type": "stream",
     "text": [
      "292it [33:56,  6.86s/it]"
     ]
    },
    {
     "name": "stdout",
     "output_type": "stream",
     "text": [
      "mosaic-features Time: 0.024094104766845703s\n",
      "Qnodes to lookup: 2447\n",
      "Qnodes from file: 2430\n",
      "Outlier removal generates 2 lof-voted candidates\n",
      "Outlier removal generates 4 lof-voted candidates\n",
      "Column_vector_stragtegy centroid_of_lof failed\n",
      "Outlier removal generates 5 lof-voted candidates\n",
      "score-using-embedding Time: 1.7655959129333496s\n",
      "compute-tf-idf-class_count Time: 3.2045528888702393s\n",
      "compute-tf-idf-property_count Time: 3.0077178478240967s\n"
     ]
    },
    {
     "name": "stderr",
     "output_type": "stream",
     "text": [
      "293it [34:08,  6.99s/it]\n"
     ]
    }
   ],
   "source": [
    "features_3(train_features3_path, train_feature_path, train_graph_embedding, train_class_count, train_prop_count)"
   ]
  },
  {
   "cell_type": "code",
   "execution_count": 7,
   "id": "b53d3388-59ae-478b-8b1c-dc2fd7da96c8",
   "metadata": {},
   "outputs": [
    {
     "name": "stderr",
     "output_type": "stream",
     "text": [
      "0it [00:00, ?it/s]"
     ]
    },
    {
     "name": "stdout",
     "output_type": "stream",
     "text": [
      "mosaic-features Time: 0.0163271427154541s\n",
      "Qnodes to lookup: 3083\n",
      "Qnodes from file: 3016\n",
      "Outlier removal generates 5 lof-voted candidates\n",
      "Outlier removal generates 2 lof-voted candidates\n",
      "Outlier removal generates 2 lof-voted candidates\n",
      "score-using-embedding Time: 1.540473222732544s\n",
      "compute-tf-idf-class_count Time: 2.2249600887298584s\n",
      "compute-tf-idf-property_count Time: 3.083150863647461s\n"
     ]
    },
    {
     "name": "stderr",
     "output_type": "stream",
     "text": [
      "1it [00:10, 10.58s/it]"
     ]
    },
    {
     "name": "stdout",
     "output_type": "stream",
     "text": [
      "mosaic-features Time: 0.00791621208190918s\n",
      "Qnodes to lookup: 1770\n",
      "Qnodes from file: 1746\n",
      "Outlier removal generates 6 lof-voted candidates\n",
      "score-using-embedding Time: 0.8021562099456787s\n",
      "compute-tf-idf-class_count Time: 1.153777837753296s\n",
      "compute-tf-idf-property_count Time: 1.372708797454834s\n"
     ]
    },
    {
     "name": "stderr",
     "output_type": "stream",
     "text": [
      "2it [00:16,  8.03s/it]"
     ]
    },
    {
     "name": "stdout",
     "output_type": "stream",
     "text": [
      "mosaic-features Time: 0.010738134384155273s\n",
      "Qnodes to lookup: 2457\n",
      "Qnodes from file: 2423\n",
      "Outlier removal generates 5 lof-voted candidates\n",
      "Column_vector_stragtegy centroid_of_lof failed\n",
      "score-using-embedding Time: 1.3547110557556152s\n",
      "compute-tf-idf-class_count Time: 2.484708309173584s\n",
      "compute-tf-idf-property_count Time: 2.7945473194122314s\n"
     ]
    },
    {
     "name": "stderr",
     "output_type": "stream",
     "text": [
      "3it [00:23,  7.53s/it]"
     ]
    },
    {
     "name": "stdout",
     "output_type": "stream",
     "text": [
      "mosaic-features Time: 0.01598215103149414s\n",
      "Qnodes to lookup: 3121\n",
      "Qnodes from file: 3048\n",
      "Outlier removal generates 7 lof-voted candidates\n",
      "Column_vector_stragtegy centroid_of_lof failed\n",
      "Column_vector_stragtegy centroid_of_lof failed\n",
      "score-using-embedding Time: 1.3155200481414795s\n",
      "compute-tf-idf-class_count Time: 1.9233667850494385s\n",
      "compute-tf-idf-property_count Time: 2.3325047492980957s\n"
     ]
    },
    {
     "name": "stderr",
     "output_type": "stream",
     "text": [
      "4it [00:29,  6.82s/it]"
     ]
    },
    {
     "name": "stdout",
     "output_type": "stream",
     "text": [
      "mosaic-features Time: 0.00601506233215332s\n",
      "Qnodes to lookup: 699\n",
      "Qnodes from file: 697\n",
      "Outlier removal generates 5 lof-voted candidates\n",
      "score-using-embedding Time: 0.7792229652404785s\n",
      "compute-tf-idf-class_count Time: 1.1287758350372314s\n",
      "compute-tf-idf-property_count Time: 1.3376848697662354s\n"
     ]
    },
    {
     "name": "stderr",
     "output_type": "stream",
     "text": [
      "5it [00:36,  6.83s/it]"
     ]
    },
    {
     "name": "stdout",
     "output_type": "stream",
     "text": [
      "mosaic-features Time: 0.015787124633789062s\n",
      "Qnodes to lookup: 3694\n",
      "Qnodes from file: 3633\n",
      "Outlier removal generates 4 lof-voted candidates\n",
      "Outlier removal generates 4 lof-voted candidates\n",
      "score-using-embedding Time: 1.3641877174377441s\n",
      "compute-tf-idf-class_count Time: 1.964055061340332s\n",
      "compute-tf-idf-property_count Time: 2.2896711826324463s\n"
     ]
    },
    {
     "name": "stderr",
     "output_type": "stream",
     "text": [
      "6it [00:42,  6.68s/it]"
     ]
    },
    {
     "name": "stdout",
     "output_type": "stream",
     "text": [
      "mosaic-features Time: 0.02044534683227539s\n",
      "Qnodes to lookup: 8247\n",
      "Qnodes from file: 7991\n",
      "Outlier removal generates 5 lof-voted candidates\n",
      "Outlier removal generates 4 lof-voted candidates\n",
      "Outlier removal generates 4 lof-voted candidates\n",
      "Outlier removal generates 4 lof-voted candidates\n",
      "score-using-embedding Time: 1.672724962234497s\n",
      "compute-tf-idf-class_count Time: 2.5476770401000977s\n",
      "compute-tf-idf-property_count Time: 3.0980818271636963s\n"
     ]
    },
    {
     "name": "stderr",
     "output_type": "stream",
     "text": [
      "7it [00:49,  6.76s/it]"
     ]
    },
    {
     "name": "stdout",
     "output_type": "stream",
     "text": [
      "mosaic-features Time: 0.01906585693359375s\n",
      "Qnodes to lookup: 4313\n",
      "Qnodes from file: 4242\n",
      "Outlier removal generates 4 lof-voted candidates\n",
      "Outlier removal generates 4 lof-voted candidates\n",
      "Column_vector_stragtegy centroid_of_lof failed\n",
      "score-using-embedding Time: 1.533257007598877s\n",
      "compute-tf-idf-class_count Time: 2.339266061782837s\n",
      "compute-tf-idf-property_count Time: 2.8395321369171143s\n"
     ]
    },
    {
     "name": "stderr",
     "output_type": "stream",
     "text": [
      "8it [00:57,  7.21s/it]"
     ]
    },
    {
     "name": "stdout",
     "output_type": "stream",
     "text": [
      "mosaic-features Time: 0.019107818603515625s\n",
      "Qnodes to lookup: 3168\n",
      "Qnodes from file: 3093\n",
      "Outlier removal generates 5 lof-voted candidates\n",
      "Outlier removal generates 4 lof-voted candidates\n",
      "Column_vector_stragtegy centroid_of_lof failed\n",
      "score-using-embedding Time: 1.3594069480895996s\n",
      "compute-tf-idf-class_count Time: 2.6368350982666016s\n",
      "compute-tf-idf-property_count Time: 3.0376851558685303s\n"
     ]
    },
    {
     "name": "stderr",
     "output_type": "stream",
     "text": [
      "9it [01:04,  7.12s/it]"
     ]
    },
    {
     "name": "stdout",
     "output_type": "stream",
     "text": [
      "mosaic-features Time: 0.011372804641723633s\n",
      "Qnodes to lookup: 2718\n",
      "Qnodes from file: 2656\n",
      "Outlier removal generates 4 lof-voted candidates\n",
      "Outlier removal generates 5 lof-voted candidates\n",
      "Outlier removal generates 5 lof-voted candidates\n",
      "score-using-embedding Time: 1.063094139099121s\n",
      "compute-tf-idf-class_count Time: 1.6141040325164795s\n",
      "compute-tf-idf-property_count Time: 1.9384407997131348s\n"
     ]
    },
    {
     "name": "stderr",
     "output_type": "stream",
     "text": [
      "10it [01:10,  6.71s/it]"
     ]
    },
    {
     "name": "stdout",
     "output_type": "stream",
     "text": [
      "mosaic-features Time: 0.00597071647644043s\n",
      "Qnodes to lookup: 2479\n",
      "Qnodes from file: 2441\n",
      "Outlier removal generates 5 lof-voted candidates\n",
      "score-using-embedding Time: 0.7228312492370605s\n",
      "compute-tf-idf-class_count Time: 1.1123321056365967s\n",
      "compute-tf-idf-property_count Time: 1.317213773727417s\n"
     ]
    },
    {
     "name": "stderr",
     "output_type": "stream",
     "text": [
      "11it [01:16,  6.41s/it]"
     ]
    },
    {
     "name": "stdout",
     "output_type": "stream",
     "text": [
      "mosaic-features Time: 0.014281034469604492s\n",
      "Qnodes to lookup: 3259\n",
      "Qnodes from file: 3174\n",
      "Outlier removal generates 2 lof-voted candidates\n",
      "Outlier removal generates 4 lof-voted candidates\n",
      "score-using-embedding Time: 1.1059677600860596s\n",
      "compute-tf-idf-class_count Time: 1.7079548835754395s\n",
      "compute-tf-idf-property_count Time: 2.1189370155334473s\n"
     ]
    },
    {
     "name": "stderr",
     "output_type": "stream",
     "text": [
      "12it [01:22,  6.27s/it]"
     ]
    },
    {
     "name": "stdout",
     "output_type": "stream",
     "text": [
      "mosaic-features Time: 0.007478952407836914s\n",
      "Qnodes to lookup: 2772\n",
      "Qnodes from file: 2702\n",
      "Outlier removal generates 5 lof-voted candidates\n",
      "score-using-embedding Time: 1.0406758785247803s\n",
      "compute-tf-idf-class_count Time: 1.4389050006866455s\n",
      "compute-tf-idf-property_count Time: 1.6742451190948486s\n"
     ]
    },
    {
     "name": "stderr",
     "output_type": "stream",
     "text": [
      "13it [01:27,  5.86s/it]"
     ]
    },
    {
     "name": "stdout",
     "output_type": "stream",
     "text": [
      "mosaic-features Time: 0.015881061553955078s\n",
      "Qnodes to lookup: 3363\n",
      "Qnodes from file: 3277\n",
      "Outlier removal generates 5 lof-voted candidates\n",
      "Outlier removal generates 4 lof-voted candidates\n",
      "Column_vector_stragtegy centroid_of_lof failed\n",
      "score-using-embedding Time: 1.415574073791504s\n",
      "compute-tf-idf-class_count Time: 2.1003410816192627s\n",
      "compute-tf-idf-property_count Time: 2.5754408836364746s\n"
     ]
    },
    {
     "name": "stderr",
     "output_type": "stream",
     "text": [
      "14it [01:33,  5.91s/it]"
     ]
    },
    {
     "name": "stdout",
     "output_type": "stream",
     "text": [
      "mosaic-features Time: 0.014677047729492188s\n",
      "Qnodes to lookup: 3305\n",
      "Qnodes from file: 3258\n",
      "Outlier removal generates 6 lof-voted candidates\n",
      "Column_vector_stragtegy centroid_of_lof failed\n",
      "Outlier removal generates 4 lof-voted candidates\n",
      "score-using-embedding Time: 1.2380521297454834s\n",
      "compute-tf-idf-class_count Time: 1.8658289909362793s\n",
      "compute-tf-idf-property_count Time: 2.254204750061035s\n"
     ]
    },
    {
     "name": "stderr",
     "output_type": "stream",
     "text": [
      "15it [01:38,  5.86s/it]"
     ]
    },
    {
     "name": "stdout",
     "output_type": "stream",
     "text": [
      "mosaic-features Time: 0.012198925018310547s\n",
      "Qnodes to lookup: 4749\n",
      "Qnodes from file: 4686\n",
      "Outlier removal generates 5 lof-voted candidates\n",
      "Outlier removal generates 3 lof-voted candidates\n",
      "score-using-embedding Time: 1.2448010444641113s\n",
      "compute-tf-idf-class_count Time: 2.4268081188201904s\n",
      "compute-tf-idf-property_count Time: 2.7970681190490723s\n"
     ]
    },
    {
     "name": "stderr",
     "output_type": "stream",
     "text": [
      "16it [01:45,  5.94s/it]"
     ]
    },
    {
     "name": "stdout",
     "output_type": "stream",
     "text": [
      "mosaic-features Time: 0.018014907836914062s\n",
      "Qnodes to lookup: 5606\n",
      "Qnodes from file: 5509\n",
      "Outlier removal generates 6 lof-voted candidates\n",
      "Outlier removal generates 4 lof-voted candidates\n",
      "Outlier removal generates 4 lof-voted candidates\n",
      "score-using-embedding Time: 1.377838134765625s\n",
      "compute-tf-idf-class_count Time: 2.115777015686035s\n",
      "compute-tf-idf-property_count Time: 2.588761806488037s\n"
     ]
    },
    {
     "name": "stderr",
     "output_type": "stream",
     "text": [
      "17it [01:51,  6.11s/it]"
     ]
    },
    {
     "name": "stdout",
     "output_type": "stream",
     "text": [
      "mosaic-features Time: 0.02601003646850586s\n",
      "Qnodes to lookup: 7971\n",
      "Qnodes from file: 7889\n",
      "Outlier removal generates 5 lof-voted candidates\n",
      "Outlier removal generates 4 lof-voted candidates\n",
      "Column_vector_stragtegy centroid_of_lof failed\n",
      "score-using-embedding Time: 2.2415711879730225s\n",
      "compute-tf-idf-class_count Time: 3.2583818435668945s\n",
      "compute-tf-idf-property_count Time: 4.035432815551758s\n"
     ]
    },
    {
     "name": "stderr",
     "output_type": "stream",
     "text": [
      "18it [02:00,  7.04s/it]"
     ]
    },
    {
     "name": "stdout",
     "output_type": "stream",
     "text": [
      "mosaic-features Time: 0.032263994216918945s\n",
      "Qnodes to lookup: 7152\n",
      "Qnodes from file: 7080\n",
      "Outlier removal generates 3 lof-voted candidates\n",
      "Outlier removal generates 2 lof-voted candidates\n",
      "Outlier removal generates 4 lof-voted candidates\n",
      "score-using-embedding Time: 2.9353151321411133s\n",
      "compute-tf-idf-class_count Time: 4.07523775100708s\n",
      "compute-tf-idf-property_count Time: 4.810492038726807s\n"
     ]
    },
    {
     "name": "stderr",
     "output_type": "stream",
     "text": [
      "21it [02:12,  5.22s/it]"
     ]
    },
    {
     "name": "stdout",
     "output_type": "stream",
     "text": [
      "mosaic-features Time: 0.02298903465270996s\n",
      "Qnodes to lookup: 3522\n",
      "Qnodes from file: 3463\n",
      "Outlier removal generates 4 lof-voted candidates\n",
      "Column_vector_stragtegy centroid_of_lof failed\n",
      "Column_vector_stragtegy centroid_of_lof failed\n",
      "score-using-embedding Time: 1.8213303089141846s\n",
      "compute-tf-idf-class_count Time: 2.638134717941284s\n",
      "compute-tf-idf-property_count Time: 3.152344226837158s\n"
     ]
    },
    {
     "name": "stderr",
     "output_type": "stream",
     "text": [
      "22it [02:24,  6.69s/it]"
     ]
    },
    {
     "name": "stdout",
     "output_type": "stream",
     "text": [
      "mosaic-features Time: 0.0070171356201171875s\n",
      "Qnodes to lookup: 2062\n",
      "Qnodes from file: 2012\n",
      "Outlier removal generates 5 lof-voted candidates\n",
      "score-using-embedding Time: 1.2235898971557617s\n",
      "compute-tf-idf-class_count Time: 1.5795178413391113s\n",
      "compute-tf-idf-property_count Time: 1.7695941925048828s\n"
     ]
    },
    {
     "name": "stderr",
     "output_type": "stream",
     "text": [
      "23it [02:33,  7.37s/it]"
     ]
    },
    {
     "name": "stdout",
     "output_type": "stream",
     "text": [
      "mosaic-features Time: 0.00927591323852539s\n",
      "Qnodes to lookup: 1342\n",
      "Qnodes from file: 1247\n",
      "Outlier removal generates 5 lof-voted candidates\n",
      "Column_vector_stragtegy centroid_of_lof failed\n",
      "score-using-embedding Time: 1.1882741451263428s\n",
      "compute-tf-idf-class_count Time: 1.6566200256347656s\n",
      "compute-tf-idf-property_count Time: 1.8969008922576904s\n"
     ]
    },
    {
     "name": "stderr",
     "output_type": "stream",
     "text": [
      "24it [02:42,  7.61s/it]"
     ]
    },
    {
     "name": "stdout",
     "output_type": "stream",
     "text": [
      "mosaic-features Time: 0.01027989387512207s\n",
      "Qnodes to lookup: 3803\n",
      "Qnodes from file: 3746\n",
      "Outlier removal generates 5 lof-voted candidates\n",
      "Outlier removal generates 4 lof-voted candidates\n",
      "score-using-embedding Time: 1.3620491027832031s\n",
      "compute-tf-idf-class_count Time: 1.8703019618988037s\n",
      "compute-tf-idf-property_count Time: 2.138155937194824s\n"
     ]
    },
    {
     "name": "stderr",
     "output_type": "stream",
     "text": [
      "25it [02:48,  7.18s/it]"
     ]
    },
    {
     "name": "stdout",
     "output_type": "stream",
     "text": [
      "mosaic-features Time: 0.0060558319091796875s\n",
      "Qnodes to lookup: 1581\n",
      "Qnodes from file: 1502\n",
      "Outlier removal generates 2 lof-voted candidates\n",
      "score-using-embedding Time: 0.9175701141357422s\n",
      "compute-tf-idf-class_count Time: 1.2734620571136475s\n",
      "compute-tf-idf-property_count Time: 1.4650709629058838s\n"
     ]
    },
    {
     "name": "stderr",
     "output_type": "stream",
     "text": [
      "26it [02:52,  6.49s/it]"
     ]
    },
    {
     "name": "stdout",
     "output_type": "stream",
     "text": [
      "mosaic-features Time: 0.0058329105377197266s\n",
      "Qnodes to lookup: 2001\n",
      "Qnodes from file: 1952\n",
      "Outlier removal generates 5 lof-voted candidates\n",
      "score-using-embedding Time: 0.8481779098510742s\n",
      "compute-tf-idf-class_count Time: 1.794118881225586s\n",
      "compute-tf-idf-property_count Time: 1.9926741123199463s\n"
     ]
    },
    {
     "name": "stderr",
     "output_type": "stream",
     "text": [
      "27it [02:58,  6.27s/it]"
     ]
    },
    {
     "name": "stdout",
     "output_type": "stream",
     "text": [
      "mosaic-features Time: 0.020014047622680664s\n",
      "Qnodes to lookup: 7401\n",
      "Qnodes from file: 7281\n",
      "Outlier removal generates 5 lof-voted candidates\n",
      "Outlier removal generates 4 lof-voted candidates\n",
      "Outlier removal generates 5 lof-voted candidates\n",
      "Outlier removal generates 5 lof-voted candidates\n",
      "score-using-embedding Time: 1.7597849369049072s\n",
      "compute-tf-idf-class_count Time: 2.722472906112671s\n",
      "compute-tf-idf-property_count Time: 3.2904610633850098s\n"
     ]
    },
    {
     "name": "stderr",
     "output_type": "stream",
     "text": [
      "28it [03:05,  6.56s/it]"
     ]
    },
    {
     "name": "stdout",
     "output_type": "stream",
     "text": [
      "mosaic-features Time: 0.0059587955474853516s\n",
      "Qnodes to lookup: 2719\n",
      "Qnodes from file: 2690\n",
      "Outlier removal generates 5 lof-voted candidates\n",
      "score-using-embedding Time: 0.8512849807739258s\n",
      "compute-tf-idf-class_count Time: 1.2599596977233887s\n",
      "compute-tf-idf-property_count Time: 1.477278232574463s\n"
     ]
    },
    {
     "name": "stderr",
     "output_type": "stream",
     "text": [
      "29it [03:11,  6.35s/it]"
     ]
    },
    {
     "name": "stdout",
     "output_type": "stream",
     "text": [
      "mosaic-features Time: 0.022732973098754883s\n",
      "Qnodes to lookup: 4646\n",
      "Qnodes from file: 4566\n",
      "Outlier removal generates 3 lof-voted candidates\n",
      "Outlier removal generates 6 lof-voted candidates\n",
      "Outlier removal generates 2 lof-voted candidates\n",
      "score-using-embedding Time: 1.672151803970337s\n",
      "compute-tf-idf-class_count Time: 2.5578770637512207s\n",
      "compute-tf-idf-property_count Time: 3.1803698539733887s\n"
     ]
    },
    {
     "name": "stderr",
     "output_type": "stream",
     "text": [
      "30it [03:18,  6.58s/it]"
     ]
    },
    {
     "name": "stdout",
     "output_type": "stream",
     "text": [
      "mosaic-features Time: 0.019266128540039062s\n",
      "Qnodes to lookup: 4534\n",
      "Qnodes from file: 4272\n",
      "Outlier removal generates 3 lof-voted candidates\n",
      "Outlier removal generates 4 lof-voted candidates\n",
      "Outlier removal generates 3 lof-voted candidates\n",
      "score-using-embedding Time: 1.4120709896087646s\n",
      "compute-tf-idf-class_count Time: 2.106290817260742s\n",
      "compute-tf-idf-property_count Time: 2.569859266281128s\n"
     ]
    },
    {
     "name": "stderr",
     "output_type": "stream",
     "text": [
      "31it [03:25,  6.58s/it]"
     ]
    },
    {
     "name": "stdout",
     "output_type": "stream",
     "text": [
      "mosaic-features Time: 0.017360210418701172s\n",
      "Qnodes to lookup: 4473\n",
      "Qnodes from file: 4422\n",
      "Outlier removal generates 3 lof-voted candidates\n",
      "Outlier removal generates 4 lof-voted candidates\n",
      "Outlier removal generates 3 lof-voted candidates\n",
      "score-using-embedding Time: 1.588263988494873s\n",
      "compute-tf-idf-class_count Time: 2.256363868713379s\n",
      "compute-tf-idf-property_count Time: 2.682162046432495s\n"
     ]
    },
    {
     "name": "stderr",
     "output_type": "stream",
     "text": [
      "32it [03:32,  6.70s/it]"
     ]
    },
    {
     "name": "stdout",
     "output_type": "stream",
     "text": [
      "mosaic-features Time: 0.016828060150146484s\n",
      "Qnodes to lookup: 5083\n",
      "Qnodes from file: 4941\n",
      "Outlier removal generates 4 lof-voted candidates\n",
      "Outlier removal generates 3 lof-voted candidates\n",
      "Column_vector_stragtegy centroid_of_lof failed\n",
      "score-using-embedding Time: 1.9673547744750977s\n",
      "compute-tf-idf-class_count Time: 2.9221601486206055s\n",
      "compute-tf-idf-property_count Time: 3.497992992401123s\n"
     ]
    },
    {
     "name": "stderr",
     "output_type": "stream",
     "text": [
      "33it [03:40,  7.19s/it]"
     ]
    },
    {
     "name": "stdout",
     "output_type": "stream",
     "text": [
      "mosaic-features Time: 0.016633987426757812s\n",
      "Qnodes to lookup: 4555\n",
      "Qnodes from file: 4449\n",
      "Outlier removal generates 3 lof-voted candidates\n",
      "Outlier removal generates 5 lof-voted candidates\n",
      "score-using-embedding Time: 1.529512882232666s\n",
      "compute-tf-idf-class_count Time: 2.3385009765625s\n",
      "compute-tf-idf-property_count Time: 2.7809700965881348s\n"
     ]
    },
    {
     "name": "stderr",
     "output_type": "stream",
     "text": [
      "34it [03:48,  7.30s/it]"
     ]
    },
    {
     "name": "stdout",
     "output_type": "stream",
     "text": [
      "mosaic-features Time: 0.008514881134033203s\n",
      "Qnodes to lookup: 2280\n",
      "Qnodes from file: 2227\n",
      "Outlier removal generates 5 lof-voted candidates\n",
      "score-using-embedding Time: 0.8695981502532959s\n",
      "compute-tf-idf-class_count Time: 1.3136229515075684s\n",
      "compute-tf-idf-property_count Time: 1.5605478286743164s\n"
     ]
    },
    {
     "name": "stderr",
     "output_type": "stream",
     "text": [
      "35it [03:55,  7.18s/it]"
     ]
    },
    {
     "name": "stdout",
     "output_type": "stream",
     "text": [
      "mosaic-features Time: 0.013116121292114258s\n",
      "Qnodes to lookup: 4912\n",
      "Qnodes from file: 4875\n",
      "Outlier removal generates 2 lof-voted candidates\n",
      "Outlier removal generates 4 lof-voted candidates\n",
      "Outlier removal generates 5 lof-voted candidates\n",
      "score-using-embedding Time: 1.505479335784912s\n",
      "compute-tf-idf-class_count Time: 2.2723629474639893s\n",
      "compute-tf-idf-property_count Time: 2.7351841926574707s\n"
     ]
    },
    {
     "name": "stderr",
     "output_type": "stream",
     "text": [
      "36it [04:02,  7.07s/it]"
     ]
    },
    {
     "name": "stdout",
     "output_type": "stream",
     "text": [
      "mosaic-features Time: 0.016095876693725586s\n",
      "Qnodes to lookup: 2249\n",
      "Qnodes from file: 2041\n",
      "Column_vector_stragtegy centroid_of_lof failed\n",
      "Column_vector_stragtegy centroid_of_lof failed\n",
      "Column_vector_stragtegy centroid_of_lof failed\n",
      "score-using-embedding Time: 1.3431720733642578s\n",
      "compute-tf-idf-class_count Time: 1.9297270774841309s\n",
      "compute-tf-idf-property_count Time: 2.3199188709259033s\n"
     ]
    },
    {
     "name": "stderr",
     "output_type": "stream",
     "text": [
      "37it [04:09,  7.16s/it]"
     ]
    },
    {
     "name": "stdout",
     "output_type": "stream",
     "text": [
      "mosaic-features Time: 0.010577917098999023s\n",
      "Qnodes to lookup: 3123\n",
      "Qnodes from file: 3078\n",
      "Outlier removal generates 5 lof-voted candidates\n",
      "Outlier removal generates 3 lof-voted candidates\n",
      "score-using-embedding Time: 1.4230372905731201s\n",
      "compute-tf-idf-class_count Time: 2.904041290283203s\n",
      "compute-tf-idf-property_count Time: 3.205875873565674s\n"
     ]
    },
    {
     "name": "stderr",
     "output_type": "stream",
     "text": [
      "38it [04:21,  8.49s/it]"
     ]
    },
    {
     "name": "stdout",
     "output_type": "stream",
     "text": [
      "mosaic-features Time: 0.010668039321899414s\n",
      "Qnodes to lookup: 1979\n",
      "Qnodes from file: 1889\n",
      "Outlier removal generates 4 lof-voted candidates\n",
      "Outlier removal generates 2 lof-voted candidates\n",
      "score-using-embedding Time: 1.446432113647461s\n",
      "compute-tf-idf-class_count Time: 2.7542340755462646s\n",
      "compute-tf-idf-property_count Time: 2.2388248443603516s\n"
     ]
    },
    {
     "name": "stderr",
     "output_type": "stream",
     "text": [
      "39it [04:31,  9.19s/it]"
     ]
    },
    {
     "name": "stdout",
     "output_type": "stream",
     "text": [
      "mosaic-features Time: 0.015039920806884766s\n",
      "Qnodes to lookup: 4650\n",
      "Qnodes from file: 4577\n",
      "Outlier removal generates 4 lof-voted candidates\n",
      "Outlier removal generates 4 lof-voted candidates\n",
      "Outlier removal generates 2 lof-voted candidates\n",
      "score-using-embedding Time: 1.7894742488861084s\n",
      "compute-tf-idf-class_count Time: 2.435250759124756s\n",
      "compute-tf-idf-property_count Time: 3.887732982635498s\n"
     ]
    },
    {
     "name": "stderr",
     "output_type": "stream",
     "text": [
      "40it [04:43, 10.02s/it]"
     ]
    },
    {
     "name": "stdout",
     "output_type": "stream",
     "text": [
      "mosaic-features Time: 0.005083799362182617s\n",
      "Qnodes to lookup: 981\n",
      "Qnodes from file: 958\n",
      "Outlier removal generates 2 lof-voted candidates\n",
      "score-using-embedding Time: 0.6455118656158447s\n",
      "compute-tf-idf-class_count Time: 1.4547119140625s\n",
      "compute-tf-idf-property_count Time: 1.6434030532836914s\n"
     ]
    },
    {
     "name": "stderr",
     "output_type": "stream",
     "text": [
      "41it [04:49,  8.76s/it]"
     ]
    },
    {
     "name": "stdout",
     "output_type": "stream",
     "text": [
      "mosaic-features Time: 0.005316734313964844s\n",
      "Qnodes to lookup: 466\n",
      "Qnodes from file: 461\n",
      "Column_vector_stragtegy centroid_of_lof failed\n",
      "score-using-embedding Time: 1.026366949081421s\n",
      "compute-tf-idf-class_count Time: 1.4159252643585205s\n",
      "compute-tf-idf-property_count Time: 1.9385137557983398s\n"
     ]
    },
    {
     "name": "stderr",
     "output_type": "stream",
     "text": [
      "42it [04:55,  7.94s/it]"
     ]
    },
    {
     "name": "stdout",
     "output_type": "stream",
     "text": [
      "mosaic-features Time: 0.007692813873291016s\n",
      "Qnodes to lookup: 1803\n",
      "Qnodes from file: 1796\n",
      "Outlier removal generates 4 lof-voted candidates\n",
      "score-using-embedding Time: 0.8149561882019043s\n",
      "compute-tf-idf-class_count Time: 1.17734694480896s\n",
      "compute-tf-idf-property_count Time: 1.3679659366607666s\n"
     ]
    },
    {
     "name": "stderr",
     "output_type": "stream",
     "text": [
      "43it [05:02,  7.47s/it]"
     ]
    },
    {
     "name": "stdout",
     "output_type": "stream",
     "text": [
      "mosaic-features Time: 0.010980844497680664s\n",
      "Qnodes to lookup: 2366\n",
      "Qnodes from file: 2292\n",
      "Outlier removal generates 4 lof-voted candidates\n",
      "Outlier removal generates 4 lof-voted candidates\n",
      "score-using-embedding Time: 0.9939618110656738s\n",
      "compute-tf-idf-class_count Time: 1.4622972011566162s\n",
      "compute-tf-idf-property_count Time: 1.7394740581512451s\n"
     ]
    },
    {
     "name": "stderr",
     "output_type": "stream",
     "text": [
      "44it [05:08,  7.24s/it]"
     ]
    },
    {
     "name": "stdout",
     "output_type": "stream",
     "text": [
      "mosaic-features Time: 0.013131141662597656s\n",
      "Qnodes to lookup: 4564\n",
      "Qnodes from file: 4440\n",
      "Outlier removal generates 6 lof-voted candidates\n",
      "Outlier removal generates 4 lof-voted candidates\n",
      "Outlier removal generates 5 lof-voted candidates\n",
      "score-using-embedding Time: 1.3192429542541504s\n",
      "compute-tf-idf-class_count Time: 1.9949982166290283s\n",
      "compute-tf-idf-property_count Time: 2.3843069076538086s\n"
     ]
    },
    {
     "name": "stderr",
     "output_type": "stream",
     "text": [
      "45it [05:14,  6.83s/it]"
     ]
    },
    {
     "name": "stdout",
     "output_type": "stream",
     "text": [
      "mosaic-features Time: 0.005039691925048828s\n",
      "Qnodes to lookup: 1566\n",
      "Qnodes from file: 1549\n",
      "Outlier removal generates 6 lof-voted candidates\n",
      "score-using-embedding Time: 0.7120499610900879s\n",
      "compute-tf-idf-class_count Time: 1.0201630592346191s\n",
      "compute-tf-idf-property_count Time: 1.1926872730255127s\n"
     ]
    },
    {
     "name": "stderr",
     "output_type": "stream",
     "text": [
      "46it [05:19,  6.22s/it]"
     ]
    },
    {
     "name": "stdout",
     "output_type": "stream",
     "text": [
      "mosaic-features Time: 0.018376827239990234s\n",
      "Qnodes to lookup: 6050\n",
      "Qnodes from file: 5980\n",
      "Outlier removal generates 5 lof-voted candidates\n",
      "Outlier removal generates 5 lof-voted candidates\n",
      "Outlier removal generates 4 lof-voted candidates\n",
      "score-using-embedding Time: 1.487375259399414s\n",
      "compute-tf-idf-class_count Time: 2.2778890132904053s\n",
      "compute-tf-idf-property_count Time: 2.738846778869629s\n"
     ]
    },
    {
     "name": "stderr",
     "output_type": "stream",
     "text": [
      "47it [05:26,  6.43s/it]"
     ]
    },
    {
     "name": "stdout",
     "output_type": "stream",
     "text": [
      "mosaic-features Time: 0.024628877639770508s\n",
      "Qnodes to lookup: 5826\n",
      "Qnodes from file: 5783\n",
      "Outlier removal generates 4 lof-voted candidates\n",
      "Outlier removal generates 5 lof-voted candidates\n",
      "Column_vector_stragtegy centroid_of_lof failed\n",
      "Outlier removal generates 5 lof-voted candidates\n",
      "score-using-embedding Time: 1.6953611373901367s\n",
      "compute-tf-idf-class_count Time: 2.5548689365386963s\n",
      "compute-tf-idf-property_count Time: 3.1475532054901123s\n"
     ]
    },
    {
     "name": "stderr",
     "output_type": "stream",
     "text": [
      "48it [05:33,  6.55s/it]"
     ]
    },
    {
     "name": "stdout",
     "output_type": "stream",
     "text": [
      "mosaic-features Time: 0.008751869201660156s\n",
      "Qnodes to lookup: 2734\n",
      "Qnodes from file: 2722\n",
      "Outlier removal generates 6 lof-voted candidates\n",
      "Outlier removal generates 4 lof-voted candidates\n",
      "score-using-embedding Time: 0.9229679107666016s\n",
      "compute-tf-idf-class_count Time: 1.4369711875915527s\n",
      "compute-tf-idf-property_count Time: 1.727691888809204s\n"
     ]
    },
    {
     "name": "stderr",
     "output_type": "stream",
     "text": [
      "49it [05:40,  6.72s/it]"
     ]
    },
    {
     "name": "stdout",
     "output_type": "stream",
     "text": [
      "mosaic-features Time: 0.00503230094909668s\n",
      "Qnodes to lookup: 1745\n",
      "Qnodes from file: 1732\n",
      "Outlier removal generates 4 lof-voted candidates\n",
      "score-using-embedding Time: 0.7070739269256592s\n",
      "compute-tf-idf-class_count Time: 1.0511889457702637s\n",
      "compute-tf-idf-property_count Time: 1.236907958984375s\n"
     ]
    },
    {
     "name": "stderr",
     "output_type": "stream",
     "text": [
      "50it [05:45,  6.16s/it]"
     ]
    },
    {
     "name": "stdout",
     "output_type": "stream",
     "text": [
      "mosaic-features Time: 0.006414175033569336s\n",
      "Qnodes to lookup: 2305\n",
      "Qnodes from file: 2248\n",
      "Outlier removal generates 5 lof-voted candidates\n",
      "score-using-embedding Time: 0.7984271049499512s\n",
      "compute-tf-idf-class_count Time: 1.1640949249267578s\n",
      "compute-tf-idf-property_count Time: 1.3746988773345947s\n"
     ]
    },
    {
     "name": "stderr",
     "output_type": "stream",
     "text": [
      "51it [05:50,  6.87s/it]\n"
     ]
    }
   ],
   "source": [
    "features_3(dev_features3_path, dev_feature_path, dev_graph_embedding, dev_class_count, dev_prop_count)"
   ]
  },
  {
   "cell_type": "markdown",
   "id": "cutting-carrier",
   "metadata": {},
   "source": [
    "### Generate Training Data"
   ]
  },
  {
   "cell_type": "code",
   "execution_count": 34,
   "id": "3b084e84-ab19-4215-8da2-3683a118e0a6",
   "metadata": {},
   "outputs": [],
   "source": [
    "features = [\n",
    "            \"monge_elkan\",\"monge_elkan_aliases\",\"jaro_winkler\",\n",
    "            \"levenshtein\",\"singleton\",\"pgr_rts\",\"context_score_3\",\n",
    "            \"pgt_centroid_score\",\"pgt_class_count_tf_idf_score\",\n",
    "            \"pgt_property_count_tf_idf_score\", \"num_tokens\", \"num_char\"\n",
    "            ]"
   ]
  },
  {
   "cell_type": "code",
   "execution_count": 35,
   "id": "tested-accordance",
   "metadata": {},
   "outputs": [],
   "source": [
    "def merge_files(args):\n",
    "    datapath = args.train_path\n",
    "    df_list  = []\n",
    "    for fn in glob.glob(f\"{datapath}/*csv\"):\n",
    "        if os.path.getsize(fn) == 0:\n",
    "            continue\n",
    "        fid = fn.split('/')[-1][:-4]\n",
    "        df = pd.read_csv(fn)\n",
    "        df['table_id'] = fid\n",
    "        df['context_score'].fillna(0.0, inplace=True)\n",
    "        df_list.append(df)            \n",
    "    return pd.concat(df_list) \n",
    "\n",
    "def compute_normalization_factor(args, all_data):\n",
    "    min_max_scaler_path = args.min_max_scaler_path\n",
    "    all_data_features = all_data[features]\n",
    "    scaler = MinMaxScaler()\n",
    "    scaler.fit(all_data_features)\n",
    "    pickle.dump(scaler, open(min_max_scaler_path, 'wb'))\n",
    "    return scaler"
   ]
  },
  {
   "cell_type": "code",
   "execution_count": 36,
   "id": "17cebe14-8fd3-4c52-bf00-79f9a96752d8",
   "metadata": {},
   "outputs": [],
   "source": [
    "def generate_train_data(args):\n",
    "    scaler_path = args.min_max_scaler_path\n",
    "    scaler = pickle.load(open(scaler_path, 'rb'))\n",
    "    final_list = []\n",
    "    sfeatures = copy.deepcopy(features) + ['evaluation_label']\n",
    "    normalize_features = features\n",
    "    evaluation_label = ['evaluation_label']\n",
    "    positive_features_final = []\n",
    "    negative_features_final = []\n",
    "    for i,file in enumerate(glob.glob(args.train_path + '/*.csv')):\n",
    "        file_name = file.split('/')[-1]\n",
    "        if os.path.getsize(file) == 0:\n",
    "                continue\n",
    "        d_sample = pd.read_csv(file)\n",
    "#         d_sample['context_score'].fillna(0.0, inplace=True)\n",
    "        grouped_obj = d_sample.groupby(['column', 'row'])\n",
    "        for cell in grouped_obj:\n",
    "            cell[1][normalize_features] = scaler.transform(cell[1][normalize_features])\n",
    "            pos_features = []\n",
    "            neg_features = []\n",
    "            a = cell[1][cell[1]['evaluation_label'] == 1]\n",
    "            if a.empty:\n",
    "                continue\n",
    "            pos_rows = cell[1][cell[1]['evaluation_label'].astype(int) == 1][features].to_numpy()\n",
    "            for i in range(len(pos_rows)):\n",
    "                pos_features.append(pos_rows[i])\n",
    "            neg_rows = cell[1][cell[1]['evaluation_label'].astype(int) == -1][features].to_numpy()\n",
    "            for i in range(min(20,len(neg_rows))):\n",
    "                neg_features.append(neg_rows[i])\n",
    "            random.shuffle(pos_features)\n",
    "            random.shuffle(neg_features)\n",
    "            positive_features_final.append(pos_features)\n",
    "            negative_features_final.append(neg_features)\n",
    "            \n",
    "    print(len(positive_features_final), len(positive_features_final[3]))\n",
    "    print(len(negative_features_final), len(negative_features_final[3]))\n",
    "    pickle.dump(positive_features_final,open(args.pos_output,'wb'))\n",
    "    pickle.dump(negative_features_final,open(args.neg_output,'wb'))"
   ]
  },
  {
   "cell_type": "code",
   "execution_count": 37,
   "id": "younger-channel",
   "metadata": {},
   "outputs": [
    {
     "name": "stderr",
     "output_type": "stream",
     "text": [
      "/var/folders/qv/cxzpwz3j29x7n79vwpw253v80000gn/T/ipykernel_22238/1529062613.py:3: DtypeWarning: Columns (30,31,32) have mixed types.Specify dtype option on import or set low_memory=False.\n",
      "  all_data = merge_files(gen_training_data_args)\n",
      "/var/folders/qv/cxzpwz3j29x7n79vwpw253v80000gn/T/ipykernel_22238/1529062613.py:3: DtypeWarning: Columns (36,38,41,42,43) have mixed types.Specify dtype option on import or set low_memory=False.\n",
      "  all_data = merge_files(gen_training_data_args)\n"
     ]
    }
   ],
   "source": [
    "gen_training_data_args = Namespace(train_path=train_feature_path, pos_output=pos_output, neg_output=neg_output, \n",
    "                 min_max_scaler_path=min_max_scaler_path)\n",
    "all_data = merge_files(gen_training_data_args)\n",
    "scaler = compute_normalization_factor(gen_training_data_args, all_data)"
   ]
  },
  {
   "cell_type": "code",
   "execution_count": 38,
   "id": "1c3ebe59-63d5-4516-bdc9-334a3e0b48c0",
   "metadata": {},
   "outputs": [
    {
     "data": {
      "text/plain": [
       "1715832"
      ]
     },
     "execution_count": 38,
     "metadata": {},
     "output_type": "execute_result"
    }
   ],
   "source": [
    "len(all_data)"
   ]
  },
  {
   "cell_type": "code",
   "execution_count": 39,
   "id": "fbb42916-c088-4de8-ae14-29fe3f78d712",
   "metadata": {},
   "outputs": [
    {
     "data": {
      "text/html": [
       "<div>\n",
       "<style scoped>\n",
       "    .dataframe tbody tr th:only-of-type {\n",
       "        vertical-align: middle;\n",
       "    }\n",
       "\n",
       "    .dataframe tbody tr th {\n",
       "        vertical-align: top;\n",
       "    }\n",
       "\n",
       "    .dataframe thead th {\n",
       "        text-align: right;\n",
       "    }\n",
       "</style>\n",
       "<table border=\"1\" class=\"dataframe\">\n",
       "  <thead>\n",
       "    <tr style=\"text-align: right;\">\n",
       "      <th></th>\n",
       "      <th>column</th>\n",
       "      <th>row</th>\n",
       "      <th>label</th>\n",
       "      <th>context</th>\n",
       "      <th>filename</th>\n",
       "      <th>column-id</th>\n",
       "      <th>label_clean</th>\n",
       "      <th>kg_id</th>\n",
       "      <th>kg_labels</th>\n",
       "      <th>kg_aliases</th>\n",
       "      <th>...</th>\n",
       "      <th>context_score_3</th>\n",
       "      <th>num_char</th>\n",
       "      <th>num_tokens</th>\n",
       "      <th>is_lof</th>\n",
       "      <th>pgt_centroid_score</th>\n",
       "      <th>pgt_class_count_tf_idf_score</th>\n",
       "      <th>top5_class_count</th>\n",
       "      <th>pgt_property_count_tf_idf_score</th>\n",
       "      <th>top5_property_count</th>\n",
       "      <th>table_id</th>\n",
       "    </tr>\n",
       "  </thead>\n",
       "  <tbody>\n",
       "    <tr>\n",
       "      <th>0</th>\n",
       "      <td>0</td>\n",
       "      <td>0</td>\n",
       "      <td>Yuvileine</td>\n",
       "      <td>15830|84|2.83</td>\n",
       "      <td>042AKDN1.csv</td>\n",
       "      <td>042AKDN1.csv-0</td>\n",
       "      <td>Yuvileine</td>\n",
       "      <td>Q4533523</td>\n",
       "      <td>Yuvileine|Juwilejne</td>\n",
       "      <td>NaN</td>\n",
       "      <td>...</td>\n",
       "      <td>0.8501</td>\n",
       "      <td>19</td>\n",
       "      <td>1</td>\n",
       "      <td>-1</td>\n",
       "      <td>0.871381</td>\n",
       "      <td>0.934188</td>\n",
       "      <td>Q7216840:0.107|Q2989457:0.094|Q203323:0.069|Q1...</td>\n",
       "      <td>0.621857</td>\n",
       "      <td>P1077:0.084|P94:0.059|P2046:0.054|P1082:0.053|...</td>\n",
       "      <td>042AKDN1</td>\n",
       "    </tr>\n",
       "    <tr>\n",
       "      <th>1</th>\n",
       "      <td>0</td>\n",
       "      <td>0</td>\n",
       "      <td>Yuvileine</td>\n",
       "      <td>15830|84|2.83</td>\n",
       "      <td>042AKDN1.csv</td>\n",
       "      <td>042AKDN1.csv-0</td>\n",
       "      <td>Yuvileine</td>\n",
       "      <td>Q4533526</td>\n",
       "      <td>Yuvileine|Juwilejne</td>\n",
       "      <td>NaN</td>\n",
       "      <td>...</td>\n",
       "      <td>0.1498</td>\n",
       "      <td>19</td>\n",
       "      <td>1</td>\n",
       "      <td>-1</td>\n",
       "      <td>0.824404</td>\n",
       "      <td>0.397589</td>\n",
       "      <td>Q486972:0.028|Q177634:0.028|Q874405:0.027|Q788...</td>\n",
       "      <td>0.386139</td>\n",
       "      <td>P1077:0.084|P1376:0.078|P6766:0.052|P2044:0.04...</td>\n",
       "      <td>042AKDN1</td>\n",
       "    </tr>\n",
       "    <tr>\n",
       "      <th>2</th>\n",
       "      <td>0</td>\n",
       "      <td>0</td>\n",
       "      <td>Yuvileine</td>\n",
       "      <td>15830|84|2.83</td>\n",
       "      <td>042AKDN1.csv</td>\n",
       "      <td>042AKDN1.csv-0</td>\n",
       "      <td>Yuvileine</td>\n",
       "      <td>Q1011429</td>\n",
       "      <td>Iouvileïne|Sloboschanske|Slobozhanske</td>\n",
       "      <td>Yuvileine|Iouvileine|Juwilejne</td>\n",
       "      <td>...</td>\n",
       "      <td>0.1356</td>\n",
       "      <td>37</td>\n",
       "      <td>1</td>\n",
       "      <td>-1</td>\n",
       "      <td>0.871398</td>\n",
       "      <td>0.934188</td>\n",
       "      <td>Q7216840:0.107|Q2989457:0.094|Q203323:0.069|Q1...</td>\n",
       "      <td>0.517515</td>\n",
       "      <td>P1077:0.084|P1376:0.078|P94:0.059|P1082:0.053|...</td>\n",
       "      <td>042AKDN1</td>\n",
       "    </tr>\n",
       "    <tr>\n",
       "      <th>3</th>\n",
       "      <td>0</td>\n",
       "      <td>0</td>\n",
       "      <td>Yuvileine</td>\n",
       "      <td>15830|84|2.83</td>\n",
       "      <td>042AKDN1.csv</td>\n",
       "      <td>042AKDN1.csv-0</td>\n",
       "      <td>Yuvileine</td>\n",
       "      <td>Q4533526</td>\n",
       "      <td>Yuvileine|Juwilejne</td>\n",
       "      <td>NaN</td>\n",
       "      <td>...</td>\n",
       "      <td>0.1498</td>\n",
       "      <td>19</td>\n",
       "      <td>1</td>\n",
       "      <td>-1</td>\n",
       "      <td>0.824404</td>\n",
       "      <td>0.397589</td>\n",
       "      <td>Q486972:0.028|Q177634:0.028|Q874405:0.027|Q788...</td>\n",
       "      <td>0.386139</td>\n",
       "      <td>P1077:0.084|P1376:0.078|P6766:0.052|P2044:0.04...</td>\n",
       "      <td>042AKDN1</td>\n",
       "    </tr>\n",
       "    <tr>\n",
       "      <th>4</th>\n",
       "      <td>0</td>\n",
       "      <td>0</td>\n",
       "      <td>Yuvileine</td>\n",
       "      <td>15830|84|2.83</td>\n",
       "      <td>042AKDN1.csv</td>\n",
       "      <td>042AKDN1.csv-0</td>\n",
       "      <td>Yuvileine</td>\n",
       "      <td>Q1011429</td>\n",
       "      <td>Sloboschanske|Iouvileïne|Slobozhanske</td>\n",
       "      <td>Yuvileine|Juwilejne|Iouvileine</td>\n",
       "      <td>...</td>\n",
       "      <td>0.1356</td>\n",
       "      <td>37</td>\n",
       "      <td>1</td>\n",
       "      <td>-1</td>\n",
       "      <td>0.871398</td>\n",
       "      <td>0.934188</td>\n",
       "      <td>Q7216840:0.107|Q2989457:0.094|Q203323:0.069|Q1...</td>\n",
       "      <td>0.517515</td>\n",
       "      <td>P1077:0.084|P1376:0.078|P94:0.059|P1082:0.053|...</td>\n",
       "      <td>042AKDN1</td>\n",
       "    </tr>\n",
       "  </tbody>\n",
       "</table>\n",
       "<p>5 rows × 60 columns</p>\n",
       "</div>"
      ],
      "text/plain": [
       "   column  row      label        context      filename       column-id  \\\n",
       "0       0    0  Yuvileine  15830|84|2.83  042AKDN1.csv  042AKDN1.csv-0   \n",
       "1       0    0  Yuvileine  15830|84|2.83  042AKDN1.csv  042AKDN1.csv-0   \n",
       "2       0    0  Yuvileine  15830|84|2.83  042AKDN1.csv  042AKDN1.csv-0   \n",
       "3       0    0  Yuvileine  15830|84|2.83  042AKDN1.csv  042AKDN1.csv-0   \n",
       "4       0    0  Yuvileine  15830|84|2.83  042AKDN1.csv  042AKDN1.csv-0   \n",
       "\n",
       "  label_clean     kg_id                              kg_labels  \\\n",
       "0   Yuvileine  Q4533523                    Yuvileine|Juwilejne   \n",
       "1   Yuvileine  Q4533526                    Yuvileine|Juwilejne   \n",
       "2   Yuvileine  Q1011429  Iouvileïne|Sloboschanske|Slobozhanske   \n",
       "3   Yuvileine  Q4533526                    Yuvileine|Juwilejne   \n",
       "4   Yuvileine  Q1011429  Sloboschanske|Iouvileïne|Slobozhanske   \n",
       "\n",
       "                       kg_aliases  ... context_score_3 num_char  num_tokens  \\\n",
       "0                             NaN  ...          0.8501       19           1   \n",
       "1                             NaN  ...          0.1498       19           1   \n",
       "2  Yuvileine|Iouvileine|Juwilejne  ...          0.1356       37           1   \n",
       "3                             NaN  ...          0.1498       19           1   \n",
       "4  Yuvileine|Juwilejne|Iouvileine  ...          0.1356       37           1   \n",
       "\n",
       "   is_lof pgt_centroid_score pgt_class_count_tf_idf_score  \\\n",
       "0      -1           0.871381                     0.934188   \n",
       "1      -1           0.824404                     0.397589   \n",
       "2      -1           0.871398                     0.934188   \n",
       "3      -1           0.824404                     0.397589   \n",
       "4      -1           0.871398                     0.934188   \n",
       "\n",
       "                                    top5_class_count  \\\n",
       "0  Q7216840:0.107|Q2989457:0.094|Q203323:0.069|Q1...   \n",
       "1  Q486972:0.028|Q177634:0.028|Q874405:0.027|Q788...   \n",
       "2  Q7216840:0.107|Q2989457:0.094|Q203323:0.069|Q1...   \n",
       "3  Q486972:0.028|Q177634:0.028|Q874405:0.027|Q788...   \n",
       "4  Q7216840:0.107|Q2989457:0.094|Q203323:0.069|Q1...   \n",
       "\n",
       "   pgt_property_count_tf_idf_score  \\\n",
       "0                         0.621857   \n",
       "1                         0.386139   \n",
       "2                         0.517515   \n",
       "3                         0.386139   \n",
       "4                         0.517515   \n",
       "\n",
       "                                 top5_property_count  table_id  \n",
       "0  P1077:0.084|P94:0.059|P2046:0.054|P1082:0.053|...  042AKDN1  \n",
       "1  P1077:0.084|P1376:0.078|P6766:0.052|P2044:0.04...  042AKDN1  \n",
       "2  P1077:0.084|P1376:0.078|P94:0.059|P1082:0.053|...  042AKDN1  \n",
       "3  P1077:0.084|P1376:0.078|P6766:0.052|P2044:0.04...  042AKDN1  \n",
       "4  P1077:0.084|P1376:0.078|P94:0.059|P1082:0.053|...  042AKDN1  \n",
       "\n",
       "[5 rows x 60 columns]"
      ]
     },
     "execution_count": 39,
     "metadata": {},
     "output_type": "execute_result"
    }
   ],
   "source": [
    "all_data.head()"
   ]
  },
  {
   "cell_type": "code",
   "execution_count": 40,
   "id": "26866d65-3a57-49d9-808d-024d9c6427b7",
   "metadata": {},
   "outputs": [
    {
     "name": "stderr",
     "output_type": "stream",
     "text": [
      "/var/folders/qv/cxzpwz3j29x7n79vwpw253v80000gn/T/ipykernel_22238/3563378694.py:1: DtypeWarning: Columns (30,31,32) have mixed types.Specify dtype option on import or set low_memory=False.\n",
      "  generate_train_data(gen_training_data_args)\n",
      "/var/folders/qv/cxzpwz3j29x7n79vwpw253v80000gn/T/ipykernel_22238/3563378694.py:1: DtypeWarning: Columns (30,31,32) have mixed types.Specify dtype option on import or set low_memory=False.\n",
      "  generate_train_data(gen_training_data_args)\n",
      "/var/folders/qv/cxzpwz3j29x7n79vwpw253v80000gn/T/ipykernel_22238/3563378694.py:1: DtypeWarning: Columns (36,38,41,42,43) have mixed types.Specify dtype option on import or set low_memory=False.\n",
      "  generate_train_data(gen_training_data_args)\n"
     ]
    },
    {
     "name": "stdout",
     "output_type": "stream",
     "text": [
      "12542 3\n",
      "12542 20\n"
     ]
    }
   ],
   "source": [
    "generate_train_data(gen_training_data_args)"
   ]
  },
  {
   "cell_type": "markdown",
   "id": "905aaa0d-754f-481f-8913-dde5b9ea0dd0",
   "metadata": {},
   "source": [
    "### Model Definition"
   ]
  },
  {
   "cell_type": "code",
   "execution_count": 41,
   "id": "collectible-medline",
   "metadata": {},
   "outputs": [],
   "source": [
    "# Dataset\n",
    "class T2DV2Dataset(Dataset):\n",
    "    def __init__(self, pos_features, neg_features):\n",
    "        self.pos_features = pos_features\n",
    "        self.neg_features = neg_features\n",
    "    \n",
    "    def __len__(self):\n",
    "        return len(self.pos_features)\n",
    "    \n",
    "    def __getitem__(self, idx):\n",
    "        return self.pos_features[idx], self.neg_features[idx]\n",
    "\n",
    "# Model\n",
    "class PairwiseNetwork(nn.Module):\n",
    "    def __init__(self, hidden_size):\n",
    "        super().__init__()\n",
    "        #original 12x24, 24x12, 12x12, 12x1\n",
    "        self.fc1 = nn.Linear(hidden_size, 2*hidden_size)\n",
    "        self.fc2 = nn.Linear(2*hidden_size, hidden_size)\n",
    "        self.fc3 = nn.Linear(hidden_size, hidden_size)\n",
    "        self.fc4 = nn.Linear(hidden_size, 1)\n",
    "    \n",
    "    def forward(self, pos_features, neg_features):\n",
    "        # Positive pass\n",
    "        x = F.relu(self.fc1(pos_features))\n",
    "        x = F.relu(self.fc2(x))\n",
    "        x = F.relu(self.fc3(x))\n",
    "        pos_out = torch.sigmoid(self.fc4(x))\n",
    "        \n",
    "        # Negative Pass\n",
    "        x = F.relu(self.fc1(neg_features))\n",
    "        x = F.relu(self.fc2(x))\n",
    "        x = F.relu(self.fc3(x))\n",
    "        neg_out = torch.sigmoid(self.fc4(x))\n",
    "        \n",
    "        return pos_out, neg_out\n",
    "    \n",
    "    def predict(self, test_feat):\n",
    "        x = F.relu(self.fc1(test_feat))\n",
    "        x = F.relu(self.fc2(x))\n",
    "        x = F.relu(self.fc3(x))\n",
    "        test_out = torch.sigmoid(self.fc4(x))\n",
    "        return test_out\n",
    "\n",
    "# Pairwise Loss\n",
    "class PairwiseLoss(nn.Module):\n",
    "    def __init__(self):\n",
    "        super().__init__()\n",
    "        self.m = 0\n",
    "    \n",
    "    def forward(self, pos_out, neg_out):\n",
    "        distance = (1 - pos_out) + neg_out\n",
    "        loss = torch.mean(torch.max(torch.tensor(0), distance))\n",
    "        return loss"
   ]
  },
  {
   "cell_type": "markdown",
   "id": "interim-lying",
   "metadata": {},
   "source": [
    "### Training"
   ]
  },
  {
   "cell_type": "code",
   "execution_count": 42,
   "id": "widespread-metropolitan",
   "metadata": {},
   "outputs": [],
   "source": [
    "def generate_dataloader(positive_feat_path, negative_feat_path):\n",
    "    pos_features = pickle.load(open(positive_feat_path, 'rb'))\n",
    "    neg_features = pickle.load(open(negative_feat_path, 'rb'))\n",
    "\n",
    "    pos_features_flatten = list(chain.from_iterable(pos_features))\n",
    "    neg_features_flatten = list(chain.from_iterable(neg_features))\n",
    "\n",
    "    train_dataset = T2DV2Dataset(pos_features_flatten, neg_features_flatten)\n",
    "    train_dataloader = DataLoader(train_dataset, batch_size=64)\n",
    "    return train_dataloader\n",
    "\n",
    "def infer_scores(min_max_scaler_path, input_table_path, output_table_path, model):\n",
    "    scaler = pickle.load(open(min_max_scaler_path, 'rb'))\n",
    "    normalize_features = features\n",
    "    for file in glob.glob(input_table_path + '/*.csv'):\n",
    "        file_name = file.split('/')[-1]\n",
    "        if os.path.getsize(file) == 0:\n",
    "                continue\n",
    "                \n",
    "        d_sample = pd.read_csv(file)\n",
    "#         d_sample['context_score'].fillna(0.0, inplace=True)\n",
    "        grouped_obj = d_sample.groupby(['column', 'row'])\n",
    "        new_df_list = []\n",
    "        pred = []\n",
    "        for cell in grouped_obj:\n",
    "            cell[1][normalize_features] = scaler.transform(cell[1][normalize_features])\n",
    "            sorted_df = cell[1].sort_values('context_score', ascending=False)\n",
    "            sorted_df_features = sorted_df[normalize_features]\n",
    "            new_df_list.append(sorted_df)\n",
    "            arr = sorted_df_features.to_numpy()\n",
    "            test_inp = []\n",
    "            for a in arr:\n",
    "                test_inp.append(a)\n",
    "            test_tensor = torch.tensor(test_inp).float()\n",
    "            scores = model.predict(test_tensor)\n",
    "            scores_list = torch.squeeze(scores).tolist()\n",
    "            if not type(scores_list) is list:\n",
    "                pred.append(scores_list)\n",
    "            else:\n",
    "                pred.extend(scores_list)\n",
    "        test_df = pd.concat(new_df_list)\n",
    "        test_df[final_score_column] = pred\n",
    "        test_df.to_csv(f\"{output_table_path}/{file_name}\", index=False)\n",
    "\n",
    "def train(args):\n",
    "    if torch.cuda.is_available():\n",
    "        device = torch.device('cuda')\n",
    "    \n",
    "    else:\n",
    "        device = torch.device('cpu')\n",
    "    train_dataloader = generate_dataloader(args.positive_feat_path, args.negative_feat_path)\n",
    "    criterion = PairwiseLoss()\n",
    "    EPOCHS = args.num_epochs\n",
    "    model = PairwiseNetwork(len(features)).to(device=device)\n",
    "    optimizer = Adam(model.parameters(), lr=args.lr)\n",
    "    top1_max_prec = 0\n",
    "    for epoch in range(EPOCHS):\n",
    "        train_epoch_loss = 0\n",
    "        avg_loss = 0\n",
    "        model.train()\n",
    "        for bid, batch in tqdm(enumerate(train_dataloader), position=0, leave=True):\n",
    "            positive_feat = torch.tensor(batch[0].float())\n",
    "            negative_feat = torch.tensor(batch[1].float())\n",
    "            optimizer.zero_grad()\n",
    "            pos_out, neg_out = model(positive_feat, negative_feat)\n",
    "            loss = criterion(pos_out, neg_out)\n",
    "            loss.backward()\n",
    "            optimizer.step()\n",
    "            train_epoch_loss += loss\n",
    "        avg_loss = train_epoch_loss / bid\n",
    "\n",
    "        # Evaluation\n",
    "        model.eval()\n",
    "        infer_scores(args.min_max_scaler_path, args.dev_path, args.dev_output, model)\n",
    "        eval_data = merge_eval_files(args.dev_output)\n",
    "        res, candidate_eval_data = parse_eval_files_stats(eval_data, final_score_column)\n",
    "        top1_precision = res['num_tasks_with_model_score_top_one_accurate']/res['num_tasks_with_gt']\n",
    "        if top1_precision > top1_max_prec:\n",
    "            top1_max_prec = top1_precision\n",
    "            model_save_name = 'epoch_{}_loss_{}_top1_{}.pth'.format(epoch, avg_loss, top1_max_prec)\n",
    "            best_model_path = os.path.join(args.model_save_path, model_save_name)\n",
    "            torch.save(model.state_dict(), best_model_path)\n",
    "        \n",
    "        print(\"Epoch {}, Avg Loss is {}, epoch top1 {}, max top1 {}\".format(epoch, avg_loss, top1_precision, top1_max_prec))\n",
    "    return best_model_path"
   ]
  },
  {
   "cell_type": "code",
   "execution_count": 43,
   "id": "infectious-haven",
   "metadata": {},
   "outputs": [],
   "source": [
    "def merge_eval_files(final_score_path):\n",
    "    eval_file_names = []\n",
    "    df_list = []\n",
    "    for (dirpath, dirnames, filenames) in os.walk(final_score_path):\n",
    "        for fn in filenames:\n",
    "            if \"csv\" not in fn:\n",
    "                continue\n",
    "            abs_fn = os.path.join(dirpath, fn)\n",
    "            assert os.path.isfile(abs_fn)\n",
    "            if os.path.getsize(abs_fn) == 0:\n",
    "                continue\n",
    "            eval_file_names.append(abs_fn)\n",
    "    \n",
    "    for fn in eval_file_names:\n",
    "        fid = fn.split('/')[-1].split('.csv')[0]\n",
    "        df = pd.read_csv(fn)\n",
    "        df['table_id'] = fid\n",
    "        df_list.append(df)\n",
    "    return pd.concat(df_list)\n",
    "\n",
    "def parse_eval_files_stats(eval_data, method):\n",
    "    res = {}\n",
    "    candidate_eval_data = eval_data.groupby(['table_id', 'column', 'row'])['table_id'].count().reset_index(name=\"count\")\n",
    "    res['num_tasks_with_gt'] = len(eval_data[pd.notna(eval_data['GT_kg_id'])].groupby(['table_id', 'column', 'row']))\n",
    "    num_tasks_with_model_score_top_one_accurate = []\n",
    "    num_tasks_with_model_score_top_five_accurate = []\n",
    "    num_tasks_with_model_score_top_ten_accurate = []\n",
    "    has_gt_list = []\n",
    "    has_gt_in_candidate = []\n",
    "    for i, row in candidate_eval_data.iterrows():\n",
    "        table_id, row_idx, col_idx = row['table_id'], row['row'], row['column']\n",
    "        c_e_data = eval_data[(eval_data['table_id'] == table_id) & (eval_data['row'] == row_idx) & (eval_data['column'] == col_idx)]\n",
    "        assert len(c_e_data) > 0\n",
    "        if np.nan not in set(c_e_data['GT_kg_id']):\n",
    "            has_gt_list.append(1)\n",
    "        else:\n",
    "            has_gt_list.append(0)\n",
    "        if 1 in set(c_e_data['evaluation_label']):\n",
    "            has_gt_in_candidate.append(1)\n",
    "        else:\n",
    "            has_gt_in_candidate.append(0)\n",
    "                    \n",
    "        #rank on model score\n",
    "        s_data = c_e_data.sort_values(by=[method], ascending=False)\n",
    "        if s_data.iloc[0]['evaluation_label'] == 1:\n",
    "            num_tasks_with_model_score_top_one_accurate.append(1)\n",
    "        else:\n",
    "            num_tasks_with_model_score_top_one_accurate.append(0)\n",
    "        if 1 in set(s_data.iloc[0:5]['evaluation_label']):\n",
    "            num_tasks_with_model_score_top_five_accurate.append(1)\n",
    "        else:\n",
    "            num_tasks_with_model_score_top_five_accurate.append(0)\n",
    "        if 1 in set(s_data.iloc[0:10]['evaluation_label']):\n",
    "            num_tasks_with_model_score_top_ten_accurate.append(1)\n",
    "        else:\n",
    "            num_tasks_with_model_score_top_ten_accurate.append(0)\n",
    "            \n",
    "    res['num_tasks_with_model_score_top_one_accurate'] = sum(num_tasks_with_model_score_top_one_accurate)\n",
    "    res['num_tasks_with_model_score_top_five_accurate'] = sum(num_tasks_with_model_score_top_five_accurate)\n",
    "    res['num_tasks_with_model_score_top_ten_accurate'] = sum(num_tasks_with_model_score_top_ten_accurate)\n",
    "    return res, candidate_eval_data"
   ]
  },
  {
   "cell_type": "code",
   "execution_count": 44,
   "id": "impressed-focus",
   "metadata": {},
   "outputs": [],
   "source": [
    "training_args = Namespace(num_epochs=20, lr=0.001, positive_feat_path=pos_output, negative_feat_path=neg_output,\n",
    "                         dev_path=dev_feature_path, dev_output=dev_output_predictions,\n",
    "                         model_save_path=model_save_path, min_max_scaler_path=min_max_scaler_path)"
   ]
  },
  {
   "cell_type": "code",
   "execution_count": 45,
   "id": "chronic-portugal",
   "metadata": {},
   "outputs": [
    {
     "name": "stderr",
     "output_type": "stream",
     "text": [
      "0it [00:00, ?it/s]/var/folders/qv/cxzpwz3j29x7n79vwpw253v80000gn/T/ipykernel_22238/3986128095.py:62: UserWarning: To copy construct from a tensor, it is recommended to use sourceTensor.clone().detach() or sourceTensor.clone().detach().requires_grad_(True), rather than torch.tensor(sourceTensor).\n",
      "  positive_feat = torch.tensor(batch[0].float())\n",
      "/var/folders/qv/cxzpwz3j29x7n79vwpw253v80000gn/T/ipykernel_22238/3986128095.py:63: UserWarning: To copy construct from a tensor, it is recommended to use sourceTensor.clone().detach() or sourceTensor.clone().detach().requires_grad_(True), rather than torch.tensor(sourceTensor).\n",
      "  negative_feat = torch.tensor(batch[1].float())\n",
      "532it [00:00, 761.99it/s]\n"
     ]
    },
    {
     "name": "stdout",
     "output_type": "stream",
     "text": [
      "Epoch 0, Avg Loss is 0.4233013391494751, epoch top1 0.9461606354810238, max top1 0.9461606354810238\n"
     ]
    },
    {
     "name": "stderr",
     "output_type": "stream",
     "text": [
      "0it [00:00, ?it/s]/var/folders/qv/cxzpwz3j29x7n79vwpw253v80000gn/T/ipykernel_22238/3986128095.py:62: UserWarning: To copy construct from a tensor, it is recommended to use sourceTensor.clone().detach() or sourceTensor.clone().detach().requires_grad_(True), rather than torch.tensor(sourceTensor).\n",
      "  positive_feat = torch.tensor(batch[0].float())\n",
      "/var/folders/qv/cxzpwz3j29x7n79vwpw253v80000gn/T/ipykernel_22238/3986128095.py:63: UserWarning: To copy construct from a tensor, it is recommended to use sourceTensor.clone().detach() or sourceTensor.clone().detach().requires_grad_(True), rather than torch.tensor(sourceTensor).\n",
      "  negative_feat = torch.tensor(batch[1].float())\n",
      "532it [00:00, 804.38it/s]\n"
     ]
    },
    {
     "name": "stdout",
     "output_type": "stream",
     "text": [
      "Epoch 1, Avg Loss is 0.14832746982574463, epoch top1 0.9496910856134158, max top1 0.9496910856134158\n"
     ]
    },
    {
     "name": "stderr",
     "output_type": "stream",
     "text": [
      "0it [00:00, ?it/s]/var/folders/qv/cxzpwz3j29x7n79vwpw253v80000gn/T/ipykernel_22238/3986128095.py:62: UserWarning: To copy construct from a tensor, it is recommended to use sourceTensor.clone().detach() or sourceTensor.clone().detach().requires_grad_(True), rather than torch.tensor(sourceTensor).\n",
      "  positive_feat = torch.tensor(batch[0].float())\n",
      "/var/folders/qv/cxzpwz3j29x7n79vwpw253v80000gn/T/ipykernel_22238/3986128095.py:63: UserWarning: To copy construct from a tensor, it is recommended to use sourceTensor.clone().detach() or sourceTensor.clone().detach().requires_grad_(True), rather than torch.tensor(sourceTensor).\n",
      "  negative_feat = torch.tensor(batch[1].float())\n",
      "532it [00:00, 761.94it/s]\n"
     ]
    },
    {
     "name": "stdout",
     "output_type": "stream",
     "text": [
      "Epoch 2, Avg Loss is 0.13489361107349396, epoch top1 0.9536628420123566, max top1 0.9536628420123566\n"
     ]
    },
    {
     "name": "stderr",
     "output_type": "stream",
     "text": [
      "0it [00:00, ?it/s]/var/folders/qv/cxzpwz3j29x7n79vwpw253v80000gn/T/ipykernel_22238/3986128095.py:62: UserWarning: To copy construct from a tensor, it is recommended to use sourceTensor.clone().detach() or sourceTensor.clone().detach().requires_grad_(True), rather than torch.tensor(sourceTensor).\n",
      "  positive_feat = torch.tensor(batch[0].float())\n",
      "/var/folders/qv/cxzpwz3j29x7n79vwpw253v80000gn/T/ipykernel_22238/3986128095.py:63: UserWarning: To copy construct from a tensor, it is recommended to use sourceTensor.clone().detach() or sourceTensor.clone().detach().requires_grad_(True), rather than torch.tensor(sourceTensor).\n",
      "  negative_feat = torch.tensor(batch[1].float())\n",
      "532it [00:00, 737.00it/s]\n"
     ]
    },
    {
     "name": "stdout",
     "output_type": "stream",
     "text": [
      "Epoch 3, Avg Loss is 0.13014090061187744, epoch top1 0.9532215357458076, max top1 0.9536628420123566\n"
     ]
    },
    {
     "name": "stderr",
     "output_type": "stream",
     "text": [
      "0it [00:00, ?it/s]/var/folders/qv/cxzpwz3j29x7n79vwpw253v80000gn/T/ipykernel_22238/3986128095.py:62: UserWarning: To copy construct from a tensor, it is recommended to use sourceTensor.clone().detach() or sourceTensor.clone().detach().requires_grad_(True), rather than torch.tensor(sourceTensor).\n",
      "  positive_feat = torch.tensor(batch[0].float())\n",
      "/var/folders/qv/cxzpwz3j29x7n79vwpw253v80000gn/T/ipykernel_22238/3986128095.py:63: UserWarning: To copy construct from a tensor, it is recommended to use sourceTensor.clone().detach() or sourceTensor.clone().detach().requires_grad_(True), rather than torch.tensor(sourceTensor).\n",
      "  negative_feat = torch.tensor(batch[1].float())\n",
      "532it [00:00, 706.69it/s]\n"
     ]
    },
    {
     "name": "stdout",
     "output_type": "stream",
     "text": [
      "Epoch 4, Avg Loss is 0.127571702003479, epoch top1 0.9527802294792586, max top1 0.9536628420123566\n"
     ]
    },
    {
     "name": "stderr",
     "output_type": "stream",
     "text": [
      "0it [00:00, ?it/s]/var/folders/qv/cxzpwz3j29x7n79vwpw253v80000gn/T/ipykernel_22238/3986128095.py:62: UserWarning: To copy construct from a tensor, it is recommended to use sourceTensor.clone().detach() or sourceTensor.clone().detach().requires_grad_(True), rather than torch.tensor(sourceTensor).\n",
      "  positive_feat = torch.tensor(batch[0].float())\n",
      "/var/folders/qv/cxzpwz3j29x7n79vwpw253v80000gn/T/ipykernel_22238/3986128095.py:63: UserWarning: To copy construct from a tensor, it is recommended to use sourceTensor.clone().detach() or sourceTensor.clone().detach().requires_grad_(True), rather than torch.tensor(sourceTensor).\n",
      "  negative_feat = torch.tensor(batch[1].float())\n",
      "532it [00:00, 640.12it/s]\n"
     ]
    },
    {
     "name": "stdout",
     "output_type": "stream",
     "text": [
      "Epoch 5, Avg Loss is 0.12551966309547424, epoch top1 0.9545454545454546, max top1 0.9545454545454546\n"
     ]
    },
    {
     "name": "stderr",
     "output_type": "stream",
     "text": [
      "0it [00:00, ?it/s]/var/folders/qv/cxzpwz3j29x7n79vwpw253v80000gn/T/ipykernel_22238/3986128095.py:62: UserWarning: To copy construct from a tensor, it is recommended to use sourceTensor.clone().detach() or sourceTensor.clone().detach().requires_grad_(True), rather than torch.tensor(sourceTensor).\n",
      "  positive_feat = torch.tensor(batch[0].float())\n",
      "/var/folders/qv/cxzpwz3j29x7n79vwpw253v80000gn/T/ipykernel_22238/3986128095.py:63: UserWarning: To copy construct from a tensor, it is recommended to use sourceTensor.clone().detach() or sourceTensor.clone().detach().requires_grad_(True), rather than torch.tensor(sourceTensor).\n",
      "  negative_feat = torch.tensor(batch[1].float())\n",
      "532it [00:00, 628.94it/s]\n"
     ]
    },
    {
     "name": "stdout",
     "output_type": "stream",
     "text": [
      "Epoch 6, Avg Loss is 0.12405861169099808, epoch top1 0.9532215357458076, max top1 0.9545454545454546\n"
     ]
    },
    {
     "name": "stderr",
     "output_type": "stream",
     "text": [
      "0it [00:00, ?it/s]/var/folders/qv/cxzpwz3j29x7n79vwpw253v80000gn/T/ipykernel_22238/3986128095.py:62: UserWarning: To copy construct from a tensor, it is recommended to use sourceTensor.clone().detach() or sourceTensor.clone().detach().requires_grad_(True), rather than torch.tensor(sourceTensor).\n",
      "  positive_feat = torch.tensor(batch[0].float())\n",
      "/var/folders/qv/cxzpwz3j29x7n79vwpw253v80000gn/T/ipykernel_22238/3986128095.py:63: UserWarning: To copy construct from a tensor, it is recommended to use sourceTensor.clone().detach() or sourceTensor.clone().detach().requires_grad_(True), rather than torch.tensor(sourceTensor).\n",
      "  negative_feat = torch.tensor(batch[1].float())\n",
      "532it [00:00, 687.78it/s]\n"
     ]
    },
    {
     "name": "stdout",
     "output_type": "stream",
     "text": [
      "Epoch 7, Avg Loss is 0.1231427937746048, epoch top1 0.9523389232127096, max top1 0.9545454545454546\n"
     ]
    },
    {
     "name": "stderr",
     "output_type": "stream",
     "text": [
      "0it [00:00, ?it/s]/var/folders/qv/cxzpwz3j29x7n79vwpw253v80000gn/T/ipykernel_22238/3986128095.py:62: UserWarning: To copy construct from a tensor, it is recommended to use sourceTensor.clone().detach() or sourceTensor.clone().detach().requires_grad_(True), rather than torch.tensor(sourceTensor).\n",
      "  positive_feat = torch.tensor(batch[0].float())\n",
      "/var/folders/qv/cxzpwz3j29x7n79vwpw253v80000gn/T/ipykernel_22238/3986128095.py:63: UserWarning: To copy construct from a tensor, it is recommended to use sourceTensor.clone().detach() or sourceTensor.clone().detach().requires_grad_(True), rather than torch.tensor(sourceTensor).\n",
      "  negative_feat = torch.tensor(batch[1].float())\n",
      "532it [00:00, 659.46it/s]\n"
     ]
    },
    {
     "name": "stdout",
     "output_type": "stream",
     "text": [
      "Epoch 8, Avg Loss is 0.12260189652442932, epoch top1 0.9527802294792586, max top1 0.9545454545454546\n"
     ]
    },
    {
     "name": "stderr",
     "output_type": "stream",
     "text": [
      "0it [00:00, ?it/s]/var/folders/qv/cxzpwz3j29x7n79vwpw253v80000gn/T/ipykernel_22238/3986128095.py:62: UserWarning: To copy construct from a tensor, it is recommended to use sourceTensor.clone().detach() or sourceTensor.clone().detach().requires_grad_(True), rather than torch.tensor(sourceTensor).\n",
      "  positive_feat = torch.tensor(batch[0].float())\n",
      "/var/folders/qv/cxzpwz3j29x7n79vwpw253v80000gn/T/ipykernel_22238/3986128095.py:63: UserWarning: To copy construct from a tensor, it is recommended to use sourceTensor.clone().detach() or sourceTensor.clone().detach().requires_grad_(True), rather than torch.tensor(sourceTensor).\n",
      "  negative_feat = torch.tensor(batch[1].float())\n",
      "532it [00:00, 655.00it/s]\n"
     ]
    },
    {
     "name": "stdout",
     "output_type": "stream",
     "text": [
      "Epoch 9, Avg Loss is 0.1223178282380104, epoch top1 0.9527802294792586, max top1 0.9545454545454546\n"
     ]
    },
    {
     "name": "stderr",
     "output_type": "stream",
     "text": [
      "0it [00:00, ?it/s]/var/folders/qv/cxzpwz3j29x7n79vwpw253v80000gn/T/ipykernel_22238/3986128095.py:62: UserWarning: To copy construct from a tensor, it is recommended to use sourceTensor.clone().detach() or sourceTensor.clone().detach().requires_grad_(True), rather than torch.tensor(sourceTensor).\n",
      "  positive_feat = torch.tensor(batch[0].float())\n",
      "/var/folders/qv/cxzpwz3j29x7n79vwpw253v80000gn/T/ipykernel_22238/3986128095.py:63: UserWarning: To copy construct from a tensor, it is recommended to use sourceTensor.clone().detach() or sourceTensor.clone().detach().requires_grad_(True), rather than torch.tensor(sourceTensor).\n",
      "  negative_feat = torch.tensor(batch[1].float())\n",
      "532it [00:00, 748.32it/s]\n"
     ]
    },
    {
     "name": "stdout",
     "output_type": "stream",
     "text": [
      "Epoch 10, Avg Loss is 0.12206746637821198, epoch top1 0.9523389232127096, max top1 0.9545454545454546\n"
     ]
    },
    {
     "name": "stderr",
     "output_type": "stream",
     "text": [
      "0it [00:00, ?it/s]/var/folders/qv/cxzpwz3j29x7n79vwpw253v80000gn/T/ipykernel_22238/3986128095.py:62: UserWarning: To copy construct from a tensor, it is recommended to use sourceTensor.clone().detach() or sourceTensor.clone().detach().requires_grad_(True), rather than torch.tensor(sourceTensor).\n",
      "  positive_feat = torch.tensor(batch[0].float())\n",
      "/var/folders/qv/cxzpwz3j29x7n79vwpw253v80000gn/T/ipykernel_22238/3986128095.py:63: UserWarning: To copy construct from a tensor, it is recommended to use sourceTensor.clone().detach() or sourceTensor.clone().detach().requires_grad_(True), rather than torch.tensor(sourceTensor).\n",
      "  negative_feat = torch.tensor(batch[1].float())\n",
      "532it [00:00, 534.37it/s]\n"
     ]
    },
    {
     "name": "stdout",
     "output_type": "stream",
     "text": [
      "Epoch 11, Avg Loss is 0.12102428078651428, epoch top1 0.9523389232127096, max top1 0.9545454545454546\n"
     ]
    },
    {
     "name": "stderr",
     "output_type": "stream",
     "text": [
      "0it [00:00, ?it/s]/var/folders/qv/cxzpwz3j29x7n79vwpw253v80000gn/T/ipykernel_22238/3986128095.py:62: UserWarning: To copy construct from a tensor, it is recommended to use sourceTensor.clone().detach() or sourceTensor.clone().detach().requires_grad_(True), rather than torch.tensor(sourceTensor).\n",
      "  positive_feat = torch.tensor(batch[0].float())\n",
      "/var/folders/qv/cxzpwz3j29x7n79vwpw253v80000gn/T/ipykernel_22238/3986128095.py:63: UserWarning: To copy construct from a tensor, it is recommended to use sourceTensor.clone().detach() or sourceTensor.clone().detach().requires_grad_(True), rather than torch.tensor(sourceTensor).\n",
      "  negative_feat = torch.tensor(batch[1].float())\n",
      "532it [00:00, 671.93it/s]\n"
     ]
    },
    {
     "name": "stdout",
     "output_type": "stream",
     "text": [
      "Epoch 12, Avg Loss is 0.12048187106847763, epoch top1 0.9523389232127096, max top1 0.9545454545454546\n"
     ]
    },
    {
     "name": "stderr",
     "output_type": "stream",
     "text": [
      "0it [00:00, ?it/s]/var/folders/qv/cxzpwz3j29x7n79vwpw253v80000gn/T/ipykernel_22238/3986128095.py:62: UserWarning: To copy construct from a tensor, it is recommended to use sourceTensor.clone().detach() or sourceTensor.clone().detach().requires_grad_(True), rather than torch.tensor(sourceTensor).\n",
      "  positive_feat = torch.tensor(batch[0].float())\n",
      "/var/folders/qv/cxzpwz3j29x7n79vwpw253v80000gn/T/ipykernel_22238/3986128095.py:63: UserWarning: To copy construct from a tensor, it is recommended to use sourceTensor.clone().detach() or sourceTensor.clone().detach().requires_grad_(True), rather than torch.tensor(sourceTensor).\n",
      "  negative_feat = torch.tensor(batch[1].float())\n",
      "532it [00:00, 667.26it/s]\n"
     ]
    },
    {
     "name": "stdout",
     "output_type": "stream",
     "text": [
      "Epoch 13, Avg Loss is 0.1182624027132988, epoch top1 0.9514563106796117, max top1 0.9545454545454546\n"
     ]
    },
    {
     "name": "stderr",
     "output_type": "stream",
     "text": [
      "0it [00:00, ?it/s]/var/folders/qv/cxzpwz3j29x7n79vwpw253v80000gn/T/ipykernel_22238/3986128095.py:62: UserWarning: To copy construct from a tensor, it is recommended to use sourceTensor.clone().detach() or sourceTensor.clone().detach().requires_grad_(True), rather than torch.tensor(sourceTensor).\n",
      "  positive_feat = torch.tensor(batch[0].float())\n",
      "/var/folders/qv/cxzpwz3j29x7n79vwpw253v80000gn/T/ipykernel_22238/3986128095.py:63: UserWarning: To copy construct from a tensor, it is recommended to use sourceTensor.clone().detach() or sourceTensor.clone().detach().requires_grad_(True), rather than torch.tensor(sourceTensor).\n",
      "  negative_feat = torch.tensor(batch[1].float())\n",
      "532it [00:00, 756.79it/s]\n"
     ]
    },
    {
     "name": "stdout",
     "output_type": "stream",
     "text": [
      "Epoch 14, Avg Loss is 0.11829891800880432, epoch top1 0.9514563106796117, max top1 0.9545454545454546\n"
     ]
    },
    {
     "name": "stderr",
     "output_type": "stream",
     "text": [
      "0it [00:00, ?it/s]/var/folders/qv/cxzpwz3j29x7n79vwpw253v80000gn/T/ipykernel_22238/3986128095.py:62: UserWarning: To copy construct from a tensor, it is recommended to use sourceTensor.clone().detach() or sourceTensor.clone().detach().requires_grad_(True), rather than torch.tensor(sourceTensor).\n",
      "  positive_feat = torch.tensor(batch[0].float())\n",
      "/var/folders/qv/cxzpwz3j29x7n79vwpw253v80000gn/T/ipykernel_22238/3986128095.py:63: UserWarning: To copy construct from a tensor, it is recommended to use sourceTensor.clone().detach() or sourceTensor.clone().detach().requires_grad_(True), rather than torch.tensor(sourceTensor).\n",
      "  negative_feat = torch.tensor(batch[1].float())\n",
      "532it [00:00, 666.42it/s]\n"
     ]
    },
    {
     "name": "stdout",
     "output_type": "stream",
     "text": [
      "Epoch 15, Avg Loss is 0.11715979874134064, epoch top1 0.9496910856134158, max top1 0.9545454545454546\n"
     ]
    },
    {
     "name": "stderr",
     "output_type": "stream",
     "text": [
      "0it [00:00, ?it/s]/var/folders/qv/cxzpwz3j29x7n79vwpw253v80000gn/T/ipykernel_22238/3986128095.py:62: UserWarning: To copy construct from a tensor, it is recommended to use sourceTensor.clone().detach() or sourceTensor.clone().detach().requires_grad_(True), rather than torch.tensor(sourceTensor).\n",
      "  positive_feat = torch.tensor(batch[0].float())\n",
      "/var/folders/qv/cxzpwz3j29x7n79vwpw253v80000gn/T/ipykernel_22238/3986128095.py:63: UserWarning: To copy construct from a tensor, it is recommended to use sourceTensor.clone().detach() or sourceTensor.clone().detach().requires_grad_(True), rather than torch.tensor(sourceTensor).\n",
      "  negative_feat = torch.tensor(batch[1].float())\n",
      "532it [00:00, 599.77it/s]\n"
     ]
    },
    {
     "name": "stdout",
     "output_type": "stream",
     "text": [
      "Epoch 16, Avg Loss is 0.11681079119443893, epoch top1 0.9510150044130626, max top1 0.9545454545454546\n"
     ]
    },
    {
     "name": "stderr",
     "output_type": "stream",
     "text": [
      "0it [00:00, ?it/s]/var/folders/qv/cxzpwz3j29x7n79vwpw253v80000gn/T/ipykernel_22238/3986128095.py:62: UserWarning: To copy construct from a tensor, it is recommended to use sourceTensor.clone().detach() or sourceTensor.clone().detach().requires_grad_(True), rather than torch.tensor(sourceTensor).\n",
      "  positive_feat = torch.tensor(batch[0].float())\n",
      "/var/folders/qv/cxzpwz3j29x7n79vwpw253v80000gn/T/ipykernel_22238/3986128095.py:63: UserWarning: To copy construct from a tensor, it is recommended to use sourceTensor.clone().detach() or sourceTensor.clone().detach().requires_grad_(True), rather than torch.tensor(sourceTensor).\n",
      "  negative_feat = torch.tensor(batch[1].float())\n",
      "532it [00:00, 613.63it/s]\n"
     ]
    },
    {
     "name": "stdout",
     "output_type": "stream",
     "text": [
      "Epoch 17, Avg Loss is 0.11518098413944244, epoch top1 0.9492497793468667, max top1 0.9545454545454546\n"
     ]
    },
    {
     "name": "stderr",
     "output_type": "stream",
     "text": [
      "0it [00:00, ?it/s]/var/folders/qv/cxzpwz3j29x7n79vwpw253v80000gn/T/ipykernel_22238/3986128095.py:62: UserWarning: To copy construct from a tensor, it is recommended to use sourceTensor.clone().detach() or sourceTensor.clone().detach().requires_grad_(True), rather than torch.tensor(sourceTensor).\n",
      "  positive_feat = torch.tensor(batch[0].float())\n",
      "/var/folders/qv/cxzpwz3j29x7n79vwpw253v80000gn/T/ipykernel_22238/3986128095.py:63: UserWarning: To copy construct from a tensor, it is recommended to use sourceTensor.clone().detach() or sourceTensor.clone().detach().requires_grad_(True), rather than torch.tensor(sourceTensor).\n",
      "  negative_feat = torch.tensor(batch[1].float())\n",
      "532it [00:00, 678.07it/s]\n"
     ]
    },
    {
     "name": "stdout",
     "output_type": "stream",
     "text": [
      "Epoch 18, Avg Loss is 0.11511637270450592, epoch top1 0.9488084730803178, max top1 0.9545454545454546\n"
     ]
    },
    {
     "name": "stderr",
     "output_type": "stream",
     "text": [
      "0it [00:00, ?it/s]/var/folders/qv/cxzpwz3j29x7n79vwpw253v80000gn/T/ipykernel_22238/3986128095.py:62: UserWarning: To copy construct from a tensor, it is recommended to use sourceTensor.clone().detach() or sourceTensor.clone().detach().requires_grad_(True), rather than torch.tensor(sourceTensor).\n",
      "  positive_feat = torch.tensor(batch[0].float())\n",
      "/var/folders/qv/cxzpwz3j29x7n79vwpw253v80000gn/T/ipykernel_22238/3986128095.py:63: UserWarning: To copy construct from a tensor, it is recommended to use sourceTensor.clone().detach() or sourceTensor.clone().detach().requires_grad_(True), rather than torch.tensor(sourceTensor).\n",
      "  negative_feat = torch.tensor(batch[1].float())\n",
      "532it [00:00, 654.82it/s]\n"
     ]
    },
    {
     "name": "stdout",
     "output_type": "stream",
     "text": [
      "Epoch 19, Avg Loss is 0.11449259519577026, epoch top1 0.9479258605472197, max top1 0.9545454545454546\n"
     ]
    }
   ],
   "source": [
    "## Call Training\n",
    "best_model_path = train(training_args)"
   ]
  },
  {
   "cell_type": "code",
   "execution_count": 46,
   "id": "valuable-grain",
   "metadata": {},
   "outputs": [
    {
     "data": {
      "text/plain": [
       "'/Users/amandeep/Github/table-linker/data/SemTab2020/Round4/table-linker/dev-output/tbl-pipeline-nn/v19/saved_models/epoch_5_loss_0.12551966309547424_top1_0.9545454545454546.pth'"
      ]
     },
     "execution_count": 46,
     "metadata": {},
     "output_type": "execute_result"
    }
   ],
   "source": [
    "best_model_path"
   ]
  },
  {
   "cell_type": "markdown",
   "id": "industrial-holocaust",
   "metadata": {},
   "source": [
    "## Dev Prediction"
   ]
  },
  {
   "cell_type": "code",
   "execution_count": 57,
   "id": "surprising-beaver",
   "metadata": {},
   "outputs": [],
   "source": [
    "def dev_prediction(dev_feature_path, dev_predictions_top_k, saved_model, output_column, min_max_scaler_path, k=5):\n",
    "    for file in glob.glob(dev_feature_path + '/*.csv'):\n",
    "        filename = file.split(\"/\")[-1]\n",
    "        print(filename)\n",
    "        feature_str =  \",\".join(features)\n",
    "        if os.path.getsize(file) == 0:\n",
    "            continue\n",
    "        # location where the output generated by the predictions wil be stored.\n",
    "        dev_output = f\"{dev_predictions_top_k}/{filename}\"\n",
    "        !tl --log-file $tl_log_file predict-using-model $file -o $output_column \\\n",
    "            --features $feature_str \\\n",
    "            --ranking-model $saved_model \\\n",
    "            --normalization-factor $min_max_scaler_path \\\n",
    "            / create-pseudo-gt \\\n",
    "            --column-thresholds $threshold \\\n",
    "            --filter smc_class_score:0 \\\n",
    "            / get-kg-links -c $final_score_column -k $k --k-rows \\\n",
    "            > $dev_output"
   ]
  },
  {
   "cell_type": "code",
   "execution_count": 58,
   "id": "funny-single",
   "metadata": {},
   "outputs": [],
   "source": [
    "def add_color(dev_predictions_top_k, dev_colorized_path, score_column, k=5):\n",
    "    for file in glob.glob(dev_predictions_top_k + '/*.csv'):\n",
    "        filename = file.split(\"/\")[-1]\n",
    "        print(filename)\n",
    "        if os.path.getsize(file) == 0:\n",
    "                    continue\n",
    "                \n",
    "        dev_color_file = f\"{dev_colorized_path}/{filename[:-4]}.xlsx\"\n",
    "        !tl add-color $file -c \"$score_column,evaluation_label\" -k $k --output $dev_color_file"
   ]
  },
  {
   "cell_type": "code",
   "execution_count": 59,
   "id": "guided-merchandise",
   "metadata": {},
   "outputs": [],
   "source": [
    "def compute_metrics(dev_predictions_top_k, dev_predictions_metrics, score_column, k=5):\n",
    "    df_list = []\n",
    "    for file in glob.glob(dev_predictions_top_k + '/*.csv'):\n",
    "        filename = file.split(\"/\")[-1]\n",
    "        if os.path.getsize(file) == 0:\n",
    "                    continue\n",
    "                \n",
    "        dev_metrics_file = f\"{dev_predictions_metrics}/{filename}\"\n",
    "        !tl --log-file $tl_log_file metrics $file -k $k -c $score_column --tag $filename> $dev_metrics_file\n",
    "        df_list.append(pd.read_csv(dev_metrics_file))\n",
    "    return pd.concat(df_list)"
   ]
  },
  {
   "cell_type": "code",
   "execution_count": 60,
   "id": "1686c3e4-a7c0-49aa-9a7e-f9d80a2f6d09",
   "metadata": {},
   "outputs": [],
   "source": [
    "def compute_custom_metrics(dev_predictions_top_k):\n",
    "    df_list = []\n",
    "    for file in glob.glob(dev_predictions_top_k+\"/*.csv\"):\n",
    "        filename = file.split(\"/\")[-1]\n",
    "        print(filename)\n",
    "        if os.path.getsize(file) == 0:\n",
    "                    continue\n",
    "        df = pd.read_csv(file)\n",
    "        col_df = []\n",
    "        for col, coldf in df.groupby(by=[\"column\"]):\n",
    "            rows = 0\n",
    "            pgt_rows = 0\n",
    "            pgt_recall = 0\n",
    "            unignored_rows = 0\n",
    "            unignored_candidates = 0\n",
    "            unignored_correct = 0\n",
    "            ignored_correct = 0\n",
    "            kth_perc_rows = 0\n",
    "            kth_perc_correct = 0\n",
    "            kth_perc_candidates = 0\n",
    "            for row, rowdf in coldf.groupby(by=[\"row\"]):\n",
    "                rows += 1\n",
    "                p_count = rowdf[(rowdf[\"pseudo_gt\"] == 1)].shape[0]\n",
    "                if p_count > 0:\n",
    "                    pgt_rows += 1\n",
    "                p_recall = rowdf[((rowdf[\"pseudo_gt\"] == 1) & (rowdf[\"evaluation_label\"] == 1))].shape[0]\n",
    "                pgt_recall += p_recall\n",
    "                ignore_0_count = rowdf[rowdf[\"ignore_candidate\"] == 0].shape[0]\n",
    "                if ignore_0_count > 0:\n",
    "                    unignored_rows += 1\n",
    "                unignored_candidates += ignore_0_count\n",
    "                unignored_correct += rowdf[((rowdf[\"ignore_candidate\"] == 0) & (rowdf[\"evaluation_label\"] == 1))].shape[0]\n",
    "                ignored_correct += rowdf[((rowdf[\"ignore_candidate\"] == 1) & (rowdf[\"evaluation_label\"] == 1))].shape[0]\n",
    "                kth_perc_1_count = rowdf[rowdf[\"kth_percenter\"] == 1].shape[0]\n",
    "                if kth_perc_1_count > 0:\n",
    "                    kth_perc_rows += 1\n",
    "                kth_perc_candidates += kth_perc_1_count\n",
    "                kth_perc_correct += rowdf[((rowdf[\"kth_percenter\"] == 1) & (rowdf[\"evaluation_label\"] == 1))].shape[0]\n",
    "            unique_rows = coldf[\"label\"].nunique()\n",
    "            col_df.append(pd.DataFrame([{\n",
    "                \"filename\":filename,\n",
    "                \"column\": col,\n",
    "                \"rows\": rows,\n",
    "                \"unique_rows\": unique_rows,\n",
    "                \"pgt_rows\": pgt_rows,\n",
    "                \"pgt_recall\": pgt_recall,\n",
    "                \"pgt_accuracy\": pgt_recall/pgt_rows if pgt_rows!=0 else 0,\n",
    "                \"unignored_rows\": unignored_rows,\n",
    "                \"unignored_candidates\": unignored_candidates,\n",
    "                \"unignored_correct\": unignored_correct,\n",
    "                \"ignored_correct\": ignored_correct,\n",
    "                \"ignore_candidate_accuracy\": unignored_correct/unignored_rows if unignored_rows != 0 else 0,\n",
    "                \"kth_percenter_rows\": kth_perc_rows,\n",
    "                \"kth_percenter_candidates\": kth_perc_candidates,\n",
    "                \"kth_percenter_correct\": kth_perc_correct,\n",
    "                \"kth_percenter_accuracy\": kth_perc_correct/kth_perc_rows\n",
    "            }]))\n",
    "        df_list.append(pd.concat(col_df))\n",
    "    return pd.concat(df_list)"
   ]
  },
  {
   "cell_type": "code",
   "execution_count": 61,
   "id": "7fad2408-0dbd-4142-b9ec-4b701776c4eb",
   "metadata": {},
   "outputs": [
    {
     "name": "stdout",
     "output_type": "stream",
     "text": [
      "/Users/amandeep/Github/table-linker/data/SemTab2020/Round4/table-linker/dev-output/tbl-pipeline-nn/v19/features /Users/amandeep/Github/table-linker/data/SemTab2020/Round4/table-linker/dev-output/tbl-pipeline-nn/v19/dev_predictions_top_k /Users/amandeep/Github/table-linker/data/SemTab2020/Round4/table-linker/dev-output/tbl-pipeline-nn/v19/saved_models/epoch_5_loss_0.12551966309547424_top1_0.9545454545454546.pth siamese_prediction /Users/amandeep/Github/table-linker/data/SemTab2020/Round4/table-linker/temp/training_data/tl_pipeline_normalization_factor.pkl\n"
     ]
    }
   ],
   "source": [
    "print(dev_feature_path, dev_predictions_top_k, best_model_path, final_score_column, min_max_scaler_path)"
   ]
  },
  {
   "cell_type": "code",
   "execution_count": 62,
   "id": "unavailable-clearance",
   "metadata": {},
   "outputs": [
    {
     "name": "stdout",
     "output_type": "stream",
     "text": [
      "4PKEEJU4.csv\n",
      "/Users/amandeep/Github/table-linker/tl_env/lib/python3.8/site-packages/pandas/core/indexing.py:1817: SettingWithCopyWarning: \n",
      "A value is trying to be set on a copy of a slice from a DataFrame.\n",
      "Try using .loc[row_indexer,col_indexer] = value instead\n",
      "\n",
      "See the caveats in the documentation: https://pandas.pydata.org/pandas-docs/stable/user_guide/indexing.html#returning-a-view-versus-a-copy\n",
      "  self._setitem_single_column(loc, value, pi)\n",
      "/Users/amandeep/Github/table-linker/tl_env/lib/python3.8/site-packages/pandas/core/indexing.py:1817: SettingWithCopyWarning: \n",
      "A value is trying to be set on a copy of a slice from a DataFrame.\n",
      "Try using .loc[row_indexer,col_indexer] = value instead\n",
      "\n",
      "See the caveats in the documentation: https://pandas.pydata.org/pandas-docs/stable/user_guide/indexing.html#returning-a-view-versus-a-copy\n",
      "  self._setitem_single_column(loc, value, pi)\n",
      "/Users/amandeep/Github/table-linker/tl_env/lib/python3.8/site-packages/pandas/core/indexing.py:1817: SettingWithCopyWarning: \n",
      "A value is trying to be set on a copy of a slice from a DataFrame.\n",
      "Try using .loc[row_indexer,col_indexer] = value instead\n",
      "\n",
      "See the caveats in the documentation: https://pandas.pydata.org/pandas-docs/stable/user_guide/indexing.html#returning-a-view-versus-a-copy\n",
      "  self._setitem_single_column(loc, value, pi)\n",
      "4DC5O5I4.csv\n",
      "/Users/amandeep/Github/table-linker/tl_env/lib/python3.8/site-packages/pandas/core/indexing.py:1817: SettingWithCopyWarning: \n",
      "A value is trying to be set on a copy of a slice from a DataFrame.\n",
      "Try using .loc[row_indexer,col_indexer] = value instead\n",
      "\n",
      "See the caveats in the documentation: https://pandas.pydata.org/pandas-docs/stable/user_guide/indexing.html#returning-a-view-versus-a-copy\n",
      "  self._setitem_single_column(loc, value, pi)\n",
      "58E7A5WL.csv\n",
      "/Users/amandeep/Github/table-linker/tl_env/lib/python3.8/site-packages/pandas/core/indexing.py:1817: SettingWithCopyWarning: \n",
      "A value is trying to be set on a copy of a slice from a DataFrame.\n",
      "Try using .loc[row_indexer,col_indexer] = value instead\n",
      "\n",
      "See the caveats in the documentation: https://pandas.pydata.org/pandas-docs/stable/user_guide/indexing.html#returning-a-view-versus-a-copy\n",
      "  self._setitem_single_column(loc, value, pi)\n",
      "/Users/amandeep/Github/table-linker/tl_env/lib/python3.8/site-packages/pandas/core/indexing.py:1817: SettingWithCopyWarning: \n",
      "A value is trying to be set on a copy of a slice from a DataFrame.\n",
      "Try using .loc[row_indexer,col_indexer] = value instead\n",
      "\n",
      "See the caveats in the documentation: https://pandas.pydata.org/pandas-docs/stable/user_guide/indexing.html#returning-a-view-versus-a-copy\n",
      "  self._setitem_single_column(loc, value, pi)\n",
      "0FQOOJPU.csv\n",
      "/Users/amandeep/Github/table-linker/tl_env/lib/python3.8/site-packages/pandas/core/indexing.py:1817: SettingWithCopyWarning: \n",
      "A value is trying to be set on a copy of a slice from a DataFrame.\n",
      "Try using .loc[row_indexer,col_indexer] = value instead\n",
      "\n",
      "See the caveats in the documentation: https://pandas.pydata.org/pandas-docs/stable/user_guide/indexing.html#returning-a-view-versus-a-copy\n",
      "  self._setitem_single_column(loc, value, pi)\n",
      "/Users/amandeep/Github/table-linker/tl_env/lib/python3.8/site-packages/pandas/core/indexing.py:1817: SettingWithCopyWarning: \n",
      "A value is trying to be set on a copy of a slice from a DataFrame.\n",
      "Try using .loc[row_indexer,col_indexer] = value instead\n",
      "\n",
      "See the caveats in the documentation: https://pandas.pydata.org/pandas-docs/stable/user_guide/indexing.html#returning-a-view-versus-a-copy\n",
      "  self._setitem_single_column(loc, value, pi)\n",
      "5IXA0RAI.csv\n",
      "/Users/amandeep/Github/table-linker/tl_env/lib/python3.8/site-packages/pandas/core/indexing.py:1817: SettingWithCopyWarning: \n",
      "A value is trying to be set on a copy of a slice from a DataFrame.\n",
      "Try using .loc[row_indexer,col_indexer] = value instead\n",
      "\n",
      "See the caveats in the documentation: https://pandas.pydata.org/pandas-docs/stable/user_guide/indexing.html#returning-a-view-versus-a-copy\n",
      "  self._setitem_single_column(loc, value, pi)\n",
      "0LF7RI6N.csv\n",
      "/Users/amandeep/Github/table-linker/tl_env/lib/python3.8/site-packages/pandas/core/indexing.py:1817: SettingWithCopyWarning: \n",
      "A value is trying to be set on a copy of a slice from a DataFrame.\n",
      "Try using .loc[row_indexer,col_indexer] = value instead\n",
      "\n",
      "See the caveats in the documentation: https://pandas.pydata.org/pandas-docs/stable/user_guide/indexing.html#returning-a-view-versus-a-copy\n",
      "  self._setitem_single_column(loc, value, pi)\n",
      "/Users/amandeep/Github/table-linker/tl_env/lib/python3.8/site-packages/pandas/core/indexing.py:1817: SettingWithCopyWarning: \n",
      "A value is trying to be set on a copy of a slice from a DataFrame.\n",
      "Try using .loc[row_indexer,col_indexer] = value instead\n",
      "\n",
      "See the caveats in the documentation: https://pandas.pydata.org/pandas-docs/stable/user_guide/indexing.html#returning-a-view-versus-a-copy\n",
      "  self._setitem_single_column(loc, value, pi)\n",
      "2PKG4E2V.csv\n",
      "/Users/amandeep/Github/table-linker/tl_env/lib/python3.8/site-packages/pandas/core/indexing.py:1817: SettingWithCopyWarning: \n",
      "A value is trying to be set on a copy of a slice from a DataFrame.\n",
      "Try using .loc[row_indexer,col_indexer] = value instead\n",
      "\n",
      "See the caveats in the documentation: https://pandas.pydata.org/pandas-docs/stable/user_guide/indexing.html#returning-a-view-versus-a-copy\n",
      "  self._setitem_single_column(loc, value, pi)\n",
      "/Users/amandeep/Github/table-linker/tl_env/lib/python3.8/site-packages/pandas/core/indexing.py:1817: SettingWithCopyWarning: \n",
      "A value is trying to be set on a copy of a slice from a DataFrame.\n",
      "Try using .loc[row_indexer,col_indexer] = value instead\n",
      "\n",
      "See the caveats in the documentation: https://pandas.pydata.org/pandas-docs/stable/user_guide/indexing.html#returning-a-view-versus-a-copy\n",
      "  self._setitem_single_column(loc, value, pi)\n",
      "/Users/amandeep/Github/table-linker/tl_env/lib/python3.8/site-packages/pandas/core/indexing.py:1817: SettingWithCopyWarning: \n",
      "A value is trying to be set on a copy of a slice from a DataFrame.\n",
      "Try using .loc[row_indexer,col_indexer] = value instead\n",
      "\n",
      "See the caveats in the documentation: https://pandas.pydata.org/pandas-docs/stable/user_guide/indexing.html#returning-a-view-versus-a-copy\n",
      "  self._setitem_single_column(loc, value, pi)\n",
      "/Users/amandeep/Github/table-linker/tl_env/lib/python3.8/site-packages/pandas/core/indexing.py:1817: SettingWithCopyWarning: \n",
      "A value is trying to be set on a copy of a slice from a DataFrame.\n",
      "Try using .loc[row_indexer,col_indexer] = value instead\n",
      "\n",
      "See the caveats in the documentation: https://pandas.pydata.org/pandas-docs/stable/user_guide/indexing.html#returning-a-view-versus-a-copy\n",
      "  self._setitem_single_column(loc, value, pi)\n",
      "50NWQJ1T.csv\n",
      "/Users/amandeep/Github/table-linker/tl_env/lib/python3.8/site-packages/pandas/core/indexing.py:1817: SettingWithCopyWarning: \n",
      "A value is trying to be set on a copy of a slice from a DataFrame.\n",
      "Try using .loc[row_indexer,col_indexer] = value instead\n",
      "\n",
      "See the caveats in the documentation: https://pandas.pydata.org/pandas-docs/stable/user_guide/indexing.html#returning-a-view-versus-a-copy\n",
      "  self._setitem_single_column(loc, value, pi)\n",
      "/Users/amandeep/Github/table-linker/tl_env/lib/python3.8/site-packages/pandas/core/indexing.py:1817: SettingWithCopyWarning: \n",
      "A value is trying to be set on a copy of a slice from a DataFrame.\n",
      "Try using .loc[row_indexer,col_indexer] = value instead\n",
      "\n",
      "See the caveats in the documentation: https://pandas.pydata.org/pandas-docs/stable/user_guide/indexing.html#returning-a-view-versus-a-copy\n",
      "  self._setitem_single_column(loc, value, pi)\n",
      "/Users/amandeep/Github/table-linker/tl_env/lib/python3.8/site-packages/pandas/core/indexing.py:1817: SettingWithCopyWarning: \n",
      "A value is trying to be set on a copy of a slice from a DataFrame.\n",
      "Try using .loc[row_indexer,col_indexer] = value instead\n",
      "\n",
      "See the caveats in the documentation: https://pandas.pydata.org/pandas-docs/stable/user_guide/indexing.html#returning-a-view-versus-a-copy\n",
      "  self._setitem_single_column(loc, value, pi)\n",
      "44NDHWR1.csv\n",
      "/Users/amandeep/Github/table-linker/tl_env/lib/python3.8/site-packages/pandas/core/indexing.py:1817: SettingWithCopyWarning: \n",
      "A value is trying to be set on a copy of a slice from a DataFrame.\n",
      "Try using .loc[row_indexer,col_indexer] = value instead\n",
      "\n",
      "See the caveats in the documentation: https://pandas.pydata.org/pandas-docs/stable/user_guide/indexing.html#returning-a-view-versus-a-copy\n",
      "  self._setitem_single_column(loc, value, pi)\n",
      "/Users/amandeep/Github/table-linker/tl_env/lib/python3.8/site-packages/pandas/core/indexing.py:1817: SettingWithCopyWarning: \n",
      "A value is trying to be set on a copy of a slice from a DataFrame.\n",
      "Try using .loc[row_indexer,col_indexer] = value instead\n",
      "\n",
      "See the caveats in the documentation: https://pandas.pydata.org/pandas-docs/stable/user_guide/indexing.html#returning-a-view-versus-a-copy\n",
      "  self._setitem_single_column(loc, value, pi)\n",
      "/Users/amandeep/Github/table-linker/tl_env/lib/python3.8/site-packages/pandas/core/indexing.py:1817: SettingWithCopyWarning: \n",
      "A value is trying to be set on a copy of a slice from a DataFrame.\n",
      "Try using .loc[row_indexer,col_indexer] = value instead\n",
      "\n",
      "See the caveats in the documentation: https://pandas.pydata.org/pandas-docs/stable/user_guide/indexing.html#returning-a-view-versus-a-copy\n",
      "  self._setitem_single_column(loc, value, pi)\n",
      "39W7XXTI.csv\n",
      "/Users/amandeep/Github/table-linker/tl_env/lib/python3.8/site-packages/pandas/core/indexing.py:1817: SettingWithCopyWarning: \n",
      "A value is trying to be set on a copy of a slice from a DataFrame.\n",
      "Try using .loc[row_indexer,col_indexer] = value instead\n",
      "\n",
      "See the caveats in the documentation: https://pandas.pydata.org/pandas-docs/stable/user_guide/indexing.html#returning-a-view-versus-a-copy\n",
      "  self._setitem_single_column(loc, value, pi)\n",
      "/Users/amandeep/Github/table-linker/tl_env/lib/python3.8/site-packages/pandas/core/indexing.py:1817: SettingWithCopyWarning: \n",
      "A value is trying to be set on a copy of a slice from a DataFrame.\n",
      "Try using .loc[row_indexer,col_indexer] = value instead\n",
      "\n",
      "See the caveats in the documentation: https://pandas.pydata.org/pandas-docs/stable/user_guide/indexing.html#returning-a-view-versus-a-copy\n",
      "  self._setitem_single_column(loc, value, pi)\n",
      "/Users/amandeep/Github/table-linker/tl_env/lib/python3.8/site-packages/pandas/core/indexing.py:1817: SettingWithCopyWarning: \n",
      "A value is trying to be set on a copy of a slice from a DataFrame.\n",
      "Try using .loc[row_indexer,col_indexer] = value instead\n",
      "\n",
      "See the caveats in the documentation: https://pandas.pydata.org/pandas-docs/stable/user_guide/indexing.html#returning-a-view-versus-a-copy\n",
      "  self._setitem_single_column(loc, value, pi)\n",
      "3WXFYEAX.csv\n",
      "/Users/amandeep/Github/table-linker/tl_env/lib/python3.8/site-packages/pandas/core/indexing.py:1817: SettingWithCopyWarning: \n",
      "A value is trying to be set on a copy of a slice from a DataFrame.\n",
      "Try using .loc[row_indexer,col_indexer] = value instead\n",
      "\n",
      "See the caveats in the documentation: https://pandas.pydata.org/pandas-docs/stable/user_guide/indexing.html#returning-a-view-versus-a-copy\n",
      "  self._setitem_single_column(loc, value, pi)\n",
      "28D7RBJT.csv\n",
      "/Users/amandeep/Github/table-linker/tl_env/lib/python3.8/site-packages/pandas/core/indexing.py:1817: SettingWithCopyWarning: \n",
      "A value is trying to be set on a copy of a slice from a DataFrame.\n",
      "Try using .loc[row_indexer,col_indexer] = value instead\n",
      "\n",
      "See the caveats in the documentation: https://pandas.pydata.org/pandas-docs/stable/user_guide/indexing.html#returning-a-view-versus-a-copy\n",
      "  self._setitem_single_column(loc, value, pi)\n",
      "/Users/amandeep/Github/table-linker/tl_env/lib/python3.8/site-packages/pandas/core/indexing.py:1817: SettingWithCopyWarning: \n",
      "A value is trying to be set on a copy of a slice from a DataFrame.\n",
      "Try using .loc[row_indexer,col_indexer] = value instead\n",
      "\n",
      "See the caveats in the documentation: https://pandas.pydata.org/pandas-docs/stable/user_guide/indexing.html#returning-a-view-versus-a-copy\n",
      "  self._setitem_single_column(loc, value, pi)\n",
      "1GUVMENF.csv\n",
      "/Users/amandeep/Github/table-linker/tl_env/lib/python3.8/site-packages/pandas/core/indexing.py:1817: SettingWithCopyWarning: \n",
      "A value is trying to be set on a copy of a slice from a DataFrame.\n",
      "Try using .loc[row_indexer,col_indexer] = value instead\n",
      "\n",
      "See the caveats in the documentation: https://pandas.pydata.org/pandas-docs/stable/user_guide/indexing.html#returning-a-view-versus-a-copy\n",
      "  self._setitem_single_column(loc, value, pi)\n",
      "0QWF60VG.csv\n",
      "/Users/amandeep/Github/table-linker/tl_env/lib/python3.8/site-packages/pandas/core/indexing.py:1817: SettingWithCopyWarning: \n",
      "A value is trying to be set on a copy of a slice from a DataFrame.\n",
      "Try using .loc[row_indexer,col_indexer] = value instead\n",
      "\n",
      "See the caveats in the documentation: https://pandas.pydata.org/pandas-docs/stable/user_guide/indexing.html#returning-a-view-versus-a-copy\n",
      "  self._setitem_single_column(loc, value, pi)\n",
      "/Users/amandeep/Github/table-linker/tl_env/lib/python3.8/site-packages/pandas/core/indexing.py:1817: SettingWithCopyWarning: \n",
      "A value is trying to be set on a copy of a slice from a DataFrame.\n",
      "Try using .loc[row_indexer,col_indexer] = value instead\n",
      "\n",
      "See the caveats in the documentation: https://pandas.pydata.org/pandas-docs/stable/user_guide/indexing.html#returning-a-view-versus-a-copy\n",
      "  self._setitem_single_column(loc, value, pi)\n",
      "/Users/amandeep/Github/table-linker/tl_env/lib/python3.8/site-packages/pandas/core/indexing.py:1817: SettingWithCopyWarning: \n",
      "A value is trying to be set on a copy of a slice from a DataFrame.\n",
      "Try using .loc[row_indexer,col_indexer] = value instead\n",
      "\n",
      "See the caveats in the documentation: https://pandas.pydata.org/pandas-docs/stable/user_guide/indexing.html#returning-a-view-versus-a-copy\n",
      "  self._setitem_single_column(loc, value, pi)\n",
      "3OCW1LDZ.csv\n",
      "/Users/amandeep/Github/table-linker/tl_env/lib/python3.8/site-packages/pandas/core/indexing.py:1817: SettingWithCopyWarning: \n",
      "A value is trying to be set on a copy of a slice from a DataFrame.\n",
      "Try using .loc[row_indexer,col_indexer] = value instead\n",
      "\n",
      "See the caveats in the documentation: https://pandas.pydata.org/pandas-docs/stable/user_guide/indexing.html#returning-a-view-versus-a-copy\n",
      "  self._setitem_single_column(loc, value, pi)\n",
      "/Users/amandeep/Github/table-linker/tl_env/lib/python3.8/site-packages/pandas/core/indexing.py:1817: SettingWithCopyWarning: \n",
      "A value is trying to be set on a copy of a slice from a DataFrame.\n",
      "Try using .loc[row_indexer,col_indexer] = value instead\n",
      "\n",
      "See the caveats in the documentation: https://pandas.pydata.org/pandas-docs/stable/user_guide/indexing.html#returning-a-view-versus-a-copy\n",
      "  self._setitem_single_column(loc, value, pi)\n",
      "/Users/amandeep/Github/table-linker/tl_env/lib/python3.8/site-packages/pandas/core/indexing.py:1817: SettingWithCopyWarning: \n",
      "A value is trying to be set on a copy of a slice from a DataFrame.\n",
      "Try using .loc[row_indexer,col_indexer] = value instead\n",
      "\n",
      "See the caveats in the documentation: https://pandas.pydata.org/pandas-docs/stable/user_guide/indexing.html#returning-a-view-versus-a-copy\n",
      "  self._setitem_single_column(loc, value, pi)\n",
      "4V4O0CTS.csv\n",
      "/Users/amandeep/Github/table-linker/tl_env/lib/python3.8/site-packages/pandas/core/indexing.py:1817: SettingWithCopyWarning: \n",
      "A value is trying to be set on a copy of a slice from a DataFrame.\n",
      "Try using .loc[row_indexer,col_indexer] = value instead\n",
      "\n",
      "See the caveats in the documentation: https://pandas.pydata.org/pandas-docs/stable/user_guide/indexing.html#returning-a-view-versus-a-copy\n",
      "  self._setitem_single_column(loc, value, pi)\n",
      "/Users/amandeep/Github/table-linker/tl_env/lib/python3.8/site-packages/pandas/core/indexing.py:1817: SettingWithCopyWarning: \n",
      "A value is trying to be set on a copy of a slice from a DataFrame.\n",
      "Try using .loc[row_indexer,col_indexer] = value instead\n",
      "\n",
      "See the caveats in the documentation: https://pandas.pydata.org/pandas-docs/stable/user_guide/indexing.html#returning-a-view-versus-a-copy\n",
      "  self._setitem_single_column(loc, value, pi)\n",
      "29D1VZHF.csv\n",
      "/Users/amandeep/Github/table-linker/tl_env/lib/python3.8/site-packages/pandas/core/indexing.py:1817: SettingWithCopyWarning: \n",
      "A value is trying to be set on a copy of a slice from a DataFrame.\n",
      "Try using .loc[row_indexer,col_indexer] = value instead\n",
      "\n",
      "See the caveats in the documentation: https://pandas.pydata.org/pandas-docs/stable/user_guide/indexing.html#returning-a-view-versus-a-copy\n",
      "  self._setitem_single_column(loc, value, pi)\n",
      "/Users/amandeep/Github/table-linker/tl_env/lib/python3.8/site-packages/pandas/core/indexing.py:1817: SettingWithCopyWarning: \n",
      "A value is trying to be set on a copy of a slice from a DataFrame.\n",
      "Try using .loc[row_indexer,col_indexer] = value instead\n",
      "\n",
      "See the caveats in the documentation: https://pandas.pydata.org/pandas-docs/stable/user_guide/indexing.html#returning-a-view-versus-a-copy\n",
      "  self._setitem_single_column(loc, value, pi)\n",
      "/Users/amandeep/Github/table-linker/tl_env/lib/python3.8/site-packages/pandas/core/indexing.py:1817: SettingWithCopyWarning: \n",
      "A value is trying to be set on a copy of a slice from a DataFrame.\n",
      "Try using .loc[row_indexer,col_indexer] = value instead\n",
      "\n",
      "See the caveats in the documentation: https://pandas.pydata.org/pandas-docs/stable/user_guide/indexing.html#returning-a-view-versus-a-copy\n",
      "  self._setitem_single_column(loc, value, pi)\n",
      "4FG1UN8O.csv\n",
      "/Users/amandeep/Github/table-linker/tl_env/lib/python3.8/site-packages/pandas/core/indexing.py:1817: SettingWithCopyWarning: \n",
      "A value is trying to be set on a copy of a slice from a DataFrame.\n",
      "Try using .loc[row_indexer,col_indexer] = value instead\n",
      "\n",
      "See the caveats in the documentation: https://pandas.pydata.org/pandas-docs/stable/user_guide/indexing.html#returning-a-view-versus-a-copy\n",
      "  self._setitem_single_column(loc, value, pi)\n",
      "/Users/amandeep/Github/table-linker/tl_env/lib/python3.8/site-packages/pandas/core/indexing.py:1817: SettingWithCopyWarning: \n",
      "A value is trying to be set on a copy of a slice from a DataFrame.\n",
      "Try using .loc[row_indexer,col_indexer] = value instead\n",
      "\n",
      "See the caveats in the documentation: https://pandas.pydata.org/pandas-docs/stable/user_guide/indexing.html#returning-a-view-versus-a-copy\n",
      "  self._setitem_single_column(loc, value, pi)\n",
      "/Users/amandeep/Github/table-linker/tl_env/lib/python3.8/site-packages/pandas/core/indexing.py:1817: SettingWithCopyWarning: \n",
      "A value is trying to be set on a copy of a slice from a DataFrame.\n",
      "Try using .loc[row_indexer,col_indexer] = value instead\n",
      "\n",
      "See the caveats in the documentation: https://pandas.pydata.org/pandas-docs/stable/user_guide/indexing.html#returning-a-view-versus-a-copy\n",
      "  self._setitem_single_column(loc, value, pi)\n",
      "1ZFRQBQS.csv\n",
      "/Users/amandeep/Github/table-linker/tl_env/lib/python3.8/site-packages/pandas/core/indexing.py:1817: SettingWithCopyWarning: \n",
      "A value is trying to be set on a copy of a slice from a DataFrame.\n",
      "Try using .loc[row_indexer,col_indexer] = value instead\n",
      "\n",
      "See the caveats in the documentation: https://pandas.pydata.org/pandas-docs/stable/user_guide/indexing.html#returning-a-view-versus-a-copy\n",
      "  self._setitem_single_column(loc, value, pi)\n",
      "/Users/amandeep/Github/table-linker/tl_env/lib/python3.8/site-packages/pandas/core/indexing.py:1817: SettingWithCopyWarning: \n",
      "A value is trying to be set on a copy of a slice from a DataFrame.\n",
      "Try using .loc[row_indexer,col_indexer] = value instead\n",
      "\n",
      "See the caveats in the documentation: https://pandas.pydata.org/pandas-docs/stable/user_guide/indexing.html#returning-a-view-versus-a-copy\n",
      "  self._setitem_single_column(loc, value, pi)\n",
      "/Users/amandeep/Github/table-linker/tl_env/lib/python3.8/site-packages/pandas/core/indexing.py:1817: SettingWithCopyWarning: \n",
      "A value is trying to be set on a copy of a slice from a DataFrame.\n",
      "Try using .loc[row_indexer,col_indexer] = value instead\n",
      "\n",
      "See the caveats in the documentation: https://pandas.pydata.org/pandas-docs/stable/user_guide/indexing.html#returning-a-view-versus-a-copy\n",
      "  self._setitem_single_column(loc, value, pi)\n",
      "0WBTX8LY.csv\n",
      "/Users/amandeep/Github/table-linker/tl_env/lib/python3.8/site-packages/pandas/core/indexing.py:1817: SettingWithCopyWarning: \n",
      "A value is trying to be set on a copy of a slice from a DataFrame.\n",
      "Try using .loc[row_indexer,col_indexer] = value instead\n",
      "\n",
      "See the caveats in the documentation: https://pandas.pydata.org/pandas-docs/stable/user_guide/indexing.html#returning-a-view-versus-a-copy\n",
      "  self._setitem_single_column(loc, value, pi)\n",
      "/Users/amandeep/Github/table-linker/tl_env/lib/python3.8/site-packages/pandas/core/indexing.py:1817: SettingWithCopyWarning: \n",
      "A value is trying to be set on a copy of a slice from a DataFrame.\n",
      "Try using .loc[row_indexer,col_indexer] = value instead\n",
      "\n",
      "See the caveats in the documentation: https://pandas.pydata.org/pandas-docs/stable/user_guide/indexing.html#returning-a-view-versus-a-copy\n",
      "  self._setitem_single_column(loc, value, pi)\n",
      "1NS33P8C.csv\n",
      "/Users/amandeep/Github/table-linker/tl_env/lib/python3.8/site-packages/pandas/core/indexing.py:1817: SettingWithCopyWarning: \n",
      "A value is trying to be set on a copy of a slice from a DataFrame.\n",
      "Try using .loc[row_indexer,col_indexer] = value instead\n",
      "\n",
      "See the caveats in the documentation: https://pandas.pydata.org/pandas-docs/stable/user_guide/indexing.html#returning-a-view-versus-a-copy\n",
      "  self._setitem_single_column(loc, value, pi)\n",
      "2TGNKH1P.csv\n",
      "/Users/amandeep/Github/table-linker/tl_env/lib/python3.8/site-packages/pandas/core/indexing.py:1817: SettingWithCopyWarning: \n",
      "A value is trying to be set on a copy of a slice from a DataFrame.\n",
      "Try using .loc[row_indexer,col_indexer] = value instead\n",
      "\n",
      "See the caveats in the documentation: https://pandas.pydata.org/pandas-docs/stable/user_guide/indexing.html#returning-a-view-versus-a-copy\n",
      "  self._setitem_single_column(loc, value, pi)\n",
      "/Users/amandeep/Github/table-linker/tl_env/lib/python3.8/site-packages/pandas/core/indexing.py:1817: SettingWithCopyWarning: \n",
      "A value is trying to be set on a copy of a slice from a DataFrame.\n",
      "Try using .loc[row_indexer,col_indexer] = value instead\n",
      "\n",
      "See the caveats in the documentation: https://pandas.pydata.org/pandas-docs/stable/user_guide/indexing.html#returning-a-view-versus-a-copy\n",
      "  self._setitem_single_column(loc, value, pi)\n",
      "53OUTCE4.csv\n",
      "/Users/amandeep/Github/table-linker/tl_env/lib/python3.8/site-packages/pandas/core/indexing.py:1817: SettingWithCopyWarning: \n",
      "A value is trying to be set on a copy of a slice from a DataFrame.\n",
      "Try using .loc[row_indexer,col_indexer] = value instead\n",
      "\n",
      "See the caveats in the documentation: https://pandas.pydata.org/pandas-docs/stable/user_guide/indexing.html#returning-a-view-versus-a-copy\n",
      "  self._setitem_single_column(loc, value, pi)\n",
      "/Users/amandeep/Github/table-linker/tl_env/lib/python3.8/site-packages/pandas/core/indexing.py:1817: SettingWithCopyWarning: \n",
      "A value is trying to be set on a copy of a slice from a DataFrame.\n",
      "Try using .loc[row_indexer,col_indexer] = value instead\n",
      "\n",
      "See the caveats in the documentation: https://pandas.pydata.org/pandas-docs/stable/user_guide/indexing.html#returning-a-view-versus-a-copy\n",
      "  self._setitem_single_column(loc, value, pi)\n",
      "5TJI4XTK.csv\n",
      "/Users/amandeep/Github/table-linker/tl_env/lib/python3.8/site-packages/pandas/core/indexing.py:1817: SettingWithCopyWarning: \n",
      "A value is trying to be set on a copy of a slice from a DataFrame.\n",
      "Try using .loc[row_indexer,col_indexer] = value instead\n",
      "\n",
      "See the caveats in the documentation: https://pandas.pydata.org/pandas-docs/stable/user_guide/indexing.html#returning-a-view-versus-a-copy\n",
      "  self._setitem_single_column(loc, value, pi)\n",
      "4DPRZWVL.csv\n",
      "/Users/amandeep/Github/table-linker/tl_env/lib/python3.8/site-packages/pandas/core/indexing.py:1817: SettingWithCopyWarning: \n",
      "A value is trying to be set on a copy of a slice from a DataFrame.\n",
      "Try using .loc[row_indexer,col_indexer] = value instead\n",
      "\n",
      "See the caveats in the documentation: https://pandas.pydata.org/pandas-docs/stable/user_guide/indexing.html#returning-a-view-versus-a-copy\n",
      "  self._setitem_single_column(loc, value, pi)\n",
      "4SOL8H0M.csv\n",
      "/Users/amandeep/Github/table-linker/tl_env/lib/python3.8/site-packages/pandas/core/indexing.py:1817: SettingWithCopyWarning: \n",
      "A value is trying to be set on a copy of a slice from a DataFrame.\n",
      "Try using .loc[row_indexer,col_indexer] = value instead\n",
      "\n",
      "See the caveats in the documentation: https://pandas.pydata.org/pandas-docs/stable/user_guide/indexing.html#returning-a-view-versus-a-copy\n",
      "  self._setitem_single_column(loc, value, pi)\n",
      "/Users/amandeep/Github/table-linker/tl_env/lib/python3.8/site-packages/pandas/core/indexing.py:1817: SettingWithCopyWarning: \n",
      "A value is trying to be set on a copy of a slice from a DataFrame.\n",
      "Try using .loc[row_indexer,col_indexer] = value instead\n",
      "\n",
      "See the caveats in the documentation: https://pandas.pydata.org/pandas-docs/stable/user_guide/indexing.html#returning-a-view-versus-a-copy\n",
      "  self._setitem_single_column(loc, value, pi)\n",
      "/Users/amandeep/Github/table-linker/tl_env/lib/python3.8/site-packages/pandas/core/indexing.py:1817: SettingWithCopyWarning: \n",
      "A value is trying to be set on a copy of a slice from a DataFrame.\n",
      "Try using .loc[row_indexer,col_indexer] = value instead\n",
      "\n",
      "See the caveats in the documentation: https://pandas.pydata.org/pandas-docs/stable/user_guide/indexing.html#returning-a-view-versus-a-copy\n",
      "  self._setitem_single_column(loc, value, pi)\n",
      "/Users/amandeep/Github/table-linker/tl_env/lib/python3.8/site-packages/pandas/core/indexing.py:1817: SettingWithCopyWarning: \n",
      "A value is trying to be set on a copy of a slice from a DataFrame.\n",
      "Try using .loc[row_indexer,col_indexer] = value instead\n",
      "\n",
      "See the caveats in the documentation: https://pandas.pydata.org/pandas-docs/stable/user_guide/indexing.html#returning-a-view-versus-a-copy\n",
      "  self._setitem_single_column(loc, value, pi)\n",
      "080HU8A5.csv\n",
      "/Users/amandeep/Github/table-linker/tl_env/lib/python3.8/site-packages/pandas/core/indexing.py:1817: SettingWithCopyWarning: \n",
      "A value is trying to be set on a copy of a slice from a DataFrame.\n",
      "Try using .loc[row_indexer,col_indexer] = value instead\n",
      "\n",
      "See the caveats in the documentation: https://pandas.pydata.org/pandas-docs/stable/user_guide/indexing.html#returning-a-view-versus-a-copy\n",
      "  self._setitem_single_column(loc, value, pi)\n",
      "3OAZEVOY.csv\n",
      "/Users/amandeep/Github/table-linker/tl_env/lib/python3.8/site-packages/pandas/core/indexing.py:1817: SettingWithCopyWarning: \n",
      "A value is trying to be set on a copy of a slice from a DataFrame.\n",
      "Try using .loc[row_indexer,col_indexer] = value instead\n",
      "\n",
      "See the caveats in the documentation: https://pandas.pydata.org/pandas-docs/stable/user_guide/indexing.html#returning-a-view-versus-a-copy\n",
      "  self._setitem_single_column(loc, value, pi)\n",
      "/Users/amandeep/Github/table-linker/tl_env/lib/python3.8/site-packages/pandas/core/indexing.py:1817: SettingWithCopyWarning: \n",
      "A value is trying to be set on a copy of a slice from a DataFrame.\n",
      "Try using .loc[row_indexer,col_indexer] = value instead\n",
      "\n",
      "See the caveats in the documentation: https://pandas.pydata.org/pandas-docs/stable/user_guide/indexing.html#returning-a-view-versus-a-copy\n",
      "  self._setitem_single_column(loc, value, pi)\n",
      "/Users/amandeep/Github/table-linker/tl_env/lib/python3.8/site-packages/pandas/core/indexing.py:1817: SettingWithCopyWarning: \n",
      "A value is trying to be set on a copy of a slice from a DataFrame.\n",
      "Try using .loc[row_indexer,col_indexer] = value instead\n",
      "\n",
      "See the caveats in the documentation: https://pandas.pydata.org/pandas-docs/stable/user_guide/indexing.html#returning-a-view-versus-a-copy\n",
      "  self._setitem_single_column(loc, value, pi)\n",
      "13BLTPJD.csv\n",
      "/Users/amandeep/Github/table-linker/tl_env/lib/python3.8/site-packages/pandas/core/indexing.py:1817: SettingWithCopyWarning: \n",
      "A value is trying to be set on a copy of a slice from a DataFrame.\n",
      "Try using .loc[row_indexer,col_indexer] = value instead\n",
      "\n",
      "See the caveats in the documentation: https://pandas.pydata.org/pandas-docs/stable/user_guide/indexing.html#returning-a-view-versus-a-copy\n",
      "  self._setitem_single_column(loc, value, pi)\n",
      "/Users/amandeep/Github/table-linker/tl_env/lib/python3.8/site-packages/pandas/core/indexing.py:1817: SettingWithCopyWarning: \n",
      "A value is trying to be set on a copy of a slice from a DataFrame.\n",
      "Try using .loc[row_indexer,col_indexer] = value instead\n",
      "\n",
      "See the caveats in the documentation: https://pandas.pydata.org/pandas-docs/stable/user_guide/indexing.html#returning-a-view-versus-a-copy\n",
      "  self._setitem_single_column(loc, value, pi)\n",
      "/Users/amandeep/Github/table-linker/tl_env/lib/python3.8/site-packages/pandas/core/indexing.py:1817: SettingWithCopyWarning: \n",
      "A value is trying to be set on a copy of a slice from a DataFrame.\n",
      "Try using .loc[row_indexer,col_indexer] = value instead\n",
      "\n",
      "See the caveats in the documentation: https://pandas.pydata.org/pandas-docs/stable/user_guide/indexing.html#returning-a-view-versus-a-copy\n",
      "  self._setitem_single_column(loc, value, pi)\n",
      "3M5QXPWN.csv\n",
      "/Users/amandeep/Github/table-linker/tl_env/lib/python3.8/site-packages/pandas/core/indexing.py:1817: SettingWithCopyWarning: \n",
      "A value is trying to be set on a copy of a slice from a DataFrame.\n",
      "Try using .loc[row_indexer,col_indexer] = value instead\n",
      "\n",
      "See the caveats in the documentation: https://pandas.pydata.org/pandas-docs/stable/user_guide/indexing.html#returning-a-view-versus-a-copy\n",
      "  self._setitem_single_column(loc, value, pi)\n",
      "/Users/amandeep/Github/table-linker/tl_env/lib/python3.8/site-packages/pandas/core/indexing.py:1817: SettingWithCopyWarning: \n",
      "A value is trying to be set on a copy of a slice from a DataFrame.\n",
      "Try using .loc[row_indexer,col_indexer] = value instead\n",
      "\n",
      "See the caveats in the documentation: https://pandas.pydata.org/pandas-docs/stable/user_guide/indexing.html#returning-a-view-versus-a-copy\n",
      "  self._setitem_single_column(loc, value, pi)\n",
      "/Users/amandeep/Github/table-linker/tl_env/lib/python3.8/site-packages/pandas/core/indexing.py:1817: SettingWithCopyWarning: \n",
      "A value is trying to be set on a copy of a slice from a DataFrame.\n",
      "Try using .loc[row_indexer,col_indexer] = value instead\n",
      "\n",
      "See the caveats in the documentation: https://pandas.pydata.org/pandas-docs/stable/user_guide/indexing.html#returning-a-view-versus-a-copy\n",
      "  self._setitem_single_column(loc, value, pi)\n",
      "0G9YPQC0.csv\n",
      "/Users/amandeep/Github/table-linker/tl_env/lib/python3.8/site-packages/pandas/core/indexing.py:1817: SettingWithCopyWarning: \n",
      "A value is trying to be set on a copy of a slice from a DataFrame.\n",
      "Try using .loc[row_indexer,col_indexer] = value instead\n",
      "\n",
      "See the caveats in the documentation: https://pandas.pydata.org/pandas-docs/stable/user_guide/indexing.html#returning-a-view-versus-a-copy\n",
      "  self._setitem_single_column(loc, value, pi)\n",
      "/Users/amandeep/Github/table-linker/tl_env/lib/python3.8/site-packages/pandas/core/indexing.py:1817: SettingWithCopyWarning: \n",
      "A value is trying to be set on a copy of a slice from a DataFrame.\n",
      "Try using .loc[row_indexer,col_indexer] = value instead\n",
      "\n",
      "See the caveats in the documentation: https://pandas.pydata.org/pandas-docs/stable/user_guide/indexing.html#returning-a-view-versus-a-copy\n",
      "  self._setitem_single_column(loc, value, pi)\n",
      "/Users/amandeep/Github/table-linker/tl_env/lib/python3.8/site-packages/pandas/core/indexing.py:1817: SettingWithCopyWarning: \n",
      "A value is trying to be set on a copy of a slice from a DataFrame.\n",
      "Try using .loc[row_indexer,col_indexer] = value instead\n",
      "\n",
      "See the caveats in the documentation: https://pandas.pydata.org/pandas-docs/stable/user_guide/indexing.html#returning-a-view-versus-a-copy\n",
      "  self._setitem_single_column(loc, value, pi)\n",
      "1YPLVLS9.csv\n",
      "/Users/amandeep/Github/table-linker/tl_env/lib/python3.8/site-packages/pandas/core/indexing.py:1817: SettingWithCopyWarning: \n",
      "A value is trying to be set on a copy of a slice from a DataFrame.\n",
      "Try using .loc[row_indexer,col_indexer] = value instead\n",
      "\n",
      "See the caveats in the documentation: https://pandas.pydata.org/pandas-docs/stable/user_guide/indexing.html#returning-a-view-versus-a-copy\n",
      "  self._setitem_single_column(loc, value, pi)\n",
      "/Users/amandeep/Github/table-linker/tl_env/lib/python3.8/site-packages/pandas/core/indexing.py:1817: SettingWithCopyWarning: \n",
      "A value is trying to be set on a copy of a slice from a DataFrame.\n",
      "Try using .loc[row_indexer,col_indexer] = value instead\n",
      "\n",
      "See the caveats in the documentation: https://pandas.pydata.org/pandas-docs/stable/user_guide/indexing.html#returning-a-view-versus-a-copy\n",
      "  self._setitem_single_column(loc, value, pi)\n",
      "0CETTKTA.csv\n",
      "/Users/amandeep/Github/table-linker/tl_env/lib/python3.8/site-packages/pandas/core/indexing.py:1817: SettingWithCopyWarning: \n",
      "A value is trying to be set on a copy of a slice from a DataFrame.\n",
      "Try using .loc[row_indexer,col_indexer] = value instead\n",
      "\n",
      "See the caveats in the documentation: https://pandas.pydata.org/pandas-docs/stable/user_guide/indexing.html#returning-a-view-versus-a-copy\n",
      "  self._setitem_single_column(loc, value, pi)\n",
      "1GOKLC0K.csv\n",
      "/Users/amandeep/Github/table-linker/tl_env/lib/python3.8/site-packages/pandas/core/indexing.py:1817: SettingWithCopyWarning: \n",
      "A value is trying to be set on a copy of a slice from a DataFrame.\n",
      "Try using .loc[row_indexer,col_indexer] = value instead\n",
      "\n",
      "See the caveats in the documentation: https://pandas.pydata.org/pandas-docs/stable/user_guide/indexing.html#returning-a-view-versus-a-copy\n",
      "  self._setitem_single_column(loc, value, pi)\n",
      "/Users/amandeep/Github/table-linker/tl_env/lib/python3.8/site-packages/pandas/core/indexing.py:1817: SettingWithCopyWarning: \n",
      "A value is trying to be set on a copy of a slice from a DataFrame.\n",
      "Try using .loc[row_indexer,col_indexer] = value instead\n",
      "\n",
      "See the caveats in the documentation: https://pandas.pydata.org/pandas-docs/stable/user_guide/indexing.html#returning-a-view-versus-a-copy\n",
      "  self._setitem_single_column(loc, value, pi)\n",
      "/Users/amandeep/Github/table-linker/tl_env/lib/python3.8/site-packages/pandas/core/indexing.py:1817: SettingWithCopyWarning: \n",
      "A value is trying to be set on a copy of a slice from a DataFrame.\n",
      "Try using .loc[row_indexer,col_indexer] = value instead\n",
      "\n",
      "See the caveats in the documentation: https://pandas.pydata.org/pandas-docs/stable/user_guide/indexing.html#returning-a-view-versus-a-copy\n",
      "  self._setitem_single_column(loc, value, pi)\n",
      "2QFYH2N9.csv\n",
      "/Users/amandeep/Github/table-linker/tl_env/lib/python3.8/site-packages/pandas/core/indexing.py:1817: SettingWithCopyWarning: \n",
      "A value is trying to be set on a copy of a slice from a DataFrame.\n",
      "Try using .loc[row_indexer,col_indexer] = value instead\n",
      "\n",
      "See the caveats in the documentation: https://pandas.pydata.org/pandas-docs/stable/user_guide/indexing.html#returning-a-view-versus-a-copy\n",
      "  self._setitem_single_column(loc, value, pi)\n",
      "/Users/amandeep/Github/table-linker/tl_env/lib/python3.8/site-packages/pandas/core/indexing.py:1817: SettingWithCopyWarning: \n",
      "A value is trying to be set on a copy of a slice from a DataFrame.\n",
      "Try using .loc[row_indexer,col_indexer] = value instead\n",
      "\n",
      "See the caveats in the documentation: https://pandas.pydata.org/pandas-docs/stable/user_guide/indexing.html#returning-a-view-versus-a-copy\n",
      "  self._setitem_single_column(loc, value, pi)\n",
      "/Users/amandeep/Github/table-linker/tl_env/lib/python3.8/site-packages/pandas/core/indexing.py:1817: SettingWithCopyWarning: \n",
      "A value is trying to be set on a copy of a slice from a DataFrame.\n",
      "Try using .loc[row_indexer,col_indexer] = value instead\n",
      "\n",
      "See the caveats in the documentation: https://pandas.pydata.org/pandas-docs/stable/user_guide/indexing.html#returning-a-view-versus-a-copy\n",
      "  self._setitem_single_column(loc, value, pi)\n",
      "00ECUL14.csv\n",
      "/Users/amandeep/Github/table-linker/tl_env/lib/python3.8/site-packages/pandas/core/indexing.py:1817: SettingWithCopyWarning: \n",
      "A value is trying to be set on a copy of a slice from a DataFrame.\n",
      "Try using .loc[row_indexer,col_indexer] = value instead\n",
      "\n",
      "See the caveats in the documentation: https://pandas.pydata.org/pandas-docs/stable/user_guide/indexing.html#returning-a-view-versus-a-copy\n",
      "  self._setitem_single_column(loc, value, pi)\n",
      "/Users/amandeep/Github/table-linker/tl_env/lib/python3.8/site-packages/pandas/core/indexing.py:1817: SettingWithCopyWarning: \n",
      "A value is trying to be set on a copy of a slice from a DataFrame.\n",
      "Try using .loc[row_indexer,col_indexer] = value instead\n",
      "\n",
      "See the caveats in the documentation: https://pandas.pydata.org/pandas-docs/stable/user_guide/indexing.html#returning-a-view-versus-a-copy\n",
      "  self._setitem_single_column(loc, value, pi)\n",
      "2E6QBLCA.csv\n",
      "/Users/amandeep/Github/table-linker/tl_env/lib/python3.8/site-packages/pandas/core/indexing.py:1817: SettingWithCopyWarning: \n",
      "A value is trying to be set on a copy of a slice from a DataFrame.\n",
      "Try using .loc[row_indexer,col_indexer] = value instead\n",
      "\n",
      "See the caveats in the documentation: https://pandas.pydata.org/pandas-docs/stable/user_guide/indexing.html#returning-a-view-versus-a-copy\n",
      "  self._setitem_single_column(loc, value, pi)\n",
      "/Users/amandeep/Github/table-linker/tl_env/lib/python3.8/site-packages/pandas/core/indexing.py:1817: SettingWithCopyWarning: \n",
      "A value is trying to be set on a copy of a slice from a DataFrame.\n",
      "Try using .loc[row_indexer,col_indexer] = value instead\n",
      "\n",
      "See the caveats in the documentation: https://pandas.pydata.org/pandas-docs/stable/user_guide/indexing.html#returning-a-view-versus-a-copy\n",
      "  self._setitem_single_column(loc, value, pi)\n",
      "1T91CHXV.csv\n",
      "/Users/amandeep/Github/table-linker/tl_env/lib/python3.8/site-packages/pandas/core/indexing.py:1817: SettingWithCopyWarning: \n",
      "A value is trying to be set on a copy of a slice from a DataFrame.\n",
      "Try using .loc[row_indexer,col_indexer] = value instead\n",
      "\n",
      "See the caveats in the documentation: https://pandas.pydata.org/pandas-docs/stable/user_guide/indexing.html#returning-a-view-versus-a-copy\n",
      "  self._setitem_single_column(loc, value, pi)\n",
      "/Users/amandeep/Github/table-linker/tl_env/lib/python3.8/site-packages/pandas/core/indexing.py:1817: SettingWithCopyWarning: \n",
      "A value is trying to be set on a copy of a slice from a DataFrame.\n",
      "Try using .loc[row_indexer,col_indexer] = value instead\n",
      "\n",
      "See the caveats in the documentation: https://pandas.pydata.org/pandas-docs/stable/user_guide/indexing.html#returning-a-view-versus-a-copy\n",
      "  self._setitem_single_column(loc, value, pi)\n",
      "/Users/amandeep/Github/table-linker/tl_env/lib/python3.8/site-packages/pandas/core/indexing.py:1817: SettingWithCopyWarning: \n",
      "A value is trying to be set on a copy of a slice from a DataFrame.\n",
      "Try using .loc[row_indexer,col_indexer] = value instead\n",
      "\n",
      "See the caveats in the documentation: https://pandas.pydata.org/pandas-docs/stable/user_guide/indexing.html#returning-a-view-versus-a-copy\n",
      "  self._setitem_single_column(loc, value, pi)\n",
      "59W76Q0Y.csv\n",
      "/Users/amandeep/Github/table-linker/tl_env/lib/python3.8/site-packages/pandas/core/indexing.py:1817: SettingWithCopyWarning: \n",
      "A value is trying to be set on a copy of a slice from a DataFrame.\n",
      "Try using .loc[row_indexer,col_indexer] = value instead\n",
      "\n",
      "See the caveats in the documentation: https://pandas.pydata.org/pandas-docs/stable/user_guide/indexing.html#returning-a-view-versus-a-copy\n",
      "  self._setitem_single_column(loc, value, pi)\n",
      "5PKTGQ6Q.csv\n",
      "/Users/amandeep/Github/table-linker/tl_env/lib/python3.8/site-packages/pandas/core/indexing.py:1817: SettingWithCopyWarning: \n",
      "A value is trying to be set on a copy of a slice from a DataFrame.\n",
      "Try using .loc[row_indexer,col_indexer] = value instead\n",
      "\n",
      "See the caveats in the documentation: https://pandas.pydata.org/pandas-docs/stable/user_guide/indexing.html#returning-a-view-versus-a-copy\n",
      "  self._setitem_single_column(loc, value, pi)\n",
      "3JNFST2K.csv\n",
      "/Users/amandeep/Github/table-linker/tl_env/lib/python3.8/site-packages/pandas/core/indexing.py:1817: SettingWithCopyWarning: \n",
      "A value is trying to be set on a copy of a slice from a DataFrame.\n",
      "Try using .loc[row_indexer,col_indexer] = value instead\n",
      "\n",
      "See the caveats in the documentation: https://pandas.pydata.org/pandas-docs/stable/user_guide/indexing.html#returning-a-view-versus-a-copy\n",
      "  self._setitem_single_column(loc, value, pi)\n",
      "1XIWQBSF.csv\n",
      "/Users/amandeep/Github/table-linker/tl_env/lib/python3.8/site-packages/pandas/core/indexing.py:1817: SettingWithCopyWarning: \n",
      "A value is trying to be set on a copy of a slice from a DataFrame.\n",
      "Try using .loc[row_indexer,col_indexer] = value instead\n",
      "\n",
      "See the caveats in the documentation: https://pandas.pydata.org/pandas-docs/stable/user_guide/indexing.html#returning-a-view-versus-a-copy\n",
      "  self._setitem_single_column(loc, value, pi)\n",
      "/Users/amandeep/Github/table-linker/tl_env/lib/python3.8/site-packages/pandas/core/indexing.py:1817: SettingWithCopyWarning: \n",
      "A value is trying to be set on a copy of a slice from a DataFrame.\n",
      "Try using .loc[row_indexer,col_indexer] = value instead\n",
      "\n",
      "See the caveats in the documentation: https://pandas.pydata.org/pandas-docs/stable/user_guide/indexing.html#returning-a-view-versus-a-copy\n",
      "  self._setitem_single_column(loc, value, pi)\n",
      "2YCSL7OH.csv\n",
      "/Users/amandeep/Github/table-linker/tl_env/lib/python3.8/site-packages/pandas/core/indexing.py:1817: SettingWithCopyWarning: \n",
      "A value is trying to be set on a copy of a slice from a DataFrame.\n",
      "Try using .loc[row_indexer,col_indexer] = value instead\n",
      "\n",
      "See the caveats in the documentation: https://pandas.pydata.org/pandas-docs/stable/user_guide/indexing.html#returning-a-view-versus-a-copy\n",
      "  self._setitem_single_column(loc, value, pi)\n",
      "/Users/amandeep/Github/table-linker/tl_env/lib/python3.8/site-packages/pandas/core/indexing.py:1817: SettingWithCopyWarning: \n",
      "A value is trying to be set on a copy of a slice from a DataFrame.\n",
      "Try using .loc[row_indexer,col_indexer] = value instead\n",
      "\n",
      "See the caveats in the documentation: https://pandas.pydata.org/pandas-docs/stable/user_guide/indexing.html#returning-a-view-versus-a-copy\n",
      "  self._setitem_single_column(loc, value, pi)\n",
      "/Users/amandeep/Github/table-linker/tl_env/lib/python3.8/site-packages/pandas/core/indexing.py:1817: SettingWithCopyWarning: \n",
      "A value is trying to be set on a copy of a slice from a DataFrame.\n",
      "Try using .loc[row_indexer,col_indexer] = value instead\n",
      "\n",
      "See the caveats in the documentation: https://pandas.pydata.org/pandas-docs/stable/user_guide/indexing.html#returning-a-view-versus-a-copy\n",
      "  self._setitem_single_column(loc, value, pi)\n",
      "2FSRG0OI.csv\n",
      "/Users/amandeep/Github/table-linker/tl_env/lib/python3.8/site-packages/pandas/core/indexing.py:1817: SettingWithCopyWarning: \n",
      "A value is trying to be set on a copy of a slice from a DataFrame.\n",
      "Try using .loc[row_indexer,col_indexer] = value instead\n",
      "\n",
      "See the caveats in the documentation: https://pandas.pydata.org/pandas-docs/stable/user_guide/indexing.html#returning-a-view-versus-a-copy\n",
      "  self._setitem_single_column(loc, value, pi)\n",
      "0P8H49LQ.csv\n",
      "/Users/amandeep/Github/table-linker/tl_env/lib/python3.8/site-packages/pandas/core/indexing.py:1817: SettingWithCopyWarning: \n",
      "A value is trying to be set on a copy of a slice from a DataFrame.\n",
      "Try using .loc[row_indexer,col_indexer] = value instead\n",
      "\n",
      "See the caveats in the documentation: https://pandas.pydata.org/pandas-docs/stable/user_guide/indexing.html#returning-a-view-versus-a-copy\n",
      "  self._setitem_single_column(loc, value, pi)\n",
      "/Users/amandeep/Github/table-linker/tl_env/lib/python3.8/site-packages/pandas/core/indexing.py:1817: SettingWithCopyWarning: \n",
      "A value is trying to be set on a copy of a slice from a DataFrame.\n",
      "Try using .loc[row_indexer,col_indexer] = value instead\n",
      "\n",
      "See the caveats in the documentation: https://pandas.pydata.org/pandas-docs/stable/user_guide/indexing.html#returning-a-view-versus-a-copy\n",
      "  self._setitem_single_column(loc, value, pi)\n",
      "/Users/amandeep/Github/table-linker/tl_env/lib/python3.8/site-packages/pandas/core/indexing.py:1817: SettingWithCopyWarning: \n",
      "A value is trying to be set on a copy of a slice from a DataFrame.\n",
      "Try using .loc[row_indexer,col_indexer] = value instead\n",
      "\n",
      "See the caveats in the documentation: https://pandas.pydata.org/pandas-docs/stable/user_guide/indexing.html#returning-a-view-versus-a-copy\n",
      "  self._setitem_single_column(loc, value, pi)\n",
      "2FXR6BX7.csv\n",
      "/Users/amandeep/Github/table-linker/tl_env/lib/python3.8/site-packages/pandas/core/indexing.py:1817: SettingWithCopyWarning: \n",
      "A value is trying to be set on a copy of a slice from a DataFrame.\n",
      "Try using .loc[row_indexer,col_indexer] = value instead\n",
      "\n",
      "See the caveats in the documentation: https://pandas.pydata.org/pandas-docs/stable/user_guide/indexing.html#returning-a-view-versus-a-copy\n",
      "  self._setitem_single_column(loc, value, pi)\n",
      "/Users/amandeep/Github/table-linker/tl_env/lib/python3.8/site-packages/pandas/core/indexing.py:1817: SettingWithCopyWarning: \n",
      "A value is trying to be set on a copy of a slice from a DataFrame.\n",
      "Try using .loc[row_indexer,col_indexer] = value instead\n",
      "\n",
      "See the caveats in the documentation: https://pandas.pydata.org/pandas-docs/stable/user_guide/indexing.html#returning-a-view-versus-a-copy\n",
      "  self._setitem_single_column(loc, value, pi)\n",
      "/Users/amandeep/Github/table-linker/tl_env/lib/python3.8/site-packages/pandas/core/indexing.py:1817: SettingWithCopyWarning: \n",
      "A value is trying to be set on a copy of a slice from a DataFrame.\n",
      "Try using .loc[row_indexer,col_indexer] = value instead\n",
      "\n",
      "See the caveats in the documentation: https://pandas.pydata.org/pandas-docs/stable/user_guide/indexing.html#returning-a-view-versus-a-copy\n",
      "  self._setitem_single_column(loc, value, pi)\n",
      "/Users/amandeep/Github/table-linker/tl_env/lib/python3.8/site-packages/pandas/core/indexing.py:1817: SettingWithCopyWarning: \n",
      "A value is trying to be set on a copy of a slice from a DataFrame.\n",
      "Try using .loc[row_indexer,col_indexer] = value instead\n",
      "\n",
      "See the caveats in the documentation: https://pandas.pydata.org/pandas-docs/stable/user_guide/indexing.html#returning-a-view-versus-a-copy\n",
      "  self._setitem_single_column(loc, value, pi)\n",
      "1PTL0CX1.csv\n",
      "/Users/amandeep/Github/table-linker/tl_env/lib/python3.8/site-packages/pandas/core/indexing.py:1817: SettingWithCopyWarning: \n",
      "A value is trying to be set on a copy of a slice from a DataFrame.\n",
      "Try using .loc[row_indexer,col_indexer] = value instead\n",
      "\n",
      "See the caveats in the documentation: https://pandas.pydata.org/pandas-docs/stable/user_guide/indexing.html#returning-a-view-versus-a-copy\n",
      "  self._setitem_single_column(loc, value, pi)\n",
      "/Users/amandeep/Github/table-linker/tl_env/lib/python3.8/site-packages/pandas/core/indexing.py:1817: SettingWithCopyWarning: \n",
      "A value is trying to be set on a copy of a slice from a DataFrame.\n",
      "Try using .loc[row_indexer,col_indexer] = value instead\n",
      "\n",
      "See the caveats in the documentation: https://pandas.pydata.org/pandas-docs/stable/user_guide/indexing.html#returning-a-view-versus-a-copy\n",
      "  self._setitem_single_column(loc, value, pi)\n",
      "0TQXSY28.csv\n",
      "/Users/amandeep/Github/table-linker/tl_env/lib/python3.8/site-packages/pandas/core/indexing.py:1817: SettingWithCopyWarning: \n",
      "A value is trying to be set on a copy of a slice from a DataFrame.\n",
      "Try using .loc[row_indexer,col_indexer] = value instead\n",
      "\n",
      "See the caveats in the documentation: https://pandas.pydata.org/pandas-docs/stable/user_guide/indexing.html#returning-a-view-versus-a-copy\n",
      "  self._setitem_single_column(loc, value, pi)\n",
      "0JSF530F.csv\n",
      "/Users/amandeep/Github/table-linker/tl_env/lib/python3.8/site-packages/pandas/core/indexing.py:1817: SettingWithCopyWarning: \n",
      "A value is trying to be set on a copy of a slice from a DataFrame.\n",
      "Try using .loc[row_indexer,col_indexer] = value instead\n",
      "\n",
      "See the caveats in the documentation: https://pandas.pydata.org/pandas-docs/stable/user_guide/indexing.html#returning-a-view-versus-a-copy\n",
      "  self._setitem_single_column(loc, value, pi)\n"
     ]
    }
   ],
   "source": [
    "dev_prediction(dev_feature_path, dev_predictions_top_k, best_model_path, final_score_column, min_max_scaler_path, k=5)"
   ]
  },
  {
   "cell_type": "code",
   "execution_count": 63,
   "id": "advanced-contest",
   "metadata": {},
   "outputs": [],
   "source": [
    "metrics_df = compute_metrics(dev_predictions_top_k, dev_metrics_path, final_score_column, k=1)"
   ]
  },
  {
   "cell_type": "code",
   "execution_count": 64,
   "id": "thermal-assistant",
   "metadata": {},
   "outputs": [
    {
     "data": {
      "text/html": [
       "<div>\n",
       "<style scoped>\n",
       "    .dataframe tbody tr th:only-of-type {\n",
       "        vertical-align: middle;\n",
       "    }\n",
       "\n",
       "    .dataframe tbody tr th {\n",
       "        vertical-align: top;\n",
       "    }\n",
       "\n",
       "    .dataframe thead th {\n",
       "        text-align: right;\n",
       "    }\n",
       "</style>\n",
       "<table border=\"1\" class=\"dataframe\">\n",
       "  <thead>\n",
       "    <tr style=\"text-align: right;\">\n",
       "      <th></th>\n",
       "      <th>k</th>\n",
       "      <th>f1</th>\n",
       "      <th>precision</th>\n",
       "      <th>recall</th>\n",
       "      <th>tag</th>\n",
       "    </tr>\n",
       "  </thead>\n",
       "  <tbody>\n",
       "    <tr>\n",
       "      <th>0</th>\n",
       "      <td>1</td>\n",
       "      <td>1.000000</td>\n",
       "      <td>1.000000</td>\n",
       "      <td>1.000000</td>\n",
       "      <td>4PKEEJU4.csv</td>\n",
       "    </tr>\n",
       "    <tr>\n",
       "      <th>0</th>\n",
       "      <td>1</td>\n",
       "      <td>1.000000</td>\n",
       "      <td>1.000000</td>\n",
       "      <td>1.000000</td>\n",
       "      <td>4DC5O5I4.csv</td>\n",
       "    </tr>\n",
       "    <tr>\n",
       "      <th>0</th>\n",
       "      <td>1</td>\n",
       "      <td>0.908523</td>\n",
       "      <td>0.931818</td>\n",
       "      <td>0.886364</td>\n",
       "      <td>58E7A5WL.csv</td>\n",
       "    </tr>\n",
       "    <tr>\n",
       "      <th>0</th>\n",
       "      <td>1</td>\n",
       "      <td>0.966667</td>\n",
       "      <td>0.966667</td>\n",
       "      <td>0.966667</td>\n",
       "      <td>0FQOOJPU.csv</td>\n",
       "    </tr>\n",
       "    <tr>\n",
       "      <th>0</th>\n",
       "      <td>1</td>\n",
       "      <td>1.000000</td>\n",
       "      <td>1.000000</td>\n",
       "      <td>1.000000</td>\n",
       "      <td>5IXA0RAI.csv</td>\n",
       "    </tr>\n",
       "    <tr>\n",
       "      <th>0</th>\n",
       "      <td>1</td>\n",
       "      <td>1.000000</td>\n",
       "      <td>1.000000</td>\n",
       "      <td>1.000000</td>\n",
       "      <td>0LF7RI6N.csv</td>\n",
       "    </tr>\n",
       "    <tr>\n",
       "      <th>0</th>\n",
       "      <td>1</td>\n",
       "      <td>0.887500</td>\n",
       "      <td>0.887500</td>\n",
       "      <td>0.887500</td>\n",
       "      <td>2PKG4E2V.csv</td>\n",
       "    </tr>\n",
       "    <tr>\n",
       "      <th>0</th>\n",
       "      <td>1</td>\n",
       "      <td>0.949153</td>\n",
       "      <td>0.949153</td>\n",
       "      <td>0.949153</td>\n",
       "      <td>50NWQJ1T.csv</td>\n",
       "    </tr>\n",
       "    <tr>\n",
       "      <th>0</th>\n",
       "      <td>1</td>\n",
       "      <td>0.883333</td>\n",
       "      <td>0.883333</td>\n",
       "      <td>0.883333</td>\n",
       "      <td>44NDHWR1.csv</td>\n",
       "    </tr>\n",
       "    <tr>\n",
       "      <th>0</th>\n",
       "      <td>1</td>\n",
       "      <td>0.983333</td>\n",
       "      <td>0.983333</td>\n",
       "      <td>0.983333</td>\n",
       "      <td>39W7XXTI.csv</td>\n",
       "    </tr>\n",
       "    <tr>\n",
       "      <th>0</th>\n",
       "      <td>1</td>\n",
       "      <td>0.850000</td>\n",
       "      <td>0.850000</td>\n",
       "      <td>0.850000</td>\n",
       "      <td>3WXFYEAX.csv</td>\n",
       "    </tr>\n",
       "    <tr>\n",
       "      <th>0</th>\n",
       "      <td>1</td>\n",
       "      <td>1.000000</td>\n",
       "      <td>1.000000</td>\n",
       "      <td>1.000000</td>\n",
       "      <td>28D7RBJT.csv</td>\n",
       "    </tr>\n",
       "    <tr>\n",
       "      <th>0</th>\n",
       "      <td>1</td>\n",
       "      <td>0.736842</td>\n",
       "      <td>0.736842</td>\n",
       "      <td>0.736842</td>\n",
       "      <td>1GUVMENF.csv</td>\n",
       "    </tr>\n",
       "    <tr>\n",
       "      <th>0</th>\n",
       "      <td>1</td>\n",
       "      <td>0.900000</td>\n",
       "      <td>0.900000</td>\n",
       "      <td>0.900000</td>\n",
       "      <td>0QWF60VG.csv</td>\n",
       "    </tr>\n",
       "    <tr>\n",
       "      <th>0</th>\n",
       "      <td>1</td>\n",
       "      <td>1.000000</td>\n",
       "      <td>1.000000</td>\n",
       "      <td>1.000000</td>\n",
       "      <td>3OCW1LDZ.csv</td>\n",
       "    </tr>\n",
       "    <tr>\n",
       "      <th>0</th>\n",
       "      <td>1</td>\n",
       "      <td>0.975000</td>\n",
       "      <td>0.975000</td>\n",
       "      <td>0.975000</td>\n",
       "      <td>4V4O0CTS.csv</td>\n",
       "    </tr>\n",
       "    <tr>\n",
       "      <th>0</th>\n",
       "      <td>1</td>\n",
       "      <td>0.950000</td>\n",
       "      <td>0.950000</td>\n",
       "      <td>0.950000</td>\n",
       "      <td>29D1VZHF.csv</td>\n",
       "    </tr>\n",
       "    <tr>\n",
       "      <th>0</th>\n",
       "      <td>1</td>\n",
       "      <td>0.766667</td>\n",
       "      <td>0.766667</td>\n",
       "      <td>0.766667</td>\n",
       "      <td>4FG1UN8O.csv</td>\n",
       "    </tr>\n",
       "    <tr>\n",
       "      <th>0</th>\n",
       "      <td>1</td>\n",
       "      <td>0.979167</td>\n",
       "      <td>0.979167</td>\n",
       "      <td>0.979167</td>\n",
       "      <td>1ZFRQBQS.csv</td>\n",
       "    </tr>\n",
       "    <tr>\n",
       "      <th>0</th>\n",
       "      <td>1</td>\n",
       "      <td>1.000000</td>\n",
       "      <td>1.000000</td>\n",
       "      <td>1.000000</td>\n",
       "      <td>0WBTX8LY.csv</td>\n",
       "    </tr>\n",
       "    <tr>\n",
       "      <th>0</th>\n",
       "      <td>1</td>\n",
       "      <td>0.950000</td>\n",
       "      <td>0.950000</td>\n",
       "      <td>0.950000</td>\n",
       "      <td>1NS33P8C.csv</td>\n",
       "    </tr>\n",
       "    <tr>\n",
       "      <th>0</th>\n",
       "      <td>1</td>\n",
       "      <td>0.875000</td>\n",
       "      <td>0.875000</td>\n",
       "      <td>0.875000</td>\n",
       "      <td>2TGNKH1P.csv</td>\n",
       "    </tr>\n",
       "    <tr>\n",
       "      <th>0</th>\n",
       "      <td>1</td>\n",
       "      <td>1.000000</td>\n",
       "      <td>1.000000</td>\n",
       "      <td>1.000000</td>\n",
       "      <td>53OUTCE4.csv</td>\n",
       "    </tr>\n",
       "    <tr>\n",
       "      <th>0</th>\n",
       "      <td>1</td>\n",
       "      <td>1.000000</td>\n",
       "      <td>1.000000</td>\n",
       "      <td>1.000000</td>\n",
       "      <td>5TJI4XTK.csv</td>\n",
       "    </tr>\n",
       "    <tr>\n",
       "      <th>0</th>\n",
       "      <td>1</td>\n",
       "      <td>0.750000</td>\n",
       "      <td>0.750000</td>\n",
       "      <td>0.750000</td>\n",
       "      <td>4DPRZWVL.csv</td>\n",
       "    </tr>\n",
       "    <tr>\n",
       "      <th>0</th>\n",
       "      <td>1</td>\n",
       "      <td>0.962500</td>\n",
       "      <td>0.962500</td>\n",
       "      <td>0.962500</td>\n",
       "      <td>4SOL8H0M.csv</td>\n",
       "    </tr>\n",
       "    <tr>\n",
       "      <th>0</th>\n",
       "      <td>1</td>\n",
       "      <td>1.000000</td>\n",
       "      <td>1.000000</td>\n",
       "      <td>1.000000</td>\n",
       "      <td>080HU8A5.csv</td>\n",
       "    </tr>\n",
       "    <tr>\n",
       "      <th>0</th>\n",
       "      <td>1</td>\n",
       "      <td>0.973333</td>\n",
       "      <td>0.973333</td>\n",
       "      <td>0.973333</td>\n",
       "      <td>3OAZEVOY.csv</td>\n",
       "    </tr>\n",
       "    <tr>\n",
       "      <th>0</th>\n",
       "      <td>1</td>\n",
       "      <td>0.966667</td>\n",
       "      <td>0.966667</td>\n",
       "      <td>0.966667</td>\n",
       "      <td>13BLTPJD.csv</td>\n",
       "    </tr>\n",
       "    <tr>\n",
       "      <th>0</th>\n",
       "      <td>1</td>\n",
       "      <td>0.983333</td>\n",
       "      <td>0.983333</td>\n",
       "      <td>0.983333</td>\n",
       "      <td>3M5QXPWN.csv</td>\n",
       "    </tr>\n",
       "    <tr>\n",
       "      <th>0</th>\n",
       "      <td>1</td>\n",
       "      <td>0.983333</td>\n",
       "      <td>0.983333</td>\n",
       "      <td>0.983333</td>\n",
       "      <td>0G9YPQC0.csv</td>\n",
       "    </tr>\n",
       "    <tr>\n",
       "      <th>0</th>\n",
       "      <td>1</td>\n",
       "      <td>1.000000</td>\n",
       "      <td>1.000000</td>\n",
       "      <td>1.000000</td>\n",
       "      <td>1YPLVLS9.csv</td>\n",
       "    </tr>\n",
       "    <tr>\n",
       "      <th>0</th>\n",
       "      <td>1</td>\n",
       "      <td>1.000000</td>\n",
       "      <td>1.000000</td>\n",
       "      <td>1.000000</td>\n",
       "      <td>0CETTKTA.csv</td>\n",
       "    </tr>\n",
       "    <tr>\n",
       "      <th>0</th>\n",
       "      <td>1</td>\n",
       "      <td>1.000000</td>\n",
       "      <td>1.000000</td>\n",
       "      <td>1.000000</td>\n",
       "      <td>1GOKLC0K.csv</td>\n",
       "    </tr>\n",
       "    <tr>\n",
       "      <th>0</th>\n",
       "      <td>1</td>\n",
       "      <td>1.000000</td>\n",
       "      <td>1.000000</td>\n",
       "      <td>1.000000</td>\n",
       "      <td>2QFYH2N9.csv</td>\n",
       "    </tr>\n",
       "    <tr>\n",
       "      <th>0</th>\n",
       "      <td>1</td>\n",
       "      <td>0.975000</td>\n",
       "      <td>0.975000</td>\n",
       "      <td>0.975000</td>\n",
       "      <td>00ECUL14.csv</td>\n",
       "    </tr>\n",
       "    <tr>\n",
       "      <th>0</th>\n",
       "      <td>1</td>\n",
       "      <td>0.975000</td>\n",
       "      <td>0.975000</td>\n",
       "      <td>0.975000</td>\n",
       "      <td>2E6QBLCA.csv</td>\n",
       "    </tr>\n",
       "    <tr>\n",
       "      <th>0</th>\n",
       "      <td>1</td>\n",
       "      <td>0.866667</td>\n",
       "      <td>0.866667</td>\n",
       "      <td>0.866667</td>\n",
       "      <td>1T91CHXV.csv</td>\n",
       "    </tr>\n",
       "    <tr>\n",
       "      <th>0</th>\n",
       "      <td>1</td>\n",
       "      <td>1.000000</td>\n",
       "      <td>1.000000</td>\n",
       "      <td>1.000000</td>\n",
       "      <td>59W76Q0Y.csv</td>\n",
       "    </tr>\n",
       "    <tr>\n",
       "      <th>0</th>\n",
       "      <td>1</td>\n",
       "      <td>0.974359</td>\n",
       "      <td>1.000000</td>\n",
       "      <td>0.950000</td>\n",
       "      <td>5PKTGQ6Q.csv</td>\n",
       "    </tr>\n",
       "    <tr>\n",
       "      <th>0</th>\n",
       "      <td>1</td>\n",
       "      <td>1.000000</td>\n",
       "      <td>1.000000</td>\n",
       "      <td>1.000000</td>\n",
       "      <td>3JNFST2K.csv</td>\n",
       "    </tr>\n",
       "    <tr>\n",
       "      <th>0</th>\n",
       "      <td>1</td>\n",
       "      <td>1.000000</td>\n",
       "      <td>1.000000</td>\n",
       "      <td>1.000000</td>\n",
       "      <td>1XIWQBSF.csv</td>\n",
       "    </tr>\n",
       "    <tr>\n",
       "      <th>0</th>\n",
       "      <td>1</td>\n",
       "      <td>0.983333</td>\n",
       "      <td>0.983333</td>\n",
       "      <td>0.983333</td>\n",
       "      <td>2YCSL7OH.csv</td>\n",
       "    </tr>\n",
       "    <tr>\n",
       "      <th>0</th>\n",
       "      <td>1</td>\n",
       "      <td>1.000000</td>\n",
       "      <td>1.000000</td>\n",
       "      <td>1.000000</td>\n",
       "      <td>2FSRG0OI.csv</td>\n",
       "    </tr>\n",
       "    <tr>\n",
       "      <th>0</th>\n",
       "      <td>1</td>\n",
       "      <td>0.933333</td>\n",
       "      <td>0.933333</td>\n",
       "      <td>0.933333</td>\n",
       "      <td>0P8H49LQ.csv</td>\n",
       "    </tr>\n",
       "    <tr>\n",
       "      <th>0</th>\n",
       "      <td>1</td>\n",
       "      <td>1.000000</td>\n",
       "      <td>1.000000</td>\n",
       "      <td>1.000000</td>\n",
       "      <td>2FXR6BX7.csv</td>\n",
       "    </tr>\n",
       "    <tr>\n",
       "      <th>0</th>\n",
       "      <td>1</td>\n",
       "      <td>0.975000</td>\n",
       "      <td>0.975000</td>\n",
       "      <td>0.975000</td>\n",
       "      <td>1PTL0CX1.csv</td>\n",
       "    </tr>\n",
       "    <tr>\n",
       "      <th>0</th>\n",
       "      <td>1</td>\n",
       "      <td>1.000000</td>\n",
       "      <td>1.000000</td>\n",
       "      <td>1.000000</td>\n",
       "      <td>0TQXSY28.csv</td>\n",
       "    </tr>\n",
       "    <tr>\n",
       "      <th>0</th>\n",
       "      <td>1</td>\n",
       "      <td>1.000000</td>\n",
       "      <td>1.000000</td>\n",
       "      <td>1.000000</td>\n",
       "      <td>0JSF530F.csv</td>\n",
       "    </tr>\n",
       "  </tbody>\n",
       "</table>\n",
       "</div>"
      ],
      "text/plain": [
       "   k        f1  precision    recall           tag\n",
       "0  1  1.000000   1.000000  1.000000  4PKEEJU4.csv\n",
       "0  1  1.000000   1.000000  1.000000  4DC5O5I4.csv\n",
       "0  1  0.908523   0.931818  0.886364  58E7A5WL.csv\n",
       "0  1  0.966667   0.966667  0.966667  0FQOOJPU.csv\n",
       "0  1  1.000000   1.000000  1.000000  5IXA0RAI.csv\n",
       "0  1  1.000000   1.000000  1.000000  0LF7RI6N.csv\n",
       "0  1  0.887500   0.887500  0.887500  2PKG4E2V.csv\n",
       "0  1  0.949153   0.949153  0.949153  50NWQJ1T.csv\n",
       "0  1  0.883333   0.883333  0.883333  44NDHWR1.csv\n",
       "0  1  0.983333   0.983333  0.983333  39W7XXTI.csv\n",
       "0  1  0.850000   0.850000  0.850000  3WXFYEAX.csv\n",
       "0  1  1.000000   1.000000  1.000000  28D7RBJT.csv\n",
       "0  1  0.736842   0.736842  0.736842  1GUVMENF.csv\n",
       "0  1  0.900000   0.900000  0.900000  0QWF60VG.csv\n",
       "0  1  1.000000   1.000000  1.000000  3OCW1LDZ.csv\n",
       "0  1  0.975000   0.975000  0.975000  4V4O0CTS.csv\n",
       "0  1  0.950000   0.950000  0.950000  29D1VZHF.csv\n",
       "0  1  0.766667   0.766667  0.766667  4FG1UN8O.csv\n",
       "0  1  0.979167   0.979167  0.979167  1ZFRQBQS.csv\n",
       "0  1  1.000000   1.000000  1.000000  0WBTX8LY.csv\n",
       "0  1  0.950000   0.950000  0.950000  1NS33P8C.csv\n",
       "0  1  0.875000   0.875000  0.875000  2TGNKH1P.csv\n",
       "0  1  1.000000   1.000000  1.000000  53OUTCE4.csv\n",
       "0  1  1.000000   1.000000  1.000000  5TJI4XTK.csv\n",
       "0  1  0.750000   0.750000  0.750000  4DPRZWVL.csv\n",
       "0  1  0.962500   0.962500  0.962500  4SOL8H0M.csv\n",
       "0  1  1.000000   1.000000  1.000000  080HU8A5.csv\n",
       "0  1  0.973333   0.973333  0.973333  3OAZEVOY.csv\n",
       "0  1  0.966667   0.966667  0.966667  13BLTPJD.csv\n",
       "0  1  0.983333   0.983333  0.983333  3M5QXPWN.csv\n",
       "0  1  0.983333   0.983333  0.983333  0G9YPQC0.csv\n",
       "0  1  1.000000   1.000000  1.000000  1YPLVLS9.csv\n",
       "0  1  1.000000   1.000000  1.000000  0CETTKTA.csv\n",
       "0  1  1.000000   1.000000  1.000000  1GOKLC0K.csv\n",
       "0  1  1.000000   1.000000  1.000000  2QFYH2N9.csv\n",
       "0  1  0.975000   0.975000  0.975000  00ECUL14.csv\n",
       "0  1  0.975000   0.975000  0.975000  2E6QBLCA.csv\n",
       "0  1  0.866667   0.866667  0.866667  1T91CHXV.csv\n",
       "0  1  1.000000   1.000000  1.000000  59W76Q0Y.csv\n",
       "0  1  0.974359   1.000000  0.950000  5PKTGQ6Q.csv\n",
       "0  1  1.000000   1.000000  1.000000  3JNFST2K.csv\n",
       "0  1  1.000000   1.000000  1.000000  1XIWQBSF.csv\n",
       "0  1  0.983333   0.983333  0.983333  2YCSL7OH.csv\n",
       "0  1  1.000000   1.000000  1.000000  2FSRG0OI.csv\n",
       "0  1  0.933333   0.933333  0.933333  0P8H49LQ.csv\n",
       "0  1  1.000000   1.000000  1.000000  2FXR6BX7.csv\n",
       "0  1  0.975000   0.975000  0.975000  1PTL0CX1.csv\n",
       "0  1  1.000000   1.000000  1.000000  0TQXSY28.csv\n",
       "0  1  1.000000   1.000000  1.000000  0JSF530F.csv"
      ]
     },
     "execution_count": 64,
     "metadata": {},
     "output_type": "execute_result"
    }
   ],
   "source": [
    "metrics_df"
   ]
  },
  {
   "cell_type": "code",
   "execution_count": 65,
   "id": "covered-break",
   "metadata": {},
   "outputs": [],
   "source": [
    "metrics_df.to_csv(f\"{dev_metrics_path}/metrics_1.csv\", index=False)"
   ]
  },
  {
   "cell_type": "code",
   "execution_count": 66,
   "id": "collective-rider",
   "metadata": {},
   "outputs": [
    {
     "name": "stdout",
     "output_type": "stream",
     "text": [
      "4PKEEJU4.csv\n",
      "add-color Time: 0.1495048999786377s\n",
      "4DC5O5I4.csv\n",
      "add-color Time: 0.07369184494018555s\n",
      "58E7A5WL.csv\n",
      "add-color Time: 0.10478591918945312s\n",
      "0FQOOJPU.csv\n",
      "add-color Time: 0.12833833694458008s\n",
      "5IXA0RAI.csv\n",
      "add-color Time: 0.08734393119812012s\n",
      "0LF7RI6N.csv\n",
      "add-color Time: 0.11375308036804199s\n",
      "2PKG4E2V.csv\n",
      "add-color Time: 0.1915898323059082s\n",
      "50NWQJ1T.csv\n",
      "add-color Time: 0.15299081802368164s\n",
      "44NDHWR1.csv\n",
      "add-color Time: 0.14342904090881348s\n",
      "39W7XXTI.csv\n",
      "add-color Time: 0.14214229583740234s\n",
      "3WXFYEAX.csv\n",
      "add-color Time: 0.08128881454467773s\n",
      "28D7RBJT.csv\n",
      "add-color Time: 0.10819411277770996s\n",
      "1GUVMENF.csv\n",
      "add-color Time: 0.08947014808654785s\n",
      "0QWF60VG.csv\n",
      "add-color Time: 0.14881682395935059s\n",
      "3OCW1LDZ.csv\n",
      "add-color Time: 0.1747448444366455s\n",
      "4V4O0CTS.csv\n",
      "add-color Time: 0.13443398475646973s\n",
      "29D1VZHF.csv\n",
      "add-color Time: 0.2166440486907959s\n",
      "4FG1UN8O.csv\n",
      "add-color Time: 0.23493123054504395s\n",
      "1ZFRQBQS.csv\n",
      "add-color Time: 0.3665320873260498s\n",
      "0WBTX8LY.csv\n",
      "add-color Time: 0.13002300262451172s\n",
      "1NS33P8C.csv\n",
      "add-color Time: 0.7004580497741699s\n",
      "2TGNKH1P.csv\n",
      "add-color Time: 0.10106205940246582s\n",
      "53OUTCE4.csv\n",
      "add-color Time: 0.11551213264465332s\n",
      "5TJI4XTK.csv\n",
      "add-color Time: 0.08005690574645996s\n",
      "4DPRZWVL.csv\n",
      "add-color Time: 0.07481598854064941s\n",
      "4SOL8H0M.csv\n",
      "add-color Time: 0.14920306205749512s\n",
      "080HU8A5.csv\n",
      "add-color Time: 0.08871102333068848s\n",
      "3OAZEVOY.csv\n",
      "add-color Time: 0.16713786125183105s\n",
      "13BLTPJD.csv\n",
      "add-color Time: 0.14360809326171875s\n",
      "3M5QXPWN.csv\n",
      "add-color Time: 0.15051507949829102s\n",
      "0G9YPQC0.csv\n",
      "add-color Time: 0.14043521881103516s\n",
      "1YPLVLS9.csv\n",
      "add-color Time: 0.10716414451599121s\n",
      "0CETTKTA.csv\n",
      "add-color Time: 0.619002103805542s\n",
      "1GOKLC0K.csv\n",
      "add-color Time: 0.12212491035461426s\n",
      "2QFYH2N9.csv\n",
      "add-color Time: 0.1648721694946289s\n",
      "00ECUL14.csv\n",
      "add-color Time: 0.1209259033203125s\n",
      "2E6QBLCA.csv\n",
      "add-color Time: 0.11816811561584473s\n",
      "1T91CHXV.csv\n",
      "add-color Time: 0.19997096061706543s\n",
      "59W76Q0Y.csv\n",
      "add-color Time: 0.09477686882019043s\n",
      "5PKTGQ6Q.csv\n",
      "add-color Time: 0.10678291320800781s\n",
      "3JNFST2K.csv\n",
      "add-color Time: 0.10645079612731934s\n",
      "1XIWQBSF.csv\n",
      "add-color Time: 0.14019393920898438s\n",
      "2YCSL7OH.csv\n",
      "add-color Time: 0.21003127098083496s\n",
      "2FSRG0OI.csv\n",
      "add-color Time: 0.09836196899414062s\n",
      "0P8H49LQ.csv\n",
      "add-color Time: 0.1977548599243164s\n",
      "2FXR6BX7.csv\n",
      "add-color Time: 0.24955010414123535s\n",
      "1PTL0CX1.csv\n",
      "add-color Time: 0.15382885932922363s\n",
      "0TQXSY28.csv\n",
      "add-color Time: 0.12641692161560059s\n",
      "0JSF530F.csv\n",
      "add-color Time: 0.13132810592651367s\n"
     ]
    }
   ],
   "source": [
    "add_color(dev_predictions_top_k, dev_colorized_path, final_score_column)"
   ]
  },
  {
   "cell_type": "code",
   "execution_count": 67,
   "id": "intellectual-migration",
   "metadata": {},
   "outputs": [],
   "source": [
    "def find_missing_correct_candidates(candidates_path, missing_correct_candidates_path):\n",
    "     for file in tqdm(glob.glob(candidates_path + '/*.csv')):\n",
    "        filename = file.split(\"/\")[-1]\n",
    "        if os.path.getsize(file) == 0:\n",
    "                    continue\n",
    "        missing_file = f\"{missing_correct_candidates_path}/{filename}\"\n",
    "        !tl check-candidates \"$file\" > \"$missing_file\""
   ]
  },
  {
   "cell_type": "code",
   "execution_count": 68,
   "id": "utility-swimming",
   "metadata": {},
   "outputs": [
    {
     "name": "stderr",
     "output_type": "stream",
     "text": [
      "  0%|                                                                                                                                                                                                                         | 0/51 [00:00<?, ?it/s]"
     ]
    },
    {
     "name": "stdout",
     "output_type": "stream",
     "text": [
      "check-candidates Time: 0.013679027557373047s\n"
     ]
    },
    {
     "name": "stderr",
     "output_type": "stream",
     "text": [
      "  2%|████                                                                                                                                                                                                             | 1/51 [00:03<02:32,  3.05s/it]"
     ]
    },
    {
     "name": "stdout",
     "output_type": "stream",
     "text": [
      "check-candidates Time: 0.007055997848510742s\n"
     ]
    },
    {
     "name": "stderr",
     "output_type": "stream",
     "text": [
      "  4%|████████▏                                                                                                                                                                                                        | 2/51 [00:07<03:20,  4.10s/it]"
     ]
    },
    {
     "name": "stdout",
     "output_type": "stream",
     "text": [
      "check-candidates Time: 0.010722875595092773s\n"
     ]
    },
    {
     "name": "stderr",
     "output_type": "stream",
     "text": [
      "  6%|████████████▎                                                                                                                                                                                                    | 3/51 [00:11<02:59,  3.75s/it]"
     ]
    },
    {
     "name": "stdout",
     "output_type": "stream",
     "text": [
      "check-candidates Time: 0.014907121658325195s\n"
     ]
    },
    {
     "name": "stderr",
     "output_type": "stream",
     "text": [
      "  8%|████████████████▍                                                                                                                                                                                                | 4/51 [00:15<02:59,  3.82s/it]"
     ]
    },
    {
     "name": "stdout",
     "output_type": "stream",
     "text": [
      "check-candidates Time: 0.005866050720214844s\n"
     ]
    },
    {
     "name": "stderr",
     "output_type": "stream",
     "text": [
      " 10%|████████████████████▍                                                                                                                                                                                            | 5/51 [00:19<02:59,  3.89s/it]"
     ]
    },
    {
     "name": "stdout",
     "output_type": "stream",
     "text": [
      "check-candidates Time: 0.01145315170288086s\n"
     ]
    },
    {
     "name": "stderr",
     "output_type": "stream",
     "text": [
      " 12%|████████████████████████▌                                                                                                                                                                                        | 6/51 [00:22<02:51,  3.82s/it]"
     ]
    },
    {
     "name": "stdout",
     "output_type": "stream",
     "text": [
      "check-candidates Time: 0.018305063247680664s\n"
     ]
    },
    {
     "name": "stderr",
     "output_type": "stream",
     "text": [
      " 14%|████████████████████████████▋                                                                                                                                                                                    | 7/51 [00:26<02:51,  3.89s/it]"
     ]
    },
    {
     "name": "stdout",
     "output_type": "stream",
     "text": [
      "check-candidates Time: 0.01499176025390625s\n"
     ]
    },
    {
     "name": "stderr",
     "output_type": "stream",
     "text": [
      " 16%|████████████████████████████████▊                                                                                                                                                                                | 8/51 [00:28<02:22,  3.32s/it]"
     ]
    },
    {
     "name": "stdout",
     "output_type": "stream",
     "text": [
      "check-candidates Time: 0.013982772827148438s\n"
     ]
    },
    {
     "name": "stderr",
     "output_type": "stream",
     "text": [
      " 18%|████████████████████████████████████▉                                                                                                                                                                            | 9/51 [00:31<02:02,  2.92s/it]"
     ]
    },
    {
     "name": "stdout",
     "output_type": "stream",
     "text": [
      "check-candidates Time: 0.011773109436035156s\n"
     ]
    },
    {
     "name": "stderr",
     "output_type": "stream",
     "text": [
      " 20%|████████████████████████████████████████▊                                                                                                                                                                       | 10/51 [00:33<01:48,  2.64s/it]"
     ]
    },
    {
     "name": "stdout",
     "output_type": "stream",
     "text": [
      "check-candidates Time: 0.006661891937255859s\n"
     ]
    },
    {
     "name": "stderr",
     "output_type": "stream",
     "text": [
      " 22%|████████████████████████████████████████████▊                                                                                                                                                                   | 11/51 [00:35<01:38,  2.45s/it]"
     ]
    },
    {
     "name": "stdout",
     "output_type": "stream",
     "text": [
      "check-candidates Time: 0.012029886245727539s\n"
     ]
    },
    {
     "name": "stderr",
     "output_type": "stream",
     "text": [
      " 24%|████████████████████████████████████████████████▉                                                                                                                                                               | 12/51 [00:37<01:38,  2.54s/it]"
     ]
    },
    {
     "name": "stdout",
     "output_type": "stream",
     "text": [
      "check-candidates Time: 0.007668256759643555s\n"
     ]
    },
    {
     "name": "stderr",
     "output_type": "stream",
     "text": [
      " 25%|█████████████████████████████████████████████████████                                                                                                                                                           | 13/51 [00:39<01:30,  2.39s/it]"
     ]
    },
    {
     "name": "stdout",
     "output_type": "stream",
     "text": [
      "check-candidates Time: 0.015069961547851562s\n"
     ]
    },
    {
     "name": "stderr",
     "output_type": "stream",
     "text": [
      " 27%|█████████████████████████████████████████████████████████                                                                                                                                                       | 14/51 [00:41<01:23,  2.26s/it]"
     ]
    },
    {
     "name": "stdout",
     "output_type": "stream",
     "text": [
      "check-candidates Time: 0.013815164566040039s\n"
     ]
    },
    {
     "name": "stderr",
     "output_type": "stream",
     "text": [
      " 29%|█████████████████████████████████████████████████████████████▏                                                                                                                                                  | 15/51 [00:43<01:19,  2.20s/it]"
     ]
    },
    {
     "name": "stdout",
     "output_type": "stream",
     "text": [
      "check-candidates Time: 0.01318812370300293s\n"
     ]
    },
    {
     "name": "stderr",
     "output_type": "stream",
     "text": [
      " 31%|█████████████████████████████████████████████████████████████████▎                                                                                                                                              | 16/51 [00:46<01:22,  2.36s/it]"
     ]
    },
    {
     "name": "stdout",
     "output_type": "stream",
     "text": [
      "check-candidates Time: 0.015548229217529297s\n"
     ]
    },
    {
     "name": "stderr",
     "output_type": "stream",
     "text": [
      " 33%|█████████████████████████████████████████████████████████████████████▎                                                                                                                                          | 17/51 [00:49<01:23,  2.44s/it]"
     ]
    },
    {
     "name": "stdout",
     "output_type": "stream",
     "text": [
      "check-candidates Time: 0.023747920989990234s\n"
     ]
    },
    {
     "name": "stderr",
     "output_type": "stream",
     "text": [
      " 35%|█████████████████████████████████████████████████████████████████████████▍                                                                                                                                      | 18/51 [00:51<01:17,  2.36s/it]"
     ]
    },
    {
     "name": "stdout",
     "output_type": "stream",
     "text": [
      "check-candidates Time: 0.015666961669921875s\n"
     ]
    },
    {
     "name": "stderr",
     "output_type": "stream",
     "text": [
      " 37%|█████████████████████████████████████████████████████████████████████████████▍                                                                                                                                  | 19/51 [00:53<01:15,  2.35s/it]"
     ]
    },
    {
     "name": "stdout",
     "output_type": "stream",
     "text": [
      "check-candidates Time: 0.014852762222290039s\n"
     ]
    },
    {
     "name": "stderr",
     "output_type": "stream",
     "text": [
      " 39%|█████████████████████████████████████████████████████████████████████████████████▌                                                                                                                              | 20/51 [00:55<01:09,  2.24s/it]"
     ]
    },
    {
     "name": "stdout",
     "output_type": "stream",
     "text": [
      "check-candidates Time: 0.02364492416381836s\n"
     ]
    },
    {
     "name": "stderr",
     "output_type": "stream",
     "text": [
      " 41%|█████████████████████████████████████████████████████████████████████████████████████▋                                                                                                                          | 21/51 [00:57<01:06,  2.23s/it]"
     ]
    },
    {
     "name": "stdout",
     "output_type": "stream",
     "text": [
      "check-candidates Time: 0.014748096466064453s\n"
     ]
    },
    {
     "name": "stderr",
     "output_type": "stream",
     "text": [
      " 43%|█████████████████████████████████████████████████████████████████████████████████████████▋                                                                                                                      | 22/51 [00:59<01:02,  2.16s/it]"
     ]
    },
    {
     "name": "stdout",
     "output_type": "stream",
     "text": [
      "check-candidates Time: 0.005953073501586914s\n"
     ]
    },
    {
     "name": "stderr",
     "output_type": "stream",
     "text": [
      " 45%|█████████████████████████████████████████████████████████████████████████████████████████████▊                                                                                                                  | 23/51 [01:01<00:58,  2.09s/it]"
     ]
    },
    {
     "name": "stdout",
     "output_type": "stream",
     "text": [
      "check-candidates Time: 0.009673118591308594s\n"
     ]
    },
    {
     "name": "stderr",
     "output_type": "stream",
     "text": [
      " 47%|█████████████████████████████████████████████████████████████████████████████████████████████████▉                                                                                                              | 24/51 [01:03<00:55,  2.07s/it]"
     ]
    },
    {
     "name": "stdout",
     "output_type": "stream",
     "text": [
      "check-candidates Time: 0.012530326843261719s\n"
     ]
    },
    {
     "name": "stderr",
     "output_type": "stream",
     "text": [
      " 49%|█████████████████████████████████████████████████████████████████████████████████████████████████████▉                                                                                                          | 25/51 [01:05<00:54,  2.08s/it]"
     ]
    },
    {
     "name": "stdout",
     "output_type": "stream",
     "text": [
      "check-candidates Time: 0.008349895477294922s\n"
     ]
    },
    {
     "name": "stderr",
     "output_type": "stream",
     "text": [
      " 51%|██████████████████████████████████████████████████████████████████████████████████████████████████████████                                                                                                      | 26/51 [01:08<00:54,  2.17s/it]"
     ]
    },
    {
     "name": "stdout",
     "output_type": "stream",
     "text": [
      "check-candidates Time: 0.009578943252563477s\n"
     ]
    },
    {
     "name": "stderr",
     "output_type": "stream",
     "text": [
      " 53%|██████████████████████████████████████████████████████████████████████████████████████████████████████████████                                                                                                  | 27/51 [01:10<00:54,  2.28s/it]"
     ]
    },
    {
     "name": "stdout",
     "output_type": "stream",
     "text": [
      "check-candidates Time: 0.024879932403564453s\n"
     ]
    },
    {
     "name": "stderr",
     "output_type": "stream",
     "text": [
      " 55%|██████████████████████████████████████████████████████████████████████████████████████████████████████████████████▏                                                                                             | 28/51 [01:13<00:56,  2.46s/it]"
     ]
    },
    {
     "name": "stdout",
     "output_type": "stream",
     "text": [
      "check-candidates Time: 0.010669708251953125s\n"
     ]
    },
    {
     "name": "stderr",
     "output_type": "stream",
     "text": [
      " 57%|██████████████████████████████████████████████████████████████████████████████████████████████████████████████████████▎                                                                                         | 29/51 [01:16<00:58,  2.65s/it]"
     ]
    },
    {
     "name": "stdout",
     "output_type": "stream",
     "text": [
      "check-candidates Time: 0.023984193801879883s\n"
     ]
    },
    {
     "name": "stderr",
     "output_type": "stream",
     "text": [
      " 59%|██████████████████████████████████████████████████████████████████████████████████████████████████████████████████████████▎                                                                                     | 30/51 [01:20<01:00,  2.90s/it]"
     ]
    },
    {
     "name": "stdout",
     "output_type": "stream",
     "text": [
      "check-candidates Time: 0.021942853927612305s\n"
     ]
    },
    {
     "name": "stderr",
     "output_type": "stream",
     "text": [
      " 61%|██████████████████████████████████████████████████████████████████████████████████████████████████████████████████████████████▍                                                                                 | 31/51 [01:23<01:00,  3.01s/it]"
     ]
    },
    {
     "name": "stdout",
     "output_type": "stream",
     "text": [
      "check-candidates Time: 0.02257370948791504s\n"
     ]
    },
    {
     "name": "stderr",
     "output_type": "stream",
     "text": [
      " 63%|██████████████████████████████████████████████████████████████████████████████████████████████████████████████████████████████████▌                                                                             | 32/51 [01:27<00:59,  3.14s/it]"
     ]
    },
    {
     "name": "stdout",
     "output_type": "stream",
     "text": [
      "check-candidates Time: 0.028515100479125977s\n"
     ]
    },
    {
     "name": "stderr",
     "output_type": "stream",
     "text": [
      " 65%|██████████████████████████████████████████████████████████████████████████████████████████████████████████████████████████████████████▌                                                                         | 33/51 [01:31<01:03,  3.55s/it]"
     ]
    },
    {
     "name": "stdout",
     "output_type": "stream",
     "text": [
      "check-candidates Time: 0.019520044326782227s\n"
     ]
    },
    {
     "name": "stderr",
     "output_type": "stream",
     "text": [
      " 67%|██████████████████████████████████████████████████████████████████████████████████████████████████████████████████████████████████████████▋                                                                     | 34/51 [01:35<01:04,  3.81s/it]"
     ]
    },
    {
     "name": "stdout",
     "output_type": "stream",
     "text": [
      "check-candidates Time: 0.015974044799804688s\n"
     ]
    },
    {
     "name": "stderr",
     "output_type": "stream",
     "text": [
      " 69%|██████████████████████████████████████████████████████████████████████████████████████████████████████████████████████████████████████████████▋                                                                 | 35/51 [01:40<01:06,  4.18s/it]"
     ]
    },
    {
     "name": "stdout",
     "output_type": "stream",
     "text": [
      "check-candidates Time: 0.030692100524902344s\n"
     ]
    },
    {
     "name": "stderr",
     "output_type": "stream",
     "text": [
      " 71%|██████████████████████████████████████████████████████████████████████████████████████████████████████████████████████████████████████████████████▊                                                             | 36/51 [01:48<01:17,  5.18s/it]"
     ]
    },
    {
     "name": "stdout",
     "output_type": "stream",
     "text": [
      "check-candidates Time: 0.026105165481567383s\n"
     ]
    },
    {
     "name": "stderr",
     "output_type": "stream",
     "text": [
      " 73%|██████████████████████████████████████████████████████████████████████████████████████████████████████████████████████████████████████████████████████▉                                                         | 37/51 [01:56<01:23,  5.93s/it]"
     ]
    },
    {
     "name": "stdout",
     "output_type": "stream",
     "text": [
      "check-candidates Time: 0.023642778396606445s\n"
     ]
    },
    {
     "name": "stderr",
     "output_type": "stream",
     "text": [
      " 75%|██████████████████████████████████████████████████████████████████████████████████████████████████████████████████████████████████████████████████████████▉                                                     | 38/51 [02:05<01:28,  6.82s/it]"
     ]
    },
    {
     "name": "stdout",
     "output_type": "stream",
     "text": [
      "check-candidates Time: 0.018504858016967773s\n"
     ]
    },
    {
     "name": "stderr",
     "output_type": "stream",
     "text": [
      " 76%|███████████████████████████████████████████████████████████████████████████████████████████████████████████████████████████████████████████████████████████████                                                 | 39/51 [02:13<01:26,  7.18s/it]"
     ]
    },
    {
     "name": "stdout",
     "output_type": "stream",
     "text": [
      "check-candidates Time: 0.029952049255371094s\n"
     ]
    },
    {
     "name": "stderr",
     "output_type": "stream",
     "text": [
      " 78%|███████████████████████████████████████████████████████████████████████████████████████████████████████████████████████████████████████████████████████████████████▏                                            | 40/51 [02:20<01:21,  7.39s/it]"
     ]
    },
    {
     "name": "stdout",
     "output_type": "stream",
     "text": [
      "check-candidates Time: 0.009932994842529297s\n"
     ]
    },
    {
     "name": "stderr",
     "output_type": "stream",
     "text": [
      " 80%|███████████████████████████████████████████████████████████████████████████████████████████████████████████████████████████████████████████████████████████████████████▏                                        | 41/51 [02:28<01:15,  7.55s/it]"
     ]
    },
    {
     "name": "stdout",
     "output_type": "stream",
     "text": [
      "check-candidates Time: 0.009602785110473633s\n"
     ]
    },
    {
     "name": "stderr",
     "output_type": "stream",
     "text": [
      " 82%|███████████████████████████████████████████████████████████████████████████████████████████████████████████████████████████████████████████████████████████████████████████▎                                    | 42/51 [02:35<01:06,  7.37s/it]"
     ]
    },
    {
     "name": "stdout",
     "output_type": "stream",
     "text": [
      "check-candidates Time: 0.009495735168457031s\n"
     ]
    },
    {
     "name": "stderr",
     "output_type": "stream",
     "text": [
      " 84%|███████████████████████████████████████████████████████████████████████████████████████████████████████████████████████████████████████████████████████████████████████████████▎                                | 43/51 [02:41<00:53,  6.75s/it]"
     ]
    },
    {
     "name": "stdout",
     "output_type": "stream",
     "text": [
      "check-candidates Time: 0.015681028366088867s\n"
     ]
    },
    {
     "name": "stderr",
     "output_type": "stream",
     "text": [
      " 86%|███████████████████████████████████████████████████████████████████████████████████████████████████████████████████████████████████████████████████████████████████████████████████▍                            | 44/51 [02:48<00:47,  6.78s/it]"
     ]
    },
    {
     "name": "stdout",
     "output_type": "stream",
     "text": [
      "check-candidates Time: 0.017194747924804688s\n"
     ]
    },
    {
     "name": "stderr",
     "output_type": "stream",
     "text": [
      " 88%|███████████████████████████████████████████████████████████████████████████████████████████████████████████████████████████████████████████████████████████████████████████████████████▌                        | 45/51 [02:52<00:35,  5.96s/it]"
     ]
    },
    {
     "name": "stdout",
     "output_type": "stream",
     "text": [
      "check-candidates Time: 0.010760068893432617s\n"
     ]
    },
    {
     "name": "stderr",
     "output_type": "stream",
     "text": [
      " 90%|███████████████████████████████████████████████████████████████████████████████████████████████████████████████████████████████████████████████████████████████████████████████████████████▌                    | 46/51 [02:56<00:27,  5.53s/it]"
     ]
    },
    {
     "name": "stdout",
     "output_type": "stream",
     "text": [
      "check-candidates Time: 0.01917409896850586s\n"
     ]
    },
    {
     "name": "stderr",
     "output_type": "stream",
     "text": [
      " 92%|███████████████████████████████████████████████████████████████████████████████████████████████████████████████████████████████████████████████████████████████████████████████████████████████▋                | 47/51 [02:59<00:18,  4.70s/it]"
     ]
    },
    {
     "name": "stdout",
     "output_type": "stream",
     "text": [
      "check-candidates Time: 0.022668123245239258s\n"
     ]
    },
    {
     "name": "stderr",
     "output_type": "stream",
     "text": [
      " 94%|███████████████████████████████████████████████████████████████████████████████████████████████████████████████████████████████████████████████████████████████████████████████████████████████████▊            | 48/51 [03:02<00:12,  4.14s/it]"
     ]
    },
    {
     "name": "stdout",
     "output_type": "stream",
     "text": [
      "check-candidates Time: 0.012969970703125s\n"
     ]
    },
    {
     "name": "stderr",
     "output_type": "stream",
     "text": [
      " 96%|███████████████████████████████████████████████████████████████████████████████████████████████████████████████████████████████████████████████████████████████████████████████████████████████████████▊        | 49/51 [03:05<00:08,  4.04s/it]"
     ]
    },
    {
     "name": "stdout",
     "output_type": "stream",
     "text": [
      "check-candidates Time: 0.009033918380737305s\n"
     ]
    },
    {
     "name": "stderr",
     "output_type": "stream",
     "text": [
      " 98%|███████████████████████████████████████████████████████████████████████████████████████████████████████████████████████████████████████████████████████████████████████████████████████████████████████████▉    | 50/51 [03:08<00:03,  3.66s/it]"
     ]
    },
    {
     "name": "stdout",
     "output_type": "stream",
     "text": [
      "check-candidates Time: 0.010251998901367188s\n"
     ]
    },
    {
     "name": "stderr",
     "output_type": "stream",
     "text": [
      "100%|████████████████████████████████████████████████████████████████████████████████████████████████████████████████████████████████████████████████████████████████████████████████████████████████████████████████| 51/51 [03:11<00:00,  3.75s/it]\n"
     ]
    }
   ],
   "source": [
    "find_missing_correct_candidates(dev_candidate_path, dev_missing_candidates_path)"
   ]
  },
  {
   "cell_type": "code",
   "execution_count": 69,
   "id": "compound-affairs",
   "metadata": {},
   "outputs": [],
   "source": [
    "def concat_files(files_path):\n",
    "    df_list = []\n",
    "    for file in glob.glob(files_path + '/*.csv'):\n",
    "        filename = file.split(\"/\")[-1]\n",
    "        print(filename)\n",
    "        if os.path.getsize(file) == 0:\n",
    "                    continue\n",
    "        df = pd.read_csv(file)\n",
    "        df['filename'] = filename\n",
    "        df_list.append(df)\n",
    "    return pd.concat(df_list)"
   ]
  },
  {
   "cell_type": "code",
   "execution_count": 70,
   "id": "delayed-mixture",
   "metadata": {},
   "outputs": [
    {
     "name": "stdout",
     "output_type": "stream",
     "text": [
      "4PKEEJU4.csv\n",
      "4DC5O5I4.csv\n",
      "58E7A5WL.csv\n",
      "0FQOOJPU.csv\n",
      "5IXA0RAI.csv\n",
      "0LF7RI6N.csv\n",
      "2PKG4E2V.csv\n",
      "50NWQJ1T.csv\n",
      "44NDHWR1.csv\n",
      "39W7XXTI.csv\n",
      "3WXFYEAX.csv\n",
      "28D7RBJT.csv\n",
      "1GUVMENF.csv\n",
      "0QWF60VG.csv\n",
      "3OCW1LDZ.csv\n",
      "4V4O0CTS.csv\n",
      "29D1VZHF.csv\n",
      "4FG1UN8O.csv\n",
      "0LZ0M8W4.csv\n",
      "3B54GZSX.csv\n",
      "1ZFRQBQS.csv\n",
      "0WBTX8LY.csv\n",
      "1NS33P8C.csv\n",
      "2TGNKH1P.csv\n",
      "53OUTCE4.csv\n",
      "5TJI4XTK.csv\n",
      "4DPRZWVL.csv\n",
      "4SOL8H0M.csv\n",
      "080HU8A5.csv\n",
      "3OAZEVOY.csv\n",
      "13BLTPJD.csv\n",
      "3M5QXPWN.csv\n",
      "0G9YPQC0.csv\n",
      "1YPLVLS9.csv\n",
      "0CETTKTA.csv\n",
      "1GOKLC0K.csv\n",
      "2QFYH2N9.csv\n",
      "00ECUL14.csv\n",
      "2E6QBLCA.csv\n",
      "1T91CHXV.csv\n",
      "59W76Q0Y.csv\n",
      "5PKTGQ6Q.csv\n",
      "3JNFST2K.csv\n",
      "1XIWQBSF.csv\n",
      "2YCSL7OH.csv\n",
      "2FSRG0OI.csv\n",
      "0P8H49LQ.csv\n",
      "2FXR6BX7.csv\n",
      "1PTL0CX1.csv\n",
      "0TQXSY28.csv\n",
      "0JSF530F.csv\n"
     ]
    }
   ],
   "source": [
    "missing_df = concat_files(dev_missing_candidates_path)"
   ]
  },
  {
   "cell_type": "code",
   "execution_count": 71,
   "id": "clinical-genre",
   "metadata": {},
   "outputs": [
    {
     "data": {
      "text/html": [
       "<div>\n",
       "<style scoped>\n",
       "    .dataframe tbody tr th:only-of-type {\n",
       "        vertical-align: middle;\n",
       "    }\n",
       "\n",
       "    .dataframe tbody tr th {\n",
       "        vertical-align: top;\n",
       "    }\n",
       "\n",
       "    .dataframe thead th {\n",
       "        text-align: right;\n",
       "    }\n",
       "</style>\n",
       "<table border=\"1\" class=\"dataframe\">\n",
       "  <thead>\n",
       "    <tr style=\"text-align: right;\">\n",
       "      <th></th>\n",
       "      <th>column</th>\n",
       "      <th>row</th>\n",
       "      <th>label</th>\n",
       "      <th>context</th>\n",
       "      <th>GT_kg_id</th>\n",
       "      <th>GT_kg_label</th>\n",
       "      <th>filename</th>\n",
       "    </tr>\n",
       "  </thead>\n",
       "  <tbody>\n",
       "    <tr>\n",
       "      <th>0</th>\n",
       "      <td>0</td>\n",
       "      <td>0</td>\n",
       "      <td>V* EM And</td>\n",
       "      <td>22.0593421416298|Mira variable|Andromeda</td>\n",
       "      <td>Q74157334</td>\n",
       "      <td>EM Andromedae</td>\n",
       "      <td>0FQOOJPU.csv</td>\n",
       "    </tr>\n",
       "    <tr>\n",
       "      <th>1</th>\n",
       "      <td>0</td>\n",
       "      <td>1</td>\n",
       "      <td>V* BB And</td>\n",
       "      <td>4.4331385872306|Mira variable|Andromeda</td>\n",
       "      <td>Q74006182</td>\n",
       "      <td>BB Andromedae</td>\n",
       "      <td>0FQOOJPU.csv</td>\n",
       "    </tr>\n",
       "    <tr>\n",
       "      <th>0</th>\n",
       "      <td>2</td>\n",
       "      <td>13</td>\n",
       "      <td>Phoenix</td>\n",
       "      <td>Forever Living Products|food industry|Rex Maughan</td>\n",
       "      <td>Q49221</td>\n",
       "      <td>Scottsdale</td>\n",
       "      <td>2PKG4E2V.csv</td>\n",
       "    </tr>\n",
       "    <tr>\n",
       "      <th>1</th>\n",
       "      <td>3</td>\n",
       "      <td>17</td>\n",
       "      <td>Amaury Vergara</td>\n",
       "      <td>Saulo y Yairo|food industry|Guadalajara</td>\n",
       "      <td>Q729642</td>\n",
       "      <td>Jorge Vergara</td>\n",
       "      <td>2PKG4E2V.csv</td>\n",
       "    </tr>\n",
       "    <tr>\n",
       "      <th>0</th>\n",
       "      <td>0</td>\n",
       "      <td>12</td>\n",
       "      <td>ankin Bridge</td>\n",
       "      <td>Union Railroad Port Perry Bridge|Carrie Furnac...</td>\n",
       "      <td>Q14629009</td>\n",
       "      <td>Rankin Bridge</td>\n",
       "      <td>39W7XXTI.csv</td>\n",
       "    </tr>\n",
       "    <tr>\n",
       "      <th>0</th>\n",
       "      <td>0</td>\n",
       "      <td>13</td>\n",
       "      <td>Hreising</td>\n",
       "      <td>13461.024|8901.398</td>\n",
       "      <td>Q10497</td>\n",
       "      <td>Freising</td>\n",
       "      <td>3WXFYEAX.csv</td>\n",
       "    </tr>\n",
       "    <tr>\n",
       "      <th>1</th>\n",
       "      <td>0</td>\n",
       "      <td>15</td>\n",
       "      <td>assau</td>\n",
       "      <td>17498.364|9386.19</td>\n",
       "      <td>Q10489</td>\n",
       "      <td>Passau</td>\n",
       "      <td>3WXFYEAX.csv</td>\n",
       "    </tr>\n",
       "    <tr>\n",
       "      <th>0</th>\n",
       "      <td>0</td>\n",
       "      <td>2</td>\n",
       "      <td>Cirzeit</td>\n",
       "      <td>4574.29|13.972|811.74</td>\n",
       "      <td>Q212381</td>\n",
       "      <td>Birzeit</td>\n",
       "      <td>1GUVMENF.csv</td>\n",
       "    </tr>\n",
       "    <tr>\n",
       "      <th>1</th>\n",
       "      <td>0</td>\n",
       "      <td>4</td>\n",
       "      <td>ouler</td>\n",
       "      <td>108738.54|66.410786144|1646.725</td>\n",
       "      <td>Q192517</td>\n",
       "      <td>Boulder</td>\n",
       "      <td>1GUVMENF.csv</td>\n",
       "    </tr>\n",
       "    <tr>\n",
       "      <th>2</th>\n",
       "      <td>0</td>\n",
       "      <td>11</td>\n",
       "      <td>Dremen</td>\n",
       "      <td>564797.184|325.52764|5.952</td>\n",
       "      <td>Q24879</td>\n",
       "      <td>Bremen</td>\n",
       "      <td>1GUVMENF.csv</td>\n",
       "    </tr>\n",
       "    <tr>\n",
       "      <th>3</th>\n",
       "      <td>0</td>\n",
       "      <td>15</td>\n",
       "      <td>Pasau</td>\n",
       "      <td>51729.219|69.69912000000001|312.31199999999995</td>\n",
       "      <td>Q4190</td>\n",
       "      <td>Passau</td>\n",
       "      <td>1GUVMENF.csv</td>\n",
       "    </tr>\n",
       "    <tr>\n",
       "      <th>4</th>\n",
       "      <td>0</td>\n",
       "      <td>16</td>\n",
       "      <td>Ireifswamd</td>\n",
       "      <td>59415.973999999995|50.96243|4.975</td>\n",
       "      <td>Q4098</td>\n",
       "      <td>Greifswald</td>\n",
       "      <td>1GUVMENF.csv</td>\n",
       "    </tr>\n",
       "    <tr>\n",
       "      <th>0</th>\n",
       "      <td>0</td>\n",
       "      <td>4</td>\n",
       "      <td>St. Joseph (Greifswcld)</td>\n",
       "      <td>Gothic Revival architecture|brick</td>\n",
       "      <td>Q1668978</td>\n",
       "      <td>St. Joseph (Greifswald)</td>\n",
       "      <td>0QWF60VG.csv</td>\n",
       "    </tr>\n",
       "    <tr>\n",
       "      <th>1</th>\n",
       "      <td>0</td>\n",
       "      <td>11</td>\n",
       "      <td>St. Mdrien (Friedricsthal (Sacr))</td>\n",
       "      <td>Modern Movement|brick</td>\n",
       "      <td>Q14540979</td>\n",
       "      <td>St. Marien (Friedrichsthal (Saar))</td>\n",
       "      <td>0QWF60VG.csv</td>\n",
       "    </tr>\n",
       "    <tr>\n",
       "      <th>2</th>\n",
       "      <td>0</td>\n",
       "      <td>12</td>\n",
       "      <td>t. Dionysius (Korschenbroich)</td>\n",
       "      <td>Gothic Revival architecture|brick</td>\n",
       "      <td>Q13649373</td>\n",
       "      <td>St. Dionysius (Korschenbroich)</td>\n",
       "      <td>0QWF60VG.csv</td>\n",
       "    </tr>\n",
       "    <tr>\n",
       "      <th>3</th>\n",
       "      <td>0</td>\n",
       "      <td>16</td>\n",
       "      <td>S. Nikolaus</td>\n",
       "      <td>Brick Gothic|brick</td>\n",
       "      <td>Q1507314</td>\n",
       "      <td>St. Nikolaus</td>\n",
       "      <td>0QWF60VG.csv</td>\n",
       "    </tr>\n",
       "    <tr>\n",
       "      <th>0</th>\n",
       "      <td>0</td>\n",
       "      <td>0</td>\n",
       "      <td>ang-hun</td>\n",
       "      <td>Hoon|Hangul</td>\n",
       "      <td>Q7417717</td>\n",
       "      <td>Sang-hun</td>\n",
       "      <td>4FG1UN8O.csv</td>\n",
       "    </tr>\n",
       "    <tr>\n",
       "      <th>1</th>\n",
       "      <td>0</td>\n",
       "      <td>1</td>\n",
       "      <td>wang-su</td>\n",
       "      <td>Kwang|Hangul</td>\n",
       "      <td>Q7521528</td>\n",
       "      <td>Kwang-su</td>\n",
       "      <td>4FG1UN8O.csv</td>\n",
       "    </tr>\n",
       "    <tr>\n",
       "      <th>2</th>\n",
       "      <td>0</td>\n",
       "      <td>5</td>\n",
       "      <td>Dlphonse James</td>\n",
       "      <td>James|Latin script</td>\n",
       "      <td>Q4735368</td>\n",
       "      <td>Alphonse James</td>\n",
       "      <td>4FG1UN8O.csv</td>\n",
       "    </tr>\n",
       "    <tr>\n",
       "      <th>3</th>\n",
       "      <td>0</td>\n",
       "      <td>13</td>\n",
       "      <td>Lean-Denis</td>\n",
       "      <td>Denis|Latin script</td>\n",
       "      <td>Q6169187</td>\n",
       "      <td>Jean-Denis</td>\n",
       "      <td>4FG1UN8O.csv</td>\n",
       "    </tr>\n",
       "    <tr>\n",
       "      <th>4</th>\n",
       "      <td>0</td>\n",
       "      <td>18</td>\n",
       "      <td>o-sung</td>\n",
       "      <td>Seong|Hangul</td>\n",
       "      <td>Q5873896</td>\n",
       "      <td>Ho-sung</td>\n",
       "      <td>4FG1UN8O.csv</td>\n",
       "    </tr>\n",
       "    <tr>\n",
       "      <th>5</th>\n",
       "      <td>0</td>\n",
       "      <td>19</td>\n",
       "      <td>yun-woo</td>\n",
       "      <td>Woo|Hangul</td>\n",
       "      <td>Q5962504</td>\n",
       "      <td>Hyun-woo</td>\n",
       "      <td>4FG1UN8O.csv</td>\n",
       "    </tr>\n",
       "    <tr>\n",
       "      <th>0</th>\n",
       "      <td>0</td>\n",
       "      <td>6</td>\n",
       "      <td>Glovis Companion</td>\n",
       "      <td>9.72|199.99</td>\n",
       "      <td>Q83638143</td>\n",
       "      <td>IMO 9460899</td>\n",
       "      <td>1NS33P8C.csv</td>\n",
       "    </tr>\n",
       "    <tr>\n",
       "      <th>0</th>\n",
       "      <td>0</td>\n",
       "      <td>12</td>\n",
       "      <td>United States Post Office</td>\n",
       "      <td>119 East 11th Street|place listed on the Natio...</td>\n",
       "      <td>Q65049498</td>\n",
       "      <td>United States Post Office</td>\n",
       "      <td>2TGNKH1P.csv</td>\n",
       "    </tr>\n",
       "    <tr>\n",
       "      <th>0</th>\n",
       "      <td>0</td>\n",
       "      <td>7</td>\n",
       "      <td>iuop-88</td>\n",
       "      <td>26.233999999999998|180.17999999999998</td>\n",
       "      <td>Q18844943</td>\n",
       "      <td>iron-68</td>\n",
       "      <td>4DPRZWVL.csv</td>\n",
       "    </tr>\n",
       "    <tr>\n",
       "      <th>1</th>\n",
       "      <td>0</td>\n",
       "      <td>10</td>\n",
       "      <td>lton-65</td>\n",
       "      <td>25.818|0.80271</td>\n",
       "      <td>Q18844940</td>\n",
       "      <td>iron-65</td>\n",
       "      <td>4DPRZWVL.csv</td>\n",
       "    </tr>\n",
       "    <tr>\n",
       "      <th>2</th>\n",
       "      <td>0</td>\n",
       "      <td>11</td>\n",
       "      <td>ron-64</td>\n",
       "      <td>25.974|1.99</td>\n",
       "      <td>Q18844939</td>\n",
       "      <td>iron-64</td>\n",
       "      <td>4DPRZWVL.csv</td>\n",
       "    </tr>\n",
       "    <tr>\n",
       "      <th>3</th>\n",
       "      <td>0</td>\n",
       "      <td>17</td>\n",
       "      <td>ron50</td>\n",
       "      <td>26.156|156.55</td>\n",
       "      <td>Q18844930</td>\n",
       "      <td>iron-50</td>\n",
       "      <td>4DPRZWVL.csv</td>\n",
       "    </tr>\n",
       "    <tr>\n",
       "      <th>0</th>\n",
       "      <td>0</td>\n",
       "      <td>24</td>\n",
       "      <td>Bvignon Cathedral</td>\n",
       "      <td>Romanesque architecture|France</td>\n",
       "      <td>Q1200500</td>\n",
       "      <td>Avignon Cathedral</td>\n",
       "      <td>3OAZEVOY.csv</td>\n",
       "    </tr>\n",
       "    <tr>\n",
       "      <th>0</th>\n",
       "      <td>0</td>\n",
       "      <td>12</td>\n",
       "      <td>Alexander</td>\n",
       "      <td>cognac|cocktail</td>\n",
       "      <td>Q1816386</td>\n",
       "      <td>Alexander</td>\n",
       "      <td>0G9YPQC0.csv</td>\n",
       "    </tr>\n",
       "    <tr>\n",
       "      <th>0</th>\n",
       "      <td>0</td>\n",
       "      <td>4</td>\n",
       "      <td>Manele</td>\n",
       "      <td>Maui County|Lanai</td>\n",
       "      <td>Q5991374</td>\n",
       "      <td>Manele</td>\n",
       "      <td>1T91CHXV.csv</td>\n",
       "    </tr>\n",
       "  </tbody>\n",
       "</table>\n",
       "</div>"
      ],
      "text/plain": [
       "  column row                              label  \\\n",
       "0      0   0                          V* EM And   \n",
       "1      0   1                          V* BB And   \n",
       "0      2  13                            Phoenix   \n",
       "1      3  17                     Amaury Vergara   \n",
       "0      0  12                       ankin Bridge   \n",
       "0      0  13                           Hreising   \n",
       "1      0  15                              assau   \n",
       "0      0   2                            Cirzeit   \n",
       "1      0   4                              ouler   \n",
       "2      0  11                             Dremen   \n",
       "3      0  15                              Pasau   \n",
       "4      0  16                         Ireifswamd   \n",
       "0      0   4            St. Joseph (Greifswcld)   \n",
       "1      0  11  St. Mdrien (Friedricsthal (Sacr))   \n",
       "2      0  12      t. Dionysius (Korschenbroich)   \n",
       "3      0  16                        S. Nikolaus   \n",
       "0      0   0                            ang-hun   \n",
       "1      0   1                            wang-su   \n",
       "2      0   5                     Dlphonse James   \n",
       "3      0  13                         Lean-Denis   \n",
       "4      0  18                             o-sung   \n",
       "5      0  19                            yun-woo   \n",
       "0      0   6                   Glovis Companion   \n",
       "0      0  12          United States Post Office   \n",
       "0      0   7                            iuop-88   \n",
       "1      0  10                            lton-65   \n",
       "2      0  11                             ron-64   \n",
       "3      0  17                              ron50   \n",
       "0      0  24                  Bvignon Cathedral   \n",
       "0      0  12                          Alexander   \n",
       "0      0   4                             Manele   \n",
       "\n",
       "                                             context   GT_kg_id  \\\n",
       "0           22.0593421416298|Mira variable|Andromeda  Q74157334   \n",
       "1            4.4331385872306|Mira variable|Andromeda  Q74006182   \n",
       "0  Forever Living Products|food industry|Rex Maughan     Q49221   \n",
       "1            Saulo y Yairo|food industry|Guadalajara    Q729642   \n",
       "0  Union Railroad Port Perry Bridge|Carrie Furnac...  Q14629009   \n",
       "0                                 13461.024|8901.398     Q10497   \n",
       "1                                  17498.364|9386.19     Q10489   \n",
       "0                              4574.29|13.972|811.74    Q212381   \n",
       "1                    108738.54|66.410786144|1646.725    Q192517   \n",
       "2                         564797.184|325.52764|5.952     Q24879   \n",
       "3     51729.219|69.69912000000001|312.31199999999995      Q4190   \n",
       "4                  59415.973999999995|50.96243|4.975      Q4098   \n",
       "0                  Gothic Revival architecture|brick   Q1668978   \n",
       "1                              Modern Movement|brick  Q14540979   \n",
       "2                  Gothic Revival architecture|brick  Q13649373   \n",
       "3                                 Brick Gothic|brick   Q1507314   \n",
       "0                                        Hoon|Hangul   Q7417717   \n",
       "1                                       Kwang|Hangul   Q7521528   \n",
       "2                                 James|Latin script   Q4735368   \n",
       "3                                 Denis|Latin script   Q6169187   \n",
       "4                                       Seong|Hangul   Q5873896   \n",
       "5                                         Woo|Hangul   Q5962504   \n",
       "0                                        9.72|199.99  Q83638143   \n",
       "0  119 East 11th Street|place listed on the Natio...  Q65049498   \n",
       "0              26.233999999999998|180.17999999999998  Q18844943   \n",
       "1                                     25.818|0.80271  Q18844940   \n",
       "2                                        25.974|1.99  Q18844939   \n",
       "3                                      26.156|156.55  Q18844930   \n",
       "0                     Romanesque architecture|France   Q1200500   \n",
       "0                                    cognac|cocktail   Q1816386   \n",
       "0                                  Maui County|Lanai   Q5991374   \n",
       "\n",
       "                          GT_kg_label      filename  \n",
       "0                       EM Andromedae  0FQOOJPU.csv  \n",
       "1                       BB Andromedae  0FQOOJPU.csv  \n",
       "0                          Scottsdale  2PKG4E2V.csv  \n",
       "1                       Jorge Vergara  2PKG4E2V.csv  \n",
       "0                       Rankin Bridge  39W7XXTI.csv  \n",
       "0                            Freising  3WXFYEAX.csv  \n",
       "1                              Passau  3WXFYEAX.csv  \n",
       "0                             Birzeit  1GUVMENF.csv  \n",
       "1                             Boulder  1GUVMENF.csv  \n",
       "2                              Bremen  1GUVMENF.csv  \n",
       "3                              Passau  1GUVMENF.csv  \n",
       "4                          Greifswald  1GUVMENF.csv  \n",
       "0             St. Joseph (Greifswald)  0QWF60VG.csv  \n",
       "1  St. Marien (Friedrichsthal (Saar))  0QWF60VG.csv  \n",
       "2      St. Dionysius (Korschenbroich)  0QWF60VG.csv  \n",
       "3                        St. Nikolaus  0QWF60VG.csv  \n",
       "0                            Sang-hun  4FG1UN8O.csv  \n",
       "1                            Kwang-su  4FG1UN8O.csv  \n",
       "2                      Alphonse James  4FG1UN8O.csv  \n",
       "3                          Jean-Denis  4FG1UN8O.csv  \n",
       "4                             Ho-sung  4FG1UN8O.csv  \n",
       "5                            Hyun-woo  4FG1UN8O.csv  \n",
       "0                         IMO 9460899  1NS33P8C.csv  \n",
       "0           United States Post Office  2TGNKH1P.csv  \n",
       "0                             iron-68  4DPRZWVL.csv  \n",
       "1                             iron-65  4DPRZWVL.csv  \n",
       "2                             iron-64  4DPRZWVL.csv  \n",
       "3                             iron-50  4DPRZWVL.csv  \n",
       "0                   Avignon Cathedral  3OAZEVOY.csv  \n",
       "0                           Alexander  0G9YPQC0.csv  \n",
       "0                              Manele  1T91CHXV.csv  "
      ]
     },
     "execution_count": 71,
     "metadata": {},
     "output_type": "execute_result"
    }
   ],
   "source": [
    "missing_df"
   ]
  },
  {
   "cell_type": "code",
   "execution_count": 72,
   "id": "exotic-process",
   "metadata": {},
   "outputs": [],
   "source": [
    "missing_df.to_csv(f\"{dev_missing_candidates_path}/missing_concatenated.csv\", index=False)"
   ]
  },
  {
   "cell_type": "code",
   "execution_count": 74,
   "id": "unexpected-convert",
   "metadata": {},
   "outputs": [
    {
     "name": "stderr",
     "output_type": "stream",
     "text": [
      "  0%|                                                                                                                                                                                                                        | 0/301 [00:00<?, ?it/s]"
     ]
    },
    {
     "name": "stdout",
     "output_type": "stream",
     "text": [
      "check-candidates Time: 0.007332801818847656s\n"
     ]
    },
    {
     "name": "stderr",
     "output_type": "stream",
     "text": [
      "  0%|▋                                                                                                                                                                                                               | 1/301 [00:03<18:18,  3.66s/it]"
     ]
    },
    {
     "name": "stdout",
     "output_type": "stream",
     "text": [
      "check-candidates Time: 0.008497953414916992s\n"
     ]
    },
    {
     "name": "stderr",
     "output_type": "stream",
     "text": [
      "  1%|█▍                                                                                                                                                                                                              | 2/301 [00:08<21:55,  4.40s/it]"
     ]
    },
    {
     "name": "stdout",
     "output_type": "stream",
     "text": [
      "check-candidates Time: 0.01688408851623535s\n"
     ]
    },
    {
     "name": "stderr",
     "output_type": "stream",
     "text": [
      "  1%|██                                                                                                                                                                                                              | 3/301 [00:14<25:07,  5.06s/it]"
     ]
    },
    {
     "name": "stdout",
     "output_type": "stream",
     "text": [
      "check-candidates Time: 0.010082244873046875s\n"
     ]
    },
    {
     "name": "stderr",
     "output_type": "stream",
     "text": [
      "  1%|██▊                                                                                                                                                                                                             | 4/301 [00:19<25:10,  5.09s/it]"
     ]
    },
    {
     "name": "stdout",
     "output_type": "stream",
     "text": [
      "check-candidates Time: 0.01775503158569336s\n"
     ]
    },
    {
     "name": "stderr",
     "output_type": "stream",
     "text": [
      "  2%|███▍                                                                                                                                                                                                            | 5/301 [00:25<26:24,  5.35s/it]"
     ]
    },
    {
     "name": "stdout",
     "output_type": "stream",
     "text": [
      "check-candidates Time: 0.008954286575317383s\n"
     ]
    },
    {
     "name": "stderr",
     "output_type": "stream",
     "text": [
      "  2%|████▏                                                                                                                                                                                                           | 6/301 [00:31<27:17,  5.55s/it]"
     ]
    },
    {
     "name": "stdout",
     "output_type": "stream",
     "text": [
      "check-candidates Time: 0.017194032669067383s\n"
     ]
    },
    {
     "name": "stderr",
     "output_type": "stream",
     "text": [
      "  2%|████▊                                                                                                                                                                                                           | 7/301 [00:36<26:21,  5.38s/it]"
     ]
    },
    {
     "name": "stdout",
     "output_type": "stream",
     "text": [
      "check-candidates Time: 0.022108078002929688s\n"
     ]
    },
    {
     "name": "stderr",
     "output_type": "stream",
     "text": [
      "  3%|█████▌                                                                                                                                                                                                          | 8/301 [00:41<25:45,  5.27s/it]"
     ]
    },
    {
     "name": "stdout",
     "output_type": "stream",
     "text": [
      "check-candidates Time: 0.01818704605102539s\n"
     ]
    },
    {
     "name": "stderr",
     "output_type": "stream",
     "text": [
      "  3%|██████▏                                                                                                                                                                                                         | 9/301 [00:45<23:19,  4.79s/it]"
     ]
    },
    {
     "name": "stdout",
     "output_type": "stream",
     "text": [
      "check-candidates Time: 0.02281332015991211s\n"
     ]
    },
    {
     "name": "stderr",
     "output_type": "stream",
     "text": [
      "  3%|██████▉                                                                                                                                                                                                        | 10/301 [00:47<20:19,  4.19s/it]"
     ]
    },
    {
     "name": "stdout",
     "output_type": "stream",
     "text": [
      "check-candidates Time: 0.009067058563232422s\n"
     ]
    },
    {
     "name": "stderr",
     "output_type": "stream",
     "text": [
      "  4%|███████▌                                                                                                                                                                                                       | 11/301 [00:51<19:31,  4.04s/it]"
     ]
    },
    {
     "name": "stdout",
     "output_type": "stream",
     "text": [
      "check-candidates Time: 0.014564990997314453s\n"
     ]
    },
    {
     "name": "stderr",
     "output_type": "stream",
     "text": [
      "  4%|████████▎                                                                                                                                                                                                      | 12/301 [00:54<17:17,  3.59s/it]"
     ]
    },
    {
     "name": "stdout",
     "output_type": "stream",
     "text": [
      "check-candidates Time: 0.009269952774047852s\n"
     ]
    },
    {
     "name": "stderr",
     "output_type": "stream",
     "text": [
      "  4%|████████▉                                                                                                                                                                                                      | 13/301 [00:56<15:47,  3.29s/it]"
     ]
    },
    {
     "name": "stdout",
     "output_type": "stream",
     "text": [
      "check-candidates Time: 0.016566038131713867s\n"
     ]
    },
    {
     "name": "stderr",
     "output_type": "stream",
     "text": [
      "  5%|█████████▋                                                                                                                                                                                                     | 14/301 [00:59<14:52,  3.11s/it]"
     ]
    },
    {
     "name": "stdout",
     "output_type": "stream",
     "text": [
      "check-candidates Time: 0.010270118713378906s\n"
     ]
    },
    {
     "name": "stderr",
     "output_type": "stream",
     "text": [
      "  5%|██████████▎                                                                                                                                                                                                    | 15/301 [01:02<14:20,  3.01s/it]"
     ]
    },
    {
     "name": "stdout",
     "output_type": "stream",
     "text": [
      "check-candidates Time: 0.018934965133666992s\n"
     ]
    },
    {
     "name": "stderr",
     "output_type": "stream",
     "text": [
      "  5%|███████████                                                                                                                                                                                                    | 16/301 [01:04<13:49,  2.91s/it]"
     ]
    },
    {
     "name": "stdout",
     "output_type": "stream",
     "text": [
      "check-candidates Time: 0.010476112365722656s\n"
     ]
    },
    {
     "name": "stderr",
     "output_type": "stream",
     "text": [
      "  6%|███████████▋                                                                                                                                                                                                   | 17/301 [01:07<13:19,  2.82s/it]"
     ]
    },
    {
     "name": "stdout",
     "output_type": "stream",
     "text": [
      "check-candidates Time: 0.015877246856689453s\n"
     ]
    },
    {
     "name": "stderr",
     "output_type": "stream",
     "text": [
      "  6%|████████████▍                                                                                                                                                                                                  | 18/301 [01:10<13:04,  2.77s/it]"
     ]
    },
    {
     "name": "stdout",
     "output_type": "stream",
     "text": [
      "check-candidates Time: 0.014044761657714844s\n"
     ]
    },
    {
     "name": "stderr",
     "output_type": "stream",
     "text": [
      "  6%|█████████████                                                                                                                                                                                                  | 19/301 [01:13<13:15,  2.82s/it]"
     ]
    },
    {
     "name": "stdout",
     "output_type": "stream",
     "text": [
      "check-candidates Time: 0.01208186149597168s\n"
     ]
    },
    {
     "name": "stderr",
     "output_type": "stream",
     "text": [
      "  7%|█████████████▊                                                                                                                                                                                                 | 20/301 [01:15<13:09,  2.81s/it]"
     ]
    },
    {
     "name": "stdout",
     "output_type": "stream",
     "text": [
      "check-candidates Time: 0.013930082321166992s\n"
     ]
    },
    {
     "name": "stderr",
     "output_type": "stream",
     "text": [
      "  7%|██████████████▍                                                                                                                                                                                                | 21/301 [01:18<13:23,  2.87s/it]"
     ]
    },
    {
     "name": "stdout",
     "output_type": "stream",
     "text": [
      "check-candidates Time: 0.02356100082397461s\n"
     ]
    },
    {
     "name": "stderr",
     "output_type": "stream",
     "text": [
      "  7%|███████████████▏                                                                                                                                                                                               | 22/301 [01:22<13:44,  2.96s/it]"
     ]
    },
    {
     "name": "stdout",
     "output_type": "stream",
     "text": [
      "check-candidates Time: 0.018812894821166992s\n"
     ]
    },
    {
     "name": "stderr",
     "output_type": "stream",
     "text": [
      "  8%|███████████████▊                                                                                                                                                                                               | 23/301 [01:24<13:32,  2.92s/it]"
     ]
    },
    {
     "name": "stdout",
     "output_type": "stream",
     "text": [
      "check-candidates Time: 0.013995885848999023s\n"
     ]
    },
    {
     "name": "stderr",
     "output_type": "stream",
     "text": [
      "  8%|████████████████▌                                                                                                                                                                                              | 24/301 [01:27<13:13,  2.87s/it]"
     ]
    },
    {
     "name": "stdout",
     "output_type": "stream",
     "text": [
      "check-candidates Time: 0.018641233444213867s\n"
     ]
    },
    {
     "name": "stderr",
     "output_type": "stream",
     "text": [
      "  8%|█████████████████▏                                                                                                                                                                                             | 25/301 [01:30<13:02,  2.84s/it]"
     ]
    },
    {
     "name": "stdout",
     "output_type": "stream",
     "text": [
      "check-candidates Time: 0.0106658935546875s\n"
     ]
    },
    {
     "name": "stderr",
     "output_type": "stream",
     "text": [
      "  9%|█████████████████▉                                                                                                                                                                                             | 26/301 [01:33<13:23,  2.92s/it]"
     ]
    },
    {
     "name": "stdout",
     "output_type": "stream",
     "text": [
      "check-candidates Time: 0.00991201400756836s\n"
     ]
    },
    {
     "name": "stderr",
     "output_type": "stream",
     "text": [
      "  9%|██████████████████▌                                                                                                                                                                                            | 27/301 [01:36<13:03,  2.86s/it]"
     ]
    },
    {
     "name": "stdout",
     "output_type": "stream",
     "text": [
      "check-candidates Time: 0.009479045867919922s\n"
     ]
    },
    {
     "name": "stderr",
     "output_type": "stream",
     "text": [
      "  9%|███████████████████▎                                                                                                                                                                                           | 28/301 [01:39<12:51,  2.83s/it]"
     ]
    },
    {
     "name": "stdout",
     "output_type": "stream",
     "text": [
      "check-candidates Time: 0.012529850006103516s\n"
     ]
    },
    {
     "name": "stderr",
     "output_type": "stream",
     "text": [
      " 10%|███████████████████▉                                                                                                                                                                                           | 29/301 [01:41<12:45,  2.82s/it]"
     ]
    },
    {
     "name": "stdout",
     "output_type": "stream",
     "text": [
      "check-candidates Time: 0.009071111679077148s\n"
     ]
    },
    {
     "name": "stderr",
     "output_type": "stream",
     "text": [
      " 10%|████████████████████▋                                                                                                                                                                                          | 30/301 [01:44<12:50,  2.84s/it]"
     ]
    },
    {
     "name": "stdout",
     "output_type": "stream",
     "text": [
      "check-candidates Time: 0.011780977249145508s\n"
     ]
    },
    {
     "name": "stderr",
     "output_type": "stream",
     "text": [
      " 10%|█████████████████████▎                                                                                                                                                                                         | 31/301 [01:47<13:17,  2.95s/it]"
     ]
    },
    {
     "name": "stdout",
     "output_type": "stream",
     "text": [
      "check-candidates Time: 0.01707601547241211s\n"
     ]
    },
    {
     "name": "stderr",
     "output_type": "stream",
     "text": [
      " 11%|██████████████████████                                                                                                                                                                                         | 32/301 [01:50<13:13,  2.95s/it]"
     ]
    },
    {
     "name": "stdout",
     "output_type": "stream",
     "text": [
      "check-candidates Time: 0.01786208152770996s\n"
     ]
    },
    {
     "name": "stderr",
     "output_type": "stream",
     "text": [
      " 11%|██████████████████████▋                                                                                                                                                                                        | 33/301 [01:54<14:06,  3.16s/it]"
     ]
    },
    {
     "name": "stdout",
     "output_type": "stream",
     "text": [
      "check-candidates Time: 0.02601003646850586s\n"
     ]
    },
    {
     "name": "stderr",
     "output_type": "stream",
     "text": [
      " 11%|███████████████████████▍                                                                                                                                                                                       | 34/301 [01:58<15:46,  3.54s/it]"
     ]
    },
    {
     "name": "stdout",
     "output_type": "stream",
     "text": [
      "check-candidates Time: 0.03528332710266113s\n"
     ]
    },
    {
     "name": "stderr",
     "output_type": "stream",
     "text": [
      " 12%|████████████████████████                                                                                                                                                                                       | 35/301 [02:02<16:03,  3.62s/it]"
     ]
    },
    {
     "name": "stdout",
     "output_type": "stream",
     "text": [
      "check-candidates Time: 0.014121055603027344s\n"
     ]
    },
    {
     "name": "stderr",
     "output_type": "stream",
     "text": [
      " 12%|█████████████████████████▍                                                                                                                                                                                     | 37/301 [02:08<14:48,  3.37s/it]"
     ]
    },
    {
     "name": "stdout",
     "output_type": "stream",
     "text": [
      "check-candidates Time: 0.03997302055358887s\n"
     ]
    },
    {
     "name": "stderr",
     "output_type": "stream",
     "text": [
      " 13%|██████████████████████████▏                                                                                                                                                                                    | 38/301 [02:14<17:33,  4.01s/it]"
     ]
    },
    {
     "name": "stdout",
     "output_type": "stream",
     "text": [
      "check-candidates Time: 0.01901412010192871s\n"
     ]
    },
    {
     "name": "stderr",
     "output_type": "stream",
     "text": [
      " 13%|██████████████████████████▊                                                                                                                                                                                    | 39/301 [02:21<20:34,  4.71s/it]"
     ]
    },
    {
     "name": "stdout",
     "output_type": "stream",
     "text": [
      "check-candidates Time: 0.015753984451293945s\n"
     ]
    },
    {
     "name": "stderr",
     "output_type": "stream",
     "text": [
      " 13%|███████████████████████████▌                                                                                                                                                                                   | 40/301 [02:26<21:00,  4.83s/it]"
     ]
    },
    {
     "name": "stdout",
     "output_type": "stream",
     "text": [
      "check-candidates Time: 0.020901918411254883s\n"
     ]
    },
    {
     "name": "stderr",
     "output_type": "stream",
     "text": [
      " 14%|████████████████████████████▏                                                                                                                                                                                  | 41/301 [02:32<22:31,  5.20s/it]"
     ]
    },
    {
     "name": "stdout",
     "output_type": "stream",
     "text": [
      "check-candidates Time: 0.02727985382080078s\n"
     ]
    },
    {
     "name": "stderr",
     "output_type": "stream",
     "text": [
      " 14%|████████████████████████████▉                                                                                                                                                                                  | 42/301 [02:39<24:18,  5.63s/it]"
     ]
    },
    {
     "name": "stdout",
     "output_type": "stream",
     "text": [
      "check-candidates Time: 0.026836395263671875s\n"
     ]
    },
    {
     "name": "stderr",
     "output_type": "stream",
     "text": [
      " 14%|█████████████████████████████▌                                                                                                                                                                                 | 43/301 [02:45<24:51,  5.78s/it]"
     ]
    },
    {
     "name": "stdout",
     "output_type": "stream",
     "text": [
      "check-candidates Time: 0.011096954345703125s\n"
     ]
    },
    {
     "name": "stderr",
     "output_type": "stream",
     "text": [
      " 15%|██████████████████████████████▎                                                                                                                                                                                | 44/301 [02:52<25:26,  5.94s/it]"
     ]
    },
    {
     "name": "stdout",
     "output_type": "stream",
     "text": [
      "check-candidates Time: 0.009302854537963867s\n"
     ]
    },
    {
     "name": "stderr",
     "output_type": "stream",
     "text": [
      " 15%|██████████████████████████████▉                                                                                                                                                                                | 45/301 [02:55<22:15,  5.22s/it]"
     ]
    },
    {
     "name": "stdout",
     "output_type": "stream",
     "text": [
      "check-candidates Time: 0.013648033142089844s\n"
     ]
    },
    {
     "name": "stderr",
     "output_type": "stream",
     "text": [
      " 15%|███████████████████████████████▋                                                                                                                                                                               | 46/301 [03:00<21:41,  5.10s/it]"
     ]
    },
    {
     "name": "stdout",
     "output_type": "stream",
     "text": [
      "check-candidates Time: 0.01867222785949707s\n"
     ]
    },
    {
     "name": "stderr",
     "output_type": "stream",
     "text": [
      " 16%|████████████████████████████████▎                                                                                                                                                                              | 47/301 [03:03<18:41,  4.41s/it]"
     ]
    },
    {
     "name": "stdout",
     "output_type": "stream",
     "text": [
      "check-candidates Time: 0.009500980377197266s\n"
     ]
    },
    {
     "name": "stderr",
     "output_type": "stream",
     "text": [
      " 16%|█████████████████████████████████                                                                                                                                                                              | 48/301 [03:05<16:15,  3.85s/it]"
     ]
    },
    {
     "name": "stdout",
     "output_type": "stream",
     "text": [
      "check-candidates Time: 0.009916067123413086s\n"
     ]
    },
    {
     "name": "stderr",
     "output_type": "stream",
     "text": [
      " 16%|█████████████████████████████████▋                                                                                                                                                                             | 49/301 [03:09<15:39,  3.73s/it]"
     ]
    },
    {
     "name": "stdout",
     "output_type": "stream",
     "text": [
      "check-candidates Time: 0.009202957153320312s\n"
     ]
    },
    {
     "name": "stderr",
     "output_type": "stream",
     "text": [
      " 17%|██████████████████████████████████▍                                                                                                                                                                            | 50/301 [03:11<14:05,  3.37s/it]"
     ]
    },
    {
     "name": "stdout",
     "output_type": "stream",
     "text": [
      "check-candidates Time: 0.017838001251220703s\n"
     ]
    },
    {
     "name": "stderr",
     "output_type": "stream",
     "text": [
      " 17%|███████████████████████████████████                                                                                                                                                                            | 51/301 [03:14<13:07,  3.15s/it]"
     ]
    },
    {
     "name": "stdout",
     "output_type": "stream",
     "text": [
      "check-candidates Time: 0.018239259719848633s\n"
     ]
    },
    {
     "name": "stderr",
     "output_type": "stream",
     "text": [
      " 18%|████████████████████████████████████▍                                                                                                                                                                          | 53/301 [03:16<09:30,  2.30s/it]"
     ]
    },
    {
     "name": "stdout",
     "output_type": "stream",
     "text": [
      "check-candidates Time: 0.009263038635253906s\n"
     ]
    },
    {
     "name": "stderr",
     "output_type": "stream",
     "text": [
      " 18%|█████████████████████████████████████▏                                                                                                                                                                         | 54/301 [03:19<09:44,  2.37s/it]"
     ]
    },
    {
     "name": "stdout",
     "output_type": "stream",
     "text": [
      "check-candidates Time: 0.009082317352294922s\n"
     ]
    },
    {
     "name": "stderr",
     "output_type": "stream",
     "text": [
      " 18%|█████████████████████████████████████▊                                                                                                                                                                         | 55/301 [03:21<09:46,  2.38s/it]"
     ]
    },
    {
     "name": "stdout",
     "output_type": "stream",
     "text": [
      "check-candidates Time: 0.016119956970214844s\n"
     ]
    },
    {
     "name": "stderr",
     "output_type": "stream",
     "text": [
      " 19%|██████████████████████████████████████▌                                                                                                                                                                        | 56/301 [03:24<09:50,  2.41s/it]"
     ]
    },
    {
     "name": "stdout",
     "output_type": "stream",
     "text": [
      "check-candidates Time: 0.01842522621154785s\n"
     ]
    },
    {
     "name": "stderr",
     "output_type": "stream",
     "text": [
      " 19%|███████████████████████████████████████▏                                                                                                                                                                       | 57/301 [03:26<09:57,  2.45s/it]"
     ]
    },
    {
     "name": "stdout",
     "output_type": "stream",
     "text": [
      "check-candidates Time: 0.012164115905761719s\n"
     ]
    },
    {
     "name": "stderr",
     "output_type": "stream",
     "text": [
      " 19%|███████████████████████████████████████▉                                                                                                                                                                       | 58/301 [03:29<10:11,  2.52s/it]"
     ]
    },
    {
     "name": "stdout",
     "output_type": "stream",
     "text": [
      "check-candidates Time: 0.011705875396728516s\n"
     ]
    },
    {
     "name": "stderr",
     "output_type": "stream",
     "text": [
      " 20%|████████████████████████████████████████▌                                                                                                                                                                      | 59/301 [03:32<10:11,  2.53s/it]"
     ]
    },
    {
     "name": "stdout",
     "output_type": "stream",
     "text": [
      "check-candidates Time: 0.012643098831176758s\n"
     ]
    },
    {
     "name": "stderr",
     "output_type": "stream",
     "text": [
      " 20%|█████████████████████████████████████████▎                                                                                                                                                                     | 60/301 [03:34<10:09,  2.53s/it]"
     ]
    },
    {
     "name": "stdout",
     "output_type": "stream",
     "text": [
      "check-candidates Time: 0.010528087615966797s\n"
     ]
    },
    {
     "name": "stderr",
     "output_type": "stream",
     "text": [
      " 20%|█████████████████████████████████████████▉                                                                                                                                                                     | 61/301 [03:37<10:14,  2.56s/it]"
     ]
    },
    {
     "name": "stdout",
     "output_type": "stream",
     "text": [
      "check-candidates Time: 0.01178598403930664s\n"
     ]
    },
    {
     "name": "stderr",
     "output_type": "stream",
     "text": [
      " 21%|██████████████████████████████████████████▋                                                                                                                                                                    | 62/301 [03:39<10:14,  2.57s/it]"
     ]
    },
    {
     "name": "stdout",
     "output_type": "stream",
     "text": [
      "check-candidates Time: 0.007622957229614258s\n"
     ]
    },
    {
     "name": "stderr",
     "output_type": "stream",
     "text": [
      " 21%|███████████████████████████████████████████▎                                                                                                                                                                   | 63/301 [03:42<10:03,  2.54s/it]"
     ]
    },
    {
     "name": "stdout",
     "output_type": "stream",
     "text": [
      "check-candidates Time: 0.009227752685546875s\n"
     ]
    },
    {
     "name": "stderr",
     "output_type": "stream",
     "text": [
      " 21%|████████████████████████████████████████████                                                                                                                                                                   | 64/301 [03:44<10:02,  2.54s/it]"
     ]
    },
    {
     "name": "stdout",
     "output_type": "stream",
     "text": [
      "check-candidates Time: 0.01718306541442871s\n"
     ]
    },
    {
     "name": "stderr",
     "output_type": "stream",
     "text": [
      " 22%|████████████████████████████████████████████▋                                                                                                                                                                  | 65/301 [03:47<09:58,  2.54s/it]"
     ]
    },
    {
     "name": "stdout",
     "output_type": "stream",
     "text": [
      "check-candidates Time: 0.015146970748901367s\n"
     ]
    },
    {
     "name": "stderr",
     "output_type": "stream",
     "text": [
      " 22%|█████████████████████████████████████████████▍                                                                                                                                                                 | 66/301 [03:50<10:06,  2.58s/it]"
     ]
    },
    {
     "name": "stdout",
     "output_type": "stream",
     "text": [
      "check-candidates Time: 0.007668972015380859s\n"
     ]
    },
    {
     "name": "stderr",
     "output_type": "stream",
     "text": [
      " 22%|██████████████████████████████████████████████                                                                                                                                                                 | 67/301 [03:52<09:54,  2.54s/it]"
     ]
    },
    {
     "name": "stdout",
     "output_type": "stream",
     "text": [
      "check-candidates Time: 0.017532825469970703s\n"
     ]
    },
    {
     "name": "stderr",
     "output_type": "stream",
     "text": [
      " 23%|██████████████████████████████████████████████▊                                                                                                                                                                | 68/301 [03:55<09:54,  2.55s/it]"
     ]
    },
    {
     "name": "stdout",
     "output_type": "stream",
     "text": [
      "check-candidates Time: 0.013887882232666016s\n"
     ]
    },
    {
     "name": "stderr",
     "output_type": "stream",
     "text": [
      " 23%|███████████████████████████████████████████████▍                                                                                                                                                               | 69/301 [03:57<09:46,  2.53s/it]"
     ]
    },
    {
     "name": "stdout",
     "output_type": "stream",
     "text": [
      "check-candidates Time: 0.008045196533203125s\n"
     ]
    },
    {
     "name": "stderr",
     "output_type": "stream",
     "text": [
      " 23%|████████████████████████████████████████████████▏                                                                                                                                                              | 70/301 [04:00<09:47,  2.54s/it]"
     ]
    },
    {
     "name": "stdout",
     "output_type": "stream",
     "text": [
      "check-candidates Time: 0.009352922439575195s\n"
     ]
    },
    {
     "name": "stderr",
     "output_type": "stream",
     "text": [
      " 24%|████████████████████████████████████████████████▊                                                                                                                                                              | 71/301 [04:02<09:52,  2.58s/it]"
     ]
    },
    {
     "name": "stdout",
     "output_type": "stream",
     "text": [
      "check-candidates Time: 0.011358022689819336s\n"
     ]
    },
    {
     "name": "stderr",
     "output_type": "stream",
     "text": [
      " 24%|█████████████████████████████████████████████████▌                                                                                                                                                             | 72/301 [04:05<09:46,  2.56s/it]"
     ]
    },
    {
     "name": "stdout",
     "output_type": "stream",
     "text": [
      "check-candidates Time: 0.009885072708129883s\n"
     ]
    },
    {
     "name": "stderr",
     "output_type": "stream",
     "text": [
      " 24%|██████████████████████████████████████████████████▏                                                                                                                                                            | 73/301 [04:07<09:40,  2.55s/it]"
     ]
    },
    {
     "name": "stdout",
     "output_type": "stream",
     "text": [
      "check-candidates Time: 0.008300065994262695s\n"
     ]
    },
    {
     "name": "stderr",
     "output_type": "stream",
     "text": [
      " 25%|██████████████████████████████████████████████████▉                                                                                                                                                            | 74/301 [04:10<09:29,  2.51s/it]"
     ]
    },
    {
     "name": "stdout",
     "output_type": "stream",
     "text": [
      "check-candidates Time: 0.008305788040161133s\n"
     ]
    },
    {
     "name": "stderr",
     "output_type": "stream",
     "text": [
      " 25%|███████████████████████████████████████████████████▌                                                                                                                                                           | 75/301 [04:12<09:19,  2.48s/it]"
     ]
    },
    {
     "name": "stdout",
     "output_type": "stream",
     "text": [
      "check-candidates Time: 0.009360074996948242s\n"
     ]
    },
    {
     "name": "stderr",
     "output_type": "stream",
     "text": [
      " 25%|████████████████████████████████████████████████████▎                                                                                                                                                          | 76/301 [04:15<09:30,  2.53s/it]"
     ]
    },
    {
     "name": "stdout",
     "output_type": "stream",
     "text": [
      "check-candidates Time: 0.012012720108032227s\n"
     ]
    },
    {
     "name": "stderr",
     "output_type": "stream",
     "text": [
      " 26%|████████████████████████████████████████████████████▉                                                                                                                                                          | 77/301 [04:17<09:22,  2.51s/it]"
     ]
    },
    {
     "name": "stdout",
     "output_type": "stream",
     "text": [
      "check-candidates Time: 0.009353160858154297s\n"
     ]
    },
    {
     "name": "stderr",
     "output_type": "stream",
     "text": [
      " 26%|██████████████████████████████████████████████████████▎                                                                                                                                                        | 79/301 [04:20<07:31,  2.04s/it]"
     ]
    },
    {
     "name": "stdout",
     "output_type": "stream",
     "text": [
      "check-candidates Time: 0.009032011032104492s\n"
     ]
    },
    {
     "name": "stderr",
     "output_type": "stream",
     "text": [
      " 27%|███████████████████████████████████████████████████████                                                                                                                                                        | 80/301 [04:23<08:07,  2.21s/it]"
     ]
    },
    {
     "name": "stdout",
     "output_type": "stream",
     "text": [
      "check-candidates Time: 0.01700305938720703s\n"
     ]
    },
    {
     "name": "stderr",
     "output_type": "stream",
     "text": [
      " 27%|███████████████████████████████████████████████████████▋                                                                                                                                                       | 81/301 [04:26<08:33,  2.33s/it]"
     ]
    },
    {
     "name": "stdout",
     "output_type": "stream",
     "text": [
      "check-candidates Time: 0.00815892219543457s\n"
     ]
    },
    {
     "name": "stderr",
     "output_type": "stream",
     "text": [
      " 27%|████████████████████████████████████████████████████████▍                                                                                                                                                      | 82/301 [04:28<08:47,  2.41s/it]"
     ]
    },
    {
     "name": "stdout",
     "output_type": "stream",
     "text": [
      "check-candidates Time: 0.013128042221069336s\n"
     ]
    },
    {
     "name": "stderr",
     "output_type": "stream",
     "text": [
      " 28%|█████████████████████████████████████████████████████████                                                                                                                                                      | 83/301 [04:32<10:26,  2.87s/it]"
     ]
    },
    {
     "name": "stdout",
     "output_type": "stream",
     "text": [
      "check-candidates Time: 0.010821819305419922s\n"
     ]
    },
    {
     "name": "stderr",
     "output_type": "stream",
     "text": [
      " 28%|█████████████████████████████████████████████████████████▊                                                                                                                                                     | 84/301 [04:36<11:30,  3.18s/it]"
     ]
    },
    {
     "name": "stdout",
     "output_type": "stream",
     "text": [
      "check-candidates Time: 0.010804176330566406s\n"
     ]
    },
    {
     "name": "stderr",
     "output_type": "stream",
     "text": [
      " 28%|██████████████████████████████████████████████████████████▍                                                                                                                                                    | 85/301 [04:40<12:08,  3.37s/it]"
     ]
    },
    {
     "name": "stdout",
     "output_type": "stream",
     "text": [
      "check-candidates Time: 0.023257970809936523s\n"
     ]
    },
    {
     "name": "stderr",
     "output_type": "stream",
     "text": [
      " 29%|███████████████████████████████████████████████████████████▏                                                                                                                                                   | 86/301 [04:46<14:55,  4.17s/it]"
     ]
    },
    {
     "name": "stdout",
     "output_type": "stream",
     "text": [
      "check-candidates Time: 0.01827406883239746s\n"
     ]
    },
    {
     "name": "stderr",
     "output_type": "stream",
     "text": [
      " 29%|███████████████████████████████████████████████████████████▊                                                                                                                                                   | 87/301 [04:52<16:47,  4.71s/it]"
     ]
    },
    {
     "name": "stdout",
     "output_type": "stream",
     "text": [
      "check-candidates Time: 0.016329288482666016s\n"
     ]
    },
    {
     "name": "stderr",
     "output_type": "stream",
     "text": [
      " 29%|████████████████████████████████████████████████████████████▌                                                                                                                                                  | 88/301 [04:59<18:14,  5.14s/it]"
     ]
    },
    {
     "name": "stdout",
     "output_type": "stream",
     "text": [
      "check-candidates Time: 0.010977029800415039s\n"
     ]
    },
    {
     "name": "stderr",
     "output_type": "stream",
     "text": [
      " 30%|█████████████████████████████████████████████████████████████▏                                                                                                                                                 | 89/301 [05:05<19:58,  5.65s/it]"
     ]
    },
    {
     "name": "stdout",
     "output_type": "stream",
     "text": [
      "check-candidates Time: 0.01808786392211914s\n"
     ]
    },
    {
     "name": "stderr",
     "output_type": "stream",
     "text": [
      " 30%|█████████████████████████████████████████████████████████████▉                                                                                                                                                 | 90/301 [05:10<19:13,  5.47s/it]"
     ]
    },
    {
     "name": "stdout",
     "output_type": "stream",
     "text": [
      "check-candidates Time: 0.015571832656860352s\n"
     ]
    },
    {
     "name": "stderr",
     "output_type": "stream",
     "text": [
      " 30%|██████████████████████████████████████████████████████████████▌                                                                                                                                                | 91/301 [05:16<18:54,  5.40s/it]"
     ]
    },
    {
     "name": "stdout",
     "output_type": "stream",
     "text": [
      "check-candidates Time: 0.015503883361816406s\n"
     ]
    },
    {
     "name": "stderr",
     "output_type": "stream",
     "text": [
      " 31%|███████████████████████████████████████████████████████████████▎                                                                                                                                               | 92/301 [05:20<17:18,  4.97s/it]"
     ]
    },
    {
     "name": "stdout",
     "output_type": "stream",
     "text": [
      "check-candidates Time: 0.020167827606201172s\n"
     ]
    },
    {
     "name": "stderr",
     "output_type": "stream",
     "text": [
      " 31%|███████████████████████████████████████████████████████████████▉                                                                                                                                               | 93/301 [05:25<17:15,  4.98s/it]"
     ]
    },
    {
     "name": "stdout",
     "output_type": "stream",
     "text": [
      "check-candidates Time: 0.008054018020629883s\n"
     ]
    },
    {
     "name": "stderr",
     "output_type": "stream",
     "text": [
      " 31%|████████████████████████████████████████████████████████████████▋                                                                                                                                              | 94/301 [05:28<15:13,  4.41s/it]"
     ]
    },
    {
     "name": "stdout",
     "output_type": "stream",
     "text": [
      "check-candidates Time: 0.016470909118652344s\n"
     ]
    },
    {
     "name": "stderr",
     "output_type": "stream",
     "text": [
      " 32%|█████████████████████████████████████████████████████████████████▎                                                                                                                                             | 95/301 [05:30<12:56,  3.77s/it]"
     ]
    },
    {
     "name": "stdout",
     "output_type": "stream",
     "text": [
      "check-candidates Time: 0.011326789855957031s\n"
     ]
    },
    {
     "name": "stderr",
     "output_type": "stream",
     "text": [
      " 32%|██████████████████████████████████████████████████████████████████                                                                                                                                             | 96/301 [05:33<12:30,  3.66s/it]"
     ]
    },
    {
     "name": "stdout",
     "output_type": "stream",
     "text": [
      "check-candidates Time: 0.007707834243774414s\n"
     ]
    },
    {
     "name": "stderr",
     "output_type": "stream",
     "text": [
      " 32%|██████████████████████████████████████████████████████████████████▋                                                                                                                                            | 97/301 [05:36<11:00,  3.24s/it]"
     ]
    },
    {
     "name": "stdout",
     "output_type": "stream",
     "text": [
      "check-candidates Time: 0.014879941940307617s\n"
     ]
    },
    {
     "name": "stderr",
     "output_type": "stream",
     "text": [
      " 33%|███████████████████████████████████████████████████████████████████▍                                                                                                                                           | 98/301 [05:38<09:54,  2.93s/it]"
     ]
    },
    {
     "name": "stdout",
     "output_type": "stream",
     "text": [
      "check-candidates Time: 0.010348081588745117s\n"
     ]
    },
    {
     "name": "stderr",
     "output_type": "stream",
     "text": [
      " 33%|████████████████████████████████████████████████████████████████████                                                                                                                                           | 99/301 [05:40<09:13,  2.74s/it]"
     ]
    },
    {
     "name": "stdout",
     "output_type": "stream",
     "text": [
      "check-candidates Time: 0.009067058563232422s\n"
     ]
    },
    {
     "name": "stderr",
     "output_type": "stream",
     "text": [
      " 33%|████████████████████████████████████████████████████████████████████▍                                                                                                                                         | 100/301 [05:42<08:43,  2.60s/it]"
     ]
    },
    {
     "name": "stdout",
     "output_type": "stream",
     "text": [
      "check-candidates Time: 0.0217130184173584s\n"
     ]
    },
    {
     "name": "stderr",
     "output_type": "stream",
     "text": [
      " 34%|█████████████████████████████████████████████████████████████████████                                                                                                                                         | 101/301 [05:45<09:02,  2.71s/it]"
     ]
    },
    {
     "name": "stdout",
     "output_type": "stream",
     "text": [
      "check-candidates Time: 0.009645223617553711s\n"
     ]
    },
    {
     "name": "stderr",
     "output_type": "stream",
     "text": [
      " 34%|█████████████████████████████████████████████████████████████████████▊                                                                                                                                        | 102/301 [05:48<08:40,  2.61s/it]"
     ]
    },
    {
     "name": "stdout",
     "output_type": "stream",
     "text": [
      "check-candidates Time: 0.014110088348388672s\n"
     ]
    },
    {
     "name": "stderr",
     "output_type": "stream",
     "text": [
      " 34%|██████████████████████████████████████████████████████████████████████▍                                                                                                                                       | 103/301 [05:50<08:27,  2.56s/it]"
     ]
    },
    {
     "name": "stdout",
     "output_type": "stream",
     "text": [
      "check-candidates Time: 0.021198272705078125s\n"
     ]
    },
    {
     "name": "stderr",
     "output_type": "stream",
     "text": [
      " 35%|███████████████████████████████████████████████████████████████████████▏                                                                                                                                      | 104/301 [05:53<08:19,  2.53s/it]"
     ]
    },
    {
     "name": "stdout",
     "output_type": "stream",
     "text": [
      "check-candidates Time: 0.008212089538574219s\n"
     ]
    },
    {
     "name": "stderr",
     "output_type": "stream",
     "text": [
      " 35%|███████████████████████████████████████████████████████████████████████▊                                                                                                                                      | 105/301 [05:55<08:05,  2.48s/it]"
     ]
    },
    {
     "name": "stdout",
     "output_type": "stream",
     "text": [
      "check-candidates Time: 0.015903949737548828s\n"
     ]
    },
    {
     "name": "stderr",
     "output_type": "stream",
     "text": [
      " 35%|████████████████████████████████████████████████████████████████████████▌                                                                                                                                     | 106/301 [05:57<07:54,  2.43s/it]"
     ]
    },
    {
     "name": "stdout",
     "output_type": "stream",
     "text": [
      "check-candidates Time: 0.01213216781616211s\n"
     ]
    },
    {
     "name": "stderr",
     "output_type": "stream",
     "text": [
      " 36%|█████████████████████████████████████████████████████████████████████████▏                                                                                                                                    | 107/301 [06:00<07:47,  2.41s/it]"
     ]
    },
    {
     "name": "stdout",
     "output_type": "stream",
     "text": [
      "check-candidates Time: 0.0075359344482421875s\n"
     ]
    },
    {
     "name": "stderr",
     "output_type": "stream",
     "text": [
      " 36%|█████████████████████████████████████████████████████████████████████████▉                                                                                                                                    | 108/301 [06:02<07:39,  2.38s/it]"
     ]
    },
    {
     "name": "stdout",
     "output_type": "stream",
     "text": [
      "check-candidates Time: 0.013430118560791016s\n"
     ]
    },
    {
     "name": "stderr",
     "output_type": "stream",
     "text": [
      " 36%|██████████████████████████████████████████████████████████████████████████▌                                                                                                                                   | 109/301 [06:04<07:40,  2.40s/it]"
     ]
    },
    {
     "name": "stdout",
     "output_type": "stream",
     "text": [
      "check-candidates Time: 0.00815272331237793s\n"
     ]
    },
    {
     "name": "stderr",
     "output_type": "stream",
     "text": [
      " 37%|███████████████████████████████████████████████████████████████████████████▎                                                                                                                                  | 110/301 [06:07<07:35,  2.38s/it]"
     ]
    },
    {
     "name": "stdout",
     "output_type": "stream",
     "text": [
      "check-candidates Time: 0.015619039535522461s\n"
     ]
    },
    {
     "name": "stderr",
     "output_type": "stream",
     "text": [
      " 37%|███████████████████████████████████████████████████████████████████████████▉                                                                                                                                  | 111/301 [06:09<07:28,  2.36s/it]"
     ]
    },
    {
     "name": "stdout",
     "output_type": "stream",
     "text": [
      "check-candidates Time: 0.01804971694946289s\n"
     ]
    },
    {
     "name": "stderr",
     "output_type": "stream",
     "text": [
      " 37%|████████████████████████████████████████████████████████████████████████████▋                                                                                                                                 | 112/301 [06:12<07:31,  2.39s/it]"
     ]
    },
    {
     "name": "stdout",
     "output_type": "stream",
     "text": [
      "check-candidates Time: 0.012382030487060547s\n"
     ]
    },
    {
     "name": "stderr",
     "output_type": "stream",
     "text": [
      " 38%|█████████████████████████████████████████████████████████████████████████████▎                                                                                                                                | 113/301 [06:14<07:34,  2.42s/it]"
     ]
    },
    {
     "name": "stdout",
     "output_type": "stream",
     "text": [
      "check-candidates Time: 0.01396489143371582s\n"
     ]
    },
    {
     "name": "stderr",
     "output_type": "stream",
     "text": [
      " 38%|██████████████████████████████████████████████████████████████████████████████                                                                                                                                | 114/301 [06:17<07:37,  2.45s/it]"
     ]
    },
    {
     "name": "stdout",
     "output_type": "stream",
     "text": [
      "check-candidates Time: 0.012846946716308594s\n"
     ]
    },
    {
     "name": "stderr",
     "output_type": "stream",
     "text": [
      " 38%|██████████████████████████████████████████████████████████████████████████████▋                                                                                                                               | 115/301 [06:19<07:41,  2.48s/it]"
     ]
    },
    {
     "name": "stdout",
     "output_type": "stream",
     "text": [
      "check-candidates Time: 0.009810924530029297s\n"
     ]
    },
    {
     "name": "stderr",
     "output_type": "stream",
     "text": [
      " 39%|███████████████████████████████████████████████████████████████████████████████▍                                                                                                                              | 116/301 [06:22<07:42,  2.50s/it]"
     ]
    },
    {
     "name": "stdout",
     "output_type": "stream",
     "text": [
      "check-candidates Time: 0.009966850280761719s\n"
     ]
    },
    {
     "name": "stderr",
     "output_type": "stream",
     "text": [
      " 39%|████████████████████████████████████████████████████████████████████████████████                                                                                                                              | 117/301 [06:24<07:49,  2.55s/it]"
     ]
    },
    {
     "name": "stdout",
     "output_type": "stream",
     "text": [
      "check-candidates Time: 0.009368896484375s\n"
     ]
    },
    {
     "name": "stderr",
     "output_type": "stream",
     "text": [
      " 39%|████████████████████████████████████████████████████████████████████████████████▊                                                                                                                             | 118/301 [06:27<07:57,  2.61s/it]"
     ]
    },
    {
     "name": "stdout",
     "output_type": "stream",
     "text": [
      "check-candidates Time: 0.015971899032592773s\n"
     ]
    },
    {
     "name": "stderr",
     "output_type": "stream",
     "text": [
      " 40%|█████████████████████████████████████████████████████████████████████████████████▍                                                                                                                            | 119/301 [06:30<08:00,  2.64s/it]"
     ]
    },
    {
     "name": "stdout",
     "output_type": "stream",
     "text": [
      "check-candidates Time: 0.02172994613647461s\n"
     ]
    },
    {
     "name": "stderr",
     "output_type": "stream",
     "text": [
      " 40%|██████████████████████████████████████████████████████████████████████████████████▏                                                                                                                           | 120/301 [06:33<08:06,  2.69s/it]"
     ]
    },
    {
     "name": "stdout",
     "output_type": "stream",
     "text": [
      "check-candidates Time: 0.013278961181640625s\n"
     ]
    },
    {
     "name": "stderr",
     "output_type": "stream",
     "text": [
      " 40%|██████████████████████████████████████████████████████████████████████████████████▊                                                                                                                           | 121/301 [06:35<08:09,  2.72s/it]"
     ]
    },
    {
     "name": "stdout",
     "output_type": "stream",
     "text": [
      "check-candidates Time: 0.04335618019104004s\n"
     ]
    },
    {
     "name": "stderr",
     "output_type": "stream",
     "text": [
      " 41%|███████████████████████████████████████████████████████████████████████████████████▍                                                                                                                          | 122/301 [06:38<08:17,  2.78s/it]"
     ]
    },
    {
     "name": "stdout",
     "output_type": "stream",
     "text": [
      "check-candidates Time: 0.013331174850463867s\n"
     ]
    },
    {
     "name": "stderr",
     "output_type": "stream",
     "text": [
      " 41%|████████████████████████████████████████████████████████████████████████████████████▏                                                                                                                         | 123/301 [06:41<08:06,  2.74s/it]"
     ]
    },
    {
     "name": "stdout",
     "output_type": "stream",
     "text": [
      "check-candidates Time: 0.013785123825073242s\n"
     ]
    },
    {
     "name": "stderr",
     "output_type": "stream",
     "text": [
      " 41%|████████████████████████████████████████████████████████████████████████████████████▊                                                                                                                         | 124/301 [06:44<07:57,  2.70s/it]"
     ]
    },
    {
     "name": "stdout",
     "output_type": "stream",
     "text": [
      "check-candidates Time: 0.010558366775512695s\n"
     ]
    },
    {
     "name": "stderr",
     "output_type": "stream",
     "text": [
      " 42%|█████████████████████████████████████████████████████████████████████████████████████▌                                                                                                                        | 125/301 [06:46<08:05,  2.76s/it]"
     ]
    },
    {
     "name": "stdout",
     "output_type": "stream",
     "text": [
      "check-candidates Time: 0.011812210083007812s\n"
     ]
    },
    {
     "name": "stderr",
     "output_type": "stream",
     "text": [
      " 42%|██████████████████████████████████████████████████████████████████████████████████████▏                                                                                                                       | 126/301 [06:50<08:34,  2.94s/it]"
     ]
    },
    {
     "name": "stdout",
     "output_type": "stream",
     "text": [
      "check-candidates Time: 0.019466161727905273s\n"
     ]
    },
    {
     "name": "stderr",
     "output_type": "stream",
     "text": [
      " 42%|██████████████████████████████████████████████████████████████████████████████████████▉                                                                                                                       | 127/301 [06:53<08:22,  2.89s/it]"
     ]
    },
    {
     "name": "stdout",
     "output_type": "stream",
     "text": [
      "check-candidates Time: 0.014387845993041992s\n"
     ]
    },
    {
     "name": "stderr",
     "output_type": "stream",
     "text": [
      " 43%|███████████████████████████████████████████████████████████████████████████████████████▌                                                                                                                      | 128/301 [06:56<08:24,  2.91s/it]"
     ]
    },
    {
     "name": "stdout",
     "output_type": "stream",
     "text": [
      "check-candidates Time: 0.026218891143798828s\n"
     ]
    },
    {
     "name": "stderr",
     "output_type": "stream",
     "text": [
      " 43%|████████████████████████████████████████████████████████████████████████████████████████▎                                                                                                                     | 129/301 [06:58<08:17,  2.89s/it]"
     ]
    },
    {
     "name": "stdout",
     "output_type": "stream",
     "text": [
      "check-candidates Time: 0.01757192611694336s\n"
     ]
    },
    {
     "name": "stderr",
     "output_type": "stream",
     "text": [
      " 43%|████████████████████████████████████████████████████████████████████████████████████████▉                                                                                                                     | 130/301 [07:01<08:15,  2.90s/it]"
     ]
    },
    {
     "name": "stdout",
     "output_type": "stream",
     "text": [
      "check-candidates Time: 0.009443998336791992s\n"
     ]
    },
    {
     "name": "stderr",
     "output_type": "stream",
     "text": [
      " 44%|██████████████████████████████████████████████████████████████████████████████████████████▎                                                                                                                   | 132/301 [07:04<06:08,  2.18s/it]"
     ]
    },
    {
     "name": "stdout",
     "output_type": "stream",
     "text": [
      "check-candidates Time: 0.016208887100219727s\n"
     ]
    },
    {
     "name": "stderr",
     "output_type": "stream",
     "text": [
      " 44%|███████████████████████████████████████████████████████████████████████████████████████████                                                                                                                   | 133/301 [07:08<07:03,  2.52s/it]"
     ]
    },
    {
     "name": "stdout",
     "output_type": "stream",
     "text": [
      "check-candidates Time: 0.009155035018920898s\n"
     ]
    },
    {
     "name": "stderr",
     "output_type": "stream",
     "text": [
      " 45%|███████████████████████████████████████████████████████████████████████████████████████████▋                                                                                                                  | 134/301 [07:11<07:37,  2.74s/it]"
     ]
    },
    {
     "name": "stdout",
     "output_type": "stream",
     "text": [
      "check-candidates Time: 0.010396957397460938s\n"
     ]
    },
    {
     "name": "stderr",
     "output_type": "stream",
     "text": [
      " 45%|████████████████████████████████████████████████████████████████████████████████████████████▍                                                                                                                 | 135/301 [07:14<08:01,  2.90s/it]"
     ]
    },
    {
     "name": "stdout",
     "output_type": "stream",
     "text": [
      "check-candidates Time: 0.027265071868896484s\n"
     ]
    },
    {
     "name": "stderr",
     "output_type": "stream",
     "text": [
      " 45%|█████████████████████████████████████████████████████████████████████████████████████████████                                                                                                                 | 136/301 [07:20<10:20,  3.76s/it]"
     ]
    },
    {
     "name": "stdout",
     "output_type": "stream",
     "text": [
      "check-candidates Time: 0.021914005279541016s\n"
     ]
    },
    {
     "name": "stderr",
     "output_type": "stream",
     "text": [
      " 46%|█████████████████████████████████████████████████████████████████████████████████████████████▊                                                                                                                | 137/301 [07:25<10:51,  3.98s/it]"
     ]
    },
    {
     "name": "stdout",
     "output_type": "stream",
     "text": [
      "check-candidates Time: 0.01533198356628418s\n"
     ]
    },
    {
     "name": "stderr",
     "output_type": "stream",
     "text": [
      " 46%|██████████████████████████████████████████████████████████████████████████████████████████████▍                                                                                                               | 138/301 [07:30<12:05,  4.45s/it]"
     ]
    },
    {
     "name": "stdout",
     "output_type": "stream",
     "text": [
      "check-candidates Time: 0.008497238159179688s\n"
     ]
    },
    {
     "name": "stderr",
     "output_type": "stream",
     "text": [
      " 46%|███████████████████████████████████████████████████████████████████████████████████████████████▏                                                                                                              | 139/301 [07:35<12:22,  4.58s/it]"
     ]
    },
    {
     "name": "stdout",
     "output_type": "stream",
     "text": [
      "check-candidates Time: 0.011006832122802734s\n"
     ]
    },
    {
     "name": "stderr",
     "output_type": "stream",
     "text": [
      " 47%|███████████████████████████████████████████████████████████████████████████████████████████████▊                                                                                                              | 140/301 [07:40<12:42,  4.73s/it]"
     ]
    },
    {
     "name": "stdout",
     "output_type": "stream",
     "text": [
      "check-candidates Time: 0.02190399169921875s\n"
     ]
    },
    {
     "name": "stderr",
     "output_type": "stream",
     "text": [
      " 47%|████████████████████████████████████████████████████████████████████████████████████████████████▍                                                                                                             | 141/301 [07:45<12:12,  4.58s/it]"
     ]
    },
    {
     "name": "stdout",
     "output_type": "stream",
     "text": [
      "check-candidates Time: 0.008821964263916016s\n"
     ]
    },
    {
     "name": "stderr",
     "output_type": "stream",
     "text": [
      " 47%|█████████████████████████████████████████████████████████████████████████████████████████████████▏                                                                                                            | 142/301 [07:49<12:21,  4.67s/it]"
     ]
    },
    {
     "name": "stdout",
     "output_type": "stream",
     "text": [
      "check-candidates Time: 0.009103059768676758s\n"
     ]
    },
    {
     "name": "stderr",
     "output_type": "stream",
     "text": [
      " 48%|█████████████████████████████████████████████████████████████████████████████████████████████████▊                                                                                                            | 143/301 [07:53<11:48,  4.49s/it]"
     ]
    },
    {
     "name": "stdout",
     "output_type": "stream",
     "text": [
      "check-candidates Time: 0.008056879043579102s\n"
     ]
    },
    {
     "name": "stderr",
     "output_type": "stream",
     "text": [
      " 48%|██████████████████████████████████████████████████████████████████████████████████████████████████▌                                                                                                           | 144/301 [07:56<10:20,  3.95s/it]"
     ]
    },
    {
     "name": "stdout",
     "output_type": "stream",
     "text": [
      "check-candidates Time: 0.010193824768066406s\n"
     ]
    },
    {
     "name": "stderr",
     "output_type": "stream",
     "text": [
      " 48%|███████████████████████████████████████████████████████████████████████████████████████████████████▏                                                                                                          | 145/301 [08:00<10:26,  4.01s/it]"
     ]
    },
    {
     "name": "stdout",
     "output_type": "stream",
     "text": [
      "check-candidates Time: 0.014611005783081055s\n"
     ]
    },
    {
     "name": "stderr",
     "output_type": "stream",
     "text": [
      " 49%|███████████████████████████████████████████████████████████████████████████████████████████████████▉                                                                                                          | 146/301 [08:03<09:24,  3.64s/it]"
     ]
    },
    {
     "name": "stdout",
     "output_type": "stream",
     "text": [
      "check-candidates Time: 0.007505893707275391s\n"
     ]
    },
    {
     "name": "stderr",
     "output_type": "stream",
     "text": [
      " 49%|████████████████████████████████████████████████████████████████████████████████████████████████████▌                                                                                                         | 147/301 [08:05<08:15,  3.22s/it]"
     ]
    },
    {
     "name": "stdout",
     "output_type": "stream",
     "text": [
      "check-candidates Time: 0.016740083694458008s\n"
     ]
    },
    {
     "name": "stderr",
     "output_type": "stream",
     "text": [
      " 50%|█████████████████████████████████████████████████████████████████████████████████████████████████████▉                                                                                                        | 149/301 [08:08<05:51,  2.31s/it]"
     ]
    },
    {
     "name": "stdout",
     "output_type": "stream",
     "text": [
      "check-candidates Time: 0.014857053756713867s\n"
     ]
    },
    {
     "name": "stderr",
     "output_type": "stream",
     "text": [
      " 50%|██████████████████████████████████████████████████████████████████████████████████████████████████████▋                                                                                                       | 150/301 [08:11<06:12,  2.47s/it]"
     ]
    },
    {
     "name": "stdout",
     "output_type": "stream",
     "text": [
      "check-candidates Time: 0.009843826293945312s\n"
     ]
    },
    {
     "name": "stderr",
     "output_type": "stream",
     "text": [
      " 50%|███████████████████████████████████████████████████████████████████████████████████████████████████████▎                                                                                                      | 151/301 [08:13<06:00,  2.40s/it]"
     ]
    },
    {
     "name": "stdout",
     "output_type": "stream",
     "text": [
      "check-candidates Time: 0.009690999984741211s\n"
     ]
    },
    {
     "name": "stderr",
     "output_type": "stream",
     "text": [
      " 50%|████████████████████████████████████████████████████████████████████████████████████████████████████████                                                                                                      | 152/301 [08:15<05:54,  2.38s/it]"
     ]
    },
    {
     "name": "stdout",
     "output_type": "stream",
     "text": [
      "check-candidates Time: 0.01614689826965332s\n"
     ]
    },
    {
     "name": "stderr",
     "output_type": "stream",
     "text": [
      " 51%|████████████████████████████████████████████████████████████████████████████████████████████████████████▋                                                                                                     | 153/301 [08:18<05:54,  2.40s/it]"
     ]
    },
    {
     "name": "stdout",
     "output_type": "stream",
     "text": [
      "check-candidates Time: 0.010381937026977539s\n"
     ]
    },
    {
     "name": "stderr",
     "output_type": "stream",
     "text": [
      " 51%|█████████████████████████████████████████████████████████████████████████████████████████████████████████▍                                                                                                    | 154/301 [08:20<05:50,  2.38s/it]"
     ]
    },
    {
     "name": "stdout",
     "output_type": "stream",
     "text": [
      "check-candidates Time: 0.01459503173828125s\n"
     ]
    },
    {
     "name": "stderr",
     "output_type": "stream",
     "text": [
      " 51%|██████████████████████████████████████████████████████████████████████████████████████████████████████████                                                                                                    | 155/301 [08:23<05:48,  2.38s/it]"
     ]
    },
    {
     "name": "stdout",
     "output_type": "stream",
     "text": [
      "check-candidates Time: 0.009231090545654297s\n"
     ]
    },
    {
     "name": "stderr",
     "output_type": "stream",
     "text": [
      " 52%|██████████████████████████████████████████████████████████████████████████████████████████████████████████▊                                                                                                   | 156/301 [08:25<05:43,  2.37s/it]"
     ]
    },
    {
     "name": "stdout",
     "output_type": "stream",
     "text": [
      "check-candidates Time: 0.012648820877075195s\n"
     ]
    },
    {
     "name": "stderr",
     "output_type": "stream",
     "text": [
      " 52%|███████████████████████████████████████████████████████████████████████████████████████████████████████████▍                                                                                                  | 157/301 [08:27<05:41,  2.37s/it]"
     ]
    },
    {
     "name": "stdout",
     "output_type": "stream",
     "text": [
      "check-candidates Time: 0.01654505729675293s\n"
     ]
    },
    {
     "name": "stderr",
     "output_type": "stream",
     "text": [
      " 52%|████████████████████████████████████████████████████████████████████████████████████████████████████████████▏                                                                                                 | 158/301 [08:30<05:41,  2.39s/it]"
     ]
    },
    {
     "name": "stdout",
     "output_type": "stream",
     "text": [
      "check-candidates Time: 0.012091875076293945s\n"
     ]
    },
    {
     "name": "stderr",
     "output_type": "stream",
     "text": [
      " 53%|████████████████████████████████████████████████████████████████████████████████████████████████████████████▊                                                                                                 | 159/301 [08:32<05:39,  2.39s/it]"
     ]
    },
    {
     "name": "stdout",
     "output_type": "stream",
     "text": [
      "check-candidates Time: 0.008394956588745117s\n"
     ]
    },
    {
     "name": "stderr",
     "output_type": "stream",
     "text": [
      " 53%|█████████████████████████████████████████████████████████████████████████████████████████████████████████████▌                                                                                                | 160/301 [08:34<05:34,  2.37s/it]"
     ]
    },
    {
     "name": "stdout",
     "output_type": "stream",
     "text": [
      "check-candidates Time: 0.011028051376342773s\n"
     ]
    },
    {
     "name": "stderr",
     "output_type": "stream",
     "text": [
      " 53%|██████████████████████████████████████████████████████████████████████████████████████████████████████████████▏                                                                                               | 161/301 [08:37<05:32,  2.37s/it]"
     ]
    },
    {
     "name": "stdout",
     "output_type": "stream",
     "text": [
      "check-candidates Time: 0.04136800765991211s\n"
     ]
    },
    {
     "name": "stderr",
     "output_type": "stream",
     "text": [
      " 54%|██████████████████████████████████████████████████████████████████████████████████████████████████████████████▊                                                                                               | 162/301 [08:39<05:36,  2.42s/it]"
     ]
    },
    {
     "name": "stdout",
     "output_type": "stream",
     "text": [
      "check-candidates Time: 0.007611751556396484s\n"
     ]
    },
    {
     "name": "stderr",
     "output_type": "stream",
     "text": [
      " 54%|███████████████████████████████████████████████████████████████████████████████████████████████████████████████▌                                                                                              | 163/301 [08:42<05:32,  2.41s/it]"
     ]
    },
    {
     "name": "stdout",
     "output_type": "stream",
     "text": [
      "check-candidates Time: 0.012330055236816406s\n"
     ]
    },
    {
     "name": "stderr",
     "output_type": "stream",
     "text": [
      " 54%|████████████████████████████████████████████████████████████████████████████████████████████████████████████████▏                                                                                             | 164/301 [08:44<05:27,  2.39s/it]"
     ]
    },
    {
     "name": "stdout",
     "output_type": "stream",
     "text": [
      "check-candidates Time: 0.013105154037475586s\n"
     ]
    },
    {
     "name": "stderr",
     "output_type": "stream",
     "text": [
      " 55%|████████████████████████████████████████████████████████████████████████████████████████████████████████████████▉                                                                                             | 165/301 [08:46<05:23,  2.38s/it]"
     ]
    },
    {
     "name": "stdout",
     "output_type": "stream",
     "text": [
      "check-candidates Time: 0.01587367057800293s\n"
     ]
    },
    {
     "name": "stderr",
     "output_type": "stream",
     "text": [
      " 55%|█████████████████████████████████████████████████████████████████████████████████████████████████████████████████▌                                                                                            | 166/301 [08:49<05:20,  2.37s/it]"
     ]
    },
    {
     "name": "stdout",
     "output_type": "stream",
     "text": [
      "check-candidates Time: 0.008170843124389648s\n"
     ]
    },
    {
     "name": "stderr",
     "output_type": "stream",
     "text": [
      " 55%|██████████████████████████████████████████████████████████████████████████████████████████████████████████████████▎                                                                                           | 167/301 [08:51<05:14,  2.35s/it]"
     ]
    },
    {
     "name": "stdout",
     "output_type": "stream",
     "text": [
      "check-candidates Time: 0.011294126510620117s\n"
     ]
    },
    {
     "name": "stderr",
     "output_type": "stream",
     "text": [
      " 56%|██████████████████████████████████████████████████████████████████████████████████████████████████████████████████▉                                                                                           | 168/301 [08:53<05:09,  2.33s/it]"
     ]
    },
    {
     "name": "stdout",
     "output_type": "stream",
     "text": [
      "check-candidates Time: 0.01504206657409668s\n"
     ]
    },
    {
     "name": "stderr",
     "output_type": "stream",
     "text": [
      " 56%|███████████████████████████████████████████████████████████████████████████████████████████████████████████████████▋                                                                                          | 169/301 [08:56<05:05,  2.31s/it]"
     ]
    },
    {
     "name": "stdout",
     "output_type": "stream",
     "text": [
      "check-candidates Time: 0.015089988708496094s\n"
     ]
    },
    {
     "name": "stderr",
     "output_type": "stream",
     "text": [
      " 56%|████████████████████████████████████████████████████████████████████████████████████████████████████████████████████▎                                                                                         | 170/301 [08:58<05:01,  2.30s/it]"
     ]
    },
    {
     "name": "stdout",
     "output_type": "stream",
     "text": [
      "check-candidates Time: 0.010205984115600586s\n"
     ]
    },
    {
     "name": "stderr",
     "output_type": "stream",
     "text": [
      " 57%|█████████████████████████████████████████████████████████████████████████████████████████████████████████████████████                                                                                         | 171/301 [09:00<04:55,  2.27s/it]"
     ]
    },
    {
     "name": "stdout",
     "output_type": "stream",
     "text": [
      "check-candidates Time: 0.015442848205566406s\n"
     ]
    },
    {
     "name": "stderr",
     "output_type": "stream",
     "text": [
      " 57%|█████████████████████████████████████████████████████████████████████████████████████████████████████████████████████▋                                                                                        | 172/301 [09:02<04:51,  2.26s/it]"
     ]
    },
    {
     "name": "stdout",
     "output_type": "stream",
     "text": [
      "check-candidates Time: 0.007608890533447266s\n"
     ]
    },
    {
     "name": "stderr",
     "output_type": "stream",
     "text": [
      " 57%|██████████████████████████████████████████████████████████████████████████████████████████████████████████████████████▍                                                                                       | 173/301 [09:04<04:44,  2.22s/it]"
     ]
    },
    {
     "name": "stdout",
     "output_type": "stream",
     "text": [
      "check-candidates Time: 0.013439178466796875s\n"
     ]
    },
    {
     "name": "stderr",
     "output_type": "stream",
     "text": [
      " 58%|███████████████████████████████████████████████████████████████████████████████████████████████████████████████████████                                                                                       | 174/301 [09:07<04:38,  2.19s/it]"
     ]
    },
    {
     "name": "stdout",
     "output_type": "stream",
     "text": [
      "check-candidates Time: 0.00747990608215332s\n"
     ]
    },
    {
     "name": "stderr",
     "output_type": "stream",
     "text": [
      " 58%|███████████████████████████████████████████████████████████████████████████████████████████████████████████████████████▊                                                                                      | 175/301 [09:09<04:32,  2.16s/it]"
     ]
    },
    {
     "name": "stdout",
     "output_type": "stream",
     "text": [
      "check-candidates Time: 0.013628959655761719s\n"
     ]
    },
    {
     "name": "stderr",
     "output_type": "stream",
     "text": [
      " 58%|████████████████████████████████████████████████████████████████████████████████████████████████████████████████████████▍                                                                                     | 176/301 [09:11<04:35,  2.20s/it]"
     ]
    },
    {
     "name": "stdout",
     "output_type": "stream",
     "text": [
      "check-candidates Time: 0.007354021072387695s\n"
     ]
    },
    {
     "name": "stderr",
     "output_type": "stream",
     "text": [
      " 59%|█████████████████████████████████████████████████████████████████████████████████████████████████████████████████████████▏                                                                                    | 177/301 [09:13<04:27,  2.16s/it]"
     ]
    },
    {
     "name": "stdout",
     "output_type": "stream",
     "text": [
      "check-candidates Time: 0.007748842239379883s\n"
     ]
    },
    {
     "name": "stderr",
     "output_type": "stream",
     "text": [
      " 59%|█████████████████████████████████████████████████████████████████████████████████████████████████████████████████████████▊                                                                                    | 178/301 [09:15<04:21,  2.13s/it]"
     ]
    },
    {
     "name": "stdout",
     "output_type": "stream",
     "text": [
      "check-candidates Time: 0.013679981231689453s\n"
     ]
    },
    {
     "name": "stderr",
     "output_type": "stream",
     "text": [
      " 59%|██████████████████████████████████████████████████████████████████████████████████████████████████████████████████████████▌                                                                                   | 179/301 [09:17<04:17,  2.11s/it]"
     ]
    },
    {
     "name": "stdout",
     "output_type": "stream",
     "text": [
      "check-candidates Time: 0.006920814514160156s\n"
     ]
    },
    {
     "name": "stderr",
     "output_type": "stream",
     "text": [
      " 60%|███████████████████████████████████████████████████████████████████████████████████████████████████████████████████████████▏                                                                                  | 180/301 [09:19<04:12,  2.09s/it]"
     ]
    },
    {
     "name": "stdout",
     "output_type": "stream",
     "text": [
      "check-candidates Time: 0.014272689819335938s\n"
     ]
    },
    {
     "name": "stderr",
     "output_type": "stream",
     "text": [
      " 60%|███████████████████████████████████████████████████████████████████████████████████████████████████████████████████████████▊                                                                                  | 181/301 [09:21<04:10,  2.09s/it]"
     ]
    },
    {
     "name": "stdout",
     "output_type": "stream",
     "text": [
      "check-candidates Time: 0.014590024948120117s\n"
     ]
    },
    {
     "name": "stderr",
     "output_type": "stream",
     "text": [
      " 60%|████████████████████████████████████████████████████████████████████████████████████████████████████████████████████████████▌                                                                                 | 182/301 [09:23<04:13,  2.13s/it]"
     ]
    },
    {
     "name": "stdout",
     "output_type": "stream",
     "text": [
      "check-candidates Time: 0.006915092468261719s\n"
     ]
    },
    {
     "name": "stderr",
     "output_type": "stream",
     "text": [
      " 61%|█████████████████████████████████████████████████████████████████████████████████████████████████████████████████████████████▏                                                                                | 183/301 [09:26<04:10,  2.12s/it]"
     ]
    },
    {
     "name": "stdout",
     "output_type": "stream",
     "text": [
      "check-candidates Time: 0.014189004898071289s\n"
     ]
    },
    {
     "name": "stderr",
     "output_type": "stream",
     "text": [
      " 61%|█████████████████████████████████████████████████████████████████████████████████████████████████████████████████████████████▉                                                                                | 184/301 [09:28<04:08,  2.13s/it]"
     ]
    },
    {
     "name": "stdout",
     "output_type": "stream",
     "text": [
      "check-candidates Time: 0.014398813247680664s\n"
     ]
    },
    {
     "name": "stderr",
     "output_type": "stream",
     "text": [
      " 61%|██████████████████████████████████████████████████████████████████████████████████████████████████████████████████████████████▌                                                                               | 185/301 [09:30<04:07,  2.13s/it]"
     ]
    },
    {
     "name": "stdout",
     "output_type": "stream",
     "text": [
      "check-candidates Time: 0.021676063537597656s\n"
     ]
    },
    {
     "name": "stderr",
     "output_type": "stream",
     "text": [
      " 62%|███████████████████████████████████████████████████████████████████████████████████████████████████████████████████████████████▎                                                                              | 186/301 [09:32<04:09,  2.17s/it]"
     ]
    },
    {
     "name": "stdout",
     "output_type": "stream",
     "text": [
      "check-candidates Time: 0.01586604118347168s\n"
     ]
    },
    {
     "name": "stderr",
     "output_type": "stream",
     "text": [
      " 62%|███████████████████████████████████████████████████████████████████████████████████████████████████████████████████████████████▉                                                                              | 187/301 [09:35<04:15,  2.24s/it]"
     ]
    },
    {
     "name": "stdout",
     "output_type": "stream",
     "text": [
      "check-candidates Time: 0.013293027877807617s\n"
     ]
    },
    {
     "name": "stderr",
     "output_type": "stream",
     "text": [
      " 62%|████████████████████████████████████████████████████████████████████████████████████████████████████████████████████████████████▋                                                                             | 188/301 [09:37<04:36,  2.44s/it]"
     ]
    },
    {
     "name": "stdout",
     "output_type": "stream",
     "text": [
      "check-candidates Time: 0.014870166778564453s\n"
     ]
    },
    {
     "name": "stderr",
     "output_type": "stream",
     "text": [
      " 63%|█████████████████████████████████████████████████████████████████████████████████████████████████████████████████████████████████▎                                                                            | 189/301 [09:40<04:25,  2.37s/it]"
     ]
    },
    {
     "name": "stdout",
     "output_type": "stream",
     "text": [
      "check-candidates Time: 0.010859966278076172s\n"
     ]
    },
    {
     "name": "stderr",
     "output_type": "stream",
     "text": [
      " 63%|██████████████████████████████████████████████████████████████████████████████████████████████████████████████████████████████████                                                                            | 190/301 [09:43<05:07,  2.77s/it]"
     ]
    },
    {
     "name": "stdout",
     "output_type": "stream",
     "text": [
      "check-candidates Time: 0.011126041412353516s\n"
     ]
    },
    {
     "name": "stderr",
     "output_type": "stream",
     "text": [
      " 63%|██████████████████████████████████████████████████████████████████████████████████████████████████████████████████████████████████▋                                                                           | 191/301 [09:48<06:14,  3.41s/it]"
     ]
    },
    {
     "name": "stdout",
     "output_type": "stream",
     "text": [
      "check-candidates Time: 0.01613020896911621s\n"
     ]
    },
    {
     "name": "stderr",
     "output_type": "stream",
     "text": [
      " 64%|███████████████████████████████████████████████████████████████████████████████████████████████████████████████████████████████████▍                                                                          | 192/301 [09:52<06:26,  3.54s/it]"
     ]
    },
    {
     "name": "stdout",
     "output_type": "stream",
     "text": [
      "check-candidates Time: 0.008878946304321289s\n"
     ]
    },
    {
     "name": "stderr",
     "output_type": "stream",
     "text": [
      " 64%|████████████████████████████████████████████████████████████████████████████████████████████████████████████████████████████████████                                                                          | 193/301 [09:57<07:16,  4.04s/it]"
     ]
    },
    {
     "name": "stdout",
     "output_type": "stream",
     "text": [
      "check-candidates Time: 0.008060216903686523s\n"
     ]
    },
    {
     "name": "stderr",
     "output_type": "stream",
     "text": [
      " 64%|████████████████████████████████████████████████████████████████████████████████████████████████████████████████████████████████████▊                                                                         | 194/301 [10:01<07:13,  4.05s/it]"
     ]
    },
    {
     "name": "stdout",
     "output_type": "stream",
     "text": [
      "check-candidates Time: 0.010610103607177734s\n"
     ]
    },
    {
     "name": "stderr",
     "output_type": "stream",
     "text": [
      " 65%|█████████████████████████████████████████████████████████████████████████████████████████████████████████████████████████████████████▍                                                                        | 195/301 [10:06<07:36,  4.31s/it]"
     ]
    },
    {
     "name": "stdout",
     "output_type": "stream",
     "text": [
      "check-candidates Time: 0.013757944107055664s\n"
     ]
    },
    {
     "name": "stderr",
     "output_type": "stream",
     "text": [
      " 65%|██████████████████████████████████████████████████████████████████████████████████████████████████████████████████████████████████████▏                                                                       | 196/301 [10:10<07:21,  4.21s/it]"
     ]
    },
    {
     "name": "stdout",
     "output_type": "stream",
     "text": [
      "check-candidates Time: 0.014753103256225586s\n"
     ]
    },
    {
     "name": "stderr",
     "output_type": "stream",
     "text": [
      " 65%|██████████████████████████████████████████████████████████████████████████████████████████████████████████████████████████████████████▊                                                                       | 197/301 [10:13<06:45,  3.89s/it]"
     ]
    },
    {
     "name": "stdout",
     "output_type": "stream",
     "text": [
      "check-candidates Time: 0.015517950057983398s\n"
     ]
    },
    {
     "name": "stderr",
     "output_type": "stream",
     "text": [
      " 66%|███████████████████████████████████████████████████████████████████████████████████████████████████████████████████████████████████████▌                                                                      | 198/301 [10:17<06:19,  3.68s/it]"
     ]
    },
    {
     "name": "stdout",
     "output_type": "stream",
     "text": [
      "check-candidates Time: 0.007665872573852539s\n"
     ]
    },
    {
     "name": "stderr",
     "output_type": "stream",
     "text": [
      " 66%|████████████████████████████████████████████████████████████████████████████████████████████████████████████████████████████████████████▏                                                                     | 199/301 [10:19<05:32,  3.26s/it]"
     ]
    },
    {
     "name": "stdout",
     "output_type": "stream",
     "text": [
      "check-candidates Time: 0.015053033828735352s\n"
     ]
    },
    {
     "name": "stderr",
     "output_type": "stream",
     "text": [
      " 66%|████████████████████████████████████████████████████████████████████████████████████████████████████████████████████████████████████████▉                                                                     | 200/301 [10:21<04:59,  2.97s/it]"
     ]
    },
    {
     "name": "stdout",
     "output_type": "stream",
     "text": [
      "check-candidates Time: 0.014914751052856445s\n"
     ]
    },
    {
     "name": "stderr",
     "output_type": "stream",
     "text": [
      " 67%|█████████████████████████████████████████████████████████████████████████████████████████████████████████████████████████████████████████▌                                                                    | 201/301 [10:23<04:37,  2.78s/it]"
     ]
    },
    {
     "name": "stdout",
     "output_type": "stream",
     "text": [
      "check-candidates Time: 0.008690834045410156s\n"
     ]
    },
    {
     "name": "stderr",
     "output_type": "stream",
     "text": [
      " 67%|██████████████████████████████████████████████████████████████████████████████████████████████████████████████████████████████████████████▏                                                                   | 202/301 [10:27<05:04,  3.07s/it]"
     ]
    },
    {
     "name": "stdout",
     "output_type": "stream",
     "text": [
      "check-candidates Time: 0.0075190067291259766s\n"
     ]
    },
    {
     "name": "stderr",
     "output_type": "stream",
     "text": [
      " 67%|██████████████████████████████████████████████████████████████████████████████████████████████████████████████████████████████████████████▉                                                                   | 203/301 [10:30<05:03,  3.10s/it]"
     ]
    },
    {
     "name": "stdout",
     "output_type": "stream",
     "text": [
      "check-candidates Time: 0.012712955474853516s\n"
     ]
    },
    {
     "name": "stderr",
     "output_type": "stream",
     "text": [
      " 68%|███████████████████████████████████████████████████████████████████████████████████████████████████████████████████████████████████████████▌                                                                  | 204/301 [10:33<04:35,  2.84s/it]"
     ]
    },
    {
     "name": "stdout",
     "output_type": "stream",
     "text": [
      "check-candidates Time: 0.012481927871704102s\n"
     ]
    },
    {
     "name": "stderr",
     "output_type": "stream",
     "text": [
      " 68%|████████████████████████████████████████████████████████████████████████████████████████████████████████████████████████████████████████████▎                                                                 | 205/301 [10:35<04:27,  2.79s/it]"
     ]
    },
    {
     "name": "stdout",
     "output_type": "stream",
     "text": [
      "check-candidates Time: 0.014104843139648438s\n"
     ]
    },
    {
     "name": "stderr",
     "output_type": "stream",
     "text": [
      " 68%|████████████████████████████████████████████████████████████████████████████████████████████████████████████████████████████████████████████▉                                                                 | 206/301 [10:38<04:21,  2.75s/it]"
     ]
    },
    {
     "name": "stdout",
     "output_type": "stream",
     "text": [
      "check-candidates Time: 0.007594108581542969s\n"
     ]
    },
    {
     "name": "stderr",
     "output_type": "stream",
     "text": [
      " 69%|█████████████████████████████████████████████████████████████████████████████████████████████████████████████████████████████████████████████▋                                                                | 207/301 [10:40<04:00,  2.56s/it]"
     ]
    },
    {
     "name": "stdout",
     "output_type": "stream",
     "text": [
      "check-candidates Time: 0.013663053512573242s\n"
     ]
    },
    {
     "name": "stderr",
     "output_type": "stream",
     "text": [
      " 69%|██████████████████████████████████████████████████████████████████████████████████████████████████████████████████████████████████████████████▎                                                               | 208/301 [10:42<03:45,  2.43s/it]"
     ]
    },
    {
     "name": "stdout",
     "output_type": "stream",
     "text": [
      "check-candidates Time: 0.013391971588134766s\n"
     ]
    },
    {
     "name": "stderr",
     "output_type": "stream",
     "text": [
      " 69%|███████████████████████████████████████████████████████████████████████████████████████████████████████████████████████████████████████████████                                                               | 209/301 [10:44<03:35,  2.34s/it]"
     ]
    },
    {
     "name": "stdout",
     "output_type": "stream",
     "text": [
      "check-candidates Time: 0.013557672500610352s\n"
     ]
    },
    {
     "name": "stderr",
     "output_type": "stream",
     "text": [
      " 70%|███████████████████████████████████████████████████████████████████████████████████████████████████████████████████████████████████████████████▋                                                              | 210/301 [10:47<03:35,  2.37s/it]"
     ]
    },
    {
     "name": "stdout",
     "output_type": "stream",
     "text": [
      "check-candidates Time: 0.010522842407226562s\n"
     ]
    },
    {
     "name": "stderr",
     "output_type": "stream",
     "text": [
      " 70%|████████████████████████████████████████████████████████████████████████████████████████████████████████████████████████████████████████████████▍                                                             | 211/301 [10:49<03:27,  2.31s/it]"
     ]
    },
    {
     "name": "stdout",
     "output_type": "stream",
     "text": [
      "check-candidates Time: 0.010905027389526367s\n"
     ]
    },
    {
     "name": "stderr",
     "output_type": "stream",
     "text": [
      " 70%|█████████████████████████████████████████████████████████████████████████████████████████████████████████████████████████████████████████████████                                                             | 212/301 [10:51<03:20,  2.25s/it]"
     ]
    },
    {
     "name": "stdout",
     "output_type": "stream",
     "text": [
      "check-candidates Time: 0.019632816314697266s\n"
     ]
    },
    {
     "name": "stderr",
     "output_type": "stream",
     "text": [
      " 71%|█████████████████████████████████████████████████████████████████████████████████████████████████████████████████████████████████████████████████▊                                                            | 213/301 [10:53<03:15,  2.23s/it]"
     ]
    },
    {
     "name": "stdout",
     "output_type": "stream",
     "text": [
      "check-candidates Time: 0.010591983795166016s\n"
     ]
    },
    {
     "name": "stderr",
     "output_type": "stream",
     "text": [
      " 71%|██████████████████████████████████████████████████████████████████████████████████████████████████████████████████████████████████████████████████▍                                                           | 214/301 [10:55<03:11,  2.20s/it]"
     ]
    },
    {
     "name": "stdout",
     "output_type": "stream",
     "text": [
      "check-candidates Time: 0.014549016952514648s\n"
     ]
    },
    {
     "name": "stderr",
     "output_type": "stream",
     "text": [
      " 71%|███████████████████████████████████████████████████████████████████████████████████████████████████████████████████████████████████████████████████▏                                                          | 215/301 [10:58<03:09,  2.20s/it]"
     ]
    },
    {
     "name": "stdout",
     "output_type": "stream",
     "text": [
      "check-candidates Time: 0.01010274887084961s\n"
     ]
    },
    {
     "name": "stderr",
     "output_type": "stream",
     "text": [
      " 72%|████████████████████████████████████████████████████████████████████████████████████████████████████████████████████████████████████████████████████▌                                                         | 217/301 [11:00<02:20,  1.67s/it]"
     ]
    },
    {
     "name": "stdout",
     "output_type": "stream",
     "text": [
      "check-candidates Time: 0.014310359954833984s\n"
     ]
    },
    {
     "name": "stderr",
     "output_type": "stream",
     "text": [
      " 73%|█████████████████████████████████████████████████████████████████████████████████████████████████████████████████████████████████████████████████████▉                                                        | 219/301 [11:02<01:56,  1.43s/it]"
     ]
    },
    {
     "name": "stdout",
     "output_type": "stream",
     "text": [
      "check-candidates Time: 0.0071620941162109375s\n"
     ]
    },
    {
     "name": "stderr",
     "output_type": "stream",
     "text": [
      " 73%|██████████████████████████████████████████████████████████████████████████████████████████████████████████████████████████████████████████████████████▌                                                       | 220/301 [11:04<02:06,  1.56s/it]"
     ]
    },
    {
     "name": "stdout",
     "output_type": "stream",
     "text": [
      "check-candidates Time: 0.013701915740966797s\n"
     ]
    },
    {
     "name": "stderr",
     "output_type": "stream",
     "text": [
      " 73%|███████████████████████████████████████████████████████████████████████████████████████████████████████████████████████████████████████████████████████▏                                                      | 221/301 [11:06<02:15,  1.70s/it]"
     ]
    },
    {
     "name": "stdout",
     "output_type": "stream",
     "text": [
      "check-candidates Time: 0.00690007209777832s\n"
     ]
    },
    {
     "name": "stderr",
     "output_type": "stream",
     "text": [
      " 74%|███████████████████████████████████████████████████████████████████████████████████████████████████████████████████████████████████████████████████████▉                                                      | 222/301 [11:08<02:21,  1.80s/it]"
     ]
    },
    {
     "name": "stdout",
     "output_type": "stream",
     "text": [
      "check-candidates Time: 0.011307001113891602s\n"
     ]
    },
    {
     "name": "stderr",
     "output_type": "stream",
     "text": [
      " 74%|████████████████████████████████████████████████████████████████████████████████████████████████████████████████████████████████████████████████████████▌                                                     | 223/301 [11:10<02:25,  1.87s/it]"
     ]
    },
    {
     "name": "stdout",
     "output_type": "stream",
     "text": [
      "check-candidates Time: 0.00671076774597168s\n"
     ]
    },
    {
     "name": "stderr",
     "output_type": "stream",
     "text": [
      " 74%|█████████████████████████████████████████████████████████████████████████████████████████████████████████████████████████████████████████████████████████▎                                                    | 224/301 [11:12<02:27,  1.91s/it]"
     ]
    },
    {
     "name": "stdout",
     "output_type": "stream",
     "text": [
      "check-candidates Time: 0.007541656494140625s\n"
     ]
    },
    {
     "name": "stderr",
     "output_type": "stream",
     "text": [
      " 75%|█████████████████████████████████████████████████████████████████████████████████████████████████████████████████████████████████████████████████████████▉                                                    | 225/301 [11:14<02:28,  1.95s/it]"
     ]
    },
    {
     "name": "stdout",
     "output_type": "stream",
     "text": [
      "check-candidates Time: 0.006735801696777344s\n"
     ]
    },
    {
     "name": "stderr",
     "output_type": "stream",
     "text": [
      " 75%|██████████████████████████████████████████████████████████████████████████████████████████████████████████████████████████████████████████████████████████▋                                                   | 226/301 [11:16<02:27,  1.97s/it]"
     ]
    },
    {
     "name": "stdout",
     "output_type": "stream",
     "text": [
      "check-candidates Time: 0.00687098503112793s\n"
     ]
    },
    {
     "name": "stderr",
     "output_type": "stream",
     "text": [
      " 76%|████████████████████████████████████████████████████████████████████████████████████████████████████████████████████████████████████████████████████████████                                                  | 228/301 [11:18<01:53,  1.56s/it]"
     ]
    },
    {
     "name": "stdout",
     "output_type": "stream",
     "text": [
      "check-candidates Time: 0.01574397087097168s\n"
     ]
    },
    {
     "name": "stderr",
     "output_type": "stream",
     "text": [
      " 76%|████████████████████████████████████████████████████████████████████████████████████████████████████████████████████████████████████████████████████████████▋                                                 | 229/301 [11:20<02:01,  1.69s/it]"
     ]
    },
    {
     "name": "stdout",
     "output_type": "stream",
     "text": [
      "check-candidates Time: 0.010608911514282227s\n"
     ]
    },
    {
     "name": "stderr",
     "output_type": "stream",
     "text": [
      " 76%|█████████████████████████████████████████████████████████████████████████████████████████████████████████████████████████████████████████████████████████████▍                                                | 230/301 [11:22<02:07,  1.79s/it]"
     ]
    },
    {
     "name": "stdout",
     "output_type": "stream",
     "text": [
      "check-candidates Time: 0.008007287979125977s\n"
     ]
    },
    {
     "name": "stderr",
     "output_type": "stream",
     "text": [
      " 77%|██████████████████████████████████████████████████████████████████████████████████████████████████████████████████████████████████████████████████████████████                                                | 231/301 [11:25<02:10,  1.87s/it]"
     ]
    },
    {
     "name": "stdout",
     "output_type": "stream",
     "text": [
      "check-candidates Time: 0.014348745346069336s\n"
     ]
    },
    {
     "name": "stderr",
     "output_type": "stream",
     "text": [
      " 77%|██████████████████████████████████████████████████████████████████████████████████████████████████████████████████████████████████████████████████████████████▊                                               | 232/301 [11:27<02:15,  1.96s/it]"
     ]
    },
    {
     "name": "stdout",
     "output_type": "stream",
     "text": [
      "check-candidates Time: 0.013989925384521484s\n"
     ]
    },
    {
     "name": "stderr",
     "output_type": "stream",
     "text": [
      " 77%|███████████████████████████████████████████████████████████████████████████████████████████████████████████████████████████████████████████████████████████████▍                                              | 233/301 [11:29<02:21,  2.08s/it]"
     ]
    },
    {
     "name": "stdout",
     "output_type": "stream",
     "text": [
      "check-candidates Time: 0.010748863220214844s\n"
     ]
    },
    {
     "name": "stderr",
     "output_type": "stream",
     "text": [
      " 78%|████████████████████████████████████████████████████████████████████████████████████████████████████████████████████████████████████████████████████████████████▏                                             | 234/301 [11:31<02:21,  2.12s/it]"
     ]
    },
    {
     "name": "stdout",
     "output_type": "stream",
     "text": [
      "check-candidates Time: 0.014554977416992188s\n"
     ]
    },
    {
     "name": "stderr",
     "output_type": "stream",
     "text": [
      " 78%|████████████████████████████████████████████████████████████████████████████████████████████████████████████████████████████████████████████████████████████████▊                                             | 235/301 [11:34<02:21,  2.14s/it]"
     ]
    },
    {
     "name": "stdout",
     "output_type": "stream",
     "text": [
      "check-candidates Time: 0.009427309036254883s\n"
     ]
    },
    {
     "name": "stderr",
     "output_type": "stream",
     "text": [
      " 78%|█████████████████████████████████████████████████████████████████████████████████████████████████████████████████████████████████████████████████████████████████▌                                            | 236/301 [11:36<02:19,  2.15s/it]"
     ]
    },
    {
     "name": "stdout",
     "output_type": "stream",
     "text": [
      "check-candidates Time: 0.015024185180664062s\n"
     ]
    },
    {
     "name": "stderr",
     "output_type": "stream",
     "text": [
      " 79%|██████████████████████████████████████████████████████████████████████████████████████████████████████████████████████████████████████████████████████████████████▏                                           | 237/301 [11:38<02:19,  2.18s/it]"
     ]
    },
    {
     "name": "stdout",
     "output_type": "stream",
     "text": [
      "check-candidates Time: 0.007195949554443359s\n"
     ]
    },
    {
     "name": "stderr",
     "output_type": "stream",
     "text": [
      " 79%|██████████████████████████████████████████████████████████████████████████████████████████████████████████████████████████████████████████████████████████████████▉                                           | 238/301 [11:40<02:19,  2.21s/it]"
     ]
    },
    {
     "name": "stdout",
     "output_type": "stream",
     "text": [
      "check-candidates Time: 0.014246225357055664s\n"
     ]
    },
    {
     "name": "stderr",
     "output_type": "stream",
     "text": [
      " 79%|███████████████████████████████████████████████████████████████████████████████████████████████████████████████████████████████████████████████████████████████████▌                                          | 239/301 [11:43<02:18,  2.24s/it]"
     ]
    },
    {
     "name": "stdout",
     "output_type": "stream",
     "text": [
      "check-candidates Time: 0.0073699951171875s\n"
     ]
    },
    {
     "name": "stderr",
     "output_type": "stream",
     "text": [
      " 80%|████████████████████████████████████████████████████████████████████████████████████████████████████████████████████████████████████████████████████████████████████▎                                         | 240/301 [11:45<02:17,  2.26s/it]"
     ]
    },
    {
     "name": "stdout",
     "output_type": "stream",
     "text": [
      "check-candidates Time: 0.011771917343139648s\n"
     ]
    },
    {
     "name": "stderr",
     "output_type": "stream",
     "text": [
      " 80%|████████████████████████████████████████████████████████████████████████████████████████████████████████████████████████████████████████████████████████████████████▉                                         | 241/301 [11:47<02:16,  2.27s/it]"
     ]
    },
    {
     "name": "stdout",
     "output_type": "stream",
     "text": [
      "check-candidates Time: 0.010802984237670898s\n"
     ]
    },
    {
     "name": "stderr",
     "output_type": "stream",
     "text": [
      " 80%|█████████████████████████████████████████████████████████████████████████████████████████████████████████████████████████████████████████████████████████████████████▌                                        | 242/301 [11:50<02:15,  2.30s/it]"
     ]
    },
    {
     "name": "stdout",
     "output_type": "stream",
     "text": [
      "check-candidates Time: 0.015486955642700195s\n"
     ]
    },
    {
     "name": "stderr",
     "output_type": "stream",
     "text": [
      " 81%|██████████████████████████████████████████████████████████████████████████████████████████████████████████████████████████████████████████████████████████████████████▎                                       | 243/301 [11:52<02:13,  2.31s/it]"
     ]
    },
    {
     "name": "stdout",
     "output_type": "stream",
     "text": [
      "check-candidates Time: 0.008000850677490234s\n"
     ]
    },
    {
     "name": "stderr",
     "output_type": "stream",
     "text": [
      " 81%|██████████████████████████████████████████████████████████████████████████████████████████████████████████████████████████████████████████████████████████████████████▉                                       | 244/301 [11:54<02:10,  2.30s/it]"
     ]
    },
    {
     "name": "stdout",
     "output_type": "stream",
     "text": [
      "check-candidates Time: 0.007216930389404297s\n"
     ]
    },
    {
     "name": "stderr",
     "output_type": "stream",
     "text": [
      " 81%|███████████████████████████████████████████████████████████████████████████████████████████████████████████████████████████████████████████████████████████████████████▋                                      | 245/301 [11:56<02:07,  2.28s/it]"
     ]
    },
    {
     "name": "stdout",
     "output_type": "stream",
     "text": [
      "check-candidates Time: 0.013855934143066406s\n"
     ]
    },
    {
     "name": "stderr",
     "output_type": "stream",
     "text": [
      " 82%|████████████████████████████████████████████████████████████████████████████████████████████████████████████████████████████████████████████████████████████████████████▎                                     | 246/301 [11:59<02:06,  2.29s/it]"
     ]
    },
    {
     "name": "stdout",
     "output_type": "stream",
     "text": [
      "check-candidates Time: 0.012173175811767578s\n"
     ]
    },
    {
     "name": "stderr",
     "output_type": "stream",
     "text": [
      " 82%|█████████████████████████████████████████████████████████████████████████████████████████████████████████████████████████████████████████████████████████████████████████                                     | 247/301 [12:01<02:03,  2.29s/it]"
     ]
    },
    {
     "name": "stdout",
     "output_type": "stream",
     "text": [
      "check-candidates Time: 0.013809919357299805s\n"
     ]
    },
    {
     "name": "stderr",
     "output_type": "stream",
     "text": [
      " 82%|█████████████████████████████████████████████████████████████████████████████████████████████████████████████████████████████████████████████████████████████████████████▋                                    | 248/301 [12:03<02:01,  2.29s/it]"
     ]
    },
    {
     "name": "stdout",
     "output_type": "stream",
     "text": [
      "check-candidates Time: 0.008477926254272461s\n"
     ]
    },
    {
     "name": "stderr",
     "output_type": "stream",
     "text": [
      " 83%|██████████████████████████████████████████████████████████████████████████████████████████████████████████████████████████████████████████████████████████████████████████▍                                   | 249/301 [12:05<01:58,  2.27s/it]"
     ]
    },
    {
     "name": "stdout",
     "output_type": "stream",
     "text": [
      "check-candidates Time: 0.013124942779541016s\n"
     ]
    },
    {
     "name": "stderr",
     "output_type": "stream",
     "text": [
      " 83%|███████████████████████████████████████████████████████████████████████████████████████████████████████████████████████████████████████████████████████████████████████████                                   | 250/301 [12:08<01:55,  2.27s/it]"
     ]
    },
    {
     "name": "stdout",
     "output_type": "stream",
     "text": [
      "check-candidates Time: 0.008854150772094727s\n"
     ]
    },
    {
     "name": "stderr",
     "output_type": "stream",
     "text": [
      " 83%|███████████████████████████████████████████████████████████████████████████████████████████████████████████████████████████████████████████████████████████████████████████▊                                  | 251/301 [12:11<02:09,  2.60s/it]"
     ]
    },
    {
     "name": "stdout",
     "output_type": "stream",
     "text": [
      "check-candidates Time: 0.007498979568481445s\n"
     ]
    },
    {
     "name": "stderr",
     "output_type": "stream",
     "text": [
      " 84%|████████████████████████████████████████████████████████████████████████████████████████████████████████████████████████████████████████████████████████████████████████████▍                                 | 252/301 [12:14<02:11,  2.69s/it]"
     ]
    },
    {
     "name": "stdout",
     "output_type": "stream",
     "text": [
      "check-candidates Time: 0.011661052703857422s\n"
     ]
    },
    {
     "name": "stderr",
     "output_type": "stream",
     "text": [
      " 84%|█████████████████████████████████████████████████████████████████████████████████████████████████████████████████████████████████████████████████████████████████████████████▏                                | 253/301 [12:16<02:01,  2.53s/it]"
     ]
    },
    {
     "name": "stdout",
     "output_type": "stream",
     "text": [
      "check-candidates Time: 0.010777950286865234s\n"
     ]
    },
    {
     "name": "stderr",
     "output_type": "stream",
     "text": [
      " 84%|█████████████████████████████████████████████████████████████████████████████████████████████████████████████████████████████████████████████████████████████████████████████▊                                | 254/301 [12:19<02:06,  2.70s/it]"
     ]
    },
    {
     "name": "stdout",
     "output_type": "stream",
     "text": [
      "check-candidates Time: 0.01827096939086914s\n"
     ]
    },
    {
     "name": "stderr",
     "output_type": "stream",
     "text": [
      " 85%|██████████████████████████████████████████████████████████████████████████████████████████████████████████████████████████████████████████████████████████████████████████████▌                               | 255/301 [12:24<02:32,  3.32s/it]"
     ]
    },
    {
     "name": "stdout",
     "output_type": "stream",
     "text": [
      "check-candidates Time: 0.010732173919677734s\n"
     ]
    },
    {
     "name": "stderr",
     "output_type": "stream",
     "text": [
      " 85%|███████████████████████████████████████████████████████████████████████████████████████████████████████████████████████████████████████████████████████████████████████████████▏                              | 256/301 [12:27<02:27,  3.27s/it]"
     ]
    },
    {
     "name": "stdout",
     "output_type": "stream",
     "text": [
      "check-candidates Time: 0.0075550079345703125s\n"
     ]
    },
    {
     "name": "stderr",
     "output_type": "stream",
     "text": [
      " 85%|███████████████████████████████████████████████████████████████████████████████████████████████████████████████████████████████████████████████████████████████████████████████▉                              | 257/301 [12:31<02:30,  3.43s/it]"
     ]
    },
    {
     "name": "stdout",
     "output_type": "stream",
     "text": [
      "check-candidates Time: 0.0213620662689209s\n"
     ]
    },
    {
     "name": "stderr",
     "output_type": "stream",
     "text": [
      " 86%|████████████████████████████████████████████████████████████████████████████████████████████████████████████████████████████████████████████████████████████████████████████████▌                             | 258/301 [12:35<02:35,  3.61s/it]"
     ]
    },
    {
     "name": "stdout",
     "output_type": "stream",
     "text": [
      "check-candidates Time: 0.01001596450805664s\n"
     ]
    },
    {
     "name": "stderr",
     "output_type": "stream",
     "text": [
      " 86%|█████████████████████████████████████████████████████████████████████████████████████████████████████████████████████████████████████████████████████████████████████████████████▎                            | 259/301 [12:38<02:25,  3.47s/it]"
     ]
    },
    {
     "name": "stdout",
     "output_type": "stream",
     "text": [
      "check-candidates Time: 0.007414102554321289s\n"
     ]
    },
    {
     "name": "stderr",
     "output_type": "stream",
     "text": [
      " 86%|█████████████████████████████████████████████████████████████████████████████████████████████████████████████████████████████████████████████████████████████████████████████████▉                            | 260/301 [12:42<02:26,  3.56s/it]"
     ]
    },
    {
     "name": "stdout",
     "output_type": "stream",
     "text": [
      "check-candidates Time: 0.00710606575012207s\n"
     ]
    },
    {
     "name": "stderr",
     "output_type": "stream",
     "text": [
      " 87%|██████████████████████████████████████████████████████████████████████████████████████████████████████████████████████████████████████████████████████████████████████████████████▌                           | 261/301 [12:45<02:16,  3.40s/it]"
     ]
    },
    {
     "name": "stdout",
     "output_type": "stream",
     "text": [
      "check-candidates Time: 0.010679006576538086s\n"
     ]
    },
    {
     "name": "stderr",
     "output_type": "stream",
     "text": [
      " 87%|███████████████████████████████████████████████████████████████████████████████████████████████████████████████████████████████████████████████████████████████████████████████████▎                          | 262/301 [12:47<01:57,  3.00s/it]"
     ]
    },
    {
     "name": "stdout",
     "output_type": "stream",
     "text": [
      "check-candidates Time: 0.012608051300048828s\n"
     ]
    },
    {
     "name": "stderr",
     "output_type": "stream",
     "text": [
      " 87%|███████████████████████████████████████████████████████████████████████████████████████████████████████████████████████████████████████████████████████████████████████████████████▉                          | 263/301 [12:49<01:43,  2.73s/it]"
     ]
    },
    {
     "name": "stdout",
     "output_type": "stream",
     "text": [
      "check-candidates Time: 0.007330179214477539s\n"
     ]
    },
    {
     "name": "stderr",
     "output_type": "stream",
     "text": [
      " 88%|████████████████████████████████████████████████████████████████████████████████████████████████████████████████████████████████████████████████████████████████████████████████████▋                         | 264/301 [12:51<01:34,  2.55s/it]"
     ]
    },
    {
     "name": "stdout",
     "output_type": "stream",
     "text": [
      "check-candidates Time: 0.007607221603393555s\n"
     ]
    },
    {
     "name": "stderr",
     "output_type": "stream",
     "text": [
      " 88%|█████████████████████████████████████████████████████████████████████████████████████████████████████████████████████████████████████████████████████████████████████████████████████▎                        | 265/301 [12:54<01:32,  2.56s/it]"
     ]
    },
    {
     "name": "stdout",
     "output_type": "stream",
     "text": [
      "check-candidates Time: 0.01064300537109375s\n"
     ]
    },
    {
     "name": "stderr",
     "output_type": "stream",
     "text": [
      " 88%|██████████████████████████████████████████████████████████████████████████████████████████████████████████████████████████████████████████████████████████████████████████████████████                        | 266/301 [12:56<01:25,  2.46s/it]"
     ]
    },
    {
     "name": "stdout",
     "output_type": "stream",
     "text": [
      "check-candidates Time: 0.02901291847229004s\n"
     ]
    },
    {
     "name": "stderr",
     "output_type": "stream",
     "text": [
      " 89%|██████████████████████████████████████████████████████████████████████████████████████████████████████████████████████████████████████████████████████████████████████████████████████▋                       | 267/301 [12:58<01:22,  2.42s/it]"
     ]
    },
    {
     "name": "stdout",
     "output_type": "stream",
     "text": [
      "check-candidates Time: 0.007982969284057617s\n"
     ]
    },
    {
     "name": "stderr",
     "output_type": "stream",
     "text": [
      " 89%|███████████████████████████████████████████████████████████████████████████████████████████████████████████████████████████████████████████████████████████████████████████████████████▍                      | 268/301 [13:01<01:17,  2.35s/it]"
     ]
    },
    {
     "name": "stdout",
     "output_type": "stream",
     "text": [
      "check-candidates Time: 0.016183137893676758s\n"
     ]
    },
    {
     "name": "stderr",
     "output_type": "stream",
     "text": [
      " 89%|████████████████████████████████████████████████████████████████████████████████████████████████████████████████████████████████████████████████████████████████████████████████████████                      | 269/301 [13:04<01:22,  2.57s/it]"
     ]
    },
    {
     "name": "stdout",
     "output_type": "stream",
     "text": [
      "check-candidates Time: 0.01071619987487793s\n"
     ]
    },
    {
     "name": "stderr",
     "output_type": "stream",
     "text": [
      " 90%|████████████████████████████████████████████████████████████████████████████████████████████████████████████████████████████████████████████████████████████████████████████████████████▊                     | 270/301 [13:06<01:17,  2.48s/it]"
     ]
    },
    {
     "name": "stdout",
     "output_type": "stream",
     "text": [
      "check-candidates Time: 0.006764888763427734s\n"
     ]
    },
    {
     "name": "stderr",
     "output_type": "stream",
     "text": [
      " 90%|█████████████████████████████████████████████████████████████████████████████████████████████████████████████████████████████████████████████████████████████████████████████████████████▍                    | 271/301 [13:08<01:10,  2.36s/it]"
     ]
    },
    {
     "name": "stdout",
     "output_type": "stream",
     "text": [
      "check-candidates Time: 0.006694793701171875s\n"
     ]
    },
    {
     "name": "stderr",
     "output_type": "stream",
     "text": [
      " 90%|██████████████████████████████████████████████████████████████████████████████████████████████████████████████████████████████████████████████████████████████████████████████████████████▏                   | 272/301 [13:10<01:05,  2.26s/it]"
     ]
    },
    {
     "name": "stdout",
     "output_type": "stream",
     "text": [
      "check-candidates Time: 0.015205144882202148s\n"
     ]
    },
    {
     "name": "stderr",
     "output_type": "stream",
     "text": [
      " 91%|██████████████████████████████████████████████████████████████████████████████████████████████████████████████████████████████████████████████████████████████████████████████████████████▊                   | 273/301 [13:13<01:06,  2.37s/it]"
     ]
    },
    {
     "name": "stdout",
     "output_type": "stream",
     "text": [
      "check-candidates Time: 0.007143974304199219s\n"
     ]
    },
    {
     "name": "stderr",
     "output_type": "stream",
     "text": [
      " 91%|███████████████████████████████████████████████████████████████████████████████████████████████████████████████████████████████████████████████████████████████████████████████████████████▌                  | 274/301 [13:15<01:03,  2.37s/it]"
     ]
    },
    {
     "name": "stdout",
     "output_type": "stream",
     "text": [
      "check-candidates Time: 0.006695747375488281s\n"
     ]
    },
    {
     "name": "stderr",
     "output_type": "stream",
     "text": [
      " 91%|████████████████████████████████████████████████████████████████████████████████████████████████████████████████████████████████████████████████████████████████████████████████████████████▏                 | 275/301 [13:17<00:58,  2.26s/it]"
     ]
    },
    {
     "name": "stdout",
     "output_type": "stream",
     "text": [
      "check-candidates Time: 0.0124969482421875s\n"
     ]
    },
    {
     "name": "stderr",
     "output_type": "stream",
     "text": [
      " 92%|████████████████████████████████████████████████████████████████████████████████████████████████████████████████████████████████████████████████████████████████████████████████████████████▉                 | 276/301 [13:19<00:55,  2.20s/it]"
     ]
    },
    {
     "name": "stdout",
     "output_type": "stream",
     "text": [
      "check-candidates Time: 0.015964031219482422s\n"
     ]
    },
    {
     "name": "stderr",
     "output_type": "stream",
     "text": [
      " 92%|█████████████████████████████████████████████████████████████████████████████████████████████████████████████████████████████████████████████████████████████████████████████████████████████▌                | 277/301 [13:21<00:51,  2.16s/it]"
     ]
    },
    {
     "name": "stdout",
     "output_type": "stream",
     "text": [
      "check-candidates Time: 0.012946128845214844s\n"
     ]
    },
    {
     "name": "stderr",
     "output_type": "stream",
     "text": [
      " 92%|██████████████████████████████████████████████████████████████████████████████████████████████████████████████████████████████████████████████████████████████████████████████████████████████▎               | 278/301 [13:23<00:49,  2.14s/it]"
     ]
    },
    {
     "name": "stdout",
     "output_type": "stream",
     "text": [
      "check-candidates Time: 0.007004261016845703s\n"
     ]
    },
    {
     "name": "stderr",
     "output_type": "stream",
     "text": [
      " 93%|██████████████████████████████████████████████████████████████████████████████████████████████████████████████████████████████████████████████████████████████████████████████████████████████▉               | 279/301 [13:25<00:46,  2.11s/it]"
     ]
    },
    {
     "name": "stdout",
     "output_type": "stream",
     "text": [
      "check-candidates Time: 0.007714986801147461s\n"
     ]
    },
    {
     "name": "stderr",
     "output_type": "stream",
     "text": [
      " 93%|███████████████████████████████████████████████████████████████████████████████████████████████████████████████████████████████████████████████████████████████████████████████████████████████▋              | 280/301 [13:27<00:43,  2.08s/it]"
     ]
    },
    {
     "name": "stdout",
     "output_type": "stream",
     "text": [
      "check-candidates Time: 0.009081125259399414s\n"
     ]
    },
    {
     "name": "stderr",
     "output_type": "stream",
     "text": [
      " 93%|████████████████████████████████████████████████████████████████████████████████████████████████████████████████████████████████████████████████████████████████████████████████████████████████▎             | 281/301 [13:29<00:41,  2.07s/it]"
     ]
    },
    {
     "name": "stdout",
     "output_type": "stream",
     "text": [
      "check-candidates Time: 0.007036924362182617s\n"
     ]
    },
    {
     "name": "stderr",
     "output_type": "stream",
     "text": [
      " 94%|████████████████████████████████████████████████████████████████████████████████████████████████████████████████████████████████████████████████████████████████████████████████████████████████▉             | 282/301 [13:31<00:38,  2.05s/it]"
     ]
    },
    {
     "name": "stdout",
     "output_type": "stream",
     "text": [
      "check-candidates Time: 0.010950088500976562s\n"
     ]
    },
    {
     "name": "stderr",
     "output_type": "stream",
     "text": [
      " 94%|█████████████████████████████████████████████████████████████████████████████████████████████████████████████████████████████████████████████████████████████████████████████████████████████████▋            | 283/301 [13:33<00:37,  2.06s/it]"
     ]
    },
    {
     "name": "stdout",
     "output_type": "stream",
     "text": [
      "check-candidates Time: 0.01049184799194336s\n"
     ]
    },
    {
     "name": "stderr",
     "output_type": "stream",
     "text": [
      " 94%|██████████████████████████████████████████████████████████████████████████████████████████████████████████████████████████████████████████████████████████████████████████████████████████████████▎           | 284/301 [13:36<00:35,  2.08s/it]"
     ]
    },
    {
     "name": "stdout",
     "output_type": "stream",
     "text": [
      "check-candidates Time: 0.014503002166748047s\n"
     ]
    },
    {
     "name": "stderr",
     "output_type": "stream",
     "text": [
      " 95%|███████████████████████████████████████████████████████████████████████████████████████████████████████████████████████████████████████████████████████████████████████████████████████████████████           | 285/301 [13:38<00:33,  2.10s/it]"
     ]
    },
    {
     "name": "stdout",
     "output_type": "stream",
     "text": [
      "check-candidates Time: 0.007827997207641602s\n"
     ]
    },
    {
     "name": "stderr",
     "output_type": "stream",
     "text": [
      " 95%|███████████████████████████████████████████████████████████████████████████████████████████████████████████████████████████████████████████████████████████████████████████████████████████████████▋          | 286/301 [13:40<00:31,  2.10s/it]"
     ]
    },
    {
     "name": "stdout",
     "output_type": "stream",
     "text": [
      "check-candidates Time: 0.015921831130981445s\n"
     ]
    },
    {
     "name": "stderr",
     "output_type": "stream",
     "text": [
      " 95%|████████████████████████████████████████████████████████████████████████████████████████████████████████████████████████████████████████████████████████████████████████████████████████████████████▍         | 287/301 [13:42<00:29,  2.12s/it]"
     ]
    },
    {
     "name": "stdout",
     "output_type": "stream",
     "text": [
      "check-candidates Time: 0.01558995246887207s\n"
     ]
    },
    {
     "name": "stderr",
     "output_type": "stream",
     "text": [
      " 96%|█████████████████████████████████████████████████████████████████████████████████████████████████████████████████████████████████████████████████████████████████████████████████████████████████████         | 288/301 [13:44<00:27,  2.15s/it]"
     ]
    },
    {
     "name": "stdout",
     "output_type": "stream",
     "text": [
      "check-candidates Time: 0.010051727294921875s\n"
     ]
    },
    {
     "name": "stderr",
     "output_type": "stream",
     "text": [
      " 96%|█████████████████████████████████████████████████████████████████████████████████████████████████████████████████████████████████████████████████████████████████████████████████████████████████████▊        | 289/301 [13:46<00:25,  2.14s/it]"
     ]
    },
    {
     "name": "stdout",
     "output_type": "stream",
     "text": [
      "check-candidates Time: 0.016654014587402344s\n"
     ]
    },
    {
     "name": "stderr",
     "output_type": "stream",
     "text": [
      " 96%|██████████████████████████████████████████████████████████████████████████████████████████████████████████████████████████████████████████████████████████████████████████████████████████████████████▍       | 290/301 [13:48<00:23,  2.14s/it]"
     ]
    },
    {
     "name": "stdout",
     "output_type": "stream",
     "text": [
      "check-candidates Time: 0.009793996810913086s\n"
     ]
    },
    {
     "name": "stderr",
     "output_type": "stream",
     "text": [
      " 97%|███████████████████████████████████████████████████████████████████████████████████████████████████████████████████████████████████████████████████████████████████████████████████████████████████████▏      | 291/301 [13:51<00:21,  2.13s/it]"
     ]
    },
    {
     "name": "stdout",
     "output_type": "stream",
     "text": [
      "check-candidates Time: 0.0074880123138427734s\n"
     ]
    },
    {
     "name": "stderr",
     "output_type": "stream",
     "text": [
      " 97%|███████████████████████████████████████████████████████████████████████████████████████████████████████████████████████████████████████████████████████████████████████████████████████████████████████▊      | 292/301 [13:53<00:19,  2.12s/it]"
     ]
    },
    {
     "name": "stdout",
     "output_type": "stream",
     "text": [
      "check-candidates Time: 0.018787145614624023s\n"
     ]
    },
    {
     "name": "stderr",
     "output_type": "stream",
     "text": [
      " 97%|████████████████████████████████████████████████████████████████████████████████████████████████████████████████████████████████████████████████████████████████████████████████████████████████████████▌     | 293/301 [13:55<00:17,  2.15s/it]"
     ]
    },
    {
     "name": "stdout",
     "output_type": "stream",
     "text": [
      "check-candidates Time: 0.007242918014526367s\n"
     ]
    },
    {
     "name": "stderr",
     "output_type": "stream",
     "text": [
      " 98%|█████████████████████████████████████████████████████████████████████████████████████████████████████████████████████████████████████████████████████████████████████████████████████████████████████████▏    | 294/301 [13:57<00:15,  2.14s/it]"
     ]
    },
    {
     "name": "stdout",
     "output_type": "stream",
     "text": [
      "check-candidates Time: 0.011569023132324219s\n"
     ]
    },
    {
     "name": "stderr",
     "output_type": "stream",
     "text": [
      " 98%|█████████████████████████████████████████████████████████████████████████████████████████████████████████████████████████████████████████████████████████████████████████████████████████████████████████▉    | 295/301 [13:59<00:12,  2.13s/it]"
     ]
    },
    {
     "name": "stdout",
     "output_type": "stream",
     "text": [
      "check-candidates Time: 0.016119003295898438s\n"
     ]
    },
    {
     "name": "stderr",
     "output_type": "stream",
     "text": [
      " 98%|██████████████████████████████████████████████████████████████████████████████████████████████████████████████████████████████████████████████████████████████████████████████████████████████████████████▌   | 296/301 [14:01<00:10,  2.12s/it]"
     ]
    },
    {
     "name": "stdout",
     "output_type": "stream",
     "text": [
      "check-candidates Time: 0.01406097412109375s\n"
     ]
    },
    {
     "name": "stderr",
     "output_type": "stream",
     "text": [
      " 99%|███████████████████████████████████████████████████████████████████████████████████████████████████████████████████████████████████████████████████████████████████████████████████████████████████████████▎  | 297/301 [14:03<00:08,  2.11s/it]"
     ]
    },
    {
     "name": "stdout",
     "output_type": "stream",
     "text": [
      "check-candidates Time: 0.017462968826293945s\n"
     ]
    },
    {
     "name": "stderr",
     "output_type": "stream",
     "text": [
      " 99%|███████████████████████████████████████████████████████████████████████████████████████████████████████████████████████████████████████████████████████████████████████████████████████████████████████████▉  | 298/301 [14:06<00:06,  2.13s/it]"
     ]
    },
    {
     "name": "stdout",
     "output_type": "stream",
     "text": [
      "check-candidates Time: 0.012377023696899414s\n"
     ]
    },
    {
     "name": "stderr",
     "output_type": "stream",
     "text": [
      " 99%|████████████████████████████████████████████████████████████████████████████████████████████████████████████████████████████████████████████████████████████████████████████████████████████████████████████▋ | 299/301 [14:08<00:04,  2.09s/it]"
     ]
    },
    {
     "name": "stdout",
     "output_type": "stream",
     "text": [
      "check-candidates Time: 0.007487773895263672s\n"
     ]
    },
    {
     "name": "stderr",
     "output_type": "stream",
     "text": [
      "100%|█████████████████████████████████████████████████████████████████████████████████████████████████████████████████████████████████████████████████████████████████████████████████████████████████████████████▎| 300/301 [14:09<00:02,  2.05s/it]"
     ]
    },
    {
     "name": "stdout",
     "output_type": "stream",
     "text": [
      "check-candidates Time: 0.017284870147705078s\n"
     ]
    },
    {
     "name": "stderr",
     "output_type": "stream",
     "text": [
      "100%|██████████████████████████████████████████████████████████████████████████████████████████████████████████████████████████████████████████████████████████████████████████████████████████████████████████████| 301/301 [14:11<00:00,  2.83s/it]\n"
     ]
    }
   ],
   "source": [
    "find_missing_correct_candidates(train_candidate_path, train_missing_candidates_path)"
   ]
  },
  {
   "cell_type": "code",
   "execution_count": 75,
   "id": "applied-senior",
   "metadata": {},
   "outputs": [
    {
     "name": "stdout",
     "output_type": "stream",
     "text": [
      "042AKDN1.csv\n",
      "1DQVRVUL.csv\n",
      "2VWPPCQM.csv\n",
      "4IJHCIR9.csv\n",
      "2OYAB7YM.csv\n",
      "5894JWA5.csv\n",
      "4Q6FAT24.csv\n",
      "3S6WON79.csv\n",
      "4IB27COT.csv\n",
      "2S72D3R9.csv\n",
      "49K301SA.csv\n",
      "03XJOJ15.csv\n",
      "0KL64BZL.csv\n",
      "1XV2X3XE.csv\n",
      "2J3MZCRD.csv\n",
      "59CFTDPL.csv\n",
      "19WCLMKZ.csv\n",
      "4722C9EQ.csv\n",
      "59JNC864.csv\n",
      "4KDMZHXJ.csv\n",
      "17DA0MJ4.csv\n",
      "2WRDGDBJ.csv\n",
      "4UUFDEP4.csv\n",
      "0VDX10IJ.csv\n",
      "1QGWWYAF.csv\n",
      "0IUSS6UH.csv\n",
      "42BKS5LP.csv\n",
      "40DGQ0R6.csv\n",
      "21P58N2X.csv\n",
      "10WA15QW.csv\n",
      "4ENVC6F0.csv\n",
      "39DC3Z7N.csv\n",
      "302H92MV.csv\n",
      "5VD9H3AD.csv\n",
      "1AXBOBYJ.csv\n",
      "4VL4BFPM.csv\n",
      "0Z8LKW3C.csv\n",
      "0KWK2FSC.csv\n",
      "28Y667AR.csv\n",
      "3K0JGMP1.csv\n",
      "1A51CWBN.csv\n",
      "4UZA5UWB.csv\n",
      "15CM535P.csv\n",
      "3CSAH6ZY.csv\n",
      "0MYK9SQC.csv\n",
      "06UFHM3B.csv\n",
      "06ZS1QBE.csv\n",
      "14DACNEL.csv\n",
      "2OJXQ9F3.csv\n",
      "0HZG8QGJ.csv\n",
      "24OGNVVP.csv\n",
      "0XWQ7DA6.csv\n",
      "0ADP8WGU.csv\n",
      "0P4Y07PN.csv\n",
      "4C37XZHJ.csv\n",
      "26CIDK81.csv\n",
      "5J25NATF.csv\n",
      "3AK02Q9B.csv\n",
      "3EL4J49W.csv\n",
      "1JY71MSY.csv\n",
      "4LFJR3YN.csv\n",
      "243JI1XC.csv\n",
      "3SQ9UAK1.csv\n",
      "258AFYQJ.csv\n",
      "3HZEPYNC.csv\n",
      "0ZZFENJS.csv\n",
      "1XK9O8CF.csv\n",
      "20PYU63R.csv\n",
      "471N0AUD.csv\n",
      "03Q5JG9I.csv\n",
      "4N6X42PJ.csv\n",
      "2FHCJAMA.csv\n",
      "2ZYEX9U9.csv\n",
      "4E99I3P7.csv\n",
      "0VGKU21T.csv\n",
      "4VAYQOG0.csv\n",
      "1FIFDPBT.csv\n",
      "5E9CSACP.csv\n",
      "5BGVRHI5.csv\n",
      "0UJRG5XA.csv\n",
      "12MLK2A7.csv\n",
      "0VTG406B.csv\n",
      "3540Y3D5.csv\n",
      "3MKMD5TW.csv\n",
      "5WA7NENC.csv\n",
      "15HDRE87.csv\n",
      "36LCWPLR.csv\n",
      "1XPHI0P2.csv\n",
      "0RWHW0S0.csv\n",
      "2ZCUZYY9.csv\n",
      "479O847V.csv\n",
      "36KH7GH7.csv\n",
      "24VD82I7.csv\n",
      "1D0TLL3P.csv\n",
      "15Z7HD0M.csv\n",
      "1JMXOUP0.csv\n",
      "0ZXPJXH4.csv\n",
      "289YGN9G.csv\n",
      "3KX6UPPG.csv\n",
      "2TUG0XHN.csv\n",
      "5QDDFGBJ.csv\n",
      "18TCX9AJ.csv\n",
      "4L16JP9T.csv\n",
      "42WEUQ95.csv\n",
      "08XTIUJQ.csv\n",
      "4YBOUF9V.csv\n",
      "2OQR5KK1.csv\n",
      "3RC46CRC.csv\n",
      "48PAQE6M.csv\n",
      "5TXLGRXA.csv\n",
      "0Z7HR2PY.csv\n",
      "3DRSAGO5.csv\n",
      "2BRG4KEL.csv\n",
      "4I7A5GID.csv\n",
      "0BY9CFLK.csv\n",
      "3QZT9O12.csv\n",
      "340JKVHO.csv\n",
      "0D1JRXQD.csv\n",
      "1JCXMKCK.csv\n",
      "5PJ0EF0X.csv\n",
      "5BEY9DAJ.csv\n",
      "1UBAHGEU.csv\n",
      "41UF0D20.csv\n",
      "48BAS22X.csv\n",
      "11VNNTDS.csv\n",
      "3PZX8I05.csv\n",
      "1T2D8C5C.csv\n",
      "5GS30C2C.csv\n",
      "2P3KJ1P0.csv\n",
      "2ZLDMP9R.csv\n",
      "09Z268Z7.csv\n",
      "1DT331RM.csv\n",
      "5NMYKF77.csv\n",
      "3T93HF0D.csv\n",
      "09DZVIPV.csv\n",
      "19FQNTBF.csv\n",
      "1K47VLGF.csv\n",
      "1STAURLW.csv\n",
      "4DM4KN9O.csv\n",
      "174Q7GKD.csv\n",
      "1TRSZPVI.csv\n",
      "1SWM4IDV.csv\n",
      "06BZ6E4W.csv\n",
      "1U6PF4FY.csv\n",
      "2XDZM14F.csv\n",
      "5CG871YQ.csv\n",
      "3IBPLURT.csv\n",
      "2JN1R1VW.csv\n",
      "4XIXYJZJ.csv\n",
      "1O72GQD8.csv\n",
      "3UP2SR30.csv\n",
      "2HHZM6UF.csv\n",
      "1LI468T0.csv\n",
      "24VU5BR7.csv\n",
      "1FPJTMCX.csv\n",
      "5BD6VKB3.csv\n",
      "4QTU5MYM.csv\n",
      "45D6VIRT.csv\n",
      "4I995NNQ.csv\n",
      "27V1TQHW.csv\n",
      "0UX45YZS.csv\n",
      "4O1BS5W9.csv\n",
      "3TZ2D9V5.csv\n",
      "2Z7W9245.csv\n",
      "39HQAJDE.csv\n",
      "1JV6896P.csv\n",
      "263P426L.csv\n",
      "1FXQQ1RM.csv\n",
      "16F08KC4.csv\n",
      "0L4YDT86.csv\n",
      "1FP8LYOS.csv\n",
      "18T4PJWW.csv\n",
      "519M624G.csv\n",
      "2LC2LBG1.csv\n",
      "50ULP1KH.csv\n",
      "2BLFNACC.csv\n",
      "19VR20Q8.csv\n",
      "3FRIAFQG.csv\n",
      "2RTA5JIB.csv\n",
      "0HFY1TOW.csv\n",
      "23NFMDP0.csv\n",
      "2IQQE9DB.csv\n",
      "2QM0QJW9.csv\n",
      "3J5ABW9E.csv\n",
      "3FQ85RUH.csv\n",
      "1J4YRLOY.csv\n",
      "3PSDVWZR.csv\n",
      "15S9J1SE.csv\n",
      "1FF0TRWQ.csv\n",
      "5D3I2S1N.csv\n",
      "18PQGWE2.csv\n",
      "1CS2NQUR.csv\n",
      "04A3K0PO.csv\n",
      "2BATTV6X.csv\n",
      "4RB6CKKQ.csv\n",
      "5T891IJ9.csv\n",
      "1E1WKZOC.csv\n",
      "0DHFD9QY.csv\n",
      "5P2SOXGW.csv\n",
      "19NE0FCU.csv\n",
      "5SB78VPX.csv\n",
      "253OSZNL.csv\n",
      "27BGOKZ7.csv\n",
      "42CSV98Q.csv\n",
      "20ISN4OJ.csv\n",
      "54SEC9F3.csv\n",
      "5ECFP78V.csv\n",
      "0CHQAATH.csv\n",
      "2I24Y64Q.csv\n",
      "55W5B7PP.csv\n",
      "4WN91IQN.csv\n",
      "1H6S7TGO.csv\n",
      "3WIJWVTF.csv\n",
      "3IALBWVT.csv\n",
      "3290T9NG.csv\n",
      "00YF468U.csv\n",
      "0DS28PUJ.csv\n",
      "4FXN1RZ3.csv\n",
      "25EPRHUJ.csv\n",
      "0U3WMR09.csv\n",
      "49XGWHEN.csv\n",
      "3MFTI3Y1.csv\n",
      "2P4BZPW1.csv\n",
      "25KTY2D9.csv\n",
      "4ANNOIVH.csv\n",
      "3C74M7HU.csv\n",
      "29AXQS5A.csv\n",
      "2CPISXSF.csv\n",
      "0BM19RVO.csv\n",
      "2TG5KMPI.csv\n",
      "5KZVO2UP.csv\n",
      "3L4TR8X5.csv\n",
      "56CDHMVN.csv\n",
      "5S8PITYQ.csv\n",
      "0EH4XC4H.csv\n",
      "15ULGJXA.csv\n",
      "3O0C4D3O.csv\n",
      "24HLK9BD.csv\n",
      "3CUK6D56.csv\n",
      "1ZX2DCW7.csv\n",
      "5WFYRRY7.csv\n",
      "5MMHOLUI.csv\n",
      "085QNFGZ.csv\n",
      "3R0OGDXK.csv\n",
      "5G4M4L5W.csv\n",
      "01E31BCQ.csv\n",
      "0JSE9VIO.csv\n",
      "0A4KYJH5.csv\n",
      "568P9F4E.csv\n",
      "3CLS11K2.csv\n",
      "2AQ0VUOP.csv\n",
      "3HLRFWSX.csv\n",
      "5BVL4YJS.csv\n",
      "1T9NKN9B.csv\n",
      "4MGX23BZ.csv\n",
      "3TKOQZJ7.csv\n",
      "0B8EGHVB.csv\n",
      "3NCTWO03.csv\n",
      "0VC79Y6X.csv\n",
      "239AZL33.csv\n",
      "0LGYY0Y7.csv\n",
      "5739HKRB.csv\n",
      "32DWSB26.csv\n",
      "5IKCI9Z4.csv\n",
      "51BN46AU.csv\n",
      "3CJEDV9F.csv\n",
      "4NVYEVEQ.csv\n",
      "3IB64ASX.csv\n",
      "471ODBDH.csv\n",
      "1TQSKB2E.csv\n",
      "30KYZ3HO.csv\n",
      "1I3AJ8QT.csv\n",
      "2QS5IM8T.csv\n",
      "5Q5RASS8.csv\n",
      "5W6MRY0W.csv\n",
      "00UQHNO3.csv\n",
      "1SEMN3SZ.csv\n",
      "46HT6F8E.csv\n",
      "5NTTT408.csv\n",
      "5N8AUSXE.csv\n",
      "2XEP26CX.csv\n",
      "4ZZG4HMD.csv\n",
      "3T54D76A.csv\n",
      "4G8G7N8W.csv\n",
      "0M7R2JUU.csv\n",
      "2ZLGXNTV.csv\n",
      "4P9QJEV9.csv\n",
      "090EELY2.csv\n",
      "43NKPCQ8.csv\n",
      "328N1USF.csv\n",
      "32GFE6D8.csv\n",
      "5FMSUKCH.csv\n",
      "3S4OOVHT.csv\n"
     ]
    }
   ],
   "source": [
    "train_missing_df = concat_files(train_missing_candidates_path)"
   ]
  },
  {
   "cell_type": "code",
   "execution_count": 76,
   "id": "acknowledged-snowboard",
   "metadata": {},
   "outputs": [
    {
     "data": {
      "text/plain": [
       "109"
      ]
     },
     "execution_count": 76,
     "metadata": {},
     "output_type": "execute_result"
    }
   ],
   "source": [
    "len(train_missing_df)"
   ]
  },
  {
   "cell_type": "code",
   "execution_count": 77,
   "id": "ancient-labor",
   "metadata": {},
   "outputs": [
    {
     "data": {
      "text/html": [
       "<div>\n",
       "<style scoped>\n",
       "    .dataframe tbody tr th:only-of-type {\n",
       "        vertical-align: middle;\n",
       "    }\n",
       "\n",
       "    .dataframe tbody tr th {\n",
       "        vertical-align: top;\n",
       "    }\n",
       "\n",
       "    .dataframe thead th {\n",
       "        text-align: right;\n",
       "    }\n",
       "</style>\n",
       "<table border=\"1\" class=\"dataframe\">\n",
       "  <thead>\n",
       "    <tr style=\"text-align: right;\">\n",
       "      <th></th>\n",
       "      <th>column</th>\n",
       "      <th>row</th>\n",
       "      <th>label</th>\n",
       "      <th>context</th>\n",
       "      <th>GT_kg_id</th>\n",
       "      <th>GT_kg_label</th>\n",
       "      <th>filename</th>\n",
       "    </tr>\n",
       "  </thead>\n",
       "  <tbody>\n",
       "    <tr>\n",
       "      <th>0</th>\n",
       "      <td>0</td>\n",
       "      <td>16</td>\n",
       "      <td>ouchon</td>\n",
       "      <td>United States of America|Thomas Keller</td>\n",
       "      <td>Q61969122</td>\n",
       "      <td>Bouchon</td>\n",
       "      <td>2VWPPCQM.csv</td>\n",
       "    </tr>\n",
       "    <tr>\n",
       "      <th>0</th>\n",
       "      <td>0</td>\n",
       "      <td>3</td>\n",
       "      <td>JD 2194</td>\n",
       "      <td>-46.207207|-0.16881000000000002</td>\n",
       "      <td>Q12067892</td>\n",
       "      <td>HD 23194</td>\n",
       "      <td>5894JWA5.csv</td>\n",
       "    </tr>\n",
       "    <tr>\n",
       "      <th>1</th>\n",
       "      <td>0</td>\n",
       "      <td>7</td>\n",
       "      <td>JD 22234</td>\n",
       "      <td>61.28388|-0.88644</td>\n",
       "      <td>Q12067734</td>\n",
       "      <td>HD 222349</td>\n",
       "      <td>5894JWA5.csv</td>\n",
       "    </tr>\n",
       "    <tr>\n",
       "      <th>0</th>\n",
       "      <td>0</td>\n",
       "      <td>11</td>\n",
       "      <td>Hope</td>\n",
       "      <td>Mountain Time Zone|1245</td>\n",
       "      <td>Q2525524</td>\n",
       "      <td>Hope</td>\n",
       "      <td>3S6WON79.csv</td>\n",
       "    </tr>\n",
       "    <tr>\n",
       "      <th>0</th>\n",
       "      <td>0</td>\n",
       "      <td>0</td>\n",
       "      <td>[FK2004] 118</td>\n",
       "      <td>44.74431|0.024648029999999998|160.17874999999998</td>\n",
       "      <td>Q78536288</td>\n",
       "      <td>[FK2002] 118</td>\n",
       "      <td>2J3MZCRD.csv</td>\n",
       "    </tr>\n",
       "    <tr>\n",
       "      <th>...</th>\n",
       "      <td>...</td>\n",
       "      <td>...</td>\n",
       "      <td>...</td>\n",
       "      <td>...</td>\n",
       "      <td>...</td>\n",
       "      <td>...</td>\n",
       "      <td>...</td>\n",
       "    </tr>\n",
       "    <tr>\n",
       "      <th>3</th>\n",
       "      <td>2</td>\n",
       "      <td>41</td>\n",
       "      <td>Kassrine</td>\n",
       "      <td>Arch of Alxander Severus|listed monument of Tu...</td>\n",
       "      <td>Q276576</td>\n",
       "      <td>Beja Governorate</td>\n",
       "      <td>0VC79Y6X.csv</td>\n",
       "    </tr>\n",
       "    <tr>\n",
       "      <th>0</th>\n",
       "      <td>0</td>\n",
       "      <td>7</td>\n",
       "      <td>nežino</td>\n",
       "      <td>Central European Time|5.952</td>\n",
       "      <td>Q1522139</td>\n",
       "      <td>Knežino</td>\n",
       "      <td>5739HKRB.csv</td>\n",
       "    </tr>\n",
       "    <tr>\n",
       "      <th>0</th>\n",
       "      <td>0</td>\n",
       "      <td>2</td>\n",
       "      <td>John</td>\n",
       "      <td>House of Plantagenet|John Lackland|Beaumont Pa...</td>\n",
       "      <td>Q129308</td>\n",
       "      <td>John, King of England</td>\n",
       "      <td>3IB64ASX.csv</td>\n",
       "    </tr>\n",
       "    <tr>\n",
       "      <th>0</th>\n",
       "      <td>1</td>\n",
       "      <td>12</td>\n",
       "      <td>Turkestan</td>\n",
       "      <td>Turkistan|Brockhaus and Efron Encyclopedic Dic...</td>\n",
       "      <td>Q6549315</td>\n",
       "      <td>Turkestan</td>\n",
       "      <td>471ODBDH.csv</td>\n",
       "    </tr>\n",
       "    <tr>\n",
       "      <th>0</th>\n",
       "      <td>0</td>\n",
       "      <td>19</td>\n",
       "      <td>Whe Observatory</td>\n",
       "      <td>United Kingdom|Falmouth|Grade II listed building</td>\n",
       "      <td>Q26560028</td>\n",
       "      <td>The Observatory</td>\n",
       "      <td>328N1USF.csv</td>\n",
       "    </tr>\n",
       "  </tbody>\n",
       "</table>\n",
       "<p>109 rows × 7 columns</p>\n",
       "</div>"
      ],
      "text/plain": [
       "   column row            label  \\\n",
       "0       0  16           ouchon   \n",
       "0       0   3          JD 2194   \n",
       "1       0   7         JD 22234   \n",
       "0       0  11             Hope   \n",
       "0       0   0     [FK2004] 118   \n",
       "..    ...  ..              ...   \n",
       "3       2  41         Kassrine   \n",
       "0       0   7           nežino   \n",
       "0       0   2             John   \n",
       "0       1  12        Turkestan   \n",
       "0       0  19  Whe Observatory   \n",
       "\n",
       "                                              context   GT_kg_id  \\\n",
       "0              United States of America|Thomas Keller  Q61969122   \n",
       "0                     -46.207207|-0.16881000000000002  Q12067892   \n",
       "1                                   61.28388|-0.88644  Q12067734   \n",
       "0                             Mountain Time Zone|1245   Q2525524   \n",
       "0    44.74431|0.024648029999999998|160.17874999999998  Q78536288   \n",
       "..                                                ...        ...   \n",
       "3   Arch of Alxander Severus|listed monument of Tu...    Q276576   \n",
       "0                         Central European Time|5.952   Q1522139   \n",
       "0   House of Plantagenet|John Lackland|Beaumont Pa...    Q129308   \n",
       "0   Turkistan|Brockhaus and Efron Encyclopedic Dic...   Q6549315   \n",
       "0    United Kingdom|Falmouth|Grade II listed building  Q26560028   \n",
       "\n",
       "              GT_kg_label      filename  \n",
       "0                 Bouchon  2VWPPCQM.csv  \n",
       "0                HD 23194  5894JWA5.csv  \n",
       "1               HD 222349  5894JWA5.csv  \n",
       "0                    Hope  3S6WON79.csv  \n",
       "0            [FK2002] 118  2J3MZCRD.csv  \n",
       "..                    ...           ...  \n",
       "3        Beja Governorate  0VC79Y6X.csv  \n",
       "0                 Knežino  5739HKRB.csv  \n",
       "0   John, King of England  3IB64ASX.csv  \n",
       "0               Turkestan  471ODBDH.csv  \n",
       "0         The Observatory  328N1USF.csv  \n",
       "\n",
       "[109 rows x 7 columns]"
      ]
     },
     "execution_count": 77,
     "metadata": {},
     "output_type": "execute_result"
    }
   ],
   "source": [
    "train_missing_df"
   ]
  },
  {
   "cell_type": "code",
   "execution_count": 78,
   "id": "juvenile-allergy",
   "metadata": {},
   "outputs": [],
   "source": [
    "train_missing_df.to_csv(f\"{train_missing_candidates_path}/missing_concatenated.csv\", index=False)"
   ]
  },
  {
   "cell_type": "code",
   "execution_count": null,
   "id": "93413abb-6d55-48b0-875e-921f8cc05b52",
   "metadata": {},
   "outputs": [],
   "source": []
  }
 ],
 "metadata": {
  "kernelspec": {
   "display_name": "tl_env",
   "language": "python",
   "name": "tl_env"
  },
  "language_info": {
   "codemirror_mode": {
    "name": "ipython",
    "version": 3
   },
   "file_extension": ".py",
   "mimetype": "text/x-python",
   "name": "python",
   "nbconvert_exporter": "python",
   "pygments_lexer": "ipython3",
   "version": "3.8.3"
  }
 },
 "nbformat": 4,
 "nbformat_minor": 5
}

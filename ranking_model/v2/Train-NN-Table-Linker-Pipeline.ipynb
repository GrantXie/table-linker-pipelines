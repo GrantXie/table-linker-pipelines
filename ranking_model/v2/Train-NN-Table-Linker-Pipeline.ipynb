{
 "cells": [
  {
   "cell_type": "code",
   "execution_count": 2,
   "id": "executed-anchor",
   "metadata": {},
   "outputs": [],
   "source": [
    "import glob\n",
    "import time\n",
    "import os\n",
    "import pandas as pd\n",
    "import sklearn.metrics\n",
    "from sklearn.preprocessing import MinMaxScaler\n",
    "import pickle\n",
    "from argparse import ArgumentParser, Namespace\n",
    "import random\n",
    "import torch\n",
    "import torch.nn as nn\n",
    "import torch.nn.functional as F\n",
    "import numpy as np\n",
    "from torch.utils.data import Dataset, DataLoader\n",
    "from torch.optim import Adam\n",
    "from itertools import chain\n",
    "from tqdm import tqdm\n",
    "import copy\n",
    "import shutil\n",
    "import pickle"
   ]
  },
  {
   "cell_type": "code",
   "execution_count": 3,
   "id": "retired-shower",
   "metadata": {},
   "outputs": [],
   "source": [
    "es_url = 'http://ckg07:9200'\n",
    "es_index = 'wikidatadwd-augmented-08'\n",
    "\n",
    "# Input Paths\n",
    "\n",
    "# GDrive Path: /table-linker-dataset/2019-iswc_challenge_data/t2dv2/canonical-with-context/t2dv2-train-canonical/\n",
    "train_path = \"/Users/amandeep/Github/table-linker/data/SemTab2020/Round4/train1-canonical\"\n",
    "\n",
    "# GDrive Path: /table-linker-dataset/2019-iswc_challenge_data/t2dv2/canonical-with-context/t2dv2-dev-canonical/\n",
    "dev_path = \"/Users/amandeep/Github/table-linker/data/SemTab2020/Round4/dev-canonical\"\n",
    "\n",
    "# GDrive Path: /table-linker-dataset/2019-iswc_challenge_data/t2dv2/ground_truth/Xinting_GT_csv\n",
    "ground_truth_files = \"/Users/amandeep/Github/table-linker/data/SemTab2020/Round4/round4_gt_with_labels\"\n",
    "\n",
    "\n",
    "# OUTPUT PATHS\n",
    "output_path = \"/Users/amandeep/Github/table-linker/data/SemTab2020/Round4/table-linker\"\n",
    "train_output_path = f'{output_path}/train1-output/tbl-pipeline-nn'\n",
    "dev_output_path = f'{output_path}/dev-output/tbl-pipeline-nn'\n",
    "\n",
    "# increase version to create a new folder for an experiment\n",
    "PREVIOUS_VERSION = \"v25\"\n",
    "VERSION = \"v26\"\n",
    "\n",
    "train_candidate_path = f'{train_output_path}/{VERSION}/candidates'\n",
    "train_trigram_candidate_path = f'{train_output_path}/{VERSION}/trigram_candidates'\n",
    "train_features1_path = f'{train_output_path}/{VERSION}/features1'\n",
    "train_trigram_features1_path = f'{train_output_path}/{VERSION}/trigram_features1'\n",
    "train_features1_joined_path = f'{train_output_path}/{VERSION}/features1_joined'\n",
    "train_features2_path = f'{train_output_path}/{VERSION}/features2'\n",
    "train_features3_path = f'{train_output_path}/{VERSION}/features3'\n",
    "train_feature_path = f'{train_output_path}/{VERSION}/features'\n",
    "train_missing_candidates_path = f'{train_output_path}/{VERSION}/train_missing_candidates_path'\n",
    "\n",
    "dev_candidate_path = f'{dev_output_path}/{VERSION}/candidates'\n",
    "dev_trigram_candidate_path = f'{dev_output_path}/{VERSION}/trigram_candidates'\n",
    "dev_feature_path = f'{dev_output_path}/{VERSION}/features'\n",
    "dev_features1_path = f'{dev_output_path}/{VERSION}/features1'\n",
    "dev_trigram_features1_path = f'{dev_output_path}/{VERSION}/trigram_features1'\n",
    "dev_features1_joined_path = f'{dev_output_path}/{VERSION}/features1_joined'\n",
    "dev_features2_path = f'{dev_output_path}/{VERSION}/features2'\n",
    "dev_features3_path = f'{dev_output_path}/{VERSION}/features3'\n",
    "dev_output_predictions = f'{dev_output_path}/{VERSION}/dev_predictions'\n",
    "dev_predictions_top_k = f'{dev_output_path}/{VERSION}/dev_predictions_top_k'\n",
    "dev_colorized_path = f'{dev_output_path}/{VERSION}/dev_predictions_colorized'\n",
    "dev_metrics_path = f'{dev_output_path}/{VERSION}/dev_predictions_metrics'\n",
    "dev_missing_candidates_path = f'{dev_output_path}/{VERSION}/dev_missing_candidates_path'\n",
    "\n",
    "aux_field = 'graph_embedding_complex,class_count,property_count,context'\n",
    "\n",
    "\n",
    "train_prop_count = f'{train_output_path}/{VERSION}/train_prop_count' \n",
    "train_trigram_prop_count = f'{train_output_path}/{VERSION}/train_trigram_prop_count'\n",
    "train_joined_prop_count = f'{train_output_path}/{VERSION}/train_joined_prop_count'\n",
    "\n",
    "train_class_count = f'{train_output_path}/{VERSION}/train_class_count'\n",
    "train_trigram_class_count = f'{train_output_path}/{VERSION}/train_trigram_class_count'\n",
    "train_joined_class_count = f'{train_output_path}/{VERSION}/train_joined_class_count'\n",
    "\n",
    "train_context_path = f'{train_output_path}/{VERSION}/train_context'\n",
    "train_trigram_context_path = f'{train_output_path}/{VERSION}/train_trigram_context'\n",
    "train_joined_context_path = f'{train_output_path}/{VERSION}/train_joined_context'\n",
    "\n",
    "train_graph_embedding = f'{train_output_path}/{VERSION}/train_graph_embedding'\n",
    "train_trigram_graph_embedding = f'{train_output_path}/{VERSION}/train_trigram_graph_embedding'\n",
    "train_joined_graph_embedding = f'{train_output_path}/{VERSION}/train_joined_graph_embedding'\n",
    "\n",
    "train_context_property_path = f'{train_output_path}/{VERSION}/train_context_properties'\n",
    "\n",
    "dev_prop_count = f'{dev_output_path}/{VERSION}/dev_prop_count'\n",
    "dev_trigram_prop_count = f'{dev_output_path}/{VERSION}/dev_trigram_prop_count'\n",
    "dev_joined_prop_count = f'{dev_output_path}/{VERSION}/dev_joined_prop_count'\n",
    "\n",
    "dev_class_count = f'{dev_output_path}/{VERSION}/dev_class_count'\n",
    "dev_trigram_class_count = f'{dev_output_path}/{VERSION}/dev_trigram_class_count'\n",
    "dev_joined_class_count = f'{dev_output_path}/{VERSION}/dev_joined_class_count'\n",
    "\n",
    "dev_context_path = f'{dev_output_path}/{VERSION}/dev_context'\n",
    "dev_trigram_context_path = f'{dev_output_path}/{VERSION}/dev_trigram_context'\n",
    "dev_joined_context_path = f'{dev_output_path}/{VERSION}/dev_joined_context'\n",
    "\n",
    "dev_graph_embedding = f'{dev_output_path}/{VERSION}/dev_graph_embedding'\n",
    "dev_trigram_graph_embedding = f'{dev_output_path}/{VERSION}/dev_trigram_graph_embedding'\n",
    "dev_joined_graph_embedding = f'{dev_output_path}/{VERSION}/dev_joined_graph_embedding'\n",
    "\n",
    "dev_context_property_path = f'{dev_output_path}/{VERSION}/dev_context_properties'\n",
    "dev_incorrect_answers_path = f'{dev_output_path}/{VERSION}/incorrect_answers.csv'\n",
    "\n",
    "temp_dir = f'{output_path}/temp'\n",
    "\n",
    "pseudo_gt_model = '/Users/amandeep/Github/table-linker/data/SemTab2020/Round4/table-linker/dev-output/pseudo-gt-nn/v19/saved_models/epoch_1_loss_0.534353494644165_top1_0.7883487007544007.pth'\n",
    "pseudo_gt_min_max_scaler_path = '/Users/amandeep/Github/table-linker/data/SemTab2020/Round4/table-linker/temp/training_data/normalization_factor.pkl'\n",
    "\n",
    "tl_log_file =f'{temp_dir}/tl_log.txt'\n",
    "\n",
    "training_data_path = f'{dev_output_path}/{VERSION}/training_data'\n",
    "pos_output = f'{training_data_path}/tl_pipeline_pos_features.pkl'\n",
    "neg_output = f'{training_data_path}/tl_pipeline_neg_features.pkl'\n",
    "min_max_scaler_path = f'{training_data_path}/tl_pipeline_normalization_factor.pkl'\n",
    "\n",
    "final_score_column = 'siamese_prediction'\n",
    "threshold = final_score_column+\":median\"\n",
    "\n",
    "model_save_path = f'{dev_output_path}/{VERSION}/saved_models'\n",
    "best_model_path = ''\n",
    "\n",
    "copy_candidates_from_previous_version = False\n",
    "copy_features1_from_previous_version = False"
   ]
  },
  {
   "cell_type": "code",
   "execution_count": null,
   "id": "sensitive-craps",
   "metadata": {},
   "outputs": [],
   "source": [
    "!mkdir -p \"$temp_dir\"\n",
    "\n",
    "!mkdir -p \"$train_trigram_candidate_path\"\n",
    "!mkdir -p \"$train_trigram_features1_path\"\n",
    "!mkdir -p \"$dev_trigram_candidate_path\"\n",
    "!mkdir -p \"$dev_trigram_features1_path\"\n",
    "\n",
    "!mkdir -p \"$train_prop_count\"\n",
    "!mkdir -p \"$train_trigram_prop_count\"\n",
    "!mkdir -p \"$dev_prop_count\"\n",
    "!mkdir -p \"$dev_trigram_prop_count\"\n",
    "!mkdir -p \"$train_class_count\"\n",
    "!mkdir -p \"$train_trigram_class_count\"\n",
    "!mkdir -p \"$dev_class_count\"\n",
    "!mkdir -p \"$dev_trigram_class_count\"\n",
    "!mkdir -p \"$train_graph_embedding\"\n",
    "!mkdir -p \"$train_trigram_graph_embedding\"\n",
    "!mkdir -p \"$dev_graph_embedding\"\n",
    "!mkdir -p \"$dev_trigram_graph_embedding\"\n",
    "!mkdir -p \"$train_context_path\"\n",
    "!mkdir -p \"$train_trigram_context_path\"\n",
    "!mkdir -p \"$dev_context_path\"\n",
    "!mkdir -p \"$dev_trigram_context_path\"\n",
    "\n",
    "!mkdir -p \"$train_candidate_path\"\n",
    "!mkdir -p \"$dev_candidate_path\"\n",
    "\n",
    "!mkdir -p \"$train_feature_path\"\n",
    "!mkdir -p \"$train_features1_path\"\n",
    "!mkdir -p \"$train_features2_path\"\n",
    "!mkdir -p \"$train_features3_path\"\n",
    "!mkdir -p \"$dev_feature_path\"\n",
    "!mkdir -p \"$dev_features1_path\"\n",
    "!mkdir -p \"$dev_features2_path\"\n",
    "!mkdir -p \"$dev_features3_path\"\n",
    "\n",
    "!mkdir -p \"$temp_dir/training_data\"\n",
    "!mkdir -p \"$dev_output_predictions\"\n",
    "!mkdir -p \"$model_save_path\"\n",
    "!mkdir -p \"$dev_predictions_top_k\"\n",
    "!mkdir -p \"$dev_colorized_path\"\n",
    "!mkdir -p \"$dev_metrics_path\"\n",
    "!mkdir -p \"$dev_missing_candidates_path\"\n",
    "!mkdir -p \"$train_missing_candidates_path\"\n",
    "!mkdir -p \"$train_context_property_path\"\n",
    "!mkdir -p \"$dev_context_property_path\"\n",
    "\n",
    "!mkdir -p \"$training_data_path\"\n",
    "\n",
    "!mkdir -p \"$train_features1_joined_path\"\n",
    "!mkdir -p \"$dev_features1_joined_path\"\n",
    "!mkdir -p \"$train_joined_prop_count\"\n",
    "!mkdir -p \"$train_joined_class_count\"\n",
    "!mkdir -p \"$train_joined_context_path\"\n",
    "!mkdir -p \"$train_joined_graph_embedding\"\n",
    "!mkdir -p \"$dev_joined_prop_count\"\n",
    "!mkdir -p \"$dev_joined_class_count\"\n",
    "!mkdir -p \"$dev_joined_context_path\"\n",
    "!mkdir -p \"$dev_joined_graph_embedding\""
   ]
  },
  {
   "cell_type": "code",
   "execution_count": null,
   "id": "romance-syria",
   "metadata": {},
   "outputs": [],
   "source": [
    "if copy_candidates_from_previous_version:\n",
    "    !cp $dev_output_path/$PREVIOUS_VERSION/candidates/*csv $dev_output_path/$VERSION/candidates\n",
    "    !cp $dev_output_path/$PREVIOUS_VERSION/dev_prop_count/* $dev_output_path/$VERSION/dev_prop_count\n",
    "    !cp $dev_output_path/$PREVIOUS_VERSION/dev_class_count/* $dev_output_path/$VERSION/dev_class_count\n",
    "    !cp $dev_output_path/$PREVIOUS_VERSION/dev_context/* $dev_output_path/$VERSION/dev_context\n",
    "    !cp $dev_output_path/$PREVIOUS_VERSION/dev_graph_embedding/* $dev_output_path/$VERSION/dev_graph_embedding\n",
    "    \n",
    "    !cp $train_output_path/$PREVIOUS_VERSION/candidates/*csv $train_output_path/$VERSION/candidates\n",
    "    !cp $train_output_path/$PREVIOUS_VERSION/train_prop_count/* $train_output_path/$VERSION/train_prop_count\n",
    "    !cp $train_output_path/$PREVIOUS_VERSION/train_class_count/* $train_output_path/$VERSION/train_class_count\n",
    "    !cp $train_output_path/$PREVIOUS_VERSION/train_context/* $train_output_path/$VERSION/train_context\n",
    "    !cp $train_output_path/$PREVIOUS_VERSION/train_graph_embedding/* $train_output_path/$VERSION/train_graph_embedding"
   ]
  },
  {
   "cell_type": "code",
   "execution_count": 4,
   "id": "4e96e759-e94d-40a6-8e77-7412edaf22fc",
   "metadata": {},
   "outputs": [],
   "source": [
    "pseudo_gt_features = [\"monge_elkan\",\"monge_elkan_aliases\",\"jaro_winkler\",\"levenshtein\",\"singleton\",\"pgr_rts\",\"context_score\",\"smc_class_score\",\"smc_property_score\"]"
   ]
  },
  {
   "cell_type": "markdown",
   "id": "turned-tradition",
   "metadata": {},
   "source": [
    "## Candidate Generation"
   ]
  },
  {
   "cell_type": "code",
   "execution_count": null,
   "id": "planned-netscape",
   "metadata": {},
   "outputs": [],
   "source": [
    "def candidate_generation(path, gt_path, output_path, class_count_path, prop_count_path, context_path, graph_embedding):\n",
    "    file_list = glob.glob(path + '/*.csv')\n",
    "    for i, file in tqdm(enumerate(file_list)):\n",
    "        st = time.time()\n",
    "        filename = file.split('/')[-1]\n",
    "        gt_file = f\"{ground_truth_files}/{filename}\"\n",
    "        output_file = f\"{output_path}/{filename}\"\n",
    "        \n",
    "        !tl --log-file $tl_log_file clean -c label -o label_clean \"$file\" / \\\n",
    "        --url $es_url --index $es_index \\\n",
    "        get-fuzzy-augmented-matches -c label_clean \\\n",
    "        --auxiliary-fields {aux_field} \\\n",
    "        --auxiliary-folder \"$temp_dir\" / \\\n",
    "        --url $es_url --index $es_index \\\n",
    "        get-exact-matches -c label_clean \\\n",
    "        --auxiliary-fields {aux_field} \\\n",
    "        --auxiliary-folder \"$temp_dir\" / \\\n",
    "        / get-ngram-matches -c label_clean  \\\n",
    "        --auxiliary-fields {aux_field} \\\n",
    "        --auxiliary-folder \"$temp_dir\" \\\n",
    "        / get-trigram-matches -c label_clean \\\n",
    "        --auxiliary-fields {aux_field} \\\n",
    "        --auxiliary-folder \"$temp_dir\" \\\n",
    "        / ground-truth-labeler --gt-file \"$gt_file\" > \"$output_file\"\n",
    "\n",
    "        for field in aux_field.split(','):\n",
    "            aux_list = []\n",
    "            if field == 'context':\n",
    "                file_list = glob.glob(f'{temp_dir}/*{field}.jl')\n",
    "                o_f = open(f\"{context_path}/{filename[:-4]}_context.jl\", 'w')\n",
    "                \n",
    "                for i_f_P in file_list:\n",
    "                    i_f = open(i_f_P)\n",
    "                    for line in i_f:\n",
    "                        o_f.write(line)\n",
    "                    i_f.close()\n",
    "                o_f.close()\n",
    "                \n",
    "            else:\n",
    "                for f in glob.glob(f'{temp_dir}/*{field}.tsv'):\n",
    "                    aux_list.append(pd.read_csv(f, sep='\\t', dtype=object))\n",
    "                aux_df = pd.concat(aux_list).drop_duplicates(subset=['qnode'])\n",
    "                if field == 'class_count':\n",
    "                    class_count_file = f\"{class_count_path}/{filename[:-4]}_class_count.tsv\"\n",
    "                    aux_df.to_csv(class_count_file, sep='\\t', index=False)\n",
    "                elif field == 'property_count':\n",
    "                    prop_count_file = f\"{prop_count_path}/{filename[:-4]}_prop_count.tsv\"\n",
    "                    aux_df.to_csv(prop_count_file, sep='\\t', index=False)\n",
    "                else:\n",
    "                    graph_embedding_file = f\"{graph_embedding}/{filename[:-4 ]}_graph_embedding_complex.tsv\"\n",
    "                    aux_df.to_csv(graph_embedding_file, sep='\\t', index=False)\n",
    "        "
   ]
  },
  {
   "cell_type": "code",
   "execution_count": null,
   "id": "recreational-berry",
   "metadata": {},
   "outputs": [],
   "source": [
    "if not copy_candidates_from_previous_version:\n",
    "    candidate_generation(train_path, ground_truth_files, train_candidate_path, train_class_count, train_prop_count, train_context_path,train_graph_embedding)"
   ]
  },
  {
   "cell_type": "code",
   "execution_count": null,
   "id": "junior-cooler",
   "metadata": {},
   "outputs": [],
   "source": [
    "if not copy_candidates_from_previous_version:\n",
    "    candidate_generation(dev_path, ground_truth_files, dev_candidate_path, dev_class_count, dev_prop_count, dev_context_path, dev_graph_embedding)"
   ]
  },
  {
   "cell_type": "markdown",
   "id": "sustained-visitor",
   "metadata": {},
   "source": [
    "## Feature Generation"
   ]
  },
  {
   "cell_type": "code",
   "execution_count": 5,
   "id": "productive-spank",
   "metadata": {},
   "outputs": [],
   "source": [
    "def features_1(candidate_dir, output_path, context_path, class_count_dir, property_count_dir, pseudo_gt_model, pseudo_gt_min_max_scaler_path, context_property_path):\n",
    "    file_list = glob.glob(candidate_dir + '/*.csv')\n",
    "    for i, file in tqdm(enumerate(file_list)):\n",
    "        if os.path.getsize(file) == 0:\n",
    "            continue\n",
    "        filename = file.split('/')[-1]\n",
    "        output_file = f\"{output_path}/{filename}\"\n",
    "        \n",
    "        context_file = f\"{context_path}/{filename[:-4]}_context.jl\"\n",
    "        class_count_file = f\"{class_count_dir}/{filename[:-4]}_class_count.tsv\"\n",
    "        property_count_file = f\"{property_count_dir}/{filename[:-4]}_prop_count.tsv\"\n",
    "        feature_str =  \",\".join(pseudo_gt_features)\n",
    "        context_property_file = f\"{context_property_path}/{filename[:-4]}_context_properties.csv\"\n",
    "        run = True\n",
    "        if filename == '0Z8LKW3C.csv' or filename == '2OJXQ9F3.csv' or filename == '1QGWWYAF.csv':\n",
    "            run=True\n",
    "            \n",
    "        if run:\n",
    "            !tl --log-file $tl_log_file deduplicate-candidates -c kg_id $file \\\n",
    "                / string-similarity -i --method symmetric_monge_elkan:tokenizer=word -o monge_elkan --threshold 0.5 \\\n",
    "                / string-similarity -i --method symmetric_monge_elkan:tokenizer=word -c label_clean kg_aliases -o monge_elkan_aliases --threshold 0.5 \\\n",
    "                / string-similarity -i --method jaro_winkler -o jaro_winkler --threshold 0.5 \\\n",
    "                / string-similarity -i --method levenshtein -o levenshtein --threshold 0.5 \\\n",
    "                / create-singleton-feature -o singleton \\\n",
    "                / pick-hc-candidates -o ignore_candidate --string-similarity-label-columns monge_elkan,jaro_winkler,levenshtein --string-similarity-alias-columns monge_elkan_aliases \\\n",
    "                / context-match --debug --context-file $context_file --ignore-column-name ignore_candidate -o context_score \\\n",
    "                --similarity-string-threshold 0.85 --similarity-quantity-threshold 0.9 \\\n",
    "                --save-relevant-properties --context-properties-path $context_property_file \\\n",
    "                / kth-percentile -c context_score -o kth_percenter --ignore-column ignore_candidate --k-percentile 0.75  --minimum-cells 10 \\\n",
    "                / pgt-semantic-tf-idf \\\n",
    "                -o smc_class_score \\\n",
    "                --pagerank-column pagerank \\\n",
    "                --retrieval-score-column retrieval_score \\\n",
    "                --feature-file \"$class_count_file\" \\\n",
    "                --feature-name class_count \\\n",
    "                --high-confidence-column kth_percenter \\\n",
    "                / pgt-semantic-tf-idf \\\n",
    "                -o smc_property_score \\\n",
    "                --pagerank-column pagerank \\\n",
    "                --retrieval-score-column retrieval_score \\\n",
    "                --feature-file \"$property_count_file\" \\\n",
    "                --feature-name property_count \\\n",
    "                --high-confidence-column kth_percenter \\\n",
    "                / predict-using-model -o pseudo_gt_prediction \\\n",
    "                --features $feature_str \\\n",
    "                --ranking-model $pseudo_gt_model \\\n",
    "                --ignore-column ignore_candidate \\\n",
    "                --normalization-factor $pseudo_gt_min_max_scaler_path \\\n",
    "                / create-pseudo-gt -o pseudo_gt \\\n",
    "                --column-thresholds pseudo_gt_prediction:mean \\\n",
    "                --filter smc_class_score:0 > $output_file"
   ]
  },
  {
   "cell_type": "code",
   "execution_count": 6,
   "id": "e4384ae2-5ebc-4774-aa28-16cf973076c3",
   "metadata": {},
   "outputs": [
    {
     "name": "stderr",
     "output_type": "stream",
     "text": [
      "0it [00:00, ?it/s]"
     ]
    },
    {
     "name": "stdout",
     "output_type": "stream",
     "text": [
      "/Users/amandeep/Github/table-linker/tl_env/lib/python3.8/site-packages/pandas/core/indexing.py:1684: SettingWithCopyWarning: \n",
      "A value is trying to be set on a copy of a slice from a DataFrame.\n",
      "Try using .loc[row_indexer,col_indexer] = value instead\n",
      "\n",
      "See the caveats in the documentation: https://pandas.pydata.org/pandas-docs/stable/user_guide/indexing.html#returning-a-view-versus-a-copy\n",
      "  self.obj[key] = infer_fill_value(value)\n",
      "/Users/amandeep/Github/table-linker/tl_env/lib/python3.8/site-packages/pandas/core/indexing.py:1817: SettingWithCopyWarning: \n",
      "A value is trying to be set on a copy of a slice from a DataFrame.\n",
      "Try using .loc[row_indexer,col_indexer] = value instead\n",
      "\n",
      "See the caveats in the documentation: https://pandas.pydata.org/pandas-docs/stable/user_guide/indexing.html#returning-a-view-versus-a-copy\n",
      "  self._setitem_single_column(loc, value, pi)\n"
     ]
    },
    {
     "name": "stderr",
     "output_type": "stream",
     "text": [
      "1it [00:21, 21.19s/it]"
     ]
    },
    {
     "name": "stdout",
     "output_type": "stream",
     "text": [
      "/Users/amandeep/Github/table-linker/tl_env/lib/python3.8/site-packages/pandas/core/indexing.py:1684: SettingWithCopyWarning: \n",
      "A value is trying to be set on a copy of a slice from a DataFrame.\n",
      "Try using .loc[row_indexer,col_indexer] = value instead\n",
      "\n",
      "See the caveats in the documentation: https://pandas.pydata.org/pandas-docs/stable/user_guide/indexing.html#returning-a-view-versus-a-copy\n",
      "  self.obj[key] = infer_fill_value(value)\n",
      "/Users/amandeep/Github/table-linker/tl_env/lib/python3.8/site-packages/pandas/core/indexing.py:1817: SettingWithCopyWarning: \n",
      "A value is trying to be set on a copy of a slice from a DataFrame.\n",
      "Try using .loc[row_indexer,col_indexer] = value instead\n",
      "\n",
      "See the caveats in the documentation: https://pandas.pydata.org/pandas-docs/stable/user_guide/indexing.html#returning-a-view-versus-a-copy\n",
      "  self._setitem_single_column(loc, value, pi)\n"
     ]
    },
    {
     "name": "stderr",
     "output_type": "stream",
     "text": [
      "2it [00:44, 22.43s/it]"
     ]
    },
    {
     "name": "stdout",
     "output_type": "stream",
     "text": [
      "/Users/amandeep/Github/table-linker/tl_env/lib/python3.8/site-packages/pandas/core/indexing.py:1684: SettingWithCopyWarning: \n",
      "A value is trying to be set on a copy of a slice from a DataFrame.\n",
      "Try using .loc[row_indexer,col_indexer] = value instead\n",
      "\n",
      "See the caveats in the documentation: https://pandas.pydata.org/pandas-docs/stable/user_guide/indexing.html#returning-a-view-versus-a-copy\n",
      "  self.obj[key] = infer_fill_value(value)\n",
      "/Users/amandeep/Github/table-linker/tl_env/lib/python3.8/site-packages/pandas/core/indexing.py:1817: SettingWithCopyWarning: \n",
      "A value is trying to be set on a copy of a slice from a DataFrame.\n",
      "Try using .loc[row_indexer,col_indexer] = value instead\n",
      "\n",
      "See the caveats in the documentation: https://pandas.pydata.org/pandas-docs/stable/user_guide/indexing.html#returning-a-view-versus-a-copy\n",
      "  self._setitem_single_column(loc, value, pi)\n"
     ]
    },
    {
     "name": "stderr",
     "output_type": "stream",
     "text": [
      "3it [03:10, 78.93s/it]"
     ]
    },
    {
     "name": "stdout",
     "output_type": "stream",
     "text": [
      "/Users/amandeep/Github/table-linker/tl_env/lib/python3.8/site-packages/pandas/core/indexing.py:1684: SettingWithCopyWarning: \n",
      "A value is trying to be set on a copy of a slice from a DataFrame.\n",
      "Try using .loc[row_indexer,col_indexer] = value instead\n",
      "\n",
      "See the caveats in the documentation: https://pandas.pydata.org/pandas-docs/stable/user_guide/indexing.html#returning-a-view-versus-a-copy\n",
      "  self.obj[key] = infer_fill_value(value)\n",
      "/Users/amandeep/Github/table-linker/tl_env/lib/python3.8/site-packages/pandas/core/indexing.py:1817: SettingWithCopyWarning: \n",
      "A value is trying to be set on a copy of a slice from a DataFrame.\n",
      "Try using .loc[row_indexer,col_indexer] = value instead\n",
      "\n",
      "See the caveats in the documentation: https://pandas.pydata.org/pandas-docs/stable/user_guide/indexing.html#returning-a-view-versus-a-copy\n",
      "  self._setitem_single_column(loc, value, pi)\n"
     ]
    },
    {
     "name": "stderr",
     "output_type": "stream",
     "text": [
      "4it [03:32, 56.41s/it]"
     ]
    },
    {
     "name": "stdout",
     "output_type": "stream",
     "text": [
      "/Users/amandeep/Github/table-linker/tl_env/lib/python3.8/site-packages/pandas/core/indexing.py:1684: SettingWithCopyWarning: \n",
      "A value is trying to be set on a copy of a slice from a DataFrame.\n",
      "Try using .loc[row_indexer,col_indexer] = value instead\n",
      "\n",
      "See the caveats in the documentation: https://pandas.pydata.org/pandas-docs/stable/user_guide/indexing.html#returning-a-view-versus-a-copy\n",
      "  self.obj[key] = infer_fill_value(value)\n",
      "/Users/amandeep/Github/table-linker/tl_env/lib/python3.8/site-packages/pandas/core/indexing.py:1817: SettingWithCopyWarning: \n",
      "A value is trying to be set on a copy of a slice from a DataFrame.\n",
      "Try using .loc[row_indexer,col_indexer] = value instead\n",
      "\n",
      "See the caveats in the documentation: https://pandas.pydata.org/pandas-docs/stable/user_guide/indexing.html#returning-a-view-versus-a-copy\n",
      "  self._setitem_single_column(loc, value, pi)\n"
     ]
    },
    {
     "name": "stderr",
     "output_type": "stream",
     "text": [
      "5it [04:46, 62.78s/it]"
     ]
    },
    {
     "name": "stdout",
     "output_type": "stream",
     "text": [
      "/Users/amandeep/Github/table-linker/tl_env/lib/python3.8/site-packages/pandas/core/indexing.py:1684: SettingWithCopyWarning: \n",
      "A value is trying to be set on a copy of a slice from a DataFrame.\n",
      "Try using .loc[row_indexer,col_indexer] = value instead\n",
      "\n",
      "See the caveats in the documentation: https://pandas.pydata.org/pandas-docs/stable/user_guide/indexing.html#returning-a-view-versus-a-copy\n",
      "  self.obj[key] = infer_fill_value(value)\n",
      "/Users/amandeep/Github/table-linker/tl_env/lib/python3.8/site-packages/pandas/core/indexing.py:1817: SettingWithCopyWarning: \n",
      "A value is trying to be set on a copy of a slice from a DataFrame.\n",
      "Try using .loc[row_indexer,col_indexer] = value instead\n",
      "\n",
      "See the caveats in the documentation: https://pandas.pydata.org/pandas-docs/stable/user_guide/indexing.html#returning-a-view-versus-a-copy\n",
      "  self._setitem_single_column(loc, value, pi)\n"
     ]
    },
    {
     "name": "stderr",
     "output_type": "stream",
     "text": [
      "6it [05:15, 51.28s/it]"
     ]
    },
    {
     "name": "stdout",
     "output_type": "stream",
     "text": [
      "/Users/amandeep/Github/table-linker/tl_env/lib/python3.8/site-packages/pandas/core/indexing.py:1684: SettingWithCopyWarning: \n",
      "A value is trying to be set on a copy of a slice from a DataFrame.\n",
      "Try using .loc[row_indexer,col_indexer] = value instead\n",
      "\n",
      "See the caveats in the documentation: https://pandas.pydata.org/pandas-docs/stable/user_guide/indexing.html#returning-a-view-versus-a-copy\n",
      "  self.obj[key] = infer_fill_value(value)\n",
      "/Users/amandeep/Github/table-linker/tl_env/lib/python3.8/site-packages/pandas/core/indexing.py:1817: SettingWithCopyWarning: \n",
      "A value is trying to be set on a copy of a slice from a DataFrame.\n",
      "Try using .loc[row_indexer,col_indexer] = value instead\n",
      "\n",
      "See the caveats in the documentation: https://pandas.pydata.org/pandas-docs/stable/user_guide/indexing.html#returning-a-view-versus-a-copy\n",
      "  self._setitem_single_column(loc, value, pi)\n"
     ]
    },
    {
     "name": "stderr",
     "output_type": "stream",
     "text": [
      "7it [06:19, 55.45s/it]"
     ]
    },
    {
     "name": "stdout",
     "output_type": "stream",
     "text": [
      "/Users/amandeep/Github/table-linker/tl_env/lib/python3.8/site-packages/pandas/core/indexing.py:1684: SettingWithCopyWarning: \n",
      "A value is trying to be set on a copy of a slice from a DataFrame.\n",
      "Try using .loc[row_indexer,col_indexer] = value instead\n",
      "\n",
      "See the caveats in the documentation: https://pandas.pydata.org/pandas-docs/stable/user_guide/indexing.html#returning-a-view-versus-a-copy\n",
      "  self.obj[key] = infer_fill_value(value)\n",
      "/Users/amandeep/Github/table-linker/tl_env/lib/python3.8/site-packages/pandas/core/indexing.py:1817: SettingWithCopyWarning: \n",
      "A value is trying to be set on a copy of a slice from a DataFrame.\n",
      "Try using .loc[row_indexer,col_indexer] = value instead\n",
      "\n",
      "See the caveats in the documentation: https://pandas.pydata.org/pandas-docs/stable/user_guide/indexing.html#returning-a-view-versus-a-copy\n",
      "  self._setitem_single_column(loc, value, pi)\n"
     ]
    },
    {
     "name": "stderr",
     "output_type": "stream",
     "text": [
      "8it [07:21, 57.43s/it]"
     ]
    },
    {
     "name": "stdout",
     "output_type": "stream",
     "text": [
      "/Users/amandeep/Github/table-linker/tl_env/lib/python3.8/site-packages/pandas/core/indexing.py:1684: SettingWithCopyWarning: \n",
      "A value is trying to be set on a copy of a slice from a DataFrame.\n",
      "Try using .loc[row_indexer,col_indexer] = value instead\n",
      "\n",
      "See the caveats in the documentation: https://pandas.pydata.org/pandas-docs/stable/user_guide/indexing.html#returning-a-view-versus-a-copy\n",
      "  self.obj[key] = infer_fill_value(value)\n",
      "/Users/amandeep/Github/table-linker/tl_env/lib/python3.8/site-packages/pandas/core/indexing.py:1817: SettingWithCopyWarning: \n",
      "A value is trying to be set on a copy of a slice from a DataFrame.\n",
      "Try using .loc[row_indexer,col_indexer] = value instead\n",
      "\n",
      "See the caveats in the documentation: https://pandas.pydata.org/pandas-docs/stable/user_guide/indexing.html#returning-a-view-versus-a-copy\n",
      "  self._setitem_single_column(loc, value, pi)\n"
     ]
    },
    {
     "name": "stderr",
     "output_type": "stream",
     "text": [
      "9it [08:46, 65.97s/it]"
     ]
    },
    {
     "name": "stdout",
     "output_type": "stream",
     "text": [
      "/Users/amandeep/Github/table-linker/tl_env/lib/python3.8/site-packages/pandas/core/indexing.py:1684: SettingWithCopyWarning: \n",
      "A value is trying to be set on a copy of a slice from a DataFrame.\n",
      "Try using .loc[row_indexer,col_indexer] = value instead\n",
      "\n",
      "See the caveats in the documentation: https://pandas.pydata.org/pandas-docs/stable/user_guide/indexing.html#returning-a-view-versus-a-copy\n",
      "  self.obj[key] = infer_fill_value(value)\n",
      "/Users/amandeep/Github/table-linker/tl_env/lib/python3.8/site-packages/pandas/core/indexing.py:1817: SettingWithCopyWarning: \n",
      "A value is trying to be set on a copy of a slice from a DataFrame.\n",
      "Try using .loc[row_indexer,col_indexer] = value instead\n",
      "\n",
      "See the caveats in the documentation: https://pandas.pydata.org/pandas-docs/stable/user_guide/indexing.html#returning-a-view-versus-a-copy\n",
      "  self._setitem_single_column(loc, value, pi)\n"
     ]
    },
    {
     "name": "stderr",
     "output_type": "stream",
     "text": [
      "10it [11:03, 88.01s/it]"
     ]
    },
    {
     "name": "stdout",
     "output_type": "stream",
     "text": [
      "/Users/amandeep/Github/table-linker/tl_env/lib/python3.8/site-packages/pandas/core/indexing.py:1684: SettingWithCopyWarning: \n",
      "A value is trying to be set on a copy of a slice from a DataFrame.\n",
      "Try using .loc[row_indexer,col_indexer] = value instead\n",
      "\n",
      "See the caveats in the documentation: https://pandas.pydata.org/pandas-docs/stable/user_guide/indexing.html#returning-a-view-versus-a-copy\n",
      "  self.obj[key] = infer_fill_value(value)\n",
      "/Users/amandeep/Github/table-linker/tl_env/lib/python3.8/site-packages/pandas/core/indexing.py:1817: SettingWithCopyWarning: \n",
      "A value is trying to be set on a copy of a slice from a DataFrame.\n",
      "Try using .loc[row_indexer,col_indexer] = value instead\n",
      "\n",
      "See the caveats in the documentation: https://pandas.pydata.org/pandas-docs/stable/user_guide/indexing.html#returning-a-view-versus-a-copy\n",
      "  self._setitem_single_column(loc, value, pi)\n"
     ]
    },
    {
     "name": "stderr",
     "output_type": "stream",
     "text": [
      "11it [11:30, 69.36s/it]"
     ]
    },
    {
     "name": "stdout",
     "output_type": "stream",
     "text": [
      "/Users/amandeep/Github/table-linker/tl_env/lib/python3.8/site-packages/pandas/core/indexing.py:1684: SettingWithCopyWarning: \n",
      "A value is trying to be set on a copy of a slice from a DataFrame.\n",
      "Try using .loc[row_indexer,col_indexer] = value instead\n",
      "\n",
      "See the caveats in the documentation: https://pandas.pydata.org/pandas-docs/stable/user_guide/indexing.html#returning-a-view-versus-a-copy\n",
      "  self.obj[key] = infer_fill_value(value)\n",
      "/Users/amandeep/Github/table-linker/tl_env/lib/python3.8/site-packages/pandas/core/indexing.py:1817: SettingWithCopyWarning: \n",
      "A value is trying to be set on a copy of a slice from a DataFrame.\n",
      "Try using .loc[row_indexer,col_indexer] = value instead\n",
      "\n",
      "See the caveats in the documentation: https://pandas.pydata.org/pandas-docs/stable/user_guide/indexing.html#returning-a-view-versus-a-copy\n",
      "  self._setitem_single_column(loc, value, pi)\n"
     ]
    },
    {
     "name": "stderr",
     "output_type": "stream",
     "text": [
      "12it [12:19, 63.24s/it]"
     ]
    },
    {
     "name": "stdout",
     "output_type": "stream",
     "text": [
      "/Users/amandeep/Github/table-linker/tl_env/lib/python3.8/site-packages/pandas/core/indexing.py:1684: SettingWithCopyWarning: \n",
      "A value is trying to be set on a copy of a slice from a DataFrame.\n",
      "Try using .loc[row_indexer,col_indexer] = value instead\n",
      "\n",
      "See the caveats in the documentation: https://pandas.pydata.org/pandas-docs/stable/user_guide/indexing.html#returning-a-view-versus-a-copy\n",
      "  self.obj[key] = infer_fill_value(value)\n",
      "/Users/amandeep/Github/table-linker/tl_env/lib/python3.8/site-packages/pandas/core/indexing.py:1817: SettingWithCopyWarning: \n",
      "A value is trying to be set on a copy of a slice from a DataFrame.\n",
      "Try using .loc[row_indexer,col_indexer] = value instead\n",
      "\n",
      "See the caveats in the documentation: https://pandas.pydata.org/pandas-docs/stable/user_guide/indexing.html#returning-a-view-versus-a-copy\n",
      "  self._setitem_single_column(loc, value, pi)\n"
     ]
    },
    {
     "name": "stderr",
     "output_type": "stream",
     "text": [
      "13it [12:46, 52.10s/it]"
     ]
    },
    {
     "name": "stdout",
     "output_type": "stream",
     "text": [
      "/Users/amandeep/Github/table-linker/tl_env/lib/python3.8/site-packages/pandas/core/indexing.py:1684: SettingWithCopyWarning: \n",
      "A value is trying to be set on a copy of a slice from a DataFrame.\n",
      "Try using .loc[row_indexer,col_indexer] = value instead\n",
      "\n",
      "See the caveats in the documentation: https://pandas.pydata.org/pandas-docs/stable/user_guide/indexing.html#returning-a-view-versus-a-copy\n",
      "  self.obj[key] = infer_fill_value(value)\n",
      "/Users/amandeep/Github/table-linker/tl_env/lib/python3.8/site-packages/pandas/core/indexing.py:1817: SettingWithCopyWarning: \n",
      "A value is trying to be set on a copy of a slice from a DataFrame.\n",
      "Try using .loc[row_indexer,col_indexer] = value instead\n",
      "\n",
      "See the caveats in the documentation: https://pandas.pydata.org/pandas-docs/stable/user_guide/indexing.html#returning-a-view-versus-a-copy\n",
      "  self._setitem_single_column(loc, value, pi)\n"
     ]
    },
    {
     "name": "stderr",
     "output_type": "stream",
     "text": [
      "14it [13:29, 49.46s/it]"
     ]
    },
    {
     "name": "stdout",
     "output_type": "stream",
     "text": [
      "/Users/amandeep/Github/table-linker/tl_env/lib/python3.8/site-packages/pandas/core/indexing.py:1684: SettingWithCopyWarning: \n",
      "A value is trying to be set on a copy of a slice from a DataFrame.\n",
      "Try using .loc[row_indexer,col_indexer] = value instead\n",
      "\n",
      "See the caveats in the documentation: https://pandas.pydata.org/pandas-docs/stable/user_guide/indexing.html#returning-a-view-versus-a-copy\n",
      "  self.obj[key] = infer_fill_value(value)\n",
      "/Users/amandeep/Github/table-linker/tl_env/lib/python3.8/site-packages/pandas/core/indexing.py:1817: SettingWithCopyWarning: \n",
      "A value is trying to be set on a copy of a slice from a DataFrame.\n",
      "Try using .loc[row_indexer,col_indexer] = value instead\n",
      "\n",
      "See the caveats in the documentation: https://pandas.pydata.org/pandas-docs/stable/user_guide/indexing.html#returning-a-view-versus-a-copy\n",
      "  self._setitem_single_column(loc, value, pi)\n"
     ]
    },
    {
     "name": "stderr",
     "output_type": "stream",
     "text": [
      "15it [14:01, 44.32s/it]"
     ]
    },
    {
     "name": "stdout",
     "output_type": "stream",
     "text": [
      "/Users/amandeep/Github/table-linker/tl_env/lib/python3.8/site-packages/pandas/core/indexing.py:1684: SettingWithCopyWarning: \n",
      "A value is trying to be set on a copy of a slice from a DataFrame.\n",
      "Try using .loc[row_indexer,col_indexer] = value instead\n",
      "\n",
      "See the caveats in the documentation: https://pandas.pydata.org/pandas-docs/stable/user_guide/indexing.html#returning-a-view-versus-a-copy\n",
      "  self.obj[key] = infer_fill_value(value)\n",
      "/Users/amandeep/Github/table-linker/tl_env/lib/python3.8/site-packages/pandas/core/indexing.py:1817: SettingWithCopyWarning: \n",
      "A value is trying to be set on a copy of a slice from a DataFrame.\n",
      "Try using .loc[row_indexer,col_indexer] = value instead\n",
      "\n",
      "See the caveats in the documentation: https://pandas.pydata.org/pandas-docs/stable/user_guide/indexing.html#returning-a-view-versus-a-copy\n",
      "  self._setitem_single_column(loc, value, pi)\n"
     ]
    },
    {
     "name": "stderr",
     "output_type": "stream",
     "text": [
      "16it [14:50, 45.49s/it]"
     ]
    },
    {
     "name": "stdout",
     "output_type": "stream",
     "text": [
      "/Users/amandeep/Github/table-linker/tl_env/lib/python3.8/site-packages/pandas/core/indexing.py:1684: SettingWithCopyWarning: \n",
      "A value is trying to be set on a copy of a slice from a DataFrame.\n",
      "Try using .loc[row_indexer,col_indexer] = value instead\n",
      "\n",
      "See the caveats in the documentation: https://pandas.pydata.org/pandas-docs/stable/user_guide/indexing.html#returning-a-view-versus-a-copy\n",
      "  self.obj[key] = infer_fill_value(value)\n",
      "/Users/amandeep/Github/table-linker/tl_env/lib/python3.8/site-packages/pandas/core/indexing.py:1817: SettingWithCopyWarning: \n",
      "A value is trying to be set on a copy of a slice from a DataFrame.\n",
      "Try using .loc[row_indexer,col_indexer] = value instead\n",
      "\n",
      "See the caveats in the documentation: https://pandas.pydata.org/pandas-docs/stable/user_guide/indexing.html#returning-a-view-versus-a-copy\n",
      "  self._setitem_single_column(loc, value, pi)\n"
     ]
    },
    {
     "name": "stderr",
     "output_type": "stream",
     "text": [
      "17it [15:12, 38.64s/it]"
     ]
    },
    {
     "name": "stdout",
     "output_type": "stream",
     "text": [
      "/Users/amandeep/Github/table-linker/tl_env/lib/python3.8/site-packages/pandas/core/indexing.py:1684: SettingWithCopyWarning: \n",
      "A value is trying to be set on a copy of a slice from a DataFrame.\n",
      "Try using .loc[row_indexer,col_indexer] = value instead\n",
      "\n",
      "See the caveats in the documentation: https://pandas.pydata.org/pandas-docs/stable/user_guide/indexing.html#returning-a-view-versus-a-copy\n",
      "  self.obj[key] = infer_fill_value(value)\n",
      "/Users/amandeep/Github/table-linker/tl_env/lib/python3.8/site-packages/pandas/core/indexing.py:1817: SettingWithCopyWarning: \n",
      "A value is trying to be set on a copy of a slice from a DataFrame.\n",
      "Try using .loc[row_indexer,col_indexer] = value instead\n",
      "\n",
      "See the caveats in the documentation: https://pandas.pydata.org/pandas-docs/stable/user_guide/indexing.html#returning-a-view-versus-a-copy\n",
      "  self._setitem_single_column(loc, value, pi)\n"
     ]
    },
    {
     "name": "stderr",
     "output_type": "stream",
     "text": [
      "18it [16:16, 46.04s/it]"
     ]
    },
    {
     "name": "stdout",
     "output_type": "stream",
     "text": [
      "/Users/amandeep/Github/table-linker/tl_env/lib/python3.8/site-packages/pandas/core/indexing.py:1684: SettingWithCopyWarning: \n",
      "A value is trying to be set on a copy of a slice from a DataFrame.\n",
      "Try using .loc[row_indexer,col_indexer] = value instead\n",
      "\n",
      "See the caveats in the documentation: https://pandas.pydata.org/pandas-docs/stable/user_guide/indexing.html#returning-a-view-versus-a-copy\n",
      "  self.obj[key] = infer_fill_value(value)\n",
      "/Users/amandeep/Github/table-linker/tl_env/lib/python3.8/site-packages/pandas/core/indexing.py:1817: SettingWithCopyWarning: \n",
      "A value is trying to be set on a copy of a slice from a DataFrame.\n",
      "Try using .loc[row_indexer,col_indexer] = value instead\n",
      "\n",
      "See the caveats in the documentation: https://pandas.pydata.org/pandas-docs/stable/user_guide/indexing.html#returning-a-view-versus-a-copy\n",
      "  self._setitem_single_column(loc, value, pi)\n"
     ]
    },
    {
     "name": "stderr",
     "output_type": "stream",
     "text": [
      "19it [16:42, 40.04s/it]"
     ]
    },
    {
     "name": "stdout",
     "output_type": "stream",
     "text": [
      "/Users/amandeep/Github/table-linker/tl_env/lib/python3.8/site-packages/pandas/core/indexing.py:1684: SettingWithCopyWarning: \n",
      "A value is trying to be set on a copy of a slice from a DataFrame.\n",
      "Try using .loc[row_indexer,col_indexer] = value instead\n",
      "\n",
      "See the caveats in the documentation: https://pandas.pydata.org/pandas-docs/stable/user_guide/indexing.html#returning-a-view-versus-a-copy\n",
      "  self.obj[key] = infer_fill_value(value)\n",
      "/Users/amandeep/Github/table-linker/tl_env/lib/python3.8/site-packages/pandas/core/indexing.py:1817: SettingWithCopyWarning: \n",
      "A value is trying to be set on a copy of a slice from a DataFrame.\n",
      "Try using .loc[row_indexer,col_indexer] = value instead\n",
      "\n",
      "See the caveats in the documentation: https://pandas.pydata.org/pandas-docs/stable/user_guide/indexing.html#returning-a-view-versus-a-copy\n",
      "  self._setitem_single_column(loc, value, pi)\n"
     ]
    },
    {
     "name": "stderr",
     "output_type": "stream",
     "text": [
      "20it [17:06, 35.42s/it]"
     ]
    },
    {
     "name": "stdout",
     "output_type": "stream",
     "text": [
      "/Users/amandeep/Github/table-linker/tl_env/lib/python3.8/site-packages/pandas/core/indexing.py:1684: SettingWithCopyWarning: \n",
      "A value is trying to be set on a copy of a slice from a DataFrame.\n",
      "Try using .loc[row_indexer,col_indexer] = value instead\n",
      "\n",
      "See the caveats in the documentation: https://pandas.pydata.org/pandas-docs/stable/user_guide/indexing.html#returning-a-view-versus-a-copy\n",
      "  self.obj[key] = infer_fill_value(value)\n",
      "/Users/amandeep/Github/table-linker/tl_env/lib/python3.8/site-packages/pandas/core/indexing.py:1817: SettingWithCopyWarning: \n",
      "A value is trying to be set on a copy of a slice from a DataFrame.\n",
      "Try using .loc[row_indexer,col_indexer] = value instead\n",
      "\n",
      "See the caveats in the documentation: https://pandas.pydata.org/pandas-docs/stable/user_guide/indexing.html#returning-a-view-versus-a-copy\n",
      "  self._setitem_single_column(loc, value, pi)\n"
     ]
    },
    {
     "name": "stderr",
     "output_type": "stream",
     "text": [
      "21it [18:20, 46.86s/it]"
     ]
    },
    {
     "name": "stdout",
     "output_type": "stream",
     "text": [
      "/Users/amandeep/Github/table-linker/tl_env/lib/python3.8/site-packages/pandas/core/indexing.py:1684: SettingWithCopyWarning: \n",
      "A value is trying to be set on a copy of a slice from a DataFrame.\n",
      "Try using .loc[row_indexer,col_indexer] = value instead\n",
      "\n",
      "See the caveats in the documentation: https://pandas.pydata.org/pandas-docs/stable/user_guide/indexing.html#returning-a-view-versus-a-copy\n",
      "  self.obj[key] = infer_fill_value(value)\n",
      "/Users/amandeep/Github/table-linker/tl_env/lib/python3.8/site-packages/pandas/core/indexing.py:1817: SettingWithCopyWarning: \n",
      "A value is trying to be set on a copy of a slice from a DataFrame.\n",
      "Try using .loc[row_indexer,col_indexer] = value instead\n",
      "\n",
      "See the caveats in the documentation: https://pandas.pydata.org/pandas-docs/stable/user_guide/indexing.html#returning-a-view-versus-a-copy\n",
      "  self._setitem_single_column(loc, value, pi)\n"
     ]
    },
    {
     "name": "stderr",
     "output_type": "stream",
     "text": [
      "22it [19:28, 53.11s/it]"
     ]
    },
    {
     "name": "stdout",
     "output_type": "stream",
     "text": [
      "/Users/amandeep/Github/table-linker/tl_env/lib/python3.8/site-packages/pandas/core/indexing.py:1684: SettingWithCopyWarning: \n",
      "A value is trying to be set on a copy of a slice from a DataFrame.\n",
      "Try using .loc[row_indexer,col_indexer] = value instead\n",
      "\n",
      "See the caveats in the documentation: https://pandas.pydata.org/pandas-docs/stable/user_guide/indexing.html#returning-a-view-versus-a-copy\n",
      "  self.obj[key] = infer_fill_value(value)\n",
      "/Users/amandeep/Github/table-linker/tl_env/lib/python3.8/site-packages/pandas/core/indexing.py:1817: SettingWithCopyWarning: \n",
      "A value is trying to be set on a copy of a slice from a DataFrame.\n",
      "Try using .loc[row_indexer,col_indexer] = value instead\n",
      "\n",
      "See the caveats in the documentation: https://pandas.pydata.org/pandas-docs/stable/user_guide/indexing.html#returning-a-view-versus-a-copy\n",
      "  self._setitem_single_column(loc, value, pi)\n"
     ]
    },
    {
     "name": "stderr",
     "output_type": "stream",
     "text": [
      "23it [20:40, 59.01s/it]"
     ]
    },
    {
     "name": "stdout",
     "output_type": "stream",
     "text": [
      "/Users/amandeep/Github/table-linker/tl_env/lib/python3.8/site-packages/pandas/core/indexing.py:1684: SettingWithCopyWarning: \n",
      "A value is trying to be set on a copy of a slice from a DataFrame.\n",
      "Try using .loc[row_indexer,col_indexer] = value instead\n",
      "\n",
      "See the caveats in the documentation: https://pandas.pydata.org/pandas-docs/stable/user_guide/indexing.html#returning-a-view-versus-a-copy\n",
      "  self.obj[key] = infer_fill_value(value)\n",
      "/Users/amandeep/Github/table-linker/tl_env/lib/python3.8/site-packages/pandas/core/indexing.py:1817: SettingWithCopyWarning: \n",
      "A value is trying to be set on a copy of a slice from a DataFrame.\n",
      "Try using .loc[row_indexer,col_indexer] = value instead\n",
      "\n",
      "See the caveats in the documentation: https://pandas.pydata.org/pandas-docs/stable/user_guide/indexing.html#returning-a-view-versus-a-copy\n",
      "  self._setitem_single_column(loc, value, pi)\n"
     ]
    },
    {
     "name": "stderr",
     "output_type": "stream",
     "text": [
      "24it [21:26, 54.87s/it]"
     ]
    },
    {
     "name": "stdout",
     "output_type": "stream",
     "text": [
      "/Users/amandeep/Github/table-linker/tl_env/lib/python3.8/site-packages/pandas/core/indexing.py:1684: SettingWithCopyWarning: \n",
      "A value is trying to be set on a copy of a slice from a DataFrame.\n",
      "Try using .loc[row_indexer,col_indexer] = value instead\n",
      "\n",
      "See the caveats in the documentation: https://pandas.pydata.org/pandas-docs/stable/user_guide/indexing.html#returning-a-view-versus-a-copy\n",
      "  self.obj[key] = infer_fill_value(value)\n",
      "/Users/amandeep/Github/table-linker/tl_env/lib/python3.8/site-packages/pandas/core/indexing.py:1817: SettingWithCopyWarning: \n",
      "A value is trying to be set on a copy of a slice from a DataFrame.\n",
      "Try using .loc[row_indexer,col_indexer] = value instead\n",
      "\n",
      "See the caveats in the documentation: https://pandas.pydata.org/pandas-docs/stable/user_guide/indexing.html#returning-a-view-versus-a-copy\n",
      "  self._setitem_single_column(loc, value, pi)\n"
     ]
    },
    {
     "name": "stderr",
     "output_type": "stream",
     "text": [
      "25it [22:07, 50.97s/it]"
     ]
    },
    {
     "name": "stdout",
     "output_type": "stream",
     "text": [
      "/Users/amandeep/Github/table-linker/tl_env/lib/python3.8/site-packages/pandas/core/indexing.py:1684: SettingWithCopyWarning: \n",
      "A value is trying to be set on a copy of a slice from a DataFrame.\n",
      "Try using .loc[row_indexer,col_indexer] = value instead\n",
      "\n",
      "See the caveats in the documentation: https://pandas.pydata.org/pandas-docs/stable/user_guide/indexing.html#returning-a-view-versus-a-copy\n",
      "  self.obj[key] = infer_fill_value(value)\n",
      "/Users/amandeep/Github/table-linker/tl_env/lib/python3.8/site-packages/pandas/core/indexing.py:1817: SettingWithCopyWarning: \n",
      "A value is trying to be set on a copy of a slice from a DataFrame.\n",
      "Try using .loc[row_indexer,col_indexer] = value instead\n",
      "\n",
      "See the caveats in the documentation: https://pandas.pydata.org/pandas-docs/stable/user_guide/indexing.html#returning-a-view-versus-a-copy\n",
      "  self._setitem_single_column(loc, value, pi)\n"
     ]
    },
    {
     "name": "stderr",
     "output_type": "stream",
     "text": [
      "26it [22:38, 44.98s/it]"
     ]
    },
    {
     "name": "stdout",
     "output_type": "stream",
     "text": [
      "/Users/amandeep/Github/table-linker/tl_env/lib/python3.8/site-packages/pandas/core/indexing.py:1684: SettingWithCopyWarning: \n",
      "A value is trying to be set on a copy of a slice from a DataFrame.\n",
      "Try using .loc[row_indexer,col_indexer] = value instead\n",
      "\n",
      "See the caveats in the documentation: https://pandas.pydata.org/pandas-docs/stable/user_guide/indexing.html#returning-a-view-versus-a-copy\n",
      "  self.obj[key] = infer_fill_value(value)\n",
      "/Users/amandeep/Github/table-linker/tl_env/lib/python3.8/site-packages/pandas/core/indexing.py:1817: SettingWithCopyWarning: \n",
      "A value is trying to be set on a copy of a slice from a DataFrame.\n",
      "Try using .loc[row_indexer,col_indexer] = value instead\n",
      "\n",
      "See the caveats in the documentation: https://pandas.pydata.org/pandas-docs/stable/user_guide/indexing.html#returning-a-view-versus-a-copy\n",
      "  self._setitem_single_column(loc, value, pi)\n"
     ]
    },
    {
     "name": "stderr",
     "output_type": "stream",
     "text": [
      "27it [23:00, 37.93s/it]"
     ]
    },
    {
     "name": "stdout",
     "output_type": "stream",
     "text": [
      "/Users/amandeep/Github/table-linker/tl_env/lib/python3.8/site-packages/pandas/core/indexing.py:1684: SettingWithCopyWarning: \n",
      "A value is trying to be set on a copy of a slice from a DataFrame.\n",
      "Try using .loc[row_indexer,col_indexer] = value instead\n",
      "\n",
      "See the caveats in the documentation: https://pandas.pydata.org/pandas-docs/stable/user_guide/indexing.html#returning-a-view-versus-a-copy\n",
      "  self.obj[key] = infer_fill_value(value)\n",
      "/Users/amandeep/Github/table-linker/tl_env/lib/python3.8/site-packages/pandas/core/indexing.py:1817: SettingWithCopyWarning: \n",
      "A value is trying to be set on a copy of a slice from a DataFrame.\n",
      "Try using .loc[row_indexer,col_indexer] = value instead\n",
      "\n",
      "See the caveats in the documentation: https://pandas.pydata.org/pandas-docs/stable/user_guide/indexing.html#returning-a-view-versus-a-copy\n",
      "  self._setitem_single_column(loc, value, pi)\n"
     ]
    },
    {
     "name": "stderr",
     "output_type": "stream",
     "text": [
      "28it [23:21, 32.90s/it]"
     ]
    },
    {
     "name": "stdout",
     "output_type": "stream",
     "text": [
      "/Users/amandeep/Github/table-linker/tl_env/lib/python3.8/site-packages/pandas/core/indexing.py:1684: SettingWithCopyWarning: \n",
      "A value is trying to be set on a copy of a slice from a DataFrame.\n",
      "Try using .loc[row_indexer,col_indexer] = value instead\n",
      "\n",
      "See the caveats in the documentation: https://pandas.pydata.org/pandas-docs/stable/user_guide/indexing.html#returning-a-view-versus-a-copy\n",
      "  self.obj[key] = infer_fill_value(value)\n",
      "/Users/amandeep/Github/table-linker/tl_env/lib/python3.8/site-packages/pandas/core/indexing.py:1817: SettingWithCopyWarning: \n",
      "A value is trying to be set on a copy of a slice from a DataFrame.\n",
      "Try using .loc[row_indexer,col_indexer] = value instead\n",
      "\n",
      "See the caveats in the documentation: https://pandas.pydata.org/pandas-docs/stable/user_guide/indexing.html#returning-a-view-versus-a-copy\n",
      "  self._setitem_single_column(loc, value, pi)\n"
     ]
    },
    {
     "name": "stderr",
     "output_type": "stream",
     "text": [
      "29it [23:51, 31.96s/it]"
     ]
    },
    {
     "name": "stdout",
     "output_type": "stream",
     "text": [
      "/Users/amandeep/Github/table-linker/tl_env/lib/python3.8/site-packages/pandas/core/indexing.py:1684: SettingWithCopyWarning: \n",
      "A value is trying to be set on a copy of a slice from a DataFrame.\n",
      "Try using .loc[row_indexer,col_indexer] = value instead\n",
      "\n",
      "See the caveats in the documentation: https://pandas.pydata.org/pandas-docs/stable/user_guide/indexing.html#returning-a-view-versus-a-copy\n",
      "  self.obj[key] = infer_fill_value(value)\n",
      "/Users/amandeep/Github/table-linker/tl_env/lib/python3.8/site-packages/pandas/core/indexing.py:1817: SettingWithCopyWarning: \n",
      "A value is trying to be set on a copy of a slice from a DataFrame.\n",
      "Try using .loc[row_indexer,col_indexer] = value instead\n",
      "\n",
      "See the caveats in the documentation: https://pandas.pydata.org/pandas-docs/stable/user_guide/indexing.html#returning-a-view-versus-a-copy\n",
      "  self._setitem_single_column(loc, value, pi)\n"
     ]
    },
    {
     "name": "stderr",
     "output_type": "stream",
     "text": [
      "30it [24:16, 30.06s/it]"
     ]
    },
    {
     "name": "stdout",
     "output_type": "stream",
     "text": [
      "/Users/amandeep/Github/table-linker/tl_env/lib/python3.8/site-packages/pandas/core/indexing.py:1684: SettingWithCopyWarning: \n",
      "A value is trying to be set on a copy of a slice from a DataFrame.\n",
      "Try using .loc[row_indexer,col_indexer] = value instead\n",
      "\n",
      "See the caveats in the documentation: https://pandas.pydata.org/pandas-docs/stable/user_guide/indexing.html#returning-a-view-versus-a-copy\n",
      "  self.obj[key] = infer_fill_value(value)\n",
      "/Users/amandeep/Github/table-linker/tl_env/lib/python3.8/site-packages/pandas/core/indexing.py:1817: SettingWithCopyWarning: \n",
      "A value is trying to be set on a copy of a slice from a DataFrame.\n",
      "Try using .loc[row_indexer,col_indexer] = value instead\n",
      "\n",
      "See the caveats in the documentation: https://pandas.pydata.org/pandas-docs/stable/user_guide/indexing.html#returning-a-view-versus-a-copy\n",
      "  self._setitem_single_column(loc, value, pi)\n"
     ]
    },
    {
     "name": "stderr",
     "output_type": "stream",
     "text": [
      "31it [24:37, 27.22s/it]"
     ]
    },
    {
     "name": "stdout",
     "output_type": "stream",
     "text": [
      "/Users/amandeep/Github/table-linker/tl_env/lib/python3.8/site-packages/pandas/core/indexing.py:1684: SettingWithCopyWarning: \n",
      "A value is trying to be set on a copy of a slice from a DataFrame.\n",
      "Try using .loc[row_indexer,col_indexer] = value instead\n",
      "\n",
      "See the caveats in the documentation: https://pandas.pydata.org/pandas-docs/stable/user_guide/indexing.html#returning-a-view-versus-a-copy\n",
      "  self.obj[key] = infer_fill_value(value)\n",
      "/Users/amandeep/Github/table-linker/tl_env/lib/python3.8/site-packages/pandas/core/indexing.py:1817: SettingWithCopyWarning: \n",
      "A value is trying to be set on a copy of a slice from a DataFrame.\n",
      "Try using .loc[row_indexer,col_indexer] = value instead\n",
      "\n",
      "See the caveats in the documentation: https://pandas.pydata.org/pandas-docs/stable/user_guide/indexing.html#returning-a-view-versus-a-copy\n",
      "  self._setitem_single_column(loc, value, pi)\n"
     ]
    },
    {
     "name": "stderr",
     "output_type": "stream",
     "text": [
      "32it [25:15, 30.51s/it]"
     ]
    },
    {
     "name": "stdout",
     "output_type": "stream",
     "text": [
      "/Users/amandeep/Github/table-linker/tl_env/lib/python3.8/site-packages/pandas/core/indexing.py:1684: SettingWithCopyWarning: \n",
      "A value is trying to be set on a copy of a slice from a DataFrame.\n",
      "Try using .loc[row_indexer,col_indexer] = value instead\n",
      "\n",
      "See the caveats in the documentation: https://pandas.pydata.org/pandas-docs/stable/user_guide/indexing.html#returning-a-view-versus-a-copy\n",
      "  self.obj[key] = infer_fill_value(value)\n",
      "/Users/amandeep/Github/table-linker/tl_env/lib/python3.8/site-packages/pandas/core/indexing.py:1817: SettingWithCopyWarning: \n",
      "A value is trying to be set on a copy of a slice from a DataFrame.\n",
      "Try using .loc[row_indexer,col_indexer] = value instead\n",
      "\n",
      "See the caveats in the documentation: https://pandas.pydata.org/pandas-docs/stable/user_guide/indexing.html#returning-a-view-versus-a-copy\n",
      "  self._setitem_single_column(loc, value, pi)\n"
     ]
    },
    {
     "name": "stderr",
     "output_type": "stream",
     "text": [
      "33it [26:18, 40.09s/it]"
     ]
    },
    {
     "name": "stdout",
     "output_type": "stream",
     "text": [
      "/Users/amandeep/Github/table-linker/tl_env/lib/python3.8/site-packages/pandas/core/indexing.py:1684: SettingWithCopyWarning: \n",
      "A value is trying to be set on a copy of a slice from a DataFrame.\n",
      "Try using .loc[row_indexer,col_indexer] = value instead\n",
      "\n",
      "See the caveats in the documentation: https://pandas.pydata.org/pandas-docs/stable/user_guide/indexing.html#returning-a-view-versus-a-copy\n",
      "  self.obj[key] = infer_fill_value(value)\n",
      "/Users/amandeep/Github/table-linker/tl_env/lib/python3.8/site-packages/pandas/core/indexing.py:1817: SettingWithCopyWarning: \n",
      "A value is trying to be set on a copy of a slice from a DataFrame.\n",
      "Try using .loc[row_indexer,col_indexer] = value instead\n",
      "\n",
      "See the caveats in the documentation: https://pandas.pydata.org/pandas-docs/stable/user_guide/indexing.html#returning-a-view-versus-a-copy\n",
      "  self._setitem_single_column(loc, value, pi)\n"
     ]
    },
    {
     "name": "stderr",
     "output_type": "stream",
     "text": [
      "34it [27:47, 54.85s/it]"
     ]
    },
    {
     "name": "stdout",
     "output_type": "stream",
     "text": [
      "/Users/amandeep/Github/table-linker/tl_env/lib/python3.8/site-packages/pandas/core/indexing.py:1684: SettingWithCopyWarning: \n",
      "A value is trying to be set on a copy of a slice from a DataFrame.\n",
      "Try using .loc[row_indexer,col_indexer] = value instead\n",
      "\n",
      "See the caveats in the documentation: https://pandas.pydata.org/pandas-docs/stable/user_guide/indexing.html#returning-a-view-versus-a-copy\n",
      "  self.obj[key] = infer_fill_value(value)\n",
      "/Users/amandeep/Github/table-linker/tl_env/lib/python3.8/site-packages/pandas/core/indexing.py:1817: SettingWithCopyWarning: \n",
      "A value is trying to be set on a copy of a slice from a DataFrame.\n",
      "Try using .loc[row_indexer,col_indexer] = value instead\n",
      "\n",
      "See the caveats in the documentation: https://pandas.pydata.org/pandas-docs/stable/user_guide/indexing.html#returning-a-view-versus-a-copy\n",
      "  self._setitem_single_column(loc, value, pi)\n"
     ]
    },
    {
     "name": "stderr",
     "output_type": "stream",
     "text": [
      "35it [28:45, 55.91s/it]"
     ]
    },
    {
     "name": "stdout",
     "output_type": "stream",
     "text": [
      "/Users/amandeep/Github/table-linker/tl_env/lib/python3.8/site-packages/pandas/core/indexing.py:1684: SettingWithCopyWarning: \n",
      "A value is trying to be set on a copy of a slice from a DataFrame.\n",
      "Try using .loc[row_indexer,col_indexer] = value instead\n",
      "\n",
      "See the caveats in the documentation: https://pandas.pydata.org/pandas-docs/stable/user_guide/indexing.html#returning-a-view-versus-a-copy\n",
      "  self.obj[key] = infer_fill_value(value)\n",
      "/Users/amandeep/Github/table-linker/tl_env/lib/python3.8/site-packages/pandas/core/indexing.py:1817: SettingWithCopyWarning: \n",
      "A value is trying to be set on a copy of a slice from a DataFrame.\n",
      "Try using .loc[row_indexer,col_indexer] = value instead\n",
      "\n",
      "See the caveats in the documentation: https://pandas.pydata.org/pandas-docs/stable/user_guide/indexing.html#returning-a-view-versus-a-copy\n",
      "  self._setitem_single_column(loc, value, pi)\n"
     ]
    },
    {
     "name": "stderr",
     "output_type": "stream",
     "text": [
      "37it [29:16, 37.15s/it]"
     ]
    },
    {
     "name": "stdout",
     "output_type": "stream",
     "text": [
      "/Users/amandeep/Github/table-linker/tl/cli/pgt-semantic-tf-idf.py:46: DtypeWarning: Columns (29,30) have mixed types.Specify dtype option on import or set low_memory=False.\n",
      "  tfidf_unit = SemanticsFeature(kwargs['output_column_name'],\n",
      "/Users/amandeep/Github/table-linker/tl/cli/pgt-semantic-tf-idf.py:46: DtypeWarning: Columns (29,30,34) have mixed types.Specify dtype option on import or set low_memory=False.\n",
      "  tfidf_unit = SemanticsFeature(kwargs['output_column_name'],\n",
      "/Users/amandeep/Github/table-linker/tl/exceptions.py:20: DtypeWarning: Columns (29,30,34,36) have mixed types.Specify dtype option on import or set low_memory=False.\n",
      "  return_code = func(*args, **kwargs) or 0\n",
      "/Users/amandeep/Github/table-linker/tl_env/lib/python3.8/site-packages/pandas/core/indexing.py:1684: SettingWithCopyWarning: \n",
      "A value is trying to be set on a copy of a slice from a DataFrame.\n",
      "Try using .loc[row_indexer,col_indexer] = value instead\n",
      "\n",
      "See the caveats in the documentation: https://pandas.pydata.org/pandas-docs/stable/user_guide/indexing.html#returning-a-view-versus-a-copy\n",
      "  self.obj[key] = infer_fill_value(value)\n",
      "/Users/amandeep/Github/table-linker/tl_env/lib/python3.8/site-packages/pandas/core/indexing.py:1817: SettingWithCopyWarning: \n",
      "A value is trying to be set on a copy of a slice from a DataFrame.\n",
      "Try using .loc[row_indexer,col_indexer] = value instead\n",
      "\n",
      "See the caveats in the documentation: https://pandas.pydata.org/pandas-docs/stable/user_guide/indexing.html#returning-a-view-versus-a-copy\n",
      "  self._setitem_single_column(loc, value, pi)\n"
     ]
    },
    {
     "name": "stderr",
     "output_type": "stream",
     "text": [
      "38it [30:36, 47.89s/it]"
     ]
    },
    {
     "name": "stdout",
     "output_type": "stream",
     "text": [
      "/Users/amandeep/Github/table-linker/tl_env/lib/python3.8/site-packages/pandas/core/indexing.py:1684: SettingWithCopyWarning: \n",
      "A value is trying to be set on a copy of a slice from a DataFrame.\n",
      "Try using .loc[row_indexer,col_indexer] = value instead\n",
      "\n",
      "See the caveats in the documentation: https://pandas.pydata.org/pandas-docs/stable/user_guide/indexing.html#returning-a-view-versus-a-copy\n",
      "  self.obj[key] = infer_fill_value(value)\n",
      "/Users/amandeep/Github/table-linker/tl_env/lib/python3.8/site-packages/pandas/core/indexing.py:1817: SettingWithCopyWarning: \n",
      "A value is trying to be set on a copy of a slice from a DataFrame.\n",
      "Try using .loc[row_indexer,col_indexer] = value instead\n",
      "\n",
      "See the caveats in the documentation: https://pandas.pydata.org/pandas-docs/stable/user_guide/indexing.html#returning-a-view-versus-a-copy\n",
      "  self._setitem_single_column(loc, value, pi)\n"
     ]
    },
    {
     "name": "stderr",
     "output_type": "stream",
     "text": [
      "39it [31:44, 53.13s/it]"
     ]
    },
    {
     "name": "stdout",
     "output_type": "stream",
     "text": [
      "/Users/amandeep/Github/table-linker/tl_env/lib/python3.8/site-packages/pandas/core/indexing.py:1684: SettingWithCopyWarning: \n",
      "A value is trying to be set on a copy of a slice from a DataFrame.\n",
      "Try using .loc[row_indexer,col_indexer] = value instead\n",
      "\n",
      "See the caveats in the documentation: https://pandas.pydata.org/pandas-docs/stable/user_guide/indexing.html#returning-a-view-versus-a-copy\n",
      "  self.obj[key] = infer_fill_value(value)\n",
      "/Users/amandeep/Github/table-linker/tl_env/lib/python3.8/site-packages/pandas/core/indexing.py:1817: SettingWithCopyWarning: \n",
      "A value is trying to be set on a copy of a slice from a DataFrame.\n",
      "Try using .loc[row_indexer,col_indexer] = value instead\n",
      "\n",
      "See the caveats in the documentation: https://pandas.pydata.org/pandas-docs/stable/user_guide/indexing.html#returning-a-view-versus-a-copy\n",
      "  self._setitem_single_column(loc, value, pi)\n"
     ]
    },
    {
     "name": "stderr",
     "output_type": "stream",
     "text": [
      "40it [32:12, 46.09s/it]"
     ]
    },
    {
     "name": "stdout",
     "output_type": "stream",
     "text": [
      "/Users/amandeep/Github/table-linker/tl_env/lib/python3.8/site-packages/pandas/core/indexing.py:1684: SettingWithCopyWarning: \n",
      "A value is trying to be set on a copy of a slice from a DataFrame.\n",
      "Try using .loc[row_indexer,col_indexer] = value instead\n",
      "\n",
      "See the caveats in the documentation: https://pandas.pydata.org/pandas-docs/stable/user_guide/indexing.html#returning-a-view-versus-a-copy\n",
      "  self.obj[key] = infer_fill_value(value)\n",
      "/Users/amandeep/Github/table-linker/tl_env/lib/python3.8/site-packages/pandas/core/indexing.py:1817: SettingWithCopyWarning: \n",
      "A value is trying to be set on a copy of a slice from a DataFrame.\n",
      "Try using .loc[row_indexer,col_indexer] = value instead\n",
      "\n",
      "See the caveats in the documentation: https://pandas.pydata.org/pandas-docs/stable/user_guide/indexing.html#returning-a-view-versus-a-copy\n",
      "  self._setitem_single_column(loc, value, pi)\n"
     ]
    },
    {
     "name": "stderr",
     "output_type": "stream",
     "text": [
      "41it [33:06, 48.34s/it]"
     ]
    },
    {
     "name": "stdout",
     "output_type": "stream",
     "text": [
      "/Users/amandeep/Github/table-linker/tl_env/lib/python3.8/site-packages/pandas/core/indexing.py:1684: SettingWithCopyWarning: \n",
      "A value is trying to be set on a copy of a slice from a DataFrame.\n",
      "Try using .loc[row_indexer,col_indexer] = value instead\n",
      "\n",
      "See the caveats in the documentation: https://pandas.pydata.org/pandas-docs/stable/user_guide/indexing.html#returning-a-view-versus-a-copy\n",
      "  self.obj[key] = infer_fill_value(value)\n",
      "/Users/amandeep/Github/table-linker/tl_env/lib/python3.8/site-packages/pandas/core/indexing.py:1817: SettingWithCopyWarning: \n",
      "A value is trying to be set on a copy of a slice from a DataFrame.\n",
      "Try using .loc[row_indexer,col_indexer] = value instead\n",
      "\n",
      "See the caveats in the documentation: https://pandas.pydata.org/pandas-docs/stable/user_guide/indexing.html#returning-a-view-versus-a-copy\n",
      "  self._setitem_single_column(loc, value, pi)\n"
     ]
    },
    {
     "name": "stderr",
     "output_type": "stream",
     "text": [
      "42it [34:26, 57.48s/it]"
     ]
    },
    {
     "name": "stdout",
     "output_type": "stream",
     "text": [
      "/Users/amandeep/Github/table-linker/tl_env/lib/python3.8/site-packages/pandas/core/indexing.py:1684: SettingWithCopyWarning: \n",
      "A value is trying to be set on a copy of a slice from a DataFrame.\n",
      "Try using .loc[row_indexer,col_indexer] = value instead\n",
      "\n",
      "See the caveats in the documentation: https://pandas.pydata.org/pandas-docs/stable/user_guide/indexing.html#returning-a-view-versus-a-copy\n",
      "  self.obj[key] = infer_fill_value(value)\n",
      "/Users/amandeep/Github/table-linker/tl_env/lib/python3.8/site-packages/pandas/core/indexing.py:1817: SettingWithCopyWarning: \n",
      "A value is trying to be set on a copy of a slice from a DataFrame.\n",
      "Try using .loc[row_indexer,col_indexer] = value instead\n",
      "\n",
      "See the caveats in the documentation: https://pandas.pydata.org/pandas-docs/stable/user_guide/indexing.html#returning-a-view-versus-a-copy\n",
      "  self._setitem_single_column(loc, value, pi)\n"
     ]
    },
    {
     "name": "stderr",
     "output_type": "stream",
     "text": [
      "43it [35:20, 56.45s/it]"
     ]
    },
    {
     "name": "stdout",
     "output_type": "stream",
     "text": [
      "/Users/amandeep/Github/table-linker/tl_env/lib/python3.8/site-packages/pandas/core/indexing.py:1684: SettingWithCopyWarning: \n",
      "A value is trying to be set on a copy of a slice from a DataFrame.\n",
      "Try using .loc[row_indexer,col_indexer] = value instead\n",
      "\n",
      "See the caveats in the documentation: https://pandas.pydata.org/pandas-docs/stable/user_guide/indexing.html#returning-a-view-versus-a-copy\n",
      "  self.obj[key] = infer_fill_value(value)\n",
      "/Users/amandeep/Github/table-linker/tl_env/lib/python3.8/site-packages/pandas/core/indexing.py:1817: SettingWithCopyWarning: \n",
      "A value is trying to be set on a copy of a slice from a DataFrame.\n",
      "Try using .loc[row_indexer,col_indexer] = value instead\n",
      "\n",
      "See the caveats in the documentation: https://pandas.pydata.org/pandas-docs/stable/user_guide/indexing.html#returning-a-view-versus-a-copy\n",
      "  self._setitem_single_column(loc, value, pi)\n"
     ]
    },
    {
     "name": "stderr",
     "output_type": "stream",
     "text": [
      "44it [35:40, 45.89s/it]"
     ]
    },
    {
     "name": "stdout",
     "output_type": "stream",
     "text": [
      "/Users/amandeep/Github/table-linker/tl_env/lib/python3.8/site-packages/pandas/core/indexing.py:1684: SettingWithCopyWarning: \n",
      "A value is trying to be set on a copy of a slice from a DataFrame.\n",
      "Try using .loc[row_indexer,col_indexer] = value instead\n",
      "\n",
      "See the caveats in the documentation: https://pandas.pydata.org/pandas-docs/stable/user_guide/indexing.html#returning-a-view-versus-a-copy\n",
      "  self.obj[key] = infer_fill_value(value)\n",
      "/Users/amandeep/Github/table-linker/tl_env/lib/python3.8/site-packages/pandas/core/indexing.py:1817: SettingWithCopyWarning: \n",
      "A value is trying to be set on a copy of a slice from a DataFrame.\n",
      "Try using .loc[row_indexer,col_indexer] = value instead\n",
      "\n",
      "See the caveats in the documentation: https://pandas.pydata.org/pandas-docs/stable/user_guide/indexing.html#returning-a-view-versus-a-copy\n",
      "  self._setitem_single_column(loc, value, pi)\n"
     ]
    },
    {
     "name": "stderr",
     "output_type": "stream",
     "text": [
      "45it [36:02, 38.63s/it]"
     ]
    },
    {
     "name": "stdout",
     "output_type": "stream",
     "text": [
      "/Users/amandeep/Github/table-linker/tl_env/lib/python3.8/site-packages/pandas/core/indexing.py:1684: SettingWithCopyWarning: \n",
      "A value is trying to be set on a copy of a slice from a DataFrame.\n",
      "Try using .loc[row_indexer,col_indexer] = value instead\n",
      "\n",
      "See the caveats in the documentation: https://pandas.pydata.org/pandas-docs/stable/user_guide/indexing.html#returning-a-view-versus-a-copy\n",
      "  self.obj[key] = infer_fill_value(value)\n",
      "/Users/amandeep/Github/table-linker/tl_env/lib/python3.8/site-packages/pandas/core/indexing.py:1817: SettingWithCopyWarning: \n",
      "A value is trying to be set on a copy of a slice from a DataFrame.\n",
      "Try using .loc[row_indexer,col_indexer] = value instead\n",
      "\n",
      "See the caveats in the documentation: https://pandas.pydata.org/pandas-docs/stable/user_guide/indexing.html#returning-a-view-versus-a-copy\n",
      "  self._setitem_single_column(loc, value, pi)\n"
     ]
    },
    {
     "name": "stderr",
     "output_type": "stream",
     "text": [
      "46it [37:04, 45.79s/it]"
     ]
    },
    {
     "name": "stdout",
     "output_type": "stream",
     "text": [
      "/Users/amandeep/Github/table-linker/tl_env/lib/python3.8/site-packages/pandas/core/indexing.py:1684: SettingWithCopyWarning: \n",
      "A value is trying to be set on a copy of a slice from a DataFrame.\n",
      "Try using .loc[row_indexer,col_indexer] = value instead\n",
      "\n",
      "See the caveats in the documentation: https://pandas.pydata.org/pandas-docs/stable/user_guide/indexing.html#returning-a-view-versus-a-copy\n",
      "  self.obj[key] = infer_fill_value(value)\n",
      "/Users/amandeep/Github/table-linker/tl_env/lib/python3.8/site-packages/pandas/core/indexing.py:1817: SettingWithCopyWarning: \n",
      "A value is trying to be set on a copy of a slice from a DataFrame.\n",
      "Try using .loc[row_indexer,col_indexer] = value instead\n",
      "\n",
      "See the caveats in the documentation: https://pandas.pydata.org/pandas-docs/stable/user_guide/indexing.html#returning-a-view-versus-a-copy\n",
      "  self._setitem_single_column(loc, value, pi)\n"
     ]
    },
    {
     "name": "stderr",
     "output_type": "stream",
     "text": [
      "47it [37:46, 44.66s/it]"
     ]
    },
    {
     "name": "stdout",
     "output_type": "stream",
     "text": [
      "/Users/amandeep/Github/table-linker/tl_env/lib/python3.8/site-packages/pandas/core/indexing.py:1684: SettingWithCopyWarning: \n",
      "A value is trying to be set on a copy of a slice from a DataFrame.\n",
      "Try using .loc[row_indexer,col_indexer] = value instead\n",
      "\n",
      "See the caveats in the documentation: https://pandas.pydata.org/pandas-docs/stable/user_guide/indexing.html#returning-a-view-versus-a-copy\n",
      "  self.obj[key] = infer_fill_value(value)\n",
      "/Users/amandeep/Github/table-linker/tl_env/lib/python3.8/site-packages/pandas/core/indexing.py:1817: SettingWithCopyWarning: \n",
      "A value is trying to be set on a copy of a slice from a DataFrame.\n",
      "Try using .loc[row_indexer,col_indexer] = value instead\n",
      "\n",
      "See the caveats in the documentation: https://pandas.pydata.org/pandas-docs/stable/user_guide/indexing.html#returning-a-view-versus-a-copy\n",
      "  self._setitem_single_column(loc, value, pi)\n"
     ]
    },
    {
     "name": "stderr",
     "output_type": "stream",
     "text": [
      "48it [38:10, 38.37s/it]"
     ]
    },
    {
     "name": "stdout",
     "output_type": "stream",
     "text": [
      "/Users/amandeep/Github/table-linker/tl_env/lib/python3.8/site-packages/pandas/core/indexing.py:1684: SettingWithCopyWarning: \n",
      "A value is trying to be set on a copy of a slice from a DataFrame.\n",
      "Try using .loc[row_indexer,col_indexer] = value instead\n",
      "\n",
      "See the caveats in the documentation: https://pandas.pydata.org/pandas-docs/stable/user_guide/indexing.html#returning-a-view-versus-a-copy\n",
      "  self.obj[key] = infer_fill_value(value)\n",
      "/Users/amandeep/Github/table-linker/tl_env/lib/python3.8/site-packages/pandas/core/indexing.py:1817: SettingWithCopyWarning: \n",
      "A value is trying to be set on a copy of a slice from a DataFrame.\n",
      "Try using .loc[row_indexer,col_indexer] = value instead\n",
      "\n",
      "See the caveats in the documentation: https://pandas.pydata.org/pandas-docs/stable/user_guide/indexing.html#returning-a-view-versus-a-copy\n",
      "  self._setitem_single_column(loc, value, pi)\n"
     ]
    },
    {
     "name": "stderr",
     "output_type": "stream",
     "text": [
      "49it [38:30, 33.03s/it]"
     ]
    },
    {
     "name": "stdout",
     "output_type": "stream",
     "text": [
      "/Users/amandeep/Github/table-linker/tl_env/lib/python3.8/site-packages/pandas/core/indexing.py:1684: SettingWithCopyWarning: \n",
      "A value is trying to be set on a copy of a slice from a DataFrame.\n",
      "Try using .loc[row_indexer,col_indexer] = value instead\n",
      "\n",
      "See the caveats in the documentation: https://pandas.pydata.org/pandas-docs/stable/user_guide/indexing.html#returning-a-view-versus-a-copy\n",
      "  self.obj[key] = infer_fill_value(value)\n",
      "/Users/amandeep/Github/table-linker/tl_env/lib/python3.8/site-packages/pandas/core/indexing.py:1817: SettingWithCopyWarning: \n",
      "A value is trying to be set on a copy of a slice from a DataFrame.\n",
      "Try using .loc[row_indexer,col_indexer] = value instead\n",
      "\n",
      "See the caveats in the documentation: https://pandas.pydata.org/pandas-docs/stable/user_guide/indexing.html#returning-a-view-versus-a-copy\n",
      "  self._setitem_single_column(loc, value, pi)\n"
     ]
    },
    {
     "name": "stderr",
     "output_type": "stream",
     "text": [
      "50it [39:00, 31.99s/it]"
     ]
    },
    {
     "name": "stdout",
     "output_type": "stream",
     "text": [
      "/Users/amandeep/Github/table-linker/tl_env/lib/python3.8/site-packages/pandas/core/indexing.py:1684: SettingWithCopyWarning: \n",
      "A value is trying to be set on a copy of a slice from a DataFrame.\n",
      "Try using .loc[row_indexer,col_indexer] = value instead\n",
      "\n",
      "See the caveats in the documentation: https://pandas.pydata.org/pandas-docs/stable/user_guide/indexing.html#returning-a-view-versus-a-copy\n",
      "  self.obj[key] = infer_fill_value(value)\n",
      "/Users/amandeep/Github/table-linker/tl_env/lib/python3.8/site-packages/pandas/core/indexing.py:1817: SettingWithCopyWarning: \n",
      "A value is trying to be set on a copy of a slice from a DataFrame.\n",
      "Try using .loc[row_indexer,col_indexer] = value instead\n",
      "\n",
      "See the caveats in the documentation: https://pandas.pydata.org/pandas-docs/stable/user_guide/indexing.html#returning-a-view-versus-a-copy\n",
      "  self._setitem_single_column(loc, value, pi)\n"
     ]
    },
    {
     "name": "stderr",
     "output_type": "stream",
     "text": [
      "51it [39:59, 40.11s/it]"
     ]
    },
    {
     "name": "stdout",
     "output_type": "stream",
     "text": [
      "/Users/amandeep/Github/table-linker/tl_env/lib/python3.8/site-packages/pandas/core/indexing.py:1684: SettingWithCopyWarning: \n",
      "A value is trying to be set on a copy of a slice from a DataFrame.\n",
      "Try using .loc[row_indexer,col_indexer] = value instead\n",
      "\n",
      "See the caveats in the documentation: https://pandas.pydata.org/pandas-docs/stable/user_guide/indexing.html#returning-a-view-versus-a-copy\n",
      "  self.obj[key] = infer_fill_value(value)\n",
      "/Users/amandeep/Github/table-linker/tl_env/lib/python3.8/site-packages/pandas/core/indexing.py:1817: SettingWithCopyWarning: \n",
      "A value is trying to be set on a copy of a slice from a DataFrame.\n",
      "Try using .loc[row_indexer,col_indexer] = value instead\n",
      "\n",
      "See the caveats in the documentation: https://pandas.pydata.org/pandas-docs/stable/user_guide/indexing.html#returning-a-view-versus-a-copy\n",
      "  self._setitem_single_column(loc, value, pi)\n"
     ]
    },
    {
     "name": "stderr",
     "output_type": "stream",
     "text": [
      "52it [40:22, 34.84s/it]"
     ]
    },
    {
     "name": "stdout",
     "output_type": "stream",
     "text": [
      "/Users/amandeep/Github/table-linker/tl_env/lib/python3.8/site-packages/pandas/core/indexing.py:1684: SettingWithCopyWarning: \n",
      "A value is trying to be set on a copy of a slice from a DataFrame.\n",
      "Try using .loc[row_indexer,col_indexer] = value instead\n",
      "\n",
      "See the caveats in the documentation: https://pandas.pydata.org/pandas-docs/stable/user_guide/indexing.html#returning-a-view-versus-a-copy\n",
      "  self.obj[key] = infer_fill_value(value)\n",
      "/Users/amandeep/Github/table-linker/tl_env/lib/python3.8/site-packages/pandas/core/indexing.py:1817: SettingWithCopyWarning: \n",
      "A value is trying to be set on a copy of a slice from a DataFrame.\n",
      "Try using .loc[row_indexer,col_indexer] = value instead\n",
      "\n",
      "See the caveats in the documentation: https://pandas.pydata.org/pandas-docs/stable/user_guide/indexing.html#returning-a-view-versus-a-copy\n",
      "  self._setitem_single_column(loc, value, pi)\n"
     ]
    },
    {
     "name": "stderr",
     "output_type": "stream",
     "text": [
      "53it [41:19, 41.48s/it]"
     ]
    },
    {
     "name": "stdout",
     "output_type": "stream",
     "text": [
      "/Users/amandeep/Github/table-linker/tl_env/lib/python3.8/site-packages/pandas/core/indexing.py:1684: SettingWithCopyWarning: \n",
      "A value is trying to be set on a copy of a slice from a DataFrame.\n",
      "Try using .loc[row_indexer,col_indexer] = value instead\n",
      "\n",
      "See the caveats in the documentation: https://pandas.pydata.org/pandas-docs/stable/user_guide/indexing.html#returning-a-view-versus-a-copy\n",
      "  self.obj[key] = infer_fill_value(value)\n",
      "/Users/amandeep/Github/table-linker/tl_env/lib/python3.8/site-packages/pandas/core/indexing.py:1817: SettingWithCopyWarning: \n",
      "A value is trying to be set on a copy of a slice from a DataFrame.\n",
      "Try using .loc[row_indexer,col_indexer] = value instead\n",
      "\n",
      "See the caveats in the documentation: https://pandas.pydata.org/pandas-docs/stable/user_guide/indexing.html#returning-a-view-versus-a-copy\n",
      "  self._setitem_single_column(loc, value, pi)\n"
     ]
    },
    {
     "name": "stderr",
     "output_type": "stream",
     "text": [
      "54it [41:45, 37.03s/it]"
     ]
    },
    {
     "name": "stdout",
     "output_type": "stream",
     "text": [
      "/Users/amandeep/Github/table-linker/tl_env/lib/python3.8/site-packages/pandas/core/indexing.py:1684: SettingWithCopyWarning: \n",
      "A value is trying to be set on a copy of a slice from a DataFrame.\n",
      "Try using .loc[row_indexer,col_indexer] = value instead\n",
      "\n",
      "See the caveats in the documentation: https://pandas.pydata.org/pandas-docs/stable/user_guide/indexing.html#returning-a-view-versus-a-copy\n",
      "  self.obj[key] = infer_fill_value(value)\n",
      "/Users/amandeep/Github/table-linker/tl_env/lib/python3.8/site-packages/pandas/core/indexing.py:1817: SettingWithCopyWarning: \n",
      "A value is trying to be set on a copy of a slice from a DataFrame.\n",
      "Try using .loc[row_indexer,col_indexer] = value instead\n",
      "\n",
      "See the caveats in the documentation: https://pandas.pydata.org/pandas-docs/stable/user_guide/indexing.html#returning-a-view-versus-a-copy\n",
      "  self._setitem_single_column(loc, value, pi)\n"
     ]
    },
    {
     "name": "stderr",
     "output_type": "stream",
     "text": [
      "55it [42:30, 39.42s/it]"
     ]
    },
    {
     "name": "stdout",
     "output_type": "stream",
     "text": [
      "/Users/amandeep/Github/table-linker/tl_env/lib/python3.8/site-packages/pandas/core/indexing.py:1684: SettingWithCopyWarning: \n",
      "A value is trying to be set on a copy of a slice from a DataFrame.\n",
      "Try using .loc[row_indexer,col_indexer] = value instead\n",
      "\n",
      "See the caveats in the documentation: https://pandas.pydata.org/pandas-docs/stable/user_guide/indexing.html#returning-a-view-versus-a-copy\n",
      "  self.obj[key] = infer_fill_value(value)\n",
      "/Users/amandeep/Github/table-linker/tl_env/lib/python3.8/site-packages/pandas/core/indexing.py:1817: SettingWithCopyWarning: \n",
      "A value is trying to be set on a copy of a slice from a DataFrame.\n",
      "Try using .loc[row_indexer,col_indexer] = value instead\n",
      "\n",
      "See the caveats in the documentation: https://pandas.pydata.org/pandas-docs/stable/user_guide/indexing.html#returning-a-view-versus-a-copy\n",
      "  self._setitem_single_column(loc, value, pi)\n"
     ]
    },
    {
     "name": "stderr",
     "output_type": "stream",
     "text": [
      "56it [43:06, 38.35s/it]"
     ]
    },
    {
     "name": "stdout",
     "output_type": "stream",
     "text": [
      "/Users/amandeep/Github/table-linker/tl_env/lib/python3.8/site-packages/pandas/core/indexing.py:1684: SettingWithCopyWarning: \n",
      "A value is trying to be set on a copy of a slice from a DataFrame.\n",
      "Try using .loc[row_indexer,col_indexer] = value instead\n",
      "\n",
      "See the caveats in the documentation: https://pandas.pydata.org/pandas-docs/stable/user_guide/indexing.html#returning-a-view-versus-a-copy\n",
      "  self.obj[key] = infer_fill_value(value)\n",
      "/Users/amandeep/Github/table-linker/tl_env/lib/python3.8/site-packages/pandas/core/indexing.py:1817: SettingWithCopyWarning: \n",
      "A value is trying to be set on a copy of a slice from a DataFrame.\n",
      "Try using .loc[row_indexer,col_indexer] = value instead\n",
      "\n",
      "See the caveats in the documentation: https://pandas.pydata.org/pandas-docs/stable/user_guide/indexing.html#returning-a-view-versus-a-copy\n",
      "  self._setitem_single_column(loc, value, pi)\n"
     ]
    },
    {
     "name": "stderr",
     "output_type": "stream",
     "text": [
      "57it [44:11, 46.43s/it]"
     ]
    },
    {
     "name": "stdout",
     "output_type": "stream",
     "text": [
      "/Users/amandeep/Github/table-linker/tl_env/lib/python3.8/site-packages/pandas/core/indexing.py:1684: SettingWithCopyWarning: \n",
      "A value is trying to be set on a copy of a slice from a DataFrame.\n",
      "Try using .loc[row_indexer,col_indexer] = value instead\n",
      "\n",
      "See the caveats in the documentation: https://pandas.pydata.org/pandas-docs/stable/user_guide/indexing.html#returning-a-view-versus-a-copy\n",
      "  self.obj[key] = infer_fill_value(value)\n",
      "/Users/amandeep/Github/table-linker/tl_env/lib/python3.8/site-packages/pandas/core/indexing.py:1817: SettingWithCopyWarning: \n",
      "A value is trying to be set on a copy of a slice from a DataFrame.\n",
      "Try using .loc[row_indexer,col_indexer] = value instead\n",
      "\n",
      "See the caveats in the documentation: https://pandas.pydata.org/pandas-docs/stable/user_guide/indexing.html#returning-a-view-versus-a-copy\n",
      "  self._setitem_single_column(loc, value, pi)\n"
     ]
    },
    {
     "name": "stderr",
     "output_type": "stream",
     "text": [
      "58it [44:54, 45.26s/it]"
     ]
    },
    {
     "name": "stdout",
     "output_type": "stream",
     "text": [
      "/Users/amandeep/Github/table-linker/tl_env/lib/python3.8/site-packages/pandas/core/indexing.py:1684: SettingWithCopyWarning: \n",
      "A value is trying to be set on a copy of a slice from a DataFrame.\n",
      "Try using .loc[row_indexer,col_indexer] = value instead\n",
      "\n",
      "See the caveats in the documentation: https://pandas.pydata.org/pandas-docs/stable/user_guide/indexing.html#returning-a-view-versus-a-copy\n",
      "  self.obj[key] = infer_fill_value(value)\n",
      "/Users/amandeep/Github/table-linker/tl_env/lib/python3.8/site-packages/pandas/core/indexing.py:1817: SettingWithCopyWarning: \n",
      "A value is trying to be set on a copy of a slice from a DataFrame.\n",
      "Try using .loc[row_indexer,col_indexer] = value instead\n",
      "\n",
      "See the caveats in the documentation: https://pandas.pydata.org/pandas-docs/stable/user_guide/indexing.html#returning-a-view-versus-a-copy\n",
      "  self._setitem_single_column(loc, value, pi)\n"
     ]
    },
    {
     "name": "stderr",
     "output_type": "stream",
     "text": [
      "59it [45:48, 47.81s/it]"
     ]
    },
    {
     "name": "stdout",
     "output_type": "stream",
     "text": [
      "/Users/amandeep/Github/table-linker/tl_env/lib/python3.8/site-packages/pandas/core/indexing.py:1684: SettingWithCopyWarning: \n",
      "A value is trying to be set on a copy of a slice from a DataFrame.\n",
      "Try using .loc[row_indexer,col_indexer] = value instead\n",
      "\n",
      "See the caveats in the documentation: https://pandas.pydata.org/pandas-docs/stable/user_guide/indexing.html#returning-a-view-versus-a-copy\n",
      "  self.obj[key] = infer_fill_value(value)\n",
      "/Users/amandeep/Github/table-linker/tl_env/lib/python3.8/site-packages/pandas/core/indexing.py:1817: SettingWithCopyWarning: \n",
      "A value is trying to be set on a copy of a slice from a DataFrame.\n",
      "Try using .loc[row_indexer,col_indexer] = value instead\n",
      "\n",
      "See the caveats in the documentation: https://pandas.pydata.org/pandas-docs/stable/user_guide/indexing.html#returning-a-view-versus-a-copy\n",
      "  self._setitem_single_column(loc, value, pi)\n"
     ]
    },
    {
     "name": "stderr",
     "output_type": "stream",
     "text": [
      "60it [46:21, 43.44s/it]"
     ]
    },
    {
     "name": "stdout",
     "output_type": "stream",
     "text": [
      "/Users/amandeep/Github/table-linker/tl_env/lib/python3.8/site-packages/pandas/core/indexing.py:1684: SettingWithCopyWarning: \n",
      "A value is trying to be set on a copy of a slice from a DataFrame.\n",
      "Try using .loc[row_indexer,col_indexer] = value instead\n",
      "\n",
      "See the caveats in the documentation: https://pandas.pydata.org/pandas-docs/stable/user_guide/indexing.html#returning-a-view-versus-a-copy\n",
      "  self.obj[key] = infer_fill_value(value)\n",
      "/Users/amandeep/Github/table-linker/tl_env/lib/python3.8/site-packages/pandas/core/indexing.py:1817: SettingWithCopyWarning: \n",
      "A value is trying to be set on a copy of a slice from a DataFrame.\n",
      "Try using .loc[row_indexer,col_indexer] = value instead\n",
      "\n",
      "See the caveats in the documentation: https://pandas.pydata.org/pandas-docs/stable/user_guide/indexing.html#returning-a-view-versus-a-copy\n",
      "  self._setitem_single_column(loc, value, pi)\n"
     ]
    },
    {
     "name": "stderr",
     "output_type": "stream",
     "text": [
      "61it [46:50, 39.09s/it]"
     ]
    },
    {
     "name": "stdout",
     "output_type": "stream",
     "text": [
      "/Users/amandeep/Github/table-linker/tl_env/lib/python3.8/site-packages/pandas/core/indexing.py:1684: SettingWithCopyWarning: \n",
      "A value is trying to be set on a copy of a slice from a DataFrame.\n",
      "Try using .loc[row_indexer,col_indexer] = value instead\n",
      "\n",
      "See the caveats in the documentation: https://pandas.pydata.org/pandas-docs/stable/user_guide/indexing.html#returning-a-view-versus-a-copy\n",
      "  self.obj[key] = infer_fill_value(value)\n",
      "/Users/amandeep/Github/table-linker/tl_env/lib/python3.8/site-packages/pandas/core/indexing.py:1817: SettingWithCopyWarning: \n",
      "A value is trying to be set on a copy of a slice from a DataFrame.\n",
      "Try using .loc[row_indexer,col_indexer] = value instead\n",
      "\n",
      "See the caveats in the documentation: https://pandas.pydata.org/pandas-docs/stable/user_guide/indexing.html#returning-a-view-versus-a-copy\n",
      "  self._setitem_single_column(loc, value, pi)\n"
     ]
    },
    {
     "name": "stderr",
     "output_type": "stream",
     "text": [
      "62it [48:29, 57.11s/it]"
     ]
    },
    {
     "name": "stdout",
     "output_type": "stream",
     "text": [
      "/Users/amandeep/Github/table-linker/tl_env/lib/python3.8/site-packages/pandas/core/indexing.py:1684: SettingWithCopyWarning: \n",
      "A value is trying to be set on a copy of a slice from a DataFrame.\n",
      "Try using .loc[row_indexer,col_indexer] = value instead\n",
      "\n",
      "See the caveats in the documentation: https://pandas.pydata.org/pandas-docs/stable/user_guide/indexing.html#returning-a-view-versus-a-copy\n",
      "  self.obj[key] = infer_fill_value(value)\n",
      "/Users/amandeep/Github/table-linker/tl_env/lib/python3.8/site-packages/pandas/core/indexing.py:1817: SettingWithCopyWarning: \n",
      "A value is trying to be set on a copy of a slice from a DataFrame.\n",
      "Try using .loc[row_indexer,col_indexer] = value instead\n",
      "\n",
      "See the caveats in the documentation: https://pandas.pydata.org/pandas-docs/stable/user_guide/indexing.html#returning-a-view-versus-a-copy\n",
      "  self._setitem_single_column(loc, value, pi)\n"
     ]
    },
    {
     "name": "stderr",
     "output_type": "stream",
     "text": [
      "63it [48:50, 46.20s/it]"
     ]
    },
    {
     "name": "stdout",
     "output_type": "stream",
     "text": [
      "/Users/amandeep/Github/table-linker/tl_env/lib/python3.8/site-packages/pandas/core/indexing.py:1684: SettingWithCopyWarning: \n",
      "A value is trying to be set on a copy of a slice from a DataFrame.\n",
      "Try using .loc[row_indexer,col_indexer] = value instead\n",
      "\n",
      "See the caveats in the documentation: https://pandas.pydata.org/pandas-docs/stable/user_guide/indexing.html#returning-a-view-versus-a-copy\n",
      "  self.obj[key] = infer_fill_value(value)\n",
      "/Users/amandeep/Github/table-linker/tl_env/lib/python3.8/site-packages/pandas/core/indexing.py:1817: SettingWithCopyWarning: \n",
      "A value is trying to be set on a copy of a slice from a DataFrame.\n",
      "Try using .loc[row_indexer,col_indexer] = value instead\n",
      "\n",
      "See the caveats in the documentation: https://pandas.pydata.org/pandas-docs/stable/user_guide/indexing.html#returning-a-view-versus-a-copy\n",
      "  self._setitem_single_column(loc, value, pi)\n"
     ]
    },
    {
     "name": "stderr",
     "output_type": "stream",
     "text": [
      "64it [49:12, 39.08s/it]"
     ]
    },
    {
     "name": "stdout",
     "output_type": "stream",
     "text": [
      "/Users/amandeep/Github/table-linker/tl_env/lib/python3.8/site-packages/pandas/core/indexing.py:1684: SettingWithCopyWarning: \n",
      "A value is trying to be set on a copy of a slice from a DataFrame.\n",
      "Try using .loc[row_indexer,col_indexer] = value instead\n",
      "\n",
      "See the caveats in the documentation: https://pandas.pydata.org/pandas-docs/stable/user_guide/indexing.html#returning-a-view-versus-a-copy\n",
      "  self.obj[key] = infer_fill_value(value)\n",
      "/Users/amandeep/Github/table-linker/tl_env/lib/python3.8/site-packages/pandas/core/indexing.py:1817: SettingWithCopyWarning: \n",
      "A value is trying to be set on a copy of a slice from a DataFrame.\n",
      "Try using .loc[row_indexer,col_indexer] = value instead\n",
      "\n",
      "See the caveats in the documentation: https://pandas.pydata.org/pandas-docs/stable/user_guide/indexing.html#returning-a-view-versus-a-copy\n",
      "  self._setitem_single_column(loc, value, pi)\n"
     ]
    },
    {
     "name": "stderr",
     "output_type": "stream",
     "text": [
      "65it [50:46, 55.38s/it]"
     ]
    },
    {
     "name": "stdout",
     "output_type": "stream",
     "text": [
      "/Users/amandeep/Github/table-linker/tl_env/lib/python3.8/site-packages/pandas/core/indexing.py:1684: SettingWithCopyWarning: \n",
      "A value is trying to be set on a copy of a slice from a DataFrame.\n",
      "Try using .loc[row_indexer,col_indexer] = value instead\n",
      "\n",
      "See the caveats in the documentation: https://pandas.pydata.org/pandas-docs/stable/user_guide/indexing.html#returning-a-view-versus-a-copy\n",
      "  self.obj[key] = infer_fill_value(value)\n",
      "/Users/amandeep/Github/table-linker/tl_env/lib/python3.8/site-packages/pandas/core/indexing.py:1817: SettingWithCopyWarning: \n",
      "A value is trying to be set on a copy of a slice from a DataFrame.\n",
      "Try using .loc[row_indexer,col_indexer] = value instead\n",
      "\n",
      "See the caveats in the documentation: https://pandas.pydata.org/pandas-docs/stable/user_guide/indexing.html#returning-a-view-versus-a-copy\n",
      "  self._setitem_single_column(loc, value, pi)\n"
     ]
    },
    {
     "name": "stderr",
     "output_type": "stream",
     "text": [
      "66it [52:16, 65.87s/it]"
     ]
    },
    {
     "name": "stdout",
     "output_type": "stream",
     "text": [
      "/Users/amandeep/Github/table-linker/tl_env/lib/python3.8/site-packages/pandas/core/indexing.py:1684: SettingWithCopyWarning: \n",
      "A value is trying to be set on a copy of a slice from a DataFrame.\n",
      "Try using .loc[row_indexer,col_indexer] = value instead\n",
      "\n",
      "See the caveats in the documentation: https://pandas.pydata.org/pandas-docs/stable/user_guide/indexing.html#returning-a-view-versus-a-copy\n",
      "  self.obj[key] = infer_fill_value(value)\n",
      "/Users/amandeep/Github/table-linker/tl_env/lib/python3.8/site-packages/pandas/core/indexing.py:1817: SettingWithCopyWarning: \n",
      "A value is trying to be set on a copy of a slice from a DataFrame.\n",
      "Try using .loc[row_indexer,col_indexer] = value instead\n",
      "\n",
      "See the caveats in the documentation: https://pandas.pydata.org/pandas-docs/stable/user_guide/indexing.html#returning-a-view-versus-a-copy\n",
      "  self._setitem_single_column(loc, value, pi)\n"
     ]
    },
    {
     "name": "stderr",
     "output_type": "stream",
     "text": [
      "67it [52:47, 55.47s/it]"
     ]
    },
    {
     "name": "stdout",
     "output_type": "stream",
     "text": [
      "/Users/amandeep/Github/table-linker/tl_env/lib/python3.8/site-packages/pandas/core/indexing.py:1684: SettingWithCopyWarning: \n",
      "A value is trying to be set on a copy of a slice from a DataFrame.\n",
      "Try using .loc[row_indexer,col_indexer] = value instead\n",
      "\n",
      "See the caveats in the documentation: https://pandas.pydata.org/pandas-docs/stable/user_guide/indexing.html#returning-a-view-versus-a-copy\n",
      "  self.obj[key] = infer_fill_value(value)\n",
      "/Users/amandeep/Github/table-linker/tl_env/lib/python3.8/site-packages/pandas/core/indexing.py:1817: SettingWithCopyWarning: \n",
      "A value is trying to be set on a copy of a slice from a DataFrame.\n",
      "Try using .loc[row_indexer,col_indexer] = value instead\n",
      "\n",
      "See the caveats in the documentation: https://pandas.pydata.org/pandas-docs/stable/user_guide/indexing.html#returning-a-view-versus-a-copy\n",
      "  self._setitem_single_column(loc, value, pi)\n"
     ]
    },
    {
     "name": "stderr",
     "output_type": "stream",
     "text": [
      "68it [53:25, 50.30s/it]"
     ]
    },
    {
     "name": "stdout",
     "output_type": "stream",
     "text": [
      "/Users/amandeep/Github/table-linker/tl_env/lib/python3.8/site-packages/pandas/core/indexing.py:1684: SettingWithCopyWarning: \n",
      "A value is trying to be set on a copy of a slice from a DataFrame.\n",
      "Try using .loc[row_indexer,col_indexer] = value instead\n",
      "\n",
      "See the caveats in the documentation: https://pandas.pydata.org/pandas-docs/stable/user_guide/indexing.html#returning-a-view-versus-a-copy\n",
      "  self.obj[key] = infer_fill_value(value)\n",
      "/Users/amandeep/Github/table-linker/tl_env/lib/python3.8/site-packages/pandas/core/indexing.py:1817: SettingWithCopyWarning: \n",
      "A value is trying to be set on a copy of a slice from a DataFrame.\n",
      "Try using .loc[row_indexer,col_indexer] = value instead\n",
      "\n",
      "See the caveats in the documentation: https://pandas.pydata.org/pandas-docs/stable/user_guide/indexing.html#returning-a-view-versus-a-copy\n",
      "  self._setitem_single_column(loc, value, pi)\n"
     ]
    },
    {
     "name": "stderr",
     "output_type": "stream",
     "text": [
      "69it [54:10, 48.69s/it]"
     ]
    },
    {
     "name": "stdout",
     "output_type": "stream",
     "text": [
      "/Users/amandeep/Github/table-linker/tl_env/lib/python3.8/site-packages/pandas/core/indexing.py:1684: SettingWithCopyWarning: \n",
      "A value is trying to be set on a copy of a slice from a DataFrame.\n",
      "Try using .loc[row_indexer,col_indexer] = value instead\n",
      "\n",
      "See the caveats in the documentation: https://pandas.pydata.org/pandas-docs/stable/user_guide/indexing.html#returning-a-view-versus-a-copy\n",
      "  self.obj[key] = infer_fill_value(value)\n",
      "/Users/amandeep/Github/table-linker/tl_env/lib/python3.8/site-packages/pandas/core/indexing.py:1817: SettingWithCopyWarning: \n",
      "A value is trying to be set on a copy of a slice from a DataFrame.\n",
      "Try using .loc[row_indexer,col_indexer] = value instead\n",
      "\n",
      "See the caveats in the documentation: https://pandas.pydata.org/pandas-docs/stable/user_guide/indexing.html#returning-a-view-versus-a-copy\n",
      "  self._setitem_single_column(loc, value, pi)\n"
     ]
    },
    {
     "name": "stderr",
     "output_type": "stream",
     "text": [
      "70it [54:32, 40.55s/it]"
     ]
    },
    {
     "name": "stdout",
     "output_type": "stream",
     "text": [
      "/Users/amandeep/Github/table-linker/tl_env/lib/python3.8/site-packages/pandas/core/indexing.py:1684: SettingWithCopyWarning: \n",
      "A value is trying to be set on a copy of a slice from a DataFrame.\n",
      "Try using .loc[row_indexer,col_indexer] = value instead\n",
      "\n",
      "See the caveats in the documentation: https://pandas.pydata.org/pandas-docs/stable/user_guide/indexing.html#returning-a-view-versus-a-copy\n",
      "  self.obj[key] = infer_fill_value(value)\n",
      "/Users/amandeep/Github/table-linker/tl_env/lib/python3.8/site-packages/pandas/core/indexing.py:1817: SettingWithCopyWarning: \n",
      "A value is trying to be set on a copy of a slice from a DataFrame.\n",
      "Try using .loc[row_indexer,col_indexer] = value instead\n",
      "\n",
      "See the caveats in the documentation: https://pandas.pydata.org/pandas-docs/stable/user_guide/indexing.html#returning-a-view-versus-a-copy\n",
      "  self._setitem_single_column(loc, value, pi)\n"
     ]
    },
    {
     "name": "stderr",
     "output_type": "stream",
     "text": [
      "71it [55:00, 36.84s/it]"
     ]
    },
    {
     "name": "stdout",
     "output_type": "stream",
     "text": [
      "/Users/amandeep/Github/table-linker/tl_env/lib/python3.8/site-packages/pandas/core/indexing.py:1684: SettingWithCopyWarning: \n",
      "A value is trying to be set on a copy of a slice from a DataFrame.\n",
      "Try using .loc[row_indexer,col_indexer] = value instead\n",
      "\n",
      "See the caveats in the documentation: https://pandas.pydata.org/pandas-docs/stable/user_guide/indexing.html#returning-a-view-versus-a-copy\n",
      "  self.obj[key] = infer_fill_value(value)\n",
      "/Users/amandeep/Github/table-linker/tl_env/lib/python3.8/site-packages/pandas/core/indexing.py:1817: SettingWithCopyWarning: \n",
      "A value is trying to be set on a copy of a slice from a DataFrame.\n",
      "Try using .loc[row_indexer,col_indexer] = value instead\n",
      "\n",
      "See the caveats in the documentation: https://pandas.pydata.org/pandas-docs/stable/user_guide/indexing.html#returning-a-view-versus-a-copy\n",
      "  self._setitem_single_column(loc, value, pi)\n"
     ]
    },
    {
     "name": "stderr",
     "output_type": "stream",
     "text": [
      "72it [56:02, 44.24s/it]"
     ]
    },
    {
     "name": "stdout",
     "output_type": "stream",
     "text": [
      "/Users/amandeep/Github/table-linker/tl_env/lib/python3.8/site-packages/pandas/core/indexing.py:1684: SettingWithCopyWarning: \n",
      "A value is trying to be set on a copy of a slice from a DataFrame.\n",
      "Try using .loc[row_indexer,col_indexer] = value instead\n",
      "\n",
      "See the caveats in the documentation: https://pandas.pydata.org/pandas-docs/stable/user_guide/indexing.html#returning-a-view-versus-a-copy\n",
      "  self.obj[key] = infer_fill_value(value)\n",
      "/Users/amandeep/Github/table-linker/tl_env/lib/python3.8/site-packages/pandas/core/indexing.py:1817: SettingWithCopyWarning: \n",
      "A value is trying to be set on a copy of a slice from a DataFrame.\n",
      "Try using .loc[row_indexer,col_indexer] = value instead\n",
      "\n",
      "See the caveats in the documentation: https://pandas.pydata.org/pandas-docs/stable/user_guide/indexing.html#returning-a-view-versus-a-copy\n",
      "  self._setitem_single_column(loc, value, pi)\n"
     ]
    },
    {
     "name": "stderr",
     "output_type": "stream",
     "text": [
      "73it [56:29, 39.04s/it]"
     ]
    },
    {
     "name": "stdout",
     "output_type": "stream",
     "text": [
      "/Users/amandeep/Github/table-linker/tl_env/lib/python3.8/site-packages/pandas/core/indexing.py:1684: SettingWithCopyWarning: \n",
      "A value is trying to be set on a copy of a slice from a DataFrame.\n",
      "Try using .loc[row_indexer,col_indexer] = value instead\n",
      "\n",
      "See the caveats in the documentation: https://pandas.pydata.org/pandas-docs/stable/user_guide/indexing.html#returning-a-view-versus-a-copy\n",
      "  self.obj[key] = infer_fill_value(value)\n",
      "/Users/amandeep/Github/table-linker/tl_env/lib/python3.8/site-packages/pandas/core/indexing.py:1817: SettingWithCopyWarning: \n",
      "A value is trying to be set on a copy of a slice from a DataFrame.\n",
      "Try using .loc[row_indexer,col_indexer] = value instead\n",
      "\n",
      "See the caveats in the documentation: https://pandas.pydata.org/pandas-docs/stable/user_guide/indexing.html#returning-a-view-versus-a-copy\n",
      "  self._setitem_single_column(loc, value, pi)\n"
     ]
    },
    {
     "name": "stderr",
     "output_type": "stream",
     "text": [
      "74it [56:49, 33.59s/it]"
     ]
    },
    {
     "name": "stdout",
     "output_type": "stream",
     "text": [
      "/Users/amandeep/Github/table-linker/tl_env/lib/python3.8/site-packages/pandas/core/indexing.py:1684: SettingWithCopyWarning: \n",
      "A value is trying to be set on a copy of a slice from a DataFrame.\n",
      "Try using .loc[row_indexer,col_indexer] = value instead\n",
      "\n",
      "See the caveats in the documentation: https://pandas.pydata.org/pandas-docs/stable/user_guide/indexing.html#returning-a-view-versus-a-copy\n",
      "  self.obj[key] = infer_fill_value(value)\n",
      "/Users/amandeep/Github/table-linker/tl_env/lib/python3.8/site-packages/pandas/core/indexing.py:1817: SettingWithCopyWarning: \n",
      "A value is trying to be set on a copy of a slice from a DataFrame.\n",
      "Try using .loc[row_indexer,col_indexer] = value instead\n",
      "\n",
      "See the caveats in the documentation: https://pandas.pydata.org/pandas-docs/stable/user_guide/indexing.html#returning-a-view-versus-a-copy\n",
      "  self._setitem_single_column(loc, value, pi)\n"
     ]
    },
    {
     "name": "stderr",
     "output_type": "stream",
     "text": [
      "75it [57:13, 30.66s/it]"
     ]
    },
    {
     "name": "stdout",
     "output_type": "stream",
     "text": [
      "/Users/amandeep/Github/table-linker/tl_env/lib/python3.8/site-packages/pandas/core/indexing.py:1684: SettingWithCopyWarning: \n",
      "A value is trying to be set on a copy of a slice from a DataFrame.\n",
      "Try using .loc[row_indexer,col_indexer] = value instead\n",
      "\n",
      "See the caveats in the documentation: https://pandas.pydata.org/pandas-docs/stable/user_guide/indexing.html#returning-a-view-versus-a-copy\n",
      "  self.obj[key] = infer_fill_value(value)\n",
      "/Users/amandeep/Github/table-linker/tl_env/lib/python3.8/site-packages/pandas/core/indexing.py:1817: SettingWithCopyWarning: \n",
      "A value is trying to be set on a copy of a slice from a DataFrame.\n",
      "Try using .loc[row_indexer,col_indexer] = value instead\n",
      "\n",
      "See the caveats in the documentation: https://pandas.pydata.org/pandas-docs/stable/user_guide/indexing.html#returning-a-view-versus-a-copy\n",
      "  self._setitem_single_column(loc, value, pi)\n"
     ]
    },
    {
     "name": "stderr",
     "output_type": "stream",
     "text": [
      "76it [57:42, 30.09s/it]"
     ]
    },
    {
     "name": "stdout",
     "output_type": "stream",
     "text": [
      "/Users/amandeep/Github/table-linker/tl_env/lib/python3.8/site-packages/pandas/core/indexing.py:1684: SettingWithCopyWarning: \n",
      "A value is trying to be set on a copy of a slice from a DataFrame.\n",
      "Try using .loc[row_indexer,col_indexer] = value instead\n",
      "\n",
      "See the caveats in the documentation: https://pandas.pydata.org/pandas-docs/stable/user_guide/indexing.html#returning-a-view-versus-a-copy\n",
      "  self.obj[key] = infer_fill_value(value)\n",
      "/Users/amandeep/Github/table-linker/tl_env/lib/python3.8/site-packages/pandas/core/indexing.py:1817: SettingWithCopyWarning: \n",
      "A value is trying to be set on a copy of a slice from a DataFrame.\n",
      "Try using .loc[row_indexer,col_indexer] = value instead\n",
      "\n",
      "See the caveats in the documentation: https://pandas.pydata.org/pandas-docs/stable/user_guide/indexing.html#returning-a-view-versus-a-copy\n",
      "  self._setitem_single_column(loc, value, pi)\n"
     ]
    },
    {
     "name": "stderr",
     "output_type": "stream",
     "text": [
      "77it [58:54, 42.53s/it]"
     ]
    },
    {
     "name": "stdout",
     "output_type": "stream",
     "text": [
      "/Users/amandeep/Github/table-linker/tl_env/lib/python3.8/site-packages/pandas/core/indexing.py:1684: SettingWithCopyWarning: \n",
      "A value is trying to be set on a copy of a slice from a DataFrame.\n",
      "Try using .loc[row_indexer,col_indexer] = value instead\n",
      "\n",
      "See the caveats in the documentation: https://pandas.pydata.org/pandas-docs/stable/user_guide/indexing.html#returning-a-view-versus-a-copy\n",
      "  self.obj[key] = infer_fill_value(value)\n",
      "/Users/amandeep/Github/table-linker/tl_env/lib/python3.8/site-packages/pandas/core/indexing.py:1817: SettingWithCopyWarning: \n",
      "A value is trying to be set on a copy of a slice from a DataFrame.\n",
      "Try using .loc[row_indexer,col_indexer] = value instead\n",
      "\n",
      "See the caveats in the documentation: https://pandas.pydata.org/pandas-docs/stable/user_guide/indexing.html#returning-a-view-versus-a-copy\n",
      "  self._setitem_single_column(loc, value, pi)\n"
     ]
    },
    {
     "name": "stderr",
     "output_type": "stream",
     "text": [
      "79it [59:22, 29.42s/it]"
     ]
    },
    {
     "name": "stdout",
     "output_type": "stream",
     "text": [
      "/Users/amandeep/Github/table-linker/tl_env/lib/python3.8/site-packages/pandas/core/indexing.py:1684: SettingWithCopyWarning: \n",
      "A value is trying to be set on a copy of a slice from a DataFrame.\n",
      "Try using .loc[row_indexer,col_indexer] = value instead\n",
      "\n",
      "See the caveats in the documentation: https://pandas.pydata.org/pandas-docs/stable/user_guide/indexing.html#returning-a-view-versus-a-copy\n",
      "  self.obj[key] = infer_fill_value(value)\n",
      "/Users/amandeep/Github/table-linker/tl_env/lib/python3.8/site-packages/pandas/core/indexing.py:1817: SettingWithCopyWarning: \n",
      "A value is trying to be set on a copy of a slice from a DataFrame.\n",
      "Try using .loc[row_indexer,col_indexer] = value instead\n",
      "\n",
      "See the caveats in the documentation: https://pandas.pydata.org/pandas-docs/stable/user_guide/indexing.html#returning-a-view-versus-a-copy\n",
      "  self._setitem_single_column(loc, value, pi)\n"
     ]
    },
    {
     "name": "stderr",
     "output_type": "stream",
     "text": [
      "80it [59:43, 27.41s/it]"
     ]
    },
    {
     "name": "stdout",
     "output_type": "stream",
     "text": [
      "/Users/amandeep/Github/table-linker/tl_env/lib/python3.8/site-packages/pandas/core/indexing.py:1684: SettingWithCopyWarning: \n",
      "A value is trying to be set on a copy of a slice from a DataFrame.\n",
      "Try using .loc[row_indexer,col_indexer] = value instead\n",
      "\n",
      "See the caveats in the documentation: https://pandas.pydata.org/pandas-docs/stable/user_guide/indexing.html#returning-a-view-versus-a-copy\n",
      "  self.obj[key] = infer_fill_value(value)\n",
      "/Users/amandeep/Github/table-linker/tl_env/lib/python3.8/site-packages/pandas/core/indexing.py:1817: SettingWithCopyWarning: \n",
      "A value is trying to be set on a copy of a slice from a DataFrame.\n",
      "Try using .loc[row_indexer,col_indexer] = value instead\n",
      "\n",
      "See the caveats in the documentation: https://pandas.pydata.org/pandas-docs/stable/user_guide/indexing.html#returning-a-view-versus-a-copy\n",
      "  self._setitem_single_column(loc, value, pi)\n"
     ]
    },
    {
     "name": "stderr",
     "output_type": "stream",
     "text": [
      "81it [1:00:42, 35.61s/it]"
     ]
    },
    {
     "name": "stdout",
     "output_type": "stream",
     "text": [
      "/Users/amandeep/Github/table-linker/tl_env/lib/python3.8/site-packages/pandas/core/indexing.py:1684: SettingWithCopyWarning: \n",
      "A value is trying to be set on a copy of a slice from a DataFrame.\n",
      "Try using .loc[row_indexer,col_indexer] = value instead\n",
      "\n",
      "See the caveats in the documentation: https://pandas.pydata.org/pandas-docs/stable/user_guide/indexing.html#returning-a-view-versus-a-copy\n",
      "  self.obj[key] = infer_fill_value(value)\n",
      "/Users/amandeep/Github/table-linker/tl_env/lib/python3.8/site-packages/pandas/core/indexing.py:1817: SettingWithCopyWarning: \n",
      "A value is trying to be set on a copy of a slice from a DataFrame.\n",
      "Try using .loc[row_indexer,col_indexer] = value instead\n",
      "\n",
      "See the caveats in the documentation: https://pandas.pydata.org/pandas-docs/stable/user_guide/indexing.html#returning-a-view-versus-a-copy\n",
      "  self._setitem_single_column(loc, value, pi)\n"
     ]
    },
    {
     "name": "stderr",
     "output_type": "stream",
     "text": [
      "82it [1:01:03, 31.55s/it]"
     ]
    },
    {
     "name": "stdout",
     "output_type": "stream",
     "text": [
      "/Users/amandeep/Github/table-linker/tl_env/lib/python3.8/site-packages/pandas/core/indexing.py:1684: SettingWithCopyWarning: \n",
      "A value is trying to be set on a copy of a slice from a DataFrame.\n",
      "Try using .loc[row_indexer,col_indexer] = value instead\n",
      "\n",
      "See the caveats in the documentation: https://pandas.pydata.org/pandas-docs/stable/user_guide/indexing.html#returning-a-view-versus-a-copy\n",
      "  self.obj[key] = infer_fill_value(value)\n",
      "/Users/amandeep/Github/table-linker/tl_env/lib/python3.8/site-packages/pandas/core/indexing.py:1817: SettingWithCopyWarning: \n",
      "A value is trying to be set on a copy of a slice from a DataFrame.\n",
      "Try using .loc[row_indexer,col_indexer] = value instead\n",
      "\n",
      "See the caveats in the documentation: https://pandas.pydata.org/pandas-docs/stable/user_guide/indexing.html#returning-a-view-versus-a-copy\n",
      "  self._setitem_single_column(loc, value, pi)\n"
     ]
    },
    {
     "name": "stderr",
     "output_type": "stream",
     "text": [
      "83it [1:01:39, 32.92s/it]"
     ]
    },
    {
     "name": "stdout",
     "output_type": "stream",
     "text": [
      "/Users/amandeep/Github/table-linker/tl_env/lib/python3.8/site-packages/pandas/core/indexing.py:1684: SettingWithCopyWarning: \n",
      "A value is trying to be set on a copy of a slice from a DataFrame.\n",
      "Try using .loc[row_indexer,col_indexer] = value instead\n",
      "\n",
      "See the caveats in the documentation: https://pandas.pydata.org/pandas-docs/stable/user_guide/indexing.html#returning-a-view-versus-a-copy\n",
      "  self.obj[key] = infer_fill_value(value)\n",
      "/Users/amandeep/Github/table-linker/tl_env/lib/python3.8/site-packages/pandas/core/indexing.py:1817: SettingWithCopyWarning: \n",
      "A value is trying to be set on a copy of a slice from a DataFrame.\n",
      "Try using .loc[row_indexer,col_indexer] = value instead\n",
      "\n",
      "See the caveats in the documentation: https://pandas.pydata.org/pandas-docs/stable/user_guide/indexing.html#returning-a-view-versus-a-copy\n",
      "  self._setitem_single_column(loc, value, pi)\n"
     ]
    },
    {
     "name": "stderr",
     "output_type": "stream",
     "text": [
      "84it [1:02:01, 29.82s/it]"
     ]
    },
    {
     "name": "stdout",
     "output_type": "stream",
     "text": [
      "/Users/amandeep/Github/table-linker/tl_env/lib/python3.8/site-packages/pandas/core/indexing.py:1684: SettingWithCopyWarning: \n",
      "A value is trying to be set on a copy of a slice from a DataFrame.\n",
      "Try using .loc[row_indexer,col_indexer] = value instead\n",
      "\n",
      "See the caveats in the documentation: https://pandas.pydata.org/pandas-docs/stable/user_guide/indexing.html#returning-a-view-versus-a-copy\n",
      "  self.obj[key] = infer_fill_value(value)\n",
      "/Users/amandeep/Github/table-linker/tl_env/lib/python3.8/site-packages/pandas/core/indexing.py:1817: SettingWithCopyWarning: \n",
      "A value is trying to be set on a copy of a slice from a DataFrame.\n",
      "Try using .loc[row_indexer,col_indexer] = value instead\n",
      "\n",
      "See the caveats in the documentation: https://pandas.pydata.org/pandas-docs/stable/user_guide/indexing.html#returning-a-view-versus-a-copy\n",
      "  self._setitem_single_column(loc, value, pi)\n"
     ]
    },
    {
     "name": "stderr",
     "output_type": "stream",
     "text": [
      "85it [1:02:21, 26.98s/it]"
     ]
    },
    {
     "name": "stdout",
     "output_type": "stream",
     "text": [
      "/Users/amandeep/Github/table-linker/tl_env/lib/python3.8/site-packages/pandas/core/indexing.py:1684: SettingWithCopyWarning: \n",
      "A value is trying to be set on a copy of a slice from a DataFrame.\n",
      "Try using .loc[row_indexer,col_indexer] = value instead\n",
      "\n",
      "See the caveats in the documentation: https://pandas.pydata.org/pandas-docs/stable/user_guide/indexing.html#returning-a-view-versus-a-copy\n",
      "  self.obj[key] = infer_fill_value(value)\n",
      "/Users/amandeep/Github/table-linker/tl_env/lib/python3.8/site-packages/pandas/core/indexing.py:1817: SettingWithCopyWarning: \n",
      "A value is trying to be set on a copy of a slice from a DataFrame.\n",
      "Try using .loc[row_indexer,col_indexer] = value instead\n",
      "\n",
      "See the caveats in the documentation: https://pandas.pydata.org/pandas-docs/stable/user_guide/indexing.html#returning-a-view-versus-a-copy\n",
      "  self._setitem_single_column(loc, value, pi)\n"
     ]
    },
    {
     "name": "stderr",
     "output_type": "stream",
     "text": [
      "86it [1:03:51, 45.40s/it]"
     ]
    },
    {
     "name": "stdout",
     "output_type": "stream",
     "text": [
      "/Users/amandeep/Github/table-linker/tl_env/lib/python3.8/site-packages/pandas/core/indexing.py:1684: SettingWithCopyWarning: \n",
      "A value is trying to be set on a copy of a slice from a DataFrame.\n",
      "Try using .loc[row_indexer,col_indexer] = value instead\n",
      "\n",
      "See the caveats in the documentation: https://pandas.pydata.org/pandas-docs/stable/user_guide/indexing.html#returning-a-view-versus-a-copy\n",
      "  self.obj[key] = infer_fill_value(value)\n",
      "/Users/amandeep/Github/table-linker/tl_env/lib/python3.8/site-packages/pandas/core/indexing.py:1817: SettingWithCopyWarning: \n",
      "A value is trying to be set on a copy of a slice from a DataFrame.\n",
      "Try using .loc[row_indexer,col_indexer] = value instead\n",
      "\n",
      "See the caveats in the documentation: https://pandas.pydata.org/pandas-docs/stable/user_guide/indexing.html#returning-a-view-versus-a-copy\n",
      "  self._setitem_single_column(loc, value, pi)\n"
     ]
    },
    {
     "name": "stderr",
     "output_type": "stream",
     "text": [
      "87it [1:04:17, 39.60s/it]"
     ]
    },
    {
     "name": "stdout",
     "output_type": "stream",
     "text": [
      "/Users/amandeep/Github/table-linker/tl_env/lib/python3.8/site-packages/pandas/core/indexing.py:1684: SettingWithCopyWarning: \n",
      "A value is trying to be set on a copy of a slice from a DataFrame.\n",
      "Try using .loc[row_indexer,col_indexer] = value instead\n",
      "\n",
      "See the caveats in the documentation: https://pandas.pydata.org/pandas-docs/stable/user_guide/indexing.html#returning-a-view-versus-a-copy\n",
      "  self.obj[key] = infer_fill_value(value)\n",
      "/Users/amandeep/Github/table-linker/tl_env/lib/python3.8/site-packages/pandas/core/indexing.py:1817: SettingWithCopyWarning: \n",
      "A value is trying to be set on a copy of a slice from a DataFrame.\n",
      "Try using .loc[row_indexer,col_indexer] = value instead\n",
      "\n",
      "See the caveats in the documentation: https://pandas.pydata.org/pandas-docs/stable/user_guide/indexing.html#returning-a-view-versus-a-copy\n",
      "  self._setitem_single_column(loc, value, pi)\n"
     ]
    },
    {
     "name": "stderr",
     "output_type": "stream",
     "text": [
      "88it [1:04:53, 38.72s/it]"
     ]
    },
    {
     "name": "stdout",
     "output_type": "stream",
     "text": [
      "/Users/amandeep/Github/table-linker/tl_env/lib/python3.8/site-packages/pandas/core/indexing.py:1684: SettingWithCopyWarning: \n",
      "A value is trying to be set on a copy of a slice from a DataFrame.\n",
      "Try using .loc[row_indexer,col_indexer] = value instead\n",
      "\n",
      "See the caveats in the documentation: https://pandas.pydata.org/pandas-docs/stable/user_guide/indexing.html#returning-a-view-versus-a-copy\n",
      "  self.obj[key] = infer_fill_value(value)\n",
      "/Users/amandeep/Github/table-linker/tl_env/lib/python3.8/site-packages/pandas/core/indexing.py:1817: SettingWithCopyWarning: \n",
      "A value is trying to be set on a copy of a slice from a DataFrame.\n",
      "Try using .loc[row_indexer,col_indexer] = value instead\n",
      "\n",
      "See the caveats in the documentation: https://pandas.pydata.org/pandas-docs/stable/user_guide/indexing.html#returning-a-view-versus-a-copy\n",
      "  self._setitem_single_column(loc, value, pi)\n"
     ]
    },
    {
     "name": "stderr",
     "output_type": "stream",
     "text": [
      "89it [1:05:19, 34.93s/it]"
     ]
    },
    {
     "name": "stdout",
     "output_type": "stream",
     "text": [
      "/Users/amandeep/Github/table-linker/tl_env/lib/python3.8/site-packages/pandas/core/indexing.py:1684: SettingWithCopyWarning: \n",
      "A value is trying to be set on a copy of a slice from a DataFrame.\n",
      "Try using .loc[row_indexer,col_indexer] = value instead\n",
      "\n",
      "See the caveats in the documentation: https://pandas.pydata.org/pandas-docs/stable/user_guide/indexing.html#returning-a-view-versus-a-copy\n",
      "  self.obj[key] = infer_fill_value(value)\n",
      "/Users/amandeep/Github/table-linker/tl_env/lib/python3.8/site-packages/pandas/core/indexing.py:1817: SettingWithCopyWarning: \n",
      "A value is trying to be set on a copy of a slice from a DataFrame.\n",
      "Try using .loc[row_indexer,col_indexer] = value instead\n",
      "\n",
      "See the caveats in the documentation: https://pandas.pydata.org/pandas-docs/stable/user_guide/indexing.html#returning-a-view-versus-a-copy\n",
      "  self._setitem_single_column(loc, value, pi)\n"
     ]
    },
    {
     "name": "stderr",
     "output_type": "stream",
     "text": [
      "90it [1:06:15, 41.15s/it]"
     ]
    },
    {
     "name": "stdout",
     "output_type": "stream",
     "text": [
      "/Users/amandeep/Github/table-linker/tl_env/lib/python3.8/site-packages/pandas/core/indexing.py:1684: SettingWithCopyWarning: \n",
      "A value is trying to be set on a copy of a slice from a DataFrame.\n",
      "Try using .loc[row_indexer,col_indexer] = value instead\n",
      "\n",
      "See the caveats in the documentation: https://pandas.pydata.org/pandas-docs/stable/user_guide/indexing.html#returning-a-view-versus-a-copy\n",
      "  self.obj[key] = infer_fill_value(value)\n",
      "/Users/amandeep/Github/table-linker/tl_env/lib/python3.8/site-packages/pandas/core/indexing.py:1817: SettingWithCopyWarning: \n",
      "A value is trying to be set on a copy of a slice from a DataFrame.\n",
      "Try using .loc[row_indexer,col_indexer] = value instead\n",
      "\n",
      "See the caveats in the documentation: https://pandas.pydata.org/pandas-docs/stable/user_guide/indexing.html#returning-a-view-versus-a-copy\n",
      "  self._setitem_single_column(loc, value, pi)\n"
     ]
    },
    {
     "name": "stderr",
     "output_type": "stream",
     "text": [
      "91it [1:06:50, 39.22s/it]"
     ]
    },
    {
     "name": "stdout",
     "output_type": "stream",
     "text": [
      "/Users/amandeep/Github/table-linker/tl_env/lib/python3.8/site-packages/pandas/core/indexing.py:1684: SettingWithCopyWarning: \n",
      "A value is trying to be set on a copy of a slice from a DataFrame.\n",
      "Try using .loc[row_indexer,col_indexer] = value instead\n",
      "\n",
      "See the caveats in the documentation: https://pandas.pydata.org/pandas-docs/stable/user_guide/indexing.html#returning-a-view-versus-a-copy\n",
      "  self.obj[key] = infer_fill_value(value)\n",
      "/Users/amandeep/Github/table-linker/tl_env/lib/python3.8/site-packages/pandas/core/indexing.py:1817: SettingWithCopyWarning: \n",
      "A value is trying to be set on a copy of a slice from a DataFrame.\n",
      "Try using .loc[row_indexer,col_indexer] = value instead\n",
      "\n",
      "See the caveats in the documentation: https://pandas.pydata.org/pandas-docs/stable/user_guide/indexing.html#returning-a-view-versus-a-copy\n",
      "  self._setitem_single_column(loc, value, pi)\n"
     ]
    },
    {
     "name": "stderr",
     "output_type": "stream",
     "text": [
      "92it [1:07:29, 39.20s/it]"
     ]
    },
    {
     "name": "stdout",
     "output_type": "stream",
     "text": [
      "/Users/amandeep/Github/table-linker/tl_env/lib/python3.8/site-packages/pandas/core/indexing.py:1684: SettingWithCopyWarning: \n",
      "A value is trying to be set on a copy of a slice from a DataFrame.\n",
      "Try using .loc[row_indexer,col_indexer] = value instead\n",
      "\n",
      "See the caveats in the documentation: https://pandas.pydata.org/pandas-docs/stable/user_guide/indexing.html#returning-a-view-versus-a-copy\n",
      "  self.obj[key] = infer_fill_value(value)\n",
      "/Users/amandeep/Github/table-linker/tl_env/lib/python3.8/site-packages/pandas/core/indexing.py:1817: SettingWithCopyWarning: \n",
      "A value is trying to be set on a copy of a slice from a DataFrame.\n",
      "Try using .loc[row_indexer,col_indexer] = value instead\n",
      "\n",
      "See the caveats in the documentation: https://pandas.pydata.org/pandas-docs/stable/user_guide/indexing.html#returning-a-view-versus-a-copy\n",
      "  self._setitem_single_column(loc, value, pi)\n"
     ]
    },
    {
     "name": "stderr",
     "output_type": "stream",
     "text": [
      "93it [1:08:46, 50.59s/it]"
     ]
    },
    {
     "name": "stdout",
     "output_type": "stream",
     "text": [
      "/Users/amandeep/Github/table-linker/tl_env/lib/python3.8/site-packages/pandas/core/indexing.py:1684: SettingWithCopyWarning: \n",
      "A value is trying to be set on a copy of a slice from a DataFrame.\n",
      "Try using .loc[row_indexer,col_indexer] = value instead\n",
      "\n",
      "See the caveats in the documentation: https://pandas.pydata.org/pandas-docs/stable/user_guide/indexing.html#returning-a-view-versus-a-copy\n",
      "  self.obj[key] = infer_fill_value(value)\n",
      "/Users/amandeep/Github/table-linker/tl_env/lib/python3.8/site-packages/pandas/core/indexing.py:1817: SettingWithCopyWarning: \n",
      "A value is trying to be set on a copy of a slice from a DataFrame.\n",
      "Try using .loc[row_indexer,col_indexer] = value instead\n",
      "\n",
      "See the caveats in the documentation: https://pandas.pydata.org/pandas-docs/stable/user_guide/indexing.html#returning-a-view-versus-a-copy\n",
      "  self._setitem_single_column(loc, value, pi)\n"
     ]
    },
    {
     "name": "stderr",
     "output_type": "stream",
     "text": [
      "94it [1:09:06, 41.46s/it]"
     ]
    },
    {
     "name": "stdout",
     "output_type": "stream",
     "text": [
      "/Users/amandeep/Github/table-linker/tl_env/lib/python3.8/site-packages/pandas/core/indexing.py:1684: SettingWithCopyWarning: \n",
      "A value is trying to be set on a copy of a slice from a DataFrame.\n",
      "Try using .loc[row_indexer,col_indexer] = value instead\n",
      "\n",
      "See the caveats in the documentation: https://pandas.pydata.org/pandas-docs/stable/user_guide/indexing.html#returning-a-view-versus-a-copy\n",
      "  self.obj[key] = infer_fill_value(value)\n",
      "/Users/amandeep/Github/table-linker/tl_env/lib/python3.8/site-packages/pandas/core/indexing.py:1817: SettingWithCopyWarning: \n",
      "A value is trying to be set on a copy of a slice from a DataFrame.\n",
      "Try using .loc[row_indexer,col_indexer] = value instead\n",
      "\n",
      "See the caveats in the documentation: https://pandas.pydata.org/pandas-docs/stable/user_guide/indexing.html#returning-a-view-versus-a-copy\n",
      "  self._setitem_single_column(loc, value, pi)\n"
     ]
    },
    {
     "name": "stderr",
     "output_type": "stream",
     "text": [
      "95it [1:10:02, 45.76s/it]"
     ]
    },
    {
     "name": "stdout",
     "output_type": "stream",
     "text": [
      "/Users/amandeep/Github/table-linker/tl_env/lib/python3.8/site-packages/pandas/core/indexing.py:1684: SettingWithCopyWarning: \n",
      "A value is trying to be set on a copy of a slice from a DataFrame.\n",
      "Try using .loc[row_indexer,col_indexer] = value instead\n",
      "\n",
      "See the caveats in the documentation: https://pandas.pydata.org/pandas-docs/stable/user_guide/indexing.html#returning-a-view-versus-a-copy\n",
      "  self.obj[key] = infer_fill_value(value)\n",
      "/Users/amandeep/Github/table-linker/tl_env/lib/python3.8/site-packages/pandas/core/indexing.py:1817: SettingWithCopyWarning: \n",
      "A value is trying to be set on a copy of a slice from a DataFrame.\n",
      "Try using .loc[row_indexer,col_indexer] = value instead\n",
      "\n",
      "See the caveats in the documentation: https://pandas.pydata.org/pandas-docs/stable/user_guide/indexing.html#returning-a-view-versus-a-copy\n",
      "  self._setitem_single_column(loc, value, pi)\n"
     ]
    },
    {
     "name": "stderr",
     "output_type": "stream",
     "text": [
      "96it [1:10:41, 43.78s/it]"
     ]
    },
    {
     "name": "stdout",
     "output_type": "stream",
     "text": [
      "/Users/amandeep/Github/table-linker/tl_env/lib/python3.8/site-packages/pandas/core/indexing.py:1684: SettingWithCopyWarning: \n",
      "A value is trying to be set on a copy of a slice from a DataFrame.\n",
      "Try using .loc[row_indexer,col_indexer] = value instead\n",
      "\n",
      "See the caveats in the documentation: https://pandas.pydata.org/pandas-docs/stable/user_guide/indexing.html#returning-a-view-versus-a-copy\n",
      "  self.obj[key] = infer_fill_value(value)\n",
      "/Users/amandeep/Github/table-linker/tl_env/lib/python3.8/site-packages/pandas/core/indexing.py:1817: SettingWithCopyWarning: \n",
      "A value is trying to be set on a copy of a slice from a DataFrame.\n",
      "Try using .loc[row_indexer,col_indexer] = value instead\n",
      "\n",
      "See the caveats in the documentation: https://pandas.pydata.org/pandas-docs/stable/user_guide/indexing.html#returning-a-view-versus-a-copy\n",
      "  self._setitem_single_column(loc, value, pi)\n"
     ]
    },
    {
     "name": "stderr",
     "output_type": "stream",
     "text": [
      "97it [1:11:06, 37.94s/it]"
     ]
    },
    {
     "name": "stdout",
     "output_type": "stream",
     "text": [
      "/Users/amandeep/Github/table-linker/tl_env/lib/python3.8/site-packages/pandas/core/indexing.py:1684: SettingWithCopyWarning: \n",
      "A value is trying to be set on a copy of a slice from a DataFrame.\n",
      "Try using .loc[row_indexer,col_indexer] = value instead\n",
      "\n",
      "See the caveats in the documentation: https://pandas.pydata.org/pandas-docs/stable/user_guide/indexing.html#returning-a-view-versus-a-copy\n",
      "  self.obj[key] = infer_fill_value(value)\n",
      "/Users/amandeep/Github/table-linker/tl_env/lib/python3.8/site-packages/pandas/core/indexing.py:1817: SettingWithCopyWarning: \n",
      "A value is trying to be set on a copy of a slice from a DataFrame.\n",
      "Try using .loc[row_indexer,col_indexer] = value instead\n",
      "\n",
      "See the caveats in the documentation: https://pandas.pydata.org/pandas-docs/stable/user_guide/indexing.html#returning-a-view-versus-a-copy\n",
      "  self._setitem_single_column(loc, value, pi)\n"
     ]
    },
    {
     "name": "stderr",
     "output_type": "stream",
     "text": [
      "98it [1:11:38, 36.33s/it]"
     ]
    },
    {
     "name": "stdout",
     "output_type": "stream",
     "text": [
      "/Users/amandeep/Github/table-linker/tl_env/lib/python3.8/site-packages/pandas/core/indexing.py:1684: SettingWithCopyWarning: \n",
      "A value is trying to be set on a copy of a slice from a DataFrame.\n",
      "Try using .loc[row_indexer,col_indexer] = value instead\n",
      "\n",
      "See the caveats in the documentation: https://pandas.pydata.org/pandas-docs/stable/user_guide/indexing.html#returning-a-view-versus-a-copy\n",
      "  self.obj[key] = infer_fill_value(value)\n",
      "/Users/amandeep/Github/table-linker/tl_env/lib/python3.8/site-packages/pandas/core/indexing.py:1817: SettingWithCopyWarning: \n",
      "A value is trying to be set on a copy of a slice from a DataFrame.\n",
      "Try using .loc[row_indexer,col_indexer] = value instead\n",
      "\n",
      "See the caveats in the documentation: https://pandas.pydata.org/pandas-docs/stable/user_guide/indexing.html#returning-a-view-versus-a-copy\n",
      "  self._setitem_single_column(loc, value, pi)\n"
     ]
    },
    {
     "name": "stderr",
     "output_type": "stream",
     "text": [
      "99it [1:12:27, 39.97s/it]"
     ]
    },
    {
     "name": "stdout",
     "output_type": "stream",
     "text": [
      "/Users/amandeep/Github/table-linker/tl_env/lib/python3.8/site-packages/pandas/core/indexing.py:1684: SettingWithCopyWarning: \n",
      "A value is trying to be set on a copy of a slice from a DataFrame.\n",
      "Try using .loc[row_indexer,col_indexer] = value instead\n",
      "\n",
      "See the caveats in the documentation: https://pandas.pydata.org/pandas-docs/stable/user_guide/indexing.html#returning-a-view-versus-a-copy\n",
      "  self.obj[key] = infer_fill_value(value)\n",
      "/Users/amandeep/Github/table-linker/tl_env/lib/python3.8/site-packages/pandas/core/indexing.py:1817: SettingWithCopyWarning: \n",
      "A value is trying to be set on a copy of a slice from a DataFrame.\n",
      "Try using .loc[row_indexer,col_indexer] = value instead\n",
      "\n",
      "See the caveats in the documentation: https://pandas.pydata.org/pandas-docs/stable/user_guide/indexing.html#returning-a-view-versus-a-copy\n",
      "  self._setitem_single_column(loc, value, pi)\n"
     ]
    },
    {
     "name": "stderr",
     "output_type": "stream",
     "text": [
      "100it [1:12:46, 33.74s/it]"
     ]
    },
    {
     "name": "stdout",
     "output_type": "stream",
     "text": [
      "/Users/amandeep/Github/table-linker/tl_env/lib/python3.8/site-packages/pandas/core/indexing.py:1684: SettingWithCopyWarning: \n",
      "A value is trying to be set on a copy of a slice from a DataFrame.\n",
      "Try using .loc[row_indexer,col_indexer] = value instead\n",
      "\n",
      "See the caveats in the documentation: https://pandas.pydata.org/pandas-docs/stable/user_guide/indexing.html#returning-a-view-versus-a-copy\n",
      "  self.obj[key] = infer_fill_value(value)\n",
      "/Users/amandeep/Github/table-linker/tl_env/lib/python3.8/site-packages/pandas/core/indexing.py:1817: SettingWithCopyWarning: \n",
      "A value is trying to be set on a copy of a slice from a DataFrame.\n",
      "Try using .loc[row_indexer,col_indexer] = value instead\n",
      "\n",
      "See the caveats in the documentation: https://pandas.pydata.org/pandas-docs/stable/user_guide/indexing.html#returning-a-view-versus-a-copy\n",
      "  self._setitem_single_column(loc, value, pi)\n"
     ]
    },
    {
     "name": "stderr",
     "output_type": "stream",
     "text": [
      "101it [1:14:22, 52.37s/it]"
     ]
    },
    {
     "name": "stdout",
     "output_type": "stream",
     "text": [
      "/Users/amandeep/Github/table-linker/tl_env/lib/python3.8/site-packages/pandas/core/indexing.py:1684: SettingWithCopyWarning: \n",
      "A value is trying to be set on a copy of a slice from a DataFrame.\n",
      "Try using .loc[row_indexer,col_indexer] = value instead\n",
      "\n",
      "See the caveats in the documentation: https://pandas.pydata.org/pandas-docs/stable/user_guide/indexing.html#returning-a-view-versus-a-copy\n",
      "  self.obj[key] = infer_fill_value(value)\n",
      "/Users/amandeep/Github/table-linker/tl_env/lib/python3.8/site-packages/pandas/core/indexing.py:1817: SettingWithCopyWarning: \n",
      "A value is trying to be set on a copy of a slice from a DataFrame.\n",
      "Try using .loc[row_indexer,col_indexer] = value instead\n",
      "\n",
      "See the caveats in the documentation: https://pandas.pydata.org/pandas-docs/stable/user_guide/indexing.html#returning-a-view-versus-a-copy\n",
      "  self._setitem_single_column(loc, value, pi)\n"
     ]
    },
    {
     "name": "stderr",
     "output_type": "stream",
     "text": [
      "102it [1:14:44, 43.26s/it]"
     ]
    },
    {
     "name": "stdout",
     "output_type": "stream",
     "text": [
      "/Users/amandeep/Github/table-linker/tl_env/lib/python3.8/site-packages/pandas/core/indexing.py:1684: SettingWithCopyWarning: \n",
      "A value is trying to be set on a copy of a slice from a DataFrame.\n",
      "Try using .loc[row_indexer,col_indexer] = value instead\n",
      "\n",
      "See the caveats in the documentation: https://pandas.pydata.org/pandas-docs/stable/user_guide/indexing.html#returning-a-view-versus-a-copy\n",
      "  self.obj[key] = infer_fill_value(value)\n",
      "/Users/amandeep/Github/table-linker/tl_env/lib/python3.8/site-packages/pandas/core/indexing.py:1817: SettingWithCopyWarning: \n",
      "A value is trying to be set on a copy of a slice from a DataFrame.\n",
      "Try using .loc[row_indexer,col_indexer] = value instead\n",
      "\n",
      "See the caveats in the documentation: https://pandas.pydata.org/pandas-docs/stable/user_guide/indexing.html#returning-a-view-versus-a-copy\n",
      "  self._setitem_single_column(loc, value, pi)\n"
     ]
    },
    {
     "name": "stderr",
     "output_type": "stream",
     "text": [
      "103it [1:15:09, 37.78s/it]"
     ]
    },
    {
     "name": "stdout",
     "output_type": "stream",
     "text": [
      "/Users/amandeep/Github/table-linker/tl_env/lib/python3.8/site-packages/pandas/core/indexing.py:1684: SettingWithCopyWarning: \n",
      "A value is trying to be set on a copy of a slice from a DataFrame.\n",
      "Try using .loc[row_indexer,col_indexer] = value instead\n",
      "\n",
      "See the caveats in the documentation: https://pandas.pydata.org/pandas-docs/stable/user_guide/indexing.html#returning-a-view-versus-a-copy\n",
      "  self.obj[key] = infer_fill_value(value)\n",
      "/Users/amandeep/Github/table-linker/tl_env/lib/python3.8/site-packages/pandas/core/indexing.py:1817: SettingWithCopyWarning: \n",
      "A value is trying to be set on a copy of a slice from a DataFrame.\n",
      "Try using .loc[row_indexer,col_indexer] = value instead\n",
      "\n",
      "See the caveats in the documentation: https://pandas.pydata.org/pandas-docs/stable/user_guide/indexing.html#returning-a-view-versus-a-copy\n",
      "  self._setitem_single_column(loc, value, pi)\n"
     ]
    },
    {
     "name": "stderr",
     "output_type": "stream",
     "text": [
      "104it [1:15:56, 40.66s/it]"
     ]
    },
    {
     "name": "stdout",
     "output_type": "stream",
     "text": [
      "/Users/amandeep/Github/table-linker/tl_env/lib/python3.8/site-packages/pandas/core/indexing.py:1684: SettingWithCopyWarning: \n",
      "A value is trying to be set on a copy of a slice from a DataFrame.\n",
      "Try using .loc[row_indexer,col_indexer] = value instead\n",
      "\n",
      "See the caveats in the documentation: https://pandas.pydata.org/pandas-docs/stable/user_guide/indexing.html#returning-a-view-versus-a-copy\n",
      "  self.obj[key] = infer_fill_value(value)\n",
      "/Users/amandeep/Github/table-linker/tl_env/lib/python3.8/site-packages/pandas/core/indexing.py:1817: SettingWithCopyWarning: \n",
      "A value is trying to be set on a copy of a slice from a DataFrame.\n",
      "Try using .loc[row_indexer,col_indexer] = value instead\n",
      "\n",
      "See the caveats in the documentation: https://pandas.pydata.org/pandas-docs/stable/user_guide/indexing.html#returning-a-view-versus-a-copy\n",
      "  self._setitem_single_column(loc, value, pi)\n"
     ]
    },
    {
     "name": "stderr",
     "output_type": "stream",
     "text": [
      "105it [1:16:25, 37.12s/it]"
     ]
    },
    {
     "name": "stdout",
     "output_type": "stream",
     "text": [
      "/Users/amandeep/Github/table-linker/tl_env/lib/python3.8/site-packages/pandas/core/indexing.py:1684: SettingWithCopyWarning: \n",
      "A value is trying to be set on a copy of a slice from a DataFrame.\n",
      "Try using .loc[row_indexer,col_indexer] = value instead\n",
      "\n",
      "See the caveats in the documentation: https://pandas.pydata.org/pandas-docs/stable/user_guide/indexing.html#returning-a-view-versus-a-copy\n",
      "  self.obj[key] = infer_fill_value(value)\n",
      "/Users/amandeep/Github/table-linker/tl_env/lib/python3.8/site-packages/pandas/core/indexing.py:1817: SettingWithCopyWarning: \n",
      "A value is trying to be set on a copy of a slice from a DataFrame.\n",
      "Try using .loc[row_indexer,col_indexer] = value instead\n",
      "\n",
      "See the caveats in the documentation: https://pandas.pydata.org/pandas-docs/stable/user_guide/indexing.html#returning-a-view-versus-a-copy\n",
      "  self._setitem_single_column(loc, value, pi)\n"
     ]
    },
    {
     "name": "stderr",
     "output_type": "stream",
     "text": [
      "106it [1:17:07, 38.63s/it]"
     ]
    },
    {
     "name": "stdout",
     "output_type": "stream",
     "text": [
      "/Users/amandeep/Github/table-linker/tl_env/lib/python3.8/site-packages/pandas/core/indexing.py:1684: SettingWithCopyWarning: \n",
      "A value is trying to be set on a copy of a slice from a DataFrame.\n",
      "Try using .loc[row_indexer,col_indexer] = value instead\n",
      "\n",
      "See the caveats in the documentation: https://pandas.pydata.org/pandas-docs/stable/user_guide/indexing.html#returning-a-view-versus-a-copy\n",
      "  self.obj[key] = infer_fill_value(value)\n",
      "/Users/amandeep/Github/table-linker/tl_env/lib/python3.8/site-packages/pandas/core/indexing.py:1817: SettingWithCopyWarning: \n",
      "A value is trying to be set on a copy of a slice from a DataFrame.\n",
      "Try using .loc[row_indexer,col_indexer] = value instead\n",
      "\n",
      "See the caveats in the documentation: https://pandas.pydata.org/pandas-docs/stable/user_guide/indexing.html#returning-a-view-versus-a-copy\n",
      "  self._setitem_single_column(loc, value, pi)\n"
     ]
    },
    {
     "name": "stderr",
     "output_type": "stream",
     "text": [
      "107it [1:18:50, 57.88s/it]"
     ]
    },
    {
     "name": "stdout",
     "output_type": "stream",
     "text": [
      "/Users/amandeep/Github/table-linker/tl_env/lib/python3.8/site-packages/pandas/core/indexing.py:1684: SettingWithCopyWarning: \n",
      "A value is trying to be set on a copy of a slice from a DataFrame.\n",
      "Try using .loc[row_indexer,col_indexer] = value instead\n",
      "\n",
      "See the caveats in the documentation: https://pandas.pydata.org/pandas-docs/stable/user_guide/indexing.html#returning-a-view-versus-a-copy\n",
      "  self.obj[key] = infer_fill_value(value)\n",
      "/Users/amandeep/Github/table-linker/tl_env/lib/python3.8/site-packages/pandas/core/indexing.py:1817: SettingWithCopyWarning: \n",
      "A value is trying to be set on a copy of a slice from a DataFrame.\n",
      "Try using .loc[row_indexer,col_indexer] = value instead\n",
      "\n",
      "See the caveats in the documentation: https://pandas.pydata.org/pandas-docs/stable/user_guide/indexing.html#returning-a-view-versus-a-copy\n",
      "  self._setitem_single_column(loc, value, pi)\n"
     ]
    },
    {
     "name": "stderr",
     "output_type": "stream",
     "text": [
      "108it [1:19:13, 47.37s/it]"
     ]
    },
    {
     "name": "stdout",
     "output_type": "stream",
     "text": [
      "/Users/amandeep/Github/table-linker/tl_env/lib/python3.8/site-packages/pandas/core/indexing.py:1684: SettingWithCopyWarning: \n",
      "A value is trying to be set on a copy of a slice from a DataFrame.\n",
      "Try using .loc[row_indexer,col_indexer] = value instead\n",
      "\n",
      "See the caveats in the documentation: https://pandas.pydata.org/pandas-docs/stable/user_guide/indexing.html#returning-a-view-versus-a-copy\n",
      "  self.obj[key] = infer_fill_value(value)\n",
      "/Users/amandeep/Github/table-linker/tl_env/lib/python3.8/site-packages/pandas/core/indexing.py:1817: SettingWithCopyWarning: \n",
      "A value is trying to be set on a copy of a slice from a DataFrame.\n",
      "Try using .loc[row_indexer,col_indexer] = value instead\n",
      "\n",
      "See the caveats in the documentation: https://pandas.pydata.org/pandas-docs/stable/user_guide/indexing.html#returning-a-view-versus-a-copy\n",
      "  self._setitem_single_column(loc, value, pi)\n"
     ]
    },
    {
     "name": "stderr",
     "output_type": "stream",
     "text": [
      "109it [1:19:45, 42.82s/it]"
     ]
    },
    {
     "name": "stdout",
     "output_type": "stream",
     "text": [
      "/Users/amandeep/Github/table-linker/tl_env/lib/python3.8/site-packages/pandas/core/indexing.py:1684: SettingWithCopyWarning: \n",
      "A value is trying to be set on a copy of a slice from a DataFrame.\n",
      "Try using .loc[row_indexer,col_indexer] = value instead\n",
      "\n",
      "See the caveats in the documentation: https://pandas.pydata.org/pandas-docs/stable/user_guide/indexing.html#returning-a-view-versus-a-copy\n",
      "  self.obj[key] = infer_fill_value(value)\n",
      "/Users/amandeep/Github/table-linker/tl_env/lib/python3.8/site-packages/pandas/core/indexing.py:1817: SettingWithCopyWarning: \n",
      "A value is trying to be set on a copy of a slice from a DataFrame.\n",
      "Try using .loc[row_indexer,col_indexer] = value instead\n",
      "\n",
      "See the caveats in the documentation: https://pandas.pydata.org/pandas-docs/stable/user_guide/indexing.html#returning-a-view-versus-a-copy\n",
      "  self._setitem_single_column(loc, value, pi)\n"
     ]
    },
    {
     "name": "stderr",
     "output_type": "stream",
     "text": [
      "110it [1:20:03, 35.54s/it]"
     ]
    },
    {
     "name": "stdout",
     "output_type": "stream",
     "text": [
      "/Users/amandeep/Github/table-linker/tl_env/lib/python3.8/site-packages/pandas/core/indexing.py:1684: SettingWithCopyWarning: \n",
      "A value is trying to be set on a copy of a slice from a DataFrame.\n",
      "Try using .loc[row_indexer,col_indexer] = value instead\n",
      "\n",
      "See the caveats in the documentation: https://pandas.pydata.org/pandas-docs/stable/user_guide/indexing.html#returning-a-view-versus-a-copy\n",
      "  self.obj[key] = infer_fill_value(value)\n",
      "/Users/amandeep/Github/table-linker/tl_env/lib/python3.8/site-packages/pandas/core/indexing.py:1817: SettingWithCopyWarning: \n",
      "A value is trying to be set on a copy of a slice from a DataFrame.\n",
      "Try using .loc[row_indexer,col_indexer] = value instead\n",
      "\n",
      "See the caveats in the documentation: https://pandas.pydata.org/pandas-docs/stable/user_guide/indexing.html#returning-a-view-versus-a-copy\n",
      "  self._setitem_single_column(loc, value, pi)\n"
     ]
    },
    {
     "name": "stderr",
     "output_type": "stream",
     "text": [
      "111it [1:20:56, 40.65s/it]"
     ]
    },
    {
     "name": "stdout",
     "output_type": "stream",
     "text": [
      "/Users/amandeep/Github/table-linker/tl_env/lib/python3.8/site-packages/pandas/core/indexing.py:1684: SettingWithCopyWarning: \n",
      "A value is trying to be set on a copy of a slice from a DataFrame.\n",
      "Try using .loc[row_indexer,col_indexer] = value instead\n",
      "\n",
      "See the caveats in the documentation: https://pandas.pydata.org/pandas-docs/stable/user_guide/indexing.html#returning-a-view-versus-a-copy\n",
      "  self.obj[key] = infer_fill_value(value)\n",
      "/Users/amandeep/Github/table-linker/tl_env/lib/python3.8/site-packages/pandas/core/indexing.py:1817: SettingWithCopyWarning: \n",
      "A value is trying to be set on a copy of a slice from a DataFrame.\n",
      "Try using .loc[row_indexer,col_indexer] = value instead\n",
      "\n",
      "See the caveats in the documentation: https://pandas.pydata.org/pandas-docs/stable/user_guide/indexing.html#returning-a-view-versus-a-copy\n",
      "  self._setitem_single_column(loc, value, pi)\n"
     ]
    },
    {
     "name": "stderr",
     "output_type": "stream",
     "text": [
      "112it [1:21:51, 44.89s/it]"
     ]
    },
    {
     "name": "stdout",
     "output_type": "stream",
     "text": [
      "/Users/amandeep/Github/table-linker/tl_env/lib/python3.8/site-packages/pandas/core/indexing.py:1684: SettingWithCopyWarning: \n",
      "A value is trying to be set on a copy of a slice from a DataFrame.\n",
      "Try using .loc[row_indexer,col_indexer] = value instead\n",
      "\n",
      "See the caveats in the documentation: https://pandas.pydata.org/pandas-docs/stable/user_guide/indexing.html#returning-a-view-versus-a-copy\n",
      "  self.obj[key] = infer_fill_value(value)\n",
      "/Users/amandeep/Github/table-linker/tl_env/lib/python3.8/site-packages/pandas/core/indexing.py:1817: SettingWithCopyWarning: \n",
      "A value is trying to be set on a copy of a slice from a DataFrame.\n",
      "Try using .loc[row_indexer,col_indexer] = value instead\n",
      "\n",
      "See the caveats in the documentation: https://pandas.pydata.org/pandas-docs/stable/user_guide/indexing.html#returning-a-view-versus-a-copy\n",
      "  self._setitem_single_column(loc, value, pi)\n"
     ]
    },
    {
     "name": "stderr",
     "output_type": "stream",
     "text": [
      "113it [1:22:53, 49.98s/it]"
     ]
    },
    {
     "name": "stdout",
     "output_type": "stream",
     "text": [
      "/Users/amandeep/Github/table-linker/tl_env/lib/python3.8/site-packages/pandas/core/indexing.py:1684: SettingWithCopyWarning: \n",
      "A value is trying to be set on a copy of a slice from a DataFrame.\n",
      "Try using .loc[row_indexer,col_indexer] = value instead\n",
      "\n",
      "See the caveats in the documentation: https://pandas.pydata.org/pandas-docs/stable/user_guide/indexing.html#returning-a-view-versus-a-copy\n",
      "  self.obj[key] = infer_fill_value(value)\n",
      "/Users/amandeep/Github/table-linker/tl_env/lib/python3.8/site-packages/pandas/core/indexing.py:1817: SettingWithCopyWarning: \n",
      "A value is trying to be set on a copy of a slice from a DataFrame.\n",
      "Try using .loc[row_indexer,col_indexer] = value instead\n",
      "\n",
      "See the caveats in the documentation: https://pandas.pydata.org/pandas-docs/stable/user_guide/indexing.html#returning-a-view-versus-a-copy\n",
      "  self._setitem_single_column(loc, value, pi)\n"
     ]
    },
    {
     "name": "stderr",
     "output_type": "stream",
     "text": [
      "114it [1:23:25, 44.63s/it]"
     ]
    },
    {
     "name": "stdout",
     "output_type": "stream",
     "text": [
      "/Users/amandeep/Github/table-linker/tl_env/lib/python3.8/site-packages/pandas/core/indexing.py:1684: SettingWithCopyWarning: \n",
      "A value is trying to be set on a copy of a slice from a DataFrame.\n",
      "Try using .loc[row_indexer,col_indexer] = value instead\n",
      "\n",
      "See the caveats in the documentation: https://pandas.pydata.org/pandas-docs/stable/user_guide/indexing.html#returning-a-view-versus-a-copy\n",
      "  self.obj[key] = infer_fill_value(value)\n",
      "/Users/amandeep/Github/table-linker/tl_env/lib/python3.8/site-packages/pandas/core/indexing.py:1817: SettingWithCopyWarning: \n",
      "A value is trying to be set on a copy of a slice from a DataFrame.\n",
      "Try using .loc[row_indexer,col_indexer] = value instead\n",
      "\n",
      "See the caveats in the documentation: https://pandas.pydata.org/pandas-docs/stable/user_guide/indexing.html#returning-a-view-versus-a-copy\n",
      "  self._setitem_single_column(loc, value, pi)\n"
     ]
    },
    {
     "name": "stderr",
     "output_type": "stream",
     "text": [
      "115it [1:25:02, 60.51s/it]"
     ]
    },
    {
     "name": "stdout",
     "output_type": "stream",
     "text": [
      "/Users/amandeep/Github/table-linker/tl_env/lib/python3.8/site-packages/pandas/core/indexing.py:1684: SettingWithCopyWarning: \n",
      "A value is trying to be set on a copy of a slice from a DataFrame.\n",
      "Try using .loc[row_indexer,col_indexer] = value instead\n",
      "\n",
      "See the caveats in the documentation: https://pandas.pydata.org/pandas-docs/stable/user_guide/indexing.html#returning-a-view-versus-a-copy\n",
      "  self.obj[key] = infer_fill_value(value)\n",
      "/Users/amandeep/Github/table-linker/tl_env/lib/python3.8/site-packages/pandas/core/indexing.py:1817: SettingWithCopyWarning: \n",
      "A value is trying to be set on a copy of a slice from a DataFrame.\n",
      "Try using .loc[row_indexer,col_indexer] = value instead\n",
      "\n",
      "See the caveats in the documentation: https://pandas.pydata.org/pandas-docs/stable/user_guide/indexing.html#returning-a-view-versus-a-copy\n",
      "  self._setitem_single_column(loc, value, pi)\n"
     ]
    },
    {
     "name": "stderr",
     "output_type": "stream",
     "text": [
      "116it [1:25:25, 49.26s/it]"
     ]
    },
    {
     "name": "stdout",
     "output_type": "stream",
     "text": [
      "/Users/amandeep/Github/table-linker/tl_env/lib/python3.8/site-packages/pandas/core/indexing.py:1684: SettingWithCopyWarning: \n",
      "A value is trying to be set on a copy of a slice from a DataFrame.\n",
      "Try using .loc[row_indexer,col_indexer] = value instead\n",
      "\n",
      "See the caveats in the documentation: https://pandas.pydata.org/pandas-docs/stable/user_guide/indexing.html#returning-a-view-versus-a-copy\n",
      "  self.obj[key] = infer_fill_value(value)\n",
      "/Users/amandeep/Github/table-linker/tl_env/lib/python3.8/site-packages/pandas/core/indexing.py:1817: SettingWithCopyWarning: \n",
      "A value is trying to be set on a copy of a slice from a DataFrame.\n",
      "Try using .loc[row_indexer,col_indexer] = value instead\n",
      "\n",
      "See the caveats in the documentation: https://pandas.pydata.org/pandas-docs/stable/user_guide/indexing.html#returning-a-view-versus-a-copy\n",
      "  self._setitem_single_column(loc, value, pi)\n"
     ]
    },
    {
     "name": "stderr",
     "output_type": "stream",
     "text": [
      "117it [1:25:45, 40.40s/it]"
     ]
    },
    {
     "name": "stdout",
     "output_type": "stream",
     "text": [
      "/Users/amandeep/Github/table-linker/tl_env/lib/python3.8/site-packages/pandas/core/indexing.py:1684: SettingWithCopyWarning: \n",
      "A value is trying to be set on a copy of a slice from a DataFrame.\n",
      "Try using .loc[row_indexer,col_indexer] = value instead\n",
      "\n",
      "See the caveats in the documentation: https://pandas.pydata.org/pandas-docs/stable/user_guide/indexing.html#returning-a-view-versus-a-copy\n",
      "  self.obj[key] = infer_fill_value(value)\n",
      "/Users/amandeep/Github/table-linker/tl_env/lib/python3.8/site-packages/pandas/core/indexing.py:1817: SettingWithCopyWarning: \n",
      "A value is trying to be set on a copy of a slice from a DataFrame.\n",
      "Try using .loc[row_indexer,col_indexer] = value instead\n",
      "\n",
      "See the caveats in the documentation: https://pandas.pydata.org/pandas-docs/stable/user_guide/indexing.html#returning-a-view-versus-a-copy\n",
      "  self._setitem_single_column(loc, value, pi)\n"
     ]
    },
    {
     "name": "stderr",
     "output_type": "stream",
     "text": [
      "118it [1:26:05, 34.19s/it]"
     ]
    },
    {
     "name": "stdout",
     "output_type": "stream",
     "text": [
      "/Users/amandeep/Github/table-linker/tl_env/lib/python3.8/site-packages/pandas/core/indexing.py:1684: SettingWithCopyWarning: \n",
      "A value is trying to be set on a copy of a slice from a DataFrame.\n",
      "Try using .loc[row_indexer,col_indexer] = value instead\n",
      "\n",
      "See the caveats in the documentation: https://pandas.pydata.org/pandas-docs/stable/user_guide/indexing.html#returning-a-view-versus-a-copy\n",
      "  self.obj[key] = infer_fill_value(value)\n",
      "/Users/amandeep/Github/table-linker/tl_env/lib/python3.8/site-packages/pandas/core/indexing.py:1817: SettingWithCopyWarning: \n",
      "A value is trying to be set on a copy of a slice from a DataFrame.\n",
      "Try using .loc[row_indexer,col_indexer] = value instead\n",
      "\n",
      "See the caveats in the documentation: https://pandas.pydata.org/pandas-docs/stable/user_guide/indexing.html#returning-a-view-versus-a-copy\n",
      "  self._setitem_single_column(loc, value, pi)\n"
     ]
    },
    {
     "name": "stderr",
     "output_type": "stream",
     "text": [
      "119it [1:27:08, 42.88s/it]"
     ]
    },
    {
     "name": "stdout",
     "output_type": "stream",
     "text": [
      "/Users/amandeep/Github/table-linker/tl_env/lib/python3.8/site-packages/pandas/core/indexing.py:1684: SettingWithCopyWarning: \n",
      "A value is trying to be set on a copy of a slice from a DataFrame.\n",
      "Try using .loc[row_indexer,col_indexer] = value instead\n",
      "\n",
      "See the caveats in the documentation: https://pandas.pydata.org/pandas-docs/stable/user_guide/indexing.html#returning-a-view-versus-a-copy\n",
      "  self.obj[key] = infer_fill_value(value)\n",
      "/Users/amandeep/Github/table-linker/tl_env/lib/python3.8/site-packages/pandas/core/indexing.py:1817: SettingWithCopyWarning: \n",
      "A value is trying to be set on a copy of a slice from a DataFrame.\n",
      "Try using .loc[row_indexer,col_indexer] = value instead\n",
      "\n",
      "See the caveats in the documentation: https://pandas.pydata.org/pandas-docs/stable/user_guide/indexing.html#returning-a-view-versus-a-copy\n",
      "  self._setitem_single_column(loc, value, pi)\n"
     ]
    },
    {
     "name": "stderr",
     "output_type": "stream",
     "text": [
      "120it [1:27:57, 44.78s/it]"
     ]
    },
    {
     "name": "stdout",
     "output_type": "stream",
     "text": [
      "/Users/amandeep/Github/table-linker/tl_env/lib/python3.8/site-packages/pandas/core/indexing.py:1684: SettingWithCopyWarning: \n",
      "A value is trying to be set on a copy of a slice from a DataFrame.\n",
      "Try using .loc[row_indexer,col_indexer] = value instead\n",
      "\n",
      "See the caveats in the documentation: https://pandas.pydata.org/pandas-docs/stable/user_guide/indexing.html#returning-a-view-versus-a-copy\n",
      "  self.obj[key] = infer_fill_value(value)\n",
      "/Users/amandeep/Github/table-linker/tl_env/lib/python3.8/site-packages/pandas/core/indexing.py:1817: SettingWithCopyWarning: \n",
      "A value is trying to be set on a copy of a slice from a DataFrame.\n",
      "Try using .loc[row_indexer,col_indexer] = value instead\n",
      "\n",
      "See the caveats in the documentation: https://pandas.pydata.org/pandas-docs/stable/user_guide/indexing.html#returning-a-view-versus-a-copy\n",
      "  self._setitem_single_column(loc, value, pi)\n"
     ]
    },
    {
     "name": "stderr",
     "output_type": "stream",
     "text": [
      "121it [1:28:39, 43.93s/it]"
     ]
    },
    {
     "name": "stdout",
     "output_type": "stream",
     "text": [
      "/Users/amandeep/Github/table-linker/tl/cli/pgt-semantic-tf-idf.py:46: DtypeWarning: Columns (34) have mixed types.Specify dtype option on import or set low_memory=False.\n",
      "  tfidf_unit = SemanticsFeature(kwargs['output_column_name'],\n",
      "/Users/amandeep/Github/table-linker/tl_env/lib/python3.8/site-packages/pandas/core/indexing.py:1684: SettingWithCopyWarning: \n",
      "A value is trying to be set on a copy of a slice from a DataFrame.\n",
      "Try using .loc[row_indexer,col_indexer] = value instead\n",
      "\n",
      "See the caveats in the documentation: https://pandas.pydata.org/pandas-docs/stable/user_guide/indexing.html#returning-a-view-versus-a-copy\n",
      "  self.obj[key] = infer_fill_value(value)\n",
      "/Users/amandeep/Github/table-linker/tl_env/lib/python3.8/site-packages/pandas/core/indexing.py:1817: SettingWithCopyWarning: \n",
      "A value is trying to be set on a copy of a slice from a DataFrame.\n",
      "Try using .loc[row_indexer,col_indexer] = value instead\n",
      "\n",
      "See the caveats in the documentation: https://pandas.pydata.org/pandas-docs/stable/user_guide/indexing.html#returning-a-view-versus-a-copy\n",
      "  self._setitem_single_column(loc, value, pi)\n"
     ]
    },
    {
     "name": "stderr",
     "output_type": "stream",
     "text": [
      "122it [1:30:50, 70.00s/it]"
     ]
    },
    {
     "name": "stdout",
     "output_type": "stream",
     "text": [
      "/Users/amandeep/Github/table-linker/tl_env/lib/python3.8/site-packages/pandas/core/indexing.py:1684: SettingWithCopyWarning: \n",
      "A value is trying to be set on a copy of a slice from a DataFrame.\n",
      "Try using .loc[row_indexer,col_indexer] = value instead\n",
      "\n",
      "See the caveats in the documentation: https://pandas.pydata.org/pandas-docs/stable/user_guide/indexing.html#returning-a-view-versus-a-copy\n",
      "  self.obj[key] = infer_fill_value(value)\n",
      "/Users/amandeep/Github/table-linker/tl_env/lib/python3.8/site-packages/pandas/core/indexing.py:1817: SettingWithCopyWarning: \n",
      "A value is trying to be set on a copy of a slice from a DataFrame.\n",
      "Try using .loc[row_indexer,col_indexer] = value instead\n",
      "\n",
      "See the caveats in the documentation: https://pandas.pydata.org/pandas-docs/stable/user_guide/indexing.html#returning-a-view-versus-a-copy\n",
      "  self._setitem_single_column(loc, value, pi)\n"
     ]
    },
    {
     "name": "stderr",
     "output_type": "stream",
     "text": [
      "123it [1:31:28, 60.38s/it]"
     ]
    },
    {
     "name": "stdout",
     "output_type": "stream",
     "text": [
      "/Users/amandeep/Github/table-linker/tl_env/lib/python3.8/site-packages/pandas/core/indexing.py:1684: SettingWithCopyWarning: \n",
      "A value is trying to be set on a copy of a slice from a DataFrame.\n",
      "Try using .loc[row_indexer,col_indexer] = value instead\n",
      "\n",
      "See the caveats in the documentation: https://pandas.pydata.org/pandas-docs/stable/user_guide/indexing.html#returning-a-view-versus-a-copy\n",
      "  self.obj[key] = infer_fill_value(value)\n",
      "/Users/amandeep/Github/table-linker/tl_env/lib/python3.8/site-packages/pandas/core/indexing.py:1817: SettingWithCopyWarning: \n",
      "A value is trying to be set on a copy of a slice from a DataFrame.\n",
      "Try using .loc[row_indexer,col_indexer] = value instead\n",
      "\n",
      "See the caveats in the documentation: https://pandas.pydata.org/pandas-docs/stable/user_guide/indexing.html#returning-a-view-versus-a-copy\n",
      "  self._setitem_single_column(loc, value, pi)\n"
     ]
    },
    {
     "name": "stderr",
     "output_type": "stream",
     "text": [
      "124it [1:33:38, 81.21s/it]"
     ]
    },
    {
     "name": "stdout",
     "output_type": "stream",
     "text": [
      "/Users/amandeep/Github/table-linker/tl_env/lib/python3.8/site-packages/pandas/core/indexing.py:1684: SettingWithCopyWarning: \n",
      "A value is trying to be set on a copy of a slice from a DataFrame.\n",
      "Try using .loc[row_indexer,col_indexer] = value instead\n",
      "\n",
      "See the caveats in the documentation: https://pandas.pydata.org/pandas-docs/stable/user_guide/indexing.html#returning-a-view-versus-a-copy\n",
      "  self.obj[key] = infer_fill_value(value)\n",
      "/Users/amandeep/Github/table-linker/tl_env/lib/python3.8/site-packages/pandas/core/indexing.py:1817: SettingWithCopyWarning: \n",
      "A value is trying to be set on a copy of a slice from a DataFrame.\n",
      "Try using .loc[row_indexer,col_indexer] = value instead\n",
      "\n",
      "See the caveats in the documentation: https://pandas.pydata.org/pandas-docs/stable/user_guide/indexing.html#returning-a-view-versus-a-copy\n",
      "  self._setitem_single_column(loc, value, pi)\n"
     ]
    },
    {
     "name": "stderr",
     "output_type": "stream",
     "text": [
      "125it [1:34:00, 63.54s/it]"
     ]
    },
    {
     "name": "stdout",
     "output_type": "stream",
     "text": [
      "/Users/amandeep/Github/table-linker/tl_env/lib/python3.8/site-packages/pandas/core/indexing.py:1684: SettingWithCopyWarning: \n",
      "A value is trying to be set on a copy of a slice from a DataFrame.\n",
      "Try using .loc[row_indexer,col_indexer] = value instead\n",
      "\n",
      "See the caveats in the documentation: https://pandas.pydata.org/pandas-docs/stable/user_guide/indexing.html#returning-a-view-versus-a-copy\n",
      "  self.obj[key] = infer_fill_value(value)\n",
      "/Users/amandeep/Github/table-linker/tl_env/lib/python3.8/site-packages/pandas/core/indexing.py:1817: SettingWithCopyWarning: \n",
      "A value is trying to be set on a copy of a slice from a DataFrame.\n",
      "Try using .loc[row_indexer,col_indexer] = value instead\n",
      "\n",
      "See the caveats in the documentation: https://pandas.pydata.org/pandas-docs/stable/user_guide/indexing.html#returning-a-view-versus-a-copy\n",
      "  self._setitem_single_column(loc, value, pi)\n"
     ]
    },
    {
     "name": "stderr",
     "output_type": "stream",
     "text": [
      "126it [1:34:29, 53.31s/it]"
     ]
    },
    {
     "name": "stdout",
     "output_type": "stream",
     "text": [
      "/Users/amandeep/Github/table-linker/tl_env/lib/python3.8/site-packages/pandas/core/indexing.py:1684: SettingWithCopyWarning: \n",
      "A value is trying to be set on a copy of a slice from a DataFrame.\n",
      "Try using .loc[row_indexer,col_indexer] = value instead\n",
      "\n",
      "See the caveats in the documentation: https://pandas.pydata.org/pandas-docs/stable/user_guide/indexing.html#returning-a-view-versus-a-copy\n",
      "  self.obj[key] = infer_fill_value(value)\n",
      "/Users/amandeep/Github/table-linker/tl_env/lib/python3.8/site-packages/pandas/core/indexing.py:1817: SettingWithCopyWarning: \n",
      "A value is trying to be set on a copy of a slice from a DataFrame.\n",
      "Try using .loc[row_indexer,col_indexer] = value instead\n",
      "\n",
      "See the caveats in the documentation: https://pandas.pydata.org/pandas-docs/stable/user_guide/indexing.html#returning-a-view-versus-a-copy\n",
      "  self._setitem_single_column(loc, value, pi)\n"
     ]
    },
    {
     "name": "stderr",
     "output_type": "stream",
     "text": [
      "127it [1:36:13, 68.52s/it]"
     ]
    },
    {
     "name": "stdout",
     "output_type": "stream",
     "text": [
      "/Users/amandeep/Github/table-linker/tl_env/lib/python3.8/site-packages/pandas/core/indexing.py:1684: SettingWithCopyWarning: \n",
      "A value is trying to be set on a copy of a slice from a DataFrame.\n",
      "Try using .loc[row_indexer,col_indexer] = value instead\n",
      "\n",
      "See the caveats in the documentation: https://pandas.pydata.org/pandas-docs/stable/user_guide/indexing.html#returning-a-view-versus-a-copy\n",
      "  self.obj[key] = infer_fill_value(value)\n",
      "/Users/amandeep/Github/table-linker/tl_env/lib/python3.8/site-packages/pandas/core/indexing.py:1817: SettingWithCopyWarning: \n",
      "A value is trying to be set on a copy of a slice from a DataFrame.\n",
      "Try using .loc[row_indexer,col_indexer] = value instead\n",
      "\n",
      "See the caveats in the documentation: https://pandas.pydata.org/pandas-docs/stable/user_guide/indexing.html#returning-a-view-versus-a-copy\n",
      "  self._setitem_single_column(loc, value, pi)\n"
     ]
    },
    {
     "name": "stderr",
     "output_type": "stream",
     "text": [
      "128it [1:36:44, 57.06s/it]"
     ]
    },
    {
     "name": "stdout",
     "output_type": "stream",
     "text": [
      "/Users/amandeep/Github/table-linker/tl_env/lib/python3.8/site-packages/pandas/core/indexing.py:1684: SettingWithCopyWarning: \n",
      "A value is trying to be set on a copy of a slice from a DataFrame.\n",
      "Try using .loc[row_indexer,col_indexer] = value instead\n",
      "\n",
      "See the caveats in the documentation: https://pandas.pydata.org/pandas-docs/stable/user_guide/indexing.html#returning-a-view-versus-a-copy\n",
      "  self.obj[key] = infer_fill_value(value)\n",
      "/Users/amandeep/Github/table-linker/tl_env/lib/python3.8/site-packages/pandas/core/indexing.py:1817: SettingWithCopyWarning: \n",
      "A value is trying to be set on a copy of a slice from a DataFrame.\n",
      "Try using .loc[row_indexer,col_indexer] = value instead\n",
      "\n",
      "See the caveats in the documentation: https://pandas.pydata.org/pandas-docs/stable/user_guide/indexing.html#returning-a-view-versus-a-copy\n",
      "  self._setitem_single_column(loc, value, pi)\n"
     ]
    },
    {
     "name": "stderr",
     "output_type": "stream",
     "text": [
      "129it [1:39:33, 90.59s/it]"
     ]
    },
    {
     "name": "stdout",
     "output_type": "stream",
     "text": [
      "/Users/amandeep/Github/table-linker/tl_env/lib/python3.8/site-packages/pandas/core/indexing.py:1684: SettingWithCopyWarning: \n",
      "A value is trying to be set on a copy of a slice from a DataFrame.\n",
      "Try using .loc[row_indexer,col_indexer] = value instead\n",
      "\n",
      "See the caveats in the documentation: https://pandas.pydata.org/pandas-docs/stable/user_guide/indexing.html#returning-a-view-versus-a-copy\n",
      "  self.obj[key] = infer_fill_value(value)\n",
      "/Users/amandeep/Github/table-linker/tl_env/lib/python3.8/site-packages/pandas/core/indexing.py:1817: SettingWithCopyWarning: \n",
      "A value is trying to be set on a copy of a slice from a DataFrame.\n",
      "Try using .loc[row_indexer,col_indexer] = value instead\n",
      "\n",
      "See the caveats in the documentation: https://pandas.pydata.org/pandas-docs/stable/user_guide/indexing.html#returning-a-view-versus-a-copy\n",
      "  self._setitem_single_column(loc, value, pi)\n"
     ]
    },
    {
     "name": "stderr",
     "output_type": "stream",
     "text": [
      "130it [1:40:27, 79.86s/it]"
     ]
    },
    {
     "name": "stdout",
     "output_type": "stream",
     "text": [
      "/Users/amandeep/Github/table-linker/tl_env/lib/python3.8/site-packages/pandas/core/indexing.py:1684: SettingWithCopyWarning: \n",
      "A value is trying to be set on a copy of a slice from a DataFrame.\n",
      "Try using .loc[row_indexer,col_indexer] = value instead\n",
      "\n",
      "See the caveats in the documentation: https://pandas.pydata.org/pandas-docs/stable/user_guide/indexing.html#returning-a-view-versus-a-copy\n",
      "  self.obj[key] = infer_fill_value(value)\n",
      "/Users/amandeep/Github/table-linker/tl_env/lib/python3.8/site-packages/pandas/core/indexing.py:1817: SettingWithCopyWarning: \n",
      "A value is trying to be set on a copy of a slice from a DataFrame.\n",
      "Try using .loc[row_indexer,col_indexer] = value instead\n",
      "\n",
      "See the caveats in the documentation: https://pandas.pydata.org/pandas-docs/stable/user_guide/indexing.html#returning-a-view-versus-a-copy\n",
      "  self._setitem_single_column(loc, value, pi)\n"
     ]
    },
    {
     "name": "stderr",
     "output_type": "stream",
     "text": [
      "132it [1:40:49, 48.03s/it]"
     ]
    },
    {
     "name": "stdout",
     "output_type": "stream",
     "text": [
      "/Users/amandeep/Github/table-linker/tl_env/lib/python3.8/site-packages/pandas/core/indexing.py:1684: SettingWithCopyWarning: \n",
      "A value is trying to be set on a copy of a slice from a DataFrame.\n",
      "Try using .loc[row_indexer,col_indexer] = value instead\n",
      "\n",
      "See the caveats in the documentation: https://pandas.pydata.org/pandas-docs/stable/user_guide/indexing.html#returning-a-view-versus-a-copy\n",
      "  self.obj[key] = infer_fill_value(value)\n",
      "/Users/amandeep/Github/table-linker/tl_env/lib/python3.8/site-packages/pandas/core/indexing.py:1817: SettingWithCopyWarning: \n",
      "A value is trying to be set on a copy of a slice from a DataFrame.\n",
      "Try using .loc[row_indexer,col_indexer] = value instead\n",
      "\n",
      "See the caveats in the documentation: https://pandas.pydata.org/pandas-docs/stable/user_guide/indexing.html#returning-a-view-versus-a-copy\n",
      "  self._setitem_single_column(loc, value, pi)\n"
     ]
    },
    {
     "name": "stderr",
     "output_type": "stream",
     "text": [
      "133it [1:41:43, 49.50s/it]"
     ]
    },
    {
     "name": "stdout",
     "output_type": "stream",
     "text": [
      "/Users/amandeep/Github/table-linker/tl_env/lib/python3.8/site-packages/pandas/core/indexing.py:1684: SettingWithCopyWarning: \n",
      "A value is trying to be set on a copy of a slice from a DataFrame.\n",
      "Try using .loc[row_indexer,col_indexer] = value instead\n",
      "\n",
      "See the caveats in the documentation: https://pandas.pydata.org/pandas-docs/stable/user_guide/indexing.html#returning-a-view-versus-a-copy\n",
      "  self.obj[key] = infer_fill_value(value)\n",
      "/Users/amandeep/Github/table-linker/tl_env/lib/python3.8/site-packages/pandas/core/indexing.py:1817: SettingWithCopyWarning: \n",
      "A value is trying to be set on a copy of a slice from a DataFrame.\n",
      "Try using .loc[row_indexer,col_indexer] = value instead\n",
      "\n",
      "See the caveats in the documentation: https://pandas.pydata.org/pandas-docs/stable/user_guide/indexing.html#returning-a-view-versus-a-copy\n",
      "  self._setitem_single_column(loc, value, pi)\n"
     ]
    },
    {
     "name": "stderr",
     "output_type": "stream",
     "text": [
      "134it [1:42:05, 42.29s/it]"
     ]
    },
    {
     "name": "stdout",
     "output_type": "stream",
     "text": [
      "/Users/amandeep/Github/table-linker/tl_env/lib/python3.8/site-packages/pandas/core/indexing.py:1684: SettingWithCopyWarning: \n",
      "A value is trying to be set on a copy of a slice from a DataFrame.\n",
      "Try using .loc[row_indexer,col_indexer] = value instead\n",
      "\n",
      "See the caveats in the documentation: https://pandas.pydata.org/pandas-docs/stable/user_guide/indexing.html#returning-a-view-versus-a-copy\n",
      "  self.obj[key] = infer_fill_value(value)\n",
      "/Users/amandeep/Github/table-linker/tl_env/lib/python3.8/site-packages/pandas/core/indexing.py:1817: SettingWithCopyWarning: \n",
      "A value is trying to be set on a copy of a slice from a DataFrame.\n",
      "Try using .loc[row_indexer,col_indexer] = value instead\n",
      "\n",
      "See the caveats in the documentation: https://pandas.pydata.org/pandas-docs/stable/user_guide/indexing.html#returning-a-view-versus-a-copy\n",
      "  self._setitem_single_column(loc, value, pi)\n"
     ]
    },
    {
     "name": "stderr",
     "output_type": "stream",
     "text": [
      "135it [1:42:31, 37.81s/it]"
     ]
    },
    {
     "name": "stdout",
     "output_type": "stream",
     "text": [
      "/Users/amandeep/Github/table-linker/tl/cli/pgt-semantic-tf-idf.py:46: DtypeWarning: Columns (29,30) have mixed types.Specify dtype option on import or set low_memory=False.\n",
      "  tfidf_unit = SemanticsFeature(kwargs['output_column_name'],\n",
      "/Users/amandeep/Github/table-linker/tl/cli/pgt-semantic-tf-idf.py:46: DtypeWarning: Columns (29,30,34) have mixed types.Specify dtype option on import or set low_memory=False.\n",
      "  tfidf_unit = SemanticsFeature(kwargs['output_column_name'],\n",
      "/Users/amandeep/Github/table-linker/tl/exceptions.py:20: DtypeWarning: Columns (29,30,34,36) have mixed types.Specify dtype option on import or set low_memory=False.\n",
      "  return_code = func(*args, **kwargs) or 0\n",
      "/Users/amandeep/Github/table-linker/tl_env/lib/python3.8/site-packages/pandas/core/indexing.py:1684: SettingWithCopyWarning: \n",
      "A value is trying to be set on a copy of a slice from a DataFrame.\n",
      "Try using .loc[row_indexer,col_indexer] = value instead\n",
      "\n",
      "See the caveats in the documentation: https://pandas.pydata.org/pandas-docs/stable/user_guide/indexing.html#returning-a-view-versus-a-copy\n",
      "  self.obj[key] = infer_fill_value(value)\n",
      "/Users/amandeep/Github/table-linker/tl_env/lib/python3.8/site-packages/pandas/core/indexing.py:1817: SettingWithCopyWarning: \n",
      "A value is trying to be set on a copy of a slice from a DataFrame.\n",
      "Try using .loc[row_indexer,col_indexer] = value instead\n",
      "\n",
      "See the caveats in the documentation: https://pandas.pydata.org/pandas-docs/stable/user_guide/indexing.html#returning-a-view-versus-a-copy\n",
      "  self._setitem_single_column(loc, value, pi)\n"
     ]
    },
    {
     "name": "stderr",
     "output_type": "stream",
     "text": [
      "136it [1:44:12, 55.52s/it]"
     ]
    },
    {
     "name": "stdout",
     "output_type": "stream",
     "text": [
      "/Users/amandeep/Github/table-linker/tl_env/lib/python3.8/site-packages/pandas/core/indexing.py:1684: SettingWithCopyWarning: \n",
      "A value is trying to be set on a copy of a slice from a DataFrame.\n",
      "Try using .loc[row_indexer,col_indexer] = value instead\n",
      "\n",
      "See the caveats in the documentation: https://pandas.pydata.org/pandas-docs/stable/user_guide/indexing.html#returning-a-view-versus-a-copy\n",
      "  self.obj[key] = infer_fill_value(value)\n",
      "/Users/amandeep/Github/table-linker/tl_env/lib/python3.8/site-packages/pandas/core/indexing.py:1817: SettingWithCopyWarning: \n",
      "A value is trying to be set on a copy of a slice from a DataFrame.\n",
      "Try using .loc[row_indexer,col_indexer] = value instead\n",
      "\n",
      "See the caveats in the documentation: https://pandas.pydata.org/pandas-docs/stable/user_guide/indexing.html#returning-a-view-versus-a-copy\n",
      "  self._setitem_single_column(loc, value, pi)\n"
     ]
    },
    {
     "name": "stderr",
     "output_type": "stream",
     "text": [
      "137it [1:45:08, 55.70s/it]"
     ]
    },
    {
     "name": "stdout",
     "output_type": "stream",
     "text": [
      "/Users/amandeep/Github/table-linker/tl_env/lib/python3.8/site-packages/pandas/core/indexing.py:1684: SettingWithCopyWarning: \n",
      "A value is trying to be set on a copy of a slice from a DataFrame.\n",
      "Try using .loc[row_indexer,col_indexer] = value instead\n",
      "\n",
      "See the caveats in the documentation: https://pandas.pydata.org/pandas-docs/stable/user_guide/indexing.html#returning-a-view-versus-a-copy\n",
      "  self.obj[key] = infer_fill_value(value)\n",
      "/Users/amandeep/Github/table-linker/tl_env/lib/python3.8/site-packages/pandas/core/indexing.py:1817: SettingWithCopyWarning: \n",
      "A value is trying to be set on a copy of a slice from a DataFrame.\n",
      "Try using .loc[row_indexer,col_indexer] = value instead\n",
      "\n",
      "See the caveats in the documentation: https://pandas.pydata.org/pandas-docs/stable/user_guide/indexing.html#returning-a-view-versus-a-copy\n",
      "  self._setitem_single_column(loc, value, pi)\n"
     ]
    },
    {
     "name": "stderr",
     "output_type": "stream",
     "text": [
      "138it [1:45:44, 50.07s/it]"
     ]
    },
    {
     "name": "stdout",
     "output_type": "stream",
     "text": [
      "/Users/amandeep/Github/table-linker/tl_env/lib/python3.8/site-packages/pandas/core/indexing.py:1684: SettingWithCopyWarning: \n",
      "A value is trying to be set on a copy of a slice from a DataFrame.\n",
      "Try using .loc[row_indexer,col_indexer] = value instead\n",
      "\n",
      "See the caveats in the documentation: https://pandas.pydata.org/pandas-docs/stable/user_guide/indexing.html#returning-a-view-versus-a-copy\n",
      "  self.obj[key] = infer_fill_value(value)\n",
      "/Users/amandeep/Github/table-linker/tl_env/lib/python3.8/site-packages/pandas/core/indexing.py:1817: SettingWithCopyWarning: \n",
      "A value is trying to be set on a copy of a slice from a DataFrame.\n",
      "Try using .loc[row_indexer,col_indexer] = value instead\n",
      "\n",
      "See the caveats in the documentation: https://pandas.pydata.org/pandas-docs/stable/user_guide/indexing.html#returning-a-view-versus-a-copy\n",
      "  self._setitem_single_column(loc, value, pi)\n"
     ]
    },
    {
     "name": "stderr",
     "output_type": "stream",
     "text": [
      "139it [1:46:10, 42.81s/it]"
     ]
    },
    {
     "name": "stdout",
     "output_type": "stream",
     "text": [
      "/Users/amandeep/Github/table-linker/tl_env/lib/python3.8/site-packages/pandas/core/indexing.py:1684: SettingWithCopyWarning: \n",
      "A value is trying to be set on a copy of a slice from a DataFrame.\n",
      "Try using .loc[row_indexer,col_indexer] = value instead\n",
      "\n",
      "See the caveats in the documentation: https://pandas.pydata.org/pandas-docs/stable/user_guide/indexing.html#returning-a-view-versus-a-copy\n",
      "  self.obj[key] = infer_fill_value(value)\n",
      "/Users/amandeep/Github/table-linker/tl_env/lib/python3.8/site-packages/pandas/core/indexing.py:1817: SettingWithCopyWarning: \n",
      "A value is trying to be set on a copy of a slice from a DataFrame.\n",
      "Try using .loc[row_indexer,col_indexer] = value instead\n",
      "\n",
      "See the caveats in the documentation: https://pandas.pydata.org/pandas-docs/stable/user_guide/indexing.html#returning-a-view-versus-a-copy\n",
      "  self._setitem_single_column(loc, value, pi)\n"
     ]
    },
    {
     "name": "stderr",
     "output_type": "stream",
     "text": [
      "140it [1:46:28, 35.66s/it]"
     ]
    },
    {
     "name": "stdout",
     "output_type": "stream",
     "text": [
      "/Users/amandeep/Github/table-linker/tl_env/lib/python3.8/site-packages/pandas/core/indexing.py:1684: SettingWithCopyWarning: \n",
      "A value is trying to be set on a copy of a slice from a DataFrame.\n",
      "Try using .loc[row_indexer,col_indexer] = value instead\n",
      "\n",
      "See the caveats in the documentation: https://pandas.pydata.org/pandas-docs/stable/user_guide/indexing.html#returning-a-view-versus-a-copy\n",
      "  self.obj[key] = infer_fill_value(value)\n",
      "/Users/amandeep/Github/table-linker/tl_env/lib/python3.8/site-packages/pandas/core/indexing.py:1817: SettingWithCopyWarning: \n",
      "A value is trying to be set on a copy of a slice from a DataFrame.\n",
      "Try using .loc[row_indexer,col_indexer] = value instead\n",
      "\n",
      "See the caveats in the documentation: https://pandas.pydata.org/pandas-docs/stable/user_guide/indexing.html#returning-a-view-versus-a-copy\n",
      "  self._setitem_single_column(loc, value, pi)\n"
     ]
    },
    {
     "name": "stderr",
     "output_type": "stream",
     "text": [
      "141it [1:47:37, 45.56s/it]"
     ]
    },
    {
     "name": "stdout",
     "output_type": "stream",
     "text": [
      "/Users/amandeep/Github/table-linker/tl_env/lib/python3.8/site-packages/pandas/core/indexing.py:1684: SettingWithCopyWarning: \n",
      "A value is trying to be set on a copy of a slice from a DataFrame.\n",
      "Try using .loc[row_indexer,col_indexer] = value instead\n",
      "\n",
      "See the caveats in the documentation: https://pandas.pydata.org/pandas-docs/stable/user_guide/indexing.html#returning-a-view-versus-a-copy\n",
      "  self.obj[key] = infer_fill_value(value)\n",
      "/Users/amandeep/Github/table-linker/tl_env/lib/python3.8/site-packages/pandas/core/indexing.py:1817: SettingWithCopyWarning: \n",
      "A value is trying to be set on a copy of a slice from a DataFrame.\n",
      "Try using .loc[row_indexer,col_indexer] = value instead\n",
      "\n",
      "See the caveats in the documentation: https://pandas.pydata.org/pandas-docs/stable/user_guide/indexing.html#returning-a-view-versus-a-copy\n",
      "  self._setitem_single_column(loc, value, pi)\n"
     ]
    },
    {
     "name": "stderr",
     "output_type": "stream",
     "text": [
      "142it [1:48:06, 40.69s/it]"
     ]
    },
    {
     "name": "stdout",
     "output_type": "stream",
     "text": [
      "/Users/amandeep/Github/table-linker/tl_env/lib/python3.8/site-packages/pandas/core/indexing.py:1684: SettingWithCopyWarning: \n",
      "A value is trying to be set on a copy of a slice from a DataFrame.\n",
      "Try using .loc[row_indexer,col_indexer] = value instead\n",
      "\n",
      "See the caveats in the documentation: https://pandas.pydata.org/pandas-docs/stable/user_guide/indexing.html#returning-a-view-versus-a-copy\n",
      "  self.obj[key] = infer_fill_value(value)\n",
      "/Users/amandeep/Github/table-linker/tl_env/lib/python3.8/site-packages/pandas/core/indexing.py:1817: SettingWithCopyWarning: \n",
      "A value is trying to be set on a copy of a slice from a DataFrame.\n",
      "Try using .loc[row_indexer,col_indexer] = value instead\n",
      "\n",
      "See the caveats in the documentation: https://pandas.pydata.org/pandas-docs/stable/user_guide/indexing.html#returning-a-view-versus-a-copy\n",
      "  self._setitem_single_column(loc, value, pi)\n"
     ]
    },
    {
     "name": "stderr",
     "output_type": "stream",
     "text": [
      "143it [1:48:27, 34.55s/it]"
     ]
    },
    {
     "name": "stdout",
     "output_type": "stream",
     "text": [
      "/Users/amandeep/Github/table-linker/tl_env/lib/python3.8/site-packages/pandas/core/indexing.py:1684: SettingWithCopyWarning: \n",
      "A value is trying to be set on a copy of a slice from a DataFrame.\n",
      "Try using .loc[row_indexer,col_indexer] = value instead\n",
      "\n",
      "See the caveats in the documentation: https://pandas.pydata.org/pandas-docs/stable/user_guide/indexing.html#returning-a-view-versus-a-copy\n",
      "  self.obj[key] = infer_fill_value(value)\n",
      "/Users/amandeep/Github/table-linker/tl_env/lib/python3.8/site-packages/pandas/core/indexing.py:1817: SettingWithCopyWarning: \n",
      "A value is trying to be set on a copy of a slice from a DataFrame.\n",
      "Try using .loc[row_indexer,col_indexer] = value instead\n",
      "\n",
      "See the caveats in the documentation: https://pandas.pydata.org/pandas-docs/stable/user_guide/indexing.html#returning-a-view-versus-a-copy\n",
      "  self._setitem_single_column(loc, value, pi)\n"
     ]
    },
    {
     "name": "stderr",
     "output_type": "stream",
     "text": [
      "144it [1:50:06, 53.90s/it]"
     ]
    },
    {
     "name": "stdout",
     "output_type": "stream",
     "text": [
      "/Users/amandeep/Github/table-linker/tl_env/lib/python3.8/site-packages/pandas/core/indexing.py:1684: SettingWithCopyWarning: \n",
      "A value is trying to be set on a copy of a slice from a DataFrame.\n",
      "Try using .loc[row_indexer,col_indexer] = value instead\n",
      "\n",
      "See the caveats in the documentation: https://pandas.pydata.org/pandas-docs/stable/user_guide/indexing.html#returning-a-view-versus-a-copy\n",
      "  self.obj[key] = infer_fill_value(value)\n",
      "/Users/amandeep/Github/table-linker/tl_env/lib/python3.8/site-packages/pandas/core/indexing.py:1817: SettingWithCopyWarning: \n",
      "A value is trying to be set on a copy of a slice from a DataFrame.\n",
      "Try using .loc[row_indexer,col_indexer] = value instead\n",
      "\n",
      "See the caveats in the documentation: https://pandas.pydata.org/pandas-docs/stable/user_guide/indexing.html#returning-a-view-versus-a-copy\n",
      "  self._setitem_single_column(loc, value, pi)\n"
     ]
    },
    {
     "name": "stderr",
     "output_type": "stream",
     "text": [
      "145it [1:50:36, 46.84s/it]"
     ]
    },
    {
     "name": "stdout",
     "output_type": "stream",
     "text": [
      "/Users/amandeep/Github/table-linker/tl_env/lib/python3.8/site-packages/pandas/core/indexing.py:1684: SettingWithCopyWarning: \n",
      "A value is trying to be set on a copy of a slice from a DataFrame.\n",
      "Try using .loc[row_indexer,col_indexer] = value instead\n",
      "\n",
      "See the caveats in the documentation: https://pandas.pydata.org/pandas-docs/stable/user_guide/indexing.html#returning-a-view-versus-a-copy\n",
      "  self.obj[key] = infer_fill_value(value)\n",
      "/Users/amandeep/Github/table-linker/tl_env/lib/python3.8/site-packages/pandas/core/indexing.py:1817: SettingWithCopyWarning: \n",
      "A value is trying to be set on a copy of a slice from a DataFrame.\n",
      "Try using .loc[row_indexer,col_indexer] = value instead\n",
      "\n",
      "See the caveats in the documentation: https://pandas.pydata.org/pandas-docs/stable/user_guide/indexing.html#returning-a-view-versus-a-copy\n",
      "  self._setitem_single_column(loc, value, pi)\n"
     ]
    },
    {
     "name": "stderr",
     "output_type": "stream",
     "text": [
      "146it [1:51:22, 46.62s/it]"
     ]
    },
    {
     "name": "stdout",
     "output_type": "stream",
     "text": [
      "/Users/amandeep/Github/table-linker/tl_env/lib/python3.8/site-packages/pandas/core/indexing.py:1684: SettingWithCopyWarning: \n",
      "A value is trying to be set on a copy of a slice from a DataFrame.\n",
      "Try using .loc[row_indexer,col_indexer] = value instead\n",
      "\n",
      "See the caveats in the documentation: https://pandas.pydata.org/pandas-docs/stable/user_guide/indexing.html#returning-a-view-versus-a-copy\n",
      "  self.obj[key] = infer_fill_value(value)\n",
      "/Users/amandeep/Github/table-linker/tl_env/lib/python3.8/site-packages/pandas/core/indexing.py:1817: SettingWithCopyWarning: \n",
      "A value is trying to be set on a copy of a slice from a DataFrame.\n",
      "Try using .loc[row_indexer,col_indexer] = value instead\n",
      "\n",
      "See the caveats in the documentation: https://pandas.pydata.org/pandas-docs/stable/user_guide/indexing.html#returning-a-view-versus-a-copy\n",
      "  self._setitem_single_column(loc, value, pi)\n"
     ]
    },
    {
     "name": "stderr",
     "output_type": "stream",
     "text": [
      "147it [1:51:54, 42.15s/it]"
     ]
    },
    {
     "name": "stdout",
     "output_type": "stream",
     "text": [
      "/Users/amandeep/Github/table-linker/tl_env/lib/python3.8/site-packages/pandas/core/indexing.py:1684: SettingWithCopyWarning: \n",
      "A value is trying to be set on a copy of a slice from a DataFrame.\n",
      "Try using .loc[row_indexer,col_indexer] = value instead\n",
      "\n",
      "See the caveats in the documentation: https://pandas.pydata.org/pandas-docs/stable/user_guide/indexing.html#returning-a-view-versus-a-copy\n",
      "  self.obj[key] = infer_fill_value(value)\n",
      "/Users/amandeep/Github/table-linker/tl_env/lib/python3.8/site-packages/pandas/core/indexing.py:1817: SettingWithCopyWarning: \n",
      "A value is trying to be set on a copy of a slice from a DataFrame.\n",
      "Try using .loc[row_indexer,col_indexer] = value instead\n",
      "\n",
      "See the caveats in the documentation: https://pandas.pydata.org/pandas-docs/stable/user_guide/indexing.html#returning-a-view-versus-a-copy\n",
      "  self._setitem_single_column(loc, value, pi)\n"
     ]
    },
    {
     "name": "stderr",
     "output_type": "stream",
     "text": [
      "148it [1:52:47, 45.46s/it]"
     ]
    },
    {
     "name": "stdout",
     "output_type": "stream",
     "text": [
      "/Users/amandeep/Github/table-linker/tl_env/lib/python3.8/site-packages/pandas/core/indexing.py:1684: SettingWithCopyWarning: \n",
      "A value is trying to be set on a copy of a slice from a DataFrame.\n",
      "Try using .loc[row_indexer,col_indexer] = value instead\n",
      "\n",
      "See the caveats in the documentation: https://pandas.pydata.org/pandas-docs/stable/user_guide/indexing.html#returning-a-view-versus-a-copy\n",
      "  self.obj[key] = infer_fill_value(value)\n",
      "/Users/amandeep/Github/table-linker/tl_env/lib/python3.8/site-packages/pandas/core/indexing.py:1817: SettingWithCopyWarning: \n",
      "A value is trying to be set on a copy of a slice from a DataFrame.\n",
      "Try using .loc[row_indexer,col_indexer] = value instead\n",
      "\n",
      "See the caveats in the documentation: https://pandas.pydata.org/pandas-docs/stable/user_guide/indexing.html#returning-a-view-versus-a-copy\n",
      "  self._setitem_single_column(loc, value, pi)\n"
     ]
    },
    {
     "name": "stderr",
     "output_type": "stream",
     "text": [
      "149it [1:53:44, 48.85s/it]"
     ]
    },
    {
     "name": "stdout",
     "output_type": "stream",
     "text": [
      "/Users/amandeep/Github/table-linker/tl_env/lib/python3.8/site-packages/pandas/core/indexing.py:1684: SettingWithCopyWarning: \n",
      "A value is trying to be set on a copy of a slice from a DataFrame.\n",
      "Try using .loc[row_indexer,col_indexer] = value instead\n",
      "\n",
      "See the caveats in the documentation: https://pandas.pydata.org/pandas-docs/stable/user_guide/indexing.html#returning-a-view-versus-a-copy\n",
      "  self.obj[key] = infer_fill_value(value)\n",
      "/Users/amandeep/Github/table-linker/tl_env/lib/python3.8/site-packages/pandas/core/indexing.py:1817: SettingWithCopyWarning: \n",
      "A value is trying to be set on a copy of a slice from a DataFrame.\n",
      "Try using .loc[row_indexer,col_indexer] = value instead\n",
      "\n",
      "See the caveats in the documentation: https://pandas.pydata.org/pandas-docs/stable/user_guide/indexing.html#returning-a-view-versus-a-copy\n",
      "  self._setitem_single_column(loc, value, pi)\n"
     ]
    },
    {
     "name": "stderr",
     "output_type": "stream",
     "text": [
      "150it [1:55:11, 60.38s/it]"
     ]
    },
    {
     "name": "stdout",
     "output_type": "stream",
     "text": [
      "/Users/amandeep/Github/table-linker/tl_env/lib/python3.8/site-packages/pandas/core/indexing.py:1684: SettingWithCopyWarning: \n",
      "A value is trying to be set on a copy of a slice from a DataFrame.\n",
      "Try using .loc[row_indexer,col_indexer] = value instead\n",
      "\n",
      "See the caveats in the documentation: https://pandas.pydata.org/pandas-docs/stable/user_guide/indexing.html#returning-a-view-versus-a-copy\n",
      "  self.obj[key] = infer_fill_value(value)\n",
      "/Users/amandeep/Github/table-linker/tl_env/lib/python3.8/site-packages/pandas/core/indexing.py:1817: SettingWithCopyWarning: \n",
      "A value is trying to be set on a copy of a slice from a DataFrame.\n",
      "Try using .loc[row_indexer,col_indexer] = value instead\n",
      "\n",
      "See the caveats in the documentation: https://pandas.pydata.org/pandas-docs/stable/user_guide/indexing.html#returning-a-view-versus-a-copy\n",
      "  self._setitem_single_column(loc, value, pi)\n"
     ]
    },
    {
     "name": "stderr",
     "output_type": "stream",
     "text": [
      "151it [1:55:34, 48.99s/it]"
     ]
    },
    {
     "name": "stdout",
     "output_type": "stream",
     "text": [
      "/Users/amandeep/Github/table-linker/tl_env/lib/python3.8/site-packages/pandas/core/indexing.py:1684: SettingWithCopyWarning: \n",
      "A value is trying to be set on a copy of a slice from a DataFrame.\n",
      "Try using .loc[row_indexer,col_indexer] = value instead\n",
      "\n",
      "See the caveats in the documentation: https://pandas.pydata.org/pandas-docs/stable/user_guide/indexing.html#returning-a-view-versus-a-copy\n",
      "  self.obj[key] = infer_fill_value(value)\n",
      "/Users/amandeep/Github/table-linker/tl_env/lib/python3.8/site-packages/pandas/core/indexing.py:1817: SettingWithCopyWarning: \n",
      "A value is trying to be set on a copy of a slice from a DataFrame.\n",
      "Try using .loc[row_indexer,col_indexer] = value instead\n",
      "\n",
      "See the caveats in the documentation: https://pandas.pydata.org/pandas-docs/stable/user_guide/indexing.html#returning-a-view-versus-a-copy\n",
      "  self._setitem_single_column(loc, value, pi)\n"
     ]
    },
    {
     "name": "stderr",
     "output_type": "stream",
     "text": [
      "152it [1:56:03, 43.14s/it]"
     ]
    },
    {
     "name": "stdout",
     "output_type": "stream",
     "text": [
      "/Users/amandeep/Github/table-linker/tl_env/lib/python3.8/site-packages/pandas/core/indexing.py:1684: SettingWithCopyWarning: \n",
      "A value is trying to be set on a copy of a slice from a DataFrame.\n",
      "Try using .loc[row_indexer,col_indexer] = value instead\n",
      "\n",
      "See the caveats in the documentation: https://pandas.pydata.org/pandas-docs/stable/user_guide/indexing.html#returning-a-view-versus-a-copy\n",
      "  self.obj[key] = infer_fill_value(value)\n",
      "/Users/amandeep/Github/table-linker/tl_env/lib/python3.8/site-packages/pandas/core/indexing.py:1817: SettingWithCopyWarning: \n",
      "A value is trying to be set on a copy of a slice from a DataFrame.\n",
      "Try using .loc[row_indexer,col_indexer] = value instead\n",
      "\n",
      "See the caveats in the documentation: https://pandas.pydata.org/pandas-docs/stable/user_guide/indexing.html#returning-a-view-versus-a-copy\n",
      "  self._setitem_single_column(loc, value, pi)\n"
     ]
    },
    {
     "name": "stderr",
     "output_type": "stream",
     "text": [
      "153it [1:56:45, 42.85s/it]"
     ]
    },
    {
     "name": "stdout",
     "output_type": "stream",
     "text": [
      "/Users/amandeep/Github/table-linker/tl_env/lib/python3.8/site-packages/pandas/core/indexing.py:1684: SettingWithCopyWarning: \n",
      "A value is trying to be set on a copy of a slice from a DataFrame.\n",
      "Try using .loc[row_indexer,col_indexer] = value instead\n",
      "\n",
      "See the caveats in the documentation: https://pandas.pydata.org/pandas-docs/stable/user_guide/indexing.html#returning-a-view-versus-a-copy\n",
      "  self.obj[key] = infer_fill_value(value)\n",
      "/Users/amandeep/Github/table-linker/tl_env/lib/python3.8/site-packages/pandas/core/indexing.py:1817: SettingWithCopyWarning: \n",
      "A value is trying to be set on a copy of a slice from a DataFrame.\n",
      "Try using .loc[row_indexer,col_indexer] = value instead\n",
      "\n",
      "See the caveats in the documentation: https://pandas.pydata.org/pandas-docs/stable/user_guide/indexing.html#returning-a-view-versus-a-copy\n",
      "  self._setitem_single_column(loc, value, pi)\n"
     ]
    },
    {
     "name": "stderr",
     "output_type": "stream",
     "text": [
      "154it [1:57:11, 37.70s/it]"
     ]
    },
    {
     "name": "stdout",
     "output_type": "stream",
     "text": [
      "/Users/amandeep/Github/table-linker/tl_env/lib/python3.8/site-packages/pandas/core/indexing.py:1684: SettingWithCopyWarning: \n",
      "A value is trying to be set on a copy of a slice from a DataFrame.\n",
      "Try using .loc[row_indexer,col_indexer] = value instead\n",
      "\n",
      "See the caveats in the documentation: https://pandas.pydata.org/pandas-docs/stable/user_guide/indexing.html#returning-a-view-versus-a-copy\n",
      "  self.obj[key] = infer_fill_value(value)\n",
      "/Users/amandeep/Github/table-linker/tl_env/lib/python3.8/site-packages/pandas/core/indexing.py:1817: SettingWithCopyWarning: \n",
      "A value is trying to be set on a copy of a slice from a DataFrame.\n",
      "Try using .loc[row_indexer,col_indexer] = value instead\n",
      "\n",
      "See the caveats in the documentation: https://pandas.pydata.org/pandas-docs/stable/user_guide/indexing.html#returning-a-view-versus-a-copy\n",
      "  self._setitem_single_column(loc, value, pi)\n"
     ]
    },
    {
     "name": "stderr",
     "output_type": "stream",
     "text": [
      "155it [1:57:36, 33.95s/it]"
     ]
    },
    {
     "name": "stdout",
     "output_type": "stream",
     "text": [
      "/Users/amandeep/Github/table-linker/tl_env/lib/python3.8/site-packages/pandas/core/indexing.py:1684: SettingWithCopyWarning: \n",
      "A value is trying to be set on a copy of a slice from a DataFrame.\n",
      "Try using .loc[row_indexer,col_indexer] = value instead\n",
      "\n",
      "See the caveats in the documentation: https://pandas.pydata.org/pandas-docs/stable/user_guide/indexing.html#returning-a-view-versus-a-copy\n",
      "  self.obj[key] = infer_fill_value(value)\n",
      "/Users/amandeep/Github/table-linker/tl_env/lib/python3.8/site-packages/pandas/core/indexing.py:1817: SettingWithCopyWarning: \n",
      "A value is trying to be set on a copy of a slice from a DataFrame.\n",
      "Try using .loc[row_indexer,col_indexer] = value instead\n",
      "\n",
      "See the caveats in the documentation: https://pandas.pydata.org/pandas-docs/stable/user_guide/indexing.html#returning-a-view-versus-a-copy\n",
      "  self._setitem_single_column(loc, value, pi)\n"
     ]
    },
    {
     "name": "stderr",
     "output_type": "stream",
     "text": [
      "156it [1:58:00, 30.79s/it]"
     ]
    },
    {
     "name": "stdout",
     "output_type": "stream",
     "text": [
      "/Users/amandeep/Github/table-linker/tl_env/lib/python3.8/site-packages/pandas/core/indexing.py:1684: SettingWithCopyWarning: \n",
      "A value is trying to be set on a copy of a slice from a DataFrame.\n",
      "Try using .loc[row_indexer,col_indexer] = value instead\n",
      "\n",
      "See the caveats in the documentation: https://pandas.pydata.org/pandas-docs/stable/user_guide/indexing.html#returning-a-view-versus-a-copy\n",
      "  self.obj[key] = infer_fill_value(value)\n",
      "/Users/amandeep/Github/table-linker/tl_env/lib/python3.8/site-packages/pandas/core/indexing.py:1817: SettingWithCopyWarning: \n",
      "A value is trying to be set on a copy of a slice from a DataFrame.\n",
      "Try using .loc[row_indexer,col_indexer] = value instead\n",
      "\n",
      "See the caveats in the documentation: https://pandas.pydata.org/pandas-docs/stable/user_guide/indexing.html#returning-a-view-versus-a-copy\n",
      "  self._setitem_single_column(loc, value, pi)\n"
     ]
    },
    {
     "name": "stderr",
     "output_type": "stream",
     "text": [
      "158it [1:59:59, 44.24s/it]"
     ]
    },
    {
     "name": "stdout",
     "output_type": "stream",
     "text": [
      "/Users/amandeep/Github/table-linker/tl_env/lib/python3.8/site-packages/pandas/core/indexing.py:1684: SettingWithCopyWarning: \n",
      "A value is trying to be set on a copy of a slice from a DataFrame.\n",
      "Try using .loc[row_indexer,col_indexer] = value instead\n",
      "\n",
      "See the caveats in the documentation: https://pandas.pydata.org/pandas-docs/stable/user_guide/indexing.html#returning-a-view-versus-a-copy\n",
      "  self.obj[key] = infer_fill_value(value)\n",
      "/Users/amandeep/Github/table-linker/tl_env/lib/python3.8/site-packages/pandas/core/indexing.py:1817: SettingWithCopyWarning: \n",
      "A value is trying to be set on a copy of a slice from a DataFrame.\n",
      "Try using .loc[row_indexer,col_indexer] = value instead\n",
      "\n",
      "See the caveats in the documentation: https://pandas.pydata.org/pandas-docs/stable/user_guide/indexing.html#returning-a-view-versus-a-copy\n",
      "  self._setitem_single_column(loc, value, pi)\n"
     ]
    },
    {
     "name": "stderr",
     "output_type": "stream",
     "text": [
      "159it [2:00:31, 41.10s/it]"
     ]
    },
    {
     "name": "stdout",
     "output_type": "stream",
     "text": [
      "/Users/amandeep/Github/table-linker/tl_env/lib/python3.8/site-packages/pandas/core/indexing.py:1684: SettingWithCopyWarning: \n",
      "A value is trying to be set on a copy of a slice from a DataFrame.\n",
      "Try using .loc[row_indexer,col_indexer] = value instead\n",
      "\n",
      "See the caveats in the documentation: https://pandas.pydata.org/pandas-docs/stable/user_guide/indexing.html#returning-a-view-versus-a-copy\n",
      "  self.obj[key] = infer_fill_value(value)\n",
      "/Users/amandeep/Github/table-linker/tl_env/lib/python3.8/site-packages/pandas/core/indexing.py:1817: SettingWithCopyWarning: \n",
      "A value is trying to be set on a copy of a slice from a DataFrame.\n",
      "Try using .loc[row_indexer,col_indexer] = value instead\n",
      "\n",
      "See the caveats in the documentation: https://pandas.pydata.org/pandas-docs/stable/user_guide/indexing.html#returning-a-view-versus-a-copy\n",
      "  self._setitem_single_column(loc, value, pi)\n"
     ]
    },
    {
     "name": "stderr",
     "output_type": "stream",
     "text": [
      "160it [2:00:57, 37.17s/it]"
     ]
    },
    {
     "name": "stdout",
     "output_type": "stream",
     "text": [
      "/Users/amandeep/Github/table-linker/tl_env/lib/python3.8/site-packages/pandas/core/indexing.py:1684: SettingWithCopyWarning: \n",
      "A value is trying to be set on a copy of a slice from a DataFrame.\n",
      "Try using .loc[row_indexer,col_indexer] = value instead\n",
      "\n",
      "See the caveats in the documentation: https://pandas.pydata.org/pandas-docs/stable/user_guide/indexing.html#returning-a-view-versus-a-copy\n",
      "  self.obj[key] = infer_fill_value(value)\n",
      "/Users/amandeep/Github/table-linker/tl_env/lib/python3.8/site-packages/pandas/core/indexing.py:1817: SettingWithCopyWarning: \n",
      "A value is trying to be set on a copy of a slice from a DataFrame.\n",
      "Try using .loc[row_indexer,col_indexer] = value instead\n",
      "\n",
      "See the caveats in the documentation: https://pandas.pydata.org/pandas-docs/stable/user_guide/indexing.html#returning-a-view-versus-a-copy\n",
      "  self._setitem_single_column(loc, value, pi)\n"
     ]
    },
    {
     "name": "stderr",
     "output_type": "stream",
     "text": [
      "161it [2:01:35, 37.31s/it]"
     ]
    },
    {
     "name": "stdout",
     "output_type": "stream",
     "text": [
      "/Users/amandeep/Github/table-linker/tl_env/lib/python3.8/site-packages/pandas/core/indexing.py:1684: SettingWithCopyWarning: \n",
      "A value is trying to be set on a copy of a slice from a DataFrame.\n",
      "Try using .loc[row_indexer,col_indexer] = value instead\n",
      "\n",
      "See the caveats in the documentation: https://pandas.pydata.org/pandas-docs/stable/user_guide/indexing.html#returning-a-view-versus-a-copy\n",
      "  self.obj[key] = infer_fill_value(value)\n",
      "/Users/amandeep/Github/table-linker/tl_env/lib/python3.8/site-packages/pandas/core/indexing.py:1817: SettingWithCopyWarning: \n",
      "A value is trying to be set on a copy of a slice from a DataFrame.\n",
      "Try using .loc[row_indexer,col_indexer] = value instead\n",
      "\n",
      "See the caveats in the documentation: https://pandas.pydata.org/pandas-docs/stable/user_guide/indexing.html#returning-a-view-versus-a-copy\n",
      "  self._setitem_single_column(loc, value, pi)\n"
     ]
    },
    {
     "name": "stderr",
     "output_type": "stream",
     "text": [
      "162it [2:03:39, 61.57s/it]"
     ]
    },
    {
     "name": "stdout",
     "output_type": "stream",
     "text": [
      "/Users/amandeep/Github/table-linker/tl_env/lib/python3.8/site-packages/pandas/core/indexing.py:1684: SettingWithCopyWarning: \n",
      "A value is trying to be set on a copy of a slice from a DataFrame.\n",
      "Try using .loc[row_indexer,col_indexer] = value instead\n",
      "\n",
      "See the caveats in the documentation: https://pandas.pydata.org/pandas-docs/stable/user_guide/indexing.html#returning-a-view-versus-a-copy\n",
      "  self.obj[key] = infer_fill_value(value)\n",
      "/Users/amandeep/Github/table-linker/tl_env/lib/python3.8/site-packages/pandas/core/indexing.py:1817: SettingWithCopyWarning: \n",
      "A value is trying to be set on a copy of a slice from a DataFrame.\n",
      "Try using .loc[row_indexer,col_indexer] = value instead\n",
      "\n",
      "See the caveats in the documentation: https://pandas.pydata.org/pandas-docs/stable/user_guide/indexing.html#returning-a-view-versus-a-copy\n",
      "  self._setitem_single_column(loc, value, pi)\n"
     ]
    },
    {
     "name": "stderr",
     "output_type": "stream",
     "text": [
      "163it [2:04:10, 53.00s/it]"
     ]
    },
    {
     "name": "stdout",
     "output_type": "stream",
     "text": [
      "/Users/amandeep/Github/table-linker/tl_env/lib/python3.8/site-packages/pandas/core/indexing.py:1684: SettingWithCopyWarning: \n",
      "A value is trying to be set on a copy of a slice from a DataFrame.\n",
      "Try using .loc[row_indexer,col_indexer] = value instead\n",
      "\n",
      "See the caveats in the documentation: https://pandas.pydata.org/pandas-docs/stable/user_guide/indexing.html#returning-a-view-versus-a-copy\n",
      "  self.obj[key] = infer_fill_value(value)\n",
      "/Users/amandeep/Github/table-linker/tl_env/lib/python3.8/site-packages/pandas/core/indexing.py:1817: SettingWithCopyWarning: \n",
      "A value is trying to be set on a copy of a slice from a DataFrame.\n",
      "Try using .loc[row_indexer,col_indexer] = value instead\n",
      "\n",
      "See the caveats in the documentation: https://pandas.pydata.org/pandas-docs/stable/user_guide/indexing.html#returning-a-view-versus-a-copy\n",
      "  self._setitem_single_column(loc, value, pi)\n"
     ]
    },
    {
     "name": "stderr",
     "output_type": "stream",
     "text": [
      "164it [2:05:47, 65.70s/it]"
     ]
    },
    {
     "name": "stdout",
     "output_type": "stream",
     "text": [
      "/Users/amandeep/Github/table-linker/tl_env/lib/python3.8/site-packages/pandas/core/indexing.py:1684: SettingWithCopyWarning: \n",
      "A value is trying to be set on a copy of a slice from a DataFrame.\n",
      "Try using .loc[row_indexer,col_indexer] = value instead\n",
      "\n",
      "See the caveats in the documentation: https://pandas.pydata.org/pandas-docs/stable/user_guide/indexing.html#returning-a-view-versus-a-copy\n",
      "  self.obj[key] = infer_fill_value(value)\n",
      "/Users/amandeep/Github/table-linker/tl_env/lib/python3.8/site-packages/pandas/core/indexing.py:1817: SettingWithCopyWarning: \n",
      "A value is trying to be set on a copy of a slice from a DataFrame.\n",
      "Try using .loc[row_indexer,col_indexer] = value instead\n",
      "\n",
      "See the caveats in the documentation: https://pandas.pydata.org/pandas-docs/stable/user_guide/indexing.html#returning-a-view-versus-a-copy\n",
      "  self._setitem_single_column(loc, value, pi)\n"
     ]
    },
    {
     "name": "stderr",
     "output_type": "stream",
     "text": [
      "165it [2:06:21, 56.33s/it]"
     ]
    },
    {
     "name": "stdout",
     "output_type": "stream",
     "text": [
      "/Users/amandeep/Github/table-linker/tl_env/lib/python3.8/site-packages/pandas/core/indexing.py:1684: SettingWithCopyWarning: \n",
      "A value is trying to be set on a copy of a slice from a DataFrame.\n",
      "Try using .loc[row_indexer,col_indexer] = value instead\n",
      "\n",
      "See the caveats in the documentation: https://pandas.pydata.org/pandas-docs/stable/user_guide/indexing.html#returning-a-view-versus-a-copy\n",
      "  self.obj[key] = infer_fill_value(value)\n",
      "/Users/amandeep/Github/table-linker/tl_env/lib/python3.8/site-packages/pandas/core/indexing.py:1817: SettingWithCopyWarning: \n",
      "A value is trying to be set on a copy of a slice from a DataFrame.\n",
      "Try using .loc[row_indexer,col_indexer] = value instead\n",
      "\n",
      "See the caveats in the documentation: https://pandas.pydata.org/pandas-docs/stable/user_guide/indexing.html#returning-a-view-versus-a-copy\n",
      "  self._setitem_single_column(loc, value, pi)\n"
     ]
    },
    {
     "name": "stderr",
     "output_type": "stream",
     "text": [
      "166it [2:07:04, 52.57s/it]"
     ]
    },
    {
     "name": "stdout",
     "output_type": "stream",
     "text": [
      "/Users/amandeep/Github/table-linker/tl_env/lib/python3.8/site-packages/pandas/core/indexing.py:1684: SettingWithCopyWarning: \n",
      "A value is trying to be set on a copy of a slice from a DataFrame.\n",
      "Try using .loc[row_indexer,col_indexer] = value instead\n",
      "\n",
      "See the caveats in the documentation: https://pandas.pydata.org/pandas-docs/stable/user_guide/indexing.html#returning-a-view-versus-a-copy\n",
      "  self.obj[key] = infer_fill_value(value)\n",
      "/Users/amandeep/Github/table-linker/tl_env/lib/python3.8/site-packages/pandas/core/indexing.py:1817: SettingWithCopyWarning: \n",
      "A value is trying to be set on a copy of a slice from a DataFrame.\n",
      "Try using .loc[row_indexer,col_indexer] = value instead\n",
      "\n",
      "See the caveats in the documentation: https://pandas.pydata.org/pandas-docs/stable/user_guide/indexing.html#returning-a-view-versus-a-copy\n",
      "  self._setitem_single_column(loc, value, pi)\n"
     ]
    },
    {
     "name": "stderr",
     "output_type": "stream",
     "text": [
      "167it [2:07:26, 43.37s/it]"
     ]
    },
    {
     "name": "stdout",
     "output_type": "stream",
     "text": [
      "/Users/amandeep/Github/table-linker/tl_env/lib/python3.8/site-packages/pandas/core/indexing.py:1684: SettingWithCopyWarning: \n",
      "A value is trying to be set on a copy of a slice from a DataFrame.\n",
      "Try using .loc[row_indexer,col_indexer] = value instead\n",
      "\n",
      "See the caveats in the documentation: https://pandas.pydata.org/pandas-docs/stable/user_guide/indexing.html#returning-a-view-versus-a-copy\n",
      "  self.obj[key] = infer_fill_value(value)\n",
      "/Users/amandeep/Github/table-linker/tl_env/lib/python3.8/site-packages/pandas/core/indexing.py:1817: SettingWithCopyWarning: \n",
      "A value is trying to be set on a copy of a slice from a DataFrame.\n",
      "Try using .loc[row_indexer,col_indexer] = value instead\n",
      "\n",
      "See the caveats in the documentation: https://pandas.pydata.org/pandas-docs/stable/user_guide/indexing.html#returning-a-view-versus-a-copy\n",
      "  self._setitem_single_column(loc, value, pi)\n"
     ]
    },
    {
     "name": "stderr",
     "output_type": "stream",
     "text": [
      "168it [2:08:35, 51.07s/it]"
     ]
    },
    {
     "name": "stdout",
     "output_type": "stream",
     "text": [
      "/Users/amandeep/Github/table-linker/tl_env/lib/python3.8/site-packages/pandas/core/indexing.py:1684: SettingWithCopyWarning: \n",
      "A value is trying to be set on a copy of a slice from a DataFrame.\n",
      "Try using .loc[row_indexer,col_indexer] = value instead\n",
      "\n",
      "See the caveats in the documentation: https://pandas.pydata.org/pandas-docs/stable/user_guide/indexing.html#returning-a-view-versus-a-copy\n",
      "  self.obj[key] = infer_fill_value(value)\n",
      "/Users/amandeep/Github/table-linker/tl_env/lib/python3.8/site-packages/pandas/core/indexing.py:1817: SettingWithCopyWarning: \n",
      "A value is trying to be set on a copy of a slice from a DataFrame.\n",
      "Try using .loc[row_indexer,col_indexer] = value instead\n",
      "\n",
      "See the caveats in the documentation: https://pandas.pydata.org/pandas-docs/stable/user_guide/indexing.html#returning-a-view-versus-a-copy\n",
      "  self._setitem_single_column(loc, value, pi)\n"
     ]
    },
    {
     "name": "stderr",
     "output_type": "stream",
     "text": [
      "169it [2:09:20, 49.22s/it]"
     ]
    },
    {
     "name": "stdout",
     "output_type": "stream",
     "text": [
      "/Users/amandeep/Github/table-linker/tl_env/lib/python3.8/site-packages/pandas/core/indexing.py:1684: SettingWithCopyWarning: \n",
      "A value is trying to be set on a copy of a slice from a DataFrame.\n",
      "Try using .loc[row_indexer,col_indexer] = value instead\n",
      "\n",
      "See the caveats in the documentation: https://pandas.pydata.org/pandas-docs/stable/user_guide/indexing.html#returning-a-view-versus-a-copy\n",
      "  self.obj[key] = infer_fill_value(value)\n",
      "/Users/amandeep/Github/table-linker/tl_env/lib/python3.8/site-packages/pandas/core/indexing.py:1817: SettingWithCopyWarning: \n",
      "A value is trying to be set on a copy of a slice from a DataFrame.\n",
      "Try using .loc[row_indexer,col_indexer] = value instead\n",
      "\n",
      "See the caveats in the documentation: https://pandas.pydata.org/pandas-docs/stable/user_guide/indexing.html#returning-a-view-versus-a-copy\n",
      "  self._setitem_single_column(loc, value, pi)\n"
     ]
    },
    {
     "name": "stderr",
     "output_type": "stream",
     "text": [
      "170it [2:10:17, 51.66s/it]"
     ]
    },
    {
     "name": "stdout",
     "output_type": "stream",
     "text": [
      "/Users/amandeep/Github/table-linker/tl_env/lib/python3.8/site-packages/pandas/core/indexing.py:1684: SettingWithCopyWarning: \n",
      "A value is trying to be set on a copy of a slice from a DataFrame.\n",
      "Try using .loc[row_indexer,col_indexer] = value instead\n",
      "\n",
      "See the caveats in the documentation: https://pandas.pydata.org/pandas-docs/stable/user_guide/indexing.html#returning-a-view-versus-a-copy\n",
      "  self.obj[key] = infer_fill_value(value)\n",
      "/Users/amandeep/Github/table-linker/tl_env/lib/python3.8/site-packages/pandas/core/indexing.py:1817: SettingWithCopyWarning: \n",
      "A value is trying to be set on a copy of a slice from a DataFrame.\n",
      "Try using .loc[row_indexer,col_indexer] = value instead\n",
      "\n",
      "See the caveats in the documentation: https://pandas.pydata.org/pandas-docs/stable/user_guide/indexing.html#returning-a-view-versus-a-copy\n",
      "  self._setitem_single_column(loc, value, pi)\n"
     ]
    },
    {
     "name": "stderr",
     "output_type": "stream",
     "text": [
      "171it [2:10:38, 42.20s/it]"
     ]
    },
    {
     "name": "stdout",
     "output_type": "stream",
     "text": [
      "/Users/amandeep/Github/table-linker/tl_env/lib/python3.8/site-packages/pandas/core/indexing.py:1684: SettingWithCopyWarning: \n",
      "A value is trying to be set on a copy of a slice from a DataFrame.\n",
      "Try using .loc[row_indexer,col_indexer] = value instead\n",
      "\n",
      "See the caveats in the documentation: https://pandas.pydata.org/pandas-docs/stable/user_guide/indexing.html#returning-a-view-versus-a-copy\n",
      "  self.obj[key] = infer_fill_value(value)\n",
      "/Users/amandeep/Github/table-linker/tl_env/lib/python3.8/site-packages/pandas/core/indexing.py:1817: SettingWithCopyWarning: \n",
      "A value is trying to be set on a copy of a slice from a DataFrame.\n",
      "Try using .loc[row_indexer,col_indexer] = value instead\n",
      "\n",
      "See the caveats in the documentation: https://pandas.pydata.org/pandas-docs/stable/user_guide/indexing.html#returning-a-view-versus-a-copy\n",
      "  self._setitem_single_column(loc, value, pi)\n"
     ]
    },
    {
     "name": "stderr",
     "output_type": "stream",
     "text": [
      "172it [2:11:22, 42.79s/it]"
     ]
    },
    {
     "name": "stdout",
     "output_type": "stream",
     "text": [
      "/Users/amandeep/Github/table-linker/tl_env/lib/python3.8/site-packages/pandas/core/indexing.py:1684: SettingWithCopyWarning: \n",
      "A value is trying to be set on a copy of a slice from a DataFrame.\n",
      "Try using .loc[row_indexer,col_indexer] = value instead\n",
      "\n",
      "See the caveats in the documentation: https://pandas.pydata.org/pandas-docs/stable/user_guide/indexing.html#returning-a-view-versus-a-copy\n",
      "  self.obj[key] = infer_fill_value(value)\n",
      "/Users/amandeep/Github/table-linker/tl_env/lib/python3.8/site-packages/pandas/core/indexing.py:1817: SettingWithCopyWarning: \n",
      "A value is trying to be set on a copy of a slice from a DataFrame.\n",
      "Try using .loc[row_indexer,col_indexer] = value instead\n",
      "\n",
      "See the caveats in the documentation: https://pandas.pydata.org/pandas-docs/stable/user_guide/indexing.html#returning-a-view-versus-a-copy\n",
      "  self._setitem_single_column(loc, value, pi)\n"
     ]
    },
    {
     "name": "stderr",
     "output_type": "stream",
     "text": [
      "173it [2:11:46, 37.39s/it]"
     ]
    },
    {
     "name": "stdout",
     "output_type": "stream",
     "text": [
      "/Users/amandeep/Github/table-linker/tl_env/lib/python3.8/site-packages/pandas/core/indexing.py:1684: SettingWithCopyWarning: \n",
      "A value is trying to be set on a copy of a slice from a DataFrame.\n",
      "Try using .loc[row_indexer,col_indexer] = value instead\n",
      "\n",
      "See the caveats in the documentation: https://pandas.pydata.org/pandas-docs/stable/user_guide/indexing.html#returning-a-view-versus-a-copy\n",
      "  self.obj[key] = infer_fill_value(value)\n",
      "/Users/amandeep/Github/table-linker/tl_env/lib/python3.8/site-packages/pandas/core/indexing.py:1817: SettingWithCopyWarning: \n",
      "A value is trying to be set on a copy of a slice from a DataFrame.\n",
      "Try using .loc[row_indexer,col_indexer] = value instead\n",
      "\n",
      "See the caveats in the documentation: https://pandas.pydata.org/pandas-docs/stable/user_guide/indexing.html#returning-a-view-versus-a-copy\n",
      "  self._setitem_single_column(loc, value, pi)\n"
     ]
    },
    {
     "name": "stderr",
     "output_type": "stream",
     "text": [
      "174it [2:12:25, 37.88s/it]"
     ]
    },
    {
     "name": "stdout",
     "output_type": "stream",
     "text": [
      "/Users/amandeep/Github/table-linker/tl_env/lib/python3.8/site-packages/pandas/core/indexing.py:1684: SettingWithCopyWarning: \n",
      "A value is trying to be set on a copy of a slice from a DataFrame.\n",
      "Try using .loc[row_indexer,col_indexer] = value instead\n",
      "\n",
      "See the caveats in the documentation: https://pandas.pydata.org/pandas-docs/stable/user_guide/indexing.html#returning-a-view-versus-a-copy\n",
      "  self.obj[key] = infer_fill_value(value)\n",
      "/Users/amandeep/Github/table-linker/tl_env/lib/python3.8/site-packages/pandas/core/indexing.py:1817: SettingWithCopyWarning: \n",
      "A value is trying to be set on a copy of a slice from a DataFrame.\n",
      "Try using .loc[row_indexer,col_indexer] = value instead\n",
      "\n",
      "See the caveats in the documentation: https://pandas.pydata.org/pandas-docs/stable/user_guide/indexing.html#returning-a-view-versus-a-copy\n",
      "  self._setitem_single_column(loc, value, pi)\n"
     ]
    },
    {
     "name": "stderr",
     "output_type": "stream",
     "text": [
      "175it [2:12:47, 32.84s/it]"
     ]
    },
    {
     "name": "stdout",
     "output_type": "stream",
     "text": [
      "/Users/amandeep/Github/table-linker/tl_env/lib/python3.8/site-packages/pandas/core/indexing.py:1684: SettingWithCopyWarning: \n",
      "A value is trying to be set on a copy of a slice from a DataFrame.\n",
      "Try using .loc[row_indexer,col_indexer] = value instead\n",
      "\n",
      "See the caveats in the documentation: https://pandas.pydata.org/pandas-docs/stable/user_guide/indexing.html#returning-a-view-versus-a-copy\n",
      "  self.obj[key] = infer_fill_value(value)\n",
      "/Users/amandeep/Github/table-linker/tl_env/lib/python3.8/site-packages/pandas/core/indexing.py:1817: SettingWithCopyWarning: \n",
      "A value is trying to be set on a copy of a slice from a DataFrame.\n",
      "Try using .loc[row_indexer,col_indexer] = value instead\n",
      "\n",
      "See the caveats in the documentation: https://pandas.pydata.org/pandas-docs/stable/user_guide/indexing.html#returning-a-view-versus-a-copy\n",
      "  self._setitem_single_column(loc, value, pi)\n"
     ]
    },
    {
     "name": "stderr",
     "output_type": "stream",
     "text": [
      "176it [2:13:51, 42.29s/it]"
     ]
    },
    {
     "name": "stdout",
     "output_type": "stream",
     "text": [
      "/Users/amandeep/Github/table-linker/tl_env/lib/python3.8/site-packages/pandas/core/indexing.py:1684: SettingWithCopyWarning: \n",
      "A value is trying to be set on a copy of a slice from a DataFrame.\n",
      "Try using .loc[row_indexer,col_indexer] = value instead\n",
      "\n",
      "See the caveats in the documentation: https://pandas.pydata.org/pandas-docs/stable/user_guide/indexing.html#returning-a-view-versus-a-copy\n",
      "  self.obj[key] = infer_fill_value(value)\n",
      "/Users/amandeep/Github/table-linker/tl_env/lib/python3.8/site-packages/pandas/core/indexing.py:1817: SettingWithCopyWarning: \n",
      "A value is trying to be set on a copy of a slice from a DataFrame.\n",
      "Try using .loc[row_indexer,col_indexer] = value instead\n",
      "\n",
      "See the caveats in the documentation: https://pandas.pydata.org/pandas-docs/stable/user_guide/indexing.html#returning-a-view-versus-a-copy\n",
      "  self._setitem_single_column(loc, value, pi)\n"
     ]
    },
    {
     "name": "stderr",
     "output_type": "stream",
     "text": [
      "177it [2:14:19, 38.17s/it]"
     ]
    },
    {
     "name": "stdout",
     "output_type": "stream",
     "text": [
      "/Users/amandeep/Github/table-linker/tl_env/lib/python3.8/site-packages/pandas/core/indexing.py:1684: SettingWithCopyWarning: \n",
      "A value is trying to be set on a copy of a slice from a DataFrame.\n",
      "Try using .loc[row_indexer,col_indexer] = value instead\n",
      "\n",
      "See the caveats in the documentation: https://pandas.pydata.org/pandas-docs/stable/user_guide/indexing.html#returning-a-view-versus-a-copy\n",
      "  self.obj[key] = infer_fill_value(value)\n",
      "/Users/amandeep/Github/table-linker/tl_env/lib/python3.8/site-packages/pandas/core/indexing.py:1817: SettingWithCopyWarning: \n",
      "A value is trying to be set on a copy of a slice from a DataFrame.\n",
      "Try using .loc[row_indexer,col_indexer] = value instead\n",
      "\n",
      "See the caveats in the documentation: https://pandas.pydata.org/pandas-docs/stable/user_guide/indexing.html#returning-a-view-versus-a-copy\n",
      "  self._setitem_single_column(loc, value, pi)\n"
     ]
    },
    {
     "name": "stderr",
     "output_type": "stream",
     "text": [
      "178it [2:14:40, 32.93s/it]"
     ]
    },
    {
     "name": "stdout",
     "output_type": "stream",
     "text": [
      "/Users/amandeep/Github/table-linker/tl_env/lib/python3.8/site-packages/pandas/core/indexing.py:1684: SettingWithCopyWarning: \n",
      "A value is trying to be set on a copy of a slice from a DataFrame.\n",
      "Try using .loc[row_indexer,col_indexer] = value instead\n",
      "\n",
      "See the caveats in the documentation: https://pandas.pydata.org/pandas-docs/stable/user_guide/indexing.html#returning-a-view-versus-a-copy\n",
      "  self.obj[key] = infer_fill_value(value)\n",
      "/Users/amandeep/Github/table-linker/tl_env/lib/python3.8/site-packages/pandas/core/indexing.py:1817: SettingWithCopyWarning: \n",
      "A value is trying to be set on a copy of a slice from a DataFrame.\n",
      "Try using .loc[row_indexer,col_indexer] = value instead\n",
      "\n",
      "See the caveats in the documentation: https://pandas.pydata.org/pandas-docs/stable/user_guide/indexing.html#returning-a-view-versus-a-copy\n",
      "  self._setitem_single_column(loc, value, pi)\n"
     ]
    },
    {
     "name": "stderr",
     "output_type": "stream",
     "text": [
      "179it [2:15:24, 36.11s/it]"
     ]
    },
    {
     "name": "stdout",
     "output_type": "stream",
     "text": [
      "/Users/amandeep/Github/table-linker/tl_env/lib/python3.8/site-packages/pandas/core/indexing.py:1684: SettingWithCopyWarning: \n",
      "A value is trying to be set on a copy of a slice from a DataFrame.\n",
      "Try using .loc[row_indexer,col_indexer] = value instead\n",
      "\n",
      "See the caveats in the documentation: https://pandas.pydata.org/pandas-docs/stable/user_guide/indexing.html#returning-a-view-versus-a-copy\n",
      "  self.obj[key] = infer_fill_value(value)\n",
      "/Users/amandeep/Github/table-linker/tl_env/lib/python3.8/site-packages/pandas/core/indexing.py:1817: SettingWithCopyWarning: \n",
      "A value is trying to be set on a copy of a slice from a DataFrame.\n",
      "Try using .loc[row_indexer,col_indexer] = value instead\n",
      "\n",
      "See the caveats in the documentation: https://pandas.pydata.org/pandas-docs/stable/user_guide/indexing.html#returning-a-view-versus-a-copy\n",
      "  self._setitem_single_column(loc, value, pi)\n"
     ]
    },
    {
     "name": "stderr",
     "output_type": "stream",
     "text": [
      "180it [2:15:48, 32.51s/it]"
     ]
    },
    {
     "name": "stdout",
     "output_type": "stream",
     "text": [
      "/Users/amandeep/Github/table-linker/tl_env/lib/python3.8/site-packages/pandas/core/indexing.py:1684: SettingWithCopyWarning: \n",
      "A value is trying to be set on a copy of a slice from a DataFrame.\n",
      "Try using .loc[row_indexer,col_indexer] = value instead\n",
      "\n",
      "See the caveats in the documentation: https://pandas.pydata.org/pandas-docs/stable/user_guide/indexing.html#returning-a-view-versus-a-copy\n",
      "  self.obj[key] = infer_fill_value(value)\n",
      "/Users/amandeep/Github/table-linker/tl_env/lib/python3.8/site-packages/pandas/core/indexing.py:1817: SettingWithCopyWarning: \n",
      "A value is trying to be set on a copy of a slice from a DataFrame.\n",
      "Try using .loc[row_indexer,col_indexer] = value instead\n",
      "\n",
      "See the caveats in the documentation: https://pandas.pydata.org/pandas-docs/stable/user_guide/indexing.html#returning-a-view-versus-a-copy\n",
      "  self._setitem_single_column(loc, value, pi)\n"
     ]
    },
    {
     "name": "stderr",
     "output_type": "stream",
     "text": [
      "181it [2:16:56, 43.19s/it]"
     ]
    },
    {
     "name": "stdout",
     "output_type": "stream",
     "text": [
      "/Users/amandeep/Github/table-linker/tl_env/lib/python3.8/site-packages/pandas/core/indexing.py:1684: SettingWithCopyWarning: \n",
      "A value is trying to be set on a copy of a slice from a DataFrame.\n",
      "Try using .loc[row_indexer,col_indexer] = value instead\n",
      "\n",
      "See the caveats in the documentation: https://pandas.pydata.org/pandas-docs/stable/user_guide/indexing.html#returning-a-view-versus-a-copy\n",
      "  self.obj[key] = infer_fill_value(value)\n",
      "/Users/amandeep/Github/table-linker/tl_env/lib/python3.8/site-packages/pandas/core/indexing.py:1817: SettingWithCopyWarning: \n",
      "A value is trying to be set on a copy of a slice from a DataFrame.\n",
      "Try using .loc[row_indexer,col_indexer] = value instead\n",
      "\n",
      "See the caveats in the documentation: https://pandas.pydata.org/pandas-docs/stable/user_guide/indexing.html#returning-a-view-versus-a-copy\n",
      "  self._setitem_single_column(loc, value, pi)\n"
     ]
    },
    {
     "name": "stderr",
     "output_type": "stream",
     "text": [
      "182it [2:19:01, 67.67s/it]"
     ]
    },
    {
     "name": "stdout",
     "output_type": "stream",
     "text": [
      "/Users/amandeep/Github/table-linker/tl_env/lib/python3.8/site-packages/pandas/core/indexing.py:1684: SettingWithCopyWarning: \n",
      "A value is trying to be set on a copy of a slice from a DataFrame.\n",
      "Try using .loc[row_indexer,col_indexer] = value instead\n",
      "\n",
      "See the caveats in the documentation: https://pandas.pydata.org/pandas-docs/stable/user_guide/indexing.html#returning-a-view-versus-a-copy\n",
      "  self.obj[key] = infer_fill_value(value)\n",
      "/Users/amandeep/Github/table-linker/tl_env/lib/python3.8/site-packages/pandas/core/indexing.py:1817: SettingWithCopyWarning: \n",
      "A value is trying to be set on a copy of a slice from a DataFrame.\n",
      "Try using .loc[row_indexer,col_indexer] = value instead\n",
      "\n",
      "See the caveats in the documentation: https://pandas.pydata.org/pandas-docs/stable/user_guide/indexing.html#returning-a-view-versus-a-copy\n",
      "  self._setitem_single_column(loc, value, pi)\n"
     ]
    },
    {
     "name": "stderr",
     "output_type": "stream",
     "text": [
      "183it [2:19:32, 56.66s/it]"
     ]
    },
    {
     "name": "stdout",
     "output_type": "stream",
     "text": [
      "/Users/amandeep/Github/table-linker/tl_env/lib/python3.8/site-packages/pandas/core/indexing.py:1684: SettingWithCopyWarning: \n",
      "A value is trying to be set on a copy of a slice from a DataFrame.\n",
      "Try using .loc[row_indexer,col_indexer] = value instead\n",
      "\n",
      "See the caveats in the documentation: https://pandas.pydata.org/pandas-docs/stable/user_guide/indexing.html#returning-a-view-versus-a-copy\n",
      "  self.obj[key] = infer_fill_value(value)\n",
      "/Users/amandeep/Github/table-linker/tl_env/lib/python3.8/site-packages/pandas/core/indexing.py:1817: SettingWithCopyWarning: \n",
      "A value is trying to be set on a copy of a slice from a DataFrame.\n",
      "Try using .loc[row_indexer,col_indexer] = value instead\n",
      "\n",
      "See the caveats in the documentation: https://pandas.pydata.org/pandas-docs/stable/user_guide/indexing.html#returning-a-view-versus-a-copy\n",
      "  self._setitem_single_column(loc, value, pi)\n"
     ]
    },
    {
     "name": "stderr",
     "output_type": "stream",
     "text": [
      "184it [2:20:24, 55.43s/it]"
     ]
    },
    {
     "name": "stdout",
     "output_type": "stream",
     "text": [
      "/Users/amandeep/Github/table-linker/tl_env/lib/python3.8/site-packages/pandas/core/indexing.py:1684: SettingWithCopyWarning: \n",
      "A value is trying to be set on a copy of a slice from a DataFrame.\n",
      "Try using .loc[row_indexer,col_indexer] = value instead\n",
      "\n",
      "See the caveats in the documentation: https://pandas.pydata.org/pandas-docs/stable/user_guide/indexing.html#returning-a-view-versus-a-copy\n",
      "  self.obj[key] = infer_fill_value(value)\n",
      "/Users/amandeep/Github/table-linker/tl_env/lib/python3.8/site-packages/pandas/core/indexing.py:1817: SettingWithCopyWarning: \n",
      "A value is trying to be set on a copy of a slice from a DataFrame.\n",
      "Try using .loc[row_indexer,col_indexer] = value instead\n",
      "\n",
      "See the caveats in the documentation: https://pandas.pydata.org/pandas-docs/stable/user_guide/indexing.html#returning-a-view-versus-a-copy\n",
      "  self._setitem_single_column(loc, value, pi)\n"
     ]
    },
    {
     "name": "stderr",
     "output_type": "stream",
     "text": [
      "185it [2:21:17, 54.53s/it]"
     ]
    },
    {
     "name": "stdout",
     "output_type": "stream",
     "text": [
      "/Users/amandeep/Github/table-linker/tl_env/lib/python3.8/site-packages/pandas/core/indexing.py:1684: SettingWithCopyWarning: \n",
      "A value is trying to be set on a copy of a slice from a DataFrame.\n",
      "Try using .loc[row_indexer,col_indexer] = value instead\n",
      "\n",
      "See the caveats in the documentation: https://pandas.pydata.org/pandas-docs/stable/user_guide/indexing.html#returning-a-view-versus-a-copy\n",
      "  self.obj[key] = infer_fill_value(value)\n",
      "/Users/amandeep/Github/table-linker/tl_env/lib/python3.8/site-packages/pandas/core/indexing.py:1817: SettingWithCopyWarning: \n",
      "A value is trying to be set on a copy of a slice from a DataFrame.\n",
      "Try using .loc[row_indexer,col_indexer] = value instead\n",
      "\n",
      "See the caveats in the documentation: https://pandas.pydata.org/pandas-docs/stable/user_guide/indexing.html#returning-a-view-versus-a-copy\n",
      "  self._setitem_single_column(loc, value, pi)\n"
     ]
    },
    {
     "name": "stderr",
     "output_type": "stream",
     "text": [
      "186it [2:22:17, 56.29s/it]"
     ]
    },
    {
     "name": "stdout",
     "output_type": "stream",
     "text": [
      "/Users/amandeep/Github/table-linker/tl_env/lib/python3.8/site-packages/pandas/core/indexing.py:1684: SettingWithCopyWarning: \n",
      "A value is trying to be set on a copy of a slice from a DataFrame.\n",
      "Try using .loc[row_indexer,col_indexer] = value instead\n",
      "\n",
      "See the caveats in the documentation: https://pandas.pydata.org/pandas-docs/stable/user_guide/indexing.html#returning-a-view-versus-a-copy\n",
      "  self.obj[key] = infer_fill_value(value)\n",
      "/Users/amandeep/Github/table-linker/tl_env/lib/python3.8/site-packages/pandas/core/indexing.py:1817: SettingWithCopyWarning: \n",
      "A value is trying to be set on a copy of a slice from a DataFrame.\n",
      "Try using .loc[row_indexer,col_indexer] = value instead\n",
      "\n",
      "See the caveats in the documentation: https://pandas.pydata.org/pandas-docs/stable/user_guide/indexing.html#returning-a-view-versus-a-copy\n",
      "  self._setitem_single_column(loc, value, pi)\n"
     ]
    },
    {
     "name": "stderr",
     "output_type": "stream",
     "text": [
      "187it [2:24:12, 73.96s/it]"
     ]
    },
    {
     "name": "stdout",
     "output_type": "stream",
     "text": [
      "/Users/amandeep/Github/table-linker/tl_env/lib/python3.8/site-packages/pandas/core/indexing.py:1684: SettingWithCopyWarning: \n",
      "A value is trying to be set on a copy of a slice from a DataFrame.\n",
      "Try using .loc[row_indexer,col_indexer] = value instead\n",
      "\n",
      "See the caveats in the documentation: https://pandas.pydata.org/pandas-docs/stable/user_guide/indexing.html#returning-a-view-versus-a-copy\n",
      "  self.obj[key] = infer_fill_value(value)\n",
      "/Users/amandeep/Github/table-linker/tl_env/lib/python3.8/site-packages/pandas/core/indexing.py:1817: SettingWithCopyWarning: \n",
      "A value is trying to be set on a copy of a slice from a DataFrame.\n",
      "Try using .loc[row_indexer,col_indexer] = value instead\n",
      "\n",
      "See the caveats in the documentation: https://pandas.pydata.org/pandas-docs/stable/user_guide/indexing.html#returning-a-view-versus-a-copy\n",
      "  self._setitem_single_column(loc, value, pi)\n"
     ]
    },
    {
     "name": "stderr",
     "output_type": "stream",
     "text": [
      "188it [2:24:53, 64.06s/it]"
     ]
    },
    {
     "name": "stdout",
     "output_type": "stream",
     "text": [
      "/Users/amandeep/Github/table-linker/tl_env/lib/python3.8/site-packages/pandas/core/indexing.py:1684: SettingWithCopyWarning: \n",
      "A value is trying to be set on a copy of a slice from a DataFrame.\n",
      "Try using .loc[row_indexer,col_indexer] = value instead\n",
      "\n",
      "See the caveats in the documentation: https://pandas.pydata.org/pandas-docs/stable/user_guide/indexing.html#returning-a-view-versus-a-copy\n",
      "  self.obj[key] = infer_fill_value(value)\n",
      "/Users/amandeep/Github/table-linker/tl_env/lib/python3.8/site-packages/pandas/core/indexing.py:1817: SettingWithCopyWarning: \n",
      "A value is trying to be set on a copy of a slice from a DataFrame.\n",
      "Try using .loc[row_indexer,col_indexer] = value instead\n",
      "\n",
      "See the caveats in the documentation: https://pandas.pydata.org/pandas-docs/stable/user_guide/indexing.html#returning-a-view-versus-a-copy\n",
      "  self._setitem_single_column(loc, value, pi)\n"
     ]
    },
    {
     "name": "stderr",
     "output_type": "stream",
     "text": [
      "189it [2:25:34, 56.97s/it]"
     ]
    },
    {
     "name": "stdout",
     "output_type": "stream",
     "text": [
      "/Users/amandeep/Github/table-linker/tl_env/lib/python3.8/site-packages/pandas/core/indexing.py:1684: SettingWithCopyWarning: \n",
      "A value is trying to be set on a copy of a slice from a DataFrame.\n",
      "Try using .loc[row_indexer,col_indexer] = value instead\n",
      "\n",
      "See the caveats in the documentation: https://pandas.pydata.org/pandas-docs/stable/user_guide/indexing.html#returning-a-view-versus-a-copy\n",
      "  self.obj[key] = infer_fill_value(value)\n",
      "/Users/amandeep/Github/table-linker/tl_env/lib/python3.8/site-packages/pandas/core/indexing.py:1817: SettingWithCopyWarning: \n",
      "A value is trying to be set on a copy of a slice from a DataFrame.\n",
      "Try using .loc[row_indexer,col_indexer] = value instead\n",
      "\n",
      "See the caveats in the documentation: https://pandas.pydata.org/pandas-docs/stable/user_guide/indexing.html#returning-a-view-versus-a-copy\n",
      "  self._setitem_single_column(loc, value, pi)\n"
     ]
    },
    {
     "name": "stderr",
     "output_type": "stream",
     "text": [
      "190it [2:26:21, 54.18s/it]"
     ]
    },
    {
     "name": "stdout",
     "output_type": "stream",
     "text": [
      "/Users/amandeep/Github/table-linker/tl_env/lib/python3.8/site-packages/pandas/core/indexing.py:1684: SettingWithCopyWarning: \n",
      "A value is trying to be set on a copy of a slice from a DataFrame.\n",
      "Try using .loc[row_indexer,col_indexer] = value instead\n",
      "\n",
      "See the caveats in the documentation: https://pandas.pydata.org/pandas-docs/stable/user_guide/indexing.html#returning-a-view-versus-a-copy\n",
      "  self.obj[key] = infer_fill_value(value)\n",
      "/Users/amandeep/Github/table-linker/tl_env/lib/python3.8/site-packages/pandas/core/indexing.py:1817: SettingWithCopyWarning: \n",
      "A value is trying to be set on a copy of a slice from a DataFrame.\n",
      "Try using .loc[row_indexer,col_indexer] = value instead\n",
      "\n",
      "See the caveats in the documentation: https://pandas.pydata.org/pandas-docs/stable/user_guide/indexing.html#returning-a-view-versus-a-copy\n",
      "  self._setitem_single_column(loc, value, pi)\n"
     ]
    },
    {
     "name": "stderr",
     "output_type": "stream",
     "text": [
      "191it [2:27:12, 53.09s/it]"
     ]
    },
    {
     "name": "stdout",
     "output_type": "stream",
     "text": [
      "/Users/amandeep/Github/table-linker/tl_env/lib/python3.8/site-packages/pandas/core/indexing.py:1684: SettingWithCopyWarning: \n",
      "A value is trying to be set on a copy of a slice from a DataFrame.\n",
      "Try using .loc[row_indexer,col_indexer] = value instead\n",
      "\n",
      "See the caveats in the documentation: https://pandas.pydata.org/pandas-docs/stable/user_guide/indexing.html#returning-a-view-versus-a-copy\n",
      "  self.obj[key] = infer_fill_value(value)\n",
      "/Users/amandeep/Github/table-linker/tl_env/lib/python3.8/site-packages/pandas/core/indexing.py:1817: SettingWithCopyWarning: \n",
      "A value is trying to be set on a copy of a slice from a DataFrame.\n",
      "Try using .loc[row_indexer,col_indexer] = value instead\n",
      "\n",
      "See the caveats in the documentation: https://pandas.pydata.org/pandas-docs/stable/user_guide/indexing.html#returning-a-view-versus-a-copy\n",
      "  self._setitem_single_column(loc, value, pi)\n"
     ]
    },
    {
     "name": "stderr",
     "output_type": "stream",
     "text": [
      "192it [2:28:09, 54.18s/it]"
     ]
    },
    {
     "name": "stdout",
     "output_type": "stream",
     "text": [
      "/Users/amandeep/Github/table-linker/tl_env/lib/python3.8/site-packages/pandas/core/indexing.py:1684: SettingWithCopyWarning: \n",
      "A value is trying to be set on a copy of a slice from a DataFrame.\n",
      "Try using .loc[row_indexer,col_indexer] = value instead\n",
      "\n",
      "See the caveats in the documentation: https://pandas.pydata.org/pandas-docs/stable/user_guide/indexing.html#returning-a-view-versus-a-copy\n",
      "  self.obj[key] = infer_fill_value(value)\n",
      "/Users/amandeep/Github/table-linker/tl_env/lib/python3.8/site-packages/pandas/core/indexing.py:1817: SettingWithCopyWarning: \n",
      "A value is trying to be set on a copy of a slice from a DataFrame.\n",
      "Try using .loc[row_indexer,col_indexer] = value instead\n",
      "\n",
      "See the caveats in the documentation: https://pandas.pydata.org/pandas-docs/stable/user_guide/indexing.html#returning-a-view-versus-a-copy\n",
      "  self._setitem_single_column(loc, value, pi)\n"
     ]
    },
    {
     "name": "stderr",
     "output_type": "stream",
     "text": [
      "193it [2:28:35, 45.80s/it]"
     ]
    },
    {
     "name": "stdout",
     "output_type": "stream",
     "text": [
      "/Users/amandeep/Github/table-linker/tl_env/lib/python3.8/site-packages/pandas/core/indexing.py:1684: SettingWithCopyWarning: \n",
      "A value is trying to be set on a copy of a slice from a DataFrame.\n",
      "Try using .loc[row_indexer,col_indexer] = value instead\n",
      "\n",
      "See the caveats in the documentation: https://pandas.pydata.org/pandas-docs/stable/user_guide/indexing.html#returning-a-view-versus-a-copy\n",
      "  self.obj[key] = infer_fill_value(value)\n",
      "/Users/amandeep/Github/table-linker/tl_env/lib/python3.8/site-packages/pandas/core/indexing.py:1817: SettingWithCopyWarning: \n",
      "A value is trying to be set on a copy of a slice from a DataFrame.\n",
      "Try using .loc[row_indexer,col_indexer] = value instead\n",
      "\n",
      "See the caveats in the documentation: https://pandas.pydata.org/pandas-docs/stable/user_guide/indexing.html#returning-a-view-versus-a-copy\n",
      "  self._setitem_single_column(loc, value, pi)\n"
     ]
    },
    {
     "name": "stderr",
     "output_type": "stream",
     "text": [
      "194it [2:28:56, 38.47s/it]"
     ]
    },
    {
     "name": "stdout",
     "output_type": "stream",
     "text": [
      "/Users/amandeep/Github/table-linker/tl_env/lib/python3.8/site-packages/pandas/core/indexing.py:1684: SettingWithCopyWarning: \n",
      "A value is trying to be set on a copy of a slice from a DataFrame.\n",
      "Try using .loc[row_indexer,col_indexer] = value instead\n",
      "\n",
      "See the caveats in the documentation: https://pandas.pydata.org/pandas-docs/stable/user_guide/indexing.html#returning-a-view-versus-a-copy\n",
      "  self.obj[key] = infer_fill_value(value)\n",
      "/Users/amandeep/Github/table-linker/tl_env/lib/python3.8/site-packages/pandas/core/indexing.py:1817: SettingWithCopyWarning: \n",
      "A value is trying to be set on a copy of a slice from a DataFrame.\n",
      "Try using .loc[row_indexer,col_indexer] = value instead\n",
      "\n",
      "See the caveats in the documentation: https://pandas.pydata.org/pandas-docs/stable/user_guide/indexing.html#returning-a-view-versus-a-copy\n",
      "  self._setitem_single_column(loc, value, pi)\n"
     ]
    },
    {
     "name": "stderr",
     "output_type": "stream",
     "text": [
      "195it [2:29:30, 37.21s/it]"
     ]
    },
    {
     "name": "stdout",
     "output_type": "stream",
     "text": [
      "/Users/amandeep/Github/table-linker/tl_env/lib/python3.8/site-packages/pandas/core/indexing.py:1684: SettingWithCopyWarning: \n",
      "A value is trying to be set on a copy of a slice from a DataFrame.\n",
      "Try using .loc[row_indexer,col_indexer] = value instead\n",
      "\n",
      "See the caveats in the documentation: https://pandas.pydata.org/pandas-docs/stable/user_guide/indexing.html#returning-a-view-versus-a-copy\n",
      "  self.obj[key] = infer_fill_value(value)\n",
      "/Users/amandeep/Github/table-linker/tl_env/lib/python3.8/site-packages/pandas/core/indexing.py:1817: SettingWithCopyWarning: \n",
      "A value is trying to be set on a copy of a slice from a DataFrame.\n",
      "Try using .loc[row_indexer,col_indexer] = value instead\n",
      "\n",
      "See the caveats in the documentation: https://pandas.pydata.org/pandas-docs/stable/user_guide/indexing.html#returning-a-view-versus-a-copy\n",
      "  self._setitem_single_column(loc, value, pi)\n"
     ]
    },
    {
     "name": "stderr",
     "output_type": "stream",
     "text": [
      "196it [2:30:15, 39.55s/it]"
     ]
    },
    {
     "name": "stdout",
     "output_type": "stream",
     "text": [
      "/Users/amandeep/Github/table-linker/tl_env/lib/python3.8/site-packages/pandas/core/indexing.py:1684: SettingWithCopyWarning: \n",
      "A value is trying to be set on a copy of a slice from a DataFrame.\n",
      "Try using .loc[row_indexer,col_indexer] = value instead\n",
      "\n",
      "See the caveats in the documentation: https://pandas.pydata.org/pandas-docs/stable/user_guide/indexing.html#returning-a-view-versus-a-copy\n",
      "  self.obj[key] = infer_fill_value(value)\n",
      "/Users/amandeep/Github/table-linker/tl_env/lib/python3.8/site-packages/pandas/core/indexing.py:1817: SettingWithCopyWarning: \n",
      "A value is trying to be set on a copy of a slice from a DataFrame.\n",
      "Try using .loc[row_indexer,col_indexer] = value instead\n",
      "\n",
      "See the caveats in the documentation: https://pandas.pydata.org/pandas-docs/stable/user_guide/indexing.html#returning-a-view-versus-a-copy\n",
      "  self._setitem_single_column(loc, value, pi)\n"
     ]
    },
    {
     "name": "stderr",
     "output_type": "stream",
     "text": [
      "197it [2:30:58, 40.37s/it]"
     ]
    },
    {
     "name": "stdout",
     "output_type": "stream",
     "text": [
      "/Users/amandeep/Github/table-linker/tl_env/lib/python3.8/site-packages/pandas/core/indexing.py:1684: SettingWithCopyWarning: \n",
      "A value is trying to be set on a copy of a slice from a DataFrame.\n",
      "Try using .loc[row_indexer,col_indexer] = value instead\n",
      "\n",
      "See the caveats in the documentation: https://pandas.pydata.org/pandas-docs/stable/user_guide/indexing.html#returning-a-view-versus-a-copy\n",
      "  self.obj[key] = infer_fill_value(value)\n",
      "/Users/amandeep/Github/table-linker/tl_env/lib/python3.8/site-packages/pandas/core/indexing.py:1817: SettingWithCopyWarning: \n",
      "A value is trying to be set on a copy of a slice from a DataFrame.\n",
      "Try using .loc[row_indexer,col_indexer] = value instead\n",
      "\n",
      "See the caveats in the documentation: https://pandas.pydata.org/pandas-docs/stable/user_guide/indexing.html#returning-a-view-versus-a-copy\n",
      "  self._setitem_single_column(loc, value, pi)\n"
     ]
    },
    {
     "name": "stderr",
     "output_type": "stream",
     "text": [
      "198it [2:31:47, 42.95s/it]"
     ]
    },
    {
     "name": "stdout",
     "output_type": "stream",
     "text": [
      "/Users/amandeep/Github/table-linker/tl_env/lib/python3.8/site-packages/pandas/core/indexing.py:1684: SettingWithCopyWarning: \n",
      "A value is trying to be set on a copy of a slice from a DataFrame.\n",
      "Try using .loc[row_indexer,col_indexer] = value instead\n",
      "\n",
      "See the caveats in the documentation: https://pandas.pydata.org/pandas-docs/stable/user_guide/indexing.html#returning-a-view-versus-a-copy\n",
      "  self.obj[key] = infer_fill_value(value)\n",
      "/Users/amandeep/Github/table-linker/tl_env/lib/python3.8/site-packages/pandas/core/indexing.py:1817: SettingWithCopyWarning: \n",
      "A value is trying to be set on a copy of a slice from a DataFrame.\n",
      "Try using .loc[row_indexer,col_indexer] = value instead\n",
      "\n",
      "See the caveats in the documentation: https://pandas.pydata.org/pandas-docs/stable/user_guide/indexing.html#returning-a-view-versus-a-copy\n",
      "  self._setitem_single_column(loc, value, pi)\n"
     ]
    },
    {
     "name": "stderr",
     "output_type": "stream",
     "text": [
      "199it [2:32:12, 37.62s/it]"
     ]
    },
    {
     "name": "stdout",
     "output_type": "stream",
     "text": [
      "/Users/amandeep/Github/table-linker/tl_env/lib/python3.8/site-packages/pandas/core/indexing.py:1684: SettingWithCopyWarning: \n",
      "A value is trying to be set on a copy of a slice from a DataFrame.\n",
      "Try using .loc[row_indexer,col_indexer] = value instead\n",
      "\n",
      "See the caveats in the documentation: https://pandas.pydata.org/pandas-docs/stable/user_guide/indexing.html#returning-a-view-versus-a-copy\n",
      "  self.obj[key] = infer_fill_value(value)\n",
      "/Users/amandeep/Github/table-linker/tl_env/lib/python3.8/site-packages/pandas/core/indexing.py:1817: SettingWithCopyWarning: \n",
      "A value is trying to be set on a copy of a slice from a DataFrame.\n",
      "Try using .loc[row_indexer,col_indexer] = value instead\n",
      "\n",
      "See the caveats in the documentation: https://pandas.pydata.org/pandas-docs/stable/user_guide/indexing.html#returning-a-view-versus-a-copy\n",
      "  self._setitem_single_column(loc, value, pi)\n"
     ]
    },
    {
     "name": "stderr",
     "output_type": "stream",
     "text": [
      "200it [2:32:57, 39.72s/it]"
     ]
    },
    {
     "name": "stdout",
     "output_type": "stream",
     "text": [
      "/Users/amandeep/Github/table-linker/tl_env/lib/python3.8/site-packages/pandas/core/indexing.py:1684: SettingWithCopyWarning: \n",
      "A value is trying to be set on a copy of a slice from a DataFrame.\n",
      "Try using .loc[row_indexer,col_indexer] = value instead\n",
      "\n",
      "See the caveats in the documentation: https://pandas.pydata.org/pandas-docs/stable/user_guide/indexing.html#returning-a-view-versus-a-copy\n",
      "  self.obj[key] = infer_fill_value(value)\n",
      "/Users/amandeep/Github/table-linker/tl_env/lib/python3.8/site-packages/pandas/core/indexing.py:1817: SettingWithCopyWarning: \n",
      "A value is trying to be set on a copy of a slice from a DataFrame.\n",
      "Try using .loc[row_indexer,col_indexer] = value instead\n",
      "\n",
      "See the caveats in the documentation: https://pandas.pydata.org/pandas-docs/stable/user_guide/indexing.html#returning-a-view-versus-a-copy\n",
      "  self._setitem_single_column(loc, value, pi)\n"
     ]
    },
    {
     "name": "stderr",
     "output_type": "stream",
     "text": [
      "201it [2:33:43, 41.73s/it]"
     ]
    },
    {
     "name": "stdout",
     "output_type": "stream",
     "text": [
      "/Users/amandeep/Github/table-linker/tl_env/lib/python3.8/site-packages/pandas/core/indexing.py:1684: SettingWithCopyWarning: \n",
      "A value is trying to be set on a copy of a slice from a DataFrame.\n",
      "Try using .loc[row_indexer,col_indexer] = value instead\n",
      "\n",
      "See the caveats in the documentation: https://pandas.pydata.org/pandas-docs/stable/user_guide/indexing.html#returning-a-view-versus-a-copy\n",
      "  self.obj[key] = infer_fill_value(value)\n",
      "/Users/amandeep/Github/table-linker/tl_env/lib/python3.8/site-packages/pandas/core/indexing.py:1817: SettingWithCopyWarning: \n",
      "A value is trying to be set on a copy of a slice from a DataFrame.\n",
      "Try using .loc[row_indexer,col_indexer] = value instead\n",
      "\n",
      "See the caveats in the documentation: https://pandas.pydata.org/pandas-docs/stable/user_guide/indexing.html#returning-a-view-versus-a-copy\n",
      "  self._setitem_single_column(loc, value, pi)\n"
     ]
    },
    {
     "name": "stderr",
     "output_type": "stream",
     "text": [
      "202it [2:34:05, 35.89s/it]"
     ]
    },
    {
     "name": "stdout",
     "output_type": "stream",
     "text": [
      "/Users/amandeep/Github/table-linker/tl_env/lib/python3.8/site-packages/pandas/core/indexing.py:1684: SettingWithCopyWarning: \n",
      "A value is trying to be set on a copy of a slice from a DataFrame.\n",
      "Try using .loc[row_indexer,col_indexer] = value instead\n",
      "\n",
      "See the caveats in the documentation: https://pandas.pydata.org/pandas-docs/stable/user_guide/indexing.html#returning-a-view-versus-a-copy\n",
      "  self.obj[key] = infer_fill_value(value)\n",
      "/Users/amandeep/Github/table-linker/tl_env/lib/python3.8/site-packages/pandas/core/indexing.py:1817: SettingWithCopyWarning: \n",
      "A value is trying to be set on a copy of a slice from a DataFrame.\n",
      "Try using .loc[row_indexer,col_indexer] = value instead\n",
      "\n",
      "See the caveats in the documentation: https://pandas.pydata.org/pandas-docs/stable/user_guide/indexing.html#returning-a-view-versus-a-copy\n",
      "  self._setitem_single_column(loc, value, pi)\n"
     ]
    },
    {
     "name": "stderr",
     "output_type": "stream",
     "text": [
      "203it [2:34:25, 31.07s/it]"
     ]
    },
    {
     "name": "stdout",
     "output_type": "stream",
     "text": [
      "/Users/amandeep/Github/table-linker/tl_env/lib/python3.8/site-packages/pandas/core/indexing.py:1684: SettingWithCopyWarning: \n",
      "A value is trying to be set on a copy of a slice from a DataFrame.\n",
      "Try using .loc[row_indexer,col_indexer] = value instead\n",
      "\n",
      "See the caveats in the documentation: https://pandas.pydata.org/pandas-docs/stable/user_guide/indexing.html#returning-a-view-versus-a-copy\n",
      "  self.obj[key] = infer_fill_value(value)\n",
      "/Users/amandeep/Github/table-linker/tl_env/lib/python3.8/site-packages/pandas/core/indexing.py:1817: SettingWithCopyWarning: \n",
      "A value is trying to be set on a copy of a slice from a DataFrame.\n",
      "Try using .loc[row_indexer,col_indexer] = value instead\n",
      "\n",
      "See the caveats in the documentation: https://pandas.pydata.org/pandas-docs/stable/user_guide/indexing.html#returning-a-view-versus-a-copy\n",
      "  self._setitem_single_column(loc, value, pi)\n"
     ]
    },
    {
     "name": "stderr",
     "output_type": "stream",
     "text": [
      "204it [2:35:02, 32.86s/it]"
     ]
    },
    {
     "name": "stdout",
     "output_type": "stream",
     "text": [
      "/Users/amandeep/Github/table-linker/tl_env/lib/python3.8/site-packages/pandas/core/indexing.py:1684: SettingWithCopyWarning: \n",
      "A value is trying to be set on a copy of a slice from a DataFrame.\n",
      "Try using .loc[row_indexer,col_indexer] = value instead\n",
      "\n",
      "See the caveats in the documentation: https://pandas.pydata.org/pandas-docs/stable/user_guide/indexing.html#returning-a-view-versus-a-copy\n",
      "  self.obj[key] = infer_fill_value(value)\n",
      "/Users/amandeep/Github/table-linker/tl_env/lib/python3.8/site-packages/pandas/core/indexing.py:1817: SettingWithCopyWarning: \n",
      "A value is trying to be set on a copy of a slice from a DataFrame.\n",
      "Try using .loc[row_indexer,col_indexer] = value instead\n",
      "\n",
      "See the caveats in the documentation: https://pandas.pydata.org/pandas-docs/stable/user_guide/indexing.html#returning-a-view-versus-a-copy\n",
      "  self._setitem_single_column(loc, value, pi)\n"
     ]
    },
    {
     "name": "stderr",
     "output_type": "stream",
     "text": [
      "205it [2:35:31, 31.55s/it]"
     ]
    },
    {
     "name": "stdout",
     "output_type": "stream",
     "text": [
      "/Users/amandeep/Github/table-linker/tl_env/lib/python3.8/site-packages/pandas/core/indexing.py:1684: SettingWithCopyWarning: \n",
      "A value is trying to be set on a copy of a slice from a DataFrame.\n",
      "Try using .loc[row_indexer,col_indexer] = value instead\n",
      "\n",
      "See the caveats in the documentation: https://pandas.pydata.org/pandas-docs/stable/user_guide/indexing.html#returning-a-view-versus-a-copy\n",
      "  self.obj[key] = infer_fill_value(value)\n",
      "/Users/amandeep/Github/table-linker/tl_env/lib/python3.8/site-packages/pandas/core/indexing.py:1817: SettingWithCopyWarning: \n",
      "A value is trying to be set on a copy of a slice from a DataFrame.\n",
      "Try using .loc[row_indexer,col_indexer] = value instead\n",
      "\n",
      "See the caveats in the documentation: https://pandas.pydata.org/pandas-docs/stable/user_guide/indexing.html#returning-a-view-versus-a-copy\n",
      "  self._setitem_single_column(loc, value, pi)\n"
     ]
    },
    {
     "name": "stderr",
     "output_type": "stream",
     "text": [
      "206it [2:36:44, 44.11s/it]"
     ]
    },
    {
     "name": "stdout",
     "output_type": "stream",
     "text": [
      "/Users/amandeep/Github/table-linker/tl_env/lib/python3.8/site-packages/pandas/core/indexing.py:1684: SettingWithCopyWarning: \n",
      "A value is trying to be set on a copy of a slice from a DataFrame.\n",
      "Try using .loc[row_indexer,col_indexer] = value instead\n",
      "\n",
      "See the caveats in the documentation: https://pandas.pydata.org/pandas-docs/stable/user_guide/indexing.html#returning-a-view-versus-a-copy\n",
      "  self.obj[key] = infer_fill_value(value)\n",
      "/Users/amandeep/Github/table-linker/tl_env/lib/python3.8/site-packages/pandas/core/indexing.py:1817: SettingWithCopyWarning: \n",
      "A value is trying to be set on a copy of a slice from a DataFrame.\n",
      "Try using .loc[row_indexer,col_indexer] = value instead\n",
      "\n",
      "See the caveats in the documentation: https://pandas.pydata.org/pandas-docs/stable/user_guide/indexing.html#returning-a-view-versus-a-copy\n",
      "  self._setitem_single_column(loc, value, pi)\n"
     ]
    },
    {
     "name": "stderr",
     "output_type": "stream",
     "text": [
      "207it [2:37:07, 37.81s/it]"
     ]
    },
    {
     "name": "stdout",
     "output_type": "stream",
     "text": [
      "/Users/amandeep/Github/table-linker/tl_env/lib/python3.8/site-packages/pandas/core/indexing.py:1684: SettingWithCopyWarning: \n",
      "A value is trying to be set on a copy of a slice from a DataFrame.\n",
      "Try using .loc[row_indexer,col_indexer] = value instead\n",
      "\n",
      "See the caveats in the documentation: https://pandas.pydata.org/pandas-docs/stable/user_guide/indexing.html#returning-a-view-versus-a-copy\n",
      "  self.obj[key] = infer_fill_value(value)\n",
      "/Users/amandeep/Github/table-linker/tl_env/lib/python3.8/site-packages/pandas/core/indexing.py:1817: SettingWithCopyWarning: \n",
      "A value is trying to be set on a copy of a slice from a DataFrame.\n",
      "Try using .loc[row_indexer,col_indexer] = value instead\n",
      "\n",
      "See the caveats in the documentation: https://pandas.pydata.org/pandas-docs/stable/user_guide/indexing.html#returning-a-view-versus-a-copy\n",
      "  self._setitem_single_column(loc, value, pi)\n"
     ]
    },
    {
     "name": "stderr",
     "output_type": "stream",
     "text": [
      "208it [2:37:49, 38.90s/it]"
     ]
    },
    {
     "name": "stdout",
     "output_type": "stream",
     "text": [
      "/Users/amandeep/Github/table-linker/tl_env/lib/python3.8/site-packages/pandas/core/indexing.py:1684: SettingWithCopyWarning: \n",
      "A value is trying to be set on a copy of a slice from a DataFrame.\n",
      "Try using .loc[row_indexer,col_indexer] = value instead\n",
      "\n",
      "See the caveats in the documentation: https://pandas.pydata.org/pandas-docs/stable/user_guide/indexing.html#returning-a-view-versus-a-copy\n",
      "  self.obj[key] = infer_fill_value(value)\n",
      "/Users/amandeep/Github/table-linker/tl_env/lib/python3.8/site-packages/pandas/core/indexing.py:1817: SettingWithCopyWarning: \n",
      "A value is trying to be set on a copy of a slice from a DataFrame.\n",
      "Try using .loc[row_indexer,col_indexer] = value instead\n",
      "\n",
      "See the caveats in the documentation: https://pandas.pydata.org/pandas-docs/stable/user_guide/indexing.html#returning-a-view-versus-a-copy\n",
      "  self._setitem_single_column(loc, value, pi)\n"
     ]
    },
    {
     "name": "stderr",
     "output_type": "stream",
     "text": [
      "209it [2:39:00, 48.73s/it]"
     ]
    },
    {
     "name": "stdout",
     "output_type": "stream",
     "text": [
      "/Users/amandeep/Github/table-linker/tl_env/lib/python3.8/site-packages/pandas/core/indexing.py:1684: SettingWithCopyWarning: \n",
      "A value is trying to be set on a copy of a slice from a DataFrame.\n",
      "Try using .loc[row_indexer,col_indexer] = value instead\n",
      "\n",
      "See the caveats in the documentation: https://pandas.pydata.org/pandas-docs/stable/user_guide/indexing.html#returning-a-view-versus-a-copy\n",
      "  self.obj[key] = infer_fill_value(value)\n",
      "/Users/amandeep/Github/table-linker/tl_env/lib/python3.8/site-packages/pandas/core/indexing.py:1817: SettingWithCopyWarning: \n",
      "A value is trying to be set on a copy of a slice from a DataFrame.\n",
      "Try using .loc[row_indexer,col_indexer] = value instead\n",
      "\n",
      "See the caveats in the documentation: https://pandas.pydata.org/pandas-docs/stable/user_guide/indexing.html#returning-a-view-versus-a-copy\n",
      "  self._setitem_single_column(loc, value, pi)\n"
     ]
    },
    {
     "name": "stderr",
     "output_type": "stream",
     "text": [
      "210it [2:39:44, 47.23s/it]"
     ]
    },
    {
     "name": "stdout",
     "output_type": "stream",
     "text": [
      "/Users/amandeep/Github/table-linker/tl_env/lib/python3.8/site-packages/pandas/core/indexing.py:1684: SettingWithCopyWarning: \n",
      "A value is trying to be set on a copy of a slice from a DataFrame.\n",
      "Try using .loc[row_indexer,col_indexer] = value instead\n",
      "\n",
      "See the caveats in the documentation: https://pandas.pydata.org/pandas-docs/stable/user_guide/indexing.html#returning-a-view-versus-a-copy\n",
      "  self.obj[key] = infer_fill_value(value)\n",
      "/Users/amandeep/Github/table-linker/tl_env/lib/python3.8/site-packages/pandas/core/indexing.py:1817: SettingWithCopyWarning: \n",
      "A value is trying to be set on a copy of a slice from a DataFrame.\n",
      "Try using .loc[row_indexer,col_indexer] = value instead\n",
      "\n",
      "See the caveats in the documentation: https://pandas.pydata.org/pandas-docs/stable/user_guide/indexing.html#returning-a-view-versus-a-copy\n",
      "  self._setitem_single_column(loc, value, pi)\n"
     ]
    },
    {
     "name": "stderr",
     "output_type": "stream",
     "text": [
      "211it [2:40:39, 49.56s/it]"
     ]
    },
    {
     "name": "stdout",
     "output_type": "stream",
     "text": [
      "/Users/amandeep/Github/table-linker/tl_env/lib/python3.8/site-packages/pandas/core/indexing.py:1684: SettingWithCopyWarning: \n",
      "A value is trying to be set on a copy of a slice from a DataFrame.\n",
      "Try using .loc[row_indexer,col_indexer] = value instead\n",
      "\n",
      "See the caveats in the documentation: https://pandas.pydata.org/pandas-docs/stable/user_guide/indexing.html#returning-a-view-versus-a-copy\n",
      "  self.obj[key] = infer_fill_value(value)\n",
      "/Users/amandeep/Github/table-linker/tl_env/lib/python3.8/site-packages/pandas/core/indexing.py:1817: SettingWithCopyWarning: \n",
      "A value is trying to be set on a copy of a slice from a DataFrame.\n",
      "Try using .loc[row_indexer,col_indexer] = value instead\n",
      "\n",
      "See the caveats in the documentation: https://pandas.pydata.org/pandas-docs/stable/user_guide/indexing.html#returning-a-view-versus-a-copy\n",
      "  self._setitem_single_column(loc, value, pi)\n"
     ]
    },
    {
     "name": "stderr",
     "output_type": "stream",
     "text": [
      "212it [2:41:08, 43.51s/it]"
     ]
    },
    {
     "name": "stdout",
     "output_type": "stream",
     "text": [
      "/Users/amandeep/Github/table-linker/tl_env/lib/python3.8/site-packages/pandas/core/indexing.py:1684: SettingWithCopyWarning: \n",
      "A value is trying to be set on a copy of a slice from a DataFrame.\n",
      "Try using .loc[row_indexer,col_indexer] = value instead\n",
      "\n",
      "See the caveats in the documentation: https://pandas.pydata.org/pandas-docs/stable/user_guide/indexing.html#returning-a-view-versus-a-copy\n",
      "  self.obj[key] = infer_fill_value(value)\n",
      "/Users/amandeep/Github/table-linker/tl_env/lib/python3.8/site-packages/pandas/core/indexing.py:1817: SettingWithCopyWarning: \n",
      "A value is trying to be set on a copy of a slice from a DataFrame.\n",
      "Try using .loc[row_indexer,col_indexer] = value instead\n",
      "\n",
      "See the caveats in the documentation: https://pandas.pydata.org/pandas-docs/stable/user_guide/indexing.html#returning-a-view-versus-a-copy\n",
      "  self._setitem_single_column(loc, value, pi)\n"
     ]
    },
    {
     "name": "stderr",
     "output_type": "stream",
     "text": [
      "213it [2:42:13, 49.94s/it]"
     ]
    },
    {
     "name": "stdout",
     "output_type": "stream",
     "text": [
      "/Users/amandeep/Github/table-linker/tl_env/lib/python3.8/site-packages/pandas/core/indexing.py:1684: SettingWithCopyWarning: \n",
      "A value is trying to be set on a copy of a slice from a DataFrame.\n",
      "Try using .loc[row_indexer,col_indexer] = value instead\n",
      "\n",
      "See the caveats in the documentation: https://pandas.pydata.org/pandas-docs/stable/user_guide/indexing.html#returning-a-view-versus-a-copy\n",
      "  self.obj[key] = infer_fill_value(value)\n",
      "/Users/amandeep/Github/table-linker/tl_env/lib/python3.8/site-packages/pandas/core/indexing.py:1817: SettingWithCopyWarning: \n",
      "A value is trying to be set on a copy of a slice from a DataFrame.\n",
      "Try using .loc[row_indexer,col_indexer] = value instead\n",
      "\n",
      "See the caveats in the documentation: https://pandas.pydata.org/pandas-docs/stable/user_guide/indexing.html#returning-a-view-versus-a-copy\n",
      "  self._setitem_single_column(loc, value, pi)\n"
     ]
    },
    {
     "name": "stderr",
     "output_type": "stream",
     "text": [
      "214it [2:43:05, 50.45s/it]"
     ]
    },
    {
     "name": "stdout",
     "output_type": "stream",
     "text": [
      "/Users/amandeep/Github/table-linker/tl_env/lib/python3.8/site-packages/pandas/core/indexing.py:1684: SettingWithCopyWarning: \n",
      "A value is trying to be set on a copy of a slice from a DataFrame.\n",
      "Try using .loc[row_indexer,col_indexer] = value instead\n",
      "\n",
      "See the caveats in the documentation: https://pandas.pydata.org/pandas-docs/stable/user_guide/indexing.html#returning-a-view-versus-a-copy\n",
      "  self.obj[key] = infer_fill_value(value)\n",
      "/Users/amandeep/Github/table-linker/tl_env/lib/python3.8/site-packages/pandas/core/indexing.py:1817: SettingWithCopyWarning: \n",
      "A value is trying to be set on a copy of a slice from a DataFrame.\n",
      "Try using .loc[row_indexer,col_indexer] = value instead\n",
      "\n",
      "See the caveats in the documentation: https://pandas.pydata.org/pandas-docs/stable/user_guide/indexing.html#returning-a-view-versus-a-copy\n",
      "  self._setitem_single_column(loc, value, pi)\n"
     ]
    },
    {
     "name": "stderr",
     "output_type": "stream",
     "text": [
      "217it [2:43:40, 28.62s/it]"
     ]
    },
    {
     "name": "stdout",
     "output_type": "stream",
     "text": [
      "/Users/amandeep/Github/table-linker/tl_env/lib/python3.8/site-packages/pandas/core/indexing.py:1684: SettingWithCopyWarning: \n",
      "A value is trying to be set on a copy of a slice from a DataFrame.\n",
      "Try using .loc[row_indexer,col_indexer] = value instead\n",
      "\n",
      "See the caveats in the documentation: https://pandas.pydata.org/pandas-docs/stable/user_guide/indexing.html#returning-a-view-versus-a-copy\n",
      "  self.obj[key] = infer_fill_value(value)\n",
      "/Users/amandeep/Github/table-linker/tl_env/lib/python3.8/site-packages/pandas/core/indexing.py:1817: SettingWithCopyWarning: \n",
      "A value is trying to be set on a copy of a slice from a DataFrame.\n",
      "Try using .loc[row_indexer,col_indexer] = value instead\n",
      "\n",
      "See the caveats in the documentation: https://pandas.pydata.org/pandas-docs/stable/user_guide/indexing.html#returning-a-view-versus-a-copy\n",
      "  self._setitem_single_column(loc, value, pi)\n"
     ]
    },
    {
     "name": "stderr",
     "output_type": "stream",
     "text": [
      "218it [2:45:27, 45.12s/it]"
     ]
    },
    {
     "name": "stdout",
     "output_type": "stream",
     "text": [
      "/Users/amandeep/Github/table-linker/tl_env/lib/python3.8/site-packages/pandas/core/indexing.py:1684: SettingWithCopyWarning: \n",
      "A value is trying to be set on a copy of a slice from a DataFrame.\n",
      "Try using .loc[row_indexer,col_indexer] = value instead\n",
      "\n",
      "See the caveats in the documentation: https://pandas.pydata.org/pandas-docs/stable/user_guide/indexing.html#returning-a-view-versus-a-copy\n",
      "  self.obj[key] = infer_fill_value(value)\n",
      "/Users/amandeep/Github/table-linker/tl_env/lib/python3.8/site-packages/pandas/core/indexing.py:1817: SettingWithCopyWarning: \n",
      "A value is trying to be set on a copy of a slice from a DataFrame.\n",
      "Try using .loc[row_indexer,col_indexer] = value instead\n",
      "\n",
      "See the caveats in the documentation: https://pandas.pydata.org/pandas-docs/stable/user_guide/indexing.html#returning-a-view-versus-a-copy\n",
      "  self._setitem_single_column(loc, value, pi)\n"
     ]
    },
    {
     "name": "stderr",
     "output_type": "stream",
     "text": [
      "219it [2:47:51, 68.10s/it]"
     ]
    },
    {
     "name": "stdout",
     "output_type": "stream",
     "text": [
      "/Users/amandeep/Github/table-linker/tl_env/lib/python3.8/site-packages/pandas/core/indexing.py:1684: SettingWithCopyWarning: \n",
      "A value is trying to be set on a copy of a slice from a DataFrame.\n",
      "Try using .loc[row_indexer,col_indexer] = value instead\n",
      "\n",
      "See the caveats in the documentation: https://pandas.pydata.org/pandas-docs/stable/user_guide/indexing.html#returning-a-view-versus-a-copy\n",
      "  self.obj[key] = infer_fill_value(value)\n",
      "/Users/amandeep/Github/table-linker/tl_env/lib/python3.8/site-packages/pandas/core/indexing.py:1817: SettingWithCopyWarning: \n",
      "A value is trying to be set on a copy of a slice from a DataFrame.\n",
      "Try using .loc[row_indexer,col_indexer] = value instead\n",
      "\n",
      "See the caveats in the documentation: https://pandas.pydata.org/pandas-docs/stable/user_guide/indexing.html#returning-a-view-versus-a-copy\n",
      "  self._setitem_single_column(loc, value, pi)\n"
     ]
    },
    {
     "name": "stderr",
     "output_type": "stream",
     "text": [
      "220it [2:48:20, 58.32s/it]"
     ]
    },
    {
     "name": "stdout",
     "output_type": "stream",
     "text": [
      "/Users/amandeep/Github/table-linker/tl_env/lib/python3.8/site-packages/pandas/core/indexing.py:1684: SettingWithCopyWarning: \n",
      "A value is trying to be set on a copy of a slice from a DataFrame.\n",
      "Try using .loc[row_indexer,col_indexer] = value instead\n",
      "\n",
      "See the caveats in the documentation: https://pandas.pydata.org/pandas-docs/stable/user_guide/indexing.html#returning-a-view-versus-a-copy\n",
      "  self.obj[key] = infer_fill_value(value)\n",
      "/Users/amandeep/Github/table-linker/tl_env/lib/python3.8/site-packages/pandas/core/indexing.py:1817: SettingWithCopyWarning: \n",
      "A value is trying to be set on a copy of a slice from a DataFrame.\n",
      "Try using .loc[row_indexer,col_indexer] = value instead\n",
      "\n",
      "See the caveats in the documentation: https://pandas.pydata.org/pandas-docs/stable/user_guide/indexing.html#returning-a-view-versus-a-copy\n",
      "  self._setitem_single_column(loc, value, pi)\n"
     ]
    },
    {
     "name": "stderr",
     "output_type": "stream",
     "text": [
      "221it [2:49:59, 69.00s/it]"
     ]
    },
    {
     "name": "stdout",
     "output_type": "stream",
     "text": [
      "/Users/amandeep/Github/table-linker/tl_env/lib/python3.8/site-packages/pandas/core/indexing.py:1684: SettingWithCopyWarning: \n",
      "A value is trying to be set on a copy of a slice from a DataFrame.\n",
      "Try using .loc[row_indexer,col_indexer] = value instead\n",
      "\n",
      "See the caveats in the documentation: https://pandas.pydata.org/pandas-docs/stable/user_guide/indexing.html#returning-a-view-versus-a-copy\n",
      "  self.obj[key] = infer_fill_value(value)\n",
      "/Users/amandeep/Github/table-linker/tl_env/lib/python3.8/site-packages/pandas/core/indexing.py:1817: SettingWithCopyWarning: \n",
      "A value is trying to be set on a copy of a slice from a DataFrame.\n",
      "Try using .loc[row_indexer,col_indexer] = value instead\n",
      "\n",
      "See the caveats in the documentation: https://pandas.pydata.org/pandas-docs/stable/user_guide/indexing.html#returning-a-view-versus-a-copy\n",
      "  self._setitem_single_column(loc, value, pi)\n"
     ]
    },
    {
     "name": "stderr",
     "output_type": "stream",
     "text": [
      "222it [2:50:24, 57.11s/it]"
     ]
    },
    {
     "name": "stdout",
     "output_type": "stream",
     "text": [
      "/Users/amandeep/Github/table-linker/tl_env/lib/python3.8/site-packages/pandas/core/indexing.py:1684: SettingWithCopyWarning: \n",
      "A value is trying to be set on a copy of a slice from a DataFrame.\n",
      "Try using .loc[row_indexer,col_indexer] = value instead\n",
      "\n",
      "See the caveats in the documentation: https://pandas.pydata.org/pandas-docs/stable/user_guide/indexing.html#returning-a-view-versus-a-copy\n",
      "  self.obj[key] = infer_fill_value(value)\n",
      "/Users/amandeep/Github/table-linker/tl_env/lib/python3.8/site-packages/pandas/core/indexing.py:1817: SettingWithCopyWarning: \n",
      "A value is trying to be set on a copy of a slice from a DataFrame.\n",
      "Try using .loc[row_indexer,col_indexer] = value instead\n",
      "\n",
      "See the caveats in the documentation: https://pandas.pydata.org/pandas-docs/stable/user_guide/indexing.html#returning-a-view-versus-a-copy\n",
      "  self._setitem_single_column(loc, value, pi)\n"
     ]
    },
    {
     "name": "stderr",
     "output_type": "stream",
     "text": [
      "223it [2:51:13, 54.96s/it]"
     ]
    },
    {
     "name": "stdout",
     "output_type": "stream",
     "text": [
      "/Users/amandeep/Github/table-linker/tl_env/lib/python3.8/site-packages/pandas/core/indexing.py:1684: SettingWithCopyWarning: \n",
      "A value is trying to be set on a copy of a slice from a DataFrame.\n",
      "Try using .loc[row_indexer,col_indexer] = value instead\n",
      "\n",
      "See the caveats in the documentation: https://pandas.pydata.org/pandas-docs/stable/user_guide/indexing.html#returning-a-view-versus-a-copy\n",
      "  self.obj[key] = infer_fill_value(value)\n",
      "/Users/amandeep/Github/table-linker/tl_env/lib/python3.8/site-packages/pandas/core/indexing.py:1817: SettingWithCopyWarning: \n",
      "A value is trying to be set on a copy of a slice from a DataFrame.\n",
      "Try using .loc[row_indexer,col_indexer] = value instead\n",
      "\n",
      "See the caveats in the documentation: https://pandas.pydata.org/pandas-docs/stable/user_guide/indexing.html#returning-a-view-versus-a-copy\n",
      "  self._setitem_single_column(loc, value, pi)\n"
     ]
    },
    {
     "name": "stderr",
     "output_type": "stream",
     "text": [
      "224it [2:51:35, 45.52s/it]"
     ]
    },
    {
     "name": "stdout",
     "output_type": "stream",
     "text": [
      "/Users/amandeep/Github/table-linker/tl_env/lib/python3.8/site-packages/pandas/core/indexing.py:1684: SettingWithCopyWarning: \n",
      "A value is trying to be set on a copy of a slice from a DataFrame.\n",
      "Try using .loc[row_indexer,col_indexer] = value instead\n",
      "\n",
      "See the caveats in the documentation: https://pandas.pydata.org/pandas-docs/stable/user_guide/indexing.html#returning-a-view-versus-a-copy\n",
      "  self.obj[key] = infer_fill_value(value)\n",
      "/Users/amandeep/Github/table-linker/tl_env/lib/python3.8/site-packages/pandas/core/indexing.py:1817: SettingWithCopyWarning: \n",
      "A value is trying to be set on a copy of a slice from a DataFrame.\n",
      "Try using .loc[row_indexer,col_indexer] = value instead\n",
      "\n",
      "See the caveats in the documentation: https://pandas.pydata.org/pandas-docs/stable/user_guide/indexing.html#returning-a-view-versus-a-copy\n",
      "  self._setitem_single_column(loc, value, pi)\n"
     ]
    },
    {
     "name": "stderr",
     "output_type": "stream",
     "text": [
      "225it [2:51:55, 38.02s/it]"
     ]
    },
    {
     "name": "stdout",
     "output_type": "stream",
     "text": [
      "/Users/amandeep/Github/table-linker/tl_env/lib/python3.8/site-packages/pandas/core/indexing.py:1684: SettingWithCopyWarning: \n",
      "A value is trying to be set on a copy of a slice from a DataFrame.\n",
      "Try using .loc[row_indexer,col_indexer] = value instead\n",
      "\n",
      "See the caveats in the documentation: https://pandas.pydata.org/pandas-docs/stable/user_guide/indexing.html#returning-a-view-versus-a-copy\n",
      "  self.obj[key] = infer_fill_value(value)\n",
      "/Users/amandeep/Github/table-linker/tl_env/lib/python3.8/site-packages/pandas/core/indexing.py:1817: SettingWithCopyWarning: \n",
      "A value is trying to be set on a copy of a slice from a DataFrame.\n",
      "Try using .loc[row_indexer,col_indexer] = value instead\n",
      "\n",
      "See the caveats in the documentation: https://pandas.pydata.org/pandas-docs/stable/user_guide/indexing.html#returning-a-view-versus-a-copy\n",
      "  self._setitem_single_column(loc, value, pi)\n"
     ]
    },
    {
     "name": "stderr",
     "output_type": "stream",
     "text": [
      "226it [2:52:27, 36.22s/it]"
     ]
    },
    {
     "name": "stdout",
     "output_type": "stream",
     "text": [
      "/Users/amandeep/Github/table-linker/tl_env/lib/python3.8/site-packages/pandas/core/indexing.py:1684: SettingWithCopyWarning: \n",
      "A value is trying to be set on a copy of a slice from a DataFrame.\n",
      "Try using .loc[row_indexer,col_indexer] = value instead\n",
      "\n",
      "See the caveats in the documentation: https://pandas.pydata.org/pandas-docs/stable/user_guide/indexing.html#returning-a-view-versus-a-copy\n",
      "  self.obj[key] = infer_fill_value(value)\n",
      "/Users/amandeep/Github/table-linker/tl_env/lib/python3.8/site-packages/pandas/core/indexing.py:1817: SettingWithCopyWarning: \n",
      "A value is trying to be set on a copy of a slice from a DataFrame.\n",
      "Try using .loc[row_indexer,col_indexer] = value instead\n",
      "\n",
      "See the caveats in the documentation: https://pandas.pydata.org/pandas-docs/stable/user_guide/indexing.html#returning-a-view-versus-a-copy\n",
      "  self._setitem_single_column(loc, value, pi)\n"
     ]
    },
    {
     "name": "stderr",
     "output_type": "stream",
     "text": [
      "227it [2:53:14, 39.43s/it]"
     ]
    },
    {
     "name": "stdout",
     "output_type": "stream",
     "text": [
      "/Users/amandeep/Github/table-linker/tl_env/lib/python3.8/site-packages/pandas/core/indexing.py:1684: SettingWithCopyWarning: \n",
      "A value is trying to be set on a copy of a slice from a DataFrame.\n",
      "Try using .loc[row_indexer,col_indexer] = value instead\n",
      "\n",
      "See the caveats in the documentation: https://pandas.pydata.org/pandas-docs/stable/user_guide/indexing.html#returning-a-view-versus-a-copy\n",
      "  self.obj[key] = infer_fill_value(value)\n",
      "/Users/amandeep/Github/table-linker/tl_env/lib/python3.8/site-packages/pandas/core/indexing.py:1817: SettingWithCopyWarning: \n",
      "A value is trying to be set on a copy of a slice from a DataFrame.\n",
      "Try using .loc[row_indexer,col_indexer] = value instead\n",
      "\n",
      "See the caveats in the documentation: https://pandas.pydata.org/pandas-docs/stable/user_guide/indexing.html#returning-a-view-versus-a-copy\n",
      "  self._setitem_single_column(loc, value, pi)\n"
     ]
    },
    {
     "name": "stderr",
     "output_type": "stream",
     "text": [
      "228it [2:53:41, 35.65s/it]"
     ]
    },
    {
     "name": "stdout",
     "output_type": "stream",
     "text": [
      "/Users/amandeep/Github/table-linker/tl_env/lib/python3.8/site-packages/pandas/core/indexing.py:1684: SettingWithCopyWarning: \n",
      "A value is trying to be set on a copy of a slice from a DataFrame.\n",
      "Try using .loc[row_indexer,col_indexer] = value instead\n",
      "\n",
      "See the caveats in the documentation: https://pandas.pydata.org/pandas-docs/stable/user_guide/indexing.html#returning-a-view-versus-a-copy\n",
      "  self.obj[key] = infer_fill_value(value)\n",
      "/Users/amandeep/Github/table-linker/tl_env/lib/python3.8/site-packages/pandas/core/indexing.py:1817: SettingWithCopyWarning: \n",
      "A value is trying to be set on a copy of a slice from a DataFrame.\n",
      "Try using .loc[row_indexer,col_indexer] = value instead\n",
      "\n",
      "See the caveats in the documentation: https://pandas.pydata.org/pandas-docs/stable/user_guide/indexing.html#returning-a-view-versus-a-copy\n",
      "  self._setitem_single_column(loc, value, pi)\n"
     ]
    },
    {
     "name": "stderr",
     "output_type": "stream",
     "text": [
      "229it [2:54:52, 46.25s/it]"
     ]
    },
    {
     "name": "stdout",
     "output_type": "stream",
     "text": [
      "/Users/amandeep/Github/table-linker/tl_env/lib/python3.8/site-packages/pandas/core/indexing.py:1684: SettingWithCopyWarning: \n",
      "A value is trying to be set on a copy of a slice from a DataFrame.\n",
      "Try using .loc[row_indexer,col_indexer] = value instead\n",
      "\n",
      "See the caveats in the documentation: https://pandas.pydata.org/pandas-docs/stable/user_guide/indexing.html#returning-a-view-versus-a-copy\n",
      "  self.obj[key] = infer_fill_value(value)\n",
      "/Users/amandeep/Github/table-linker/tl_env/lib/python3.8/site-packages/pandas/core/indexing.py:1817: SettingWithCopyWarning: \n",
      "A value is trying to be set on a copy of a slice from a DataFrame.\n",
      "Try using .loc[row_indexer,col_indexer] = value instead\n",
      "\n",
      "See the caveats in the documentation: https://pandas.pydata.org/pandas-docs/stable/user_guide/indexing.html#returning-a-view-versus-a-copy\n",
      "  self._setitem_single_column(loc, value, pi)\n"
     ]
    },
    {
     "name": "stderr",
     "output_type": "stream",
     "text": [
      "230it [2:55:24, 41.90s/it]"
     ]
    },
    {
     "name": "stdout",
     "output_type": "stream",
     "text": [
      "/Users/amandeep/Github/table-linker/tl_env/lib/python3.8/site-packages/pandas/core/indexing.py:1684: SettingWithCopyWarning: \n",
      "A value is trying to be set on a copy of a slice from a DataFrame.\n",
      "Try using .loc[row_indexer,col_indexer] = value instead\n",
      "\n",
      "See the caveats in the documentation: https://pandas.pydata.org/pandas-docs/stable/user_guide/indexing.html#returning-a-view-versus-a-copy\n",
      "  self.obj[key] = infer_fill_value(value)\n",
      "/Users/amandeep/Github/table-linker/tl_env/lib/python3.8/site-packages/pandas/core/indexing.py:1817: SettingWithCopyWarning: \n",
      "A value is trying to be set on a copy of a slice from a DataFrame.\n",
      "Try using .loc[row_indexer,col_indexer] = value instead\n",
      "\n",
      "See the caveats in the documentation: https://pandas.pydata.org/pandas-docs/stable/user_guide/indexing.html#returning-a-view-versus-a-copy\n",
      "  self._setitem_single_column(loc, value, pi)\n"
     ]
    },
    {
     "name": "stderr",
     "output_type": "stream",
     "text": [
      "231it [2:55:45, 35.86s/it]"
     ]
    },
    {
     "name": "stdout",
     "output_type": "stream",
     "text": [
      "/Users/amandeep/Github/table-linker/tl_env/lib/python3.8/site-packages/pandas/core/indexing.py:1684: SettingWithCopyWarning: \n",
      "A value is trying to be set on a copy of a slice from a DataFrame.\n",
      "Try using .loc[row_indexer,col_indexer] = value instead\n",
      "\n",
      "See the caveats in the documentation: https://pandas.pydata.org/pandas-docs/stable/user_guide/indexing.html#returning-a-view-versus-a-copy\n",
      "  self.obj[key] = infer_fill_value(value)\n",
      "/Users/amandeep/Github/table-linker/tl_env/lib/python3.8/site-packages/pandas/core/indexing.py:1817: SettingWithCopyWarning: \n",
      "A value is trying to be set on a copy of a slice from a DataFrame.\n",
      "Try using .loc[row_indexer,col_indexer] = value instead\n",
      "\n",
      "See the caveats in the documentation: https://pandas.pydata.org/pandas-docs/stable/user_guide/indexing.html#returning-a-view-versus-a-copy\n",
      "  self._setitem_single_column(loc, value, pi)\n"
     ]
    },
    {
     "name": "stderr",
     "output_type": "stream",
     "text": [
      "232it [2:56:44, 42.83s/it]"
     ]
    },
    {
     "name": "stdout",
     "output_type": "stream",
     "text": [
      "/Users/amandeep/Github/table-linker/tl_env/lib/python3.8/site-packages/pandas/core/indexing.py:1684: SettingWithCopyWarning: \n",
      "A value is trying to be set on a copy of a slice from a DataFrame.\n",
      "Try using .loc[row_indexer,col_indexer] = value instead\n",
      "\n",
      "See the caveats in the documentation: https://pandas.pydata.org/pandas-docs/stable/user_guide/indexing.html#returning-a-view-versus-a-copy\n",
      "  self.obj[key] = infer_fill_value(value)\n",
      "/Users/amandeep/Github/table-linker/tl_env/lib/python3.8/site-packages/pandas/core/indexing.py:1817: SettingWithCopyWarning: \n",
      "A value is trying to be set on a copy of a slice from a DataFrame.\n",
      "Try using .loc[row_indexer,col_indexer] = value instead\n",
      "\n",
      "See the caveats in the documentation: https://pandas.pydata.org/pandas-docs/stable/user_guide/indexing.html#returning-a-view-versus-a-copy\n",
      "  self._setitem_single_column(loc, value, pi)\n"
     ]
    },
    {
     "name": "stderr",
     "output_type": "stream",
     "text": [
      "233it [2:57:41, 46.97s/it]"
     ]
    },
    {
     "name": "stdout",
     "output_type": "stream",
     "text": [
      "/Users/amandeep/Github/table-linker/tl_env/lib/python3.8/site-packages/pandas/core/indexing.py:1684: SettingWithCopyWarning: \n",
      "A value is trying to be set on a copy of a slice from a DataFrame.\n",
      "Try using .loc[row_indexer,col_indexer] = value instead\n",
      "\n",
      "See the caveats in the documentation: https://pandas.pydata.org/pandas-docs/stable/user_guide/indexing.html#returning-a-view-versus-a-copy\n",
      "  self.obj[key] = infer_fill_value(value)\n",
      "/Users/amandeep/Github/table-linker/tl_env/lib/python3.8/site-packages/pandas/core/indexing.py:1817: SettingWithCopyWarning: \n",
      "A value is trying to be set on a copy of a slice from a DataFrame.\n",
      "Try using .loc[row_indexer,col_indexer] = value instead\n",
      "\n",
      "See the caveats in the documentation: https://pandas.pydata.org/pandas-docs/stable/user_guide/indexing.html#returning-a-view-versus-a-copy\n",
      "  self._setitem_single_column(loc, value, pi)\n"
     ]
    },
    {
     "name": "stderr",
     "output_type": "stream",
     "text": [
      "234it [2:58:15, 42.93s/it]"
     ]
    },
    {
     "name": "stdout",
     "output_type": "stream",
     "text": [
      "/Users/amandeep/Github/table-linker/tl_env/lib/python3.8/site-packages/pandas/core/indexing.py:1684: SettingWithCopyWarning: \n",
      "A value is trying to be set on a copy of a slice from a DataFrame.\n",
      "Try using .loc[row_indexer,col_indexer] = value instead\n",
      "\n",
      "See the caveats in the documentation: https://pandas.pydata.org/pandas-docs/stable/user_guide/indexing.html#returning-a-view-versus-a-copy\n",
      "  self.obj[key] = infer_fill_value(value)\n",
      "/Users/amandeep/Github/table-linker/tl_env/lib/python3.8/site-packages/pandas/core/indexing.py:1817: SettingWithCopyWarning: \n",
      "A value is trying to be set on a copy of a slice from a DataFrame.\n",
      "Try using .loc[row_indexer,col_indexer] = value instead\n",
      "\n",
      "See the caveats in the documentation: https://pandas.pydata.org/pandas-docs/stable/user_guide/indexing.html#returning-a-view-versus-a-copy\n",
      "  self._setitem_single_column(loc, value, pi)\n"
     ]
    },
    {
     "name": "stderr",
     "output_type": "stream",
     "text": [
      "235it [2:59:09, 46.23s/it]"
     ]
    },
    {
     "name": "stdout",
     "output_type": "stream",
     "text": [
      "/Users/amandeep/Github/table-linker/tl_env/lib/python3.8/site-packages/pandas/core/indexing.py:1684: SettingWithCopyWarning: \n",
      "A value is trying to be set on a copy of a slice from a DataFrame.\n",
      "Try using .loc[row_indexer,col_indexer] = value instead\n",
      "\n",
      "See the caveats in the documentation: https://pandas.pydata.org/pandas-docs/stable/user_guide/indexing.html#returning-a-view-versus-a-copy\n",
      "  self.obj[key] = infer_fill_value(value)\n",
      "/Users/amandeep/Github/table-linker/tl_env/lib/python3.8/site-packages/pandas/core/indexing.py:1817: SettingWithCopyWarning: \n",
      "A value is trying to be set on a copy of a slice from a DataFrame.\n",
      "Try using .loc[row_indexer,col_indexer] = value instead\n",
      "\n",
      "See the caveats in the documentation: https://pandas.pydata.org/pandas-docs/stable/user_guide/indexing.html#returning-a-view-versus-a-copy\n",
      "  self._setitem_single_column(loc, value, pi)\n"
     ]
    },
    {
     "name": "stderr",
     "output_type": "stream",
     "text": [
      "236it [2:59:39, 41.44s/it]"
     ]
    },
    {
     "name": "stdout",
     "output_type": "stream",
     "text": [
      "/Users/amandeep/Github/table-linker/tl_env/lib/python3.8/site-packages/pandas/core/indexing.py:1684: SettingWithCopyWarning: \n",
      "A value is trying to be set on a copy of a slice from a DataFrame.\n",
      "Try using .loc[row_indexer,col_indexer] = value instead\n",
      "\n",
      "See the caveats in the documentation: https://pandas.pydata.org/pandas-docs/stable/user_guide/indexing.html#returning-a-view-versus-a-copy\n",
      "  self.obj[key] = infer_fill_value(value)\n",
      "/Users/amandeep/Github/table-linker/tl_env/lib/python3.8/site-packages/pandas/core/indexing.py:1817: SettingWithCopyWarning: \n",
      "A value is trying to be set on a copy of a slice from a DataFrame.\n",
      "Try using .loc[row_indexer,col_indexer] = value instead\n",
      "\n",
      "See the caveats in the documentation: https://pandas.pydata.org/pandas-docs/stable/user_guide/indexing.html#returning-a-view-versus-a-copy\n",
      "  self._setitem_single_column(loc, value, pi)\n"
     ]
    },
    {
     "name": "stderr",
     "output_type": "stream",
     "text": [
      "237it [3:00:43, 48.33s/it]"
     ]
    },
    {
     "name": "stdout",
     "output_type": "stream",
     "text": [
      "/Users/amandeep/Github/table-linker/tl_env/lib/python3.8/site-packages/pandas/core/indexing.py:1684: SettingWithCopyWarning: \n",
      "A value is trying to be set on a copy of a slice from a DataFrame.\n",
      "Try using .loc[row_indexer,col_indexer] = value instead\n",
      "\n",
      "See the caveats in the documentation: https://pandas.pydata.org/pandas-docs/stable/user_guide/indexing.html#returning-a-view-versus-a-copy\n",
      "  self.obj[key] = infer_fill_value(value)\n",
      "/Users/amandeep/Github/table-linker/tl_env/lib/python3.8/site-packages/pandas/core/indexing.py:1817: SettingWithCopyWarning: \n",
      "A value is trying to be set on a copy of a slice from a DataFrame.\n",
      "Try using .loc[row_indexer,col_indexer] = value instead\n",
      "\n",
      "See the caveats in the documentation: https://pandas.pydata.org/pandas-docs/stable/user_guide/indexing.html#returning-a-view-versus-a-copy\n",
      "  self._setitem_single_column(loc, value, pi)\n"
     ]
    },
    {
     "name": "stderr",
     "output_type": "stream",
     "text": [
      "238it [3:01:08, 41.39s/it]"
     ]
    },
    {
     "name": "stdout",
     "output_type": "stream",
     "text": [
      "/Users/amandeep/Github/table-linker/tl_env/lib/python3.8/site-packages/pandas/core/indexing.py:1684: SettingWithCopyWarning: \n",
      "A value is trying to be set on a copy of a slice from a DataFrame.\n",
      "Try using .loc[row_indexer,col_indexer] = value instead\n",
      "\n",
      "See the caveats in the documentation: https://pandas.pydata.org/pandas-docs/stable/user_guide/indexing.html#returning-a-view-versus-a-copy\n",
      "  self.obj[key] = infer_fill_value(value)\n",
      "/Users/amandeep/Github/table-linker/tl_env/lib/python3.8/site-packages/pandas/core/indexing.py:1817: SettingWithCopyWarning: \n",
      "A value is trying to be set on a copy of a slice from a DataFrame.\n",
      "Try using .loc[row_indexer,col_indexer] = value instead\n",
      "\n",
      "See the caveats in the documentation: https://pandas.pydata.org/pandas-docs/stable/user_guide/indexing.html#returning-a-view-versus-a-copy\n",
      "  self._setitem_single_column(loc, value, pi)\n"
     ]
    },
    {
     "name": "stderr",
     "output_type": "stream",
     "text": [
      "239it [3:01:53, 42.27s/it]"
     ]
    },
    {
     "name": "stdout",
     "output_type": "stream",
     "text": [
      "/Users/amandeep/Github/table-linker/tl_env/lib/python3.8/site-packages/pandas/core/indexing.py:1684: SettingWithCopyWarning: \n",
      "A value is trying to be set on a copy of a slice from a DataFrame.\n",
      "Try using .loc[row_indexer,col_indexer] = value instead\n",
      "\n",
      "See the caveats in the documentation: https://pandas.pydata.org/pandas-docs/stable/user_guide/indexing.html#returning-a-view-versus-a-copy\n",
      "  self.obj[key] = infer_fill_value(value)\n",
      "/Users/amandeep/Github/table-linker/tl_env/lib/python3.8/site-packages/pandas/core/indexing.py:1817: SettingWithCopyWarning: \n",
      "A value is trying to be set on a copy of a slice from a DataFrame.\n",
      "Try using .loc[row_indexer,col_indexer] = value instead\n",
      "\n",
      "See the caveats in the documentation: https://pandas.pydata.org/pandas-docs/stable/user_guide/indexing.html#returning-a-view-versus-a-copy\n",
      "  self._setitem_single_column(loc, value, pi)\n"
     ]
    },
    {
     "name": "stderr",
     "output_type": "stream",
     "text": [
      "240it [3:02:12, 35.29s/it]"
     ]
    },
    {
     "name": "stdout",
     "output_type": "stream",
     "text": [
      "/Users/amandeep/Github/table-linker/tl_env/lib/python3.8/site-packages/pandas/core/indexing.py:1684: SettingWithCopyWarning: \n",
      "A value is trying to be set on a copy of a slice from a DataFrame.\n",
      "Try using .loc[row_indexer,col_indexer] = value instead\n",
      "\n",
      "See the caveats in the documentation: https://pandas.pydata.org/pandas-docs/stable/user_guide/indexing.html#returning-a-view-versus-a-copy\n",
      "  self.obj[key] = infer_fill_value(value)\n",
      "/Users/amandeep/Github/table-linker/tl_env/lib/python3.8/site-packages/pandas/core/indexing.py:1817: SettingWithCopyWarning: \n",
      "A value is trying to be set on a copy of a slice from a DataFrame.\n",
      "Try using .loc[row_indexer,col_indexer] = value instead\n",
      "\n",
      "See the caveats in the documentation: https://pandas.pydata.org/pandas-docs/stable/user_guide/indexing.html#returning-a-view-versus-a-copy\n",
      "  self._setitem_single_column(loc, value, pi)\n"
     ]
    },
    {
     "name": "stderr",
     "output_type": "stream",
     "text": [
      "241it [3:03:02, 39.89s/it]"
     ]
    },
    {
     "name": "stdout",
     "output_type": "stream",
     "text": [
      "/Users/amandeep/Github/table-linker/tl_env/lib/python3.8/site-packages/pandas/core/indexing.py:1684: SettingWithCopyWarning: \n",
      "A value is trying to be set on a copy of a slice from a DataFrame.\n",
      "Try using .loc[row_indexer,col_indexer] = value instead\n",
      "\n",
      "See the caveats in the documentation: https://pandas.pydata.org/pandas-docs/stable/user_guide/indexing.html#returning-a-view-versus-a-copy\n",
      "  self.obj[key] = infer_fill_value(value)\n",
      "/Users/amandeep/Github/table-linker/tl_env/lib/python3.8/site-packages/pandas/core/indexing.py:1817: SettingWithCopyWarning: \n",
      "A value is trying to be set on a copy of a slice from a DataFrame.\n",
      "Try using .loc[row_indexer,col_indexer] = value instead\n",
      "\n",
      "See the caveats in the documentation: https://pandas.pydata.org/pandas-docs/stable/user_guide/indexing.html#returning-a-view-versus-a-copy\n",
      "  self._setitem_single_column(loc, value, pi)\n"
     ]
    },
    {
     "name": "stderr",
     "output_type": "stream",
     "text": [
      "242it [3:03:27, 35.45s/it]"
     ]
    },
    {
     "name": "stdout",
     "output_type": "stream",
     "text": [
      "/Users/amandeep/Github/table-linker/tl_env/lib/python3.8/site-packages/pandas/core/indexing.py:1684: SettingWithCopyWarning: \n",
      "A value is trying to be set on a copy of a slice from a DataFrame.\n",
      "Try using .loc[row_indexer,col_indexer] = value instead\n",
      "\n",
      "See the caveats in the documentation: https://pandas.pydata.org/pandas-docs/stable/user_guide/indexing.html#returning-a-view-versus-a-copy\n",
      "  self.obj[key] = infer_fill_value(value)\n",
      "/Users/amandeep/Github/table-linker/tl_env/lib/python3.8/site-packages/pandas/core/indexing.py:1817: SettingWithCopyWarning: \n",
      "A value is trying to be set on a copy of a slice from a DataFrame.\n",
      "Try using .loc[row_indexer,col_indexer] = value instead\n",
      "\n",
      "See the caveats in the documentation: https://pandas.pydata.org/pandas-docs/stable/user_guide/indexing.html#returning-a-view-versus-a-copy\n",
      "  self._setitem_single_column(loc, value, pi)\n"
     ]
    },
    {
     "name": "stderr",
     "output_type": "stream",
     "text": [
      "243it [3:04:18, 40.03s/it]"
     ]
    },
    {
     "name": "stdout",
     "output_type": "stream",
     "text": [
      "/Users/amandeep/Github/table-linker/tl_env/lib/python3.8/site-packages/pandas/core/indexing.py:1684: SettingWithCopyWarning: \n",
      "A value is trying to be set on a copy of a slice from a DataFrame.\n",
      "Try using .loc[row_indexer,col_indexer] = value instead\n",
      "\n",
      "See the caveats in the documentation: https://pandas.pydata.org/pandas-docs/stable/user_guide/indexing.html#returning-a-view-versus-a-copy\n",
      "  self.obj[key] = infer_fill_value(value)\n",
      "/Users/amandeep/Github/table-linker/tl_env/lib/python3.8/site-packages/pandas/core/indexing.py:1817: SettingWithCopyWarning: \n",
      "A value is trying to be set on a copy of a slice from a DataFrame.\n",
      "Try using .loc[row_indexer,col_indexer] = value instead\n",
      "\n",
      "See the caveats in the documentation: https://pandas.pydata.org/pandas-docs/stable/user_guide/indexing.html#returning-a-view-versus-a-copy\n",
      "  self._setitem_single_column(loc, value, pi)\n"
     ]
    },
    {
     "name": "stderr",
     "output_type": "stream",
     "text": [
      "244it [3:04:45, 35.98s/it]"
     ]
    },
    {
     "name": "stdout",
     "output_type": "stream",
     "text": [
      "/Users/amandeep/Github/table-linker/tl_env/lib/python3.8/site-packages/pandas/core/indexing.py:1684: SettingWithCopyWarning: \n",
      "A value is trying to be set on a copy of a slice from a DataFrame.\n",
      "Try using .loc[row_indexer,col_indexer] = value instead\n",
      "\n",
      "See the caveats in the documentation: https://pandas.pydata.org/pandas-docs/stable/user_guide/indexing.html#returning-a-view-versus-a-copy\n",
      "  self.obj[key] = infer_fill_value(value)\n",
      "/Users/amandeep/Github/table-linker/tl_env/lib/python3.8/site-packages/pandas/core/indexing.py:1817: SettingWithCopyWarning: \n",
      "A value is trying to be set on a copy of a slice from a DataFrame.\n",
      "Try using .loc[row_indexer,col_indexer] = value instead\n",
      "\n",
      "See the caveats in the documentation: https://pandas.pydata.org/pandas-docs/stable/user_guide/indexing.html#returning-a-view-versus-a-copy\n",
      "  self._setitem_single_column(loc, value, pi)\n"
     ]
    },
    {
     "name": "stderr",
     "output_type": "stream",
     "text": [
      "245it [3:05:04, 31.08s/it]"
     ]
    },
    {
     "name": "stdout",
     "output_type": "stream",
     "text": [
      "/Users/amandeep/Github/table-linker/tl_env/lib/python3.8/site-packages/pandas/core/indexing.py:1684: SettingWithCopyWarning: \n",
      "A value is trying to be set on a copy of a slice from a DataFrame.\n",
      "Try using .loc[row_indexer,col_indexer] = value instead\n",
      "\n",
      "See the caveats in the documentation: https://pandas.pydata.org/pandas-docs/stable/user_guide/indexing.html#returning-a-view-versus-a-copy\n",
      "  self.obj[key] = infer_fill_value(value)\n",
      "/Users/amandeep/Github/table-linker/tl_env/lib/python3.8/site-packages/pandas/core/indexing.py:1817: SettingWithCopyWarning: \n",
      "A value is trying to be set on a copy of a slice from a DataFrame.\n",
      "Try using .loc[row_indexer,col_indexer] = value instead\n",
      "\n",
      "See the caveats in the documentation: https://pandas.pydata.org/pandas-docs/stable/user_guide/indexing.html#returning-a-view-versus-a-copy\n",
      "  self._setitem_single_column(loc, value, pi)\n"
     ]
    },
    {
     "name": "stderr",
     "output_type": "stream",
     "text": [
      "246it [3:05:51, 35.90s/it]"
     ]
    },
    {
     "name": "stdout",
     "output_type": "stream",
     "text": [
      "/Users/amandeep/Github/table-linker/tl_env/lib/python3.8/site-packages/pandas/core/indexing.py:1684: SettingWithCopyWarning: \n",
      "A value is trying to be set on a copy of a slice from a DataFrame.\n",
      "Try using .loc[row_indexer,col_indexer] = value instead\n",
      "\n",
      "See the caveats in the documentation: https://pandas.pydata.org/pandas-docs/stable/user_guide/indexing.html#returning-a-view-versus-a-copy\n",
      "  self.obj[key] = infer_fill_value(value)\n",
      "/Users/amandeep/Github/table-linker/tl_env/lib/python3.8/site-packages/pandas/core/indexing.py:1817: SettingWithCopyWarning: \n",
      "A value is trying to be set on a copy of a slice from a DataFrame.\n",
      "Try using .loc[row_indexer,col_indexer] = value instead\n",
      "\n",
      "See the caveats in the documentation: https://pandas.pydata.org/pandas-docs/stable/user_guide/indexing.html#returning-a-view-versus-a-copy\n",
      "  self._setitem_single_column(loc, value, pi)\n"
     ]
    },
    {
     "name": "stderr",
     "output_type": "stream",
     "text": [
      "247it [3:06:52, 43.18s/it]"
     ]
    },
    {
     "name": "stdout",
     "output_type": "stream",
     "text": [
      "/Users/amandeep/Github/table-linker/tl_env/lib/python3.8/site-packages/pandas/core/indexing.py:1684: SettingWithCopyWarning: \n",
      "A value is trying to be set on a copy of a slice from a DataFrame.\n",
      "Try using .loc[row_indexer,col_indexer] = value instead\n",
      "\n",
      "See the caveats in the documentation: https://pandas.pydata.org/pandas-docs/stable/user_guide/indexing.html#returning-a-view-versus-a-copy\n",
      "  self.obj[key] = infer_fill_value(value)\n",
      "/Users/amandeep/Github/table-linker/tl_env/lib/python3.8/site-packages/pandas/core/indexing.py:1817: SettingWithCopyWarning: \n",
      "A value is trying to be set on a copy of a slice from a DataFrame.\n",
      "Try using .loc[row_indexer,col_indexer] = value instead\n",
      "\n",
      "See the caveats in the documentation: https://pandas.pydata.org/pandas-docs/stable/user_guide/indexing.html#returning-a-view-versus-a-copy\n",
      "  self._setitem_single_column(loc, value, pi)\n"
     ]
    },
    {
     "name": "stderr",
     "output_type": "stream",
     "text": [
      "248it [3:07:42, 45.33s/it]"
     ]
    },
    {
     "name": "stdout",
     "output_type": "stream",
     "text": [
      "/Users/amandeep/Github/table-linker/tl_env/lib/python3.8/site-packages/pandas/core/indexing.py:1684: SettingWithCopyWarning: \n",
      "A value is trying to be set on a copy of a slice from a DataFrame.\n",
      "Try using .loc[row_indexer,col_indexer] = value instead\n",
      "\n",
      "See the caveats in the documentation: https://pandas.pydata.org/pandas-docs/stable/user_guide/indexing.html#returning-a-view-versus-a-copy\n",
      "  self.obj[key] = infer_fill_value(value)\n",
      "/Users/amandeep/Github/table-linker/tl_env/lib/python3.8/site-packages/pandas/core/indexing.py:1817: SettingWithCopyWarning: \n",
      "A value is trying to be set on a copy of a slice from a DataFrame.\n",
      "Try using .loc[row_indexer,col_indexer] = value instead\n",
      "\n",
      "See the caveats in the documentation: https://pandas.pydata.org/pandas-docs/stable/user_guide/indexing.html#returning-a-view-versus-a-copy\n",
      "  self._setitem_single_column(loc, value, pi)\n"
     ]
    },
    {
     "name": "stderr",
     "output_type": "stream",
     "text": [
      "249it [3:08:08, 39.49s/it]"
     ]
    },
    {
     "name": "stdout",
     "output_type": "stream",
     "text": [
      "/Users/amandeep/Github/table-linker/tl_env/lib/python3.8/site-packages/pandas/core/indexing.py:1684: SettingWithCopyWarning: \n",
      "A value is trying to be set on a copy of a slice from a DataFrame.\n",
      "Try using .loc[row_indexer,col_indexer] = value instead\n",
      "\n",
      "See the caveats in the documentation: https://pandas.pydata.org/pandas-docs/stable/user_guide/indexing.html#returning-a-view-versus-a-copy\n",
      "  self.obj[key] = infer_fill_value(value)\n",
      "/Users/amandeep/Github/table-linker/tl_env/lib/python3.8/site-packages/pandas/core/indexing.py:1817: SettingWithCopyWarning: \n",
      "A value is trying to be set on a copy of a slice from a DataFrame.\n",
      "Try using .loc[row_indexer,col_indexer] = value instead\n",
      "\n",
      "See the caveats in the documentation: https://pandas.pydata.org/pandas-docs/stable/user_guide/indexing.html#returning-a-view-versus-a-copy\n",
      "  self._setitem_single_column(loc, value, pi)\n"
     ]
    },
    {
     "name": "stderr",
     "output_type": "stream",
     "text": [
      "250it [3:08:43, 38.13s/it]"
     ]
    },
    {
     "name": "stdout",
     "output_type": "stream",
     "text": [
      "/Users/amandeep/Github/table-linker/tl_env/lib/python3.8/site-packages/pandas/core/indexing.py:1684: SettingWithCopyWarning: \n",
      "A value is trying to be set on a copy of a slice from a DataFrame.\n",
      "Try using .loc[row_indexer,col_indexer] = value instead\n",
      "\n",
      "See the caveats in the documentation: https://pandas.pydata.org/pandas-docs/stable/user_guide/indexing.html#returning-a-view-versus-a-copy\n",
      "  self.obj[key] = infer_fill_value(value)\n",
      "/Users/amandeep/Github/table-linker/tl_env/lib/python3.8/site-packages/pandas/core/indexing.py:1817: SettingWithCopyWarning: \n",
      "A value is trying to be set on a copy of a slice from a DataFrame.\n",
      "Try using .loc[row_indexer,col_indexer] = value instead\n",
      "\n",
      "See the caveats in the documentation: https://pandas.pydata.org/pandas-docs/stable/user_guide/indexing.html#returning-a-view-versus-a-copy\n",
      "  self._setitem_single_column(loc, value, pi)\n"
     ]
    },
    {
     "name": "stderr",
     "output_type": "stream",
     "text": [
      "251it [3:09:12, 35.53s/it]"
     ]
    },
    {
     "name": "stdout",
     "output_type": "stream",
     "text": [
      "/Users/amandeep/Github/table-linker/tl_env/lib/python3.8/site-packages/pandas/core/indexing.py:1684: SettingWithCopyWarning: \n",
      "A value is trying to be set on a copy of a slice from a DataFrame.\n",
      "Try using .loc[row_indexer,col_indexer] = value instead\n",
      "\n",
      "See the caveats in the documentation: https://pandas.pydata.org/pandas-docs/stable/user_guide/indexing.html#returning-a-view-versus-a-copy\n",
      "  self.obj[key] = infer_fill_value(value)\n",
      "/Users/amandeep/Github/table-linker/tl_env/lib/python3.8/site-packages/pandas/core/indexing.py:1817: SettingWithCopyWarning: \n",
      "A value is trying to be set on a copy of a slice from a DataFrame.\n",
      "Try using .loc[row_indexer,col_indexer] = value instead\n",
      "\n",
      "See the caveats in the documentation: https://pandas.pydata.org/pandas-docs/stable/user_guide/indexing.html#returning-a-view-versus-a-copy\n",
      "  self._setitem_single_column(loc, value, pi)\n"
     ]
    },
    {
     "name": "stderr",
     "output_type": "stream",
     "text": [
      "252it [3:09:41, 33.59s/it]"
     ]
    },
    {
     "name": "stdout",
     "output_type": "stream",
     "text": [
      "/Users/amandeep/Github/table-linker/tl_env/lib/python3.8/site-packages/pandas/core/indexing.py:1684: SettingWithCopyWarning: \n",
      "A value is trying to be set on a copy of a slice from a DataFrame.\n",
      "Try using .loc[row_indexer,col_indexer] = value instead\n",
      "\n",
      "See the caveats in the documentation: https://pandas.pydata.org/pandas-docs/stable/user_guide/indexing.html#returning-a-view-versus-a-copy\n",
      "  self.obj[key] = infer_fill_value(value)\n",
      "/Users/amandeep/Github/table-linker/tl_env/lib/python3.8/site-packages/pandas/core/indexing.py:1817: SettingWithCopyWarning: \n",
      "A value is trying to be set on a copy of a slice from a DataFrame.\n",
      "Try using .loc[row_indexer,col_indexer] = value instead\n",
      "\n",
      "See the caveats in the documentation: https://pandas.pydata.org/pandas-docs/stable/user_guide/indexing.html#returning-a-view-versus-a-copy\n",
      "  self._setitem_single_column(loc, value, pi)\n"
     ]
    },
    {
     "name": "stderr",
     "output_type": "stream",
     "text": [
      "253it [3:10:12, 32.74s/it]"
     ]
    },
    {
     "name": "stdout",
     "output_type": "stream",
     "text": [
      "/Users/amandeep/Github/table-linker/tl_env/lib/python3.8/site-packages/pandas/core/indexing.py:1684: SettingWithCopyWarning: \n",
      "A value is trying to be set on a copy of a slice from a DataFrame.\n",
      "Try using .loc[row_indexer,col_indexer] = value instead\n",
      "\n",
      "See the caveats in the documentation: https://pandas.pydata.org/pandas-docs/stable/user_guide/indexing.html#returning-a-view-versus-a-copy\n",
      "  self.obj[key] = infer_fill_value(value)\n",
      "/Users/amandeep/Github/table-linker/tl_env/lib/python3.8/site-packages/pandas/core/indexing.py:1817: SettingWithCopyWarning: \n",
      "A value is trying to be set on a copy of a slice from a DataFrame.\n",
      "Try using .loc[row_indexer,col_indexer] = value instead\n",
      "\n",
      "See the caveats in the documentation: https://pandas.pydata.org/pandas-docs/stable/user_guide/indexing.html#returning-a-view-versus-a-copy\n",
      "  self._setitem_single_column(loc, value, pi)\n"
     ]
    },
    {
     "name": "stderr",
     "output_type": "stream",
     "text": [
      "254it [3:11:27, 45.32s/it]"
     ]
    },
    {
     "name": "stdout",
     "output_type": "stream",
     "text": [
      "/Users/amandeep/Github/table-linker/tl_env/lib/python3.8/site-packages/pandas/core/indexing.py:1684: SettingWithCopyWarning: \n",
      "A value is trying to be set on a copy of a slice from a DataFrame.\n",
      "Try using .loc[row_indexer,col_indexer] = value instead\n",
      "\n",
      "See the caveats in the documentation: https://pandas.pydata.org/pandas-docs/stable/user_guide/indexing.html#returning-a-view-versus-a-copy\n",
      "  self.obj[key] = infer_fill_value(value)\n",
      "/Users/amandeep/Github/table-linker/tl_env/lib/python3.8/site-packages/pandas/core/indexing.py:1817: SettingWithCopyWarning: \n",
      "A value is trying to be set on a copy of a slice from a DataFrame.\n",
      "Try using .loc[row_indexer,col_indexer] = value instead\n",
      "\n",
      "See the caveats in the documentation: https://pandas.pydata.org/pandas-docs/stable/user_guide/indexing.html#returning-a-view-versus-a-copy\n",
      "  self._setitem_single_column(loc, value, pi)\n"
     ]
    },
    {
     "name": "stderr",
     "output_type": "stream",
     "text": [
      "255it [3:12:27, 49.77s/it]"
     ]
    },
    {
     "name": "stdout",
     "output_type": "stream",
     "text": [
      "/Users/amandeep/Github/table-linker/tl_env/lib/python3.8/site-packages/pandas/core/indexing.py:1684: SettingWithCopyWarning: \n",
      "A value is trying to be set on a copy of a slice from a DataFrame.\n",
      "Try using .loc[row_indexer,col_indexer] = value instead\n",
      "\n",
      "See the caveats in the documentation: https://pandas.pydata.org/pandas-docs/stable/user_guide/indexing.html#returning-a-view-versus-a-copy\n",
      "  self.obj[key] = infer_fill_value(value)\n",
      "/Users/amandeep/Github/table-linker/tl_env/lib/python3.8/site-packages/pandas/core/indexing.py:1817: SettingWithCopyWarning: \n",
      "A value is trying to be set on a copy of a slice from a DataFrame.\n",
      "Try using .loc[row_indexer,col_indexer] = value instead\n",
      "\n",
      "See the caveats in the documentation: https://pandas.pydata.org/pandas-docs/stable/user_guide/indexing.html#returning-a-view-versus-a-copy\n",
      "  self._setitem_single_column(loc, value, pi)\n"
     ]
    },
    {
     "name": "stderr",
     "output_type": "stream",
     "text": [
      "256it [3:12:56, 43.67s/it]"
     ]
    },
    {
     "name": "stdout",
     "output_type": "stream",
     "text": [
      "/Users/amandeep/Github/table-linker/tl_env/lib/python3.8/site-packages/pandas/core/indexing.py:1684: SettingWithCopyWarning: \n",
      "A value is trying to be set on a copy of a slice from a DataFrame.\n",
      "Try using .loc[row_indexer,col_indexer] = value instead\n",
      "\n",
      "See the caveats in the documentation: https://pandas.pydata.org/pandas-docs/stable/user_guide/indexing.html#returning-a-view-versus-a-copy\n",
      "  self.obj[key] = infer_fill_value(value)\n",
      "/Users/amandeep/Github/table-linker/tl_env/lib/python3.8/site-packages/pandas/core/indexing.py:1817: SettingWithCopyWarning: \n",
      "A value is trying to be set on a copy of a slice from a DataFrame.\n",
      "Try using .loc[row_indexer,col_indexer] = value instead\n",
      "\n",
      "See the caveats in the documentation: https://pandas.pydata.org/pandas-docs/stable/user_guide/indexing.html#returning-a-view-versus-a-copy\n",
      "  self._setitem_single_column(loc, value, pi)\n"
     ]
    },
    {
     "name": "stderr",
     "output_type": "stream",
     "text": [
      "257it [3:13:16, 36.42s/it]"
     ]
    },
    {
     "name": "stdout",
     "output_type": "stream",
     "text": [
      "/Users/amandeep/Github/table-linker/tl_env/lib/python3.8/site-packages/pandas/core/indexing.py:1684: SettingWithCopyWarning: \n",
      "A value is trying to be set on a copy of a slice from a DataFrame.\n",
      "Try using .loc[row_indexer,col_indexer] = value instead\n",
      "\n",
      "See the caveats in the documentation: https://pandas.pydata.org/pandas-docs/stable/user_guide/indexing.html#returning-a-view-versus-a-copy\n",
      "  self.obj[key] = infer_fill_value(value)\n",
      "/Users/amandeep/Github/table-linker/tl_env/lib/python3.8/site-packages/pandas/core/indexing.py:1817: SettingWithCopyWarning: \n",
      "A value is trying to be set on a copy of a slice from a DataFrame.\n",
      "Try using .loc[row_indexer,col_indexer] = value instead\n",
      "\n",
      "See the caveats in the documentation: https://pandas.pydata.org/pandas-docs/stable/user_guide/indexing.html#returning-a-view-versus-a-copy\n",
      "  self._setitem_single_column(loc, value, pi)\n"
     ]
    },
    {
     "name": "stderr",
     "output_type": "stream",
     "text": [
      "258it [3:15:06, 58.44s/it]"
     ]
    },
    {
     "name": "stdout",
     "output_type": "stream",
     "text": [
      "/Users/amandeep/Github/table-linker/tl_env/lib/python3.8/site-packages/pandas/core/indexing.py:1684: SettingWithCopyWarning: \n",
      "A value is trying to be set on a copy of a slice from a DataFrame.\n",
      "Try using .loc[row_indexer,col_indexer] = value instead\n",
      "\n",
      "See the caveats in the documentation: https://pandas.pydata.org/pandas-docs/stable/user_guide/indexing.html#returning-a-view-versus-a-copy\n",
      "  self.obj[key] = infer_fill_value(value)\n",
      "/Users/amandeep/Github/table-linker/tl_env/lib/python3.8/site-packages/pandas/core/indexing.py:1817: SettingWithCopyWarning: \n",
      "A value is trying to be set on a copy of a slice from a DataFrame.\n",
      "Try using .loc[row_indexer,col_indexer] = value instead\n",
      "\n",
      "See the caveats in the documentation: https://pandas.pydata.org/pandas-docs/stable/user_guide/indexing.html#returning-a-view-versus-a-copy\n",
      "  self._setitem_single_column(loc, value, pi)\n"
     ]
    },
    {
     "name": "stderr",
     "output_type": "stream",
     "text": [
      "259it [3:15:41, 51.48s/it]"
     ]
    },
    {
     "name": "stdout",
     "output_type": "stream",
     "text": [
      "/Users/amandeep/Github/table-linker/tl_env/lib/python3.8/site-packages/pandas/core/indexing.py:1684: SettingWithCopyWarning: \n",
      "A value is trying to be set on a copy of a slice from a DataFrame.\n",
      "Try using .loc[row_indexer,col_indexer] = value instead\n",
      "\n",
      "See the caveats in the documentation: https://pandas.pydata.org/pandas-docs/stable/user_guide/indexing.html#returning-a-view-versus-a-copy\n",
      "  self.obj[key] = infer_fill_value(value)\n",
      "/Users/amandeep/Github/table-linker/tl_env/lib/python3.8/site-packages/pandas/core/indexing.py:1817: SettingWithCopyWarning: \n",
      "A value is trying to be set on a copy of a slice from a DataFrame.\n",
      "Try using .loc[row_indexer,col_indexer] = value instead\n",
      "\n",
      "See the caveats in the documentation: https://pandas.pydata.org/pandas-docs/stable/user_guide/indexing.html#returning-a-view-versus-a-copy\n",
      "  self._setitem_single_column(loc, value, pi)\n"
     ]
    },
    {
     "name": "stderr",
     "output_type": "stream",
     "text": [
      "260it [3:16:03, 42.68s/it]"
     ]
    },
    {
     "name": "stdout",
     "output_type": "stream",
     "text": [
      "/Users/amandeep/Github/table-linker/tl_env/lib/python3.8/site-packages/pandas/core/indexing.py:1684: SettingWithCopyWarning: \n",
      "A value is trying to be set on a copy of a slice from a DataFrame.\n",
      "Try using .loc[row_indexer,col_indexer] = value instead\n",
      "\n",
      "See the caveats in the documentation: https://pandas.pydata.org/pandas-docs/stable/user_guide/indexing.html#returning-a-view-versus-a-copy\n",
      "  self.obj[key] = infer_fill_value(value)\n",
      "/Users/amandeep/Github/table-linker/tl_env/lib/python3.8/site-packages/pandas/core/indexing.py:1817: SettingWithCopyWarning: \n",
      "A value is trying to be set on a copy of a slice from a DataFrame.\n",
      "Try using .loc[row_indexer,col_indexer] = value instead\n",
      "\n",
      "See the caveats in the documentation: https://pandas.pydata.org/pandas-docs/stable/user_guide/indexing.html#returning-a-view-versus-a-copy\n",
      "  self._setitem_single_column(loc, value, pi)\n"
     ]
    },
    {
     "name": "stderr",
     "output_type": "stream",
     "text": [
      "261it [3:16:25, 36.44s/it]"
     ]
    },
    {
     "name": "stdout",
     "output_type": "stream",
     "text": [
      "/Users/amandeep/Github/table-linker/tl_env/lib/python3.8/site-packages/pandas/core/indexing.py:1684: SettingWithCopyWarning: \n",
      "A value is trying to be set on a copy of a slice from a DataFrame.\n",
      "Try using .loc[row_indexer,col_indexer] = value instead\n",
      "\n",
      "See the caveats in the documentation: https://pandas.pydata.org/pandas-docs/stable/user_guide/indexing.html#returning-a-view-versus-a-copy\n",
      "  self.obj[key] = infer_fill_value(value)\n",
      "/Users/amandeep/Github/table-linker/tl_env/lib/python3.8/site-packages/pandas/core/indexing.py:1817: SettingWithCopyWarning: \n",
      "A value is trying to be set on a copy of a slice from a DataFrame.\n",
      "Try using .loc[row_indexer,col_indexer] = value instead\n",
      "\n",
      "See the caveats in the documentation: https://pandas.pydata.org/pandas-docs/stable/user_guide/indexing.html#returning-a-view-versus-a-copy\n",
      "  self._setitem_single_column(loc, value, pi)\n"
     ]
    },
    {
     "name": "stderr",
     "output_type": "stream",
     "text": [
      "262it [3:16:55, 34.66s/it]"
     ]
    },
    {
     "name": "stdout",
     "output_type": "stream",
     "text": [
      "/Users/amandeep/Github/table-linker/tl_env/lib/python3.8/site-packages/pandas/core/indexing.py:1684: SettingWithCopyWarning: \n",
      "A value is trying to be set on a copy of a slice from a DataFrame.\n",
      "Try using .loc[row_indexer,col_indexer] = value instead\n",
      "\n",
      "See the caveats in the documentation: https://pandas.pydata.org/pandas-docs/stable/user_guide/indexing.html#returning-a-view-versus-a-copy\n",
      "  self.obj[key] = infer_fill_value(value)\n",
      "/Users/amandeep/Github/table-linker/tl_env/lib/python3.8/site-packages/pandas/core/indexing.py:1817: SettingWithCopyWarning: \n",
      "A value is trying to be set on a copy of a slice from a DataFrame.\n",
      "Try using .loc[row_indexer,col_indexer] = value instead\n",
      "\n",
      "See the caveats in the documentation: https://pandas.pydata.org/pandas-docs/stable/user_guide/indexing.html#returning-a-view-versus-a-copy\n",
      "  self._setitem_single_column(loc, value, pi)\n"
     ]
    },
    {
     "name": "stderr",
     "output_type": "stream",
     "text": [
      "263it [3:17:30, 34.68s/it]"
     ]
    },
    {
     "name": "stdout",
     "output_type": "stream",
     "text": [
      "/Users/amandeep/Github/table-linker/tl_env/lib/python3.8/site-packages/pandas/core/indexing.py:1684: SettingWithCopyWarning: \n",
      "A value is trying to be set on a copy of a slice from a DataFrame.\n",
      "Try using .loc[row_indexer,col_indexer] = value instead\n",
      "\n",
      "See the caveats in the documentation: https://pandas.pydata.org/pandas-docs/stable/user_guide/indexing.html#returning-a-view-versus-a-copy\n",
      "  self.obj[key] = infer_fill_value(value)\n",
      "/Users/amandeep/Github/table-linker/tl_env/lib/python3.8/site-packages/pandas/core/indexing.py:1817: SettingWithCopyWarning: \n",
      "A value is trying to be set on a copy of a slice from a DataFrame.\n",
      "Try using .loc[row_indexer,col_indexer] = value instead\n",
      "\n",
      "See the caveats in the documentation: https://pandas.pydata.org/pandas-docs/stable/user_guide/indexing.html#returning-a-view-versus-a-copy\n",
      "  self._setitem_single_column(loc, value, pi)\n"
     ]
    },
    {
     "name": "stderr",
     "output_type": "stream",
     "text": [
      "264it [3:17:50, 30.27s/it]"
     ]
    },
    {
     "name": "stdout",
     "output_type": "stream",
     "text": [
      "/Users/amandeep/Github/table-linker/tl_env/lib/python3.8/site-packages/pandas/core/indexing.py:1684: SettingWithCopyWarning: \n",
      "A value is trying to be set on a copy of a slice from a DataFrame.\n",
      "Try using .loc[row_indexer,col_indexer] = value instead\n",
      "\n",
      "See the caveats in the documentation: https://pandas.pydata.org/pandas-docs/stable/user_guide/indexing.html#returning-a-view-versus-a-copy\n",
      "  self.obj[key] = infer_fill_value(value)\n",
      "/Users/amandeep/Github/table-linker/tl_env/lib/python3.8/site-packages/pandas/core/indexing.py:1817: SettingWithCopyWarning: \n",
      "A value is trying to be set on a copy of a slice from a DataFrame.\n",
      "Try using .loc[row_indexer,col_indexer] = value instead\n",
      "\n",
      "See the caveats in the documentation: https://pandas.pydata.org/pandas-docs/stable/user_guide/indexing.html#returning-a-view-versus-a-copy\n",
      "  self._setitem_single_column(loc, value, pi)\n"
     ]
    },
    {
     "name": "stderr",
     "output_type": "stream",
     "text": [
      "265it [3:18:11, 27.44s/it]"
     ]
    },
    {
     "name": "stdout",
     "output_type": "stream",
     "text": [
      "/Users/amandeep/Github/table-linker/tl_env/lib/python3.8/site-packages/pandas/core/indexing.py:1684: SettingWithCopyWarning: \n",
      "A value is trying to be set on a copy of a slice from a DataFrame.\n",
      "Try using .loc[row_indexer,col_indexer] = value instead\n",
      "\n",
      "See the caveats in the documentation: https://pandas.pydata.org/pandas-docs/stable/user_guide/indexing.html#returning-a-view-versus-a-copy\n",
      "  self.obj[key] = infer_fill_value(value)\n",
      "/Users/amandeep/Github/table-linker/tl_env/lib/python3.8/site-packages/pandas/core/indexing.py:1817: SettingWithCopyWarning: \n",
      "A value is trying to be set on a copy of a slice from a DataFrame.\n",
      "Try using .loc[row_indexer,col_indexer] = value instead\n",
      "\n",
      "See the caveats in the documentation: https://pandas.pydata.org/pandas-docs/stable/user_guide/indexing.html#returning-a-view-versus-a-copy\n",
      "  self._setitem_single_column(loc, value, pi)\n"
     ]
    },
    {
     "name": "stderr",
     "output_type": "stream",
     "text": [
      "266it [3:18:38, 27.44s/it]"
     ]
    },
    {
     "name": "stdout",
     "output_type": "stream",
     "text": [
      "/Users/amandeep/Github/table-linker/tl/cli/pgt-semantic-tf-idf.py:46: DtypeWarning: Columns (29,30) have mixed types.Specify dtype option on import or set low_memory=False.\n",
      "  tfidf_unit = SemanticsFeature(kwargs['output_column_name'],\n",
      "/Users/amandeep/Github/table-linker/tl/cli/pgt-semantic-tf-idf.py:46: DtypeWarning: Columns (29,30,34) have mixed types.Specify dtype option on import or set low_memory=False.\n",
      "  tfidf_unit = SemanticsFeature(kwargs['output_column_name'],\n",
      "/Users/amandeep/Github/table-linker/tl_env/lib/python3.8/site-packages/pandas/core/indexing.py:1684: SettingWithCopyWarning: \n",
      "A value is trying to be set on a copy of a slice from a DataFrame.\n",
      "Try using .loc[row_indexer,col_indexer] = value instead\n",
      "\n",
      "See the caveats in the documentation: https://pandas.pydata.org/pandas-docs/stable/user_guide/indexing.html#returning-a-view-versus-a-copy\n",
      "  self.obj[key] = infer_fill_value(value)\n",
      "/Users/amandeep/Github/table-linker/tl_env/lib/python3.8/site-packages/pandas/core/indexing.py:1817: SettingWithCopyWarning: \n",
      "A value is trying to be set on a copy of a slice from a DataFrame.\n",
      "Try using .loc[row_indexer,col_indexer] = value instead\n",
      "\n",
      "See the caveats in the documentation: https://pandas.pydata.org/pandas-docs/stable/user_guide/indexing.html#returning-a-view-versus-a-copy\n",
      "  self._setitem_single_column(loc, value, pi)\n"
     ]
    },
    {
     "name": "stderr",
     "output_type": "stream",
     "text": [
      "267it [3:20:21, 49.88s/it]"
     ]
    },
    {
     "name": "stdout",
     "output_type": "stream",
     "text": [
      "/Users/amandeep/Github/table-linker/tl_env/lib/python3.8/site-packages/pandas/core/indexing.py:1684: SettingWithCopyWarning: \n",
      "A value is trying to be set on a copy of a slice from a DataFrame.\n",
      "Try using .loc[row_indexer,col_indexer] = value instead\n",
      "\n",
      "See the caveats in the documentation: https://pandas.pydata.org/pandas-docs/stable/user_guide/indexing.html#returning-a-view-versus-a-copy\n",
      "  self.obj[key] = infer_fill_value(value)\n",
      "/Users/amandeep/Github/table-linker/tl_env/lib/python3.8/site-packages/pandas/core/indexing.py:1817: SettingWithCopyWarning: \n",
      "A value is trying to be set on a copy of a slice from a DataFrame.\n",
      "Try using .loc[row_indexer,col_indexer] = value instead\n",
      "\n",
      "See the caveats in the documentation: https://pandas.pydata.org/pandas-docs/stable/user_guide/indexing.html#returning-a-view-versus-a-copy\n",
      "  self._setitem_single_column(loc, value, pi)\n"
     ]
    },
    {
     "name": "stderr",
     "output_type": "stream",
     "text": [
      "268it [3:20:43, 41.47s/it]"
     ]
    },
    {
     "name": "stdout",
     "output_type": "stream",
     "text": [
      "/Users/amandeep/Github/table-linker/tl_env/lib/python3.8/site-packages/pandas/core/indexing.py:1684: SettingWithCopyWarning: \n",
      "A value is trying to be set on a copy of a slice from a DataFrame.\n",
      "Try using .loc[row_indexer,col_indexer] = value instead\n",
      "\n",
      "See the caveats in the documentation: https://pandas.pydata.org/pandas-docs/stable/user_guide/indexing.html#returning-a-view-versus-a-copy\n",
      "  self.obj[key] = infer_fill_value(value)\n",
      "/Users/amandeep/Github/table-linker/tl_env/lib/python3.8/site-packages/pandas/core/indexing.py:1817: SettingWithCopyWarning: \n",
      "A value is trying to be set on a copy of a slice from a DataFrame.\n",
      "Try using .loc[row_indexer,col_indexer] = value instead\n",
      "\n",
      "See the caveats in the documentation: https://pandas.pydata.org/pandas-docs/stable/user_guide/indexing.html#returning-a-view-versus-a-copy\n",
      "  self._setitem_single_column(loc, value, pi)\n"
     ]
    },
    {
     "name": "stderr",
     "output_type": "stream",
     "text": [
      "269it [3:21:32, 43.92s/it]"
     ]
    },
    {
     "name": "stdout",
     "output_type": "stream",
     "text": [
      "/Users/amandeep/Github/table-linker/tl_env/lib/python3.8/site-packages/pandas/core/indexing.py:1684: SettingWithCopyWarning: \n",
      "A value is trying to be set on a copy of a slice from a DataFrame.\n",
      "Try using .loc[row_indexer,col_indexer] = value instead\n",
      "\n",
      "See the caveats in the documentation: https://pandas.pydata.org/pandas-docs/stable/user_guide/indexing.html#returning-a-view-versus-a-copy\n",
      "  self.obj[key] = infer_fill_value(value)\n",
      "/Users/amandeep/Github/table-linker/tl_env/lib/python3.8/site-packages/pandas/core/indexing.py:1817: SettingWithCopyWarning: \n",
      "A value is trying to be set on a copy of a slice from a DataFrame.\n",
      "Try using .loc[row_indexer,col_indexer] = value instead\n",
      "\n",
      "See the caveats in the documentation: https://pandas.pydata.org/pandas-docs/stable/user_guide/indexing.html#returning-a-view-versus-a-copy\n",
      "  self._setitem_single_column(loc, value, pi)\n"
     ]
    },
    {
     "name": "stderr",
     "output_type": "stream",
     "text": [
      "270it [3:22:03, 40.07s/it]"
     ]
    },
    {
     "name": "stdout",
     "output_type": "stream",
     "text": [
      "/Users/amandeep/Github/table-linker/tl_env/lib/python3.8/site-packages/pandas/core/indexing.py:1684: SettingWithCopyWarning: \n",
      "A value is trying to be set on a copy of a slice from a DataFrame.\n",
      "Try using .loc[row_indexer,col_indexer] = value instead\n",
      "\n",
      "See the caveats in the documentation: https://pandas.pydata.org/pandas-docs/stable/user_guide/indexing.html#returning-a-view-versus-a-copy\n",
      "  self.obj[key] = infer_fill_value(value)\n",
      "/Users/amandeep/Github/table-linker/tl_env/lib/python3.8/site-packages/pandas/core/indexing.py:1817: SettingWithCopyWarning: \n",
      "A value is trying to be set on a copy of a slice from a DataFrame.\n",
      "Try using .loc[row_indexer,col_indexer] = value instead\n",
      "\n",
      "See the caveats in the documentation: https://pandas.pydata.org/pandas-docs/stable/user_guide/indexing.html#returning-a-view-versus-a-copy\n",
      "  self._setitem_single_column(loc, value, pi)\n"
     ]
    },
    {
     "name": "stderr",
     "output_type": "stream",
     "text": [
      "271it [3:22:35, 37.50s/it]"
     ]
    },
    {
     "name": "stdout",
     "output_type": "stream",
     "text": [
      "/Users/amandeep/Github/table-linker/tl_env/lib/python3.8/site-packages/pandas/core/indexing.py:1684: SettingWithCopyWarning: \n",
      "A value is trying to be set on a copy of a slice from a DataFrame.\n",
      "Try using .loc[row_indexer,col_indexer] = value instead\n",
      "\n",
      "See the caveats in the documentation: https://pandas.pydata.org/pandas-docs/stable/user_guide/indexing.html#returning-a-view-versus-a-copy\n",
      "  self.obj[key] = infer_fill_value(value)\n",
      "/Users/amandeep/Github/table-linker/tl_env/lib/python3.8/site-packages/pandas/core/indexing.py:1817: SettingWithCopyWarning: \n",
      "A value is trying to be set on a copy of a slice from a DataFrame.\n",
      "Try using .loc[row_indexer,col_indexer] = value instead\n",
      "\n",
      "See the caveats in the documentation: https://pandas.pydata.org/pandas-docs/stable/user_guide/indexing.html#returning-a-view-versus-a-copy\n",
      "  self._setitem_single_column(loc, value, pi)\n"
     ]
    },
    {
     "name": "stderr",
     "output_type": "stream",
     "text": [
      "272it [3:23:21, 40.06s/it]"
     ]
    },
    {
     "name": "stdout",
     "output_type": "stream",
     "text": [
      "/Users/amandeep/Github/table-linker/tl_env/lib/python3.8/site-packages/pandas/core/indexing.py:1684: SettingWithCopyWarning: \n",
      "A value is trying to be set on a copy of a slice from a DataFrame.\n",
      "Try using .loc[row_indexer,col_indexer] = value instead\n",
      "\n",
      "See the caveats in the documentation: https://pandas.pydata.org/pandas-docs/stable/user_guide/indexing.html#returning-a-view-versus-a-copy\n",
      "  self.obj[key] = infer_fill_value(value)\n",
      "/Users/amandeep/Github/table-linker/tl_env/lib/python3.8/site-packages/pandas/core/indexing.py:1817: SettingWithCopyWarning: \n",
      "A value is trying to be set on a copy of a slice from a DataFrame.\n",
      "Try using .loc[row_indexer,col_indexer] = value instead\n",
      "\n",
      "See the caveats in the documentation: https://pandas.pydata.org/pandas-docs/stable/user_guide/indexing.html#returning-a-view-versus-a-copy\n",
      "  self._setitem_single_column(loc, value, pi)\n"
     ]
    },
    {
     "name": "stderr",
     "output_type": "stream",
     "text": [
      "273it [3:24:37, 51.02s/it]"
     ]
    },
    {
     "name": "stdout",
     "output_type": "stream",
     "text": [
      "/Users/amandeep/Github/table-linker/tl_env/lib/python3.8/site-packages/pandas/core/indexing.py:1684: SettingWithCopyWarning: \n",
      "A value is trying to be set on a copy of a slice from a DataFrame.\n",
      "Try using .loc[row_indexer,col_indexer] = value instead\n",
      "\n",
      "See the caveats in the documentation: https://pandas.pydata.org/pandas-docs/stable/user_guide/indexing.html#returning-a-view-versus-a-copy\n",
      "  self.obj[key] = infer_fill_value(value)\n",
      "/Users/amandeep/Github/table-linker/tl_env/lib/python3.8/site-packages/pandas/core/indexing.py:1817: SettingWithCopyWarning: \n",
      "A value is trying to be set on a copy of a slice from a DataFrame.\n",
      "Try using .loc[row_indexer,col_indexer] = value instead\n",
      "\n",
      "See the caveats in the documentation: https://pandas.pydata.org/pandas-docs/stable/user_guide/indexing.html#returning-a-view-versus-a-copy\n",
      "  self._setitem_single_column(loc, value, pi)\n"
     ]
    },
    {
     "name": "stderr",
     "output_type": "stream",
     "text": [
      "274it [3:25:14, 46.57s/it]"
     ]
    },
    {
     "name": "stdout",
     "output_type": "stream",
     "text": [
      "/Users/amandeep/Github/table-linker/tl_env/lib/python3.8/site-packages/pandas/core/indexing.py:1684: SettingWithCopyWarning: \n",
      "A value is trying to be set on a copy of a slice from a DataFrame.\n",
      "Try using .loc[row_indexer,col_indexer] = value instead\n",
      "\n",
      "See the caveats in the documentation: https://pandas.pydata.org/pandas-docs/stable/user_guide/indexing.html#returning-a-view-versus-a-copy\n",
      "  self.obj[key] = infer_fill_value(value)\n",
      "/Users/amandeep/Github/table-linker/tl_env/lib/python3.8/site-packages/pandas/core/indexing.py:1817: SettingWithCopyWarning: \n",
      "A value is trying to be set on a copy of a slice from a DataFrame.\n",
      "Try using .loc[row_indexer,col_indexer] = value instead\n",
      "\n",
      "See the caveats in the documentation: https://pandas.pydata.org/pandas-docs/stable/user_guide/indexing.html#returning-a-view-versus-a-copy\n",
      "  self._setitem_single_column(loc, value, pi)\n"
     ]
    },
    {
     "name": "stderr",
     "output_type": "stream",
     "text": [
      "275it [3:25:34, 38.73s/it]"
     ]
    },
    {
     "name": "stdout",
     "output_type": "stream",
     "text": [
      "/Users/amandeep/Github/table-linker/tl_env/lib/python3.8/site-packages/pandas/core/indexing.py:1684: SettingWithCopyWarning: \n",
      "A value is trying to be set on a copy of a slice from a DataFrame.\n",
      "Try using .loc[row_indexer,col_indexer] = value instead\n",
      "\n",
      "See the caveats in the documentation: https://pandas.pydata.org/pandas-docs/stable/user_guide/indexing.html#returning-a-view-versus-a-copy\n",
      "  self.obj[key] = infer_fill_value(value)\n",
      "/Users/amandeep/Github/table-linker/tl_env/lib/python3.8/site-packages/pandas/core/indexing.py:1817: SettingWithCopyWarning: \n",
      "A value is trying to be set on a copy of a slice from a DataFrame.\n",
      "Try using .loc[row_indexer,col_indexer] = value instead\n",
      "\n",
      "See the caveats in the documentation: https://pandas.pydata.org/pandas-docs/stable/user_guide/indexing.html#returning-a-view-versus-a-copy\n",
      "  self._setitem_single_column(loc, value, pi)\n"
     ]
    },
    {
     "name": "stderr",
     "output_type": "stream",
     "text": [
      "276it [3:26:39, 46.61s/it]"
     ]
    },
    {
     "name": "stdout",
     "output_type": "stream",
     "text": [
      "/Users/amandeep/Github/table-linker/tl_env/lib/python3.8/site-packages/pandas/core/indexing.py:1684: SettingWithCopyWarning: \n",
      "A value is trying to be set on a copy of a slice from a DataFrame.\n",
      "Try using .loc[row_indexer,col_indexer] = value instead\n",
      "\n",
      "See the caveats in the documentation: https://pandas.pydata.org/pandas-docs/stable/user_guide/indexing.html#returning-a-view-versus-a-copy\n",
      "  self.obj[key] = infer_fill_value(value)\n",
      "/Users/amandeep/Github/table-linker/tl_env/lib/python3.8/site-packages/pandas/core/indexing.py:1817: SettingWithCopyWarning: \n",
      "A value is trying to be set on a copy of a slice from a DataFrame.\n",
      "Try using .loc[row_indexer,col_indexer] = value instead\n",
      "\n",
      "See the caveats in the documentation: https://pandas.pydata.org/pandas-docs/stable/user_guide/indexing.html#returning-a-view-versus-a-copy\n",
      "  self._setitem_single_column(loc, value, pi)\n"
     ]
    },
    {
     "name": "stderr",
     "output_type": "stream",
     "text": [
      "277it [3:27:30, 47.97s/it]"
     ]
    },
    {
     "name": "stdout",
     "output_type": "stream",
     "text": [
      "/Users/amandeep/Github/table-linker/tl_env/lib/python3.8/site-packages/pandas/core/indexing.py:1684: SettingWithCopyWarning: \n",
      "A value is trying to be set on a copy of a slice from a DataFrame.\n",
      "Try using .loc[row_indexer,col_indexer] = value instead\n",
      "\n",
      "See the caveats in the documentation: https://pandas.pydata.org/pandas-docs/stable/user_guide/indexing.html#returning-a-view-versus-a-copy\n",
      "  self.obj[key] = infer_fill_value(value)\n",
      "/Users/amandeep/Github/table-linker/tl_env/lib/python3.8/site-packages/pandas/core/indexing.py:1817: SettingWithCopyWarning: \n",
      "A value is trying to be set on a copy of a slice from a DataFrame.\n",
      "Try using .loc[row_indexer,col_indexer] = value instead\n",
      "\n",
      "See the caveats in the documentation: https://pandas.pydata.org/pandas-docs/stable/user_guide/indexing.html#returning-a-view-versus-a-copy\n",
      "  self._setitem_single_column(loc, value, pi)\n"
     ]
    },
    {
     "name": "stderr",
     "output_type": "stream",
     "text": [
      "278it [3:28:18, 47.95s/it]"
     ]
    },
    {
     "name": "stdout",
     "output_type": "stream",
     "text": [
      "/Users/amandeep/Github/table-linker/tl_env/lib/python3.8/site-packages/pandas/core/indexing.py:1684: SettingWithCopyWarning: \n",
      "A value is trying to be set on a copy of a slice from a DataFrame.\n",
      "Try using .loc[row_indexer,col_indexer] = value instead\n",
      "\n",
      "See the caveats in the documentation: https://pandas.pydata.org/pandas-docs/stable/user_guide/indexing.html#returning-a-view-versus-a-copy\n",
      "  self.obj[key] = infer_fill_value(value)\n",
      "/Users/amandeep/Github/table-linker/tl_env/lib/python3.8/site-packages/pandas/core/indexing.py:1817: SettingWithCopyWarning: \n",
      "A value is trying to be set on a copy of a slice from a DataFrame.\n",
      "Try using .loc[row_indexer,col_indexer] = value instead\n",
      "\n",
      "See the caveats in the documentation: https://pandas.pydata.org/pandas-docs/stable/user_guide/indexing.html#returning-a-view-versus-a-copy\n",
      "  self._setitem_single_column(loc, value, pi)\n"
     ]
    },
    {
     "name": "stderr",
     "output_type": "stream",
     "text": [
      "279it [3:28:40, 40.16s/it]"
     ]
    },
    {
     "name": "stdout",
     "output_type": "stream",
     "text": [
      "/Users/amandeep/Github/table-linker/tl_env/lib/python3.8/site-packages/pandas/core/indexing.py:1684: SettingWithCopyWarning: \n",
      "A value is trying to be set on a copy of a slice from a DataFrame.\n",
      "Try using .loc[row_indexer,col_indexer] = value instead\n",
      "\n",
      "See the caveats in the documentation: https://pandas.pydata.org/pandas-docs/stable/user_guide/indexing.html#returning-a-view-versus-a-copy\n",
      "  self.obj[key] = infer_fill_value(value)\n",
      "/Users/amandeep/Github/table-linker/tl_env/lib/python3.8/site-packages/pandas/core/indexing.py:1817: SettingWithCopyWarning: \n",
      "A value is trying to be set on a copy of a slice from a DataFrame.\n",
      "Try using .loc[row_indexer,col_indexer] = value instead\n",
      "\n",
      "See the caveats in the documentation: https://pandas.pydata.org/pandas-docs/stable/user_guide/indexing.html#returning-a-view-versus-a-copy\n",
      "  self._setitem_single_column(loc, value, pi)\n"
     ]
    },
    {
     "name": "stderr",
     "output_type": "stream",
     "text": [
      "280it [3:29:01, 34.39s/it]"
     ]
    },
    {
     "name": "stdout",
     "output_type": "stream",
     "text": [
      "/Users/amandeep/Github/table-linker/tl_env/lib/python3.8/site-packages/pandas/core/indexing.py:1684: SettingWithCopyWarning: \n",
      "A value is trying to be set on a copy of a slice from a DataFrame.\n",
      "Try using .loc[row_indexer,col_indexer] = value instead\n",
      "\n",
      "See the caveats in the documentation: https://pandas.pydata.org/pandas-docs/stable/user_guide/indexing.html#returning-a-view-versus-a-copy\n",
      "  self.obj[key] = infer_fill_value(value)\n",
      "/Users/amandeep/Github/table-linker/tl_env/lib/python3.8/site-packages/pandas/core/indexing.py:1817: SettingWithCopyWarning: \n",
      "A value is trying to be set on a copy of a slice from a DataFrame.\n",
      "Try using .loc[row_indexer,col_indexer] = value instead\n",
      "\n",
      "See the caveats in the documentation: https://pandas.pydata.org/pandas-docs/stable/user_guide/indexing.html#returning-a-view-versus-a-copy\n",
      "  self._setitem_single_column(loc, value, pi)\n"
     ]
    },
    {
     "name": "stderr",
     "output_type": "stream",
     "text": [
      "281it [3:29:22, 30.40s/it]"
     ]
    },
    {
     "name": "stdout",
     "output_type": "stream",
     "text": [
      "/Users/amandeep/Github/table-linker/tl_env/lib/python3.8/site-packages/pandas/core/indexing.py:1684: SettingWithCopyWarning: \n",
      "A value is trying to be set on a copy of a slice from a DataFrame.\n",
      "Try using .loc[row_indexer,col_indexer] = value instead\n",
      "\n",
      "See the caveats in the documentation: https://pandas.pydata.org/pandas-docs/stable/user_guide/indexing.html#returning-a-view-versus-a-copy\n",
      "  self.obj[key] = infer_fill_value(value)\n",
      "/Users/amandeep/Github/table-linker/tl_env/lib/python3.8/site-packages/pandas/core/indexing.py:1817: SettingWithCopyWarning: \n",
      "A value is trying to be set on a copy of a slice from a DataFrame.\n",
      "Try using .loc[row_indexer,col_indexer] = value instead\n",
      "\n",
      "See the caveats in the documentation: https://pandas.pydata.org/pandas-docs/stable/user_guide/indexing.html#returning-a-view-versus-a-copy\n",
      "  self._setitem_single_column(loc, value, pi)\n"
     ]
    },
    {
     "name": "stderr",
     "output_type": "stream",
     "text": [
      "282it [3:29:42, 27.34s/it]"
     ]
    },
    {
     "name": "stdout",
     "output_type": "stream",
     "text": [
      "/Users/amandeep/Github/table-linker/tl_env/lib/python3.8/site-packages/pandas/core/indexing.py:1684: SettingWithCopyWarning: \n",
      "A value is trying to be set on a copy of a slice from a DataFrame.\n",
      "Try using .loc[row_indexer,col_indexer] = value instead\n",
      "\n",
      "See the caveats in the documentation: https://pandas.pydata.org/pandas-docs/stable/user_guide/indexing.html#returning-a-view-versus-a-copy\n",
      "  self.obj[key] = infer_fill_value(value)\n",
      "/Users/amandeep/Github/table-linker/tl_env/lib/python3.8/site-packages/pandas/core/indexing.py:1817: SettingWithCopyWarning: \n",
      "A value is trying to be set on a copy of a slice from a DataFrame.\n",
      "Try using .loc[row_indexer,col_indexer] = value instead\n",
      "\n",
      "See the caveats in the documentation: https://pandas.pydata.org/pandas-docs/stable/user_guide/indexing.html#returning-a-view-versus-a-copy\n",
      "  self._setitem_single_column(loc, value, pi)\n"
     ]
    },
    {
     "name": "stderr",
     "output_type": "stream",
     "text": [
      "283it [3:30:19, 30.06s/it]"
     ]
    },
    {
     "name": "stdout",
     "output_type": "stream",
     "text": [
      "/Users/amandeep/Github/table-linker/tl_env/lib/python3.8/site-packages/pandas/core/indexing.py:1684: SettingWithCopyWarning: \n",
      "A value is trying to be set on a copy of a slice from a DataFrame.\n",
      "Try using .loc[row_indexer,col_indexer] = value instead\n",
      "\n",
      "See the caveats in the documentation: https://pandas.pydata.org/pandas-docs/stable/user_guide/indexing.html#returning-a-view-versus-a-copy\n",
      "  self.obj[key] = infer_fill_value(value)\n",
      "/Users/amandeep/Github/table-linker/tl_env/lib/python3.8/site-packages/pandas/core/indexing.py:1817: SettingWithCopyWarning: \n",
      "A value is trying to be set on a copy of a slice from a DataFrame.\n",
      "Try using .loc[row_indexer,col_indexer] = value instead\n",
      "\n",
      "See the caveats in the documentation: https://pandas.pydata.org/pandas-docs/stable/user_guide/indexing.html#returning-a-view-versus-a-copy\n",
      "  self._setitem_single_column(loc, value, pi)\n"
     ]
    },
    {
     "name": "stderr",
     "output_type": "stream",
     "text": [
      "284it [3:30:46, 29.13s/it]"
     ]
    },
    {
     "name": "stdout",
     "output_type": "stream",
     "text": [
      "/Users/amandeep/Github/table-linker/tl_env/lib/python3.8/site-packages/pandas/core/indexing.py:1684: SettingWithCopyWarning: \n",
      "A value is trying to be set on a copy of a slice from a DataFrame.\n",
      "Try using .loc[row_indexer,col_indexer] = value instead\n",
      "\n",
      "See the caveats in the documentation: https://pandas.pydata.org/pandas-docs/stable/user_guide/indexing.html#returning-a-view-versus-a-copy\n",
      "  self.obj[key] = infer_fill_value(value)\n",
      "/Users/amandeep/Github/table-linker/tl_env/lib/python3.8/site-packages/pandas/core/indexing.py:1817: SettingWithCopyWarning: \n",
      "A value is trying to be set on a copy of a slice from a DataFrame.\n",
      "Try using .loc[row_indexer,col_indexer] = value instead\n",
      "\n",
      "See the caveats in the documentation: https://pandas.pydata.org/pandas-docs/stable/user_guide/indexing.html#returning-a-view-versus-a-copy\n",
      "  self._setitem_single_column(loc, value, pi)\n"
     ]
    },
    {
     "name": "stderr",
     "output_type": "stream",
     "text": [
      "285it [3:31:38, 36.02s/it]"
     ]
    },
    {
     "name": "stdout",
     "output_type": "stream",
     "text": [
      "/Users/amandeep/Github/table-linker/tl_env/lib/python3.8/site-packages/pandas/core/indexing.py:1684: SettingWithCopyWarning: \n",
      "A value is trying to be set on a copy of a slice from a DataFrame.\n",
      "Try using .loc[row_indexer,col_indexer] = value instead\n",
      "\n",
      "See the caveats in the documentation: https://pandas.pydata.org/pandas-docs/stable/user_guide/indexing.html#returning-a-view-versus-a-copy\n",
      "  self.obj[key] = infer_fill_value(value)\n",
      "/Users/amandeep/Github/table-linker/tl_env/lib/python3.8/site-packages/pandas/core/indexing.py:1817: SettingWithCopyWarning: \n",
      "A value is trying to be set on a copy of a slice from a DataFrame.\n",
      "Try using .loc[row_indexer,col_indexer] = value instead\n",
      "\n",
      "See the caveats in the documentation: https://pandas.pydata.org/pandas-docs/stable/user_guide/indexing.html#returning-a-view-versus-a-copy\n",
      "  self._setitem_single_column(loc, value, pi)\n"
     ]
    },
    {
     "name": "stderr",
     "output_type": "stream",
     "text": [
      "286it [3:31:57, 31.03s/it]"
     ]
    },
    {
     "name": "stdout",
     "output_type": "stream",
     "text": [
      "/Users/amandeep/Github/table-linker/tl_env/lib/python3.8/site-packages/pandas/core/indexing.py:1684: SettingWithCopyWarning: \n",
      "A value is trying to be set on a copy of a slice from a DataFrame.\n",
      "Try using .loc[row_indexer,col_indexer] = value instead\n",
      "\n",
      "See the caveats in the documentation: https://pandas.pydata.org/pandas-docs/stable/user_guide/indexing.html#returning-a-view-versus-a-copy\n",
      "  self.obj[key] = infer_fill_value(value)\n",
      "/Users/amandeep/Github/table-linker/tl_env/lib/python3.8/site-packages/pandas/core/indexing.py:1817: SettingWithCopyWarning: \n",
      "A value is trying to be set on a copy of a slice from a DataFrame.\n",
      "Try using .loc[row_indexer,col_indexer] = value instead\n",
      "\n",
      "See the caveats in the documentation: https://pandas.pydata.org/pandas-docs/stable/user_guide/indexing.html#returning-a-view-versus-a-copy\n",
      "  self._setitem_single_column(loc, value, pi)\n"
     ]
    },
    {
     "name": "stderr",
     "output_type": "stream",
     "text": [
      "287it [3:33:57, 57.74s/it]"
     ]
    },
    {
     "name": "stdout",
     "output_type": "stream",
     "text": [
      "/Users/amandeep/Github/table-linker/tl_env/lib/python3.8/site-packages/pandas/core/indexing.py:1684: SettingWithCopyWarning: \n",
      "A value is trying to be set on a copy of a slice from a DataFrame.\n",
      "Try using .loc[row_indexer,col_indexer] = value instead\n",
      "\n",
      "See the caveats in the documentation: https://pandas.pydata.org/pandas-docs/stable/user_guide/indexing.html#returning-a-view-versus-a-copy\n",
      "  self.obj[key] = infer_fill_value(value)\n",
      "/Users/amandeep/Github/table-linker/tl_env/lib/python3.8/site-packages/pandas/core/indexing.py:1817: SettingWithCopyWarning: \n",
      "A value is trying to be set on a copy of a slice from a DataFrame.\n",
      "Try using .loc[row_indexer,col_indexer] = value instead\n",
      "\n",
      "See the caveats in the documentation: https://pandas.pydata.org/pandas-docs/stable/user_guide/indexing.html#returning-a-view-versus-a-copy\n",
      "  self._setitem_single_column(loc, value, pi)\n"
     ]
    },
    {
     "name": "stderr",
     "output_type": "stream",
     "text": [
      "288it [3:34:54, 57.34s/it]"
     ]
    },
    {
     "name": "stdout",
     "output_type": "stream",
     "text": [
      "/Users/amandeep/Github/table-linker/tl_env/lib/python3.8/site-packages/pandas/core/indexing.py:1684: SettingWithCopyWarning: \n",
      "A value is trying to be set on a copy of a slice from a DataFrame.\n",
      "Try using .loc[row_indexer,col_indexer] = value instead\n",
      "\n",
      "See the caveats in the documentation: https://pandas.pydata.org/pandas-docs/stable/user_guide/indexing.html#returning-a-view-versus-a-copy\n",
      "  self.obj[key] = infer_fill_value(value)\n",
      "/Users/amandeep/Github/table-linker/tl_env/lib/python3.8/site-packages/pandas/core/indexing.py:1817: SettingWithCopyWarning: \n",
      "A value is trying to be set on a copy of a slice from a DataFrame.\n",
      "Try using .loc[row_indexer,col_indexer] = value instead\n",
      "\n",
      "See the caveats in the documentation: https://pandas.pydata.org/pandas-docs/stable/user_guide/indexing.html#returning-a-view-versus-a-copy\n",
      "  self._setitem_single_column(loc, value, pi)\n"
     ]
    },
    {
     "name": "stderr",
     "output_type": "stream",
     "text": [
      "289it [3:35:25, 49.44s/it]"
     ]
    },
    {
     "name": "stdout",
     "output_type": "stream",
     "text": [
      "/Users/amandeep/Github/table-linker/tl_env/lib/python3.8/site-packages/pandas/core/indexing.py:1684: SettingWithCopyWarning: \n",
      "A value is trying to be set on a copy of a slice from a DataFrame.\n",
      "Try using .loc[row_indexer,col_indexer] = value instead\n",
      "\n",
      "See the caveats in the documentation: https://pandas.pydata.org/pandas-docs/stable/user_guide/indexing.html#returning-a-view-versus-a-copy\n",
      "  self.obj[key] = infer_fill_value(value)\n",
      "/Users/amandeep/Github/table-linker/tl_env/lib/python3.8/site-packages/pandas/core/indexing.py:1817: SettingWithCopyWarning: \n",
      "A value is trying to be set on a copy of a slice from a DataFrame.\n",
      "Try using .loc[row_indexer,col_indexer] = value instead\n",
      "\n",
      "See the caveats in the documentation: https://pandas.pydata.org/pandas-docs/stable/user_guide/indexing.html#returning-a-view-versus-a-copy\n",
      "  self._setitem_single_column(loc, value, pi)\n"
     ]
    },
    {
     "name": "stderr",
     "output_type": "stream",
     "text": [
      "290it [3:36:14, 49.47s/it]"
     ]
    },
    {
     "name": "stdout",
     "output_type": "stream",
     "text": [
      "/Users/amandeep/Github/table-linker/tl_env/lib/python3.8/site-packages/pandas/core/indexing.py:1684: SettingWithCopyWarning: \n",
      "A value is trying to be set on a copy of a slice from a DataFrame.\n",
      "Try using .loc[row_indexer,col_indexer] = value instead\n",
      "\n",
      "See the caveats in the documentation: https://pandas.pydata.org/pandas-docs/stable/user_guide/indexing.html#returning-a-view-versus-a-copy\n",
      "  self.obj[key] = infer_fill_value(value)\n",
      "/Users/amandeep/Github/table-linker/tl_env/lib/python3.8/site-packages/pandas/core/indexing.py:1817: SettingWithCopyWarning: \n",
      "A value is trying to be set on a copy of a slice from a DataFrame.\n",
      "Try using .loc[row_indexer,col_indexer] = value instead\n",
      "\n",
      "See the caveats in the documentation: https://pandas.pydata.org/pandas-docs/stable/user_guide/indexing.html#returning-a-view-versus-a-copy\n",
      "  self._setitem_single_column(loc, value, pi)\n"
     ]
    },
    {
     "name": "stderr",
     "output_type": "stream",
     "text": [
      "291it [3:37:00, 48.25s/it]"
     ]
    },
    {
     "name": "stdout",
     "output_type": "stream",
     "text": [
      "/Users/amandeep/Github/table-linker/tl_env/lib/python3.8/site-packages/pandas/core/indexing.py:1684: SettingWithCopyWarning: \n",
      "A value is trying to be set on a copy of a slice from a DataFrame.\n",
      "Try using .loc[row_indexer,col_indexer] = value instead\n",
      "\n",
      "See the caveats in the documentation: https://pandas.pydata.org/pandas-docs/stable/user_guide/indexing.html#returning-a-view-versus-a-copy\n",
      "  self.obj[key] = infer_fill_value(value)\n",
      "/Users/amandeep/Github/table-linker/tl_env/lib/python3.8/site-packages/pandas/core/indexing.py:1817: SettingWithCopyWarning: \n",
      "A value is trying to be set on a copy of a slice from a DataFrame.\n",
      "Try using .loc[row_indexer,col_indexer] = value instead\n",
      "\n",
      "See the caveats in the documentation: https://pandas.pydata.org/pandas-docs/stable/user_guide/indexing.html#returning-a-view-versus-a-copy\n",
      "  self._setitem_single_column(loc, value, pi)\n"
     ]
    },
    {
     "name": "stderr",
     "output_type": "stream",
     "text": [
      "292it [3:37:19, 39.70s/it]"
     ]
    },
    {
     "name": "stdout",
     "output_type": "stream",
     "text": [
      "/Users/amandeep/Github/table-linker/tl_env/lib/python3.8/site-packages/pandas/core/indexing.py:1684: SettingWithCopyWarning: \n",
      "A value is trying to be set on a copy of a slice from a DataFrame.\n",
      "Try using .loc[row_indexer,col_indexer] = value instead\n",
      "\n",
      "See the caveats in the documentation: https://pandas.pydata.org/pandas-docs/stable/user_guide/indexing.html#returning-a-view-versus-a-copy\n",
      "  self.obj[key] = infer_fill_value(value)\n",
      "/Users/amandeep/Github/table-linker/tl_env/lib/python3.8/site-packages/pandas/core/indexing.py:1817: SettingWithCopyWarning: \n",
      "A value is trying to be set on a copy of a slice from a DataFrame.\n",
      "Try using .loc[row_indexer,col_indexer] = value instead\n",
      "\n",
      "See the caveats in the documentation: https://pandas.pydata.org/pandas-docs/stable/user_guide/indexing.html#returning-a-view-versus-a-copy\n",
      "  self._setitem_single_column(loc, value, pi)\n"
     ]
    },
    {
     "name": "stderr",
     "output_type": "stream",
     "text": [
      "293it [3:38:05, 41.40s/it]"
     ]
    },
    {
     "name": "stdout",
     "output_type": "stream",
     "text": [
      "/Users/amandeep/Github/table-linker/tl_env/lib/python3.8/site-packages/pandas/core/indexing.py:1684: SettingWithCopyWarning: \n",
      "A value is trying to be set on a copy of a slice from a DataFrame.\n",
      "Try using .loc[row_indexer,col_indexer] = value instead\n",
      "\n",
      "See the caveats in the documentation: https://pandas.pydata.org/pandas-docs/stable/user_guide/indexing.html#returning-a-view-versus-a-copy\n",
      "  self.obj[key] = infer_fill_value(value)\n",
      "/Users/amandeep/Github/table-linker/tl_env/lib/python3.8/site-packages/pandas/core/indexing.py:1817: SettingWithCopyWarning: \n",
      "A value is trying to be set on a copy of a slice from a DataFrame.\n",
      "Try using .loc[row_indexer,col_indexer] = value instead\n",
      "\n",
      "See the caveats in the documentation: https://pandas.pydata.org/pandas-docs/stable/user_guide/indexing.html#returning-a-view-versus-a-copy\n",
      "  self._setitem_single_column(loc, value, pi)\n"
     ]
    },
    {
     "name": "stderr",
     "output_type": "stream",
     "text": [
      "294it [3:38:34, 37.69s/it]"
     ]
    },
    {
     "name": "stdout",
     "output_type": "stream",
     "text": [
      "/Users/amandeep/Github/table-linker/tl_env/lib/python3.8/site-packages/pandas/core/indexing.py:1684: SettingWithCopyWarning: \n",
      "A value is trying to be set on a copy of a slice from a DataFrame.\n",
      "Try using .loc[row_indexer,col_indexer] = value instead\n",
      "\n",
      "See the caveats in the documentation: https://pandas.pydata.org/pandas-docs/stable/user_guide/indexing.html#returning-a-view-versus-a-copy\n",
      "  self.obj[key] = infer_fill_value(value)\n",
      "/Users/amandeep/Github/table-linker/tl_env/lib/python3.8/site-packages/pandas/core/indexing.py:1817: SettingWithCopyWarning: \n",
      "A value is trying to be set on a copy of a slice from a DataFrame.\n",
      "Try using .loc[row_indexer,col_indexer] = value instead\n",
      "\n",
      "See the caveats in the documentation: https://pandas.pydata.org/pandas-docs/stable/user_guide/indexing.html#returning-a-view-versus-a-copy\n",
      "  self._setitem_single_column(loc, value, pi)\n"
     ]
    },
    {
     "name": "stderr",
     "output_type": "stream",
     "text": [
      "295it [3:39:01, 34.61s/it]"
     ]
    },
    {
     "name": "stdout",
     "output_type": "stream",
     "text": [
      "/Users/amandeep/Github/table-linker/tl_env/lib/python3.8/site-packages/pandas/core/indexing.py:1684: SettingWithCopyWarning: \n",
      "A value is trying to be set on a copy of a slice from a DataFrame.\n",
      "Try using .loc[row_indexer,col_indexer] = value instead\n",
      "\n",
      "See the caveats in the documentation: https://pandas.pydata.org/pandas-docs/stable/user_guide/indexing.html#returning-a-view-versus-a-copy\n",
      "  self.obj[key] = infer_fill_value(value)\n",
      "/Users/amandeep/Github/table-linker/tl_env/lib/python3.8/site-packages/pandas/core/indexing.py:1817: SettingWithCopyWarning: \n",
      "A value is trying to be set on a copy of a slice from a DataFrame.\n",
      "Try using .loc[row_indexer,col_indexer] = value instead\n",
      "\n",
      "See the caveats in the documentation: https://pandas.pydata.org/pandas-docs/stable/user_guide/indexing.html#returning-a-view-versus-a-copy\n",
      "  self._setitem_single_column(loc, value, pi)\n"
     ]
    },
    {
     "name": "stderr",
     "output_type": "stream",
     "text": [
      "296it [3:41:03, 60.71s/it]"
     ]
    },
    {
     "name": "stdout",
     "output_type": "stream",
     "text": [
      "/Users/amandeep/Github/table-linker/tl_env/lib/python3.8/site-packages/pandas/core/indexing.py:1684: SettingWithCopyWarning: \n",
      "A value is trying to be set on a copy of a slice from a DataFrame.\n",
      "Try using .loc[row_indexer,col_indexer] = value instead\n",
      "\n",
      "See the caveats in the documentation: https://pandas.pydata.org/pandas-docs/stable/user_guide/indexing.html#returning-a-view-versus-a-copy\n",
      "  self.obj[key] = infer_fill_value(value)\n",
      "/Users/amandeep/Github/table-linker/tl_env/lib/python3.8/site-packages/pandas/core/indexing.py:1817: SettingWithCopyWarning: \n",
      "A value is trying to be set on a copy of a slice from a DataFrame.\n",
      "Try using .loc[row_indexer,col_indexer] = value instead\n",
      "\n",
      "See the caveats in the documentation: https://pandas.pydata.org/pandas-docs/stable/user_guide/indexing.html#returning-a-view-versus-a-copy\n",
      "  self._setitem_single_column(loc, value, pi)\n"
     ]
    },
    {
     "name": "stderr",
     "output_type": "stream",
     "text": [
      "297it [3:41:53, 57.69s/it]"
     ]
    },
    {
     "name": "stdout",
     "output_type": "stream",
     "text": [
      "/Users/amandeep/Github/table-linker/tl_env/lib/python3.8/site-packages/pandas/core/indexing.py:1684: SettingWithCopyWarning: \n",
      "A value is trying to be set on a copy of a slice from a DataFrame.\n",
      "Try using .loc[row_indexer,col_indexer] = value instead\n",
      "\n",
      "See the caveats in the documentation: https://pandas.pydata.org/pandas-docs/stable/user_guide/indexing.html#returning-a-view-versus-a-copy\n",
      "  self.obj[key] = infer_fill_value(value)\n",
      "/Users/amandeep/Github/table-linker/tl_env/lib/python3.8/site-packages/pandas/core/indexing.py:1817: SettingWithCopyWarning: \n",
      "A value is trying to be set on a copy of a slice from a DataFrame.\n",
      "Try using .loc[row_indexer,col_indexer] = value instead\n",
      "\n",
      "See the caveats in the documentation: https://pandas.pydata.org/pandas-docs/stable/user_guide/indexing.html#returning-a-view-versus-a-copy\n",
      "  self._setitem_single_column(loc, value, pi)\n"
     ]
    },
    {
     "name": "stderr",
     "output_type": "stream",
     "text": [
      "298it [3:43:56, 77.04s/it]"
     ]
    },
    {
     "name": "stdout",
     "output_type": "stream",
     "text": [
      "/Users/amandeep/Github/table-linker/tl_env/lib/python3.8/site-packages/pandas/core/indexing.py:1684: SettingWithCopyWarning: \n",
      "A value is trying to be set on a copy of a slice from a DataFrame.\n",
      "Try using .loc[row_indexer,col_indexer] = value instead\n",
      "\n",
      "See the caveats in the documentation: https://pandas.pydata.org/pandas-docs/stable/user_guide/indexing.html#returning-a-view-versus-a-copy\n",
      "  self.obj[key] = infer_fill_value(value)\n",
      "/Users/amandeep/Github/table-linker/tl_env/lib/python3.8/site-packages/pandas/core/indexing.py:1817: SettingWithCopyWarning: \n",
      "A value is trying to be set on a copy of a slice from a DataFrame.\n",
      "Try using .loc[row_indexer,col_indexer] = value instead\n",
      "\n",
      "See the caveats in the documentation: https://pandas.pydata.org/pandas-docs/stable/user_guide/indexing.html#returning-a-view-versus-a-copy\n",
      "  self._setitem_single_column(loc, value, pi)\n"
     ]
    },
    {
     "name": "stderr",
     "output_type": "stream",
     "text": [
      "299it [3:44:46, 69.00s/it]"
     ]
    },
    {
     "name": "stdout",
     "output_type": "stream",
     "text": [
      "/Users/amandeep/Github/table-linker/tl_env/lib/python3.8/site-packages/pandas/core/indexing.py:1684: SettingWithCopyWarning: \n",
      "A value is trying to be set on a copy of a slice from a DataFrame.\n",
      "Try using .loc[row_indexer,col_indexer] = value instead\n",
      "\n",
      "See the caveats in the documentation: https://pandas.pydata.org/pandas-docs/stable/user_guide/indexing.html#returning-a-view-versus-a-copy\n",
      "  self.obj[key] = infer_fill_value(value)\n",
      "/Users/amandeep/Github/table-linker/tl_env/lib/python3.8/site-packages/pandas/core/indexing.py:1817: SettingWithCopyWarning: \n",
      "A value is trying to be set on a copy of a slice from a DataFrame.\n",
      "Try using .loc[row_indexer,col_indexer] = value instead\n",
      "\n",
      "See the caveats in the documentation: https://pandas.pydata.org/pandas-docs/stable/user_guide/indexing.html#returning-a-view-versus-a-copy\n",
      "  self._setitem_single_column(loc, value, pi)\n"
     ]
    },
    {
     "name": "stderr",
     "output_type": "stream",
     "text": [
      "300it [3:45:06, 54.30s/it]"
     ]
    },
    {
     "name": "stdout",
     "output_type": "stream",
     "text": [
      "/Users/amandeep/Github/table-linker/tl_env/lib/python3.8/site-packages/pandas/core/indexing.py:1684: SettingWithCopyWarning: \n",
      "A value is trying to be set on a copy of a slice from a DataFrame.\n",
      "Try using .loc[row_indexer,col_indexer] = value instead\n",
      "\n",
      "See the caveats in the documentation: https://pandas.pydata.org/pandas-docs/stable/user_guide/indexing.html#returning-a-view-versus-a-copy\n",
      "  self.obj[key] = infer_fill_value(value)\n",
      "/Users/amandeep/Github/table-linker/tl_env/lib/python3.8/site-packages/pandas/core/indexing.py:1817: SettingWithCopyWarning: \n",
      "A value is trying to be set on a copy of a slice from a DataFrame.\n",
      "Try using .loc[row_indexer,col_indexer] = value instead\n",
      "\n",
      "See the caveats in the documentation: https://pandas.pydata.org/pandas-docs/stable/user_guide/indexing.html#returning-a-view-versus-a-copy\n",
      "  self._setitem_single_column(loc, value, pi)\n"
     ]
    },
    {
     "name": "stderr",
     "output_type": "stream",
     "text": [
      "301it [3:46:15, 45.10s/it]\n"
     ]
    }
   ],
   "source": [
    "if not copy_features1_from_previous_version:\n",
    "    features_1(train_candidate_path, train_features1_path, train_context_path, train_class_count, train_prop_count,pseudo_gt_model, pseudo_gt_min_max_scaler_path, train_context_property_path)\n",
    "else:\n",
    "    !cp $train_output_path/$PREVIOUS_VERSION/features1/*csv $train_output_path/$VERSION/features1"
   ]
  },
  {
   "cell_type": "code",
   "execution_count": 7,
   "id": "2657676b-d125-4898-96c7-a5def6183212",
   "metadata": {},
   "outputs": [
    {
     "name": "stderr",
     "output_type": "stream",
     "text": [
      "0it [00:00, ?it/s]"
     ]
    },
    {
     "name": "stdout",
     "output_type": "stream",
     "text": [
      "/Users/amandeep/Github/table-linker/tl_env/lib/python3.8/site-packages/pandas/core/indexing.py:1684: SettingWithCopyWarning: \n",
      "A value is trying to be set on a copy of a slice from a DataFrame.\n",
      "Try using .loc[row_indexer,col_indexer] = value instead\n",
      "\n",
      "See the caveats in the documentation: https://pandas.pydata.org/pandas-docs/stable/user_guide/indexing.html#returning-a-view-versus-a-copy\n",
      "  self.obj[key] = infer_fill_value(value)\n",
      "/Users/amandeep/Github/table-linker/tl_env/lib/python3.8/site-packages/pandas/core/indexing.py:1817: SettingWithCopyWarning: \n",
      "A value is trying to be set on a copy of a slice from a DataFrame.\n",
      "Try using .loc[row_indexer,col_indexer] = value instead\n",
      "\n",
      "See the caveats in the documentation: https://pandas.pydata.org/pandas-docs/stable/user_guide/indexing.html#returning-a-view-versus-a-copy\n",
      "  self._setitem_single_column(loc, value, pi)\n"
     ]
    },
    {
     "name": "stderr",
     "output_type": "stream",
     "text": [
      "1it [00:49, 49.44s/it]"
     ]
    },
    {
     "name": "stdout",
     "output_type": "stream",
     "text": [
      "/Users/amandeep/Github/table-linker/tl_env/lib/python3.8/site-packages/pandas/core/indexing.py:1684: SettingWithCopyWarning: \n",
      "A value is trying to be set on a copy of a slice from a DataFrame.\n",
      "Try using .loc[row_indexer,col_indexer] = value instead\n",
      "\n",
      "See the caveats in the documentation: https://pandas.pydata.org/pandas-docs/stable/user_guide/indexing.html#returning-a-view-versus-a-copy\n",
      "  self.obj[key] = infer_fill_value(value)\n",
      "/Users/amandeep/Github/table-linker/tl_env/lib/python3.8/site-packages/pandas/core/indexing.py:1817: SettingWithCopyWarning: \n",
      "A value is trying to be set on a copy of a slice from a DataFrame.\n",
      "Try using .loc[row_indexer,col_indexer] = value instead\n",
      "\n",
      "See the caveats in the documentation: https://pandas.pydata.org/pandas-docs/stable/user_guide/indexing.html#returning-a-view-versus-a-copy\n",
      "  self._setitem_single_column(loc, value, pi)\n"
     ]
    },
    {
     "name": "stderr",
     "output_type": "stream",
     "text": [
      "2it [01:10, 33.00s/it]"
     ]
    },
    {
     "name": "stdout",
     "output_type": "stream",
     "text": [
      "/Users/amandeep/Github/table-linker/tl_env/lib/python3.8/site-packages/pandas/core/indexing.py:1684: SettingWithCopyWarning: \n",
      "A value is trying to be set on a copy of a slice from a DataFrame.\n",
      "Try using .loc[row_indexer,col_indexer] = value instead\n",
      "\n",
      "See the caveats in the documentation: https://pandas.pydata.org/pandas-docs/stable/user_guide/indexing.html#returning-a-view-versus-a-copy\n",
      "  self.obj[key] = infer_fill_value(value)\n",
      "/Users/amandeep/Github/table-linker/tl_env/lib/python3.8/site-packages/pandas/core/indexing.py:1817: SettingWithCopyWarning: \n",
      "A value is trying to be set on a copy of a slice from a DataFrame.\n",
      "Try using .loc[row_indexer,col_indexer] = value instead\n",
      "\n",
      "See the caveats in the documentation: https://pandas.pydata.org/pandas-docs/stable/user_guide/indexing.html#returning-a-view-versus-a-copy\n",
      "  self._setitem_single_column(loc, value, pi)\n"
     ]
    },
    {
     "name": "stderr",
     "output_type": "stream",
     "text": [
      "3it [01:59, 39.93s/it]"
     ]
    },
    {
     "name": "stdout",
     "output_type": "stream",
     "text": [
      "/Users/amandeep/Github/table-linker/tl_env/lib/python3.8/site-packages/pandas/core/indexing.py:1684: SettingWithCopyWarning: \n",
      "A value is trying to be set on a copy of a slice from a DataFrame.\n",
      "Try using .loc[row_indexer,col_indexer] = value instead\n",
      "\n",
      "See the caveats in the documentation: https://pandas.pydata.org/pandas-docs/stable/user_guide/indexing.html#returning-a-view-versus-a-copy\n",
      "  self.obj[key] = infer_fill_value(value)\n",
      "/Users/amandeep/Github/table-linker/tl_env/lib/python3.8/site-packages/pandas/core/indexing.py:1817: SettingWithCopyWarning: \n",
      "A value is trying to be set on a copy of a slice from a DataFrame.\n",
      "Try using .loc[row_indexer,col_indexer] = value instead\n",
      "\n",
      "See the caveats in the documentation: https://pandas.pydata.org/pandas-docs/stable/user_guide/indexing.html#returning-a-view-versus-a-copy\n",
      "  self._setitem_single_column(loc, value, pi)\n"
     ]
    },
    {
     "name": "stderr",
     "output_type": "stream",
     "text": [
      "4it [02:41, 40.72s/it]"
     ]
    },
    {
     "name": "stdout",
     "output_type": "stream",
     "text": [
      "/Users/amandeep/Github/table-linker/tl_env/lib/python3.8/site-packages/pandas/core/indexing.py:1684: SettingWithCopyWarning: \n",
      "A value is trying to be set on a copy of a slice from a DataFrame.\n",
      "Try using .loc[row_indexer,col_indexer] = value instead\n",
      "\n",
      "See the caveats in the documentation: https://pandas.pydata.org/pandas-docs/stable/user_guide/indexing.html#returning-a-view-versus-a-copy\n",
      "  self.obj[key] = infer_fill_value(value)\n",
      "/Users/amandeep/Github/table-linker/tl_env/lib/python3.8/site-packages/pandas/core/indexing.py:1817: SettingWithCopyWarning: \n",
      "A value is trying to be set on a copy of a slice from a DataFrame.\n",
      "Try using .loc[row_indexer,col_indexer] = value instead\n",
      "\n",
      "See the caveats in the documentation: https://pandas.pydata.org/pandas-docs/stable/user_guide/indexing.html#returning-a-view-versus-a-copy\n",
      "  self._setitem_single_column(loc, value, pi)\n"
     ]
    },
    {
     "name": "stderr",
     "output_type": "stream",
     "text": [
      "5it [03:02, 33.73s/it]"
     ]
    },
    {
     "name": "stdout",
     "output_type": "stream",
     "text": [
      "/Users/amandeep/Github/table-linker/tl_env/lib/python3.8/site-packages/pandas/core/indexing.py:1684: SettingWithCopyWarning: \n",
      "A value is trying to be set on a copy of a slice from a DataFrame.\n",
      "Try using .loc[row_indexer,col_indexer] = value instead\n",
      "\n",
      "See the caveats in the documentation: https://pandas.pydata.org/pandas-docs/stable/user_guide/indexing.html#returning-a-view-versus-a-copy\n",
      "  self.obj[key] = infer_fill_value(value)\n",
      "/Users/amandeep/Github/table-linker/tl_env/lib/python3.8/site-packages/pandas/core/indexing.py:1817: SettingWithCopyWarning: \n",
      "A value is trying to be set on a copy of a slice from a DataFrame.\n",
      "Try using .loc[row_indexer,col_indexer] = value instead\n",
      "\n",
      "See the caveats in the documentation: https://pandas.pydata.org/pandas-docs/stable/user_guide/indexing.html#returning-a-view-versus-a-copy\n",
      "  self._setitem_single_column(loc, value, pi)\n"
     ]
    },
    {
     "name": "stderr",
     "output_type": "stream",
     "text": [
      "6it [03:40, 35.07s/it]"
     ]
    },
    {
     "name": "stdout",
     "output_type": "stream",
     "text": [
      "/Users/amandeep/Github/table-linker/tl_env/lib/python3.8/site-packages/pandas/core/indexing.py:1684: SettingWithCopyWarning: \n",
      "A value is trying to be set on a copy of a slice from a DataFrame.\n",
      "Try using .loc[row_indexer,col_indexer] = value instead\n",
      "\n",
      "See the caveats in the documentation: https://pandas.pydata.org/pandas-docs/stable/user_guide/indexing.html#returning-a-view-versus-a-copy\n",
      "  self.obj[key] = infer_fill_value(value)\n",
      "/Users/amandeep/Github/table-linker/tl_env/lib/python3.8/site-packages/pandas/core/indexing.py:1817: SettingWithCopyWarning: \n",
      "A value is trying to be set on a copy of a slice from a DataFrame.\n",
      "Try using .loc[row_indexer,col_indexer] = value instead\n",
      "\n",
      "See the caveats in the documentation: https://pandas.pydata.org/pandas-docs/stable/user_guide/indexing.html#returning-a-view-versus-a-copy\n",
      "  self._setitem_single_column(loc, value, pi)\n"
     ]
    },
    {
     "name": "stderr",
     "output_type": "stream",
     "text": [
      "7it [04:28, 39.31s/it]"
     ]
    },
    {
     "name": "stdout",
     "output_type": "stream",
     "text": [
      "/Users/amandeep/Github/table-linker/tl_env/lib/python3.8/site-packages/pandas/core/indexing.py:1684: SettingWithCopyWarning: \n",
      "A value is trying to be set on a copy of a slice from a DataFrame.\n",
      "Try using .loc[row_indexer,col_indexer] = value instead\n",
      "\n",
      "See the caveats in the documentation: https://pandas.pydata.org/pandas-docs/stable/user_guide/indexing.html#returning-a-view-versus-a-copy\n",
      "  self.obj[key] = infer_fill_value(value)\n",
      "/Users/amandeep/Github/table-linker/tl_env/lib/python3.8/site-packages/pandas/core/indexing.py:1817: SettingWithCopyWarning: \n",
      "A value is trying to be set on a copy of a slice from a DataFrame.\n",
      "Try using .loc[row_indexer,col_indexer] = value instead\n",
      "\n",
      "See the caveats in the documentation: https://pandas.pydata.org/pandas-docs/stable/user_guide/indexing.html#returning-a-view-versus-a-copy\n",
      "  self._setitem_single_column(loc, value, pi)\n"
     ]
    },
    {
     "name": "stderr",
     "output_type": "stream",
     "text": [
      "8it [05:16, 42.32s/it]"
     ]
    },
    {
     "name": "stdout",
     "output_type": "stream",
     "text": [
      "/Users/amandeep/Github/table-linker/tl_env/lib/python3.8/site-packages/pandas/core/indexing.py:1684: SettingWithCopyWarning: \n",
      "A value is trying to be set on a copy of a slice from a DataFrame.\n",
      "Try using .loc[row_indexer,col_indexer] = value instead\n",
      "\n",
      "See the caveats in the documentation: https://pandas.pydata.org/pandas-docs/stable/user_guide/indexing.html#returning-a-view-versus-a-copy\n",
      "  self.obj[key] = infer_fill_value(value)\n",
      "/Users/amandeep/Github/table-linker/tl_env/lib/python3.8/site-packages/pandas/core/indexing.py:1817: SettingWithCopyWarning: \n",
      "A value is trying to be set on a copy of a slice from a DataFrame.\n",
      "Try using .loc[row_indexer,col_indexer] = value instead\n",
      "\n",
      "See the caveats in the documentation: https://pandas.pydata.org/pandas-docs/stable/user_guide/indexing.html#returning-a-view-versus-a-copy\n",
      "  self._setitem_single_column(loc, value, pi)\n"
     ]
    },
    {
     "name": "stderr",
     "output_type": "stream",
     "text": [
      "9it [06:32, 52.60s/it]"
     ]
    },
    {
     "name": "stdout",
     "output_type": "stream",
     "text": [
      "/Users/amandeep/Github/table-linker/tl_env/lib/python3.8/site-packages/pandas/core/indexing.py:1684: SettingWithCopyWarning: \n",
      "A value is trying to be set on a copy of a slice from a DataFrame.\n",
      "Try using .loc[row_indexer,col_indexer] = value instead\n",
      "\n",
      "See the caveats in the documentation: https://pandas.pydata.org/pandas-docs/stable/user_guide/indexing.html#returning-a-view-versus-a-copy\n",
      "  self.obj[key] = infer_fill_value(value)\n",
      "/Users/amandeep/Github/table-linker/tl_env/lib/python3.8/site-packages/pandas/core/indexing.py:1817: SettingWithCopyWarning: \n",
      "A value is trying to be set on a copy of a slice from a DataFrame.\n",
      "Try using .loc[row_indexer,col_indexer] = value instead\n",
      "\n",
      "See the caveats in the documentation: https://pandas.pydata.org/pandas-docs/stable/user_guide/indexing.html#returning-a-view-versus-a-copy\n",
      "  self._setitem_single_column(loc, value, pi)\n"
     ]
    },
    {
     "name": "stderr",
     "output_type": "stream",
     "text": [
      "10it [07:10, 48.17s/it]"
     ]
    },
    {
     "name": "stdout",
     "output_type": "stream",
     "text": [
      "/Users/amandeep/Github/table-linker/tl_env/lib/python3.8/site-packages/pandas/core/indexing.py:1684: SettingWithCopyWarning: \n",
      "A value is trying to be set on a copy of a slice from a DataFrame.\n",
      "Try using .loc[row_indexer,col_indexer] = value instead\n",
      "\n",
      "See the caveats in the documentation: https://pandas.pydata.org/pandas-docs/stable/user_guide/indexing.html#returning-a-view-versus-a-copy\n",
      "  self.obj[key] = infer_fill_value(value)\n",
      "/Users/amandeep/Github/table-linker/tl_env/lib/python3.8/site-packages/pandas/core/indexing.py:1817: SettingWithCopyWarning: \n",
      "A value is trying to be set on a copy of a slice from a DataFrame.\n",
      "Try using .loc[row_indexer,col_indexer] = value instead\n",
      "\n",
      "See the caveats in the documentation: https://pandas.pydata.org/pandas-docs/stable/user_guide/indexing.html#returning-a-view-versus-a-copy\n",
      "  self._setitem_single_column(loc, value, pi)\n"
     ]
    },
    {
     "name": "stderr",
     "output_type": "stream",
     "text": [
      "11it [07:37, 41.85s/it]"
     ]
    },
    {
     "name": "stdout",
     "output_type": "stream",
     "text": [
      "/Users/amandeep/Github/table-linker/tl_env/lib/python3.8/site-packages/pandas/core/indexing.py:1684: SettingWithCopyWarning: \n",
      "A value is trying to be set on a copy of a slice from a DataFrame.\n",
      "Try using .loc[row_indexer,col_indexer] = value instead\n",
      "\n",
      "See the caveats in the documentation: https://pandas.pydata.org/pandas-docs/stable/user_guide/indexing.html#returning-a-view-versus-a-copy\n",
      "  self.obj[key] = infer_fill_value(value)\n",
      "/Users/amandeep/Github/table-linker/tl_env/lib/python3.8/site-packages/pandas/core/indexing.py:1817: SettingWithCopyWarning: \n",
      "A value is trying to be set on a copy of a slice from a DataFrame.\n",
      "Try using .loc[row_indexer,col_indexer] = value instead\n",
      "\n",
      "See the caveats in the documentation: https://pandas.pydata.org/pandas-docs/stable/user_guide/indexing.html#returning-a-view-versus-a-copy\n",
      "  self._setitem_single_column(loc, value, pi)\n"
     ]
    },
    {
     "name": "stderr",
     "output_type": "stream",
     "text": [
      "12it [08:47, 50.24s/it]"
     ]
    },
    {
     "name": "stdout",
     "output_type": "stream",
     "text": [
      "/Users/amandeep/Github/table-linker/tl_env/lib/python3.8/site-packages/pandas/core/indexing.py:1684: SettingWithCopyWarning: \n",
      "A value is trying to be set on a copy of a slice from a DataFrame.\n",
      "Try using .loc[row_indexer,col_indexer] = value instead\n",
      "\n",
      "See the caveats in the documentation: https://pandas.pydata.org/pandas-docs/stable/user_guide/indexing.html#returning-a-view-versus-a-copy\n",
      "  self.obj[key] = infer_fill_value(value)\n",
      "/Users/amandeep/Github/table-linker/tl_env/lib/python3.8/site-packages/pandas/core/indexing.py:1817: SettingWithCopyWarning: \n",
      "A value is trying to be set on a copy of a slice from a DataFrame.\n",
      "Try using .loc[row_indexer,col_indexer] = value instead\n",
      "\n",
      "See the caveats in the documentation: https://pandas.pydata.org/pandas-docs/stable/user_guide/indexing.html#returning-a-view-versus-a-copy\n",
      "  self._setitem_single_column(loc, value, pi)\n"
     ]
    },
    {
     "name": "stderr",
     "output_type": "stream",
     "text": [
      "13it [09:10, 41.94s/it]"
     ]
    },
    {
     "name": "stdout",
     "output_type": "stream",
     "text": [
      "/Users/amandeep/Github/table-linker/tl_env/lib/python3.8/site-packages/pandas/core/indexing.py:1684: SettingWithCopyWarning: \n",
      "A value is trying to be set on a copy of a slice from a DataFrame.\n",
      "Try using .loc[row_indexer,col_indexer] = value instead\n",
      "\n",
      "See the caveats in the documentation: https://pandas.pydata.org/pandas-docs/stable/user_guide/indexing.html#returning-a-view-versus-a-copy\n",
      "  self.obj[key] = infer_fill_value(value)\n",
      "/Users/amandeep/Github/table-linker/tl_env/lib/python3.8/site-packages/pandas/core/indexing.py:1817: SettingWithCopyWarning: \n",
      "A value is trying to be set on a copy of a slice from a DataFrame.\n",
      "Try using .loc[row_indexer,col_indexer] = value instead\n",
      "\n",
      "See the caveats in the documentation: https://pandas.pydata.org/pandas-docs/stable/user_guide/indexing.html#returning-a-view-versus-a-copy\n",
      "  self._setitem_single_column(loc, value, pi)\n"
     ]
    },
    {
     "name": "stderr",
     "output_type": "stream",
     "text": [
      "14it [09:58, 43.75s/it]"
     ]
    },
    {
     "name": "stdout",
     "output_type": "stream",
     "text": [
      "/Users/amandeep/Github/table-linker/tl_env/lib/python3.8/site-packages/pandas/core/indexing.py:1684: SettingWithCopyWarning: \n",
      "A value is trying to be set on a copy of a slice from a DataFrame.\n",
      "Try using .loc[row_indexer,col_indexer] = value instead\n",
      "\n",
      "See the caveats in the documentation: https://pandas.pydata.org/pandas-docs/stable/user_guide/indexing.html#returning-a-view-versus-a-copy\n",
      "  self.obj[key] = infer_fill_value(value)\n",
      "/Users/amandeep/Github/table-linker/tl_env/lib/python3.8/site-packages/pandas/core/indexing.py:1817: SettingWithCopyWarning: \n",
      "A value is trying to be set on a copy of a slice from a DataFrame.\n",
      "Try using .loc[row_indexer,col_indexer] = value instead\n",
      "\n",
      "See the caveats in the documentation: https://pandas.pydata.org/pandas-docs/stable/user_guide/indexing.html#returning-a-view-versus-a-copy\n",
      "  self._setitem_single_column(loc, value, pi)\n"
     ]
    },
    {
     "name": "stderr",
     "output_type": "stream",
     "text": [
      "15it [10:40, 43.42s/it]"
     ]
    },
    {
     "name": "stdout",
     "output_type": "stream",
     "text": [
      "/Users/amandeep/Github/table-linker/tl_env/lib/python3.8/site-packages/pandas/core/indexing.py:1684: SettingWithCopyWarning: \n",
      "A value is trying to be set on a copy of a slice from a DataFrame.\n",
      "Try using .loc[row_indexer,col_indexer] = value instead\n",
      "\n",
      "See the caveats in the documentation: https://pandas.pydata.org/pandas-docs/stable/user_guide/indexing.html#returning-a-view-versus-a-copy\n",
      "  self.obj[key] = infer_fill_value(value)\n",
      "/Users/amandeep/Github/table-linker/tl_env/lib/python3.8/site-packages/pandas/core/indexing.py:1817: SettingWithCopyWarning: \n",
      "A value is trying to be set on a copy of a slice from a DataFrame.\n",
      "Try using .loc[row_indexer,col_indexer] = value instead\n",
      "\n",
      "See the caveats in the documentation: https://pandas.pydata.org/pandas-docs/stable/user_guide/indexing.html#returning-a-view-versus-a-copy\n",
      "  self._setitem_single_column(loc, value, pi)\n"
     ]
    },
    {
     "name": "stderr",
     "output_type": "stream",
     "text": [
      "16it [11:13, 40.31s/it]"
     ]
    },
    {
     "name": "stdout",
     "output_type": "stream",
     "text": [
      "/Users/amandeep/Github/table-linker/tl_env/lib/python3.8/site-packages/pandas/core/indexing.py:1684: SettingWithCopyWarning: \n",
      "A value is trying to be set on a copy of a slice from a DataFrame.\n",
      "Try using .loc[row_indexer,col_indexer] = value instead\n",
      "\n",
      "See the caveats in the documentation: https://pandas.pydata.org/pandas-docs/stable/user_guide/indexing.html#returning-a-view-versus-a-copy\n",
      "  self.obj[key] = infer_fill_value(value)\n",
      "/Users/amandeep/Github/table-linker/tl_env/lib/python3.8/site-packages/pandas/core/indexing.py:1817: SettingWithCopyWarning: \n",
      "A value is trying to be set on a copy of a slice from a DataFrame.\n",
      "Try using .loc[row_indexer,col_indexer] = value instead\n",
      "\n",
      "See the caveats in the documentation: https://pandas.pydata.org/pandas-docs/stable/user_guide/indexing.html#returning-a-view-versus-a-copy\n",
      "  self._setitem_single_column(loc, value, pi)\n"
     ]
    },
    {
     "name": "stderr",
     "output_type": "stream",
     "text": [
      "17it [11:51, 39.61s/it]"
     ]
    },
    {
     "name": "stdout",
     "output_type": "stream",
     "text": [
      "/Users/amandeep/Github/table-linker/tl/exceptions.py:20: DtypeWarning: Columns (29,30,34,36) have mixed types.Specify dtype option on import or set low_memory=False.\n",
      "  return_code = func(*args, **kwargs) or 0\n",
      "/Users/amandeep/Github/table-linker/tl_env/lib/python3.8/site-packages/pandas/core/indexing.py:1684: SettingWithCopyWarning: \n",
      "A value is trying to be set on a copy of a slice from a DataFrame.\n",
      "Try using .loc[row_indexer,col_indexer] = value instead\n",
      "\n",
      "See the caveats in the documentation: https://pandas.pydata.org/pandas-docs/stable/user_guide/indexing.html#returning-a-view-versus-a-copy\n",
      "  self.obj[key] = infer_fill_value(value)\n",
      "/Users/amandeep/Github/table-linker/tl_env/lib/python3.8/site-packages/pandas/core/indexing.py:1817: SettingWithCopyWarning: \n",
      "A value is trying to be set on a copy of a slice from a DataFrame.\n",
      "Try using .loc[row_indexer,col_indexer] = value instead\n",
      "\n",
      "See the caveats in the documentation: https://pandas.pydata.org/pandas-docs/stable/user_guide/indexing.html#returning-a-view-versus-a-copy\n",
      "  self._setitem_single_column(loc, value, pi)\n"
     ]
    },
    {
     "name": "stderr",
     "output_type": "stream",
     "text": [
      "18it [12:45, 44.00s/it]"
     ]
    },
    {
     "name": "stdout",
     "output_type": "stream",
     "text": [
      "/Users/amandeep/Github/table-linker/tl_env/lib/python3.8/site-packages/pandas/core/indexing.py:1684: SettingWithCopyWarning: \n",
      "A value is trying to be set on a copy of a slice from a DataFrame.\n",
      "Try using .loc[row_indexer,col_indexer] = value instead\n",
      "\n",
      "See the caveats in the documentation: https://pandas.pydata.org/pandas-docs/stable/user_guide/indexing.html#returning-a-view-versus-a-copy\n",
      "  self.obj[key] = infer_fill_value(value)\n",
      "/Users/amandeep/Github/table-linker/tl_env/lib/python3.8/site-packages/pandas/core/indexing.py:1817: SettingWithCopyWarning: \n",
      "A value is trying to be set on a copy of a slice from a DataFrame.\n",
      "Try using .loc[row_indexer,col_indexer] = value instead\n",
      "\n",
      "See the caveats in the documentation: https://pandas.pydata.org/pandas-docs/stable/user_guide/indexing.html#returning-a-view-versus-a-copy\n",
      "  self._setitem_single_column(loc, value, pi)\n"
     ]
    },
    {
     "name": "stderr",
     "output_type": "stream",
     "text": [
      "19it [14:35, 63.81s/it]"
     ]
    },
    {
     "name": "stdout",
     "output_type": "stream",
     "text": [
      "/Users/amandeep/Github/table-linker/tl_env/lib/python3.8/site-packages/pandas/core/indexing.py:1684: SettingWithCopyWarning: \n",
      "A value is trying to be set on a copy of a slice from a DataFrame.\n",
      "Try using .loc[row_indexer,col_indexer] = value instead\n",
      "\n",
      "See the caveats in the documentation: https://pandas.pydata.org/pandas-docs/stable/user_guide/indexing.html#returning-a-view-versus-a-copy\n",
      "  self.obj[key] = infer_fill_value(value)\n",
      "/Users/amandeep/Github/table-linker/tl_env/lib/python3.8/site-packages/pandas/core/indexing.py:1817: SettingWithCopyWarning: \n",
      "A value is trying to be set on a copy of a slice from a DataFrame.\n",
      "Try using .loc[row_indexer,col_indexer] = value instead\n",
      "\n",
      "See the caveats in the documentation: https://pandas.pydata.org/pandas-docs/stable/user_guide/indexing.html#returning-a-view-versus-a-copy\n",
      "  self._setitem_single_column(loc, value, pi)\n"
     ]
    },
    {
     "name": "stderr",
     "output_type": "stream",
     "text": [
      "20it [15:17, 57.27s/it]"
     ]
    },
    {
     "name": "stdout",
     "output_type": "stream",
     "text": [
      "/Users/amandeep/Github/table-linker/tl/cli/pgt-semantic-tf-idf.py:46: DtypeWarning: Columns (29,30) have mixed types.Specify dtype option on import or set low_memory=False.\n",
      "  tfidf_unit = SemanticsFeature(kwargs['output_column_name'],\n",
      "/Users/amandeep/Github/table-linker/tl/cli/pgt-semantic-tf-idf.py:46: DtypeWarning: Columns (29,30,34) have mixed types.Specify dtype option on import or set low_memory=False.\n",
      "  tfidf_unit = SemanticsFeature(kwargs['output_column_name'],\n",
      "/Users/amandeep/Github/table-linker/tl/exceptions.py:20: DtypeWarning: Columns (29,30,34,36) have mixed types.Specify dtype option on import or set low_memory=False.\n",
      "  return_code = func(*args, **kwargs) or 0\n",
      "/Users/amandeep/Github/table-linker/tl_env/lib/python3.8/site-packages/pandas/core/indexing.py:1684: SettingWithCopyWarning: \n",
      "A value is trying to be set on a copy of a slice from a DataFrame.\n",
      "Try using .loc[row_indexer,col_indexer] = value instead\n",
      "\n",
      "See the caveats in the documentation: https://pandas.pydata.org/pandas-docs/stable/user_guide/indexing.html#returning-a-view-versus-a-copy\n",
      "  self.obj[key] = infer_fill_value(value)\n",
      "/Users/amandeep/Github/table-linker/tl_env/lib/python3.8/site-packages/pandas/core/indexing.py:1817: SettingWithCopyWarning: \n",
      "A value is trying to be set on a copy of a slice from a DataFrame.\n",
      "Try using .loc[row_indexer,col_indexer] = value instead\n",
      "\n",
      "See the caveats in the documentation: https://pandas.pydata.org/pandas-docs/stable/user_guide/indexing.html#returning-a-view-versus-a-copy\n",
      "  self._setitem_single_column(loc, value, pi)\n"
     ]
    },
    {
     "name": "stderr",
     "output_type": "stream",
     "text": [
      "21it [16:35, 63.47s/it]"
     ]
    },
    {
     "name": "stdout",
     "output_type": "stream",
     "text": [
      "/Users/amandeep/Github/table-linker/tl_env/lib/python3.8/site-packages/pandas/core/indexing.py:1684: SettingWithCopyWarning: \n",
      "A value is trying to be set on a copy of a slice from a DataFrame.\n",
      "Try using .loc[row_indexer,col_indexer] = value instead\n",
      "\n",
      "See the caveats in the documentation: https://pandas.pydata.org/pandas-docs/stable/user_guide/indexing.html#returning-a-view-versus-a-copy\n",
      "  self.obj[key] = infer_fill_value(value)\n",
      "/Users/amandeep/Github/table-linker/tl_env/lib/python3.8/site-packages/pandas/core/indexing.py:1817: SettingWithCopyWarning: \n",
      "A value is trying to be set on a copy of a slice from a DataFrame.\n",
      "Try using .loc[row_indexer,col_indexer] = value instead\n",
      "\n",
      "See the caveats in the documentation: https://pandas.pydata.org/pandas-docs/stable/user_guide/indexing.html#returning-a-view-versus-a-copy\n",
      "  self._setitem_single_column(loc, value, pi)\n"
     ]
    },
    {
     "name": "stderr",
     "output_type": "stream",
     "text": [
      "22it [17:52, 67.57s/it]"
     ]
    },
    {
     "name": "stdout",
     "output_type": "stream",
     "text": [
      "/Users/amandeep/Github/table-linker/tl_env/lib/python3.8/site-packages/pandas/core/indexing.py:1684: SettingWithCopyWarning: \n",
      "A value is trying to be set on a copy of a slice from a DataFrame.\n",
      "Try using .loc[row_indexer,col_indexer] = value instead\n",
      "\n",
      "See the caveats in the documentation: https://pandas.pydata.org/pandas-docs/stable/user_guide/indexing.html#returning-a-view-versus-a-copy\n",
      "  self.obj[key] = infer_fill_value(value)\n",
      "/Users/amandeep/Github/table-linker/tl_env/lib/python3.8/site-packages/pandas/core/indexing.py:1817: SettingWithCopyWarning: \n",
      "A value is trying to be set on a copy of a slice from a DataFrame.\n",
      "Try using .loc[row_indexer,col_indexer] = value instead\n",
      "\n",
      "See the caveats in the documentation: https://pandas.pydata.org/pandas-docs/stable/user_guide/indexing.html#returning-a-view-versus-a-copy\n",
      "  self._setitem_single_column(loc, value, pi)\n"
     ]
    },
    {
     "name": "stderr",
     "output_type": "stream",
     "text": [
      "23it [18:20, 55.56s/it]"
     ]
    },
    {
     "name": "stdout",
     "output_type": "stream",
     "text": [
      "/Users/amandeep/Github/table-linker/tl_env/lib/python3.8/site-packages/pandas/core/indexing.py:1684: SettingWithCopyWarning: \n",
      "A value is trying to be set on a copy of a slice from a DataFrame.\n",
      "Try using .loc[row_indexer,col_indexer] = value instead\n",
      "\n",
      "See the caveats in the documentation: https://pandas.pydata.org/pandas-docs/stable/user_guide/indexing.html#returning-a-view-versus-a-copy\n",
      "  self.obj[key] = infer_fill_value(value)\n",
      "/Users/amandeep/Github/table-linker/tl_env/lib/python3.8/site-packages/pandas/core/indexing.py:1817: SettingWithCopyWarning: \n",
      "A value is trying to be set on a copy of a slice from a DataFrame.\n",
      "Try using .loc[row_indexer,col_indexer] = value instead\n",
      "\n",
      "See the caveats in the documentation: https://pandas.pydata.org/pandas-docs/stable/user_guide/indexing.html#returning-a-view-versus-a-copy\n",
      "  self._setitem_single_column(loc, value, pi)\n"
     ]
    },
    {
     "name": "stderr",
     "output_type": "stream",
     "text": [
      "24it [19:21, 57.20s/it]"
     ]
    },
    {
     "name": "stdout",
     "output_type": "stream",
     "text": [
      "/Users/amandeep/Github/table-linker/tl_env/lib/python3.8/site-packages/pandas/core/indexing.py:1684: SettingWithCopyWarning: \n",
      "A value is trying to be set on a copy of a slice from a DataFrame.\n",
      "Try using .loc[row_indexer,col_indexer] = value instead\n",
      "\n",
      "See the caveats in the documentation: https://pandas.pydata.org/pandas-docs/stable/user_guide/indexing.html#returning-a-view-versus-a-copy\n",
      "  self.obj[key] = infer_fill_value(value)\n",
      "/Users/amandeep/Github/table-linker/tl_env/lib/python3.8/site-packages/pandas/core/indexing.py:1817: SettingWithCopyWarning: \n",
      "A value is trying to be set on a copy of a slice from a DataFrame.\n",
      "Try using .loc[row_indexer,col_indexer] = value instead\n",
      "\n",
      "See the caveats in the documentation: https://pandas.pydata.org/pandas-docs/stable/user_guide/indexing.html#returning-a-view-versus-a-copy\n",
      "  self._setitem_single_column(loc, value, pi)\n"
     ]
    },
    {
     "name": "stderr",
     "output_type": "stream",
     "text": [
      "25it [19:44, 46.77s/it]"
     ]
    },
    {
     "name": "stdout",
     "output_type": "stream",
     "text": [
      "/Users/amandeep/Github/table-linker/tl_env/lib/python3.8/site-packages/pandas/core/indexing.py:1684: SettingWithCopyWarning: \n",
      "A value is trying to be set on a copy of a slice from a DataFrame.\n",
      "Try using .loc[row_indexer,col_indexer] = value instead\n",
      "\n",
      "See the caveats in the documentation: https://pandas.pydata.org/pandas-docs/stable/user_guide/indexing.html#returning-a-view-versus-a-copy\n",
      "  self.obj[key] = infer_fill_value(value)\n",
      "/Users/amandeep/Github/table-linker/tl_env/lib/python3.8/site-packages/pandas/core/indexing.py:1817: SettingWithCopyWarning: \n",
      "A value is trying to be set on a copy of a slice from a DataFrame.\n",
      "Try using .loc[row_indexer,col_indexer] = value instead\n",
      "\n",
      "See the caveats in the documentation: https://pandas.pydata.org/pandas-docs/stable/user_guide/indexing.html#returning-a-view-versus-a-copy\n",
      "  self._setitem_single_column(loc, value, pi)\n"
     ]
    },
    {
     "name": "stderr",
     "output_type": "stream",
     "text": [
      "26it [20:04, 38.86s/it]"
     ]
    },
    {
     "name": "stdout",
     "output_type": "stream",
     "text": [
      "/Users/amandeep/Github/table-linker/tl_env/lib/python3.8/site-packages/pandas/core/indexing.py:1684: SettingWithCopyWarning: \n",
      "A value is trying to be set on a copy of a slice from a DataFrame.\n",
      "Try using .loc[row_indexer,col_indexer] = value instead\n",
      "\n",
      "See the caveats in the documentation: https://pandas.pydata.org/pandas-docs/stable/user_guide/indexing.html#returning-a-view-versus-a-copy\n",
      "  self.obj[key] = infer_fill_value(value)\n",
      "/Users/amandeep/Github/table-linker/tl_env/lib/python3.8/site-packages/pandas/core/indexing.py:1817: SettingWithCopyWarning: \n",
      "A value is trying to be set on a copy of a slice from a DataFrame.\n",
      "Try using .loc[row_indexer,col_indexer] = value instead\n",
      "\n",
      "See the caveats in the documentation: https://pandas.pydata.org/pandas-docs/stable/user_guide/indexing.html#returning-a-view-versus-a-copy\n",
      "  self._setitem_single_column(loc, value, pi)\n"
     ]
    },
    {
     "name": "stderr",
     "output_type": "stream",
     "text": [
      "27it [20:24, 33.24s/it]"
     ]
    },
    {
     "name": "stdout",
     "output_type": "stream",
     "text": [
      "/Users/amandeep/Github/table-linker/tl_env/lib/python3.8/site-packages/pandas/core/indexing.py:1684: SettingWithCopyWarning: \n",
      "A value is trying to be set on a copy of a slice from a DataFrame.\n",
      "Try using .loc[row_indexer,col_indexer] = value instead\n",
      "\n",
      "See the caveats in the documentation: https://pandas.pydata.org/pandas-docs/stable/user_guide/indexing.html#returning-a-view-versus-a-copy\n",
      "  self.obj[key] = infer_fill_value(value)\n",
      "/Users/amandeep/Github/table-linker/tl_env/lib/python3.8/site-packages/pandas/core/indexing.py:1817: SettingWithCopyWarning: \n",
      "A value is trying to be set on a copy of a slice from a DataFrame.\n",
      "Try using .loc[row_indexer,col_indexer] = value instead\n",
      "\n",
      "See the caveats in the documentation: https://pandas.pydata.org/pandas-docs/stable/user_guide/indexing.html#returning-a-view-versus-a-copy\n",
      "  self._setitem_single_column(loc, value, pi)\n"
     ]
    },
    {
     "name": "stderr",
     "output_type": "stream",
     "text": [
      "29it [20:50, 23.98s/it]"
     ]
    },
    {
     "name": "stdout",
     "output_type": "stream",
     "text": [
      "/Users/amandeep/Github/table-linker/tl_env/lib/python3.8/site-packages/pandas/core/indexing.py:1684: SettingWithCopyWarning: \n",
      "A value is trying to be set on a copy of a slice from a DataFrame.\n",
      "Try using .loc[row_indexer,col_indexer] = value instead\n",
      "\n",
      "See the caveats in the documentation: https://pandas.pydata.org/pandas-docs/stable/user_guide/indexing.html#returning-a-view-versus-a-copy\n",
      "  self.obj[key] = infer_fill_value(value)\n",
      "/Users/amandeep/Github/table-linker/tl_env/lib/python3.8/site-packages/pandas/core/indexing.py:1817: SettingWithCopyWarning: \n",
      "A value is trying to be set on a copy of a slice from a DataFrame.\n",
      "Try using .loc[row_indexer,col_indexer] = value instead\n",
      "\n",
      "See the caveats in the documentation: https://pandas.pydata.org/pandas-docs/stable/user_guide/indexing.html#returning-a-view-versus-a-copy\n",
      "  self._setitem_single_column(loc, value, pi)\n"
     ]
    },
    {
     "name": "stderr",
     "output_type": "stream",
     "text": [
      "30it [22:12, 38.19s/it]"
     ]
    },
    {
     "name": "stdout",
     "output_type": "stream",
     "text": [
      "/Users/amandeep/Github/table-linker/tl_env/lib/python3.8/site-packages/pandas/core/indexing.py:1684: SettingWithCopyWarning: \n",
      "A value is trying to be set on a copy of a slice from a DataFrame.\n",
      "Try using .loc[row_indexer,col_indexer] = value instead\n",
      "\n",
      "See the caveats in the documentation: https://pandas.pydata.org/pandas-docs/stable/user_guide/indexing.html#returning-a-view-versus-a-copy\n",
      "  self.obj[key] = infer_fill_value(value)\n",
      "/Users/amandeep/Github/table-linker/tl_env/lib/python3.8/site-packages/pandas/core/indexing.py:1817: SettingWithCopyWarning: \n",
      "A value is trying to be set on a copy of a slice from a DataFrame.\n",
      "Try using .loc[row_indexer,col_indexer] = value instead\n",
      "\n",
      "See the caveats in the documentation: https://pandas.pydata.org/pandas-docs/stable/user_guide/indexing.html#returning-a-view-versus-a-copy\n",
      "  self._setitem_single_column(loc, value, pi)\n"
     ]
    },
    {
     "name": "stderr",
     "output_type": "stream",
     "text": [
      "31it [24:28, 63.80s/it]"
     ]
    },
    {
     "name": "stdout",
     "output_type": "stream",
     "text": [
      "/Users/amandeep/Github/table-linker/tl_env/lib/python3.8/site-packages/pandas/core/indexing.py:1684: SettingWithCopyWarning: \n",
      "A value is trying to be set on a copy of a slice from a DataFrame.\n",
      "Try using .loc[row_indexer,col_indexer] = value instead\n",
      "\n",
      "See the caveats in the documentation: https://pandas.pydata.org/pandas-docs/stable/user_guide/indexing.html#returning-a-view-versus-a-copy\n",
      "  self.obj[key] = infer_fill_value(value)\n",
      "/Users/amandeep/Github/table-linker/tl_env/lib/python3.8/site-packages/pandas/core/indexing.py:1817: SettingWithCopyWarning: \n",
      "A value is trying to be set on a copy of a slice from a DataFrame.\n",
      "Try using .loc[row_indexer,col_indexer] = value instead\n",
      "\n",
      "See the caveats in the documentation: https://pandas.pydata.org/pandas-docs/stable/user_guide/indexing.html#returning-a-view-versus-a-copy\n",
      "  self._setitem_single_column(loc, value, pi)\n"
     ]
    },
    {
     "name": "stderr",
     "output_type": "stream",
     "text": [
      "32it [25:32, 63.80s/it]"
     ]
    },
    {
     "name": "stdout",
     "output_type": "stream",
     "text": [
      "/Users/amandeep/Github/table-linker/tl_env/lib/python3.8/site-packages/pandas/core/indexing.py:1684: SettingWithCopyWarning: \n",
      "A value is trying to be set on a copy of a slice from a DataFrame.\n",
      "Try using .loc[row_indexer,col_indexer] = value instead\n",
      "\n",
      "See the caveats in the documentation: https://pandas.pydata.org/pandas-docs/stable/user_guide/indexing.html#returning-a-view-versus-a-copy\n",
      "  self.obj[key] = infer_fill_value(value)\n",
      "/Users/amandeep/Github/table-linker/tl_env/lib/python3.8/site-packages/pandas/core/indexing.py:1817: SettingWithCopyWarning: \n",
      "A value is trying to be set on a copy of a slice from a DataFrame.\n",
      "Try using .loc[row_indexer,col_indexer] = value instead\n",
      "\n",
      "See the caveats in the documentation: https://pandas.pydata.org/pandas-docs/stable/user_guide/indexing.html#returning-a-view-versus-a-copy\n",
      "  self._setitem_single_column(loc, value, pi)\n"
     ]
    },
    {
     "name": "stderr",
     "output_type": "stream",
     "text": [
      "33it [26:03, 54.80s/it]"
     ]
    },
    {
     "name": "stdout",
     "output_type": "stream",
     "text": [
      "/Users/amandeep/Github/table-linker/tl_env/lib/python3.8/site-packages/pandas/core/indexing.py:1684: SettingWithCopyWarning: \n",
      "A value is trying to be set on a copy of a slice from a DataFrame.\n",
      "Try using .loc[row_indexer,col_indexer] = value instead\n",
      "\n",
      "See the caveats in the documentation: https://pandas.pydata.org/pandas-docs/stable/user_guide/indexing.html#returning-a-view-versus-a-copy\n",
      "  self.obj[key] = infer_fill_value(value)\n",
      "/Users/amandeep/Github/table-linker/tl_env/lib/python3.8/site-packages/pandas/core/indexing.py:1817: SettingWithCopyWarning: \n",
      "A value is trying to be set on a copy of a slice from a DataFrame.\n",
      "Try using .loc[row_indexer,col_indexer] = value instead\n",
      "\n",
      "See the caveats in the documentation: https://pandas.pydata.org/pandas-docs/stable/user_guide/indexing.html#returning-a-view-versus-a-copy\n",
      "  self._setitem_single_column(loc, value, pi)\n"
     ]
    },
    {
     "name": "stderr",
     "output_type": "stream",
     "text": [
      "34it [26:54, 53.79s/it]"
     ]
    },
    {
     "name": "stdout",
     "output_type": "stream",
     "text": [
      "/Users/amandeep/Github/table-linker/tl_env/lib/python3.8/site-packages/pandas/core/indexing.py:1684: SettingWithCopyWarning: \n",
      "A value is trying to be set on a copy of a slice from a DataFrame.\n",
      "Try using .loc[row_indexer,col_indexer] = value instead\n",
      "\n",
      "See the caveats in the documentation: https://pandas.pydata.org/pandas-docs/stable/user_guide/indexing.html#returning-a-view-versus-a-copy\n",
      "  self.obj[key] = infer_fill_value(value)\n",
      "/Users/amandeep/Github/table-linker/tl_env/lib/python3.8/site-packages/pandas/core/indexing.py:1817: SettingWithCopyWarning: \n",
      "A value is trying to be set on a copy of a slice from a DataFrame.\n",
      "Try using .loc[row_indexer,col_indexer] = value instead\n",
      "\n",
      "See the caveats in the documentation: https://pandas.pydata.org/pandas-docs/stable/user_guide/indexing.html#returning-a-view-versus-a-copy\n",
      "  self._setitem_single_column(loc, value, pi)\n"
     ]
    },
    {
     "name": "stderr",
     "output_type": "stream",
     "text": [
      "35it [27:15, 44.22s/it]"
     ]
    },
    {
     "name": "stdout",
     "output_type": "stream",
     "text": [
      "/Users/amandeep/Github/table-linker/tl_env/lib/python3.8/site-packages/pandas/core/indexing.py:1684: SettingWithCopyWarning: \n",
      "A value is trying to be set on a copy of a slice from a DataFrame.\n",
      "Try using .loc[row_indexer,col_indexer] = value instead\n",
      "\n",
      "See the caveats in the documentation: https://pandas.pydata.org/pandas-docs/stable/user_guide/indexing.html#returning-a-view-versus-a-copy\n",
      "  self.obj[key] = infer_fill_value(value)\n",
      "/Users/amandeep/Github/table-linker/tl_env/lib/python3.8/site-packages/pandas/core/indexing.py:1817: SettingWithCopyWarning: \n",
      "A value is trying to be set on a copy of a slice from a DataFrame.\n",
      "Try using .loc[row_indexer,col_indexer] = value instead\n",
      "\n",
      "See the caveats in the documentation: https://pandas.pydata.org/pandas-docs/stable/user_guide/indexing.html#returning-a-view-versus-a-copy\n",
      "  self._setitem_single_column(loc, value, pi)\n"
     ]
    },
    {
     "name": "stderr",
     "output_type": "stream",
     "text": [
      "36it [28:09, 47.02s/it]"
     ]
    },
    {
     "name": "stdout",
     "output_type": "stream",
     "text": [
      "/Users/amandeep/Github/table-linker/tl_env/lib/python3.8/site-packages/pandas/core/indexing.py:1684: SettingWithCopyWarning: \n",
      "A value is trying to be set on a copy of a slice from a DataFrame.\n",
      "Try using .loc[row_indexer,col_indexer] = value instead\n",
      "\n",
      "See the caveats in the documentation: https://pandas.pydata.org/pandas-docs/stable/user_guide/indexing.html#returning-a-view-versus-a-copy\n",
      "  self.obj[key] = infer_fill_value(value)\n",
      "/Users/amandeep/Github/table-linker/tl_env/lib/python3.8/site-packages/pandas/core/indexing.py:1817: SettingWithCopyWarning: \n",
      "A value is trying to be set on a copy of a slice from a DataFrame.\n",
      "Try using .loc[row_indexer,col_indexer] = value instead\n",
      "\n",
      "See the caveats in the documentation: https://pandas.pydata.org/pandas-docs/stable/user_guide/indexing.html#returning-a-view-versus-a-copy\n",
      "  self._setitem_single_column(loc, value, pi)\n"
     ]
    },
    {
     "name": "stderr",
     "output_type": "stream",
     "text": [
      "37it [29:28, 56.45s/it]"
     ]
    },
    {
     "name": "stdout",
     "output_type": "stream",
     "text": [
      "/Users/amandeep/Github/table-linker/tl_env/lib/python3.8/site-packages/pandas/core/indexing.py:1684: SettingWithCopyWarning: \n",
      "A value is trying to be set on a copy of a slice from a DataFrame.\n",
      "Try using .loc[row_indexer,col_indexer] = value instead\n",
      "\n",
      "See the caveats in the documentation: https://pandas.pydata.org/pandas-docs/stable/user_guide/indexing.html#returning-a-view-versus-a-copy\n",
      "  self.obj[key] = infer_fill_value(value)\n",
      "/Users/amandeep/Github/table-linker/tl_env/lib/python3.8/site-packages/pandas/core/indexing.py:1817: SettingWithCopyWarning: \n",
      "A value is trying to be set on a copy of a slice from a DataFrame.\n",
      "Try using .loc[row_indexer,col_indexer] = value instead\n",
      "\n",
      "See the caveats in the documentation: https://pandas.pydata.org/pandas-docs/stable/user_guide/indexing.html#returning-a-view-versus-a-copy\n",
      "  self._setitem_single_column(loc, value, pi)\n"
     ]
    },
    {
     "name": "stderr",
     "output_type": "stream",
     "text": [
      "38it [30:00, 49.21s/it]"
     ]
    },
    {
     "name": "stdout",
     "output_type": "stream",
     "text": [
      "/Users/amandeep/Github/table-linker/tl_env/lib/python3.8/site-packages/pandas/core/indexing.py:1684: SettingWithCopyWarning: \n",
      "A value is trying to be set on a copy of a slice from a DataFrame.\n",
      "Try using .loc[row_indexer,col_indexer] = value instead\n",
      "\n",
      "See the caveats in the documentation: https://pandas.pydata.org/pandas-docs/stable/user_guide/indexing.html#returning-a-view-versus-a-copy\n",
      "  self.obj[key] = infer_fill_value(value)\n",
      "/Users/amandeep/Github/table-linker/tl_env/lib/python3.8/site-packages/pandas/core/indexing.py:1817: SettingWithCopyWarning: \n",
      "A value is trying to be set on a copy of a slice from a DataFrame.\n",
      "Try using .loc[row_indexer,col_indexer] = value instead\n",
      "\n",
      "See the caveats in the documentation: https://pandas.pydata.org/pandas-docs/stable/user_guide/indexing.html#returning-a-view-versus-a-copy\n",
      "  self._setitem_single_column(loc, value, pi)\n"
     ]
    },
    {
     "name": "stderr",
     "output_type": "stream",
     "text": [
      "39it [30:27, 42.64s/it]"
     ]
    },
    {
     "name": "stdout",
     "output_type": "stream",
     "text": [
      "/Users/amandeep/Github/table-linker/tl_env/lib/python3.8/site-packages/pandas/core/indexing.py:1684: SettingWithCopyWarning: \n",
      "A value is trying to be set on a copy of a slice from a DataFrame.\n",
      "Try using .loc[row_indexer,col_indexer] = value instead\n",
      "\n",
      "See the caveats in the documentation: https://pandas.pydata.org/pandas-docs/stable/user_guide/indexing.html#returning-a-view-versus-a-copy\n",
      "  self.obj[key] = infer_fill_value(value)\n",
      "/Users/amandeep/Github/table-linker/tl_env/lib/python3.8/site-packages/pandas/core/indexing.py:1817: SettingWithCopyWarning: \n",
      "A value is trying to be set on a copy of a slice from a DataFrame.\n",
      "Try using .loc[row_indexer,col_indexer] = value instead\n",
      "\n",
      "See the caveats in the documentation: https://pandas.pydata.org/pandas-docs/stable/user_guide/indexing.html#returning-a-view-versus-a-copy\n",
      "  self._setitem_single_column(loc, value, pi)\n"
     ]
    },
    {
     "name": "stderr",
     "output_type": "stream",
     "text": [
      "40it [31:03, 40.63s/it]"
     ]
    },
    {
     "name": "stdout",
     "output_type": "stream",
     "text": [
      "/Users/amandeep/Github/table-linker/tl_env/lib/python3.8/site-packages/pandas/core/indexing.py:1684: SettingWithCopyWarning: \n",
      "A value is trying to be set on a copy of a slice from a DataFrame.\n",
      "Try using .loc[row_indexer,col_indexer] = value instead\n",
      "\n",
      "See the caveats in the documentation: https://pandas.pydata.org/pandas-docs/stable/user_guide/indexing.html#returning-a-view-versus-a-copy\n",
      "  self.obj[key] = infer_fill_value(value)\n",
      "/Users/amandeep/Github/table-linker/tl_env/lib/python3.8/site-packages/pandas/core/indexing.py:1817: SettingWithCopyWarning: \n",
      "A value is trying to be set on a copy of a slice from a DataFrame.\n",
      "Try using .loc[row_indexer,col_indexer] = value instead\n",
      "\n",
      "See the caveats in the documentation: https://pandas.pydata.org/pandas-docs/stable/user_guide/indexing.html#returning-a-view-versus-a-copy\n",
      "  self._setitem_single_column(loc, value, pi)\n"
     ]
    },
    {
     "name": "stderr",
     "output_type": "stream",
     "text": [
      "41it [31:33, 37.40s/it]"
     ]
    },
    {
     "name": "stdout",
     "output_type": "stream",
     "text": [
      "/Users/amandeep/Github/table-linker/tl_env/lib/python3.8/site-packages/pandas/core/indexing.py:1684: SettingWithCopyWarning: \n",
      "A value is trying to be set on a copy of a slice from a DataFrame.\n",
      "Try using .loc[row_indexer,col_indexer] = value instead\n",
      "\n",
      "See the caveats in the documentation: https://pandas.pydata.org/pandas-docs/stable/user_guide/indexing.html#returning-a-view-versus-a-copy\n",
      "  self.obj[key] = infer_fill_value(value)\n",
      "/Users/amandeep/Github/table-linker/tl_env/lib/python3.8/site-packages/pandas/core/indexing.py:1817: SettingWithCopyWarning: \n",
      "A value is trying to be set on a copy of a slice from a DataFrame.\n",
      "Try using .loc[row_indexer,col_indexer] = value instead\n",
      "\n",
      "See the caveats in the documentation: https://pandas.pydata.org/pandas-docs/stable/user_guide/indexing.html#returning-a-view-versus-a-copy\n",
      "  self._setitem_single_column(loc, value, pi)\n"
     ]
    },
    {
     "name": "stderr",
     "output_type": "stream",
     "text": [
      "42it [32:09, 36.99s/it]"
     ]
    },
    {
     "name": "stdout",
     "output_type": "stream",
     "text": [
      "/Users/amandeep/Github/table-linker/tl_env/lib/python3.8/site-packages/pandas/core/indexing.py:1684: SettingWithCopyWarning: \n",
      "A value is trying to be set on a copy of a slice from a DataFrame.\n",
      "Try using .loc[row_indexer,col_indexer] = value instead\n",
      "\n",
      "See the caveats in the documentation: https://pandas.pydata.org/pandas-docs/stable/user_guide/indexing.html#returning-a-view-versus-a-copy\n",
      "  self.obj[key] = infer_fill_value(value)\n",
      "/Users/amandeep/Github/table-linker/tl_env/lib/python3.8/site-packages/pandas/core/indexing.py:1817: SettingWithCopyWarning: \n",
      "A value is trying to be set on a copy of a slice from a DataFrame.\n",
      "Try using .loc[row_indexer,col_indexer] = value instead\n",
      "\n",
      "See the caveats in the documentation: https://pandas.pydata.org/pandas-docs/stable/user_guide/indexing.html#returning-a-view-versus-a-copy\n",
      "  self._setitem_single_column(loc, value, pi)\n"
     ]
    },
    {
     "name": "stderr",
     "output_type": "stream",
     "text": [
      "43it [32:29, 32.03s/it]"
     ]
    },
    {
     "name": "stdout",
     "output_type": "stream",
     "text": [
      "/Users/amandeep/Github/table-linker/tl_env/lib/python3.8/site-packages/pandas/core/indexing.py:1684: SettingWithCopyWarning: \n",
      "A value is trying to be set on a copy of a slice from a DataFrame.\n",
      "Try using .loc[row_indexer,col_indexer] = value instead\n",
      "\n",
      "See the caveats in the documentation: https://pandas.pydata.org/pandas-docs/stable/user_guide/indexing.html#returning-a-view-versus-a-copy\n",
      "  self.obj[key] = infer_fill_value(value)\n",
      "/Users/amandeep/Github/table-linker/tl_env/lib/python3.8/site-packages/pandas/core/indexing.py:1817: SettingWithCopyWarning: \n",
      "A value is trying to be set on a copy of a slice from a DataFrame.\n",
      "Try using .loc[row_indexer,col_indexer] = value instead\n",
      "\n",
      "See the caveats in the documentation: https://pandas.pydata.org/pandas-docs/stable/user_guide/indexing.html#returning-a-view-versus-a-copy\n",
      "  self._setitem_single_column(loc, value, pi)\n"
     ]
    },
    {
     "name": "stderr",
     "output_type": "stream",
     "text": [
      "44it [33:01, 31.78s/it]"
     ]
    },
    {
     "name": "stdout",
     "output_type": "stream",
     "text": [
      "/Users/amandeep/Github/table-linker/tl_env/lib/python3.8/site-packages/pandas/core/indexing.py:1684: SettingWithCopyWarning: \n",
      "A value is trying to be set on a copy of a slice from a DataFrame.\n",
      "Try using .loc[row_indexer,col_indexer] = value instead\n",
      "\n",
      "See the caveats in the documentation: https://pandas.pydata.org/pandas-docs/stable/user_guide/indexing.html#returning-a-view-versus-a-copy\n",
      "  self.obj[key] = infer_fill_value(value)\n",
      "/Users/amandeep/Github/table-linker/tl_env/lib/python3.8/site-packages/pandas/core/indexing.py:1817: SettingWithCopyWarning: \n",
      "A value is trying to be set on a copy of a slice from a DataFrame.\n",
      "Try using .loc[row_indexer,col_indexer] = value instead\n",
      "\n",
      "See the caveats in the documentation: https://pandas.pydata.org/pandas-docs/stable/user_guide/indexing.html#returning-a-view-versus-a-copy\n",
      "  self._setitem_single_column(loc, value, pi)\n"
     ]
    },
    {
     "name": "stderr",
     "output_type": "stream",
     "text": [
      "45it [33:45, 35.57s/it]"
     ]
    },
    {
     "name": "stdout",
     "output_type": "stream",
     "text": [
      "/Users/amandeep/Github/table-linker/tl_env/lib/python3.8/site-packages/pandas/core/indexing.py:1684: SettingWithCopyWarning: \n",
      "A value is trying to be set on a copy of a slice from a DataFrame.\n",
      "Try using .loc[row_indexer,col_indexer] = value instead\n",
      "\n",
      "See the caveats in the documentation: https://pandas.pydata.org/pandas-docs/stable/user_guide/indexing.html#returning-a-view-versus-a-copy\n",
      "  self.obj[key] = infer_fill_value(value)\n",
      "/Users/amandeep/Github/table-linker/tl_env/lib/python3.8/site-packages/pandas/core/indexing.py:1817: SettingWithCopyWarning: \n",
      "A value is trying to be set on a copy of a slice from a DataFrame.\n",
      "Try using .loc[row_indexer,col_indexer] = value instead\n",
      "\n",
      "See the caveats in the documentation: https://pandas.pydata.org/pandas-docs/stable/user_guide/indexing.html#returning-a-view-versus-a-copy\n",
      "  self._setitem_single_column(loc, value, pi)\n"
     ]
    },
    {
     "name": "stderr",
     "output_type": "stream",
     "text": [
      "46it [34:15, 33.94s/it]"
     ]
    },
    {
     "name": "stdout",
     "output_type": "stream",
     "text": [
      "/Users/amandeep/Github/table-linker/tl_env/lib/python3.8/site-packages/pandas/core/indexing.py:1684: SettingWithCopyWarning: \n",
      "A value is trying to be set on a copy of a slice from a DataFrame.\n",
      "Try using .loc[row_indexer,col_indexer] = value instead\n",
      "\n",
      "See the caveats in the documentation: https://pandas.pydata.org/pandas-docs/stable/user_guide/indexing.html#returning-a-view-versus-a-copy\n",
      "  self.obj[key] = infer_fill_value(value)\n",
      "/Users/amandeep/Github/table-linker/tl_env/lib/python3.8/site-packages/pandas/core/indexing.py:1817: SettingWithCopyWarning: \n",
      "A value is trying to be set on a copy of a slice from a DataFrame.\n",
      "Try using .loc[row_indexer,col_indexer] = value instead\n",
      "\n",
      "See the caveats in the documentation: https://pandas.pydata.org/pandas-docs/stable/user_guide/indexing.html#returning-a-view-versus-a-copy\n",
      "  self._setitem_single_column(loc, value, pi)\n"
     ]
    },
    {
     "name": "stderr",
     "output_type": "stream",
     "text": [
      "47it [35:00, 37.17s/it]"
     ]
    },
    {
     "name": "stdout",
     "output_type": "stream",
     "text": [
      "/Users/amandeep/Github/table-linker/tl_env/lib/python3.8/site-packages/pandas/core/indexing.py:1684: SettingWithCopyWarning: \n",
      "A value is trying to be set on a copy of a slice from a DataFrame.\n",
      "Try using .loc[row_indexer,col_indexer] = value instead\n",
      "\n",
      "See the caveats in the documentation: https://pandas.pydata.org/pandas-docs/stable/user_guide/indexing.html#returning-a-view-versus-a-copy\n",
      "  self.obj[key] = infer_fill_value(value)\n",
      "/Users/amandeep/Github/table-linker/tl_env/lib/python3.8/site-packages/pandas/core/indexing.py:1817: SettingWithCopyWarning: \n",
      "A value is trying to be set on a copy of a slice from a DataFrame.\n",
      "Try using .loc[row_indexer,col_indexer] = value instead\n",
      "\n",
      "See the caveats in the documentation: https://pandas.pydata.org/pandas-docs/stable/user_guide/indexing.html#returning-a-view-versus-a-copy\n",
      "  self._setitem_single_column(loc, value, pi)\n"
     ]
    },
    {
     "name": "stderr",
     "output_type": "stream",
     "text": [
      "48it [36:46, 57.71s/it]"
     ]
    },
    {
     "name": "stdout",
     "output_type": "stream",
     "text": [
      "/Users/amandeep/Github/table-linker/tl_env/lib/python3.8/site-packages/pandas/core/indexing.py:1684: SettingWithCopyWarning: \n",
      "A value is trying to be set on a copy of a slice from a DataFrame.\n",
      "Try using .loc[row_indexer,col_indexer] = value instead\n",
      "\n",
      "See the caveats in the documentation: https://pandas.pydata.org/pandas-docs/stable/user_guide/indexing.html#returning-a-view-versus-a-copy\n",
      "  self.obj[key] = infer_fill_value(value)\n",
      "/Users/amandeep/Github/table-linker/tl_env/lib/python3.8/site-packages/pandas/core/indexing.py:1817: SettingWithCopyWarning: \n",
      "A value is trying to be set on a copy of a slice from a DataFrame.\n",
      "Try using .loc[row_indexer,col_indexer] = value instead\n",
      "\n",
      "See the caveats in the documentation: https://pandas.pydata.org/pandas-docs/stable/user_guide/indexing.html#returning-a-view-versus-a-copy\n",
      "  self._setitem_single_column(loc, value, pi)\n"
     ]
    },
    {
     "name": "stderr",
     "output_type": "stream",
     "text": [
      "49it [37:26, 52.50s/it]"
     ]
    },
    {
     "name": "stdout",
     "output_type": "stream",
     "text": [
      "/Users/amandeep/Github/table-linker/tl_env/lib/python3.8/site-packages/pandas/core/indexing.py:1684: SettingWithCopyWarning: \n",
      "A value is trying to be set on a copy of a slice from a DataFrame.\n",
      "Try using .loc[row_indexer,col_indexer] = value instead\n",
      "\n",
      "See the caveats in the documentation: https://pandas.pydata.org/pandas-docs/stable/user_guide/indexing.html#returning-a-view-versus-a-copy\n",
      "  self.obj[key] = infer_fill_value(value)\n",
      "/Users/amandeep/Github/table-linker/tl_env/lib/python3.8/site-packages/pandas/core/indexing.py:1817: SettingWithCopyWarning: \n",
      "A value is trying to be set on a copy of a slice from a DataFrame.\n",
      "Try using .loc[row_indexer,col_indexer] = value instead\n",
      "\n",
      "See the caveats in the documentation: https://pandas.pydata.org/pandas-docs/stable/user_guide/indexing.html#returning-a-view-versus-a-copy\n",
      "  self._setitem_single_column(loc, value, pi)\n"
     ]
    },
    {
     "name": "stderr",
     "output_type": "stream",
     "text": [
      "50it [37:46, 42.74s/it]"
     ]
    },
    {
     "name": "stdout",
     "output_type": "stream",
     "text": [
      "/Users/amandeep/Github/table-linker/tl_env/lib/python3.8/site-packages/pandas/core/indexing.py:1684: SettingWithCopyWarning: \n",
      "A value is trying to be set on a copy of a slice from a DataFrame.\n",
      "Try using .loc[row_indexer,col_indexer] = value instead\n",
      "\n",
      "See the caveats in the documentation: https://pandas.pydata.org/pandas-docs/stable/user_guide/indexing.html#returning-a-view-versus-a-copy\n",
      "  self.obj[key] = infer_fill_value(value)\n",
      "/Users/amandeep/Github/table-linker/tl_env/lib/python3.8/site-packages/pandas/core/indexing.py:1817: SettingWithCopyWarning: \n",
      "A value is trying to be set on a copy of a slice from a DataFrame.\n",
      "Try using .loc[row_indexer,col_indexer] = value instead\n",
      "\n",
      "See the caveats in the documentation: https://pandas.pydata.org/pandas-docs/stable/user_guide/indexing.html#returning-a-view-versus-a-copy\n",
      "  self._setitem_single_column(loc, value, pi)\n"
     ]
    },
    {
     "name": "stderr",
     "output_type": "stream",
     "text": [
      "51it [38:06, 44.83s/it]\n"
     ]
    }
   ],
   "source": [
    "if not copy_features1_from_previous_version:\n",
    "    features_1(dev_candidate_path, dev_features1_path, dev_context_path, dev_class_count, dev_prop_count,pseudo_gt_model, pseudo_gt_min_max_scaler_path, dev_context_property_path)\n",
    "else:\n",
    "    !cp $dev_output_path/$PREVIOUS_VERSION/features1/*csv $dev_output_path/$VERSION/features1"
   ]
  },
  {
   "cell_type": "code",
   "execution_count": null,
   "id": "53382461-51e1-439f-a58e-606bbf42cde6",
   "metadata": {},
   "outputs": [],
   "source": [
    "def ngram_candidate_generation(path, gt_path, output_path, class_count_path, prop_count_path, context_path, graph_embedding):\n",
    "    file_list = glob.glob(path + '/*.csv')\n",
    "    for i, file in tqdm(enumerate(file_list)):\n",
    "        filename = file.split('/')[-1]\n",
    "        gt_file = f\"{ground_truth_files}/{filename}\"\n",
    "        output_file = f\"{output_path}/{filename}\"\n",
    "        \n",
    "        os.path.getsize(file) == 0:\n",
    "            continue\n",
    "        \n",
    "        !tl --log-file $tl_log_file --url $es_url --index $es_index \\\n",
    "        get-trigram-matches \"$file\" -c label_clean \\\n",
    "        --auxiliary-fields {aux_field} \\\n",
    "        --auxiliary-folder \"$temp_dir\" \\\n",
    "        --pseudo-gt-column pseudo_gt \\\n",
    "        / ground-truth-labeler --gt-file \"$gt_file\" > \"$output_file\"\n",
    "\n",
    "        for field in aux_field.split(','):\n",
    "            aux_list = []\n",
    "            for f in glob.glob(f'{temp_dir}/trigram_matches_*{field}.tsv'):\n",
    "                aux_list.append(pd.read_csv(f, sep='\\t', dtype=object))\n",
    "            aux_df = pd.concat(aux_list).drop_duplicates(subset=['qnode'])\n",
    "            if field == 'class_count':\n",
    "                class_count_file = f\"{class_count_path}/{filename.strip('.csv')}_class_count.tsv\"\n",
    "                aux_df.to_csv(class_count_file, sep='\\t', index=False)\n",
    "            elif field == 'property_count':\n",
    "                prop_count_file = f\"{prop_count_path}/{filename.strip('.csv')}_prop_count.tsv\"\n",
    "                aux_df.to_csv(prop_count_file, sep='\\t', index=False)\n",
    "            elif field == 'context':\n",
    "                context_file = f\"{context_path}/{filename.strip('.csv')}_context.tsv\"\n",
    "                aux_df.to_csv(context_file, sep='\\t', index=False)\n",
    "            else:\n",
    "                graph_embedding_file = f\"{graph_embedding}/{filename.strip('.csv')}_graph_embedding_complex.tsv\"\n",
    "                aux_df.to_csv(graph_embedding_file, sep='\\t', index=False)\n",
    "        "
   ]
  },
  {
   "cell_type": "code",
   "execution_count": null,
   "id": "d99babe1-14d4-4246-9c53-abdf8488755a",
   "metadata": {},
   "outputs": [],
   "source": [
    "ngram_candidate_generation(train_features1_path, ground_truth_files, train_trigram_candidate_path, train_trigram_class_count, train_trigram_prop_count, train_trigram_context_path, train_trigram_graph_embedding)"
   ]
  },
  {
   "cell_type": "code",
   "execution_count": null,
   "id": "f1ce5aea-ed73-4dc7-847d-e0f84c16315e",
   "metadata": {},
   "outputs": [],
   "source": [
    "ngram_candidate_generation(dev_features1_path, ground_truth_files, dev_trigram_candidate_path, dev_trigram_class_count, dev_trigram_prop_count, dev_trigram_context_path, dev_trigram_graph_embedding)"
   ]
  },
  {
   "cell_type": "code",
   "execution_count": null,
   "id": "a7f356b7-6623-4527-9582-fee39c550ff8",
   "metadata": {},
   "outputs": [],
   "source": [
    "features_1(train_trigram_candidate_path, train_trigram_features1_path, train_trigram_context_path, train_trigram_class_count, train_trigram_prop_count,pseudo_gt_model, pseudo_gt_min_max_scaler_path)getsize"
   ]
  },
  {
   "cell_type": "code",
   "execution_count": null,
   "id": "84286a65-0034-4240-aed8-ad78ff04fecb",
   "metadata": {},
   "outputs": [],
   "source": [
    "features_1(dev_trigram_candidate_path, dev_trigram_features1_path, dev_trigram_context_path, dev_trigram_class_count, dev_trigram_prop_count,pseudo_gt_model, pseudo_gt_min_max_scaler_path)"
   ]
  },
  {
   "cell_type": "code",
   "execution_count": null,
   "id": "fc65b8e0-3843-4ea6-87b0-5d509d6ba176",
   "metadata": {},
   "outputs": [],
   "source": [
    "def join_all_files(path1, path2, output_path, file_type='csv'):\n",
    "    file_list = glob.glob(f'{path1}/*.{file_type}')\n",
    "    sep='\\t' if file_type == 'tsv' else ','\n",
    "                          \n",
    "    for i, file in tqdm(enumerate(file_list)):\n",
    "         \n",
    "        filename = file.split('/')[-1]\n",
    "        output_file = f\"{output_path}/{filename}\"\n",
    "        out = []\n",
    "        if os.path.getsize(file) > 0:\n",
    "            out.append(pd.read_csv(file, sep=sep))\n",
    "        file2 = f\"{path2}/{filename}\"\n",
    "        if os.path.exists(file2) and os.path.getsize(file2) > 0:\n",
    "            out.append(pd.read_csv(file2, sep=sep))\n",
    "\n",
    "        output_file = f\"{output_path}/{filename}\"\n",
    "        out_df = pd.concat(out)\n",
    "        if len(out_df) > 0:\n",
    "            out_df.to_csv(output_file, index=False, sep=sep)\n",
    "        \n",
    "    "
   ]
  },
  {
   "cell_type": "code",
   "execution_count": null,
   "id": "334050c1-d1d2-451d-b467-88c898a86afb",
   "metadata": {},
   "outputs": [],
   "source": [
    "join_all_files(train_prop_count,train_trigram_prop_count, train_joined_prop_count, file_type='tsv')"
   ]
  },
  {
   "cell_type": "code",
   "execution_count": null,
   "id": "a519a61d-c6cb-43e3-aaf1-41a50f1eadbc",
   "metadata": {},
   "outputs": [],
   "source": [
    "join_all_files(train_class_count,train_trigram_class_count, train_joined_class_count, file_type='tsv')"
   ]
  },
  {
   "cell_type": "code",
   "execution_count": null,
   "id": "964fd19c-6201-40ed-b31e-ce77a0a3028b",
   "metadata": {},
   "outputs": [],
   "source": [
    "join_all_files(train_context_path,train_trigram_context_path, train_joined_context_path, file_type='tsv')"
   ]
  },
  {
   "cell_type": "code",
   "execution_count": null,
   "id": "fd9d25e1-e94f-475b-b7e1-4215109d0588",
   "metadata": {},
   "outputs": [],
   "source": [
    "join_all_files(train_graph_embedding,train_trigram_graph_embedding, train_joined_graph_embedding, file_type='tsv')"
   ]
  },
  {
   "cell_type": "code",
   "execution_count": null,
   "id": "a5466c13-b40e-4a9b-a639-8f72ba3da276",
   "metadata": {},
   "outputs": [],
   "source": [
    "join_all_files(dev_prop_count,dev_trigram_prop_count, dev_joined_prop_count, file_type='tsv')"
   ]
  },
  {
   "cell_type": "code",
   "execution_count": null,
   "id": "1b10e8c9-4254-4a4c-858f-f847c90664de",
   "metadata": {},
   "outputs": [],
   "source": [
    "join_all_files(dev_class_count,dev_trigram_class_count, dev_joined_class_count, file_type='tsv')"
   ]
  },
  {
   "cell_type": "code",
   "execution_count": null,
   "id": "592c511d-d5bb-4c93-b941-9b3f0e2c4103",
   "metadata": {},
   "outputs": [],
   "source": [
    "join_all_files(dev_context_path,dev_trigram_context_path, dev_joined_context_path, file_type='tsv')"
   ]
  },
  {
   "cell_type": "code",
   "execution_count": null,
   "id": "3c487363-078c-4bbe-bacc-dc3cc70d6182",
   "metadata": {},
   "outputs": [],
   "source": [
    "join_all_files(dev_graph_embedding,dev_trigram_graph_embedding, dev_joined_graph_embedding, file_type='tsv')"
   ]
  },
  {
   "cell_type": "code",
   "execution_count": null,
   "id": "bf40a6b5-abc0-4e46-a5a4-240cd58bad8f",
   "metadata": {},
   "outputs": [],
   "source": [
    "join_all_files(train_features1_path, train_trigram_features1_path,train_features1_joined_path)"
   ]
  },
  {
   "cell_type": "code",
   "execution_count": null,
   "id": "9e1d1a30-578a-4062-b1cf-58a60d711fe8",
   "metadata": {},
   "outputs": [],
   "source": [
    "join_all_files(dev_features1_path, dev_trigram_features1_path,dev_features1_joined_path)"
   ]
  },
  {
   "cell_type": "code",
   "execution_count": null,
   "id": "31c7e2e6-2bae-4495-b80f-5ff08d741d48",
   "metadata": {},
   "outputs": [],
   "source": []
  },
  {
   "cell_type": "code",
   "execution_count": 8,
   "id": "6cfc3cf1-e8d5-4827-ace9-09507f496d8a",
   "metadata": {},
   "outputs": [],
   "source": [
    "def features_2(features1_dir, output_path, context_path, context_property_path):\n",
    "    file_list = glob.glob(features1_dir + '/*.csv')\n",
    "    for i, file in tqdm(enumerate(file_list)):\n",
    "        if os.path.getsize(file) == 0:\n",
    "            continue\n",
    "        filename = file.split('/')[-1]\n",
    "        run = True\n",
    "        if filename == '0Z8LKW3C.csv' or filename == '2OJXQ9F3.csv' or filename == '1QGWWYAF.csv':\n",
    "            run=True\n",
    "            \n",
    "        output_file = f\"{output_path}/{filename}\"\n",
    "        context_file = f\"{context_path}/{filename[:-4]}_context.jl\"\n",
    "        context_property_file = f\"{context_property_path}/{filename[:-4]}_context_properties.csv\"\n",
    "        if run:\n",
    "            !tl --log-file $tl_log_file context-match $file --debug --context-file $context_file -o context_score_3 \\\n",
    "             --similarity-string-threshold 0.85 --similarity-quantity-threshold 0.9 \\\n",
    "             --use-relevant-properties --context-properties-path $context_property_file > $output_file"
   ]
  },
  {
   "cell_type": "code",
   "execution_count": null,
   "id": "259af2d4-26af-4971-9518-40644b555657",
   "metadata": {},
   "outputs": [],
   "source": [
    "features_2(train_features1_joined_path, train_features2_path, train_joined_context_path, train_context_property_path)"
   ]
  },
  {
   "cell_type": "code",
   "execution_count": 9,
   "id": "89733ec8-ebaf-4c7a-baca-57f3aafa936e",
   "metadata": {},
   "outputs": [
    {
     "name": "stderr",
     "output_type": "stream",
     "text": [
      "295it [21:26,  4.36s/it]\n"
     ]
    }
   ],
   "source": [
    "features_2(train_features1_path, train_features2_path, train_context_path, train_context_property_path)"
   ]
  },
  {
   "cell_type": "code",
   "execution_count": null,
   "id": "5630fa59-b8cd-4afd-ad52-3ee763bc0c56",
   "metadata": {},
   "outputs": [],
   "source": [
    "features_2(dev_features1_joined_path, dev_features2_path, dev_joined_context_path, dev_context_property_path)"
   ]
  },
  {
   "cell_type": "code",
   "execution_count": 10,
   "id": "cf14f055-1669-4a55-a211-1c8486b90c69",
   "metadata": {},
   "outputs": [
    {
     "name": "stderr",
     "output_type": "stream",
     "text": [
      "50it [03:26,  4.12s/it]\n"
     ]
    }
   ],
   "source": [
    "features_2(dev_features1_path, dev_features2_path, dev_context_path, dev_context_property_path)"
   ]
  },
  {
   "cell_type": "code",
   "execution_count": null,
   "id": "917e614c-378d-48e0-b10d-bef9af099d8d",
   "metadata": {},
   "outputs": [],
   "source": [
    "def features_2_1(features2_dir, output_path, context_path, context_property_path):\n",
    "    file_list = glob.glob(features2_dir + '/*.csv')\n",
    "    for i, file in tqdm(enumerate(file_list)):\n",
    "        if os.path.getsize(file) == 0:\n",
    "            continue\n",
    "        \n",
    "        filename = file.split('/')[-1]\n",
    "        output_file = f\"{output_path}/{filename}\"\n",
    "        context_file = f\"{context_path}/{filename[:-4]}_context.tsv\"\n",
    "        context_property_file = f\"{context_property_path}/{filename[:-4]}_context_properties.csv\"\n",
    "            \n",
    "        if os.path.exists(output_file) and os.path.getsize(output_file) > 0:\n",
    "            continue\n",
    "\n",
    "        !tl context-match --log-file $tl_log_file --debug --context-file $context_file -o context_score_3 \\\n",
    "            --similarity-string-threshold 0.85 --similarity-quantity-threshold 0.9 \\\n",
    "            --use-relevant-properties --context-properties-path $context_property_file >$output_file"
   ]
  },
  {
   "cell_type": "code",
   "execution_count": null,
   "id": "d356222b-0727-49d9-a55d-8d97361bc911",
   "metadata": {},
   "outputs": [],
   "source": [
    "features_2_1(train_features2_path, train_features3_path, train_joined_context_path, train_context_property_path)"
   ]
  },
  {
   "cell_type": "code",
   "execution_count": null,
   "id": "d474f450-2b0a-454d-b248-48a56dbf94c1",
   "metadata": {},
   "outputs": [],
   "source": [
    "features_2_1(train_features2_path, train_features3_path, train_context_path, train_context_property_path)"
   ]
  },
  {
   "cell_type": "code",
   "execution_count": null,
   "id": "b11b5d50-1a18-4eee-aa59-79984bef79a3",
   "metadata": {},
   "outputs": [],
   "source": [
    "features_2_1(dev_features2_path, dev_features3_path, dev_joined_context_path, dev_context_property_path)"
   ]
  },
  {
   "cell_type": "code",
   "execution_count": null,
   "id": "07bf26e6-2b58-4f8a-833a-55c7be6c147c",
   "metadata": {},
   "outputs": [],
   "source": [
    "features_2_1(dev_features2_path, dev_features3_path, dev_context_path, dev_context_property_path)"
   ]
  },
  {
   "cell_type": "code",
   "execution_count": 11,
   "id": "b38ba515-01aa-4519-853d-93552c423dab",
   "metadata": {},
   "outputs": [],
   "source": [
    "def features_3(features3_dir, output_path, ge_path, class_count_dir, property_count_dir):\n",
    "    file_list = glob.glob(features3_dir + '/*.csv')\n",
    "    for i, file in tqdm(enumerate(file_list)):\n",
    "        if os.path.getsize(file) == 0:\n",
    "            continue\n",
    "        filename = file.split('/')[-1]\n",
    "        output_file = f\"{output_path}/{filename}\"\n",
    "        embedding_file = f\"{ge_path}/{filename[:-4]}_graph_embedding_complex.tsv\"\n",
    "        class_count_file = f\"{class_count_dir}/{filename[:-4]}_class_count.tsv\"\n",
    "        property_count_file = f\"{property_count_dir}/{filename[:-4]}_prop_count.tsv\"\n",
    "\n",
    "        !tl mosaic-features -c kg_labels --num-char --num-tokens $file \\\n",
    "        / score-using-embedding \\\n",
    "        --column-vector-strategy centroid-of-lof \\\n",
    "        --lof-strategy pseudo-gt \\\n",
    "        -o pgt_centroid_score \\\n",
    "        --embedding-file $embedding_file \\\n",
    "        / compute-tf-idf  \\\n",
    "        --feature-file $class_count_file \\\n",
    "        --feature-name class_count \\\n",
    "        --singleton-column pseudo_gt \\\n",
    "        -o pgt_class_count_tf_idf_score \\\n",
    "        / compute-tf-idf \\\n",
    "        --feature-file $property_count_file \\\n",
    "        --feature-name property_count \\\n",
    "        --singleton-column pseudo_gt \\\n",
    "        -o pgt_property_count_tf_idf_score > $output_file"
   ]
  },
  {
   "cell_type": "code",
   "execution_count": null,
   "id": "8b20e216-1a43-4e06-8bb2-9141842d63ad",
   "metadata": {},
   "outputs": [],
   "source": [
    "features_3(train_features3_path, train_feature_path, train_joined_graph_embedding, train_joined_class_count, train_joined_prop_count)"
   ]
  },
  {
   "cell_type": "code",
   "execution_count": 12,
   "id": "8aa70c9f-5e21-4319-8fca-ac1739356a1c",
   "metadata": {},
   "outputs": [
    {
     "name": "stderr",
     "output_type": "stream",
     "text": [
      "0it [00:00, ?it/s]"
     ]
    },
    {
     "name": "stdout",
     "output_type": "stream",
     "text": [
      "mosaic-features Time: 0.005589008331298828s\n",
      "Qnodes to lookup: 2345\n",
      "Qnodes from file: 2322\n",
      "Outlier removal generates 5 lof-voted candidates\n",
      "score-using-embedding Time: 1.529102087020874s\n",
      "compute-tf-idf-class_count Time: 2.0038797855377197s\n",
      "compute-tf-idf-property_count Time: 2.2091290950775146s\n"
     ]
    },
    {
     "name": "stderr",
     "output_type": "stream",
     "text": [
      "1it [00:07,  7.03s/it]"
     ]
    },
    {
     "name": "stdout",
     "output_type": "stream",
     "text": [
      "mosaic-features Time: 0.012553930282592773s\n",
      "Qnodes to lookup: 1507\n",
      "Qnodes from file: 1485\n",
      "Outlier removal generates 4 lof-voted candidates\n",
      "score-using-embedding Time: 0.9691529273986816s\n",
      "compute-tf-idf-class_count Time: 1.3930001258850098s\n",
      "compute-tf-idf-property_count Time: 1.6014339923858643s\n"
     ]
    },
    {
     "name": "stderr",
     "output_type": "stream",
     "text": [
      "2it [00:13,  6.72s/it]"
     ]
    },
    {
     "name": "stdout",
     "output_type": "stream",
     "text": [
      "mosaic-features Time: 0.02823615074157715s\n",
      "Qnodes to lookup: 4984\n",
      "Qnodes from file: 4880\n",
      "Outlier removal generates 3 lof-voted candidates\n",
      "Column_vector_stragtegy centroid_of_lof failed\n",
      "Outlier removal generates 4 lof-voted candidates\n",
      "score-using-embedding Time: 3.4533040523529053s\n",
      "compute-tf-idf-class_count Time: 4.538148880004883s\n",
      "compute-tf-idf-property_count Time: 5.248530149459839s\n"
     ]
    },
    {
     "name": "stderr",
     "output_type": "stream",
     "text": [
      "3it [00:23,  7.99s/it]"
     ]
    },
    {
     "name": "stdout",
     "output_type": "stream",
     "text": [
      "mosaic-features Time: 0.006309986114501953s\n",
      "Qnodes to lookup: 3349\n",
      "Qnodes from file: 3305\n",
      "Outlier removal generates 5 lof-voted candidates\n",
      "score-using-embedding Time: 1.1092002391815186s\n",
      "compute-tf-idf-class_count Time: 1.6030869483947754s\n",
      "compute-tf-idf-property_count Time: 1.860994815826416s\n"
     ]
    },
    {
     "name": "stderr",
     "output_type": "stream",
     "text": [
      "4it [00:28,  7.08s/it]"
     ]
    },
    {
     "name": "stdout",
     "output_type": "stream",
     "text": [
      "mosaic-features Time: 0.022927045822143555s\n",
      "Qnodes to lookup: 7610\n",
      "Qnodes from file: 7385\n",
      "Outlier removal generates 5 lof-voted candidates\n",
      "Outlier removal generates 2 lof-voted candidates\n",
      "Outlier removal generates 2 lof-voted candidates\n",
      "score-using-embedding Time: 1.9890050888061523s\n",
      "compute-tf-idf-class_count Time: 3.037264108657837s\n",
      "compute-tf-idf-property_count Time: 3.741219997406006s\n"
     ]
    },
    {
     "name": "stderr",
     "output_type": "stream",
     "text": [
      "5it [00:36,  7.44s/it]"
     ]
    },
    {
     "name": "stdout",
     "output_type": "stream",
     "text": [
      "mosaic-features Time: 0.009741783142089844s\n",
      "Qnodes to lookup: 2480\n",
      "Qnodes from file: 2451\n",
      "Outlier removal generates 2 lof-voted candidates\n",
      "score-using-embedding Time: 0.928170919418335s\n",
      "compute-tf-idf-class_count Time: 1.3327758312225342s\n",
      "compute-tf-idf-property_count Time: 1.5406420230865479s\n"
     ]
    },
    {
     "name": "stderr",
     "output_type": "stream",
     "text": [
      "6it [00:43,  7.21s/it]"
     ]
    },
    {
     "name": "stdout",
     "output_type": "stream",
     "text": [
      "mosaic-features Time: 0.021789073944091797s\n",
      "Qnodes to lookup: 5697\n",
      "Qnodes from file: 5519\n",
      "Outlier removal generates 5 lof-voted candidates\n",
      "Outlier removal generates 4 lof-voted candidates\n",
      "Column_vector_stragtegy centroid_of_lof failed\n",
      "score-using-embedding Time: 1.766775131225586s\n",
      "compute-tf-idf-class_count Time: 2.720357894897461s\n",
      "compute-tf-idf-property_count Time: 3.3845040798187256s\n"
     ]
    },
    {
     "name": "stderr",
     "output_type": "stream",
     "text": [
      "7it [00:51,  7.31s/it]"
     ]
    },
    {
     "name": "stdout",
     "output_type": "stream",
     "text": [
      "mosaic-features Time: 0.02163219451904297s\n",
      "Qnodes to lookup: 7989\n",
      "Qnodes from file: 7846\n",
      "Outlier removal generates 5 lof-voted candidates\n",
      "Outlier removal generates 2 lof-voted candidates\n",
      "score-using-embedding Time: 2.013132095336914s\n",
      "compute-tf-idf-class_count Time: 3.0599539279937744s\n",
      "compute-tf-idf-property_count Time: 3.746476173400879s\n"
     ]
    },
    {
     "name": "stderr",
     "output_type": "stream",
     "text": [
      "8it [01:00,  7.97s/it]"
     ]
    },
    {
     "name": "stdout",
     "output_type": "stream",
     "text": [
      "mosaic-features Time: 0.025891780853271484s\n",
      "Qnodes to lookup: 6186\n",
      "Qnodes from file: 6024\n",
      "Outlier removal generates 4 lof-voted candidates\n",
      "Outlier removal generates 3 lof-voted candidates\n",
      "Column_vector_stragtegy centroid_of_lof failed\n",
      "score-using-embedding Time: 2.5600690841674805s\n",
      "compute-tf-idf-class_count Time: 3.7735140323638916s\n",
      "compute-tf-idf-property_count Time: 4.559926986694336s\n"
     ]
    },
    {
     "name": "stderr",
     "output_type": "stream",
     "text": [
      "9it [01:14,  9.86s/it]"
     ]
    },
    {
     "name": "stdout",
     "output_type": "stream",
     "text": [
      "mosaic-features Time: 0.042901039123535156s\n",
      "Qnodes to lookup: 5052\n",
      "Qnodes from file: 5000\n",
      "Outlier removal generates 6 lof-voted candidates\n",
      "Outlier removal generates 6 lof-voted candidates\n",
      "Outlier removal generates 2 lof-voted candidates\n",
      "Column_vector_stragtegy centroid_of_lof failed\n",
      "score-using-embedding Time: 2.603247880935669s\n",
      "compute-tf-idf-class_count Time: 3.8018240928649902s\n",
      "compute-tf-idf-property_count Time: 4.726728916168213s\n"
     ]
    },
    {
     "name": "stderr",
     "output_type": "stream",
     "text": [
      "10it [01:24,  9.79s/it]"
     ]
    },
    {
     "name": "stdout",
     "output_type": "stream",
     "text": [
      "mosaic-features Time: 0.006875276565551758s\n",
      "Qnodes to lookup: 2108\n",
      "Qnodes from file: 2066\n",
      "Outlier removal generates 4 lof-voted candidates\n",
      "score-using-embedding Time: 0.9510552883148193s\n",
      "compute-tf-idf-class_count Time: 1.364112138748169s\n",
      "compute-tf-idf-property_count Time: 1.5908451080322266s\n"
     ]
    },
    {
     "name": "stderr",
     "output_type": "stream",
     "text": [
      "11it [01:29,  8.57s/it]"
     ]
    },
    {
     "name": "stdout",
     "output_type": "stream",
     "text": [
      "mosaic-features Time: 0.015040874481201172s\n",
      "Qnodes to lookup: 2143\n",
      "Qnodes from file: 2043\n",
      "Outlier removal generates 2 lof-voted candidates\n",
      "Column_vector_stragtegy centroid_of_lof failed\n",
      "score-using-embedding Time: 1.2191250324249268s\n",
      "compute-tf-idf-class_count Time: 1.7608568668365479s\n",
      "compute-tf-idf-property_count Time: 2.1124107837677s\n"
     ]
    },
    {
     "name": "stderr",
     "output_type": "stream",
     "text": [
      "12it [01:37,  8.25s/it]"
     ]
    },
    {
     "name": "stdout",
     "output_type": "stream",
     "text": [
      "mosaic-features Time: 0.008468866348266602s\n",
      "Qnodes to lookup: 2206\n",
      "Qnodes from file: 2190\n",
      "Outlier removal generates 6 lof-voted candidates\n",
      "score-using-embedding Time: 0.8831660747528076s\n",
      "compute-tf-idf-class_count Time: 1.2745022773742676s\n",
      "compute-tf-idf-property_count Time: 1.502662181854248s\n"
     ]
    },
    {
     "name": "stderr",
     "output_type": "stream",
     "text": [
      "13it [01:43,  7.45s/it]"
     ]
    },
    {
     "name": "stdout",
     "output_type": "stream",
     "text": [
      "mosaic-features Time: 0.013139963150024414s\n",
      "Qnodes to lookup: 3428\n",
      "Qnodes from file: 3373\n",
      "Outlier removal generates 4 lof-voted candidates\n",
      "Outlier removal generates 2 lof-voted candidates\n",
      "score-using-embedding Time: 1.2141129970550537s\n",
      "compute-tf-idf-class_count Time: 1.8272130489349365s\n",
      "compute-tf-idf-property_count Time: 2.1997230052948s\n"
     ]
    },
    {
     "name": "stderr",
     "output_type": "stream",
     "text": [
      "14it [01:49,  7.03s/it]"
     ]
    },
    {
     "name": "stdout",
     "output_type": "stream",
     "text": [
      "mosaic-features Time: 0.007122993469238281s\n",
      "Qnodes to lookup: 2635\n",
      "Qnodes from file: 2592\n",
      "Outlier removal generates 4 lof-voted candidates\n",
      "score-using-embedding Time: 1.2333590984344482s\n",
      "compute-tf-idf-class_count Time: 1.7278270721435547s\n",
      "compute-tf-idf-property_count Time: 1.9944570064544678s\n"
     ]
    },
    {
     "name": "stderr",
     "output_type": "stream",
     "text": [
      "15it [01:55,  6.69s/it]"
     ]
    },
    {
     "name": "stdout",
     "output_type": "stream",
     "text": [
      "mosaic-features Time: 0.021301984786987305s\n",
      "Qnodes to lookup: 7462\n",
      "Qnodes from file: 7368\n",
      "Outlier removal generates 2 lof-voted candidates\n",
      "Outlier removal generates 5 lof-voted candidates\n",
      "Column_vector_stragtegy centroid_of_lof failed\n",
      "score-using-embedding Time: 2.1021618843078613s\n",
      "compute-tf-idf-class_count Time: 3.1130712032318115s\n",
      "compute-tf-idf-property_count Time: 3.8490066528320312s\n"
     ]
    },
    {
     "name": "stderr",
     "output_type": "stream",
     "text": [
      "16it [02:03,  7.14s/it]"
     ]
    },
    {
     "name": "stdout",
     "output_type": "stream",
     "text": [
      "mosaic-features Time: 0.006879091262817383s\n",
      "Qnodes to lookup: 2489\n",
      "Qnodes from file: 2438\n",
      "Outlier removal generates 4 lof-voted candidates\n",
      "score-using-embedding Time: 0.9001679420471191s\n",
      "compute-tf-idf-class_count Time: 1.327775001525879s\n",
      "compute-tf-idf-property_count Time: 1.5688412189483643s\n"
     ]
    },
    {
     "name": "stderr",
     "output_type": "stream",
     "text": [
      "17it [02:09,  6.79s/it]"
     ]
    },
    {
     "name": "stdout",
     "output_type": "stream",
     "text": [
      "mosaic-features Time: 0.018460988998413086s\n",
      "Qnodes to lookup: 950\n",
      "Qnodes from file: 939\n",
      "Outlier removal generates 4 lof-voted candidates\n",
      "Column_vector_stragtegy centroid_of_lof failed\n",
      "score-using-embedding Time: 1.407637119293213s\n",
      "compute-tf-idf-class_count Time: 2.0285940170288086s\n",
      "compute-tf-idf-property_count Time: 2.4605109691619873s\n"
     ]
    },
    {
     "name": "stderr",
     "output_type": "stream",
     "text": [
      "18it [02:16,  6.85s/it]"
     ]
    },
    {
     "name": "stdout",
     "output_type": "stream",
     "text": [
      "mosaic-features Time: 0.012542963027954102s\n",
      "Qnodes to lookup: 693\n",
      "Qnodes from file: 684\n",
      "Outlier removal generates 4 lof-voted candidates\n",
      "Column_vector_stragtegy centroid_of_lof failed\n",
      "score-using-embedding Time: 1.3295400142669678s\n",
      "compute-tf-idf-class_count Time: 1.8502769470214844s\n",
      "compute-tf-idf-property_count Time: 2.1641969680786133s\n"
     ]
    },
    {
     "name": "stderr",
     "output_type": "stream",
     "text": [
      "19it [02:22,  6.60s/it]"
     ]
    },
    {
     "name": "stdout",
     "output_type": "stream",
     "text": [
      "mosaic-features Time: 0.009783744812011719s\n",
      "Qnodes to lookup: 3325\n",
      "Qnodes from file: 3283\n",
      "Outlier removal generates 5 lof-voted candidates\n",
      "score-using-embedding Time: 1.402770757675171s\n",
      "compute-tf-idf-class_count Time: 1.9078330993652344s\n",
      "compute-tf-idf-property_count Time: 2.175252914428711s\n"
     ]
    },
    {
     "name": "stderr",
     "output_type": "stream",
     "text": [
      "20it [02:29,  6.73s/it]"
     ]
    },
    {
     "name": "stdout",
     "output_type": "stream",
     "text": [
      "mosaic-features Time: 0.01359701156616211s\n",
      "Qnodes to lookup: 3061\n",
      "Qnodes from file: 2888\n",
      "Outlier removal generates 5 lof-voted candidates\n",
      "Column_vector_stragtegy centroid_of_lof failed\n",
      "score-using-embedding Time: 1.2120449542999268s\n",
      "compute-tf-idf-class_count Time: 1.8154449462890625s\n",
      "compute-tf-idf-property_count Time: 2.1987972259521484s\n"
     ]
    },
    {
     "name": "stderr",
     "output_type": "stream",
     "text": [
      "21it [02:35,  6.59s/it]"
     ]
    },
    {
     "name": "stdout",
     "output_type": "stream",
     "text": [
      "mosaic-features Time: 0.03066396713256836s\n",
      "Qnodes to lookup: 6958\n",
      "Qnodes from file: 6808\n",
      "Outlier removal generates 4 lof-voted candidates\n",
      "Outlier removal generates 4 lof-voted candidates\n",
      "Outlier removal generates 4 lof-voted candidates\n",
      "Column_vector_stragtegy centroid_of_lof failed\n",
      "score-using-embedding Time: 2.5503671169281006s\n",
      "compute-tf-idf-class_count Time: 3.849877119064331s\n",
      "compute-tf-idf-property_count Time: 4.691132068634033s\n"
     ]
    },
    {
     "name": "stderr",
     "output_type": "stream",
     "text": [
      "22it [02:44,  7.27s/it]"
     ]
    },
    {
     "name": "stdout",
     "output_type": "stream",
     "text": [
      "mosaic-features Time: 0.02487492561340332s\n",
      "Qnodes to lookup: 2802\n",
      "Qnodes from file: 2783\n",
      "Outlier removal generates 4 lof-voted candidates\n",
      "Outlier removal generates 2 lof-voted candidates\n",
      "Column_vector_stragtegy centroid_of_lof failed\n",
      "score-using-embedding Time: 2.181286334991455s\n",
      "compute-tf-idf-class_count Time: 3.166656970977783s\n",
      "compute-tf-idf-property_count Time: 3.585545063018799s\n"
     ]
    },
    {
     "name": "stderr",
     "output_type": "stream",
     "text": [
      "23it [02:53,  7.94s/it]"
     ]
    },
    {
     "name": "stdout",
     "output_type": "stream",
     "text": [
      "mosaic-features Time: 0.019580841064453125s\n",
      "Qnodes to lookup: 4711\n",
      "Qnodes from file: 4570\n",
      "Outlier removal generates 4 lof-voted candidates\n",
      "Outlier removal generates 2 lof-voted candidates\n",
      "score-using-embedding Time: 1.539689064025879s\n",
      "compute-tf-idf-class_count Time: 2.271012306213379s\n",
      "compute-tf-idf-property_count Time: 2.7535219192504883s\n"
     ]
    },
    {
     "name": "stderr",
     "output_type": "stream",
     "text": [
      "24it [03:02,  8.03s/it]"
     ]
    },
    {
     "name": "stdout",
     "output_type": "stream",
     "text": [
      "mosaic-features Time: 0.019987821578979492s\n",
      "Qnodes to lookup: 6629\n",
      "Qnodes from file: 6518\n",
      "Outlier removal generates 5 lof-voted candidates\n",
      "Outlier removal generates 2 lof-voted candidates\n",
      "Outlier removal generates 2 lof-voted candidates\n",
      "score-using-embedding Time: 1.9630961418151855s\n",
      "compute-tf-idf-class_count Time: 2.9241280555725098s\n",
      "compute-tf-idf-property_count Time: 3.498892068862915s\n"
     ]
    },
    {
     "name": "stderr",
     "output_type": "stream",
     "text": [
      "25it [03:10,  8.14s/it]"
     ]
    },
    {
     "name": "stdout",
     "output_type": "stream",
     "text": [
      "mosaic-features Time: 0.014086723327636719s\n",
      "Qnodes to lookup: 4475\n",
      "Qnodes from file: 4409\n",
      "Outlier removal generates 2 lof-voted candidates\n",
      "score-using-embedding Time: 1.3307020664215088s\n",
      "compute-tf-idf-class_count Time: 2.0013787746429443s\n",
      "compute-tf-idf-property_count Time: 2.424715042114258s\n"
     ]
    },
    {
     "name": "stderr",
     "output_type": "stream",
     "text": [
      "26it [03:17,  7.84s/it]"
     ]
    },
    {
     "name": "stdout",
     "output_type": "stream",
     "text": [
      "mosaic-features Time: 0.00931406021118164s\n",
      "Qnodes to lookup: 1776\n",
      "Qnodes from file: 1764\n",
      "Column_vector_stragtegy centroid_of_lof failed\n",
      "score-using-embedding Time: 1.306929349899292s\n",
      "compute-tf-idf-class_count Time: 1.6924397945404053s\n",
      "compute-tf-idf-property_count Time: 1.9315979480743408s\n"
     ]
    },
    {
     "name": "stderr",
     "output_type": "stream",
     "text": [
      "27it [03:26,  8.29s/it]"
     ]
    },
    {
     "name": "stdout",
     "output_type": "stream",
     "text": [
      "mosaic-features Time: 0.011101245880126953s\n",
      "Qnodes to lookup: 3126\n",
      "Qnodes from file: 3076\n",
      "Outlier removal generates 3 lof-voted candidates\n",
      "score-using-embedding Time: 2.0850679874420166s\n",
      "compute-tf-idf-class_count Time: 3.012162685394287s\n",
      "compute-tf-idf-property_count Time: 3.2706120014190674s\n"
     ]
    },
    {
     "name": "stderr",
     "output_type": "stream",
     "text": [
      "28it [03:43, 10.75s/it]"
     ]
    },
    {
     "name": "stdout",
     "output_type": "stream",
     "text": [
      "mosaic-features Time: 0.013754844665527344s\n",
      "Qnodes to lookup: 3511\n",
      "Qnodes from file: 3476\n",
      "Outlier removal generates 4 lof-voted candidates\n",
      "score-using-embedding Time: 2.1933860778808594s\n",
      "compute-tf-idf-class_count Time: 2.7364540100097656s\n",
      "compute-tf-idf-property_count Time: 3.026270866394043s\n"
     ]
    },
    {
     "name": "stderr",
     "output_type": "stream",
     "text": [
      "29it [03:55, 11.02s/it]"
     ]
    },
    {
     "name": "stdout",
     "output_type": "stream",
     "text": [
      "mosaic-features Time: 0.007606983184814453s\n",
      "Qnodes to lookup: 2105\n",
      "Qnodes from file: 2080\n",
      "Outlier removal generates 5 lof-voted candidates\n",
      "score-using-embedding Time: 0.9035961627960205s\n",
      "compute-tf-idf-class_count Time: 1.328577995300293s\n",
      "compute-tf-idf-property_count Time: 1.5717260837554932s\n"
     ]
    },
    {
     "name": "stderr",
     "output_type": "stream",
     "text": [
      "30it [04:00,  9.44s/it]"
     ]
    },
    {
     "name": "stdout",
     "output_type": "stream",
     "text": [
      "mosaic-features Time: 0.006682157516479492s\n",
      "Qnodes to lookup: 836\n",
      "Qnodes from file: 820\n",
      "Column_vector_stragtegy centroid_of_lof failed\n",
      "score-using-embedding Time: 0.8371889591217041s\n",
      "compute-tf-idf-class_count Time: 1.2355010509490967s\n",
      "compute-tf-idf-property_count Time: 1.4341061115264893s\n"
     ]
    },
    {
     "name": "stderr",
     "output_type": "stream",
     "text": [
      "31it [04:06,  8.32s/it]"
     ]
    },
    {
     "name": "stdout",
     "output_type": "stream",
     "text": [
      "mosaic-features Time: 0.015259027481079102s\n",
      "Qnodes to lookup: 6576\n",
      "Qnodes from file: 6432\n",
      "Outlier removal generates 4 lof-voted candidates\n",
      "Outlier removal generates 2 lof-voted candidates\n",
      "score-using-embedding Time: 1.6141881942749023s\n",
      "compute-tf-idf-class_count Time: 2.432933807373047s\n",
      "compute-tf-idf-property_count Time: 2.923408031463623s\n"
     ]
    },
    {
     "name": "stderr",
     "output_type": "stream",
     "text": [
      "32it [04:13,  7.90s/it]"
     ]
    },
    {
     "name": "stdout",
     "output_type": "stream",
     "text": [
      "mosaic-features Time: 0.018084049224853516s\n",
      "Qnodes to lookup: 4417\n",
      "Qnodes from file: 4324\n",
      "Outlier removal generates 3 lof-voted candidates\n",
      "Column_vector_stragtegy centroid_of_lof failed\n",
      "score-using-embedding Time: 1.5821921825408936s\n",
      "compute-tf-idf-class_count Time: 2.3880131244659424s\n",
      "compute-tf-idf-property_count Time: 2.9245669841766357s\n"
     ]
    },
    {
     "name": "stderr",
     "output_type": "stream",
     "text": [
      "33it [04:20,  7.67s/it]"
     ]
    },
    {
     "name": "stdout",
     "output_type": "stream",
     "text": [
      "mosaic-features Time: 0.03128194808959961s\n",
      "Qnodes to lookup: 7118\n",
      "Qnodes from file: 6998\n",
      "Outlier removal generates 4 lof-voted candidates\n",
      "Outlier removal generates 2 lof-voted candidates\n",
      "Column_vector_stragtegy centroid_of_lof failed\n",
      "Column_vector_stragtegy centroid_of_lof failed\n",
      "score-using-embedding Time: 2.2716121673583984s\n",
      "compute-tf-idf-class_count Time: 4.064086198806763s\n",
      "compute-tf-idf-property_count Time: 4.887422800064087s\n"
     ]
    },
    {
     "name": "stderr",
     "output_type": "stream",
     "text": [
      "34it [04:30,  8.23s/it]"
     ]
    },
    {
     "name": "stdout",
     "output_type": "stream",
     "text": [
      "mosaic-features Time: 0.02413320541381836s\n",
      "Qnodes to lookup: 4482\n",
      "Qnodes from file: 4399\n",
      "Outlier removal generates 5 lof-voted candidates\n",
      "Column_vector_stragtegy centroid_of_lof failed\n",
      "Column_vector_stragtegy centroid_of_lof failed\n",
      "score-using-embedding Time: 2.1043777465820312s\n",
      "compute-tf-idf-class_count Time: 3.153001070022583s\n",
      "compute-tf-idf-property_count Time: 3.8979063034057617s\n"
     ]
    },
    {
     "name": "stderr",
     "output_type": "stream",
     "text": [
      "35it [04:39,  8.56s/it]"
     ]
    },
    {
     "name": "stdout",
     "output_type": "stream",
     "text": [
      "mosaic-features Time: 0.0074617862701416016s\n",
      "Qnodes to lookup: 2130\n",
      "Qnodes from file: 2096\n",
      "Outlier removal generates 4 lof-voted candidates\n",
      "score-using-embedding Time: 1.1590631008148193s\n",
      "compute-tf-idf-class_count Time: 1.5938279628753662s\n",
      "compute-tf-idf-property_count Time: 1.8179340362548828s\n"
     ]
    },
    {
     "name": "stderr",
     "output_type": "stream",
     "text": [
      "36it [04:45,  7.91s/it]"
     ]
    },
    {
     "name": "stdout",
     "output_type": "stream",
     "text": [
      "mosaic-features Time: 0.03874802589416504s\n",
      "Qnodes to lookup: 16125\n",
      "Qnodes from file: 15879\n",
      "Outlier removal generates 4 lof-voted candidates\n",
      "Outlier removal generates 4 lof-voted candidates\n",
      "Column_vector_stragtegy centroid_of_lof failed\n",
      "score-using-embedding Time: 3.321296215057373s\n",
      "compute-tf-idf-class_count Time: 5.030050992965698s\n",
      "compute-tf-idf-property_count Time: 6.203325271606445s\n"
     ]
    },
    {
     "name": "stderr",
     "output_type": "stream",
     "text": [
      "37it [04:56,  8.81s/it]"
     ]
    },
    {
     "name": "stdout",
     "output_type": "stream",
     "text": [
      "mosaic-features Time: 0.02185511589050293s\n",
      "Qnodes to lookup: 5872\n",
      "Qnodes from file: 5679\n",
      "Outlier removal generates 5 lof-voted candidates\n",
      "Outlier removal generates 2 lof-voted candidates\n",
      "Column_vector_stragtegy centroid_of_lof failed\n",
      "score-using-embedding Time: 1.9500370025634766s\n",
      "compute-tf-idf-class_count Time: 2.9212889671325684s\n",
      "compute-tf-idf-property_count Time: 3.57840895652771s\n"
     ]
    },
    {
     "name": "stderr",
     "output_type": "stream",
     "text": [
      "38it [05:04,  8.53s/it]"
     ]
    },
    {
     "name": "stdout",
     "output_type": "stream",
     "text": [
      "mosaic-features Time: 0.013589143753051758s\n",
      "Qnodes to lookup: 4331\n",
      "Qnodes from file: 4287\n",
      "Outlier removal generates 4 lof-voted candidates\n",
      "Column_vector_stragtegy centroid_of_lof failed\n",
      "score-using-embedding Time: 1.415410041809082s\n",
      "compute-tf-idf-class_count Time: 2.5580508708953857s\n",
      "compute-tf-idf-property_count Time: 2.965590000152588s\n"
     ]
    },
    {
     "name": "stderr",
     "output_type": "stream",
     "text": [
      "39it [05:11,  8.03s/it]"
     ]
    },
    {
     "name": "stdout",
     "output_type": "stream",
     "text": [
      "mosaic-features Time: 0.0261690616607666s\n",
      "Qnodes to lookup: 6417\n",
      "Qnodes from file: 6186\n",
      "Outlier removal generates 4 lof-voted candidates\n",
      "Outlier removal generates 4 lof-voted candidates\n",
      "Outlier removal generates 2 lof-voted candidates\n",
      "score-using-embedding Time: 2.1185989379882812s\n",
      "compute-tf-idf-class_count Time: 2.9852309226989746s\n",
      "compute-tf-idf-property_count Time: 3.613497018814087s\n"
     ]
    },
    {
     "name": "stderr",
     "output_type": "stream",
     "text": [
      "40it [05:20,  8.37s/it]"
     ]
    },
    {
     "name": "stdout",
     "output_type": "stream",
     "text": [
      "mosaic-features Time: 0.03676486015319824s\n",
      "Qnodes to lookup: 3552\n",
      "Qnodes from file: 3517\n",
      "Outlier removal generates 6 lof-voted candidates\n",
      "Column_vector_stragtegy centroid_of_lof failed\n",
      "Outlier removal generates 2 lof-voted candidates\n",
      "Column_vector_stragtegy centroid_of_lof failed\n",
      "score-using-embedding Time: 2.426455020904541s\n",
      "compute-tf-idf-class_count Time: 3.6249446868896484s\n",
      "compute-tf-idf-property_count Time: 4.531551122665405s\n"
     ]
    },
    {
     "name": "stderr",
     "output_type": "stream",
     "text": [
      "41it [05:30,  8.66s/it]"
     ]
    },
    {
     "name": "stdout",
     "output_type": "stream",
     "text": [
      "mosaic-features Time: 0.018450260162353516s\n",
      "Qnodes to lookup: 2344\n",
      "Qnodes from file: 2302\n",
      "Outlier removal generates 5 lof-voted candidates\n",
      "Column_vector_stragtegy centroid_of_lof failed\n",
      "score-using-embedding Time: 2.189061164855957s\n",
      "compute-tf-idf-class_count Time: 2.9633469581604004s\n",
      "compute-tf-idf-property_count Time: 3.4633848667144775s\n"
     ]
    },
    {
     "name": "stderr",
     "output_type": "stream",
     "text": [
      "42it [05:37,  8.46s/it]"
     ]
    },
    {
     "name": "stdout",
     "output_type": "stream",
     "text": [
      "mosaic-features Time: 0.008330106735229492s\n",
      "Qnodes to lookup: 2206\n",
      "Qnodes from file: 2195\n",
      "Outlier removal generates 2 lof-voted candidates\n",
      "score-using-embedding Time: 1.4750988483428955s\n",
      "compute-tf-idf-class_count Time: 2.199449062347412s\n",
      "compute-tf-idf-property_count Time: 2.4527747631073s\n"
     ]
    },
    {
     "name": "stderr",
     "output_type": "stream",
     "text": [
      "43it [05:47,  8.64s/it]"
     ]
    },
    {
     "name": "stdout",
     "output_type": "stream",
     "text": [
      "mosaic-features Time: 0.008756875991821289s\n",
      "Qnodes to lookup: 1976\n",
      "Qnodes from file: 1941\n",
      "Outlier removal generates 7 lof-voted candidates\n",
      "score-using-embedding Time: 2.117547035217285s\n",
      "compute-tf-idf-class_count Time: 2.9757959842681885s\n",
      "compute-tf-idf-property_count Time: 3.215298891067505s\n"
     ]
    },
    {
     "name": "stderr",
     "output_type": "stream",
     "text": [
      "44it [06:00, 10.05s/it]"
     ]
    },
    {
     "name": "stdout",
     "output_type": "stream",
     "text": [
      "mosaic-features Time: 0.011703014373779297s\n",
      "Qnodes to lookup: 697\n",
      "Qnodes from file: 620\n",
      "Outlier removal generates 2 lof-voted candidates\n",
      "Column_vector_stragtegy centroid_of_lof failed\n",
      "score-using-embedding Time: 1.9626269340515137s\n",
      "compute-tf-idf-class_count Time: 2.4762980937957764s\n",
      "compute-tf-idf-property_count Time: 2.7829408645629883s\n"
     ]
    },
    {
     "name": "stderr",
     "output_type": "stream",
     "text": [
      "45it [06:08,  9.38s/it]"
     ]
    },
    {
     "name": "stdout",
     "output_type": "stream",
     "text": [
      "mosaic-features Time: 0.0178072452545166s\n",
      "Qnodes to lookup: 2879\n",
      "Qnodes from file: 2829\n",
      "Outlier removal generates 4 lof-voted candidates\n",
      "Column_vector_stragtegy centroid_of_lof failed\n",
      "Column_vector_stragtegy centroid_of_lof failed\n",
      "score-using-embedding Time: 1.5002739429473877s\n",
      "compute-tf-idf-class_count Time: 2.2260608673095703s\n",
      "compute-tf-idf-property_count Time: 2.6952009201049805s\n"
     ]
    },
    {
     "name": "stderr",
     "output_type": "stream",
     "text": [
      "46it [06:15,  8.66s/it]"
     ]
    },
    {
     "name": "stdout",
     "output_type": "stream",
     "text": [
      "mosaic-features Time: 0.008252143859863281s\n",
      "Qnodes to lookup: 2823\n",
      "Qnodes from file: 2780\n",
      "Outlier removal generates 2 lof-voted candidates\n",
      "score-using-embedding Time: 1.006619930267334s\n",
      "compute-tf-idf-class_count Time: 1.4671659469604492s\n",
      "compute-tf-idf-property_count Time: 1.7374038696289062s\n"
     ]
    },
    {
     "name": "stderr",
     "output_type": "stream",
     "text": [
      "47it [06:21,  7.98s/it]"
     ]
    },
    {
     "name": "stdout",
     "output_type": "stream",
     "text": [
      "mosaic-features Time: 0.008883953094482422s\n",
      "Qnodes to lookup: 2490\n",
      "Qnodes from file: 2463\n",
      "Outlier removal generates 2 lof-voted candidates\n",
      "score-using-embedding Time: 0.9483840465545654s\n",
      "compute-tf-idf-class_count Time: 1.3671669960021973s\n",
      "compute-tf-idf-property_count Time: 1.5844690799713135s\n"
     ]
    },
    {
     "name": "stderr",
     "output_type": "stream",
     "text": [
      "48it [06:27,  7.31s/it]"
     ]
    },
    {
     "name": "stdout",
     "output_type": "stream",
     "text": [
      "mosaic-features Time: 0.006573200225830078s\n",
      "Qnodes to lookup: 2112\n",
      "Qnodes from file: 1976\n",
      "Outlier removal generates 6 lof-voted candidates\n",
      "score-using-embedding Time: 0.9008369445800781s\n",
      "compute-tf-idf-class_count Time: 1.3063080310821533s\n",
      "compute-tf-idf-property_count Time: 1.5182619094848633s\n"
     ]
    },
    {
     "name": "stderr",
     "output_type": "stream",
     "text": [
      "49it [06:32,  6.70s/it]"
     ]
    },
    {
     "name": "stdout",
     "output_type": "stream",
     "text": [
      "mosaic-features Time: 0.024053573608398438s\n",
      "Qnodes to lookup: 2459\n",
      "Qnodes from file: 2430\n",
      "Outlier removal generates 5 lof-voted candidates\n",
      "Column_vector_stragtegy centroid_of_lof failed\n",
      "Column_vector_stragtegy centroid_of_lof failed\n",
      "score-using-embedding Time: 1.7818989753723145s\n",
      "compute-tf-idf-class_count Time: 2.6025960445404053s\n",
      "compute-tf-idf-property_count Time: 3.1606552600860596s\n"
     ]
    },
    {
     "name": "stderr",
     "output_type": "stream",
     "text": [
      "50it [06:40,  6.95s/it]"
     ]
    },
    {
     "name": "stdout",
     "output_type": "stream",
     "text": [
      "mosaic-features Time: 0.00848388671875s\n",
      "Qnodes to lookup: 276\n",
      "Qnodes from file: 271\n",
      "Outlier removal generates 5 lof-voted candidates\n",
      "score-using-embedding Time: 0.8176357746124268s\n",
      "compute-tf-idf-class_count Time: 1.1550922393798828s\n",
      "compute-tf-idf-property_count Time: 1.3546648025512695s\n"
     ]
    },
    {
     "name": "stderr",
     "output_type": "stream",
     "text": [
      "51it [06:45,  6.54s/it]"
     ]
    },
    {
     "name": "stdout",
     "output_type": "stream",
     "text": [
      "mosaic-features Time: 0.024354934692382812s\n",
      "Qnodes to lookup: 7594\n",
      "Qnodes from file: 7399\n",
      "Outlier removal generates 4 lof-voted candidates\n",
      "Column_vector_stragtegy centroid_of_lof failed\n",
      "Outlier removal generates 2 lof-voted candidates\n",
      "score-using-embedding Time: 2.028519868850708s\n",
      "compute-tf-idf-class_count Time: 3.0623250007629395s\n",
      "compute-tf-idf-property_count Time: 3.7570507526397705s\n"
     ]
    },
    {
     "name": "stderr",
     "output_type": "stream",
     "text": [
      "52it [06:54,  7.23s/it]"
     ]
    },
    {
     "name": "stdout",
     "output_type": "stream",
     "text": [
      "mosaic-features Time: 0.009541988372802734s\n",
      "Qnodes to lookup: 2530\n",
      "Qnodes from file: 2497\n",
      "Outlier removal generates 4 lof-voted candidates\n",
      "score-using-embedding Time: 0.9806687831878662s\n",
      "compute-tf-idf-class_count Time: 1.4061121940612793s\n",
      "compute-tf-idf-property_count Time: 1.652881145477295s\n"
     ]
    },
    {
     "name": "stderr",
     "output_type": "stream",
     "text": [
      "53it [07:00,  6.88s/it]"
     ]
    },
    {
     "name": "stdout",
     "output_type": "stream",
     "text": [
      "mosaic-features Time: 0.009097814559936523s\n",
      "Qnodes to lookup: 1749\n",
      "Qnodes from file: 1728\n",
      "Outlier removal generates 4 lof-voted candidates\n",
      "score-using-embedding Time: 1.1002330780029297s\n",
      "compute-tf-idf-class_count Time: 1.5783727169036865s\n",
      "compute-tf-idf-property_count Time: 1.8428421020507812s\n"
     ]
    },
    {
     "name": "stderr",
     "output_type": "stream",
     "text": [
      "54it [07:06,  6.51s/it]"
     ]
    },
    {
     "name": "stdout",
     "output_type": "stream",
     "text": [
      "mosaic-features Time: 0.017225980758666992s\n",
      "Qnodes to lookup: 5615\n",
      "Qnodes from file: 5505\n",
      "Outlier removal generates 4 lof-voted candidates\n",
      "Column_vector_stragtegy centroid_of_lof failed\n",
      "Outlier removal generates 2 lof-voted candidates\n",
      "score-using-embedding Time: 1.6744980812072754s\n",
      "compute-tf-idf-class_count Time: 2.525887966156006s\n",
      "compute-tf-idf-property_count Time: 3.01579213142395s\n"
     ]
    },
    {
     "name": "stderr",
     "output_type": "stream",
     "text": [
      "55it [07:15,  7.23s/it]"
     ]
    },
    {
     "name": "stdout",
     "output_type": "stream",
     "text": [
      "mosaic-features Time: 0.026790857315063477s\n",
      "Qnodes to lookup: 7326\n",
      "Qnodes from file: 7177\n",
      "Outlier removal generates 4 lof-voted candidates\n",
      "Outlier removal generates 4 lof-voted candidates\n",
      "Outlier removal generates 2 lof-voted candidates\n",
      "score-using-embedding Time: 2.283050298690796s\n",
      "compute-tf-idf-class_count Time: 3.458514928817749s\n",
      "compute-tf-idf-property_count Time: 4.190187931060791s\n"
     ]
    },
    {
     "name": "stderr",
     "output_type": "stream",
     "text": [
      "56it [07:24,  7.88s/it]"
     ]
    },
    {
     "name": "stdout",
     "output_type": "stream",
     "text": [
      "mosaic-features Time: 0.014516830444335938s\n",
      "Qnodes to lookup: 4459\n",
      "Qnodes from file: 4359\n",
      "Outlier removal generates 4 lof-voted candidates\n",
      "Outlier removal generates 2 lof-voted candidates\n",
      "score-using-embedding Time: 1.395327091217041s\n",
      "compute-tf-idf-class_count Time: 2.1071767807006836s\n",
      "compute-tf-idf-property_count Time: 2.535061836242676s\n"
     ]
    },
    {
     "name": "stderr",
     "output_type": "stream",
     "text": [
      "57it [07:31,  7.64s/it]"
     ]
    },
    {
     "name": "stdout",
     "output_type": "stream",
     "text": [
      "mosaic-features Time: 0.016475915908813477s\n",
      "Qnodes to lookup: 6091\n",
      "Qnodes from file: 5906\n",
      "Outlier removal generates 5 lof-voted candidates\n",
      "Outlier removal generates 2 lof-voted candidates\n",
      "score-using-embedding Time: 1.662567138671875s\n",
      "compute-tf-idf-class_count Time: 2.5000460147857666s\n",
      "compute-tf-idf-property_count Time: 3.0317771434783936s\n"
     ]
    },
    {
     "name": "stderr",
     "output_type": "stream",
     "text": [
      "58it [07:39,  7.69s/it]"
     ]
    },
    {
     "name": "stdout",
     "output_type": "stream",
     "text": [
      "mosaic-features Time: 0.01456904411315918s\n",
      "Qnodes to lookup: 4487\n",
      "Qnodes from file: 4428\n",
      "Outlier removal generates 5 lof-voted candidates\n",
      "Outlier removal generates 4 lof-voted candidates\n",
      "score-using-embedding Time: 1.6394290924072266s\n",
      "compute-tf-idf-class_count Time: 2.205706834793091s\n",
      "compute-tf-idf-property_count Time: 2.626683235168457s\n"
     ]
    },
    {
     "name": "stderr",
     "output_type": "stream",
     "text": [
      "59it [07:49,  8.28s/it]"
     ]
    },
    {
     "name": "stdout",
     "output_type": "stream",
     "text": [
      "mosaic-features Time: 0.006345033645629883s\n",
      "Qnodes to lookup: 1196\n",
      "Qnodes from file: 1189\n",
      "Outlier removal generates 5 lof-voted candidates\n",
      "score-using-embedding Time: 1.2937531471252441s\n",
      "compute-tf-idf-class_count Time: 1.7135851383209229s\n",
      "compute-tf-idf-property_count Time: 1.8972229957580566s\n"
     ]
    },
    {
     "name": "stderr",
     "output_type": "stream",
     "text": [
      "60it [08:00,  9.20s/it]"
     ]
    },
    {
     "name": "stdout",
     "output_type": "stream",
     "text": [
      "mosaic-features Time: 0.014242887496948242s\n",
      "Qnodes to lookup: 930\n",
      "Qnodes from file: 909\n",
      "Outlier removal generates 4 lof-voted candidates\n",
      "Column_vector_stragtegy centroid_of_lof failed\n",
      "score-using-embedding Time: 1.474759817123413s\n",
      "compute-tf-idf-class_count Time: 2.017665147781372s\n",
      "compute-tf-idf-property_count Time: 3.0479440689086914s\n"
     ]
    },
    {
     "name": "stderr",
     "output_type": "stream",
     "text": [
      "61it [08:11,  9.86s/it]"
     ]
    },
    {
     "name": "stdout",
     "output_type": "stream",
     "text": [
      "mosaic-features Time: 0.009050846099853516s\n",
      "Qnodes to lookup: 2620\n",
      "Qnodes from file: 2589\n",
      "Outlier removal generates 4 lof-voted candidates\n",
      "score-using-embedding Time: 0.9395618438720703s\n",
      "compute-tf-idf-class_count Time: 1.32352614402771s\n",
      "compute-tf-idf-property_count Time: 1.5529489517211914s\n"
     ]
    },
    {
     "name": "stderr",
     "output_type": "stream",
     "text": [
      "62it [08:19,  9.11s/it]"
     ]
    },
    {
     "name": "stdout",
     "output_type": "stream",
     "text": [
      "mosaic-features Time: 0.0065538883209228516s\n",
      "Qnodes to lookup: 2617\n",
      "Qnodes from file: 2562\n",
      "Outlier removal generates 4 lof-voted candidates\n",
      "score-using-embedding Time: 1.4792931079864502s\n",
      "compute-tf-idf-class_count Time: 2.5649421215057373s\n",
      "compute-tf-idf-property_count Time: 2.7815239429473877s\n"
     ]
    },
    {
     "name": "stderr",
     "output_type": "stream",
     "text": [
      "63it [08:25,  8.36s/it]"
     ]
    },
    {
     "name": "stdout",
     "output_type": "stream",
     "text": [
      "mosaic-features Time: 0.022816896438598633s\n",
      "Qnodes to lookup: 5103\n",
      "Qnodes from file: 5025\n",
      "Outlier removal generates 5 lof-voted candidates\n",
      "Outlier removal generates 4 lof-voted candidates\n",
      "Column_vector_stragtegy centroid_of_lof failed\n",
      "score-using-embedding Time: 1.9823670387268066s\n",
      "compute-tf-idf-class_count Time: 3.090985059738159s\n",
      "compute-tf-idf-property_count Time: 3.7731618881225586s\n"
     ]
    },
    {
     "name": "stderr",
     "output_type": "stream",
     "text": [
      "64it [08:35,  8.63s/it]"
     ]
    },
    {
     "name": "stdout",
     "output_type": "stream",
     "text": [
      "mosaic-features Time: 0.02365279197692871s\n",
      "Qnodes to lookup: 765\n",
      "Qnodes from file: 757\n",
      "Outlier removal generates 4 lof-voted candidates\n",
      "Column_vector_stragtegy centroid_of_lof failed\n",
      "Column_vector_stragtegy centroid_of_lof failed\n",
      "score-using-embedding Time: 1.5481863021850586s\n",
      "compute-tf-idf-class_count Time: 2.2131259441375732s\n",
      "compute-tf-idf-property_count Time: 2.672926187515259s\n"
     ]
    },
    {
     "name": "stderr",
     "output_type": "stream",
     "text": [
      "65it [08:41,  7.97s/it]"
     ]
    },
    {
     "name": "stdout",
     "output_type": "stream",
     "text": [
      "mosaic-features Time: 0.008078813552856445s\n",
      "Qnodes to lookup: 2407\n",
      "Qnodes from file: 2369\n",
      "Outlier removal generates 5 lof-voted candidates\n",
      "score-using-embedding Time: 0.9055149555206299s\n",
      "compute-tf-idf-class_count Time: 1.307422161102295s\n",
      "compute-tf-idf-property_count Time: 1.5746212005615234s\n"
     ]
    },
    {
     "name": "stderr",
     "output_type": "stream",
     "text": [
      "66it [08:48,  7.53s/it]"
     ]
    },
    {
     "name": "stdout",
     "output_type": "stream",
     "text": [
      "mosaic-features Time: 0.020402193069458008s\n",
      "Qnodes to lookup: 5874\n",
      "Qnodes from file: 5817\n",
      "Outlier removal generates 4 lof-voted candidates\n",
      "Column_vector_stragtegy centroid_of_lof failed\n",
      "Outlier removal generates 5 lof-voted candidates\n",
      "score-using-embedding Time: 1.8637070655822754s\n",
      "compute-tf-idf-class_count Time: 2.767832040786743s\n",
      "compute-tf-idf-property_count Time: 3.3858699798583984s\n"
     ]
    },
    {
     "name": "stderr",
     "output_type": "stream",
     "text": [
      "67it [08:55,  7.48s/it]"
     ]
    },
    {
     "name": "stdout",
     "output_type": "stream",
     "text": [
      "mosaic-features Time: 0.015446901321411133s\n",
      "Qnodes to lookup: 1684\n",
      "Qnodes from file: 1661\n",
      "Outlier removal generates 5 lof-voted candidates\n",
      "Column_vector_stragtegy centroid_of_lof failed\n",
      "score-using-embedding Time: 1.360511064529419s\n",
      "compute-tf-idf-class_count Time: 2.0007810592651367s\n",
      "compute-tf-idf-property_count Time: 2.3940160274505615s\n"
     ]
    },
    {
     "name": "stderr",
     "output_type": "stream",
     "text": [
      "68it [09:01,  7.09s/it]"
     ]
    },
    {
     "name": "stdout",
     "output_type": "stream",
     "text": [
      "mosaic-features Time: 0.012313127517700195s\n",
      "Qnodes to lookup: 3097\n",
      "Qnodes from file: 3074\n",
      "Outlier removal generates 6 lof-voted candidates\n",
      "score-using-embedding Time: 1.148634910583496s\n",
      "compute-tf-idf-class_count Time: 1.585886001586914s\n",
      "compute-tf-idf-property_count Time: 1.8215482234954834s\n"
     ]
    },
    {
     "name": "stderr",
     "output_type": "stream",
     "text": [
      "69it [09:07,  6.87s/it]"
     ]
    },
    {
     "name": "stdout",
     "output_type": "stream",
     "text": [
      "mosaic-features Time: 0.008424043655395508s\n",
      "Qnodes to lookup: 2833\n",
      "Qnodes from file: 2808\n",
      "Outlier removal generates 4 lof-voted candidates\n",
      "score-using-embedding Time: 0.9906489849090576s\n",
      "compute-tf-idf-class_count Time: 1.5071768760681152s\n",
      "compute-tf-idf-property_count Time: 1.755141019821167s\n"
     ]
    },
    {
     "name": "stderr",
     "output_type": "stream",
     "text": [
      "70it [09:13,  6.63s/it]"
     ]
    },
    {
     "name": "stdout",
     "output_type": "stream",
     "text": [
      "mosaic-features Time: 0.014046907424926758s\n",
      "Qnodes to lookup: 3908\n",
      "Qnodes from file: 3614\n",
      "Outlier removal generates 2 lof-voted candidates\n",
      "Outlier removal generates 3 lof-voted candidates\n",
      "score-using-embedding Time: 1.3226737976074219s\n",
      "compute-tf-idf-class_count Time: 2.0038809776306152s\n",
      "compute-tf-idf-property_count Time: 2.415692090988159s\n"
     ]
    },
    {
     "name": "stderr",
     "output_type": "stream",
     "text": [
      "71it [09:21,  6.97s/it]"
     ]
    },
    {
     "name": "stdout",
     "output_type": "stream",
     "text": [
      "mosaic-features Time: 0.007993936538696289s\n",
      "Qnodes to lookup: 1925\n",
      "Qnodes from file: 1904\n",
      "Outlier removal generates 5 lof-voted candidates\n",
      "score-using-embedding Time: 1.2851839065551758s\n",
      "compute-tf-idf-class_count Time: 1.7455339431762695s\n",
      "compute-tf-idf-property_count Time: 1.9917380809783936s\n"
     ]
    },
    {
     "name": "stderr",
     "output_type": "stream",
     "text": [
      "72it [09:27,  6.66s/it]"
     ]
    },
    {
     "name": "stdout",
     "output_type": "stream",
     "text": [
      "mosaic-features Time: 0.007659196853637695s\n",
      "Qnodes to lookup: 2431\n",
      "Qnodes from file: 2408\n",
      "Outlier removal generates 4 lof-voted candidates\n",
      "score-using-embedding Time: 1.0178451538085938s\n",
      "compute-tf-idf-class_count Time: 1.4585719108581543s\n",
      "compute-tf-idf-property_count Time: 1.7117090225219727s\n"
     ]
    },
    {
     "name": "stderr",
     "output_type": "stream",
     "text": [
      "73it [09:34,  6.59s/it]"
     ]
    },
    {
     "name": "stdout",
     "output_type": "stream",
     "text": [
      "mosaic-features Time: 0.008044004440307617s\n",
      "Qnodes to lookup: 1101\n",
      "Qnodes from file: 1087\n",
      "Outlier removal generates 2 lof-voted candidates\n",
      "score-using-embedding Time: 0.8911349773406982s\n",
      "compute-tf-idf-class_count Time: 1.287734031677246s\n",
      "compute-tf-idf-property_count Time: 1.4911959171295166s\n"
     ]
    },
    {
     "name": "stderr",
     "output_type": "stream",
     "text": [
      "74it [09:41,  6.71s/it]"
     ]
    },
    {
     "name": "stdout",
     "output_type": "stream",
     "text": [
      "mosaic-features Time: 0.007124185562133789s\n",
      "Qnodes to lookup: 2056\n",
      "Qnodes from file: 1972\n",
      "Outlier removal generates 4 lof-voted candidates\n",
      "score-using-embedding Time: 0.9269769191741943s\n",
      "compute-tf-idf-class_count Time: 1.8303568363189697s\n",
      "compute-tf-idf-property_count Time: 2.0373737812042236s\n"
     ]
    },
    {
     "name": "stderr",
     "output_type": "stream",
     "text": [
      "75it [09:47,  6.50s/it]"
     ]
    },
    {
     "name": "stdout",
     "output_type": "stream",
     "text": [
      "mosaic-features Time: 0.014235258102416992s\n",
      "Qnodes to lookup: 2175\n",
      "Qnodes from file: 2093\n",
      "Outlier removal generates 4 lof-voted candidates\n",
      "Column_vector_stragtegy centroid_of_lof failed\n",
      "score-using-embedding Time: 1.257565975189209s\n",
      "compute-tf-idf-class_count Time: 1.881692886352539s\n",
      "compute-tf-idf-property_count Time: 2.2412872314453125s\n"
     ]
    },
    {
     "name": "stderr",
     "output_type": "stream",
     "text": [
      "76it [09:53,  6.44s/it]"
     ]
    },
    {
     "name": "stdout",
     "output_type": "stream",
     "text": [
      "mosaic-features Time: 0.009769916534423828s\n",
      "Qnodes to lookup: 2448\n",
      "Qnodes from file: 2407\n",
      "Outlier removal generates 5 lof-voted candidates\n",
      "score-using-embedding Time: 1.2693049907684326s\n",
      "compute-tf-idf-class_count Time: 1.743431806564331s\n",
      "compute-tf-idf-property_count Time: 1.9740700721740723s\n"
     ]
    },
    {
     "name": "stderr",
     "output_type": "stream",
     "text": [
      "77it [09:59,  6.46s/it]"
     ]
    },
    {
     "name": "stdout",
     "output_type": "stream",
     "text": [
      "mosaic-features Time: 0.008982181549072266s\n",
      "Qnodes to lookup: 1556\n",
      "Qnodes from file: 1532\n",
      "Outlier removal generates 5 lof-voted candidates\n",
      "score-using-embedding Time: 1.3644309043884277s\n",
      "compute-tf-idf-class_count Time: 2.367483139038086s\n",
      "compute-tf-idf-property_count Time: 2.810976982116699s\n"
     ]
    },
    {
     "name": "stderr",
     "output_type": "stream",
     "text": [
      "78it [10:08,  6.95s/it]"
     ]
    },
    {
     "name": "stdout",
     "output_type": "stream",
     "text": [
      "mosaic-features Time: 0.026915788650512695s\n",
      "Qnodes to lookup: 2050\n",
      "Qnodes from file: 2040\n",
      "Outlier removal generates 6 lof-voted candidates\n",
      "Column_vector_stragtegy centroid_of_lof failed\n",
      "Outlier removal generates 6 lof-voted candidates\n",
      "score-using-embedding Time: 2.5294251441955566s\n",
      "compute-tf-idf-class_count Time: 3.4813790321350098s\n",
      "compute-tf-idf-property_count Time: 4.328658103942871s\n"
     ]
    },
    {
     "name": "stderr",
     "output_type": "stream",
     "text": [
      "79it [10:21,  8.94s/it]"
     ]
    },
    {
     "name": "stdout",
     "output_type": "stream",
     "text": [
      "mosaic-features Time: 0.007254123687744141s\n",
      "Qnodes to lookup: 1554\n",
      "Qnodes from file: 1550\n",
      "Outlier removal generates 5 lof-voted candidates\n",
      "score-using-embedding Time: 1.505314826965332s\n",
      "compute-tf-idf-class_count Time: 3.0162901878356934s\n",
      "compute-tf-idf-property_count Time: 2.3533718585968018s\n"
     ]
    },
    {
     "name": "stderr",
     "output_type": "stream",
     "text": [
      "80it [10:31,  9.19s/it]"
     ]
    },
    {
     "name": "stdout",
     "output_type": "stream",
     "text": [
      "mosaic-features Time: 0.01679086685180664s\n",
      "Qnodes to lookup: 5229\n",
      "Qnodes from file: 5130\n",
      "Outlier removal generates 2 lof-voted candidates\n",
      "Outlier removal generates 2 lof-voted candidates\n",
      "score-using-embedding Time: 1.546475887298584s\n",
      "compute-tf-idf-class_count Time: 2.3305699825286865s\n",
      "compute-tf-idf-property_count Time: 2.7900328636169434s\n"
     ]
    },
    {
     "name": "stderr",
     "output_type": "stream",
     "text": [
      "81it [10:39,  8.76s/it]"
     ]
    },
    {
     "name": "stdout",
     "output_type": "stream",
     "text": [
      "mosaic-features Time: 0.008034944534301758s\n",
      "Qnodes to lookup: 950\n",
      "Qnodes from file: 937\n",
      "Outlier removal generates 5 lof-voted candidates\n",
      "score-using-embedding Time: 0.9039731025695801s\n",
      "compute-tf-idf-class_count Time: 1.2861881256103516s\n",
      "compute-tf-idf-property_count Time: 1.4837641716003418s\n"
     ]
    },
    {
     "name": "stderr",
     "output_type": "stream",
     "text": [
      "82it [10:44,  7.83s/it]"
     ]
    },
    {
     "name": "stdout",
     "output_type": "stream",
     "text": [
      "mosaic-features Time: 0.007894039154052734s\n",
      "Qnodes to lookup: 1397\n",
      "Qnodes from file: 1394\n",
      "Outlier removal generates 5 lof-voted candidates\n",
      "score-using-embedding Time: 0.8870558738708496s\n",
      "compute-tf-idf-class_count Time: 1.2338299751281738s\n",
      "compute-tf-idf-property_count Time: 1.4639930725097656s\n"
     ]
    },
    {
     "name": "stderr",
     "output_type": "stream",
     "text": [
      "83it [10:50,  7.30s/it]"
     ]
    },
    {
     "name": "stdout",
     "output_type": "stream",
     "text": [
      "mosaic-features Time: 0.027570247650146484s\n",
      "Qnodes to lookup: 6234\n",
      "Qnodes from file: 6110\n",
      "Outlier removal generates 4 lof-voted candidates\n",
      "Column_vector_stragtegy centroid_of_lof failed\n",
      "Column_vector_stragtegy centroid_of_lof failed\n",
      "score-using-embedding Time: 2.3534817695617676s\n",
      "compute-tf-idf-class_count Time: 3.5535991191864014s\n",
      "compute-tf-idf-property_count Time: 4.35381007194519s\n"
     ]
    },
    {
     "name": "stderr",
     "output_type": "stream",
     "text": [
      "84it [11:00,  7.88s/it]"
     ]
    },
    {
     "name": "stdout",
     "output_type": "stream",
     "text": [
      "mosaic-features Time: 0.011219263076782227s\n",
      "Qnodes to lookup: 2564\n",
      "Qnodes from file: 2536\n",
      "Outlier removal generates 4 lof-voted candidates\n",
      "Column_vector_stragtegy centroid_of_lof failed\n",
      "score-using-embedding Time: 1.1750011444091797s\n",
      "compute-tf-idf-class_count Time: 1.7377748489379883s\n",
      "compute-tf-idf-property_count Time: 2.0448639392852783s\n"
     ]
    },
    {
     "name": "stderr",
     "output_type": "stream",
     "text": [
      "85it [11:06,  7.47s/it]"
     ]
    },
    {
     "name": "stdout",
     "output_type": "stream",
     "text": [
      "mosaic-features Time: 0.018723249435424805s\n",
      "Qnodes to lookup: 3270\n",
      "Qnodes from file: 3226\n",
      "Outlier removal generates 4 lof-voted candidates\n",
      "Column_vector_stragtegy centroid_of_lof failed\n",
      "score-using-embedding Time: 1.4081752300262451s\n",
      "compute-tf-idf-class_count Time: 2.114215850830078s\n",
      "compute-tf-idf-property_count Time: 2.5525732040405273s\n"
     ]
    },
    {
     "name": "stderr",
     "output_type": "stream",
     "text": [
      "86it [11:13,  7.24s/it]"
     ]
    },
    {
     "name": "stdout",
     "output_type": "stream",
     "text": [
      "mosaic-features Time: 0.007981061935424805s\n",
      "Qnodes to lookup: 2545\n",
      "Qnodes from file: 2524\n",
      "Outlier removal generates 5 lof-voted candidates\n",
      "score-using-embedding Time: 0.9846100807189941s\n",
      "compute-tf-idf-class_count Time: 1.4003939628601074s\n",
      "compute-tf-idf-property_count Time: 1.6474409103393555s\n"
     ]
    },
    {
     "name": "stderr",
     "output_type": "stream",
     "text": [
      "87it [11:19,  6.86s/it]"
     ]
    },
    {
     "name": "stdout",
     "output_type": "stream",
     "text": [
      "mosaic-features Time: 0.019861936569213867s\n",
      "Qnodes to lookup: 5922\n",
      "Qnodes from file: 5821\n",
      "Outlier removal generates 3 lof-voted candidates\n",
      "Outlier removal generates 2 lof-voted candidates\n",
      "Outlier removal generates 2 lof-voted candidates\n",
      "score-using-embedding Time: 1.7836251258850098s\n",
      "compute-tf-idf-class_count Time: 3.304517984390259s\n",
      "compute-tf-idf-property_count Time: 3.8940021991729736s\n"
     ]
    },
    {
     "name": "stderr",
     "output_type": "stream",
     "text": [
      "88it [11:28,  7.43s/it]"
     ]
    },
    {
     "name": "stdout",
     "output_type": "stream",
     "text": [
      "mosaic-features Time: 0.017866134643554688s\n",
      "Qnodes to lookup: 7272\n",
      "Qnodes from file: 7029\n",
      "Outlier removal generates 4 lof-voted candidates\n",
      "Outlier removal generates 2 lof-voted candidates\n",
      "Column_vector_stragtegy centroid_of_lof failed\n",
      "score-using-embedding Time: 1.7439048290252686s\n",
      "compute-tf-idf-class_count Time: 2.6121978759765625s\n",
      "compute-tf-idf-property_count Time: 3.128009080886841s\n"
     ]
    },
    {
     "name": "stderr",
     "output_type": "stream",
     "text": [
      "89it [11:35,  7.38s/it]"
     ]
    },
    {
     "name": "stdout",
     "output_type": "stream",
     "text": [
      "mosaic-features Time: 0.0182340145111084s\n",
      "Qnodes to lookup: 3663\n",
      "Qnodes from file: 3586\n",
      "Outlier removal generates 5 lof-voted candidates\n",
      "Outlier removal generates 4 lof-voted candidates\n",
      "Outlier removal generates 4 lof-voted candidates\n",
      "score-using-embedding Time: 1.6227221488952637s\n",
      "compute-tf-idf-class_count Time: 2.9057979583740234s\n",
      "compute-tf-idf-property_count Time: 3.4144489765167236s\n"
     ]
    },
    {
     "name": "stderr",
     "output_type": "stream",
     "text": [
      "90it [11:42,  7.42s/it]"
     ]
    },
    {
     "name": "stdout",
     "output_type": "stream",
     "text": [
      "mosaic-features Time: 0.02862691879272461s\n",
      "Qnodes to lookup: 7529\n",
      "Qnodes from file: 7358\n",
      "Column_vector_stragtegy centroid_of_lof failed\n",
      "Outlier removal generates 2 lof-voted candidates\n",
      "Column_vector_stragtegy centroid_of_lof failed\n",
      "Outlier removal generates 3 lof-voted candidates\n",
      "score-using-embedding Time: 2.516633987426758s\n",
      "compute-tf-idf-class_count Time: 3.797879219055176s\n",
      "compute-tf-idf-property_count Time: 4.659631252288818s\n"
     ]
    },
    {
     "name": "stderr",
     "output_type": "stream",
     "text": [
      "91it [11:52,  8.10s/it]"
     ]
    },
    {
     "name": "stdout",
     "output_type": "stream",
     "text": [
      "mosaic-features Time: 0.006515979766845703s\n",
      "Qnodes to lookup: 2081\n",
      "Qnodes from file: 2058\n",
      "Outlier removal generates 3 lof-voted candidates\n",
      "score-using-embedding Time: 0.8931591510772705s\n",
      "compute-tf-idf-class_count Time: 1.3021011352539062s\n",
      "compute-tf-idf-property_count Time: 1.4793260097503662s\n"
     ]
    },
    {
     "name": "stderr",
     "output_type": "stream",
     "text": [
      "92it [11:59,  7.68s/it]"
     ]
    },
    {
     "name": "stdout",
     "output_type": "stream",
     "text": [
      "mosaic-features Time: 0.02160191535949707s\n",
      "Qnodes to lookup: 4662\n",
      "Qnodes from file: 4591\n",
      "Outlier removal generates 4 lof-voted candidates\n",
      "Column_vector_stragtegy centroid_of_lof failed\n",
      "Column_vector_stragtegy centroid_of_lof failed\n",
      "score-using-embedding Time: 1.8696320056915283s\n",
      "compute-tf-idf-class_count Time: 2.8259100914001465s\n",
      "compute-tf-idf-property_count Time: 3.4326131343841553s\n"
     ]
    },
    {
     "name": "stderr",
     "output_type": "stream",
     "text": [
      "93it [12:07,  7.79s/it]"
     ]
    },
    {
     "name": "stdout",
     "output_type": "stream",
     "text": [
      "mosaic-features Time: 0.01896214485168457s\n",
      "Qnodes to lookup: 2586\n",
      "Qnodes from file: 2541\n",
      "Outlier removal generates 4 lof-voted candidates\n",
      "Column_vector_stragtegy centroid_of_lof failed\n",
      "score-using-embedding Time: 1.3805532455444336s\n",
      "compute-tf-idf-class_count Time: 2.1558690071105957s\n",
      "compute-tf-idf-property_count Time: 2.550513982772827s\n"
     ]
    },
    {
     "name": "stderr",
     "output_type": "stream",
     "text": [
      "94it [12:13,  7.39s/it]"
     ]
    },
    {
     "name": "stdout",
     "output_type": "stream",
     "text": [
      "mosaic-features Time: 0.008925914764404297s\n",
      "Qnodes to lookup: 2048\n",
      "Qnodes from file: 2016\n",
      "Outlier removal generates 3 lof-voted candidates\n",
      "score-using-embedding Time: 1.0887689590454102s\n",
      "compute-tf-idf-class_count Time: 1.4899201393127441s\n",
      "compute-tf-idf-property_count Time: 1.7213478088378906s\n"
     ]
    },
    {
     "name": "stderr",
     "output_type": "stream",
     "text": [
      "95it [12:20,  7.10s/it]"
     ]
    },
    {
     "name": "stdout",
     "output_type": "stream",
     "text": [
      "mosaic-features Time: 0.020111799240112305s\n",
      "Qnodes to lookup: 4306\n",
      "Qnodes from file: 4260\n",
      "Outlier removal generates 4 lof-voted candidates\n",
      "Outlier removal generates 2 lof-voted candidates\n",
      "Outlier removal generates 4 lof-voted candidates\n",
      "score-using-embedding Time: 1.5848042964935303s\n",
      "compute-tf-idf-class_count Time: 2.450618267059326s\n",
      "compute-tf-idf-property_count Time: 3.09694504737854s\n"
     ]
    },
    {
     "name": "stderr",
     "output_type": "stream",
     "text": [
      "96it [12:27,  7.23s/it]"
     ]
    },
    {
     "name": "stdout",
     "output_type": "stream",
     "text": [
      "mosaic-features Time: 0.013951778411865234s\n",
      "Qnodes to lookup: 2119\n",
      "Qnodes from file: 2082\n",
      "Outlier removal generates 5 lof-voted candidates\n",
      "Column_vector_stragtegy centroid_of_lof failed\n",
      "score-using-embedding Time: 1.5777311325073242s\n",
      "compute-tf-idf-class_count Time: 2.4633982181549072s\n",
      "compute-tf-idf-property_count Time: 3.037951946258545s\n"
     ]
    },
    {
     "name": "stderr",
     "output_type": "stream",
     "text": [
      "97it [12:37,  7.94s/it]"
     ]
    },
    {
     "name": "stdout",
     "output_type": "stream",
     "text": [
      "mosaic-features Time: 0.006325960159301758s\n",
      "Qnodes to lookup: 861\n",
      "Qnodes from file: 853\n",
      "Outlier removal generates 6 lof-voted candidates\n",
      "score-using-embedding Time: 1.0795562267303467s\n",
      "compute-tf-idf-class_count Time: 1.9596021175384521s\n",
      "compute-tf-idf-property_count Time: 2.1614420413970947s\n"
     ]
    },
    {
     "name": "stderr",
     "output_type": "stream",
     "text": [
      "98it [12:47,  8.59s/it]"
     ]
    },
    {
     "name": "stdout",
     "output_type": "stream",
     "text": [
      "mosaic-features Time: 0.025019168853759766s\n",
      "Qnodes to lookup: 3088\n",
      "Qnodes from file: 3050\n",
      "Outlier removal generates 4 lof-voted candidates\n",
      "Outlier removal generates 2 lof-voted candidates\n",
      "Outlier removal generates 4 lof-voted candidates\n",
      "Outlier removal generates 4 lof-voted candidates\n",
      "score-using-embedding Time: 2.070265054702759s\n",
      "compute-tf-idf-class_count Time: 3.231410026550293s\n",
      "compute-tf-idf-property_count Time: 3.9667558670043945s\n"
     ]
    },
    {
     "name": "stderr",
     "output_type": "stream",
     "text": [
      "99it [12:59,  9.66s/it]"
     ]
    },
    {
     "name": "stdout",
     "output_type": "stream",
     "text": [
      "mosaic-features Time: 0.006721973419189453s\n",
      "Qnodes to lookup: 2398\n",
      "Qnodes from file: 2330\n",
      "Outlier removal generates 5 lof-voted candidates\n",
      "score-using-embedding Time: 0.8960208892822266s\n",
      "compute-tf-idf-class_count Time: 1.3095428943634033s\n",
      "compute-tf-idf-property_count Time: 1.5311880111694336s\n"
     ]
    },
    {
     "name": "stderr",
     "output_type": "stream",
     "text": [
      "100it [13:05,  8.45s/it]"
     ]
    },
    {
     "name": "stdout",
     "output_type": "stream",
     "text": [
      "mosaic-features Time: 0.013984918594360352s\n",
      "Qnodes to lookup: 3756\n",
      "Qnodes from file: 3704\n",
      "Outlier removal generates 4 lof-voted candidates\n",
      "Column_vector_stragtegy centroid_of_lof failed\n",
      "score-using-embedding Time: 1.358428955078125s\n",
      "compute-tf-idf-class_count Time: 2.500828981399536s\n",
      "compute-tf-idf-property_count Time: 2.8775548934936523s\n"
     ]
    },
    {
     "name": "stderr",
     "output_type": "stream",
     "text": [
      "101it [13:12,  8.20s/it]"
     ]
    },
    {
     "name": "stdout",
     "output_type": "stream",
     "text": [
      "mosaic-features Time: 0.026001930236816406s\n",
      "Qnodes to lookup: 7812\n",
      "Qnodes from file: 7688\n",
      "Outlier removal generates 5 lof-voted candidates\n",
      "Outlier removal generates 2 lof-voted candidates\n",
      "Outlier removal generates 4 lof-voted candidates\n",
      "Column_vector_stragtegy centroid_of_lof failed\n",
      "score-using-embedding Time: 2.2888917922973633s\n",
      "compute-tf-idf-class_count Time: 3.488236665725708s\n",
      "compute-tf-idf-property_count Time: 4.244965076446533s\n"
     ]
    },
    {
     "name": "stderr",
     "output_type": "stream",
     "text": [
      "102it [13:21,  8.38s/it]"
     ]
    },
    {
     "name": "stdout",
     "output_type": "stream",
     "text": [
      "mosaic-features Time: 0.007477998733520508s\n",
      "Qnodes to lookup: 3120\n",
      "Qnodes from file: 3085\n",
      "Outlier removal generates 3 lof-voted candidates\n",
      "score-using-embedding Time: 0.9937400817871094s\n",
      "compute-tf-idf-class_count Time: 1.4434049129486084s\n",
      "compute-tf-idf-property_count Time: 1.7023701667785645s\n"
     ]
    },
    {
     "name": "stderr",
     "output_type": "stream",
     "text": [
      "103it [13:27,  7.60s/it]"
     ]
    },
    {
     "name": "stdout",
     "output_type": "stream",
     "text": [
      "mosaic-features Time: 0.022362709045410156s\n",
      "Qnodes to lookup: 8178\n",
      "Qnodes from file: 8069\n",
      "Outlier removal generates 5 lof-voted candidates\n",
      "Outlier removal generates 2 lof-voted candidates\n",
      "Outlier removal generates 2 lof-voted candidates\n",
      "score-using-embedding Time: 2.142676830291748s\n",
      "compute-tf-idf-class_count Time: 3.247422933578491s\n",
      "compute-tf-idf-property_count Time: 3.9741249084472656s\n"
     ]
    },
    {
     "name": "stderr",
     "output_type": "stream",
     "text": [
      "104it [13:36,  8.19s/it]"
     ]
    },
    {
     "name": "stdout",
     "output_type": "stream",
     "text": [
      "mosaic-features Time: 0.014470100402832031s\n",
      "Qnodes to lookup: 1034\n",
      "Qnodes from file: 1033\n",
      "Outlier removal generates 2 lof-voted candidates\n",
      "Outlier removal generates 2 lof-voted candidates\n",
      "score-using-embedding Time: 1.2211589813232422s\n",
      "compute-tf-idf-class_count Time: 2.2377519607543945s\n",
      "compute-tf-idf-property_count Time: 2.6071231365203857s\n"
     ]
    },
    {
     "name": "stderr",
     "output_type": "stream",
     "text": [
      "105it [13:44,  7.96s/it]"
     ]
    },
    {
     "name": "stdout",
     "output_type": "stream",
     "text": [
      "mosaic-features Time: 0.0073773860931396484s\n",
      "Qnodes to lookup: 1311\n",
      "Qnodes from file: 1275\n",
      "Outlier removal generates 6 lof-voted candidates\n",
      "score-using-embedding Time: 0.9005570411682129s\n",
      "compute-tf-idf-class_count Time: 1.329822063446045s\n",
      "compute-tf-idf-property_count Time: 1.5464401245117188s\n"
     ]
    },
    {
     "name": "stderr",
     "output_type": "stream",
     "text": [
      "106it [13:50,  7.31s/it]"
     ]
    },
    {
     "name": "stdout",
     "output_type": "stream",
     "text": [
      "mosaic-features Time: 0.018629074096679688s\n",
      "Qnodes to lookup: 4380\n",
      "Qnodes from file: 4293\n",
      "Column_vector_stragtegy centroid_of_lof failed\n",
      "score-using-embedding Time: 1.5412051677703857s\n",
      "compute-tf-idf-class_count Time: 2.324767827987671s\n",
      "compute-tf-idf-property_count Time: 2.7645392417907715s\n"
     ]
    },
    {
     "name": "stderr",
     "output_type": "stream",
     "text": [
      "107it [13:57,  7.33s/it]"
     ]
    },
    {
     "name": "stdout",
     "output_type": "stream",
     "text": [
      "mosaic-features Time: 0.009397029876708984s\n",
      "Qnodes to lookup: 2470\n",
      "Qnodes from file: 2406\n",
      "Outlier removal generates 5 lof-voted candidates\n",
      "score-using-embedding Time: 1.2079601287841797s\n",
      "compute-tf-idf-class_count Time: 1.6480588912963867s\n",
      "compute-tf-idf-property_count Time: 1.870208978652954s\n"
     ]
    },
    {
     "name": "stderr",
     "output_type": "stream",
     "text": [
      "108it [14:04,  7.25s/it]"
     ]
    },
    {
     "name": "stdout",
     "output_type": "stream",
     "text": [
      "mosaic-features Time: 0.017885923385620117s\n",
      "Qnodes to lookup: 5626\n",
      "Qnodes from file: 5578\n",
      "Outlier removal generates 5 lof-voted candidates\n",
      "Outlier removal generates 4 lof-voted candidates\n",
      "Outlier removal generates 2 lof-voted candidates\n",
      "score-using-embedding Time: 1.7753357887268066s\n",
      "compute-tf-idf-class_count Time: 2.719243049621582s\n",
      "compute-tf-idf-property_count Time: 3.3215599060058594s\n"
     ]
    },
    {
     "name": "stderr",
     "output_type": "stream",
     "text": [
      "109it [14:12,  7.42s/it]"
     ]
    },
    {
     "name": "stdout",
     "output_type": "stream",
     "text": [
      "mosaic-features Time: 0.02289414405822754s\n",
      "Qnodes to lookup: 7135\n",
      "Qnodes from file: 7049\n",
      "Outlier removal generates 5 lof-voted candidates\n",
      "Outlier removal generates 2 lof-voted candidates\n",
      "Outlier removal generates 2 lof-voted candidates\n",
      "score-using-embedding Time: 1.9602022171020508s\n",
      "compute-tf-idf-class_count Time: 3.00093412399292s\n",
      "compute-tf-idf-property_count Time: 3.658607244491577s\n"
     ]
    },
    {
     "name": "stderr",
     "output_type": "stream",
     "text": [
      "110it [14:20,  7.68s/it]"
     ]
    },
    {
     "name": "stdout",
     "output_type": "stream",
     "text": [
      "mosaic-features Time: 0.01531219482421875s\n",
      "Qnodes to lookup: 3184\n",
      "Qnodes from file: 3127\n",
      "Outlier removal generates 4 lof-voted candidates\n",
      "Outlier removal generates 3 lof-voted candidates\n",
      "score-using-embedding Time: 1.3254928588867188s\n",
      "compute-tf-idf-class_count Time: 2.0512869358062744s\n",
      "compute-tf-idf-property_count Time: 2.496748924255371s\n"
     ]
    },
    {
     "name": "stderr",
     "output_type": "stream",
     "text": [
      "111it [14:27,  7.57s/it]"
     ]
    },
    {
     "name": "stdout",
     "output_type": "stream",
     "text": [
      "mosaic-features Time: 0.021767854690551758s\n",
      "Qnodes to lookup: 4786\n",
      "Qnodes from file: 4717\n",
      "Outlier removal generates 4 lof-voted candidates\n",
      "Outlier removal generates 2 lof-voted candidates\n",
      "score-using-embedding Time: 1.7491867542266846s\n",
      "compute-tf-idf-class_count Time: 2.522284746170044s\n",
      "compute-tf-idf-property_count Time: 2.945950984954834s\n"
     ]
    },
    {
     "name": "stderr",
     "output_type": "stream",
     "text": [
      "112it [14:35,  7.56s/it]"
     ]
    },
    {
     "name": "stdout",
     "output_type": "stream",
     "text": [
      "mosaic-features Time: 0.01964282989501953s\n",
      "Qnodes to lookup: 2672\n",
      "Qnodes from file: 2628\n",
      "Outlier removal generates 4 lof-voted candidates\n",
      "Column_vector_stragtegy centroid_of_lof failed\n",
      "score-using-embedding Time: 1.5868258476257324s\n",
      "compute-tf-idf-class_count Time: 2.4302978515625s\n",
      "compute-tf-idf-property_count Time: 2.9657740592956543s\n"
     ]
    },
    {
     "name": "stderr",
     "output_type": "stream",
     "text": [
      "113it [14:42,  7.51s/it]"
     ]
    },
    {
     "name": "stdout",
     "output_type": "stream",
     "text": [
      "mosaic-features Time: 0.007632732391357422s\n",
      "Qnodes to lookup: 2245\n",
      "Qnodes from file: 2139\n",
      "Outlier removal generates 5 lof-voted candidates\n",
      "score-using-embedding Time: 1.3164689540863037s\n",
      "compute-tf-idf-class_count Time: 1.8980560302734375s\n",
      "compute-tf-idf-property_count Time: 2.129727840423584s\n"
     ]
    },
    {
     "name": "stderr",
     "output_type": "stream",
     "text": [
      "114it [14:50,  7.61s/it]"
     ]
    },
    {
     "name": "stdout",
     "output_type": "stream",
     "text": [
      "mosaic-features Time: 0.007905960083007812s\n",
      "Qnodes to lookup: 1980\n",
      "Qnodes from file: 1946\n",
      "Outlier removal generates 3 lof-voted candidates\n",
      "score-using-embedding Time: 1.3375928401947021s\n",
      "compute-tf-idf-class_count Time: 2.4911181926727295s\n",
      "compute-tf-idf-property_count Time: 2.7245900630950928s\n"
     ]
    },
    {
     "name": "stderr",
     "output_type": "stream",
     "text": [
      "115it [15:02,  8.81s/it]"
     ]
    },
    {
     "name": "stdout",
     "output_type": "stream",
     "text": [
      "mosaic-features Time: 0.0075838565826416016s\n",
      "Qnodes to lookup: 1472\n",
      "Qnodes from file: 1457\n",
      "Outlier removal generates 5 lof-voted candidates\n",
      "score-using-embedding Time: 1.3218910694122314s\n",
      "compute-tf-idf-class_count Time: 1.7022769451141357s\n",
      "compute-tf-idf-property_count Time: 1.9072320461273193s\n"
     ]
    },
    {
     "name": "stderr",
     "output_type": "stream",
     "text": [
      "116it [15:12,  9.29s/it]"
     ]
    },
    {
     "name": "stdout",
     "output_type": "stream",
     "text": [
      "mosaic-features Time: 0.0152740478515625s\n",
      "Qnodes to lookup: 1540\n",
      "Qnodes from file: 1513\n",
      "Column_vector_stragtegy centroid_of_lof failed\n",
      "Column_vector_stragtegy centroid_of_lof failed\n",
      "Column_vector_stragtegy centroid_of_lof failed\n",
      "score-using-embedding Time: 1.372849941253662s\n",
      "compute-tf-idf-class_count Time: 2.560357093811035s\n",
      "compute-tf-idf-property_count Time: 2.417525053024292s\n"
     ]
    },
    {
     "name": "stderr",
     "output_type": "stream",
     "text": [
      "117it [15:23,  9.66s/it]"
     ]
    },
    {
     "name": "stdout",
     "output_type": "stream",
     "text": [
      "mosaic-features Time: 0.02027297019958496s\n",
      "Qnodes to lookup: 9420\n",
      "Qnodes from file: 9345\n",
      "Outlier removal generates 5 lof-voted candidates\n",
      "Outlier removal generates 4 lof-voted candidates\n",
      "Outlier removal generates 3 lof-voted candidates\n",
      "score-using-embedding Time: 1.9948420524597168s\n",
      "compute-tf-idf-class_count Time: 3.57692289352417s\n",
      "compute-tf-idf-property_count Time: 4.266853094100952s\n"
     ]
    },
    {
     "name": "stderr",
     "output_type": "stream",
     "text": [
      "118it [15:31,  9.36s/it]"
     ]
    },
    {
     "name": "stdout",
     "output_type": "stream",
     "text": [
      "mosaic-features Time: 0.013825178146362305s\n",
      "Qnodes to lookup: 3333\n",
      "Qnodes from file: 3298\n",
      "Outlier removal generates 4 lof-voted candidates\n",
      "Outlier removal generates 3 lof-voted candidates\n",
      "score-using-embedding Time: 1.4763832092285156s\n",
      "compute-tf-idf-class_count Time: 2.1318418979644775s\n",
      "compute-tf-idf-property_count Time: 2.5234391689300537s\n"
     ]
    },
    {
     "name": "stderr",
     "output_type": "stream",
     "text": [
      "119it [15:39,  8.72s/it]"
     ]
    },
    {
     "name": "stdout",
     "output_type": "stream",
     "text": [
      "mosaic-features Time: 0.04302406311035156s\n",
      "Qnodes to lookup: 371\n",
      "Qnodes from file: 368\n",
      "Outlier removal generates 2 lof-voted candidates\n",
      "Column_vector_stragtegy centroid_of_lof failed\n",
      "Column_vector_stragtegy centroid_of_lof failed\n",
      "Column_vector_stragtegy centroid_of_lof failed\n",
      "score-using-embedding Time: 2.6914749145507812s\n",
      "compute-tf-idf-class_count Time: 3.9863479137420654s\n",
      "compute-tf-idf-property_count Time: 4.926877975463867s\n"
     ]
    },
    {
     "name": "stderr",
     "output_type": "stream",
     "text": [
      "120it [15:48,  8.83s/it]"
     ]
    },
    {
     "name": "stdout",
     "output_type": "stream",
     "text": [
      "mosaic-features Time: 0.013374805450439453s\n",
      "Qnodes to lookup: 2611\n",
      "Qnodes from file: 2582\n",
      "Outlier removal generates 5 lof-voted candidates\n",
      "Outlier removal generates 4 lof-voted candidates\n",
      "score-using-embedding Time: 1.178415060043335s\n",
      "compute-tf-idf-class_count Time: 1.776205062866211s\n",
      "compute-tf-idf-property_count Time: 2.129973888397217s\n"
     ]
    },
    {
     "name": "stderr",
     "output_type": "stream",
     "text": [
      "121it [15:54,  8.08s/it]"
     ]
    },
    {
     "name": "stdout",
     "output_type": "stream",
     "text": [
      "mosaic-features Time: 0.019119977951049805s\n",
      "Qnodes to lookup: 2073\n",
      "Qnodes from file: 2037\n",
      "Outlier removal generates 5 lof-voted candidates\n",
      "Column_vector_stragtegy centroid_of_lof failed\n",
      "score-using-embedding Time: 1.6753008365631104s\n",
      "compute-tf-idf-class_count Time: 2.5030572414398193s\n",
      "compute-tf-idf-property_count Time: 3.1141161918640137s\n"
     ]
    },
    {
     "name": "stderr",
     "output_type": "stream",
     "text": [
      "122it [16:02,  8.12s/it]"
     ]
    },
    {
     "name": "stdout",
     "output_type": "stream",
     "text": [
      "mosaic-features Time: 0.009605884552001953s\n",
      "Qnodes to lookup: 2177\n",
      "Qnodes from file: 2149\n",
      "Outlier removal generates 4 lof-voted candidates\n",
      "score-using-embedding Time: 1.3707029819488525s\n",
      "compute-tf-idf-class_count Time: 1.860954761505127s\n",
      "compute-tf-idf-property_count Time: 2.1315760612487793s\n"
     ]
    },
    {
     "name": "stderr",
     "output_type": "stream",
     "text": [
      "123it [16:09,  7.78s/it]"
     ]
    },
    {
     "name": "stdout",
     "output_type": "stream",
     "text": [
      "mosaic-features Time: 0.009571075439453125s\n",
      "Qnodes to lookup: 714\n",
      "Qnodes from file: 701\n",
      "Outlier removal generates 5 lof-voted candidates\n",
      "score-using-embedding Time: 1.03849196434021s\n",
      "compute-tf-idf-class_count Time: 1.4533331394195557s\n",
      "compute-tf-idf-property_count Time: 1.7192091941833496s\n"
     ]
    },
    {
     "name": "stderr",
     "output_type": "stream",
     "text": [
      "124it [16:15,  7.17s/it]"
     ]
    },
    {
     "name": "stdout",
     "output_type": "stream",
     "text": [
      "mosaic-features Time: 0.02915501594543457s\n",
      "Qnodes to lookup: 7986\n",
      "Qnodes from file: 7780\n",
      "Outlier removal generates 4 lof-voted candidates\n",
      "Outlier removal generates 4 lof-voted candidates\n",
      "Outlier removal generates 2 lof-voted candidates\n",
      "score-using-embedding Time: 2.4709668159484863s\n",
      "compute-tf-idf-class_count Time: 3.730870008468628s\n",
      "compute-tf-idf-property_count Time: 4.5725178718566895s\n"
     ]
    },
    {
     "name": "stderr",
     "output_type": "stream",
     "text": [
      "125it [16:24,  7.83s/it]"
     ]
    },
    {
     "name": "stdout",
     "output_type": "stream",
     "text": [
      "mosaic-features Time: 0.01321101188659668s\n",
      "Qnodes to lookup: 2773\n",
      "Qnodes from file: 2707\n",
      "Outlier removal generates 5 lof-voted candidates\n",
      "Outlier removal generates 4 lof-voted candidates\n",
      "score-using-embedding Time: 1.3223519325256348s\n",
      "compute-tf-idf-class_count Time: 1.9020202159881592s\n",
      "compute-tf-idf-property_count Time: 2.2832117080688477s\n"
     ]
    },
    {
     "name": "stderr",
     "output_type": "stream",
     "text": [
      "126it [16:32,  7.81s/it]"
     ]
    },
    {
     "name": "stdout",
     "output_type": "stream",
     "text": [
      "mosaic-features Time: 0.03504586219787598s\n",
      "Qnodes to lookup: 1708\n",
      "Qnodes from file: 1701\n",
      "Column_vector_stragtegy centroid_of_lof failed\n",
      "Column_vector_stragtegy centroid_of_lof failed\n",
      "Column_vector_stragtegy centroid_of_lof failed\n",
      "Column_vector_stragtegy centroid_of_lof failed\n",
      "score-using-embedding Time: 2.3785369396209717s\n",
      "compute-tf-idf-class_count Time: 3.3492069244384766s\n",
      "compute-tf-idf-property_count Time: 4.149996042251587s\n"
     ]
    },
    {
     "name": "stderr",
     "output_type": "stream",
     "text": [
      "127it [16:41,  8.13s/it]"
     ]
    },
    {
     "name": "stdout",
     "output_type": "stream",
     "text": [
      "mosaic-features Time: 0.027502059936523438s\n",
      "Qnodes to lookup: 5337\n",
      "Qnodes from file: 5251\n",
      "Outlier removal generates 4 lof-voted candidates\n",
      "Column_vector_stragtegy centroid_of_lof failed\n",
      "Column_vector_stragtegy centroid_of_lof failed\n",
      "score-using-embedding Time: 2.178325891494751s\n",
      "compute-tf-idf-class_count Time: 3.297752857208252s\n",
      "compute-tf-idf-property_count Time: 4.067950248718262s\n"
     ]
    },
    {
     "name": "stderr",
     "output_type": "stream",
     "text": [
      "128it [16:50,  8.35s/it]"
     ]
    },
    {
     "name": "stdout",
     "output_type": "stream",
     "text": [
      "mosaic-features Time: 0.008038997650146484s\n",
      "Qnodes to lookup: 2881\n",
      "Qnodes from file: 2795\n",
      "Outlier removal generates 5 lof-voted candidates\n",
      "score-using-embedding Time: 1.059779167175293s\n",
      "compute-tf-idf-class_count Time: 1.536712884902954s\n",
      "compute-tf-idf-property_count Time: 1.7721810340881348s\n"
     ]
    },
    {
     "name": "stderr",
     "output_type": "stream",
     "text": [
      "129it [16:56,  7.61s/it]"
     ]
    },
    {
     "name": "stdout",
     "output_type": "stream",
     "text": [
      "mosaic-features Time: 0.020537853240966797s\n",
      "Qnodes to lookup: 3859\n",
      "Qnodes from file: 3799\n",
      "Outlier removal generates 4 lof-voted candidates\n",
      "Outlier removal generates 3 lof-voted candidates\n",
      "Outlier removal generates 5 lof-voted candidates\n",
      "score-using-embedding Time: 2.0706379413604736s\n",
      "compute-tf-idf-class_count Time: 2.891223907470703s\n",
      "compute-tf-idf-property_count Time: 3.4174258708953857s\n"
     ]
    },
    {
     "name": "stderr",
     "output_type": "stream",
     "text": [
      "130it [17:05,  7.99s/it]"
     ]
    },
    {
     "name": "stdout",
     "output_type": "stream",
     "text": [
      "mosaic-features Time: 0.007482051849365234s\n",
      "Qnodes to lookup: 2461\n",
      "Qnodes from file: 2430\n",
      "Outlier removal generates 4 lof-voted candidates\n",
      "score-using-embedding Time: 1.4903149604797363s\n",
      "compute-tf-idf-class_count Time: 3.0603208541870117s\n",
      "compute-tf-idf-property_count Time: 2.602569103240967s\n"
     ]
    },
    {
     "name": "stderr",
     "output_type": "stream",
     "text": [
      "131it [17:13,  8.10s/it]"
     ]
    },
    {
     "name": "stdout",
     "output_type": "stream",
     "text": [
      "mosaic-features Time: 0.007778167724609375s\n",
      "Qnodes to lookup: 1137\n",
      "Qnodes from file: 1122\n",
      "Outlier removal generates 3 lof-voted candidates\n",
      "score-using-embedding Time: 1.9519660472869873s\n",
      "compute-tf-idf-class_count Time: 2.3944520950317383s\n",
      "compute-tf-idf-property_count Time: 3.041630983352661s\n"
     ]
    },
    {
     "name": "stderr",
     "output_type": "stream",
     "text": [
      "132it [17:24,  9.03s/it]"
     ]
    },
    {
     "name": "stdout",
     "output_type": "stream",
     "text": [
      "mosaic-features Time: 0.03790903091430664s\n",
      "Qnodes to lookup: 9814\n",
      "Qnodes from file: 9675\n",
      "Outlier removal generates 4 lof-voted candidates\n",
      "Outlier removal generates 2 lof-voted candidates\n",
      "Column_vector_stragtegy centroid_of_lof failed\n",
      "score-using-embedding Time: 4.424342155456543s\n",
      "compute-tf-idf-class_count Time: 6.0442681312561035s\n",
      "compute-tf-idf-property_count Time: 7.08219575881958s\n"
     ]
    },
    {
     "name": "stderr",
     "output_type": "stream",
     "text": [
      "133it [17:40, 10.96s/it]"
     ]
    },
    {
     "name": "stdout",
     "output_type": "stream",
     "text": [
      "mosaic-features Time: 0.02169656753540039s\n",
      "Qnodes to lookup: 787\n",
      "Qnodes from file: 757\n",
      "Column_vector_stragtegy centroid_of_lof failed\n",
      "Column_vector_stragtegy centroid_of_lof failed\n",
      "Column_vector_stragtegy centroid_of_lof failed\n",
      "Column_vector_stragtegy centroid_of_lof failed\n",
      "score-using-embedding Time: 1.575585126876831s\n",
      "compute-tf-idf-class_count Time: 2.3525187969207764s\n",
      "compute-tf-idf-property_count Time: 2.8307011127471924s\n"
     ]
    },
    {
     "name": "stderr",
     "output_type": "stream",
     "text": [
      "134it [17:48, 10.05s/it]"
     ]
    },
    {
     "name": "stdout",
     "output_type": "stream",
     "text": [
      "mosaic-features Time: 0.01529693603515625s\n",
      "Qnodes to lookup: 3247\n",
      "Qnodes from file: 3141\n",
      "Outlier removal generates 3 lof-voted candidates\n",
      "Outlier removal generates 4 lof-voted candidates\n",
      "score-using-embedding Time: 1.5454437732696533s\n",
      "compute-tf-idf-class_count Time: 2.1653261184692383s\n",
      "compute-tf-idf-property_count Time: 2.484727144241333s\n"
     ]
    },
    {
     "name": "stderr",
     "output_type": "stream",
     "text": [
      "135it [17:54,  9.04s/it]"
     ]
    },
    {
     "name": "stdout",
     "output_type": "stream",
     "text": [
      "mosaic-features Time: 0.008051872253417969s\n",
      "Qnodes to lookup: 1810\n",
      "Qnodes from file: 1783\n",
      "Outlier removal generates 4 lof-voted candidates\n",
      "score-using-embedding Time: 0.9452741146087646s\n",
      "compute-tf-idf-class_count Time: 1.3395390510559082s\n",
      "compute-tf-idf-property_count Time: 1.596341609954834s\n"
     ]
    },
    {
     "name": "stderr",
     "output_type": "stream",
     "text": [
      "136it [18:01,  8.19s/it]"
     ]
    },
    {
     "name": "stdout",
     "output_type": "stream",
     "text": [
      "mosaic-features Time: 0.007033109664916992s\n",
      "Qnodes to lookup: 1713\n",
      "Qnodes from file: 1688\n",
      "Outlier removal generates 5 lof-voted candidates\n",
      "score-using-embedding Time: 0.9352340698242188s\n",
      "compute-tf-idf-class_count Time: 1.3639180660247803s\n",
      "compute-tf-idf-property_count Time: 1.570871114730835s\n"
     ]
    },
    {
     "name": "stderr",
     "output_type": "stream",
     "text": [
      "137it [18:08,  7.83s/it]"
     ]
    },
    {
     "name": "stdout",
     "output_type": "stream",
     "text": [
      "mosaic-features Time: 0.034623146057128906s\n",
      "Qnodes to lookup: 6649\n",
      "Qnodes from file: 6576\n",
      "Outlier removal generates 5 lof-voted candidates\n",
      "Outlier removal generates 2 lof-voted candidates\n",
      "Column_vector_stragtegy centroid_of_lof failed\n",
      "Column_vector_stragtegy centroid_of_lof failed\n",
      "score-using-embedding Time: 2.8063249588012695s\n",
      "compute-tf-idf-class_count Time: 4.160429239273071s\n",
      "compute-tf-idf-property_count Time: 5.10262393951416s\n"
     ]
    },
    {
     "name": "stderr",
     "output_type": "stream",
     "text": [
      "138it [18:18,  8.54s/it]"
     ]
    },
    {
     "name": "stdout",
     "output_type": "stream",
     "text": [
      "mosaic-features Time: 0.009578943252563477s\n",
      "Qnodes to lookup: 1190\n",
      "Qnodes from file: 1170\n",
      "Outlier removal generates 5 lof-voted candidates\n",
      "score-using-embedding Time: 1.0731899738311768s\n",
      "compute-tf-idf-class_count Time: 1.567134141921997s\n",
      "compute-tf-idf-property_count Time: 1.8262920379638672s\n"
     ]
    },
    {
     "name": "stderr",
     "output_type": "stream",
     "text": [
      "139it [18:24,  7.78s/it]"
     ]
    },
    {
     "name": "stdout",
     "output_type": "stream",
     "text": [
      "mosaic-features Time: 0.016096115112304688s\n",
      "Qnodes to lookup: 2812\n",
      "Qnodes from file: 2751\n",
      "Outlier removal generates 2 lof-voted candidates\n",
      "score-using-embedding Time: 1.644921064376831s\n",
      "compute-tf-idf-class_count Time: 2.2439332008361816s\n",
      "compute-tf-idf-property_count Time: 2.4481117725372314s\n"
     ]
    },
    {
     "name": "stderr",
     "output_type": "stream",
     "text": [
      "140it [18:31,  7.65s/it]"
     ]
    },
    {
     "name": "stdout",
     "output_type": "stream",
     "text": [
      "mosaic-features Time: 0.013242721557617188s\n",
      "Qnodes to lookup: 1938\n",
      "Qnodes from file: 1890\n",
      "Outlier removal generates 3 lof-voted candidates\n",
      "score-using-embedding Time: 1.180772304534912s\n",
      "compute-tf-idf-class_count Time: 1.6599009037017822s\n",
      "compute-tf-idf-property_count Time: 1.9346978664398193s\n"
     ]
    },
    {
     "name": "stderr",
     "output_type": "stream",
     "text": [
      "141it [18:39,  7.60s/it]"
     ]
    },
    {
     "name": "stdout",
     "output_type": "stream",
     "text": [
      "mosaic-features Time: 0.007341861724853516s\n",
      "Qnodes to lookup: 1774\n",
      "Qnodes from file: 1734\n",
      "Outlier removal generates 3 lof-voted candidates\n",
      "score-using-embedding Time: 0.8585760593414307s\n",
      "compute-tf-idf-class_count Time: 1.2766673564910889s\n",
      "compute-tf-idf-property_count Time: 1.4719979763031006s\n"
     ]
    },
    {
     "name": "stderr",
     "output_type": "stream",
     "text": [
      "142it [18:44,  7.08s/it]"
     ]
    },
    {
     "name": "stdout",
     "output_type": "stream",
     "text": [
      "mosaic-features Time: 0.018930912017822266s\n",
      "Qnodes to lookup: 3855\n",
      "Qnodes from file: 3789\n",
      "Outlier removal generates 5 lof-voted candidates\n",
      "Column_vector_stragtegy centroid_of_lof failed\n",
      "Column_vector_stragtegy centroid_of_lof failed\n",
      "score-using-embedding Time: 1.7370381355285645s\n",
      "compute-tf-idf-class_count Time: 2.550812005996704s\n",
      "compute-tf-idf-property_count Time: 3.082350969314575s\n"
     ]
    },
    {
     "name": "stderr",
     "output_type": "stream",
     "text": [
      "143it [18:52,  7.32s/it]"
     ]
    },
    {
     "name": "stdout",
     "output_type": "stream",
     "text": [
      "mosaic-features Time: 0.009204864501953125s\n",
      "Qnodes to lookup: 1894\n",
      "Qnodes from file: 1868\n",
      "Outlier removal generates 5 lof-voted candidates\n",
      "score-using-embedding Time: 1.4216270446777344s\n",
      "compute-tf-idf-class_count Time: 1.9287738800048828s\n",
      "compute-tf-idf-property_count Time: 2.1649599075317383s\n"
     ]
    },
    {
     "name": "stderr",
     "output_type": "stream",
     "text": [
      "144it [18:59,  7.27s/it]"
     ]
    },
    {
     "name": "stdout",
     "output_type": "stream",
     "text": [
      "mosaic-features Time: 0.026745080947875977s\n",
      "Qnodes to lookup: 8093\n",
      "Qnodes from file: 7957\n",
      "Outlier removal generates 5 lof-voted candidates\n",
      "Column_vector_stragtegy centroid_of_lof failed\n",
      "score-using-embedding Time: 2.34391188621521s\n",
      "compute-tf-idf-class_count Time: 3.6606128215789795s\n",
      "compute-tf-idf-property_count Time: 4.3616931438446045s\n"
     ]
    },
    {
     "name": "stderr",
     "output_type": "stream",
     "text": [
      "145it [19:09,  7.99s/it]"
     ]
    },
    {
     "name": "stdout",
     "output_type": "stream",
     "text": [
      "mosaic-features Time: 0.024345874786376953s\n",
      "Qnodes to lookup: 2792\n",
      "Qnodes from file: 2773\n",
      "Outlier removal generates 6 lof-voted candidates\n",
      "Column_vector_stragtegy centroid_of_lof failed\n",
      "Column_vector_stragtegy centroid_of_lof failed\n",
      "score-using-embedding Time: 2.041111707687378s\n",
      "compute-tf-idf-class_count Time: 3.048896074295044s\n",
      "compute-tf-idf-property_count Time: 3.7691330909729004s\n"
     ]
    },
    {
     "name": "stderr",
     "output_type": "stream",
     "text": [
      "146it [19:18,  8.22s/it]"
     ]
    },
    {
     "name": "stdout",
     "output_type": "stream",
     "text": [
      "mosaic-features Time: 0.027395248413085938s\n",
      "Qnodes to lookup: 4717\n",
      "Qnodes from file: 4563\n",
      "Outlier removal generates 2 lof-voted candidates\n",
      "Outlier removal generates 2 lof-voted candidates\n",
      "Column_vector_stragtegy centroid_of_lof failed\n",
      "score-using-embedding Time: 2.2127621173858643s\n",
      "compute-tf-idf-class_count Time: 3.309282064437866s\n",
      "compute-tf-idf-property_count Time: 4.085241079330444s\n"
     ]
    },
    {
     "name": "stderr",
     "output_type": "stream",
     "text": [
      "147it [19:28,  8.88s/it]"
     ]
    },
    {
     "name": "stdout",
     "output_type": "stream",
     "text": [
      "mosaic-features Time: 0.007914066314697266s\n",
      "Qnodes to lookup: 2391\n",
      "Qnodes from file: 2364\n",
      "Outlier removal generates 5 lof-voted candidates\n",
      "score-using-embedding Time: 1.3581931591033936s\n",
      "compute-tf-idf-class_count Time: 2.1051230430603027s\n",
      "compute-tf-idf-property_count Time: 2.3452000617980957s\n"
     ]
    },
    {
     "name": "stderr",
     "output_type": "stream",
     "text": [
      "148it [19:40,  9.63s/it]"
     ]
    },
    {
     "name": "stdout",
     "output_type": "stream",
     "text": [
      "mosaic-features Time: 0.007847070693969727s\n",
      "Qnodes to lookup: 2845\n",
      "Qnodes from file: 2814\n",
      "Outlier removal generates 5 lof-voted candidates\n",
      "score-using-embedding Time: 1.3873581886291504s\n",
      "compute-tf-idf-class_count Time: 2.283590078353882s\n",
      "compute-tf-idf-property_count Time: 3.005023956298828s\n"
     ]
    },
    {
     "name": "stderr",
     "output_type": "stream",
     "text": [
      "149it [19:51, 10.07s/it]"
     ]
    },
    {
     "name": "stdout",
     "output_type": "stream",
     "text": [
      "mosaic-features Time: 0.019519805908203125s\n",
      "Qnodes to lookup: 5123\n",
      "Qnodes from file: 5033\n",
      "Outlier removal generates 4 lof-voted candidates\n",
      "Outlier removal generates 2 lof-voted candidates\n",
      "Outlier removal generates 2 lof-voted candidates\n",
      "score-using-embedding Time: 1.7944021224975586s\n",
      "compute-tf-idf-class_count Time: 2.6469907760620117s\n",
      "compute-tf-idf-property_count Time: 3.2009432315826416s\n"
     ]
    },
    {
     "name": "stderr",
     "output_type": "stream",
     "text": [
      "150it [19:58,  9.35s/it]"
     ]
    },
    {
     "name": "stdout",
     "output_type": "stream",
     "text": [
      "mosaic-features Time: 0.008981943130493164s\n",
      "Qnodes to lookup: 3819\n",
      "Qnodes from file: 3756\n",
      "Outlier removal generates 5 lof-voted candidates\n",
      "score-using-embedding Time: 1.1251821517944336s\n",
      "compute-tf-idf-class_count Time: 1.7086467742919922s\n",
      "compute-tf-idf-property_count Time: 2.019946336746216s\n"
     ]
    },
    {
     "name": "stderr",
     "output_type": "stream",
     "text": [
      "151it [20:05,  8.59s/it]"
     ]
    },
    {
     "name": "stdout",
     "output_type": "stream",
     "text": [
      "mosaic-features Time: 0.015555143356323242s\n",
      "Qnodes to lookup: 7022\n",
      "Qnodes from file: 6894\n",
      "Outlier removal generates 8 lof-voted candidates\n",
      "score-using-embedding Time: 1.6124517917633057s\n",
      "compute-tf-idf-class_count Time: 2.424098253250122s\n",
      "compute-tf-idf-property_count Time: 2.868792772293091s\n"
     ]
    },
    {
     "name": "stderr",
     "output_type": "stream",
     "text": [
      "152it [20:13,  8.19s/it]"
     ]
    },
    {
     "name": "stdout",
     "output_type": "stream",
     "text": [
      "mosaic-features Time: 0.008072853088378906s\n",
      "Qnodes to lookup: 2540\n",
      "Qnodes from file: 2468\n",
      "Outlier removal generates 3 lof-voted candidates\n",
      "score-using-embedding Time: 1.090101957321167s\n",
      "compute-tf-idf-class_count Time: 1.562237024307251s\n",
      "compute-tf-idf-property_count Time: 1.8004100322723389s\n"
     ]
    },
    {
     "name": "stderr",
     "output_type": "stream",
     "text": [
      "153it [20:19,  7.54s/it]"
     ]
    },
    {
     "name": "stdout",
     "output_type": "stream",
     "text": [
      "mosaic-features Time: 0.027404069900512695s\n",
      "Qnodes to lookup: 2821\n",
      "Qnodes from file: 2808\n",
      "Outlier removal generates 5 lof-voted candidates\n",
      "Column_vector_stragtegy centroid_of_lof failed\n",
      "Outlier removal generates 4 lof-voted candidates\n",
      "score-using-embedding Time: 1.857165813446045s\n",
      "compute-tf-idf-class_count Time: 2.7098841667175293s\n",
      "compute-tf-idf-property_count Time: 3.3268589973449707s\n"
     ]
    },
    {
     "name": "stderr",
     "output_type": "stream",
     "text": [
      "154it [20:30,  8.57s/it]"
     ]
    },
    {
     "name": "stdout",
     "output_type": "stream",
     "text": [
      "mosaic-features Time: 0.016556978225708008s\n",
      "Qnodes to lookup: 5451\n",
      "Qnodes from file: 5327\n",
      "Outlier removal generates 5 lof-voted candidates\n",
      "Outlier removal generates 2 lof-voted candidates\n",
      "score-using-embedding Time: 1.573997974395752s\n",
      "compute-tf-idf-class_count Time: 2.3308048248291016s\n",
      "compute-tf-idf-property_count Time: 2.8258328437805176s\n"
     ]
    },
    {
     "name": "stderr",
     "output_type": "stream",
     "text": [
      "155it [20:38,  8.57s/it]"
     ]
    },
    {
     "name": "stdout",
     "output_type": "stream",
     "text": [
      "mosaic-features Time: 0.007627010345458984s\n",
      "Qnodes to lookup: 1848\n",
      "Qnodes from file: 1817\n",
      "Column_vector_stragtegy centroid_of_lof failed\n",
      "score-using-embedding Time: 0.9806079864501953s\n",
      "compute-tf-idf-class_count Time: 1.945237159729004s\n",
      "compute-tf-idf-property_count Time: 2.181259870529175s\n"
     ]
    },
    {
     "name": "stderr",
     "output_type": "stream",
     "text": [
      "156it [20:45,  7.97s/it]"
     ]
    },
    {
     "name": "stdout",
     "output_type": "stream",
     "text": [
      "mosaic-features Time: 0.015107154846191406s\n",
      "Qnodes to lookup: 4539\n",
      "Qnodes from file: 4471\n",
      "Outlier removal generates 4 lof-voted candidates\n",
      "Outlier removal generates 2 lof-voted candidates\n",
      "score-using-embedding Time: 1.4761731624603271s\n",
      "compute-tf-idf-class_count Time: 2.2347042560577393s\n",
      "compute-tf-idf-property_count Time: 2.66383695602417s\n"
     ]
    },
    {
     "name": "stderr",
     "output_type": "stream",
     "text": [
      "157it [20:52,  7.83s/it]"
     ]
    },
    {
     "name": "stdout",
     "output_type": "stream",
     "text": [
      "mosaic-features Time: 0.058088064193725586s\n",
      "Qnodes to lookup: 8948\n",
      "Qnodes from file: 8708\n",
      "Outlier removal generates 5 lof-voted candidates\n",
      "Column_vector_stragtegy centroid_of_lof failed\n",
      "Outlier removal generates 4 lof-voted candidates\n",
      "Column_vector_stragtegy centroid_of_lof failed\n",
      "score-using-embedding Time: 4.46369481086731s\n",
      "compute-tf-idf-class_count Time: 6.586996078491211s\n",
      "compute-tf-idf-property_count Time: 8.107929706573486s\n"
     ]
    },
    {
     "name": "stderr",
     "output_type": "stream",
     "text": [
      "158it [21:06,  9.53s/it]"
     ]
    },
    {
     "name": "stdout",
     "output_type": "stream",
     "text": [
      "mosaic-features Time: 0.007687807083129883s\n",
      "Qnodes to lookup: 2392\n",
      "Qnodes from file: 2357\n",
      "Column_vector_stragtegy centroid_of_lof failed\n",
      "score-using-embedding Time: 0.9645209312438965s\n",
      "compute-tf-idf-class_count Time: 1.4598379135131836s\n",
      "compute-tf-idf-property_count Time: 1.684999942779541s\n"
     ]
    },
    {
     "name": "stderr",
     "output_type": "stream",
     "text": [
      "159it [21:12,  8.49s/it]"
     ]
    },
    {
     "name": "stdout",
     "output_type": "stream",
     "text": [
      "mosaic-features Time: 0.015376091003417969s\n",
      "Qnodes to lookup: 707\n",
      "Qnodes from file: 653\n",
      "Outlier removal generates 5 lof-voted candidates\n",
      "Column_vector_stragtegy centroid_of_lof failed\n",
      "score-using-embedding Time: 1.2628560066223145s\n",
      "compute-tf-idf-class_count Time: 1.8511219024658203s\n",
      "compute-tf-idf-property_count Time: 2.2114248275756836s\n"
     ]
    },
    {
     "name": "stderr",
     "output_type": "stream",
     "text": [
      "160it [21:20,  8.27s/it]"
     ]
    },
    {
     "name": "stdout",
     "output_type": "stream",
     "text": [
      "mosaic-features Time: 0.013987064361572266s\n",
      "Qnodes to lookup: 4585\n",
      "Qnodes from file: 4506\n",
      "Outlier removal generates 4 lof-voted candidates\n",
      "Outlier removal generates 2 lof-voted candidates\n",
      "score-using-embedding Time: 1.4328808784484863s\n",
      "compute-tf-idf-class_count Time: 2.051680088043213s\n",
      "compute-tf-idf-property_count Time: 2.4626359939575195s\n"
     ]
    },
    {
     "name": "stderr",
     "output_type": "stream",
     "text": [
      "161it [21:26,  7.82s/it]"
     ]
    },
    {
     "name": "stdout",
     "output_type": "stream",
     "text": [
      "mosaic-features Time: 0.023106098175048828s\n",
      "Qnodes to lookup: 7264\n",
      "Qnodes from file: 7206\n",
      "Outlier removal generates 5 lof-voted candidates\n",
      "Column_vector_stragtegy centroid_of_lof failed\n",
      "Outlier removal generates 4 lof-voted candidates\n",
      "score-using-embedding Time: 1.9901072978973389s\n",
      "compute-tf-idf-class_count Time: 3.0811991691589355s\n",
      "compute-tf-idf-property_count Time: 3.714709997177124s\n"
     ]
    },
    {
     "name": "stderr",
     "output_type": "stream",
     "text": [
      "162it [21:35,  8.01s/it]"
     ]
    },
    {
     "name": "stdout",
     "output_type": "stream",
     "text": [
      "mosaic-features Time: 0.009974956512451172s\n",
      "Qnodes to lookup: 3854\n",
      "Qnodes from file: 3774\n",
      "Outlier removal generates 4 lof-voted candidates\n",
      "score-using-embedding Time: 1.1385478973388672s\n",
      "compute-tf-idf-class_count Time: 2.3329501152038574s\n",
      "compute-tf-idf-property_count Time: 1.9062190055847168s\n"
     ]
    },
    {
     "name": "stderr",
     "output_type": "stream",
     "text": [
      "163it [21:44,  8.43s/it]"
     ]
    },
    {
     "name": "stdout",
     "output_type": "stream",
     "text": [
      "mosaic-features Time: 0.012512922286987305s\n",
      "Qnodes to lookup: 2943\n",
      "Qnodes from file: 2921\n",
      "Outlier removal generates 5 lof-voted candidates\n",
      "Outlier removal generates 4 lof-voted candidates\n",
      "score-using-embedding Time: 1.5389518737792969s\n",
      "compute-tf-idf-class_count Time: 2.846597194671631s\n",
      "compute-tf-idf-property_count Time: 3.2413251399993896s\n"
     ]
    },
    {
     "name": "stderr",
     "output_type": "stream",
     "text": [
      "164it [21:56,  9.46s/it]"
     ]
    },
    {
     "name": "stdout",
     "output_type": "stream",
     "text": [
      "mosaic-features Time: 0.017168045043945312s\n",
      "Qnodes to lookup: 7683\n",
      "Qnodes from file: 7600\n",
      "Outlier removal generates 5 lof-voted candidates\n",
      "Outlier removal generates 2 lof-voted candidates\n",
      "Outlier removal generates 2 lof-voted candidates\n",
      "score-using-embedding Time: 1.857759952545166s\n",
      "compute-tf-idf-class_count Time: 2.531348943710327s\n",
      "compute-tf-idf-property_count Time: 3.3568668365478516s\n"
     ]
    },
    {
     "name": "stderr",
     "output_type": "stream",
     "text": [
      "165it [22:09, 10.43s/it]"
     ]
    },
    {
     "name": "stdout",
     "output_type": "stream",
     "text": [
      "mosaic-features Time: 0.022247791290283203s\n",
      "Qnodes to lookup: 3426\n",
      "Qnodes from file: 3387\n",
      "Outlier removal generates 5 lof-voted candidates\n",
      "Column_vector_stragtegy centroid_of_lof failed\n",
      "Column_vector_stragtegy centroid_of_lof failed\n",
      "score-using-embedding Time: 1.5512769222259521s\n",
      "compute-tf-idf-class_count Time: 2.5240211486816406s\n",
      "compute-tf-idf-property_count Time: 3.038336992263794s\n"
     ]
    },
    {
     "name": "stderr",
     "output_type": "stream",
     "text": [
      "166it [22:18, 10.13s/it]"
     ]
    },
    {
     "name": "stdout",
     "output_type": "stream",
     "text": [
      "mosaic-features Time: 0.007778167724609375s\n",
      "Qnodes to lookup: 3428\n",
      "Qnodes from file: 3345\n",
      "Column_vector_stragtegy centroid_of_lof failed\n",
      "score-using-embedding Time: 1.0224120616912842s\n",
      "compute-tf-idf-class_count Time: 1.5039088726043701s\n",
      "compute-tf-idf-property_count Time: 1.7761270999908447s\n"
     ]
    },
    {
     "name": "stderr",
     "output_type": "stream",
     "text": [
      "167it [22:24,  8.81s/it]"
     ]
    },
    {
     "name": "stdout",
     "output_type": "stream",
     "text": [
      "mosaic-features Time: 0.020573854446411133s\n",
      "Qnodes to lookup: 6005\n",
      "Qnodes from file: 5909\n",
      "Outlier removal generates 3 lof-voted candidates\n",
      "Outlier removal generates 2 lof-voted candidates\n",
      "Outlier removal generates 3 lof-voted candidates\n",
      "score-using-embedding Time: 2.04764723777771s\n",
      "compute-tf-idf-class_count Time: 2.967540979385376s\n",
      "compute-tf-idf-property_count Time: 3.562464952468872s\n"
     ]
    },
    {
     "name": "stderr",
     "output_type": "stream",
     "text": [
      "168it [22:32,  8.62s/it]"
     ]
    },
    {
     "name": "stdout",
     "output_type": "stream",
     "text": [
      "mosaic-features Time: 0.007747173309326172s\n",
      "Qnodes to lookup: 2626\n",
      "Qnodes from file: 2544\n",
      "Column_vector_stragtegy centroid_of_lof failed\n",
      "score-using-embedding Time: 0.9855208396911621s\n",
      "compute-tf-idf-class_count Time: 1.476654052734375s\n",
      "compute-tf-idf-property_count Time: 1.719980001449585s\n"
     ]
    },
    {
     "name": "stderr",
     "output_type": "stream",
     "text": [
      "169it [22:38,  7.93s/it]"
     ]
    },
    {
     "name": "stdout",
     "output_type": "stream",
     "text": [
      "mosaic-features Time: 0.018201828002929688s\n",
      "Qnodes to lookup: 2384\n",
      "Qnodes from file: 2351\n",
      "Outlier removal generates 4 lof-voted candidates\n",
      "Column_vector_stragtegy centroid_of_lof failed\n",
      "Column_vector_stragtegy centroid_of_lof failed\n",
      "score-using-embedding Time: 1.5690910816192627s\n",
      "compute-tf-idf-class_count Time: 2.2838690280914307s\n",
      "compute-tf-idf-property_count Time: 2.7406749725341797s\n"
     ]
    },
    {
     "name": "stderr",
     "output_type": "stream",
     "text": [
      "170it [22:46,  7.72s/it]"
     ]
    },
    {
     "name": "stdout",
     "output_type": "stream",
     "text": [
      "mosaic-features Time: 0.007993221282958984s\n",
      "Qnodes to lookup: 2696\n",
      "Qnodes from file: 2635\n",
      "Outlier removal generates 4 lof-voted candidates\n",
      "score-using-embedding Time: 1.1391007900238037s\n",
      "compute-tf-idf-class_count Time: 1.638585090637207s\n",
      "compute-tf-idf-property_count Time: 1.8950650691986084s\n"
     ]
    },
    {
     "name": "stderr",
     "output_type": "stream",
     "text": [
      "171it [22:52,  7.48s/it]"
     ]
    },
    {
     "name": "stdout",
     "output_type": "stream",
     "text": [
      "mosaic-features Time: 0.02455902099609375s\n",
      "Qnodes to lookup: 2678\n",
      "Qnodes from file: 2661\n",
      "Outlier removal generates 5 lof-voted candidates\n",
      "Column_vector_stragtegy centroid_of_lof failed\n",
      "Column_vector_stragtegy centroid_of_lof failed\n",
      "score-using-embedding Time: 2.010817766189575s\n",
      "compute-tf-idf-class_count Time: 2.976369857788086s\n",
      "compute-tf-idf-property_count Time: 3.6702702045440674s\n"
     ]
    },
    {
     "name": "stderr",
     "output_type": "stream",
     "text": [
      "172it [23:01,  7.76s/it]"
     ]
    },
    {
     "name": "stdout",
     "output_type": "stream",
     "text": [
      "mosaic-features Time: 0.009098052978515625s\n",
      "Qnodes to lookup: 2837\n",
      "Qnodes from file: 2800\n",
      "Outlier removal generates 4 lof-voted candidates\n",
      "score-using-embedding Time: 1.0271282196044922s\n",
      "compute-tf-idf-class_count Time: 1.5108652114868164s\n",
      "compute-tf-idf-property_count Time: 1.7682769298553467s\n"
     ]
    },
    {
     "name": "stderr",
     "output_type": "stream",
     "text": [
      "173it [23:07,  7.28s/it]"
     ]
    },
    {
     "name": "stdout",
     "output_type": "stream",
     "text": [
      "mosaic-features Time: 0.009356975555419922s\n",
      "Qnodes to lookup: 2209\n",
      "Qnodes from file: 2167\n",
      "Column_vector_stragtegy centroid_of_lof failed\n",
      "score-using-embedding Time: 1.0228350162506104s\n",
      "compute-tf-idf-class_count Time: 1.492220163345337s\n",
      "compute-tf-idf-property_count Time: 1.7332968711853027s\n"
     ]
    },
    {
     "name": "stderr",
     "output_type": "stream",
     "text": [
      "174it [23:14,  7.12s/it]"
     ]
    },
    {
     "name": "stdout",
     "output_type": "stream",
     "text": [
      "mosaic-features Time: 0.019716739654541016s\n",
      "Qnodes to lookup: 4246\n",
      "Qnodes from file: 4196\n",
      "Outlier removal generates 2 lof-voted candidates\n",
      "Column_vector_stragtegy centroid_of_lof failed\n",
      "Outlier removal generates 2 lof-voted candidates\n",
      "score-using-embedding Time: 1.8138790130615234s\n",
      "compute-tf-idf-class_count Time: 2.7037160396575928s\n",
      "compute-tf-idf-property_count Time: 3.258108139038086s\n"
     ]
    },
    {
     "name": "stderr",
     "output_type": "stream",
     "text": [
      "175it [23:22,  7.44s/it]"
     ]
    },
    {
     "name": "stdout",
     "output_type": "stream",
     "text": [
      "mosaic-features Time: 0.010154962539672852s\n",
      "Qnodes to lookup: 2321\n",
      "Qnodes from file: 2301\n",
      "Outlier removal generates 4 lof-voted candidates\n",
      "score-using-embedding Time: 1.0829119682312012s\n",
      "compute-tf-idf-class_count Time: 1.9960620403289795s\n",
      "compute-tf-idf-property_count Time: 2.244539260864258s\n"
     ]
    },
    {
     "name": "stderr",
     "output_type": "stream",
     "text": [
      "176it [23:29,  7.29s/it]"
     ]
    },
    {
     "name": "stdout",
     "output_type": "stream",
     "text": [
      "mosaic-features Time: 0.030472993850708008s\n",
      "Qnodes to lookup: 5798\n",
      "Qnodes from file: 5686\n",
      "Outlier removal generates 5 lof-voted candidates\n",
      "Column_vector_stragtegy centroid_of_lof failed\n",
      "Outlier removal generates 2 lof-voted candidates\n",
      "score-using-embedding Time: 1.8842051029205322s\n",
      "compute-tf-idf-class_count Time: 2.8897218704223633s\n",
      "compute-tf-idf-property_count Time: 3.498260974884033s\n"
     ]
    },
    {
     "name": "stderr",
     "output_type": "stream",
     "text": [
      "177it [23:38,  7.89s/it]"
     ]
    },
    {
     "name": "stdout",
     "output_type": "stream",
     "text": [
      "mosaic-features Time: 0.02933812141418457s\n",
      "Qnodes to lookup: 3338\n",
      "Qnodes from file: 3264\n",
      "Outlier removal generates 3 lof-voted candidates\n",
      "Column_vector_stragtegy centroid_of_lof failed\n",
      "Outlier removal generates 2 lof-voted candidates\n",
      "score-using-embedding Time: 2.237197160720825s\n",
      "compute-tf-idf-class_count Time: 3.3951051235198975s\n",
      "compute-tf-idf-property_count Time: 4.187363147735596s\n"
     ]
    },
    {
     "name": "stderr",
     "output_type": "stream",
     "text": [
      "178it [23:48,  8.33s/it]"
     ]
    },
    {
     "name": "stdout",
     "output_type": "stream",
     "text": [
      "mosaic-features Time: 0.008269071578979492s\n",
      "Qnodes to lookup: 3458\n",
      "Qnodes from file: 3382\n",
      "Column_vector_stragtegy centroid_of_lof failed\n",
      "score-using-embedding Time: 1.0609898567199707s\n",
      "compute-tf-idf-class_count Time: 1.5723950862884521s\n",
      "compute-tf-idf-property_count Time: 1.8574023246765137s\n"
     ]
    },
    {
     "name": "stderr",
     "output_type": "stream",
     "text": [
      "179it [23:54,  7.75s/it]"
     ]
    },
    {
     "name": "stdout",
     "output_type": "stream",
     "text": [
      "mosaic-features Time: 0.018345117568969727s\n",
      "Qnodes to lookup: 3373\n",
      "Qnodes from file: 3312\n",
      "Outlier removal generates 4 lof-voted candidates\n",
      "Outlier removal generates 2 lof-voted candidates\n",
      "Outlier removal generates 3 lof-voted candidates\n",
      "score-using-embedding Time: 1.6556720733642578s\n",
      "compute-tf-idf-class_count Time: 2.4643988609313965s\n",
      "compute-tf-idf-property_count Time: 2.9405345916748047s\n"
     ]
    },
    {
     "name": "stderr",
     "output_type": "stream",
     "text": [
      "180it [24:04,  8.30s/it]"
     ]
    },
    {
     "name": "stdout",
     "output_type": "stream",
     "text": [
      "mosaic-features Time: 0.022922992706298828s\n",
      "Qnodes to lookup: 5522\n",
      "Qnodes from file: 5447\n",
      "Outlier removal generates 5 lof-voted candidates\n",
      "Outlier removal generates 3 lof-voted candidates\n",
      "Outlier removal generates 4 lof-voted candidates\n",
      "score-using-embedding Time: 2.105370283126831s\n",
      "compute-tf-idf-class_count Time: 3.1170108318328857s\n",
      "compute-tf-idf-property_count Time: 3.762115001678467s\n"
     ]
    },
    {
     "name": "stderr",
     "output_type": "stream",
     "text": [
      "181it [24:15,  9.38s/it]"
     ]
    },
    {
     "name": "stdout",
     "output_type": "stream",
     "text": [
      "mosaic-features Time: 0.03591489791870117s\n",
      "Qnodes to lookup: 3705\n",
      "Qnodes from file: 3642\n",
      "Outlier removal generates 5 lof-voted candidates\n",
      "Column_vector_stragtegy centroid_of_lof failed\n",
      "Column_vector_stragtegy centroid_of_lof failed\n",
      "Column_vector_stragtegy centroid_of_lof failed\n",
      "Column_vector_stragtegy centroid_of_lof failed\n",
      "score-using-embedding Time: 2.3725829124450684s\n",
      "compute-tf-idf-class_count Time: 4.213637113571167s\n",
      "compute-tf-idf-property_count Time: 5.015324115753174s\n"
     ]
    },
    {
     "name": "stderr",
     "output_type": "stream",
     "text": [
      "182it [24:29, 10.59s/it]"
     ]
    },
    {
     "name": "stdout",
     "output_type": "stream",
     "text": [
      "mosaic-features Time: 0.026707172393798828s\n",
      "Qnodes to lookup: 6533\n",
      "Qnodes from file: 6381\n",
      "Outlier removal generates 5 lof-voted candidates\n",
      "Column_vector_stragtegy centroid_of_lof failed\n",
      "Column_vector_stragtegy centroid_of_lof failed\n",
      "score-using-embedding Time: 2.1655962467193604s\n",
      "compute-tf-idf-class_count Time: 3.3167879581451416s\n",
      "compute-tf-idf-property_count Time: 4.151988983154297s\n"
     ]
    },
    {
     "name": "stderr",
     "output_type": "stream",
     "text": [
      "183it [24:38, 10.20s/it]"
     ]
    },
    {
     "name": "stdout",
     "output_type": "stream",
     "text": [
      "mosaic-features Time: 0.020243167877197266s\n",
      "Qnodes to lookup: 4092\n",
      "Qnodes from file: 4053\n",
      "Outlier removal generates 4 lof-voted candidates\n",
      "Outlier removal generates 2 lof-voted candidates\n",
      "Outlier removal generates 2 lof-voted candidates\n",
      "score-using-embedding Time: 1.7087559700012207s\n",
      "compute-tf-idf-class_count Time: 2.526566743850708s\n",
      "compute-tf-idf-property_count Time: 3.007796049118042s\n"
     ]
    },
    {
     "name": "stderr",
     "output_type": "stream",
     "text": [
      "184it [24:45,  9.28s/it]"
     ]
    },
    {
     "name": "stdout",
     "output_type": "stream",
     "text": [
      "mosaic-features Time: 0.01900482177734375s\n",
      "Qnodes to lookup: 7761\n",
      "Qnodes from file: 7661\n",
      "Outlier removal generates 5 lof-voted candidates\n",
      "Outlier removal generates 2 lof-voted candidates\n",
      "Outlier removal generates 2 lof-voted candidates\n",
      "score-using-embedding Time: 1.8882811069488525s\n",
      "compute-tf-idf-class_count Time: 2.836737871170044s\n",
      "compute-tf-idf-property_count Time: 3.425570011138916s\n"
     ]
    },
    {
     "name": "stderr",
     "output_type": "stream",
     "text": [
      "185it [24:54,  9.11s/it]"
     ]
    },
    {
     "name": "stdout",
     "output_type": "stream",
     "text": [
      "mosaic-features Time: 0.014070987701416016s\n",
      "Qnodes to lookup: 4260\n",
      "Qnodes from file: 4126\n",
      "Outlier removal generates 4 lof-voted candidates\n",
      "Outlier removal generates 3 lof-voted candidates\n",
      "score-using-embedding Time: 1.3818960189819336s\n",
      "compute-tf-idf-class_count Time: 2.069150924682617s\n",
      "compute-tf-idf-property_count Time: 2.4203479290008545s\n"
     ]
    },
    {
     "name": "stderr",
     "output_type": "stream",
     "text": [
      "186it [25:01,  8.47s/it]"
     ]
    },
    {
     "name": "stdout",
     "output_type": "stream",
     "text": [
      "mosaic-features Time: 0.014360904693603516s\n",
      "Qnodes to lookup: 2889\n",
      "Qnodes from file: 2817\n",
      "Outlier removal generates 4 lof-voted candidates\n",
      "Column_vector_stragtegy centroid_of_lof failed\n",
      "score-using-embedding Time: 1.2968709468841553s\n",
      "compute-tf-idf-class_count Time: 1.9465537071228027s\n",
      "compute-tf-idf-property_count Time: 2.3270740509033203s\n"
     ]
    },
    {
     "name": "stderr",
     "output_type": "stream",
     "text": [
      "187it [25:07,  7.83s/it]"
     ]
    },
    {
     "name": "stdout",
     "output_type": "stream",
     "text": [
      "mosaic-features Time: 0.018791913986206055s\n",
      "Qnodes to lookup: 5267\n",
      "Qnodes from file: 5205\n",
      "Outlier removal generates 6 lof-voted candidates\n",
      "Outlier removal generates 2 lof-voted candidates\n",
      "Outlier removal generates 2 lof-voted candidates\n",
      "score-using-embedding Time: 1.757507085800171s\n",
      "compute-tf-idf-class_count Time: 2.6230010986328125s\n",
      "compute-tf-idf-property_count Time: 3.1919360160827637s\n"
     ]
    },
    {
     "name": "stderr",
     "output_type": "stream",
     "text": [
      "188it [25:15,  7.91s/it]"
     ]
    },
    {
     "name": "stdout",
     "output_type": "stream",
     "text": [
      "mosaic-features Time: 0.008006811141967773s\n",
      "Qnodes to lookup: 1177\n",
      "Qnodes from file: 1140\n",
      "Outlier removal generates 5 lof-voted candidates\n",
      "score-using-embedding Time: 0.9393007755279541s\n",
      "compute-tf-idf-class_count Time: 1.4405908584594727s\n",
      "compute-tf-idf-property_count Time: 1.674056053161621s\n"
     ]
    },
    {
     "name": "stderr",
     "output_type": "stream",
     "text": [
      "189it [25:23,  7.71s/it]"
     ]
    },
    {
     "name": "stdout",
     "output_type": "stream",
     "text": [
      "mosaic-features Time: 0.00836491584777832s\n",
      "Qnodes to lookup: 3037\n",
      "Qnodes from file: 3000\n",
      "Outlier removal generates 4 lof-voted candidates\n",
      "score-using-embedding Time: 1.040032148361206s\n",
      "compute-tf-idf-class_count Time: 1.5387427806854248s\n",
      "compute-tf-idf-property_count Time: 1.8153400421142578s\n"
     ]
    },
    {
     "name": "stderr",
     "output_type": "stream",
     "text": [
      "190it [25:29,  7.36s/it]"
     ]
    },
    {
     "name": "stdout",
     "output_type": "stream",
     "text": [
      "mosaic-features Time: 0.014500856399536133s\n",
      "Qnodes to lookup: 4517\n",
      "Qnodes from file: 4435\n",
      "Outlier removal generates 4 lof-voted candidates\n",
      "Column_vector_stragtegy centroid_of_lof failed\n",
      "score-using-embedding Time: 1.4273781776428223s\n",
      "compute-tf-idf-class_count Time: 2.173588991165161s\n",
      "compute-tf-idf-property_count Time: 2.5821568965911865s\n"
     ]
    },
    {
     "name": "stderr",
     "output_type": "stream",
     "text": [
      "191it [25:36,  7.24s/it]"
     ]
    },
    {
     "name": "stdout",
     "output_type": "stream",
     "text": [
      "mosaic-features Time: 0.022729158401489258s\n",
      "Qnodes to lookup: 6729\n",
      "Qnodes from file: 6508\n",
      "Outlier removal generates 4 lof-voted candidates\n",
      "Outlier removal generates 2 lof-voted candidates\n",
      "Column_vector_stragtegy centroid_of_lof failed\n",
      "score-using-embedding Time: 1.9285218715667725s\n",
      "compute-tf-idf-class_count Time: 2.90299391746521s\n",
      "compute-tf-idf-property_count Time: 3.481985092163086s\n"
     ]
    },
    {
     "name": "stderr",
     "output_type": "stream",
     "text": [
      "192it [25:45,  7.80s/it]"
     ]
    },
    {
     "name": "stdout",
     "output_type": "stream",
     "text": [
      "mosaic-features Time: 0.019194841384887695s\n",
      "Qnodes to lookup: 6379\n",
      "Qnodes from file: 6116\n",
      "Column_vector_stragtegy centroid_of_lof failed\n",
      "Column_vector_stragtegy centroid_of_lof failed\n",
      "Outlier removal generates 2 lof-voted candidates\n",
      "score-using-embedding Time: 1.8434512615203857s\n",
      "compute-tf-idf-class_count Time: 2.7123608589172363s\n",
      "compute-tf-idf-property_count Time: 3.270202875137329s\n"
     ]
    },
    {
     "name": "stderr",
     "output_type": "stream",
     "text": [
      "193it [25:53,  7.86s/it]"
     ]
    },
    {
     "name": "stdout",
     "output_type": "stream",
     "text": [
      "mosaic-features Time: 0.022549152374267578s\n",
      "Qnodes to lookup: 3151\n",
      "Qnodes from file: 3026\n",
      "Outlier removal generates 4 lof-voted candidates\n",
      "Column_vector_stragtegy centroid_of_lof failed\n",
      "Column_vector_stragtegy centroid_of_lof failed\n",
      "score-using-embedding Time: 1.8237848281860352s\n",
      "compute-tf-idf-class_count Time: 2.737107992172241s\n",
      "compute-tf-idf-property_count Time: 3.3487939834594727s\n"
     ]
    },
    {
     "name": "stderr",
     "output_type": "stream",
     "text": [
      "194it [26:01,  7.86s/it]"
     ]
    },
    {
     "name": "stdout",
     "output_type": "stream",
     "text": [
      "mosaic-features Time: 0.007539033889770508s\n",
      "Qnodes to lookup: 1185\n",
      "Qnodes from file: 1164\n",
      "Column_vector_stragtegy centroid_of_lof failed\n",
      "score-using-embedding Time: 0.8777439594268799s\n",
      "compute-tf-idf-class_count Time: 1.2650830745697021s\n",
      "compute-tf-idf-property_count Time: 1.4702248573303223s\n"
     ]
    },
    {
     "name": "stderr",
     "output_type": "stream",
     "text": [
      "195it [26:07,  7.33s/it]"
     ]
    },
    {
     "name": "stdout",
     "output_type": "stream",
     "text": [
      "mosaic-features Time: 0.022787809371948242s\n",
      "Qnodes to lookup: 4334\n",
      "Qnodes from file: 4246\n",
      "Outlier removal generates 4 lof-voted candidates\n",
      "Outlier removal generates 2 lof-voted candidates\n",
      "Column_vector_stragtegy centroid_of_lof failed\n",
      "score-using-embedding Time: 1.9280030727386475s\n",
      "compute-tf-idf-class_count Time: 2.856684923171997s\n",
      "compute-tf-idf-property_count Time: 3.442681074142456s\n"
     ]
    },
    {
     "name": "stderr",
     "output_type": "stream",
     "text": [
      "196it [26:16,  7.63s/it]"
     ]
    },
    {
     "name": "stdout",
     "output_type": "stream",
     "text": [
      "mosaic-features Time: 0.020949125289916992s\n",
      "Qnodes to lookup: 6426\n",
      "Qnodes from file: 6311\n",
      "Outlier removal generates 4 lof-voted candidates\n",
      "Outlier removal generates 2 lof-voted candidates\n",
      "Column_vector_stragtegy centroid_of_lof failed\n",
      "score-using-embedding Time: 1.8587138652801514s\n",
      "compute-tf-idf-class_count Time: 2.895488977432251s\n",
      "compute-tf-idf-property_count Time: 3.496818780899048s\n"
     ]
    },
    {
     "name": "stderr",
     "output_type": "stream",
     "text": [
      "197it [26:24,  7.82s/it]"
     ]
    },
    {
     "name": "stdout",
     "output_type": "stream",
     "text": [
      "mosaic-features Time: 0.00956106185913086s\n",
      "Qnodes to lookup: 2926\n",
      "Qnodes from file: 2898\n",
      "Outlier removal generates 5 lof-voted candidates\n",
      "score-using-embedding Time: 1.4218871593475342s\n",
      "compute-tf-idf-class_count Time: 1.9666507244110107s\n",
      "compute-tf-idf-property_count Time: 2.1864540576934814s\n"
     ]
    },
    {
     "name": "stderr",
     "output_type": "stream",
     "text": [
      "198it [26:32,  8.04s/it]"
     ]
    },
    {
     "name": "stdout",
     "output_type": "stream",
     "text": [
      "mosaic-features Time: 0.006950855255126953s\n",
      "Qnodes to lookup: 1558\n",
      "Qnodes from file: 1554\n",
      "Outlier removal generates 3 lof-voted candidates\n",
      "score-using-embedding Time: 1.3725850582122803s\n",
      "compute-tf-idf-class_count Time: 1.9473400115966797s\n",
      "compute-tf-idf-property_count Time: 2.1662700176239014s\n"
     ]
    },
    {
     "name": "stderr",
     "output_type": "stream",
     "text": [
      "199it [26:43,  8.94s/it]"
     ]
    },
    {
     "name": "stdout",
     "output_type": "stream",
     "text": [
      "mosaic-features Time: 0.01590418815612793s\n",
      "Qnodes to lookup: 1720\n",
      "Qnodes from file: 1675\n",
      "Outlier removal generates 5 lof-voted candidates\n",
      "Column_vector_stragtegy centroid_of_lof failed\n",
      "Column_vector_stragtegy centroid_of_lof failed\n",
      "score-using-embedding Time: 2.289522886276245s\n",
      "compute-tf-idf-class_count Time: 3.388254404067993s\n",
      "compute-tf-idf-property_count Time: 3.930612087249756s\n"
     ]
    },
    {
     "name": "stderr",
     "output_type": "stream",
     "text": [
      "200it [26:56, 10.13s/it]"
     ]
    },
    {
     "name": "stdout",
     "output_type": "stream",
     "text": [
      "mosaic-features Time: 0.01387333869934082s\n",
      "Qnodes to lookup: 4377\n",
      "Qnodes from file: 4291\n",
      "Outlier removal generates 5 lof-voted candidates\n",
      "Outlier removal generates 4 lof-voted candidates\n",
      "score-using-embedding Time: 1.3914361000061035s\n",
      "compute-tf-idf-class_count Time: 1.9795098304748535s\n",
      "compute-tf-idf-property_count Time: 2.385737180709839s\n"
     ]
    },
    {
     "name": "stderr",
     "output_type": "stream",
     "text": [
      "201it [27:03,  9.10s/it]"
     ]
    },
    {
     "name": "stdout",
     "output_type": "stream",
     "text": [
      "mosaic-features Time: 0.016873836517333984s\n",
      "Qnodes to lookup: 5551\n",
      "Qnodes from file: 5441\n",
      "Outlier removal generates 4 lof-voted candidates\n",
      "Outlier removal generates 4 lof-voted candidates\n",
      "Outlier removal generates 2 lof-voted candidates\n",
      "score-using-embedding Time: 1.7032172679901123s\n",
      "compute-tf-idf-class_count Time: 2.6144580841064453s\n",
      "compute-tf-idf-property_count Time: 3.1700680255889893s\n"
     ]
    },
    {
     "name": "stderr",
     "output_type": "stream",
     "text": [
      "202it [27:11,  8.75s/it]"
     ]
    },
    {
     "name": "stdout",
     "output_type": "stream",
     "text": [
      "mosaic-features Time: 0.010628223419189453s\n",
      "Qnodes to lookup: 2214\n",
      "Qnodes from file: 2176\n",
      "Outlier removal generates 5 lof-voted candidates\n",
      "score-using-embedding Time: 0.9805822372436523s\n",
      "compute-tf-idf-class_count Time: 1.4416518211364746s\n",
      "compute-tf-idf-property_count Time: 1.688262939453125s\n"
     ]
    },
    {
     "name": "stderr",
     "output_type": "stream",
     "text": [
      "203it [27:17,  8.01s/it]"
     ]
    },
    {
     "name": "stdout",
     "output_type": "stream",
     "text": [
      "mosaic-features Time: 0.018861055374145508s\n",
      "Qnodes to lookup: 2572\n",
      "Qnodes from file: 2408\n",
      "Outlier removal generates 5 lof-voted candidates\n",
      "Outlier removal generates 4 lof-voted candidates\n",
      "Column_vector_stragtegy centroid_of_lof failed\n",
      "score-using-embedding Time: 1.544367790222168s\n",
      "compute-tf-idf-class_count Time: 2.321732997894287s\n",
      "compute-tf-idf-property_count Time: 2.784977912902832s\n"
     ]
    },
    {
     "name": "stderr",
     "output_type": "stream",
     "text": [
      "204it [27:25,  7.82s/it]"
     ]
    },
    {
     "name": "stdout",
     "output_type": "stream",
     "text": [
      "mosaic-features Time: 0.02375030517578125s\n",
      "Qnodes to lookup: 1939\n",
      "Qnodes from file: 1929\n",
      "Outlier removal generates 4 lof-voted candidates\n",
      "Column_vector_stragtegy centroid_of_lof failed\n",
      "Column_vector_stragtegy centroid_of_lof failed\n",
      "score-using-embedding Time: 1.5702810287475586s\n",
      "compute-tf-idf-class_count Time: 2.3200337886810303s\n",
      "compute-tf-idf-property_count Time: 2.8346641063690186s\n"
     ]
    },
    {
     "name": "stderr",
     "output_type": "stream",
     "text": [
      "205it [27:32,  7.73s/it]"
     ]
    },
    {
     "name": "stdout",
     "output_type": "stream",
     "text": [
      "mosaic-features Time: 0.020244836807250977s\n",
      "Qnodes to lookup: 4237\n",
      "Qnodes from file: 4177\n",
      "Outlier removal generates 5 lof-voted candidates\n",
      "score-using-embedding Time: 1.6335639953613281s\n",
      "compute-tf-idf-class_count Time: 2.4573287963867188s\n",
      "compute-tf-idf-property_count Time: 2.97189998626709s\n"
     ]
    },
    {
     "name": "stderr",
     "output_type": "stream",
     "text": [
      "206it [27:40,  7.77s/it]"
     ]
    },
    {
     "name": "stdout",
     "output_type": "stream",
     "text": [
      "mosaic-features Time: 0.01532125473022461s\n",
      "Qnodes to lookup: 2357\n",
      "Qnodes from file: 2298\n",
      "Outlier removal generates 4 lof-voted candidates\n",
      "Column_vector_stragtegy centroid_of_lof failed\n",
      "score-using-embedding Time: 1.2707679271697998s\n",
      "compute-tf-idf-class_count Time: 1.8772921562194824s\n",
      "compute-tf-idf-property_count Time: 2.26552414894104s\n"
     ]
    },
    {
     "name": "stderr",
     "output_type": "stream",
     "text": [
      "207it [27:47,  7.50s/it]"
     ]
    },
    {
     "name": "stdout",
     "output_type": "stream",
     "text": [
      "mosaic-features Time: 0.017784833908081055s\n",
      "Qnodes to lookup: 1732\n",
      "Qnodes from file: 1702\n",
      "Outlier removal generates 5 lof-voted candidates\n",
      "Column_vector_stragtegy centroid_of_lof failed\n",
      "score-using-embedding Time: 1.5090439319610596s\n",
      "compute-tf-idf-class_count Time: 2.2472479343414307s\n",
      "compute-tf-idf-property_count Time: 2.7107999324798584s\n"
     ]
    },
    {
     "name": "stderr",
     "output_type": "stream",
     "text": [
      "208it [27:54,  7.51s/it]"
     ]
    },
    {
     "name": "stdout",
     "output_type": "stream",
     "text": [
      "mosaic-features Time: 0.033039093017578125s\n",
      "Qnodes to lookup: 10767\n",
      "Qnodes from file: 10159\n",
      "Outlier removal generates 5 lof-voted candidates\n",
      "Outlier removal generates 2 lof-voted candidates\n",
      "Outlier removal generates 2 lof-voted candidates\n",
      "Outlier removal generates 2 lof-voted candidates\n",
      "score-using-embedding Time: 2.910874843597412s\n",
      "compute-tf-idf-class_count Time: 4.366112947463989s\n",
      "compute-tf-idf-property_count Time: 5.344955921173096s\n"
     ]
    },
    {
     "name": "stderr",
     "output_type": "stream",
     "text": [
      "209it [28:05,  8.55s/it]"
     ]
    },
    {
     "name": "stdout",
     "output_type": "stream",
     "text": [
      "mosaic-features Time: 0.017291545867919922s\n",
      "Qnodes to lookup: 5305\n",
      "Qnodes from file: 4933\n",
      "Outlier removal generates 4 lof-voted candidates\n",
      "Column_vector_stragtegy centroid_of_lof failed\n",
      "score-using-embedding Time: 1.4992918968200684s\n",
      "compute-tf-idf-class_count Time: 2.285722017288208s\n",
      "compute-tf-idf-property_count Time: 2.751950979232788s\n"
     ]
    },
    {
     "name": "stderr",
     "output_type": "stream",
     "text": [
      "210it [28:14,  8.56s/it]"
     ]
    },
    {
     "name": "stdout",
     "output_type": "stream",
     "text": [
      "mosaic-features Time: 0.012865066528320312s\n",
      "Qnodes to lookup: 3598\n",
      "Qnodes from file: 3540\n",
      "Outlier removal generates 5 lof-voted candidates\n",
      "Column_vector_stragtegy centroid_of_lof failed\n",
      "score-using-embedding Time: 1.4264967441558838s\n",
      "compute-tf-idf-class_count Time: 2.7262518405914307s\n",
      "compute-tf-idf-property_count Time: 3.075483798980713s\n"
     ]
    },
    {
     "name": "stderr",
     "output_type": "stream",
     "text": [
      "211it [28:22,  8.31s/it]"
     ]
    },
    {
     "name": "stdout",
     "output_type": "stream",
     "text": [
      "mosaic-features Time: 0.02379584312438965s\n",
      "Qnodes to lookup: 185\n",
      "Qnodes from file: 185\n",
      "Outlier removal generates 6 lof-voted candidates\n",
      "Outlier removal generates 5 lof-voted candidates\n",
      "Outlier removal generates 5 lof-voted candidates\n",
      "score-using-embedding Time: 1.4274671077728271s\n",
      "compute-tf-idf-class_count Time: 2.2029778957366943s\n",
      "compute-tf-idf-property_count Time: 2.6452269554138184s\n"
     ]
    },
    {
     "name": "stderr",
     "output_type": "stream",
     "text": [
      "212it [28:29,  8.05s/it]"
     ]
    },
    {
     "name": "stdout",
     "output_type": "stream",
     "text": [
      "mosaic-features Time: 0.029209136962890625s\n",
      "Qnodes to lookup: 6433\n",
      "Qnodes from file: 6275\n",
      "Outlier removal generates 5 lof-voted candidates\n",
      "Outlier removal generates 2 lof-voted candidates\n",
      "Outlier removal generates 2 lof-voted candidates\n",
      "score-using-embedding Time: 2.4905447959899902s\n",
      "compute-tf-idf-class_count Time: 4.34689474105835s\n",
      "compute-tf-idf-property_count Time: 5.289291143417358s\n"
     ]
    },
    {
     "name": "stderr",
     "output_type": "stream",
     "text": [
      "213it [28:40,  8.76s/it]"
     ]
    },
    {
     "name": "stdout",
     "output_type": "stream",
     "text": [
      "mosaic-features Time: 0.008393049240112305s\n",
      "Qnodes to lookup: 2393\n",
      "Qnodes from file: 2367\n",
      "Outlier removal generates 3 lof-voted candidates\n",
      "score-using-embedding Time: 1.0283520221710205s\n",
      "compute-tf-idf-class_count Time: 1.4857797622680664s\n",
      "compute-tf-idf-property_count Time: 1.7268612384796143s\n"
     ]
    },
    {
     "name": "stderr",
     "output_type": "stream",
     "text": [
      "214it [28:49,  8.91s/it]"
     ]
    },
    {
     "name": "stdout",
     "output_type": "stream",
     "text": [
      "mosaic-features Time: 0.03014206886291504s\n",
      "Qnodes to lookup: 3306\n",
      "Qnodes from file: 3233\n",
      "Outlier removal generates 5 lof-voted candidates\n",
      "Column_vector_stragtegy centroid_of_lof failed\n",
      "Outlier removal generates 4 lof-voted candidates\n",
      "score-using-embedding Time: 2.041706085205078s\n",
      "compute-tf-idf-class_count Time: 2.9821419715881348s\n",
      "compute-tf-idf-property_count Time: 3.6094541549682617s\n"
     ]
    },
    {
     "name": "stderr",
     "output_type": "stream",
     "text": [
      "215it [29:02, 10.24s/it]"
     ]
    },
    {
     "name": "stdout",
     "output_type": "stream",
     "text": [
      "mosaic-features Time: 0.007146596908569336s\n",
      "Qnodes to lookup: 1650\n",
      "Qnodes from file: 1640\n",
      "Column_vector_stragtegy centroid_of_lof failed\n",
      "score-using-embedding Time: 1.5017497539520264s\n",
      "compute-tf-idf-class_count Time: 2.098335027694702s\n",
      "compute-tf-idf-property_count Time: 2.331719160079956s\n"
     ]
    },
    {
     "name": "stderr",
     "output_type": "stream",
     "text": [
      "216it [29:13, 10.37s/it]"
     ]
    },
    {
     "name": "stdout",
     "output_type": "stream",
     "text": [
      "mosaic-features Time: 0.015355825424194336s\n",
      "Qnodes to lookup: 5635\n",
      "Qnodes from file: 5474\n",
      "Outlier removal generates 5 lof-voted candidates\n",
      "Outlier removal generates 2 lof-voted candidates\n",
      "score-using-embedding Time: 1.5710461139678955s\n",
      "compute-tf-idf-class_count Time: 2.366543769836426s\n",
      "compute-tf-idf-property_count Time: 2.8834753036499023s\n"
     ]
    },
    {
     "name": "stderr",
     "output_type": "stream",
     "text": [
      "217it [29:20,  9.49s/it]"
     ]
    },
    {
     "name": "stdout",
     "output_type": "stream",
     "text": [
      "mosaic-features Time: 0.007330179214477539s\n",
      "Qnodes to lookup: 2228\n",
      "Qnodes from file: 2148\n",
      "Outlier removal generates 3 lof-voted candidates\n",
      "score-using-embedding Time: 0.9073200225830078s\n",
      "compute-tf-idf-class_count Time: 1.3444538116455078s\n",
      "compute-tf-idf-property_count Time: 1.574549913406372s\n"
     ]
    },
    {
     "name": "stderr",
     "output_type": "stream",
     "text": [
      "218it [29:27,  8.74s/it]"
     ]
    },
    {
     "name": "stdout",
     "output_type": "stream",
     "text": [
      "mosaic-features Time: 0.007339000701904297s\n",
      "Qnodes to lookup: 3068\n",
      "Qnodes from file: 3039\n",
      "Outlier removal generates 4 lof-voted candidates\n",
      "score-using-embedding Time: 1.0528600215911865s\n",
      "compute-tf-idf-class_count Time: 1.5370681285858154s\n",
      "compute-tf-idf-property_count Time: 1.777359962463379s\n"
     ]
    },
    {
     "name": "stderr",
     "output_type": "stream",
     "text": [
      "219it [29:33,  7.79s/it]"
     ]
    },
    {
     "name": "stdout",
     "output_type": "stream",
     "text": [
      "mosaic-features Time: 0.008186817169189453s\n",
      "Qnodes to lookup: 769\n",
      "Qnodes from file: 767\n",
      "Outlier removal generates 4 lof-voted candidates\n",
      "score-using-embedding Time: 0.8542971611022949s\n",
      "compute-tf-idf-class_count Time: 1.2271418571472168s\n",
      "compute-tf-idf-property_count Time: 1.43815279006958s\n"
     ]
    },
    {
     "name": "stderr",
     "output_type": "stream",
     "text": [
      "220it [29:38,  7.13s/it]"
     ]
    },
    {
     "name": "stdout",
     "output_type": "stream",
     "text": [
      "mosaic-features Time: 0.022253036499023438s\n",
      "Qnodes to lookup: 3918\n",
      "Qnodes from file: 3861\n",
      "Outlier removal generates 3 lof-voted candidates\n",
      "Outlier removal generates 2 lof-voted candidates\n",
      "score-using-embedding Time: 2.0249032974243164s\n",
      "compute-tf-idf-class_count Time: 2.9931259155273438s\n",
      "compute-tf-idf-property_count Time: 3.6074628829956055s\n"
     ]
    },
    {
     "name": "stderr",
     "output_type": "stream",
     "text": [
      "221it [29:47,  7.49s/it]"
     ]
    },
    {
     "name": "stdout",
     "output_type": "stream",
     "text": [
      "mosaic-features Time: 0.006275177001953125s\n",
      "Qnodes to lookup: 2416\n",
      "Qnodes from file: 2370\n",
      "Outlier removal generates 4 lof-voted candidates\n",
      "score-using-embedding Time: 0.9085009098052979s\n",
      "compute-tf-idf-class_count Time: 1.8157119750976562s\n",
      "compute-tf-idf-property_count Time: 2.0369160175323486s\n"
     ]
    },
    {
     "name": "stderr",
     "output_type": "stream",
     "text": [
      "222it [29:53,  7.03s/it]"
     ]
    },
    {
     "name": "stdout",
     "output_type": "stream",
     "text": [
      "mosaic-features Time: 0.03280377388000488s\n",
      "Qnodes to lookup: 2429\n",
      "Qnodes from file: 2396\n",
      "Outlier removal generates 6 lof-voted candidates\n",
      "Outlier removal generates 5 lof-voted candidates\n",
      "Column_vector_stragtegy centroid_of_lof failed\n",
      "Outlier removal generates 2 lof-voted candidates\n",
      "score-using-embedding Time: 2.3684420585632324s\n",
      "compute-tf-idf-class_count Time: 3.422089099884033s\n",
      "compute-tf-idf-property_count Time: 4.221599817276001s\n"
     ]
    },
    {
     "name": "stderr",
     "output_type": "stream",
     "text": [
      "223it [30:02,  7.80s/it]"
     ]
    },
    {
     "name": "stdout",
     "output_type": "stream",
     "text": [
      "mosaic-features Time: 0.015984773635864258s\n",
      "Qnodes to lookup: 1786\n",
      "Qnodes from file: 1770\n",
      "Outlier removal generates 2 lof-voted candidates\n",
      "Column_vector_stragtegy centroid_of_lof failed\n",
      "score-using-embedding Time: 1.4205389022827148s\n",
      "compute-tf-idf-class_count Time: 2.0570878982543945s\n",
      "compute-tf-idf-property_count Time: 2.4726638793945312s\n"
     ]
    },
    {
     "name": "stderr",
     "output_type": "stream",
     "text": [
      "224it [30:10,  7.76s/it]"
     ]
    },
    {
     "name": "stdout",
     "output_type": "stream",
     "text": [
      "mosaic-features Time: 0.008598089218139648s\n",
      "Qnodes to lookup: 3319\n",
      "Qnodes from file: 3273\n",
      "Outlier removal generates 5 lof-voted candidates\n",
      "score-using-embedding Time: 1.1461899280548096s\n",
      "compute-tf-idf-class_count Time: 1.662222146987915s\n",
      "compute-tf-idf-property_count Time: 1.940148115158081s\n"
     ]
    },
    {
     "name": "stderr",
     "output_type": "stream",
     "text": [
      "225it [30:16,  7.34s/it]"
     ]
    },
    {
     "name": "stdout",
     "output_type": "stream",
     "text": [
      "mosaic-features Time: 0.02323603630065918s\n",
      "Qnodes to lookup: 4713\n",
      "Qnodes from file: 4680\n",
      "Outlier removal generates 5 lof-voted candidates\n",
      "Column_vector_stragtegy centroid_of_lof failed\n",
      "Outlier removal generates 4 lof-voted candidates\n",
      "score-using-embedding Time: 1.9799060821533203s\n",
      "compute-tf-idf-class_count Time: 2.955683946609497s\n",
      "compute-tf-idf-property_count Time: 3.6062028408050537s\n"
     ]
    },
    {
     "name": "stderr",
     "output_type": "stream",
     "text": [
      "226it [30:25,  7.62s/it]"
     ]
    },
    {
     "name": "stdout",
     "output_type": "stream",
     "text": [
      "mosaic-features Time: 0.025129079818725586s\n",
      "Qnodes to lookup: 3370\n",
      "Qnodes from file: 3321\n",
      "Outlier removal generates 4 lof-voted candidates\n",
      "Column_vector_stragtegy centroid_of_lof failed\n",
      "Column_vector_stragtegy centroid_of_lof failed\n",
      "score-using-embedding Time: 2.111060857772827s\n",
      "compute-tf-idf-class_count Time: 3.1394762992858887s\n",
      "compute-tf-idf-property_count Time: 3.8618719577789307s\n"
     ]
    },
    {
     "name": "stderr",
     "output_type": "stream",
     "text": [
      "227it [30:33,  7.92s/it]"
     ]
    },
    {
     "name": "stdout",
     "output_type": "stream",
     "text": [
      "mosaic-features Time: 0.01376795768737793s\n",
      "Qnodes to lookup: 5237\n",
      "Qnodes from file: 5114\n",
      "Outlier removal generates 5 lof-voted candidates\n",
      "Outlier removal generates 2 lof-voted candidates\n",
      "score-using-embedding Time: 1.4431259632110596s\n",
      "compute-tf-idf-class_count Time: 2.720024824142456s\n",
      "compute-tf-idf-property_count Time: 3.1494851112365723s\n"
     ]
    },
    {
     "name": "stderr",
     "output_type": "stream",
     "text": [
      "228it [30:41,  8.02s/it]"
     ]
    },
    {
     "name": "stdout",
     "output_type": "stream",
     "text": [
      "mosaic-features Time: 0.018066883087158203s\n",
      "Qnodes to lookup: 4070\n",
      "Qnodes from file: 4045\n",
      "Outlier removal generates 3 lof-voted candidates\n",
      "Outlier removal generates 2 lof-voted candidates\n",
      "Outlier removal generates 5 lof-voted candidates\n",
      "score-using-embedding Time: 1.5585858821868896s\n",
      "compute-tf-idf-class_count Time: 2.889673948287964s\n",
      "compute-tf-idf-property_count Time: 3.369490146636963s\n"
     ]
    },
    {
     "name": "stderr",
     "output_type": "stream",
     "text": [
      "229it [30:49,  7.84s/it]"
     ]
    },
    {
     "name": "stdout",
     "output_type": "stream",
     "text": [
      "mosaic-features Time: 0.011367321014404297s\n",
      "Qnodes to lookup: 3176\n",
      "Qnodes from file: 3127\n",
      "Outlier removal generates 2 lof-voted candidates\n",
      "score-using-embedding Time: 1.1552798748016357s\n",
      "compute-tf-idf-class_count Time: 1.7170350551605225s\n",
      "compute-tf-idf-property_count Time: 2.0234620571136475s\n"
     ]
    },
    {
     "name": "stderr",
     "output_type": "stream",
     "text": [
      "230it [30:55,  7.44s/it]"
     ]
    },
    {
     "name": "stdout",
     "output_type": "stream",
     "text": [
      "mosaic-features Time: 0.024072885513305664s\n",
      "Qnodes to lookup: 4852\n",
      "Qnodes from file: 4676\n",
      "Outlier removal generates 3 lof-voted candidates\n",
      "Outlier removal generates 4 lof-voted candidates\n",
      "Outlier removal generates 2 lof-voted candidates\n",
      "score-using-embedding Time: 1.8693528175354004s\n",
      "compute-tf-idf-class_count Time: 2.9816079139709473s\n",
      "compute-tf-idf-property_count Time: 3.4334442615509033s\n"
     ]
    },
    {
     "name": "stderr",
     "output_type": "stream",
     "text": [
      "231it [31:06,  8.45s/it]"
     ]
    },
    {
     "name": "stdout",
     "output_type": "stream",
     "text": [
      "mosaic-features Time: 0.00812983512878418s\n",
      "Qnodes to lookup: 1578\n",
      "Qnodes from file: 1554\n",
      "Outlier removal generates 2 lof-voted candidates\n",
      "score-using-embedding Time: 1.2848539352416992s\n",
      "compute-tf-idf-class_count Time: 2.2068450450897217s\n",
      "compute-tf-idf-property_count Time: 2.420393943786621s\n"
     ]
    },
    {
     "name": "stderr",
     "output_type": "stream",
     "text": [
      "232it [31:17,  9.17s/it]"
     ]
    },
    {
     "name": "stdout",
     "output_type": "stream",
     "text": [
      "mosaic-features Time: 0.016822099685668945s\n",
      "Qnodes to lookup: 8259\n",
      "Qnodes from file: 8064\n",
      "Outlier removal generates 4 lof-voted candidates\n",
      "Outlier removal generates 2 lof-voted candidates\n",
      "Outlier removal generates 2 lof-voted candidates\n",
      "score-using-embedding Time: 1.600567102432251s\n",
      "compute-tf-idf-class_count Time: 3.6538169384002686s\n",
      "compute-tf-idf-property_count Time: 3.5504989624023438s\n"
     ]
    },
    {
     "name": "stderr",
     "output_type": "stream",
     "text": [
      "233it [31:30, 10.23s/it]"
     ]
    },
    {
     "name": "stdout",
     "output_type": "stream",
     "text": [
      "mosaic-features Time: 0.006177186965942383s\n",
      "Qnodes to lookup: 2502\n",
      "Qnodes from file: 2478\n",
      "Outlier removal generates 5 lof-voted candidates\n",
      "score-using-embedding Time: 0.897040843963623s\n",
      "compute-tf-idf-class_count Time: 1.327704668045044s\n",
      "compute-tf-idf-property_count Time: 1.5458018779754639s\n"
     ]
    },
    {
     "name": "stderr",
     "output_type": "stream",
     "text": [
      "234it [31:36,  9.19s/it]"
     ]
    },
    {
     "name": "stdout",
     "output_type": "stream",
     "text": [
      "mosaic-features Time: 0.019287824630737305s\n",
      "Qnodes to lookup: 5053\n",
      "Qnodes from file: 4926\n",
      "Outlier removal generates 4 lof-voted candidates\n",
      "Outlier removal generates 2 lof-voted candidates\n",
      "score-using-embedding Time: 1.5945930480957031s\n",
      "compute-tf-idf-class_count Time: 2.4232876300811768s\n",
      "compute-tf-idf-property_count Time: 2.9677560329437256s\n"
     ]
    },
    {
     "name": "stderr",
     "output_type": "stream",
     "text": [
      "235it [31:44,  8.80s/it]"
     ]
    },
    {
     "name": "stdout",
     "output_type": "stream",
     "text": [
      "mosaic-features Time: 0.011950016021728516s\n",
      "Qnodes to lookup: 4702\n",
      "Qnodes from file: 4619\n",
      "Outlier removal generates 6 lof-voted candidates\n",
      "Outlier removal generates 2 lof-voted candidates\n",
      "score-using-embedding Time: 1.2436268329620361s\n",
      "compute-tf-idf-class_count Time: 2.357570171356201s\n",
      "compute-tf-idf-property_count Time: 2.751382827758789s\n"
     ]
    },
    {
     "name": "stderr",
     "output_type": "stream",
     "text": [
      "236it [31:51,  8.24s/it]"
     ]
    },
    {
     "name": "stdout",
     "output_type": "stream",
     "text": [
      "mosaic-features Time: 0.023064136505126953s\n",
      "Qnodes to lookup: 5953\n",
      "Qnodes from file: 5888\n",
      "Outlier removal generates 5 lof-voted candidates\n",
      "Outlier removal generates 3 lof-voted candidates\n",
      "Outlier removal generates 2 lof-voted candidates\n",
      "score-using-embedding Time: 2.093047857284546s\n",
      "compute-tf-idf-class_count Time: 3.1561849117279053s\n",
      "compute-tf-idf-property_count Time: 3.8955349922180176s\n"
     ]
    },
    {
     "name": "stderr",
     "output_type": "stream",
     "text": [
      "237it [32:00,  8.27s/it]"
     ]
    },
    {
     "name": "stdout",
     "output_type": "stream",
     "text": [
      "mosaic-features Time: 0.010307073593139648s\n",
      "Qnodes to lookup: 1023\n",
      "Qnodes from file: 1003\n",
      "Outlier removal generates 5 lof-voted candidates\n",
      "score-using-embedding Time: 0.8941938877105713s\n",
      "compute-tf-idf-class_count Time: 1.3140289783477783s\n",
      "compute-tf-idf-property_count Time: 1.5293445587158203s\n"
     ]
    },
    {
     "name": "stderr",
     "output_type": "stream",
     "text": [
      "238it [32:06,  7.56s/it]"
     ]
    },
    {
     "name": "stdout",
     "output_type": "stream",
     "text": [
      "mosaic-features Time: 0.007272005081176758s\n",
      "Qnodes to lookup: 1360\n",
      "Qnodes from file: 1345\n",
      "Outlier removal generates 2 lof-voted candidates\n",
      "score-using-embedding Time: 1.2340888977050781s\n",
      "compute-tf-idf-class_count Time: 1.6589152812957764s\n",
      "compute-tf-idf-property_count Time: 1.8683650493621826s\n"
     ]
    },
    {
     "name": "stderr",
     "output_type": "stream",
     "text": [
      "239it [32:12,  7.22s/it]"
     ]
    },
    {
     "name": "stdout",
     "output_type": "stream",
     "text": [
      "mosaic-features Time: 0.019584178924560547s\n",
      "Qnodes to lookup: 2874\n",
      "Qnodes from file: 2820\n",
      "Outlier removal generates 5 lof-voted candidates\n",
      "Outlier removal generates 4 lof-voted candidates\n",
      "Outlier removal generates 6 lof-voted candidates\n",
      "score-using-embedding Time: 1.5170199871063232s\n",
      "compute-tf-idf-class_count Time: 2.2103652954101562s\n",
      "compute-tf-idf-property_count Time: 2.6594009399414062s\n"
     ]
    },
    {
     "name": "stderr",
     "output_type": "stream",
     "text": [
      "240it [32:19,  7.20s/it]"
     ]
    },
    {
     "name": "stdout",
     "output_type": "stream",
     "text": [
      "mosaic-features Time: 0.01677989959716797s\n",
      "Qnodes to lookup: 1531\n",
      "Qnodes from file: 1501\n",
      "Outlier removal generates 4 lof-voted candidates\n",
      "Column_vector_stragtegy centroid_of_lof failed\n",
      "score-using-embedding Time: 1.298732042312622s\n",
      "compute-tf-idf-class_count Time: 1.9220991134643555s\n",
      "compute-tf-idf-property_count Time: 2.3364288806915283s\n"
     ]
    },
    {
     "name": "stderr",
     "output_type": "stream",
     "text": [
      "241it [32:26,  7.17s/it]"
     ]
    },
    {
     "name": "stdout",
     "output_type": "stream",
     "text": [
      "mosaic-features Time: 0.022841691970825195s\n",
      "Qnodes to lookup: 5755\n",
      "Qnodes from file: 5683\n",
      "Outlier removal generates 4 lof-voted candidates\n",
      "Outlier removal generates 2 lof-voted candidates\n",
      "Outlier removal generates 2 lof-voted candidates\n",
      "score-using-embedding Time: 1.945282220840454s\n",
      "compute-tf-idf-class_count Time: 2.947268009185791s\n",
      "compute-tf-idf-property_count Time: 3.5272610187530518s\n"
     ]
    },
    {
     "name": "stderr",
     "output_type": "stream",
     "text": [
      "242it [32:35,  7.55s/it]"
     ]
    },
    {
     "name": "stdout",
     "output_type": "stream",
     "text": [
      "mosaic-features Time: 0.0072879791259765625s\n",
      "Qnodes to lookup: 1885\n",
      "Qnodes from file: 1858\n",
      "Outlier removal generates 5 lof-voted candidates\n",
      "score-using-embedding Time: 0.9724209308624268s\n",
      "compute-tf-idf-class_count Time: 1.4062590599060059s\n",
      "compute-tf-idf-property_count Time: 1.6185088157653809s\n"
     ]
    },
    {
     "name": "stderr",
     "output_type": "stream",
     "text": [
      "243it [32:41,  7.20s/it]"
     ]
    },
    {
     "name": "stdout",
     "output_type": "stream",
     "text": [
      "mosaic-features Time: 0.020307064056396484s\n",
      "Qnodes to lookup: 2951\n",
      "Qnodes from file: 2833\n",
      "Outlier removal generates 5 lof-voted candidates\n",
      "Column_vector_stragtegy centroid_of_lof failed\n",
      "Outlier removal generates 3 lof-voted candidates\n",
      "score-using-embedding Time: 1.520400047302246s\n",
      "compute-tf-idf-class_count Time: 2.2879769802093506s\n",
      "compute-tf-idf-property_count Time: 2.7315011024475098s\n"
     ]
    },
    {
     "name": "stderr",
     "output_type": "stream",
     "text": [
      "244it [32:48,  7.25s/it]"
     ]
    },
    {
     "name": "stdout",
     "output_type": "stream",
     "text": [
      "mosaic-features Time: 0.008166074752807617s\n",
      "Qnodes to lookup: 2087\n",
      "Qnodes from file: 2015\n",
      "Outlier removal generates 5 lof-voted candidates\n",
      "score-using-embedding Time: 1.1079318523406982s\n",
      "compute-tf-idf-class_count Time: 1.5915918350219727s\n",
      "compute-tf-idf-property_count Time: 1.8317711353302002s\n"
     ]
    },
    {
     "name": "stderr",
     "output_type": "stream",
     "text": [
      "245it [32:55,  7.11s/it]"
     ]
    },
    {
     "name": "stdout",
     "output_type": "stream",
     "text": [
      "mosaic-features Time: 0.008588075637817383s\n",
      "Qnodes to lookup: 2333\n",
      "Qnodes from file: 2304\n",
      "Outlier removal generates 4 lof-voted candidates\n",
      "score-using-embedding Time: 0.9654388427734375s\n",
      "compute-tf-idf-class_count Time: 1.940835952758789s\n",
      "compute-tf-idf-property_count Time: 2.2039542198181152s\n"
     ]
    },
    {
     "name": "stderr",
     "output_type": "stream",
     "text": [
      "246it [33:02,  6.98s/it]"
     ]
    },
    {
     "name": "stdout",
     "output_type": "stream",
     "text": [
      "mosaic-features Time: 0.01365518569946289s\n",
      "Qnodes to lookup: 4669\n",
      "Qnodes from file: 4561\n",
      "Outlier removal generates 4 lof-voted candidates\n",
      "Outlier removal generates 4 lof-voted candidates\n",
      "score-using-embedding Time: 1.365799903869629s\n",
      "compute-tf-idf-class_count Time: 2.1005859375s\n",
      "compute-tf-idf-property_count Time: 2.502746820449829s\n"
     ]
    },
    {
     "name": "stderr",
     "output_type": "stream",
     "text": [
      "247it [33:10,  7.30s/it]"
     ]
    },
    {
     "name": "stdout",
     "output_type": "stream",
     "text": [
      "mosaic-features Time: 0.015842199325561523s\n",
      "Qnodes to lookup: 3356\n",
      "Qnodes from file: 3199\n",
      "Outlier removal generates 4 lof-voted candidates\n",
      "Outlier removal generates 5 lof-voted candidates\n",
      "score-using-embedding Time: 1.7015302181243896s\n",
      "compute-tf-idf-class_count Time: 2.4028286933898926s\n",
      "compute-tf-idf-property_count Time: 2.8675320148468018s\n"
     ]
    },
    {
     "name": "stderr",
     "output_type": "stream",
     "text": [
      "248it [33:18,  7.46s/it]"
     ]
    },
    {
     "name": "stdout",
     "output_type": "stream",
     "text": [
      "mosaic-features Time: 0.02828812599182129s\n",
      "Qnodes to lookup: 4764\n",
      "Qnodes from file: 4643\n",
      "Outlier removal generates 4 lof-voted candidates\n",
      "Column_vector_stragtegy centroid_of_lof failed\n",
      "Column_vector_stragtegy centroid_of_lof failed\n",
      "Column_vector_stragtegy centroid_of_lof failed\n",
      "score-using-embedding Time: 2.371838092803955s\n",
      "compute-tf-idf-class_count Time: 3.575150966644287s\n",
      "compute-tf-idf-property_count Time: 4.385096073150635s\n"
     ]
    },
    {
     "name": "stderr",
     "output_type": "stream",
     "text": [
      "249it [33:27,  7.93s/it]"
     ]
    },
    {
     "name": "stdout",
     "output_type": "stream",
     "text": [
      "mosaic-features Time: 0.01569986343383789s\n",
      "Qnodes to lookup: 4508\n",
      "Qnodes from file: 4449\n",
      "Outlier removal generates 5 lof-voted candidates\n",
      "Outlier removal generates 2 lof-voted candidates\n",
      "score-using-embedding Time: 1.848639965057373s\n",
      "compute-tf-idf-class_count Time: 3.3214519023895264s\n",
      "compute-tf-idf-property_count Time: 3.8591580390930176s\n"
     ]
    },
    {
     "name": "stderr",
     "output_type": "stream",
     "text": [
      "250it [33:39,  9.35s/it]"
     ]
    },
    {
     "name": "stdout",
     "output_type": "stream",
     "text": [
      "mosaic-features Time: 0.009604215621948242s\n",
      "Qnodes to lookup: 2199\n",
      "Qnodes from file: 2180\n",
      "Outlier removal generates 5 lof-voted candidates\n",
      "score-using-embedding Time: 2.1505959033966064s\n",
      "compute-tf-idf-class_count Time: 2.5986297130584717s\n",
      "compute-tf-idf-property_count Time: 3.1717190742492676s\n"
     ]
    },
    {
     "name": "stderr",
     "output_type": "stream",
     "text": [
      "251it [33:50,  9.85s/it]"
     ]
    },
    {
     "name": "stdout",
     "output_type": "stream",
     "text": [
      "mosaic-features Time: 0.04029488563537598s\n",
      "Qnodes to lookup: 5672\n",
      "Qnodes from file: 5585\n",
      "Outlier removal generates 4 lof-voted candidates\n",
      "Column_vector_stragtegy centroid_of_lof failed\n",
      "Outlier removal generates 2 lof-voted candidates\n",
      "Outlier removal generates 2 lof-voted candidates\n",
      "Column_vector_stragtegy centroid_of_lof failed\n",
      "score-using-embedding Time: 3.2174952030181885s\n",
      "compute-tf-idf-class_count Time: 5.1332080364227295s\n",
      "compute-tf-idf-property_count Time: 5.400897026062012s\n"
     ]
    },
    {
     "name": "stderr",
     "output_type": "stream",
     "text": [
      "252it [34:03, 10.69s/it]"
     ]
    },
    {
     "name": "stdout",
     "output_type": "stream",
     "text": [
      "mosaic-features Time: 0.014513015747070312s\n",
      "Qnodes to lookup: 4046\n",
      "Qnodes from file: 3960\n",
      "Outlier removal generates 4 lof-voted candidates\n",
      "Column_vector_stragtegy centroid_of_lof failed\n",
      "score-using-embedding Time: 1.6782851219177246s\n",
      "compute-tf-idf-class_count Time: 2.3859610557556152s\n",
      "compute-tf-idf-property_count Time: 2.7642219066619873s\n"
     ]
    },
    {
     "name": "stderr",
     "output_type": "stream",
     "text": [
      "253it [34:10,  9.53s/it]"
     ]
    },
    {
     "name": "stdout",
     "output_type": "stream",
     "text": [
      "mosaic-features Time: 0.007213115692138672s\n",
      "Qnodes to lookup: 2360\n",
      "Qnodes from file: 2309\n",
      "Outlier removal generates 2 lof-voted candidates\n",
      "score-using-embedding Time: 0.9332220554351807s\n",
      "compute-tf-idf-class_count Time: 1.3735170364379883s\n",
      "compute-tf-idf-property_count Time: 1.6124627590179443s\n"
     ]
    },
    {
     "name": "stderr",
     "output_type": "stream",
     "text": [
      "254it [34:16,  8.38s/it]"
     ]
    },
    {
     "name": "stdout",
     "output_type": "stream",
     "text": [
      "mosaic-features Time: 0.008835077285766602s\n",
      "Qnodes to lookup: 2903\n",
      "Qnodes from file: 2868\n",
      "Outlier removal generates 5 lof-voted candidates\n",
      "score-using-embedding Time: 1.1329030990600586s\n",
      "compute-tf-idf-class_count Time: 1.6089599132537842s\n",
      "compute-tf-idf-property_count Time: 1.8518178462982178s\n"
     ]
    },
    {
     "name": "stderr",
     "output_type": "stream",
     "text": [
      "255it [34:22,  7.85s/it]"
     ]
    },
    {
     "name": "stdout",
     "output_type": "stream",
     "text": [
      "mosaic-features Time: 0.011649131774902344s\n",
      "Qnodes to lookup: 2620\n",
      "Qnodes from file: 2588\n",
      "Outlier removal generates 4 lof-voted candidates\n",
      "Outlier removal generates 5 lof-voted candidates\n",
      "score-using-embedding Time: 1.2062292098999023s\n",
      "compute-tf-idf-class_count Time: 1.785217046737671s\n",
      "compute-tf-idf-property_count Time: 2.1503710746765137s\n"
     ]
    },
    {
     "name": "stderr",
     "output_type": "stream",
     "text": [
      "256it [34:29,  7.40s/it]"
     ]
    },
    {
     "name": "stdout",
     "output_type": "stream",
     "text": [
      "mosaic-features Time: 0.01957416534423828s\n",
      "Qnodes to lookup: 4808\n",
      "Qnodes from file: 4717\n",
      "Outlier removal generates 4 lof-voted candidates\n",
      "Outlier removal generates 2 lof-voted candidates\n",
      "Outlier removal generates 2 lof-voted candidates\n",
      "score-using-embedding Time: 1.682528018951416s\n",
      "compute-tf-idf-class_count Time: 2.5258498191833496s\n",
      "compute-tf-idf-property_count Time: 3.0257651805877686s\n"
     ]
    },
    {
     "name": "stderr",
     "output_type": "stream",
     "text": [
      "257it [34:36,  7.29s/it]"
     ]
    },
    {
     "name": "stdout",
     "output_type": "stream",
     "text": [
      "mosaic-features Time: 0.008120059967041016s\n",
      "Qnodes to lookup: 1046\n",
      "Qnodes from file: 1043\n",
      "Outlier removal generates 5 lof-voted candidates\n",
      "score-using-embedding Time: 1.3468260765075684s\n",
      "compute-tf-idf-class_count Time: 1.7260138988494873s\n",
      "compute-tf-idf-property_count Time: 1.9425501823425293s\n"
     ]
    },
    {
     "name": "stderr",
     "output_type": "stream",
     "text": [
      "258it [34:43,  7.20s/it]"
     ]
    },
    {
     "name": "stdout",
     "output_type": "stream",
     "text": [
      "mosaic-features Time: 0.010463953018188477s\n",
      "Qnodes to lookup: 3515\n",
      "Qnodes from file: 3453\n",
      "Outlier removal generates 4 lof-voted candidates\n",
      "score-using-embedding Time: 1.0989830493927002s\n",
      "compute-tf-idf-class_count Time: 1.5883598327636719s\n",
      "compute-tf-idf-property_count Time: 1.8762180805206299s\n"
     ]
    },
    {
     "name": "stderr",
     "output_type": "stream",
     "text": [
      "259it [34:49,  6.88s/it]"
     ]
    },
    {
     "name": "stdout",
     "output_type": "stream",
     "text": [
      "mosaic-features Time: 0.016180038452148438s\n",
      "Qnodes to lookup: 4002\n",
      "Qnodes from file: 3935\n",
      "Outlier removal generates 4 lof-voted candidates\n",
      "Outlier removal generates 2 lof-voted candidates\n",
      "score-using-embedding Time: 1.370880126953125s\n",
      "compute-tf-idf-class_count Time: 2.012183904647827s\n",
      "compute-tf-idf-property_count Time: 2.3878490924835205s\n"
     ]
    },
    {
     "name": "stderr",
     "output_type": "stream",
     "text": [
      "260it [34:55,  6.85s/it]"
     ]
    },
    {
     "name": "stdout",
     "output_type": "stream",
     "text": [
      "mosaic-features Time: 0.05319476127624512s\n",
      "Qnodes to lookup: 13488\n",
      "Qnodes from file: 13195\n",
      "Outlier removal generates 6 lof-voted candidates\n",
      "Outlier removal generates 4 lof-voted candidates\n",
      "Column_vector_stragtegy centroid_of_lof failed\n",
      "score-using-embedding Time: 3.769094944000244s\n",
      "compute-tf-idf-class_count Time: 5.785354137420654s\n",
      "compute-tf-idf-property_count Time: 7.013895750045776s\n"
     ]
    },
    {
     "name": "stderr",
     "output_type": "stream",
     "text": [
      "261it [35:08,  8.46s/it]"
     ]
    },
    {
     "name": "stdout",
     "output_type": "stream",
     "text": [
      "mosaic-features Time: 0.007519960403442383s\n",
      "Qnodes to lookup: 2978\n",
      "Qnodes from file: 2877\n",
      "Outlier removal generates 5 lof-voted candidates\n",
      "score-using-embedding Time: 1.408555030822754s\n",
      "compute-tf-idf-class_count Time: 1.8390378952026367s\n",
      "compute-tf-idf-property_count Time: 2.1695899963378906s\n"
     ]
    },
    {
     "name": "stderr",
     "output_type": "stream",
     "text": [
      "262it [35:15,  8.08s/it]"
     ]
    },
    {
     "name": "stdout",
     "output_type": "stream",
     "text": [
      "mosaic-features Time: 0.023188114166259766s\n",
      "Qnodes to lookup: 5700\n",
      "Qnodes from file: 5592\n",
      "Outlier removal generates 5 lof-voted candidates\n",
      "Column_vector_stragtegy centroid_of_lof failed\n",
      "Outlier removal generates 4 lof-voted candidates\n",
      "score-using-embedding Time: 2.007120132446289s\n",
      "compute-tf-idf-class_count Time: 3.0818228721618652s\n",
      "compute-tf-idf-property_count Time: 3.7616519927978516s\n"
     ]
    },
    {
     "name": "stderr",
     "output_type": "stream",
     "text": [
      "263it [35:23,  8.06s/it]"
     ]
    },
    {
     "name": "stdout",
     "output_type": "stream",
     "text": [
      "mosaic-features Time: 0.014268159866333008s\n",
      "Qnodes to lookup: 3318\n",
      "Qnodes from file: 3277\n",
      "Outlier removal generates 2 lof-voted candidates\n",
      "Column_vector_stragtegy centroid_of_lof failed\n",
      "score-using-embedding Time: 1.3192670345306396s\n",
      "compute-tf-idf-class_count Time: 1.961487054824829s\n",
      "compute-tf-idf-property_count Time: 2.3425979614257812s\n"
     ]
    },
    {
     "name": "stderr",
     "output_type": "stream",
     "text": [
      "264it [35:30,  7.67s/it]"
     ]
    },
    {
     "name": "stdout",
     "output_type": "stream",
     "text": [
      "mosaic-features Time: 0.008608102798461914s\n",
      "Qnodes to lookup: 1959\n",
      "Qnodes from file: 1933\n",
      "Outlier removal generates 2 lof-voted candidates\n",
      "score-using-embedding Time: 0.9152710437774658s\n",
      "compute-tf-idf-class_count Time: 1.4703819751739502s\n",
      "compute-tf-idf-property_count Time: 1.581327199935913s\n"
     ]
    },
    {
     "name": "stderr",
     "output_type": "stream",
     "text": [
      "265it [35:37,  7.50s/it]"
     ]
    },
    {
     "name": "stdout",
     "output_type": "stream",
     "text": [
      "mosaic-features Time: 0.006941795349121094s\n",
      "Qnodes to lookup: 535\n",
      "Qnodes from file: 528\n",
      "Outlier removal generates 5 lof-voted candidates\n",
      "score-using-embedding Time: 1.016909122467041s\n",
      "compute-tf-idf-class_count Time: 1.4505250453948975s\n",
      "compute-tf-idf-property_count Time: 1.6673359870910645s\n"
     ]
    },
    {
     "name": "stderr",
     "output_type": "stream",
     "text": [
      "266it [35:42,  6.91s/it]"
     ]
    },
    {
     "name": "stdout",
     "output_type": "stream",
     "text": [
      "mosaic-features Time: 0.025658130645751953s\n",
      "Qnodes to lookup: 6223\n",
      "Qnodes from file: 6119\n",
      "Outlier removal generates 4 lof-voted candidates\n",
      "Outlier removal generates 2 lof-voted candidates\n",
      "Outlier removal generates 2 lof-voted candidates\n",
      "score-using-embedding Time: 2.1770622730255127s\n",
      "compute-tf-idf-class_count Time: 3.306603193283081s\n",
      "compute-tf-idf-property_count Time: 4.05170202255249s\n"
     ]
    },
    {
     "name": "stderr",
     "output_type": "stream",
     "text": [
      "267it [35:53,  7.97s/it]"
     ]
    },
    {
     "name": "stdout",
     "output_type": "stream",
     "text": [
      "mosaic-features Time: 0.007700204849243164s\n",
      "Qnodes to lookup: 2677\n",
      "Qnodes from file: 2603\n",
      "Outlier removal generates 4 lof-voted candidates\n",
      "score-using-embedding Time: 1.5336060523986816s\n",
      "compute-tf-idf-class_count Time: 2.1055610179901123s\n",
      "compute-tf-idf-property_count Time: 2.7731690406799316s\n"
     ]
    },
    {
     "name": "stderr",
     "output_type": "stream",
     "text": [
      "268it [36:04,  9.05s/it]"
     ]
    },
    {
     "name": "stdout",
     "output_type": "stream",
     "text": [
      "mosaic-features Time: 0.006901979446411133s\n",
      "Qnodes to lookup: 2605\n",
      "Qnodes from file: 2572\n",
      "Outlier removal generates 5 lof-voted candidates\n",
      "score-using-embedding Time: 1.3383820056915283s\n",
      "compute-tf-idf-class_count Time: 2.2758920192718506s\n",
      "compute-tf-idf-property_count Time: 2.613008737564087s\n"
     ]
    },
    {
     "name": "stderr",
     "output_type": "stream",
     "text": [
      "269it [36:15,  9.60s/it]"
     ]
    },
    {
     "name": "stdout",
     "output_type": "stream",
     "text": [
      "mosaic-features Time: 0.01875472068786621s\n",
      "Qnodes to lookup: 4944\n",
      "Qnodes from file: 4876\n",
      "Outlier removal generates 5 lof-voted candidates\n",
      "Column_vector_stragtegy centroid_of_lof failed\n",
      "Outlier removal generates 2 lof-voted candidates\n",
      "score-using-embedding Time: 1.6868653297424316s\n",
      "compute-tf-idf-class_count Time: 2.537065029144287s\n",
      "compute-tf-idf-property_count Time: 3.1173818111419678s\n"
     ]
    },
    {
     "name": "stderr",
     "output_type": "stream",
     "text": [
      "270it [36:23,  9.03s/it]"
     ]
    },
    {
     "name": "stdout",
     "output_type": "stream",
     "text": [
      "mosaic-features Time: 0.020450115203857422s\n",
      "Qnodes to lookup: 5065\n",
      "Qnodes from file: 4967\n",
      "Outlier removal generates 5 lof-voted candidates\n",
      "Outlier removal generates 4 lof-voted candidates\n",
      "Column_vector_stragtegy centroid_of_lof failed\n",
      "Outlier removal generates 2 lof-voted candidates\n",
      "score-using-embedding Time: 1.877898931503296s\n",
      "compute-tf-idf-class_count Time: 2.793667793273926s\n",
      "compute-tf-idf-property_count Time: 3.409881830215454s\n"
     ]
    },
    {
     "name": "stderr",
     "output_type": "stream",
     "text": [
      "271it [36:31,  8.78s/it]"
     ]
    },
    {
     "name": "stdout",
     "output_type": "stream",
     "text": [
      "mosaic-features Time: 0.017767906188964844s\n",
      "Qnodes to lookup: 5609\n",
      "Qnodes from file: 5511\n",
      "Outlier removal generates 4 lof-voted candidates\n",
      "Outlier removal generates 2 lof-voted candidates\n",
      "Outlier removal generates 2 lof-voted candidates\n",
      "score-using-embedding Time: 1.715505838394165s\n",
      "compute-tf-idf-class_count Time: 2.595521926879883s\n",
      "compute-tf-idf-property_count Time: 3.12892484664917s\n"
     ]
    },
    {
     "name": "stderr",
     "output_type": "stream",
     "text": [
      "272it [36:39,  8.46s/it]"
     ]
    },
    {
     "name": "stdout",
     "output_type": "stream",
     "text": [
      "mosaic-features Time: 0.00772404670715332s\n",
      "Qnodes to lookup: 2304\n",
      "Qnodes from file: 2257\n",
      "Outlier removal generates 5 lof-voted candidates\n",
      "score-using-embedding Time: 0.9099900722503662s\n",
      "compute-tf-idf-class_count Time: 1.337205171585083s\n",
      "compute-tf-idf-property_count Time: 1.5668067932128906s\n"
     ]
    },
    {
     "name": "stderr",
     "output_type": "stream",
     "text": [
      "273it [36:45,  7.64s/it]"
     ]
    },
    {
     "name": "stdout",
     "output_type": "stream",
     "text": [
      "mosaic-features Time: 0.011409997940063477s\n",
      "Qnodes to lookup: 2138\n",
      "Qnodes from file: 2128\n",
      "Outlier removal generates 2 lof-voted candidates\n",
      "score-using-embedding Time: 1.1243152618408203s\n",
      "compute-tf-idf-class_count Time: 1.5818159580230713s\n",
      "compute-tf-idf-property_count Time: 1.8832387924194336s\n"
     ]
    },
    {
     "name": "stderr",
     "output_type": "stream",
     "text": [
      "274it [36:51,  7.32s/it]"
     ]
    },
    {
     "name": "stdout",
     "output_type": "stream",
     "text": [
      "mosaic-features Time: 0.01137995719909668s\n",
      "Qnodes to lookup: 3010\n",
      "Qnodes from file: 2995\n",
      "Outlier removal generates 2 lof-voted candidates\n",
      "score-using-embedding Time: 1.166356086730957s\n",
      "compute-tf-idf-class_count Time: 1.618901014328003s\n",
      "compute-tf-idf-property_count Time: 1.921314001083374s\n"
     ]
    },
    {
     "name": "stderr",
     "output_type": "stream",
     "text": [
      "275it [36:57,  6.99s/it]"
     ]
    },
    {
     "name": "stdout",
     "output_type": "stream",
     "text": [
      "mosaic-features Time: 0.007685184478759766s\n",
      "Qnodes to lookup: 2980\n",
      "Qnodes from file: 2945\n",
      "Outlier removal generates 3 lof-voted candidates\n",
      "score-using-embedding Time: 1.0832500457763672s\n",
      "compute-tf-idf-class_count Time: 1.5717380046844482s\n",
      "compute-tf-idf-property_count Time: 1.819504976272583s\n"
     ]
    },
    {
     "name": "stderr",
     "output_type": "stream",
     "text": [
      "276it [37:03,  6.66s/it]"
     ]
    },
    {
     "name": "stdout",
     "output_type": "stream",
     "text": [
      "mosaic-features Time: 0.015458106994628906s\n",
      "Qnodes to lookup: 3944\n",
      "Qnodes from file: 3912\n",
      "Outlier removal generates 4 lof-voted candidates\n",
      "Outlier removal generates 4 lof-voted candidates\n",
      "score-using-embedding Time: 1.3951611518859863s\n",
      "compute-tf-idf-class_count Time: 2.0550498962402344s\n",
      "compute-tf-idf-property_count Time: 2.4376797676086426s\n"
     ]
    },
    {
     "name": "stderr",
     "output_type": "stream",
     "text": [
      "277it [37:11,  6.91s/it]"
     ]
    },
    {
     "name": "stdout",
     "output_type": "stream",
     "text": [
      "mosaic-features Time: 0.0124969482421875s\n",
      "Qnodes to lookup: 2519\n",
      "Qnodes from file: 2401\n",
      "Outlier removal generates 3 lof-voted candidates\n",
      "Outlier removal generates 2 lof-voted candidates\n",
      "score-using-embedding Time: 1.326395034790039s\n",
      "compute-tf-idf-class_count Time: 1.9693739414215088s\n",
      "compute-tf-idf-property_count Time: 2.2917001247406006s\n"
     ]
    },
    {
     "name": "stderr",
     "output_type": "stream",
     "text": [
      "278it [37:17,  6.73s/it]"
     ]
    },
    {
     "name": "stdout",
     "output_type": "stream",
     "text": [
      "mosaic-features Time: 0.02407097816467285s\n",
      "Qnodes to lookup: 6973\n",
      "Qnodes from file: 6874\n",
      "Outlier removal generates 5 lof-voted candidates\n",
      "Outlier removal generates 2 lof-voted candidates\n",
      "Outlier removal generates 2 lof-voted candidates\n",
      "score-using-embedding Time: 2.192155122756958s\n",
      "compute-tf-idf-class_count Time: 3.3044121265411377s\n",
      "compute-tf-idf-property_count Time: 4.0687949657440186s\n"
     ]
    },
    {
     "name": "stderr",
     "output_type": "stream",
     "text": [
      "279it [37:26,  7.44s/it]"
     ]
    },
    {
     "name": "stdout",
     "output_type": "stream",
     "text": [
      "mosaic-features Time: 0.009979963302612305s\n",
      "Qnodes to lookup: 2246\n",
      "Qnodes from file: 2225\n",
      "Outlier removal generates 3 lof-voted candidates\n",
      "score-using-embedding Time: 1.0493600368499756s\n",
      "compute-tf-idf-class_count Time: 1.5051419734954834s\n",
      "compute-tf-idf-property_count Time: 1.7792010307312012s\n"
     ]
    },
    {
     "name": "stderr",
     "output_type": "stream",
     "text": [
      "280it [37:33,  7.39s/it]"
     ]
    },
    {
     "name": "stdout",
     "output_type": "stream",
     "text": [
      "mosaic-features Time: 0.03177595138549805s\n",
      "Qnodes to lookup: 6827\n",
      "Qnodes from file: 6628\n",
      "Outlier removal generates 2 lof-voted candidates\n",
      "Column_vector_stragtegy centroid_of_lof failed\n",
      "Column_vector_stragtegy centroid_of_lof failed\n",
      "score-using-embedding Time: 2.571768045425415s\n",
      "compute-tf-idf-class_count Time: 3.878679037094116s\n",
      "compute-tf-idf-property_count Time: 4.789383888244629s\n"
     ]
    },
    {
     "name": "stderr",
     "output_type": "stream",
     "text": [
      "281it [37:43,  8.08s/it]"
     ]
    },
    {
     "name": "stdout",
     "output_type": "stream",
     "text": [
      "mosaic-features Time: 0.029815196990966797s\n",
      "Qnodes to lookup: 2037\n",
      "Qnodes from file: 2013\n",
      "Outlier removal generates 5 lof-voted candidates\n",
      "Column_vector_stragtegy centroid_of_lof failed\n",
      "Outlier removal generates 2 lof-voted candidates\n",
      "score-using-embedding Time: 2.0437870025634766s\n",
      "compute-tf-idf-class_count Time: 2.9845759868621826s\n",
      "compute-tf-idf-property_count Time: 3.6499569416046143s\n"
     ]
    },
    {
     "name": "stderr",
     "output_type": "stream",
     "text": [
      "282it [37:51,  8.16s/it]"
     ]
    },
    {
     "name": "stdout",
     "output_type": "stream",
     "text": [
      "mosaic-features Time: 0.016063213348388672s\n",
      "Qnodes to lookup: 3377\n",
      "Qnodes from file: 3300\n",
      "Outlier removal generates 4 lof-voted candidates\n",
      "Column_vector_stragtegy centroid_of_lof failed\n",
      "score-using-embedding Time: 1.4552018642425537s\n",
      "compute-tf-idf-class_count Time: 2.1085128784179688s\n",
      "compute-tf-idf-property_count Time: 2.527862787246704s\n"
     ]
    },
    {
     "name": "stderr",
     "output_type": "stream",
     "text": [
      "283it [37:58,  7.79s/it]"
     ]
    },
    {
     "name": "stdout",
     "output_type": "stream",
     "text": [
      "mosaic-features Time: 0.028069734573364258s\n",
      "Qnodes to lookup: 4897\n",
      "Qnodes from file: 4821\n",
      "Outlier removal generates 4 lof-voted candidates\n",
      "Column_vector_stragtegy centroid_of_lof failed\n",
      "Outlier removal generates 2 lof-voted candidates\n",
      "Outlier removal generates 4 lof-voted candidates\n",
      "score-using-embedding Time: 2.2986671924591064s\n",
      "compute-tf-idf-class_count Time: 4.032458066940308s\n",
      "compute-tf-idf-property_count Time: 3.9325950145721436s\n"
     ]
    },
    {
     "name": "stderr",
     "output_type": "stream",
     "text": [
      "284it [38:10,  8.92s/it]"
     ]
    },
    {
     "name": "stdout",
     "output_type": "stream",
     "text": [
      "mosaic-features Time: 0.013617992401123047s\n",
      "Qnodes to lookup: 1867\n",
      "Qnodes from file: 1803\n",
      "Outlier removal generates 5 lof-voted candidates\n",
      "Column_vector_stragtegy centroid_of_lof failed\n",
      "score-using-embedding Time: 1.5516729354858398s\n",
      "compute-tf-idf-class_count Time: 2.824018955230713s\n",
      "compute-tf-idf-property_count Time: 3.1934471130371094s\n"
     ]
    },
    {
     "name": "stderr",
     "output_type": "stream",
     "text": [
      "285it [38:21,  9.57s/it]"
     ]
    },
    {
     "name": "stdout",
     "output_type": "stream",
     "text": [
      "mosaic-features Time: 0.008989095687866211s\n",
      "Qnodes to lookup: 2662\n",
      "Qnodes from file: 2640\n",
      "Outlier removal generates 4 lof-voted candidates\n",
      "score-using-embedding Time: 1.4335072040557861s\n",
      "compute-tf-idf-class_count Time: 2.951641321182251s\n",
      "compute-tf-idf-property_count Time: 3.198700189590454s\n"
     ]
    },
    {
     "name": "stderr",
     "output_type": "stream",
     "text": [
      "286it [38:34, 10.56s/it]"
     ]
    },
    {
     "name": "stdout",
     "output_type": "stream",
     "text": [
      "mosaic-features Time: 0.027456045150756836s\n",
      "Qnodes to lookup: 4949\n",
      "Qnodes from file: 4895\n",
      "Outlier removal generates 4 lof-voted candidates\n",
      "Column_vector_stragtegy centroid_of_lof failed\n",
      "Column_vector_stragtegy centroid_of_lof failed\n",
      "Column_vector_stragtegy centroid_of_lof failed\n",
      "score-using-embedding Time: 2.2752418518066406s\n",
      "compute-tf-idf-class_count Time: 4.034569978713989s\n",
      "compute-tf-idf-property_count Time: 3.867353916168213s\n"
     ]
    },
    {
     "name": "stderr",
     "output_type": "stream",
     "text": [
      "287it [38:46, 10.95s/it]"
     ]
    },
    {
     "name": "stdout",
     "output_type": "stream",
     "text": [
      "mosaic-features Time: 0.008135795593261719s\n",
      "Qnodes to lookup: 1682\n",
      "Qnodes from file: 1675\n",
      "Outlier removal generates 5 lof-voted candidates\n",
      "score-using-embedding Time: 0.8959469795227051s\n",
      "compute-tf-idf-class_count Time: 1.7373578548431396s\n",
      "compute-tf-idf-property_count Time: 1.9307000637054443s\n"
     ]
    },
    {
     "name": "stderr",
     "output_type": "stream",
     "text": [
      "288it [38:51,  9.34s/it]"
     ]
    },
    {
     "name": "stdout",
     "output_type": "stream",
     "text": [
      "mosaic-features Time: 0.014879941940307617s\n",
      "Qnodes to lookup: 3513\n",
      "Qnodes from file: 3453\n",
      "Outlier removal generates 5 lof-voted candidates\n",
      "Outlier removal generates 2 lof-voted candidates\n",
      "score-using-embedding Time: 1.4117298126220703s\n",
      "compute-tf-idf-class_count Time: 2.005110025405884s\n",
      "compute-tf-idf-property_count Time: 2.4347658157348633s\n"
     ]
    },
    {
     "name": "stderr",
     "output_type": "stream",
     "text": [
      "289it [38:59,  8.82s/it]"
     ]
    },
    {
     "name": "stdout",
     "output_type": "stream",
     "text": [
      "mosaic-features Time: 0.026740074157714844s\n",
      "Qnodes to lookup: 5452\n",
      "Qnodes from file: 5316\n",
      "Outlier removal generates 5 lof-voted candidates\n",
      "Column_vector_stragtegy centroid_of_lof failed\n",
      "Outlier removal generates 4 lof-voted candidates\n",
      "score-using-embedding Time: 2.2145791053771973s\n",
      "compute-tf-idf-class_count Time: 3.336881160736084s\n",
      "compute-tf-idf-property_count Time: 4.096482038497925s\n"
     ]
    },
    {
     "name": "stderr",
     "output_type": "stream",
     "text": [
      "290it [39:08,  8.80s/it]"
     ]
    },
    {
     "name": "stdout",
     "output_type": "stream",
     "text": [
      "mosaic-features Time: 0.02254319190979004s\n",
      "Qnodes to lookup: 7950\n",
      "Qnodes from file: 7795\n",
      "Outlier removal generates 4 lof-voted candidates\n",
      "Outlier removal generates 4 lof-voted candidates\n",
      "Outlier removal generates 4 lof-voted candidates\n",
      "score-using-embedding Time: 2.0781588554382324s\n",
      "compute-tf-idf-class_count Time: 3.142656087875366s\n",
      "compute-tf-idf-property_count Time: 3.8389859199523926s\n"
     ]
    },
    {
     "name": "stderr",
     "output_type": "stream",
     "text": [
      "291it [39:16,  8.61s/it]"
     ]
    },
    {
     "name": "stdout",
     "output_type": "stream",
     "text": [
      "mosaic-features Time: 0.03261399269104004s\n",
      "Qnodes to lookup: 8774\n",
      "Qnodes from file: 8523\n",
      "Outlier removal generates 5 lof-voted candidates\n",
      "Column_vector_stragtegy centroid_of_lof failed\n",
      "Column_vector_stragtegy centroid_of_lof failed\n",
      "Column_vector_stragtegy centroid_of_lof failed\n",
      "score-using-embedding Time: 2.74631404876709s\n",
      "compute-tf-idf-class_count Time: 4.172535181045532s\n",
      "compute-tf-idf-property_count Time: 5.161466121673584s\n"
     ]
    },
    {
     "name": "stderr",
     "output_type": "stream",
     "text": [
      "292it [39:26,  9.02s/it]"
     ]
    },
    {
     "name": "stdout",
     "output_type": "stream",
     "text": [
      "mosaic-features Time: 0.025110721588134766s\n",
      "Qnodes to lookup: 4999\n",
      "Qnodes from file: 4897\n",
      "Outlier removal generates 5 lof-voted candidates\n",
      "Outlier removal generates 3 lof-voted candidates\n",
      "Outlier removal generates 2 lof-voted candidates\n",
      "score-using-embedding Time: 2.0164358615875244s\n",
      "compute-tf-idf-class_count Time: 3.198091983795166s\n",
      "compute-tf-idf-property_count Time: 3.8494677543640137s\n"
     ]
    },
    {
     "name": "stderr",
     "output_type": "stream",
     "text": [
      "293it [39:37,  9.60s/it]"
     ]
    },
    {
     "name": "stdout",
     "output_type": "stream",
     "text": [
      "mosaic-features Time: 0.009004831314086914s\n",
      "Qnodes to lookup: 2642\n",
      "Qnodes from file: 2613\n",
      "Outlier removal generates 2 lof-voted candidates\n",
      "score-using-embedding Time: 1.0995862483978271s\n",
      "compute-tf-idf-class_count Time: 1.5633111000061035s\n",
      "compute-tf-idf-property_count Time: 1.83418607711792s\n"
     ]
    },
    {
     "name": "stderr",
     "output_type": "stream",
     "text": [
      "294it [39:44,  8.77s/it]"
     ]
    },
    {
     "name": "stdout",
     "output_type": "stream",
     "text": [
      "mosaic-features Time: 0.03783297538757324s\n",
      "Qnodes to lookup: 3049\n",
      "Qnodes from file: 3028\n",
      "Outlier removal generates 3 lof-voted candidates\n",
      "Outlier removal generates 2 lof-voted candidates\n",
      "Column_vector_stragtegy centroid_of_lof failed\n",
      "Outlier removal generates 2 lof-voted candidates\n",
      "score-using-embedding Time: 2.114168167114258s\n",
      "compute-tf-idf-class_count Time: 3.594047784805298s\n",
      "compute-tf-idf-property_count Time: 4.220209836959839s\n"
     ]
    },
    {
     "name": "stderr",
     "output_type": "stream",
     "text": [
      "295it [39:54,  8.12s/it]\n"
     ]
    }
   ],
   "source": [
    "features_3(train_features2_path, train_feature_path, train_graph_embedding, train_class_count, train_prop_count)"
   ]
  },
  {
   "cell_type": "code",
   "execution_count": null,
   "id": "b53d3388-59ae-478b-8b1c-dc2fd7da96c8",
   "metadata": {},
   "outputs": [],
   "source": [
    "features_3(dev_features3_path, dev_feature_path, dev_joined_graph_embedding, dev_joined_class_count, dev_joined_prop_count)"
   ]
  },
  {
   "cell_type": "code",
   "execution_count": 13,
   "id": "958ce81c-b199-45a9-9a22-1fb8dcb14cf1",
   "metadata": {},
   "outputs": [
    {
     "name": "stderr",
     "output_type": "stream",
     "text": [
      "0it [00:00, ?it/s]"
     ]
    },
    {
     "name": "stdout",
     "output_type": "stream",
     "text": [
      "mosaic-features Time: 0.022246837615966797s\n",
      "Qnodes to lookup: 4055\n",
      "Qnodes from file: 3964\n",
      "Outlier removal generates 2 lof-voted candidates\n",
      "Column_vector_stragtegy centroid_of_lof failed\n",
      "Column_vector_stragtegy centroid_of_lof failed\n",
      "score-using-embedding Time: 1.7821359634399414s\n",
      "compute-tf-idf-class_count Time: 2.6123058795928955s\n",
      "compute-tf-idf-property_count Time: 3.130202054977417s\n"
     ]
    },
    {
     "name": "stderr",
     "output_type": "stream",
     "text": [
      "1it [00:08,  8.80s/it]"
     ]
    },
    {
     "name": "stdout",
     "output_type": "stream",
     "text": [
      "mosaic-features Time: 0.00925302505493164s\n",
      "Qnodes to lookup: 1884\n",
      "Qnodes from file: 1860\n",
      "Outlier removal generates 4 lof-voted candidates\n",
      "score-using-embedding Time: 0.987346887588501s\n",
      "compute-tf-idf-class_count Time: 1.417754888534546s\n",
      "compute-tf-idf-property_count Time: 1.6707048416137695s\n"
     ]
    },
    {
     "name": "stderr",
     "output_type": "stream",
     "text": [
      "2it [00:15,  7.50s/it]"
     ]
    },
    {
     "name": "stdout",
     "output_type": "stream",
     "text": [
      "mosaic-features Time: 0.015809059143066406s\n",
      "Qnodes to lookup: 3096\n",
      "Qnodes from file: 3049\n",
      "Outlier removal generates 4 lof-voted candidates\n",
      "Column_vector_stragtegy centroid_of_lof failed\n",
      "score-using-embedding Time: 1.357762098312378s\n",
      "compute-tf-idf-class_count Time: 2.06183123588562s\n",
      "compute-tf-idf-property_count Time: 2.4759018421173096s\n"
     ]
    },
    {
     "name": "stderr",
     "output_type": "stream",
     "text": [
      "3it [00:22,  7.29s/it]"
     ]
    },
    {
     "name": "stdout",
     "output_type": "stream",
     "text": [
      "mosaic-features Time: 0.030204057693481445s\n",
      "Qnodes to lookup: 3610\n",
      "Qnodes from file: 3519\n",
      "Outlier removal generates 5 lof-voted candidates\n",
      "Column_vector_stragtegy centroid_of_lof failed\n",
      "Column_vector_stragtegy centroid_of_lof failed\n",
      "score-using-embedding Time: 3.6717000007629395s\n",
      "compute-tf-idf-class_count Time: 4.484766960144043s\n",
      "compute-tf-idf-property_count Time: 5.473714828491211s\n"
     ]
    },
    {
     "name": "stderr",
     "output_type": "stream",
     "text": [
      "4it [00:36,  9.81s/it]"
     ]
    },
    {
     "name": "stdout",
     "output_type": "stream",
     "text": [
      "mosaic-features Time: 0.0078051090240478516s\n",
      "Qnodes to lookup: 771\n",
      "Qnodes from file: 767\n",
      "Outlier removal generates 5 lof-voted candidates\n",
      "score-using-embedding Time: 2.001577138900757s\n",
      "compute-tf-idf-class_count Time: 2.830124855041504s\n",
      "compute-tf-idf-property_count Time: 3.0920300483703613s\n"
     ]
    },
    {
     "name": "stderr",
     "output_type": "stream",
     "text": [
      "5it [00:47, 10.29s/it]"
     ]
    },
    {
     "name": "stdout",
     "output_type": "stream",
     "text": [
      "mosaic-features Time: 0.01624608039855957s\n",
      "Qnodes to lookup: 4857\n",
      "Qnodes from file: 4783\n",
      "Outlier removal generates 4 lof-voted candidates\n",
      "Outlier removal generates 4 lof-voted candidates\n",
      "score-using-embedding Time: 1.782975196838379s\n",
      "compute-tf-idf-class_count Time: 2.6488537788391113s\n",
      "compute-tf-idf-property_count Time: 3.417466878890991s\n"
     ]
    },
    {
     "name": "stderr",
     "output_type": "stream",
     "text": [
      "6it [00:58, 10.61s/it]"
     ]
    },
    {
     "name": "stdout",
     "output_type": "stream",
     "text": [
      "mosaic-features Time: 0.024474143981933594s\n",
      "Qnodes to lookup: 10298\n",
      "Qnodes from file: 9971\n",
      "Outlier removal generates 6 lof-voted candidates\n",
      "Outlier removal generates 2 lof-voted candidates\n",
      "Outlier removal generates 2 lof-voted candidates\n",
      "Outlier removal generates 2 lof-voted candidates\n",
      "score-using-embedding Time: 2.2529098987579346s\n",
      "compute-tf-idf-class_count Time: 3.4864020347595215s\n",
      "compute-tf-idf-property_count Time: 4.264485120773315s\n"
     ]
    },
    {
     "name": "stderr",
     "output_type": "stream",
     "text": [
      "7it [01:07, 10.17s/it]"
     ]
    },
    {
     "name": "stdout",
     "output_type": "stream",
     "text": [
      "mosaic-features Time: 0.02091693878173828s\n",
      "Qnodes to lookup: 5364\n",
      "Qnodes from file: 5280\n",
      "Outlier removal generates 5 lof-voted candidates\n",
      "Column_vector_stragtegy centroid_of_lof failed\n",
      "Column_vector_stragtegy centroid_of_lof failed\n",
      "score-using-embedding Time: 1.9173088073730469s\n",
      "compute-tf-idf-class_count Time: 2.8676390647888184s\n",
      "compute-tf-idf-property_count Time: 3.503121852874756s\n"
     ]
    },
    {
     "name": "stderr",
     "output_type": "stream",
     "text": [
      "8it [01:15,  9.43s/it]"
     ]
    },
    {
     "name": "stdout",
     "output_type": "stream",
     "text": [
      "mosaic-features Time: 0.02217698097229004s\n",
      "Qnodes to lookup: 4224\n",
      "Qnodes from file: 4130\n",
      "Outlier removal generates 4 lof-voted candidates\n",
      "Outlier removal generates 2 lof-voted candidates\n",
      "Column_vector_stragtegy centroid_of_lof failed\n",
      "score-using-embedding Time: 1.8201749324798584s\n",
      "compute-tf-idf-class_count Time: 2.683008909225464s\n",
      "compute-tf-idf-property_count Time: 3.2804880142211914s\n"
     ]
    },
    {
     "name": "stderr",
     "output_type": "stream",
     "text": [
      "9it [01:23,  9.07s/it]"
     ]
    },
    {
     "name": "stdout",
     "output_type": "stream",
     "text": [
      "mosaic-features Time: 0.021229982376098633s\n",
      "Qnodes to lookup: 3920\n",
      "Qnodes from file: 3843\n",
      "Outlier removal generates 5 lof-voted candidates\n",
      "Outlier removal generates 2 lof-voted candidates\n",
      "Outlier removal generates 3 lof-voted candidates\n",
      "score-using-embedding Time: 1.8465909957885742s\n",
      "compute-tf-idf-class_count Time: 2.6806089878082275s\n",
      "compute-tf-idf-property_count Time: 3.184741973876953s\n"
     ]
    },
    {
     "name": "stderr",
     "output_type": "stream",
     "text": [
      "10it [01:32,  8.83s/it]"
     ]
    },
    {
     "name": "stdout",
     "output_type": "stream",
     "text": [
      "mosaic-features Time: 0.009384870529174805s\n",
      "Qnodes to lookup: 3249\n",
      "Qnodes from file: 3206\n",
      "Outlier removal generates 2 lof-voted candidates\n",
      "score-using-embedding Time: 1.165790319442749s\n",
      "compute-tf-idf-class_count Time: 1.7259972095489502s\n",
      "compute-tf-idf-property_count Time: 2.0059850215911865s\n"
     ]
    },
    {
     "name": "stderr",
     "output_type": "stream",
     "text": [
      "11it [01:38,  7.98s/it]"
     ]
    },
    {
     "name": "stdout",
     "output_type": "stream",
     "text": [
      "mosaic-features Time: 0.022275209426879883s\n",
      "Qnodes to lookup: 4138\n",
      "Qnodes from file: 4010\n",
      "Outlier removal generates 5 lof-voted candidates\n",
      "Outlier removal generates 2 lof-voted candidates\n",
      "score-using-embedding Time: 1.8179278373718262s\n",
      "compute-tf-idf-class_count Time: 2.7247819900512695s\n",
      "compute-tf-idf-property_count Time: 3.325921058654785s\n"
     ]
    },
    {
     "name": "stderr",
     "output_type": "stream",
     "text": [
      "12it [01:46,  8.07s/it]"
     ]
    },
    {
     "name": "stdout",
     "output_type": "stream",
     "text": [
      "mosaic-features Time: 0.010552167892456055s\n",
      "Qnodes to lookup: 3489\n",
      "Qnodes from file: 3403\n",
      "Outlier removal generates 2 lof-voted candidates\n",
      "score-using-embedding Time: 1.1548130512237549s\n",
      "compute-tf-idf-class_count Time: 1.741727352142334s\n",
      "compute-tf-idf-property_count Time: 2.0379018783569336s\n"
     ]
    },
    {
     "name": "stderr",
     "output_type": "stream",
     "text": [
      "13it [01:54,  7.95s/it]"
     ]
    },
    {
     "name": "stdout",
     "output_type": "stream",
     "text": [
      "mosaic-features Time: 0.02311396598815918s\n",
      "Qnodes to lookup: 4291\n",
      "Qnodes from file: 4185\n",
      "Outlier removal generates 4 lof-voted candidates\n",
      "Outlier removal generates 2 lof-voted candidates\n",
      "Column_vector_stragtegy centroid_of_lof failed\n",
      "score-using-embedding Time: 2.09326171875s\n",
      "compute-tf-idf-class_count Time: 3.096100091934204s\n",
      "compute-tf-idf-property_count Time: 3.7278850078582764s\n"
     ]
    },
    {
     "name": "stderr",
     "output_type": "stream",
     "text": [
      "14it [02:03,  8.23s/it]"
     ]
    },
    {
     "name": "stdout",
     "output_type": "stream",
     "text": [
      "mosaic-features Time: 0.022694110870361328s\n",
      "Qnodes to lookup: 4063\n",
      "Qnodes from file: 4006\n",
      "Outlier removal generates 5 lof-voted candidates\n",
      "Outlier removal generates 2 lof-voted candidates\n",
      "Outlier removal generates 4 lof-voted candidates\n",
      "score-using-embedding Time: 1.8598220348358154s\n",
      "compute-tf-idf-class_count Time: 2.830315113067627s\n",
      "compute-tf-idf-property_count Time: 3.3912646770477295s\n"
     ]
    },
    {
     "name": "stderr",
     "output_type": "stream",
     "text": [
      "15it [02:11,  8.27s/it]"
     ]
    },
    {
     "name": "stdout",
     "output_type": "stream",
     "text": [
      "mosaic-features Time: 0.014622926712036133s\n",
      "Qnodes to lookup: 5686\n",
      "Qnodes from file: 5604\n",
      "Outlier removal generates 5 lof-voted candidates\n",
      "Column_vector_stragtegy centroid_of_lof failed\n",
      "score-using-embedding Time: 1.5497779846191406s\n",
      "compute-tf-idf-class_count Time: 2.335937976837158s\n",
      "compute-tf-idf-property_count Time: 2.7775511741638184s\n"
     ]
    },
    {
     "name": "stderr",
     "output_type": "stream",
     "text": [
      "16it [02:18,  8.05s/it]"
     ]
    },
    {
     "name": "stdout",
     "output_type": "stream",
     "text": [
      "mosaic-features Time: 0.022032737731933594s\n",
      "Qnodes to lookup: 6859\n",
      "Qnodes from file: 6741\n",
      "Outlier removal generates 4 lof-voted candidates\n",
      "Outlier removal generates 2 lof-voted candidates\n",
      "Column_vector_stragtegy centroid_of_lof failed\n",
      "score-using-embedding Time: 1.9503579139709473s\n",
      "compute-tf-idf-class_count Time: 2.9502921104431152s\n",
      "compute-tf-idf-property_count Time: 3.5630552768707275s\n"
     ]
    },
    {
     "name": "stderr",
     "output_type": "stream",
     "text": [
      "17it [02:27,  8.25s/it]"
     ]
    },
    {
     "name": "stdout",
     "output_type": "stream",
     "text": [
      "mosaic-features Time: 0.03543806076049805s\n",
      "Qnodes to lookup: 9812\n",
      "Qnodes from file: 9709\n",
      "Outlier removal generates 3 lof-voted candidates\n",
      "Column_vector_stragtegy centroid_of_lof failed\n",
      "Column_vector_stragtegy centroid_of_lof failed\n",
      "score-using-embedding Time: 2.838219165802002s\n",
      "compute-tf-idf-class_count Time: 4.8854660987854s\n",
      "compute-tf-idf-property_count Time: 5.931923866271973s\n"
     ]
    },
    {
     "name": "stderr",
     "output_type": "stream",
     "text": [
      "18it [02:38,  9.13s/it]"
     ]
    },
    {
     "name": "stdout",
     "output_type": "stream",
     "text": [
      "mosaic-features Time: 0.02451491355895996s\n",
      "Qnodes to lookup: 5626\n",
      "Qnodes from file: 5477\n",
      "Outlier removal generates 5 lof-voted candidates\n",
      "Column_vector_stragtegy centroid_of_lof failed\n",
      "Outlier removal generates 2 lof-voted candidates\n",
      "score-using-embedding Time: 2.027151107788086s\n",
      "compute-tf-idf-class_count Time: 3.0586400032043457s\n",
      "compute-tf-idf-property_count Time: 3.7456960678100586s\n"
     ]
    },
    {
     "name": "stderr",
     "output_type": "stream",
     "text": [
      "19it [02:47,  9.14s/it]"
     ]
    },
    {
     "name": "stdout",
     "output_type": "stream",
     "text": [
      "mosaic-features Time: 0.02326822280883789s\n",
      "Qnodes to lookup: 3614\n",
      "Qnodes from file: 3524\n",
      "Outlier removal generates 3 lof-voted candidates\n",
      "Column_vector_stragtegy centroid_of_lof failed\n",
      "Column_vector_stragtegy centroid_of_lof failed\n",
      "score-using-embedding Time: 1.920719861984253s\n",
      "compute-tf-idf-class_count Time: 2.735456943511963s\n",
      "compute-tf-idf-property_count Time: 3.284574031829834s\n"
     ]
    },
    {
     "name": "stderr",
     "output_type": "stream",
     "text": [
      "20it [02:57,  9.37s/it]"
     ]
    },
    {
     "name": "stdout",
     "output_type": "stream",
     "text": [
      "mosaic-features Time: 0.04001283645629883s\n",
      "Qnodes to lookup: 9170\n",
      "Qnodes from file: 9067\n",
      "Outlier removal generates 4 lof-voted candidates\n",
      "Column_vector_stragtegy centroid_of_lof failed\n",
      "Column_vector_stragtegy centroid_of_lof failed\n",
      "score-using-embedding Time: 2.750088930130005s\n",
      "compute-tf-idf-class_count Time: 5.0336127281188965s\n",
      "compute-tf-idf-property_count Time: 6.477103233337402s\n"
     ]
    },
    {
     "name": "stderr",
     "output_type": "stream",
     "text": [
      "21it [03:13, 11.27s/it]"
     ]
    },
    {
     "name": "stdout",
     "output_type": "stream",
     "text": [
      "mosaic-features Time: 0.02650284767150879s\n",
      "Qnodes to lookup: 4034\n",
      "Qnodes from file: 3970\n",
      "Outlier removal generates 4 lof-voted candidates\n",
      "Column_vector_stragtegy centroid_of_lof failed\n",
      "Column_vector_stragtegy centroid_of_lof failed\n",
      "score-using-embedding Time: 2.227566719055176s\n",
      "compute-tf-idf-class_count Time: 4.104962110519409s\n",
      "compute-tf-idf-property_count Time: 4.805294036865234s\n"
     ]
    },
    {
     "name": "stderr",
     "output_type": "stream",
     "text": [
      "22it [03:26, 11.68s/it]"
     ]
    },
    {
     "name": "stdout",
     "output_type": "stream",
     "text": [
      "mosaic-features Time: 0.007929086685180664s\n",
      "Qnodes to lookup: 2682\n",
      "Qnodes from file: 2615\n",
      "Outlier removal generates 4 lof-voted candidates\n",
      "score-using-embedding Time: 0.912229061126709s\n",
      "compute-tf-idf-class_count Time: 1.3523280620574951s\n",
      "compute-tf-idf-property_count Time: 1.6010596752166748s\n"
     ]
    },
    {
     "name": "stderr",
     "output_type": "stream",
     "text": [
      "23it [03:31,  9.87s/it]"
     ]
    },
    {
     "name": "stdout",
     "output_type": "stream",
     "text": [
      "mosaic-features Time: 0.014259099960327148s\n",
      "Qnodes to lookup: 1874\n",
      "Qnodes from file: 1760\n",
      "Outlier removal generates 4 lof-voted candidates\n",
      "Outlier removal generates 2 lof-voted candidates\n",
      "score-using-embedding Time: 1.1981759071350098s\n",
      "compute-tf-idf-class_count Time: 1.75618314743042s\n",
      "compute-tf-idf-property_count Time: 2.146854877471924s\n"
     ]
    },
    {
     "name": "stderr",
     "output_type": "stream",
     "text": [
      "24it [03:40,  9.53s/it]"
     ]
    },
    {
     "name": "stdout",
     "output_type": "stream",
     "text": [
      "mosaic-features Time: 0.014391183853149414s\n",
      "Qnodes to lookup: 5119\n",
      "Qnodes from file: 5047\n",
      "Outlier removal generates 5 lof-voted candidates\n",
      "Outlier removal generates 2 lof-voted candidates\n",
      "score-using-embedding Time: 1.4193220138549805s\n",
      "compute-tf-idf-class_count Time: 2.103778123855591s\n",
      "compute-tf-idf-property_count Time: 2.4873788356781006s\n"
     ]
    },
    {
     "name": "stderr",
     "output_type": "stream",
     "text": [
      "25it [03:48,  8.91s/it]"
     ]
    },
    {
     "name": "stdout",
     "output_type": "stream",
     "text": [
      "mosaic-features Time: 0.008711814880371094s\n",
      "Qnodes to lookup: 1869\n",
      "Qnodes from file: 1785\n",
      "Outlier removal generates 5 lof-voted candidates\n",
      "score-using-embedding Time: 0.9921290874481201s\n",
      "compute-tf-idf-class_count Time: 1.4954278469085693s\n",
      "compute-tf-idf-property_count Time: 1.74879789352417s\n"
     ]
    },
    {
     "name": "stderr",
     "output_type": "stream",
     "text": [
      "26it [03:54,  8.13s/it]"
     ]
    },
    {
     "name": "stdout",
     "output_type": "stream",
     "text": [
      "mosaic-features Time: 0.011503934860229492s\n",
      "Qnodes to lookup: 2593\n",
      "Qnodes from file: 2535\n",
      "Outlier removal generates 4 lof-voted candidates\n",
      "score-using-embedding Time: 1.1903669834136963s\n",
      "compute-tf-idf-class_count Time: 2.1934878826141357s\n",
      "compute-tf-idf-property_count Time: 2.4989359378814697s\n"
     ]
    },
    {
     "name": "stderr",
     "output_type": "stream",
     "text": [
      "27it [04:01,  7.90s/it]"
     ]
    },
    {
     "name": "stdout",
     "output_type": "stream",
     "text": [
      "mosaic-features Time: 0.012935876846313477s\n",
      "Qnodes to lookup: 3304\n",
      "Qnodes from file: 3263\n",
      "Outlier removal generates 5 lof-voted candidates\n",
      "score-using-embedding Time: 1.1740100383758545s\n",
      "compute-tf-idf-class_count Time: 2.2897579669952393s\n",
      "compute-tf-idf-property_count Time: 2.5998342037200928s\n"
     ]
    },
    {
     "name": "stderr",
     "output_type": "stream",
     "text": [
      "28it [04:10,  8.03s/it]"
     ]
    },
    {
     "name": "stdout",
     "output_type": "stream",
     "text": [
      "mosaic-features Time: 0.03419375419616699s\n",
      "Qnodes to lookup: 5738\n",
      "Qnodes from file: 5633\n",
      "Outlier removal generates 4 lof-voted candidates\n",
      "Outlier removal generates 4 lof-voted candidates\n",
      "Outlier removal generates 2 lof-voted candidates\n",
      "score-using-embedding Time: 2.6987156867980957s\n",
      "compute-tf-idf-class_count Time: 4.519424676895142s\n",
      "compute-tf-idf-property_count Time: 5.445344924926758s\n"
     ]
    },
    {
     "name": "stderr",
     "output_type": "stream",
     "text": [
      "29it [04:20,  8.74s/it]"
     ]
    },
    {
     "name": "stdout",
     "output_type": "stream",
     "text": [
      "mosaic-features Time: 0.0267641544342041s\n",
      "Qnodes to lookup: 5750\n",
      "Qnodes from file: 5428\n",
      "Outlier removal generates 4 lof-voted candidates\n",
      "Outlier removal generates 2 lof-voted candidates\n",
      "Column_vector_stragtegy centroid_of_lof failed\n",
      "score-using-embedding Time: 2.2962613105773926s\n",
      "compute-tf-idf-class_count Time: 3.437861919403076s\n",
      "compute-tf-idf-property_count Time: 4.2168052196502686s\n"
     ]
    },
    {
     "name": "stderr",
     "output_type": "stream",
     "text": [
      "30it [04:29,  8.87s/it]"
     ]
    },
    {
     "name": "stdout",
     "output_type": "stream",
     "text": [
      "mosaic-features Time: 0.020905017852783203s\n",
      "Qnodes to lookup: 6001\n",
      "Qnodes from file: 5915\n",
      "Outlier removal generates 3 lof-voted candidates\n",
      "Column_vector_stragtegy centroid_of_lof failed\n",
      "Column_vector_stragtegy centroid_of_lof failed\n",
      "score-using-embedding Time: 1.9479451179504395s\n",
      "compute-tf-idf-class_count Time: 2.972357988357544s\n",
      "compute-tf-idf-property_count Time: 3.7097861766815186s\n"
     ]
    },
    {
     "name": "stderr",
     "output_type": "stream",
     "text": [
      "31it [04:38,  8.82s/it]"
     ]
    },
    {
     "name": "stdout",
     "output_type": "stream",
     "text": [
      "mosaic-features Time: 0.021684885025024414s\n",
      "Qnodes to lookup: 5962\n",
      "Qnodes from file: 5797\n",
      "Outlier removal generates 5 lof-voted candidates\n",
      "Outlier removal generates 2 lof-voted candidates\n",
      "Column_vector_stragtegy centroid_of_lof failed\n",
      "score-using-embedding Time: 1.9427006244659424s\n",
      "compute-tf-idf-class_count Time: 3.348325252532959s\n",
      "compute-tf-idf-property_count Time: 3.9403891563415527s\n"
     ]
    },
    {
     "name": "stderr",
     "output_type": "stream",
     "text": [
      "32it [04:46,  8.73s/it]"
     ]
    },
    {
     "name": "stdout",
     "output_type": "stream",
     "text": [
      "mosaic-features Time: 0.019186735153198242s\n",
      "Qnodes to lookup: 5823\n",
      "Qnodes from file: 5682\n",
      "Outlier removal generates 5 lof-voted candidates\n",
      "Outlier removal generates 2 lof-voted candidates\n",
      "score-using-embedding Time: 1.815709114074707s\n",
      "compute-tf-idf-class_count Time: 2.7364959716796875s\n",
      "compute-tf-idf-property_count Time: 3.301846981048584s\n"
     ]
    },
    {
     "name": "stderr",
     "output_type": "stream",
     "text": [
      "33it [04:54,  8.42s/it]"
     ]
    },
    {
     "name": "stdout",
     "output_type": "stream",
     "text": [
      "mosaic-features Time: 0.011221885681152344s\n",
      "Qnodes to lookup: 3089\n",
      "Qnodes from file: 3010\n",
      "Outlier removal generates 5 lof-voted candidates\n",
      "score-using-embedding Time: 1.3109002113342285s\n",
      "compute-tf-idf-class_count Time: 1.7835650444030762s\n",
      "compute-tf-idf-property_count Time: 2.0528690814971924s\n"
     ]
    },
    {
     "name": "stderr",
     "output_type": "stream",
     "text": [
      "34it [05:01,  7.90s/it]"
     ]
    },
    {
     "name": "stdout",
     "output_type": "stream",
     "text": [
      "mosaic-features Time: 0.018706083297729492s\n",
      "Qnodes to lookup: 5891\n",
      "Qnodes from file: 5848\n",
      "Outlier removal generates 6 lof-voted candidates\n",
      "Outlier removal generates 5 lof-voted candidates\n",
      "Column_vector_stragtegy centroid_of_lof failed\n",
      "score-using-embedding Time: 1.8185670375823975s\n",
      "compute-tf-idf-class_count Time: 2.811074733734131s\n",
      "compute-tf-idf-property_count Time: 3.4383296966552734s\n"
     ]
    },
    {
     "name": "stderr",
     "output_type": "stream",
     "text": [
      "35it [05:09,  7.94s/it]"
     ]
    },
    {
     "name": "stdout",
     "output_type": "stream",
     "text": [
      "mosaic-features Time: 0.0190126895904541s\n",
      "Qnodes to lookup: 3120\n",
      "Qnodes from file: 2787\n",
      "Column_vector_stragtegy centroid_of_lof failed\n",
      "Column_vector_stragtegy centroid_of_lof failed\n",
      "Column_vector_stragtegy centroid_of_lof failed\n",
      "score-using-embedding Time: 1.780451774597168s\n",
      "compute-tf-idf-class_count Time: 2.5395679473876953s\n",
      "compute-tf-idf-property_count Time: 3.0157361030578613s\n"
     ]
    },
    {
     "name": "stderr",
     "output_type": "stream",
     "text": [
      "36it [05:20,  8.78s/it]"
     ]
    },
    {
     "name": "stdout",
     "output_type": "stream",
     "text": [
      "mosaic-features Time: 0.012924909591674805s\n",
      "Qnodes to lookup: 4024\n",
      "Qnodes from file: 3951\n",
      "Outlier removal generates 4 lof-voted candidates\n",
      "Outlier removal generates 2 lof-voted candidates\n",
      "score-using-embedding Time: 1.5885517597198486s\n",
      "compute-tf-idf-class_count Time: 3.2489099502563477s\n",
      "compute-tf-idf-property_count Time: 3.341892957687378s\n"
     ]
    },
    {
     "name": "stderr",
     "output_type": "stream",
     "text": [
      "37it [05:32,  9.80s/it]"
     ]
    },
    {
     "name": "stdout",
     "output_type": "stream",
     "text": [
      "mosaic-features Time: 0.011232852935791016s\n",
      "Qnodes to lookup: 2342\n",
      "Qnodes from file: 2236\n",
      "Outlier removal generates 2 lof-voted candidates\n",
      "Column_vector_stragtegy centroid_of_lof failed\n",
      "score-using-embedding Time: 1.7669799327850342s\n",
      "compute-tf-idf-class_count Time: 2.2922229766845703s\n",
      "compute-tf-idf-property_count Time: 2.8575429916381836s\n"
     ]
    },
    {
     "name": "stderr",
     "output_type": "stream",
     "text": [
      "38it [05:42, 10.06s/it]"
     ]
    },
    {
     "name": "stdout",
     "output_type": "stream",
     "text": [
      "mosaic-features Time: 0.01821589469909668s\n",
      "Qnodes to lookup: 5716\n",
      "Qnodes from file: 5616\n",
      "Outlier removal generates 4 lof-voted candidates\n",
      "Outlier removal generates 2 lof-voted candidates\n",
      "Column_vector_stragtegy centroid_of_lof failed\n",
      "score-using-embedding Time: 1.7325079441070557s\n",
      "compute-tf-idf-class_count Time: 2.5538229942321777s\n",
      "compute-tf-idf-property_count Time: 3.094581127166748s\n"
     ]
    },
    {
     "name": "stderr",
     "output_type": "stream",
     "text": [
      "39it [05:50,  9.29s/it]"
     ]
    },
    {
     "name": "stdout",
     "output_type": "stream",
     "text": [
      "mosaic-features Time: 0.009567022323608398s\n",
      "Qnodes to lookup: 1031\n",
      "Qnodes from file: 1006\n",
      "Outlier removal generates 5 lof-voted candidates\n",
      "score-using-embedding Time: 1.0692799091339111s\n",
      "compute-tf-idf-class_count Time: 1.4838757514953613s\n",
      "compute-tf-idf-property_count Time: 1.6850061416625977s\n"
     ]
    },
    {
     "name": "stderr",
     "output_type": "stream",
     "text": [
      "40it [05:56,  8.23s/it]"
     ]
    },
    {
     "name": "stdout",
     "output_type": "stream",
     "text": [
      "mosaic-features Time: 0.008013010025024414s\n",
      "Qnodes to lookup: 693\n",
      "Qnodes from file: 682\n",
      "Outlier removal generates 2 lof-voted candidates\n",
      "score-using-embedding Time: 0.932837724685669s\n",
      "compute-tf-idf-class_count Time: 1.3933429718017578s\n",
      "compute-tf-idf-property_count Time: 1.606713056564331s\n"
     ]
    },
    {
     "name": "stderr",
     "output_type": "stream",
     "text": [
      "41it [06:02,  7.54s/it]"
     ]
    },
    {
     "name": "stdout",
     "output_type": "stream",
     "text": [
      "mosaic-features Time: 0.008332967758178711s\n",
      "Qnodes to lookup: 1863\n",
      "Qnodes from file: 1856\n",
      "Outlier removal generates 2 lof-voted candidates\n",
      "score-using-embedding Time: 0.99959397315979s\n",
      "compute-tf-idf-class_count Time: 1.4533581733703613s\n",
      "compute-tf-idf-property_count Time: 1.6993873119354248s\n"
     ]
    },
    {
     "name": "stderr",
     "output_type": "stream",
     "text": [
      "42it [06:08,  7.14s/it]"
     ]
    },
    {
     "name": "stdout",
     "output_type": "stream",
     "text": [
      "mosaic-features Time: 0.015902996063232422s\n",
      "Qnodes to lookup: 3408\n",
      "Qnodes from file: 3312\n",
      "Outlier removal generates 4 lof-voted candidates\n",
      "Outlier removal generates 2 lof-voted candidates\n",
      "score-using-embedding Time: 1.3626208305358887s\n",
      "compute-tf-idf-class_count Time: 2.0003888607025146s\n",
      "compute-tf-idf-property_count Time: 2.3960390090942383s\n"
     ]
    },
    {
     "name": "stderr",
     "output_type": "stream",
     "text": [
      "43it [06:15,  7.30s/it]"
     ]
    },
    {
     "name": "stdout",
     "output_type": "stream",
     "text": [
      "mosaic-features Time: 0.018932104110717773s\n",
      "Qnodes to lookup: 6020\n",
      "Qnodes from file: 5854\n",
      "Outlier removal generates 5 lof-voted candidates\n",
      "Outlier removal generates 3 lof-voted candidates\n",
      "Outlier removal generates 2 lof-voted candidates\n",
      "score-using-embedding Time: 1.8485729694366455s\n",
      "compute-tf-idf-class_count Time: 2.7584829330444336s\n",
      "compute-tf-idf-property_count Time: 3.3334789276123047s\n"
     ]
    },
    {
     "name": "stderr",
     "output_type": "stream",
     "text": [
      "44it [06:23,  7.36s/it]"
     ]
    },
    {
     "name": "stdout",
     "output_type": "stream",
     "text": [
      "mosaic-features Time: 0.007066965103149414s\n",
      "Qnodes to lookup: 1641\n",
      "Qnodes from file: 1624\n",
      "Outlier removal generates 6 lof-voted candidates\n",
      "score-using-embedding Time: 0.9222850799560547s\n",
      "compute-tf-idf-class_count Time: 1.2836649417877197s\n",
      "compute-tf-idf-property_count Time: 1.5002050399780273s\n"
     ]
    },
    {
     "name": "stderr",
     "output_type": "stream",
     "text": [
      "45it [06:29,  6.98s/it]"
     ]
    },
    {
     "name": "stdout",
     "output_type": "stream",
     "text": [
      "mosaic-features Time: 0.024055957794189453s\n",
      "Qnodes to lookup: 7864\n",
      "Qnodes from file: 7776\n",
      "Outlier removal generates 5 lof-voted candidates\n",
      "Outlier removal generates 3 lof-voted candidates\n",
      "Outlier removal generates 3 lof-voted candidates\n",
      "score-using-embedding Time: 2.0464539527893066s\n",
      "compute-tf-idf-class_count Time: 3.145914077758789s\n",
      "compute-tf-idf-property_count Time: 3.8150088787078857s\n"
     ]
    },
    {
     "name": "stderr",
     "output_type": "stream",
     "text": [
      "46it [06:39,  7.75s/it]"
     ]
    },
    {
     "name": "stdout",
     "output_type": "stream",
     "text": [
      "mosaic-features Time: 0.028142929077148438s\n",
      "Qnodes to lookup: 7629\n",
      "Qnodes from file: 7550\n",
      "Outlier removal generates 4 lof-voted candidates\n",
      "Column_vector_stragtegy centroid_of_lof failed\n",
      "Column_vector_stragtegy centroid_of_lof failed\n",
      "Outlier removal generates 2 lof-voted candidates\n",
      "score-using-embedding Time: 2.4555490016937256s\n",
      "compute-tf-idf-class_count Time: 3.705779790878296s\n",
      "compute-tf-idf-property_count Time: 4.561759948730469s\n"
     ]
    },
    {
     "name": "stderr",
     "output_type": "stream",
     "text": [
      "47it [06:47,  8.03s/it]"
     ]
    },
    {
     "name": "stdout",
     "output_type": "stream",
     "text": [
      "mosaic-features Time: 0.013720035552978516s\n",
      "Qnodes to lookup: 3724\n",
      "Qnodes from file: 3700\n",
      "Outlier removal generates 2 lof-voted candidates\n",
      "Outlier removal generates 4 lof-voted candidates\n",
      "score-using-embedding Time: 1.330585241317749s\n",
      "compute-tf-idf-class_count Time: 2.5078251361846924s\n",
      "compute-tf-idf-property_count Time: 2.935882806777954s\n"
     ]
    },
    {
     "name": "stderr",
     "output_type": "stream",
     "text": [
      "48it [06:54,  7.67s/it]"
     ]
    },
    {
     "name": "stdout",
     "output_type": "stream",
     "text": [
      "mosaic-features Time: 0.0069010257720947266s\n",
      "Qnodes to lookup: 2412\n",
      "Qnodes from file: 2384\n",
      "Outlier removal generates 3 lof-voted candidates\n",
      "score-using-embedding Time: 1.0463471412658691s\n",
      "compute-tf-idf-class_count Time: 1.5286352634429932s\n",
      "compute-tf-idf-property_count Time: 1.7620868682861328s\n"
     ]
    },
    {
     "name": "stderr",
     "output_type": "stream",
     "text": [
      "49it [07:00,  7.17s/it]"
     ]
    },
    {
     "name": "stdout",
     "output_type": "stream",
     "text": [
      "mosaic-features Time: 0.007772922515869141s\n",
      "Qnodes to lookup: 2904\n",
      "Qnodes from file: 2835\n",
      "Outlier removal generates 5 lof-voted candidates\n",
      "score-using-embedding Time: 1.0382158756256104s\n",
      "compute-tf-idf-class_count Time: 1.5172932147979736s\n",
      "compute-tf-idf-property_count Time: 1.7567429542541504s\n"
     ]
    },
    {
     "name": "stderr",
     "output_type": "stream",
     "text": [
      "50it [07:07,  8.55s/it]\n"
     ]
    }
   ],
   "source": [
    "features_3(dev_features2_path, dev_feature_path, dev_graph_embedding, dev_class_count, dev_prop_count)"
   ]
  },
  {
   "cell_type": "markdown",
   "id": "cutting-carrier",
   "metadata": {},
   "source": [
    "### Generate Training Data"
   ]
  },
  {
   "cell_type": "code",
   "execution_count": null,
   "id": "3b084e84-ab19-4215-8da2-3683a118e0a6",
   "metadata": {},
   "outputs": [],
   "source": [
    "# features = [\n",
    "#             \"monge_elkan\",\"monge_elkan_aliases\",\"jaro_winkler\",\n",
    "#             \"levenshtein\",\"singleton\",\"context_score_3\",\n",
    "#             \"pgt_centroid_score\",\"pgt_class_count_tf_idf_score\",\n",
    "#             \"pgt_property_count_tf_idf_score\", \"num_tokens\", \"num_char\"\n",
    "#             ]"
   ]
  },
  {
   "cell_type": "code",
   "execution_count": 14,
   "id": "7c30a0df-6040-4071-acf0-b1b2a99e59f8",
   "metadata": {},
   "outputs": [],
   "source": [
    "features = [\"monge_elkan\",\"monge_elkan_aliases\",\"jaro_winkler\",\n",
    "            \"levenshtein\",\"singleton\",\"context_score_3\",\"pgt_centroid_score\",\"pgt_class_count_tf_idf_score\",\n",
    "            \"pgt_property_count_tf_idf_score\", \"num_occurences\"]"
   ]
  },
  {
   "cell_type": "code",
   "execution_count": 15,
   "id": "tested-accordance",
   "metadata": {},
   "outputs": [],
   "source": [
    "def merge_files(args):\n",
    "    datapath = args.train_path\n",
    "    df_list  = []\n",
    "    for fn in glob.glob(f\"{datapath}/*csv\"):\n",
    "        if os.path.getsize(fn) == 0:\n",
    "            continue\n",
    "        fid = fn.split('/')[-1][:-4]\n",
    "        df = pd.read_csv(fn)\n",
    "        df['table_id'] = fid\n",
    "        df['context_score'].fillna(0.0, inplace=True)\n",
    "        df_list.append(df)            \n",
    "    return pd.concat(df_list) \n",
    "\n",
    "def compute_normalization_factor(args, all_data):\n",
    "    min_max_scaler_path = args.min_max_scaler_path\n",
    "    all_data_features = all_data[features]\n",
    "    scaler = MinMaxScaler()\n",
    "    scaler.fit(all_data_features)\n",
    "    pickle.dump(scaler, open(min_max_scaler_path, 'wb'))\n",
    "    return scaler"
   ]
  },
  {
   "cell_type": "code",
   "execution_count": 16,
   "id": "17cebe14-8fd3-4c52-bf00-79f9a96752d8",
   "metadata": {},
   "outputs": [],
   "source": [
    "def generate_train_data(args):\n",
    "    scaler_path = args.min_max_scaler_path\n",
    "    scaler = pickle.load(open(scaler_path, 'rb'))\n",
    "    final_list = []\n",
    "    sfeatures = copy.deepcopy(features) + ['evaluation_label']\n",
    "    normalize_features = features\n",
    "    evaluation_label = ['evaluation_label']\n",
    "    positive_features_final = []\n",
    "    negative_features_final = []\n",
    "    for i,file in enumerate(glob.glob(args.train_path + '/*.csv')):\n",
    "        file_name = file.split('/')[-1]\n",
    "        if os.path.getsize(file) == 0:\n",
    "                continue\n",
    "        d_sample = pd.read_csv(file)\n",
    "#         d_sample['context_score'].fillna(0.0, inplace=True)\n",
    "        grouped_obj = d_sample.groupby(['column', 'row'])\n",
    "        for cell in grouped_obj:\n",
    "            cell[1][normalize_features] = scaler.transform(cell[1][normalize_features])\n",
    "            pos_features = []\n",
    "            neg_features = []\n",
    "            a = cell[1][cell[1]['evaluation_label'] == 1]\n",
    "            if a.empty:\n",
    "                continue\n",
    "            pos_rows = cell[1][cell[1]['evaluation_label'].astype(int) == 1][features].to_numpy()\n",
    "            for i in range(len(pos_rows)):\n",
    "                pos_features.append(pos_rows[i])\n",
    "            neg_rows = cell[1][cell[1]['evaluation_label'].astype(int) == -1][features].to_numpy()\n",
    "            for i in range(min(100,len(neg_rows))):\n",
    "                neg_features.append(neg_rows[i])\n",
    "            random.shuffle(pos_features)\n",
    "            random.shuffle(neg_features)\n",
    "            positive_features_final.append(pos_features)\n",
    "            negative_features_final.append(neg_features)\n",
    "            \n",
    "    print(len(positive_features_final), len(positive_features_final[3]))\n",
    "    print(len(negative_features_final), len(negative_features_final[3]))\n",
    "    pickle.dump(positive_features_final,open(args.pos_output,'wb'))\n",
    "    pickle.dump(negative_features_final,open(args.neg_output,'wb'))"
   ]
  },
  {
   "cell_type": "code",
   "execution_count": 17,
   "id": "younger-channel",
   "metadata": {},
   "outputs": [
    {
     "name": "stderr",
     "output_type": "stream",
     "text": [
      "/var/folders/qv/cxzpwz3j29x7n79vwpw253v80000gn/T/ipykernel_3197/1529062613.py:3: DtypeWarning: Columns (29,30,34,36) have mixed types.Specify dtype option on import or set low_memory=False.\n",
      "  all_data = merge_files(gen_training_data_args)\n"
     ]
    }
   ],
   "source": [
    "gen_training_data_args = Namespace(train_path=train_feature_path, pos_output=pos_output, neg_output=neg_output, \n",
    "                 min_max_scaler_path=min_max_scaler_path)\n",
    "all_data = merge_files(gen_training_data_args)\n",
    "scaler = compute_normalization_factor(gen_training_data_args, all_data)"
   ]
  },
  {
   "cell_type": "code",
   "execution_count": 18,
   "id": "1c3ebe59-63d5-4516-bdc9-334a3e0b48c0",
   "metadata": {},
   "outputs": [
    {
     "data": {
      "text/plain": [
       "1986437"
      ]
     },
     "execution_count": 18,
     "metadata": {},
     "output_type": "execute_result"
    }
   ],
   "source": [
    "len(all_data)"
   ]
  },
  {
   "cell_type": "code",
   "execution_count": 19,
   "id": "fbb42916-c088-4de8-ae14-29fe3f78d712",
   "metadata": {},
   "outputs": [
    {
     "data": {
      "text/html": [
       "<div>\n",
       "<style scoped>\n",
       "    .dataframe tbody tr th:only-of-type {\n",
       "        vertical-align: middle;\n",
       "    }\n",
       "\n",
       "    .dataframe tbody tr th {\n",
       "        vertical-align: top;\n",
       "    }\n",
       "\n",
       "    .dataframe thead th {\n",
       "        text-align: right;\n",
       "    }\n",
       "</style>\n",
       "<table border=\"1\" class=\"dataframe\">\n",
       "  <thead>\n",
       "    <tr style=\"text-align: right;\">\n",
       "      <th></th>\n",
       "      <th>column</th>\n",
       "      <th>row</th>\n",
       "      <th>label</th>\n",
       "      <th>context</th>\n",
       "      <th>filename</th>\n",
       "      <th>column-id</th>\n",
       "      <th>label_clean</th>\n",
       "      <th>kg_id</th>\n",
       "      <th>kg_labels</th>\n",
       "      <th>kg_aliases</th>\n",
       "      <th>...</th>\n",
       "      <th>context_similarity</th>\n",
       "      <th>num_char</th>\n",
       "      <th>num_tokens</th>\n",
       "      <th>is_lof</th>\n",
       "      <th>pgt_centroid_score</th>\n",
       "      <th>pgt_class_count_tf_idf_score</th>\n",
       "      <th>top5_class_count</th>\n",
       "      <th>pgt_property_count_tf_idf_score</th>\n",
       "      <th>top5_property_count</th>\n",
       "      <th>table_id</th>\n",
       "    </tr>\n",
       "  </thead>\n",
       "  <tbody>\n",
       "    <tr>\n",
       "      <th>0</th>\n",
       "      <td>0</td>\n",
       "      <td>0</td>\n",
       "      <td>Yuvileine</td>\n",
       "      <td>15830|84|2.83</td>\n",
       "      <td>042AKDN1.csv</td>\n",
       "      <td>042AKDN1.csv-0</td>\n",
       "      <td>Yuvileine</td>\n",
       "      <td>Q4533538</td>\n",
       "      <td>Yubileini (Krasnodar)</td>\n",
       "      <td>03651430116|03251830004|Юбилейный</td>\n",
       "      <td>...</td>\n",
       "      <td>[]</td>\n",
       "      <td>21</td>\n",
       "      <td>2</td>\n",
       "      <td>-1</td>\n",
       "      <td>0.586126</td>\n",
       "      <td>0.496094</td>\n",
       "      <td>Q56061:0.031|Q15642541:0.029|Q486972:0.028|Q17...</td>\n",
       "      <td>0.250704</td>\n",
       "      <td>P1082:0.062|P2044:0.050|P281:0.047|P1705:0.034...</td>\n",
       "      <td>042AKDN1</td>\n",
       "    </tr>\n",
       "    <tr>\n",
       "      <th>1</th>\n",
       "      <td>0</td>\n",
       "      <td>0</td>\n",
       "      <td>Yuvileine</td>\n",
       "      <td>15830|84|2.83</td>\n",
       "      <td>042AKDN1.csv</td>\n",
       "      <td>042AKDN1.csv-0</td>\n",
       "      <td>Yuvileine</td>\n",
       "      <td>Q24011352</td>\n",
       "      <td>Juviles</td>\n",
       "      <td>1125918951|2516238</td>\n",
       "      <td>...</td>\n",
       "      <td>[]</td>\n",
       "      <td>7</td>\n",
       "      <td>1</td>\n",
       "      <td>-1</td>\n",
       "      <td>0.708974</td>\n",
       "      <td>0.406507</td>\n",
       "      <td>Q486972:0.028|Q177634:0.028|Q874405:0.027|Q788...</td>\n",
       "      <td>0.204015</td>\n",
       "      <td>P1376:0.061|P6766:0.054|P1566:0.031|P625:0.023...</td>\n",
       "      <td>042AKDN1</td>\n",
       "    </tr>\n",
       "    <tr>\n",
       "      <th>2</th>\n",
       "      <td>0</td>\n",
       "      <td>0</td>\n",
       "      <td>Yuvileine</td>\n",
       "      <td>15830|84|2.83</td>\n",
       "      <td>042AKDN1.csv</td>\n",
       "      <td>042AKDN1.csv-0</td>\n",
       "      <td>Yuvileine</td>\n",
       "      <td>Q951930</td>\n",
       "      <td>Juviles</td>\n",
       "      <td>/m/06t0bf|2516238|762927|1125918951|345896|911...</td>\n",
       "      <td>...</td>\n",
       "      <td>[]</td>\n",
       "      <td>7</td>\n",
       "      <td>1</td>\n",
       "      <td>-1</td>\n",
       "      <td>0.603325</td>\n",
       "      <td>0.529422</td>\n",
       "      <td>Q12076836:0.032|Q56061:0.031|Q15642541:0.029|Q...</td>\n",
       "      <td>0.579808</td>\n",
       "      <td>P2046:0.064|P1082:0.062|P6766:0.054|P2044:0.05...</td>\n",
       "      <td>042AKDN1</td>\n",
       "    </tr>\n",
       "    <tr>\n",
       "      <th>3</th>\n",
       "      <td>0</td>\n",
       "      <td>0</td>\n",
       "      <td>Yuvileine</td>\n",
       "      <td>15830|84|2.83</td>\n",
       "      <td>042AKDN1.csv</td>\n",
       "      <td>042AKDN1.csv-0</td>\n",
       "      <td>Yuvileine</td>\n",
       "      <td>Q4533552</td>\n",
       "      <td>Mordovia Arena</td>\n",
       "      <td>away|rus/mordovia_arena|Yubileyniy Stadium|mor...</td>\n",
       "      <td>...</td>\n",
       "      <td>[]</td>\n",
       "      <td>14</td>\n",
       "      <td>2</td>\n",
       "      <td>-1</td>\n",
       "      <td>0.502851</td>\n",
       "      <td>0.263346</td>\n",
       "      <td>Q1496967:0.026|Q82794:0.020|Q27096235:0.018|Q4...</td>\n",
       "      <td>0.106026</td>\n",
       "      <td>P373:0.029|P625:0.023|P131:0.021|P17:0.016|P18...</td>\n",
       "      <td>042AKDN1</td>\n",
       "    </tr>\n",
       "    <tr>\n",
       "      <th>4</th>\n",
       "      <td>0</td>\n",
       "      <td>0</td>\n",
       "      <td>Yuvileine</td>\n",
       "      <td>15830|84|2.83</td>\n",
       "      <td>042AKDN1.csv</td>\n",
       "      <td>042AKDN1.csv-0</td>\n",
       "      <td>Yuvileine</td>\n",
       "      <td>Q34716498</td>\n",
       "      <td>Yuvi Taando’o</td>\n",
       "      <td>Yuvi Taando'o|11220481</td>\n",
       "      <td>...</td>\n",
       "      <td>[]</td>\n",
       "      <td>13</td>\n",
       "      <td>2</td>\n",
       "      <td>-1</td>\n",
       "      <td>0.580654</td>\n",
       "      <td>0.033954</td>\n",
       "      <td>Q618123:0.014|Q27096213:0.008|Q58416391:0.007|...</td>\n",
       "      <td>0.067667</td>\n",
       "      <td>P1566:0.031|P625:0.023|P17:0.016|P31:-0.003</td>\n",
       "      <td>042AKDN1</td>\n",
       "    </tr>\n",
       "  </tbody>\n",
       "</table>\n",
       "<p>5 rows × 51 columns</p>\n",
       "</div>"
      ],
      "text/plain": [
       "   column  row      label        context      filename       column-id  \\\n",
       "0       0    0  Yuvileine  15830|84|2.83  042AKDN1.csv  042AKDN1.csv-0   \n",
       "1       0    0  Yuvileine  15830|84|2.83  042AKDN1.csv  042AKDN1.csv-0   \n",
       "2       0    0  Yuvileine  15830|84|2.83  042AKDN1.csv  042AKDN1.csv-0   \n",
       "3       0    0  Yuvileine  15830|84|2.83  042AKDN1.csv  042AKDN1.csv-0   \n",
       "4       0    0  Yuvileine  15830|84|2.83  042AKDN1.csv  042AKDN1.csv-0   \n",
       "\n",
       "  label_clean      kg_id              kg_labels  \\\n",
       "0   Yuvileine   Q4533538  Yubileini (Krasnodar)   \n",
       "1   Yuvileine  Q24011352                Juviles   \n",
       "2   Yuvileine    Q951930                Juviles   \n",
       "3   Yuvileine   Q4533552         Mordovia Arena   \n",
       "4   Yuvileine  Q34716498          Yuvi Taando’o   \n",
       "\n",
       "                                          kg_aliases  ... context_similarity  \\\n",
       "0                  03651430116|03251830004|Юбилейный  ...                 []   \n",
       "1                                 1125918951|2516238  ...                 []   \n",
       "2  /m/06t0bf|2516238|762927|1125918951|345896|911...  ...                 []   \n",
       "3  away|rus/mordovia_arena|Yubileyniy Stadium|mor...  ...                 []   \n",
       "4                             Yuvi Taando'o|11220481  ...                 []   \n",
       "\n",
       "  num_char  num_tokens  is_lof pgt_centroid_score  \\\n",
       "0       21           2      -1           0.586126   \n",
       "1        7           1      -1           0.708974   \n",
       "2        7           1      -1           0.603325   \n",
       "3       14           2      -1           0.502851   \n",
       "4       13           2      -1           0.580654   \n",
       "\n",
       "  pgt_class_count_tf_idf_score  \\\n",
       "0                     0.496094   \n",
       "1                     0.406507   \n",
       "2                     0.529422   \n",
       "3                     0.263346   \n",
       "4                     0.033954   \n",
       "\n",
       "                                    top5_class_count  \\\n",
       "0  Q56061:0.031|Q15642541:0.029|Q486972:0.028|Q17...   \n",
       "1  Q486972:0.028|Q177634:0.028|Q874405:0.027|Q788...   \n",
       "2  Q12076836:0.032|Q56061:0.031|Q15642541:0.029|Q...   \n",
       "3  Q1496967:0.026|Q82794:0.020|Q27096235:0.018|Q4...   \n",
       "4  Q618123:0.014|Q27096213:0.008|Q58416391:0.007|...   \n",
       "\n",
       "   pgt_property_count_tf_idf_score  \\\n",
       "0                         0.250704   \n",
       "1                         0.204015   \n",
       "2                         0.579808   \n",
       "3                         0.106026   \n",
       "4                         0.067667   \n",
       "\n",
       "                                 top5_property_count  table_id  \n",
       "0  P1082:0.062|P2044:0.050|P281:0.047|P1705:0.034...  042AKDN1  \n",
       "1  P1376:0.061|P6766:0.054|P1566:0.031|P625:0.023...  042AKDN1  \n",
       "2  P2046:0.064|P1082:0.062|P6766:0.054|P2044:0.05...  042AKDN1  \n",
       "3  P373:0.029|P625:0.023|P131:0.021|P17:0.016|P18...  042AKDN1  \n",
       "4        P1566:0.031|P625:0.023|P17:0.016|P31:-0.003  042AKDN1  \n",
       "\n",
       "[5 rows x 51 columns]"
      ]
     },
     "execution_count": 19,
     "metadata": {},
     "output_type": "execute_result"
    }
   ],
   "source": [
    "all_data.head()"
   ]
  },
  {
   "cell_type": "code",
   "execution_count": 20,
   "id": "26866d65-3a57-49d9-808d-024d9c6427b7",
   "metadata": {},
   "outputs": [
    {
     "name": "stderr",
     "output_type": "stream",
     "text": [
      "/var/folders/qv/cxzpwz3j29x7n79vwpw253v80000gn/T/ipykernel_3197/3563378694.py:1: DtypeWarning: Columns (29,30,34,36) have mixed types.Specify dtype option on import or set low_memory=False.\n",
      "  generate_train_data(gen_training_data_args)\n",
      "/var/folders/qv/cxzpwz3j29x7n79vwpw253v80000gn/T/ipykernel_3197/3563378694.py:1: DtypeWarning: Columns (29,30,34,36) have mixed types.Specify dtype option on import or set low_memory=False.\n",
      "  generate_train_data(gen_training_data_args)\n"
     ]
    },
    {
     "name": "stdout",
     "output_type": "stream",
     "text": [
      "12671 1\n",
      "12671 100\n"
     ]
    }
   ],
   "source": [
    "generate_train_data(gen_training_data_args)"
   ]
  },
  {
   "cell_type": "markdown",
   "id": "905aaa0d-754f-481f-8913-dde5b9ea0dd0",
   "metadata": {},
   "source": [
    "### Model Definition"
   ]
  },
  {
   "cell_type": "code",
   "execution_count": 21,
   "id": "collectible-medline",
   "metadata": {},
   "outputs": [],
   "source": [
    "# Dataset\n",
    "class T2DV2Dataset(Dataset):\n",
    "    def __init__(self, pos_features, neg_features):\n",
    "        self.pos_features = pos_features\n",
    "        self.neg_features = neg_features\n",
    "    \n",
    "    def __len__(self):\n",
    "        return len(self.pos_features)\n",
    "    \n",
    "    def __getitem__(self, idx):\n",
    "        return self.pos_features[idx], self.neg_features[idx]\n",
    "\n",
    "# Model\n",
    "class PairwiseNetwork(nn.Module):\n",
    "    def __init__(self, hidden_size):\n",
    "        super().__init__()\n",
    "        #original 12x24, 24x12, 12x12, 12x1\n",
    "        self.fc1 = nn.Linear(hidden_size, 2*hidden_size)\n",
    "        self.fc2 = nn.Linear(2*hidden_size, hidden_size)\n",
    "        self.fc3 = nn.Linear(hidden_size, hidden_size)\n",
    "        self.fc4 = nn.Linear(hidden_size, 1)\n",
    "    \n",
    "    def forward(self, pos_features, neg_features):\n",
    "        # Positive pass\n",
    "        x = F.relu(self.fc1(pos_features))\n",
    "        x = F.relu(self.fc2(x))\n",
    "        x = F.relu(self.fc3(x))\n",
    "        pos_out = torch.sigmoid(self.fc4(x))\n",
    "        \n",
    "        # Negative Pass\n",
    "        x = F.relu(self.fc1(neg_features))\n",
    "        x = F.relu(self.fc2(x))\n",
    "        x = F.relu(self.fc3(x))\n",
    "        neg_out = torch.sigmoid(self.fc4(x))\n",
    "        \n",
    "        return pos_out, neg_out\n",
    "    \n",
    "    def predict(self, test_feat):\n",
    "        x = F.relu(self.fc1(test_feat))\n",
    "        x = F.relu(self.fc2(x))\n",
    "        x = F.relu(self.fc3(x))\n",
    "        test_out = torch.sigmoid(self.fc4(x))\n",
    "        return test_out\n",
    "\n",
    "# Pairwise Loss\n",
    "class PairwiseLoss(nn.Module):\n",
    "    def __init__(self):\n",
    "        super().__init__()\n",
    "        self.m = 0\n",
    "    \n",
    "    def forward(self, pos_out, neg_out):\n",
    "        distance = (1 - pos_out) + neg_out\n",
    "        loss = torch.mean(torch.max(torch.tensor(0), distance))\n",
    "        return loss"
   ]
  },
  {
   "cell_type": "markdown",
   "id": "interim-lying",
   "metadata": {},
   "source": [
    "### Training"
   ]
  },
  {
   "cell_type": "code",
   "execution_count": 22,
   "id": "widespread-metropolitan",
   "metadata": {},
   "outputs": [],
   "source": [
    "def generate_dataloader(positive_feat_path, negative_feat_path):\n",
    "    pos_features = pickle.load(open(positive_feat_path, 'rb'))\n",
    "    neg_features = pickle.load(open(negative_feat_path, 'rb'))\n",
    "\n",
    "    pos_features_flatten = list(chain.from_iterable(pos_features))\n",
    "    neg_features_flatten = list(chain.from_iterable(neg_features))\n",
    "\n",
    "    train_dataset = T2DV2Dataset(pos_features_flatten, neg_features_flatten)\n",
    "    train_dataloader = DataLoader(train_dataset, batch_size=64)\n",
    "    return train_dataloader\n",
    "\n",
    "def infer_scores(min_max_scaler_path, input_table_path, output_table_path, model):\n",
    "    scaler = pickle.load(open(min_max_scaler_path, 'rb'))\n",
    "    normalize_features = features\n",
    "    for file in glob.glob(input_table_path + '/*.csv'):\n",
    "        file_name = file.split('/')[-1]\n",
    "        if os.path.getsize(file) == 0:\n",
    "                continue\n",
    "                \n",
    "        d_sample = pd.read_csv(file)\n",
    "#         d_sample['context_score'].fillna(0.0, inplace=True)\n",
    "        grouped_obj = d_sample.groupby(['column', 'row'])\n",
    "        new_df_list = []\n",
    "        pred = []\n",
    "        for cell in grouped_obj:\n",
    "            cell[1][normalize_features] = scaler.transform(cell[1][normalize_features])\n",
    "            sorted_df = cell[1].sort_values('context_score', ascending=False)\n",
    "            sorted_df_features = sorted_df[normalize_features]\n",
    "            new_df_list.append(sorted_df)\n",
    "            arr = sorted_df_features.to_numpy()\n",
    "            test_inp = []\n",
    "            for a in arr:\n",
    "                test_inp.append(a)\n",
    "            test_tensor = torch.tensor(test_inp).float()\n",
    "            scores = model.predict(test_tensor)\n",
    "            scores_list = torch.squeeze(scores).tolist()\n",
    "            if not type(scores_list) is list:\n",
    "                pred.append(scores_list)\n",
    "            else:\n",
    "                pred.extend(scores_list)\n",
    "        test_df = pd.concat(new_df_list)\n",
    "        test_df[final_score_column] = pred\n",
    "        test_df.to_csv(f\"{output_table_path}/{file_name}\", index=False)\n",
    "\n",
    "def train(args):\n",
    "    if torch.cuda.is_available():\n",
    "        device = torch.device('cuda')\n",
    "    \n",
    "    else:\n",
    "        device = torch.device('cpu')\n",
    "    train_dataloader = generate_dataloader(args.positive_feat_path, args.negative_feat_path)\n",
    "    criterion = PairwiseLoss()\n",
    "    EPOCHS = args.num_epochs\n",
    "    model = PairwiseNetwork(len(features)).to(device=device)\n",
    "    optimizer = Adam(model.parameters(), lr=args.lr)\n",
    "    top1_max_prec = 0\n",
    "    for epoch in range(EPOCHS):\n",
    "        train_epoch_loss = 0\n",
    "        avg_loss = 0\n",
    "        model.train()\n",
    "        for bid, batch in tqdm(enumerate(train_dataloader), position=0, leave=True):\n",
    "            positive_feat = torch.tensor(batch[0].float())\n",
    "            negative_feat = torch.tensor(batch[1].float())\n",
    "            optimizer.zero_grad()\n",
    "            pos_out, neg_out = model(positive_feat, negative_feat)\n",
    "            loss = criterion(pos_out, neg_out)\n",
    "            loss.backward()\n",
    "            optimizer.step()\n",
    "            train_epoch_loss += loss\n",
    "        avg_loss = train_epoch_loss / bid\n",
    "\n",
    "        # Evaluation\n",
    "        model.eval()\n",
    "        infer_scores(args.min_max_scaler_path, args.dev_path, args.dev_output, model)\n",
    "        eval_data = merge_eval_files(args.dev_output)\n",
    "        res, candidate_eval_data = parse_eval_files_stats(eval_data, final_score_column)\n",
    "        top1_precision = res['num_tasks_with_model_score_top_one_accurate']/res['num_tasks_with_gt']\n",
    "        if top1_precision > top1_max_prec:\n",
    "            top1_max_prec = top1_precision\n",
    "            model_save_name = 'epoch_{}_loss_{}_top1_{}.pth'.format(epoch, avg_loss, top1_max_prec)\n",
    "            best_model_path = os.path.join(args.model_save_path, model_save_name)\n",
    "            torch.save(model.state_dict(), best_model_path)\n",
    "        \n",
    "        print(\"Epoch {}, Avg Loss is {}, epoch top1 {}, max top1 {}\".format(epoch, avg_loss, top1_precision, top1_max_prec))\n",
    "    return best_model_path"
   ]
  },
  {
   "cell_type": "code",
   "execution_count": 23,
   "id": "infectious-haven",
   "metadata": {},
   "outputs": [],
   "source": [
    "def merge_eval_files(final_score_path):\n",
    "    eval_file_names = []\n",
    "    df_list = []\n",
    "    for (dirpath, dirnames, filenames) in os.walk(final_score_path):\n",
    "        for fn in filenames:\n",
    "            if \"csv\" not in fn:\n",
    "                continue\n",
    "            abs_fn = os.path.join(dirpath, fn)\n",
    "            assert os.path.isfile(abs_fn)\n",
    "            if os.path.getsize(abs_fn) == 0:\n",
    "                continue\n",
    "            eval_file_names.append(abs_fn)\n",
    "    \n",
    "    for fn in eval_file_names:\n",
    "        fid = fn.split('/')[-1].split('.csv')[0]\n",
    "        df = pd.read_csv(fn)\n",
    "        df['table_id'] = fid\n",
    "        df_list.append(df)\n",
    "    return pd.concat(df_list)\n",
    "\n",
    "def parse_eval_files_stats(eval_data, method):\n",
    "    res = {}\n",
    "    candidate_eval_data = eval_data.groupby(['table_id', 'column', 'row'])['table_id'].count().reset_index(name=\"count\")\n",
    "    res['num_tasks_with_gt'] = len(eval_data[pd.notna(eval_data['GT_kg_id'])].groupby(['table_id', 'column', 'row']))\n",
    "    num_tasks_with_model_score_top_one_accurate = []\n",
    "    num_tasks_with_model_score_top_five_accurate = []\n",
    "    num_tasks_with_model_score_top_ten_accurate = []\n",
    "    has_gt_list = []\n",
    "    has_gt_in_candidate = []\n",
    "    for i, row in candidate_eval_data.iterrows():\n",
    "        table_id, row_idx, col_idx = row['table_id'], row['row'], row['column']\n",
    "        c_e_data = eval_data[(eval_data['table_id'] == table_id) & (eval_data['row'] == row_idx) & (eval_data['column'] == col_idx)]\n",
    "        assert len(c_e_data) > 0\n",
    "        if np.nan not in set(c_e_data['GT_kg_id']):\n",
    "            has_gt_list.append(1)\n",
    "        else:\n",
    "            has_gt_list.append(0)\n",
    "        if 1 in set(c_e_data['evaluation_label']):\n",
    "            has_gt_in_candidate.append(1)\n",
    "        else:\n",
    "            has_gt_in_candidate.append(0)\n",
    "                    \n",
    "        #rank on model score\n",
    "        s_data = c_e_data.sort_values(by=[method], ascending=False)\n",
    "        if s_data.iloc[0]['evaluation_label'] == 1:\n",
    "            num_tasks_with_model_score_top_one_accurate.append(1)\n",
    "        else:\n",
    "            num_tasks_with_model_score_top_one_accurate.append(0)\n",
    "        if 1 in set(s_data.iloc[0:5]['evaluation_label']):\n",
    "            num_tasks_with_model_score_top_five_accurate.append(1)\n",
    "        else:\n",
    "            num_tasks_with_model_score_top_five_accurate.append(0)\n",
    "        if 1 in set(s_data.iloc[0:10]['evaluation_label']):\n",
    "            num_tasks_with_model_score_top_ten_accurate.append(1)\n",
    "        else:\n",
    "            num_tasks_with_model_score_top_ten_accurate.append(0)\n",
    "            \n",
    "    res['num_tasks_with_model_score_top_one_accurate'] = sum(num_tasks_with_model_score_top_one_accurate)\n",
    "    res['num_tasks_with_model_score_top_five_accurate'] = sum(num_tasks_with_model_score_top_five_accurate)\n",
    "    res['num_tasks_with_model_score_top_ten_accurate'] = sum(num_tasks_with_model_score_top_ten_accurate)\n",
    "    return res, candidate_eval_data"
   ]
  },
  {
   "cell_type": "code",
   "execution_count": 24,
   "id": "impressed-focus",
   "metadata": {},
   "outputs": [],
   "source": [
    "training_args = Namespace(num_epochs=20, lr=0.001, positive_feat_path=pos_output, negative_feat_path=neg_output,\n",
    "                         dev_path=dev_feature_path, dev_output=dev_output_predictions,\n",
    "                         model_save_path=model_save_path, min_max_scaler_path=min_max_scaler_path)"
   ]
  },
  {
   "cell_type": "code",
   "execution_count": 25,
   "id": "chronic-portugal",
   "metadata": {},
   "outputs": [
    {
     "name": "stderr",
     "output_type": "stream",
     "text": [
      "0it [00:00, ?it/s]/var/folders/qv/cxzpwz3j29x7n79vwpw253v80000gn/T/ipykernel_3197/3986128095.py:62: UserWarning: To copy construct from a tensor, it is recommended to use sourceTensor.clone().detach() or sourceTensor.clone().detach().requires_grad_(True), rather than torch.tensor(sourceTensor).\n",
      "  positive_feat = torch.tensor(batch[0].float())\n",
      "/var/folders/qv/cxzpwz3j29x7n79vwpw253v80000gn/T/ipykernel_3197/3986128095.py:63: UserWarning: To copy construct from a tensor, it is recommended to use sourceTensor.clone().detach() or sourceTensor.clone().detach().requires_grad_(True), rather than torch.tensor(sourceTensor).\n",
      "  negative_feat = torch.tensor(batch[1].float())\n",
      "198it [00:00, 549.31it/s]\n",
      "/var/folders/qv/cxzpwz3j29x7n79vwpw253v80000gn/T/ipykernel_3197/3986128095.py:74: DtypeWarning: Columns (29,30,34,36) have mixed types.Specify dtype option on import or set low_memory=False.\n",
      "  infer_scores(args.min_max_scaler_path, args.dev_path, args.dev_output, model)\n",
      "/var/folders/qv/cxzpwz3j29x7n79vwpw253v80000gn/T/ipykernel_3197/3986128095.py:74: DtypeWarning: Columns (29,30,34,36) have mixed types.Specify dtype option on import or set low_memory=False.\n",
      "  infer_scores(args.min_max_scaler_path, args.dev_path, args.dev_output, model)\n",
      "/var/folders/qv/cxzpwz3j29x7n79vwpw253v80000gn/T/ipykernel_3197/3986128095.py:75: DtypeWarning: Columns (29,30,34,36) have mixed types.Specify dtype option on import or set low_memory=False.\n",
      "  eval_data = merge_eval_files(args.dev_output)\n"
     ]
    },
    {
     "name": "stdout",
     "output_type": "stream",
     "text": [
      "Epoch 0, Avg Loss is 0.6426814794540405, epoch top1 0.9640381282495667, max top1 0.9640381282495667\n"
     ]
    },
    {
     "name": "stderr",
     "output_type": "stream",
     "text": [
      "0it [00:00, ?it/s]/var/folders/qv/cxzpwz3j29x7n79vwpw253v80000gn/T/ipykernel_3197/3986128095.py:62: UserWarning: To copy construct from a tensor, it is recommended to use sourceTensor.clone().detach() or sourceTensor.clone().detach().requires_grad_(True), rather than torch.tensor(sourceTensor).\n",
      "  positive_feat = torch.tensor(batch[0].float())\n",
      "/var/folders/qv/cxzpwz3j29x7n79vwpw253v80000gn/T/ipykernel_3197/3986128095.py:63: UserWarning: To copy construct from a tensor, it is recommended to use sourceTensor.clone().detach() or sourceTensor.clone().detach().requires_grad_(True), rather than torch.tensor(sourceTensor).\n",
      "  negative_feat = torch.tensor(batch[1].float())\n",
      "198it [00:00, 532.73it/s]\n",
      "/var/folders/qv/cxzpwz3j29x7n79vwpw253v80000gn/T/ipykernel_3197/3986128095.py:74: DtypeWarning: Columns (29,30,34,36) have mixed types.Specify dtype option on import or set low_memory=False.\n",
      "  infer_scores(args.min_max_scaler_path, args.dev_path, args.dev_output, model)\n",
      "/var/folders/qv/cxzpwz3j29x7n79vwpw253v80000gn/T/ipykernel_3197/3986128095.py:74: DtypeWarning: Columns (29,30,34,36) have mixed types.Specify dtype option on import or set low_memory=False.\n",
      "  infer_scores(args.min_max_scaler_path, args.dev_path, args.dev_output, model)\n",
      "/var/folders/qv/cxzpwz3j29x7n79vwpw253v80000gn/T/ipykernel_3197/3986128095.py:75: DtypeWarning: Columns (29,30,34,36) have mixed types.Specify dtype option on import or set low_memory=False.\n",
      "  eval_data = merge_eval_files(args.dev_output)\n"
     ]
    },
    {
     "name": "stdout",
     "output_type": "stream",
     "text": [
      "Epoch 1, Avg Loss is 0.04851575940847397, epoch top1 0.9649046793760832, max top1 0.9649046793760832\n"
     ]
    },
    {
     "name": "stderr",
     "output_type": "stream",
     "text": [
      "0it [00:00, ?it/s]/var/folders/qv/cxzpwz3j29x7n79vwpw253v80000gn/T/ipykernel_3197/3986128095.py:62: UserWarning: To copy construct from a tensor, it is recommended to use sourceTensor.clone().detach() or sourceTensor.clone().detach().requires_grad_(True), rather than torch.tensor(sourceTensor).\n",
      "  positive_feat = torch.tensor(batch[0].float())\n",
      "/var/folders/qv/cxzpwz3j29x7n79vwpw253v80000gn/T/ipykernel_3197/3986128095.py:63: UserWarning: To copy construct from a tensor, it is recommended to use sourceTensor.clone().detach() or sourceTensor.clone().detach().requires_grad_(True), rather than torch.tensor(sourceTensor).\n",
      "  negative_feat = torch.tensor(batch[1].float())\n",
      "198it [00:00, 520.71it/s]\n",
      "/var/folders/qv/cxzpwz3j29x7n79vwpw253v80000gn/T/ipykernel_3197/3986128095.py:74: DtypeWarning: Columns (29,30,34,36) have mixed types.Specify dtype option on import or set low_memory=False.\n",
      "  infer_scores(args.min_max_scaler_path, args.dev_path, args.dev_output, model)\n",
      "/var/folders/qv/cxzpwz3j29x7n79vwpw253v80000gn/T/ipykernel_3197/3986128095.py:74: DtypeWarning: Columns (29,30,34,36) have mixed types.Specify dtype option on import or set low_memory=False.\n",
      "  infer_scores(args.min_max_scaler_path, args.dev_path, args.dev_output, model)\n",
      "/var/folders/qv/cxzpwz3j29x7n79vwpw253v80000gn/T/ipykernel_3197/3986128095.py:75: DtypeWarning: Columns (29,30,34,36) have mixed types.Specify dtype option on import or set low_memory=False.\n",
      "  eval_data = merge_eval_files(args.dev_output)\n"
     ]
    },
    {
     "name": "stdout",
     "output_type": "stream",
     "text": [
      "Epoch 2, Avg Loss is 0.02766318805515766, epoch top1 0.9662045060658578, max top1 0.9662045060658578\n"
     ]
    },
    {
     "name": "stderr",
     "output_type": "stream",
     "text": [
      "0it [00:00, ?it/s]/var/folders/qv/cxzpwz3j29x7n79vwpw253v80000gn/T/ipykernel_3197/3986128095.py:62: UserWarning: To copy construct from a tensor, it is recommended to use sourceTensor.clone().detach() or sourceTensor.clone().detach().requires_grad_(True), rather than torch.tensor(sourceTensor).\n",
      "  positive_feat = torch.tensor(batch[0].float())\n",
      "/var/folders/qv/cxzpwz3j29x7n79vwpw253v80000gn/T/ipykernel_3197/3986128095.py:63: UserWarning: To copy construct from a tensor, it is recommended to use sourceTensor.clone().detach() or sourceTensor.clone().detach().requires_grad_(True), rather than torch.tensor(sourceTensor).\n",
      "  negative_feat = torch.tensor(batch[1].float())\n",
      "198it [00:00, 576.02it/s]\n",
      "/var/folders/qv/cxzpwz3j29x7n79vwpw253v80000gn/T/ipykernel_3197/3986128095.py:74: DtypeWarning: Columns (29,30,34,36) have mixed types.Specify dtype option on import or set low_memory=False.\n",
      "  infer_scores(args.min_max_scaler_path, args.dev_path, args.dev_output, model)\n",
      "/var/folders/qv/cxzpwz3j29x7n79vwpw253v80000gn/T/ipykernel_3197/3986128095.py:74: DtypeWarning: Columns (29,30,34,36) have mixed types.Specify dtype option on import or set low_memory=False.\n",
      "  infer_scores(args.min_max_scaler_path, args.dev_path, args.dev_output, model)\n",
      "/var/folders/qv/cxzpwz3j29x7n79vwpw253v80000gn/T/ipykernel_3197/3986128095.py:75: DtypeWarning: Columns (29,30,34,36) have mixed types.Specify dtype option on import or set low_memory=False.\n",
      "  eval_data = merge_eval_files(args.dev_output)\n"
     ]
    },
    {
     "name": "stdout",
     "output_type": "stream",
     "text": [
      "Epoch 3, Avg Loss is 0.022999413311481476, epoch top1 0.9657712305025996, max top1 0.9662045060658578\n"
     ]
    },
    {
     "name": "stderr",
     "output_type": "stream",
     "text": [
      "0it [00:00, ?it/s]/var/folders/qv/cxzpwz3j29x7n79vwpw253v80000gn/T/ipykernel_3197/3986128095.py:62: UserWarning: To copy construct from a tensor, it is recommended to use sourceTensor.clone().detach() or sourceTensor.clone().detach().requires_grad_(True), rather than torch.tensor(sourceTensor).\n",
      "  positive_feat = torch.tensor(batch[0].float())\n",
      "/var/folders/qv/cxzpwz3j29x7n79vwpw253v80000gn/T/ipykernel_3197/3986128095.py:63: UserWarning: To copy construct from a tensor, it is recommended to use sourceTensor.clone().detach() or sourceTensor.clone().detach().requires_grad_(True), rather than torch.tensor(sourceTensor).\n",
      "  negative_feat = torch.tensor(batch[1].float())\n",
      "198it [00:00, 568.86it/s]\n",
      "/var/folders/qv/cxzpwz3j29x7n79vwpw253v80000gn/T/ipykernel_3197/3986128095.py:74: DtypeWarning: Columns (29,30,34,36) have mixed types.Specify dtype option on import or set low_memory=False.\n",
      "  infer_scores(args.min_max_scaler_path, args.dev_path, args.dev_output, model)\n",
      "/var/folders/qv/cxzpwz3j29x7n79vwpw253v80000gn/T/ipykernel_3197/3986128095.py:74: DtypeWarning: Columns (29,30,34,36) have mixed types.Specify dtype option on import or set low_memory=False.\n",
      "  infer_scores(args.min_max_scaler_path, args.dev_path, args.dev_output, model)\n",
      "/var/folders/qv/cxzpwz3j29x7n79vwpw253v80000gn/T/ipykernel_3197/3986128095.py:75: DtypeWarning: Columns (29,30,34,36) have mixed types.Specify dtype option on import or set low_memory=False.\n",
      "  eval_data = merge_eval_files(args.dev_output)\n"
     ]
    },
    {
     "name": "stdout",
     "output_type": "stream",
     "text": [
      "Epoch 4, Avg Loss is 0.020734140649437904, epoch top1 0.9649046793760832, max top1 0.9662045060658578\n"
     ]
    },
    {
     "name": "stderr",
     "output_type": "stream",
     "text": [
      "0it [00:00, ?it/s]/var/folders/qv/cxzpwz3j29x7n79vwpw253v80000gn/T/ipykernel_3197/3986128095.py:62: UserWarning: To copy construct from a tensor, it is recommended to use sourceTensor.clone().detach() or sourceTensor.clone().detach().requires_grad_(True), rather than torch.tensor(sourceTensor).\n",
      "  positive_feat = torch.tensor(batch[0].float())\n",
      "/var/folders/qv/cxzpwz3j29x7n79vwpw253v80000gn/T/ipykernel_3197/3986128095.py:63: UserWarning: To copy construct from a tensor, it is recommended to use sourceTensor.clone().detach() or sourceTensor.clone().detach().requires_grad_(True), rather than torch.tensor(sourceTensor).\n",
      "  negative_feat = torch.tensor(batch[1].float())\n",
      "198it [00:00, 538.40it/s]\n",
      "/var/folders/qv/cxzpwz3j29x7n79vwpw253v80000gn/T/ipykernel_3197/3986128095.py:74: DtypeWarning: Columns (29,30,34,36) have mixed types.Specify dtype option on import or set low_memory=False.\n",
      "  infer_scores(args.min_max_scaler_path, args.dev_path, args.dev_output, model)\n",
      "/var/folders/qv/cxzpwz3j29x7n79vwpw253v80000gn/T/ipykernel_3197/3986128095.py:74: DtypeWarning: Columns (29,30,34,36) have mixed types.Specify dtype option on import or set low_memory=False.\n",
      "  infer_scores(args.min_max_scaler_path, args.dev_path, args.dev_output, model)\n",
      "/var/folders/qv/cxzpwz3j29x7n79vwpw253v80000gn/T/ipykernel_3197/3986128095.py:75: DtypeWarning: Columns (29,30,34,36) have mixed types.Specify dtype option on import or set low_memory=False.\n",
      "  eval_data = merge_eval_files(args.dev_output)\n"
     ]
    },
    {
     "name": "stdout",
     "output_type": "stream",
     "text": [
      "Epoch 5, Avg Loss is 0.019342860206961632, epoch top1 0.9640381282495667, max top1 0.9662045060658578\n"
     ]
    },
    {
     "name": "stderr",
     "output_type": "stream",
     "text": [
      "0it [00:00, ?it/s]/var/folders/qv/cxzpwz3j29x7n79vwpw253v80000gn/T/ipykernel_3197/3986128095.py:62: UserWarning: To copy construct from a tensor, it is recommended to use sourceTensor.clone().detach() or sourceTensor.clone().detach().requires_grad_(True), rather than torch.tensor(sourceTensor).\n",
      "  positive_feat = torch.tensor(batch[0].float())\n",
      "/var/folders/qv/cxzpwz3j29x7n79vwpw253v80000gn/T/ipykernel_3197/3986128095.py:63: UserWarning: To copy construct from a tensor, it is recommended to use sourceTensor.clone().detach() or sourceTensor.clone().detach().requires_grad_(True), rather than torch.tensor(sourceTensor).\n",
      "  negative_feat = torch.tensor(batch[1].float())\n",
      "198it [00:00, 434.80it/s]\n",
      "/var/folders/qv/cxzpwz3j29x7n79vwpw253v80000gn/T/ipykernel_3197/3986128095.py:74: DtypeWarning: Columns (29,30,34,36) have mixed types.Specify dtype option on import or set low_memory=False.\n",
      "  infer_scores(args.min_max_scaler_path, args.dev_path, args.dev_output, model)\n",
      "/var/folders/qv/cxzpwz3j29x7n79vwpw253v80000gn/T/ipykernel_3197/3986128095.py:74: DtypeWarning: Columns (29,30,34,36) have mixed types.Specify dtype option on import or set low_memory=False.\n",
      "  infer_scores(args.min_max_scaler_path, args.dev_path, args.dev_output, model)\n",
      "/var/folders/qv/cxzpwz3j29x7n79vwpw253v80000gn/T/ipykernel_3197/3986128095.py:75: DtypeWarning: Columns (29,30,34,36) have mixed types.Specify dtype option on import or set low_memory=False.\n",
      "  eval_data = merge_eval_files(args.dev_output)\n"
     ]
    },
    {
     "name": "stdout",
     "output_type": "stream",
     "text": [
      "Epoch 6, Avg Loss is 0.018326032906770706, epoch top1 0.9657712305025996, max top1 0.9662045060658578\n"
     ]
    },
    {
     "name": "stderr",
     "output_type": "stream",
     "text": [
      "0it [00:00, ?it/s]/var/folders/qv/cxzpwz3j29x7n79vwpw253v80000gn/T/ipykernel_3197/3986128095.py:62: UserWarning: To copy construct from a tensor, it is recommended to use sourceTensor.clone().detach() or sourceTensor.clone().detach().requires_grad_(True), rather than torch.tensor(sourceTensor).\n",
      "  positive_feat = torch.tensor(batch[0].float())\n",
      "/var/folders/qv/cxzpwz3j29x7n79vwpw253v80000gn/T/ipykernel_3197/3986128095.py:63: UserWarning: To copy construct from a tensor, it is recommended to use sourceTensor.clone().detach() or sourceTensor.clone().detach().requires_grad_(True), rather than torch.tensor(sourceTensor).\n",
      "  negative_feat = torch.tensor(batch[1].float())\n",
      "198it [00:00, 613.51it/s]\n",
      "/var/folders/qv/cxzpwz3j29x7n79vwpw253v80000gn/T/ipykernel_3197/3986128095.py:74: DtypeWarning: Columns (29,30,34,36) have mixed types.Specify dtype option on import or set low_memory=False.\n",
      "  infer_scores(args.min_max_scaler_path, args.dev_path, args.dev_output, model)\n",
      "/var/folders/qv/cxzpwz3j29x7n79vwpw253v80000gn/T/ipykernel_3197/3986128095.py:74: DtypeWarning: Columns (29,30,34,36) have mixed types.Specify dtype option on import or set low_memory=False.\n",
      "  infer_scores(args.min_max_scaler_path, args.dev_path, args.dev_output, model)\n",
      "/var/folders/qv/cxzpwz3j29x7n79vwpw253v80000gn/T/ipykernel_3197/3986128095.py:75: DtypeWarning: Columns (29,30,34,36) have mixed types.Specify dtype option on import or set low_memory=False.\n",
      "  eval_data = merge_eval_files(args.dev_output)\n"
     ]
    },
    {
     "name": "stdout",
     "output_type": "stream",
     "text": [
      "Epoch 7, Avg Loss is 0.017642466351389885, epoch top1 0.9657712305025996, max top1 0.9662045060658578\n"
     ]
    },
    {
     "name": "stderr",
     "output_type": "stream",
     "text": [
      "0it [00:00, ?it/s]/var/folders/qv/cxzpwz3j29x7n79vwpw253v80000gn/T/ipykernel_3197/3986128095.py:62: UserWarning: To copy construct from a tensor, it is recommended to use sourceTensor.clone().detach() or sourceTensor.clone().detach().requires_grad_(True), rather than torch.tensor(sourceTensor).\n",
      "  positive_feat = torch.tensor(batch[0].float())\n",
      "/var/folders/qv/cxzpwz3j29x7n79vwpw253v80000gn/T/ipykernel_3197/3986128095.py:63: UserWarning: To copy construct from a tensor, it is recommended to use sourceTensor.clone().detach() or sourceTensor.clone().detach().requires_grad_(True), rather than torch.tensor(sourceTensor).\n",
      "  negative_feat = torch.tensor(batch[1].float())\n",
      "198it [00:00, 674.49it/s]\n",
      "/var/folders/qv/cxzpwz3j29x7n79vwpw253v80000gn/T/ipykernel_3197/3986128095.py:74: DtypeWarning: Columns (29,30,34,36) have mixed types.Specify dtype option on import or set low_memory=False.\n",
      "  infer_scores(args.min_max_scaler_path, args.dev_path, args.dev_output, model)\n",
      "/var/folders/qv/cxzpwz3j29x7n79vwpw253v80000gn/T/ipykernel_3197/3986128095.py:74: DtypeWarning: Columns (29,30,34,36) have mixed types.Specify dtype option on import or set low_memory=False.\n",
      "  infer_scores(args.min_max_scaler_path, args.dev_path, args.dev_output, model)\n",
      "/var/folders/qv/cxzpwz3j29x7n79vwpw253v80000gn/T/ipykernel_3197/3986128095.py:75: DtypeWarning: Columns (29,30,34,36) have mixed types.Specify dtype option on import or set low_memory=False.\n",
      "  eval_data = merge_eval_files(args.dev_output)\n"
     ]
    },
    {
     "name": "stdout",
     "output_type": "stream",
     "text": [
      "Epoch 8, Avg Loss is 0.017119769006967545, epoch top1 0.9653379549393414, max top1 0.9662045060658578\n"
     ]
    },
    {
     "name": "stderr",
     "output_type": "stream",
     "text": [
      "0it [00:00, ?it/s]/var/folders/qv/cxzpwz3j29x7n79vwpw253v80000gn/T/ipykernel_3197/3986128095.py:62: UserWarning: To copy construct from a tensor, it is recommended to use sourceTensor.clone().detach() or sourceTensor.clone().detach().requires_grad_(True), rather than torch.tensor(sourceTensor).\n",
      "  positive_feat = torch.tensor(batch[0].float())\n",
      "/var/folders/qv/cxzpwz3j29x7n79vwpw253v80000gn/T/ipykernel_3197/3986128095.py:63: UserWarning: To copy construct from a tensor, it is recommended to use sourceTensor.clone().detach() or sourceTensor.clone().detach().requires_grad_(True), rather than torch.tensor(sourceTensor).\n",
      "  negative_feat = torch.tensor(batch[1].float())\n",
      "198it [00:00, 671.71it/s]\n",
      "/var/folders/qv/cxzpwz3j29x7n79vwpw253v80000gn/T/ipykernel_3197/3986128095.py:74: DtypeWarning: Columns (29,30,34,36) have mixed types.Specify dtype option on import or set low_memory=False.\n",
      "  infer_scores(args.min_max_scaler_path, args.dev_path, args.dev_output, model)\n",
      "/var/folders/qv/cxzpwz3j29x7n79vwpw253v80000gn/T/ipykernel_3197/3986128095.py:74: DtypeWarning: Columns (29,30,34,36) have mixed types.Specify dtype option on import or set low_memory=False.\n",
      "  infer_scores(args.min_max_scaler_path, args.dev_path, args.dev_output, model)\n",
      "/var/folders/qv/cxzpwz3j29x7n79vwpw253v80000gn/T/ipykernel_3197/3986128095.py:75: DtypeWarning: Columns (29,30,34,36) have mixed types.Specify dtype option on import or set low_memory=False.\n",
      "  eval_data = merge_eval_files(args.dev_output)\n"
     ]
    },
    {
     "name": "stdout",
     "output_type": "stream",
     "text": [
      "Epoch 9, Avg Loss is 0.016688192263245583, epoch top1 0.9653379549393414, max top1 0.9662045060658578\n"
     ]
    },
    {
     "name": "stderr",
     "output_type": "stream",
     "text": [
      "0it [00:00, ?it/s]/var/folders/qv/cxzpwz3j29x7n79vwpw253v80000gn/T/ipykernel_3197/3986128095.py:62: UserWarning: To copy construct from a tensor, it is recommended to use sourceTensor.clone().detach() or sourceTensor.clone().detach().requires_grad_(True), rather than torch.tensor(sourceTensor).\n",
      "  positive_feat = torch.tensor(batch[0].float())\n",
      "/var/folders/qv/cxzpwz3j29x7n79vwpw253v80000gn/T/ipykernel_3197/3986128095.py:63: UserWarning: To copy construct from a tensor, it is recommended to use sourceTensor.clone().detach() or sourceTensor.clone().detach().requires_grad_(True), rather than torch.tensor(sourceTensor).\n",
      "  negative_feat = torch.tensor(batch[1].float())\n",
      "198it [00:00, 683.03it/s]\n",
      "/var/folders/qv/cxzpwz3j29x7n79vwpw253v80000gn/T/ipykernel_3197/3986128095.py:74: DtypeWarning: Columns (29,30,34,36) have mixed types.Specify dtype option on import or set low_memory=False.\n",
      "  infer_scores(args.min_max_scaler_path, args.dev_path, args.dev_output, model)\n",
      "/var/folders/qv/cxzpwz3j29x7n79vwpw253v80000gn/T/ipykernel_3197/3986128095.py:74: DtypeWarning: Columns (29,30,34,36) have mixed types.Specify dtype option on import or set low_memory=False.\n",
      "  infer_scores(args.min_max_scaler_path, args.dev_path, args.dev_output, model)\n",
      "/var/folders/qv/cxzpwz3j29x7n79vwpw253v80000gn/T/ipykernel_3197/3986128095.py:75: DtypeWarning: Columns (29,30,34,36) have mixed types.Specify dtype option on import or set low_memory=False.\n",
      "  eval_data = merge_eval_files(args.dev_output)\n"
     ]
    },
    {
     "name": "stdout",
     "output_type": "stream",
     "text": [
      "Epoch 10, Avg Loss is 0.016266703605651855, epoch top1 0.9653379549393414, max top1 0.9662045060658578\n"
     ]
    },
    {
     "name": "stderr",
     "output_type": "stream",
     "text": [
      "0it [00:00, ?it/s]/var/folders/qv/cxzpwz3j29x7n79vwpw253v80000gn/T/ipykernel_3197/3986128095.py:62: UserWarning: To copy construct from a tensor, it is recommended to use sourceTensor.clone().detach() or sourceTensor.clone().detach().requires_grad_(True), rather than torch.tensor(sourceTensor).\n",
      "  positive_feat = torch.tensor(batch[0].float())\n",
      "/var/folders/qv/cxzpwz3j29x7n79vwpw253v80000gn/T/ipykernel_3197/3986128095.py:63: UserWarning: To copy construct from a tensor, it is recommended to use sourceTensor.clone().detach() or sourceTensor.clone().detach().requires_grad_(True), rather than torch.tensor(sourceTensor).\n",
      "  negative_feat = torch.tensor(batch[1].float())\n",
      "198it [00:00, 542.90it/s]\n",
      "/var/folders/qv/cxzpwz3j29x7n79vwpw253v80000gn/T/ipykernel_3197/3986128095.py:74: DtypeWarning: Columns (29,30,34,36) have mixed types.Specify dtype option on import or set low_memory=False.\n",
      "  infer_scores(args.min_max_scaler_path, args.dev_path, args.dev_output, model)\n",
      "/var/folders/qv/cxzpwz3j29x7n79vwpw253v80000gn/T/ipykernel_3197/3986128095.py:74: DtypeWarning: Columns (29,30,34,36) have mixed types.Specify dtype option on import or set low_memory=False.\n",
      "  infer_scores(args.min_max_scaler_path, args.dev_path, args.dev_output, model)\n",
      "/var/folders/qv/cxzpwz3j29x7n79vwpw253v80000gn/T/ipykernel_3197/3986128095.py:75: DtypeWarning: Columns (29,30,34,36) have mixed types.Specify dtype option on import or set low_memory=False.\n",
      "  eval_data = merge_eval_files(args.dev_output)\n"
     ]
    },
    {
     "name": "stdout",
     "output_type": "stream",
     "text": [
      "Epoch 11, Avg Loss is 0.015936948359012604, epoch top1 0.9666377816291161, max top1 0.9666377816291161\n"
     ]
    },
    {
     "name": "stderr",
     "output_type": "stream",
     "text": [
      "0it [00:00, ?it/s]/var/folders/qv/cxzpwz3j29x7n79vwpw253v80000gn/T/ipykernel_3197/3986128095.py:62: UserWarning: To copy construct from a tensor, it is recommended to use sourceTensor.clone().detach() or sourceTensor.clone().detach().requires_grad_(True), rather than torch.tensor(sourceTensor).\n",
      "  positive_feat = torch.tensor(batch[0].float())\n",
      "/var/folders/qv/cxzpwz3j29x7n79vwpw253v80000gn/T/ipykernel_3197/3986128095.py:63: UserWarning: To copy construct from a tensor, it is recommended to use sourceTensor.clone().detach() or sourceTensor.clone().detach().requires_grad_(True), rather than torch.tensor(sourceTensor).\n",
      "  negative_feat = torch.tensor(batch[1].float())\n",
      "198it [00:00, 616.70it/s]\n",
      "/var/folders/qv/cxzpwz3j29x7n79vwpw253v80000gn/T/ipykernel_3197/3986128095.py:74: DtypeWarning: Columns (29,30,34,36) have mixed types.Specify dtype option on import or set low_memory=False.\n",
      "  infer_scores(args.min_max_scaler_path, args.dev_path, args.dev_output, model)\n",
      "/var/folders/qv/cxzpwz3j29x7n79vwpw253v80000gn/T/ipykernel_3197/3986128095.py:74: DtypeWarning: Columns (29,30,34,36) have mixed types.Specify dtype option on import or set low_memory=False.\n",
      "  infer_scores(args.min_max_scaler_path, args.dev_path, args.dev_output, model)\n",
      "/var/folders/qv/cxzpwz3j29x7n79vwpw253v80000gn/T/ipykernel_3197/3986128095.py:75: DtypeWarning: Columns (29,30,34,36) have mixed types.Specify dtype option on import or set low_memory=False.\n",
      "  eval_data = merge_eval_files(args.dev_output)\n"
     ]
    },
    {
     "name": "stdout",
     "output_type": "stream",
     "text": [
      "Epoch 12, Avg Loss is 0.015599582344293594, epoch top1 0.9670710571923743, max top1 0.9670710571923743\n"
     ]
    },
    {
     "name": "stderr",
     "output_type": "stream",
     "text": [
      "0it [00:00, ?it/s]/var/folders/qv/cxzpwz3j29x7n79vwpw253v80000gn/T/ipykernel_3197/3986128095.py:62: UserWarning: To copy construct from a tensor, it is recommended to use sourceTensor.clone().detach() or sourceTensor.clone().detach().requires_grad_(True), rather than torch.tensor(sourceTensor).\n",
      "  positive_feat = torch.tensor(batch[0].float())\n",
      "/var/folders/qv/cxzpwz3j29x7n79vwpw253v80000gn/T/ipykernel_3197/3986128095.py:63: UserWarning: To copy construct from a tensor, it is recommended to use sourceTensor.clone().detach() or sourceTensor.clone().detach().requires_grad_(True), rather than torch.tensor(sourceTensor).\n",
      "  negative_feat = torch.tensor(batch[1].float())\n",
      "198it [00:00, 589.13it/s]\n",
      "/var/folders/qv/cxzpwz3j29x7n79vwpw253v80000gn/T/ipykernel_3197/3986128095.py:74: DtypeWarning: Columns (29,30,34,36) have mixed types.Specify dtype option on import or set low_memory=False.\n",
      "  infer_scores(args.min_max_scaler_path, args.dev_path, args.dev_output, model)\n",
      "/var/folders/qv/cxzpwz3j29x7n79vwpw253v80000gn/T/ipykernel_3197/3986128095.py:74: DtypeWarning: Columns (29,30,34,36) have mixed types.Specify dtype option on import or set low_memory=False.\n",
      "  infer_scores(args.min_max_scaler_path, args.dev_path, args.dev_output, model)\n",
      "/var/folders/qv/cxzpwz3j29x7n79vwpw253v80000gn/T/ipykernel_3197/3986128095.py:75: DtypeWarning: Columns (29,30,34,36) have mixed types.Specify dtype option on import or set low_memory=False.\n",
      "  eval_data = merge_eval_files(args.dev_output)\n"
     ]
    },
    {
     "name": "stdout",
     "output_type": "stream",
     "text": [
      "Epoch 13, Avg Loss is 0.015322128310799599, epoch top1 0.9666377816291161, max top1 0.9670710571923743\n"
     ]
    },
    {
     "name": "stderr",
     "output_type": "stream",
     "text": [
      "0it [00:00, ?it/s]/var/folders/qv/cxzpwz3j29x7n79vwpw253v80000gn/T/ipykernel_3197/3986128095.py:62: UserWarning: To copy construct from a tensor, it is recommended to use sourceTensor.clone().detach() or sourceTensor.clone().detach().requires_grad_(True), rather than torch.tensor(sourceTensor).\n",
      "  positive_feat = torch.tensor(batch[0].float())\n",
      "/var/folders/qv/cxzpwz3j29x7n79vwpw253v80000gn/T/ipykernel_3197/3986128095.py:63: UserWarning: To copy construct from a tensor, it is recommended to use sourceTensor.clone().detach() or sourceTensor.clone().detach().requires_grad_(True), rather than torch.tensor(sourceTensor).\n",
      "  negative_feat = torch.tensor(batch[1].float())\n",
      "198it [00:00, 636.45it/s]\n",
      "/var/folders/qv/cxzpwz3j29x7n79vwpw253v80000gn/T/ipykernel_3197/3986128095.py:74: DtypeWarning: Columns (29,30,34,36) have mixed types.Specify dtype option on import or set low_memory=False.\n",
      "  infer_scores(args.min_max_scaler_path, args.dev_path, args.dev_output, model)\n",
      "/var/folders/qv/cxzpwz3j29x7n79vwpw253v80000gn/T/ipykernel_3197/3986128095.py:74: DtypeWarning: Columns (29,30,34,36) have mixed types.Specify dtype option on import or set low_memory=False.\n",
      "  infer_scores(args.min_max_scaler_path, args.dev_path, args.dev_output, model)\n",
      "/var/folders/qv/cxzpwz3j29x7n79vwpw253v80000gn/T/ipykernel_3197/3986128095.py:75: DtypeWarning: Columns (29,30,34,36) have mixed types.Specify dtype option on import or set low_memory=False.\n",
      "  eval_data = merge_eval_files(args.dev_output)\n"
     ]
    },
    {
     "name": "stdout",
     "output_type": "stream",
     "text": [
      "Epoch 14, Avg Loss is 0.015140734612941742, epoch top1 0.9670710571923743, max top1 0.9670710571923743\n"
     ]
    },
    {
     "name": "stderr",
     "output_type": "stream",
     "text": [
      "0it [00:00, ?it/s]/var/folders/qv/cxzpwz3j29x7n79vwpw253v80000gn/T/ipykernel_3197/3986128095.py:62: UserWarning: To copy construct from a tensor, it is recommended to use sourceTensor.clone().detach() or sourceTensor.clone().detach().requires_grad_(True), rather than torch.tensor(sourceTensor).\n",
      "  positive_feat = torch.tensor(batch[0].float())\n",
      "/var/folders/qv/cxzpwz3j29x7n79vwpw253v80000gn/T/ipykernel_3197/3986128095.py:63: UserWarning: To copy construct from a tensor, it is recommended to use sourceTensor.clone().detach() or sourceTensor.clone().detach().requires_grad_(True), rather than torch.tensor(sourceTensor).\n",
      "  negative_feat = torch.tensor(batch[1].float())\n",
      "198it [00:00, 544.32it/s]\n",
      "/var/folders/qv/cxzpwz3j29x7n79vwpw253v80000gn/T/ipykernel_3197/3986128095.py:74: DtypeWarning: Columns (29,30,34,36) have mixed types.Specify dtype option on import or set low_memory=False.\n",
      "  infer_scores(args.min_max_scaler_path, args.dev_path, args.dev_output, model)\n",
      "/var/folders/qv/cxzpwz3j29x7n79vwpw253v80000gn/T/ipykernel_3197/3986128095.py:74: DtypeWarning: Columns (29,30,34,36) have mixed types.Specify dtype option on import or set low_memory=False.\n",
      "  infer_scores(args.min_max_scaler_path, args.dev_path, args.dev_output, model)\n",
      "/var/folders/qv/cxzpwz3j29x7n79vwpw253v80000gn/T/ipykernel_3197/3986128095.py:75: DtypeWarning: Columns (29,30,34,36) have mixed types.Specify dtype option on import or set low_memory=False.\n",
      "  eval_data = merge_eval_files(args.dev_output)\n"
     ]
    },
    {
     "name": "stdout",
     "output_type": "stream",
     "text": [
      "Epoch 15, Avg Loss is 0.014942130073904991, epoch top1 0.9670710571923743, max top1 0.9670710571923743\n"
     ]
    },
    {
     "name": "stderr",
     "output_type": "stream",
     "text": [
      "0it [00:00, ?it/s]/var/folders/qv/cxzpwz3j29x7n79vwpw253v80000gn/T/ipykernel_3197/3986128095.py:62: UserWarning: To copy construct from a tensor, it is recommended to use sourceTensor.clone().detach() or sourceTensor.clone().detach().requires_grad_(True), rather than torch.tensor(sourceTensor).\n",
      "  positive_feat = torch.tensor(batch[0].float())\n",
      "/var/folders/qv/cxzpwz3j29x7n79vwpw253v80000gn/T/ipykernel_3197/3986128095.py:63: UserWarning: To copy construct from a tensor, it is recommended to use sourceTensor.clone().detach() or sourceTensor.clone().detach().requires_grad_(True), rather than torch.tensor(sourceTensor).\n",
      "  negative_feat = torch.tensor(batch[1].float())\n",
      "198it [00:00, 523.83it/s]\n",
      "/var/folders/qv/cxzpwz3j29x7n79vwpw253v80000gn/T/ipykernel_3197/3986128095.py:74: DtypeWarning: Columns (29,30,34,36) have mixed types.Specify dtype option on import or set low_memory=False.\n",
      "  infer_scores(args.min_max_scaler_path, args.dev_path, args.dev_output, model)\n",
      "/var/folders/qv/cxzpwz3j29x7n79vwpw253v80000gn/T/ipykernel_3197/3986128095.py:74: DtypeWarning: Columns (29,30,34,36) have mixed types.Specify dtype option on import or set low_memory=False.\n",
      "  infer_scores(args.min_max_scaler_path, args.dev_path, args.dev_output, model)\n",
      "/var/folders/qv/cxzpwz3j29x7n79vwpw253v80000gn/T/ipykernel_3197/3986128095.py:75: DtypeWarning: Columns (29,30,34,36) have mixed types.Specify dtype option on import or set low_memory=False.\n",
      "  eval_data = merge_eval_files(args.dev_output)\n"
     ]
    },
    {
     "name": "stdout",
     "output_type": "stream",
     "text": [
      "Epoch 16, Avg Loss is 0.01479087583720684, epoch top1 0.9666377816291161, max top1 0.9670710571923743\n"
     ]
    },
    {
     "name": "stderr",
     "output_type": "stream",
     "text": [
      "0it [00:00, ?it/s]/var/folders/qv/cxzpwz3j29x7n79vwpw253v80000gn/T/ipykernel_3197/3986128095.py:62: UserWarning: To copy construct from a tensor, it is recommended to use sourceTensor.clone().detach() or sourceTensor.clone().detach().requires_grad_(True), rather than torch.tensor(sourceTensor).\n",
      "  positive_feat = torch.tensor(batch[0].float())\n",
      "/var/folders/qv/cxzpwz3j29x7n79vwpw253v80000gn/T/ipykernel_3197/3986128095.py:63: UserWarning: To copy construct from a tensor, it is recommended to use sourceTensor.clone().detach() or sourceTensor.clone().detach().requires_grad_(True), rather than torch.tensor(sourceTensor).\n",
      "  negative_feat = torch.tensor(batch[1].float())\n",
      "198it [00:00, 551.82it/s]\n",
      "/var/folders/qv/cxzpwz3j29x7n79vwpw253v80000gn/T/ipykernel_3197/3986128095.py:74: DtypeWarning: Columns (29,30,34,36) have mixed types.Specify dtype option on import or set low_memory=False.\n",
      "  infer_scores(args.min_max_scaler_path, args.dev_path, args.dev_output, model)\n",
      "/var/folders/qv/cxzpwz3j29x7n79vwpw253v80000gn/T/ipykernel_3197/3986128095.py:74: DtypeWarning: Columns (29,30,34,36) have mixed types.Specify dtype option on import or set low_memory=False.\n",
      "  infer_scores(args.min_max_scaler_path, args.dev_path, args.dev_output, model)\n",
      "/var/folders/qv/cxzpwz3j29x7n79vwpw253v80000gn/T/ipykernel_3197/3986128095.py:75: DtypeWarning: Columns (29,30,34,36) have mixed types.Specify dtype option on import or set low_memory=False.\n",
      "  eval_data = merge_eval_files(args.dev_output)\n"
     ]
    },
    {
     "name": "stdout",
     "output_type": "stream",
     "text": [
      "Epoch 17, Avg Loss is 0.014523069374263287, epoch top1 0.9675043327556326, max top1 0.9675043327556326\n"
     ]
    },
    {
     "name": "stderr",
     "output_type": "stream",
     "text": [
      "0it [00:00, ?it/s]/var/folders/qv/cxzpwz3j29x7n79vwpw253v80000gn/T/ipykernel_3197/3986128095.py:62: UserWarning: To copy construct from a tensor, it is recommended to use sourceTensor.clone().detach() or sourceTensor.clone().detach().requires_grad_(True), rather than torch.tensor(sourceTensor).\n",
      "  positive_feat = torch.tensor(batch[0].float())\n",
      "/var/folders/qv/cxzpwz3j29x7n79vwpw253v80000gn/T/ipykernel_3197/3986128095.py:63: UserWarning: To copy construct from a tensor, it is recommended to use sourceTensor.clone().detach() or sourceTensor.clone().detach().requires_grad_(True), rather than torch.tensor(sourceTensor).\n",
      "  negative_feat = torch.tensor(batch[1].float())\n",
      "198it [00:00, 475.37it/s]\n",
      "/var/folders/qv/cxzpwz3j29x7n79vwpw253v80000gn/T/ipykernel_3197/3986128095.py:74: DtypeWarning: Columns (29,30,34,36) have mixed types.Specify dtype option on import or set low_memory=False.\n",
      "  infer_scores(args.min_max_scaler_path, args.dev_path, args.dev_output, model)\n",
      "/var/folders/qv/cxzpwz3j29x7n79vwpw253v80000gn/T/ipykernel_3197/3986128095.py:74: DtypeWarning: Columns (29,30,34,36) have mixed types.Specify dtype option on import or set low_memory=False.\n",
      "  infer_scores(args.min_max_scaler_path, args.dev_path, args.dev_output, model)\n",
      "/var/folders/qv/cxzpwz3j29x7n79vwpw253v80000gn/T/ipykernel_3197/3986128095.py:75: DtypeWarning: Columns (29,30,34,36) have mixed types.Specify dtype option on import or set low_memory=False.\n",
      "  eval_data = merge_eval_files(args.dev_output)\n"
     ]
    },
    {
     "name": "stdout",
     "output_type": "stream",
     "text": [
      "Epoch 18, Avg Loss is 0.014347709715366364, epoch top1 0.9666377816291161, max top1 0.9675043327556326\n"
     ]
    },
    {
     "name": "stderr",
     "output_type": "stream",
     "text": [
      "0it [00:00, ?it/s]/var/folders/qv/cxzpwz3j29x7n79vwpw253v80000gn/T/ipykernel_3197/3986128095.py:62: UserWarning: To copy construct from a tensor, it is recommended to use sourceTensor.clone().detach() or sourceTensor.clone().detach().requires_grad_(True), rather than torch.tensor(sourceTensor).\n",
      "  positive_feat = torch.tensor(batch[0].float())\n",
      "/var/folders/qv/cxzpwz3j29x7n79vwpw253v80000gn/T/ipykernel_3197/3986128095.py:63: UserWarning: To copy construct from a tensor, it is recommended to use sourceTensor.clone().detach() or sourceTensor.clone().detach().requires_grad_(True), rather than torch.tensor(sourceTensor).\n",
      "  negative_feat = torch.tensor(batch[1].float())\n",
      "198it [00:00, 474.53it/s]\n",
      "/var/folders/qv/cxzpwz3j29x7n79vwpw253v80000gn/T/ipykernel_3197/3986128095.py:74: DtypeWarning: Columns (29,30,34,36) have mixed types.Specify dtype option on import or set low_memory=False.\n",
      "  infer_scores(args.min_max_scaler_path, args.dev_path, args.dev_output, model)\n",
      "/var/folders/qv/cxzpwz3j29x7n79vwpw253v80000gn/T/ipykernel_3197/3986128095.py:74: DtypeWarning: Columns (29,30,34,36) have mixed types.Specify dtype option on import or set low_memory=False.\n",
      "  infer_scores(args.min_max_scaler_path, args.dev_path, args.dev_output, model)\n",
      "/var/folders/qv/cxzpwz3j29x7n79vwpw253v80000gn/T/ipykernel_3197/3986128095.py:75: DtypeWarning: Columns (29,30,34,36) have mixed types.Specify dtype option on import or set low_memory=False.\n",
      "  eval_data = merge_eval_files(args.dev_output)\n"
     ]
    },
    {
     "name": "stdout",
     "output_type": "stream",
     "text": [
      "Epoch 19, Avg Loss is 0.0142440190538764, epoch top1 0.9670710571923743, max top1 0.9675043327556326\n"
     ]
    }
   ],
   "source": [
    "## Call Training\n",
    "best_model_path = train(training_args)"
   ]
  },
  {
   "cell_type": "code",
   "execution_count": 26,
   "id": "valuable-grain",
   "metadata": {},
   "outputs": [
    {
     "data": {
      "text/plain": [
       "'/Users/amandeep/Github/table-linker/data/SemTab2020/Round4/table-linker/dev-output/tbl-pipeline-nn/v26/saved_models/epoch_17_loss_0.014523069374263287_top1_0.9675043327556326.pth'"
      ]
     },
     "execution_count": 26,
     "metadata": {},
     "output_type": "execute_result"
    }
   ],
   "source": [
    "best_model_path"
   ]
  },
  {
   "cell_type": "markdown",
   "id": "industrial-holocaust",
   "metadata": {},
   "source": [
    "## Dev Prediction"
   ]
  },
  {
   "cell_type": "code",
   "execution_count": 27,
   "id": "surprising-beaver",
   "metadata": {},
   "outputs": [],
   "source": [
    "def dev_prediction(dev_feature_path, dev_predictions_top_k, saved_model, output_column, min_max_scaler_path, k=5):\n",
    "    for file in glob.glob(dev_feature_path + '/*.csv'):\n",
    "        filename = file.split(\"/\")[-1]\n",
    "        print(filename)\n",
    "        feature_str =  \",\".join(features)\n",
    "        if os.path.getsize(file) == 0:\n",
    "            continue\n",
    "        # location where the output generated by the predictions wil be stored.\n",
    "        dev_output = f\"{dev_predictions_top_k}/{filename}\"\n",
    "        !tl --log-file $tl_log_file predict-using-model $file -o $output_column \\\n",
    "            --features $feature_str \\\n",
    "            --ranking-model $saved_model \\\n",
    "            --normalization-factor $min_max_scaler_path \\\n",
    "            / get-kg-links -c $final_score_column -k $k --k-rows \\\n",
    "            > $dev_output"
   ]
  },
  {
   "cell_type": "code",
   "execution_count": 28,
   "id": "funny-single",
   "metadata": {},
   "outputs": [],
   "source": [
    "def add_color(dev_predictions_top_k, dev_colorized_path, score_column, k=5):\n",
    "    for file in glob.glob(dev_predictions_top_k + '/*.csv'):\n",
    "        filename = file.split(\"/\")[-1]\n",
    "        print(filename)\n",
    "        if os.path.getsize(file) == 0:\n",
    "                    continue\n",
    "                \n",
    "        dev_color_file = f\"{dev_colorized_path}/{filename[:-4]}.xlsx\"\n",
    "        !tl add-color $file -c \"$score_column,evaluation_label\" -k $k --output $dev_color_file"
   ]
  },
  {
   "cell_type": "code",
   "execution_count": 29,
   "id": "guided-merchandise",
   "metadata": {},
   "outputs": [],
   "source": [
    "def compute_metrics(dev_predictions_top_k, dev_predictions_metrics, score_column, k=5):\n",
    "    df_list = []\n",
    "    for file in glob.glob(dev_predictions_top_k + '/*.csv'):\n",
    "        filename = file.split(\"/\")[-1]\n",
    "        if os.path.getsize(file) == 0:\n",
    "                    continue\n",
    "                \n",
    "        dev_metrics_file = f\"{dev_predictions_metrics}/{filename}\"\n",
    "        !tl --log-file $tl_log_file metrics $file -k $k -c $score_column --tag $filename> $dev_metrics_file\n",
    "        df_list.append(pd.read_csv(dev_metrics_file))\n",
    "    return pd.concat(df_list)"
   ]
  },
  {
   "cell_type": "code",
   "execution_count": 30,
   "id": "1686c3e4-a7c0-49aa-9a7e-f9d80a2f6d09",
   "metadata": {},
   "outputs": [],
   "source": [
    "def compute_custom_metrics(dev_predictions_top_k):\n",
    "    df_list = []\n",
    "    for file in glob.glob(dev_predictions_top_k+\"/*.csv\"):\n",
    "        filename = file.split(\"/\")[-1]\n",
    "        print(filename)\n",
    "        if os.path.getsize(file) == 0:\n",
    "                    continue\n",
    "        df = pd.read_csv(file)\n",
    "        col_df = []\n",
    "        for col, coldf in df.groupby(by=[\"column\"]):\n",
    "            rows = 0\n",
    "            pgt_rows = 0\n",
    "            pgt_recall = 0\n",
    "            unignored_rows = 0\n",
    "            unignored_candidates = 0\n",
    "            unignored_correct = 0\n",
    "            ignored_correct = 0\n",
    "            kth_perc_rows = 0\n",
    "            kth_perc_correct = 0\n",
    "            kth_perc_candidates = 0\n",
    "            for row, rowdf in coldf.groupby(by=[\"row\"]):\n",
    "                rows += 1\n",
    "                p_count = rowdf[(rowdf[\"pseudo_gt\"] == 1)].shape[0]\n",
    "                if p_count > 0:\n",
    "                    pgt_rows += 1\n",
    "                p_recall = rowdf[((rowdf[\"pseudo_gt\"] == 1) & (rowdf[\"evaluation_label\"] == 1))].shape[0]\n",
    "                pgt_recall += p_recall\n",
    "                ignore_0_count = rowdf[rowdf[\"ignore_candidate\"] == 0].shape[0]\n",
    "                if ignore_0_count > 0:\n",
    "                    unignored_rows += 1\n",
    "                unignored_candidates += ignore_0_count\n",
    "                unignored_correct += rowdf[((rowdf[\"ignore_candidate\"] == 0) & (rowdf[\"evaluation_label\"] == 1))].shape[0]\n",
    "                ignored_correct += rowdf[((rowdf[\"ignore_candidate\"] == 1) & (rowdf[\"evaluation_label\"] == 1))].shape[0]\n",
    "                kth_perc_1_count = rowdf[rowdf[\"kth_percenter\"] == 1].shape[0]\n",
    "                if kth_perc_1_count > 0:\n",
    "                    kth_perc_rows += 1\n",
    "                kth_perc_candidates += kth_perc_1_count\n",
    "                kth_perc_correct += rowdf[((rowdf[\"kth_percenter\"] == 1) & (rowdf[\"evaluation_label\"] == 1))].shape[0]\n",
    "            unique_rows = coldf[\"label\"].nunique()\n",
    "            col_df.append(pd.DataFrame([{\n",
    "                \"filename\":filename,\n",
    "                \"column\": col,\n",
    "                \"rows\": rows,\n",
    "                \"unique_rows\": unique_rows,\n",
    "                \"pgt_rows\": pgt_rows,\n",
    "                \"pgt_recall\": pgt_recall,\n",
    "                \"pgt_accuracy\": pgt_recall/pgt_rows if pgt_rows!=0 else 0,\n",
    "                \"unignored_rows\": unignored_rows,\n",
    "                \"unignored_candidates\": unignored_candidates,\n",
    "                \"unignored_correct\": unignored_correct,\n",
    "                \"ignored_correct\": ignored_correct,\n",
    "                \"ignore_candidate_accuracy\": unignored_correct/unignored_rows if unignored_rows != 0 else 0,\n",
    "                \"kth_percenter_rows\": kth_perc_rows,\n",
    "                \"kth_percenter_candidates\": kth_perc_candidates,\n",
    "                \"kth_percenter_correct\": kth_perc_correct,\n",
    "                \"kth_percenter_accuracy\": kth_perc_correct/kth_perc_rows\n",
    "            }]))\n",
    "        df_list.append(pd.concat(col_df))\n",
    "    return pd.concat(df_list)"
   ]
  },
  {
   "cell_type": "code",
   "execution_count": 61,
   "id": "49d70a1a-ad8c-46bd-a63a-45a4431beee5",
   "metadata": {},
   "outputs": [
    {
     "data": {
      "text/plain": [
       "'/Users/amandeep/Github/table-linker/data/SemTab2020/Round4/table-linker/dev-output/tbl-pipeline-nn/v26/training_data/tl_pipeline_normalization_factor.pkl'"
      ]
     },
     "execution_count": 61,
     "metadata": {},
     "output_type": "execute_result"
    }
   ],
   "source": [
    "min_max_scaler_path"
   ]
  },
  {
   "cell_type": "code",
   "execution_count": 31,
   "id": "unavailable-clearance",
   "metadata": {},
   "outputs": [
    {
     "name": "stdout",
     "output_type": "stream",
     "text": [
      "4PKEEJU4.csv\n",
      "4DC5O5I4.csv\n",
      "58E7A5WL.csv\n",
      "0FQOOJPU.csv\n",
      "5IXA0RAI.csv\n",
      "0LF7RI6N.csv\n",
      "2PKG4E2V.csv\n",
      "50NWQJ1T.csv\n",
      "44NDHWR1.csv\n",
      "39W7XXTI.csv\n",
      "3WXFYEAX.csv\n",
      "28D7RBJT.csv\n",
      "1GUVMENF.csv\n",
      "0QWF60VG.csv\n",
      "3OCW1LDZ.csv\n",
      "4V4O0CTS.csv\n",
      "29D1VZHF.csv\n",
      "4FG1UN8O.csv\n",
      "0LZ0M8W4.csv\n",
      "3B54GZSX.csv\n",
      "1ZFRQBQS.csv\n",
      "0WBTX8LY.csv\n",
      "1NS33P8C.csv\n",
      "2TGNKH1P.csv\n",
      "53OUTCE4.csv\n",
      "5TJI4XTK.csv\n",
      "4DPRZWVL.csv\n",
      "080HU8A5.csv\n",
      "3OAZEVOY.csv\n",
      "13BLTPJD.csv\n",
      "3M5QXPWN.csv\n",
      "0G9YPQC0.csv\n",
      "1YPLVLS9.csv\n",
      "0CETTKTA.csv\n",
      "1GOKLC0K.csv\n",
      "2QFYH2N9.csv\n",
      "00ECUL14.csv\n",
      "2E6QBLCA.csv\n",
      "1T91CHXV.csv\n",
      "59W76Q0Y.csv\n",
      "5PKTGQ6Q.csv\n",
      "3JNFST2K.csv\n",
      "1XIWQBSF.csv\n",
      "2YCSL7OH.csv\n",
      "2FSRG0OI.csv\n",
      "0P8H49LQ.csv\n",
      "2FXR6BX7.csv\n",
      "1PTL0CX1.csv\n",
      "0TQXSY28.csv\n",
      "0JSF530F.csv\n"
     ]
    }
   ],
   "source": [
    "dev_prediction(dev_feature_path, dev_predictions_top_k, best_model_path, final_score_column, min_max_scaler_path, k=5)"
   ]
  },
  {
   "cell_type": "code",
   "execution_count": 38,
   "id": "advanced-contest",
   "metadata": {},
   "outputs": [],
   "source": [
    "metrics_df = compute_metrics(dev_predictions_top_k, dev_metrics_path, final_score_column, k=5)"
   ]
  },
  {
   "cell_type": "code",
   "execution_count": 39,
   "id": "thermal-assistant",
   "metadata": {},
   "outputs": [
    {
     "data": {
      "text/html": [
       "<div>\n",
       "<style scoped>\n",
       "    .dataframe tbody tr th:only-of-type {\n",
       "        vertical-align: middle;\n",
       "    }\n",
       "\n",
       "    .dataframe tbody tr th {\n",
       "        vertical-align: top;\n",
       "    }\n",
       "\n",
       "    .dataframe thead th {\n",
       "        text-align: right;\n",
       "    }\n",
       "</style>\n",
       "<table border=\"1\" class=\"dataframe\">\n",
       "  <thead>\n",
       "    <tr style=\"text-align: right;\">\n",
       "      <th></th>\n",
       "      <th>k</th>\n",
       "      <th>f1</th>\n",
       "      <th>precision</th>\n",
       "      <th>recall</th>\n",
       "      <th>column</th>\n",
       "      <th>tag</th>\n",
       "    </tr>\n",
       "  </thead>\n",
       "  <tbody>\n",
       "    <tr>\n",
       "      <th>0</th>\n",
       "      <td>5</td>\n",
       "      <td>1.000000</td>\n",
       "      <td>1.000000</td>\n",
       "      <td>1.0</td>\n",
       "      <td>0</td>\n",
       "      <td>4PKEEJU4.csv</td>\n",
       "    </tr>\n",
       "    <tr>\n",
       "      <th>1</th>\n",
       "      <td>5</td>\n",
       "      <td>1.000000</td>\n",
       "      <td>1.000000</td>\n",
       "      <td>1.0</td>\n",
       "      <td>1</td>\n",
       "      <td>4PKEEJU4.csv</td>\n",
       "    </tr>\n",
       "    <tr>\n",
       "      <th>2</th>\n",
       "      <td>5</td>\n",
       "      <td>1.000000</td>\n",
       "      <td>1.000000</td>\n",
       "      <td>1.0</td>\n",
       "      <td>2</td>\n",
       "      <td>4PKEEJU4.csv</td>\n",
       "    </tr>\n",
       "    <tr>\n",
       "      <th>0</th>\n",
       "      <td>5</td>\n",
       "      <td>1.000000</td>\n",
       "      <td>1.000000</td>\n",
       "      <td>1.0</td>\n",
       "      <td>0</td>\n",
       "      <td>4DC5O5I4.csv</td>\n",
       "    </tr>\n",
       "    <tr>\n",
       "      <th>0</th>\n",
       "      <td>5</td>\n",
       "      <td>0.926829</td>\n",
       "      <td>0.863636</td>\n",
       "      <td>1.0</td>\n",
       "      <td>0</td>\n",
       "      <td>58E7A5WL.csv</td>\n",
       "    </tr>\n",
       "    <tr>\n",
       "      <th>...</th>\n",
       "      <td>...</td>\n",
       "      <td>...</td>\n",
       "      <td>...</td>\n",
       "      <td>...</td>\n",
       "      <td>...</td>\n",
       "      <td>...</td>\n",
       "    </tr>\n",
       "    <tr>\n",
       "      <th>3</th>\n",
       "      <td>5</td>\n",
       "      <td>1.000000</td>\n",
       "      <td>1.000000</td>\n",
       "      <td>1.0</td>\n",
       "      <td>4</td>\n",
       "      <td>2FXR6BX7.csv</td>\n",
       "    </tr>\n",
       "    <tr>\n",
       "      <th>0</th>\n",
       "      <td>5</td>\n",
       "      <td>1.000000</td>\n",
       "      <td>1.000000</td>\n",
       "      <td>1.0</td>\n",
       "      <td>0</td>\n",
       "      <td>1PTL0CX1.csv</td>\n",
       "    </tr>\n",
       "    <tr>\n",
       "      <th>1</th>\n",
       "      <td>5</td>\n",
       "      <td>0.974359</td>\n",
       "      <td>0.950000</td>\n",
       "      <td>1.0</td>\n",
       "      <td>2</td>\n",
       "      <td>1PTL0CX1.csv</td>\n",
       "    </tr>\n",
       "    <tr>\n",
       "      <th>0</th>\n",
       "      <td>5</td>\n",
       "      <td>1.000000</td>\n",
       "      <td>1.000000</td>\n",
       "      <td>1.0</td>\n",
       "      <td>0</td>\n",
       "      <td>0TQXSY28.csv</td>\n",
       "    </tr>\n",
       "    <tr>\n",
       "      <th>0</th>\n",
       "      <td>5</td>\n",
       "      <td>1.000000</td>\n",
       "      <td>1.000000</td>\n",
       "      <td>1.0</td>\n",
       "      <td>0</td>\n",
       "      <td>0JSF530F.csv</td>\n",
       "    </tr>\n",
       "  </tbody>\n",
       "</table>\n",
       "<p>111 rows × 6 columns</p>\n",
       "</div>"
      ],
      "text/plain": [
       "    k        f1  precision  recall  column           tag\n",
       "0   5  1.000000   1.000000     1.0       0  4PKEEJU4.csv\n",
       "1   5  1.000000   1.000000     1.0       1  4PKEEJU4.csv\n",
       "2   5  1.000000   1.000000     1.0       2  4PKEEJU4.csv\n",
       "0   5  1.000000   1.000000     1.0       0  4DC5O5I4.csv\n",
       "0   5  0.926829   0.863636     1.0       0  58E7A5WL.csv\n",
       ".. ..       ...        ...     ...     ...           ...\n",
       "3   5  1.000000   1.000000     1.0       4  2FXR6BX7.csv\n",
       "0   5  1.000000   1.000000     1.0       0  1PTL0CX1.csv\n",
       "1   5  0.974359   0.950000     1.0       2  1PTL0CX1.csv\n",
       "0   5  1.000000   1.000000     1.0       0  0TQXSY28.csv\n",
       "0   5  1.000000   1.000000     1.0       0  0JSF530F.csv\n",
       "\n",
       "[111 rows x 6 columns]"
      ]
     },
     "execution_count": 39,
     "metadata": {},
     "output_type": "execute_result"
    }
   ],
   "source": [
    "metrics_df"
   ]
  },
  {
   "cell_type": "code",
   "execution_count": 44,
   "id": "covered-break",
   "metadata": {},
   "outputs": [],
   "source": [
    "metrics_df.to_csv(f\"{dev_metrics_path}/metrics_5.csv\", index=False)"
   ]
  },
  {
   "cell_type": "code",
   "execution_count": 41,
   "id": "6558e251-61fa-445f-9802-923fbbbce018",
   "metadata": {},
   "outputs": [
    {
     "data": {
      "text/plain": [
       "0.9753624297138684"
      ]
     },
     "execution_count": 41,
     "metadata": {},
     "output_type": "execute_result"
    }
   ],
   "source": [
    "metrics_df['f1'].mean()"
   ]
  },
  {
   "cell_type": "code",
   "execution_count": 42,
   "id": "f9bcd8be-dd14-4eec-aeb4-0efe88917997",
   "metadata": {},
   "outputs": [
    {
     "data": {
      "text/plain": [
       "0.9689103876603876"
      ]
     },
     "execution_count": 42,
     "metadata": {},
     "output_type": "execute_result"
    }
   ],
   "source": [
    "metrics_df['precision'].mean()"
   ]
  },
  {
   "cell_type": "code",
   "execution_count": 43,
   "id": "d9e1b790-1174-4cf7-888d-88bb82d5070f",
   "metadata": {},
   "outputs": [
    {
     "data": {
      "text/plain": [
       "0.9921921921921921"
      ]
     },
     "execution_count": 43,
     "metadata": {},
     "output_type": "execute_result"
    }
   ],
   "source": [
    "metrics_df['recall'].mean()"
   ]
  },
  {
   "cell_type": "code",
   "execution_count": 45,
   "id": "collective-rider",
   "metadata": {},
   "outputs": [
    {
     "name": "stdout",
     "output_type": "stream",
     "text": [
      "4PKEEJU4.csv\n",
      "add-color Time: 0.15696001052856445s\n",
      "4DC5O5I4.csv\n",
      "add-color Time: 0.08216977119445801s\n",
      "58E7A5WL.csv\n",
      "add-color Time: 0.1220247745513916s\n",
      "0FQOOJPU.csv\n",
      "add-color Time: 0.1384727954864502s\n",
      "5IXA0RAI.csv\n",
      "add-color Time: 0.08520293235778809s\n",
      "0LF7RI6N.csv\n",
      "add-color Time: 0.11289191246032715s\n",
      "2PKG4E2V.csv\n",
      "add-color Time: 0.17091608047485352s\n",
      "50NWQJ1T.csv\n",
      "add-color Time: 0.1406090259552002s\n",
      "44NDHWR1.csv\n",
      "add-color Time: 0.16513991355895996s\n",
      "39W7XXTI.csv\n",
      "add-color Time: 0.13980412483215332s\n",
      "3WXFYEAX.csv\n",
      "add-color Time: 0.07999324798583984s\n",
      "28D7RBJT.csv\n",
      "add-color Time: 0.11517214775085449s\n",
      "1GUVMENF.csv\n",
      "add-color Time: 0.08106207847595215s\n",
      "0QWF60VG.csv\n",
      "add-color Time: 0.15035700798034668s\n",
      "3OCW1LDZ.csv\n",
      "add-color Time: 0.13845205307006836s\n",
      "4V4O0CTS.csv\n",
      "add-color Time: 0.11144614219665527s\n",
      "29D1VZHF.csv\n",
      "add-color Time: 0.14304208755493164s\n",
      "4FG1UN8O.csv\n",
      "add-color Time: 0.1822950839996338s\n",
      "0LZ0M8W4.csv\n",
      "add-color Time: 0.15276432037353516s\n",
      "3B54GZSX.csv\n",
      "add-color Time: 0.14145374298095703s\n",
      "1ZFRQBQS.csv\n",
      "add-color Time: 0.19409584999084473s\n",
      "0WBTX8LY.csv\n",
      "add-color Time: 0.1398470401763916s\n",
      "1NS33P8C.csv\n",
      "add-color Time: 0.08197808265686035s\n",
      "2TGNKH1P.csv\n",
      "add-color Time: 0.12172079086303711s\n",
      "53OUTCE4.csv\n",
      "add-color Time: 0.1117861270904541s\n",
      "5TJI4XTK.csv\n",
      "add-color Time: 0.08053302764892578s\n",
      "4DPRZWVL.csv\n",
      "add-color Time: 0.08096718788146973s\n",
      "080HU8A5.csv\n",
      "add-color Time: 0.08196401596069336s\n",
      "3OAZEVOY.csv\n",
      "add-color Time: 0.1617450714111328s\n",
      "13BLTPJD.csv\n",
      "add-color Time: 0.15069103240966797s\n",
      "3M5QXPWN.csv\n",
      "add-color Time: 0.14502716064453125s\n",
      "0G9YPQC0.csv\n",
      "add-color Time: 0.1433560848236084s\n",
      "1YPLVLS9.csv\n",
      "add-color Time: 0.11243605613708496s\n",
      "0CETTKTA.csv\n",
      "add-color Time: 0.08883094787597656s\n",
      "1GOKLC0K.csv\n",
      "add-color Time: 0.15537571907043457s\n",
      "2QFYH2N9.csv\n",
      "add-color Time: 0.1611342430114746s\n",
      "00ECUL14.csv\n",
      "add-color Time: 0.12494897842407227s\n",
      "2E6QBLCA.csv\n",
      "add-color Time: 0.12560510635375977s\n",
      "1T91CHXV.csv\n",
      "add-color Time: 0.1620769500732422s\n",
      "59W76Q0Y.csv\n",
      "add-color Time: 0.10128998756408691s\n",
      "5PKTGQ6Q.csv\n",
      "add-color Time: 0.09933996200561523s\n",
      "3JNFST2K.csv\n",
      "add-color Time: 0.09858202934265137s\n",
      "1XIWQBSF.csv\n",
      "add-color Time: 0.1392369270324707s\n",
      "2YCSL7OH.csv\n",
      "add-color Time: 0.17448997497558594s\n",
      "2FSRG0OI.csv\n",
      "add-color Time: 0.6000711917877197s\n",
      "0P8H49LQ.csv\n",
      "add-color Time: 0.17873597145080566s\n",
      "2FXR6BX7.csv\n",
      "add-color Time: 0.20963382720947266s\n",
      "1PTL0CX1.csv\n",
      "add-color Time: 0.13228297233581543s\n",
      "0TQXSY28.csv\n",
      "add-color Time: 0.0952908992767334s\n",
      "0JSF530F.csv\n",
      "add-color Time: 0.09968900680541992s\n"
     ]
    }
   ],
   "source": [
    "add_color(dev_predictions_top_k, dev_colorized_path, final_score_column)"
   ]
  },
  {
   "cell_type": "code",
   "execution_count": 46,
   "id": "intellectual-migration",
   "metadata": {},
   "outputs": [],
   "source": [
    "def find_missing_correct_candidates(candidates_path, missing_correct_candidates_path):\n",
    "     for file in tqdm(glob.glob(candidates_path + '/*.csv')):\n",
    "        filename = file.split(\"/\")[-1]\n",
    "        if os.path.getsize(file) == 0:\n",
    "                    continue\n",
    "        missing_file = f\"{missing_correct_candidates_path}/{filename}\"\n",
    "        !tl check-candidates \"$file\" > \"$missing_file\""
   ]
  },
  {
   "cell_type": "code",
   "execution_count": 47,
   "id": "utility-swimming",
   "metadata": {},
   "outputs": [
    {
     "name": "stderr",
     "output_type": "stream",
     "text": [
      "  0%|                                                                                             | 0/51 [00:00<?, ?it/s]"
     ]
    },
    {
     "name": "stdout",
     "output_type": "stream",
     "text": [
      "check-candidates Time: 0.015120744705200195s\n"
     ]
    },
    {
     "name": "stderr",
     "output_type": "stream",
     "text": [
      "  2%|█▋                                                                                   | 1/51 [00:02<01:41,  2.04s/it]"
     ]
    },
    {
     "name": "stdout",
     "output_type": "stream",
     "text": [
      "check-candidates Time: 0.00684809684753418s\n"
     ]
    },
    {
     "name": "stderr",
     "output_type": "stream",
     "text": [
      "  4%|███▎                                                                                 | 2/51 [00:03<01:37,  1.98s/it]"
     ]
    },
    {
     "name": "stdout",
     "output_type": "stream",
     "text": [
      "check-candidates Time: 0.009343862533569336s\n"
     ]
    },
    {
     "name": "stderr",
     "output_type": "stream",
     "text": [
      "  6%|█████                                                                                | 3/51 [00:05<01:33,  1.94s/it]"
     ]
    },
    {
     "name": "stdout",
     "output_type": "stream",
     "text": [
      "check-candidates Time: 0.014483928680419922s\n"
     ]
    },
    {
     "name": "stderr",
     "output_type": "stream",
     "text": [
      "  8%|██████▋                                                                              | 4/51 [00:07<01:30,  1.93s/it]"
     ]
    },
    {
     "name": "stdout",
     "output_type": "stream",
     "text": [
      "check-candidates Time: 0.007596015930175781s\n"
     ]
    },
    {
     "name": "stderr",
     "output_type": "stream",
     "text": [
      " 10%|████████▎                                                                            | 5/51 [00:09<01:32,  2.00s/it]"
     ]
    },
    {
     "name": "stdout",
     "output_type": "stream",
     "text": [
      "check-candidates Time: 0.010015010833740234s\n"
     ]
    },
    {
     "name": "stderr",
     "output_type": "stream",
     "text": [
      " 12%|██████████                                                                           | 6/51 [00:12<01:40,  2.23s/it]"
     ]
    },
    {
     "name": "stdout",
     "output_type": "stream",
     "text": [
      "check-candidates Time: 0.01655888557434082s\n"
     ]
    },
    {
     "name": "stderr",
     "output_type": "stream",
     "text": [
      " 14%|███████████▋                                                                         | 7/51 [00:14<01:34,  2.14s/it]"
     ]
    },
    {
     "name": "stdout",
     "output_type": "stream",
     "text": [
      "check-candidates Time: 0.014980792999267578s\n"
     ]
    },
    {
     "name": "stderr",
     "output_type": "stream",
     "text": [
      " 16%|█████████████▎                                                                       | 8/51 [00:16<01:28,  2.05s/it]"
     ]
    },
    {
     "name": "stdout",
     "output_type": "stream",
     "text": [
      "check-candidates Time: 0.013702154159545898s\n"
     ]
    },
    {
     "name": "stderr",
     "output_type": "stream",
     "text": [
      " 18%|███████████████                                                                      | 9/51 [00:18<01:23,  1.99s/it]"
     ]
    },
    {
     "name": "stdout",
     "output_type": "stream",
     "text": [
      "check-candidates Time: 0.013150930404663086s\n"
     ]
    },
    {
     "name": "stderr",
     "output_type": "stream",
     "text": [
      " 20%|████████████████▍                                                                   | 10/51 [00:20<01:20,  1.97s/it]"
     ]
    },
    {
     "name": "stdout",
     "output_type": "stream",
     "text": [
      "check-candidates Time: 0.0056912899017333984s\n"
     ]
    },
    {
     "name": "stderr",
     "output_type": "stream",
     "text": [
      " 22%|██████████████████                                                                  | 11/51 [00:22<01:17,  1.93s/it]"
     ]
    },
    {
     "name": "stdout",
     "output_type": "stream",
     "text": [
      "check-candidates Time: 0.01045680046081543s\n"
     ]
    },
    {
     "name": "stderr",
     "output_type": "stream",
     "text": [
      " 24%|███████████████████▊                                                                | 12/51 [00:23<01:14,  1.92s/it]"
     ]
    },
    {
     "name": "stdout",
     "output_type": "stream",
     "text": [
      "check-candidates Time: 0.0063550472259521484s\n"
     ]
    },
    {
     "name": "stderr",
     "output_type": "stream",
     "text": [
      " 25%|█████████████████████▍                                                              | 13/51 [00:25<01:11,  1.89s/it]"
     ]
    },
    {
     "name": "stdout",
     "output_type": "stream",
     "text": [
      "check-candidates Time: 0.01483297348022461s\n"
     ]
    },
    {
     "name": "stderr",
     "output_type": "stream",
     "text": [
      " 27%|███████████████████████                                                             | 14/51 [00:27<01:09,  1.89s/it]"
     ]
    },
    {
     "name": "stdout",
     "output_type": "stream",
     "text": [
      "check-candidates Time: 0.01371908187866211s\n"
     ]
    },
    {
     "name": "stderr",
     "output_type": "stream",
     "text": [
      " 29%|████████████████████████▋                                                           | 15/51 [00:29<01:08,  1.89s/it]"
     ]
    },
    {
     "name": "stdout",
     "output_type": "stream",
     "text": [
      "check-candidates Time: 0.009701728820800781s\n"
     ]
    },
    {
     "name": "stderr",
     "output_type": "stream",
     "text": [
      " 31%|██████████████████████████▎                                                         | 16/51 [00:31<01:06,  1.91s/it]"
     ]
    },
    {
     "name": "stdout",
     "output_type": "stream",
     "text": [
      "check-candidates Time: 0.013426065444946289s\n"
     ]
    },
    {
     "name": "stderr",
     "output_type": "stream",
     "text": [
      " 33%|████████████████████████████                                                        | 17/51 [00:33<01:05,  1.93s/it]"
     ]
    },
    {
     "name": "stdout",
     "output_type": "stream",
     "text": [
      "check-candidates Time: 0.02143096923828125s\n"
     ]
    },
    {
     "name": "stderr",
     "output_type": "stream",
     "text": [
      " 35%|█████████████████████████████▋                                                      | 18/51 [00:35<01:04,  1.97s/it]"
     ]
    },
    {
     "name": "stdout",
     "output_type": "stream",
     "text": [
      "check-candidates Time: 0.015302896499633789s\n"
     ]
    },
    {
     "name": "stderr",
     "output_type": "stream",
     "text": [
      " 37%|███████████████████████████████▎                                                    | 19/51 [00:37<01:03,  1.98s/it]"
     ]
    },
    {
     "name": "stdout",
     "output_type": "stream",
     "text": [
      "check-candidates Time: 0.014188051223754883s\n"
     ]
    },
    {
     "name": "stderr",
     "output_type": "stream",
     "text": [
      " 39%|████████████████████████████████▉                                                   | 20/51 [00:39<01:01,  1.98s/it]"
     ]
    },
    {
     "name": "stdout",
     "output_type": "stream",
     "text": [
      "check-candidates Time: 0.022070884704589844s\n"
     ]
    },
    {
     "name": "stderr",
     "output_type": "stream",
     "text": [
      " 41%|██████████████████████████████████▌                                                 | 21/51 [00:41<01:00,  2.02s/it]"
     ]
    },
    {
     "name": "stdout",
     "output_type": "stream",
     "text": [
      "check-candidates Time: 0.015531063079833984s\n"
     ]
    },
    {
     "name": "stderr",
     "output_type": "stream",
     "text": [
      " 43%|████████████████████████████████████▏                                               | 22/51 [00:43<00:58,  2.02s/it]"
     ]
    },
    {
     "name": "stdout",
     "output_type": "stream",
     "text": [
      "check-candidates Time: 0.008213996887207031s\n"
     ]
    },
    {
     "name": "stderr",
     "output_type": "stream",
     "text": [
      " 45%|█████████████████████████████████████▉                                              | 23/51 [00:45<00:56,  2.00s/it]"
     ]
    },
    {
     "name": "stdout",
     "output_type": "stream",
     "text": [
      "check-candidates Time: 0.00939321517944336s\n"
     ]
    },
    {
     "name": "stderr",
     "output_type": "stream",
     "text": [
      " 47%|███████████████████████████████████████▌                                            | 24/51 [00:47<00:53,  2.00s/it]"
     ]
    },
    {
     "name": "stdout",
     "output_type": "stream",
     "text": [
      "check-candidates Time: 0.009939908981323242s\n"
     ]
    },
    {
     "name": "stderr",
     "output_type": "stream",
     "text": [
      " 49%|█████████████████████████████████████████▏                                          | 25/51 [00:49<00:51,  1.99s/it]"
     ]
    },
    {
     "name": "stdout",
     "output_type": "stream",
     "text": [
      "check-candidates Time: 0.0072557926177978516s\n"
     ]
    },
    {
     "name": "stderr",
     "output_type": "stream",
     "text": [
      " 51%|██████████████████████████████████████████▊                                         | 26/51 [00:51<00:49,  2.00s/it]"
     ]
    },
    {
     "name": "stdout",
     "output_type": "stream",
     "text": [
      "check-candidates Time: 0.0072040557861328125s\n"
     ]
    },
    {
     "name": "stderr",
     "output_type": "stream",
     "text": [
      " 53%|████████████████████████████████████████████▍                                       | 27/51 [00:53<00:47,  2.00s/it]"
     ]
    },
    {
     "name": "stdout",
     "output_type": "stream",
     "text": [
      "check-candidates Time: 0.006994962692260742s\n"
     ]
    },
    {
     "name": "stderr",
     "output_type": "stream",
     "text": [
      " 57%|███████████████████████████████████████████████▊                                    | 29/51 [00:55<00:33,  1.53s/it]"
     ]
    },
    {
     "name": "stdout",
     "output_type": "stream",
     "text": [
      "check-candidates Time: 0.017525911331176758s\n"
     ]
    },
    {
     "name": "stderr",
     "output_type": "stream",
     "text": [
      " 59%|█████████████████████████████████████████████████▍                                  | 30/51 [00:57<00:35,  1.68s/it]"
     ]
    },
    {
     "name": "stdout",
     "output_type": "stream",
     "text": [
      "check-candidates Time: 0.014647960662841797s\n"
     ]
    },
    {
     "name": "stderr",
     "output_type": "stream",
     "text": [
      " 61%|███████████████████████████████████████████████████                                 | 31/51 [00:59<00:35,  1.79s/it]"
     ]
    },
    {
     "name": "stdout",
     "output_type": "stream",
     "text": [
      "check-candidates Time: 0.014877796173095703s\n"
     ]
    },
    {
     "name": "stderr",
     "output_type": "stream",
     "text": [
      " 63%|████████████████████████████████████████████████████▋                               | 32/51 [01:01<00:35,  1.87s/it]"
     ]
    },
    {
     "name": "stdout",
     "output_type": "stream",
     "text": [
      "check-candidates Time: 0.014448881149291992s\n"
     ]
    },
    {
     "name": "stderr",
     "output_type": "stream",
     "text": [
      " 65%|██████████████████████████████████████████████████████▎                             | 33/51 [01:03<00:34,  1.93s/it]"
     ]
    },
    {
     "name": "stdout",
     "output_type": "stream",
     "text": [
      "check-candidates Time: 0.009922027587890625s\n"
     ]
    },
    {
     "name": "stderr",
     "output_type": "stream",
     "text": [
      " 67%|████████████████████████████████████████████████████████                            | 34/51 [01:05<00:33,  1.97s/it]"
     ]
    },
    {
     "name": "stdout",
     "output_type": "stream",
     "text": [
      "check-candidates Time: 0.006505012512207031s\n"
     ]
    },
    {
     "name": "stderr",
     "output_type": "stream",
     "text": [
      " 69%|█████████████████████████████████████████████████████████▋                          | 35/51 [01:07<00:31,  1.97s/it]"
     ]
    },
    {
     "name": "stdout",
     "output_type": "stream",
     "text": [
      "check-candidates Time: 0.013756275177001953s\n"
     ]
    },
    {
     "name": "stderr",
     "output_type": "stream",
     "text": [
      " 71%|███████████████████████████████████████████████████████████▎                        | 36/51 [01:10<00:29,  1.99s/it]"
     ]
    },
    {
     "name": "stdout",
     "output_type": "stream",
     "text": [
      "check-candidates Time: 0.013275861740112305s\n"
     ]
    },
    {
     "name": "stderr",
     "output_type": "stream",
     "text": [
      " 73%|████████████████████████████████████████████████████████████▉                       | 37/51 [01:12<00:28,  2.00s/it]"
     ]
    },
    {
     "name": "stdout",
     "output_type": "stream",
     "text": [
      "check-candidates Time: 0.010723114013671875s\n"
     ]
    },
    {
     "name": "stderr",
     "output_type": "stream",
     "text": [
      " 75%|██████████████████████████████████████████████████████████████▌                     | 38/51 [01:14<00:26,  2.03s/it]"
     ]
    },
    {
     "name": "stdout",
     "output_type": "stream",
     "text": [
      "check-candidates Time: 0.010086297988891602s\n"
     ]
    },
    {
     "name": "stderr",
     "output_type": "stream",
     "text": [
      " 76%|████████████████████████████████████████████████████████████████▏                   | 39/51 [01:16<00:24,  2.03s/it]"
     ]
    },
    {
     "name": "stdout",
     "output_type": "stream",
     "text": [
      "check-candidates Time: 0.014948129653930664s\n"
     ]
    },
    {
     "name": "stderr",
     "output_type": "stream",
     "text": [
      " 78%|█████████████████████████████████████████████████████████████████▉                  | 40/51 [01:18<00:22,  2.04s/it]"
     ]
    },
    {
     "name": "stdout",
     "output_type": "stream",
     "text": [
      "check-candidates Time: 0.006591081619262695s\n"
     ]
    },
    {
     "name": "stderr",
     "output_type": "stream",
     "text": [
      " 80%|███████████████████████████████████████████████████████████████████▌                | 41/51 [01:20<00:20,  2.02s/it]"
     ]
    },
    {
     "name": "stdout",
     "output_type": "stream",
     "text": [
      "check-candidates Time: 0.006756782531738281s\n"
     ]
    },
    {
     "name": "stderr",
     "output_type": "stream",
     "text": [
      " 82%|█████████████████████████████████████████████████████████████████████▏              | 42/51 [01:22<00:18,  2.01s/it]"
     ]
    },
    {
     "name": "stdout",
     "output_type": "stream",
     "text": [
      "check-candidates Time: 0.007161855697631836s\n"
     ]
    },
    {
     "name": "stderr",
     "output_type": "stream",
     "text": [
      " 84%|██████████████████████████████████████████████████████████████████████▊             | 43/51 [01:24<00:16,  2.00s/it]"
     ]
    },
    {
     "name": "stdout",
     "output_type": "stream",
     "text": [
      "check-candidates Time: 0.009467840194702148s\n"
     ]
    },
    {
     "name": "stderr",
     "output_type": "stream",
     "text": [
      " 86%|████████████████████████████████████████████████████████████████████████▍           | 44/51 [01:26<00:14,  2.01s/it]"
     ]
    },
    {
     "name": "stdout",
     "output_type": "stream",
     "text": [
      "check-candidates Time: 0.013165950775146484s\n"
     ]
    },
    {
     "name": "stderr",
     "output_type": "stream",
     "text": [
      " 88%|██████████████████████████████████████████████████████████████████████████          | 45/51 [01:28<00:12,  2.03s/it]"
     ]
    },
    {
     "name": "stdout",
     "output_type": "stream",
     "text": [
      "check-candidates Time: 0.006736040115356445s\n"
     ]
    },
    {
     "name": "stderr",
     "output_type": "stream",
     "text": [
      " 90%|███████████████████████████████████████████████████████████████████████████▊        | 46/51 [01:30<00:10,  2.01s/it]"
     ]
    },
    {
     "name": "stdout",
     "output_type": "stream",
     "text": [
      "check-candidates Time: 0.015265941619873047s\n"
     ]
    },
    {
     "name": "stderr",
     "output_type": "stream",
     "text": [
      " 92%|█████████████████████████████████████████████████████████████████████████████▍      | 47/51 [01:32<00:08,  2.03s/it]"
     ]
    },
    {
     "name": "stdout",
     "output_type": "stream",
     "text": [
      "check-candidates Time: 0.01887798309326172s\n"
     ]
    },
    {
     "name": "stderr",
     "output_type": "stream",
     "text": [
      " 94%|███████████████████████████████████████████████████████████████████████████████     | 48/51 [01:34<00:06,  2.06s/it]"
     ]
    },
    {
     "name": "stdout",
     "output_type": "stream",
     "text": [
      "check-candidates Time: 0.009651899337768555s\n"
     ]
    },
    {
     "name": "stderr",
     "output_type": "stream",
     "text": [
      " 96%|████████████████████████████████████████████████████████████████████████████████▋   | 49/51 [01:36<00:04,  2.05s/it]"
     ]
    },
    {
     "name": "stdout",
     "output_type": "stream",
     "text": [
      "check-candidates Time: 0.006526947021484375s\n"
     ]
    },
    {
     "name": "stderr",
     "output_type": "stream",
     "text": [
      " 98%|██████████████████████████████████████████████████████████████████████████████████▎ | 50/51 [01:38<00:02,  2.03s/it]"
     ]
    },
    {
     "name": "stdout",
     "output_type": "stream",
     "text": [
      "check-candidates Time: 0.0066852569580078125s\n"
     ]
    },
    {
     "name": "stderr",
     "output_type": "stream",
     "text": [
      "100%|████████████████████████████████████████████████████████████████████████████████████| 51/51 [01:40<00:00,  1.97s/it]\n"
     ]
    }
   ],
   "source": [
    "find_missing_correct_candidates(dev_candidate_path, dev_missing_candidates_path)"
   ]
  },
  {
   "cell_type": "code",
   "execution_count": 48,
   "id": "compound-affairs",
   "metadata": {},
   "outputs": [],
   "source": [
    "def concat_files(files_path):\n",
    "    df_list = []\n",
    "    for file in glob.glob(files_path + '/*.csv'):\n",
    "        filename = file.split(\"/\")[-1]\n",
    "        print(filename)\n",
    "        if os.path.getsize(file) == 0:\n",
    "                    continue\n",
    "        df = pd.read_csv(file)\n",
    "        df['filename'] = filename\n",
    "        df_list.append(df)\n",
    "    return pd.concat(df_list)"
   ]
  },
  {
   "cell_type": "code",
   "execution_count": 49,
   "id": "delayed-mixture",
   "metadata": {},
   "outputs": [
    {
     "name": "stdout",
     "output_type": "stream",
     "text": [
      "4PKEEJU4.csv\n",
      "4DC5O5I4.csv\n",
      "58E7A5WL.csv\n",
      "0FQOOJPU.csv\n",
      "5IXA0RAI.csv\n",
      "0LF7RI6N.csv\n",
      "2PKG4E2V.csv\n",
      "50NWQJ1T.csv\n",
      "44NDHWR1.csv\n",
      "39W7XXTI.csv\n",
      "3WXFYEAX.csv\n",
      "28D7RBJT.csv\n",
      "1GUVMENF.csv\n",
      "0QWF60VG.csv\n",
      "3OCW1LDZ.csv\n",
      "4V4O0CTS.csv\n",
      "29D1VZHF.csv\n",
      "4FG1UN8O.csv\n",
      "0LZ0M8W4.csv\n",
      "3B54GZSX.csv\n",
      "1ZFRQBQS.csv\n",
      "0WBTX8LY.csv\n",
      "1NS33P8C.csv\n",
      "2TGNKH1P.csv\n",
      "53OUTCE4.csv\n",
      "5TJI4XTK.csv\n",
      "4DPRZWVL.csv\n",
      "080HU8A5.csv\n",
      "3OAZEVOY.csv\n",
      "13BLTPJD.csv\n",
      "3M5QXPWN.csv\n",
      "0G9YPQC0.csv\n",
      "1YPLVLS9.csv\n",
      "0CETTKTA.csv\n",
      "1GOKLC0K.csv\n",
      "2QFYH2N9.csv\n",
      "00ECUL14.csv\n",
      "2E6QBLCA.csv\n",
      "1T91CHXV.csv\n",
      "59W76Q0Y.csv\n",
      "5PKTGQ6Q.csv\n",
      "3JNFST2K.csv\n",
      "1XIWQBSF.csv\n",
      "2YCSL7OH.csv\n",
      "2FSRG0OI.csv\n",
      "0P8H49LQ.csv\n",
      "2FXR6BX7.csv\n",
      "1PTL0CX1.csv\n",
      "0TQXSY28.csv\n",
      "0JSF530F.csv\n"
     ]
    }
   ],
   "source": [
    "missing_df = concat_files(dev_missing_candidates_path)"
   ]
  },
  {
   "cell_type": "code",
   "execution_count": 50,
   "id": "clinical-genre",
   "metadata": {},
   "outputs": [
    {
     "data": {
      "text/plain": [
       "18"
      ]
     },
     "execution_count": 50,
     "metadata": {},
     "output_type": "execute_result"
    }
   ],
   "source": [
    "len(missing_df)"
   ]
  },
  {
   "cell_type": "code",
   "execution_count": 51,
   "id": "exotic-process",
   "metadata": {},
   "outputs": [],
   "source": [
    "missing_df.to_csv(f\"{dev_missing_candidates_path}/missing_concatenated.csv\", index=False)"
   ]
  },
  {
   "cell_type": "code",
   "execution_count": 52,
   "id": "unexpected-convert",
   "metadata": {},
   "outputs": [
    {
     "name": "stderr",
     "output_type": "stream",
     "text": [
      "  0%|                                                                                            | 0/301 [00:00<?, ?it/s]"
     ]
    },
    {
     "name": "stdout",
     "output_type": "stream",
     "text": [
      "check-candidates Time: 0.006678104400634766s\n"
     ]
    },
    {
     "name": "stderr",
     "output_type": "stream",
     "text": [
      "  0%|▎                                                                                   | 1/301 [00:01<09:58,  1.99s/it]"
     ]
    },
    {
     "name": "stdout",
     "output_type": "stream",
     "text": [
      "check-candidates Time: 0.00661778450012207s\n"
     ]
    },
    {
     "name": "stderr",
     "output_type": "stream",
     "text": [
      "  1%|▌                                                                                   | 2/301 [00:03<09:56,  1.99s/it]"
     ]
    },
    {
     "name": "stdout",
     "output_type": "stream",
     "text": [
      "check-candidates Time: 0.013777971267700195s\n"
     ]
    },
    {
     "name": "stderr",
     "output_type": "stream",
     "text": [
      "  1%|▊                                                                                   | 3/301 [00:06<11:41,  2.35s/it]"
     ]
    },
    {
     "name": "stdout",
     "output_type": "stream",
     "text": [
      "check-candidates Time: 0.0075588226318359375s\n"
     ]
    },
    {
     "name": "stderr",
     "output_type": "stream",
     "text": [
      "  1%|█                                                                                   | 4/301 [00:08<11:16,  2.28s/it]"
     ]
    },
    {
     "name": "stdout",
     "output_type": "stream",
     "text": [
      "check-candidates Time: 0.015742063522338867s\n"
     ]
    },
    {
     "name": "stderr",
     "output_type": "stream",
     "text": [
      "  2%|█▍                                                                                  | 5/301 [00:12<13:25,  2.72s/it]"
     ]
    },
    {
     "name": "stdout",
     "output_type": "stream",
     "text": [
      "check-candidates Time: 0.006270885467529297s\n"
     ]
    },
    {
     "name": "stderr",
     "output_type": "stream",
     "text": [
      "  2%|█▋                                                                                  | 6/301 [00:15<13:52,  2.82s/it]"
     ]
    },
    {
     "name": "stdout",
     "output_type": "stream",
     "text": [
      "check-candidates Time: 0.014338970184326172s\n"
     ]
    },
    {
     "name": "stderr",
     "output_type": "stream",
     "text": [
      "  2%|█▉                                                                                  | 7/301 [00:19<16:03,  3.28s/it]"
     ]
    },
    {
     "name": "stdout",
     "output_type": "stream",
     "text": [
      "check-candidates Time: 0.019932270050048828s\n"
     ]
    },
    {
     "name": "stderr",
     "output_type": "stream",
     "text": [
      "  3%|██▏                                                                                 | 8/301 [00:23<16:38,  3.41s/it]"
     ]
    },
    {
     "name": "stdout",
     "output_type": "stream",
     "text": [
      "check-candidates Time: 0.014601945877075195s\n"
     ]
    },
    {
     "name": "stderr",
     "output_type": "stream",
     "text": [
      "  3%|██▌                                                                                 | 9/301 [00:25<15:01,  3.09s/it]"
     ]
    },
    {
     "name": "stdout",
     "output_type": "stream",
     "text": [
      "check-candidates Time: 0.01908087730407715s\n"
     ]
    },
    {
     "name": "stderr",
     "output_type": "stream",
     "text": [
      "  3%|██▊                                                                                | 10/301 [00:27<13:25,  2.77s/it]"
     ]
    },
    {
     "name": "stdout",
     "output_type": "stream",
     "text": [
      "check-candidates Time: 0.006455898284912109s\n"
     ]
    },
    {
     "name": "stderr",
     "output_type": "stream",
     "text": [
      "  4%|███                                                                                | 11/301 [00:29<12:02,  2.49s/it]"
     ]
    },
    {
     "name": "stdout",
     "output_type": "stream",
     "text": [
      "check-candidates Time: 0.009213924407958984s\n"
     ]
    },
    {
     "name": "stderr",
     "output_type": "stream",
     "text": [
      "  4%|███▎                                                                               | 12/301 [00:31<11:02,  2.29s/it]"
     ]
    },
    {
     "name": "stdout",
     "output_type": "stream",
     "text": [
      "check-candidates Time: 0.006175994873046875s\n"
     ]
    },
    {
     "name": "stderr",
     "output_type": "stream",
     "text": [
      "  4%|███▌                                                                               | 13/301 [00:33<10:20,  2.15s/it]"
     ]
    },
    {
     "name": "stdout",
     "output_type": "stream",
     "text": [
      "check-candidates Time: 0.009590864181518555s\n"
     ]
    },
    {
     "name": "stderr",
     "output_type": "stream",
     "text": [
      "  5%|███▊                                                                               | 14/301 [00:35<09:57,  2.08s/it]"
     ]
    },
    {
     "name": "stdout",
     "output_type": "stream",
     "text": [
      "check-candidates Time: 0.008269786834716797s\n"
     ]
    },
    {
     "name": "stderr",
     "output_type": "stream",
     "text": [
      "  5%|████▏                                                                              | 15/301 [00:37<10:29,  2.20s/it]"
     ]
    },
    {
     "name": "stdout",
     "output_type": "stream",
     "text": [
      "check-candidates Time: 0.014837026596069336s\n"
     ]
    },
    {
     "name": "stderr",
     "output_type": "stream",
     "text": [
      "  5%|████▍                                                                              | 16/301 [00:40<11:22,  2.40s/it]"
     ]
    },
    {
     "name": "stdout",
     "output_type": "stream",
     "text": [
      "check-candidates Time: 0.006695747375488281s\n"
     ]
    },
    {
     "name": "stderr",
     "output_type": "stream",
     "text": [
      "  6%|████▋                                                                              | 17/301 [00:42<10:38,  2.25s/it]"
     ]
    },
    {
     "name": "stdout",
     "output_type": "stream",
     "text": [
      "check-candidates Time: 0.00991368293762207s\n"
     ]
    },
    {
     "name": "stderr",
     "output_type": "stream",
     "text": [
      "  6%|████▉                                                                              | 18/301 [00:44<10:09,  2.15s/it]"
     ]
    },
    {
     "name": "stdout",
     "output_type": "stream",
     "text": [
      "check-candidates Time: 0.009876012802124023s\n"
     ]
    },
    {
     "name": "stderr",
     "output_type": "stream",
     "text": [
      "  6%|█████▏                                                                             | 19/301 [00:46<09:46,  2.08s/it]"
     ]
    },
    {
     "name": "stdout",
     "output_type": "stream",
     "text": [
      "check-candidates Time: 0.006788015365600586s\n"
     ]
    },
    {
     "name": "stderr",
     "output_type": "stream",
     "text": [
      "  7%|█████▌                                                                             | 20/301 [00:48<09:32,  2.04s/it]"
     ]
    },
    {
     "name": "stdout",
     "output_type": "stream",
     "text": [
      "check-candidates Time: 0.010779857635498047s\n"
     ]
    },
    {
     "name": "stderr",
     "output_type": "stream",
     "text": [
      "  7%|█████▊                                                                             | 21/301 [00:50<09:22,  2.01s/it]"
     ]
    },
    {
     "name": "stdout",
     "output_type": "stream",
     "text": [
      "check-candidates Time: 0.019073009490966797s\n"
     ]
    },
    {
     "name": "stderr",
     "output_type": "stream",
     "text": [
      "  7%|██████                                                                             | 22/301 [00:52<09:18,  2.00s/it]"
     ]
    },
    {
     "name": "stdout",
     "output_type": "stream",
     "text": [
      "check-candidates Time: 0.013478994369506836s\n"
     ]
    },
    {
     "name": "stderr",
     "output_type": "stream",
     "text": [
      "  8%|██████▎                                                                            | 23/301 [00:54<09:14,  1.99s/it]"
     ]
    },
    {
     "name": "stdout",
     "output_type": "stream",
     "text": [
      "check-candidates Time: 0.00921487808227539s\n"
     ]
    },
    {
     "name": "stderr",
     "output_type": "stream",
     "text": [
      "  8%|██████▌                                                                            | 24/301 [00:56<09:06,  1.97s/it]"
     ]
    },
    {
     "name": "stdout",
     "output_type": "stream",
     "text": [
      "check-candidates Time: 0.013473033905029297s\n"
     ]
    },
    {
     "name": "stderr",
     "output_type": "stream",
     "text": [
      "  8%|██████▉                                                                            | 25/301 [00:58<09:01,  1.96s/it]"
     ]
    },
    {
     "name": "stdout",
     "output_type": "stream",
     "text": [
      "check-candidates Time: 0.006871700286865234s\n"
     ]
    },
    {
     "name": "stderr",
     "output_type": "stream",
     "text": [
      "  9%|███████▏                                                                           | 26/301 [00:59<08:59,  1.96s/it]"
     ]
    },
    {
     "name": "stdout",
     "output_type": "stream",
     "text": [
      "check-candidates Time: 0.0067920684814453125s\n"
     ]
    },
    {
     "name": "stderr",
     "output_type": "stream",
     "text": [
      "  9%|███████▍                                                                           | 27/301 [01:01<08:52,  1.94s/it]"
     ]
    },
    {
     "name": "stdout",
     "output_type": "stream",
     "text": [
      "check-candidates Time: 0.0076389312744140625s\n"
     ]
    },
    {
     "name": "stderr",
     "output_type": "stream",
     "text": [
      "  9%|███████▋                                                                           | 28/301 [01:03<08:44,  1.92s/it]"
     ]
    },
    {
     "name": "stdout",
     "output_type": "stream",
     "text": [
      "check-candidates Time: 0.006763935089111328s\n"
     ]
    },
    {
     "name": "stderr",
     "output_type": "stream",
     "text": [
      " 10%|███████▉                                                                           | 29/301 [01:05<08:41,  1.92s/it]"
     ]
    },
    {
     "name": "stdout",
     "output_type": "stream",
     "text": [
      "check-candidates Time: 0.006331920623779297s\n"
     ]
    },
    {
     "name": "stderr",
     "output_type": "stream",
     "text": [
      " 10%|████████▎                                                                          | 30/301 [01:07<08:38,  1.91s/it]"
     ]
    },
    {
     "name": "stdout",
     "output_type": "stream",
     "text": [
      "check-candidates Time: 0.006623983383178711s\n"
     ]
    },
    {
     "name": "stderr",
     "output_type": "stream",
     "text": [
      " 10%|████████▌                                                                          | 31/301 [01:09<08:38,  1.92s/it]"
     ]
    },
    {
     "name": "stdout",
     "output_type": "stream",
     "text": [
      "check-candidates Time: 0.011671781539916992s\n"
     ]
    },
    {
     "name": "stderr",
     "output_type": "stream",
     "text": [
      " 11%|████████▊                                                                          | 32/301 [01:11<08:38,  1.93s/it]"
     ]
    },
    {
     "name": "stdout",
     "output_type": "stream",
     "text": [
      "check-candidates Time: 0.010152101516723633s\n"
     ]
    },
    {
     "name": "stderr",
     "output_type": "stream",
     "text": [
      " 11%|█████████                                                                          | 33/301 [01:13<08:40,  1.94s/it]"
     ]
    },
    {
     "name": "stdout",
     "output_type": "stream",
     "text": [
      "check-candidates Time: 0.017447948455810547s\n"
     ]
    },
    {
     "name": "stderr",
     "output_type": "stream",
     "text": [
      " 11%|█████████▍                                                                         | 34/301 [01:15<08:45,  1.97s/it]"
     ]
    },
    {
     "name": "stdout",
     "output_type": "stream",
     "text": [
      "check-candidates Time: 0.016777992248535156s\n"
     ]
    },
    {
     "name": "stderr",
     "output_type": "stream",
     "text": [
      " 12%|█████████▋                                                                         | 35/301 [01:17<08:45,  1.98s/it]"
     ]
    },
    {
     "name": "stdout",
     "output_type": "stream",
     "text": [
      "check-candidates Time: 0.0062901973724365234s\n"
     ]
    },
    {
     "name": "stderr",
     "output_type": "stream",
     "text": [
      " 12%|██████████▏                                                                        | 37/301 [01:19<06:37,  1.51s/it]"
     ]
    },
    {
     "name": "stdout",
     "output_type": "stream",
     "text": [
      "check-candidates Time: 0.02493000030517578s\n"
     ]
    },
    {
     "name": "stderr",
     "output_type": "stream",
     "text": [
      " 13%|██████████▍                                                                        | 38/301 [01:21<07:13,  1.65s/it]"
     ]
    },
    {
     "name": "stdout",
     "output_type": "stream",
     "text": [
      "check-candidates Time: 0.013124942779541016s\n"
     ]
    },
    {
     "name": "stderr",
     "output_type": "stream",
     "text": [
      " 13%|██████████▊                                                                        | 39/301 [01:23<07:34,  1.73s/it]"
     ]
    },
    {
     "name": "stdout",
     "output_type": "stream",
     "text": [
      "check-candidates Time: 0.009830951690673828s\n"
     ]
    },
    {
     "name": "stderr",
     "output_type": "stream",
     "text": [
      " 13%|███████████                                                                        | 40/301 [01:25<07:45,  1.78s/it]"
     ]
    },
    {
     "name": "stdout",
     "output_type": "stream",
     "text": [
      "check-candidates Time: 0.013827800750732422s\n"
     ]
    },
    {
     "name": "stderr",
     "output_type": "stream",
     "text": [
      " 14%|███████████▎                                                                       | 41/301 [01:27<07:56,  1.83s/it]"
     ]
    },
    {
     "name": "stdout",
     "output_type": "stream",
     "text": [
      "check-candidates Time: 0.01824498176574707s\n"
     ]
    },
    {
     "name": "stderr",
     "output_type": "stream",
     "text": [
      " 14%|███████████▌                                                                       | 42/301 [01:29<08:09,  1.89s/it]"
     ]
    },
    {
     "name": "stdout",
     "output_type": "stream",
     "text": [
      "check-candidates Time: 0.010042190551757812s\n"
     ]
    },
    {
     "name": "stderr",
     "output_type": "stream",
     "text": [
      " 14%|███████████▊                                                                       | 43/301 [01:31<08:14,  1.92s/it]"
     ]
    },
    {
     "name": "stdout",
     "output_type": "stream",
     "text": [
      "check-candidates Time: 0.007531881332397461s\n"
     ]
    },
    {
     "name": "stderr",
     "output_type": "stream",
     "text": [
      " 15%|████████████▏                                                                      | 44/301 [01:34<10:19,  2.41s/it]"
     ]
    },
    {
     "name": "stdout",
     "output_type": "stream",
     "text": [
      "check-candidates Time: 0.007710933685302734s\n"
     ]
    },
    {
     "name": "stderr",
     "output_type": "stream",
     "text": [
      " 15%|████████████▍                                                                      | 45/301 [01:37<10:00,  2.35s/it]"
     ]
    },
    {
     "name": "stdout",
     "output_type": "stream",
     "text": [
      "check-candidates Time: 0.01061105728149414s\n"
     ]
    },
    {
     "name": "stderr",
     "output_type": "stream",
     "text": [
      " 15%|████████████▋                                                                      | 46/301 [01:39<09:46,  2.30s/it]"
     ]
    },
    {
     "name": "stdout",
     "output_type": "stream",
     "text": [
      "check-candidates Time: 0.01458883285522461s\n"
     ]
    },
    {
     "name": "stderr",
     "output_type": "stream",
     "text": [
      " 16%|████████████▉                                                                      | 47/301 [01:41<09:35,  2.27s/it]"
     ]
    },
    {
     "name": "stdout",
     "output_type": "stream",
     "text": [
      "check-candidates Time: 0.006540060043334961s\n"
     ]
    },
    {
     "name": "stderr",
     "output_type": "stream",
     "text": [
      " 16%|█████████████▏                                                                     | 48/301 [01:43<09:21,  2.22s/it]"
     ]
    },
    {
     "name": "stdout",
     "output_type": "stream",
     "text": [
      "check-candidates Time: 0.008779048919677734s\n"
     ]
    },
    {
     "name": "stderr",
     "output_type": "stream",
     "text": [
      " 16%|█████████████▌                                                                     | 49/301 [01:45<09:10,  2.19s/it]"
     ]
    },
    {
     "name": "stdout",
     "output_type": "stream",
     "text": [
      "check-candidates Time: 0.007324934005737305s\n"
     ]
    },
    {
     "name": "stderr",
     "output_type": "stream",
     "text": [
      " 17%|█████████████▊                                                                     | 50/301 [01:47<08:59,  2.15s/it]"
     ]
    },
    {
     "name": "stdout",
     "output_type": "stream",
     "text": [
      "check-candidates Time: 0.015044212341308594s\n"
     ]
    },
    {
     "name": "stderr",
     "output_type": "stream",
     "text": [
      " 17%|██████████████                                                                     | 51/301 [01:49<08:53,  2.14s/it]"
     ]
    },
    {
     "name": "stdout",
     "output_type": "stream",
     "text": [
      "check-candidates Time: 0.0071527957916259766s\n"
     ]
    },
    {
     "name": "stderr",
     "output_type": "stream",
     "text": [
      " 17%|██████████████▎                                                                    | 52/301 [01:51<08:44,  2.11s/it]"
     ]
    },
    {
     "name": "stdout",
     "output_type": "stream",
     "text": [
      "check-candidates Time: 0.014754056930541992s\n"
     ]
    },
    {
     "name": "stderr",
     "output_type": "stream",
     "text": [
      " 18%|██████████████▌                                                                    | 53/301 [01:54<08:49,  2.14s/it]"
     ]
    },
    {
     "name": "stdout",
     "output_type": "stream",
     "text": [
      "check-candidates Time: 0.007128238677978516s\n"
     ]
    },
    {
     "name": "stderr",
     "output_type": "stream",
     "text": [
      " 18%|██████████████▉                                                                    | 54/301 [01:56<08:40,  2.11s/it]"
     ]
    },
    {
     "name": "stdout",
     "output_type": "stream",
     "text": [
      "check-candidates Time: 0.007401943206787109s\n"
     ]
    },
    {
     "name": "stderr",
     "output_type": "stream",
     "text": [
      " 18%|███████████████▏                                                                   | 55/301 [01:58<08:33,  2.09s/it]"
     ]
    },
    {
     "name": "stdout",
     "output_type": "stream",
     "text": [
      "check-candidates Time: 0.014726877212524414s\n"
     ]
    },
    {
     "name": "stderr",
     "output_type": "stream",
     "text": [
      " 19%|███████████████▍                                                                   | 56/301 [02:00<08:37,  2.11s/it]"
     ]
    },
    {
     "name": "stdout",
     "output_type": "stream",
     "text": [
      "check-candidates Time: 0.016597270965576172s\n"
     ]
    },
    {
     "name": "stderr",
     "output_type": "stream",
     "text": [
      " 19%|███████████████▋                                                                   | 57/301 [02:02<08:50,  2.18s/it]"
     ]
    },
    {
     "name": "stdout",
     "output_type": "stream",
     "text": [
      "check-candidates Time: 0.01285099983215332s\n"
     ]
    },
    {
     "name": "stderr",
     "output_type": "stream",
     "text": [
      " 19%|███████████████▉                                                                   | 58/301 [02:04<08:49,  2.18s/it]"
     ]
    },
    {
     "name": "stdout",
     "output_type": "stream",
     "text": [
      "check-candidates Time: 0.010675907135009766s\n"
     ]
    },
    {
     "name": "stderr",
     "output_type": "stream",
     "text": [
      " 20%|████████████████▎                                                                  | 59/301 [02:07<08:49,  2.19s/it]"
     ]
    },
    {
     "name": "stdout",
     "output_type": "stream",
     "text": [
      "check-candidates Time: 0.012224912643432617s\n"
     ]
    },
    {
     "name": "stderr",
     "output_type": "stream",
     "text": [
      " 20%|████████████████▌                                                                  | 60/301 [02:09<08:44,  2.18s/it]"
     ]
    },
    {
     "name": "stdout",
     "output_type": "stream",
     "text": [
      "check-candidates Time: 0.007546901702880859s\n"
     ]
    },
    {
     "name": "stderr",
     "output_type": "stream",
     "text": [
      " 20%|████████████████▊                                                                  | 61/301 [02:11<08:40,  2.17s/it]"
     ]
    },
    {
     "name": "stdout",
     "output_type": "stream",
     "text": [
      "check-candidates Time: 0.012372970581054688s\n"
     ]
    },
    {
     "name": "stderr",
     "output_type": "stream",
     "text": [
      " 21%|█████████████████                                                                  | 62/301 [02:13<08:48,  2.21s/it]"
     ]
    },
    {
     "name": "stdout",
     "output_type": "stream",
     "text": [
      "check-candidates Time: 0.008149862289428711s\n"
     ]
    },
    {
     "name": "stderr",
     "output_type": "stream",
     "text": [
      " 21%|█████████████████▎                                                                 | 63/301 [02:15<08:37,  2.17s/it]"
     ]
    },
    {
     "name": "stdout",
     "output_type": "stream",
     "text": [
      "check-candidates Time: 0.007035732269287109s\n"
     ]
    },
    {
     "name": "stderr",
     "output_type": "stream",
     "text": [
      " 21%|█████████████████▋                                                                 | 64/301 [02:17<08:30,  2.16s/it]"
     ]
    },
    {
     "name": "stdout",
     "output_type": "stream",
     "text": [
      "check-candidates Time: 0.015942811965942383s\n"
     ]
    },
    {
     "name": "stderr",
     "output_type": "stream",
     "text": [
      " 22%|█████████████████▉                                                                 | 65/301 [02:20<08:32,  2.17s/it]"
     ]
    },
    {
     "name": "stdout",
     "output_type": "stream",
     "text": [
      "check-candidates Time: 0.014154911041259766s\n"
     ]
    },
    {
     "name": "stderr",
     "output_type": "stream",
     "text": [
      " 22%|██████████████████▏                                                                | 66/301 [02:22<08:31,  2.18s/it]"
     ]
    },
    {
     "name": "stdout",
     "output_type": "stream",
     "text": [
      "check-candidates Time: 0.006373882293701172s\n"
     ]
    },
    {
     "name": "stderr",
     "output_type": "stream",
     "text": [
      " 22%|██████████████████▍                                                                | 67/301 [02:24<08:56,  2.29s/it]"
     ]
    },
    {
     "name": "stdout",
     "output_type": "stream",
     "text": [
      "check-candidates Time: 0.015223026275634766s\n"
     ]
    },
    {
     "name": "stderr",
     "output_type": "stream",
     "text": [
      " 23%|██████████████████▊                                                                | 68/301 [02:27<09:41,  2.50s/it]"
     ]
    },
    {
     "name": "stdout",
     "output_type": "stream",
     "text": [
      "check-candidates Time: 0.01087498664855957s\n"
     ]
    },
    {
     "name": "stderr",
     "output_type": "stream",
     "text": [
      " 23%|███████████████████                                                                | 69/301 [02:29<09:10,  2.37s/it]"
     ]
    },
    {
     "name": "stdout",
     "output_type": "stream",
     "text": [
      "check-candidates Time: 0.008020877838134766s\n"
     ]
    },
    {
     "name": "stderr",
     "output_type": "stream",
     "text": [
      " 23%|███████████████████▎                                                               | 70/301 [02:32<09:52,  2.57s/it]"
     ]
    },
    {
     "name": "stdout",
     "output_type": "stream",
     "text": [
      "check-candidates Time: 0.008027791976928711s\n"
     ]
    },
    {
     "name": "stderr",
     "output_type": "stream",
     "text": [
      " 24%|███████████████████▌                                                               | 71/301 [02:37<12:25,  3.24s/it]"
     ]
    },
    {
     "name": "stdout",
     "output_type": "stream",
     "text": [
      "check-candidates Time: 0.010525226593017578s\n"
     ]
    },
    {
     "name": "stderr",
     "output_type": "stream",
     "text": [
      " 24%|███████████████████▊                                                               | 72/301 [02:40<12:07,  3.17s/it]"
     ]
    },
    {
     "name": "stdout",
     "output_type": "stream",
     "text": [
      "check-candidates Time: 0.0074880123138427734s\n"
     ]
    },
    {
     "name": "stderr",
     "output_type": "stream",
     "text": [
      " 24%|████████████████████▏                                                              | 73/301 [02:43<12:04,  3.18s/it]"
     ]
    },
    {
     "name": "stdout",
     "output_type": "stream",
     "text": [
      "check-candidates Time: 0.007658958435058594s\n"
     ]
    },
    {
     "name": "stderr",
     "output_type": "stream",
     "text": [
      " 25%|████████████████████▍                                                              | 74/301 [02:48<13:01,  3.44s/it]"
     ]
    },
    {
     "name": "stdout",
     "output_type": "stream",
     "text": [
      "check-candidates Time: 0.007208347320556641s\n"
     ]
    },
    {
     "name": "stderr",
     "output_type": "stream",
     "text": [
      " 25%|████████████████████▋                                                              | 75/301 [02:51<12:28,  3.31s/it]"
     ]
    },
    {
     "name": "stdout",
     "output_type": "stream",
     "text": [
      "check-candidates Time: 0.007440090179443359s\n"
     ]
    },
    {
     "name": "stderr",
     "output_type": "stream",
     "text": [
      " 25%|████████████████████▉                                                              | 76/301 [02:53<11:02,  2.95s/it]"
     ]
    },
    {
     "name": "stdout",
     "output_type": "stream",
     "text": [
      "check-candidates Time: 0.009859800338745117s\n"
     ]
    },
    {
     "name": "stderr",
     "output_type": "stream",
     "text": [
      " 26%|█████████████████████▏                                                             | 77/301 [02:55<10:36,  2.84s/it]"
     ]
    },
    {
     "name": "stdout",
     "output_type": "stream",
     "text": [
      "check-candidates Time: 0.006936073303222656s\n"
     ]
    },
    {
     "name": "stderr",
     "output_type": "stream",
     "text": [
      " 26%|█████████████████████▊                                                             | 79/301 [02:58<08:01,  2.17s/it]"
     ]
    },
    {
     "name": "stdout",
     "output_type": "stream",
     "text": [
      "check-candidates Time: 0.006941795349121094s\n"
     ]
    },
    {
     "name": "stderr",
     "output_type": "stream",
     "text": [
      " 27%|██████████████████████                                                             | 80/301 [03:00<07:52,  2.14s/it]"
     ]
    },
    {
     "name": "stdout",
     "output_type": "stream",
     "text": [
      "check-candidates Time: 0.01558828353881836s\n"
     ]
    },
    {
     "name": "stderr",
     "output_type": "stream",
     "text": [
      " 27%|██████████████████████▎                                                            | 81/301 [03:02<07:48,  2.13s/it]"
     ]
    },
    {
     "name": "stdout",
     "output_type": "stream",
     "text": [
      "check-candidates Time: 0.0077168941497802734s\n"
     ]
    },
    {
     "name": "stderr",
     "output_type": "stream",
     "text": [
      " 27%|██████████████████████▌                                                            | 82/301 [03:04<07:47,  2.14s/it]"
     ]
    },
    {
     "name": "stdout",
     "output_type": "stream",
     "text": [
      "check-candidates Time: 0.012838125228881836s\n"
     ]
    },
    {
     "name": "stderr",
     "output_type": "stream",
     "text": [
      " 28%|██████████████████████▉                                                            | 83/301 [03:07<07:53,  2.17s/it]"
     ]
    },
    {
     "name": "stdout",
     "output_type": "stream",
     "text": [
      "check-candidates Time: 0.007216930389404297s\n"
     ]
    },
    {
     "name": "stderr",
     "output_type": "stream",
     "text": [
      " 28%|███████████████████████▏                                                           | 84/301 [03:09<07:50,  2.17s/it]"
     ]
    },
    {
     "name": "stdout",
     "output_type": "stream",
     "text": [
      "check-candidates Time: 0.006958961486816406s\n"
     ]
    },
    {
     "name": "stderr",
     "output_type": "stream",
     "text": [
      " 28%|███████████████████████▍                                                           | 85/301 [03:11<07:49,  2.17s/it]"
     ]
    },
    {
     "name": "stdout",
     "output_type": "stream",
     "text": [
      "check-candidates Time: 0.016028165817260742s\n"
     ]
    },
    {
     "name": "stderr",
     "output_type": "stream",
     "text": [
      " 29%|███████████████████████▋                                                           | 86/301 [03:13<07:55,  2.21s/it]"
     ]
    },
    {
     "name": "stdout",
     "output_type": "stream",
     "text": [
      "check-candidates Time: 0.01129007339477539s\n"
     ]
    },
    {
     "name": "stderr",
     "output_type": "stream",
     "text": [
      " 29%|███████████████████████▉                                                           | 87/301 [03:15<07:55,  2.22s/it]"
     ]
    },
    {
     "name": "stdout",
     "output_type": "stream",
     "text": [
      "check-candidates Time: 0.012475013732910156s\n"
     ]
    },
    {
     "name": "stderr",
     "output_type": "stream",
     "text": [
      " 29%|████████████████████████▎                                                          | 88/301 [03:18<07:56,  2.24s/it]"
     ]
    },
    {
     "name": "stdout",
     "output_type": "stream",
     "text": [
      "check-candidates Time: 0.006620168685913086s\n"
     ]
    },
    {
     "name": "stderr",
     "output_type": "stream",
     "text": [
      " 30%|████████████████████████▌                                                          | 89/301 [03:20<07:46,  2.20s/it]"
     ]
    },
    {
     "name": "stdout",
     "output_type": "stream",
     "text": [
      "check-candidates Time: 0.014117956161499023s\n"
     ]
    },
    {
     "name": "stderr",
     "output_type": "stream",
     "text": [
      " 30%|████████████████████████▊                                                          | 90/301 [03:22<07:36,  2.17s/it]"
     ]
    },
    {
     "name": "stdout",
     "output_type": "stream",
     "text": [
      "check-candidates Time: 0.013332843780517578s\n"
     ]
    },
    {
     "name": "stderr",
     "output_type": "stream",
     "text": [
      " 30%|█████████████████████████                                                          | 91/301 [03:24<07:29,  2.14s/it]"
     ]
    },
    {
     "name": "stdout",
     "output_type": "stream",
     "text": [
      "check-candidates Time: 0.012488365173339844s\n"
     ]
    },
    {
     "name": "stderr",
     "output_type": "stream",
     "text": [
      " 31%|█████████████████████████▎                                                         | 92/301 [03:26<07:21,  2.11s/it]"
     ]
    },
    {
     "name": "stdout",
     "output_type": "stream",
     "text": [
      "check-candidates Time: 0.0185699462890625s\n"
     ]
    },
    {
     "name": "stderr",
     "output_type": "stream",
     "text": [
      " 31%|█████████████████████████▋                                                         | 93/301 [03:28<07:18,  2.11s/it]"
     ]
    },
    {
     "name": "stdout",
     "output_type": "stream",
     "text": [
      "check-candidates Time: 0.011321067810058594s\n"
     ]
    },
    {
     "name": "stderr",
     "output_type": "stream",
     "text": [
      " 31%|█████████████████████████▉                                                         | 94/301 [03:30<07:13,  2.10s/it]"
     ]
    },
    {
     "name": "stdout",
     "output_type": "stream",
     "text": [
      "check-candidates Time: 0.016419172286987305s\n"
     ]
    },
    {
     "name": "stderr",
     "output_type": "stream",
     "text": [
      " 32%|██████████████████████████▏                                                        | 95/301 [03:32<07:18,  2.13s/it]"
     ]
    },
    {
     "name": "stdout",
     "output_type": "stream",
     "text": [
      "check-candidates Time: 0.010319232940673828s\n"
     ]
    },
    {
     "name": "stderr",
     "output_type": "stream",
     "text": [
      " 32%|██████████████████████████▍                                                        | 96/301 [03:34<07:12,  2.11s/it]"
     ]
    },
    {
     "name": "stdout",
     "output_type": "stream",
     "text": [
      "check-candidates Time: 0.006723880767822266s\n"
     ]
    },
    {
     "name": "stderr",
     "output_type": "stream",
     "text": [
      " 32%|██████████████████████████▋                                                        | 97/301 [03:36<07:03,  2.08s/it]"
     ]
    },
    {
     "name": "stdout",
     "output_type": "stream",
     "text": [
      "check-candidates Time: 0.01398611068725586s\n"
     ]
    },
    {
     "name": "stderr",
     "output_type": "stream",
     "text": [
      " 33%|███████████████████████████                                                        | 98/301 [03:39<07:15,  2.14s/it]"
     ]
    },
    {
     "name": "stdout",
     "output_type": "stream",
     "text": [
      "check-candidates Time: 0.01040506362915039s\n"
     ]
    },
    {
     "name": "stderr",
     "output_type": "stream",
     "text": [
      " 33%|███████████████████████████▎                                                       | 99/301 [03:41<07:07,  2.12s/it]"
     ]
    },
    {
     "name": "stdout",
     "output_type": "stream",
     "text": [
      "check-candidates Time: 0.0071468353271484375s\n"
     ]
    },
    {
     "name": "stderr",
     "output_type": "stream",
     "text": [
      " 33%|███████████████████████████▏                                                      | 100/301 [03:43<07:01,  2.10s/it]"
     ]
    },
    {
     "name": "stdout",
     "output_type": "stream",
     "text": [
      "check-candidates Time: 0.017953157424926758s\n"
     ]
    },
    {
     "name": "stderr",
     "output_type": "stream",
     "text": [
      " 34%|███████████████████████████▌                                                      | 101/301 [03:45<07:03,  2.12s/it]"
     ]
    },
    {
     "name": "stdout",
     "output_type": "stream",
     "text": [
      "check-candidates Time: 0.007305145263671875s\n"
     ]
    },
    {
     "name": "stderr",
     "output_type": "stream",
     "text": [
      " 34%|███████████████████████████▊                                                      | 102/301 [03:47<06:57,  2.10s/it]"
     ]
    },
    {
     "name": "stdout",
     "output_type": "stream",
     "text": [
      "check-candidates Time: 0.01076817512512207s\n"
     ]
    },
    {
     "name": "stderr",
     "output_type": "stream",
     "text": [
      " 34%|████████████████████████████                                                      | 103/301 [03:49<06:58,  2.11s/it]"
     ]
    },
    {
     "name": "stdout",
     "output_type": "stream",
     "text": [
      "check-candidates Time: 0.018203258514404297s\n"
     ]
    },
    {
     "name": "stderr",
     "output_type": "stream",
     "text": [
      " 35%|████████████████████████████▎                                                     | 104/301 [03:51<07:00,  2.14s/it]"
     ]
    },
    {
     "name": "stdout",
     "output_type": "stream",
     "text": [
      "check-candidates Time: 0.007257699966430664s\n"
     ]
    },
    {
     "name": "stderr",
     "output_type": "stream",
     "text": [
      " 35%|████████████████████████████▌                                                     | 105/301 [03:54<06:54,  2.12s/it]"
     ]
    },
    {
     "name": "stdout",
     "output_type": "stream",
     "text": [
      "check-candidates Time: 0.016885995864868164s\n"
     ]
    },
    {
     "name": "stderr",
     "output_type": "stream",
     "text": [
      " 35%|████████████████████████████▉                                                     | 106/301 [03:56<06:53,  2.12s/it]"
     ]
    },
    {
     "name": "stdout",
     "output_type": "stream",
     "text": [
      "check-candidates Time: 0.010536909103393555s\n"
     ]
    },
    {
     "name": "stderr",
     "output_type": "stream",
     "text": [
      " 36%|█████████████████████████████▏                                                    | 107/301 [03:58<06:50,  2.12s/it]"
     ]
    },
    {
     "name": "stdout",
     "output_type": "stream",
     "text": [
      "check-candidates Time: 0.007404804229736328s\n"
     ]
    },
    {
     "name": "stderr",
     "output_type": "stream",
     "text": [
      " 36%|█████████████████████████████▍                                                    | 108/301 [04:00<06:49,  2.12s/it]"
     ]
    },
    {
     "name": "stdout",
     "output_type": "stream",
     "text": [
      "check-candidates Time: 0.011909246444702148s\n"
     ]
    },
    {
     "name": "stderr",
     "output_type": "stream",
     "text": [
      " 36%|█████████████████████████████▋                                                    | 109/301 [04:02<06:48,  2.13s/it]"
     ]
    },
    {
     "name": "stdout",
     "output_type": "stream",
     "text": [
      "check-candidates Time: 0.007766008377075195s\n"
     ]
    },
    {
     "name": "stderr",
     "output_type": "stream",
     "text": [
      " 37%|█████████████████████████████▉                                                    | 110/301 [04:04<06:44,  2.12s/it]"
     ]
    },
    {
     "name": "stdout",
     "output_type": "stream",
     "text": [
      "check-candidates Time: 0.014393091201782227s\n"
     ]
    },
    {
     "name": "stderr",
     "output_type": "stream",
     "text": [
      " 37%|██████████████████████████████▏                                                   | 111/301 [04:06<06:44,  2.13s/it]"
     ]
    },
    {
     "name": "stdout",
     "output_type": "stream",
     "text": [
      "check-candidates Time: 0.016366958618164062s\n"
     ]
    },
    {
     "name": "stderr",
     "output_type": "stream",
     "text": [
      " 37%|██████████████████████████████▌                                                   | 112/301 [04:08<06:45,  2.15s/it]"
     ]
    },
    {
     "name": "stdout",
     "output_type": "stream",
     "text": [
      "check-candidates Time: 0.010225772857666016s\n"
     ]
    },
    {
     "name": "stderr",
     "output_type": "stream",
     "text": [
      " 38%|██████████████████████████████▊                                                   | 113/301 [04:11<06:42,  2.14s/it]"
     ]
    },
    {
     "name": "stdout",
     "output_type": "stream",
     "text": [
      "check-candidates Time: 0.011055946350097656s\n"
     ]
    },
    {
     "name": "stderr",
     "output_type": "stream",
     "text": [
      " 38%|███████████████████████████████                                                   | 114/301 [04:13<06:36,  2.12s/it]"
     ]
    },
    {
     "name": "stdout",
     "output_type": "stream",
     "text": [
      "check-candidates Time: 0.010912179946899414s\n"
     ]
    },
    {
     "name": "stderr",
     "output_type": "stream",
     "text": [
      " 38%|███████████████████████████████▎                                                  | 115/301 [04:15<06:32,  2.11s/it]"
     ]
    },
    {
     "name": "stdout",
     "output_type": "stream",
     "text": [
      "check-candidates Time: 0.007293224334716797s\n"
     ]
    },
    {
     "name": "stderr",
     "output_type": "stream",
     "text": [
      " 39%|███████████████████████████████▌                                                  | 116/301 [04:17<06:24,  2.08s/it]"
     ]
    },
    {
     "name": "stdout",
     "output_type": "stream",
     "text": [
      "check-candidates Time: 0.006765127182006836s\n"
     ]
    },
    {
     "name": "stderr",
     "output_type": "stream",
     "text": [
      " 39%|███████████████████████████████▊                                                  | 117/301 [04:19<06:17,  2.05s/it]"
     ]
    },
    {
     "name": "stdout",
     "output_type": "stream",
     "text": [
      "check-candidates Time: 0.007776975631713867s\n"
     ]
    },
    {
     "name": "stderr",
     "output_type": "stream",
     "text": [
      " 39%|████████████████████████████████▏                                                 | 118/301 [04:21<06:10,  2.03s/it]"
     ]
    },
    {
     "name": "stdout",
     "output_type": "stream",
     "text": [
      "check-candidates Time: 0.013241767883300781s\n"
     ]
    },
    {
     "name": "stderr",
     "output_type": "stream",
     "text": [
      " 40%|████████████████████████████████▍                                                 | 119/301 [04:23<06:08,  2.02s/it]"
     ]
    },
    {
     "name": "stdout",
     "output_type": "stream",
     "text": [
      "check-candidates Time: 0.016195058822631836s\n"
     ]
    },
    {
     "name": "stderr",
     "output_type": "stream",
     "text": [
      " 40%|████████████████████████████████▋                                                 | 120/301 [04:25<06:07,  2.03s/it]"
     ]
    },
    {
     "name": "stdout",
     "output_type": "stream",
     "text": [
      "check-candidates Time: 0.009914875030517578s\n"
     ]
    },
    {
     "name": "stderr",
     "output_type": "stream",
     "text": [
      " 40%|████████████████████████████████▉                                                 | 121/301 [04:27<06:01,  2.01s/it]"
     ]
    },
    {
     "name": "stdout",
     "output_type": "stream",
     "text": [
      "check-candidates Time: 0.028573989868164062s\n"
     ]
    },
    {
     "name": "stderr",
     "output_type": "stream",
     "text": [
      " 41%|█████████████████████████████████▏                                                | 122/301 [04:29<06:05,  2.04s/it]"
     ]
    },
    {
     "name": "stdout",
     "output_type": "stream",
     "text": [
      "check-candidates Time: 0.011005878448486328s\n"
     ]
    },
    {
     "name": "stderr",
     "output_type": "stream",
     "text": [
      " 41%|█████████████████████████████████▌                                                | 123/301 [04:31<05:59,  2.02s/it]"
     ]
    },
    {
     "name": "stdout",
     "output_type": "stream",
     "text": [
      "check-candidates Time: 0.010500192642211914s\n"
     ]
    },
    {
     "name": "stderr",
     "output_type": "stream",
     "text": [
      " 41%|█████████████████████████████████▊                                                | 124/301 [04:33<06:04,  2.06s/it]"
     ]
    },
    {
     "name": "stdout",
     "output_type": "stream",
     "text": [
      "check-candidates Time: 0.007006168365478516s\n"
     ]
    },
    {
     "name": "stderr",
     "output_type": "stream",
     "text": [
      " 42%|██████████████████████████████████                                                | 125/301 [04:35<06:00,  2.05s/it]"
     ]
    },
    {
     "name": "stdout",
     "output_type": "stream",
     "text": [
      "check-candidates Time: 0.009670734405517578s\n"
     ]
    },
    {
     "name": "stderr",
     "output_type": "stream",
     "text": [
      " 42%|██████████████████████████████████▎                                               | 126/301 [04:37<05:56,  2.04s/it]"
     ]
    },
    {
     "name": "stdout",
     "output_type": "stream",
     "text": [
      "check-candidates Time: 0.015558958053588867s\n"
     ]
    },
    {
     "name": "stderr",
     "output_type": "stream",
     "text": [
      " 42%|██████████████████████████████████▌                                               | 127/301 [04:39<06:00,  2.07s/it]"
     ]
    },
    {
     "name": "stdout",
     "output_type": "stream",
     "text": [
      "check-candidates Time: 0.011983871459960938s\n"
     ]
    },
    {
     "name": "stderr",
     "output_type": "stream",
     "text": [
      " 43%|██████████████████████████████████▊                                               | 128/301 [04:41<05:59,  2.08s/it]"
     ]
    },
    {
     "name": "stdout",
     "output_type": "stream",
     "text": [
      "check-candidates Time: 0.019428730010986328s\n"
     ]
    },
    {
     "name": "stderr",
     "output_type": "stream",
     "text": [
      " 43%|███████████████████████████████████▏                                              | 129/301 [04:43<06:03,  2.11s/it]"
     ]
    },
    {
     "name": "stdout",
     "output_type": "stream",
     "text": [
      "check-candidates Time: 0.013992071151733398s\n"
     ]
    },
    {
     "name": "stderr",
     "output_type": "stream",
     "text": [
      " 43%|███████████████████████████████████▍                                              | 130/301 [04:46<06:01,  2.11s/it]"
     ]
    },
    {
     "name": "stdout",
     "output_type": "stream",
     "text": [
      "check-candidates Time: 0.007395029067993164s\n"
     ]
    },
    {
     "name": "stderr",
     "output_type": "stream",
     "text": [
      " 44%|███████████████████████████████████▉                                              | 132/301 [04:48<04:31,  1.61s/it]"
     ]
    },
    {
     "name": "stdout",
     "output_type": "stream",
     "text": [
      "check-candidates Time: 0.014824867248535156s\n"
     ]
    },
    {
     "name": "stderr",
     "output_type": "stream",
     "text": [
      " 44%|████████████████████████████████████▏                                             | 133/301 [04:50<04:46,  1.71s/it]"
     ]
    },
    {
     "name": "stdout",
     "output_type": "stream",
     "text": [
      "check-candidates Time: 0.006972312927246094s\n"
     ]
    },
    {
     "name": "stderr",
     "output_type": "stream",
     "text": [
      " 45%|████████████████████████████████████▌                                             | 134/301 [04:52<04:55,  1.77s/it]"
     ]
    },
    {
     "name": "stdout",
     "output_type": "stream",
     "text": [
      "check-candidates Time: 0.006908893585205078s\n"
     ]
    },
    {
     "name": "stderr",
     "output_type": "stream",
     "text": [
      " 45%|████████████████████████████████████▊                                             | 135/301 [04:54<05:03,  1.83s/it]"
     ]
    },
    {
     "name": "stdout",
     "output_type": "stream",
     "text": [
      "check-candidates Time: 0.022376060485839844s\n"
     ]
    },
    {
     "name": "stderr",
     "output_type": "stream",
     "text": [
      " 45%|█████████████████████████████████████                                             | 136/301 [04:56<05:14,  1.91s/it]"
     ]
    },
    {
     "name": "stdout",
     "output_type": "stream",
     "text": [
      "check-candidates Time: 0.016505002975463867s\n"
     ]
    },
    {
     "name": "stderr",
     "output_type": "stream",
     "text": [
      " 46%|█████████████████████████████████████▎                                            | 137/301 [04:58<05:16,  1.93s/it]"
     ]
    },
    {
     "name": "stdout",
     "output_type": "stream",
     "text": [
      "check-candidates Time: 0.009491920471191406s\n"
     ]
    },
    {
     "name": "stderr",
     "output_type": "stream",
     "text": [
      " 46%|█████████████████████████████████████▌                                            | 138/301 [05:00<05:16,  1.94s/it]"
     ]
    },
    {
     "name": "stdout",
     "output_type": "stream",
     "text": [
      "check-candidates Time: 0.006433010101318359s\n"
     ]
    },
    {
     "name": "stderr",
     "output_type": "stream",
     "text": [
      " 46%|█████████████████████████████████████▊                                            | 139/301 [05:02<05:14,  1.94s/it]"
     ]
    },
    {
     "name": "stdout",
     "output_type": "stream",
     "text": [
      "check-candidates Time: 0.008331060409545898s\n"
     ]
    },
    {
     "name": "stderr",
     "output_type": "stream",
     "text": [
      " 47%|██████████████████████████████████████▏                                           | 140/301 [05:04<05:14,  1.95s/it]"
     ]
    },
    {
     "name": "stdout",
     "output_type": "stream",
     "text": [
      "check-candidates Time: 0.020407915115356445s\n"
     ]
    },
    {
     "name": "stderr",
     "output_type": "stream",
     "text": [
      " 47%|██████████████████████████████████████▍                                           | 141/301 [05:06<05:22,  2.01s/it]"
     ]
    },
    {
     "name": "stdout",
     "output_type": "stream",
     "text": [
      "check-candidates Time: 0.007269144058227539s\n"
     ]
    },
    {
     "name": "stderr",
     "output_type": "stream",
     "text": [
      " 47%|██████████████████████████████████████▋                                           | 142/301 [05:08<05:21,  2.02s/it]"
     ]
    },
    {
     "name": "stdout",
     "output_type": "stream",
     "text": [
      "check-candidates Time: 0.007164955139160156s\n"
     ]
    },
    {
     "name": "stderr",
     "output_type": "stream",
     "text": [
      " 48%|██████████████████████████████████████▉                                           | 143/301 [05:10<05:18,  2.01s/it]"
     ]
    },
    {
     "name": "stdout",
     "output_type": "stream",
     "text": [
      "check-candidates Time: 0.007052898406982422s\n"
     ]
    },
    {
     "name": "stderr",
     "output_type": "stream",
     "text": [
      " 48%|███████████████████████████████████████▏                                          | 144/301 [05:12<05:18,  2.03s/it]"
     ]
    },
    {
     "name": "stdout",
     "output_type": "stream",
     "text": [
      "check-candidates Time: 0.007109880447387695s\n"
     ]
    },
    {
     "name": "stderr",
     "output_type": "stream",
     "text": [
      " 48%|███████████████████████████████████████▌                                          | 145/301 [05:14<05:15,  2.02s/it]"
     ]
    },
    {
     "name": "stdout",
     "output_type": "stream",
     "text": [
      "check-candidates Time: 0.013313055038452148s\n"
     ]
    },
    {
     "name": "stderr",
     "output_type": "stream",
     "text": [
      " 49%|███████████████████████████████████████▊                                          | 146/301 [05:17<06:13,  2.41s/it]"
     ]
    },
    {
     "name": "stdout",
     "output_type": "stream",
     "text": [
      "check-candidates Time: 0.0064580440521240234s\n"
     ]
    },
    {
     "name": "stderr",
     "output_type": "stream",
     "text": [
      " 49%|████████████████████████████████████████                                          | 147/301 [05:19<05:50,  2.27s/it]"
     ]
    },
    {
     "name": "stdout",
     "output_type": "stream",
     "text": [
      "check-candidates Time: 0.016614913940429688s\n"
     ]
    },
    {
     "name": "stderr",
     "output_type": "stream",
     "text": [
      " 49%|████████████████████████████████████████▎                                         | 148/301 [05:22<06:06,  2.40s/it]"
     ]
    },
    {
     "name": "stdout",
     "output_type": "stream",
     "text": [
      "check-candidates Time: 0.014203786849975586s\n"
     ]
    },
    {
     "name": "stderr",
     "output_type": "stream",
     "text": [
      " 50%|████████████████████████████████████████▌                                         | 149/301 [05:25<06:48,  2.69s/it]"
     ]
    },
    {
     "name": "stdout",
     "output_type": "stream",
     "text": [
      "check-candidates Time: 0.01528310775756836s\n"
     ]
    },
    {
     "name": "stderr",
     "output_type": "stream",
     "text": [
      " 50%|████████████████████████████████████████▊                                         | 150/301 [05:29<07:21,  2.92s/it]"
     ]
    },
    {
     "name": "stdout",
     "output_type": "stream",
     "text": [
      "check-candidates Time: 0.006330251693725586s\n"
     ]
    },
    {
     "name": "stderr",
     "output_type": "stream",
     "text": [
      " 50%|█████████████████████████████████████████▏                                        | 151/301 [05:31<07:15,  2.90s/it]"
     ]
    },
    {
     "name": "stdout",
     "output_type": "stream",
     "text": [
      "check-candidates Time: 0.007164955139160156s\n"
     ]
    },
    {
     "name": "stderr",
     "output_type": "stream",
     "text": [
      " 50%|█████████████████████████████████████████▍                                        | 152/301 [05:34<07:15,  2.92s/it]"
     ]
    },
    {
     "name": "stdout",
     "output_type": "stream",
     "text": [
      "check-candidates Time: 0.013813018798828125s\n"
     ]
    },
    {
     "name": "stderr",
     "output_type": "stream",
     "text": [
      " 51%|█████████████████████████████████████████▋                                        | 153/301 [05:38<08:04,  3.27s/it]"
     ]
    },
    {
     "name": "stdout",
     "output_type": "stream",
     "text": [
      "check-candidates Time: 0.007004261016845703s\n"
     ]
    },
    {
     "name": "stderr",
     "output_type": "stream",
     "text": [
      " 51%|█████████████████████████████████████████▉                                        | 154/301 [05:41<07:09,  2.92s/it]"
     ]
    },
    {
     "name": "stdout",
     "output_type": "stream",
     "text": [
      "check-candidates Time: 0.011560916900634766s\n"
     ]
    },
    {
     "name": "stderr",
     "output_type": "stream",
     "text": [
      " 51%|██████████████████████████████████████████▏                                       | 155/301 [05:43<06:23,  2.62s/it]"
     ]
    },
    {
     "name": "stdout",
     "output_type": "stream",
     "text": [
      "check-candidates Time: 0.006862163543701172s\n"
     ]
    },
    {
     "name": "stderr",
     "output_type": "stream",
     "text": [
      " 52%|██████████████████████████████████████████▍                                       | 156/301 [05:44<05:48,  2.40s/it]"
     ]
    },
    {
     "name": "stdout",
     "output_type": "stream",
     "text": [
      "check-candidates Time: 0.01345205307006836s\n"
     ]
    },
    {
     "name": "stderr",
     "output_type": "stream",
     "text": [
      " 52%|███████████████████████████████████████████                                       | 158/301 [05:48<04:48,  2.01s/it]"
     ]
    },
    {
     "name": "stdout",
     "output_type": "stream",
     "text": [
      "check-candidates Time: 0.0101318359375s\n"
     ]
    },
    {
     "name": "stderr",
     "output_type": "stream",
     "text": [
      " 53%|███████████████████████████████████████████▎                                      | 159/301 [05:49<04:42,  1.99s/it]"
     ]
    },
    {
     "name": "stdout",
     "output_type": "stream",
     "text": [
      "check-candidates Time: 0.00701594352722168s\n"
     ]
    },
    {
     "name": "stderr",
     "output_type": "stream",
     "text": [
      " 53%|███████████████████████████████████████████▌                                      | 160/301 [05:51<04:36,  1.96s/it]"
     ]
    },
    {
     "name": "stdout",
     "output_type": "stream",
     "text": [
      "check-candidates Time: 0.00878000259399414s\n"
     ]
    },
    {
     "name": "stderr",
     "output_type": "stream",
     "text": [
      " 53%|███████████████████████████████████████████▊                                      | 161/301 [05:53<04:33,  1.95s/it]"
     ]
    },
    {
     "name": "stdout",
     "output_type": "stream",
     "text": [
      "check-candidates Time: 0.03639721870422363s\n"
     ]
    },
    {
     "name": "stderr",
     "output_type": "stream",
     "text": [
      " 54%|████████████████████████████████████████████▏                                     | 162/301 [05:55<04:39,  2.01s/it]"
     ]
    },
    {
     "name": "stdout",
     "output_type": "stream",
     "text": [
      "check-candidates Time: 0.007071971893310547s\n"
     ]
    },
    {
     "name": "stderr",
     "output_type": "stream",
     "text": [
      " 54%|████████████████████████████████████████████▍                                     | 163/301 [05:57<04:34,  1.99s/it]"
     ]
    },
    {
     "name": "stdout",
     "output_type": "stream",
     "text": [
      "check-candidates Time: 0.010904073715209961s\n"
     ]
    },
    {
     "name": "stderr",
     "output_type": "stream",
     "text": [
      " 54%|████████████████████████████████████████████▋                                     | 164/301 [05:59<04:32,  1.99s/it]"
     ]
    },
    {
     "name": "stdout",
     "output_type": "stream",
     "text": [
      "check-candidates Time: 0.01013326644897461s\n"
     ]
    },
    {
     "name": "stderr",
     "output_type": "stream",
     "text": [
      " 55%|████████████████████████████████████████████▉                                     | 165/301 [06:01<04:29,  1.98s/it]"
     ]
    },
    {
     "name": "stdout",
     "output_type": "stream",
     "text": [
      "check-candidates Time: 0.01448822021484375s\n"
     ]
    },
    {
     "name": "stderr",
     "output_type": "stream",
     "text": [
      " 55%|█████████████████████████████████████████████▏                                    | 166/301 [06:03<04:29,  2.00s/it]"
     ]
    },
    {
     "name": "stdout",
     "output_type": "stream",
     "text": [
      "check-candidates Time: 0.007036924362182617s\n"
     ]
    },
    {
     "name": "stderr",
     "output_type": "stream",
     "text": [
      " 55%|█████████████████████████████████████████████▍                                    | 167/301 [06:05<04:25,  1.98s/it]"
     ]
    },
    {
     "name": "stdout",
     "output_type": "stream",
     "text": [
      "check-candidates Time: 0.010886907577514648s\n"
     ]
    },
    {
     "name": "stderr",
     "output_type": "stream",
     "text": [
      " 56%|█████████████████████████████████████████████▊                                    | 168/301 [06:07<04:25,  1.99s/it]"
     ]
    },
    {
     "name": "stdout",
     "output_type": "stream",
     "text": [
      "check-candidates Time: 0.012866020202636719s\n"
     ]
    },
    {
     "name": "stderr",
     "output_type": "stream",
     "text": [
      " 56%|██████████████████████████████████████████████                                    | 169/301 [06:09<04:24,  2.00s/it]"
     ]
    },
    {
     "name": "stdout",
     "output_type": "stream",
     "text": [
      "check-candidates Time: 0.013589859008789062s\n"
     ]
    },
    {
     "name": "stderr",
     "output_type": "stream",
     "text": [
      " 56%|██████████████████████████████████████████████▎                                   | 170/301 [06:11<04:22,  2.00s/it]"
     ]
    },
    {
     "name": "stdout",
     "output_type": "stream",
     "text": [
      "check-candidates Time: 0.00684809684753418s\n"
     ]
    },
    {
     "name": "stderr",
     "output_type": "stream",
     "text": [
      " 57%|██████████████████████████████████████████████▌                                   | 171/301 [06:13<04:19,  2.00s/it]"
     ]
    },
    {
     "name": "stdout",
     "output_type": "stream",
     "text": [
      "check-candidates Time: 0.014410018920898438s\n"
     ]
    },
    {
     "name": "stderr",
     "output_type": "stream",
     "text": [
      " 57%|██████████████████████████████████████████████▊                                   | 172/301 [06:15<04:18,  2.01s/it]"
     ]
    },
    {
     "name": "stdout",
     "output_type": "stream",
     "text": [
      "check-candidates Time: 0.006648063659667969s\n"
     ]
    },
    {
     "name": "stderr",
     "output_type": "stream",
     "text": [
      " 57%|███████████████████████████████████████████████▏                                  | 173/301 [06:17<04:15,  1.99s/it]"
     ]
    },
    {
     "name": "stdout",
     "output_type": "stream",
     "text": [
      "check-candidates Time: 0.01314687728881836s\n"
     ]
    },
    {
     "name": "stderr",
     "output_type": "stream",
     "text": [
      " 58%|███████████████████████████████████████████████▍                                  | 174/301 [06:19<04:15,  2.01s/it]"
     ]
    },
    {
     "name": "stdout",
     "output_type": "stream",
     "text": [
      "check-candidates Time: 0.007408857345581055s\n"
     ]
    },
    {
     "name": "stderr",
     "output_type": "stream",
     "text": [
      " 58%|███████████████████████████████████████████████▋                                  | 175/301 [06:21<04:14,  2.02s/it]"
     ]
    },
    {
     "name": "stdout",
     "output_type": "stream",
     "text": [
      "check-candidates Time: 0.01532602310180664s\n"
     ]
    },
    {
     "name": "stderr",
     "output_type": "stream",
     "text": [
      " 58%|███████████████████████████████████████████████▉                                  | 176/301 [06:24<04:23,  2.11s/it]"
     ]
    },
    {
     "name": "stdout",
     "output_type": "stream",
     "text": [
      "check-candidates Time: 0.007208824157714844s\n"
     ]
    },
    {
     "name": "stderr",
     "output_type": "stream",
     "text": [
      " 59%|████████████████████████████████████████████████▏                                 | 177/301 [06:26<04:27,  2.15s/it]"
     ]
    },
    {
     "name": "stdout",
     "output_type": "stream",
     "text": [
      "check-candidates Time: 0.008817195892333984s\n"
     ]
    },
    {
     "name": "stderr",
     "output_type": "stream",
     "text": [
      " 59%|████████████████████████████████████████████████▍                                 | 178/301 [06:28<04:28,  2.19s/it]"
     ]
    },
    {
     "name": "stdout",
     "output_type": "stream",
     "text": [
      "check-candidates Time: 0.015234947204589844s\n"
     ]
    },
    {
     "name": "stderr",
     "output_type": "stream",
     "text": [
      " 59%|████████████████████████████████████████████████▊                                 | 179/301 [06:31<04:38,  2.28s/it]"
     ]
    },
    {
     "name": "stdout",
     "output_type": "stream",
     "text": [
      "check-candidates Time: 0.009688138961791992s\n"
     ]
    },
    {
     "name": "stderr",
     "output_type": "stream",
     "text": [
      " 60%|█████████████████████████████████████████████████                                 | 180/301 [06:33<04:35,  2.28s/it]"
     ]
    },
    {
     "name": "stdout",
     "output_type": "stream",
     "text": [
      "check-candidates Time: 0.021358966827392578s\n"
     ]
    },
    {
     "name": "stderr",
     "output_type": "stream",
     "text": [
      " 60%|█████████████████████████████████████████████████▎                                | 181/301 [06:35<04:35,  2.29s/it]"
     ]
    },
    {
     "name": "stdout",
     "output_type": "stream",
     "text": [
      "check-candidates Time: 0.017104148864746094s\n"
     ]
    },
    {
     "name": "stderr",
     "output_type": "stream",
     "text": [
      " 60%|█████████████████████████████████████████████████▌                                | 182/301 [06:38<04:36,  2.32s/it]"
     ]
    },
    {
     "name": "stdout",
     "output_type": "stream",
     "text": [
      "check-candidates Time: 0.007176876068115234s\n"
     ]
    },
    {
     "name": "stderr",
     "output_type": "stream",
     "text": [
      " 61%|█████████████████████████████████████████████████▊                                | 183/301 [06:40<04:33,  2.32s/it]"
     ]
    },
    {
     "name": "stdout",
     "output_type": "stream",
     "text": [
      "check-candidates Time: 0.01574873924255371s\n"
     ]
    },
    {
     "name": "stderr",
     "output_type": "stream",
     "text": [
      " 61%|██████████████████████████████████████████████████▏                               | 184/301 [06:42<04:30,  2.31s/it]"
     ]
    },
    {
     "name": "stdout",
     "output_type": "stream",
     "text": [
      "check-candidates Time: 0.01662588119506836s\n"
     ]
    },
    {
     "name": "stderr",
     "output_type": "stream",
     "text": [
      " 61%|██████████████████████████████████████████████████▍                               | 185/301 [06:45<04:25,  2.29s/it]"
     ]
    },
    {
     "name": "stdout",
     "output_type": "stream",
     "text": [
      "check-candidates Time: 0.021268129348754883s\n"
     ]
    },
    {
     "name": "stderr",
     "output_type": "stream",
     "text": [
      " 62%|██████████████████████████████████████████████████▋                               | 186/301 [06:47<04:23,  2.29s/it]"
     ]
    },
    {
     "name": "stdout",
     "output_type": "stream",
     "text": [
      "check-candidates Time: 0.016201019287109375s\n"
     ]
    },
    {
     "name": "stderr",
     "output_type": "stream",
     "text": [
      " 62%|██████████████████████████████████████████████████▉                               | 187/301 [06:49<04:20,  2.28s/it]"
     ]
    },
    {
     "name": "stdout",
     "output_type": "stream",
     "text": [
      "check-candidates Time: 0.014811277389526367s\n"
     ]
    },
    {
     "name": "stderr",
     "output_type": "stream",
     "text": [
      " 62%|███████████████████████████████████████████████████▏                              | 188/301 [06:51<04:12,  2.23s/it]"
     ]
    },
    {
     "name": "stdout",
     "output_type": "stream",
     "text": [
      "check-candidates Time: 0.015604019165039062s\n"
     ]
    },
    {
     "name": "stderr",
     "output_type": "stream",
     "text": [
      " 63%|███████████████████████████████████████████████████▍                              | 189/301 [06:53<04:07,  2.21s/it]"
     ]
    },
    {
     "name": "stdout",
     "output_type": "stream",
     "text": [
      "check-candidates Time: 0.010033845901489258s\n"
     ]
    },
    {
     "name": "stderr",
     "output_type": "stream",
     "text": [
      " 63%|███████████████████████████████████████████████████▊                              | 190/301 [06:55<04:01,  2.18s/it]"
     ]
    },
    {
     "name": "stdout",
     "output_type": "stream",
     "text": [
      "check-candidates Time: 0.010574817657470703s\n"
     ]
    },
    {
     "name": "stderr",
     "output_type": "stream",
     "text": [
      " 63%|████████████████████████████████████████████████████                              | 191/301 [06:58<03:55,  2.14s/it]"
     ]
    },
    {
     "name": "stdout",
     "output_type": "stream",
     "text": [
      "check-candidates Time: 0.015089273452758789s\n"
     ]
    },
    {
     "name": "stderr",
     "output_type": "stream",
     "text": [
      " 64%|████████████████████████████████████████████████████▎                             | 192/301 [07:00<03:52,  2.13s/it]"
     ]
    },
    {
     "name": "stdout",
     "output_type": "stream",
     "text": [
      "check-candidates Time: 0.006684780120849609s\n"
     ]
    },
    {
     "name": "stderr",
     "output_type": "stream",
     "text": [
      " 64%|████████████████████████████████████████████████████▌                             | 193/301 [07:02<03:46,  2.10s/it]"
     ]
    },
    {
     "name": "stdout",
     "output_type": "stream",
     "text": [
      "check-candidates Time: 0.007264137268066406s\n"
     ]
    },
    {
     "name": "stderr",
     "output_type": "stream",
     "text": [
      " 64%|████████████████████████████████████████████████████▊                             | 194/301 [07:04<03:42,  2.08s/it]"
     ]
    },
    {
     "name": "stdout",
     "output_type": "stream",
     "text": [
      "check-candidates Time: 0.010354042053222656s\n"
     ]
    },
    {
     "name": "stderr",
     "output_type": "stream",
     "text": [
      " 65%|█████████████████████████████████████████████████████                             | 195/301 [07:06<03:39,  2.07s/it]"
     ]
    },
    {
     "name": "stdout",
     "output_type": "stream",
     "text": [
      "check-candidates Time: 0.014432907104492188s\n"
     ]
    },
    {
     "name": "stderr",
     "output_type": "stream",
     "text": [
      " 65%|█████████████████████████████████████████████████████▍                            | 196/301 [07:08<03:36,  2.07s/it]"
     ]
    },
    {
     "name": "stdout",
     "output_type": "stream",
     "text": [
      "check-candidates Time: 0.014140129089355469s\n"
     ]
    },
    {
     "name": "stderr",
     "output_type": "stream",
     "text": [
      " 65%|█████████████████████████████████████████████████████▋                            | 197/301 [07:10<03:34,  2.06s/it]"
     ]
    },
    {
     "name": "stdout",
     "output_type": "stream",
     "text": [
      "check-candidates Time: 0.014065980911254883s\n"
     ]
    },
    {
     "name": "stderr",
     "output_type": "stream",
     "text": [
      " 66%|█████████████████████████████████████████████████████▉                            | 198/301 [07:12<03:31,  2.05s/it]"
     ]
    },
    {
     "name": "stdout",
     "output_type": "stream",
     "text": [
      "check-candidates Time: 0.0071451663970947266s\n"
     ]
    },
    {
     "name": "stderr",
     "output_type": "stream",
     "text": [
      " 66%|██████████████████████████████████████████████████████▏                           | 199/301 [07:14<03:26,  2.02s/it]"
     ]
    },
    {
     "name": "stdout",
     "output_type": "stream",
     "text": [
      "check-candidates Time: 0.014729976654052734s\n"
     ]
    },
    {
     "name": "stderr",
     "output_type": "stream",
     "text": [
      " 66%|██████████████████████████████████████████████████████▍                           | 200/301 [07:16<03:23,  2.02s/it]"
     ]
    },
    {
     "name": "stdout",
     "output_type": "stream",
     "text": [
      "check-candidates Time: 0.014720916748046875s\n"
     ]
    },
    {
     "name": "stderr",
     "output_type": "stream",
     "text": [
      " 67%|██████████████████████████████████████████████████████▊                           | 201/301 [07:18<03:22,  2.02s/it]"
     ]
    },
    {
     "name": "stdout",
     "output_type": "stream",
     "text": [
      "check-candidates Time: 0.006942033767700195s\n"
     ]
    },
    {
     "name": "stderr",
     "output_type": "stream",
     "text": [
      " 67%|███████████████████████████████████████████████████████                           | 202/301 [07:20<03:18,  2.00s/it]"
     ]
    },
    {
     "name": "stdout",
     "output_type": "stream",
     "text": [
      "check-candidates Time: 0.007630109786987305s\n"
     ]
    },
    {
     "name": "stderr",
     "output_type": "stream",
     "text": [
      " 67%|███████████████████████████████████████████████████████▎                          | 203/301 [07:22<03:16,  2.00s/it]"
     ]
    },
    {
     "name": "stdout",
     "output_type": "stream",
     "text": [
      "check-candidates Time: 0.01307225227355957s\n"
     ]
    },
    {
     "name": "stderr",
     "output_type": "stream",
     "text": [
      " 68%|███████████████████████████████████████████████████████▌                          | 204/301 [07:24<03:15,  2.01s/it]"
     ]
    },
    {
     "name": "stdout",
     "output_type": "stream",
     "text": [
      "check-candidates Time: 0.011104106903076172s\n"
     ]
    },
    {
     "name": "stderr",
     "output_type": "stream",
     "text": [
      " 68%|███████████████████████████████████████████████████████▊                          | 205/301 [07:26<03:13,  2.02s/it]"
     ]
    },
    {
     "name": "stdout",
     "output_type": "stream",
     "text": [
      "check-candidates Time: 0.014618158340454102s\n"
     ]
    },
    {
     "name": "stderr",
     "output_type": "stream",
     "text": [
      " 68%|████████████████████████████████████████████████████████                          | 206/301 [07:28<03:13,  2.03s/it]"
     ]
    },
    {
     "name": "stdout",
     "output_type": "stream",
     "text": [
      "check-candidates Time: 0.0071790218353271484s\n"
     ]
    },
    {
     "name": "stderr",
     "output_type": "stream",
     "text": [
      " 69%|████████████████████████████████████████████████████████▍                         | 207/301 [07:30<03:10,  2.02s/it]"
     ]
    },
    {
     "name": "stdout",
     "output_type": "stream",
     "text": [
      "check-candidates Time: 0.013264179229736328s\n"
     ]
    },
    {
     "name": "stderr",
     "output_type": "stream",
     "text": [
      " 69%|████████████████████████████████████████████████████████▋                         | 208/301 [07:32<03:09,  2.04s/it]"
     ]
    },
    {
     "name": "stdout",
     "output_type": "stream",
     "text": [
      "check-candidates Time: 0.013490915298461914s\n"
     ]
    },
    {
     "name": "stderr",
     "output_type": "stream",
     "text": [
      " 69%|████████████████████████████████████████████████████████▉                         | 209/301 [07:34<03:09,  2.06s/it]"
     ]
    },
    {
     "name": "stdout",
     "output_type": "stream",
     "text": [
      "check-candidates Time: 0.01507878303527832s\n"
     ]
    },
    {
     "name": "stderr",
     "output_type": "stream",
     "text": [
      " 70%|█████████████████████████████████████████████████████████▏                        | 210/301 [07:36<03:06,  2.05s/it]"
     ]
    },
    {
     "name": "stdout",
     "output_type": "stream",
     "text": [
      "check-candidates Time: 0.010782957077026367s\n"
     ]
    },
    {
     "name": "stderr",
     "output_type": "stream",
     "text": [
      " 70%|█████████████████████████████████████████████████████████▍                        | 211/301 [07:38<03:04,  2.05s/it]"
     ]
    },
    {
     "name": "stdout",
     "output_type": "stream",
     "text": [
      "check-candidates Time: 0.010628938674926758s\n"
     ]
    },
    {
     "name": "stderr",
     "output_type": "stream",
     "text": [
      " 70%|█████████████████████████████████████████████████████████▊                        | 212/301 [07:40<03:01,  2.04s/it]"
     ]
    },
    {
     "name": "stdout",
     "output_type": "stream",
     "text": [
      "check-candidates Time: 0.019145965576171875s\n"
     ]
    },
    {
     "name": "stderr",
     "output_type": "stream",
     "text": [
      " 71%|██████████████████████████████████████████████████████████                        | 213/301 [07:42<03:02,  2.07s/it]"
     ]
    },
    {
     "name": "stdout",
     "output_type": "stream",
     "text": [
      "check-candidates Time: 0.009905815124511719s\n"
     ]
    },
    {
     "name": "stderr",
     "output_type": "stream",
     "text": [
      " 71%|██████████████████████████████████████████████████████████▎                       | 214/301 [07:45<03:11,  2.21s/it]"
     ]
    },
    {
     "name": "stdout",
     "output_type": "stream",
     "text": [
      "check-candidates Time: 0.010417938232421875s\n"
     ]
    },
    {
     "name": "stderr",
     "output_type": "stream",
     "text": [
      " 72%|███████████████████████████████████████████████████████████                       | 217/301 [07:47<01:57,  1.40s/it]"
     ]
    },
    {
     "name": "stdout",
     "output_type": "stream",
     "text": [
      "check-candidates Time: 0.013592004776000977s\n"
     ]
    },
    {
     "name": "stderr",
     "output_type": "stream",
     "text": [
      " 72%|███████████████████████████████████████████████████████████▍                      | 218/301 [07:49<02:07,  1.54s/it]"
     ]
    },
    {
     "name": "stdout",
     "output_type": "stream",
     "text": [
      "check-candidates Time: 0.014344930648803711s\n"
     ]
    },
    {
     "name": "stderr",
     "output_type": "stream",
     "text": [
      " 73%|███████████████████████████████████████████████████████████▋                      | 219/301 [07:53<02:41,  1.97s/it]"
     ]
    },
    {
     "name": "stdout",
     "output_type": "stream",
     "text": [
      "check-candidates Time: 0.006912946701049805s\n"
     ]
    },
    {
     "name": "stderr",
     "output_type": "stream",
     "text": [
      " 73%|███████████████████████████████████████████████████████████▉                      | 220/301 [07:57<03:20,  2.47s/it]"
     ]
    },
    {
     "name": "stdout",
     "output_type": "stream",
     "text": [
      "check-candidates Time: 0.01634526252746582s\n"
     ]
    },
    {
     "name": "stderr",
     "output_type": "stream",
     "text": [
      " 73%|████████████████████████████████████████████████████████████▏                     | 221/301 [08:00<03:32,  2.66s/it]"
     ]
    },
    {
     "name": "stdout",
     "output_type": "stream",
     "text": [
      "check-candidates Time: 0.00644683837890625s\n"
     ]
    },
    {
     "name": "stderr",
     "output_type": "stream",
     "text": [
      " 74%|████████████████████████████████████████████████████████████▍                     | 222/301 [08:03<03:35,  2.73s/it]"
     ]
    },
    {
     "name": "stdout",
     "output_type": "stream",
     "text": [
      "check-candidates Time: 0.011657953262329102s\n"
     ]
    },
    {
     "name": "stderr",
     "output_type": "stream",
     "text": [
      " 74%|████████████████████████████████████████████████████████████▊                     | 223/301 [08:07<03:57,  3.04s/it]"
     ]
    },
    {
     "name": "stdout",
     "output_type": "stream",
     "text": [
      "check-candidates Time: 0.007799863815307617s\n"
     ]
    },
    {
     "name": "stderr",
     "output_type": "stream",
     "text": [
      " 74%|█████████████████████████████████████████████████████████████                     | 224/301 [08:10<03:57,  3.08s/it]"
     ]
    },
    {
     "name": "stdout",
     "output_type": "stream",
     "text": [
      "check-candidates Time: 0.0068607330322265625s\n"
     ]
    },
    {
     "name": "stderr",
     "output_type": "stream",
     "text": [
      " 75%|█████████████████████████████████████████████████████████████▎                    | 225/301 [08:12<03:27,  2.74s/it]"
     ]
    },
    {
     "name": "stdout",
     "output_type": "stream",
     "text": [
      "check-candidates Time: 0.006112098693847656s\n"
     ]
    },
    {
     "name": "stderr",
     "output_type": "stream",
     "text": [
      " 75%|█████████████████████████████████████████████████████████████▌                    | 226/301 [08:14<03:05,  2.47s/it]"
     ]
    },
    {
     "name": "stdout",
     "output_type": "stream",
     "text": [
      "check-candidates Time: 0.015044927597045898s\n"
     ]
    },
    {
     "name": "stderr",
     "output_type": "stream",
     "text": [
      " 75%|█████████████████████████████████████████████████████████████▊                    | 227/301 [08:15<02:51,  2.31s/it]"
     ]
    },
    {
     "name": "stdout",
     "output_type": "stream",
     "text": [
      "check-candidates Time: 0.006604194641113281s\n"
     ]
    },
    {
     "name": "stderr",
     "output_type": "stream",
     "text": [
      " 76%|██████████████████████████████████████████████████████████████                    | 228/301 [08:18<02:52,  2.36s/it]"
     ]
    },
    {
     "name": "stdout",
     "output_type": "stream",
     "text": [
      "check-candidates Time: 0.016885042190551758s\n"
     ]
    },
    {
     "name": "stderr",
     "output_type": "stream",
     "text": [
      " 76%|██████████████████████████████████████████████████████████████▍                   | 229/301 [08:20<02:40,  2.23s/it]"
     ]
    },
    {
     "name": "stdout",
     "output_type": "stream",
     "text": [
      "check-candidates Time: 0.01222681999206543s\n"
     ]
    },
    {
     "name": "stderr",
     "output_type": "stream",
     "text": [
      " 76%|██████████████████████████████████████████████████████████████▋                   | 230/301 [08:22<02:30,  2.13s/it]"
     ]
    },
    {
     "name": "stdout",
     "output_type": "stream",
     "text": [
      "check-candidates Time: 0.006571054458618164s\n"
     ]
    },
    {
     "name": "stderr",
     "output_type": "stream",
     "text": [
      " 77%|██████████████████████████████████████████████████████████████▉                   | 231/301 [08:24<02:22,  2.04s/it]"
     ]
    },
    {
     "name": "stdout",
     "output_type": "stream",
     "text": [
      "check-candidates Time: 0.01351785659790039s\n"
     ]
    },
    {
     "name": "stderr",
     "output_type": "stream",
     "text": [
      " 77%|███████████████████████████████████████████████████████████████▏                  | 232/301 [08:26<02:18,  2.01s/it]"
     ]
    },
    {
     "name": "stdout",
     "output_type": "stream",
     "text": [
      "check-candidates Time: 0.012803077697753906s\n"
     ]
    },
    {
     "name": "stderr",
     "output_type": "stream",
     "text": [
      " 77%|███████████████████████████████████████████████████████████████▍                  | 233/301 [08:27<02:15,  1.99s/it]"
     ]
    },
    {
     "name": "stdout",
     "output_type": "stream",
     "text": [
      "check-candidates Time: 0.00970005989074707s\n"
     ]
    },
    {
     "name": "stderr",
     "output_type": "stream",
     "text": [
      " 78%|███████████████████████████████████████████████████████████████▋                  | 234/301 [08:29<02:11,  1.96s/it]"
     ]
    },
    {
     "name": "stdout",
     "output_type": "stream",
     "text": [
      "check-candidates Time: 0.012501955032348633s\n"
     ]
    },
    {
     "name": "stderr",
     "output_type": "stream",
     "text": [
      " 78%|████████████████████████████████████████████████████████████████                  | 235/301 [08:31<02:11,  1.99s/it]"
     ]
    },
    {
     "name": "stdout",
     "output_type": "stream",
     "text": [
      "check-candidates Time: 0.009145021438598633s\n"
     ]
    },
    {
     "name": "stderr",
     "output_type": "stream",
     "text": [
      " 78%|████████████████████████████████████████████████████████████████▎                 | 236/301 [08:33<02:07,  1.96s/it]"
     ]
    },
    {
     "name": "stdout",
     "output_type": "stream",
     "text": [
      "check-candidates Time: 0.014815092086791992s\n"
     ]
    },
    {
     "name": "stderr",
     "output_type": "stream",
     "text": [
      " 79%|████████████████████████████████████████████████████████████████▌                 | 237/301 [08:35<02:05,  1.95s/it]"
     ]
    },
    {
     "name": "stdout",
     "output_type": "stream",
     "text": [
      "check-candidates Time: 0.00628209114074707s\n"
     ]
    },
    {
     "name": "stderr",
     "output_type": "stream",
     "text": [
      " 79%|████████████████████████████████████████████████████████████████▊                 | 238/301 [08:37<02:03,  1.95s/it]"
     ]
    },
    {
     "name": "stdout",
     "output_type": "stream",
     "text": [
      "check-candidates Time: 0.012965917587280273s\n"
     ]
    },
    {
     "name": "stderr",
     "output_type": "stream",
     "text": [
      " 79%|█████████████████████████████████████████████████████████████████                 | 239/301 [08:39<02:00,  1.95s/it]"
     ]
    },
    {
     "name": "stdout",
     "output_type": "stream",
     "text": [
      "check-candidates Time: 0.006264686584472656s\n"
     ]
    },
    {
     "name": "stderr",
     "output_type": "stream",
     "text": [
      " 80%|█████████████████████████████████████████████████████████████████▍                | 240/301 [08:41<01:57,  1.93s/it]"
     ]
    },
    {
     "name": "stdout",
     "output_type": "stream",
     "text": [
      "check-candidates Time: 0.011700868606567383s\n"
     ]
    },
    {
     "name": "stderr",
     "output_type": "stream",
     "text": [
      " 80%|█████████████████████████████████████████████████████████████████▋                | 241/301 [08:43<01:56,  1.94s/it]"
     ]
    },
    {
     "name": "stdout",
     "output_type": "stream",
     "text": [
      "check-candidates Time: 0.010408878326416016s\n"
     ]
    },
    {
     "name": "stderr",
     "output_type": "stream",
     "text": [
      " 80%|█████████████████████████████████████████████████████████████████▉                | 242/301 [08:45<01:54,  1.93s/it]"
     ]
    },
    {
     "name": "stdout",
     "output_type": "stream",
     "text": [
      "check-candidates Time: 0.013986587524414062s\n"
     ]
    },
    {
     "name": "stderr",
     "output_type": "stream",
     "text": [
      " 81%|██████████████████████████████████████████████████████████████████▏               | 243/301 [08:47<01:52,  1.94s/it]"
     ]
    },
    {
     "name": "stdout",
     "output_type": "stream",
     "text": [
      "check-candidates Time: 0.007033109664916992s\n"
     ]
    },
    {
     "name": "stderr",
     "output_type": "stream",
     "text": [
      " 81%|██████████████████████████████████████████████████████████████████▍               | 244/301 [08:49<01:50,  1.94s/it]"
     ]
    },
    {
     "name": "stdout",
     "output_type": "stream",
     "text": [
      "check-candidates Time: 0.006557941436767578s\n"
     ]
    },
    {
     "name": "stderr",
     "output_type": "stream",
     "text": [
      " 81%|██████████████████████████████████████████████████████████████████▋               | 245/301 [08:51<01:49,  1.95s/it]"
     ]
    },
    {
     "name": "stdout",
     "output_type": "stream",
     "text": [
      "check-candidates Time: 0.0135040283203125s\n"
     ]
    },
    {
     "name": "stderr",
     "output_type": "stream",
     "text": [
      " 82%|███████████████████████████████████████████████████████████████████               | 246/301 [08:53<01:48,  1.97s/it]"
     ]
    },
    {
     "name": "stdout",
     "output_type": "stream",
     "text": [
      "check-candidates Time: 0.009657144546508789s\n"
     ]
    },
    {
     "name": "stderr",
     "output_type": "stream",
     "text": [
      " 82%|███████████████████████████████████████████████████████████████████▎              | 247/301 [08:55<01:47,  1.99s/it]"
     ]
    },
    {
     "name": "stdout",
     "output_type": "stream",
     "text": [
      "check-candidates Time: 0.014294862747192383s\n"
     ]
    },
    {
     "name": "stderr",
     "output_type": "stream",
     "text": [
      " 82%|███████████████████████████████████████████████████████████████████▌              | 248/301 [08:57<01:46,  2.01s/it]"
     ]
    },
    {
     "name": "stdout",
     "output_type": "stream",
     "text": [
      "check-candidates Time: 0.007587909698486328s\n"
     ]
    },
    {
     "name": "stderr",
     "output_type": "stream",
     "text": [
      " 83%|███████████████████████████████████████████████████████████████████▊              | 249/301 [08:59<01:45,  2.02s/it]"
     ]
    },
    {
     "name": "stdout",
     "output_type": "stream",
     "text": [
      "check-candidates Time: 0.013770103454589844s\n"
     ]
    },
    {
     "name": "stderr",
     "output_type": "stream",
     "text": [
      " 83%|████████████████████████████████████████████████████████████████████              | 250/301 [09:01<01:44,  2.05s/it]"
     ]
    },
    {
     "name": "stdout",
     "output_type": "stream",
     "text": [
      "check-candidates Time: 0.007359027862548828s\n"
     ]
    },
    {
     "name": "stderr",
     "output_type": "stream",
     "text": [
      " 83%|████████████████████████████████████████████████████████████████████▍             | 251/301 [09:03<01:42,  2.05s/it]"
     ]
    },
    {
     "name": "stdout",
     "output_type": "stream",
     "text": [
      "check-candidates Time: 0.0071811676025390625s\n"
     ]
    },
    {
     "name": "stderr",
     "output_type": "stream",
     "text": [
      " 84%|████████████████████████████████████████████████████████████████████▋             | 252/301 [09:05<01:40,  2.06s/it]"
     ]
    },
    {
     "name": "stdout",
     "output_type": "stream",
     "text": [
      "check-candidates Time: 0.01049494743347168s\n"
     ]
    },
    {
     "name": "stderr",
     "output_type": "stream",
     "text": [
      " 84%|████████████████████████████████████████████████████████████████████▉             | 253/301 [09:07<01:39,  2.07s/it]"
     ]
    },
    {
     "name": "stdout",
     "output_type": "stream",
     "text": [
      "check-candidates Time: 0.010354042053222656s\n"
     ]
    },
    {
     "name": "stderr",
     "output_type": "stream",
     "text": [
      " 84%|█████████████████████████████████████████████████████████████████████▏            | 254/301 [09:09<01:39,  2.11s/it]"
     ]
    },
    {
     "name": "stdout",
     "output_type": "stream",
     "text": [
      "check-candidates Time: 0.020554780960083008s\n"
     ]
    },
    {
     "name": "stderr",
     "output_type": "stream",
     "text": [
      " 85%|█████████████████████████████████████████████████████████████████████▍            | 255/301 [09:12<01:38,  2.14s/it]"
     ]
    },
    {
     "name": "stdout",
     "output_type": "stream",
     "text": [
      "check-candidates Time: 0.010621309280395508s\n"
     ]
    },
    {
     "name": "stderr",
     "output_type": "stream",
     "text": [
      " 85%|█████████████████████████████████████████████████████████████████████▋            | 256/301 [09:14<01:35,  2.12s/it]"
     ]
    },
    {
     "name": "stdout",
     "output_type": "stream",
     "text": [
      "check-candidates Time: 0.006244182586669922s\n"
     ]
    },
    {
     "name": "stderr",
     "output_type": "stream",
     "text": [
      " 85%|██████████████████████████████████████████████████████████████████████            | 257/301 [09:16<01:32,  2.10s/it]"
     ]
    },
    {
     "name": "stdout",
     "output_type": "stream",
     "text": [
      "check-candidates Time: 0.025972366333007812s\n"
     ]
    },
    {
     "name": "stderr",
     "output_type": "stream",
     "text": [
      " 86%|██████████████████████████████████████████████████████████████████████▎           | 258/301 [09:18<01:32,  2.16s/it]"
     ]
    },
    {
     "name": "stdout",
     "output_type": "stream",
     "text": [
      "check-candidates Time: 0.012154102325439453s\n"
     ]
    },
    {
     "name": "stderr",
     "output_type": "stream",
     "text": [
      " 86%|██████████████████████████████████████████████████████████████████████▌           | 259/301 [09:20<01:31,  2.18s/it]"
     ]
    },
    {
     "name": "stdout",
     "output_type": "stream",
     "text": [
      "check-candidates Time: 0.007108926773071289s\n"
     ]
    },
    {
     "name": "stderr",
     "output_type": "stream",
     "text": [
      " 86%|██████████████████████████████████████████████████████████████████████▊           | 260/301 [09:22<01:28,  2.15s/it]"
     ]
    },
    {
     "name": "stdout",
     "output_type": "stream",
     "text": [
      "check-candidates Time: 0.006392240524291992s\n"
     ]
    },
    {
     "name": "stderr",
     "output_type": "stream",
     "text": [
      " 87%|███████████████████████████████████████████████████████████████████████           | 261/301 [09:24<01:24,  2.11s/it]"
     ]
    },
    {
     "name": "stdout",
     "output_type": "stream",
     "text": [
      "check-candidates Time: 0.010987043380737305s\n"
     ]
    },
    {
     "name": "stderr",
     "output_type": "stream",
     "text": [
      " 87%|███████████████████████████████████████████████████████████████████████▍          | 262/301 [09:26<01:20,  2.08s/it]"
     ]
    },
    {
     "name": "stdout",
     "output_type": "stream",
     "text": [
      "check-candidates Time: 0.01338815689086914s\n"
     ]
    },
    {
     "name": "stderr",
     "output_type": "stream",
     "text": [
      " 87%|███████████████████████████████████████████████████████████████████████▋          | 263/301 [09:28<01:18,  2.07s/it]"
     ]
    },
    {
     "name": "stdout",
     "output_type": "stream",
     "text": [
      "check-candidates Time: 0.007673025131225586s\n"
     ]
    },
    {
     "name": "stderr",
     "output_type": "stream",
     "text": [
      " 88%|███████████████████████████████████████████████████████████████████████▉          | 264/301 [09:30<01:15,  2.05s/it]"
     ]
    },
    {
     "name": "stdout",
     "output_type": "stream",
     "text": [
      "check-candidates Time: 0.007038116455078125s\n"
     ]
    },
    {
     "name": "stderr",
     "output_type": "stream",
     "text": [
      " 88%|████████████████████████████████████████████████████████████████████████▏         | 265/301 [09:33<01:13,  2.05s/it]"
     ]
    },
    {
     "name": "stdout",
     "output_type": "stream",
     "text": [
      "check-candidates Time: 0.009975194931030273s\n"
     ]
    },
    {
     "name": "stderr",
     "output_type": "stream",
     "text": [
      " 88%|████████████████████████████████████████████████████████████████████████▍         | 266/301 [09:35<01:11,  2.05s/it]"
     ]
    },
    {
     "name": "stdout",
     "output_type": "stream",
     "text": [
      "check-candidates Time: 0.02804708480834961s\n"
     ]
    },
    {
     "name": "stderr",
     "output_type": "stream",
     "text": [
      " 89%|████████████████████████████████████████████████████████████████████████▋         | 267/301 [09:37<01:11,  2.10s/it]"
     ]
    },
    {
     "name": "stdout",
     "output_type": "stream",
     "text": [
      "check-candidates Time: 0.0070989131927490234s\n"
     ]
    },
    {
     "name": "stderr",
     "output_type": "stream",
     "text": [
      " 89%|█████████████████████████████████████████████████████████████████████████         | 268/301 [09:39<01:08,  2.07s/it]"
     ]
    },
    {
     "name": "stdout",
     "output_type": "stream",
     "text": [
      "check-candidates Time: 0.01687312126159668s\n"
     ]
    },
    {
     "name": "stderr",
     "output_type": "stream",
     "text": [
      " 89%|█████████████████████████████████████████████████████████████████████████▎        | 269/301 [09:41<01:06,  2.08s/it]"
     ]
    },
    {
     "name": "stdout",
     "output_type": "stream",
     "text": [
      "check-candidates Time: 0.010370254516601562s\n"
     ]
    },
    {
     "name": "stderr",
     "output_type": "stream",
     "text": [
      " 90%|█████████████████████████████████████████████████████████████████████████▌        | 270/301 [09:43<01:04,  2.09s/it]"
     ]
    },
    {
     "name": "stdout",
     "output_type": "stream",
     "text": [
      "check-candidates Time: 0.008112668991088867s\n"
     ]
    },
    {
     "name": "stderr",
     "output_type": "stream",
     "text": [
      " 90%|█████████████████████████████████████████████████████████████████████████▊        | 271/301 [09:45<01:03,  2.10s/it]"
     ]
    },
    {
     "name": "stdout",
     "output_type": "stream",
     "text": [
      "check-candidates Time: 0.00782632827758789s\n"
     ]
    },
    {
     "name": "stderr",
     "output_type": "stream",
     "text": [
      " 90%|██████████████████████████████████████████████████████████████████████████        | 272/301 [09:47<01:00,  2.10s/it]"
     ]
    },
    {
     "name": "stdout",
     "output_type": "stream",
     "text": [
      "check-candidates Time: 0.015241146087646484s\n"
     ]
    },
    {
     "name": "stderr",
     "output_type": "stream",
     "text": [
      " 91%|██████████████████████████████████████████████████████████████████████████▎       | 273/301 [09:49<00:59,  2.12s/it]"
     ]
    },
    {
     "name": "stdout",
     "output_type": "stream",
     "text": [
      "check-candidates Time: 0.007260799407958984s\n"
     ]
    },
    {
     "name": "stderr",
     "output_type": "stream",
     "text": [
      " 91%|██████████████████████████████████████████████████████████████████████████▋       | 274/301 [09:52<00:57,  2.11s/it]"
     ]
    },
    {
     "name": "stdout",
     "output_type": "stream",
     "text": [
      "check-candidates Time: 0.007933855056762695s\n"
     ]
    },
    {
     "name": "stderr",
     "output_type": "stream",
     "text": [
      " 91%|██████████████████████████████████████████████████████████████████████████▉       | 275/301 [09:54<00:56,  2.16s/it]"
     ]
    },
    {
     "name": "stdout",
     "output_type": "stream",
     "text": [
      "check-candidates Time: 0.013994932174682617s\n"
     ]
    },
    {
     "name": "stderr",
     "output_type": "stream",
     "text": [
      " 92%|███████████████████████████████████████████████████████████████████████████▏      | 276/301 [09:56<00:53,  2.16s/it]"
     ]
    },
    {
     "name": "stdout",
     "output_type": "stream",
     "text": [
      "check-candidates Time: 0.017705917358398438s\n"
     ]
    },
    {
     "name": "stderr",
     "output_type": "stream",
     "text": [
      " 92%|███████████████████████████████████████████████████████████████████████████▍      | 277/301 [09:58<00:51,  2.15s/it]"
     ]
    },
    {
     "name": "stdout",
     "output_type": "stream",
     "text": [
      "check-candidates Time: 0.01415109634399414s\n"
     ]
    },
    {
     "name": "stderr",
     "output_type": "stream",
     "text": [
      " 92%|███████████████████████████████████████████████████████████████████████████▋      | 278/301 [10:00<00:49,  2.14s/it]"
     ]
    },
    {
     "name": "stdout",
     "output_type": "stream",
     "text": [
      "check-candidates Time: 0.008243083953857422s\n"
     ]
    },
    {
     "name": "stderr",
     "output_type": "stream",
     "text": [
      " 93%|████████████████████████████████████████████████████████████████████████████      | 279/301 [10:02<00:46,  2.11s/it]"
     ]
    },
    {
     "name": "stdout",
     "output_type": "stream",
     "text": [
      "check-candidates Time: 0.007384061813354492s\n"
     ]
    },
    {
     "name": "stderr",
     "output_type": "stream",
     "text": [
      " 93%|████████████████████████████████████████████████████████████████████████████▎     | 280/301 [10:04<00:43,  2.09s/it]"
     ]
    },
    {
     "name": "stdout",
     "output_type": "stream",
     "text": [
      "check-candidates Time: 0.008088111877441406s\n"
     ]
    },
    {
     "name": "stderr",
     "output_type": "stream",
     "text": [
      " 93%|████████████████████████████████████████████████████████████████████████████▌     | 281/301 [10:06<00:41,  2.07s/it]"
     ]
    },
    {
     "name": "stdout",
     "output_type": "stream",
     "text": [
      "check-candidates Time: 0.0073642730712890625s\n"
     ]
    },
    {
     "name": "stderr",
     "output_type": "stream",
     "text": [
      " 94%|████████████████████████████████████████████████████████████████████████████▊     | 282/301 [10:08<00:38,  2.04s/it]"
     ]
    },
    {
     "name": "stdout",
     "output_type": "stream",
     "text": [
      "check-candidates Time: 0.010408878326416016s\n"
     ]
    },
    {
     "name": "stderr",
     "output_type": "stream",
     "text": [
      " 94%|█████████████████████████████████████████████████████████████████████████████     | 283/301 [10:10<00:36,  2.03s/it]"
     ]
    },
    {
     "name": "stdout",
     "output_type": "stream",
     "text": [
      "check-candidates Time: 0.010900020599365234s\n"
     ]
    },
    {
     "name": "stderr",
     "output_type": "stream",
     "text": [
      " 94%|█████████████████████████████████████████████████████████████████████████████▎    | 284/301 [10:12<00:34,  2.01s/it]"
     ]
    },
    {
     "name": "stdout",
     "output_type": "stream",
     "text": [
      "check-candidates Time: 0.016866683959960938s\n"
     ]
    },
    {
     "name": "stderr",
     "output_type": "stream",
     "text": [
      " 95%|█████████████████████████████████████████████████████████████████████████████▋    | 285/301 [10:14<00:32,  2.03s/it]"
     ]
    },
    {
     "name": "stdout",
     "output_type": "stream",
     "text": [
      "check-candidates Time: 0.0075778961181640625s\n"
     ]
    },
    {
     "name": "stderr",
     "output_type": "stream",
     "text": [
      " 95%|█████████████████████████████████████████████████████████████████████████████▉    | 286/301 [10:16<00:30,  2.01s/it]"
     ]
    },
    {
     "name": "stdout",
     "output_type": "stream",
     "text": [
      "check-candidates Time: 0.015506982803344727s\n"
     ]
    },
    {
     "name": "stderr",
     "output_type": "stream",
     "text": [
      " 95%|██████████████████████████████████████████████████████████████████████████████▏   | 287/301 [10:18<00:28,  2.03s/it]"
     ]
    },
    {
     "name": "stdout",
     "output_type": "stream",
     "text": [
      "check-candidates Time: 0.014828920364379883s\n"
     ]
    },
    {
     "name": "stderr",
     "output_type": "stream",
     "text": [
      " 96%|██████████████████████████████████████████████████████████████████████████████▍   | 288/301 [10:20<00:26,  2.01s/it]"
     ]
    },
    {
     "name": "stdout",
     "output_type": "stream",
     "text": [
      "check-candidates Time: 0.009315013885498047s\n"
     ]
    },
    {
     "name": "stderr",
     "output_type": "stream",
     "text": [
      " 96%|██████████████████████████████████████████████████████████████████████████████▋   | 289/301 [10:22<00:23,  1.97s/it]"
     ]
    },
    {
     "name": "stdout",
     "output_type": "stream",
     "text": [
      "check-candidates Time: 0.01901412010192871s\n"
     ]
    },
    {
     "name": "stderr",
     "output_type": "stream",
     "text": [
      " 96%|███████████████████████████████████████████████████████████████████████████████   | 290/301 [10:24<00:21,  1.97s/it]"
     ]
    },
    {
     "name": "stdout",
     "output_type": "stream",
     "text": [
      "check-candidates Time: 0.010149002075195312s\n"
     ]
    },
    {
     "name": "stderr",
     "output_type": "stream",
     "text": [
      " 97%|███████████████████████████████████████████████████████████████████████████████▎  | 291/301 [10:26<00:19,  1.94s/it]"
     ]
    },
    {
     "name": "stdout",
     "output_type": "stream",
     "text": [
      "check-candidates Time: 0.0062139034271240234s\n"
     ]
    },
    {
     "name": "stderr",
     "output_type": "stream",
     "text": [
      " 97%|███████████████████████████████████████████████████████████████████████████████▌  | 292/301 [10:28<00:17,  1.91s/it]"
     ]
    },
    {
     "name": "stdout",
     "output_type": "stream",
     "text": [
      "check-candidates Time: 0.016559123992919922s\n"
     ]
    },
    {
     "name": "stderr",
     "output_type": "stream",
     "text": [
      " 97%|███████████████████████████████████████████████████████████████████████████████▊  | 293/301 [10:30<00:15,  1.91s/it]"
     ]
    },
    {
     "name": "stdout",
     "output_type": "stream",
     "text": [
      "check-candidates Time: 0.006075143814086914s\n"
     ]
    },
    {
     "name": "stderr",
     "output_type": "stream",
     "text": [
      " 98%|████████████████████████████████████████████████████████████████████████████████  | 294/301 [10:32<00:13,  1.89s/it]"
     ]
    },
    {
     "name": "stdout",
     "output_type": "stream",
     "text": [
      "check-candidates Time: 0.010940074920654297s\n"
     ]
    },
    {
     "name": "stderr",
     "output_type": "stream",
     "text": [
      " 98%|████████████████████████████████████████████████████████████████████████████████▎ | 295/301 [10:34<00:11,  1.89s/it]"
     ]
    },
    {
     "name": "stdout",
     "output_type": "stream",
     "text": [
      "check-candidates Time: 0.013742685317993164s\n"
     ]
    },
    {
     "name": "stderr",
     "output_type": "stream",
     "text": [
      " 98%|████████████████████████████████████████████████████████████████████████████████▋ | 296/301 [10:36<00:10,  2.12s/it]"
     ]
    },
    {
     "name": "stdout",
     "output_type": "stream",
     "text": [
      "check-candidates Time: 0.014281988143920898s\n"
     ]
    },
    {
     "name": "stderr",
     "output_type": "stream",
     "text": [
      " 99%|████████████████████████████████████████████████████████████████████████████████▉ | 297/301 [10:39<00:08,  2.21s/it]"
     ]
    },
    {
     "name": "stdout",
     "output_type": "stream",
     "text": [
      "check-candidates Time: 0.017924070358276367s\n"
     ]
    },
    {
     "name": "stderr",
     "output_type": "stream",
     "text": [
      " 99%|█████████████████████████████████████████████████████████████████████████████████▏| 298/301 [10:41<00:06,  2.16s/it]"
     ]
    },
    {
     "name": "stdout",
     "output_type": "stream",
     "text": [
      "check-candidates Time: 0.013680219650268555s\n"
     ]
    },
    {
     "name": "stderr",
     "output_type": "stream",
     "text": [
      " 99%|█████████████████████████████████████████████████████████████████████████████████▍| 299/301 [10:43<00:04,  2.31s/it]"
     ]
    },
    {
     "name": "stdout",
     "output_type": "stream",
     "text": [
      "check-candidates Time: 0.0070879459381103516s\n"
     ]
    },
    {
     "name": "stderr",
     "output_type": "stream",
     "text": [
      "100%|█████████████████████████████████████████████████████████████████████████████████▋| 300/301 [10:47<00:02,  2.73s/it]"
     ]
    },
    {
     "name": "stdout",
     "output_type": "stream",
     "text": [
      "check-candidates Time: 0.01830601692199707s\n"
     ]
    },
    {
     "name": "stderr",
     "output_type": "stream",
     "text": [
      "100%|██████████████████████████████████████████████████████████████████████████████████| 301/301 [10:50<00:00,  2.16s/it]\n"
     ]
    }
   ],
   "source": [
    "find_missing_correct_candidates(train_candidate_path, train_missing_candidates_path)"
   ]
  },
  {
   "cell_type": "code",
   "execution_count": 53,
   "id": "applied-senior",
   "metadata": {},
   "outputs": [
    {
     "name": "stdout",
     "output_type": "stream",
     "text": [
      "042AKDN1.csv\n",
      "1DQVRVUL.csv\n",
      "2VWPPCQM.csv\n",
      "4IJHCIR9.csv\n",
      "2OYAB7YM.csv\n",
      "5894JWA5.csv\n",
      "4Q6FAT24.csv\n",
      "3S6WON79.csv\n",
      "4IB27COT.csv\n",
      "2S72D3R9.csv\n",
      "49K301SA.csv\n",
      "03XJOJ15.csv\n",
      "0KL64BZL.csv\n",
      "1XV2X3XE.csv\n",
      "2J3MZCRD.csv\n",
      "59CFTDPL.csv\n",
      "19WCLMKZ.csv\n",
      "4722C9EQ.csv\n",
      "59JNC864.csv\n",
      "4KDMZHXJ.csv\n",
      "17DA0MJ4.csv\n",
      "2WRDGDBJ.csv\n",
      "4UUFDEP4.csv\n",
      "0VDX10IJ.csv\n",
      "1QGWWYAF.csv\n",
      "0IUSS6UH.csv\n",
      "42BKS5LP.csv\n",
      "40DGQ0R6.csv\n",
      "21P58N2X.csv\n",
      "10WA15QW.csv\n",
      "4ENVC6F0.csv\n",
      "39DC3Z7N.csv\n",
      "302H92MV.csv\n",
      "5VD9H3AD.csv\n",
      "1AXBOBYJ.csv\n",
      "4VL4BFPM.csv\n",
      "0Z8LKW3C.csv\n",
      "0KWK2FSC.csv\n",
      "28Y667AR.csv\n",
      "3K0JGMP1.csv\n",
      "1A51CWBN.csv\n",
      "4UZA5UWB.csv\n",
      "15CM535P.csv\n",
      "3CSAH6ZY.csv\n",
      "0MYK9SQC.csv\n",
      "06UFHM3B.csv\n",
      "06ZS1QBE.csv\n",
      "14DACNEL.csv\n",
      "2OJXQ9F3.csv\n",
      "0HZG8QGJ.csv\n",
      "5TWQ98LE.csv\n",
      "24OGNVVP.csv\n",
      "0XWQ7DA6.csv\n",
      "0ADP8WGU.csv\n",
      "0P4Y07PN.csv\n",
      "4C37XZHJ.csv\n",
      "26CIDK81.csv\n",
      "5J25NATF.csv\n",
      "3AK02Q9B.csv\n",
      "3EL4J49W.csv\n",
      "1JY71MSY.csv\n",
      "4LFJR3YN.csv\n",
      "243JI1XC.csv\n",
      "3SQ9UAK1.csv\n",
      "258AFYQJ.csv\n",
      "3HZEPYNC.csv\n",
      "0ZZFENJS.csv\n",
      "1XK9O8CF.csv\n",
      "20PYU63R.csv\n",
      "471N0AUD.csv\n",
      "03Q5JG9I.csv\n",
      "4N6X42PJ.csv\n",
      "2FHCJAMA.csv\n",
      "2ZYEX9U9.csv\n",
      "4E99I3P7.csv\n",
      "0VGKU21T.csv\n",
      "4VAYQOG0.csv\n",
      "1FIFDPBT.csv\n",
      "5E9CSACP.csv\n",
      "5BGVRHI5.csv\n",
      "0UJRG5XA.csv\n",
      "12MLK2A7.csv\n",
      "0VTG406B.csv\n",
      "3540Y3D5.csv\n",
      "3MKMD5TW.csv\n",
      "5WA7NENC.csv\n",
      "15HDRE87.csv\n",
      "36LCWPLR.csv\n",
      "1XPHI0P2.csv\n",
      "0RWHW0S0.csv\n",
      "2ZCUZYY9.csv\n",
      "479O847V.csv\n",
      "36KH7GH7.csv\n",
      "24VD82I7.csv\n",
      "1D0TLL3P.csv\n",
      "15Z7HD0M.csv\n",
      "1JMXOUP0.csv\n",
      "0ZXPJXH4.csv\n",
      "289YGN9G.csv\n",
      "3KX6UPPG.csv\n",
      "2TUG0XHN.csv\n",
      "5QDDFGBJ.csv\n",
      "18TCX9AJ.csv\n",
      "4L16JP9T.csv\n",
      "42WEUQ95.csv\n",
      "08XTIUJQ.csv\n",
      "4YBOUF9V.csv\n",
      "2OQR5KK1.csv\n",
      "3RC46CRC.csv\n",
      "48PAQE6M.csv\n",
      "5TXLGRXA.csv\n",
      "0Z7HR2PY.csv\n",
      "3DRSAGO5.csv\n",
      "2BRG4KEL.csv\n",
      "4I7A5GID.csv\n",
      "0BY9CFLK.csv\n",
      "3QZT9O12.csv\n",
      "340JKVHO.csv\n",
      "0D1JRXQD.csv\n",
      "1JCXMKCK.csv\n",
      "5PJ0EF0X.csv\n",
      "5BEY9DAJ.csv\n",
      "1UBAHGEU.csv\n",
      "41UF0D20.csv\n",
      "48BAS22X.csv\n",
      "11VNNTDS.csv\n",
      "3PZX8I05.csv\n",
      "1T2D8C5C.csv\n",
      "5GS30C2C.csv\n",
      "2P3KJ1P0.csv\n",
      "2ZLDMP9R.csv\n",
      "09Z268Z7.csv\n",
      "1DT331RM.csv\n",
      "5NMYKF77.csv\n",
      "3T93HF0D.csv\n",
      "09DZVIPV.csv\n",
      "19FQNTBF.csv\n",
      "1K47VLGF.csv\n",
      "1STAURLW.csv\n",
      "4DM4KN9O.csv\n",
      "174Q7GKD.csv\n",
      "1TRSZPVI.csv\n",
      "1SWM4IDV.csv\n",
      "06BZ6E4W.csv\n",
      "1375IHBW.csv\n",
      "1U6PF4FY.csv\n",
      "2XDZM14F.csv\n",
      "5CG871YQ.csv\n",
      "3IBPLURT.csv\n",
      "2JN1R1VW.csv\n",
      "4XIXYJZJ.csv\n",
      "1O72GQD8.csv\n",
      "3UP2SR30.csv\n",
      "1LI468T0.csv\n",
      "24VU5BR7.csv\n",
      "1FPJTMCX.csv\n",
      "5BD6VKB3.csv\n",
      "4QTU5MYM.csv\n",
      "45D6VIRT.csv\n",
      "4I995NNQ.csv\n",
      "27V1TQHW.csv\n",
      "0UX45YZS.csv\n",
      "4O1BS5W9.csv\n",
      "3TZ2D9V5.csv\n",
      "2Z7W9245.csv\n",
      "39HQAJDE.csv\n",
      "1JV6896P.csv\n",
      "263P426L.csv\n",
      "1FXQQ1RM.csv\n",
      "16F08KC4.csv\n",
      "0L4YDT86.csv\n",
      "1FP8LYOS.csv\n",
      "18T4PJWW.csv\n",
      "519M624G.csv\n",
      "2LC2LBG1.csv\n",
      "50ULP1KH.csv\n",
      "2BLFNACC.csv\n",
      "19VR20Q8.csv\n",
      "3FRIAFQG.csv\n",
      "2RTA5JIB.csv\n",
      "0HFY1TOW.csv\n",
      "23NFMDP0.csv\n",
      "2IQQE9DB.csv\n",
      "2QM0QJW9.csv\n",
      "3J5ABW9E.csv\n",
      "3FQ85RUH.csv\n",
      "1J4YRLOY.csv\n",
      "3PSDVWZR.csv\n",
      "15S9J1SE.csv\n",
      "1FF0TRWQ.csv\n",
      "5D3I2S1N.csv\n",
      "18PQGWE2.csv\n",
      "1CS2NQUR.csv\n",
      "04A3K0PO.csv\n",
      "2BATTV6X.csv\n",
      "4RB6CKKQ.csv\n",
      "5T891IJ9.csv\n",
      "1E1WKZOC.csv\n",
      "0DHFD9QY.csv\n",
      "5P2SOXGW.csv\n",
      "19NE0FCU.csv\n",
      "5SB78VPX.csv\n",
      "253OSZNL.csv\n",
      "27BGOKZ7.csv\n",
      "42CSV98Q.csv\n",
      "20ISN4OJ.csv\n",
      "54SEC9F3.csv\n",
      "5ECFP78V.csv\n",
      "0CHQAATH.csv\n",
      "2I24Y64Q.csv\n",
      "4WN91IQN.csv\n",
      "0DVQGVUW.csv\n",
      "1H6S7TGO.csv\n",
      "3WIJWVTF.csv\n",
      "3IALBWVT.csv\n",
      "3290T9NG.csv\n",
      "00YF468U.csv\n",
      "0DS28PUJ.csv\n",
      "4FXN1RZ3.csv\n",
      "25EPRHUJ.csv\n",
      "1JGP7FA0.csv\n",
      "0U3WMR09.csv\n",
      "49XGWHEN.csv\n",
      "3MFTI3Y1.csv\n",
      "2P4BZPW1.csv\n",
      "25KTY2D9.csv\n",
      "4ANNOIVH.csv\n",
      "3C74M7HU.csv\n",
      "29AXQS5A.csv\n",
      "2CPISXSF.csv\n",
      "0BM19RVO.csv\n",
      "2TG5KMPI.csv\n",
      "5KZVO2UP.csv\n",
      "3L4TR8X5.csv\n",
      "56CDHMVN.csv\n",
      "5S8PITYQ.csv\n",
      "0EH4XC4H.csv\n",
      "15ULGJXA.csv\n",
      "3O0C4D3O.csv\n",
      "24HLK9BD.csv\n",
      "3CUK6D56.csv\n",
      "1ZX2DCW7.csv\n",
      "5WFYRRY7.csv\n",
      "5MMHOLUI.csv\n",
      "085QNFGZ.csv\n",
      "3R0OGDXK.csv\n",
      "5G4M4L5W.csv\n",
      "01E31BCQ.csv\n",
      "0JSE9VIO.csv\n",
      "0A4KYJH5.csv\n",
      "568P9F4E.csv\n",
      "3CLS11K2.csv\n",
      "2AQ0VUOP.csv\n",
      "3HLRFWSX.csv\n",
      "5BVL4YJS.csv\n",
      "1T9NKN9B.csv\n",
      "4MGX23BZ.csv\n",
      "3TKOQZJ7.csv\n",
      "0B8EGHVB.csv\n",
      "3NCTWO03.csv\n",
      "0VC79Y6X.csv\n",
      "239AZL33.csv\n",
      "0LGYY0Y7.csv\n",
      "5739HKRB.csv\n",
      "32DWSB26.csv\n",
      "5IKCI9Z4.csv\n",
      "51BN46AU.csv\n",
      "3CJEDV9F.csv\n",
      "4NVYEVEQ.csv\n",
      "3IB64ASX.csv\n",
      "471ODBDH.csv\n",
      "1TQSKB2E.csv\n",
      "30KYZ3HO.csv\n",
      "1I3AJ8QT.csv\n",
      "2QS5IM8T.csv\n",
      "5Q5RASS8.csv\n",
      "5W6MRY0W.csv\n",
      "00UQHNO3.csv\n",
      "1SEMN3SZ.csv\n",
      "46HT6F8E.csv\n",
      "5NTTT408.csv\n",
      "5N8AUSXE.csv\n",
      "2XEP26CX.csv\n",
      "4ZZG4HMD.csv\n",
      "3T54D76A.csv\n",
      "4G8G7N8W.csv\n",
      "0M7R2JUU.csv\n",
      "2ZLGXNTV.csv\n",
      "4P9QJEV9.csv\n",
      "090EELY2.csv\n",
      "43NKPCQ8.csv\n",
      "328N1USF.csv\n",
      "32GFE6D8.csv\n",
      "5FMSUKCH.csv\n",
      "3S4OOVHT.csv\n"
     ]
    }
   ],
   "source": [
    "train_missing_df = concat_files(train_missing_candidates_path)"
   ]
  },
  {
   "cell_type": "code",
   "execution_count": 54,
   "id": "acknowledged-snowboard",
   "metadata": {},
   "outputs": [
    {
     "data": {
      "text/plain": [
       "106"
      ]
     },
     "execution_count": 54,
     "metadata": {},
     "output_type": "execute_result"
    }
   ],
   "source": [
    "len(train_missing_df)"
   ]
  },
  {
   "cell_type": "code",
   "execution_count": 55,
   "id": "ancient-labor",
   "metadata": {},
   "outputs": [
    {
     "data": {
      "text/html": [
       "<div>\n",
       "<style scoped>\n",
       "    .dataframe tbody tr th:only-of-type {\n",
       "        vertical-align: middle;\n",
       "    }\n",
       "\n",
       "    .dataframe tbody tr th {\n",
       "        vertical-align: top;\n",
       "    }\n",
       "\n",
       "    .dataframe thead th {\n",
       "        text-align: right;\n",
       "    }\n",
       "</style>\n",
       "<table border=\"1\" class=\"dataframe\">\n",
       "  <thead>\n",
       "    <tr style=\"text-align: right;\">\n",
       "      <th></th>\n",
       "      <th>column</th>\n",
       "      <th>row</th>\n",
       "      <th>label</th>\n",
       "      <th>context</th>\n",
       "      <th>GT_kg_id</th>\n",
       "      <th>GT_kg_label</th>\n",
       "      <th>filename</th>\n",
       "    </tr>\n",
       "  </thead>\n",
       "  <tbody>\n",
       "    <tr>\n",
       "      <th>0</th>\n",
       "      <td>0</td>\n",
       "      <td>3</td>\n",
       "      <td>JD 2194</td>\n",
       "      <td>-46.207207|-0.16881000000000002</td>\n",
       "      <td>Q12067892</td>\n",
       "      <td>HD 23194</td>\n",
       "      <td>5894JWA5.csv</td>\n",
       "    </tr>\n",
       "    <tr>\n",
       "      <th>1</th>\n",
       "      <td>0</td>\n",
       "      <td>7</td>\n",
       "      <td>JD 22234</td>\n",
       "      <td>61.28388|-0.88644</td>\n",
       "      <td>Q12067734</td>\n",
       "      <td>HD 222349</td>\n",
       "      <td>5894JWA5.csv</td>\n",
       "    </tr>\n",
       "    <tr>\n",
       "      <th>0</th>\n",
       "      <td>0</td>\n",
       "      <td>0</td>\n",
       "      <td>[FK2004] 118</td>\n",
       "      <td>44.74431|0.024648029999999998|160.17874999999998</td>\n",
       "      <td>Q78536288</td>\n",
       "      <td>[FK2002] 118</td>\n",
       "      <td>2J3MZCRD.csv</td>\n",
       "    </tr>\n",
       "    <tr>\n",
       "      <th>1</th>\n",
       "      <td>0</td>\n",
       "      <td>5</td>\n",
       "      <td>[FK2002]\"167</td>\n",
       "      <td>58.805476899999995|0.015226542999999999|186.49...</td>\n",
       "      <td>Q77924250</td>\n",
       "      <td>[FK2002] 167</td>\n",
       "      <td>2J3MZCRD.csv</td>\n",
       "    </tr>\n",
       "    <tr>\n",
       "      <th>2</th>\n",
       "      <td>0</td>\n",
       "      <td>6</td>\n",
       "      <td>[FK2002]25</td>\n",
       "      <td>56.67630912|0.00647559|165.01396464</td>\n",
       "      <td>Q77907580</td>\n",
       "      <td>[FK2002] 125</td>\n",
       "      <td>2J3MZCRD.csv</td>\n",
       "    </tr>\n",
       "    <tr>\n",
       "      <th>...</th>\n",
       "      <td>...</td>\n",
       "      <td>...</td>\n",
       "      <td>...</td>\n",
       "      <td>...</td>\n",
       "      <td>...</td>\n",
       "      <td>...</td>\n",
       "      <td>...</td>\n",
       "    </tr>\n",
       "    <tr>\n",
       "      <th>2</th>\n",
       "      <td>2</td>\n",
       "      <td>40</td>\n",
       "      <td>Kassrine</td>\n",
       "      <td>Arch of Septimis Severvs|listed monument of Tu...</td>\n",
       "      <td>Q276576</td>\n",
       "      <td>Beja Governorate</td>\n",
       "      <td>0VC79Y6X.csv</td>\n",
       "    </tr>\n",
       "    <tr>\n",
       "      <th>3</th>\n",
       "      <td>2</td>\n",
       "      <td>41</td>\n",
       "      <td>Kassrine</td>\n",
       "      <td>Arch of Alxander Severus|listed monument of Tu...</td>\n",
       "      <td>Q276576</td>\n",
       "      <td>Beja Governorate</td>\n",
       "      <td>0VC79Y6X.csv</td>\n",
       "    </tr>\n",
       "    <tr>\n",
       "      <th>0</th>\n",
       "      <td>0</td>\n",
       "      <td>2</td>\n",
       "      <td>John</td>\n",
       "      <td>House of Plantagenet|John Lackland|Beaumont Pa...</td>\n",
       "      <td>Q129308</td>\n",
       "      <td>John, King of England</td>\n",
       "      <td>3IB64ASX.csv</td>\n",
       "    </tr>\n",
       "    <tr>\n",
       "      <th>0</th>\n",
       "      <td>1</td>\n",
       "      <td>12</td>\n",
       "      <td>Turkestan</td>\n",
       "      <td>Turkistan|Brockhaus and Efron Encyclopedic Dic...</td>\n",
       "      <td>Q6549315</td>\n",
       "      <td>Turkestan</td>\n",
       "      <td>471ODBDH.csv</td>\n",
       "    </tr>\n",
       "    <tr>\n",
       "      <th>0</th>\n",
       "      <td>0</td>\n",
       "      <td>19</td>\n",
       "      <td>Whe Observatory</td>\n",
       "      <td>United Kingdom|Falmouth|Grade II listed building</td>\n",
       "      <td>Q26560028</td>\n",
       "      <td>The Observatory</td>\n",
       "      <td>328N1USF.csv</td>\n",
       "    </tr>\n",
       "  </tbody>\n",
       "</table>\n",
       "<p>106 rows × 7 columns</p>\n",
       "</div>"
      ],
      "text/plain": [
       "   column row            label  \\\n",
       "0       0   3          JD 2194   \n",
       "1       0   7         JD 22234   \n",
       "0       0   0     [FK2004] 118   \n",
       "1       0   5     [FK2002]\"167   \n",
       "2       0   6       [FK2002]25   \n",
       "..    ...  ..              ...   \n",
       "2       2  40         Kassrine   \n",
       "3       2  41         Kassrine   \n",
       "0       0   2             John   \n",
       "0       1  12        Turkestan   \n",
       "0       0  19  Whe Observatory   \n",
       "\n",
       "                                              context   GT_kg_id  \\\n",
       "0                     -46.207207|-0.16881000000000002  Q12067892   \n",
       "1                                   61.28388|-0.88644  Q12067734   \n",
       "0    44.74431|0.024648029999999998|160.17874999999998  Q78536288   \n",
       "1   58.805476899999995|0.015226542999999999|186.49...  Q77924250   \n",
       "2                 56.67630912|0.00647559|165.01396464  Q77907580   \n",
       "..                                                ...        ...   \n",
       "2   Arch of Septimis Severvs|listed monument of Tu...    Q276576   \n",
       "3   Arch of Alxander Severus|listed monument of Tu...    Q276576   \n",
       "0   House of Plantagenet|John Lackland|Beaumont Pa...    Q129308   \n",
       "0   Turkistan|Brockhaus and Efron Encyclopedic Dic...   Q6549315   \n",
       "0    United Kingdom|Falmouth|Grade II listed building  Q26560028   \n",
       "\n",
       "              GT_kg_label      filename  \n",
       "0                HD 23194  5894JWA5.csv  \n",
       "1               HD 222349  5894JWA5.csv  \n",
       "0            [FK2002] 118  2J3MZCRD.csv  \n",
       "1            [FK2002] 167  2J3MZCRD.csv  \n",
       "2            [FK2002] 125  2J3MZCRD.csv  \n",
       "..                    ...           ...  \n",
       "2        Beja Governorate  0VC79Y6X.csv  \n",
       "3        Beja Governorate  0VC79Y6X.csv  \n",
       "0   John, King of England  3IB64ASX.csv  \n",
       "0               Turkestan  471ODBDH.csv  \n",
       "0         The Observatory  328N1USF.csv  \n",
       "\n",
       "[106 rows x 7 columns]"
      ]
     },
     "execution_count": 55,
     "metadata": {},
     "output_type": "execute_result"
    }
   ],
   "source": [
    "train_missing_df"
   ]
  },
  {
   "cell_type": "code",
   "execution_count": 56,
   "id": "juvenile-allergy",
   "metadata": {},
   "outputs": [],
   "source": [
    "train_missing_df.to_csv(f\"{train_missing_candidates_path}/missing_concatenated.csv\", index=False)"
   ]
  },
  {
   "cell_type": "code",
   "execution_count": 57,
   "id": "93413abb-6d55-48b0-875e-921f8cc05b52",
   "metadata": {},
   "outputs": [],
   "source": [
    "def analysis(predictions_top_k):\n",
    "    analysis = []\n",
    "    for file in glob.glob(predictions_top_k + '/*.csv'):\n",
    "        filename = file.split(\"/\")[-1]\n",
    "        if os.path.getsize(file) == 0:\n",
    "                    continue\n",
    "        df = pd.read_csv(file)\n",
    "        df.fillna(0.0, inplace=True)\n",
    "        col_grpd = df.groupby(by=['column'])\n",
    "        for col, cgdf in col_grpd:\n",
    "            cs_avg = cgdf[cgdf['evaluation_label'] == 1]['context_score_3'].mean()\n",
    "            pgt_centroid_score_avg = cgdf[cgdf['evaluation_label'] == 1]['pgt_centroid_score'].mean()\n",
    "            pgt_class_count_tf_idf_avg = cgdf[cgdf['evaluation_label'] == 1]['pgt_class_count_tf_idf_score'].mean()\n",
    "            pgt_prop_count_tf_idf_avg = cgdf[cgdf['evaluation_label'] == 1]['pgt_property_count_tf_idf_score'].mean()\n",
    "            row_grpd = cgdf.groupby(by=['row'])\n",
    "            for row, rgdf in row_grpd:\n",
    "                rgdf = rgdf[rgdf['rank'].astype(int) == 1]\n",
    "                if filename == '0QWF60VG.csv' and col == 0 and row == 0:\n",
    "                    print(rgdf['kg_id'], rgdf['GT_kg_id'], rgdf['evaluation_label'])\n",
    "                for i, r in rgdf.iterrows():\n",
    "                    if r['evaluation_label'] == -1 and r['kg_id'] != r['GT_kg_id']:\n",
    "                        analysis.append({\n",
    "                            'filename': filename,\n",
    "                            'column': col,\n",
    "                            'row': row,\n",
    "                            'kg_id': r['kg_id'],\n",
    "                            'label': r['label'],\n",
    "                            'GT_kg_id': r['GT_kg_id'],\n",
    "                            'GT_kg_label': r['GT_kg_label'],\n",
    "                            'context_score_3_average': cs_avg,\n",
    "                            'context_score_3': r['context_score_3'],\n",
    "                            'pgt_centroid_score_avg': pgt_centroid_score_avg,\n",
    "                            'pgt_centroid_score': r['pgt_centroid_score'],\n",
    "                            'pgt_class_count_tf_idf_avg': pgt_class_count_tf_idf_avg,\n",
    "                            'pgt_class_count_tf_idf_score': r['pgt_class_count_tf_idf_score'],\n",
    "                            'pgt_property_count_tf_idf_avg': pgt_prop_count_tf_idf_avg,\n",
    "                            'pgt_property_count_tf_idf_score': r['pgt_property_count_tf_idf_score'],\n",
    "                            'siamese_prediction': r['siamese_prediction'],\n",
    "                            'best_str_similarity': r['best_str_similarity'],\n",
    "                            'ignore_candidate': r['ignore_candidate'],\n",
    "                            'kth_percenter': r['kth_percenter'],\n",
    "                            'pseudo_gt': r['pseudo_gt']\n",
    "                        })\n",
    "    return pd.DataFrame(analysis).sort_values(by=['filename', 'column', 'row'], ascending=[True, True, True])"
   ]
  },
  {
   "cell_type": "code",
   "execution_count": 58,
   "id": "7da81686-ee36-4383-8f21-1c633d42ffa6",
   "metadata": {},
   "outputs": [
    {
     "name": "stdout",
     "output_type": "stream",
     "text": [
      "0    Q2322279\n",
      "Name: kg_id, dtype: object 0    Q17606582\n",
      "Name: GT_kg_id, dtype: object 0   -1\n",
      "Name: evaluation_label, dtype: int64\n"
     ]
    }
   ],
   "source": [
    "analysis_df = analysis(dev_predictions_top_k)"
   ]
  },
  {
   "cell_type": "code",
   "execution_count": 59,
   "id": "271c0f37-4fe8-43d3-afbf-93f62b82b703",
   "metadata": {},
   "outputs": [
    {
     "data": {
      "text/html": [
       "<div>\n",
       "<style scoped>\n",
       "    .dataframe tbody tr th:only-of-type {\n",
       "        vertical-align: middle;\n",
       "    }\n",
       "\n",
       "    .dataframe tbody tr th {\n",
       "        vertical-align: top;\n",
       "    }\n",
       "\n",
       "    .dataframe thead th {\n",
       "        text-align: right;\n",
       "    }\n",
       "</style>\n",
       "<table border=\"1\" class=\"dataframe\">\n",
       "  <thead>\n",
       "    <tr style=\"text-align: right;\">\n",
       "      <th></th>\n",
       "      <th>filename</th>\n",
       "      <th>column</th>\n",
       "      <th>row</th>\n",
       "      <th>kg_id</th>\n",
       "      <th>label</th>\n",
       "      <th>GT_kg_id</th>\n",
       "      <th>GT_kg_label</th>\n",
       "      <th>context_score_3_average</th>\n",
       "      <th>context_score_3</th>\n",
       "      <th>pgt_centroid_score_avg</th>\n",
       "      <th>pgt_centroid_score</th>\n",
       "      <th>pgt_class_count_tf_idf_avg</th>\n",
       "      <th>pgt_class_count_tf_idf_score</th>\n",
       "      <th>pgt_property_count_tf_idf_avg</th>\n",
       "      <th>pgt_property_count_tf_idf_score</th>\n",
       "      <th>siamese_prediction</th>\n",
       "      <th>best_str_similarity</th>\n",
       "      <th>ignore_candidate</th>\n",
       "      <th>kth_percenter</th>\n",
       "      <th>pseudo_gt</th>\n",
       "    </tr>\n",
       "  </thead>\n",
       "  <tbody>\n",
       "    <tr>\n",
       "      <th>46</th>\n",
       "      <td>0G9YPQC0.csv</td>\n",
       "      <td>0</td>\n",
       "      <td>12</td>\n",
       "      <td>Q4718151</td>\n",
       "      <td>Alexander</td>\n",
       "      <td>Q1816386</td>\n",
       "      <td>Alexander</td>\n",
       "      <td>0.507937</td>\n",
       "      <td>0.000000</td>\n",
       "      <td>0.915846</td>\n",
       "      <td>0.181738</td>\n",
       "      <td>0.980586</td>\n",
       "      <td>0.026926</td>\n",
       "      <td>0.755590</td>\n",
       "      <td>0.106657</td>\n",
       "      <td>0.000063</td>\n",
       "      <td>1.000000</td>\n",
       "      <td>1</td>\n",
       "      <td>0</td>\n",
       "      <td>-1</td>\n",
       "    </tr>\n",
       "    <tr>\n",
       "      <th>47</th>\n",
       "      <td>0G9YPQC0.csv</td>\n",
       "      <td>2</td>\n",
       "      <td>0</td>\n",
       "      <td>Q1105359</td>\n",
       "      <td>cocktail</td>\n",
       "      <td>Q134768</td>\n",
       "      <td>cocktail</td>\n",
       "      <td>0.000000</td>\n",
       "      <td>0.000000</td>\n",
       "      <td>0.454861</td>\n",
       "      <td>1.000000</td>\n",
       "      <td>0.089061</td>\n",
       "      <td>1.000000</td>\n",
       "      <td>0.071663</td>\n",
       "      <td>0.931981</td>\n",
       "      <td>0.999977</td>\n",
       "      <td>1.000000</td>\n",
       "      <td>0</td>\n",
       "      <td>1</td>\n",
       "      <td>1</td>\n",
       "    </tr>\n",
       "    <tr>\n",
       "      <th>48</th>\n",
       "      <td>0G9YPQC0.csv</td>\n",
       "      <td>2</td>\n",
       "      <td>1</td>\n",
       "      <td>Q1105359</td>\n",
       "      <td>cocktail</td>\n",
       "      <td>Q134768</td>\n",
       "      <td>cocktail</td>\n",
       "      <td>0.000000</td>\n",
       "      <td>0.000000</td>\n",
       "      <td>0.454861</td>\n",
       "      <td>1.000000</td>\n",
       "      <td>0.089061</td>\n",
       "      <td>1.000000</td>\n",
       "      <td>0.071663</td>\n",
       "      <td>0.931981</td>\n",
       "      <td>0.999977</td>\n",
       "      <td>1.000000</td>\n",
       "      <td>1</td>\n",
       "      <td>0</td>\n",
       "      <td>-1</td>\n",
       "    </tr>\n",
       "    <tr>\n",
       "      <th>49</th>\n",
       "      <td>0G9YPQC0.csv</td>\n",
       "      <td>2</td>\n",
       "      <td>2</td>\n",
       "      <td>Q1105359</td>\n",
       "      <td>cocktail</td>\n",
       "      <td>Q134768</td>\n",
       "      <td>cocktail</td>\n",
       "      <td>0.000000</td>\n",
       "      <td>0.000000</td>\n",
       "      <td>0.454861</td>\n",
       "      <td>1.000000</td>\n",
       "      <td>0.089061</td>\n",
       "      <td>1.000000</td>\n",
       "      <td>0.071663</td>\n",
       "      <td>0.931981</td>\n",
       "      <td>0.999977</td>\n",
       "      <td>1.000000</td>\n",
       "      <td>1</td>\n",
       "      <td>0</td>\n",
       "      <td>-1</td>\n",
       "    </tr>\n",
       "    <tr>\n",
       "      <th>50</th>\n",
       "      <td>0G9YPQC0.csv</td>\n",
       "      <td>2</td>\n",
       "      <td>3</td>\n",
       "      <td>Q1105359</td>\n",
       "      <td>cocktail</td>\n",
       "      <td>Q134768</td>\n",
       "      <td>cocktail</td>\n",
       "      <td>0.000000</td>\n",
       "      <td>0.000000</td>\n",
       "      <td>0.454861</td>\n",
       "      <td>1.000000</td>\n",
       "      <td>0.089061</td>\n",
       "      <td>1.000000</td>\n",
       "      <td>0.071663</td>\n",
       "      <td>0.931981</td>\n",
       "      <td>0.999977</td>\n",
       "      <td>1.000000</td>\n",
       "      <td>1</td>\n",
       "      <td>0</td>\n",
       "      <td>-1</td>\n",
       "    </tr>\n",
       "    <tr>\n",
       "      <th>...</th>\n",
       "      <td>...</td>\n",
       "      <td>...</td>\n",
       "      <td>...</td>\n",
       "      <td>...</td>\n",
       "      <td>...</td>\n",
       "      <td>...</td>\n",
       "      <td>...</td>\n",
       "      <td>...</td>\n",
       "      <td>...</td>\n",
       "      <td>...</td>\n",
       "      <td>...</td>\n",
       "      <td>...</td>\n",
       "      <td>...</td>\n",
       "      <td>...</td>\n",
       "      <td>...</td>\n",
       "      <td>...</td>\n",
       "      <td>...</td>\n",
       "      <td>...</td>\n",
       "      <td>...</td>\n",
       "      <td>...</td>\n",
       "    </tr>\n",
       "    <tr>\n",
       "      <th>3</th>\n",
       "      <td>58E7A5WL.csv</td>\n",
       "      <td>0</td>\n",
       "      <td>20</td>\n",
       "      <td>Q22246147</td>\n",
       "      <td>The Crypt</td>\n",
       "      <td>Q22246155</td>\n",
       "      <td>The Crypt</td>\n",
       "      <td>0.731661</td>\n",
       "      <td>0.507937</td>\n",
       "      <td>0.952374</td>\n",
       "      <td>0.994435</td>\n",
       "      <td>1.000000</td>\n",
       "      <td>1.000000</td>\n",
       "      <td>0.816708</td>\n",
       "      <td>0.844250</td>\n",
       "      <td>0.999968</td>\n",
       "      <td>1.000000</td>\n",
       "      <td>1</td>\n",
       "      <td>0</td>\n",
       "      <td>-1</td>\n",
       "    </tr>\n",
       "    <tr>\n",
       "      <th>4</th>\n",
       "      <td>58E7A5WL.csv</td>\n",
       "      <td>0</td>\n",
       "      <td>21</td>\n",
       "      <td>Q22245990</td>\n",
       "      <td>The Shadow on the House</td>\n",
       "      <td>Q22245982</td>\n",
       "      <td>The Shadow on the House</td>\n",
       "      <td>0.731661</td>\n",
       "      <td>0.507937</td>\n",
       "      <td>0.952374</td>\n",
       "      <td>0.992174</td>\n",
       "      <td>1.000000</td>\n",
       "      <td>1.000000</td>\n",
       "      <td>0.816708</td>\n",
       "      <td>0.844250</td>\n",
       "      <td>0.999968</td>\n",
       "      <td>1.000000</td>\n",
       "      <td>0</td>\n",
       "      <td>1</td>\n",
       "      <td>-1</td>\n",
       "    </tr>\n",
       "    <tr>\n",
       "      <th>71</th>\n",
       "      <td>5PKTGQ6Q.csv</td>\n",
       "      <td>0</td>\n",
       "      <td>5</td>\n",
       "      <td>Q64009286</td>\n",
       "      <td>2015 Vall-llobrega Town Council electjon</td>\n",
       "      <td>Q64512660</td>\n",
       "      <td>2015 Vall-llobrega Town Council election</td>\n",
       "      <td>0.519234</td>\n",
       "      <td>0.496428</td>\n",
       "      <td>0.926001</td>\n",
       "      <td>0.887802</td>\n",
       "      <td>1.000000</td>\n",
       "      <td>1.000000</td>\n",
       "      <td>0.931981</td>\n",
       "      <td>0.931981</td>\n",
       "      <td>0.999944</td>\n",
       "      <td>0.904414</td>\n",
       "      <td>1</td>\n",
       "      <td>0</td>\n",
       "      <td>-1</td>\n",
       "    </tr>\n",
       "    <tr>\n",
       "      <th>72</th>\n",
       "      <td>5PKTGQ6Q.csv</td>\n",
       "      <td>0</td>\n",
       "      <td>8</td>\n",
       "      <td>Q64492293</td>\n",
       "      <td>2011 Ullastret Town Councl election</td>\n",
       "      <td>Q64506148</td>\n",
       "      <td>2011 Ullastret Town Council election</td>\n",
       "      <td>0.519234</td>\n",
       "      <td>0.490891</td>\n",
       "      <td>0.926001</td>\n",
       "      <td>0.910435</td>\n",
       "      <td>1.000000</td>\n",
       "      <td>1.000000</td>\n",
       "      <td>0.931981</td>\n",
       "      <td>0.931981</td>\n",
       "      <td>0.999945</td>\n",
       "      <td>0.902434</td>\n",
       "      <td>1</td>\n",
       "      <td>0</td>\n",
       "      <td>-1</td>\n",
       "    </tr>\n",
       "    <tr>\n",
       "      <th>73</th>\n",
       "      <td>5PKTGQ6Q.csv</td>\n",
       "      <td>0</td>\n",
       "      <td>9</td>\n",
       "      <td>Q64256614</td>\n",
       "      <td>2015 Ullastret Town Council eection</td>\n",
       "      <td>Q64506063</td>\n",
       "      <td>2015 Ullastret Town Council election</td>\n",
       "      <td>0.519234</td>\n",
       "      <td>0.490468</td>\n",
       "      <td>0.926001</td>\n",
       "      <td>0.898054</td>\n",
       "      <td>1.000000</td>\n",
       "      <td>1.000000</td>\n",
       "      <td>0.931981</td>\n",
       "      <td>0.931981</td>\n",
       "      <td>0.999945</td>\n",
       "      <td>0.902765</td>\n",
       "      <td>1</td>\n",
       "      <td>0</td>\n",
       "      <td>-1</td>\n",
       "    </tr>\n",
       "  </tbody>\n",
       "</table>\n",
       "<p>75 rows × 20 columns</p>\n",
       "</div>"
      ],
      "text/plain": [
       "        filename  column  row      kg_id  \\\n",
       "46  0G9YPQC0.csv       0   12   Q4718151   \n",
       "47  0G9YPQC0.csv       2    0   Q1105359   \n",
       "48  0G9YPQC0.csv       2    1   Q1105359   \n",
       "49  0G9YPQC0.csv       2    2   Q1105359   \n",
       "50  0G9YPQC0.csv       2    3   Q1105359   \n",
       "..           ...     ...  ...        ...   \n",
       "3   58E7A5WL.csv       0   20  Q22246147   \n",
       "4   58E7A5WL.csv       0   21  Q22245990   \n",
       "71  5PKTGQ6Q.csv       0    5  Q64009286   \n",
       "72  5PKTGQ6Q.csv       0    8  Q64492293   \n",
       "73  5PKTGQ6Q.csv       0    9  Q64256614   \n",
       "\n",
       "                                       label   GT_kg_id  \\\n",
       "46                                 Alexander   Q1816386   \n",
       "47                                  cocktail    Q134768   \n",
       "48                                  cocktail    Q134768   \n",
       "49                                  cocktail    Q134768   \n",
       "50                                  cocktail    Q134768   \n",
       "..                                       ...        ...   \n",
       "3                                  The Crypt  Q22246155   \n",
       "4                    The Shadow on the House  Q22245982   \n",
       "71  2015 Vall-llobrega Town Council electjon  Q64512660   \n",
       "72       2011 Ullastret Town Councl election  Q64506148   \n",
       "73       2015 Ullastret Town Council eection  Q64506063   \n",
       "\n",
       "                                 GT_kg_label  context_score_3_average  \\\n",
       "46                                 Alexander                 0.507937   \n",
       "47                                  cocktail                 0.000000   \n",
       "48                                  cocktail                 0.000000   \n",
       "49                                  cocktail                 0.000000   \n",
       "50                                  cocktail                 0.000000   \n",
       "..                                       ...                      ...   \n",
       "3                                  The Crypt                 0.731661   \n",
       "4                    The Shadow on the House                 0.731661   \n",
       "71  2015 Vall-llobrega Town Council election                 0.519234   \n",
       "72      2011 Ullastret Town Council election                 0.519234   \n",
       "73      2015 Ullastret Town Council election                 0.519234   \n",
       "\n",
       "    context_score_3  pgt_centroid_score_avg  pgt_centroid_score  \\\n",
       "46         0.000000                0.915846            0.181738   \n",
       "47         0.000000                0.454861            1.000000   \n",
       "48         0.000000                0.454861            1.000000   \n",
       "49         0.000000                0.454861            1.000000   \n",
       "50         0.000000                0.454861            1.000000   \n",
       "..              ...                     ...                 ...   \n",
       "3          0.507937                0.952374            0.994435   \n",
       "4          0.507937                0.952374            0.992174   \n",
       "71         0.496428                0.926001            0.887802   \n",
       "72         0.490891                0.926001            0.910435   \n",
       "73         0.490468                0.926001            0.898054   \n",
       "\n",
       "    pgt_class_count_tf_idf_avg  pgt_class_count_tf_idf_score  \\\n",
       "46                    0.980586                      0.026926   \n",
       "47                    0.089061                      1.000000   \n",
       "48                    0.089061                      1.000000   \n",
       "49                    0.089061                      1.000000   \n",
       "50                    0.089061                      1.000000   \n",
       "..                         ...                           ...   \n",
       "3                     1.000000                      1.000000   \n",
       "4                     1.000000                      1.000000   \n",
       "71                    1.000000                      1.000000   \n",
       "72                    1.000000                      1.000000   \n",
       "73                    1.000000                      1.000000   \n",
       "\n",
       "    pgt_property_count_tf_idf_avg  pgt_property_count_tf_idf_score  \\\n",
       "46                       0.755590                         0.106657   \n",
       "47                       0.071663                         0.931981   \n",
       "48                       0.071663                         0.931981   \n",
       "49                       0.071663                         0.931981   \n",
       "50                       0.071663                         0.931981   \n",
       "..                            ...                              ...   \n",
       "3                        0.816708                         0.844250   \n",
       "4                        0.816708                         0.844250   \n",
       "71                       0.931981                         0.931981   \n",
       "72                       0.931981                         0.931981   \n",
       "73                       0.931981                         0.931981   \n",
       "\n",
       "    siamese_prediction  best_str_similarity  ignore_candidate  kth_percenter  \\\n",
       "46            0.000063             1.000000                 1              0   \n",
       "47            0.999977             1.000000                 0              1   \n",
       "48            0.999977             1.000000                 1              0   \n",
       "49            0.999977             1.000000                 1              0   \n",
       "50            0.999977             1.000000                 1              0   \n",
       "..                 ...                  ...               ...            ...   \n",
       "3             0.999968             1.000000                 1              0   \n",
       "4             0.999968             1.000000                 0              1   \n",
       "71            0.999944             0.904414                 1              0   \n",
       "72            0.999945             0.902434                 1              0   \n",
       "73            0.999945             0.902765                 1              0   \n",
       "\n",
       "    pseudo_gt  \n",
       "46         -1  \n",
       "47          1  \n",
       "48         -1  \n",
       "49         -1  \n",
       "50         -1  \n",
       "..        ...  \n",
       "3          -1  \n",
       "4          -1  \n",
       "71         -1  \n",
       "72         -1  \n",
       "73         -1  \n",
       "\n",
       "[75 rows x 20 columns]"
      ]
     },
     "execution_count": 59,
     "metadata": {},
     "output_type": "execute_result"
    }
   ],
   "source": [
    "analysis_df"
   ]
  },
  {
   "cell_type": "code",
   "execution_count": 60,
   "id": "be5cf7c8-30ab-4267-8739-66e96da08c24",
   "metadata": {},
   "outputs": [],
   "source": [
    "analysis_df.to_csv(dev_incorrect_answers_path, index=False)"
   ]
  },
  {
   "cell_type": "code",
   "execution_count": null,
   "id": "14d52250-6ed0-4c0a-b51d-fba05866dd8a",
   "metadata": {},
   "outputs": [],
   "source": []
  }
 ],
 "metadata": {
  "kernelspec": {
   "display_name": "tl_env",
   "language": "python",
   "name": "tl_env"
  },
  "language_info": {
   "codemirror_mode": {
    "name": "ipython",
    "version": 3
   },
   "file_extension": ".py",
   "mimetype": "text/x-python",
   "name": "python",
   "nbconvert_exporter": "python",
   "pygments_lexer": "ipython3",
   "version": "3.8.3"
  }
 },
 "nbformat": 4,
 "nbformat_minor": 5
}

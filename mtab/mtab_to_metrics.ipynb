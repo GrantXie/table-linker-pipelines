{
 "cells": [
  {
   "cell_type": "code",
   "execution_count": 348,
   "metadata": {},
   "outputs": [],
   "source": [
    "import json\n",
    "import glob\n",
    "import pandas as pd\n",
    "import os\n",
    "import warnings\n",
    "warnings.filterwarnings(\"ignore\")"
   ]
  },
  {
   "cell_type": "markdown",
   "metadata": {},
   "source": [
    "## Setup parameter\n"
   ]
  },
  {
   "cell_type": "code",
   "execution_count": 356,
   "metadata": {},
   "outputs": [],
   "source": [
    "input_file_path ='./t2dv2-dev-input'\n",
    "json_save_path = './mtab_json_dev'\n",
    "csv_save_path = './mtab_csv_dev'\n",
    "gt_file_path = './round_1'\n",
    "gt_label_path = './mtab_gt_dev'\n",
    "metrics_save_path = './mtab_metrics_dev'\n",
    "total_metrics = 'dev_results.csv'\n",
    "files_to_join = ['./dev_predictions_metrics/metrics_1.csv']\n",
    "tags = ['tl1']\n",
    "limit = 1000"
   ]
  },
  {
   "cell_type": "code",
   "execution_count": 297,
   "metadata": {},
   "outputs": [],
   "source": [
    "!mkdir -p $json_save_path\n",
    "!mkdir -p $csv_save_path\n",
    "!mkdir -p $gt_label_path\n",
    "!mkdir -p $metrics_save_path"
   ]
  },
  {
   "cell_type": "code",
   "execution_count": 259,
   "metadata": {},
   "outputs": [
    {
     "data": {
      "text/plain": [
       "'./mtab_json_test'"
      ]
     },
     "execution_count": 259,
     "metadata": {},
     "output_type": "execute_result"
    }
   ],
   "source": [
    "json_save_path"
   ]
  },
  {
   "cell_type": "markdown",
   "metadata": {},
   "source": [
    "## Get MTab created json file"
   ]
  },
  {
   "cell_type": "code",
   "execution_count": 260,
   "metadata": {},
   "outputs": [
    {
     "name": "stdout",
     "output_type": "stream",
     "text": [
      "  % Total    % Received % Xferd  Average Speed   Time    Time     Time  Current\n",
      "                                 Dload  Upload   Total   Spent    Left  Speed\n",
      "100  228k  100  212k  100 16493   1644    124  0:02:13  0:02:12  0:00:01 4875016493    0     0  100 16493      0   4586  0:00:03  0:00:03 --:--:--  4586    0    312  0:00:52  0:00:52 --:--:--     09 --:--:--     01:07  0:01:06  0:00:01     0    0    149  0:01:50  0:01:49  0:00:01     0\n",
      "  % Total    % Received % Xferd  Average Speed   Time    Time     Time  Current\n",
      "                                 Dload  Upload   Total   Spent    Left  Speed\n",
      "100 24538  100 22269  100  2269   1980    201  0:00:11  0:00:11 --:--:--  4665\n",
      "  % Total    % Received % Xferd  Average Speed   Time    Time     Time  Current\n",
      "                                 Dload  Upload   Total   Spent    Left  Speed\n",
      "100 30358  100 27133  100  3225   2983    354  0:00:09  0:00:09 --:--:--  7489:08 --:--:--     06  3509\n",
      "  % Total    % Received % Xferd  Average Speed   Time    Time     Time  Current\n",
      "                                 Dload  Upload   Total   Spent    Left  Speed\n",
      "100 65846  100 60816  100  5030   1296    107  0:00:47  0:00:46  0:00:01 1839000:34  0:00:34 --:--:--     000:40  0:00:40 --:--:--     0\n",
      "  % Total    % Received % Xferd  Average Speed   Time    Time     Time  Current\n",
      "                                 Dload  Upload   Total   Spent    Left  Speed\n",
      "100 67798  100 62090  100  5708   1720    158  0:00:36  0:00:36 --:--:-- 17770    0     0  100  5708      0    495  0:00:11  0:00:11 --:--:--     0    159  0:00:35  0:00:35 --:--:--     0\n",
      "  % Total    % Received % Xferd  Average Speed   Time    Time     Time  Current\n",
      "                                 Dload  Upload   Total   Spent    Left  Speed\n",
      "100 21034  100 19506  100  1528   2470    193  0:00:07  0:00:07 --:--:--  4400\n",
      "  % Total    % Received % Xferd  Average Speed   Time    Time     Time  Current\n",
      "                                 Dload  Upload   Total   Spent    Left  Speed\n",
      "100  203k  100  194k  100  9394   1190     56  0:02:47  0:02:47 --:--:-- 523370  9394      0     77  0:02:02  0:02:01  0:00:01     02:22  0:02:20  0:00:02     0   0     58  0:02:41  0:02:41 --:--:--     0\n",
      "  % Total    % Received % Xferd  Average Speed   Time    Time     Time  Current\n",
      "                                 Dload  Upload   Total   Spent    Left  Speed\n",
      "100  285k  100  256k  100 29829   2176    247  0:02:00  0:02:00 --:--:-- 76453:01  0:01:01 --:--:--     029      0    474  0:01:02  0:01:02 --:--:--     01:16 --:--:--     0    271  0:01:50  0:01:49  0:00:01     0 0:01:59  0:00:01     0\n",
      "  % Total    % Received % Xferd  Average Speed   Time    Time     Time  Current\n",
      "                                 Dload  Upload   Total   Spent    Left  Speed\n",
      "100 75682  100 68244  100  7438    734     80  0:01:32  0:01:32 --:--:-- 16821   269  0:00:27  0:00:27 --:--:--     0     0    178  0:00:41  0:00:41 --:--:--     02  0:01:31  0:00:01     0\n",
      "  % Total    % Received % Xferd  Average Speed   Time    Time     Time  Current\n",
      "                                 Dload  Upload   Total   Spent    Left  Speed\n",
      "100 29102  100 27017  100  2085   2512    193  0:00:10  0:00:10 --:--:--  8201\n"
     ]
    }
   ],
   "source": [
    "ls = glob.glob(input_file_path + \"/*.csv\")\n",
    "\n",
    "for file in ls:\n",
    "    json_name = json_save_path + file[len(input_file_path):len(file)-4] + '.json'\n",
    "    !curl -X POST -F file=@$file https://mtab.app/api/v1/mtab?limit=$limit -o $json_name"
   ]
  },
  {
   "cell_type": "markdown",
   "metadata": {},
   "source": [
    "## Transform json to table-linker format csv"
   ]
  },
  {
   "cell_type": "code",
   "execution_count": 303,
   "metadata": {},
   "outputs": [],
   "source": [
    "ls = glob.glob( json_save_path+ \"/*.json\")\n",
    "for file in ls:\n",
    "    if os.path.getsize(file) == 0:\n",
    "        continue\n",
    "    f = open(file)\n",
    "    data = json.load(f)\n",
    "    \n",
    "    # get data and input from json file to arrays \n",
    "    target = data['tables'][0]['semantic']['cea']\n",
    "    inp = data['tables'][0]['table_cells']\n",
    "\n",
    "\n",
    "    #load the data we want\n",
    "    annotation = []\n",
    "    desc= []\n",
    "    kg_id = []\n",
    "    kg_label = []\n",
    "    wikipedia = []\n",
    "    target_ls = []\n",
    "    tar = []\n",
    "    col = []\n",
    "    for i in range(0, len(target)):\n",
    "        if 'dbpedia' in target[i]['annotation']:\n",
    "            annotation.append(target[i]['annotation']['dbpedia'][target[i]['annotation']['dbpedia'].find('resource/')+9:])\n",
    "        else:\n",
    "            annotation.append('')\n",
    "        desc.append(target[i]['annotation']['desc'])\n",
    "        kg_label.append(target[i]['annotation']['label'])\n",
    "        kg_id.append(target[i]['annotation']['wikidata'][target[i]['annotation']['wikidata'].find('/entity/')+8:])\n",
    "\n",
    "        if 'wikipedia' in target[i]['annotation']:\n",
    "            wikipedia.append(target[i]['annotation']['wikipedia'][target[i]['annotation']['wikipedia'].find('/wiki/')+6:])\n",
    "        else:\n",
    "            wikipedia.append('')\n",
    "        tar.append(target[i]['target'])\n",
    "        target_ls.append(inp[target[i]['target'][0]][target[i]['target'][1]])\n",
    "\n",
    "    col = []\n",
    "    row= []\n",
    "    for i in tar:\n",
    "        row.append(i[0]-1)\n",
    "        col.append(i[1])\n",
    "\n",
    "    import pandas as pd\n",
    "    df = pd.DataFrame(list(zip(col, row, target_ls, kg_id, kg_label, desc, annotation,wikipedia)),\n",
    "                   columns =['column', 'row', 'label', 'kg_id', 'kg_labels','kg_descriptions', 'dbpedia', 'wikipedia'])\n",
    "\n",
    "\n",
    "    df.to_csv(csv_save_path + file[len(json_save_path):len(file)-5] +'.csv', index = False)\n",
    "    "
   ]
  },
  {
   "cell_type": "markdown",
   "metadata": {},
   "source": [
    "## Label the results with ground truth"
   ]
  },
  {
   "cell_type": "code",
   "execution_count": 304,
   "metadata": {},
   "outputs": [
    {
     "name": "stdout",
     "output_type": "stream",
     "text": [
      "ground-truth-labeler Time: 0.012091875076293945s\n",
      "ground-truth-labeler Time: 0.010023117065429688s\n",
      "ground-truth-labeler Time: 0.01080179214477539s\n",
      "ground-truth-labeler Time: 0.011776924133300781s\n",
      "ground-truth-labeler Time: 0.010269880294799805s\n",
      "ground-truth-labeler Time: 0.011457204818725586s\n",
      "ground-truth-labeler Time: 0.011809825897216797s\n",
      "ground-truth-labeler Time: 0.01980900764465332s\n",
      "ground-truth-labeler Time: 0.011887073516845703s\n",
      "ground-truth-labeler Time: 0.01222085952758789s\n"
     ]
    }
   ],
   "source": [
    "ls = glob.glob(csv_save_path+ \"/*.csv\")\n",
    "for file in ls:\n",
    "    if os.path.getsize(file) == 0:\n",
    "        continue\n",
    "    gt_file = gt_file_path + file[len(csv_save_path):]\n",
    "    output_path = gt_label_path + file[len(csv_save_path):]\n",
    "    \n",
    "    !tl ground-truth-labeler -f $gt_file < $file > $output_path\n"
   ]
  },
  {
   "cell_type": "markdown",
   "metadata": {},
   "source": [
    "## Get Metrics and output to file"
   ]
  },
  {
   "cell_type": "code",
   "execution_count": 324,
   "metadata": {},
   "outputs": [
    {
     "name": "stdout",
     "output_type": "stream",
     "text": [
      "metrics Time: 0.3990919589996338s\n",
      "metrics Time: 0.11082911491394043s\n",
      "metrics Time: 0.12528109550476074s\n",
      "metrics Time: 0.3603677749633789s\n",
      "metrics Time: 0.09476995468139648s\n",
      "metrics Time: 0.37699031829833984s\n",
      "metrics Time: 0.4293069839477539s\n",
      "metrics Time: 1.0290112495422363s\n",
      "metrics Time: 0.03458094596862793s\n",
      "metrics Time: 0.34078001976013184s\n"
     ]
    }
   ],
   "source": [
    "ls = glob.glob( gt_label_path+ \"/*.csv\")\n",
    "df_list = []\n",
    "for file in ls:\n",
    "    if os.path.getsize(file) == 0:\n",
    "        continue\n",
    "    output_path = metrics_save_path + file[len(gt_label_path):]\n",
    "    out = file[len(gt_label_path)+1:]\n",
    "    !tl metrics $file -k 1 -c \"evaluation_label\" --tag $out > $output_path\n",
    "    if os.path.getsize(output_path) > 1:\n",
    "        df = pd.read_csv(output_path)\n",
    "        df_list.append(df)     \n",
    "\n",
    "#pd.concat(df_list).to_csv(total_metrics, index = False)"
   ]
  },
  {
   "cell_type": "markdown",
   "metadata": {},
   "source": [
    "## Join with other files"
   ]
  },
  {
   "cell_type": "code",
   "execution_count": 357,
   "metadata": {},
   "outputs": [],
   "source": [
    "df = pd.concat(df_list)\n",
    "df.columns =['mtab_k', 'mtab_f1','mtab_precision', 'mtab_recall', 'tag']\n",
    "df = df.reset_index(drop = True)\n",
    "\n",
    "for i in range (0, len(files_to_join)):\n",
    "    file = files_to_join[i]\n",
    "     \n",
    "        \n",
    "    df.insert(0, tags[0] + '_precision', '')\n",
    "    df.insert(0, tags[0] + '_recall', '')\n",
    "    df.insert(0, tags[0] + '_f1', '')\n",
    "    df.insert(0, tags[0] + '_k', '')\n",
    "    \n",
    "    new_df = pd.read_csv(file)\n",
    "    \n",
    "    for i in range(0, len(df)):\n",
    "        for j in range(0, len(new_df)):\n",
    "            if df.tag[i] == new_df.tag[j]:\n",
    "                df[tags[0] + '_k'][i]  = new_df['k'][j]\n",
    "                df[tags[0] + '_f1'][i] = new_df['f1'][j]\n",
    "                df[tags[0] + '_precision'][i] = new_df['precision'][j]\n",
    "                df[tags[0] + '_recall'][i] = new_df['recall'][j]\n",
    "                continue\n",
    "                \n",
    "df.to_csv(total_metrics, index = False)"
   ]
  },
  {
   "cell_type": "code",
   "execution_count": 359,
   "metadata": {},
   "outputs": [
    {
     "data": {
      "text/html": [
       "<div>\n",
       "<style scoped>\n",
       "    .dataframe tbody tr th:only-of-type {\n",
       "        vertical-align: middle;\n",
       "    }\n",
       "\n",
       "    .dataframe tbody tr th {\n",
       "        vertical-align: top;\n",
       "    }\n",
       "\n",
       "    .dataframe thead th {\n",
       "        text-align: right;\n",
       "    }\n",
       "</style>\n",
       "<table border=\"1\" class=\"dataframe\">\n",
       "  <thead>\n",
       "    <tr style=\"text-align: right;\">\n",
       "      <th></th>\n",
       "      <th>tl1_k</th>\n",
       "      <th>tl1_f1</th>\n",
       "      <th>tl1_recall</th>\n",
       "      <th>tl1_precision</th>\n",
       "      <th>mtab_k</th>\n",
       "      <th>mtab_f1</th>\n",
       "      <th>mtab_precision</th>\n",
       "      <th>mtab_recall</th>\n",
       "      <th>tag</th>\n",
       "    </tr>\n",
       "  </thead>\n",
       "  <tbody>\n",
       "    <tr>\n",
       "      <th>0</th>\n",
       "      <td>1</td>\n",
       "      <td>0.948316</td>\n",
       "      <td>0.91</td>\n",
       "      <td>0.99</td>\n",
       "      <td>1</td>\n",
       "      <td>0.990000</td>\n",
       "      <td>0.990000</td>\n",
       "      <td>0.990000</td>\n",
       "      <td>39759273_0_1427898308030295194.csv</td>\n",
       "    </tr>\n",
       "    <tr>\n",
       "      <th>1</th>\n",
       "      <td>1</td>\n",
       "      <td>0.981132</td>\n",
       "      <td>0.962963</td>\n",
       "      <td>1.0</td>\n",
       "      <td>1</td>\n",
       "      <td>0.814815</td>\n",
       "      <td>0.814815</td>\n",
       "      <td>0.814815</td>\n",
       "      <td>45073662_0_3179937335063201739.csv</td>\n",
       "    </tr>\n",
       "    <tr>\n",
       "      <th>2</th>\n",
       "      <td>1</td>\n",
       "      <td>0.572727</td>\n",
       "      <td>0.409091</td>\n",
       "      <td>0.954545</td>\n",
       "      <td>1</td>\n",
       "      <td>0.818182</td>\n",
       "      <td>0.818182</td>\n",
       "      <td>0.818182</td>\n",
       "      <td>29414811_2_4773219892816395776.csv</td>\n",
       "    </tr>\n",
       "    <tr>\n",
       "      <th>3</th>\n",
       "      <td>1</td>\n",
       "      <td>0.795788</td>\n",
       "      <td>0.785714</td>\n",
       "      <td>0.806122</td>\n",
       "      <td>1</td>\n",
       "      <td>0.653061</td>\n",
       "      <td>0.653061</td>\n",
       "      <td>0.653061</td>\n",
       "      <td>84575189_0_6365692015941409487.csv</td>\n",
       "    </tr>\n",
       "    <tr>\n",
       "      <th>4</th>\n",
       "      <td>1</td>\n",
       "      <td>0.974359</td>\n",
       "      <td>0.95</td>\n",
       "      <td>1.0</td>\n",
       "      <td>1</td>\n",
       "      <td>0.900000</td>\n",
       "      <td>0.900000</td>\n",
       "      <td>0.900000</td>\n",
       "      <td>14380604_4_3329235705746762392.csv</td>\n",
       "    </tr>\n",
       "    <tr>\n",
       "      <th>5</th>\n",
       "      <td>1</td>\n",
       "      <td>0.889908</td>\n",
       "      <td>0.824176</td>\n",
       "      <td>0.967033</td>\n",
       "      <td>1</td>\n",
       "      <td>0.956044</td>\n",
       "      <td>0.956044</td>\n",
       "      <td>0.956044</td>\n",
       "      <td>52299421_0_4473286348258170200.csv</td>\n",
       "    </tr>\n",
       "    <tr>\n",
       "      <th>6</th>\n",
       "      <td>1</td>\n",
       "      <td>0.952381</td>\n",
       "      <td>0.952381</td>\n",
       "      <td>0.952381</td>\n",
       "      <td>1</td>\n",
       "      <td>0.779762</td>\n",
       "      <td>0.779762</td>\n",
       "      <td>0.779762</td>\n",
       "      <td>50270082_0_444360818941411589.csv</td>\n",
       "    </tr>\n",
       "    <tr>\n",
       "      <th>7</th>\n",
       "      <td>1</td>\n",
       "      <td>0.749972</td>\n",
       "      <td>0.745455</td>\n",
       "      <td>0.754545</td>\n",
       "      <td>1</td>\n",
       "      <td>0.754545</td>\n",
       "      <td>0.754545</td>\n",
       "      <td>0.754545</td>\n",
       "      <td>28086084_0_3127660530989916727.csv</td>\n",
       "    </tr>\n",
       "    <tr>\n",
       "      <th>8</th>\n",
       "      <td></td>\n",
       "      <td></td>\n",
       "      <td></td>\n",
       "      <td></td>\n",
       "      <td>1</td>\n",
       "      <td>1.000000</td>\n",
       "      <td>1.000000</td>\n",
       "      <td>1.000000</td>\n",
       "      <td>1438042986423_95_20150728002306-00329-ip-10-23...</td>\n",
       "    </tr>\n",
       "    <tr>\n",
       "      <th>9</th>\n",
       "      <td>1</td>\n",
       "      <td>0.921063</td>\n",
       "      <td>0.867925</td>\n",
       "      <td>0.981132</td>\n",
       "      <td>1</td>\n",
       "      <td>0.981132</td>\n",
       "      <td>0.981132</td>\n",
       "      <td>0.981132</td>\n",
       "      <td>14067031_0_559833072073397908.csv</td>\n",
       "    </tr>\n",
       "  </tbody>\n",
       "</table>\n",
       "</div>"
      ],
      "text/plain": [
       "  tl1_k    tl1_f1 tl1_recall tl1_precision  mtab_k   mtab_f1  mtab_precision  \\\n",
       "0     1  0.948316       0.91          0.99       1  0.990000        0.990000   \n",
       "1     1  0.981132   0.962963           1.0       1  0.814815        0.814815   \n",
       "2     1  0.572727   0.409091      0.954545       1  0.818182        0.818182   \n",
       "3     1  0.795788   0.785714      0.806122       1  0.653061        0.653061   \n",
       "4     1  0.974359       0.95           1.0       1  0.900000        0.900000   \n",
       "5     1  0.889908   0.824176      0.967033       1  0.956044        0.956044   \n",
       "6     1  0.952381   0.952381      0.952381       1  0.779762        0.779762   \n",
       "7     1  0.749972   0.745455      0.754545       1  0.754545        0.754545   \n",
       "8                                                1  1.000000        1.000000   \n",
       "9     1  0.921063   0.867925      0.981132       1  0.981132        0.981132   \n",
       "\n",
       "   mtab_recall                                                tag  \n",
       "0     0.990000                 39759273_0_1427898308030295194.csv  \n",
       "1     0.814815                 45073662_0_3179937335063201739.csv  \n",
       "2     0.818182                 29414811_2_4773219892816395776.csv  \n",
       "3     0.653061                 84575189_0_6365692015941409487.csv  \n",
       "4     0.900000                 14380604_4_3329235705746762392.csv  \n",
       "5     0.956044                 52299421_0_4473286348258170200.csv  \n",
       "6     0.779762                  50270082_0_444360818941411589.csv  \n",
       "7     0.754545                 28086084_0_3127660530989916727.csv  \n",
       "8     1.000000  1438042986423_95_20150728002306-00329-ip-10-23...  \n",
       "9     0.981132                  14067031_0_559833072073397908.csv  "
      ]
     },
     "execution_count": 359,
     "metadata": {},
     "output_type": "execute_result"
    }
   ],
   "source": [
    "df"
   ]
  },
  {
   "cell_type": "code",
   "execution_count": null,
   "metadata": {},
   "outputs": [],
   "source": []
  }
 ],
 "metadata": {
  "kernelspec": {
   "display_name": "Python 3",
   "language": "python",
   "name": "python3"
  },
  "language_info": {
   "codemirror_mode": {
    "name": "ipython",
    "version": 3
   },
   "file_extension": ".py",
   "mimetype": "text/x-python",
   "name": "python",
   "nbconvert_exporter": "python",
   "pygments_lexer": "ipython3",
   "version": "3.8.8"
  }
 },
 "nbformat": 4,
 "nbformat_minor": 4
}

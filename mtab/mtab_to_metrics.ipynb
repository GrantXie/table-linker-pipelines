{
 "cells": [
  {
   "cell_type": "code",
   "execution_count": 110,
   "metadata": {},
   "outputs": [],
   "source": [
    "import json\n",
    "import glob\n",
    "import pandas as pd\n",
    "import os"
   ]
  },
  {
   "cell_type": "markdown",
   "metadata": {},
   "source": [
    "## Setup parameter\n"
   ]
  },
  {
   "cell_type": "code",
   "execution_count": 288,
   "metadata": {},
   "outputs": [],
   "source": [
    "input_file_path ='./t2dv2-test-input'\n",
    "json_save_path = './mtab_json_train'\n",
    "csv_save_path = './mtab_csv_train'\n",
    "gt_file_path = './round_1'\n",
    "gt_label_path = './mtab_gt_train'\n",
    "metrics_save_path = './mtab_metrics_train'\n",
    "total_metrics = 'train_results.csv'\n",
    "limit = 1000"
   ]
  },
  {
   "cell_type": "code",
   "execution_count": 275,
   "metadata": {},
   "outputs": [],
   "source": [
    "\n",
    "!mkdir -p $json_save_path\n",
    "!mkdir -p $csv_save_path\n",
    "!mkdir -p $gt_label_path\n",
    "!mkdir -p $metrics_save_path"
   ]
  },
  {
   "cell_type": "markdown",
   "metadata": {},
   "source": [
    "## Get MTab created json file"
   ]
  },
  {
   "cell_type": "code",
   "execution_count": 260,
   "metadata": {},
   "outputs": [
    {
     "name": "stdout",
     "output_type": "stream",
     "text": [
      "  % Total    % Received % Xferd  Average Speed   Time    Time     Time  Current\n",
      "                                 Dload  Upload   Total   Spent    Left  Speed\n",
      "100  228k  100  212k  100 16493   1644    124  0:02:13  0:02:12  0:00:01 4875016493    0     0  100 16493      0   4586  0:00:03  0:00:03 --:--:--  4586    0    312  0:00:52  0:00:52 --:--:--     09 --:--:--     01:07  0:01:06  0:00:01     0    0    149  0:01:50  0:01:49  0:00:01     0\n",
      "  % Total    % Received % Xferd  Average Speed   Time    Time     Time  Current\n",
      "                                 Dload  Upload   Total   Spent    Left  Speed\n",
      "100 24538  100 22269  100  2269   1980    201  0:00:11  0:00:11 --:--:--  4665\n",
      "  % Total    % Received % Xferd  Average Speed   Time    Time     Time  Current\n",
      "                                 Dload  Upload   Total   Spent    Left  Speed\n",
      "100 30358  100 27133  100  3225   2983    354  0:00:09  0:00:09 --:--:--  7489:08 --:--:--     06  3509\n",
      "  % Total    % Received % Xferd  Average Speed   Time    Time     Time  Current\n",
      "                                 Dload  Upload   Total   Spent    Left  Speed\n",
      "100 65846  100 60816  100  5030   1296    107  0:00:47  0:00:46  0:00:01 1839000:34  0:00:34 --:--:--     000:40  0:00:40 --:--:--     0\n",
      "  % Total    % Received % Xferd  Average Speed   Time    Time     Time  Current\n",
      "                                 Dload  Upload   Total   Spent    Left  Speed\n",
      "100 67798  100 62090  100  5708   1720    158  0:00:36  0:00:36 --:--:-- 17770    0     0  100  5708      0    495  0:00:11  0:00:11 --:--:--     0    159  0:00:35  0:00:35 --:--:--     0\n",
      "  % Total    % Received % Xferd  Average Speed   Time    Time     Time  Current\n",
      "                                 Dload  Upload   Total   Spent    Left  Speed\n",
      "100 21034  100 19506  100  1528   2470    193  0:00:07  0:00:07 --:--:--  4400\n",
      "  % Total    % Received % Xferd  Average Speed   Time    Time     Time  Current\n",
      "                                 Dload  Upload   Total   Spent    Left  Speed\n",
      "100  203k  100  194k  100  9394   1190     56  0:02:47  0:02:47 --:--:-- 523370  9394      0     77  0:02:02  0:02:01  0:00:01     02:22  0:02:20  0:00:02     0   0     58  0:02:41  0:02:41 --:--:--     0\n",
      "  % Total    % Received % Xferd  Average Speed   Time    Time     Time  Current\n",
      "                                 Dload  Upload   Total   Spent    Left  Speed\n",
      "100  285k  100  256k  100 29829   2176    247  0:02:00  0:02:00 --:--:-- 76453:01  0:01:01 --:--:--     029      0    474  0:01:02  0:01:02 --:--:--     01:16 --:--:--     0    271  0:01:50  0:01:49  0:00:01     0 0:01:59  0:00:01     0\n",
      "  % Total    % Received % Xferd  Average Speed   Time    Time     Time  Current\n",
      "                                 Dload  Upload   Total   Spent    Left  Speed\n",
      "100 75682  100 68244  100  7438    734     80  0:01:32  0:01:32 --:--:-- 16821   269  0:00:27  0:00:27 --:--:--     0     0    178  0:00:41  0:00:41 --:--:--     02  0:01:31  0:00:01     0\n",
      "  % Total    % Received % Xferd  Average Speed   Time    Time     Time  Current\n",
      "                                 Dload  Upload   Total   Spent    Left  Speed\n",
      "100 29102  100 27017  100  2085   2512    193  0:00:10  0:00:10 --:--:--  8201\n"
     ]
    }
   ],
   "source": [
    "ls = glob.glob(input_file_path + \"/*.csv\")\n",
    "\n",
    "for file in ls:\n",
    "    json_name = json_save_path + file[len(input_file_path):len(file)-4] + '.json'\n",
    "    !curl -X POST -F file=@$file https://mtab.app/api/v1/mtab?limit=$limit -o $json_name"
   ]
  },
  {
   "cell_type": "markdown",
   "metadata": {},
   "source": [
    "## Transform json to table-linker format csv"
   ]
  },
  {
   "cell_type": "code",
   "execution_count": 294,
   "metadata": {},
   "outputs": [],
   "source": [
    "ls = glob.glob( json_save_path+ \"/*.json\")\n",
    "for file in ls:\n",
    "    if os.path.getsize(file) == 0:\n",
    "        continue\n",
    "    f = open(file)\n",
    "    data = json.load(f)\n",
    "    \n",
    "    # get data and input from json file to arrays \n",
    "    target = data['tables'][0]['semantic']['cea']\n",
    "    inp = data['tables'][0]['table_cells']\n",
    "\n",
    "\n",
    "    #load the data we want\n",
    "    annotation = []\n",
    "    desc= []\n",
    "    kg_id = []\n",
    "    kg_label = []\n",
    "    wikipedia = []\n",
    "    target_ls = []\n",
    "    tar = []\n",
    "    col = []\n",
    "    for i in range(0, len(target)):\n",
    "        if 'dbpedia' in target[i]['annotation']:\n",
    "            annotation.append(target[i]['annotation']['dbpedia'][target[i]['annotation']['dbpedia'].find('resource/')+9:])\n",
    "        else:\n",
    "            annotation.append('')\n",
    "        desc.append(target[i]['annotation']['desc'])\n",
    "        kg_label.append(target[i]['annotation']['label'])\n",
    "        kg_id.append(target[i]['annotation']['wikidata'][target[i]['annotation']['wikidata'].find('/entity/')+8:])\n",
    "\n",
    "        if 'wikipedia' in target[i]['annotation']:\n",
    "            wikipedia.append(target[i]['annotation']['wikipedia'][target[i]['annotation']['wikipedia'].find('/wiki/')+6:])\n",
    "        else:\n",
    "            wikipedia.append('')\n",
    "        tar.append(target[i]['target'])\n",
    "        target_ls.append(inp[target[i]['target'][0]][target[i]['target'][1]])\n",
    "\n",
    "    col = []\n",
    "    row= []\n",
    "    for i in tar:\n",
    "        row.append(i[0]-1)\n",
    "        col.append(i[1])\n",
    "\n",
    "    import pandas as pd\n",
    "    df = pd.DataFrame(list(zip(col, row, target_ls, kg_id, kg_label, desc, annotation,wikipedia)),\n",
    "                   columns =['column', 'row', 'label', 'kg_id', 'kg_labels','kg_descriptions', 'dbpedia', 'wikipedia'])\n",
    "\n",
    "\n",
    "    df.to_csv(csv_save_path + file[len(json_save_path):len(file)-5] +'.csv', index = False)\n",
    "    "
   ]
  },
  {
   "cell_type": "markdown",
   "metadata": {},
   "source": [
    "## Label the results with ground truth"
   ]
  },
  {
   "cell_type": "code",
   "execution_count": 295,
   "metadata": {},
   "outputs": [
    {
     "name": "stdout",
     "output_type": "stream",
     "text": [
      "ground-truth-labeler Time: 0.015277862548828125s\n",
      "ground-truth-labeler Time: 0.013573884963989258s\n",
      "ground-truth-labeler Time: 0.011341094970703125s\n",
      "ground-truth-labeler Time: 0.011157989501953125s\n",
      "ground-truth-labeler Time: 0.013378143310546875s\n",
      "ground-truth-labeler Time: 0.011590003967285156s\n",
      "ground-truth-labeler Time: 0.019619226455688477s\n",
      "ground-truth-labeler Time: 0.014224052429199219s\n",
      "ground-truth-labeler Time: 0.01332712173461914s\n",
      "ground-truth-labeler Time: 0.019666194915771484s\n",
      "ground-truth-labeler Time: 0.012255430221557617s\n",
      "ground-truth-labeler Time: 0.009737968444824219s\n",
      "ground-truth-labeler Time: 0.011922121047973633s\n",
      "ground-truth-labeler Time: 0.024389028549194336s\n",
      "ground-truth-labeler Time: 0.010139226913452148s\n",
      "ground-truth-labeler Time: 0.012969017028808594s\n",
      "ground-truth-labeler Time: 0.010870933532714844s\n",
      "ground-truth-labeler Time: 0.016103029251098633s\n",
      "ground-truth-labeler Time: 0.008982181549072266s\n",
      "ground-truth-labeler Time: 0.015986919403076172s\n",
      "ground-truth-labeler Time: 0.017637968063354492s\n",
      "ground-truth-labeler Time: 0.01371002197265625s\n",
      "ground-truth-labeler Time: 0.010127067565917969s\n",
      "ground-truth-labeler Time: 0.020381927490234375s\n",
      "ground-truth-labeler Time: 0.019854068756103516s\n",
      "ground-truth-labeler Time: 0.018801212310791016s\n",
      "ground-truth-labeler Time: 0.017763137817382812s\n",
      "ground-truth-labeler Time: 0.009887218475341797s\n",
      "ground-truth-labeler Time: 0.012894153594970703s\n",
      "ground-truth-labeler Time: 0.009813070297241211s\n",
      "ground-truth-labeler Time: 0.01044607162475586s\n",
      "ground-truth-labeler Time: 0.011358976364135742s\n",
      "ground-truth-labeler Time: 0.012437105178833008s\n",
      "ground-truth-labeler Time: 0.009372949600219727s\n",
      "ground-truth-labeler Time: 0.011092901229858398s\n",
      "ground-truth-labeler Time: 0.010202169418334961s\n",
      "ground-truth-labeler Time: 0.023519039154052734s\n",
      "ground-truth-labeler Time: 0.013149023056030273s\n",
      "ground-truth-labeler Time: 0.009157180786132812s\n",
      "ground-truth-labeler Time: 0.015280961990356445s\n",
      "ground-truth-labeler Time: 0.011754989624023438s\n",
      "ground-truth-labeler Time: 0.009177207946777344s\n",
      "ground-truth-labeler Time: 0.009495019912719727s\n",
      "ground-truth-labeler Time: 0.019281864166259766s\n"
     ]
    }
   ],
   "source": [
    "ls = glob.glob(csv_save_path+ \"/*.csv\")\n",
    "for file in ls:\n",
    "    if os.path.getsize(file) == 0:\n",
    "        continue\n",
    "    gt_file = gt_file_path + file[len(csv_save_path):]\n",
    "    output_path = gt_label_path + file[len(csv_save_path):]\n",
    "    \n",
    "    !tl ground-truth-labeler -f $gt_file < $file > $output_path\n"
   ]
  },
  {
   "cell_type": "markdown",
   "metadata": {},
   "source": [
    "## Get Metrics and output to file"
   ]
  },
  {
   "cell_type": "code",
   "execution_count": 296,
   "metadata": {},
   "outputs": [
    {
     "name": "stdout",
     "output_type": "stream",
     "text": [
      "metrics Time: 0.3472428321838379s\n",
      "metrics Time: 0.3473348617553711s\n",
      "metrics Time: 0.05530977249145508s\n",
      "metrics Time: 0.23428082466125488s\n",
      "metrics Time: 0.337691068649292s\n",
      "metrics Time: 0.3560302257537842s\n",
      "metrics Time: 1.1447820663452148s\n",
      "metrics Time: 0.3462400436401367s\n",
      "metrics Time: 0.40024805068969727s\n",
      "metrics Time: 1.1870641708374023s\n",
      "metrics Time: 0.5256850719451904s\n",
      "metrics Time: 0.052133798599243164s\n",
      "metrics Time: 0.3260002136230469s\n",
      "metrics Time: 2.255105972290039s\n",
      "metrics Time: 0.14565038681030273s\n",
      "metrics Time: 0.6289091110229492s\n",
      "metrics Time: 0.13720178604125977s\n",
      "metrics Time: 0.7960202693939209s\n",
      "metrics Time: 0.07692313194274902s\n",
      "metrics Time: 0.3944129943847656s\n",
      "metrics Time: 1.2355399131774902s\n",
      "metrics Time: 0.577672004699707s\n",
      "metrics Time: 0.032206058502197266s\n",
      "metrics Time: 1.438291072845459s\n",
      "metrics Time: 1.25022292137146s\n",
      "metrics Time: 0.7288639545440674s\n",
      "metrics Time: 1.0059857368469238s\n",
      "metrics Time: 0.11718511581420898s\n",
      "metrics Time: 0.5594990253448486s\n",
      "metrics Time: 0.030555248260498047s\n",
      "metrics Time: 0.2639658451080322s\n",
      "metrics Time: 0.32518601417541504s\n",
      "metrics Time: 0.34581708908081055s\n",
      "metrics Time: 0.053275108337402344s\n",
      "metrics Time: 0.3406999111175537s\n",
      "metrics Time: 0.11059880256652832s\n",
      "metrics Time: 1.409679889678955s\n",
      "metrics Time: 0.38233423233032227s\n",
      "metrics Time: 0.06195187568664551s\n",
      "metrics Time: 1.0822999477386475s\n",
      "metrics Time: 0.32036709785461426s\n",
      "Command: metrics\n",
      "Error Message:  Traceback (most recent call last):\n",
      "  File \"/Users/grantxie/Downloads/table-linker-development-3/tl/cli/metrics.py\", line 40, in run\n",
      "    odf = evaluation.metrics(kwargs['column'], k=kwargs['k'], df=df, tag=kwargs['tag'])\n",
      "  File \"/Users/grantxie/Downloads/table-linker-development-3/tl/evaluation/evaluation.py\", line 120, in metrics\n",
      "    precision = float(len(tp_ps)) / float(n)\n",
      "ZeroDivisionError: float division by zero\n",
      "\n",
      "metrics Time: 0.18701815605163574s\n",
      "metrics Time: 1.3375890254974365s\n"
     ]
    }
   ],
   "source": [
    "ls = glob.glob( gt_label_path+ \"/*.csv\")\n",
    "df_list = []\n",
    "for file in ls:\n",
    "    if os.path.getsize(file) == 0:\n",
    "        continue\n",
    "    output_path = metrics_save_path + file[len(gt_label_path):]\n",
    "    out = file[len(gt_label_path)+1:]\n",
    "    !tl metrics $file -k 1 -c \"evaluation_label\" --tag $out > $output_path\n",
    "    if os.path.getsize(output_path) > 1:\n",
    "        df = pd.read_csv(output_path)\n",
    "        df_list.append(df)\n",
    "\n",
    "pd.concat(df_list).to_csv(total_metrics, index = False)"
   ]
  },
  {
   "cell_type": "code",
   "execution_count": null,
   "metadata": {},
   "outputs": [],
   "source": []
  },
  {
   "cell_type": "code",
   "execution_count": null,
   "metadata": {},
   "outputs": [],
   "source": []
  },
  {
   "cell_type": "code",
   "execution_count": null,
   "metadata": {},
   "outputs": [],
   "source": []
  }
 ],
 "metadata": {
  "kernelspec": {
   "display_name": "Python 3",
   "language": "python",
   "name": "python3"
  },
  "language_info": {
   "codemirror_mode": {
    "name": "ipython",
    "version": 3
   },
   "file_extension": ".py",
   "mimetype": "text/x-python",
   "name": "python",
   "nbconvert_exporter": "python",
   "pygments_lexer": "ipython3",
   "version": "3.8.8"
  }
 },
 "nbformat": 4,
 "nbformat_minor": 4
}

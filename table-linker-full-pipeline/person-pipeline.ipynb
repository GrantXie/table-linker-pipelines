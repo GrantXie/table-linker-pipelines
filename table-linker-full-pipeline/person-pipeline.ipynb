{
 "cells": [
  {
   "cell_type": "code",
   "execution_count": 2052,
   "metadata": {},
   "outputs": [],
   "source": [
    "import numpy as np\n",
    "import pandas as pd\n",
    "import os\n",
    "import glob\n",
    "import torch\n",
    "import torch.nn as nn\n",
    "import torch.nn.functional as F\n",
    "from sklearn.preprocessing import MinMaxScaler\n",
    "import pickle\n",
    "import warnings\n",
    "warnings.simplefilter(action='ignore', category=FutureWarning)"
   ]
  },
  {
   "cell_type": "code",
   "execution_count": 2053,
   "metadata": {},
   "outputs": [],
   "source": [
    "HOME_DIR = '/Users/grantxie/test/coi14'\n",
    "table_path = f'{HOME_DIR}/coinv_rand_new_aff2.csv'\n",
    "f_name = table_path.split(\"/\")[-1]\n",
    "wikify_column_name = \"0\"\n",
    "final_score_column = \"siamese_prediction\"\n",
    "\n",
    "canonical_file_path = f'{HOME_DIR}/temp/canonical.csv'\n",
    "candidate_file_path = f'{HOME_DIR}/temp/candidates.csv'\n",
    "aux_field = 'graph_embedding_complex,class_count,property_count,context'\n",
    "temp_dir= f'{HOME_DIR}/temp/temp'\n",
    "\n",
    "aligned_pagerank_candidate_file_path = f'{HOME_DIR}/temp/apr_test.csv'\n",
    "model_file_path = './models/weighted_lr.pkl'\n",
    "ranking_model_file_path = './models/epoch_5_loss_0.09882864356040955_top1_0.8968926553672316.pth'\n",
    "min_max_scaler_path = './models/normalization_factor.pkl'\n",
    "\n",
    "model_voted_candidate_file_path = f'{HOME_DIR}/temp/mv_test.csv'\n",
    "graph_embedding_file_path = f'{HOME_DIR}/temp/score_test.csv'\n",
    "\n",
    "lof_reciprocal_rank_file_path = f'{HOME_DIR}/temp/lof_rr_test.csv'\n",
    "lof_tfidf_file_path = f'{HOME_DIR}/temp/lof_tfidf_test.csv'\n",
    "lof_feature_file = f'{HOME_DIR}/temp/lof_feature.csv'\n",
    "context_score_file = f'{HOME_DIR}/temp/context_score_file.csv'\n",
    "\n",
    "output_model_pred_file = f'{HOME_DIR}/temp/model_prediction.csv'\n",
    "top5_links = f'{HOME_DIR}/temp/top5_links.csv'\n",
    "colorized_kg_links = f'{HOME_DIR}/temp/{f_name.strip(\".csv\")}_colorized.xlsx'\n",
    "\n",
    "graph_embedding_complex_file = f'{HOME_DIR}/temp/graph_embedding_complex.tsv'\n",
    "class_count_file = f'{HOME_DIR}/temp/class_count.tsv'\n",
    "property_count_file = f'{HOME_DIR}/temp/property_count.tsv'\n",
    "context_file = f'{HOME_DIR}/temp/context.tsv'\n",
    "index_url = 'http://ckg07:9200/wikidatadwd-augmented/'\n",
    "\n",
    "string_threshold = 0.9\n",
    "siamese_threshold = 0.9\n",
    "custom_context_file = '/Users/grantxie/test/coi3/coauthors.context.tsv.gz'\n",
    "gt = '/Users/grantxie/Downloads/groundtruth_new.csv'\n",
    "selection_save_path = 'test_selection.csv'\n",
    "labeled_path = 'test_eva.csv'"
   ]
  },
  {
   "cell_type": "code",
   "execution_count": 2054,
   "metadata": {},
   "outputs": [],
   "source": [
    "features = ['pagerank','retrieval_score','monge_elkan','monge_elkan_aliases','des_cont_jaccard',\n",
    "            'jaro_winkler','levenshtein','singleton','num_char','num_tokens',\n",
    "           'lof_class_count_tf_idf_score', 'lof_property_count_tf_idf_score',\n",
    "           'lof-graph-embedding-score', 'lof-reciprocal-rank', 'context_score']"
   ]
  },
  {
   "cell_type": "code",
   "execution_count": 2055,
   "metadata": {},
   "outputs": [
    {
     "name": "stdout",
     "output_type": "stream",
     "text": [
      "15\n"
     ]
    }
   ],
   "source": [
    "print(len(features))"
   ]
  },
  {
   "cell_type": "code",
   "execution_count": 2056,
   "metadata": {},
   "outputs": [
    {
     "name": "stdout",
     "output_type": "stream",
     "text": [
      "/Users/grantxie/test/coi14/coinv_rand_new_aff2.csv\n"
     ]
    }
   ],
   "source": [
    "!ls \"$table_path\""
   ]
  },
  {
   "cell_type": "markdown",
   "metadata": {},
   "source": [
    "### Canonicalize"
   ]
  },
  {
   "cell_type": "code",
   "execution_count": 2057,
   "metadata": {},
   "outputs": [
    {
     "name": "stdout",
     "output_type": "stream",
     "text": [
      "canonicalize Time: 0.002680063247680664s\n"
     ]
    }
   ],
   "source": [
    "!tl canonicalize -c \"$wikify_column_name\" --add-context \"$table_path\" \\\n",
    "> \"$canonical_file_path\""
   ]
  },
  {
   "cell_type": "code",
   "execution_count": 2058,
   "metadata": {},
   "outputs": [
    {
     "data": {
      "text/html": [
       "<div>\n",
       "<style scoped>\n",
       "    .dataframe tbody tr th:only-of-type {\n",
       "        vertical-align: middle;\n",
       "    }\n",
       "\n",
       "    .dataframe tbody tr th {\n",
       "        vertical-align: top;\n",
       "    }\n",
       "\n",
       "    .dataframe thead th {\n",
       "        text-align: right;\n",
       "    }\n",
       "</style>\n",
       "<table border=\"1\" class=\"dataframe\">\n",
       "  <thead>\n",
       "    <tr style=\"text-align: right;\">\n",
       "      <th></th>\n",
       "      <th>column</th>\n",
       "      <th>row</th>\n",
       "      <th>label</th>\n",
       "      <th>context</th>\n",
       "      <th>filename</th>\n",
       "      <th>column-id</th>\n",
       "    </tr>\n",
       "  </thead>\n",
       "  <tbody>\n",
       "    <tr>\n",
       "      <th>0</th>\n",
       "      <td>0</td>\n",
       "      <td>0</td>\n",
       "      <td>KYLE SMOOT</td>\n",
       "      <td>UNIVERSITY OF KENTUCKY|MARK ANTHONY LOVELL</td>\n",
       "      <td>coinv_rand_new_aff2.csv</td>\n",
       "      <td>coinv_rand_new_aff2.csv-0</td>\n",
       "    </tr>\n",
       "    <tr>\n",
       "      <th>1</th>\n",
       "      <td>0</td>\n",
       "      <td>1</td>\n",
       "      <td>RAYMOND J. MACDONALD</td>\n",
       "      <td>UNIVERSITY OF UTAH|LEWIS C MURTAUGH</td>\n",
       "      <td>coinv_rand_new_aff2.csv</td>\n",
       "      <td>coinv_rand_new_aff2.csv-0</td>\n",
       "    </tr>\n",
       "    <tr>\n",
       "      <th>2</th>\n",
       "      <td>0</td>\n",
       "      <td>2</td>\n",
       "      <td>CAROLYN J. ANDERSON</td>\n",
       "      <td>UNIVERSITY OF PITTSBURGH AT PITTSBURGH|JELENA ...</td>\n",
       "      <td>coinv_rand_new_aff2.csv</td>\n",
       "      <td>coinv_rand_new_aff2.csv-0</td>\n",
       "    </tr>\n",
       "    <tr>\n",
       "      <th>3</th>\n",
       "      <td>0</td>\n",
       "      <td>3</td>\n",
       "      <td>NATHANIEL A. HATHAWAY</td>\n",
       "      <td>EPIGENOS BIOSCIENCE, INC.|DMITRI KIREEV</td>\n",
       "      <td>coinv_rand_new_aff2.csv</td>\n",
       "      <td>coinv_rand_new_aff2.csv-0</td>\n",
       "    </tr>\n",
       "    <tr>\n",
       "      <th>4</th>\n",
       "      <td>0</td>\n",
       "      <td>4</td>\n",
       "      <td>CARL D LANGEFELD</td>\n",
       "      <td>WAKE FOREST UNIVERSITY HEALTH SCIENCES|DONALD ...</td>\n",
       "      <td>coinv_rand_new_aff2.csv</td>\n",
       "      <td>coinv_rand_new_aff2.csv-0</td>\n",
       "    </tr>\n",
       "  </tbody>\n",
       "</table>\n",
       "</div>"
      ],
      "text/plain": [
       "   column  row                  label  \\\n",
       "0       0    0             KYLE SMOOT   \n",
       "1       0    1   RAYMOND J. MACDONALD   \n",
       "2       0    2    CAROLYN J. ANDERSON   \n",
       "3       0    3  NATHANIEL A. HATHAWAY   \n",
       "4       0    4       CARL D LANGEFELD   \n",
       "\n",
       "                                             context                 filename  \\\n",
       "0         UNIVERSITY OF KENTUCKY|MARK ANTHONY LOVELL  coinv_rand_new_aff2.csv   \n",
       "1                UNIVERSITY OF UTAH|LEWIS C MURTAUGH  coinv_rand_new_aff2.csv   \n",
       "2  UNIVERSITY OF PITTSBURGH AT PITTSBURGH|JELENA ...  coinv_rand_new_aff2.csv   \n",
       "3            EPIGENOS BIOSCIENCE, INC.|DMITRI KIREEV  coinv_rand_new_aff2.csv   \n",
       "4  WAKE FOREST UNIVERSITY HEALTH SCIENCES|DONALD ...  coinv_rand_new_aff2.csv   \n",
       "\n",
       "                   column-id  \n",
       "0  coinv_rand_new_aff2.csv-0  \n",
       "1  coinv_rand_new_aff2.csv-0  \n",
       "2  coinv_rand_new_aff2.csv-0  \n",
       "3  coinv_rand_new_aff2.csv-0  \n",
       "4  coinv_rand_new_aff2.csv-0  "
      ]
     },
     "execution_count": 2058,
     "metadata": {},
     "output_type": "execute_result"
    }
   ],
   "source": [
    "pd.read_csv(canonical_file_path, nrows = 5)"
   ]
  },
  {
   "cell_type": "code",
   "execution_count": 2059,
   "metadata": {},
   "outputs": [
    {
     "data": {
      "text/plain": [
       "'/Users/grantxie/test/coi14/temp/canonical.csv'"
      ]
     },
     "execution_count": 2059,
     "metadata": {},
     "output_type": "execute_result"
    }
   ],
   "source": [
    "canonical_file_path"
   ]
  },
  {
   "cell_type": "markdown",
   "metadata": {},
   "source": [
    "### Candidate Generation"
   ]
  },
  {
   "cell_type": "code",
   "execution_count": 2060,
   "metadata": {},
   "outputs": [
    {
     "name": "stdout",
     "output_type": "stream",
     "text": [
      "clean Time: 0.00244903564453125s\n",
      "get-fuzzy-augmented-matches Time: 4.517951965332031s\n",
      "get-exact-matches Time: 0.2938730716705322s\n"
     ]
    }
   ],
   "source": [
    "!tl clean -c label -o label_clean \"$canonical_file_path\" \\\n",
    "/ --url http://ckg07:9200 --index wikidatadwd-augmented \\\n",
    "get-fuzzy-augmented-matches -c label_clean \\\n",
    "--auxiliary-fields \"$aux_field\" \\\n",
    "--auxiliary-folder \"$temp_dir\" \\\n",
    "/ --url http://ckg07:9200 --index wikidatadwd-augmented \\\n",
    "get-exact-matches \\\n",
    "-c label_clean --auxiliary-fields \"$aux_field\" \\\n",
    "--auxiliary-folder \"$temp_dir\" > \"$candidate_file_path\""
   ]
  },
  {
   "cell_type": "code",
   "execution_count": 2061,
   "metadata": {},
   "outputs": [
    {
     "data": {
      "text/plain": [
       "'/Users/grantxie/test/coi14/temp/candidates.csv'"
      ]
     },
     "execution_count": 2061,
     "metadata": {},
     "output_type": "execute_result"
    }
   ],
   "source": [
    "candidate_file_path"
   ]
  },
  {
   "cell_type": "code",
   "execution_count": 2062,
   "metadata": {},
   "outputs": [
    {
     "data": {
      "text/html": [
       "<div>\n",
       "<style scoped>\n",
       "    .dataframe tbody tr th:only-of-type {\n",
       "        vertical-align: middle;\n",
       "    }\n",
       "\n",
       "    .dataframe tbody tr th {\n",
       "        vertical-align: top;\n",
       "    }\n",
       "\n",
       "    .dataframe thead th {\n",
       "        text-align: right;\n",
       "    }\n",
       "</style>\n",
       "<table border=\"1\" class=\"dataframe\">\n",
       "  <thead>\n",
       "    <tr style=\"text-align: right;\">\n",
       "      <th></th>\n",
       "      <th>column</th>\n",
       "      <th>row</th>\n",
       "      <th>label</th>\n",
       "      <th>context</th>\n",
       "      <th>filename</th>\n",
       "      <th>column-id</th>\n",
       "      <th>label_clean</th>\n",
       "      <th>kg_id</th>\n",
       "      <th>kg_labels</th>\n",
       "      <th>kg_aliases</th>\n",
       "      <th>method</th>\n",
       "      <th>kg_descriptions</th>\n",
       "      <th>pagerank</th>\n",
       "      <th>retrieval_score</th>\n",
       "    </tr>\n",
       "  </thead>\n",
       "  <tbody>\n",
       "    <tr>\n",
       "      <th>0</th>\n",
       "      <td>0</td>\n",
       "      <td>0</td>\n",
       "      <td>KYLE SMOOT</td>\n",
       "      <td>UNIVERSITY OF KENTUCKY|MARK ANTHONY LOVELL</td>\n",
       "      <td>coinv_rand_new_aff2.csv</td>\n",
       "      <td>coinv_rand_new_aff2.csv-0</td>\n",
       "      <td>KYLE SMOOT</td>\n",
       "      <td>Q100924778</td>\n",
       "      <td>Ricquall Smoot</td>\n",
       "      <td>R. Smoot|Smoot, R.</td>\n",
       "      <td>fuzzy-augmented</td>\n",
       "      <td>college basketball player (2019–2019) Hampton</td>\n",
       "      <td>2.842326e-09</td>\n",
       "      <td>20.439472</td>\n",
       "    </tr>\n",
       "    <tr>\n",
       "      <th>1</th>\n",
       "      <td>0</td>\n",
       "      <td>0</td>\n",
       "      <td>KYLE SMOOT</td>\n",
       "      <td>UNIVERSITY OF KENTUCKY|MARK ANTHONY LOVELL</td>\n",
       "      <td>coinv_rand_new_aff2.csv</td>\n",
       "      <td>coinv_rand_new_aff2.csv-0</td>\n",
       "      <td>KYLE SMOOT</td>\n",
       "      <td>Q5214410</td>\n",
       "      <td>Dan Smoot</td>\n",
       "      <td>D. Smoot|Smoot, D.</td>\n",
       "      <td>fuzzy-augmented</td>\n",
       "      <td>FBI agent; conservative political activist</td>\n",
       "      <td>2.842326e-09</td>\n",
       "      <td>20.439472</td>\n",
       "    </tr>\n",
       "    <tr>\n",
       "      <th>2</th>\n",
       "      <td>0</td>\n",
       "      <td>0</td>\n",
       "      <td>KYLE SMOOT</td>\n",
       "      <td>UNIVERSITY OF KENTUCKY|MARK ANTHONY LOVELL</td>\n",
       "      <td>coinv_rand_new_aff2.csv</td>\n",
       "      <td>coinv_rand_new_aff2.csv-0</td>\n",
       "      <td>KYLE SMOOT</td>\n",
       "      <td>Q5496310</td>\n",
       "      <td>Fred Smoot</td>\n",
       "      <td>Smoot, F. |F. Smoot</td>\n",
       "      <td>fuzzy-augmented</td>\n",
       "      <td>All-American college football player, professi...</td>\n",
       "      <td>2.842326e-09</td>\n",
       "      <td>20.439472</td>\n",
       "    </tr>\n",
       "    <tr>\n",
       "      <th>3</th>\n",
       "      <td>0</td>\n",
       "      <td>0</td>\n",
       "      <td>KYLE SMOOT</td>\n",
       "      <td>UNIVERSITY OF KENTUCKY|MARK ANTHONY LOVELL</td>\n",
       "      <td>coinv_rand_new_aff2.csv</td>\n",
       "      <td>coinv_rand_new_aff2.csv-0</td>\n",
       "      <td>KYLE SMOOT</td>\n",
       "      <td>Q59831732</td>\n",
       "      <td>Joseph Smoot</td>\n",
       "      <td>Smoot, J. |J. Smoot|Smoot, J. P. |Joseph P. Sm...</td>\n",
       "      <td>fuzzy-augmented</td>\n",
       "      <td>researcher ORCID ID = 0000-0002-5064-8070</td>\n",
       "      <td>2.842326e-09</td>\n",
       "      <td>20.010927</td>\n",
       "    </tr>\n",
       "    <tr>\n",
       "      <th>4</th>\n",
       "      <td>0</td>\n",
       "      <td>0</td>\n",
       "      <td>KYLE SMOOT</td>\n",
       "      <td>UNIVERSITY OF KENTUCKY|MARK ANTHONY LOVELL</td>\n",
       "      <td>coinv_rand_new_aff2.csv</td>\n",
       "      <td>coinv_rand_new_aff2.csv-0</td>\n",
       "      <td>KYLE SMOOT</td>\n",
       "      <td>Q36550494</td>\n",
       "      <td>Edith L. Smoot</td>\n",
       "      <td>Edith L. Smoot|E. L. Smoot|Smoot|Smoot, E. L.</td>\n",
       "      <td>fuzzy-augmented</td>\n",
       "      <td>NaN</td>\n",
       "      <td>2.842326e-09</td>\n",
       "      <td>19.942667</td>\n",
       "    </tr>\n",
       "  </tbody>\n",
       "</table>\n",
       "</div>"
      ],
      "text/plain": [
       "   column  row       label                                     context  \\\n",
       "0       0    0  KYLE SMOOT  UNIVERSITY OF KENTUCKY|MARK ANTHONY LOVELL   \n",
       "1       0    0  KYLE SMOOT  UNIVERSITY OF KENTUCKY|MARK ANTHONY LOVELL   \n",
       "2       0    0  KYLE SMOOT  UNIVERSITY OF KENTUCKY|MARK ANTHONY LOVELL   \n",
       "3       0    0  KYLE SMOOT  UNIVERSITY OF KENTUCKY|MARK ANTHONY LOVELL   \n",
       "4       0    0  KYLE SMOOT  UNIVERSITY OF KENTUCKY|MARK ANTHONY LOVELL   \n",
       "\n",
       "                  filename                  column-id label_clean       kg_id  \\\n",
       "0  coinv_rand_new_aff2.csv  coinv_rand_new_aff2.csv-0  KYLE SMOOT  Q100924778   \n",
       "1  coinv_rand_new_aff2.csv  coinv_rand_new_aff2.csv-0  KYLE SMOOT    Q5214410   \n",
       "2  coinv_rand_new_aff2.csv  coinv_rand_new_aff2.csv-0  KYLE SMOOT    Q5496310   \n",
       "3  coinv_rand_new_aff2.csv  coinv_rand_new_aff2.csv-0  KYLE SMOOT   Q59831732   \n",
       "4  coinv_rand_new_aff2.csv  coinv_rand_new_aff2.csv-0  KYLE SMOOT   Q36550494   \n",
       "\n",
       "        kg_labels                                         kg_aliases  \\\n",
       "0  Ricquall Smoot                                R. Smoot|Smoot, R.    \n",
       "1       Dan Smoot                                D. Smoot|Smoot, D.    \n",
       "2      Fred Smoot                                Smoot, F. |F. Smoot   \n",
       "3    Joseph Smoot  Smoot, J. |J. Smoot|Smoot, J. P. |Joseph P. Sm...   \n",
       "4  Edith L. Smoot     Edith L. Smoot|E. L. Smoot|Smoot|Smoot, E. L.    \n",
       "\n",
       "            method                                    kg_descriptions  \\\n",
       "0  fuzzy-augmented      college basketball player (2019–2019) Hampton   \n",
       "1  fuzzy-augmented         FBI agent; conservative political activist   \n",
       "2  fuzzy-augmented  All-American college football player, professi...   \n",
       "3  fuzzy-augmented          researcher ORCID ID = 0000-0002-5064-8070   \n",
       "4  fuzzy-augmented                                                NaN   \n",
       "\n",
       "       pagerank  retrieval_score  \n",
       "0  2.842326e-09        20.439472  \n",
       "1  2.842326e-09        20.439472  \n",
       "2  2.842326e-09        20.439472  \n",
       "3  2.842326e-09        20.010927  \n",
       "4  2.842326e-09        19.942667  "
      ]
     },
     "execution_count": 2062,
     "metadata": {},
     "output_type": "execute_result"
    }
   ],
   "source": [
    "cand = pd.read_csv(candidate_file_path)\n",
    "cand.head()"
   ]
  },
  {
   "cell_type": "code",
   "execution_count": 2063,
   "metadata": {},
   "outputs": [],
   "source": [
    "column_rename_dict = {\n",
    "    'graph_embedding_complex': 'embedding',\n",
    "     'class_count': 'class_count',\n",
    "    'property_count': 'property_count',\n",
    "    'context': 'context'\n",
    "}\n",
    "for field in aux_field.split(','):\n",
    "    aux_list = []\n",
    "    for f in glob.glob(f'{temp_dir}/*{field}.tsv'):\n",
    "        aux_list.append(pd.read_csv(f, sep='\\t'))\n",
    "    aux_df = pd.concat(aux_list).drop_duplicates(subset=['qnode']).rename(columns={field: column_rename_dict[field]})\n",
    "    aux_df.to_csv(f'{HOME_DIR}/temp/{field}.tsv', sep='\\t', index=False)"
   ]
  },
  {
   "cell_type": "code",
   "execution_count": 2064,
   "metadata": {},
   "outputs": [
    {
     "data": {
      "text/html": [
       "<div>\n",
       "<style scoped>\n",
       "    .dataframe tbody tr th:only-of-type {\n",
       "        vertical-align: middle;\n",
       "    }\n",
       "\n",
       "    .dataframe tbody tr th {\n",
       "        vertical-align: top;\n",
       "    }\n",
       "\n",
       "    .dataframe thead th {\n",
       "        text-align: right;\n",
       "    }\n",
       "</style>\n",
       "<table border=\"1\" class=\"dataframe\">\n",
       "  <thead>\n",
       "    <tr style=\"text-align: right;\">\n",
       "      <th></th>\n",
       "      <th>column</th>\n",
       "      <th>row</th>\n",
       "      <th>label</th>\n",
       "      <th>context</th>\n",
       "      <th>filename</th>\n",
       "      <th>column-id</th>\n",
       "      <th>label_clean</th>\n",
       "      <th>kg_id</th>\n",
       "      <th>kg_labels</th>\n",
       "      <th>kg_aliases</th>\n",
       "      <th>method</th>\n",
       "      <th>kg_descriptions</th>\n",
       "      <th>pagerank</th>\n",
       "      <th>retrieval_score</th>\n",
       "    </tr>\n",
       "  </thead>\n",
       "  <tbody>\n",
       "    <tr>\n",
       "      <th>0</th>\n",
       "      <td>0</td>\n",
       "      <td>0</td>\n",
       "      <td>KYLE SMOOT</td>\n",
       "      <td>UNIVERSITY OF KENTUCKY|MARK ANTHONY LOVELL</td>\n",
       "      <td>coinv_rand_new_aff2.csv</td>\n",
       "      <td>coinv_rand_new_aff2.csv-0</td>\n",
       "      <td>KYLE SMOOT</td>\n",
       "      <td>Q100924778</td>\n",
       "      <td>Ricquall Smoot</td>\n",
       "      <td>R. Smoot|Smoot, R.</td>\n",
       "      <td>fuzzy-augmented</td>\n",
       "      <td>college basketball player (2019–2019) Hampton</td>\n",
       "      <td>2.842326e-09</td>\n",
       "      <td>20.439472</td>\n",
       "    </tr>\n",
       "    <tr>\n",
       "      <th>1</th>\n",
       "      <td>0</td>\n",
       "      <td>0</td>\n",
       "      <td>KYLE SMOOT</td>\n",
       "      <td>UNIVERSITY OF KENTUCKY|MARK ANTHONY LOVELL</td>\n",
       "      <td>coinv_rand_new_aff2.csv</td>\n",
       "      <td>coinv_rand_new_aff2.csv-0</td>\n",
       "      <td>KYLE SMOOT</td>\n",
       "      <td>Q5214410</td>\n",
       "      <td>Dan Smoot</td>\n",
       "      <td>D. Smoot|Smoot, D.</td>\n",
       "      <td>fuzzy-augmented</td>\n",
       "      <td>FBI agent; conservative political activist</td>\n",
       "      <td>2.842326e-09</td>\n",
       "      <td>20.439472</td>\n",
       "    </tr>\n",
       "    <tr>\n",
       "      <th>2</th>\n",
       "      <td>0</td>\n",
       "      <td>0</td>\n",
       "      <td>KYLE SMOOT</td>\n",
       "      <td>UNIVERSITY OF KENTUCKY|MARK ANTHONY LOVELL</td>\n",
       "      <td>coinv_rand_new_aff2.csv</td>\n",
       "      <td>coinv_rand_new_aff2.csv-0</td>\n",
       "      <td>KYLE SMOOT</td>\n",
       "      <td>Q5496310</td>\n",
       "      <td>Fred Smoot</td>\n",
       "      <td>Smoot, F. |F. Smoot</td>\n",
       "      <td>fuzzy-augmented</td>\n",
       "      <td>All-American college football player, professi...</td>\n",
       "      <td>2.842326e-09</td>\n",
       "      <td>20.439472</td>\n",
       "    </tr>\n",
       "    <tr>\n",
       "      <th>3</th>\n",
       "      <td>0</td>\n",
       "      <td>0</td>\n",
       "      <td>KYLE SMOOT</td>\n",
       "      <td>UNIVERSITY OF KENTUCKY|MARK ANTHONY LOVELL</td>\n",
       "      <td>coinv_rand_new_aff2.csv</td>\n",
       "      <td>coinv_rand_new_aff2.csv-0</td>\n",
       "      <td>KYLE SMOOT</td>\n",
       "      <td>Q59831732</td>\n",
       "      <td>Joseph Smoot</td>\n",
       "      <td>Smoot, J. |J. Smoot|Smoot, J. P. |Joseph P. Sm...</td>\n",
       "      <td>fuzzy-augmented</td>\n",
       "      <td>researcher ORCID ID = 0000-0002-5064-8070</td>\n",
       "      <td>2.842326e-09</td>\n",
       "      <td>20.010927</td>\n",
       "    </tr>\n",
       "    <tr>\n",
       "      <th>4</th>\n",
       "      <td>0</td>\n",
       "      <td>0</td>\n",
       "      <td>KYLE SMOOT</td>\n",
       "      <td>UNIVERSITY OF KENTUCKY|MARK ANTHONY LOVELL</td>\n",
       "      <td>coinv_rand_new_aff2.csv</td>\n",
       "      <td>coinv_rand_new_aff2.csv-0</td>\n",
       "      <td>KYLE SMOOT</td>\n",
       "      <td>Q36550494</td>\n",
       "      <td>Edith L. Smoot</td>\n",
       "      <td>Edith L. Smoot|E. L. Smoot|Smoot|Smoot, E. L.</td>\n",
       "      <td>fuzzy-augmented</td>\n",
       "      <td>NaN</td>\n",
       "      <td>2.842326e-09</td>\n",
       "      <td>19.942667</td>\n",
       "    </tr>\n",
       "    <tr>\n",
       "      <th>5</th>\n",
       "      <td>0</td>\n",
       "      <td>0</td>\n",
       "      <td>KYLE SMOOT</td>\n",
       "      <td>UNIVERSITY OF KENTUCKY|MARK ANTHONY LOVELL</td>\n",
       "      <td>coinv_rand_new_aff2.csv</td>\n",
       "      <td>coinv_rand_new_aff2.csv-0</td>\n",
       "      <td>KYLE SMOOT</td>\n",
       "      <td>Q100924777</td>\n",
       "      <td>Jared Smoot</td>\n",
       "      <td>Smoot, J. |J. Smoot</td>\n",
       "      <td>fuzzy-augmented</td>\n",
       "      <td>college basketball player (2012–2013) Navy</td>\n",
       "      <td>2.842326e-09</td>\n",
       "      <td>19.846024</td>\n",
       "    </tr>\n",
       "  </tbody>\n",
       "</table>\n",
       "</div>"
      ],
      "text/plain": [
       "   column  row       label                                     context  \\\n",
       "0       0    0  KYLE SMOOT  UNIVERSITY OF KENTUCKY|MARK ANTHONY LOVELL   \n",
       "1       0    0  KYLE SMOOT  UNIVERSITY OF KENTUCKY|MARK ANTHONY LOVELL   \n",
       "2       0    0  KYLE SMOOT  UNIVERSITY OF KENTUCKY|MARK ANTHONY LOVELL   \n",
       "3       0    0  KYLE SMOOT  UNIVERSITY OF KENTUCKY|MARK ANTHONY LOVELL   \n",
       "4       0    0  KYLE SMOOT  UNIVERSITY OF KENTUCKY|MARK ANTHONY LOVELL   \n",
       "5       0    0  KYLE SMOOT  UNIVERSITY OF KENTUCKY|MARK ANTHONY LOVELL   \n",
       "\n",
       "                  filename                  column-id label_clean       kg_id  \\\n",
       "0  coinv_rand_new_aff2.csv  coinv_rand_new_aff2.csv-0  KYLE SMOOT  Q100924778   \n",
       "1  coinv_rand_new_aff2.csv  coinv_rand_new_aff2.csv-0  KYLE SMOOT    Q5214410   \n",
       "2  coinv_rand_new_aff2.csv  coinv_rand_new_aff2.csv-0  KYLE SMOOT    Q5496310   \n",
       "3  coinv_rand_new_aff2.csv  coinv_rand_new_aff2.csv-0  KYLE SMOOT   Q59831732   \n",
       "4  coinv_rand_new_aff2.csv  coinv_rand_new_aff2.csv-0  KYLE SMOOT   Q36550494   \n",
       "5  coinv_rand_new_aff2.csv  coinv_rand_new_aff2.csv-0  KYLE SMOOT  Q100924777   \n",
       "\n",
       "        kg_labels                                         kg_aliases  \\\n",
       "0  Ricquall Smoot                                R. Smoot|Smoot, R.    \n",
       "1       Dan Smoot                                D. Smoot|Smoot, D.    \n",
       "2      Fred Smoot                                Smoot, F. |F. Smoot   \n",
       "3    Joseph Smoot  Smoot, J. |J. Smoot|Smoot, J. P. |Joseph P. Sm...   \n",
       "4  Edith L. Smoot     Edith L. Smoot|E. L. Smoot|Smoot|Smoot, E. L.    \n",
       "5     Jared Smoot                                Smoot, J. |J. Smoot   \n",
       "\n",
       "            method                                    kg_descriptions  \\\n",
       "0  fuzzy-augmented      college basketball player (2019–2019) Hampton   \n",
       "1  fuzzy-augmented         FBI agent; conservative political activist   \n",
       "2  fuzzy-augmented  All-American college football player, professi...   \n",
       "3  fuzzy-augmented          researcher ORCID ID = 0000-0002-5064-8070   \n",
       "4  fuzzy-augmented                                                NaN   \n",
       "5  fuzzy-augmented         college basketball player (2012–2013) Navy   \n",
       "\n",
       "       pagerank  retrieval_score  \n",
       "0  2.842326e-09        20.439472  \n",
       "1  2.842326e-09        20.439472  \n",
       "2  2.842326e-09        20.439472  \n",
       "3  2.842326e-09        20.010927  \n",
       "4  2.842326e-09        19.942667  \n",
       "5  2.842326e-09        19.846024  "
      ]
     },
     "execution_count": 2064,
     "metadata": {},
     "output_type": "execute_result"
    }
   ],
   "source": [
    "pd.read_csv(candidate_file_path, nrows=6)"
   ]
  },
  {
   "cell_type": "markdown",
   "metadata": {},
   "source": [
    "### Generate lof-related features: lof-graph-embedding-score, lof-reciprocal-rank, lof-tfidf\n",
    "##### Generate required 4 features for voting classifier"
   ]
  },
  {
   "cell_type": "code",
   "execution_count": 2065,
   "metadata": {},
   "outputs": [
    {
     "name": "stdout",
     "output_type": "stream",
     "text": [
      "align-page-rank Time: 0.17309117317199707s\n",
      "string-similarity-['symmetric_monge_elkan:tokenizer=word'] Time: 0.9182159900665283s\n",
      "string-similarity-['symmetric_monge_elkan:tokenizer=word'] Time: 3.5664570331573486s\n",
      "string-similarity-['jaro_winkler'] Time: 0.21261310577392578s\n",
      "string-similarity-['levenshtein'] Time: 0.9800057411193848s\n",
      "string-similarity-['jaccard:tokenizer=word'] Time: 0.049462080001831055s\n",
      "normalize-scores-des_cont_jaccard Time: 0.017277956008911133s\n",
      "smallest-qnode-number Time: 0.16054296493530273s\n",
      "mosaic-features Time: 0.007483959197998047s\n",
      "create-singleton-feature Time: 0.10145902633666992s\n"
     ]
    }
   ],
   "source": [
    "!tl align-page-rank $candidate_file_path \\\n",
    "/ string-similarity -i --method symmetric_monge_elkan:tokenizer=word -o monge_elkan \\\n",
    "/ string-similarity -i --method symmetric_monge_elkan:tokenizer=word -c label_clean kg_aliases -o monge_elkan_aliases \\\n",
    "/ string-similarity -i --method jaro_winkler -o jaro_winkler \\\n",
    "/ string-similarity -i --method levenshtein -o levenshtein \\\n",
    "/ string-similarity -i --method jaccard:tokenizer=word -c kg_descriptions context -o des_cont_jaccard \\\n",
    "/ normalize-scores -c des_cont_jaccard / smallest-qnode-number \\\n",
    "/ mosaic-features -c kg_labels --num-char --num-tokens \\\n",
    "/ create-singleton-feature -o singleton \\\n",
    "> $aligned_pagerank_candidate_file_path"
   ]
  },
  {
   "cell_type": "code",
   "execution_count": 2066,
   "metadata": {},
   "outputs": [
    {
     "data": {
      "text/html": [
       "<div>\n",
       "<style scoped>\n",
       "    .dataframe tbody tr th:only-of-type {\n",
       "        vertical-align: middle;\n",
       "    }\n",
       "\n",
       "    .dataframe tbody tr th {\n",
       "        vertical-align: top;\n",
       "    }\n",
       "\n",
       "    .dataframe thead th {\n",
       "        text-align: right;\n",
       "    }\n",
       "</style>\n",
       "<table border=\"1\" class=\"dataframe\">\n",
       "  <thead>\n",
       "    <tr style=\"text-align: right;\">\n",
       "      <th></th>\n",
       "      <th>method</th>\n",
       "      <th>pagerank</th>\n",
       "      <th>aligned_pagerank</th>\n",
       "      <th>smallest_qnode_number</th>\n",
       "      <th>monge_elkan</th>\n",
       "      <th>des_cont_jaccard_normalized</th>\n",
       "    </tr>\n",
       "  </thead>\n",
       "  <tbody>\n",
       "    <tr>\n",
       "      <th>0</th>\n",
       "      <td>exact-match</td>\n",
       "      <td>0.000000e+00</td>\n",
       "      <td>0.0</td>\n",
       "      <td>0</td>\n",
       "      <td>0.000000</td>\n",
       "      <td>0.0</td>\n",
       "    </tr>\n",
       "    <tr>\n",
       "      <th>1</th>\n",
       "      <td>fuzzy-augmented</td>\n",
       "      <td>2.842326e-09</td>\n",
       "      <td>0.0</td>\n",
       "      <td>0</td>\n",
       "      <td>0.500000</td>\n",
       "      <td>0.0</td>\n",
       "    </tr>\n",
       "    <tr>\n",
       "      <th>2</th>\n",
       "      <td>fuzzy-augmented</td>\n",
       "      <td>2.842326e-09</td>\n",
       "      <td>0.0</td>\n",
       "      <td>0</td>\n",
       "      <td>0.500000</td>\n",
       "      <td>0.0</td>\n",
       "    </tr>\n",
       "    <tr>\n",
       "      <th>3</th>\n",
       "      <td>fuzzy-augmented</td>\n",
       "      <td>2.842326e-09</td>\n",
       "      <td>0.0</td>\n",
       "      <td>0</td>\n",
       "      <td>0.750000</td>\n",
       "      <td>0.0</td>\n",
       "    </tr>\n",
       "    <tr>\n",
       "      <th>4</th>\n",
       "      <td>fuzzy-augmented</td>\n",
       "      <td>2.842326e-09</td>\n",
       "      <td>0.0</td>\n",
       "      <td>0</td>\n",
       "      <td>0.736111</td>\n",
       "      <td>0.0</td>\n",
       "    </tr>\n",
       "  </tbody>\n",
       "</table>\n",
       "</div>"
      ],
      "text/plain": [
       "            method      pagerank  aligned_pagerank  smallest_qnode_number  \\\n",
       "0      exact-match  0.000000e+00               0.0                      0   \n",
       "1  fuzzy-augmented  2.842326e-09               0.0                      0   \n",
       "2  fuzzy-augmented  2.842326e-09               0.0                      0   \n",
       "3  fuzzy-augmented  2.842326e-09               0.0                      0   \n",
       "4  fuzzy-augmented  2.842326e-09               0.0                      0   \n",
       "\n",
       "   monge_elkan  des_cont_jaccard_normalized  \n",
       "0     0.000000                          0.0  \n",
       "1     0.500000                          0.0  \n",
       "2     0.500000                          0.0  \n",
       "3     0.750000                          0.0  \n",
       "4     0.736111                          0.0  "
      ]
     },
     "execution_count": 2066,
     "metadata": {},
     "output_type": "execute_result"
    }
   ],
   "source": [
    "features_df = pd.read_csv(aligned_pagerank_candidate_file_path)\n",
    "features_df.loc[:, ['method', 'pagerank', 'aligned_pagerank', 'smallest_qnode_number', 'monge_elkan', 'des_cont_jaccard_normalized']].head()"
   ]
  },
  {
   "cell_type": "markdown",
   "metadata": {},
   "source": [
    "##### Generate model-voted candidates result"
   ]
  },
  {
   "cell_type": "code",
   "execution_count": 2067,
   "metadata": {},
   "outputs": [
    {
     "name": "stdout",
     "output_type": "stream",
     "text": [
      "/opt/anaconda3/lib/python3.8/site-packages/sklearn/base.py:310: UserWarning: Trying to unpickle estimator LogisticRegression from version 0.24.1 when using version 0.24.2. This might lead to breaking code or invalid results. Use at your own risk.\n",
      "  warnings.warn(\n",
      "vote-by-classifier Time: 0.41292500495910645s\n"
     ]
    }
   ],
   "source": [
    "!tl vote-by-classifier $aligned_pagerank_candidate_file_path \\\n",
    "--prob-threshold 0.995 \\\n",
    "--model $model_file_path \\\n",
    "--features \"aligned_pagerank,smallest_qnode_number,monge_elkan,des_cont_jaccard_normalized\" \\\n",
    "> $model_voted_candidate_file_path"
   ]
  },
  {
   "cell_type": "code",
   "execution_count": 2068,
   "metadata": {},
   "outputs": [
    {
     "data": {
      "text/html": [
       "<div>\n",
       "<style scoped>\n",
       "    .dataframe tbody tr th:only-of-type {\n",
       "        vertical-align: middle;\n",
       "    }\n",
       "\n",
       "    .dataframe tbody tr th {\n",
       "        vertical-align: top;\n",
       "    }\n",
       "\n",
       "    .dataframe thead th {\n",
       "        text-align: right;\n",
       "    }\n",
       "</style>\n",
       "<table border=\"1\" class=\"dataframe\">\n",
       "  <thead>\n",
       "    <tr style=\"text-align: right;\">\n",
       "      <th></th>\n",
       "      <th>column</th>\n",
       "      <th>row</th>\n",
       "      <th>label</th>\n",
       "      <th>context</th>\n",
       "      <th>filename</th>\n",
       "      <th>column-id</th>\n",
       "      <th>label_clean</th>\n",
       "      <th>kg_id</th>\n",
       "      <th>kg_labels</th>\n",
       "      <th>kg_aliases</th>\n",
       "      <th>...</th>\n",
       "      <th>monge_elkan_aliases</th>\n",
       "      <th>jaro_winkler</th>\n",
       "      <th>levenshtein</th>\n",
       "      <th>des_cont_jaccard</th>\n",
       "      <th>des_cont_jaccard_normalized</th>\n",
       "      <th>smallest_qnode_number</th>\n",
       "      <th>num_char</th>\n",
       "      <th>num_tokens</th>\n",
       "      <th>singleton</th>\n",
       "      <th>vote_by_classifier</th>\n",
       "    </tr>\n",
       "  </thead>\n",
       "  <tbody>\n",
       "    <tr>\n",
       "      <th>0</th>\n",
       "      <td>0</td>\n",
       "      <td>0</td>\n",
       "      <td>KYLE SMOOT</td>\n",
       "      <td>UNIVERSITY OF KENTUCKY|MARK ANTHONY LOVELL</td>\n",
       "      <td>coinv_rand_new_aff2.csv</td>\n",
       "      <td>coinv_rand_new_aff2.csv-0</td>\n",
       "      <td>KYLE SMOOT</td>\n",
       "      <td>NaN</td>\n",
       "      <td>NaN</td>\n",
       "      <td>NaN</td>\n",
       "      <td>...</td>\n",
       "      <td>0.000000</td>\n",
       "      <td>0.000000</td>\n",
       "      <td>0.000000</td>\n",
       "      <td>0.0</td>\n",
       "      <td>0.0</td>\n",
       "      <td>0</td>\n",
       "      <td>0</td>\n",
       "      <td>0</td>\n",
       "      <td>0</td>\n",
       "      <td>0</td>\n",
       "    </tr>\n",
       "    <tr>\n",
       "      <th>1</th>\n",
       "      <td>0</td>\n",
       "      <td>0</td>\n",
       "      <td>KYLE SMOOT</td>\n",
       "      <td>UNIVERSITY OF KENTUCKY|MARK ANTHONY LOVELL</td>\n",
       "      <td>coinv_rand_new_aff2.csv</td>\n",
       "      <td>coinv_rand_new_aff2.csv-0</td>\n",
       "      <td>KYLE SMOOT</td>\n",
       "      <td>Q100924778</td>\n",
       "      <td>Ricquall Smoot</td>\n",
       "      <td>R. Smoot|Smoot, R.</td>\n",
       "      <td>...</td>\n",
       "      <td>0.500000</td>\n",
       "      <td>0.733333</td>\n",
       "      <td>0.500000</td>\n",
       "      <td>0.0</td>\n",
       "      <td>0.0</td>\n",
       "      <td>0</td>\n",
       "      <td>14</td>\n",
       "      <td>2</td>\n",
       "      <td>0</td>\n",
       "      <td>0</td>\n",
       "    </tr>\n",
       "    <tr>\n",
       "      <th>2</th>\n",
       "      <td>0</td>\n",
       "      <td>0</td>\n",
       "      <td>KYLE SMOOT</td>\n",
       "      <td>UNIVERSITY OF KENTUCKY|MARK ANTHONY LOVELL</td>\n",
       "      <td>coinv_rand_new_aff2.csv</td>\n",
       "      <td>coinv_rand_new_aff2.csv-0</td>\n",
       "      <td>KYLE SMOOT</td>\n",
       "      <td>Q5214410</td>\n",
       "      <td>Dan Smoot</td>\n",
       "      <td>D. Smoot|Smoot, D.</td>\n",
       "      <td>...</td>\n",
       "      <td>0.500000</td>\n",
       "      <td>0.755556</td>\n",
       "      <td>0.600000</td>\n",
       "      <td>0.0</td>\n",
       "      <td>0.0</td>\n",
       "      <td>0</td>\n",
       "      <td>9</td>\n",
       "      <td>2</td>\n",
       "      <td>0</td>\n",
       "      <td>0</td>\n",
       "    </tr>\n",
       "    <tr>\n",
       "      <th>3</th>\n",
       "      <td>0</td>\n",
       "      <td>0</td>\n",
       "      <td>KYLE SMOOT</td>\n",
       "      <td>UNIVERSITY OF KENTUCKY|MARK ANTHONY LOVELL</td>\n",
       "      <td>coinv_rand_new_aff2.csv</td>\n",
       "      <td>coinv_rand_new_aff2.csv-0</td>\n",
       "      <td>KYLE SMOOT</td>\n",
       "      <td>Q5496310</td>\n",
       "      <td>Fred Smoot</td>\n",
       "      <td>Smoot, F. |F. Smoot</td>\n",
       "      <td>...</td>\n",
       "      <td>0.500000</td>\n",
       "      <td>0.800000</td>\n",
       "      <td>0.600000</td>\n",
       "      <td>0.0</td>\n",
       "      <td>0.0</td>\n",
       "      <td>0</td>\n",
       "      <td>10</td>\n",
       "      <td>2</td>\n",
       "      <td>0</td>\n",
       "      <td>0</td>\n",
       "    </tr>\n",
       "    <tr>\n",
       "      <th>4</th>\n",
       "      <td>0</td>\n",
       "      <td>0</td>\n",
       "      <td>KYLE SMOOT</td>\n",
       "      <td>UNIVERSITY OF KENTUCKY|MARK ANTHONY LOVELL</td>\n",
       "      <td>coinv_rand_new_aff2.csv</td>\n",
       "      <td>coinv_rand_new_aff2.csv-0</td>\n",
       "      <td>KYLE SMOOT</td>\n",
       "      <td>Q59831732</td>\n",
       "      <td>Joseph Smoot</td>\n",
       "      <td>Smoot, J. |J. Smoot|Smoot, J. P. |Joseph P. Sm...</td>\n",
       "      <td>...</td>\n",
       "      <td>0.613426</td>\n",
       "      <td>0.713492</td>\n",
       "      <td>0.583333</td>\n",
       "      <td>0.0</td>\n",
       "      <td>0.0</td>\n",
       "      <td>0</td>\n",
       "      <td>12</td>\n",
       "      <td>2</td>\n",
       "      <td>0</td>\n",
       "      <td>0</td>\n",
       "    </tr>\n",
       "  </tbody>\n",
       "</table>\n",
       "<p>5 rows × 26 columns</p>\n",
       "</div>"
      ],
      "text/plain": [
       "   column  row       label                                     context  \\\n",
       "0       0    0  KYLE SMOOT  UNIVERSITY OF KENTUCKY|MARK ANTHONY LOVELL   \n",
       "1       0    0  KYLE SMOOT  UNIVERSITY OF KENTUCKY|MARK ANTHONY LOVELL   \n",
       "2       0    0  KYLE SMOOT  UNIVERSITY OF KENTUCKY|MARK ANTHONY LOVELL   \n",
       "3       0    0  KYLE SMOOT  UNIVERSITY OF KENTUCKY|MARK ANTHONY LOVELL   \n",
       "4       0    0  KYLE SMOOT  UNIVERSITY OF KENTUCKY|MARK ANTHONY LOVELL   \n",
       "\n",
       "                  filename                  column-id label_clean       kg_id  \\\n",
       "0  coinv_rand_new_aff2.csv  coinv_rand_new_aff2.csv-0  KYLE SMOOT         NaN   \n",
       "1  coinv_rand_new_aff2.csv  coinv_rand_new_aff2.csv-0  KYLE SMOOT  Q100924778   \n",
       "2  coinv_rand_new_aff2.csv  coinv_rand_new_aff2.csv-0  KYLE SMOOT    Q5214410   \n",
       "3  coinv_rand_new_aff2.csv  coinv_rand_new_aff2.csv-0  KYLE SMOOT    Q5496310   \n",
       "4  coinv_rand_new_aff2.csv  coinv_rand_new_aff2.csv-0  KYLE SMOOT   Q59831732   \n",
       "\n",
       "        kg_labels                                         kg_aliases  ...  \\\n",
       "0             NaN                                                NaN  ...   \n",
       "1  Ricquall Smoot                                R. Smoot|Smoot, R.   ...   \n",
       "2       Dan Smoot                                D. Smoot|Smoot, D.   ...   \n",
       "3      Fred Smoot                                Smoot, F. |F. Smoot  ...   \n",
       "4    Joseph Smoot  Smoot, J. |J. Smoot|Smoot, J. P. |Joseph P. Sm...  ...   \n",
       "\n",
       "  monge_elkan_aliases jaro_winkler  levenshtein  des_cont_jaccard  \\\n",
       "0            0.000000     0.000000     0.000000               0.0   \n",
       "1            0.500000     0.733333     0.500000               0.0   \n",
       "2            0.500000     0.755556     0.600000               0.0   \n",
       "3            0.500000     0.800000     0.600000               0.0   \n",
       "4            0.613426     0.713492     0.583333               0.0   \n",
       "\n",
       "   des_cont_jaccard_normalized  smallest_qnode_number  num_char  num_tokens  \\\n",
       "0                          0.0                      0         0           0   \n",
       "1                          0.0                      0        14           2   \n",
       "2                          0.0                      0         9           2   \n",
       "3                          0.0                      0        10           2   \n",
       "4                          0.0                      0        12           2   \n",
       "\n",
       "   singleton  vote_by_classifier  \n",
       "0          0                   0  \n",
       "1          0                   0  \n",
       "2          0                   0  \n",
       "3          0                   0  \n",
       "4          0                   0  \n",
       "\n",
       "[5 rows x 26 columns]"
      ]
     },
     "execution_count": 2068,
     "metadata": {},
     "output_type": "execute_result"
    }
   ],
   "source": [
    "model_voted_df = pd.read_csv(model_voted_candidate_file_path)\n",
    "model_voted_df.head()"
   ]
  },
  {
   "cell_type": "markdown",
   "metadata": {},
   "source": [
    "##### Generate graph-embedding-score using centroid-of-lof and lof-strategy"
   ]
  },
  {
   "cell_type": "code",
   "execution_count": 2069,
   "metadata": {},
   "outputs": [
    {
     "name": "stdout",
     "output_type": "stream",
     "text": [
      "Qnodes to lookup: 5281\n",
      "Qnodes from file: 5264\n",
      "Qnodes from server: 0\n",
      "Outlier removal generates 13 lof-voted candidates\n",
      "score-using-embedding Time: 0.8567259311676025s\n"
     ]
    }
   ],
   "source": [
    "!tl score-using-embedding $model_voted_candidate_file_path \\\n",
    "--column-vector-strategy centroid-of-lof \\\n",
    "--lof-strategy ems-mv \\\n",
    "-o lof-graph-embedding-score \\\n",
    "--embedding-file $graph_embedding_complex_file \\\n",
    "--embedding-url $index_url \\\n",
    "> $graph_embedding_file_path"
   ]
  },
  {
   "cell_type": "markdown",
   "metadata": {},
   "source": [
    "##### Generate lof reciprocal rank feature"
   ]
  },
  {
   "cell_type": "code",
   "execution_count": 2070,
   "metadata": {},
   "outputs": [
    {
     "name": "stdout",
     "output_type": "stream",
     "text": [
      "generate-reciprocal-rank-lof-graph-embedding-score Time: 0.24054908752441406s\n"
     ]
    }
   ],
   "source": [
    "!tl generate-reciprocal-rank \"$graph_embedding_file_path\" \\\n",
    "-c lof-graph-embedding-score \\\n",
    "-o lof-reciprocal-rank \\\n",
    "> \"$lof_reciprocal_rank_file_path\""
   ]
  },
  {
   "cell_type": "markdown",
   "metadata": {},
   "source": [
    "##### Generate lof tfidf feature"
   ]
  },
  {
   "cell_type": "code",
   "execution_count": 2071,
   "metadata": {},
   "outputs": [
    {
     "name": "stdout",
     "output_type": "stream",
     "text": [
      "compute-tf-idf-class_count Time: 0.23376798629760742s\n",
      "compute-tf-idf-property_count Time: 0.5045177936553955s\n"
     ]
    }
   ],
   "source": [
    "!tl compute-tf-idf \"$lof_reciprocal_rank_file_path\" \\\n",
    "--feature-file \"$class_count_file\" \\\n",
    "--feature-name class_count \\\n",
    "--singleton-column is_lof \\\n",
    "-o lof_class_count_tf_idf_score \\\n",
    "/ compute-tf-idf \\\n",
    "--feature-file \"$property_count_file\" \\\n",
    "--feature-name property_count \\\n",
    "--singleton-column is_lof \\\n",
    "-o lof_property_count_tf_idf_score \\\n",
    "> \"$lof_feature_file\""
   ]
  },
  {
   "cell_type": "markdown",
   "metadata": {},
   "source": [
    "##### Add context score"
   ]
  },
  {
   "cell_type": "code",
   "execution_count": 2072,
   "metadata": {},
   "outputs": [],
   "source": [
    "!tl context-match --custom-context-file $custom_context_file \\\n",
    "--context-file $context_file --string-separator \";\" \\\n",
    "--similarity-string-threshold $string_threshold $lof_feature_file > $context_score_file"
   ]
  },
  {
   "cell_type": "markdown",
   "metadata": {},
   "source": [
    "### Model Prediction"
   ]
  },
  {
   "cell_type": "code",
   "execution_count": 2073,
   "metadata": {},
   "outputs": [
    {
     "name": "stdout",
     "output_type": "stream",
     "text": [
      "/opt/anaconda3/lib/python3.8/site-packages/sklearn/base.py:310: UserWarning: Trying to unpickle estimator MinMaxScaler from version 0.24.1 when using version 0.24.2. This might lead to breaking code or invalid results. Use at your own risk.\n",
      "  warnings.warn(\n",
      "predict-using-model Time: 0.562143087387085s\n"
     ]
    }
   ],
   "source": [
    "features_str = \",\".join(features)\n",
    "!tl predict-using-model -o siamese_prediction \\\n",
    "--ranking-model $ranking_model_file_path \\\n",
    "--features $features_str \\\n",
    "--normalization-factor $min_max_scaler_path $context_score_file > $output_model_pred_file"
   ]
  },
  {
   "cell_type": "code",
   "execution_count": 2074,
   "metadata": {},
   "outputs": [
    {
     "data": {
      "text/plain": [
       "'pagerank,retrieval_score,monge_elkan,monge_elkan_aliases,des_cont_jaccard,jaro_winkler,levenshtein,singleton,num_char,num_tokens,lof_class_count_tf_idf_score,lof_property_count_tf_idf_score,lof-graph-embedding-score,lof-reciprocal-rank,context_score'"
      ]
     },
     "execution_count": 2074,
     "metadata": {},
     "output_type": "execute_result"
    }
   ],
   "source": [
    "features_str"
   ]
  },
  {
   "cell_type": "markdown",
   "metadata": {},
   "source": [
    "### Get Top 5 links"
   ]
  },
  {
   "cell_type": "code",
   "execution_count": 2075,
   "metadata": {},
   "outputs": [
    {
     "name": "stdout",
     "output_type": "stream",
     "text": [
      "get-kg-links-siamese_prediction Time: 0.24179720878601074s\n"
     ]
    }
   ],
   "source": [
    "!tl get-kg-links -c $final_score_column -k 5 --k-rows $output_model_pred_file > $top5_links"
   ]
  },
  {
   "cell_type": "markdown",
   "metadata": {},
   "source": [
    "### Colorized KG Links file"
   ]
  },
  {
   "cell_type": "code",
   "execution_count": 2076,
   "metadata": {},
   "outputs": [
    {
     "name": "stdout",
     "output_type": "stream",
     "text": [
      "add-color Time: 0.09406304359436035s\n"
     ]
    }
   ],
   "source": [
    "!tl add-color -c \"$final_score_column\" -k 5 $top5_links --output \"$colorized_kg_links\""
   ]
  },
  {
   "cell_type": "code",
   "execution_count": 2077,
   "metadata": {},
   "outputs": [],
   "source": [
    "#!open \"$colorized_kg_links\""
   ]
  },
  {
   "cell_type": "code",
   "execution_count": null,
   "metadata": {},
   "outputs": [],
   "source": []
  },
  {
   "cell_type": "code",
   "execution_count": 2078,
   "metadata": {},
   "outputs": [],
   "source": [
    "df = pd.read_excel(colorized_kg_links)"
   ]
  },
  {
   "cell_type": "code",
   "execution_count": 2079,
   "metadata": {},
   "outputs": [],
   "source": [
    "ls = df.columns"
   ]
  },
  {
   "cell_type": "code",
   "execution_count": 2080,
   "metadata": {},
   "outputs": [
    {
     "data": {
      "text/plain": [
       "38"
      ]
     },
     "execution_count": 2080,
     "metadata": {},
     "output_type": "execute_result"
    }
   ],
   "source": [
    "len(ls)"
   ]
  },
  {
   "cell_type": "code",
   "execution_count": 2081,
   "metadata": {},
   "outputs": [],
   "source": [
    "arr = []\n",
    "for i in range(0, len(ls)):\n",
    "    arr.append('')\n",
    "    \n",
    "arr[0] = 0\n",
    "arr[7] = 'NIL'\n",
    "arr[len(arr)-1] = ''"
   ]
  },
  {
   "cell_type": "code",
   "execution_count": 2082,
   "metadata": {},
   "outputs": [],
   "source": [
    "df_list = df.values.tolist()"
   ]
  },
  {
   "cell_type": "code",
   "execution_count": 2083,
   "metadata": {},
   "outputs": [],
   "source": [
    "nil = pd.DataFrame(columns = df.columns)"
   ]
  },
  {
   "cell_type": "code",
   "execution_count": 2084,
   "metadata": {},
   "outputs": [],
   "source": [
    "new = pd.DataFrame(columns = df.columns)"
   ]
  },
  {
   "cell_type": "code",
   "execution_count": 2085,
   "metadata": {},
   "outputs": [
    {
     "data": {
      "text/html": [
       "<div>\n",
       "<style scoped>\n",
       "    .dataframe tbody tr th:only-of-type {\n",
       "        vertical-align: middle;\n",
       "    }\n",
       "\n",
       "    .dataframe tbody tr th {\n",
       "        vertical-align: top;\n",
       "    }\n",
       "\n",
       "    .dataframe thead th {\n",
       "        text-align: right;\n",
       "    }\n",
       "</style>\n",
       "<table border=\"1\" class=\"dataframe\">\n",
       "  <thead>\n",
       "    <tr style=\"text-align: right;\">\n",
       "      <th></th>\n",
       "      <th>column</th>\n",
       "      <th>row</th>\n",
       "      <th>label</th>\n",
       "      <th>context</th>\n",
       "      <th>filename</th>\n",
       "      <th>column-id</th>\n",
       "      <th>label_clean</th>\n",
       "      <th>kg_id</th>\n",
       "      <th>kg_labels</th>\n",
       "      <th>kg_aliases</th>\n",
       "      <th>...</th>\n",
       "      <th>lof-reciprocal-rank</th>\n",
       "      <th>lof_class_count_tf_idf_score</th>\n",
       "      <th>top5_class_count</th>\n",
       "      <th>lof_property_count_tf_idf_score</th>\n",
       "      <th>top5_property_count</th>\n",
       "      <th>context_property</th>\n",
       "      <th>context_similarity</th>\n",
       "      <th>context_score</th>\n",
       "      <th>siamese_prediction</th>\n",
       "      <th>rank</th>\n",
       "    </tr>\n",
       "  </thead>\n",
       "  <tbody>\n",
       "  </tbody>\n",
       "</table>\n",
       "<p>0 rows × 38 columns</p>\n",
       "</div>"
      ],
      "text/plain": [
       "Empty DataFrame\n",
       "Columns: [column, row, label, context, filename, column-id, label_clean, kg_id, kg_labels, kg_aliases, method, kg_descriptions, pagerank, retrieval_score, aligned_pagerank, monge_elkan, monge_elkan_aliases, jaro_winkler, levenshtein, des_cont_jaccard, des_cont_jaccard_normalized, smallest_qnode_number, num_char, num_tokens, singleton, vote_by_classifier, is_lof, lof-graph-embedding-score, lof-reciprocal-rank, lof_class_count_tf_idf_score, top5_class_count, lof_property_count_tf_idf_score, top5_property_count, context_property, context_similarity, context_score, siamese_prediction, rank]\n",
       "Index: []\n",
       "\n",
       "[0 rows x 38 columns]"
      ]
     },
     "execution_count": 2085,
     "metadata": {},
     "output_type": "execute_result"
    }
   ],
   "source": [
    "nil"
   ]
  },
  {
   "cell_type": "code",
   "execution_count": 2086,
   "metadata": {},
   "outputs": [],
   "source": [
    "done = []\n",
    "b = []\n",
    "for i in range (0, len(df)):\n",
    "    if df['row'][i] in done:\n",
    "        continue\n",
    "        \n",
    "    \n",
    "    arr[1] = df['row'][i]\n",
    "    arr[2] = df['label'][i]\n",
    "    arr[3] = df['context'][i]\n",
    "    arr[4] = df['filename'][i]\n",
    "    arr[5] = df['column-id'][i]\n",
    "    arr[6] = df['label_clean'][i]\n",
    "    \n",
    "    \n",
    "    nil.loc[len(nil)] = arr\n",
    "    \n",
    "\n",
    "    done.append(df['row'][i])\n",
    "\n",
    "    \n",
    "    \n",
    "    "
   ]
  },
  {
   "cell_type": "code",
   "execution_count": 2087,
   "metadata": {},
   "outputs": [],
   "source": [
    "nil_list = nil.values.tolist()"
   ]
  },
  {
   "cell_type": "code",
   "execution_count": 2088,
   "metadata": {},
   "outputs": [],
   "source": [
    "for i in range(0, len(df)):\n",
    "    new.loc[len(new)] = df_list[i]\n",
    "    if i % 5 == 4:\n",
    "        new.loc[len(new)] = (nil_list[int(i/5)])\n",
    "        "
   ]
  },
  {
   "cell_type": "code",
   "execution_count": 2089,
   "metadata": {},
   "outputs": [],
   "source": [
    "for i in range(0, len(new)):\n",
    "    #print(new['siamese_prediction'][i])\n",
    "    if (new['siamese_prediction'][i] == ''):\n",
    "        new['siamese_prediction'][i] = 0\n",
    "    if (new['context_score'][i] == ''):\n",
    "        new['context_score'][i] = 0\n",
    "    new['siamese_prediction'][i] = float(new['siamese_prediction'][i])\n",
    "    new['context_score'][i] = float(new['context_score'][i])"
   ]
  },
  {
   "cell_type": "code",
   "execution_count": 2090,
   "metadata": {},
   "outputs": [],
   "source": [
    "#siamese_threshold = 1e-17\n",
    "select = new[(new['siamese_prediction'] > siamese_threshold) | (new['kg_id'] == 'NIL')]"
   ]
  },
  {
   "cell_type": "code",
   "execution_count": 2091,
   "metadata": {},
   "outputs": [],
   "source": [
    "select = select.reset_index(drop = True)"
   ]
  },
  {
   "cell_type": "code",
   "execution_count": 2092,
   "metadata": {},
   "outputs": [],
   "source": [
    "final = pd.DataFrame(columns = df.columns)"
   ]
  },
  {
   "cell_type": "code",
   "execution_count": 2093,
   "metadata": {},
   "outputs": [],
   "source": [
    "done = []\n",
    "select_list = select.values.tolist()\n",
    "for i in range(0, len(select)):\n",
    "    if select['row'][i] in done:\n",
    "        continue\n",
    "    final.loc[len(final)] = select_list[i]\n",
    "    done.append(select['row'][i])"
   ]
  },
  {
   "cell_type": "code",
   "execution_count": 2094,
   "metadata": {},
   "outputs": [],
   "source": [
    "final.to_csv(selection_save_path, index = False)"
   ]
  },
  {
   "cell_type": "code",
   "execution_count": 2095,
   "metadata": {},
   "outputs": [],
   "source": [
    "#!tl ground-truth-labeler -f $gt \\\n",
    "#< $selection_save_path\\\n",
    "#> $labeled_path\n"
   ]
  },
  {
   "cell_type": "code",
   "execution_count": 2096,
   "metadata": {},
   "outputs": [],
   "source": [
    "#!tl metrics $label_path -c evaluation_label"
   ]
  },
  {
   "cell_type": "code",
   "execution_count": null,
   "metadata": {},
   "outputs": [],
   "source": []
  },
  {
   "cell_type": "code",
   "execution_count": null,
   "metadata": {},
   "outputs": [],
   "source": []
  },
  {
   "cell_type": "code",
   "execution_count": null,
   "metadata": {},
   "outputs": [],
   "source": []
  },
  {
   "cell_type": "code",
   "execution_count": null,
   "metadata": {},
   "outputs": [],
   "source": []
  },
  {
   "cell_type": "code",
   "execution_count": null,
   "metadata": {},
   "outputs": [],
   "source": []
  },
  {
   "cell_type": "code",
   "execution_count": null,
   "metadata": {},
   "outputs": [],
   "source": []
  },
  {
   "cell_type": "code",
   "execution_count": null,
   "metadata": {},
   "outputs": [],
   "source": []
  }
 ],
 "metadata": {
  "kernelspec": {
   "display_name": "Python 3",
   "language": "python",
   "name": "python3"
  },
  "language_info": {
   "codemirror_mode": {
    "name": "ipython",
    "version": 3
   },
   "file_extension": ".py",
   "mimetype": "text/x-python",
   "name": "python",
   "nbconvert_exporter": "python",
   "pygments_lexer": "ipython3",
   "version": "3.8.8"
  }
 },
 "nbformat": 4,
 "nbformat_minor": 4
}

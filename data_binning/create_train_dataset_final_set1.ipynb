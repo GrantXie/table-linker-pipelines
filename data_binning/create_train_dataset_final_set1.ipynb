{
 "cells": [
  {
   "cell_type": "code",
   "execution_count": 1,
   "id": "b65e67e1",
   "metadata": {},
   "outputs": [],
   "source": [
    "# Read all the files we have and create a corpus of cell\n",
    "# While creating the corpus, first create a 10 by 10 matrix for each of the feature percentile values. \n",
    "\n"
   ]
  },
  {
   "cell_type": "code",
   "execution_count": 2,
   "id": "1b96b825",
   "metadata": {},
   "outputs": [],
   "source": [
    "# Cell key as <filename, column, row>\n",
    "# Each row key as <filename, column, row, kg_id>\n"
   ]
  },
  {
   "cell_type": "code",
   "execution_count": 3,
   "id": "a3acaeff",
   "metadata": {},
   "outputs": [],
   "source": [
    "import pandas as pd\n",
    "import numpy as np\n",
    "import glob\n",
    "import os\n",
    "import json\n",
    "import pickle\n",
    "import random"
   ]
  },
  {
   "cell_type": "code",
   "execution_count": 4,
   "id": "44156138",
   "metadata": {},
   "outputs": [],
   "source": [
    "current_dev_files_path = 'SemTabRound4_T2DV2_train/dev-output/v26/features/'\n",
    "current_dev_files = []\n",
    "for file in glob.glob(current_dev_files_path + '*.csv'):\n",
    "    filename = file.split('/')[-1]\n",
    "    current_dev_files.append(filename)"
   ]
  },
  {
   "cell_type": "code",
   "execution_count": 5,
   "id": "c5f336c1",
   "metadata": {},
   "outputs": [
    {
     "data": {
      "text/plain": [
       "2134"
      ]
     },
     "execution_count": 5,
     "metadata": {},
     "output_type": "execute_result"
    }
   ],
   "source": [
    "# Merge all the 2000 files in the 8 different combined files. \n",
    "file_path = 'SemTabRound4_T2DV2_train/dev-output/v40_test/features/'\n",
    "file_list = glob.glob('SemTabRound4_T2DV2_train/dev-output/v40_test/features/' + \"*.csv\")\n",
    "len(file_list)"
   ]
  },
  {
   "cell_type": "code",
   "execution_count": 88,
   "id": "a2bd7d60",
   "metadata": {},
   "outputs": [
    {
     "name": "stdout",
     "output_type": "stream",
     "text": [
      "1 250\n"
     ]
    },
    {
     "name": "stderr",
     "output_type": "stream",
     "text": [
      "/nas/home/hrathod/anaconda3/lib/python3.8/site-packages/IPython/core/interactiveshell.py:3146: DtypeWarning: Columns (47) have mixed types.Specify dtype option on import or set low_memory=False.\n",
      "  has_raised = await self.run_ast_nodes(code_ast.body, cell_name,\n"
     ]
    },
    {
     "name": "stdout",
     "output_type": "stream",
     "text": [
      "2 250\n"
     ]
    },
    {
     "name": "stderr",
     "output_type": "stream",
     "text": [
      "/nas/home/hrathod/anaconda3/lib/python3.8/site-packages/IPython/core/interactiveshell.py:3146: DtypeWarning: Columns (27,28,29,34,36,40,41,42,47) have mixed types.Specify dtype option on import or set low_memory=False.\n",
      "  has_raised = await self.run_ast_nodes(code_ast.body, cell_name,\n",
      "/nas/home/hrathod/anaconda3/lib/python3.8/site-packages/IPython/core/interactiveshell.py:3146: DtypeWarning: Columns (42,47) have mixed types.Specify dtype option on import or set low_memory=False.\n",
      "  has_raised = await self.run_ast_nodes(code_ast.body, cell_name,\n",
      "/nas/home/hrathod/anaconda3/lib/python3.8/site-packages/IPython/core/interactiveshell.py:3146: DtypeWarning: Columns (40,41,42,47) have mixed types.Specify dtype option on import or set low_memory=False.\n",
      "  has_raised = await self.run_ast_nodes(code_ast.body, cell_name,\n"
     ]
    },
    {
     "name": "stdout",
     "output_type": "stream",
     "text": [
      "3 250\n"
     ]
    },
    {
     "name": "stderr",
     "output_type": "stream",
     "text": [
      "/nas/home/hrathod/anaconda3/lib/python3.8/site-packages/IPython/core/interactiveshell.py:3146: DtypeWarning: Columns (42) have mixed types.Specify dtype option on import or set low_memory=False.\n",
      "  has_raised = await self.run_ast_nodes(code_ast.body, cell_name,\n"
     ]
    },
    {
     "name": "stdout",
     "output_type": "stream",
     "text": [
      "4 250\n",
      "5 250\n",
      "6 250\n",
      "7 250\n"
     ]
    },
    {
     "name": "stderr",
     "output_type": "stream",
     "text": [
      "/nas/home/hrathod/anaconda3/lib/python3.8/site-packages/IPython/core/interactiveshell.py:3146: DtypeWarning: Columns (40,41,42) have mixed types.Specify dtype option on import or set low_memory=False.\n",
      "  has_raised = await self.run_ast_nodes(code_ast.body, cell_name,\n"
     ]
    },
    {
     "name": "stdout",
     "output_type": "stream",
     "text": [
      "8 250\n"
     ]
    },
    {
     "name": "stderr",
     "output_type": "stream",
     "text": [
      "/nas/home/hrathod/anaconda3/lib/python3.8/site-packages/IPython/core/interactiveshell.py:3146: DtypeWarning: Columns (27,28,29,34,36,40,41,42) have mixed types.Specify dtype option on import or set low_memory=False.\n",
      "  has_raised = await self.run_ast_nodes(code_ast.body, cell_name,\n"
     ]
    }
   ],
   "source": [
    "file_list_combine = []\n",
    "combined_number = 1\n",
    "for i in file_list:\n",
    "    \n",
    "    filename = i.split('/')[-1]\n",
    "    if filename not in current_dev_files:\n",
    "        file_list_combine.append(i)\n",
    "        if len(file_list_combine) == 250:\n",
    "            print(combined_number, len(file_list_combine))\n",
    "            df_list = []\n",
    "            for f in file_list_combine:\n",
    "                c_filename = f.split('/')[-1]\n",
    "                k = pd.read_csv(f)\n",
    "                k['filename'] = c_filename\n",
    "                df_list.append(k)\n",
    "            combined_csv = pd.concat(df_list)\n",
    "            combined_csv.to_csv(f\"complete_training_set_{combined_number}.csv\", index = False)\n",
    "            combined_number += 1\n",
    "            file_list_combine = []"
   ]
  },
  {
   "cell_type": "code",
   "execution_count": 6,
   "id": "8b04ff78",
   "metadata": {},
   "outputs": [
    {
     "name": "stdout",
     "output_type": "stream",
     "text": [
      "1 295\n"
     ]
    },
    {
     "name": "stderr",
     "output_type": "stream",
     "text": [
      "/nas/home/hrathod/anaconda3/lib/python3.8/site-packages/IPython/core/interactiveshell.py:3146: DtypeWarning: Columns (29,30,31,36,38,42,43,44) have mixed types.Specify dtype option on import or set low_memory=False.\n",
      "  has_raised = await self.run_ast_nodes(code_ast.body, cell_name,\n",
      "/nas/home/hrathod/anaconda3/lib/python3.8/site-packages/IPython/core/interactiveshell.py:3146: DtypeWarning: Columns (49) have mixed types.Specify dtype option on import or set low_memory=False.\n",
      "  has_raised = await self.run_ast_nodes(code_ast.body, cell_name,\n",
      "/nas/home/hrathod/anaconda3/lib/python3.8/site-packages/IPython/core/interactiveshell.py:3146: DtypeWarning: Columns (44,49) have mixed types.Specify dtype option on import or set low_memory=False.\n",
      "  has_raised = await self.run_ast_nodes(code_ast.body, cell_name,\n",
      "/nas/home/hrathod/anaconda3/lib/python3.8/site-packages/IPython/core/interactiveshell.py:3146: DtypeWarning: Columns (42,43,44,49) have mixed types.Specify dtype option on import or set low_memory=False.\n",
      "  has_raised = await self.run_ast_nodes(code_ast.body, cell_name,\n"
     ]
    }
   ],
   "source": [
    "# Merging all the existing SemTab's 300 Files\n",
    "file_list = glob.glob('SemTabRound4_T2DV2_train/train1-output/v26/features/' + \"*.csv\")\n",
    "file_list_combine = []\n",
    "combined_number = 1\n",
    "for i in file_list:\n",
    "    \n",
    "    filename = i.split('/')[-1]\n",
    "    if filename not in current_dev_files:\n",
    "        file_list_combine.append(i)\n",
    "print(combined_number, len(file_list_combine))\n",
    "df_list = []\n",
    "for f in file_list_combine:\n",
    "    c_filename = f.split('/')[-1]\n",
    "    k = pd.read_csv(f)\n",
    "    k['filename'] = c_filename\n",
    "    df_list.append(k)\n",
    "combined_csv = pd.concat(df_list)\n",
    "combined_csv.to_csv(f\"complete_training_set_curr.csv\", index = False)\n",
    "combined_number += 1\n",
    "file_list_combine = []\n",
    "    \n",
    "    "
   ]
  },
  {
   "cell_type": "code",
   "execution_count": 5,
   "id": "28baa188",
   "metadata": {
    "scrolled": true
   },
   "outputs": [
    {
     "name": "stderr",
     "output_type": "stream",
     "text": [
      "/nas/home/hrathod/anaconda3/lib/python3.8/site-packages/IPython/core/interactiveshell.py:3146: DtypeWarning: Columns (40,41,42,47) have mixed types.Specify dtype option on import or set low_memory=False.\n",
      "  has_raised = await self.run_ast_nodes(code_ast.body, cell_name,\n",
      "/nas/home/hrathod/anaconda3/lib/python3.8/site-packages/IPython/core/interactiveshell.py:3146: DtypeWarning: Columns (47) have mixed types.Specify dtype option on import or set low_memory=False.\n",
      "  has_raised = await self.run_ast_nodes(code_ast.body, cell_name,\n"
     ]
    }
   ],
   "source": [
    "df_1 = pd.read_csv('complete_training_set_1.csv')\n",
    "df_2 = pd.read_csv('complete_training_set_2.csv')\n",
    "df_3 = pd.read_csv('complete_training_set_3.csv')\n",
    "df_4 = pd.read_csv('complete_training_set_4.csv')\n",
    "df_5 = pd.read_csv('complete_training_set_5.csv')\n",
    "df_6 = pd.read_csv('complete_training_set_6.csv')\n",
    "df_7 = pd.read_csv('complete_training_set_7.csv')\n",
    "df_8 = pd.read_csv('complete_training_set_8.csv')\n",
    "df_9 = pd.read_csv('complete_training_set_curr.csv')"
   ]
  },
  {
   "cell_type": "code",
   "execution_count": 7,
   "id": "0a4ce657",
   "metadata": {},
   "outputs": [],
   "source": [
    "df = pd.concat([df_1, df_2, df_3, df_4, df_5, df_6, df_7, df_8, df_9])"
   ]
  },
  {
   "cell_type": "code",
   "execution_count": 8,
   "id": "6cff503b",
   "metadata": {
    "scrolled": true
   },
   "outputs": [
    {
     "data": {
      "text/html": [
       "<div>\n",
       "<style scoped>\n",
       "    .dataframe tbody tr th:only-of-type {\n",
       "        vertical-align: middle;\n",
       "    }\n",
       "\n",
       "    .dataframe tbody tr th {\n",
       "        vertical-align: top;\n",
       "    }\n",
       "\n",
       "    .dataframe thead th {\n",
       "        text-align: right;\n",
       "    }\n",
       "</style>\n",
       "<table border=\"1\" class=\"dataframe\">\n",
       "  <thead>\n",
       "    <tr style=\"text-align: right;\">\n",
       "      <th></th>\n",
       "      <th>column</th>\n",
       "      <th>row</th>\n",
       "      <th>label</th>\n",
       "      <th>context</th>\n",
       "      <th>label_clean</th>\n",
       "      <th>kg_id</th>\n",
       "      <th>kg_labels</th>\n",
       "      <th>kg_aliases</th>\n",
       "      <th>method</th>\n",
       "      <th>kg_descriptions</th>\n",
       "      <th>...</th>\n",
       "      <th>num_char</th>\n",
       "      <th>num_tokens</th>\n",
       "      <th>is_lof</th>\n",
       "      <th>pgt_centroid_score</th>\n",
       "      <th>pgt_class_count_tf_idf_score</th>\n",
       "      <th>top5_class_count</th>\n",
       "      <th>pgt_property_count_tf_idf_score</th>\n",
       "      <th>top5_property_count</th>\n",
       "      <th>filename</th>\n",
       "      <th>column-id</th>\n",
       "    </tr>\n",
       "  </thead>\n",
       "  <tbody>\n",
       "    <tr>\n",
       "      <th>0</th>\n",
       "      <td>0</td>\n",
       "      <td>0</td>\n",
       "      <td>2026 Swiss Badminton Championships</td>\n",
       "      <td>2025 Swiss Badminton Championships|national ch...</td>\n",
       "      <td>2026 Swiss Badminton Championships</td>\n",
       "      <td>Q65942548</td>\n",
       "      <td>2020 Swiss Badminton Championships</td>\n",
       "      <td>NaN</td>\n",
       "      <td>fuzzy-augmented</td>\n",
       "      <td>badminton championships</td>\n",
       "      <td>...</td>\n",
       "      <td>34</td>\n",
       "      <td>4</td>\n",
       "      <td>-1</td>\n",
       "      <td>0.924308</td>\n",
       "      <td>1.0</td>\n",
       "      <td>Q969090:0.195|Q3270632:0.123|Q13357858:0.115|Q...</td>\n",
       "      <td>0.829008</td>\n",
       "      <td>P2094:0.138|P5008:0.134|P527:0.119|P585:0.111|...</td>\n",
       "      <td>4QZ9R9MG.csv</td>\n",
       "      <td>NaN</td>\n",
       "    </tr>\n",
       "    <tr>\n",
       "      <th>1</th>\n",
       "      <td>0</td>\n",
       "      <td>0</td>\n",
       "      <td>2026 Swiss Badminton Championships</td>\n",
       "      <td>2025 Swiss Badminton Championships|national ch...</td>\n",
       "      <td>2026 Swiss Badminton Championships</td>\n",
       "      <td>Q65942549</td>\n",
       "      <td>2021 Swiss Badminton Championships</td>\n",
       "      <td>NaN</td>\n",
       "      <td>fuzzy-augmented</td>\n",
       "      <td>badminton championships</td>\n",
       "      <td>...</td>\n",
       "      <td>34</td>\n",
       "      <td>4</td>\n",
       "      <td>-1</td>\n",
       "      <td>0.935248</td>\n",
       "      <td>1.0</td>\n",
       "      <td>Q969090:0.195|Q3270632:0.123|Q13357858:0.115|Q...</td>\n",
       "      <td>0.829008</td>\n",
       "      <td>P2094:0.138|P5008:0.134|P527:0.119|P585:0.111|...</td>\n",
       "      <td>4QZ9R9MG.csv</td>\n",
       "      <td>NaN</td>\n",
       "    </tr>\n",
       "    <tr>\n",
       "      <th>2</th>\n",
       "      <td>0</td>\n",
       "      <td>0</td>\n",
       "      <td>2026 Swiss Badminton Championships</td>\n",
       "      <td>2025 Swiss Badminton Championships|national ch...</td>\n",
       "      <td>2026 Swiss Badminton Championships</td>\n",
       "      <td>Q65942550</td>\n",
       "      <td>2022 Swiss Badminton Championships</td>\n",
       "      <td>NaN</td>\n",
       "      <td>fuzzy-augmented</td>\n",
       "      <td>badminton championships</td>\n",
       "      <td>...</td>\n",
       "      <td>34</td>\n",
       "      <td>4</td>\n",
       "      <td>-1</td>\n",
       "      <td>0.945687</td>\n",
       "      <td>1.0</td>\n",
       "      <td>Q969090:0.195|Q3270632:0.123|Q13357858:0.115|Q...</td>\n",
       "      <td>0.829008</td>\n",
       "      <td>P2094:0.138|P5008:0.134|P527:0.119|P585:0.111|...</td>\n",
       "      <td>4QZ9R9MG.csv</td>\n",
       "      <td>NaN</td>\n",
       "    </tr>\n",
       "    <tr>\n",
       "      <th>3</th>\n",
       "      <td>0</td>\n",
       "      <td>0</td>\n",
       "      <td>2026 Swiss Badminton Championships</td>\n",
       "      <td>2025 Swiss Badminton Championships|national ch...</td>\n",
       "      <td>2026 Swiss Badminton Championships</td>\n",
       "      <td>Q65942551</td>\n",
       "      <td>2023 Swiss Badminton Championships</td>\n",
       "      <td>NaN</td>\n",
       "      <td>fuzzy-augmented</td>\n",
       "      <td>badminton championships</td>\n",
       "      <td>...</td>\n",
       "      <td>34</td>\n",
       "      <td>4</td>\n",
       "      <td>-1</td>\n",
       "      <td>0.945512</td>\n",
       "      <td>1.0</td>\n",
       "      <td>Q969090:0.195|Q3270632:0.123|Q13357858:0.115|Q...</td>\n",
       "      <td>0.829008</td>\n",
       "      <td>P2094:0.138|P5008:0.134|P527:0.119|P585:0.111|...</td>\n",
       "      <td>4QZ9R9MG.csv</td>\n",
       "      <td>NaN</td>\n",
       "    </tr>\n",
       "    <tr>\n",
       "      <th>4</th>\n",
       "      <td>0</td>\n",
       "      <td>0</td>\n",
       "      <td>2026 Swiss Badminton Championships</td>\n",
       "      <td>2025 Swiss Badminton Championships|national ch...</td>\n",
       "      <td>2026 Swiss Badminton Championships</td>\n",
       "      <td>Q65942552</td>\n",
       "      <td>2024 Swiss Badminton Championships</td>\n",
       "      <td>NaN</td>\n",
       "      <td>fuzzy-augmented</td>\n",
       "      <td>badminton championships</td>\n",
       "      <td>...</td>\n",
       "      <td>34</td>\n",
       "      <td>4</td>\n",
       "      <td>-1</td>\n",
       "      <td>0.950563</td>\n",
       "      <td>1.0</td>\n",
       "      <td>Q969090:0.195|Q3270632:0.123|Q13357858:0.115|Q...</td>\n",
       "      <td>0.829008</td>\n",
       "      <td>P2094:0.138|P5008:0.134|P527:0.119|P585:0.111|...</td>\n",
       "      <td>4QZ9R9MG.csv</td>\n",
       "      <td>NaN</td>\n",
       "    </tr>\n",
       "  </tbody>\n",
       "</table>\n",
       "<p>5 rows × 59 columns</p>\n",
       "</div>"
      ],
      "text/plain": [
       "   column  row                               label  \\\n",
       "0       0    0  2026 Swiss Badminton Championships   \n",
       "1       0    0  2026 Swiss Badminton Championships   \n",
       "2       0    0  2026 Swiss Badminton Championships   \n",
       "3       0    0  2026 Swiss Badminton Championships   \n",
       "4       0    0  2026 Swiss Badminton Championships   \n",
       "\n",
       "                                             context  \\\n",
       "0  2025 Swiss Badminton Championships|national ch...   \n",
       "1  2025 Swiss Badminton Championships|national ch...   \n",
       "2  2025 Swiss Badminton Championships|national ch...   \n",
       "3  2025 Swiss Badminton Championships|national ch...   \n",
       "4  2025 Swiss Badminton Championships|national ch...   \n",
       "\n",
       "                          label_clean      kg_id  \\\n",
       "0  2026 Swiss Badminton Championships  Q65942548   \n",
       "1  2026 Swiss Badminton Championships  Q65942549   \n",
       "2  2026 Swiss Badminton Championships  Q65942550   \n",
       "3  2026 Swiss Badminton Championships  Q65942551   \n",
       "4  2026 Swiss Badminton Championships  Q65942552   \n",
       "\n",
       "                            kg_labels kg_aliases           method  \\\n",
       "0  2020 Swiss Badminton Championships        NaN  fuzzy-augmented   \n",
       "1  2021 Swiss Badminton Championships        NaN  fuzzy-augmented   \n",
       "2  2022 Swiss Badminton Championships        NaN  fuzzy-augmented   \n",
       "3  2023 Swiss Badminton Championships        NaN  fuzzy-augmented   \n",
       "4  2024 Swiss Badminton Championships        NaN  fuzzy-augmented   \n",
       "\n",
       "           kg_descriptions  ...  num_char  num_tokens is_lof  \\\n",
       "0  badminton championships  ...        34           4     -1   \n",
       "1  badminton championships  ...        34           4     -1   \n",
       "2  badminton championships  ...        34           4     -1   \n",
       "3  badminton championships  ...        34           4     -1   \n",
       "4  badminton championships  ...        34           4     -1   \n",
       "\n",
       "  pgt_centroid_score  pgt_class_count_tf_idf_score  \\\n",
       "0           0.924308                           1.0   \n",
       "1           0.935248                           1.0   \n",
       "2           0.945687                           1.0   \n",
       "3           0.945512                           1.0   \n",
       "4           0.950563                           1.0   \n",
       "\n",
       "                                    top5_class_count  \\\n",
       "0  Q969090:0.195|Q3270632:0.123|Q13357858:0.115|Q...   \n",
       "1  Q969090:0.195|Q3270632:0.123|Q13357858:0.115|Q...   \n",
       "2  Q969090:0.195|Q3270632:0.123|Q13357858:0.115|Q...   \n",
       "3  Q969090:0.195|Q3270632:0.123|Q13357858:0.115|Q...   \n",
       "4  Q969090:0.195|Q3270632:0.123|Q13357858:0.115|Q...   \n",
       "\n",
       "   pgt_property_count_tf_idf_score  \\\n",
       "0                         0.829008   \n",
       "1                         0.829008   \n",
       "2                         0.829008   \n",
       "3                         0.829008   \n",
       "4                         0.829008   \n",
       "\n",
       "                                 top5_property_count      filename  column-id  \n",
       "0  P2094:0.138|P5008:0.134|P527:0.119|P585:0.111|...  4QZ9R9MG.csv        NaN  \n",
       "1  P2094:0.138|P5008:0.134|P527:0.119|P585:0.111|...  4QZ9R9MG.csv        NaN  \n",
       "2  P2094:0.138|P5008:0.134|P527:0.119|P585:0.111|...  4QZ9R9MG.csv        NaN  \n",
       "3  P2094:0.138|P5008:0.134|P527:0.119|P585:0.111|...  4QZ9R9MG.csv        NaN  \n",
       "4  P2094:0.138|P5008:0.134|P527:0.119|P585:0.111|...  4QZ9R9MG.csv        NaN  \n",
       "\n",
       "[5 rows x 59 columns]"
      ]
     },
     "execution_count": 8,
     "metadata": {},
     "output_type": "execute_result"
    }
   ],
   "source": [
    "df.head()"
   ]
  },
  {
   "cell_type": "code",
   "execution_count": 9,
   "id": "cb10de33",
   "metadata": {},
   "outputs": [
    {
     "data": {
      "text/plain": [
       "15702237"
      ]
     },
     "execution_count": 9,
     "metadata": {},
     "output_type": "execute_result"
    }
   ],
   "source": [
    "len(df.index)"
   ]
  },
  {
   "cell_type": "code",
   "execution_count": 3,
   "id": "35e2f0c2",
   "metadata": {},
   "outputs": [],
   "source": [
    "# All the features\n",
    "features = [\"monge_elkan\",\"monge_elkan_aliases\",\"jaro_winkler\",\n",
    "            \"levenshtein\",\"singleton\",\"context_score_3\",\"pgt_centroid_score\",\"pgt_class_count_tf_idf_score\",\n",
    "            \"pgt_property_count_tf_idf_score\", \"num_occurences\", \"incorrectness_scores\"]"
   ]
  },
  {
   "cell_type": "code",
   "execution_count": 4,
   "id": "dd9870f5",
   "metadata": {},
   "outputs": [],
   "source": [
    "# To make feature pairs, features are divided into two groups (one was already computed before so just reloading them)\n",
    "imp_features_1 = [\"monge_elkan\", \"context_score_3\", \"pgt_class_count_tf_idf_score\", \"pgt_property_count_tf_idf_score\", \"pgt_centroid_score\", \"levenshtein\"]"
   ]
  },
  {
   "cell_type": "code",
   "execution_count": 5,
   "id": "63edf0a2",
   "metadata": {},
   "outputs": [],
   "source": [
    "feature_pairs_1 = []\n",
    "for x in imp_features_1:\n",
    "    for y in imp_features_1:\n",
    "        if x!= y:\n",
    "            if [y, x] not in feature_pairs_1:\n",
    "                feature_pairs_1.append([x, y])\n",
    "# feature_pairs_1, len(feature_pairs_1)"
   ]
  },
  {
   "cell_type": "code",
   "execution_count": 7,
   "id": "f0d9733c",
   "metadata": {},
   "outputs": [],
   "source": [
    "# To make feature pairs, this is the final features_list\n",
    "imp_features = [\"monge_elkan\", \"context_score_3\", \"pgt_class_count_tf_idf_score\", \"pgt_property_count_tf_idf_score\", \"pgt_centroid_score\", \"levenshtein\", \"incorrectness_scores\", \"monge_elkan_aliases\"]"
   ]
  },
  {
   "cell_type": "code",
   "execution_count": 8,
   "id": "aeb496f5",
   "metadata": {},
   "outputs": [],
   "source": [
    "feature_pairs = []\n",
    "for x in imp_features:\n",
    "    for y in imp_features:\n",
    "        if x!= y:\n",
    "            if ([y, x] not in feature_pairs) and ([y, x] not in feature_pairs_1) and ([x, y] not in feature_pairs_1) :\n",
    "                feature_pairs_1.append([x, y])\n",
    "                feature_pairs.append([x, y])\n",
    "#feature_pairs_1, len(feature_pairs_1)"
   ]
  },
  {
   "cell_type": "code",
   "execution_count": 9,
   "id": "dd22a1fd",
   "metadata": {},
   "outputs": [
    {
     "data": {
      "text/plain": [
       "28"
      ]
     },
     "execution_count": 9,
     "metadata": {},
     "output_type": "execute_result"
    }
   ],
   "source": [
    "len(feature_pairs_1)"
   ]
  },
  {
   "cell_type": "code",
   "execution_count": 10,
   "id": "aeca3f3f",
   "metadata": {},
   "outputs": [],
   "source": [
    "feature_pairs = feature_pairs_1"
   ]
  },
  {
   "cell_type": "code",
   "execution_count": 12,
   "id": "59bbaabc",
   "metadata": {},
   "outputs": [],
   "source": [
    "#feature_pairs"
   ]
  },
  {
   "cell_type": "code",
   "execution_count": 18,
   "id": "3ed4b8f1",
   "metadata": {},
   "outputs": [],
   "source": [
    "dict_feature_pairs = {i:feature_pairs[i] for i in range(len(feature_pairs))}\n",
    "dict_feature_pairs"
   ]
  },
  {
   "cell_type": "code",
   "execution_count": 27,
   "id": "063efe67",
   "metadata": {},
   "outputs": [],
   "source": [
    "# Loading the previous stored result if any: otherwise initialize a 10 * 10 bin.\n",
    "dict_key_pairs = {}\n",
    "dict_key_pairs = json.load(open('dict_key_pairs.json', 'r'))\n",
    "for i in range(len(feature_pairs)):\n",
    "    if f\"pos_key_feature_pair_{i}\" not in dict_key_pairs:\n",
    "        \n",
    "        dict_key_pairs[f\"pos_key_feature_pair_{i}\"] = [[[] for k in range(10)] for j in range(10)]\n",
    "        dict_key_pairs[f\"neg_key_feature_pair_{i}\"] = [[[] for k in range(10)] for j in range(10)]"
   ]
  },
  {
   "cell_type": "code",
   "execution_count": 16,
   "id": "ff19c3eb",
   "metadata": {},
   "outputs": [
    {
     "data": {
      "text/plain": [
       "([['monge_elkan', 'context_score_3'],\n",
       "  ['monge_elkan', 'pgt_class_count_tf_idf_score'],\n",
       "  ['monge_elkan', 'pgt_property_count_tf_idf_score'],\n",
       "  ['monge_elkan', 'pgt_centroid_score'],\n",
       "  ['monge_elkan', 'levenshtein'],\n",
       "  ['context_score_3', 'pgt_class_count_tf_idf_score'],\n",
       "  ['context_score_3', 'pgt_property_count_tf_idf_score'],\n",
       "  ['context_score_3', 'pgt_centroid_score'],\n",
       "  ['context_score_3', 'levenshtein'],\n",
       "  ['pgt_class_count_tf_idf_score', 'pgt_property_count_tf_idf_score'],\n",
       "  ['pgt_class_count_tf_idf_score', 'pgt_centroid_score'],\n",
       "  ['pgt_class_count_tf_idf_score', 'levenshtein'],\n",
       "  ['pgt_property_count_tf_idf_score', 'pgt_centroid_score'],\n",
       "  ['pgt_property_count_tf_idf_score', 'levenshtein'],\n",
       "  ['pgt_centroid_score', 'levenshtein']],\n",
       " 28)"
      ]
     },
     "execution_count": 16,
     "metadata": {},
     "output_type": "execute_result"
    }
   ],
   "source": [
    "# Recording the feature pairs that we have already completed the computation for - skip if none\n",
    "already_done = []\n",
    "for x in imp_features_1:\n",
    "    for y in imp_features_1:\n",
    "        if x!= y:\n",
    "            if [y, x] not in already_done:\n",
    "                already_done.append([x, y])\n",
    "already_done, len(feature_pairs_1)"
   ]
  },
  {
   "cell_type": "code",
   "execution_count": 31,
   "id": "1fceef9c",
   "metadata": {},
   "outputs": [
    {
     "name": "stdout",
     "output_type": "stream",
     "text": [
      "Actual_number_of_cells 97464\n"
     ]
    }
   ],
   "source": [
    "grouped_obj = df.groupby(['row', 'column', 'filename'])\n",
    "print(\"Actual_number_of_cells\", len(grouped_obj))\n",
    "number_cells_processed = 0\n",
    "has_evaluation = 0"
   ]
  },
  {
   "cell_type": "code",
   "execution_count": 33,
   "id": "749fc6eb",
   "metadata": {},
   "outputs": [
    {
     "name": "stdout",
     "output_type": "stream",
     "text": [
      "Processed 10000 9893\n",
      "Processed 20000 19793\n",
      "Processed 30000 29691\n",
      "Processed 40000 39603\n",
      "Processed 50000 49505\n",
      "Processed 60000 59417\n",
      "Processed 70000 69332\n",
      "Processed 80000 79240\n",
      "Processed 90000 89154\n",
      "Number of cells with ground truth 96532\n"
     ]
    }
   ],
   "source": [
    "# Computing for each feature pair for positive cells\n",
    "for cell, group in grouped_obj:\n",
    "    number_cells_processed += 1\n",
    "    if number_cells_processed % 10000 == 0:\n",
    "        print(\"Processed\", number_cells_processed, has_evaluation)\n",
    "    correct_row = group[group['evaluation_label'] == 1].head(1)\n",
    "\n",
    "    for index, row in correct_row.iterrows():\n",
    "        has_evaluation = has_evaluation + 1\n",
    "        for [feat1, feat2] in feature_pairs:\n",
    "            if [feat1, feat2] in already_done:\n",
    "                continue\n",
    "            value_feat1 = row[feat1]\n",
    "            value_feat2 = row[feat2]\n",
    "            # Which bin should it go to\n",
    "            feat1_ind = min(int(round(value_feat1 * 10, 1)), 9)\n",
    "            feat2_ind = min(int(round(value_feat2 * 10, 1)), 9)\n",
    "            # print(feat1_ind, feat2_ind)\n",
    "            # print(current_feat_pair)\n",
    "            current_feat_pair = dict_key_pairs[f\"pos_key_feature_pair_{feature_pairs.index([feat1, feat2])}\"]\n",
    "            current_feat_pair[feat1_ind][feat2_ind].append([int(cell[0]), int(cell[1]), cell[2], row['kg_id'], row['evaluation_label'], row[features].values.tolist()])\n",
    "            \n",
    "        \n",
    "print(\"Number of cells with ground truth\", has_evaluation)"
   ]
  },
  {
   "cell_type": "code",
   "execution_count": 34,
   "id": "94096f5b",
   "metadata": {},
   "outputs": [],
   "source": [
    "# Save the intermediate result for feature use\n",
    "json.dump(dict_key_pairs, open('dict_key_pairs_new.json', 'w'))"
   ]
  },
  {
   "cell_type": "code",
   "execution_count": 22,
   "id": "2a2dd200",
   "metadata": {},
   "outputs": [],
   "source": [
    "# If needs a reloading\n",
    "dict_key_pairs = json.load(open('dict_key_pairs_new.json', 'r'))"
   ]
  },
  {
   "cell_type": "code",
   "execution_count": 24,
   "id": "c9f324e0",
   "metadata": {},
   "outputs": [
    {
     "name": "stdout",
     "output_type": "stream",
     "text": [
      "cell  (19, 1, '802I3JL9.csv') 0\n",
      "cell  (19, 2, '503YDO6M.csv') 0\n",
      "cell  (20, 0, 'HIEIRARQ.csv') 0\n",
      "cell  (22, 0, '0E034AA8.csv') 0\n",
      "cell  (24, 0, '5BXOZT0F.csv') 0\n",
      "cell  (24, 0, 'A1ECXLP4.csv') 0\n",
      "cell  (26, 0, 'UZNEM3MD.csv') 0\n",
      "cell  (31, 0, '9IN60Q67.csv') 23\n",
      "cell  (32, 0, 'A1ECXLP4.csv') 0\n",
      "cell  (35, 2, 'W9GJXKI5.csv') 0\n",
      "cell  (38, 2, 'G1X41WLY.csv') 0\n",
      "cell  (39, 2, 'G1X41WLY.csv') 0\n",
      "cell  (40, 0, 'W9GJXKI5.csv') 0\n",
      "cell  (42, 0, 'W1J5JZ99.csv') 0\n",
      "cell  (45, 1, 'EJSEOU8W.csv') 0\n"
     ]
    }
   ],
   "source": [
    "# Optional: Computing for each feature pair for negative cells - Takes > 12 hours\n",
    "# Skip this cell if analysis is not needed\n",
    "grouped_obj = df.groupby(['row', 'column', 'filename'])\n",
    "number_cells_processed = 0\n",
    "for cell, group in grouped_obj:\n",
    "    number_cells_processed += 1\n",
    "    if number_cells_processed <= 90000:\n",
    "        continue\n",
    "    if number_cells_processed % 30000 == 0:\n",
    "        print(\"Processed\", number_cells_processed)\n",
    "        json.dump(dict_key_pairs, open('dict_key_pairs_new_2.json', 'w'))\n",
    "    incorrect_rows = group[group['evaluation_label'] == -1].head(30)\n",
    "    if len(incorrect_rows.index) < 30:\n",
    "        print(\"cell \", cell, len(incorrect_rows.index))\n",
    "    for index, row in incorrect_rows.iterrows():\n",
    "        for [feat1, feat2] in feature_pairs:\n",
    "            if [feat1, feat2] in already_done:\n",
    "                continue\n",
    "            value_feat1 = row[feat1]\n",
    "            value_feat2 = row[feat2]\n",
    "            # Which bin should it go to\n",
    "            feat1_ind = min(int(round(value_feat1 * 10, 1)), 9)\n",
    "            feat2_ind = min(int(round(value_feat2 * 10, 1)), 9)\n",
    "            # print(feat1_ind, feat2_ind)\n",
    "            # print(current_feat_pair)\n",
    "            current_feat_pair = dict_key_pairs[f\"neg_key_feature_pair_{feature_pairs.index([feat1, feat2])}\"]\n",
    "            current_feat_pair[feat1_ind][feat2_ind].append([int(cell[0]), int(cell[1]), cell[2], row['kg_id'], row['evaluation_label'], row[features].values.tolist()])\n",
    "              "
   ]
  },
  {
   "cell_type": "code",
   "execution_count": 22,
   "id": "c52389a4",
   "metadata": {},
   "outputs": [],
   "source": [
    "# Pick a new positive pair from each bin.\n",
    "# For each positive pair, get the corresponding negative pairs from \n",
    "# - the particular bin -> 3\n",
    "# - the rest 7 from the higher values of the features. \n"
   ]
  },
  {
   "cell_type": "code",
   "execution_count": 43,
   "id": "36718c80",
   "metadata": {},
   "outputs": [],
   "source": [
    "positive_pairs = []\n",
    "negative_pairs = []\n",
    "number_of_negatives = []"
   ]
  },
  {
   "cell_type": "code",
   "execution_count": 21,
   "id": "8f08c8b8",
   "metadata": {},
   "outputs": [],
   "source": [
    "negative_pairs = []"
   ]
  },
  {
   "cell_type": "code",
   "execution_count": 22,
   "id": "168b6fb9",
   "metadata": {},
   "outputs": [],
   "source": [
    "n_positive_pair_each_bin = 3\n",
    "n_neg_pair_each_bin_same_bin = 3\n",
    "n_neg_pair_diff_bin_random = 7"
   ]
  },
  {
   "cell_type": "code",
   "execution_count": 23,
   "id": "cbdcc409",
   "metadata": {},
   "outputs": [],
   "source": [
    "import random"
   ]
  },
  {
   "cell_type": "code",
   "execution_count": 24,
   "id": "73af5b13",
   "metadata": {},
   "outputs": [
    {
     "name": "stdout",
     "output_type": "stream",
     "text": [
      "Bin Covering 0 0 0 89\n",
      "Bin Covering 0 0 1 0\n",
      "Bin Covering 0 0 2 0\n",
      "Bin Covering 0 0 3 0\n",
      "Bin Covering 0 0 4 69\n",
      "Bin Covering 0 0 5 166\n",
      "Bin Covering 0 0 6 0\n",
      "Bin Covering 0 0 7 132\n",
      "Bin Covering 0 0 8 39\n",
      "Bin Covering 0 0 9 7\n",
      "Bin Covering 0 1 0 0\n",
      "Bin Covering 0 1 1 0\n",
      "Bin Covering 0 1 2 0\n",
      "Bin Covering 0 1 3 0\n",
      "Bin Covering 0 1 4 0\n",
      "Bin Covering 0 1 5 0\n",
      "Bin Covering 0 1 6 0\n",
      "Bin Covering 0 1 7 0\n",
      "Bin Covering 0 1 8 0\n",
      "Bin Covering 0 1 9 0\n",
      "Bin Covering 0 2 0 0\n",
      "Bin Covering 0 2 1 0\n",
      "Bin Covering 0 2 2 0\n",
      "Bin Covering 0 2 3 0\n",
      "Bin Covering 0 2 4 0\n",
      "Bin Covering 0 2 5 0\n",
      "Bin Covering 0 2 6 0\n",
      "Bin Covering 0 2 7 0\n",
      "Bin Covering 0 2 8 0\n",
      "Bin Covering 0 2 9 0\n",
      "Bin Covering 0 3 0 0\n",
      "Bin Covering 0 3 1 0\n",
      "Bin Covering 0 3 2 0\n",
      "Bin Covering 0 3 3 0\n",
      "Bin Covering 0 3 4 0\n",
      "Bin Covering 0 3 5 0\n",
      "Bin Covering 0 3 6 0\n",
      "Bin Covering 0 3 7 0\n",
      "Bin Covering 0 3 8 0\n",
      "Bin Covering 0 3 9 0\n",
      "Bin Covering 0 4 0 0\n",
      "Bin Covering 0 4 1 0\n",
      "Bin Covering 0 4 2 0\n",
      "Bin Covering 0 4 3 0\n",
      "Bin Covering 0 4 4 0\n",
      "Bin Covering 0 4 5 0\n",
      "Bin Covering 0 4 6 0\n",
      "Bin Covering 0 4 7 0\n",
      "Bin Covering 0 4 8 0\n",
      "Bin Covering 0 4 9 0\n",
      "Bin Covering 0 5 0 12\n",
      "Bin Covering 0 5 1 0\n",
      "Bin Covering 0 5 2 0\n",
      "Bin Covering 0 5 3 0\n",
      "Bin Covering 0 5 4 2\n",
      "Bin Covering 0 5 5 37\n",
      "Bin Covering 0 5 6 0\n",
      "Bin Covering 0 5 7 11\n",
      "Bin Covering 0 5 8 1\n",
      "Bin Covering 0 5 9 0\n",
      "Bin Covering 0 6 0 12\n",
      "Bin Covering 0 6 1 0\n",
      "Bin Covering 0 6 2 0\n",
      "Bin Covering 0 6 3 0\n",
      "Bin Covering 0 6 4 2\n",
      "Bin Covering 0 6 5 17\n",
      "Bin Covering 0 6 6 0\n",
      "Bin Covering 0 6 7 15\n",
      "Bin Covering 0 6 8 3\n",
      "Bin Covering 0 6 9 1\n",
      "Bin Covering 0 7 0 69\n",
      "Bin Covering 0 7 1 0\n",
      "Bin Covering 0 7 2 0\n",
      "Bin Covering 0 7 3 0\n",
      "Bin Covering 0 7 4 7\n",
      "Bin Covering 0 7 5 255\n",
      "Bin Covering 0 7 6 0\n",
      "Bin Covering 0 7 7 116\n",
      "Bin Covering 0 7 8 21\n",
      "Bin Covering 0 7 9 3\n",
      "Bin Covering 0 8 0 197\n",
      "Bin Covering 0 8 1 0\n",
      "Bin Covering 0 8 2 0\n",
      "Bin Covering 0 8 3 0\n",
      "Bin Covering 0 8 4 5\n",
      "Bin Covering 0 8 5 471\n",
      "Bin Covering 0 8 6 0\n",
      "Bin Covering 0 8 7 366\n",
      "Bin Covering 0 8 8 59\n",
      "Bin Covering 0 8 9 21\n",
      "Bin Covering 0 9 0 6889\n",
      "Bin Covering 0 9 1 0\n",
      "Bin Covering 0 9 2 0\n",
      "Bin Covering 0 9 3 0\n",
      "Bin Covering 0 9 4 504\n",
      "Bin Covering 0 9 5 47387\n",
      "Bin Covering 0 9 6 0\n",
      "Bin Covering 0 9 7 29641\n",
      "Bin Covering 0 9 8 7748\n",
      "Bin Covering 0 9 9 2158\n",
      "Bin Covering 1 0 0 1\n",
      "Bin Covering 1 0 1 4\n",
      "Bin Covering 1 0 2 15\n",
      "Bin Covering 1 0 3 28\n",
      "Bin Covering 1 0 4 31\n",
      "Bin Covering 1 0 5 24\n",
      "Bin Covering 1 0 6 32\n",
      "Bin Covering 1 0 7 35\n",
      "Bin Covering 1 0 8 82\n",
      "Bin Covering 1 0 9 250\n",
      "Bin Covering 1 1 0 0\n",
      "Bin Covering 1 1 1 0\n",
      "Bin Covering 1 1 2 0\n",
      "Bin Covering 1 1 3 0\n",
      "Bin Covering 1 1 4 0\n",
      "Bin Covering 1 1 5 0\n",
      "Bin Covering 1 1 6 0\n",
      "Bin Covering 1 1 7 0\n",
      "Bin Covering 1 1 8 0\n",
      "Bin Covering 1 1 9 0\n",
      "Bin Covering 1 2 0 0\n",
      "Bin Covering 1 2 1 0\n",
      "Bin Covering 1 2 2 0\n",
      "Bin Covering 1 2 3 0\n",
      "Bin Covering 1 2 4 0\n",
      "Bin Covering 1 2 5 0\n",
      "Bin Covering 1 2 6 0\n",
      "Bin Covering 1 2 7 0\n",
      "Bin Covering 1 2 8 0\n",
      "Bin Covering 1 2 9 0\n",
      "Bin Covering 1 3 0 0\n",
      "Bin Covering 1 3 1 0\n",
      "Bin Covering 1 3 2 0\n",
      "Bin Covering 1 3 3 0\n",
      "Bin Covering 1 3 4 0\n",
      "Bin Covering 1 3 5 0\n",
      "Bin Covering 1 3 6 0\n",
      "Bin Covering 1 3 7 0\n",
      "Bin Covering 1 3 8 0\n",
      "Bin Covering 1 3 9 0\n",
      "Bin Covering 1 4 0 0\n",
      "Bin Covering 1 4 1 0\n",
      "Bin Covering 1 4 2 0\n",
      "Bin Covering 1 4 3 0\n",
      "Bin Covering 1 4 4 0\n",
      "Bin Covering 1 4 5 0\n",
      "Bin Covering 1 4 6 0\n",
      "Bin Covering 1 4 7 0\n",
      "Bin Covering 1 4 8 0\n",
      "Bin Covering 1 4 9 0\n",
      "Bin Covering 1 5 0 3\n",
      "Bin Covering 1 5 1 4\n",
      "Bin Covering 1 5 2 4\n",
      "Bin Covering 1 5 3 14\n",
      "Bin Covering 1 5 4 4\n",
      "Bin Covering 1 5 5 3\n",
      "Bin Covering 1 5 6 1\n",
      "Bin Covering 1 5 7 5\n",
      "Bin Covering 1 5 8 3\n",
      "Bin Covering 1 5 9 22\n",
      "Bin Covering 1 6 0 4\n",
      "Bin Covering 1 6 1 1\n",
      "Bin Covering 1 6 2 1\n",
      "Bin Covering 1 6 3 1\n",
      "Bin Covering 1 6 4 1\n",
      "Bin Covering 1 6 5 10\n",
      "Bin Covering 1 6 6 4\n",
      "Bin Covering 1 6 7 2\n",
      "Bin Covering 1 6 8 3\n",
      "Bin Covering 1 6 9 23\n",
      "Bin Covering 1 7 0 12\n",
      "Bin Covering 1 7 1 8\n",
      "Bin Covering 1 7 2 8\n",
      "Bin Covering 1 7 3 26\n",
      "Bin Covering 1 7 4 9\n",
      "Bin Covering 1 7 5 31\n",
      "Bin Covering 1 7 6 35\n",
      "Bin Covering 1 7 7 52\n",
      "Bin Covering 1 7 8 22\n",
      "Bin Covering 1 7 9 268\n",
      "Bin Covering 1 8 0 16\n",
      "Bin Covering 1 8 1 25\n",
      "Bin Covering 1 8 2 18\n",
      "Bin Covering 1 8 3 66\n",
      "Bin Covering 1 8 4 34\n",
      "Bin Covering 1 8 5 49\n",
      "Bin Covering 1 8 6 78\n",
      "Bin Covering 1 8 7 66\n",
      "Bin Covering 1 8 8 112\n",
      "Bin Covering 1 8 9 655\n",
      "Bin Covering 1 9 0 1554\n",
      "Bin Covering 1 9 1 1869\n",
      "Bin Covering 1 9 2 2453\n",
      "Bin Covering 1 9 3 3322\n",
      "Bin Covering 1 9 4 3858\n",
      "Bin Covering 1 9 5 4931\n",
      "Bin Covering 1 9 6 5765\n",
      "Bin Covering 1 9 7 7562\n",
      "Bin Covering 1 9 8 10246\n",
      "Bin Covering 1 9 9 52767\n",
      "Bin Covering 2 0 0 1\n",
      "Bin Covering 2 0 1 17\n",
      "Bin Covering 2 0 2 38\n",
      "Bin Covering 2 0 3 66\n",
      "Bin Covering 2 0 4 34\n",
      "Bin Covering 2 0 5 41\n",
      "Bin Covering 2 0 6 58\n",
      "Bin Covering 2 0 7 55\n",
      "Bin Covering 2 0 8 61\n",
      "Bin Covering 2 0 9 131\n",
      "Bin Covering 2 1 0 0\n",
      "Bin Covering 2 1 1 0\n",
      "Bin Covering 2 1 2 0\n",
      "Bin Covering 2 1 3 0\n",
      "Bin Covering 2 1 4 0\n",
      "Bin Covering 2 1 5 0\n",
      "Bin Covering 2 1 6 0\n",
      "Bin Covering 2 1 7 0\n",
      "Bin Covering 2 1 8 0\n",
      "Bin Covering 2 1 9 0\n",
      "Bin Covering 2 2 0 0\n",
      "Bin Covering 2 2 1 0\n",
      "Bin Covering 2 2 2 0\n",
      "Bin Covering 2 2 3 0\n",
      "Bin Covering 2 2 4 0\n",
      "Bin Covering 2 2 5 0\n",
      "Bin Covering 2 2 6 0\n",
      "Bin Covering 2 2 7 0\n",
      "Bin Covering 2 2 8 0\n",
      "Bin Covering 2 2 9 0\n",
      "Bin Covering 2 3 0 0\n",
      "Bin Covering 2 3 1 0\n",
      "Bin Covering 2 3 2 0\n",
      "Bin Covering 2 3 3 0\n",
      "Bin Covering 2 3 4 0\n",
      "Bin Covering 2 3 5 0\n",
      "Bin Covering 2 3 6 0\n",
      "Bin Covering 2 3 7 0\n",
      "Bin Covering 2 3 8 0\n",
      "Bin Covering 2 3 9 0\n",
      "Bin Covering 2 4 0 0\n",
      "Bin Covering 2 4 1 0\n",
      "Bin Covering 2 4 2 0\n",
      "Bin Covering 2 4 3 0\n",
      "Bin Covering 2 4 4 0\n",
      "Bin Covering 2 4 5 0\n",
      "Bin Covering 2 4 6 0\n",
      "Bin Covering 2 4 7 0\n",
      "Bin Covering 2 4 8 0\n",
      "Bin Covering 2 4 9 0\n",
      "Bin Covering 2 5 0 1\n",
      "Bin Covering 2 5 1 3\n",
      "Bin Covering 2 5 2 1\n",
      "Bin Covering 2 5 3 5\n",
      "Bin Covering 2 5 4 1\n",
      "Bin Covering 2 5 5 8\n",
      "Bin Covering 2 5 6 6\n",
      "Bin Covering 2 5 7 8\n",
      "Bin Covering 2 5 8 24\n",
      "Bin Covering 2 5 9 6\n",
      "Bin Covering 2 6 0 0\n",
      "Bin Covering 2 6 1 1\n",
      "Bin Covering 2 6 2 1\n",
      "Bin Covering 2 6 3 5\n",
      "Bin Covering 2 6 4 11\n",
      "Bin Covering 2 6 5 7\n",
      "Bin Covering 2 6 6 4\n",
      "Bin Covering 2 6 7 8\n",
      "Bin Covering 2 6 8 7\n",
      "Bin Covering 2 6 9 6\n",
      "Bin Covering 2 7 0 6\n",
      "Bin Covering 2 7 1 8\n",
      "Bin Covering 2 7 2 29\n",
      "Bin Covering 2 7 3 25\n",
      "Bin Covering 2 7 4 40\n",
      "Bin Covering 2 7 5 37\n",
      "Bin Covering 2 7 6 69\n",
      "Bin Covering 2 7 7 57\n",
      "Bin Covering 2 7 8 45\n",
      "Bin Covering 2 7 9 155\n",
      "Bin Covering 2 8 0 23\n",
      "Bin Covering 2 8 1 24\n",
      "Bin Covering 2 8 2 47\n",
      "Bin Covering 2 8 3 59\n",
      "Bin Covering 2 8 4 74\n",
      "Bin Covering 2 8 5 110\n",
      "Bin Covering 2 8 6 163\n",
      "Bin Covering 2 8 7 146\n",
      "Bin Covering 2 8 8 188\n",
      "Bin Covering 2 8 9 285\n",
      "Bin Covering 2 9 0 1608\n",
      "Bin Covering 2 9 1 3194\n",
      "Bin Covering 2 9 2 4375\n",
      "Bin Covering 2 9 3 5622\n",
      "Bin Covering 2 9 4 6791\n",
      "Bin Covering 2 9 5 8132\n",
      "Bin Covering 2 9 6 9838\n",
      "Bin Covering 2 9 7 12831\n",
      "Bin Covering 2 9 8 16981\n",
      "Bin Covering 2 9 9 24955\n",
      "Bin Covering 3 0 0 0\n",
      "Bin Covering 3 0 1 0\n",
      "Bin Covering 3 0 2 0\n",
      "Bin Covering 3 0 3 0\n",
      "Bin Covering 3 0 4 6\n",
      "Bin Covering 3 0 5 12\n",
      "Bin Covering 3 0 6 61\n",
      "Bin Covering 3 0 7 176\n",
      "Bin Covering 3 0 8 188\n",
      "Bin Covering 3 0 9 59\n",
      "Bin Covering 3 1 0 0\n",
      "Bin Covering 3 1 1 0\n",
      "Bin Covering 3 1 2 0\n",
      "Bin Covering 3 1 3 0\n",
      "Bin Covering 3 1 4 0\n",
      "Bin Covering 3 1 5 0\n",
      "Bin Covering 3 1 6 0\n",
      "Bin Covering 3 1 7 0\n",
      "Bin Covering 3 1 8 0\n",
      "Bin Covering 3 1 9 0\n",
      "Bin Covering 3 2 0 0\n",
      "Bin Covering 3 2 1 0\n",
      "Bin Covering 3 2 2 0\n",
      "Bin Covering 3 2 3 0\n",
      "Bin Covering 3 2 4 0\n",
      "Bin Covering 3 2 5 0\n",
      "Bin Covering 3 2 6 0\n",
      "Bin Covering 3 2 7 0\n",
      "Bin Covering 3 2 8 0\n",
      "Bin Covering 3 2 9 0\n",
      "Bin Covering 3 3 0 0\n",
      "Bin Covering 3 3 1 0\n",
      "Bin Covering 3 3 2 0\n",
      "Bin Covering 3 3 3 0\n",
      "Bin Covering 3 3 4 0\n",
      "Bin Covering 3 3 5 0\n",
      "Bin Covering 3 3 6 0\n",
      "Bin Covering 3 3 7 0\n",
      "Bin Covering 3 3 8 0\n",
      "Bin Covering 3 3 9 0\n",
      "Bin Covering 3 4 0 0\n",
      "Bin Covering 3 4 1 0\n",
      "Bin Covering 3 4 2 0\n",
      "Bin Covering 3 4 3 0\n",
      "Bin Covering 3 4 4 0\n",
      "Bin Covering 3 4 5 0\n",
      "Bin Covering 3 4 6 0\n",
      "Bin Covering 3 4 7 0\n",
      "Bin Covering 3 4 8 0\n",
      "Bin Covering 3 4 9 0\n",
      "Bin Covering 3 5 0 1\n",
      "Bin Covering 3 5 1 0\n",
      "Bin Covering 3 5 2 0\n",
      "Bin Covering 3 5 3 0\n",
      "Bin Covering 3 5 4 0\n",
      "Bin Covering 3 5 5 8\n",
      "Bin Covering 3 5 6 14\n",
      "Bin Covering 3 5 7 16\n",
      "Bin Covering 3 5 8 22\n",
      "Bin Covering 3 5 9 2\n",
      "Bin Covering 3 6 0 0\n",
      "Bin Covering 3 6 1 0\n",
      "Bin Covering 3 6 2 0\n",
      "Bin Covering 3 6 3 0\n",
      "Bin Covering 3 6 4 0\n",
      "Bin Covering 3 6 5 2\n",
      "Bin Covering 3 6 6 7\n",
      "Bin Covering 3 6 7 18\n",
      "Bin Covering 3 6 8 18\n",
      "Bin Covering 3 6 9 5\n",
      "Bin Covering 3 7 0 4\n",
      "Bin Covering 3 7 1 0\n",
      "Bin Covering 3 7 2 1\n",
      "Bin Covering 3 7 3 1\n",
      "Bin Covering 3 7 4 9\n",
      "Bin Covering 3 7 5 12\n",
      "Bin Covering 3 7 6 76\n",
      "Bin Covering 3 7 7 108\n",
      "Bin Covering 3 7 8 125\n",
      "Bin Covering 3 7 9 135\n",
      "Bin Covering 3 8 0 7\n",
      "Bin Covering 3 8 1 0\n",
      "Bin Covering 3 8 2 0\n",
      "Bin Covering 3 8 3 1\n",
      "Bin Covering 3 8 4 9\n",
      "Bin Covering 3 8 5 31\n",
      "Bin Covering 3 8 6 103\n",
      "Bin Covering 3 8 7 313\n",
      "Bin Covering 3 8 8 450\n",
      "Bin Covering 3 8 9 205\n",
      "Bin Covering 3 9 0 128\n",
      "Bin Covering 3 9 1 108\n",
      "Bin Covering 3 9 2 349\n",
      "Bin Covering 3 9 3 667\n",
      "Bin Covering 3 9 4 2205\n",
      "Bin Covering 3 9 5 5181\n",
      "Bin Covering 3 9 6 10151\n",
      "Bin Covering 3 9 7 19859\n",
      "Bin Covering 3 9 8 28060\n",
      "Bin Covering 3 9 9 27619\n",
      "Bin Covering 4 0 0 454\n",
      "Bin Covering 4 0 1 0\n",
      "Bin Covering 4 0 2 0\n",
      "Bin Covering 4 0 3 0\n",
      "Bin Covering 4 0 4 0\n",
      "Bin Covering 4 0 5 4\n",
      "Bin Covering 4 0 6 3\n",
      "Bin Covering 4 0 7 3\n",
      "Bin Covering 4 0 8 25\n",
      "Bin Covering 4 0 9 13\n",
      "Bin Covering 4 1 0 0\n",
      "Bin Covering 4 1 1 0\n",
      "Bin Covering 4 1 2 0\n",
      "Bin Covering 4 1 3 0\n",
      "Bin Covering 4 1 4 0\n",
      "Bin Covering 4 1 5 0\n",
      "Bin Covering 4 1 6 0\n",
      "Bin Covering 4 1 7 0\n",
      "Bin Covering 4 1 8 0\n",
      "Bin Covering 4 1 9 0\n",
      "Bin Covering 4 2 0 0\n",
      "Bin Covering 4 2 1 0\n",
      "Bin Covering 4 2 2 0\n",
      "Bin Covering 4 2 3 0\n",
      "Bin Covering 4 2 4 0\n",
      "Bin Covering 4 2 5 0\n",
      "Bin Covering 4 2 6 0\n",
      "Bin Covering 4 2 7 0\n",
      "Bin Covering 4 2 8 0\n",
      "Bin Covering 4 2 9 0\n",
      "Bin Covering 4 3 0 0\n",
      "Bin Covering 4 3 1 0\n",
      "Bin Covering 4 3 2 0\n",
      "Bin Covering 4 3 3 0\n",
      "Bin Covering 4 3 4 0\n",
      "Bin Covering 4 3 5 0\n",
      "Bin Covering 4 3 6 0\n",
      "Bin Covering 4 3 7 0\n",
      "Bin Covering 4 3 8 0\n",
      "Bin Covering 4 3 9 0\n",
      "Bin Covering 4 4 0 0\n",
      "Bin Covering 4 4 1 0\n",
      "Bin Covering 4 4 2 0\n",
      "Bin Covering 4 4 3 0\n",
      "Bin Covering 4 4 4 0\n",
      "Bin Covering 4 4 5 0\n",
      "Bin Covering 4 4 6 0\n",
      "Bin Covering 4 4 7 0\n",
      "Bin Covering 4 4 8 0\n",
      "Bin Covering 4 4 9 0\n",
      "Bin Covering 4 5 0 46\n",
      "Bin Covering 4 5 1 0\n",
      "Bin Covering 4 5 2 0\n",
      "Bin Covering 4 5 3 0\n",
      "Bin Covering 4 5 4 0\n",
      "Bin Covering 4 5 5 0\n",
      "Bin Covering 4 5 6 0\n",
      "Bin Covering 4 5 7 0\n",
      "Bin Covering 4 5 8 15\n",
      "Bin Covering 4 5 9 2\n",
      "Bin Covering 4 6 0 22\n",
      "Bin Covering 4 6 1 0\n",
      "Bin Covering 4 6 2 0\n",
      "Bin Covering 4 6 3 0\n",
      "Bin Covering 4 6 4 0\n",
      "Bin Covering 4 6 5 7\n",
      "Bin Covering 4 6 6 3\n",
      "Bin Covering 4 6 7 4\n",
      "Bin Covering 4 6 8 6\n",
      "Bin Covering 4 6 9 8\n",
      "Bin Covering 4 7 0 254\n",
      "Bin Covering 4 7 1 0\n",
      "Bin Covering 4 7 2 0\n",
      "Bin Covering 4 7 3 0\n",
      "Bin Covering 4 7 4 0\n",
      "Bin Covering 4 7 5 36\n",
      "Bin Covering 4 7 6 34\n",
      "Bin Covering 4 7 7 33\n",
      "Bin Covering 4 7 8 68\n",
      "Bin Covering 4 7 9 46\n",
      "Bin Covering 4 8 0 188\n",
      "Bin Covering 4 8 1 0\n",
      "Bin Covering 4 8 2 0\n",
      "Bin Covering 4 8 3 0\n",
      "Bin Covering 4 8 4 0\n",
      "Bin Covering 4 8 5 74\n",
      "Bin Covering 4 8 6 57\n",
      "Bin Covering 4 8 7 96\n",
      "Bin Covering 4 8 8 309\n",
      "Bin Covering 4 8 9 395\n",
      "Bin Covering 4 9 0 53\n",
      "Bin Covering 4 9 1 0\n",
      "Bin Covering 4 9 2 0\n",
      "Bin Covering 4 9 3 0\n",
      "Bin Covering 4 9 4 0\n",
      "Bin Covering 4 9 5 62\n",
      "Bin Covering 4 9 6 85\n",
      "Bin Covering 4 9 7 174\n",
      "Bin Covering 4 9 8 1827\n",
      "Bin Covering 4 9 9 92126\n",
      "Bin Covering 5 0 0 350\n",
      "Bin Covering 5 0 1 226\n",
      "Bin Covering 5 0 2 296\n",
      "Bin Covering 5 0 3 283\n",
      "Bin Covering 5 0 4 240\n",
      "Bin Covering 5 0 5 326\n",
      "Bin Covering 5 0 6 348\n",
      "Bin Covering 5 0 7 481\n",
      "Bin Covering 5 0 8 708\n",
      "Bin Covering 5 0 9 4010\n",
      "Bin Covering 5 1 0 0\n",
      "Bin Covering 5 1 1 0\n",
      "Bin Covering 5 1 2 0\n",
      "Bin Covering 5 1 3 0\n",
      "Bin Covering 5 1 4 0\n",
      "Bin Covering 5 1 5 0\n",
      "Bin Covering 5 1 6 0\n",
      "Bin Covering 5 1 7 0\n",
      "Bin Covering 5 1 8 0\n",
      "Bin Covering 5 1 9 0\n",
      "Bin Covering 5 2 0 0\n",
      "Bin Covering 5 2 1 0\n",
      "Bin Covering 5 2 2 0\n",
      "Bin Covering 5 2 3 0\n",
      "Bin Covering 5 2 4 0\n",
      "Bin Covering 5 2 5 0\n",
      "Bin Covering 5 2 6 0\n",
      "Bin Covering 5 2 7 0\n",
      "Bin Covering 5 2 8 0\n",
      "Bin Covering 5 2 9 0\n",
      "Bin Covering 5 3 0 0\n",
      "Bin Covering 5 3 1 0\n",
      "Bin Covering 5 3 2 0\n",
      "Bin Covering 5 3 3 0\n",
      "Bin Covering 5 3 4 0\n",
      "Bin Covering 5 3 5 0\n",
      "Bin Covering 5 3 6 0\n",
      "Bin Covering 5 3 7 0\n",
      "Bin Covering 5 3 8 0\n",
      "Bin Covering 5 3 9 0\n",
      "Bin Covering 5 4 0 9\n",
      "Bin Covering 5 4 1 21\n",
      "Bin Covering 5 4 2 26\n",
      "Bin Covering 5 4 3 26\n",
      "Bin Covering 5 4 4 28\n",
      "Bin Covering 5 4 5 41\n",
      "Bin Covering 5 4 6 31\n",
      "Bin Covering 5 4 7 42\n",
      "Bin Covering 5 4 8 73\n",
      "Bin Covering 5 4 9 292\n",
      "Bin Covering 5 5 0 1149\n",
      "Bin Covering 5 5 1 1300\n",
      "Bin Covering 5 5 2 1750\n",
      "Bin Covering 5 5 3 2185\n",
      "Bin Covering 5 5 4 2464\n",
      "Bin Covering 5 5 5 3218\n",
      "Bin Covering 5 5 6 3639\n",
      "Bin Covering 5 5 7 4572\n",
      "Bin Covering 5 5 8 5375\n",
      "Bin Covering 5 5 9 22681\n",
      "Bin Covering 5 6 0 0\n",
      "Bin Covering 5 6 1 0\n",
      "Bin Covering 5 6 2 0\n",
      "Bin Covering 5 6 3 0\n",
      "Bin Covering 5 6 4 0\n",
      "Bin Covering 5 6 5 0\n",
      "Bin Covering 5 6 6 0\n",
      "Bin Covering 5 6 7 0\n",
      "Bin Covering 5 6 8 0\n",
      "Bin Covering 5 6 9 0\n",
      "Bin Covering 5 7 0 61\n",
      "Bin Covering 5 7 1 326\n",
      "Bin Covering 5 7 2 367\n",
      "Bin Covering 5 7 3 854\n",
      "Bin Covering 5 7 4 1061\n",
      "Bin Covering 5 7 5 1270\n",
      "Bin Covering 5 7 6 1568\n",
      "Bin Covering 5 7 7 2175\n",
      "Bin Covering 5 7 8 3445\n",
      "Bin Covering 5 7 9 19154\n",
      "Bin Covering 5 8 0 21\n",
      "Bin Covering 5 8 1 38\n",
      "Bin Covering 5 8 2 59\n",
      "Bin Covering 5 8 3 108\n",
      "Bin Covering 5 8 4 127\n",
      "Bin Covering 5 8 5 170\n",
      "Bin Covering 5 8 6 262\n",
      "Bin Covering 5 8 7 380\n",
      "Bin Covering 5 8 8 703\n",
      "Bin Covering 5 8 9 6003\n",
      "Bin Covering 5 9 0 0\n",
      "Bin Covering 5 9 1 0\n",
      "Bin Covering 5 9 2 1\n",
      "Bin Covering 5 9 3 1\n",
      "Bin Covering 5 9 4 17\n",
      "Bin Covering 5 9 5 23\n",
      "Bin Covering 5 9 6 67\n",
      "Bin Covering 5 9 7 72\n",
      "Bin Covering 5 9 8 164\n",
      "Bin Covering 5 9 9 1845\n",
      "Bin Covering 6 0 0 315\n",
      "Bin Covering 6 0 1 327\n",
      "Bin Covering 6 0 2 386\n",
      "Bin Covering 6 0 3 393\n",
      "Bin Covering 6 0 4 444\n",
      "Bin Covering 6 0 5 582\n",
      "Bin Covering 6 0 6 669\n",
      "Bin Covering 6 0 7 868\n",
      "Bin Covering 6 0 8 1018\n",
      "Bin Covering 6 0 9 2266\n",
      "Bin Covering 6 1 0 0\n",
      "Bin Covering 6 1 1 0\n",
      "Bin Covering 6 1 2 0\n",
      "Bin Covering 6 1 3 0\n",
      "Bin Covering 6 1 4 0\n",
      "Bin Covering 6 1 5 0\n",
      "Bin Covering 6 1 6 0\n",
      "Bin Covering 6 1 7 0\n",
      "Bin Covering 6 1 8 0\n",
      "Bin Covering 6 1 9 0\n",
      "Bin Covering 6 2 0 0\n",
      "Bin Covering 6 2 1 0\n",
      "Bin Covering 6 2 2 0\n",
      "Bin Covering 6 2 3 0\n",
      "Bin Covering 6 2 4 0\n",
      "Bin Covering 6 2 5 0\n",
      "Bin Covering 6 2 6 0\n",
      "Bin Covering 6 2 7 0\n",
      "Bin Covering 6 2 8 0\n",
      "Bin Covering 6 2 9 0\n",
      "Bin Covering 6 3 0 0\n",
      "Bin Covering 6 3 1 0\n",
      "Bin Covering 6 3 2 0\n",
      "Bin Covering 6 3 3 0\n",
      "Bin Covering 6 3 4 0\n",
      "Bin Covering 6 3 5 0\n",
      "Bin Covering 6 3 6 0\n",
      "Bin Covering 6 3 7 0\n",
      "Bin Covering 6 3 8 0\n",
      "Bin Covering 6 3 9 0\n",
      "Bin Covering 6 4 0 34\n",
      "Bin Covering 6 4 1 40\n",
      "Bin Covering 6 4 2 51\n",
      "Bin Covering 6 4 3 46\n",
      "Bin Covering 6 4 4 51\n",
      "Bin Covering 6 4 5 39\n",
      "Bin Covering 6 4 6 72\n",
      "Bin Covering 6 4 7 58\n",
      "Bin Covering 6 4 8 37\n",
      "Bin Covering 6 4 9 161\n",
      "Bin Covering 6 5 0 1192\n",
      "Bin Covering 6 5 1 2264\n",
      "Bin Covering 6 5 2 2773\n",
      "Bin Covering 6 5 3 3240\n",
      "Bin Covering 6 5 4 3797\n",
      "Bin Covering 6 5 5 4228\n",
      "Bin Covering 6 5 6 5039\n",
      "Bin Covering 6 5 7 6250\n",
      "Bin Covering 6 5 8 8057\n",
      "Bin Covering 6 5 9 11493\n",
      "Bin Covering 6 6 0 0\n",
      "Bin Covering 6 6 1 0\n",
      "Bin Covering 6 6 2 0\n",
      "Bin Covering 6 6 3 0\n",
      "Bin Covering 6 6 4 0\n",
      "Bin Covering 6 6 5 0\n",
      "Bin Covering 6 6 6 0\n",
      "Bin Covering 6 6 7 0\n",
      "Bin Covering 6 6 8 0\n",
      "Bin Covering 6 6 9 0\n",
      "Bin Covering 6 7 0 94\n",
      "Bin Covering 6 7 1 550\n",
      "Bin Covering 6 7 2 1142\n",
      "Bin Covering 6 7 3 1837\n",
      "Bin Covering 6 7 4 2236\n",
      "Bin Covering 6 7 5 2800\n",
      "Bin Covering 6 7 6 3388\n",
      "Bin Covering 6 7 7 4496\n",
      "Bin Covering 6 7 8 6173\n",
      "Bin Covering 6 7 9 7565\n",
      "Bin Covering 6 8 0 4\n",
      "Bin Covering 6 8 1 62\n",
      "Bin Covering 6 8 2 137\n",
      "Bin Covering 6 8 3 248\n",
      "Bin Covering 6 8 4 390\n",
      "Bin Covering 6 8 5 621\n",
      "Bin Covering 6 8 6 842\n",
      "Bin Covering 6 8 7 1184\n",
      "Bin Covering 6 8 8 1565\n",
      "Bin Covering 6 8 9 2818\n",
      "Bin Covering 6 9 0 0\n",
      "Bin Covering 6 9 1 4\n",
      "Bin Covering 6 9 2 2\n",
      "Bin Covering 6 9 3 18\n",
      "Bin Covering 6 9 4 33\n",
      "Bin Covering 6 9 5 65\n",
      "Bin Covering 6 9 6 128\n",
      "Bin Covering 6 9 7 249\n",
      "Bin Covering 6 9 8 456\n",
      "Bin Covering 6 9 9 1235\n",
      "Bin Covering 7 0 0 52\n",
      "Bin Covering 7 0 1 12\n",
      "Bin Covering 7 0 2 68\n",
      "Bin Covering 7 0 3 71\n",
      "Bin Covering 7 0 4 269\n",
      "Bin Covering 7 0 5 525\n",
      "Bin Covering 7 0 6 959\n",
      "Bin Covering 7 0 7 1660\n",
      "Bin Covering 7 0 8 2003\n",
      "Bin Covering 7 0 9 1649\n",
      "Bin Covering 7 1 0 0\n",
      "Bin Covering 7 1 1 0\n",
      "Bin Covering 7 1 2 0\n",
      "Bin Covering 7 1 3 0\n",
      "Bin Covering 7 1 4 0\n",
      "Bin Covering 7 1 5 0\n",
      "Bin Covering 7 1 6 0\n",
      "Bin Covering 7 1 7 0\n",
      "Bin Covering 7 1 8 0\n",
      "Bin Covering 7 1 9 0\n",
      "Bin Covering 7 2 0 0\n",
      "Bin Covering 7 2 1 0\n",
      "Bin Covering 7 2 2 0\n",
      "Bin Covering 7 2 3 0\n",
      "Bin Covering 7 2 4 0\n",
      "Bin Covering 7 2 5 0\n",
      "Bin Covering 7 2 6 0\n",
      "Bin Covering 7 2 7 0\n",
      "Bin Covering 7 2 8 0\n",
      "Bin Covering 7 2 9 0\n",
      "Bin Covering 7 3 0 0\n",
      "Bin Covering 7 3 1 0\n",
      "Bin Covering 7 3 2 0\n",
      "Bin Covering 7 3 3 0\n",
      "Bin Covering 7 3 4 0\n",
      "Bin Covering 7 3 5 0\n",
      "Bin Covering 7 3 6 0\n",
      "Bin Covering 7 3 7 0\n",
      "Bin Covering 7 3 8 0\n",
      "Bin Covering 7 3 9 0\n",
      "Bin Covering 7 4 0 3\n",
      "Bin Covering 7 4 1 0\n",
      "Bin Covering 7 4 2 1\n",
      "Bin Covering 7 4 3 7\n",
      "Bin Covering 7 4 4 19\n",
      "Bin Covering 7 4 5 14\n",
      "Bin Covering 7 4 6 96\n",
      "Bin Covering 7 4 7 174\n",
      "Bin Covering 7 4 8 138\n",
      "Bin Covering 7 4 9 137\n",
      "Bin Covering 7 5 0 80\n",
      "Bin Covering 7 5 1 85\n",
      "Bin Covering 7 5 2 233\n",
      "Bin Covering 7 5 3 495\n",
      "Bin Covering 7 5 4 1433\n",
      "Bin Covering 7 5 5 3338\n",
      "Bin Covering 7 5 6 6053\n",
      "Bin Covering 7 5 7 10045\n",
      "Bin Covering 7 5 8 13133\n",
      "Bin Covering 7 5 9 13438\n",
      "Bin Covering 7 6 0 0\n",
      "Bin Covering 7 6 1 0\n",
      "Bin Covering 7 6 2 0\n",
      "Bin Covering 7 6 3 0\n",
      "Bin Covering 7 6 4 0\n",
      "Bin Covering 7 6 5 0\n",
      "Bin Covering 7 6 6 0\n",
      "Bin Covering 7 6 7 0\n",
      "Bin Covering 7 6 8 0\n",
      "Bin Covering 7 6 9 0\n",
      "Bin Covering 7 7 0 4\n",
      "Bin Covering 7 7 1 11\n",
      "Bin Covering 7 7 2 45\n",
      "Bin Covering 7 7 3 93\n",
      "Bin Covering 7 7 4 458\n",
      "Bin Covering 7 7 5 1222\n",
      "Bin Covering 7 7 6 2749\n",
      "Bin Covering 7 7 7 6509\n",
      "Bin Covering 7 7 8 10085\n",
      "Bin Covering 7 7 9 9105\n",
      "Bin Covering 7 8 0 0\n",
      "Bin Covering 7 8 1 0\n",
      "Bin Covering 7 8 2 3\n",
      "Bin Covering 7 8 3 3\n",
      "Bin Covering 7 8 4 41\n",
      "Bin Covering 7 8 5 131\n",
      "Bin Covering 7 8 6 498\n",
      "Bin Covering 7 8 7 1757\n",
      "Bin Covering 7 8 8 2786\n",
      "Bin Covering 7 8 9 2652\n",
      "Bin Covering 7 9 0 1\n",
      "Bin Covering 7 9 1 0\n",
      "Bin Covering 7 9 2 0\n",
      "Bin Covering 7 9 3 0\n",
      "Bin Covering 7 9 4 9\n",
      "Bin Covering 7 9 5 16\n",
      "Bin Covering 7 9 6 57\n",
      "Bin Covering 7 9 7 345\n",
      "Bin Covering 7 9 8 718\n",
      "Bin Covering 7 9 9 1044\n",
      "Bin Covering 8 0 0 171\n",
      "Bin Covering 8 0 1 0\n",
      "Bin Covering 8 0 2 0\n",
      "Bin Covering 8 0 3 0\n",
      "Bin Covering 8 0 4 0\n",
      "Bin Covering 8 0 5 32\n",
      "Bin Covering 8 0 6 21\n",
      "Bin Covering 8 0 7 68\n",
      "Bin Covering 8 0 8 462\n",
      "Bin Covering 8 0 9 6514\n",
      "Bin Covering 8 1 0 0\n",
      "Bin Covering 8 1 1 0\n",
      "Bin Covering 8 1 2 0\n",
      "Bin Covering 8 1 3 0\n",
      "Bin Covering 8 1 4 0\n",
      "Bin Covering 8 1 5 0\n",
      "Bin Covering 8 1 6 0\n",
      "Bin Covering 8 1 7 0\n",
      "Bin Covering 8 1 8 0\n",
      "Bin Covering 8 1 9 0\n",
      "Bin Covering 8 2 0 0\n",
      "Bin Covering 8 2 1 0\n",
      "Bin Covering 8 2 2 0\n",
      "Bin Covering 8 2 3 0\n",
      "Bin Covering 8 2 4 0\n",
      "Bin Covering 8 2 5 0\n",
      "Bin Covering 8 2 6 0\n",
      "Bin Covering 8 2 7 0\n",
      "Bin Covering 8 2 8 0\n",
      "Bin Covering 8 2 9 0\n",
      "Bin Covering 8 3 0 0\n",
      "Bin Covering 8 3 1 0\n",
      "Bin Covering 8 3 2 0\n",
      "Bin Covering 8 3 3 0\n",
      "Bin Covering 8 3 4 0\n",
      "Bin Covering 8 3 5 0\n",
      "Bin Covering 8 3 6 0\n",
      "Bin Covering 8 3 7 0\n",
      "Bin Covering 8 3 8 0\n",
      "Bin Covering 8 3 9 0\n",
      "Bin Covering 8 4 0 82\n",
      "Bin Covering 8 4 1 0\n",
      "Bin Covering 8 4 2 0\n",
      "Bin Covering 8 4 3 0\n",
      "Bin Covering 8 4 4 0\n",
      "Bin Covering 8 4 5 1\n",
      "Bin Covering 8 4 6 6\n",
      "Bin Covering 8 4 7 33\n",
      "Bin Covering 8 4 8 14\n",
      "Bin Covering 8 4 9 453\n",
      "Bin Covering 8 5 0 493\n",
      "Bin Covering 8 5 1 0\n",
      "Bin Covering 8 5 2 0\n",
      "Bin Covering 8 5 3 0\n",
      "Bin Covering 8 5 4 0\n",
      "Bin Covering 8 5 5 72\n",
      "Bin Covering 8 5 6 85\n",
      "Bin Covering 8 5 7 107\n",
      "Bin Covering 8 5 8 948\n",
      "Bin Covering 8 5 9 46628\n",
      "Bin Covering 8 6 0 0\n",
      "Bin Covering 8 6 1 0\n",
      "Bin Covering 8 6 2 0\n",
      "Bin Covering 8 6 3 0\n",
      "Bin Covering 8 6 4 0\n",
      "Bin Covering 8 6 5 0\n",
      "Bin Covering 8 6 6 0\n",
      "Bin Covering 8 6 7 0\n",
      "Bin Covering 8 6 8 0\n",
      "Bin Covering 8 6 9 0\n",
      "Bin Covering 8 7 0 204\n",
      "Bin Covering 8 7 1 0\n",
      "Bin Covering 8 7 2 0\n",
      "Bin Covering 8 7 3 0\n",
      "Bin Covering 8 7 4 0\n",
      "Bin Covering 8 7 5 65\n",
      "Bin Covering 8 7 6 63\n",
      "Bin Covering 8 7 7 81\n",
      "Bin Covering 8 7 8 662\n",
      "Bin Covering 8 7 9 29206\n",
      "Bin Covering 8 8 0 58\n",
      "Bin Covering 8 8 1 0\n",
      "Bin Covering 8 8 2 0\n",
      "Bin Covering 8 8 3 0\n",
      "Bin Covering 8 8 4 0\n",
      "Bin Covering 8 8 5 9\n",
      "Bin Covering 8 8 6 7\n",
      "Bin Covering 8 8 7 16\n",
      "Bin Covering 8 8 8 146\n",
      "Bin Covering 8 8 9 7635\n",
      "Bin Covering 8 9 0 9\n",
      "Bin Covering 8 9 1 0\n",
      "Bin Covering 8 9 2 0\n",
      "Bin Covering 8 9 3 0\n",
      "Bin Covering 8 9 4 0\n",
      "Bin Covering 8 9 5 4\n",
      "Bin Covering 8 9 6 0\n",
      "Bin Covering 8 9 7 5\n",
      "Bin Covering 8 9 8 18\n",
      "Bin Covering 8 9 9 2154\n",
      "Bin Covering 9 0 0 585\n",
      "Bin Covering 9 0 1 392\n",
      "Bin Covering 9 0 2 214\n",
      "Bin Covering 9 0 3 164\n",
      "Bin Covering 9 0 4 113\n",
      "Bin Covering 9 0 5 62\n",
      "Bin Covering 9 0 6 18\n",
      "Bin Covering 9 0 7 30\n",
      "Bin Covering 9 0 8 8\n",
      "Bin Covering 9 0 9 4\n",
      "Bin Covering 9 1 0 296\n",
      "Bin Covering 9 1 1 392\n",
      "Bin Covering 9 1 2 357\n",
      "Bin Covering 9 1 3 246\n",
      "Bin Covering 9 1 4 237\n",
      "Bin Covering 9 1 5 192\n",
      "Bin Covering 9 1 6 92\n",
      "Bin Covering 9 1 7 45\n",
      "Bin Covering 9 1 8 35\n",
      "Bin Covering 9 1 9 19\n",
      "Bin Covering 9 2 0 161\n",
      "Bin Covering 9 2 1 400\n",
      "Bin Covering 9 2 2 445\n",
      "Bin Covering 9 2 3 330\n",
      "Bin Covering 9 2 4 301\n",
      "Bin Covering 9 2 5 276\n",
      "Bin Covering 9 2 6 257\n",
      "Bin Covering 9 2 7 205\n",
      "Bin Covering 9 2 8 91\n",
      "Bin Covering 9 2 9 33\n",
      "Bin Covering 9 3 0 119\n",
      "Bin Covering 9 3 1 309\n",
      "Bin Covering 9 3 2 441\n",
      "Bin Covering 9 3 3 484\n",
      "Bin Covering 9 3 4 476\n",
      "Bin Covering 9 3 5 433\n",
      "Bin Covering 9 3 6 444\n",
      "Bin Covering 9 3 7 408\n",
      "Bin Covering 9 3 8 225\n",
      "Bin Covering 9 3 9 118\n",
      "Bin Covering 9 4 0 108\n",
      "Bin Covering 9 4 1 334\n",
      "Bin Covering 9 4 2 424\n",
      "Bin Covering 9 4 3 538\n",
      "Bin Covering 9 4 4 464\n",
      "Bin Covering 9 4 5 464\n",
      "Bin Covering 9 4 6 503\n",
      "Bin Covering 9 4 7 532\n",
      "Bin Covering 9 4 8 485\n",
      "Bin Covering 9 4 9 85\n",
      "Bin Covering 9 5 0 103\n",
      "Bin Covering 9 5 1 325\n",
      "Bin Covering 9 5 2 411\n",
      "Bin Covering 9 5 3 563\n",
      "Bin Covering 9 5 4 672\n",
      "Bin Covering 9 5 5 641\n",
      "Bin Covering 9 5 6 592\n",
      "Bin Covering 9 5 7 744\n",
      "Bin Covering 9 5 8 738\n",
      "Bin Covering 9 5 9 259\n",
      "Bin Covering 9 6 0 62\n",
      "Bin Covering 9 6 1 216\n",
      "Bin Covering 9 6 2 388\n",
      "Bin Covering 9 6 3 574\n",
      "Bin Covering 9 6 4 749\n",
      "Bin Covering 9 6 5 785\n",
      "Bin Covering 9 6 6 856\n",
      "Bin Covering 9 6 7 889\n",
      "Bin Covering 9 6 8 953\n",
      "Bin Covering 9 6 9 443\n",
      "Bin Covering 9 7 0 64\n",
      "Bin Covering 9 7 1 220\n",
      "Bin Covering 9 7 2 435\n",
      "Bin Covering 9 7 3 653\n",
      "Bin Covering 9 7 4 794\n",
      "Bin Covering 9 7 5 983\n",
      "Bin Covering 9 7 6 1051\n",
      "Bin Covering 9 7 7 1279\n",
      "Bin Covering 9 7 8 1634\n",
      "Bin Covering 9 7 9 609\n",
      "Bin Covering 9 8 0 65\n",
      "Bin Covering 9 8 1 293\n",
      "Bin Covering 9 8 2 463\n",
      "Bin Covering 9 8 3 668\n",
      "Bin Covering 9 8 4 979\n",
      "Bin Covering 9 8 5 1182\n",
      "Bin Covering 9 8 6 1453\n",
      "Bin Covering 9 8 7 1735\n",
      "Bin Covering 9 8 8 2443\n",
      "Bin Covering 9 8 9 1187\n",
      "Bin Covering 9 9 0 76\n",
      "Bin Covering 9 9 1 366\n",
      "Bin Covering 9 9 2 913\n",
      "Bin Covering 9 9 3 1562\n",
      "Bin Covering 9 9 4 2166\n",
      "Bin Covering 9 9 5 3317\n",
      "Bin Covering 9 9 6 4872\n",
      "Bin Covering 9 9 7 7238\n",
      "Bin Covering 9 9 8 10694\n",
      "Bin Covering 9 9 9 22781\n",
      "Bin Covering 10 0 0 120\n",
      "Bin Covering 10 0 1 15\n",
      "Bin Covering 10 0 2 61\n",
      "Bin Covering 10 0 3 75\n",
      "Bin Covering 10 0 4 214\n",
      "Bin Covering 10 0 5 373\n",
      "Bin Covering 10 0 6 360\n",
      "Bin Covering 10 0 7 223\n",
      "Bin Covering 10 0 8 99\n",
      "Bin Covering 10 0 9 50\n",
      "Bin Covering 10 1 0 3\n",
      "Bin Covering 10 1 1 11\n",
      "Bin Covering 10 1 2 41\n",
      "Bin Covering 10 1 3 57\n",
      "Bin Covering 10 1 4 206\n",
      "Bin Covering 10 1 5 348\n",
      "Bin Covering 10 1 6 515\n",
      "Bin Covering 10 1 7 417\n",
      "Bin Covering 10 1 8 269\n",
      "Bin Covering 10 1 9 44\n",
      "Bin Covering 10 2 0 3\n",
      "Bin Covering 10 2 1 35\n",
      "Bin Covering 10 2 2 39\n",
      "Bin Covering 10 2 3 129\n",
      "Bin Covering 10 2 4 195\n",
      "Bin Covering 10 2 5 358\n",
      "Bin Covering 10 2 6 582\n",
      "Bin Covering 10 2 7 626\n",
      "Bin Covering 10 2 8 433\n",
      "Bin Covering 10 2 9 99\n",
      "Bin Covering 10 3 0 3\n",
      "Bin Covering 10 3 1 28\n",
      "Bin Covering 10 3 2 64\n",
      "Bin Covering 10 3 3 81\n",
      "Bin Covering 10 3 4 198\n",
      "Bin Covering 10 3 5 403\n",
      "Bin Covering 10 3 6 751\n",
      "Bin Covering 10 3 7 924\n",
      "Bin Covering 10 3 8 782\n",
      "Bin Covering 10 3 9 223\n",
      "Bin Covering 10 4 0 3\n",
      "Bin Covering 10 4 1 7\n",
      "Bin Covering 10 4 2 35\n",
      "Bin Covering 10 4 3 65\n",
      "Bin Covering 10 4 4 228\n",
      "Bin Covering 10 4 5 401\n",
      "Bin Covering 10 4 6 859\n",
      "Bin Covering 10 4 7 1081\n",
      "Bin Covering 10 4 8 955\n",
      "Bin Covering 10 4 9 303\n",
      "Bin Covering 10 5 0 1\n",
      "Bin Covering 10 5 1 3\n",
      "Bin Covering 10 5 2 23\n",
      "Bin Covering 10 5 3 53\n",
      "Bin Covering 10 5 4 202\n",
      "Bin Covering 10 5 5 510\n",
      "Bin Covering 10 5 6 816\n",
      "Bin Covering 10 5 7 1468\n",
      "Bin Covering 10 5 8 1386\n",
      "Bin Covering 10 5 9 586\n",
      "Bin Covering 10 6 0 1\n",
      "Bin Covering 10 6 1 2\n",
      "Bin Covering 10 6 2 19\n",
      "Bin Covering 10 6 3 62\n",
      "Bin Covering 10 6 4 278\n",
      "Bin Covering 10 6 5 546\n",
      "Bin Covering 10 6 6 1011\n",
      "Bin Covering 10 6 7 1407\n",
      "Bin Covering 10 6 8 1845\n",
      "Bin Covering 10 6 9 744\n",
      "Bin Covering 10 7 0 4\n",
      "Bin Covering 10 7 1 3\n",
      "Bin Covering 10 7 2 18\n",
      "Bin Covering 10 7 3 54\n",
      "Bin Covering 10 7 4 201\n",
      "Bin Covering 10 7 5 708\n",
      "Bin Covering 10 7 6 1261\n",
      "Bin Covering 10 7 7 1966\n",
      "Bin Covering 10 7 8 2359\n",
      "Bin Covering 10 7 9 1148\n",
      "Bin Covering 10 8 0 0\n",
      "Bin Covering 10 8 1 0\n",
      "Bin Covering 10 8 2 26\n",
      "Bin Covering 10 8 3 53\n",
      "Bin Covering 10 8 4 278\n",
      "Bin Covering 10 8 5 783\n",
      "Bin Covering 10 8 6 1452\n",
      "Bin Covering 10 8 7 2639\n",
      "Bin Covering 10 8 8 3390\n",
      "Bin Covering 10 8 9 1847\n",
      "Bin Covering 10 9 0 2\n",
      "Bin Covering 10 9 1 4\n",
      "Bin Covering 10 9 2 24\n",
      "Bin Covering 10 9 3 40\n",
      "Bin Covering 10 9 4 229\n",
      "Bin Covering 10 9 5 816\n",
      "Bin Covering 10 9 6 2805\n",
      "Bin Covering 10 9 7 9739\n",
      "Bin Covering 10 9 8 17345\n",
      "Bin Covering 10 9 9 22981\n",
      "Bin Covering 11 0 0 17\n",
      "Bin Covering 11 0 1 0\n",
      "Bin Covering 11 0 2 0\n",
      "Bin Covering 11 0 3 0\n",
      "Bin Covering 11 0 4 0\n",
      "Bin Covering 11 0 5 5\n",
      "Bin Covering 11 0 6 3\n",
      "Bin Covering 11 0 7 7\n",
      "Bin Covering 11 0 8 37\n",
      "Bin Covering 11 0 9 1521\n",
      "Bin Covering 11 1 0 19\n",
      "Bin Covering 11 1 1 0\n",
      "Bin Covering 11 1 2 0\n",
      "Bin Covering 11 1 3 0\n",
      "Bin Covering 11 1 4 0\n",
      "Bin Covering 11 1 5 5\n",
      "Bin Covering 11 1 6 7\n",
      "Bin Covering 11 1 7 9\n",
      "Bin Covering 11 1 8 13\n",
      "Bin Covering 11 1 9 1858\n",
      "Bin Covering 11 2 0 29\n",
      "Bin Covering 11 2 1 0\n",
      "Bin Covering 11 2 2 0\n",
      "Bin Covering 11 2 3 0\n",
      "Bin Covering 11 2 4 0\n",
      "Bin Covering 11 2 5 3\n",
      "Bin Covering 11 2 6 4\n",
      "Bin Covering 11 2 7 17\n",
      "Bin Covering 11 2 8 44\n",
      "Bin Covering 11 2 9 2402\n",
      "Bin Covering 11 3 0 57\n",
      "Bin Covering 11 3 1 0\n",
      "Bin Covering 11 3 2 0\n",
      "Bin Covering 11 3 3 0\n",
      "Bin Covering 11 3 4 0\n",
      "Bin Covering 11 3 5 7\n",
      "Bin Covering 11 3 6 7\n",
      "Bin Covering 11 3 7 18\n",
      "Bin Covering 11 3 8 155\n",
      "Bin Covering 11 3 9 3213\n",
      "Bin Covering 11 4 0 41\n",
      "Bin Covering 11 4 1 0\n",
      "Bin Covering 11 4 2 0\n",
      "Bin Covering 11 4 3 0\n",
      "Bin Covering 11 4 4 0\n",
      "Bin Covering 11 4 5 7\n",
      "Bin Covering 11 4 6 4\n",
      "Bin Covering 11 4 7 10\n",
      "Bin Covering 11 4 8 66\n",
      "Bin Covering 11 4 9 3809\n",
      "Bin Covering 11 5 0 66\n",
      "Bin Covering 11 5 1 0\n",
      "Bin Covering 11 5 2 0\n",
      "Bin Covering 11 5 3 0\n",
      "Bin Covering 11 5 4 0\n",
      "Bin Covering 11 5 5 11\n",
      "Bin Covering 11 5 6 12\n",
      "Bin Covering 11 5 7 37\n",
      "Bin Covering 11 5 8 123\n",
      "Bin Covering 11 5 9 4799\n",
      "Bin Covering 11 6 0 81\n",
      "Bin Covering 11 6 1 0\n",
      "Bin Covering 11 6 2 0\n",
      "Bin Covering 11 6 3 0\n",
      "Bin Covering 11 6 4 0\n",
      "Bin Covering 11 6 5 7\n",
      "Bin Covering 11 6 6 14\n",
      "Bin Covering 11 6 7 25\n",
      "Bin Covering 11 6 8 140\n",
      "Bin Covering 11 6 9 5648\n",
      "Bin Covering 11 7 0 67\n",
      "Bin Covering 11 7 1 0\n",
      "Bin Covering 11 7 2 0\n",
      "Bin Covering 11 7 3 0\n",
      "Bin Covering 11 7 4 0\n",
      "Bin Covering 11 7 5 28\n",
      "Bin Covering 11 7 6 21\n",
      "Bin Covering 11 7 7 27\n",
      "Bin Covering 11 7 8 154\n",
      "Bin Covering 11 7 9 7425\n",
      "Bin Covering 11 8 0 110\n",
      "Bin Covering 11 8 1 0\n",
      "Bin Covering 11 8 2 0\n",
      "Bin Covering 11 8 3 0\n",
      "Bin Covering 11 8 4 0\n",
      "Bin Covering 11 8 5 26\n",
      "Bin Covering 11 8 6 30\n",
      "Bin Covering 11 8 7 42\n",
      "Bin Covering 11 8 8 225\n",
      "Bin Covering 11 8 9 10035\n",
      "Bin Covering 11 9 0 530\n",
      "Bin Covering 11 9 1 0\n",
      "Bin Covering 11 9 2 0\n",
      "Bin Covering 11 9 3 0\n",
      "Bin Covering 11 9 4 0\n",
      "Bin Covering 11 9 5 84\n",
      "Bin Covering 11 9 6 80\n",
      "Bin Covering 11 9 7 118\n",
      "Bin Covering 11 9 8 1293\n",
      "Bin Covering 11 9 9 51880\n",
      "Bin Covering 12 0 0 117\n",
      "Bin Covering 12 0 1 10\n",
      "Bin Covering 12 0 2 42\n",
      "Bin Covering 12 0 3 51\n",
      "Bin Covering 12 0 4 155\n",
      "Bin Covering 12 0 5 283\n",
      "Bin Covering 12 0 6 389\n",
      "Bin Covering 12 0 7 334\n",
      "Bin Covering 12 0 8 194\n",
      "Bin Covering 12 0 9 64\n",
      "Bin Covering 12 1 0 5\n",
      "Bin Covering 12 1 1 33\n",
      "Bin Covering 12 1 2 30\n",
      "Bin Covering 12 1 3 78\n",
      "Bin Covering 12 1 4 181\n",
      "Bin Covering 12 1 5 449\n",
      "Bin Covering 12 1 6 795\n",
      "Bin Covering 12 1 7 912\n",
      "Bin Covering 12 1 8 644\n",
      "Bin Covering 12 1 9 120\n",
      "Bin Covering 12 2 0 4\n",
      "Bin Covering 12 2 1 3\n",
      "Bin Covering 12 2 2 41\n",
      "Bin Covering 12 2 3 71\n",
      "Bin Covering 12 2 4 191\n",
      "Bin Covering 12 2 5 446\n",
      "Bin Covering 12 2 6 999\n",
      "Bin Covering 12 2 7 1481\n",
      "Bin Covering 12 2 8 1016\n",
      "Bin Covering 12 2 9 239\n",
      "Bin Covering 12 3 0 2\n",
      "Bin Covering 12 3 1 7\n",
      "Bin Covering 12 3 2 13\n",
      "Bin Covering 12 3 3 72\n",
      "Bin Covering 12 3 4 215\n",
      "Bin Covering 12 3 5 468\n",
      "Bin Covering 12 3 6 1086\n",
      "Bin Covering 12 3 7 1869\n",
      "Bin Covering 12 3 8 1582\n",
      "Bin Covering 12 3 9 468\n",
      "Bin Covering 12 4 0 1\n",
      "Bin Covering 12 4 1 3\n",
      "Bin Covering 12 4 2 10\n",
      "Bin Covering 12 4 3 55\n",
      "Bin Covering 12 4 4 176\n",
      "Bin Covering 12 4 5 537\n",
      "Bin Covering 12 4 6 1158\n",
      "Bin Covering 12 4 7 2136\n",
      "Bin Covering 12 4 8 2229\n",
      "Bin Covering 12 4 9 646\n",
      "Bin Covering 12 5 0 1\n",
      "Bin Covering 12 5 1 8\n",
      "Bin Covering 12 5 2 21\n",
      "Bin Covering 12 5 3 59\n",
      "Bin Covering 12 5 4 201\n",
      "Bin Covering 12 5 5 522\n",
      "Bin Covering 12 5 6 1204\n",
      "Bin Covering 12 5 7 2282\n",
      "Bin Covering 12 5 8 2869\n",
      "Bin Covering 12 5 9 1168\n",
      "Bin Covering 12 6 0 5\n",
      "Bin Covering 12 6 1 17\n",
      "Bin Covering 12 6 2 69\n",
      "Bin Covering 12 6 3 94\n",
      "Bin Covering 12 6 4 222\n",
      "Bin Covering 12 6 5 497\n",
      "Bin Covering 12 6 6 1187\n",
      "Bin Covering 12 6 7 2502\n",
      "Bin Covering 12 6 8 3599\n",
      "Bin Covering 12 6 9 1946\n",
      "Bin Covering 12 7 0 4\n",
      "Bin Covering 12 7 1 19\n",
      "Bin Covering 12 7 2 49\n",
      "Bin Covering 12 7 3 93\n",
      "Bin Covering 12 7 4 358\n",
      "Bin Covering 12 7 5 734\n",
      "Bin Covering 12 7 6 1331\n",
      "Bin Covering 12 7 7 3108\n",
      "Bin Covering 12 7 8 4501\n",
      "Bin Covering 12 7 9 2908\n",
      "Bin Covering 12 8 0 0\n",
      "Bin Covering 12 8 1 7\n",
      "Bin Covering 12 8 2 46\n",
      "Bin Covering 12 8 3 62\n",
      "Bin Covering 12 8 4 419\n",
      "Bin Covering 12 8 5 1034\n",
      "Bin Covering 12 8 6 1660\n",
      "Bin Covering 12 8 7 3573\n",
      "Bin Covering 12 8 8 5857\n",
      "Bin Covering 12 8 9 4648\n",
      "Bin Covering 12 9 0 1\n",
      "Bin Covering 12 9 1 1\n",
      "Bin Covering 12 9 2 29\n",
      "Bin Covering 12 9 3 34\n",
      "Bin Covering 12 9 4 111\n",
      "Bin Covering 12 9 5 276\n",
      "Bin Covering 12 9 6 603\n",
      "Bin Covering 12 9 7 2293\n",
      "Bin Covering 12 9 8 6372\n",
      "Bin Covering 12 9 9 15818\n",
      "Bin Covering 13 0 0 7\n",
      "Bin Covering 13 0 1 0\n",
      "Bin Covering 13 0 2 0\n",
      "Bin Covering 13 0 3 0\n",
      "Bin Covering 13 0 4 0\n",
      "Bin Covering 13 0 5 1\n",
      "Bin Covering 13 0 6 5\n",
      "Bin Covering 13 0 7 22\n",
      "Bin Covering 13 0 8 23\n",
      "Bin Covering 13 0 9 1581\n",
      "Bin Covering 13 1 0 27\n",
      "Bin Covering 13 1 1 0\n",
      "Bin Covering 13 1 2 0\n",
      "Bin Covering 13 1 3 0\n",
      "Bin Covering 13 1 4 0\n",
      "Bin Covering 13 1 5 6\n",
      "Bin Covering 13 1 6 7\n",
      "Bin Covering 13 1 7 14\n",
      "Bin Covering 13 1 8 33\n",
      "Bin Covering 13 1 9 3160\n",
      "Bin Covering 13 2 0 66\n",
      "Bin Covering 13 2 1 0\n",
      "Bin Covering 13 2 2 0\n",
      "Bin Covering 13 2 3 0\n",
      "Bin Covering 13 2 4 0\n",
      "Bin Covering 13 2 5 13\n",
      "Bin Covering 13 2 6 4\n",
      "Bin Covering 13 2 7 19\n",
      "Bin Covering 13 2 8 65\n",
      "Bin Covering 13 2 9 4324\n",
      "Bin Covering 13 3 0 90\n",
      "Bin Covering 13 3 1 0\n",
      "Bin Covering 13 3 2 0\n",
      "Bin Covering 13 3 3 0\n",
      "Bin Covering 13 3 4 0\n",
      "Bin Covering 13 3 5 15\n",
      "Bin Covering 13 3 6 14\n",
      "Bin Covering 13 3 7 31\n",
      "Bin Covering 13 3 8 143\n",
      "Bin Covering 13 3 9 5489\n",
      "Bin Covering 13 4 0 59\n",
      "Bin Covering 13 4 1 0\n",
      "Bin Covering 13 4 2 0\n",
      "Bin Covering 13 4 3 0\n",
      "Bin Covering 13 4 4 0\n",
      "Bin Covering 13 4 5 23\n",
      "Bin Covering 13 4 6 28\n",
      "Bin Covering 13 4 7 32\n",
      "Bin Covering 13 4 8 172\n",
      "Bin Covering 13 4 9 6637\n",
      "Bin Covering 13 5 0 107\n",
      "Bin Covering 13 5 1 0\n",
      "Bin Covering 13 5 2 0\n",
      "Bin Covering 13 5 3 0\n",
      "Bin Covering 13 5 4 0\n",
      "Bin Covering 13 5 5 16\n",
      "Bin Covering 13 5 6 27\n",
      "Bin Covering 13 5 7 37\n",
      "Bin Covering 13 5 8 193\n",
      "Bin Covering 13 5 9 7955\n",
      "Bin Covering 13 6 0 139\n",
      "Bin Covering 13 6 1 0\n",
      "Bin Covering 13 6 2 0\n",
      "Bin Covering 13 6 3 0\n",
      "Bin Covering 13 6 4 0\n",
      "Bin Covering 13 6 5 29\n",
      "Bin Covering 13 6 6 32\n",
      "Bin Covering 13 6 7 35\n",
      "Bin Covering 13 6 8 282\n",
      "Bin Covering 13 6 9 9621\n",
      "Bin Covering 13 7 0 117\n",
      "Bin Covering 13 7 1 0\n",
      "Bin Covering 13 7 2 0\n",
      "Bin Covering 13 7 3 0\n",
      "Bin Covering 13 7 4 0\n",
      "Bin Covering 13 7 5 31\n",
      "Bin Covering 13 7 6 25\n",
      "Bin Covering 13 7 7 31\n",
      "Bin Covering 13 7 8 326\n",
      "Bin Covering 13 7 9 12575\n",
      "Bin Covering 13 8 0 134\n",
      "Bin Covering 13 8 1 0\n",
      "Bin Covering 13 8 2 0\n",
      "Bin Covering 13 8 3 0\n",
      "Bin Covering 13 8 4 0\n",
      "Bin Covering 13 8 5 25\n",
      "Bin Covering 13 8 6 24\n",
      "Bin Covering 13 8 7 42\n",
      "Bin Covering 13 8 8 489\n",
      "Bin Covering 13 8 9 16592\n",
      "Bin Covering 13 9 0 271\n",
      "Bin Covering 13 9 1 0\n",
      "Bin Covering 13 9 2 0\n",
      "Bin Covering 13 9 3 0\n",
      "Bin Covering 13 9 4 0\n",
      "Bin Covering 13 9 5 24\n",
      "Bin Covering 13 9 6 16\n",
      "Bin Covering 13 9 7 47\n",
      "Bin Covering 13 9 8 524\n",
      "Bin Covering 13 9 9 24656\n",
      "Bin Covering 14 0 0 4\n",
      "Bin Covering 14 0 1 0\n",
      "Bin Covering 14 0 2 0\n",
      "Bin Covering 14 0 3 0\n",
      "Bin Covering 14 0 4 0\n",
      "Bin Covering 14 0 5 1\n",
      "Bin Covering 14 0 6 0\n",
      "Bin Covering 14 0 7 3\n",
      "Bin Covering 14 0 8 20\n",
      "Bin Covering 14 0 9 112\n",
      "Bin Covering 14 1 0 0\n",
      "Bin Covering 14 1 1 0\n",
      "Bin Covering 14 1 2 0\n",
      "Bin Covering 14 1 3 0\n",
      "Bin Covering 14 1 4 0\n",
      "Bin Covering 14 1 5 0\n",
      "Bin Covering 14 1 6 0\n",
      "Bin Covering 14 1 7 0\n",
      "Bin Covering 14 1 8 0\n",
      "Bin Covering 14 1 9 108\n",
      "Bin Covering 14 2 0 1\n",
      "Bin Covering 14 2 1 0\n",
      "Bin Covering 14 2 2 0\n",
      "Bin Covering 14 2 3 0\n",
      "Bin Covering 14 2 4 0\n",
      "Bin Covering 14 2 5 0\n",
      "Bin Covering 14 2 6 0\n",
      "Bin Covering 14 2 7 0\n",
      "Bin Covering 14 2 8 0\n",
      "Bin Covering 14 2 9 349\n",
      "Bin Covering 14 3 0 0\n",
      "Bin Covering 14 3 1 0\n",
      "Bin Covering 14 3 2 0\n",
      "Bin Covering 14 3 3 0\n",
      "Bin Covering 14 3 4 0\n",
      "Bin Covering 14 3 5 1\n",
      "Bin Covering 14 3 6 2\n",
      "Bin Covering 14 3 7 0\n",
      "Bin Covering 14 3 8 4\n",
      "Bin Covering 14 3 9 662\n",
      "Bin Covering 14 4 0 17\n",
      "Bin Covering 14 4 1 0\n",
      "Bin Covering 14 4 2 0\n",
      "Bin Covering 14 4 3 0\n",
      "Bin Covering 14 4 4 0\n",
      "Bin Covering 14 4 5 2\n",
      "Bin Covering 14 4 6 2\n",
      "Bin Covering 14 4 7 4\n",
      "Bin Covering 14 4 8 25\n",
      "Bin Covering 14 4 9 2179\n",
      "Bin Covering 14 5 0 42\n",
      "Bin Covering 14 5 1 0\n",
      "Bin Covering 14 5 2 0\n",
      "Bin Covering 14 5 3 0\n",
      "Bin Covering 14 5 4 0\n",
      "Bin Covering 14 5 5 1\n",
      "Bin Covering 14 5 6 8\n",
      "Bin Covering 14 5 7 6\n",
      "Bin Covering 14 5 8 56\n",
      "Bin Covering 14 5 9 5133\n",
      "Bin Covering 14 6 0 146\n",
      "Bin Covering 14 6 1 0\n",
      "Bin Covering 14 6 2 0\n",
      "Bin Covering 14 6 3 0\n",
      "Bin Covering 14 6 4 0\n",
      "Bin Covering 14 6 5 28\n",
      "Bin Covering 14 6 6 28\n",
      "Bin Covering 14 6 7 50\n",
      "Bin Covering 14 6 8 230\n",
      "Bin Covering 14 6 9 9930\n",
      "Bin Covering 14 7 0 297\n",
      "Bin Covering 14 7 1 0\n",
      "Bin Covering 14 7 2 0\n",
      "Bin Covering 14 7 3 0\n",
      "Bin Covering 14 7 4 0\n",
      "Bin Covering 14 7 5 59\n",
      "Bin Covering 14 7 6 53\n",
      "Bin Covering 14 7 7 118\n",
      "Bin Covering 14 7 8 725\n",
      "Bin Covering 14 7 9 19238\n",
      "Bin Covering 14 8 0 344\n",
      "Bin Covering 14 8 1 0\n",
      "Bin Covering 14 8 2 0\n",
      "Bin Covering 14 8 3 0\n",
      "Bin Covering 14 8 4 0\n",
      "Bin Covering 14 8 5 64\n",
      "Bin Covering 14 8 6 60\n",
      "Bin Covering 14 8 7 91\n",
      "Bin Covering 14 8 8 896\n",
      "Bin Covering 14 8 9 27408\n",
      "Bin Covering 14 9 0 166\n",
      "Bin Covering 14 9 1 0\n",
      "Bin Covering 14 9 2 0\n",
      "Bin Covering 14 9 3 0\n",
      "Bin Covering 14 9 4 0\n",
      "Bin Covering 14 9 5 27\n",
      "Bin Covering 14 9 6 29\n",
      "Bin Covering 14 9 7 38\n",
      "Bin Covering 14 9 8 294\n",
      "Bin Covering 14 9 9 27471\n",
      "Bin Covering 15 0 0 371\n",
      "Bin Covering 15 0 1 0\n",
      "Bin Covering 15 0 2 0\n",
      "Bin Covering 15 0 3 0\n",
      "Bin Covering 15 0 4 0\n",
      "Bin Covering 15 0 5 102\n",
      "Bin Covering 15 0 6 0\n",
      "Bin Covering 15 0 7 28\n",
      "Bin Covering 15 0 8 0\n",
      "Bin Covering 15 0 9 1\n",
      "Bin Covering 15 1 0 0\n",
      "Bin Covering 15 1 1 0\n",
      "Bin Covering 15 1 2 0\n",
      "Bin Covering 15 1 3 0\n",
      "Bin Covering 15 1 4 0\n",
      "Bin Covering 15 1 5 0\n",
      "Bin Covering 15 1 6 0\n",
      "Bin Covering 15 1 7 0\n",
      "Bin Covering 15 1 8 0\n",
      "Bin Covering 15 1 9 0\n",
      "Bin Covering 15 2 0 0\n",
      "Bin Covering 15 2 1 0\n",
      "Bin Covering 15 2 2 0\n",
      "Bin Covering 15 2 3 0\n",
      "Bin Covering 15 2 4 0\n",
      "Bin Covering 15 2 5 0\n",
      "Bin Covering 15 2 6 0\n",
      "Bin Covering 15 2 7 0\n",
      "Bin Covering 15 2 8 0\n",
      "Bin Covering 15 2 9 0\n",
      "Bin Covering 15 3 0 0\n",
      "Bin Covering 15 3 1 0\n",
      "Bin Covering 15 3 2 0\n",
      "Bin Covering 15 3 3 0\n",
      "Bin Covering 15 3 4 0\n",
      "Bin Covering 15 3 5 0\n",
      "Bin Covering 15 3 6 0\n",
      "Bin Covering 15 3 7 0\n",
      "Bin Covering 15 3 8 0\n",
      "Bin Covering 15 3 9 0\n",
      "Bin Covering 15 4 0 0\n",
      "Bin Covering 15 4 1 0\n",
      "Bin Covering 15 4 2 0\n",
      "Bin Covering 15 4 3 0\n",
      "Bin Covering 15 4 4 0\n",
      "Bin Covering 15 4 5 0\n",
      "Bin Covering 15 4 6 0\n",
      "Bin Covering 15 4 7 0\n",
      "Bin Covering 15 4 8 0\n",
      "Bin Covering 15 4 9 0\n",
      "Bin Covering 15 5 0 49\n",
      "Bin Covering 15 5 1 0\n",
      "Bin Covering 15 5 2 0\n",
      "Bin Covering 15 5 3 0\n",
      "Bin Covering 15 5 4 0\n",
      "Bin Covering 15 5 5 11\n",
      "Bin Covering 15 5 6 0\n",
      "Bin Covering 15 5 7 3\n",
      "Bin Covering 15 5 8 0\n",
      "Bin Covering 15 5 9 0\n",
      "Bin Covering 15 6 0 33\n",
      "Bin Covering 15 6 1 0\n",
      "Bin Covering 15 6 2 0\n",
      "Bin Covering 15 6 3 0\n",
      "Bin Covering 15 6 4 0\n",
      "Bin Covering 15 6 5 13\n",
      "Bin Covering 15 6 6 0\n",
      "Bin Covering 15 6 7 3\n",
      "Bin Covering 15 6 8 1\n",
      "Bin Covering 15 6 9 0\n",
      "Bin Covering 15 7 0 403\n",
      "Bin Covering 15 7 1 0\n",
      "Bin Covering 15 7 2 0\n",
      "Bin Covering 15 7 3 0\n",
      "Bin Covering 15 7 4 0\n",
      "Bin Covering 15 7 5 51\n",
      "Bin Covering 15 7 6 0\n",
      "Bin Covering 15 7 7 15\n",
      "Bin Covering 15 7 8 2\n",
      "Bin Covering 15 7 9 0\n",
      "Bin Covering 15 8 0 748\n",
      "Bin Covering 15 8 1 0\n",
      "Bin Covering 15 8 2 0\n",
      "Bin Covering 15 8 3 0\n",
      "Bin Covering 15 8 4 0\n",
      "Bin Covering 15 8 5 283\n",
      "Bin Covering 15 8 6 0\n",
      "Bin Covering 15 8 7 78\n",
      "Bin Covering 15 8 8 9\n",
      "Bin Covering 15 8 9 1\n",
      "Bin Covering 15 9 0 84319\n",
      "Bin Covering 15 9 1 0\n",
      "Bin Covering 15 9 2 0\n",
      "Bin Covering 15 9 3 0\n",
      "Bin Covering 15 9 4 0\n",
      "Bin Covering 15 9 5 8214\n",
      "Bin Covering 15 9 6 0\n",
      "Bin Covering 15 9 7 1582\n",
      "Bin Covering 15 9 8 193\n",
      "Bin Covering 15 9 9 19\n",
      "Bin Covering 16 0 0 188\n",
      "Bin Covering 16 0 1 0\n",
      "Bin Covering 16 0 2 0\n",
      "Bin Covering 16 0 3 0\n",
      "Bin Covering 16 0 4 0\n",
      "Bin Covering 16 0 5 8\n",
      "Bin Covering 16 0 6 7\n",
      "Bin Covering 16 0 7 34\n",
      "Bin Covering 16 0 8 50\n",
      "Bin Covering 16 0 9 215\n",
      "Bin Covering 16 1 0 0\n",
      "Bin Covering 16 1 1 0\n",
      "Bin Covering 16 1 2 0\n",
      "Bin Covering 16 1 3 0\n",
      "Bin Covering 16 1 4 0\n",
      "Bin Covering 16 1 5 0\n",
      "Bin Covering 16 1 6 0\n",
      "Bin Covering 16 1 7 0\n",
      "Bin Covering 16 1 8 0\n",
      "Bin Covering 16 1 9 0\n",
      "Bin Covering 16 2 0 0\n",
      "Bin Covering 16 2 1 0\n",
      "Bin Covering 16 2 2 0\n",
      "Bin Covering 16 2 3 0\n",
      "Bin Covering 16 2 4 0\n",
      "Bin Covering 16 2 5 0\n",
      "Bin Covering 16 2 6 0\n",
      "Bin Covering 16 2 7 0\n",
      "Bin Covering 16 2 8 0\n",
      "Bin Covering 16 2 9 0\n",
      "Bin Covering 16 3 0 0\n",
      "Bin Covering 16 3 1 0\n",
      "Bin Covering 16 3 2 0\n",
      "Bin Covering 16 3 3 0\n",
      "Bin Covering 16 3 4 0\n",
      "Bin Covering 16 3 5 0\n",
      "Bin Covering 16 3 6 0\n",
      "Bin Covering 16 3 7 0\n",
      "Bin Covering 16 3 8 0\n",
      "Bin Covering 16 3 9 0\n",
      "Bin Covering 16 4 0 0\n",
      "Bin Covering 16 4 1 0\n",
      "Bin Covering 16 4 2 0\n",
      "Bin Covering 16 4 3 0\n",
      "Bin Covering 16 4 4 0\n",
      "Bin Covering 16 4 5 0\n",
      "Bin Covering 16 4 6 0\n",
      "Bin Covering 16 4 7 0\n",
      "Bin Covering 16 4 8 0\n",
      "Bin Covering 16 4 9 0\n",
      "Bin Covering 16 5 0 7\n",
      "Bin Covering 16 5 1 0\n",
      "Bin Covering 16 5 2 0\n",
      "Bin Covering 16 5 3 0\n",
      "Bin Covering 16 5 4 0\n",
      "Bin Covering 16 5 5 12\n",
      "Bin Covering 16 5 6 1\n",
      "Bin Covering 16 5 7 1\n",
      "Bin Covering 16 5 8 1\n",
      "Bin Covering 16 5 9 41\n",
      "Bin Covering 16 6 0 0\n",
      "Bin Covering 16 6 1 0\n",
      "Bin Covering 16 6 2 0\n",
      "Bin Covering 16 6 3 0\n",
      "Bin Covering 16 6 4 0\n",
      "Bin Covering 16 6 5 0\n",
      "Bin Covering 16 6 6 10\n",
      "Bin Covering 16 6 7 5\n",
      "Bin Covering 16 6 8 6\n",
      "Bin Covering 16 6 9 29\n",
      "Bin Covering 16 7 0 29\n",
      "Bin Covering 16 7 1 0\n",
      "Bin Covering 16 7 2 0\n",
      "Bin Covering 16 7 3 0\n",
      "Bin Covering 16 7 4 0\n",
      "Bin Covering 16 7 5 18\n",
      "Bin Covering 16 7 6 2\n",
      "Bin Covering 16 7 7 91\n",
      "Bin Covering 16 7 8 12\n",
      "Bin Covering 16 7 9 319\n",
      "Bin Covering 16 8 0 106\n",
      "Bin Covering 16 8 1 0\n",
      "Bin Covering 16 8 2 0\n",
      "Bin Covering 16 8 3 0\n",
      "Bin Covering 16 8 4 0\n",
      "Bin Covering 16 8 5 5\n",
      "Bin Covering 16 8 6 21\n",
      "Bin Covering 16 8 7 35\n",
      "Bin Covering 16 8 8 534\n",
      "Bin Covering 16 8 9 418\n",
      "Bin Covering 16 9 0 10543\n",
      "Bin Covering 16 9 1 0\n",
      "Bin Covering 16 9 2 0\n",
      "Bin Covering 16 9 3 0\n",
      "Bin Covering 16 9 4 0\n",
      "Bin Covering 16 9 5 559\n",
      "Bin Covering 16 9 6 815\n",
      "Bin Covering 16 9 7 3399\n",
      "Bin Covering 16 9 8 3829\n",
      "Bin Covering 16 9 9 75182\n",
      "Bin Covering 17 0 0 4577\n",
      "Bin Covering 17 0 1 0\n",
      "Bin Covering 17 0 2 0\n",
      "Bin Covering 17 0 3 0\n",
      "Bin Covering 17 0 4 0\n",
      "Bin Covering 17 0 5 1515\n",
      "Bin Covering 17 0 6 0\n",
      "Bin Covering 17 0 7 1038\n",
      "Bin Covering 17 0 8 126\n",
      "Bin Covering 17 0 9 12\n",
      "Bin Covering 17 1 0 0\n",
      "Bin Covering 17 1 1 0\n",
      "Bin Covering 17 1 2 0\n",
      "Bin Covering 17 1 3 0\n",
      "Bin Covering 17 1 4 0\n",
      "Bin Covering 17 1 5 0\n",
      "Bin Covering 17 1 6 0\n",
      "Bin Covering 17 1 7 0\n",
      "Bin Covering 17 1 8 0\n",
      "Bin Covering 17 1 9 0\n",
      "Bin Covering 17 2 0 0\n",
      "Bin Covering 17 2 1 0\n",
      "Bin Covering 17 2 2 0\n",
      "Bin Covering 17 2 3 0\n",
      "Bin Covering 17 2 4 0\n",
      "Bin Covering 17 2 5 0\n",
      "Bin Covering 17 2 6 0\n",
      "Bin Covering 17 2 7 0\n",
      "Bin Covering 17 2 8 0\n",
      "Bin Covering 17 2 9 0\n",
      "Bin Covering 17 3 0 0\n",
      "Bin Covering 17 3 1 0\n",
      "Bin Covering 17 3 2 0\n",
      "Bin Covering 17 3 3 0\n",
      "Bin Covering 17 3 4 0\n",
      "Bin Covering 17 3 5 0\n",
      "Bin Covering 17 3 6 0\n",
      "Bin Covering 17 3 7 0\n",
      "Bin Covering 17 3 8 0\n",
      "Bin Covering 17 3 9 0\n",
      "Bin Covering 17 4 0 545\n",
      "Bin Covering 17 4 1 0\n",
      "Bin Covering 17 4 2 0\n",
      "Bin Covering 17 4 3 0\n",
      "Bin Covering 17 4 4 0\n",
      "Bin Covering 17 4 5 42\n",
      "Bin Covering 17 4 6 0\n",
      "Bin Covering 17 4 7 2\n",
      "Bin Covering 17 4 8 0\n",
      "Bin Covering 17 4 9 0\n",
      "Bin Covering 17 5 0 43231\n",
      "Bin Covering 17 5 1 0\n",
      "Bin Covering 17 5 2 0\n",
      "Bin Covering 17 5 3 0\n",
      "Bin Covering 17 5 4 0\n",
      "Bin Covering 17 5 5 4601\n",
      "Bin Covering 17 5 6 0\n",
      "Bin Covering 17 5 7 449\n",
      "Bin Covering 17 5 8 43\n",
      "Bin Covering 17 5 9 9\n",
      "Bin Covering 17 6 0 0\n",
      "Bin Covering 17 6 1 0\n",
      "Bin Covering 17 6 2 0\n",
      "Bin Covering 17 6 3 0\n",
      "Bin Covering 17 6 4 0\n",
      "Bin Covering 17 6 5 0\n",
      "Bin Covering 17 6 6 0\n",
      "Bin Covering 17 6 7 0\n",
      "Bin Covering 17 6 8 0\n",
      "Bin Covering 17 6 9 0\n",
      "Bin Covering 17 7 0 28156\n",
      "Bin Covering 17 7 1 0\n",
      "Bin Covering 17 7 2 0\n",
      "Bin Covering 17 7 3 0\n",
      "Bin Covering 17 7 4 0\n",
      "Bin Covering 17 7 5 1959\n",
      "Bin Covering 17 7 6 0\n",
      "Bin Covering 17 7 7 131\n",
      "Bin Covering 17 7 8 35\n",
      "Bin Covering 17 7 9 0\n",
      "Bin Covering 17 8 0 7430\n",
      "Bin Covering 17 8 1 0\n",
      "Bin Covering 17 8 2 0\n",
      "Bin Covering 17 8 3 0\n",
      "Bin Covering 17 8 4 0\n",
      "Bin Covering 17 8 5 373\n",
      "Bin Covering 17 8 6 0\n",
      "Bin Covering 17 8 7 67\n",
      "Bin Covering 17 8 8 1\n",
      "Bin Covering 17 8 9 0\n",
      "Bin Covering 17 9 0 1984\n",
      "Bin Covering 17 9 1 0\n",
      "Bin Covering 17 9 2 0\n",
      "Bin Covering 17 9 3 0\n",
      "Bin Covering 17 9 4 0\n",
      "Bin Covering 17 9 5 184\n",
      "Bin Covering 17 9 6 0\n",
      "Bin Covering 17 9 7 22\n",
      "Bin Covering 17 9 8 0\n",
      "Bin Covering 17 9 9 0\n",
      "Bin Covering 18 0 0 979\n",
      "Bin Covering 18 0 1 0\n",
      "Bin Covering 18 0 2 0\n",
      "Bin Covering 18 0 3 0\n",
      "Bin Covering 18 0 4 0\n",
      "Bin Covering 18 0 5 107\n",
      "Bin Covering 18 0 6 81\n",
      "Bin Covering 18 0 7 262\n",
      "Bin Covering 18 0 8 422\n",
      "Bin Covering 18 0 9 5417\n",
      "Bin Covering 18 1 0 0\n",
      "Bin Covering 18 1 1 0\n",
      "Bin Covering 18 1 2 0\n",
      "Bin Covering 18 1 3 0\n",
      "Bin Covering 18 1 4 0\n",
      "Bin Covering 18 1 5 0\n",
      "Bin Covering 18 1 6 0\n",
      "Bin Covering 18 1 7 0\n",
      "Bin Covering 18 1 8 0\n",
      "Bin Covering 18 1 9 0\n",
      "Bin Covering 18 2 0 0\n",
      "Bin Covering 18 2 1 0\n",
      "Bin Covering 18 2 2 0\n",
      "Bin Covering 18 2 3 0\n",
      "Bin Covering 18 2 4 0\n",
      "Bin Covering 18 2 5 0\n",
      "Bin Covering 18 2 6 0\n",
      "Bin Covering 18 2 7 0\n",
      "Bin Covering 18 2 8 0\n",
      "Bin Covering 18 2 9 0\n",
      "Bin Covering 18 3 0 0\n",
      "Bin Covering 18 3 1 0\n",
      "Bin Covering 18 3 2 0\n",
      "Bin Covering 18 3 3 0\n",
      "Bin Covering 18 3 4 0\n",
      "Bin Covering 18 3 5 0\n",
      "Bin Covering 18 3 6 0\n",
      "Bin Covering 18 3 7 0\n",
      "Bin Covering 18 3 8 0\n",
      "Bin Covering 18 3 9 0\n",
      "Bin Covering 18 4 0 144\n",
      "Bin Covering 18 4 1 0\n",
      "Bin Covering 18 4 2 0\n",
      "Bin Covering 18 4 3 0\n",
      "Bin Covering 18 4 4 0\n",
      "Bin Covering 18 4 5 5\n",
      "Bin Covering 18 4 6 6\n",
      "Bin Covering 18 4 7 33\n",
      "Bin Covering 18 4 8 119\n",
      "Bin Covering 18 4 9 282\n",
      "Bin Covering 18 5 0 3530\n",
      "Bin Covering 18 5 1 0\n",
      "Bin Covering 18 5 2 0\n",
      "Bin Covering 18 5 3 0\n",
      "Bin Covering 18 5 4 0\n",
      "Bin Covering 18 5 5 213\n",
      "Bin Covering 18 5 6 386\n",
      "Bin Covering 18 5 7 1603\n",
      "Bin Covering 18 5 8 1752\n",
      "Bin Covering 18 5 9 40849\n",
      "Bin Covering 18 6 0 0\n",
      "Bin Covering 18 6 1 0\n",
      "Bin Covering 18 6 2 0\n",
      "Bin Covering 18 6 3 0\n",
      "Bin Covering 18 6 4 0\n",
      "Bin Covering 18 6 5 0\n",
      "Bin Covering 18 6 6 0\n",
      "Bin Covering 18 6 7 0\n",
      "Bin Covering 18 6 8 0\n",
      "Bin Covering 18 6 9 0\n",
      "Bin Covering 18 7 0 4475\n",
      "Bin Covering 18 7 1 0\n",
      "Bin Covering 18 7 2 0\n",
      "Bin Covering 18 7 3 0\n",
      "Bin Covering 18 7 4 0\n",
      "Bin Covering 18 7 5 211\n",
      "Bin Covering 18 7 6 288\n",
      "Bin Covering 18 7 7 1053\n",
      "Bin Covering 18 7 8 1530\n",
      "Bin Covering 18 7 9 22724\n",
      "Bin Covering 18 8 0 1343\n",
      "Bin Covering 18 8 1 0\n",
      "Bin Covering 18 8 2 0\n",
      "Bin Covering 18 8 3 0\n",
      "Bin Covering 18 8 4 0\n",
      "Bin Covering 18 8 5 42\n",
      "Bin Covering 18 8 6 66\n",
      "Bin Covering 18 8 7 347\n",
      "Bin Covering 18 8 8 434\n",
      "Bin Covering 18 8 9 5639\n",
      "Bin Covering 18 9 0 402\n",
      "Bin Covering 18 9 1 0\n",
      "Bin Covering 18 9 2 0\n",
      "Bin Covering 18 9 3 0\n",
      "Bin Covering 18 9 4 0\n",
      "Bin Covering 18 9 5 24\n",
      "Bin Covering 18 9 6 29\n",
      "Bin Covering 18 9 7 267\n",
      "Bin Covering 18 9 8 175\n",
      "Bin Covering 18 9 9 1293\n",
      "Bin Covering 19 0 0 1532\n",
      "Bin Covering 19 0 1 0\n",
      "Bin Covering 19 0 2 0\n",
      "Bin Covering 19 0 3 0\n",
      "Bin Covering 19 0 4 0\n",
      "Bin Covering 19 0 5 57\n",
      "Bin Covering 19 0 6 0\n",
      "Bin Covering 19 0 7 1\n",
      "Bin Covering 19 0 8 0\n",
      "Bin Covering 19 0 9 0\n",
      "Bin Covering 19 1 0 1854\n",
      "Bin Covering 19 1 1 0\n",
      "Bin Covering 19 1 2 0\n",
      "Bin Covering 19 1 3 0\n",
      "Bin Covering 19 1 4 0\n",
      "Bin Covering 19 1 5 53\n",
      "Bin Covering 19 1 6 0\n",
      "Bin Covering 19 1 7 2\n",
      "Bin Covering 19 1 8 2\n",
      "Bin Covering 19 1 9 0\n",
      "Bin Covering 19 2 0 2375\n",
      "Bin Covering 19 2 1 0\n",
      "Bin Covering 19 2 2 0\n",
      "Bin Covering 19 2 3 0\n",
      "Bin Covering 19 2 4 0\n",
      "Bin Covering 19 2 5 110\n",
      "Bin Covering 19 2 6 0\n",
      "Bin Covering 19 2 7 11\n",
      "Bin Covering 19 2 8 2\n",
      "Bin Covering 19 2 9 1\n",
      "Bin Covering 19 3 0 3196\n",
      "Bin Covering 19 3 1 0\n",
      "Bin Covering 19 3 2 0\n",
      "Bin Covering 19 3 3 0\n",
      "Bin Covering 19 3 4 0\n",
      "Bin Covering 19 3 5 236\n",
      "Bin Covering 19 3 6 0\n",
      "Bin Covering 19 3 7 25\n",
      "Bin Covering 19 3 8 0\n",
      "Bin Covering 19 3 9 0\n",
      "Bin Covering 19 4 0 3690\n",
      "Bin Covering 19 4 1 0\n",
      "Bin Covering 19 4 2 0\n",
      "Bin Covering 19 4 3 0\n",
      "Bin Covering 19 4 4 0\n",
      "Bin Covering 19 4 5 214\n",
      "Bin Covering 19 4 6 0\n",
      "Bin Covering 19 4 7 33\n",
      "Bin Covering 19 4 8 0\n",
      "Bin Covering 19 4 9 0\n",
      "Bin Covering 19 5 0 4694\n",
      "Bin Covering 19 5 1 0\n",
      "Bin Covering 19 5 2 0\n",
      "Bin Covering 19 5 3 0\n",
      "Bin Covering 19 5 4 0\n",
      "Bin Covering 19 5 5 307\n",
      "Bin Covering 19 5 6 0\n",
      "Bin Covering 19 5 7 41\n",
      "Bin Covering 19 5 8 5\n",
      "Bin Covering 19 5 9 1\n",
      "Bin Covering 19 6 0 5411\n",
      "Bin Covering 19 6 1 0\n",
      "Bin Covering 19 6 2 0\n",
      "Bin Covering 19 6 3 0\n",
      "Bin Covering 19 6 4 0\n",
      "Bin Covering 19 6 5 381\n",
      "Bin Covering 19 6 6 0\n",
      "Bin Covering 19 6 7 110\n",
      "Bin Covering 19 6 8 13\n",
      "Bin Covering 19 6 9 0\n",
      "Bin Covering 19 7 0 7119\n",
      "Bin Covering 19 7 1 0\n",
      "Bin Covering 19 7 2 0\n",
      "Bin Covering 19 7 3 0\n",
      "Bin Covering 19 7 4 0\n",
      "Bin Covering 19 7 5 453\n",
      "Bin Covering 19 7 6 0\n",
      "Bin Covering 19 7 7 128\n",
      "Bin Covering 19 7 8 14\n",
      "Bin Covering 19 7 9 8\n",
      "Bin Covering 19 8 0 9345\n",
      "Bin Covering 19 8 1 0\n",
      "Bin Covering 19 8 2 0\n",
      "Bin Covering 19 8 3 0\n",
      "Bin Covering 19 8 4 0\n",
      "Bin Covering 19 8 5 937\n",
      "Bin Covering 19 8 6 0\n",
      "Bin Covering 19 8 7 174\n",
      "Bin Covering 19 8 8 11\n",
      "Bin Covering 19 8 9 1\n",
      "Bin Covering 19 9 0 46707\n",
      "Bin Covering 19 9 1 0\n",
      "Bin Covering 19 9 2 0\n",
      "Bin Covering 19 9 3 0\n",
      "Bin Covering 19 9 4 0\n",
      "Bin Covering 19 9 5 5926\n",
      "Bin Covering 19 9 6 0\n",
      "Bin Covering 19 9 7 1184\n",
      "Bin Covering 19 9 8 158\n",
      "Bin Covering 19 9 9 10\n",
      "Bin Covering 20 0 0 226\n",
      "Bin Covering 20 0 1 0\n",
      "Bin Covering 20 0 2 0\n",
      "Bin Covering 20 0 3 0\n",
      "Bin Covering 20 0 4 0\n",
      "Bin Covering 20 0 5 6\n",
      "Bin Covering 20 0 6 34\n",
      "Bin Covering 20 0 7 67\n",
      "Bin Covering 20 0 8 69\n",
      "Bin Covering 20 0 9 1188\n",
      "Bin Covering 20 1 0 238\n",
      "Bin Covering 20 1 1 0\n",
      "Bin Covering 20 1 2 0\n",
      "Bin Covering 20 1 3 0\n",
      "Bin Covering 20 1 4 0\n",
      "Bin Covering 20 1 5 8\n",
      "Bin Covering 20 1 6 9\n",
      "Bin Covering 20 1 7 49\n",
      "Bin Covering 20 1 8 46\n",
      "Bin Covering 20 1 9 1561\n",
      "Bin Covering 20 2 0 141\n",
      "Bin Covering 20 2 1 0\n",
      "Bin Covering 20 2 2 0\n",
      "Bin Covering 20 2 3 0\n",
      "Bin Covering 20 2 4 0\n",
      "Bin Covering 20 2 5 10\n",
      "Bin Covering 20 2 6 14\n",
      "Bin Covering 20 2 7 57\n",
      "Bin Covering 20 2 8 116\n",
      "Bin Covering 20 2 9 2161\n",
      "Bin Covering 20 3 0 243\n",
      "Bin Covering 20 3 1 0\n",
      "Bin Covering 20 3 2 0\n",
      "Bin Covering 20 3 3 0\n",
      "Bin Covering 20 3 4 0\n",
      "Bin Covering 20 3 5 15\n",
      "Bin Covering 20 3 6 24\n",
      "Bin Covering 20 3 7 96\n",
      "Bin Covering 20 3 8 181\n",
      "Bin Covering 20 3 9 2898\n",
      "Bin Covering 20 4 0 345\n",
      "Bin Covering 20 4 1 0\n",
      "Bin Covering 20 4 2 0\n",
      "Bin Covering 20 4 3 0\n",
      "Bin Covering 20 4 4 0\n",
      "Bin Covering 20 4 5 21\n",
      "Bin Covering 20 4 6 18\n",
      "Bin Covering 20 4 7 123\n",
      "Bin Covering 20 4 8 118\n",
      "Bin Covering 20 4 9 3312\n",
      "Bin Covering 20 5 0 373\n",
      "Bin Covering 20 5 1 0\n",
      "Bin Covering 20 5 2 0\n",
      "Bin Covering 20 5 3 0\n",
      "Bin Covering 20 5 4 0\n",
      "Bin Covering 20 5 5 12\n",
      "Bin Covering 20 5 6 24\n",
      "Bin Covering 20 5 7 107\n",
      "Bin Covering 20 5 8 185\n",
      "Bin Covering 20 5 9 4347\n",
      "Bin Covering 20 6 0 476\n",
      "Bin Covering 20 6 1 0\n",
      "Bin Covering 20 6 2 0\n",
      "Bin Covering 20 6 3 0\n",
      "Bin Covering 20 6 4 0\n",
      "Bin Covering 20 6 5 27\n",
      "Bin Covering 20 6 6 53\n",
      "Bin Covering 20 6 7 164\n",
      "Bin Covering 20 6 8 176\n",
      "Bin Covering 20 6 9 5019\n",
      "Bin Covering 20 7 0 608\n",
      "Bin Covering 20 7 1 0\n",
      "Bin Covering 20 7 2 0\n",
      "Bin Covering 20 7 3 0\n",
      "Bin Covering 20 7 4 0\n",
      "Bin Covering 20 7 5 26\n",
      "Bin Covering 20 7 6 89\n",
      "Bin Covering 20 7 7 209\n",
      "Bin Covering 20 7 8 311\n",
      "Bin Covering 20 7 9 6479\n",
      "Bin Covering 20 8 0 997\n",
      "Bin Covering 20 8 1 0\n",
      "Bin Covering 20 8 2 0\n",
      "Bin Covering 20 8 3 0\n",
      "Bin Covering 20 8 4 0\n",
      "Bin Covering 20 8 5 63\n",
      "Bin Covering 20 8 6 117\n",
      "Bin Covering 20 8 7 381\n",
      "Bin Covering 20 8 8 387\n",
      "Bin Covering 20 8 9 8523\n",
      "Bin Covering 20 9 0 7226\n",
      "Bin Covering 20 9 1 0\n",
      "Bin Covering 20 9 2 0\n",
      "Bin Covering 20 9 3 0\n",
      "Bin Covering 20 9 4 0\n",
      "Bin Covering 20 9 5 414\n",
      "Bin Covering 20 9 6 474\n",
      "Bin Covering 20 9 7 2312\n",
      "Bin Covering 20 9 8 2843\n",
      "Bin Covering 20 9 9 40716\n",
      "Bin Covering 21 0 0 1621\n",
      "Bin Covering 21 0 1 0\n",
      "Bin Covering 21 0 2 0\n",
      "Bin Covering 21 0 3 0\n",
      "Bin Covering 21 0 4 0\n",
      "Bin Covering 21 0 5 18\n",
      "Bin Covering 21 0 6 0\n",
      "Bin Covering 21 0 7 0\n",
      "Bin Covering 21 0 8 0\n",
      "Bin Covering 21 0 9 0\n",
      "Bin Covering 21 1 0 3162\n",
      "Bin Covering 21 1 1 0\n",
      "Bin Covering 21 1 2 0\n",
      "Bin Covering 21 1 3 0\n",
      "Bin Covering 21 1 4 0\n",
      "Bin Covering 21 1 5 79\n",
      "Bin Covering 21 1 6 0\n",
      "Bin Covering 21 1 7 6\n",
      "Bin Covering 21 1 8 0\n",
      "Bin Covering 21 1 9 0\n",
      "Bin Covering 21 2 0 4280\n",
      "Bin Covering 21 2 1 0\n",
      "Bin Covering 21 2 2 0\n",
      "Bin Covering 21 2 3 0\n",
      "Bin Covering 21 2 4 0\n",
      "Bin Covering 21 2 5 192\n",
      "Bin Covering 21 2 6 0\n",
      "Bin Covering 21 2 7 17\n",
      "Bin Covering 21 2 8 2\n",
      "Bin Covering 21 2 9 0\n",
      "Bin Covering 21 3 0 5422\n",
      "Bin Covering 21 3 1 0\n",
      "Bin Covering 21 3 2 0\n",
      "Bin Covering 21 3 3 0\n",
      "Bin Covering 21 3 4 0\n",
      "Bin Covering 21 3 5 310\n",
      "Bin Covering 21 3 6 0\n",
      "Bin Covering 21 3 7 46\n",
      "Bin Covering 21 3 8 4\n",
      "Bin Covering 21 3 9 0\n",
      "Bin Covering 21 4 0 6404\n",
      "Bin Covering 21 4 1 0\n",
      "Bin Covering 21 4 2 0\n",
      "Bin Covering 21 4 3 0\n",
      "Bin Covering 21 4 4 0\n",
      "Bin Covering 21 4 5 457\n",
      "Bin Covering 21 4 6 0\n",
      "Bin Covering 21 4 7 78\n",
      "Bin Covering 21 4 8 12\n",
      "Bin Covering 21 4 9 0\n",
      "Bin Covering 21 5 0 7606\n",
      "Bin Covering 21 5 1 0\n",
      "Bin Covering 21 5 2 0\n",
      "Bin Covering 21 5 3 0\n",
      "Bin Covering 21 5 4 0\n",
      "Bin Covering 21 5 5 592\n",
      "Bin Covering 21 5 6 0\n",
      "Bin Covering 21 5 7 134\n",
      "Bin Covering 21 5 8 2\n",
      "Bin Covering 21 5 9 1\n",
      "Bin Covering 21 6 0 8764\n",
      "Bin Covering 21 6 1 0\n",
      "Bin Covering 21 6 2 0\n",
      "Bin Covering 21 6 3 0\n",
      "Bin Covering 21 6 4 0\n",
      "Bin Covering 21 6 5 1097\n",
      "Bin Covering 21 6 6 0\n",
      "Bin Covering 21 6 7 246\n",
      "Bin Covering 21 6 8 26\n",
      "Bin Covering 21 6 9 5\n",
      "Bin Covering 21 7 0 11383\n",
      "Bin Covering 21 7 1 0\n",
      "Bin Covering 21 7 2 0\n",
      "Bin Covering 21 7 3 0\n",
      "Bin Covering 21 7 4 0\n",
      "Bin Covering 21 7 5 1410\n",
      "Bin Covering 21 7 6 0\n",
      "Bin Covering 21 7 7 267\n",
      "Bin Covering 21 7 8 40\n",
      "Bin Covering 21 7 9 5\n",
      "Bin Covering 21 8 0 14971\n",
      "Bin Covering 21 8 1 0\n",
      "Bin Covering 21 8 2 0\n",
      "Bin Covering 21 8 3 0\n",
      "Bin Covering 21 8 4 0\n",
      "Bin Covering 21 8 5 1904\n",
      "Bin Covering 21 8 6 0\n",
      "Bin Covering 21 8 7 363\n",
      "Bin Covering 21 8 8 64\n",
      "Bin Covering 21 8 9 4\n",
      "Bin Covering 21 9 0 22310\n",
      "Bin Covering 21 9 1 0\n",
      "Bin Covering 21 9 2 0\n",
      "Bin Covering 21 9 3 0\n",
      "Bin Covering 21 9 4 0\n",
      "Bin Covering 21 9 5 2615\n",
      "Bin Covering 21 9 6 0\n",
      "Bin Covering 21 9 7 552\n",
      "Bin Covering 21 9 8 55\n",
      "Bin Covering 21 9 9 6\n",
      "Bin Covering 22 0 0 347\n",
      "Bin Covering 22 0 1 0\n",
      "Bin Covering 22 0 2 0\n",
      "Bin Covering 22 0 3 0\n",
      "Bin Covering 22 0 4 0\n",
      "Bin Covering 22 0 5 13\n",
      "Bin Covering 22 0 6 30\n",
      "Bin Covering 22 0 7 119\n",
      "Bin Covering 22 0 8 123\n",
      "Bin Covering 22 0 9 1007\n",
      "Bin Covering 22 1 0 591\n",
      "Bin Covering 22 1 1 0\n",
      "Bin Covering 22 1 2 0\n",
      "Bin Covering 22 1 3 0\n",
      "Bin Covering 22 1 4 0\n",
      "Bin Covering 22 1 5 10\n",
      "Bin Covering 22 1 6 26\n",
      "Bin Covering 22 1 7 126\n",
      "Bin Covering 22 1 8 212\n",
      "Bin Covering 22 1 9 2282\n",
      "Bin Covering 22 2 0 700\n",
      "Bin Covering 22 2 1 0\n",
      "Bin Covering 22 2 2 0\n",
      "Bin Covering 22 2 3 0\n",
      "Bin Covering 22 2 4 0\n",
      "Bin Covering 22 2 5 32\n",
      "Bin Covering 22 2 6 47\n",
      "Bin Covering 22 2 7 195\n",
      "Bin Covering 22 2 8 288\n",
      "Bin Covering 22 2 9 3229\n",
      "Bin Covering 22 3 0 789\n",
      "Bin Covering 22 3 1 0\n",
      "Bin Covering 22 3 2 0\n",
      "Bin Covering 22 3 3 0\n",
      "Bin Covering 22 3 4 0\n",
      "Bin Covering 22 3 5 27\n",
      "Bin Covering 22 3 6 43\n",
      "Bin Covering 22 3 7 184\n",
      "Bin Covering 22 3 8 270\n",
      "Bin Covering 22 3 9 4469\n",
      "Bin Covering 22 4 0 868\n",
      "Bin Covering 22 4 1 0\n",
      "Bin Covering 22 4 2 0\n",
      "Bin Covering 22 4 3 0\n",
      "Bin Covering 22 4 4 0\n",
      "Bin Covering 22 4 5 52\n",
      "Bin Covering 22 4 6 71\n",
      "Bin Covering 22 4 7 192\n",
      "Bin Covering 22 4 8 278\n",
      "Bin Covering 22 4 9 5490\n",
      "Bin Covering 22 5 0 906\n",
      "Bin Covering 22 5 1 0\n",
      "Bin Covering 22 5 2 0\n",
      "Bin Covering 22 5 3 0\n",
      "Bin Covering 22 5 4 0\n",
      "Bin Covering 22 5 5 71\n",
      "Bin Covering 22 5 6 81\n",
      "Bin Covering 22 5 7 223\n",
      "Bin Covering 22 5 8 370\n",
      "Bin Covering 22 5 9 6684\n",
      "Bin Covering 22 6 0 932\n",
      "Bin Covering 22 6 1 0\n",
      "Bin Covering 22 6 2 0\n",
      "Bin Covering 22 6 3 0\n",
      "Bin Covering 22 6 4 0\n",
      "Bin Covering 22 6 5 66\n",
      "Bin Covering 22 6 6 90\n",
      "Bin Covering 22 6 7 214\n",
      "Bin Covering 22 6 8 375\n",
      "Bin Covering 22 6 9 8461\n",
      "Bin Covering 22 7 0 1165\n",
      "Bin Covering 22 7 1 0\n",
      "Bin Covering 22 7 2 0\n",
      "Bin Covering 22 7 3 0\n",
      "Bin Covering 22 7 4 0\n",
      "Bin Covering 22 7 5 56\n",
      "Bin Covering 22 7 6 98\n",
      "Bin Covering 22 7 7 325\n",
      "Bin Covering 22 7 8 418\n",
      "Bin Covering 22 7 9 11043\n",
      "Bin Covering 22 8 0 1180\n",
      "Bin Covering 22 8 1 0\n",
      "Bin Covering 22 8 2 0\n",
      "Bin Covering 22 8 3 0\n",
      "Bin Covering 22 8 4 0\n",
      "Bin Covering 22 8 5 72\n",
      "Bin Covering 22 8 6 152\n",
      "Bin Covering 22 8 7 465\n",
      "Bin Covering 22 8 8 615\n",
      "Bin Covering 22 8 9 14822\n",
      "Bin Covering 22 9 0 3395\n",
      "Bin Covering 22 9 1 0\n",
      "Bin Covering 22 9 2 0\n",
      "Bin Covering 22 9 3 0\n",
      "Bin Covering 22 9 4 0\n",
      "Bin Covering 22 9 5 203\n",
      "Bin Covering 22 9 6 218\n",
      "Bin Covering 22 9 7 1522\n",
      "Bin Covering 22 9 8 1483\n",
      "Bin Covering 22 9 9 18717\n",
      "Bin Covering 23 0 0 140\n",
      "Bin Covering 23 0 1 0\n",
      "Bin Covering 23 0 2 0\n",
      "Bin Covering 23 0 3 0\n",
      "Bin Covering 23 0 4 0\n",
      "Bin Covering 23 0 5 0\n",
      "Bin Covering 23 0 6 0\n",
      "Bin Covering 23 0 7 0\n",
      "Bin Covering 23 0 8 0\n",
      "Bin Covering 23 0 9 0\n",
      "Bin Covering 23 1 0 107\n",
      "Bin Covering 23 1 1 0\n",
      "Bin Covering 23 1 2 0\n",
      "Bin Covering 23 1 3 0\n",
      "Bin Covering 23 1 4 0\n",
      "Bin Covering 23 1 5 1\n",
      "Bin Covering 23 1 6 0\n",
      "Bin Covering 23 1 7 0\n",
      "Bin Covering 23 1 8 0\n",
      "Bin Covering 23 1 9 0\n",
      "Bin Covering 23 2 0 348\n",
      "Bin Covering 23 2 1 0\n",
      "Bin Covering 23 2 2 0\n",
      "Bin Covering 23 2 3 0\n",
      "Bin Covering 23 2 4 0\n",
      "Bin Covering 23 2 5 2\n",
      "Bin Covering 23 2 6 0\n",
      "Bin Covering 23 2 7 0\n",
      "Bin Covering 23 2 8 0\n",
      "Bin Covering 23 2 9 0\n",
      "Bin Covering 23 3 0 658\n",
      "Bin Covering 23 3 1 0\n",
      "Bin Covering 23 3 2 0\n",
      "Bin Covering 23 3 3 0\n",
      "Bin Covering 23 3 4 0\n",
      "Bin Covering 23 3 5 9\n",
      "Bin Covering 23 3 6 0\n",
      "Bin Covering 23 3 7 2\n",
      "Bin Covering 23 3 8 0\n",
      "Bin Covering 23 3 9 0\n",
      "Bin Covering 23 4 0 2183\n",
      "Bin Covering 23 4 1 0\n",
      "Bin Covering 23 4 2 0\n",
      "Bin Covering 23 4 3 0\n",
      "Bin Covering 23 4 4 0\n",
      "Bin Covering 23 4 5 43\n",
      "Bin Covering 23 4 6 0\n",
      "Bin Covering 23 4 7 3\n",
      "Bin Covering 23 4 8 0\n",
      "Bin Covering 23 4 9 0\n",
      "Bin Covering 23 5 0 5046\n",
      "Bin Covering 23 5 1 0\n",
      "Bin Covering 23 5 2 0\n",
      "Bin Covering 23 5 3 0\n",
      "Bin Covering 23 5 4 0\n",
      "Bin Covering 23 5 5 176\n",
      "Bin Covering 23 5 6 0\n",
      "Bin Covering 23 5 7 22\n",
      "Bin Covering 23 5 8 2\n",
      "Bin Covering 23 5 9 0\n",
      "Bin Covering 23 6 0 9520\n",
      "Bin Covering 23 6 1 0\n",
      "Bin Covering 23 6 2 0\n",
      "Bin Covering 23 6 3 0\n",
      "Bin Covering 23 6 4 0\n",
      "Bin Covering 23 6 5 719\n",
      "Bin Covering 23 6 6 0\n",
      "Bin Covering 23 6 7 158\n",
      "Bin Covering 23 6 8 14\n",
      "Bin Covering 23 6 9 1\n",
      "Bin Covering 23 7 0 17883\n",
      "Bin Covering 23 7 1 0\n",
      "Bin Covering 23 7 2 0\n",
      "Bin Covering 23 7 3 0\n",
      "Bin Covering 23 7 4 0\n",
      "Bin Covering 23 7 5 2094\n",
      "Bin Covering 23 7 6 0\n",
      "Bin Covering 23 7 7 463\n",
      "Bin Covering 23 7 8 43\n",
      "Bin Covering 23 7 9 7\n",
      "Bin Covering 23 8 0 24740\n",
      "Bin Covering 23 8 1 0\n",
      "Bin Covering 23 8 2 0\n",
      "Bin Covering 23 8 3 0\n",
      "Bin Covering 23 8 4 0\n",
      "Bin Covering 23 8 5 3365\n",
      "Bin Covering 23 8 6 0\n",
      "Bin Covering 23 8 7 652\n",
      "Bin Covering 23 8 8 98\n",
      "Bin Covering 23 8 9 8\n",
      "Bin Covering 23 9 0 25298\n",
      "Bin Covering 23 9 1 0\n",
      "Bin Covering 23 9 2 0\n",
      "Bin Covering 23 9 3 0\n",
      "Bin Covering 23 9 4 0\n",
      "Bin Covering 23 9 5 2265\n",
      "Bin Covering 23 9 6 0\n",
      "Bin Covering 23 9 7 409\n",
      "Bin Covering 23 9 8 48\n",
      "Bin Covering 23 9 9 5\n",
      "Bin Covering 24 0 0 5\n",
      "Bin Covering 24 0 1 0\n",
      "Bin Covering 24 0 2 0\n",
      "Bin Covering 24 0 3 0\n",
      "Bin Covering 24 0 4 0\n",
      "Bin Covering 24 0 5 1\n",
      "Bin Covering 24 0 6 1\n",
      "Bin Covering 24 0 7 4\n",
      "Bin Covering 24 0 8 8\n",
      "Bin Covering 24 0 9 121\n",
      "Bin Covering 24 1 0 0\n",
      "Bin Covering 24 1 1 0\n",
      "Bin Covering 24 1 2 0\n",
      "Bin Covering 24 1 3 0\n",
      "Bin Covering 24 1 4 0\n",
      "Bin Covering 24 1 5 0\n",
      "Bin Covering 24 1 6 0\n",
      "Bin Covering 24 1 7 0\n",
      "Bin Covering 24 1 8 0\n",
      "Bin Covering 24 1 9 108\n",
      "Bin Covering 24 2 0 2\n",
      "Bin Covering 24 2 1 0\n",
      "Bin Covering 24 2 2 0\n",
      "Bin Covering 24 2 3 0\n",
      "Bin Covering 24 2 4 0\n",
      "Bin Covering 24 2 5 0\n",
      "Bin Covering 24 2 6 0\n",
      "Bin Covering 24 2 7 1\n",
      "Bin Covering 24 2 8 0\n",
      "Bin Covering 24 2 9 347\n",
      "Bin Covering 24 3 0 10\n",
      "Bin Covering 24 3 1 0\n",
      "Bin Covering 24 3 2 0\n",
      "Bin Covering 24 3 3 0\n",
      "Bin Covering 24 3 4 0\n",
      "Bin Covering 24 3 5 1\n",
      "Bin Covering 24 3 6 0\n",
      "Bin Covering 24 3 7 1\n",
      "Bin Covering 24 3 8 13\n",
      "Bin Covering 24 3 9 644\n",
      "Bin Covering 24 4 0 71\n",
      "Bin Covering 24 4 1 0\n",
      "Bin Covering 24 4 2 0\n",
      "Bin Covering 24 4 3 0\n",
      "Bin Covering 24 4 4 0\n",
      "Bin Covering 24 4 5 6\n",
      "Bin Covering 24 4 6 22\n",
      "Bin Covering 24 4 7 49\n",
      "Bin Covering 24 4 8 62\n",
      "Bin Covering 24 4 9 2019\n",
      "Bin Covering 24 5 0 205\n",
      "Bin Covering 24 5 1 0\n",
      "Bin Covering 24 5 2 0\n",
      "Bin Covering 24 5 3 0\n",
      "Bin Covering 24 5 4 0\n",
      "Bin Covering 24 5 5 9\n",
      "Bin Covering 24 5 6 16\n",
      "Bin Covering 24 5 7 60\n",
      "Bin Covering 24 5 8 132\n",
      "Bin Covering 24 5 9 4824\n",
      "Bin Covering 24 6 0 810\n",
      "Bin Covering 24 6 1 0\n",
      "Bin Covering 24 6 2 0\n",
      "Bin Covering 24 6 3 0\n",
      "Bin Covering 24 6 4 0\n",
      "Bin Covering 24 6 5 43\n",
      "Bin Covering 24 6 6 87\n",
      "Bin Covering 24 6 7 293\n",
      "Bin Covering 24 6 8 327\n",
      "Bin Covering 24 6 9 8852\n",
      "Bin Covering 24 7 0 2346\n",
      "Bin Covering 24 7 1 0\n",
      "Bin Covering 24 7 2 0\n",
      "Bin Covering 24 7 3 0\n",
      "Bin Covering 24 7 4 0\n",
      "Bin Covering 24 7 5 136\n",
      "Bin Covering 24 7 6 202\n",
      "Bin Covering 24 7 7 538\n",
      "Bin Covering 24 7 8 844\n",
      "Bin Covering 24 7 9 16424\n",
      "Bin Covering 24 8 0 3649\n",
      "Bin Covering 24 8 1 0\n",
      "Bin Covering 24 8 2 0\n",
      "Bin Covering 24 8 3 0\n",
      "Bin Covering 24 8 4 0\n",
      "Bin Covering 24 8 5 208\n",
      "Bin Covering 24 8 6 240\n",
      "Bin Covering 24 8 7 1063\n",
      "Bin Covering 24 8 8 1622\n",
      "Bin Covering 24 8 9 22081\n",
      "Bin Covering 24 9 0 3775\n",
      "Bin Covering 24 9 1 0\n",
      "Bin Covering 24 9 2 0\n",
      "Bin Covering 24 9 3 0\n",
      "Bin Covering 24 9 4 0\n",
      "Bin Covering 24 9 5 198\n",
      "Bin Covering 24 9 6 288\n",
      "Bin Covering 24 9 7 1556\n",
      "Bin Covering 24 9 8 1424\n",
      "Bin Covering 24 9 9 20784\n",
      "Bin Covering 25 0 0 814\n",
      "Bin Covering 25 0 1 0\n",
      "Bin Covering 25 0 2 0\n",
      "Bin Covering 25 0 3 0\n",
      "Bin Covering 25 0 4 0\n",
      "Bin Covering 25 0 5 151\n",
      "Bin Covering 25 0 6 0\n",
      "Bin Covering 25 0 7 51\n",
      "Bin Covering 25 0 8 0\n",
      "Bin Covering 25 0 9 1\n",
      "Bin Covering 25 1 0 0\n",
      "Bin Covering 25 1 1 0\n",
      "Bin Covering 25 1 2 0\n",
      "Bin Covering 25 1 3 0\n",
      "Bin Covering 25 1 4 0\n",
      "Bin Covering 25 1 5 0\n",
      "Bin Covering 25 1 6 0\n",
      "Bin Covering 25 1 7 0\n",
      "Bin Covering 25 1 8 0\n",
      "Bin Covering 25 1 9 0\n",
      "Bin Covering 25 2 0 0\n",
      "Bin Covering 25 2 1 0\n",
      "Bin Covering 25 2 2 0\n",
      "Bin Covering 25 2 3 0\n",
      "Bin Covering 25 2 4 0\n",
      "Bin Covering 25 2 5 0\n",
      "Bin Covering 25 2 6 0\n",
      "Bin Covering 25 2 7 0\n",
      "Bin Covering 25 2 8 0\n",
      "Bin Covering 25 2 9 0\n",
      "Bin Covering 25 3 0 0\n",
      "Bin Covering 25 3 1 0\n",
      "Bin Covering 25 3 2 0\n",
      "Bin Covering 25 3 3 0\n",
      "Bin Covering 25 3 4 0\n",
      "Bin Covering 25 3 5 0\n",
      "Bin Covering 25 3 6 0\n",
      "Bin Covering 25 3 7 0\n",
      "Bin Covering 25 3 8 0\n",
      "Bin Covering 25 3 9 0\n",
      "Bin Covering 25 4 0 0\n",
      "Bin Covering 25 4 1 0\n",
      "Bin Covering 25 4 2 0\n",
      "Bin Covering 25 4 3 0\n",
      "Bin Covering 25 4 4 0\n",
      "Bin Covering 25 4 5 0\n",
      "Bin Covering 25 4 6 0\n",
      "Bin Covering 25 4 7 0\n",
      "Bin Covering 25 4 8 0\n",
      "Bin Covering 25 4 9 0\n",
      "Bin Covering 25 5 0 145\n",
      "Bin Covering 25 5 1 0\n",
      "Bin Covering 25 5 2 0\n",
      "Bin Covering 25 5 3 0\n",
      "Bin Covering 25 5 4 0\n",
      "Bin Covering 25 5 5 34\n",
      "Bin Covering 25 5 6 0\n",
      "Bin Covering 25 5 7 4\n",
      "Bin Covering 25 5 8 0\n",
      "Bin Covering 25 5 9 0\n",
      "Bin Covering 25 6 0 147\n",
      "Bin Covering 25 6 1 0\n",
      "Bin Covering 25 6 2 0\n",
      "Bin Covering 25 6 3 0\n",
      "Bin Covering 25 6 4 0\n",
      "Bin Covering 25 6 5 28\n",
      "Bin Covering 25 6 6 0\n",
      "Bin Covering 25 6 7 6\n",
      "Bin Covering 25 6 8 0\n",
      "Bin Covering 25 6 9 1\n",
      "Bin Covering 25 7 0 211\n",
      "Bin Covering 25 7 1 0\n",
      "Bin Covering 25 7 2 0\n",
      "Bin Covering 25 7 3 0\n",
      "Bin Covering 25 7 4 0\n",
      "Bin Covering 25 7 5 84\n",
      "Bin Covering 25 7 6 0\n",
      "Bin Covering 25 7 7 14\n",
      "Bin Covering 25 7 8 1\n",
      "Bin Covering 25 7 9 0\n",
      "Bin Covering 25 8 0 1383\n",
      "Bin Covering 25 8 1 0\n",
      "Bin Covering 25 8 2 0\n",
      "Bin Covering 25 8 3 0\n",
      "Bin Covering 25 8 4 0\n",
      "Bin Covering 25 8 5 624\n",
      "Bin Covering 25 8 6 0\n",
      "Bin Covering 25 8 7 204\n",
      "Bin Covering 25 8 8 35\n",
      "Bin Covering 25 8 9 4\n",
      "Bin Covering 25 9 0 83223\n",
      "Bin Covering 25 9 1 0\n",
      "Bin Covering 25 9 2 0\n",
      "Bin Covering 25 9 3 0\n",
      "Bin Covering 25 9 4 0\n",
      "Bin Covering 25 9 5 7753\n",
      "Bin Covering 25 9 6 0\n",
      "Bin Covering 25 9 7 1430\n",
      "Bin Covering 25 9 8 169\n",
      "Bin Covering 25 9 9 15\n",
      "Bin Covering 26 0 0 185\n",
      "Bin Covering 26 0 1 0\n",
      "Bin Covering 26 0 2 0\n",
      "Bin Covering 26 0 3 0\n",
      "Bin Covering 26 0 4 0\n",
      "Bin Covering 26 0 5 24\n",
      "Bin Covering 26 0 6 7\n",
      "Bin Covering 26 0 7 45\n",
      "Bin Covering 26 0 8 63\n",
      "Bin Covering 26 0 9 693\n",
      "Bin Covering 26 1 0 0\n",
      "Bin Covering 26 1 1 0\n",
      "Bin Covering 26 1 2 0\n",
      "Bin Covering 26 1 3 0\n",
      "Bin Covering 26 1 4 0\n",
      "Bin Covering 26 1 5 0\n",
      "Bin Covering 26 1 6 0\n",
      "Bin Covering 26 1 7 0\n",
      "Bin Covering 26 1 8 0\n",
      "Bin Covering 26 1 9 0\n",
      "Bin Covering 26 2 0 0\n",
      "Bin Covering 26 2 1 0\n",
      "Bin Covering 26 2 2 0\n",
      "Bin Covering 26 2 3 0\n",
      "Bin Covering 26 2 4 0\n",
      "Bin Covering 26 2 5 0\n",
      "Bin Covering 26 2 6 0\n",
      "Bin Covering 26 2 7 0\n",
      "Bin Covering 26 2 8 0\n",
      "Bin Covering 26 2 9 0\n",
      "Bin Covering 26 3 0 0\n",
      "Bin Covering 26 3 1 0\n",
      "Bin Covering 26 3 2 0\n",
      "Bin Covering 26 3 3 0\n",
      "Bin Covering 26 3 4 0\n",
      "Bin Covering 26 3 5 0\n",
      "Bin Covering 26 3 6 0\n",
      "Bin Covering 26 3 7 0\n",
      "Bin Covering 26 3 8 0\n",
      "Bin Covering 26 3 9 0\n",
      "Bin Covering 26 4 0 0\n",
      "Bin Covering 26 4 1 0\n",
      "Bin Covering 26 4 2 0\n",
      "Bin Covering 26 4 3 0\n",
      "Bin Covering 26 4 4 0\n",
      "Bin Covering 26 4 5 0\n",
      "Bin Covering 26 4 6 0\n",
      "Bin Covering 26 4 7 0\n",
      "Bin Covering 26 4 8 0\n",
      "Bin Covering 26 4 9 0\n",
      "Bin Covering 26 5 0 13\n",
      "Bin Covering 26 5 1 0\n",
      "Bin Covering 26 5 2 0\n",
      "Bin Covering 26 5 3 0\n",
      "Bin Covering 26 5 4 0\n",
      "Bin Covering 26 5 5 2\n",
      "Bin Covering 26 5 6 0\n",
      "Bin Covering 26 5 7 7\n",
      "Bin Covering 26 5 8 15\n",
      "Bin Covering 26 5 9 146\n",
      "Bin Covering 26 6 0 14\n",
      "Bin Covering 26 6 1 0\n",
      "Bin Covering 26 6 2 0\n",
      "Bin Covering 26 6 3 0\n",
      "Bin Covering 26 6 4 0\n",
      "Bin Covering 26 6 5 2\n",
      "Bin Covering 26 6 6 5\n",
      "Bin Covering 26 6 7 8\n",
      "Bin Covering 26 6 8 15\n",
      "Bin Covering 26 6 9 138\n",
      "Bin Covering 26 7 0 29\n",
      "Bin Covering 26 7 1 0\n",
      "Bin Covering 26 7 2 0\n",
      "Bin Covering 26 7 3 0\n",
      "Bin Covering 26 7 4 0\n",
      "Bin Covering 26 7 5 1\n",
      "Bin Covering 26 7 6 7\n",
      "Bin Covering 26 7 7 39\n",
      "Bin Covering 26 7 8 54\n",
      "Bin Covering 26 7 9 180\n",
      "Bin Covering 26 8 0 220\n",
      "Bin Covering 26 8 1 0\n",
      "Bin Covering 26 8 2 0\n",
      "Bin Covering 26 8 3 0\n",
      "Bin Covering 26 8 4 0\n",
      "Bin Covering 26 8 5 32\n",
      "Bin Covering 26 8 6 21\n",
      "Bin Covering 26 8 7 101\n",
      "Bin Covering 26 8 8 287\n",
      "Bin Covering 26 8 9 1589\n",
      "Bin Covering 26 9 0 10412\n",
      "Bin Covering 26 9 1 0\n",
      "Bin Covering 26 9 2 0\n",
      "Bin Covering 26 9 3 0\n",
      "Bin Covering 26 9 4 0\n",
      "Bin Covering 26 9 5 541\n",
      "Bin Covering 26 9 6 816\n",
      "Bin Covering 26 9 7 3365\n",
      "Bin Covering 26 9 8 3998\n",
      "Bin Covering 26 9 9 73458\n",
      "Bin Covering 27 0 0 9718\n",
      "Bin Covering 27 0 1 0\n",
      "Bin Covering 27 0 2 0\n",
      "Bin Covering 27 0 3 0\n",
      "Bin Covering 27 0 4 0\n",
      "Bin Covering 27 0 5 534\n",
      "Bin Covering 27 0 6 741\n",
      "Bin Covering 27 0 7 3011\n",
      "Bin Covering 27 0 8 3813\n",
      "Bin Covering 27 0 9 68106\n",
      "Bin Covering 27 1 0 0\n",
      "Bin Covering 27 1 1 0\n",
      "Bin Covering 27 1 2 0\n",
      "Bin Covering 27 1 3 0\n",
      "Bin Covering 27 1 4 0\n",
      "Bin Covering 27 1 5 0\n",
      "Bin Covering 27 1 6 0\n",
      "Bin Covering 27 1 7 0\n",
      "Bin Covering 27 1 8 0\n",
      "Bin Covering 27 1 9 0\n",
      "Bin Covering 27 2 0 0\n",
      "Bin Covering 27 2 1 0\n",
      "Bin Covering 27 2 2 0\n",
      "Bin Covering 27 2 3 0\n",
      "Bin Covering 27 2 4 0\n",
      "Bin Covering 27 2 5 0\n",
      "Bin Covering 27 2 6 0\n",
      "Bin Covering 27 2 7 0\n",
      "Bin Covering 27 2 8 0\n",
      "Bin Covering 27 2 9 0\n",
      "Bin Covering 27 3 0 0\n",
      "Bin Covering 27 3 1 0\n",
      "Bin Covering 27 3 2 0\n",
      "Bin Covering 27 3 3 0\n",
      "Bin Covering 27 3 4 0\n",
      "Bin Covering 27 3 5 0\n",
      "Bin Covering 27 3 6 0\n",
      "Bin Covering 27 3 7 0\n",
      "Bin Covering 27 3 8 0\n",
      "Bin Covering 27 3 9 0\n",
      "Bin Covering 27 4 0 0\n",
      "Bin Covering 27 4 1 0\n",
      "Bin Covering 27 4 2 0\n",
      "Bin Covering 27 4 3 0\n",
      "Bin Covering 27 4 4 0\n",
      "Bin Covering 27 4 5 0\n",
      "Bin Covering 27 4 6 0\n",
      "Bin Covering 27 4 7 0\n",
      "Bin Covering 27 4 8 0\n",
      "Bin Covering 27 4 9 0\n",
      "Bin Covering 27 5 0 914\n",
      "Bin Covering 27 5 1 0\n",
      "Bin Covering 27 5 2 0\n",
      "Bin Covering 27 5 3 0\n",
      "Bin Covering 27 5 4 0\n",
      "Bin Covering 27 5 5 49\n",
      "Bin Covering 27 5 6 90\n",
      "Bin Covering 27 5 7 423\n",
      "Bin Covering 27 5 8 499\n",
      "Bin Covering 27 5 9 6699\n",
      "Bin Covering 27 6 0 0\n",
      "Bin Covering 27 6 1 0\n",
      "Bin Covering 27 6 2 0\n",
      "Bin Covering 27 6 3 0\n",
      "Bin Covering 27 6 4 0\n",
      "Bin Covering 27 6 5 0\n",
      "Bin Covering 27 6 6 0\n",
      "Bin Covering 27 6 7 0\n",
      "Bin Covering 27 6 8 0\n",
      "Bin Covering 27 6 9 0\n",
      "Bin Covering 27 7 0 209\n",
      "Bin Covering 27 7 1 0\n",
      "Bin Covering 27 7 2 0\n",
      "Bin Covering 27 7 3 0\n",
      "Bin Covering 27 7 4 0\n",
      "Bin Covering 27 7 5 19\n",
      "Bin Covering 27 7 6 22\n",
      "Bin Covering 27 7 7 110\n",
      "Bin Covering 27 7 8 103\n",
      "Bin Covering 27 7 9 1246\n",
      "Bin Covering 27 8 0 30\n",
      "Bin Covering 27 8 1 0\n",
      "Bin Covering 27 8 2 0\n",
      "Bin Covering 27 8 3 0\n",
      "Bin Covering 27 8 4 0\n",
      "Bin Covering 27 8 5 0\n",
      "Bin Covering 27 8 6 2\n",
      "Bin Covering 27 8 7 19\n",
      "Bin Covering 27 8 8 14\n",
      "Bin Covering 27 8 9 140\n",
      "Bin Covering 27 9 0 2\n",
      "Bin Covering 27 9 1 0\n",
      "Bin Covering 27 9 2 0\n",
      "Bin Covering 27 9 3 0\n",
      "Bin Covering 27 9 4 0\n",
      "Bin Covering 27 9 5 0\n",
      "Bin Covering 27 9 6 1\n",
      "Bin Covering 27 9 7 2\n",
      "Bin Covering 27 9 8 3\n",
      "Bin Covering 27 9 9 13\n"
     ]
    }
   ],
   "source": [
    "pair_to_len_index = []\n",
    "for i in range(len(feature_pairs)):\n",
    "    values = dict_key_pairs[f\"pos_key_feature_pair_{i}\"]\n",
    "    for m in range(10):\n",
    "        for n in range(10):\n",
    "            print(\"Bin Covering\", i, m, n, len(values[m][n]))\n",
    "            pair_to_len_index.append([feature_pairs[i], m, n, len(values[m][n])])"
   ]
  },
  {
   "cell_type": "code",
   "execution_count": 37,
   "id": "2c36c3dc",
   "metadata": {},
   "outputs": [],
   "source": [
    "import pickle\n",
    "# Saving the number of cells present in each bin.\n",
    "pickle.dump(pair_to_len_index, open('pair_to_len.pkl', 'wb'))"
   ]
  },
  {
   "cell_type": "code",
   "execution_count": 18,
   "id": "bec34a5b",
   "metadata": {},
   "outputs": [],
   "source": [
    "import pickle"
   ]
  },
  {
   "cell_type": "code",
   "execution_count": 41,
   "id": "91bc2f6a",
   "metadata": {},
   "outputs": [],
   "source": [
    "# Loading any positive pairs already present\n",
    "positive_pairs = pickle.load(open('positive_pairs_t.pkl', 'rb'))\n",
    "negative_pairs = pickle.load(open('negative_pairs_t.pkl', 'rb'))\n",
    "number_of_negatives = pickle.load(open('n_negatives_t.pkl', 'rb'))"
   ]
  },
  {
   "cell_type": "code",
   "execution_count": 24,
   "id": "993b8d3c",
   "metadata": {},
   "outputs": [],
   "source": [
    "import random\n",
    "import time"
   ]
  },
  {
   "cell_type": "code",
   "execution_count": 24,
   "id": "cfc649c6",
   "metadata": {},
   "outputs": [],
   "source": [
    "file_path = 'SemTabRound4_T2DV2_train/dev-output/v40_test/features/'\n",
    "file_path_2 = 'SemTabRound4_T2DV2_train/train1-output/v26/features/'"
   ]
  },
  {
   "cell_type": "code",
   "execution_count": 25,
   "id": "ca23f47a",
   "metadata": {},
   "outputs": [],
   "source": [
    "import time"
   ]
  },
  {
   "cell_type": "code",
   "execution_count": 26,
   "id": "91558225",
   "metadata": {},
   "outputs": [
    {
     "name": "stdout",
     "output_type": "stream",
     "text": [
      "Bin Covering 0 0 0\n",
      "89\n",
      "15\n",
      "Bin Covering 0 0 1\n",
      "Bin Covering 0 0 2\n",
      "Bin Covering 0 0 3\n",
      "Bin Covering 0 0 4\n",
      "69\n",
      "15\n",
      "Bin Covering 0 0 5\n",
      "166\n",
      "15\n",
      "Bin Covering 0 0 6\n",
      "Bin Covering 0 0 7\n",
      "132\n"
     ]
    },
    {
     "name": "stderr",
     "output_type": "stream",
     "text": [
      "/nas/home/hrathod/anaconda3/lib/python3.8/site-packages/IPython/core/interactiveshell.py:3146: DtypeWarning: Columns (42,47) have mixed types.Specify dtype option on import or set low_memory=False.\n",
      "  has_raised = await self.run_ast_nodes(code_ast.body, cell_name,\n"
     ]
    },
    {
     "name": "stdout",
     "output_type": "stream",
     "text": [
      "15\n",
      "Bin Covering 0 0 8\n",
      "39\n"
     ]
    },
    {
     "name": "stderr",
     "output_type": "stream",
     "text": [
      "/nas/home/hrathod/anaconda3/lib/python3.8/site-packages/IPython/core/interactiveshell.py:3146: DtypeWarning: Columns (47) have mixed types.Specify dtype option on import or set low_memory=False.\n",
      "  has_raised = await self.run_ast_nodes(code_ast.body, cell_name,\n"
     ]
    },
    {
     "name": "stdout",
     "output_type": "stream",
     "text": [
      "15\n",
      "Bin Covering 0 0 9\n",
      "7\n",
      "7\n",
      "Bin Covering 0 1 0\n",
      "Bin Covering 0 1 1\n",
      "Bin Covering 0 1 2\n",
      "Bin Covering 0 1 3\n",
      "Bin Covering 0 1 4\n",
      "Bin Covering 0 1 5\n",
      "Bin Covering 0 1 6\n",
      "Bin Covering 0 1 7\n",
      "Bin Covering 0 1 8\n",
      "Bin Covering 0 1 9\n",
      "Bin Covering 0 2 0\n",
      "Bin Covering 0 2 1\n",
      "Bin Covering 0 2 2\n",
      "Bin Covering 0 2 3\n",
      "Bin Covering 0 2 4\n",
      "Bin Covering 0 2 5\n",
      "Bin Covering 0 2 6\n",
      "Bin Covering 0 2 7\n",
      "Bin Covering 0 2 8\n",
      "Bin Covering 0 2 9\n",
      "Bin Covering 0 3 0\n",
      "Bin Covering 0 3 1\n",
      "Bin Covering 0 3 2\n",
      "Bin Covering 0 3 3\n",
      "Bin Covering 0 3 4\n",
      "Bin Covering 0 3 5\n",
      "Bin Covering 0 3 6\n",
      "Bin Covering 0 3 7\n",
      "Bin Covering 0 3 8\n",
      "Bin Covering 0 3 9\n",
      "Bin Covering 0 4 0\n",
      "Bin Covering 0 4 1\n",
      "Bin Covering 0 4 2\n",
      "Bin Covering 0 4 3\n",
      "Bin Covering 0 4 4\n",
      "Bin Covering 0 4 5\n",
      "Bin Covering 0 4 6\n",
      "Bin Covering 0 4 7\n",
      "Bin Covering 0 4 8\n",
      "Bin Covering 0 4 9\n",
      "Bin Covering 0 5 0\n",
      "12\n",
      "12\n",
      "Bin Covering 0 5 1\n",
      "Bin Covering 0 5 2\n",
      "Bin Covering 0 5 3\n",
      "Bin Covering 0 5 4\n",
      "2\n",
      "2\n",
      "Bin Covering 0 5 5\n",
      "37\n",
      "15\n",
      "Bin Covering 0 5 6\n",
      "Bin Covering 0 5 7\n",
      "11\n",
      "11\n",
      "Bin Covering 0 5 8\n",
      "1\n",
      "1\n",
      "Bin Covering 0 5 9\n",
      "Bin Covering 0 6 0\n",
      "12\n",
      "12\n",
      "Bin Covering 0 6 1\n",
      "Bin Covering 0 6 2\n",
      "Bin Covering 0 6 3\n",
      "Bin Covering 0 6 4\n",
      "2\n"
     ]
    },
    {
     "name": "stderr",
     "output_type": "stream",
     "text": [
      "/nas/home/hrathod/anaconda3/lib/python3.8/site-packages/IPython/core/interactiveshell.py:3146: DtypeWarning: Columns (47) have mixed types.Specify dtype option on import or set low_memory=False.\n",
      "  has_raised = await self.run_ast_nodes(code_ast.body, cell_name,\n"
     ]
    },
    {
     "name": "stdout",
     "output_type": "stream",
     "text": [
      "2\n",
      "Bin Covering 0 6 5\n",
      "17\n"
     ]
    },
    {
     "name": "stderr",
     "output_type": "stream",
     "text": [
      "/nas/home/hrathod/anaconda3/lib/python3.8/site-packages/IPython/core/interactiveshell.py:3146: DtypeWarning: Columns (47) have mixed types.Specify dtype option on import or set low_memory=False.\n",
      "  has_raised = await self.run_ast_nodes(code_ast.body, cell_name,\n"
     ]
    },
    {
     "name": "stdout",
     "output_type": "stream",
     "text": [
      "15\n",
      "Bin Covering 0 6 6\n",
      "Bin Covering 0 6 7\n",
      "15\n",
      "15\n",
      "Bin Covering 0 6 8\n",
      "3\n",
      "3\n",
      "Bin Covering 0 6 9\n",
      "1\n",
      "1\n",
      "Bin Covering 0 7 0\n",
      "69\n"
     ]
    },
    {
     "name": "stderr",
     "output_type": "stream",
     "text": [
      "/nas/home/hrathod/anaconda3/lib/python3.8/site-packages/IPython/core/interactiveshell.py:3146: DtypeWarning: Columns (42,47) have mixed types.Specify dtype option on import or set low_memory=False.\n",
      "  has_raised = await self.run_ast_nodes(code_ast.body, cell_name,\n"
     ]
    },
    {
     "name": "stdout",
     "output_type": "stream",
     "text": [
      "15\n",
      "Bin Covering 0 7 1\n",
      "Bin Covering 0 7 2\n",
      "Bin Covering 0 7 3\n",
      "Bin Covering 0 7 4\n",
      "7\n",
      "7\n",
      "Bin Covering 0 7 5\n",
      "255\n"
     ]
    },
    {
     "name": "stderr",
     "output_type": "stream",
     "text": [
      "/nas/home/hrathod/anaconda3/lib/python3.8/site-packages/IPython/core/interactiveshell.py:3146: DtypeWarning: Columns (42,47) have mixed types.Specify dtype option on import or set low_memory=False.\n",
      "  has_raised = await self.run_ast_nodes(code_ast.body, cell_name,\n"
     ]
    },
    {
     "name": "stdout",
     "output_type": "stream",
     "text": [
      "15\n",
      "Bin Covering 0 7 6\n",
      "Bin Covering 0 7 7\n",
      "116\n",
      "15\n",
      "Bin Covering 0 7 8\n",
      "21\n",
      "15\n",
      "Bin Covering 0 7 9\n",
      "3\n",
      "3\n",
      "Bin Covering 0 8 0\n",
      "197\n",
      "15\n",
      "Bin Covering 0 8 1\n",
      "Bin Covering 0 8 2\n",
      "Bin Covering 0 8 3\n",
      "Bin Covering 0 8 4\n",
      "5\n",
      "5\n",
      "Bin Covering 0 8 5\n",
      "471\n"
     ]
    },
    {
     "name": "stderr",
     "output_type": "stream",
     "text": [
      "/nas/home/hrathod/anaconda3/lib/python3.8/site-packages/IPython/core/interactiveshell.py:3146: DtypeWarning: Columns (47) have mixed types.Specify dtype option on import or set low_memory=False.\n",
      "  has_raised = await self.run_ast_nodes(code_ast.body, cell_name,\n"
     ]
    },
    {
     "name": "stdout",
     "output_type": "stream",
     "text": [
      "15\n",
      "Bin Covering 0 8 6\n",
      "Bin Covering 0 8 7\n",
      "366\n",
      "15\n",
      "Bin Covering 0 8 8\n",
      "59\n"
     ]
    },
    {
     "name": "stderr",
     "output_type": "stream",
     "text": [
      "/nas/home/hrathod/anaconda3/lib/python3.8/site-packages/IPython/core/interactiveshell.py:3146: DtypeWarning: Columns (42,43,44,49) have mixed types.Specify dtype option on import or set low_memory=False.\n",
      "  has_raised = await self.run_ast_nodes(code_ast.body, cell_name,\n"
     ]
    },
    {
     "name": "stdout",
     "output_type": "stream",
     "text": [
      "15\n",
      "Bin Covering 0 8 9\n",
      "21\n",
      "15\n",
      "Bin Covering 0 9 0\n",
      "6889\n",
      "15\n",
      "Bin Covering 0 9 1\n",
      "Bin Covering 0 9 2\n",
      "Bin Covering 0 9 3\n",
      "Bin Covering 0 9 4\n",
      "504\n"
     ]
    },
    {
     "name": "stderr",
     "output_type": "stream",
     "text": [
      "/nas/home/hrathod/anaconda3/lib/python3.8/site-packages/IPython/core/interactiveshell.py:3146: DtypeWarning: Columns (40,41,42,47) have mixed types.Specify dtype option on import or set low_memory=False.\n",
      "  has_raised = await self.run_ast_nodes(code_ast.body, cell_name,\n",
      "/nas/home/hrathod/anaconda3/lib/python3.8/site-packages/IPython/core/interactiveshell.py:3146: DtypeWarning: Columns (47) have mixed types.Specify dtype option on import or set low_memory=False.\n",
      "  has_raised = await self.run_ast_nodes(code_ast.body, cell_name,\n"
     ]
    },
    {
     "name": "stdout",
     "output_type": "stream",
     "text": [
      "15\n",
      "Bin Covering 0 9 5\n",
      "47387\n"
     ]
    },
    {
     "name": "stderr",
     "output_type": "stream",
     "text": [
      "/nas/home/hrathod/anaconda3/lib/python3.8/site-packages/IPython/core/interactiveshell.py:3146: DtypeWarning: Columns (47) have mixed types.Specify dtype option on import or set low_memory=False.\n",
      "  has_raised = await self.run_ast_nodes(code_ast.body, cell_name,\n"
     ]
    },
    {
     "name": "stdout",
     "output_type": "stream",
     "text": [
      "15\n",
      "Bin Covering 0 9 6\n",
      "Bin Covering 0 9 7\n",
      "29641\n",
      "15\n",
      "Bin Covering 0 9 8\n",
      "7748\n",
      "15\n",
      "Bin Covering 0 9 9\n",
      "2158\n",
      "15\n",
      "Bin Covering 1 0 0\n",
      "1\n",
      "1\n",
      "Bin Covering 1 0 1\n",
      "4\n",
      "4\n",
      "Bin Covering 1 0 2\n",
      "15\n",
      "15\n",
      "Bin Covering 1 0 3\n",
      "28\n",
      "15\n",
      "Bin Covering 1 0 4\n",
      "31\n",
      "15\n",
      "Bin Covering 1 0 5\n",
      "24\n"
     ]
    },
    {
     "name": "stderr",
     "output_type": "stream",
     "text": [
      "/nas/home/hrathod/anaconda3/lib/python3.8/site-packages/IPython/core/interactiveshell.py:3146: DtypeWarning: Columns (42,47) have mixed types.Specify dtype option on import or set low_memory=False.\n",
      "  has_raised = await self.run_ast_nodes(code_ast.body, cell_name,\n"
     ]
    },
    {
     "name": "stdout",
     "output_type": "stream",
     "text": [
      "15\n",
      "Bin Covering 1 0 6\n",
      "32\n",
      "15\n",
      "Bin Covering 1 0 7\n",
      "35\n",
      "15\n",
      "Bin Covering 1 0 8\n",
      "82\n",
      "15\n",
      "Bin Covering 1 0 9\n",
      "250\n",
      "15\n",
      "Bin Covering 1 1 0\n",
      "Bin Covering 1 1 1\n",
      "Bin Covering 1 1 2\n",
      "Bin Covering 1 1 3\n",
      "Bin Covering 1 1 4\n",
      "Bin Covering 1 1 5\n",
      "Bin Covering 1 1 6\n",
      "Bin Covering 1 1 7\n",
      "Bin Covering 1 1 8\n",
      "Bin Covering 1 1 9\n",
      "Bin Covering 1 2 0\n",
      "Bin Covering 1 2 1\n",
      "Bin Covering 1 2 2\n",
      "Bin Covering 1 2 3\n",
      "Bin Covering 1 2 4\n",
      "Bin Covering 1 2 5\n",
      "Bin Covering 1 2 6\n",
      "Bin Covering 1 2 7\n",
      "Bin Covering 1 2 8\n",
      "Bin Covering 1 2 9\n",
      "Bin Covering 1 3 0\n",
      "Bin Covering 1 3 1\n",
      "Bin Covering 1 3 2\n",
      "Bin Covering 1 3 3\n",
      "Bin Covering 1 3 4\n",
      "Bin Covering 1 3 5\n",
      "Bin Covering 1 3 6\n",
      "Bin Covering 1 3 7\n",
      "Bin Covering 1 3 8\n",
      "Bin Covering 1 3 9\n",
      "Bin Covering 1 4 0\n",
      "Bin Covering 1 4 1\n",
      "Bin Covering 1 4 2\n",
      "Bin Covering 1 4 3\n",
      "Bin Covering 1 4 4\n",
      "Bin Covering 1 4 5\n",
      "Bin Covering 1 4 6\n",
      "Bin Covering 1 4 7\n",
      "Bin Covering 1 4 8\n",
      "Bin Covering 1 4 9\n",
      "Bin Covering 1 5 0\n",
      "3\n",
      "3\n",
      "Bin Covering 1 5 1\n",
      "4\n",
      "4\n",
      "Bin Covering 1 5 2\n",
      "4\n",
      "4\n",
      "Bin Covering 1 5 3\n",
      "14\n",
      "14\n",
      "Bin Covering 1 5 4\n",
      "4\n",
      "4\n",
      "Bin Covering 1 5 5\n",
      "3\n",
      "3\n",
      "Bin Covering 1 5 6\n",
      "1\n",
      "1\n",
      "Bin Covering 1 5 7\n",
      "5\n",
      "5\n",
      "Bin Covering 1 5 8\n",
      "3\n",
      "3\n",
      "Bin Covering 1 5 9\n",
      "22\n",
      "15\n",
      "Bin Covering 1 6 0\n",
      "4\n",
      "4\n",
      "Bin Covering 1 6 1\n",
      "1\n",
      "1\n",
      "Bin Covering 1 6 2\n",
      "1\n"
     ]
    },
    {
     "name": "stderr",
     "output_type": "stream",
     "text": [
      "/nas/home/hrathod/anaconda3/lib/python3.8/site-packages/IPython/core/interactiveshell.py:3146: DtypeWarning: Columns (47) have mixed types.Specify dtype option on import or set low_memory=False.\n",
      "  has_raised = await self.run_ast_nodes(code_ast.body, cell_name,\n"
     ]
    },
    {
     "name": "stdout",
     "output_type": "stream",
     "text": [
      "1\n",
      "Bin Covering 1 6 3\n",
      "1\n",
      "1\n",
      "Bin Covering 1 6 4\n",
      "1\n",
      "1\n",
      "Bin Covering 1 6 5\n",
      "10\n"
     ]
    },
    {
     "name": "stderr",
     "output_type": "stream",
     "text": [
      "/nas/home/hrathod/anaconda3/lib/python3.8/site-packages/IPython/core/interactiveshell.py:3146: DtypeWarning: Columns (47) have mixed types.Specify dtype option on import or set low_memory=False.\n",
      "  has_raised = await self.run_ast_nodes(code_ast.body, cell_name,\n"
     ]
    },
    {
     "name": "stdout",
     "output_type": "stream",
     "text": [
      "10\n",
      "Bin Covering 1 6 6\n",
      "4\n",
      "4\n",
      "Bin Covering 1 6 7\n",
      "2\n",
      "2\n",
      "Bin Covering 1 6 8\n",
      "3\n",
      "3\n",
      "Bin Covering 1 6 9\n",
      "23\n",
      "15\n",
      "Bin Covering 1 7 0\n",
      "12\n"
     ]
    },
    {
     "name": "stderr",
     "output_type": "stream",
     "text": [
      "/nas/home/hrathod/anaconda3/lib/python3.8/site-packages/IPython/core/interactiveshell.py:3146: DtypeWarning: Columns (42,47) have mixed types.Specify dtype option on import or set low_memory=False.\n",
      "  has_raised = await self.run_ast_nodes(code_ast.body, cell_name,\n"
     ]
    },
    {
     "name": "stdout",
     "output_type": "stream",
     "text": [
      "12\n",
      "Bin Covering 1 7 1\n",
      "8\n",
      "8\n",
      "Bin Covering 1 7 2\n",
      "8\n",
      "8\n",
      "Bin Covering 1 7 3\n",
      "26\n",
      "15\n",
      "Bin Covering 1 7 4\n",
      "9\n",
      "9\n",
      "Bin Covering 1 7 5\n",
      "31\n",
      "15\n",
      "Bin Covering 1 7 6\n",
      "35\n",
      "15\n",
      "Bin Covering 1 7 7\n",
      "52\n"
     ]
    },
    {
     "name": "stderr",
     "output_type": "stream",
     "text": [
      "/nas/home/hrathod/anaconda3/lib/python3.8/site-packages/IPython/core/interactiveshell.py:3146: DtypeWarning: Columns (42,47) have mixed types.Specify dtype option on import or set low_memory=False.\n",
      "  has_raised = await self.run_ast_nodes(code_ast.body, cell_name,\n"
     ]
    },
    {
     "name": "stdout",
     "output_type": "stream",
     "text": [
      "15\n",
      "Bin Covering 1 7 8\n",
      "22\n",
      "15\n",
      "Bin Covering 1 7 9\n",
      "268\n",
      "15\n",
      "Bin Covering 1 8 0\n",
      "16\n"
     ]
    },
    {
     "name": "stderr",
     "output_type": "stream",
     "text": [
      "/nas/home/hrathod/anaconda3/lib/python3.8/site-packages/IPython/core/interactiveshell.py:3146: DtypeWarning: Columns (40,41,42,47) have mixed types.Specify dtype option on import or set low_memory=False.\n",
      "  has_raised = await self.run_ast_nodes(code_ast.body, cell_name,\n",
      "/nas/home/hrathod/anaconda3/lib/python3.8/site-packages/IPython/core/interactiveshell.py:3146: DtypeWarning: Columns (40,41,42,47) have mixed types.Specify dtype option on import or set low_memory=False.\n",
      "  has_raised = await self.run_ast_nodes(code_ast.body, cell_name,\n"
     ]
    },
    {
     "name": "stdout",
     "output_type": "stream",
     "text": [
      "15\n",
      "Bin Covering 1 8 1\n",
      "25\n",
      "15\n",
      "Bin Covering 1 8 2\n",
      "18\n",
      "15\n",
      "Bin Covering 1 8 3\n",
      "66\n",
      "15\n",
      "Bin Covering 1 8 4\n",
      "34\n",
      "15\n",
      "Bin Covering 1 8 5\n",
      "49\n"
     ]
    },
    {
     "name": "stderr",
     "output_type": "stream",
     "text": [
      "/nas/home/hrathod/anaconda3/lib/python3.8/site-packages/IPython/core/interactiveshell.py:3146: DtypeWarning: Columns (47) have mixed types.Specify dtype option on import or set low_memory=False.\n",
      "  has_raised = await self.run_ast_nodes(code_ast.body, cell_name,\n"
     ]
    },
    {
     "name": "stdout",
     "output_type": "stream",
     "text": [
      "15\n",
      "Bin Covering 1 8 6\n",
      "78\n",
      "15\n",
      "Bin Covering 1 8 7\n",
      "66\n"
     ]
    },
    {
     "name": "stderr",
     "output_type": "stream",
     "text": [
      "/nas/home/hrathod/anaconda3/lib/python3.8/site-packages/IPython/core/interactiveshell.py:3146: DtypeWarning: Columns (47) have mixed types.Specify dtype option on import or set low_memory=False.\n",
      "  has_raised = await self.run_ast_nodes(code_ast.body, cell_name,\n"
     ]
    },
    {
     "name": "stdout",
     "output_type": "stream",
     "text": [
      "15\n",
      "Bin Covering 1 8 8\n",
      "112\n",
      "15\n",
      "Bin Covering 1 8 9\n",
      "655\n",
      "15\n",
      "Bin Covering 1 9 0\n",
      "1554\n",
      "15\n",
      "Bin Covering 1 9 1\n",
      "1869\n",
      "15\n",
      "Bin Covering 1 9 2\n",
      "2453\n"
     ]
    },
    {
     "name": "stderr",
     "output_type": "stream",
     "text": [
      "/nas/home/hrathod/anaconda3/lib/python3.8/site-packages/IPython/core/interactiveshell.py:3146: DtypeWarning: Columns (42,47) have mixed types.Specify dtype option on import or set low_memory=False.\n",
      "  has_raised = await self.run_ast_nodes(code_ast.body, cell_name,\n"
     ]
    },
    {
     "name": "stdout",
     "output_type": "stream",
     "text": [
      "15\n",
      "Bin Covering 1 9 3\n",
      "3322\n"
     ]
    },
    {
     "name": "stderr",
     "output_type": "stream",
     "text": [
      "/nas/home/hrathod/anaconda3/lib/python3.8/site-packages/IPython/core/interactiveshell.py:3146: DtypeWarning: Columns (42,47) have mixed types.Specify dtype option on import or set low_memory=False.\n",
      "  has_raised = await self.run_ast_nodes(code_ast.body, cell_name,\n"
     ]
    },
    {
     "name": "stdout",
     "output_type": "stream",
     "text": [
      "15\n",
      "Bin Covering 1 9 4\n",
      "3858\n"
     ]
    },
    {
     "name": "stderr",
     "output_type": "stream",
     "text": [
      "/nas/home/hrathod/anaconda3/lib/python3.8/site-packages/IPython/core/interactiveshell.py:3146: DtypeWarning: Columns (42,47) have mixed types.Specify dtype option on import or set low_memory=False.\n",
      "  has_raised = await self.run_ast_nodes(code_ast.body, cell_name,\n",
      "/nas/home/hrathod/anaconda3/lib/python3.8/site-packages/IPython/core/interactiveshell.py:3146: DtypeWarning: Columns (42,47) have mixed types.Specify dtype option on import or set low_memory=False.\n",
      "  has_raised = await self.run_ast_nodes(code_ast.body, cell_name,\n"
     ]
    },
    {
     "name": "stdout",
     "output_type": "stream",
     "text": [
      "15\n",
      "Bin Covering 1 9 5\n",
      "4931\n"
     ]
    },
    {
     "name": "stderr",
     "output_type": "stream",
     "text": [
      "/nas/home/hrathod/anaconda3/lib/python3.8/site-packages/IPython/core/interactiveshell.py:3146: DtypeWarning: Columns (47) have mixed types.Specify dtype option on import or set low_memory=False.\n",
      "  has_raised = await self.run_ast_nodes(code_ast.body, cell_name,\n"
     ]
    },
    {
     "name": "stdout",
     "output_type": "stream",
     "text": [
      "15\n",
      "Bin Covering 1 9 6\n",
      "5765\n",
      "15\n",
      "Bin Covering 1 9 7\n",
      "7562\n",
      "15\n",
      "Bin Covering 1 9 8\n",
      "10246\n",
      "15\n",
      "Bin Covering 1 9 9\n",
      "52767\n",
      "15\n",
      "Bin Covering 2 0 0\n",
      "1\n",
      "1\n",
      "Bin Covering 2 0 1\n",
      "17\n",
      "15\n",
      "Bin Covering 2 0 2\n",
      "38\n",
      "15\n",
      "Bin Covering 2 0 3\n",
      "66\n",
      "15\n",
      "Bin Covering 2 0 4\n",
      "34\n",
      "15\n",
      "Bin Covering 2 0 5\n",
      "41\n",
      "15\n",
      "Bin Covering 2 0 6\n",
      "58\n",
      "15\n",
      "Bin Covering 2 0 7\n",
      "55\n",
      "15\n",
      "Bin Covering 2 0 8\n",
      "61\n",
      "15\n",
      "Bin Covering 2 0 9\n",
      "131\n",
      "15\n",
      "Bin Covering 2 1 0\n",
      "Bin Covering 2 1 1\n",
      "Bin Covering 2 1 2\n",
      "Bin Covering 2 1 3\n",
      "Bin Covering 2 1 4\n",
      "Bin Covering 2 1 5\n",
      "Bin Covering 2 1 6\n",
      "Bin Covering 2 1 7\n",
      "Bin Covering 2 1 8\n",
      "Bin Covering 2 1 9\n",
      "Bin Covering 2 2 0\n",
      "Bin Covering 2 2 1\n",
      "Bin Covering 2 2 2\n",
      "Bin Covering 2 2 3\n",
      "Bin Covering 2 2 4\n",
      "Bin Covering 2 2 5\n",
      "Bin Covering 2 2 6\n",
      "Bin Covering 2 2 7\n",
      "Bin Covering 2 2 8\n",
      "Bin Covering 2 2 9\n",
      "Bin Covering 2 3 0\n",
      "Bin Covering 2 3 1\n",
      "Bin Covering 2 3 2\n",
      "Bin Covering 2 3 3\n",
      "Bin Covering 2 3 4\n",
      "Bin Covering 2 3 5\n",
      "Bin Covering 2 3 6\n",
      "Bin Covering 2 3 7\n",
      "Bin Covering 2 3 8\n",
      "Bin Covering 2 3 9\n",
      "Bin Covering 2 4 0\n",
      "Bin Covering 2 4 1\n",
      "Bin Covering 2 4 2\n",
      "Bin Covering 2 4 3\n",
      "Bin Covering 2 4 4\n",
      "Bin Covering 2 4 5\n",
      "Bin Covering 2 4 6\n",
      "Bin Covering 2 4 7\n",
      "Bin Covering 2 4 8\n",
      "Bin Covering 2 4 9\n",
      "Bin Covering 2 5 0\n",
      "1\n",
      "1\n",
      "Bin Covering 2 5 1\n",
      "3\n",
      "3\n",
      "Bin Covering 2 5 2\n",
      "1\n",
      "1\n",
      "Bin Covering 2 5 3\n",
      "5\n",
      "5\n",
      "Bin Covering 2 5 4\n",
      "1\n",
      "1\n",
      "Bin Covering 2 5 5\n",
      "8\n",
      "8\n",
      "Bin Covering 2 5 6\n",
      "6\n",
      "6\n",
      "Bin Covering 2 5 7\n",
      "8\n",
      "8\n",
      "Bin Covering 2 5 8\n",
      "24\n",
      "15\n",
      "Bin Covering 2 5 9\n",
      "6\n",
      "6\n",
      "Bin Covering 2 6 0\n",
      "Bin Covering 2 6 1\n",
      "1\n",
      "1\n",
      "Bin Covering 2 6 2\n",
      "1\n",
      "1\n",
      "Bin Covering 2 6 3\n",
      "5\n"
     ]
    },
    {
     "name": "stderr",
     "output_type": "stream",
     "text": [
      "/nas/home/hrathod/anaconda3/lib/python3.8/site-packages/IPython/core/interactiveshell.py:3146: DtypeWarning: Columns (47) have mixed types.Specify dtype option on import or set low_memory=False.\n",
      "  has_raised = await self.run_ast_nodes(code_ast.body, cell_name,\n"
     ]
    },
    {
     "name": "stdout",
     "output_type": "stream",
     "text": [
      "5\n",
      "Bin Covering 2 6 4\n",
      "11\n"
     ]
    },
    {
     "name": "stderr",
     "output_type": "stream",
     "text": [
      "/nas/home/hrathod/anaconda3/lib/python3.8/site-packages/IPython/core/interactiveshell.py:3146: DtypeWarning: Columns (47) have mixed types.Specify dtype option on import or set low_memory=False.\n",
      "  has_raised = await self.run_ast_nodes(code_ast.body, cell_name,\n"
     ]
    },
    {
     "name": "stdout",
     "output_type": "stream",
     "text": [
      "11\n",
      "Bin Covering 2 6 5\n",
      "7\n",
      "7\n",
      "Bin Covering 2 6 6\n",
      "4\n",
      "4\n",
      "Bin Covering 2 6 7\n",
      "8\n",
      "8\n",
      "Bin Covering 2 6 8\n",
      "7\n",
      "7\n",
      "Bin Covering 2 6 9\n",
      "6\n",
      "6\n",
      "Bin Covering 2 7 0\n",
      "6\n",
      "6\n",
      "Bin Covering 2 7 1\n",
      "8\n",
      "8\n",
      "Bin Covering 2 7 2\n",
      "29\n"
     ]
    },
    {
     "name": "stderr",
     "output_type": "stream",
     "text": [
      "/nas/home/hrathod/anaconda3/lib/python3.8/site-packages/IPython/core/interactiveshell.py:3146: DtypeWarning: Columns (47) have mixed types.Specify dtype option on import or set low_memory=False.\n",
      "  has_raised = await self.run_ast_nodes(code_ast.body, cell_name,\n",
      "/nas/home/hrathod/anaconda3/lib/python3.8/site-packages/IPython/core/interactiveshell.py:3146: DtypeWarning: Columns (42,47) have mixed types.Specify dtype option on import or set low_memory=False.\n",
      "  has_raised = await self.run_ast_nodes(code_ast.body, cell_name,\n"
     ]
    },
    {
     "name": "stdout",
     "output_type": "stream",
     "text": [
      "15\n",
      "Bin Covering 2 7 3\n",
      "25\n"
     ]
    },
    {
     "name": "stderr",
     "output_type": "stream",
     "text": [
      "/nas/home/hrathod/anaconda3/lib/python3.8/site-packages/IPython/core/interactiveshell.py:3146: DtypeWarning: Columns (47) have mixed types.Specify dtype option on import or set low_memory=False.\n",
      "  has_raised = await self.run_ast_nodes(code_ast.body, cell_name,\n"
     ]
    },
    {
     "name": "stdout",
     "output_type": "stream",
     "text": [
      "15\n",
      "Bin Covering 2 7 4\n",
      "40\n",
      "15\n",
      "Bin Covering 2 7 5\n",
      "37\n",
      "15\n",
      "Bin Covering 2 7 6\n",
      "69\n",
      "15\n",
      "Bin Covering 2 7 7\n",
      "57\n",
      "15\n",
      "Bin Covering 2 7 8\n",
      "45\n",
      "15\n",
      "Bin Covering 2 7 9\n",
      "155\n",
      "15\n",
      "Bin Covering 2 8 0\n",
      "23\n",
      "15\n",
      "Bin Covering 2 8 1\n",
      "24\n",
      "15\n",
      "Bin Covering 2 8 2\n",
      "47\n"
     ]
    },
    {
     "name": "stderr",
     "output_type": "stream",
     "text": [
      "/nas/home/hrathod/anaconda3/lib/python3.8/site-packages/IPython/core/interactiveshell.py:3146: DtypeWarning: Columns (49) have mixed types.Specify dtype option on import or set low_memory=False.\n",
      "  has_raised = await self.run_ast_nodes(code_ast.body, cell_name,\n"
     ]
    },
    {
     "name": "stdout",
     "output_type": "stream",
     "text": [
      "15\n",
      "Bin Covering 2 8 3\n",
      "59\n",
      "15\n",
      "Bin Covering 2 8 4\n",
      "74\n",
      "15\n",
      "Bin Covering 2 8 5\n",
      "110\n"
     ]
    },
    {
     "name": "stderr",
     "output_type": "stream",
     "text": [
      "/nas/home/hrathod/anaconda3/lib/python3.8/site-packages/IPython/core/interactiveshell.py:3146: DtypeWarning: Columns (42,47) have mixed types.Specify dtype option on import or set low_memory=False.\n",
      "  has_raised = await self.run_ast_nodes(code_ast.body, cell_name,\n"
     ]
    },
    {
     "name": "stdout",
     "output_type": "stream",
     "text": [
      "15\n",
      "Bin Covering 2 8 6\n",
      "163\n"
     ]
    },
    {
     "name": "stderr",
     "output_type": "stream",
     "text": [
      "/nas/home/hrathod/anaconda3/lib/python3.8/site-packages/IPython/core/interactiveshell.py:3146: DtypeWarning: Columns (47) have mixed types.Specify dtype option on import or set low_memory=False.\n",
      "  has_raised = await self.run_ast_nodes(code_ast.body, cell_name,\n"
     ]
    },
    {
     "name": "stdout",
     "output_type": "stream",
     "text": [
      "15\n",
      "Bin Covering 2 8 7\n",
      "146\n",
      "15\n",
      "Bin Covering 2 8 8\n",
      "188\n",
      "15\n",
      "Bin Covering 2 8 9\n",
      "285\n",
      "15\n",
      "Bin Covering 2 9 0\n",
      "1608\n",
      "15\n",
      "Bin Covering 2 9 1\n",
      "3194\n"
     ]
    },
    {
     "name": "stderr",
     "output_type": "stream",
     "text": [
      "/nas/home/hrathod/anaconda3/lib/python3.8/site-packages/IPython/core/interactiveshell.py:3146: DtypeWarning: Columns (49) have mixed types.Specify dtype option on import or set low_memory=False.\n",
      "  has_raised = await self.run_ast_nodes(code_ast.body, cell_name,\n",
      "/nas/home/hrathod/anaconda3/lib/python3.8/site-packages/IPython/core/interactiveshell.py:3146: DtypeWarning: Columns (47) have mixed types.Specify dtype option on import or set low_memory=False.\n",
      "  has_raised = await self.run_ast_nodes(code_ast.body, cell_name,\n",
      "/nas/home/hrathod/anaconda3/lib/python3.8/site-packages/IPython/core/interactiveshell.py:3146: DtypeWarning: Columns (47) have mixed types.Specify dtype option on import or set low_memory=False.\n",
      "  has_raised = await self.run_ast_nodes(code_ast.body, cell_name,\n"
     ]
    },
    {
     "name": "stdout",
     "output_type": "stream",
     "text": [
      "15\n",
      "Bin Covering 2 9 2\n",
      "4375\n"
     ]
    },
    {
     "name": "stderr",
     "output_type": "stream",
     "text": [
      "/nas/home/hrathod/anaconda3/lib/python3.8/site-packages/IPython/core/interactiveshell.py:3146: DtypeWarning: Columns (47) have mixed types.Specify dtype option on import or set low_memory=False.\n",
      "  has_raised = await self.run_ast_nodes(code_ast.body, cell_name,\n",
      "/nas/home/hrathod/anaconda3/lib/python3.8/site-packages/IPython/core/interactiveshell.py:3146: DtypeWarning: Columns (47) have mixed types.Specify dtype option on import or set low_memory=False.\n",
      "  has_raised = await self.run_ast_nodes(code_ast.body, cell_name,\n"
     ]
    },
    {
     "name": "stdout",
     "output_type": "stream",
     "text": [
      "15\n",
      "Bin Covering 2 9 3\n",
      "5622\n",
      "15\n",
      "Bin Covering 2 9 4\n",
      "6791\n"
     ]
    },
    {
     "name": "stderr",
     "output_type": "stream",
     "text": [
      "/nas/home/hrathod/anaconda3/lib/python3.8/site-packages/IPython/core/interactiveshell.py:3146: DtypeWarning: Columns (42,47) have mixed types.Specify dtype option on import or set low_memory=False.\n",
      "  has_raised = await self.run_ast_nodes(code_ast.body, cell_name,\n"
     ]
    },
    {
     "name": "stdout",
     "output_type": "stream",
     "text": [
      "15\n",
      "Bin Covering 2 9 5\n",
      "8132\n"
     ]
    },
    {
     "name": "stderr",
     "output_type": "stream",
     "text": [
      "/nas/home/hrathod/anaconda3/lib/python3.8/site-packages/IPython/core/interactiveshell.py:3146: DtypeWarning: Columns (27,28,29,34,36,40,41,42,47) have mixed types.Specify dtype option on import or set low_memory=False.\n",
      "  has_raised = await self.run_ast_nodes(code_ast.body, cell_name,\n"
     ]
    },
    {
     "name": "stdout",
     "output_type": "stream",
     "text": [
      "15\n",
      "Bin Covering 2 9 6\n",
      "9838\n"
     ]
    },
    {
     "name": "stderr",
     "output_type": "stream",
     "text": [
      "/nas/home/hrathod/anaconda3/lib/python3.8/site-packages/IPython/core/interactiveshell.py:3146: DtypeWarning: Columns (47) have mixed types.Specify dtype option on import or set low_memory=False.\n",
      "  has_raised = await self.run_ast_nodes(code_ast.body, cell_name,\n"
     ]
    },
    {
     "name": "stdout",
     "output_type": "stream",
     "text": [
      "15\n",
      "Bin Covering 2 9 7\n",
      "12831\n"
     ]
    },
    {
     "name": "stderr",
     "output_type": "stream",
     "text": [
      "/nas/home/hrathod/anaconda3/lib/python3.8/site-packages/IPython/core/interactiveshell.py:3146: DtypeWarning: Columns (47) have mixed types.Specify dtype option on import or set low_memory=False.\n",
      "  has_raised = await self.run_ast_nodes(code_ast.body, cell_name,\n"
     ]
    },
    {
     "name": "stdout",
     "output_type": "stream",
     "text": [
      "15\n",
      "Bin Covering 2 9 8\n",
      "16981\n",
      "15\n",
      "Bin Covering 2 9 9\n",
      "24955\n",
      "15\n",
      "Bin Covering 3 0 0\n",
      "Bin Covering 3 0 1\n",
      "Bin Covering 3 0 2\n",
      "Bin Covering 3 0 3\n",
      "Bin Covering 3 0 4\n",
      "6\n",
      "6\n",
      "Bin Covering 3 0 5\n",
      "12\n",
      "12\n",
      "Bin Covering 3 0 6\n",
      "61\n",
      "15\n",
      "Bin Covering 3 0 7\n",
      "176\n",
      "15\n",
      "Bin Covering 3 0 8\n",
      "188\n",
      "15\n",
      "Bin Covering 3 0 9\n",
      "59\n",
      "15\n",
      "Bin Covering 3 1 0\n",
      "Bin Covering 3 1 1\n",
      "Bin Covering 3 1 2\n",
      "Bin Covering 3 1 3\n",
      "Bin Covering 3 1 4\n",
      "Bin Covering 3 1 5\n",
      "Bin Covering 3 1 6\n",
      "Bin Covering 3 1 7\n",
      "Bin Covering 3 1 8\n",
      "Bin Covering 3 1 9\n",
      "Bin Covering 3 2 0\n",
      "Bin Covering 3 2 1\n",
      "Bin Covering 3 2 2\n",
      "Bin Covering 3 2 3\n",
      "Bin Covering 3 2 4\n",
      "Bin Covering 3 2 5\n",
      "Bin Covering 3 2 6\n",
      "Bin Covering 3 2 7\n",
      "Bin Covering 3 2 8\n",
      "Bin Covering 3 2 9\n",
      "Bin Covering 3 3 0\n",
      "Bin Covering 3 3 1\n",
      "Bin Covering 3 3 2\n",
      "Bin Covering 3 3 3\n",
      "Bin Covering 3 3 4\n",
      "Bin Covering 3 3 5\n",
      "Bin Covering 3 3 6\n",
      "Bin Covering 3 3 7\n",
      "Bin Covering 3 3 8\n",
      "Bin Covering 3 3 9\n",
      "Bin Covering 3 4 0\n",
      "Bin Covering 3 4 1\n",
      "Bin Covering 3 4 2\n",
      "Bin Covering 3 4 3\n",
      "Bin Covering 3 4 4\n",
      "Bin Covering 3 4 5\n",
      "Bin Covering 3 4 6\n",
      "Bin Covering 3 4 7\n",
      "Bin Covering 3 4 8\n",
      "Bin Covering 3 4 9\n",
      "Bin Covering 3 5 0\n",
      "1\n",
      "1\n",
      "Bin Covering 3 5 1\n",
      "Bin Covering 3 5 2\n",
      "Bin Covering 3 5 3\n",
      "Bin Covering 3 5 4\n",
      "Bin Covering 3 5 5\n",
      "8\n",
      "8\n",
      "Bin Covering 3 5 6\n",
      "14\n",
      "14\n",
      "Bin Covering 3 5 7\n",
      "16\n",
      "15\n",
      "Bin Covering 3 5 8\n",
      "22\n",
      "15\n",
      "Bin Covering 3 5 9\n",
      "2\n",
      "2\n",
      "Bin Covering 3 6 0\n",
      "Bin Covering 3 6 1\n",
      "Bin Covering 3 6 2\n",
      "Bin Covering 3 6 3\n",
      "Bin Covering 3 6 4\n",
      "Bin Covering 3 6 5\n",
      "2\n"
     ]
    },
    {
     "name": "stderr",
     "output_type": "stream",
     "text": [
      "/nas/home/hrathod/anaconda3/lib/python3.8/site-packages/IPython/core/interactiveshell.py:3146: DtypeWarning: Columns (47) have mixed types.Specify dtype option on import or set low_memory=False.\n",
      "  has_raised = await self.run_ast_nodes(code_ast.body, cell_name,\n"
     ]
    },
    {
     "name": "stdout",
     "output_type": "stream",
     "text": [
      "2\n",
      "Bin Covering 3 6 6\n",
      "7\n"
     ]
    },
    {
     "name": "stderr",
     "output_type": "stream",
     "text": [
      "/nas/home/hrathod/anaconda3/lib/python3.8/site-packages/IPython/core/interactiveshell.py:3146: DtypeWarning: Columns (47) have mixed types.Specify dtype option on import or set low_memory=False.\n",
      "  has_raised = await self.run_ast_nodes(code_ast.body, cell_name,\n"
     ]
    },
    {
     "name": "stdout",
     "output_type": "stream",
     "text": [
      "7\n",
      "Bin Covering 3 6 7\n",
      "18\n",
      "15\n",
      "Bin Covering 3 6 8\n",
      "18\n",
      "15\n",
      "Bin Covering 3 6 9\n",
      "5\n",
      "5\n",
      "Bin Covering 3 7 0\n",
      "4\n",
      "4\n",
      "Bin Covering 3 7 1\n",
      "Bin Covering 3 7 2\n",
      "1\n",
      "1\n",
      "Bin Covering 3 7 3\n",
      "1\n",
      "1\n",
      "Bin Covering 3 7 4\n",
      "9\n"
     ]
    },
    {
     "name": "stderr",
     "output_type": "stream",
     "text": [
      "/nas/home/hrathod/anaconda3/lib/python3.8/site-packages/IPython/core/interactiveshell.py:3146: DtypeWarning: Columns (42,47) have mixed types.Specify dtype option on import or set low_memory=False.\n",
      "  has_raised = await self.run_ast_nodes(code_ast.body, cell_name,\n"
     ]
    },
    {
     "name": "stdout",
     "output_type": "stream",
     "text": [
      "9\n",
      "Bin Covering 3 7 5\n",
      "12\n",
      "12\n",
      "Bin Covering 3 7 6\n",
      "76\n",
      "15\n",
      "Bin Covering 3 7 7\n",
      "108\n",
      "15\n",
      "Bin Covering 3 7 8\n",
      "125\n",
      "15\n",
      "Bin Covering 3 7 9\n",
      "135\n",
      "15\n",
      "Bin Covering 3 8 0\n",
      "7\n",
      "7\n",
      "Bin Covering 3 8 1\n",
      "Bin Covering 3 8 2\n",
      "Bin Covering 3 8 3\n",
      "1\n",
      "1\n",
      "Bin Covering 3 8 4\n",
      "9\n"
     ]
    },
    {
     "name": "stderr",
     "output_type": "stream",
     "text": [
      "/nas/home/hrathod/anaconda3/lib/python3.8/site-packages/IPython/core/interactiveshell.py:3146: DtypeWarning: Columns (49) have mixed types.Specify dtype option on import or set low_memory=False.\n",
      "  has_raised = await self.run_ast_nodes(code_ast.body, cell_name,\n"
     ]
    },
    {
     "name": "stdout",
     "output_type": "stream",
     "text": [
      "9\n",
      "Bin Covering 3 8 5\n",
      "31\n",
      "15\n",
      "Bin Covering 3 8 6\n",
      "103\n",
      "15\n",
      "Bin Covering 3 8 7\n",
      "313\n",
      "15\n",
      "Bin Covering 3 8 8\n",
      "450\n",
      "15\n",
      "Bin Covering 3 8 9\n",
      "205\n",
      "15\n",
      "Bin Covering 3 9 0\n",
      "128\n"
     ]
    },
    {
     "name": "stderr",
     "output_type": "stream",
     "text": [
      "/nas/home/hrathod/anaconda3/lib/python3.8/site-packages/IPython/core/interactiveshell.py:3146: DtypeWarning: Columns (27,28,29,34,36,40,41,42,47) have mixed types.Specify dtype option on import or set low_memory=False.\n",
      "  has_raised = await self.run_ast_nodes(code_ast.body, cell_name,\n",
      "/nas/home/hrathod/anaconda3/lib/python3.8/site-packages/IPython/core/interactiveshell.py:3146: DtypeWarning: Columns (27,28,29,34,36,40,41,42,47) have mixed types.Specify dtype option on import or set low_memory=False.\n",
      "  has_raised = await self.run_ast_nodes(code_ast.body, cell_name,\n"
     ]
    },
    {
     "name": "stdout",
     "output_type": "stream",
     "text": [
      "15\n",
      "Bin Covering 3 9 1\n",
      "108\n",
      "15\n",
      "Bin Covering 3 9 2\n",
      "349\n"
     ]
    },
    {
     "name": "stderr",
     "output_type": "stream",
     "text": [
      "/nas/home/hrathod/anaconda3/lib/python3.8/site-packages/IPython/core/interactiveshell.py:3146: DtypeWarning: Columns (47) have mixed types.Specify dtype option on import or set low_memory=False.\n",
      "  has_raised = await self.run_ast_nodes(code_ast.body, cell_name,\n"
     ]
    },
    {
     "name": "stdout",
     "output_type": "stream",
     "text": [
      "15\n",
      "Bin Covering 3 9 3\n",
      "667\n"
     ]
    },
    {
     "name": "stderr",
     "output_type": "stream",
     "text": [
      "/nas/home/hrathod/anaconda3/lib/python3.8/site-packages/IPython/core/interactiveshell.py:3146: DtypeWarning: Columns (42,47) have mixed types.Specify dtype option on import or set low_memory=False.\n",
      "  has_raised = await self.run_ast_nodes(code_ast.body, cell_name,\n"
     ]
    },
    {
     "name": "stdout",
     "output_type": "stream",
     "text": [
      "15\n",
      "Bin Covering 3 9 4\n",
      "2205\n",
      "15\n",
      "Bin Covering 3 9 5\n",
      "5181\n"
     ]
    },
    {
     "name": "stderr",
     "output_type": "stream",
     "text": [
      "/nas/home/hrathod/anaconda3/lib/python3.8/site-packages/IPython/core/interactiveshell.py:3146: DtypeWarning: Columns (42,47) have mixed types.Specify dtype option on import or set low_memory=False.\n",
      "  has_raised = await self.run_ast_nodes(code_ast.body, cell_name,\n"
     ]
    },
    {
     "name": "stdout",
     "output_type": "stream",
     "text": [
      "15\n",
      "Bin Covering 3 9 6\n",
      "10151\n",
      "15\n",
      "Bin Covering 3 9 7\n",
      "19859\n",
      "15\n",
      "Bin Covering 3 9 8\n",
      "28060\n",
      "15\n",
      "Bin Covering 3 9 9\n",
      "27619\n",
      "15\n",
      "Bin Covering 4 0 0\n",
      "454\n",
      "15\n",
      "Bin Covering 4 0 1\n",
      "Bin Covering 4 0 2\n",
      "Bin Covering 4 0 3\n",
      "Bin Covering 4 0 4\n",
      "Bin Covering 4 0 5\n",
      "4\n",
      "4\n",
      "Bin Covering 4 0 6\n",
      "3\n",
      "3\n",
      "Bin Covering 4 0 7\n",
      "3\n",
      "3\n",
      "Bin Covering 4 0 8\n",
      "25\n",
      "15\n",
      "Bin Covering 4 0 9\n",
      "13\n",
      "13\n",
      "Bin Covering 4 1 0\n",
      "Bin Covering 4 1 1\n",
      "Bin Covering 4 1 2\n",
      "Bin Covering 4 1 3\n",
      "Bin Covering 4 1 4\n",
      "Bin Covering 4 1 5\n",
      "Bin Covering 4 1 6\n",
      "Bin Covering 4 1 7\n",
      "Bin Covering 4 1 8\n",
      "Bin Covering 4 1 9\n",
      "Bin Covering 4 2 0\n",
      "Bin Covering 4 2 1\n",
      "Bin Covering 4 2 2\n",
      "Bin Covering 4 2 3\n",
      "Bin Covering 4 2 4\n",
      "Bin Covering 4 2 5\n",
      "Bin Covering 4 2 6\n",
      "Bin Covering 4 2 7\n",
      "Bin Covering 4 2 8\n",
      "Bin Covering 4 2 9\n",
      "Bin Covering 4 3 0\n",
      "Bin Covering 4 3 1\n",
      "Bin Covering 4 3 2\n",
      "Bin Covering 4 3 3\n",
      "Bin Covering 4 3 4\n",
      "Bin Covering 4 3 5\n",
      "Bin Covering 4 3 6\n",
      "Bin Covering 4 3 7\n",
      "Bin Covering 4 3 8\n",
      "Bin Covering 4 3 9\n",
      "Bin Covering 4 4 0\n",
      "Bin Covering 4 4 1\n",
      "Bin Covering 4 4 2\n",
      "Bin Covering 4 4 3\n",
      "Bin Covering 4 4 4\n",
      "Bin Covering 4 4 5\n",
      "Bin Covering 4 4 6\n",
      "Bin Covering 4 4 7\n",
      "Bin Covering 4 4 8\n",
      "Bin Covering 4 4 9\n",
      "Bin Covering 4 5 0\n",
      "46\n",
      "15\n",
      "Bin Covering 4 5 1\n",
      "Bin Covering 4 5 2\n",
      "Bin Covering 4 5 3\n",
      "Bin Covering 4 5 4\n",
      "Bin Covering 4 5 5\n",
      "Bin Covering 4 5 6\n",
      "Bin Covering 4 5 7\n",
      "Bin Covering 4 5 8\n",
      "15\n",
      "15\n",
      "Bin Covering 4 5 9\n",
      "2\n",
      "2\n",
      "Bin Covering 4 6 0\n",
      "22\n"
     ]
    },
    {
     "name": "stderr",
     "output_type": "stream",
     "text": [
      "/nas/home/hrathod/anaconda3/lib/python3.8/site-packages/IPython/core/interactiveshell.py:3146: DtypeWarning: Columns (47) have mixed types.Specify dtype option on import or set low_memory=False.\n",
      "  has_raised = await self.run_ast_nodes(code_ast.body, cell_name,\n"
     ]
    },
    {
     "name": "stdout",
     "output_type": "stream",
     "text": [
      "15\n",
      "Bin Covering 4 6 1\n",
      "Bin Covering 4 6 2\n",
      "Bin Covering 4 6 3\n",
      "Bin Covering 4 6 4\n",
      "Bin Covering 4 6 5\n",
      "7\n",
      "7\n",
      "Bin Covering 4 6 6\n",
      "3\n",
      "3\n",
      "Bin Covering 4 6 7\n",
      "4\n",
      "4\n",
      "Bin Covering 4 6 8\n",
      "6\n",
      "6\n",
      "Bin Covering 4 6 9\n",
      "8\n",
      "8\n",
      "Bin Covering 4 7 0\n",
      "254\n",
      "15\n",
      "Bin Covering 4 7 1\n",
      "Bin Covering 4 7 2\n",
      "Bin Covering 4 7 3\n",
      "Bin Covering 4 7 4\n",
      "Bin Covering 4 7 5\n",
      "36\n"
     ]
    },
    {
     "name": "stderr",
     "output_type": "stream",
     "text": [
      "/nas/home/hrathod/anaconda3/lib/python3.8/site-packages/IPython/core/interactiveshell.py:3146: DtypeWarning: Columns (42,47) have mixed types.Specify dtype option on import or set low_memory=False.\n",
      "  has_raised = await self.run_ast_nodes(code_ast.body, cell_name,\n"
     ]
    },
    {
     "name": "stdout",
     "output_type": "stream",
     "text": [
      "15\n",
      "Bin Covering 4 7 6\n",
      "34\n",
      "15\n",
      "Bin Covering 4 7 7\n",
      "33\n",
      "15\n",
      "Bin Covering 4 7 8\n",
      "68\n",
      "15\n",
      "Bin Covering 4 7 9\n",
      "46\n",
      "15\n",
      "Bin Covering 4 8 0\n",
      "188\n",
      "15\n",
      "Bin Covering 4 8 1\n",
      "Bin Covering 4 8 2\n",
      "Bin Covering 4 8 3\n",
      "Bin Covering 4 8 4\n",
      "Bin Covering 4 8 5\n",
      "74\n",
      "15\n",
      "Bin Covering 4 8 6\n",
      "57\n"
     ]
    },
    {
     "name": "stderr",
     "output_type": "stream",
     "text": [
      "/nas/home/hrathod/anaconda3/lib/python3.8/site-packages/IPython/core/interactiveshell.py:3146: DtypeWarning: Columns (40,41,42,47) have mixed types.Specify dtype option on import or set low_memory=False.\n",
      "  has_raised = await self.run_ast_nodes(code_ast.body, cell_name,\n",
      "/nas/home/hrathod/anaconda3/lib/python3.8/site-packages/IPython/core/interactiveshell.py:3146: DtypeWarning: Columns (40,41,42,47) have mixed types.Specify dtype option on import or set low_memory=False.\n",
      "  has_raised = await self.run_ast_nodes(code_ast.body, cell_name,\n"
     ]
    },
    {
     "name": "stdout",
     "output_type": "stream",
     "text": [
      "15\n",
      "Bin Covering 4 8 7\n",
      "96\n",
      "15\n",
      "Bin Covering 4 8 8\n",
      "309\n",
      "15\n",
      "Bin Covering 4 8 9\n",
      "395\n"
     ]
    },
    {
     "name": "stderr",
     "output_type": "stream",
     "text": [
      "/nas/home/hrathod/anaconda3/lib/python3.8/site-packages/IPython/core/interactiveshell.py:3146: DtypeWarning: Columns (49) have mixed types.Specify dtype option on import or set low_memory=False.\n",
      "  has_raised = await self.run_ast_nodes(code_ast.body, cell_name,\n"
     ]
    },
    {
     "name": "stdout",
     "output_type": "stream",
     "text": [
      "15\n",
      "Bin Covering 4 9 0\n",
      "53\n",
      "15\n",
      "Bin Covering 4 9 1\n",
      "Bin Covering 4 9 2\n",
      "Bin Covering 4 9 3\n",
      "Bin Covering 4 9 4\n",
      "Bin Covering 4 9 5\n",
      "62\n"
     ]
    },
    {
     "name": "stderr",
     "output_type": "stream",
     "text": [
      "/nas/home/hrathod/anaconda3/lib/python3.8/site-packages/IPython/core/interactiveshell.py:3146: DtypeWarning: Columns (42,47) have mixed types.Specify dtype option on import or set low_memory=False.\n",
      "  has_raised = await self.run_ast_nodes(code_ast.body, cell_name,\n",
      "/nas/home/hrathod/anaconda3/lib/python3.8/site-packages/IPython/core/interactiveshell.py:3146: DtypeWarning: Columns (42,47) have mixed types.Specify dtype option on import or set low_memory=False.\n",
      "  has_raised = await self.run_ast_nodes(code_ast.body, cell_name,\n"
     ]
    },
    {
     "name": "stdout",
     "output_type": "stream",
     "text": [
      "15\n",
      "Bin Covering 4 9 6\n",
      "85\n",
      "15\n",
      "Bin Covering 4 9 7\n",
      "174\n",
      "15\n",
      "Bin Covering 4 9 8\n",
      "1827\n"
     ]
    },
    {
     "name": "stderr",
     "output_type": "stream",
     "text": [
      "/nas/home/hrathod/anaconda3/lib/python3.8/site-packages/IPython/core/interactiveshell.py:3146: DtypeWarning: Columns (49) have mixed types.Specify dtype option on import or set low_memory=False.\n",
      "  has_raised = await self.run_ast_nodes(code_ast.body, cell_name,\n"
     ]
    },
    {
     "name": "stdout",
     "output_type": "stream",
     "text": [
      "15\n",
      "Bin Covering 4 9 9\n",
      "92126\n",
      "15\n",
      "Bin Covering 5 0 0\n",
      "350\n"
     ]
    },
    {
     "name": "stderr",
     "output_type": "stream",
     "text": [
      "/nas/home/hrathod/anaconda3/lib/python3.8/site-packages/IPython/core/interactiveshell.py:3146: DtypeWarning: Columns (42,47) have mixed types.Specify dtype option on import or set low_memory=False.\n",
      "  has_raised = await self.run_ast_nodes(code_ast.body, cell_name,\n"
     ]
    },
    {
     "name": "stdout",
     "output_type": "stream",
     "text": [
      "15\n",
      "Bin Covering 5 0 1\n",
      "226\n",
      "15\n",
      "Bin Covering 5 0 2\n",
      "296\n"
     ]
    },
    {
     "name": "stderr",
     "output_type": "stream",
     "text": [
      "/nas/home/hrathod/anaconda3/lib/python3.8/site-packages/IPython/core/interactiveshell.py:3146: DtypeWarning: Columns (42,47) have mixed types.Specify dtype option on import or set low_memory=False.\n",
      "  has_raised = await self.run_ast_nodes(code_ast.body, cell_name,\n",
      "/nas/home/hrathod/anaconda3/lib/python3.8/site-packages/IPython/core/interactiveshell.py:3146: DtypeWarning: Columns (40,41,42,47) have mixed types.Specify dtype option on import or set low_memory=False.\n",
      "  has_raised = await self.run_ast_nodes(code_ast.body, cell_name,\n"
     ]
    },
    {
     "name": "stdout",
     "output_type": "stream",
     "text": [
      "15\n",
      "Bin Covering 5 0 3\n",
      "283\n",
      "15\n",
      "Bin Covering 5 0 4\n",
      "240\n",
      "15\n",
      "Bin Covering 5 0 5\n",
      "326\n",
      "15\n",
      "Bin Covering 5 0 6\n",
      "348\n",
      "15\n",
      "Bin Covering 5 0 7\n",
      "481\n",
      "15\n",
      "Bin Covering 5 0 8\n",
      "708\n",
      "15\n",
      "Bin Covering 5 0 9\n",
      "4010\n",
      "15\n",
      "Bin Covering 5 1 0\n",
      "Bin Covering 5 1 1\n",
      "Bin Covering 5 1 2\n",
      "Bin Covering 5 1 3\n",
      "Bin Covering 5 1 4\n",
      "Bin Covering 5 1 5\n",
      "Bin Covering 5 1 6\n",
      "Bin Covering 5 1 7\n",
      "Bin Covering 5 1 8\n",
      "Bin Covering 5 1 9\n",
      "Bin Covering 5 2 0\n",
      "Bin Covering 5 2 1\n",
      "Bin Covering 5 2 2\n",
      "Bin Covering 5 2 3\n",
      "Bin Covering 5 2 4\n",
      "Bin Covering 5 2 5\n",
      "Bin Covering 5 2 6\n",
      "Bin Covering 5 2 7\n",
      "Bin Covering 5 2 8\n",
      "Bin Covering 5 2 9\n",
      "Bin Covering 5 3 0\n",
      "Bin Covering 5 3 1\n",
      "Bin Covering 5 3 2\n",
      "Bin Covering 5 3 3\n",
      "Bin Covering 5 3 4\n",
      "Bin Covering 5 3 5\n",
      "Bin Covering 5 3 6\n",
      "Bin Covering 5 3 7\n",
      "Bin Covering 5 3 8\n",
      "Bin Covering 5 3 9\n",
      "Bin Covering 5 4 0\n",
      "9\n"
     ]
    },
    {
     "name": "stderr",
     "output_type": "stream",
     "text": [
      "/nas/home/hrathod/anaconda3/lib/python3.8/site-packages/IPython/core/interactiveshell.py:3146: DtypeWarning: Columns (47) have mixed types.Specify dtype option on import or set low_memory=False.\n",
      "  has_raised = await self.run_ast_nodes(code_ast.body, cell_name,\n"
     ]
    },
    {
     "name": "stdout",
     "output_type": "stream",
     "text": [
      "9\n",
      "Bin Covering 5 4 1\n",
      "21\n",
      "15\n",
      "Bin Covering 5 4 2\n",
      "26\n",
      "15\n",
      "Bin Covering 5 4 3\n",
      "26\n",
      "15\n",
      "Bin Covering 5 4 4\n",
      "28\n",
      "15\n",
      "Bin Covering 5 4 5\n",
      "41\n",
      "15\n",
      "Bin Covering 5 4 6\n",
      "31\n",
      "15\n",
      "Bin Covering 5 4 7\n",
      "42\n"
     ]
    },
    {
     "name": "stderr",
     "output_type": "stream",
     "text": [
      "/nas/home/hrathod/anaconda3/lib/python3.8/site-packages/IPython/core/interactiveshell.py:3146: DtypeWarning: Columns (47) have mixed types.Specify dtype option on import or set low_memory=False.\n",
      "  has_raised = await self.run_ast_nodes(code_ast.body, cell_name,\n"
     ]
    },
    {
     "name": "stdout",
     "output_type": "stream",
     "text": [
      "15\n",
      "Bin Covering 5 4 8\n",
      "73\n",
      "15\n",
      "Bin Covering 5 4 9\n",
      "292\n",
      "15\n",
      "Bin Covering 5 5 0\n",
      "1149\n"
     ]
    },
    {
     "name": "stderr",
     "output_type": "stream",
     "text": [
      "/nas/home/hrathod/anaconda3/lib/python3.8/site-packages/IPython/core/interactiveshell.py:3146: DtypeWarning: Columns (42,47) have mixed types.Specify dtype option on import or set low_memory=False.\n",
      "  has_raised = await self.run_ast_nodes(code_ast.body, cell_name,\n",
      "/nas/home/hrathod/anaconda3/lib/python3.8/site-packages/IPython/core/interactiveshell.py:3146: DtypeWarning: Columns (42,47) have mixed types.Specify dtype option on import or set low_memory=False.\n",
      "  has_raised = await self.run_ast_nodes(code_ast.body, cell_name,\n"
     ]
    },
    {
     "name": "stdout",
     "output_type": "stream",
     "text": [
      "15\n",
      "Bin Covering 5 5 1\n",
      "1300\n"
     ]
    },
    {
     "name": "stderr",
     "output_type": "stream",
     "text": [
      "/nas/home/hrathod/anaconda3/lib/python3.8/site-packages/IPython/core/interactiveshell.py:3146: DtypeWarning: Columns (40,41,42,47) have mixed types.Specify dtype option on import or set low_memory=False.\n",
      "  has_raised = await self.run_ast_nodes(code_ast.body, cell_name,\n"
     ]
    },
    {
     "name": "stdout",
     "output_type": "stream",
     "text": [
      "15\n",
      "Bin Covering 5 5 2\n",
      "1750\n"
     ]
    },
    {
     "name": "stderr",
     "output_type": "stream",
     "text": [
      "/nas/home/hrathod/anaconda3/lib/python3.8/site-packages/IPython/core/interactiveshell.py:3146: DtypeWarning: Columns (47) have mixed types.Specify dtype option on import or set low_memory=False.\n",
      "  has_raised = await self.run_ast_nodes(code_ast.body, cell_name,\n"
     ]
    },
    {
     "name": "stdout",
     "output_type": "stream",
     "text": [
      "15\n",
      "Bin Covering 5 5 3\n",
      "2185\n",
      "15\n",
      "Bin Covering 5 5 4\n",
      "2464\n",
      "15\n",
      "Bin Covering 5 5 5\n",
      "3218\n"
     ]
    },
    {
     "name": "stderr",
     "output_type": "stream",
     "text": [
      "/nas/home/hrathod/anaconda3/lib/python3.8/site-packages/IPython/core/interactiveshell.py:3146: DtypeWarning: Columns (49) have mixed types.Specify dtype option on import or set low_memory=False.\n",
      "  has_raised = await self.run_ast_nodes(code_ast.body, cell_name,\n"
     ]
    },
    {
     "name": "stdout",
     "output_type": "stream",
     "text": [
      "15\n",
      "Bin Covering 5 5 6\n",
      "3639\n",
      "15\n",
      "Bin Covering 5 5 7\n",
      "4572\n"
     ]
    },
    {
     "name": "stderr",
     "output_type": "stream",
     "text": [
      "/nas/home/hrathod/anaconda3/lib/python3.8/site-packages/IPython/core/interactiveshell.py:3146: DtypeWarning: Columns (27,28,29,34,36,40,41,42) have mixed types.Specify dtype option on import or set low_memory=False.\n",
      "  has_raised = await self.run_ast_nodes(code_ast.body, cell_name,\n"
     ]
    },
    {
     "name": "stdout",
     "output_type": "stream",
     "text": [
      "15\n",
      "Bin Covering 5 5 8\n",
      "5375\n"
     ]
    },
    {
     "name": "stderr",
     "output_type": "stream",
     "text": [
      "/nas/home/hrathod/anaconda3/lib/python3.8/site-packages/IPython/core/interactiveshell.py:3146: DtypeWarning: Columns (42,47) have mixed types.Specify dtype option on import or set low_memory=False.\n",
      "  has_raised = await self.run_ast_nodes(code_ast.body, cell_name,\n"
     ]
    },
    {
     "name": "stdout",
     "output_type": "stream",
     "text": [
      "15\n",
      "Bin Covering 5 5 9\n",
      "22681\n"
     ]
    },
    {
     "name": "stderr",
     "output_type": "stream",
     "text": [
      "/nas/home/hrathod/anaconda3/lib/python3.8/site-packages/IPython/core/interactiveshell.py:3146: DtypeWarning: Columns (40,41,42,47) have mixed types.Specify dtype option on import or set low_memory=False.\n",
      "  has_raised = await self.run_ast_nodes(code_ast.body, cell_name,\n"
     ]
    },
    {
     "name": "stdout",
     "output_type": "stream",
     "text": [
      "15\n",
      "Bin Covering 5 6 0\n",
      "Bin Covering 5 6 1\n",
      "Bin Covering 5 6 2\n",
      "Bin Covering 5 6 3\n",
      "Bin Covering 5 6 4\n",
      "Bin Covering 5 6 5\n",
      "Bin Covering 5 6 6\n",
      "Bin Covering 5 6 7\n",
      "Bin Covering 5 6 8\n",
      "Bin Covering 5 6 9\n",
      "Bin Covering 5 7 0\n",
      "61\n",
      "15\n",
      "Bin Covering 5 7 1\n",
      "326\n",
      "15\n",
      "Bin Covering 5 7 2\n",
      "367\n",
      "15\n",
      "Bin Covering 5 7 3\n",
      "854\n",
      "15\n",
      "Bin Covering 5 7 4\n",
      "1061\n",
      "15\n",
      "Bin Covering 5 7 5\n",
      "1270\n",
      "15\n",
      "Bin Covering 5 7 6\n",
      "1568\n"
     ]
    },
    {
     "name": "stderr",
     "output_type": "stream",
     "text": [
      "/nas/home/hrathod/anaconda3/lib/python3.8/site-packages/IPython/core/interactiveshell.py:3146: DtypeWarning: Columns (42,47) have mixed types.Specify dtype option on import or set low_memory=False.\n",
      "  has_raised = await self.run_ast_nodes(code_ast.body, cell_name,\n"
     ]
    },
    {
     "name": "stdout",
     "output_type": "stream",
     "text": [
      "15\n",
      "Bin Covering 5 7 7\n",
      "2175\n",
      "15\n",
      "Bin Covering 5 7 8\n",
      "3445\n",
      "15\n",
      "Bin Covering 5 7 9\n",
      "19154\n",
      "15\n",
      "Bin Covering 5 8 0\n",
      "21\n",
      "15\n",
      "Bin Covering 5 8 1\n",
      "38\n"
     ]
    },
    {
     "name": "stderr",
     "output_type": "stream",
     "text": [
      "/nas/home/hrathod/anaconda3/lib/python3.8/site-packages/IPython/core/interactiveshell.py:3146: DtypeWarning: Columns (40,41,42) have mixed types.Specify dtype option on import or set low_memory=False.\n",
      "  has_raised = await self.run_ast_nodes(code_ast.body, cell_name,\n"
     ]
    },
    {
     "name": "stdout",
     "output_type": "stream",
     "text": [
      "15\n",
      "Bin Covering 5 8 2\n",
      "59\n"
     ]
    },
    {
     "name": "stderr",
     "output_type": "stream",
     "text": [
      "/nas/home/hrathod/anaconda3/lib/python3.8/site-packages/IPython/core/interactiveshell.py:3146: DtypeWarning: Columns (40,41,42) have mixed types.Specify dtype option on import or set low_memory=False.\n",
      "  has_raised = await self.run_ast_nodes(code_ast.body, cell_name,\n",
      "/nas/home/hrathod/anaconda3/lib/python3.8/site-packages/IPython/core/interactiveshell.py:3146: DtypeWarning: Columns (40,41,42) have mixed types.Specify dtype option on import or set low_memory=False.\n",
      "  has_raised = await self.run_ast_nodes(code_ast.body, cell_name,\n"
     ]
    },
    {
     "name": "stdout",
     "output_type": "stream",
     "text": [
      "15\n",
      "Bin Covering 5 8 3\n",
      "108\n",
      "15\n",
      "Bin Covering 5 8 4\n",
      "127\n",
      "15\n",
      "Bin Covering 5 8 5\n",
      "170\n"
     ]
    },
    {
     "name": "stderr",
     "output_type": "stream",
     "text": [
      "/nas/home/hrathod/anaconda3/lib/python3.8/site-packages/IPython/core/interactiveshell.py:3146: DtypeWarning: Columns (40,41,42) have mixed types.Specify dtype option on import or set low_memory=False.\n",
      "  has_raised = await self.run_ast_nodes(code_ast.body, cell_name,\n",
      "/nas/home/hrathod/anaconda3/lib/python3.8/site-packages/IPython/core/interactiveshell.py:3146: DtypeWarning: Columns (40,41,42) have mixed types.Specify dtype option on import or set low_memory=False.\n",
      "  has_raised = await self.run_ast_nodes(code_ast.body, cell_name,\n"
     ]
    },
    {
     "name": "stdout",
     "output_type": "stream",
     "text": [
      "15\n",
      "Bin Covering 5 8 6\n",
      "262\n",
      "15\n",
      "Bin Covering 5 8 7\n",
      "380\n",
      "15\n",
      "Bin Covering 5 8 8\n",
      "703\n",
      "15\n",
      "Bin Covering 5 8 9\n",
      "6003\n",
      "15\n",
      "Bin Covering 5 9 0\n",
      "Bin Covering 5 9 1\n",
      "Bin Covering 5 9 2\n",
      "1\n",
      "1\n",
      "Bin Covering 5 9 3\n",
      "1\n",
      "1\n",
      "Bin Covering 5 9 4\n",
      "17\n",
      "15\n",
      "Bin Covering 5 9 5\n",
      "23\n"
     ]
    },
    {
     "name": "stderr",
     "output_type": "stream",
     "text": [
      "/nas/home/hrathod/anaconda3/lib/python3.8/site-packages/IPython/core/interactiveshell.py:3146: DtypeWarning: Columns (47) have mixed types.Specify dtype option on import or set low_memory=False.\n",
      "  has_raised = await self.run_ast_nodes(code_ast.body, cell_name,\n"
     ]
    },
    {
     "name": "stdout",
     "output_type": "stream",
     "text": [
      "15\n",
      "Bin Covering 5 9 6\n",
      "67\n",
      "15\n",
      "Bin Covering 5 9 7\n",
      "72\n"
     ]
    },
    {
     "name": "stderr",
     "output_type": "stream",
     "text": [
      "/nas/home/hrathod/anaconda3/lib/python3.8/site-packages/IPython/core/interactiveshell.py:3146: DtypeWarning: Columns (27,28,29,34,36,40,41,42,47) have mixed types.Specify dtype option on import or set low_memory=False.\n",
      "  has_raised = await self.run_ast_nodes(code_ast.body, cell_name,\n",
      "/nas/home/hrathod/anaconda3/lib/python3.8/site-packages/IPython/core/interactiveshell.py:3146: DtypeWarning: Columns (42,47) have mixed types.Specify dtype option on import or set low_memory=False.\n",
      "  has_raised = await self.run_ast_nodes(code_ast.body, cell_name,\n",
      "/nas/home/hrathod/anaconda3/lib/python3.8/site-packages/IPython/core/interactiveshell.py:3146: DtypeWarning: Columns (27,28,29,34,36,40,41,42,47) have mixed types.Specify dtype option on import or set low_memory=False.\n",
      "  has_raised = await self.run_ast_nodes(code_ast.body, cell_name,\n",
      "/nas/home/hrathod/anaconda3/lib/python3.8/site-packages/IPython/core/interactiveshell.py:3146: DtypeWarning: Columns (27,28,29,34,36,40,41,42,47) have mixed types.Specify dtype option on import or set low_memory=False.\n",
      "  has_raised = await self.run_ast_nodes(code_ast.body, cell_name,\n",
      "/nas/home/hrathod/anaconda3/lib/python3.8/site-packages/IPython/core/interactiveshell.py:3146: DtypeWarning: Columns (27,28,29,34,36,40,41,42,47) have mixed types.Specify dtype option on import or set low_memory=False.\n",
      "  has_raised = await self.run_ast_nodes(code_ast.body, cell_name,\n",
      "/nas/home/hrathod/anaconda3/lib/python3.8/site-packages/IPython/core/interactiveshell.py:3146: DtypeWarning: Columns (27,28,29,34,36,40,41,42,47) have mixed types.Specify dtype option on import or set low_memory=False.\n",
      "  has_raised = await self.run_ast_nodes(code_ast.body, cell_name,\n",
      "/nas/home/hrathod/anaconda3/lib/python3.8/site-packages/IPython/core/interactiveshell.py:3146: DtypeWarning: Columns (42,47) have mixed types.Specify dtype option on import or set low_memory=False.\n",
      "  has_raised = await self.run_ast_nodes(code_ast.body, cell_name,\n"
     ]
    },
    {
     "name": "stdout",
     "output_type": "stream",
     "text": [
      "15\n",
      "Bin Covering 5 9 8\n",
      "164\n"
     ]
    },
    {
     "name": "stderr",
     "output_type": "stream",
     "text": [
      "/nas/home/hrathod/anaconda3/lib/python3.8/site-packages/IPython/core/interactiveshell.py:3146: DtypeWarning: Columns (47) have mixed types.Specify dtype option on import or set low_memory=False.\n",
      "  has_raised = await self.run_ast_nodes(code_ast.body, cell_name,\n",
      "/nas/home/hrathod/anaconda3/lib/python3.8/site-packages/IPython/core/interactiveshell.py:3146: DtypeWarning: Columns (42,47) have mixed types.Specify dtype option on import or set low_memory=False.\n",
      "  has_raised = await self.run_ast_nodes(code_ast.body, cell_name,\n",
      "/nas/home/hrathod/anaconda3/lib/python3.8/site-packages/IPython/core/interactiveshell.py:3146: DtypeWarning: Columns (42,47) have mixed types.Specify dtype option on import or set low_memory=False.\n",
      "  has_raised = await self.run_ast_nodes(code_ast.body, cell_name,\n",
      "/nas/home/hrathod/anaconda3/lib/python3.8/site-packages/IPython/core/interactiveshell.py:3146: DtypeWarning: Columns (47) have mixed types.Specify dtype option on import or set low_memory=False.\n",
      "  has_raised = await self.run_ast_nodes(code_ast.body, cell_name,\n",
      "/nas/home/hrathod/anaconda3/lib/python3.8/site-packages/IPython/core/interactiveshell.py:3146: DtypeWarning: Columns (42,47) have mixed types.Specify dtype option on import or set low_memory=False.\n",
      "  has_raised = await self.run_ast_nodes(code_ast.body, cell_name,\n",
      "/nas/home/hrathod/anaconda3/lib/python3.8/site-packages/IPython/core/interactiveshell.py:3146: DtypeWarning: Columns (47) have mixed types.Specify dtype option on import or set low_memory=False.\n",
      "  has_raised = await self.run_ast_nodes(code_ast.body, cell_name,\n",
      "/nas/home/hrathod/anaconda3/lib/python3.8/site-packages/IPython/core/interactiveshell.py:3146: DtypeWarning: Columns (42,47) have mixed types.Specify dtype option on import or set low_memory=False.\n",
      "  has_raised = await self.run_ast_nodes(code_ast.body, cell_name,\n",
      "/nas/home/hrathod/anaconda3/lib/python3.8/site-packages/IPython/core/interactiveshell.py:3146: DtypeWarning: Columns (47) have mixed types.Specify dtype option on import or set low_memory=False.\n",
      "  has_raised = await self.run_ast_nodes(code_ast.body, cell_name,\n",
      "/nas/home/hrathod/anaconda3/lib/python3.8/site-packages/IPython/core/interactiveshell.py:3146: DtypeWarning: Columns (47) have mixed types.Specify dtype option on import or set low_memory=False.\n",
      "  has_raised = await self.run_ast_nodes(code_ast.body, cell_name,\n"
     ]
    },
    {
     "name": "stdout",
     "output_type": "stream",
     "text": [
      "15\n",
      "Bin Covering 5 9 9\n",
      "1845\n",
      "15\n",
      "Bin Covering 6 0 0\n",
      "315\n",
      "15\n",
      "Bin Covering 6 0 1\n",
      "327\n"
     ]
    },
    {
     "name": "stderr",
     "output_type": "stream",
     "text": [
      "/nas/home/hrathod/anaconda3/lib/python3.8/site-packages/IPython/core/interactiveshell.py:3146: DtypeWarning: Columns (42,47) have mixed types.Specify dtype option on import or set low_memory=False.\n",
      "  has_raised = await self.run_ast_nodes(code_ast.body, cell_name,\n",
      "/nas/home/hrathod/anaconda3/lib/python3.8/site-packages/IPython/core/interactiveshell.py:3146: DtypeWarning: Columns (42,47) have mixed types.Specify dtype option on import or set low_memory=False.\n",
      "  has_raised = await self.run_ast_nodes(code_ast.body, cell_name,\n"
     ]
    },
    {
     "name": "stdout",
     "output_type": "stream",
     "text": [
      "15\n",
      "Bin Covering 6 0 2\n",
      "386\n"
     ]
    },
    {
     "name": "stderr",
     "output_type": "stream",
     "text": [
      "/nas/home/hrathod/anaconda3/lib/python3.8/site-packages/IPython/core/interactiveshell.py:3146: DtypeWarning: Columns (42,47) have mixed types.Specify dtype option on import or set low_memory=False.\n",
      "  has_raised = await self.run_ast_nodes(code_ast.body, cell_name,\n",
      "/nas/home/hrathod/anaconda3/lib/python3.8/site-packages/IPython/core/interactiveshell.py:3146: DtypeWarning: Columns (42,47) have mixed types.Specify dtype option on import or set low_memory=False.\n",
      "  has_raised = await self.run_ast_nodes(code_ast.body, cell_name,\n"
     ]
    },
    {
     "name": "stdout",
     "output_type": "stream",
     "text": [
      "15\n",
      "Bin Covering 6 0 3\n",
      "393\n",
      "15\n",
      "Bin Covering 6 0 4\n",
      "444\n",
      "15\n",
      "Bin Covering 6 0 5\n",
      "582\n",
      "15\n",
      "Bin Covering 6 0 6\n",
      "669\n",
      "15\n",
      "Bin Covering 6 0 7\n",
      "868\n",
      "15\n",
      "Bin Covering 6 0 8\n",
      "1018\n",
      "15\n",
      "Bin Covering 6 0 9\n",
      "2266\n",
      "15\n",
      "Bin Covering 6 1 0\n",
      "Bin Covering 6 1 1\n",
      "Bin Covering 6 1 2\n",
      "Bin Covering 6 1 3\n",
      "Bin Covering 6 1 4\n",
      "Bin Covering 6 1 5\n",
      "Bin Covering 6 1 6\n",
      "Bin Covering 6 1 7\n",
      "Bin Covering 6 1 8\n",
      "Bin Covering 6 1 9\n",
      "Bin Covering 6 2 0\n",
      "Bin Covering 6 2 1\n",
      "Bin Covering 6 2 2\n",
      "Bin Covering 6 2 3\n",
      "Bin Covering 6 2 4\n",
      "Bin Covering 6 2 5\n",
      "Bin Covering 6 2 6\n",
      "Bin Covering 6 2 7\n",
      "Bin Covering 6 2 8\n",
      "Bin Covering 6 2 9\n",
      "Bin Covering 6 3 0\n",
      "Bin Covering 6 3 1\n",
      "Bin Covering 6 3 2\n",
      "Bin Covering 6 3 3\n",
      "Bin Covering 6 3 4\n",
      "Bin Covering 6 3 5\n",
      "Bin Covering 6 3 6\n",
      "Bin Covering 6 3 7\n",
      "Bin Covering 6 3 8\n",
      "Bin Covering 6 3 9\n",
      "Bin Covering 6 4 0\n",
      "34\n",
      "15\n",
      "Bin Covering 6 4 1\n",
      "40\n"
     ]
    },
    {
     "name": "stderr",
     "output_type": "stream",
     "text": [
      "/nas/home/hrathod/anaconda3/lib/python3.8/site-packages/IPython/core/interactiveshell.py:3146: DtypeWarning: Columns (27,28,29,34,36,40,41,42) have mixed types.Specify dtype option on import or set low_memory=False.\n",
      "  has_raised = await self.run_ast_nodes(code_ast.body, cell_name,\n"
     ]
    },
    {
     "name": "stdout",
     "output_type": "stream",
     "text": [
      "15\n",
      "Bin Covering 6 4 2\n",
      "51\n",
      "15\n",
      "Bin Covering 6 4 3\n",
      "46\n",
      "15\n",
      "Bin Covering 6 4 4\n",
      "51\n"
     ]
    },
    {
     "name": "stderr",
     "output_type": "stream",
     "text": [
      "/nas/home/hrathod/anaconda3/lib/python3.8/site-packages/IPython/core/interactiveshell.py:3146: DtypeWarning: Columns (47) have mixed types.Specify dtype option on import or set low_memory=False.\n",
      "  has_raised = await self.run_ast_nodes(code_ast.body, cell_name,\n"
     ]
    },
    {
     "name": "stdout",
     "output_type": "stream",
     "text": [
      "15\n",
      "Bin Covering 6 4 5\n",
      "39\n",
      "15\n",
      "Bin Covering 6 4 6\n",
      "72\n",
      "15\n",
      "Bin Covering 6 4 7\n",
      "58\n",
      "15\n",
      "Bin Covering 6 4 8\n",
      "37\n",
      "15\n",
      "Bin Covering 6 4 9\n",
      "161\n"
     ]
    },
    {
     "name": "stderr",
     "output_type": "stream",
     "text": [
      "/nas/home/hrathod/anaconda3/lib/python3.8/site-packages/IPython/core/interactiveshell.py:3146: DtypeWarning: Columns (40,41,42,47) have mixed types.Specify dtype option on import or set low_memory=False.\n",
      "  has_raised = await self.run_ast_nodes(code_ast.body, cell_name,\n",
      "/nas/home/hrathod/anaconda3/lib/python3.8/site-packages/IPython/core/interactiveshell.py:3146: DtypeWarning: Columns (40,41,42) have mixed types.Specify dtype option on import or set low_memory=False.\n",
      "  has_raised = await self.run_ast_nodes(code_ast.body, cell_name,\n",
      "/nas/home/hrathod/anaconda3/lib/python3.8/site-packages/IPython/core/interactiveshell.py:3146: DtypeWarning: Columns (40,41,42,47) have mixed types.Specify dtype option on import or set low_memory=False.\n",
      "  has_raised = await self.run_ast_nodes(code_ast.body, cell_name,\n",
      "/nas/home/hrathod/anaconda3/lib/python3.8/site-packages/IPython/core/interactiveshell.py:3146: DtypeWarning: Columns (40,41,42) have mixed types.Specify dtype option on import or set low_memory=False.\n",
      "  has_raised = await self.run_ast_nodes(code_ast.body, cell_name,\n"
     ]
    },
    {
     "name": "stdout",
     "output_type": "stream",
     "text": [
      "15\n",
      "Bin Covering 6 5 0\n",
      "1192\n"
     ]
    },
    {
     "name": "stderr",
     "output_type": "stream",
     "text": [
      "/nas/home/hrathod/anaconda3/lib/python3.8/site-packages/IPython/core/interactiveshell.py:3146: DtypeWarning: Columns (27,28,29,34,36,40,41,42,47) have mixed types.Specify dtype option on import or set low_memory=False.\n",
      "  has_raised = await self.run_ast_nodes(code_ast.body, cell_name,\n"
     ]
    },
    {
     "name": "stdout",
     "output_type": "stream",
     "text": [
      "15\n",
      "Bin Covering 6 5 1\n",
      "2264\n"
     ]
    },
    {
     "name": "stderr",
     "output_type": "stream",
     "text": [
      "/nas/home/hrathod/anaconda3/lib/python3.8/site-packages/IPython/core/interactiveshell.py:3146: DtypeWarning: Columns (49) have mixed types.Specify dtype option on import or set low_memory=False.\n",
      "  has_raised = await self.run_ast_nodes(code_ast.body, cell_name,\n"
     ]
    },
    {
     "name": "stdout",
     "output_type": "stream",
     "text": [
      "15\n",
      "Bin Covering 6 5 2\n",
      "2773\n"
     ]
    },
    {
     "name": "stderr",
     "output_type": "stream",
     "text": [
      "/nas/home/hrathod/anaconda3/lib/python3.8/site-packages/IPython/core/interactiveshell.py:3146: DtypeWarning: Columns (47) have mixed types.Specify dtype option on import or set low_memory=False.\n",
      "  has_raised = await self.run_ast_nodes(code_ast.body, cell_name,\n",
      "/nas/home/hrathod/anaconda3/lib/python3.8/site-packages/IPython/core/interactiveshell.py:3146: DtypeWarning: Columns (42,43,44,49) have mixed types.Specify dtype option on import or set low_memory=False.\n",
      "  has_raised = await self.run_ast_nodes(code_ast.body, cell_name,\n"
     ]
    },
    {
     "name": "stdout",
     "output_type": "stream",
     "text": [
      "15\n",
      "Bin Covering 6 5 3\n",
      "3240\n",
      "15\n",
      "Bin Covering 6 5 4\n",
      "3797\n"
     ]
    },
    {
     "name": "stderr",
     "output_type": "stream",
     "text": [
      "/nas/home/hrathod/anaconda3/lib/python3.8/site-packages/IPython/core/interactiveshell.py:3146: DtypeWarning: Columns (47) have mixed types.Specify dtype option on import or set low_memory=False.\n",
      "  has_raised = await self.run_ast_nodes(code_ast.body, cell_name,\n"
     ]
    },
    {
     "name": "stdout",
     "output_type": "stream",
     "text": [
      "15\n",
      "Bin Covering 6 5 5\n",
      "4228\n",
      "15\n",
      "Bin Covering 6 5 6\n",
      "5039\n"
     ]
    },
    {
     "name": "stderr",
     "output_type": "stream",
     "text": [
      "/nas/home/hrathod/anaconda3/lib/python3.8/site-packages/IPython/core/interactiveshell.py:3146: DtypeWarning: Columns (49) have mixed types.Specify dtype option on import or set low_memory=False.\n",
      "  has_raised = await self.run_ast_nodes(code_ast.body, cell_name,\n"
     ]
    },
    {
     "name": "stdout",
     "output_type": "stream",
     "text": [
      "15\n",
      "Bin Covering 6 5 7\n",
      "6250\n",
      "15\n",
      "Bin Covering 6 5 8\n",
      "8057\n",
      "15\n",
      "Bin Covering 6 5 9\n",
      "11493\n",
      "15\n",
      "Bin Covering 6 6 0\n",
      "Bin Covering 6 6 1\n",
      "Bin Covering 6 6 2\n",
      "Bin Covering 6 6 3\n",
      "Bin Covering 6 6 4\n",
      "Bin Covering 6 6 5\n",
      "Bin Covering 6 6 6\n",
      "Bin Covering 6 6 7\n",
      "Bin Covering 6 6 8\n",
      "Bin Covering 6 6 9\n",
      "Bin Covering 6 7 0\n",
      "94\n",
      "15\n",
      "Bin Covering 6 7 1\n",
      "550\n",
      "15\n",
      "Bin Covering 6 7 2\n",
      "1142\n"
     ]
    },
    {
     "name": "stderr",
     "output_type": "stream",
     "text": [
      "/nas/home/hrathod/anaconda3/lib/python3.8/site-packages/IPython/core/interactiveshell.py:3146: DtypeWarning: Columns (42,47) have mixed types.Specify dtype option on import or set low_memory=False.\n",
      "  has_raised = await self.run_ast_nodes(code_ast.body, cell_name,\n"
     ]
    },
    {
     "name": "stdout",
     "output_type": "stream",
     "text": [
      "15\n",
      "Bin Covering 6 7 3\n",
      "1837\n"
     ]
    },
    {
     "name": "stderr",
     "output_type": "stream",
     "text": [
      "/nas/home/hrathod/anaconda3/lib/python3.8/site-packages/IPython/core/interactiveshell.py:3146: DtypeWarning: Columns (40,41,42,47) have mixed types.Specify dtype option on import or set low_memory=False.\n",
      "  has_raised = await self.run_ast_nodes(code_ast.body, cell_name,\n"
     ]
    },
    {
     "name": "stdout",
     "output_type": "stream",
     "text": [
      "15\n",
      "Bin Covering 6 7 4\n",
      "2236\n"
     ]
    },
    {
     "name": "stderr",
     "output_type": "stream",
     "text": [
      "/nas/home/hrathod/anaconda3/lib/python3.8/site-packages/IPython/core/interactiveshell.py:3146: DtypeWarning: Columns (42,47) have mixed types.Specify dtype option on import or set low_memory=False.\n",
      "  has_raised = await self.run_ast_nodes(code_ast.body, cell_name,\n"
     ]
    },
    {
     "name": "stdout",
     "output_type": "stream",
     "text": [
      "15\n",
      "Bin Covering 6 7 5\n",
      "2800\n",
      "15\n",
      "Bin Covering 6 7 6\n",
      "3388\n",
      "15\n",
      "Bin Covering 6 7 7\n",
      "4496\n",
      "15\n",
      "Bin Covering 6 7 8\n",
      "6173\n",
      "15\n",
      "Bin Covering 6 7 9\n",
      "7565\n"
     ]
    },
    {
     "name": "stderr",
     "output_type": "stream",
     "text": [
      "/nas/home/hrathod/anaconda3/lib/python3.8/site-packages/IPython/core/interactiveshell.py:3146: DtypeWarning: Columns (40,41,42) have mixed types.Specify dtype option on import or set low_memory=False.\n",
      "  has_raised = await self.run_ast_nodes(code_ast.body, cell_name,\n"
     ]
    },
    {
     "name": "stdout",
     "output_type": "stream",
     "text": [
      "15\n",
      "Bin Covering 6 8 0\n",
      "4\n"
     ]
    },
    {
     "name": "stderr",
     "output_type": "stream",
     "text": [
      "/nas/home/hrathod/anaconda3/lib/python3.8/site-packages/IPython/core/interactiveshell.py:3146: DtypeWarning: Columns (40,41,42) have mixed types.Specify dtype option on import or set low_memory=False.\n",
      "  has_raised = await self.run_ast_nodes(code_ast.body, cell_name,\n",
      "/nas/home/hrathod/anaconda3/lib/python3.8/site-packages/IPython/core/interactiveshell.py:3146: DtypeWarning: Columns (40,41,42) have mixed types.Specify dtype option on import or set low_memory=False.\n",
      "  has_raised = await self.run_ast_nodes(code_ast.body, cell_name,\n"
     ]
    },
    {
     "name": "stdout",
     "output_type": "stream",
     "text": [
      "4\n",
      "Bin Covering 6 8 1\n",
      "62\n",
      "15\n",
      "Bin Covering 6 8 2\n",
      "137\n",
      "15\n",
      "Bin Covering 6 8 3\n",
      "248\n"
     ]
    },
    {
     "name": "stderr",
     "output_type": "stream",
     "text": [
      "/nas/home/hrathod/anaconda3/lib/python3.8/site-packages/IPython/core/interactiveshell.py:3146: DtypeWarning: Columns (40,41,42) have mixed types.Specify dtype option on import or set low_memory=False.\n",
      "  has_raised = await self.run_ast_nodes(code_ast.body, cell_name,\n"
     ]
    },
    {
     "name": "stdout",
     "output_type": "stream",
     "text": [
      "15\n",
      "Bin Covering 6 8 4\n",
      "390\n"
     ]
    },
    {
     "name": "stderr",
     "output_type": "stream",
     "text": [
      "/nas/home/hrathod/anaconda3/lib/python3.8/site-packages/IPython/core/interactiveshell.py:3146: DtypeWarning: Columns (40,41,42) have mixed types.Specify dtype option on import or set low_memory=False.\n",
      "  has_raised = await self.run_ast_nodes(code_ast.body, cell_name,\n",
      "/nas/home/hrathod/anaconda3/lib/python3.8/site-packages/IPython/core/interactiveshell.py:3146: DtypeWarning: Columns (40,41,42) have mixed types.Specify dtype option on import or set low_memory=False.\n",
      "  has_raised = await self.run_ast_nodes(code_ast.body, cell_name,\n"
     ]
    },
    {
     "name": "stdout",
     "output_type": "stream",
     "text": [
      "15\n",
      "Bin Covering 6 8 5\n",
      "621\n"
     ]
    },
    {
     "name": "stderr",
     "output_type": "stream",
     "text": [
      "/nas/home/hrathod/anaconda3/lib/python3.8/site-packages/IPython/core/interactiveshell.py:3146: DtypeWarning: Columns (40,41,42) have mixed types.Specify dtype option on import or set low_memory=False.\n",
      "  has_raised = await self.run_ast_nodes(code_ast.body, cell_name,\n"
     ]
    },
    {
     "name": "stdout",
     "output_type": "stream",
     "text": [
      "15\n",
      "Bin Covering 6 8 6\n",
      "842\n"
     ]
    },
    {
     "name": "stderr",
     "output_type": "stream",
     "text": [
      "/nas/home/hrathod/anaconda3/lib/python3.8/site-packages/IPython/core/interactiveshell.py:3146: DtypeWarning: Columns (47) have mixed types.Specify dtype option on import or set low_memory=False.\n",
      "  has_raised = await self.run_ast_nodes(code_ast.body, cell_name,\n"
     ]
    },
    {
     "name": "stdout",
     "output_type": "stream",
     "text": [
      "15\n",
      "Bin Covering 6 8 7\n",
      "1184\n",
      "15\n",
      "Bin Covering 6 8 8\n",
      "1565\n",
      "15\n",
      "Bin Covering 6 8 9\n",
      "2818\n",
      "15\n",
      "Bin Covering 6 9 0\n",
      "Bin Covering 6 9 1\n",
      "4\n",
      "4\n",
      "Bin Covering 6 9 2\n",
      "2\n"
     ]
    },
    {
     "name": "stderr",
     "output_type": "stream",
     "text": [
      "/nas/home/hrathod/anaconda3/lib/python3.8/site-packages/IPython/core/interactiveshell.py:3146: DtypeWarning: Columns (40,41,42) have mixed types.Specify dtype option on import or set low_memory=False.\n",
      "  has_raised = await self.run_ast_nodes(code_ast.body, cell_name,\n",
      "/nas/home/hrathod/anaconda3/lib/python3.8/site-packages/IPython/core/interactiveshell.py:3146: DtypeWarning: Columns (40,41,42) have mixed types.Specify dtype option on import or set low_memory=False.\n",
      "  has_raised = await self.run_ast_nodes(code_ast.body, cell_name,\n"
     ]
    },
    {
     "name": "stdout",
     "output_type": "stream",
     "text": [
      "2\n",
      "Bin Covering 6 9 3\n",
      "18\n"
     ]
    },
    {
     "name": "stderr",
     "output_type": "stream",
     "text": [
      "/nas/home/hrathod/anaconda3/lib/python3.8/site-packages/IPython/core/interactiveshell.py:3146: DtypeWarning: Columns (40,41,42) have mixed types.Specify dtype option on import or set low_memory=False.\n",
      "  has_raised = await self.run_ast_nodes(code_ast.body, cell_name,\n",
      "/nas/home/hrathod/anaconda3/lib/python3.8/site-packages/IPython/core/interactiveshell.py:3146: DtypeWarning: Columns (40,41,42) have mixed types.Specify dtype option on import or set low_memory=False.\n",
      "  has_raised = await self.run_ast_nodes(code_ast.body, cell_name,\n",
      "/nas/home/hrathod/anaconda3/lib/python3.8/site-packages/IPython/core/interactiveshell.py:3146: DtypeWarning: Columns (40,41,42) have mixed types.Specify dtype option on import or set low_memory=False.\n",
      "  has_raised = await self.run_ast_nodes(code_ast.body, cell_name,\n",
      "/nas/home/hrathod/anaconda3/lib/python3.8/site-packages/IPython/core/interactiveshell.py:3146: DtypeWarning: Columns (40,41,42) have mixed types.Specify dtype option on import or set low_memory=False.\n",
      "  has_raised = await self.run_ast_nodes(code_ast.body, cell_name,\n",
      "/nas/home/hrathod/anaconda3/lib/python3.8/site-packages/IPython/core/interactiveshell.py:3146: DtypeWarning: Columns (40,41,42) have mixed types.Specify dtype option on import or set low_memory=False.\n",
      "  has_raised = await self.run_ast_nodes(code_ast.body, cell_name,\n",
      "/nas/home/hrathod/anaconda3/lib/python3.8/site-packages/IPython/core/interactiveshell.py:3146: DtypeWarning: Columns (40,41,42) have mixed types.Specify dtype option on import or set low_memory=False.\n",
      "  has_raised = await self.run_ast_nodes(code_ast.body, cell_name,\n",
      "/nas/home/hrathod/anaconda3/lib/python3.8/site-packages/IPython/core/interactiveshell.py:3146: DtypeWarning: Columns (40,41,42) have mixed types.Specify dtype option on import or set low_memory=False.\n",
      "  has_raised = await self.run_ast_nodes(code_ast.body, cell_name,\n",
      "/nas/home/hrathod/anaconda3/lib/python3.8/site-packages/IPython/core/interactiveshell.py:3146: DtypeWarning: Columns (40,41,42) have mixed types.Specify dtype option on import or set low_memory=False.\n",
      "  has_raised = await self.run_ast_nodes(code_ast.body, cell_name,\n",
      "/nas/home/hrathod/anaconda3/lib/python3.8/site-packages/IPython/core/interactiveshell.py:3146: DtypeWarning: Columns (40,41,42) have mixed types.Specify dtype option on import or set low_memory=False.\n",
      "  has_raised = await self.run_ast_nodes(code_ast.body, cell_name,\n"
     ]
    },
    {
     "name": "stdout",
     "output_type": "stream",
     "text": [
      "15\n",
      "Bin Covering 6 9 4\n",
      "33\n"
     ]
    },
    {
     "name": "stderr",
     "output_type": "stream",
     "text": [
      "/nas/home/hrathod/anaconda3/lib/python3.8/site-packages/IPython/core/interactiveshell.py:3146: DtypeWarning: Columns (40,41,42) have mixed types.Specify dtype option on import or set low_memory=False.\n",
      "  has_raised = await self.run_ast_nodes(code_ast.body, cell_name,\n",
      "/nas/home/hrathod/anaconda3/lib/python3.8/site-packages/IPython/core/interactiveshell.py:3146: DtypeWarning: Columns (47) have mixed types.Specify dtype option on import or set low_memory=False.\n",
      "  has_raised = await self.run_ast_nodes(code_ast.body, cell_name,\n",
      "/nas/home/hrathod/anaconda3/lib/python3.8/site-packages/IPython/core/interactiveshell.py:3146: DtypeWarning: Columns (40,41,42) have mixed types.Specify dtype option on import or set low_memory=False.\n",
      "  has_raised = await self.run_ast_nodes(code_ast.body, cell_name,\n",
      "/nas/home/hrathod/anaconda3/lib/python3.8/site-packages/IPython/core/interactiveshell.py:3146: DtypeWarning: Columns (47) have mixed types.Specify dtype option on import or set low_memory=False.\n",
      "  has_raised = await self.run_ast_nodes(code_ast.body, cell_name,\n"
     ]
    },
    {
     "name": "stdout",
     "output_type": "stream",
     "text": [
      "15\n",
      "Bin Covering 6 9 5\n",
      "65\n"
     ]
    },
    {
     "name": "stderr",
     "output_type": "stream",
     "text": [
      "/nas/home/hrathod/anaconda3/lib/python3.8/site-packages/IPython/core/interactiveshell.py:3146: DtypeWarning: Columns (40,41,42) have mixed types.Specify dtype option on import or set low_memory=False.\n",
      "  has_raised = await self.run_ast_nodes(code_ast.body, cell_name,\n",
      "/nas/home/hrathod/anaconda3/lib/python3.8/site-packages/IPython/core/interactiveshell.py:3146: DtypeWarning: Columns (47) have mixed types.Specify dtype option on import or set low_memory=False.\n",
      "  has_raised = await self.run_ast_nodes(code_ast.body, cell_name,\n",
      "/nas/home/hrathod/anaconda3/lib/python3.8/site-packages/IPython/core/interactiveshell.py:3146: DtypeWarning: Columns (47) have mixed types.Specify dtype option on import or set low_memory=False.\n",
      "  has_raised = await self.run_ast_nodes(code_ast.body, cell_name,\n"
     ]
    },
    {
     "name": "stdout",
     "output_type": "stream",
     "text": [
      "15\n",
      "Bin Covering 6 9 6\n",
      "128\n"
     ]
    },
    {
     "name": "stderr",
     "output_type": "stream",
     "text": [
      "/nas/home/hrathod/anaconda3/lib/python3.8/site-packages/IPython/core/interactiveshell.py:3146: DtypeWarning: Columns (47) have mixed types.Specify dtype option on import or set low_memory=False.\n",
      "  has_raised = await self.run_ast_nodes(code_ast.body, cell_name,\n",
      "/nas/home/hrathod/anaconda3/lib/python3.8/site-packages/IPython/core/interactiveshell.py:3146: DtypeWarning: Columns (40,41,42) have mixed types.Specify dtype option on import or set low_memory=False.\n",
      "  has_raised = await self.run_ast_nodes(code_ast.body, cell_name,\n"
     ]
    },
    {
     "name": "stdout",
     "output_type": "stream",
     "text": [
      "15\n",
      "Bin Covering 6 9 7\n",
      "249\n"
     ]
    },
    {
     "name": "stderr",
     "output_type": "stream",
     "text": [
      "/nas/home/hrathod/anaconda3/lib/python3.8/site-packages/IPython/core/interactiveshell.py:3146: DtypeWarning: Columns (27,28,29,34,36,40,41,42,47) have mixed types.Specify dtype option on import or set low_memory=False.\n",
      "  has_raised = await self.run_ast_nodes(code_ast.body, cell_name,\n"
     ]
    },
    {
     "name": "stdout",
     "output_type": "stream",
     "text": [
      "15\n",
      "Bin Covering 6 9 8\n",
      "456\n",
      "15\n",
      "Bin Covering 6 9 9\n",
      "1235\n",
      "15\n",
      "Bin Covering 7 0 0\n",
      "52\n",
      "15\n",
      "Bin Covering 7 0 1\n",
      "12\n"
     ]
    },
    {
     "name": "stderr",
     "output_type": "stream",
     "text": [
      "/nas/home/hrathod/anaconda3/lib/python3.8/site-packages/IPython/core/interactiveshell.py:3146: DtypeWarning: Columns (47) have mixed types.Specify dtype option on import or set low_memory=False.\n",
      "  has_raised = await self.run_ast_nodes(code_ast.body, cell_name,\n"
     ]
    },
    {
     "name": "stdout",
     "output_type": "stream",
     "text": [
      "12\n",
      "Bin Covering 7 0 2\n",
      "68\n",
      "15\n",
      "Bin Covering 7 0 3\n",
      "71\n"
     ]
    },
    {
     "name": "stderr",
     "output_type": "stream",
     "text": [
      "/nas/home/hrathod/anaconda3/lib/python3.8/site-packages/IPython/core/interactiveshell.py:3146: DtypeWarning: Columns (42,47) have mixed types.Specify dtype option on import or set low_memory=False.\n",
      "  has_raised = await self.run_ast_nodes(code_ast.body, cell_name,\n"
     ]
    },
    {
     "name": "stdout",
     "output_type": "stream",
     "text": [
      "15\n",
      "Bin Covering 7 0 4\n",
      "269\n",
      "15\n",
      "Bin Covering 7 0 5\n",
      "525\n",
      "15\n",
      "Bin Covering 7 0 6\n",
      "959\n",
      "15\n",
      "Bin Covering 7 0 7\n",
      "1660\n",
      "15\n",
      "Bin Covering 7 0 8\n",
      "2003\n",
      "15\n",
      "Bin Covering 7 0 9\n",
      "1649\n",
      "15\n",
      "Bin Covering 7 1 0\n",
      "Bin Covering 7 1 1\n",
      "Bin Covering 7 1 2\n",
      "Bin Covering 7 1 3\n",
      "Bin Covering 7 1 4\n",
      "Bin Covering 7 1 5\n",
      "Bin Covering 7 1 6\n",
      "Bin Covering 7 1 7\n",
      "Bin Covering 7 1 8\n",
      "Bin Covering 7 1 9\n",
      "Bin Covering 7 2 0\n",
      "Bin Covering 7 2 1\n",
      "Bin Covering 7 2 2\n",
      "Bin Covering 7 2 3\n",
      "Bin Covering 7 2 4\n",
      "Bin Covering 7 2 5\n",
      "Bin Covering 7 2 6\n",
      "Bin Covering 7 2 7\n",
      "Bin Covering 7 2 8\n",
      "Bin Covering 7 2 9\n",
      "Bin Covering 7 3 0\n",
      "Bin Covering 7 3 1\n",
      "Bin Covering 7 3 2\n",
      "Bin Covering 7 3 3\n",
      "Bin Covering 7 3 4\n",
      "Bin Covering 7 3 5\n",
      "Bin Covering 7 3 6\n",
      "Bin Covering 7 3 7\n",
      "Bin Covering 7 3 8\n",
      "Bin Covering 7 3 9\n",
      "Bin Covering 7 4 0\n",
      "3\n",
      "3\n",
      "Bin Covering 7 4 1\n",
      "Bin Covering 7 4 2\n",
      "1\n",
      "1\n",
      "Bin Covering 7 4 3\n",
      "7\n",
      "7\n",
      "Bin Covering 7 4 4\n",
      "19\n",
      "15\n",
      "Bin Covering 7 4 5\n",
      "14\n"
     ]
    },
    {
     "name": "stderr",
     "output_type": "stream",
     "text": [
      "/nas/home/hrathod/anaconda3/lib/python3.8/site-packages/IPython/core/interactiveshell.py:3146: DtypeWarning: Columns (47) have mixed types.Specify dtype option on import or set low_memory=False.\n",
      "  has_raised = await self.run_ast_nodes(code_ast.body, cell_name,\n"
     ]
    },
    {
     "name": "stdout",
     "output_type": "stream",
     "text": [
      "14\n",
      "Bin Covering 7 4 6\n",
      "96\n",
      "15\n",
      "Bin Covering 7 4 7\n",
      "174\n",
      "15\n",
      "Bin Covering 7 4 8\n",
      "138\n"
     ]
    },
    {
     "name": "stderr",
     "output_type": "stream",
     "text": [
      "/nas/home/hrathod/anaconda3/lib/python3.8/site-packages/IPython/core/interactiveshell.py:3146: DtypeWarning: Columns (40,41,42,47) have mixed types.Specify dtype option on import or set low_memory=False.\n",
      "  has_raised = await self.run_ast_nodes(code_ast.body, cell_name,\n",
      "/nas/home/hrathod/anaconda3/lib/python3.8/site-packages/IPython/core/interactiveshell.py:3146: DtypeWarning: Columns (40,41,42) have mixed types.Specify dtype option on import or set low_memory=False.\n",
      "  has_raised = await self.run_ast_nodes(code_ast.body, cell_name,\n",
      "/nas/home/hrathod/anaconda3/lib/python3.8/site-packages/IPython/core/interactiveshell.py:3146: DtypeWarning: Columns (40,41,42) have mixed types.Specify dtype option on import or set low_memory=False.\n",
      "  has_raised = await self.run_ast_nodes(code_ast.body, cell_name,\n",
      "/nas/home/hrathod/anaconda3/lib/python3.8/site-packages/IPython/core/interactiveshell.py:3146: DtypeWarning: Columns (40,41,42) have mixed types.Specify dtype option on import or set low_memory=False.\n",
      "  has_raised = await self.run_ast_nodes(code_ast.body, cell_name,\n",
      "/nas/home/hrathod/anaconda3/lib/python3.8/site-packages/IPython/core/interactiveshell.py:3146: DtypeWarning: Columns (40,41,42,47) have mixed types.Specify dtype option on import or set low_memory=False.\n",
      "  has_raised = await self.run_ast_nodes(code_ast.body, cell_name,\n"
     ]
    },
    {
     "name": "stdout",
     "output_type": "stream",
     "text": [
      "15\n",
      "Bin Covering 7 4 9\n",
      "137\n"
     ]
    },
    {
     "name": "stderr",
     "output_type": "stream",
     "text": [
      "/nas/home/hrathod/anaconda3/lib/python3.8/site-packages/IPython/core/interactiveshell.py:3146: DtypeWarning: Columns (40,41,42,47) have mixed types.Specify dtype option on import or set low_memory=False.\n",
      "  has_raised = await self.run_ast_nodes(code_ast.body, cell_name,\n",
      "/nas/home/hrathod/anaconda3/lib/python3.8/site-packages/IPython/core/interactiveshell.py:3146: DtypeWarning: Columns (40,41,42,47) have mixed types.Specify dtype option on import or set low_memory=False.\n",
      "  has_raised = await self.run_ast_nodes(code_ast.body, cell_name,\n",
      "/nas/home/hrathod/anaconda3/lib/python3.8/site-packages/IPython/core/interactiveshell.py:3146: DtypeWarning: Columns (40,41,42) have mixed types.Specify dtype option on import or set low_memory=False.\n",
      "  has_raised = await self.run_ast_nodes(code_ast.body, cell_name,\n"
     ]
    },
    {
     "name": "stdout",
     "output_type": "stream",
     "text": [
      "15\n",
      "Bin Covering 7 5 0\n",
      "80\n"
     ]
    },
    {
     "name": "stderr",
     "output_type": "stream",
     "text": [
      "/nas/home/hrathod/anaconda3/lib/python3.8/site-packages/IPython/core/interactiveshell.py:3146: DtypeWarning: Columns (27,28,29,34,36,40,41,42,47) have mixed types.Specify dtype option on import or set low_memory=False.\n",
      "  has_raised = await self.run_ast_nodes(code_ast.body, cell_name,\n",
      "/nas/home/hrathod/anaconda3/lib/python3.8/site-packages/IPython/core/interactiveshell.py:3146: DtypeWarning: Columns (27,28,29,34,36,40,41,42,47) have mixed types.Specify dtype option on import or set low_memory=False.\n",
      "  has_raised = await self.run_ast_nodes(code_ast.body, cell_name,\n",
      "/nas/home/hrathod/anaconda3/lib/python3.8/site-packages/IPython/core/interactiveshell.py:3146: DtypeWarning: Columns (27,28,29,34,36,40,41,42,47) have mixed types.Specify dtype option on import or set low_memory=False.\n",
      "  has_raised = await self.run_ast_nodes(code_ast.body, cell_name,\n",
      "/nas/home/hrathod/anaconda3/lib/python3.8/site-packages/IPython/core/interactiveshell.py:3146: DtypeWarning: Columns (27,28,29,34,36,40,41,42,47) have mixed types.Specify dtype option on import or set low_memory=False.\n",
      "  has_raised = await self.run_ast_nodes(code_ast.body, cell_name,\n",
      "/nas/home/hrathod/anaconda3/lib/python3.8/site-packages/IPython/core/interactiveshell.py:3146: DtypeWarning: Columns (27,28,29,34,36,40,41,42,47) have mixed types.Specify dtype option on import or set low_memory=False.\n",
      "  has_raised = await self.run_ast_nodes(code_ast.body, cell_name,\n",
      "/nas/home/hrathod/anaconda3/lib/python3.8/site-packages/IPython/core/interactiveshell.py:3146: DtypeWarning: Columns (27,28,29,34,36,40,41,42,47) have mixed types.Specify dtype option on import or set low_memory=False.\n",
      "  has_raised = await self.run_ast_nodes(code_ast.body, cell_name,\n",
      "/nas/home/hrathod/anaconda3/lib/python3.8/site-packages/IPython/core/interactiveshell.py:3146: DtypeWarning: Columns (27,28,29,34,36,40,41,42,47) have mixed types.Specify dtype option on import or set low_memory=False.\n",
      "  has_raised = await self.run_ast_nodes(code_ast.body, cell_name,\n",
      "/nas/home/hrathod/anaconda3/lib/python3.8/site-packages/IPython/core/interactiveshell.py:3146: DtypeWarning: Columns (27,28,29,34,36,40,41,42,47) have mixed types.Specify dtype option on import or set low_memory=False.\n",
      "  has_raised = await self.run_ast_nodes(code_ast.body, cell_name,\n"
     ]
    },
    {
     "name": "stdout",
     "output_type": "stream",
     "text": [
      "15\n",
      "Bin Covering 7 5 1\n",
      "85\n",
      "15\n",
      "Bin Covering 7 5 2\n",
      "233\n"
     ]
    },
    {
     "name": "stderr",
     "output_type": "stream",
     "text": [
      "/nas/home/hrathod/anaconda3/lib/python3.8/site-packages/IPython/core/interactiveshell.py:3146: DtypeWarning: Columns (40,41,42,47) have mixed types.Specify dtype option on import or set low_memory=False.\n",
      "  has_raised = await self.run_ast_nodes(code_ast.body, cell_name,\n",
      "/nas/home/hrathod/anaconda3/lib/python3.8/site-packages/IPython/core/interactiveshell.py:3146: DtypeWarning: Columns (47) have mixed types.Specify dtype option on import or set low_memory=False.\n",
      "  has_raised = await self.run_ast_nodes(code_ast.body, cell_name,\n"
     ]
    },
    {
     "name": "stdout",
     "output_type": "stream",
     "text": [
      "15\n",
      "Bin Covering 7 5 3\n",
      "495\n",
      "15\n",
      "Bin Covering 7 5 4\n",
      "1433\n",
      "15\n",
      "Bin Covering 7 5 5\n",
      "3338\n"
     ]
    },
    {
     "name": "stderr",
     "output_type": "stream",
     "text": [
      "/nas/home/hrathod/anaconda3/lib/python3.8/site-packages/IPython/core/interactiveshell.py:3146: DtypeWarning: Columns (42,47) have mixed types.Specify dtype option on import or set low_memory=False.\n",
      "  has_raised = await self.run_ast_nodes(code_ast.body, cell_name,\n"
     ]
    },
    {
     "name": "stdout",
     "output_type": "stream",
     "text": [
      "15\n",
      "Bin Covering 7 5 6\n",
      "6053\n",
      "15\n",
      "Bin Covering 7 5 7\n",
      "10045\n",
      "15\n",
      "Bin Covering 7 5 8\n",
      "13133\n"
     ]
    },
    {
     "name": "stderr",
     "output_type": "stream",
     "text": [
      "/nas/home/hrathod/anaconda3/lib/python3.8/site-packages/IPython/core/interactiveshell.py:3146: DtypeWarning: Columns (40,41,42,47) have mixed types.Specify dtype option on import or set low_memory=False.\n",
      "  has_raised = await self.run_ast_nodes(code_ast.body, cell_name,\n",
      "/nas/home/hrathod/anaconda3/lib/python3.8/site-packages/IPython/core/interactiveshell.py:3146: DtypeWarning: Columns (27,28,29,34,36,40,41,42,47) have mixed types.Specify dtype option on import or set low_memory=False.\n",
      "  has_raised = await self.run_ast_nodes(code_ast.body, cell_name,\n"
     ]
    },
    {
     "name": "stdout",
     "output_type": "stream",
     "text": [
      "15\n",
      "Bin Covering 7 5 9\n",
      "13438\n"
     ]
    },
    {
     "name": "stderr",
     "output_type": "stream",
     "text": [
      "/nas/home/hrathod/anaconda3/lib/python3.8/site-packages/IPython/core/interactiveshell.py:3146: DtypeWarning: Columns (40,41,42,47) have mixed types.Specify dtype option on import or set low_memory=False.\n",
      "  has_raised = await self.run_ast_nodes(code_ast.body, cell_name,\n"
     ]
    },
    {
     "name": "stdout",
     "output_type": "stream",
     "text": [
      "15\n",
      "Bin Covering 7 6 0\n",
      "Bin Covering 7 6 1\n",
      "Bin Covering 7 6 2\n",
      "Bin Covering 7 6 3\n",
      "Bin Covering 7 6 4\n",
      "Bin Covering 7 6 5\n",
      "Bin Covering 7 6 6\n",
      "Bin Covering 7 6 7\n",
      "Bin Covering 7 6 8\n",
      "Bin Covering 7 6 9\n",
      "Bin Covering 7 7 0\n",
      "4\n",
      "4\n",
      "Bin Covering 7 7 1\n",
      "11\n",
      "11\n",
      "Bin Covering 7 7 2\n",
      "45\n",
      "15\n",
      "Bin Covering 7 7 3\n",
      "93\n",
      "15\n",
      "Bin Covering 7 7 4\n",
      "458\n",
      "15\n",
      "Bin Covering 7 7 5\n",
      "1222\n",
      "15\n",
      "Bin Covering 7 7 6\n",
      "2749\n"
     ]
    },
    {
     "name": "stderr",
     "output_type": "stream",
     "text": [
      "/nas/home/hrathod/anaconda3/lib/python3.8/site-packages/IPython/core/interactiveshell.py:3146: DtypeWarning: Columns (47) have mixed types.Specify dtype option on import or set low_memory=False.\n",
      "  has_raised = await self.run_ast_nodes(code_ast.body, cell_name,\n"
     ]
    },
    {
     "name": "stdout",
     "output_type": "stream",
     "text": [
      "15\n",
      "Bin Covering 7 7 7\n",
      "6509\n",
      "15\n",
      "Bin Covering 7 7 8\n",
      "10085\n"
     ]
    },
    {
     "name": "stderr",
     "output_type": "stream",
     "text": [
      "/nas/home/hrathod/anaconda3/lib/python3.8/site-packages/IPython/core/interactiveshell.py:3146: DtypeWarning: Columns (49) have mixed types.Specify dtype option on import or set low_memory=False.\n",
      "  has_raised = await self.run_ast_nodes(code_ast.body, cell_name,\n",
      "/nas/home/hrathod/anaconda3/lib/python3.8/site-packages/IPython/core/interactiveshell.py:3146: DtypeWarning: Columns (27,28,29,34,36,40,41,42,47) have mixed types.Specify dtype option on import or set low_memory=False.\n",
      "  has_raised = await self.run_ast_nodes(code_ast.body, cell_name,\n"
     ]
    },
    {
     "name": "stdout",
     "output_type": "stream",
     "text": [
      "15\n",
      "Bin Covering 7 7 9\n",
      "9105\n"
     ]
    },
    {
     "name": "stderr",
     "output_type": "stream",
     "text": [
      "/nas/home/hrathod/anaconda3/lib/python3.8/site-packages/IPython/core/interactiveshell.py:3146: DtypeWarning: Columns (42,47) have mixed types.Specify dtype option on import or set low_memory=False.\n",
      "  has_raised = await self.run_ast_nodes(code_ast.body, cell_name,\n"
     ]
    },
    {
     "name": "stdout",
     "output_type": "stream",
     "text": [
      "15\n",
      "Bin Covering 7 8 0\n",
      "Bin Covering 7 8 1\n",
      "Bin Covering 7 8 2\n",
      "3\n",
      "3\n",
      "Bin Covering 7 8 3\n",
      "3\n",
      "3\n",
      "Bin Covering 7 8 4\n",
      "41\n"
     ]
    },
    {
     "name": "stderr",
     "output_type": "stream",
     "text": [
      "/nas/home/hrathod/anaconda3/lib/python3.8/site-packages/IPython/core/interactiveshell.py:3146: DtypeWarning: Columns (40,41,42) have mixed types.Specify dtype option on import or set low_memory=False.\n",
      "  has_raised = await self.run_ast_nodes(code_ast.body, cell_name,\n"
     ]
    },
    {
     "name": "stdout",
     "output_type": "stream",
     "text": [
      "15\n",
      "Bin Covering 7 8 5\n",
      "131\n",
      "15\n",
      "Bin Covering 7 8 6\n",
      "498\n",
      "15\n",
      "Bin Covering 7 8 7\n",
      "1757\n",
      "15\n",
      "Bin Covering 7 8 8\n",
      "2786\n"
     ]
    },
    {
     "name": "stderr",
     "output_type": "stream",
     "text": [
      "/nas/home/hrathod/anaconda3/lib/python3.8/site-packages/IPython/core/interactiveshell.py:3146: DtypeWarning: Columns (47) have mixed types.Specify dtype option on import or set low_memory=False.\n",
      "  has_raised = await self.run_ast_nodes(code_ast.body, cell_name,\n"
     ]
    },
    {
     "name": "stdout",
     "output_type": "stream",
     "text": [
      "15\n",
      "Bin Covering 7 8 9\n",
      "2652\n"
     ]
    },
    {
     "name": "stderr",
     "output_type": "stream",
     "text": [
      "/nas/home/hrathod/anaconda3/lib/python3.8/site-packages/IPython/core/interactiveshell.py:3146: DtypeWarning: Columns (40,41,42) have mixed types.Specify dtype option on import or set low_memory=False.\n",
      "  has_raised = await self.run_ast_nodes(code_ast.body, cell_name,\n"
     ]
    },
    {
     "name": "stdout",
     "output_type": "stream",
     "text": [
      "15\n",
      "Bin Covering 7 9 0\n",
      "1\n",
      "1\n",
      "Bin Covering 7 9 1\n",
      "Bin Covering 7 9 2\n",
      "Bin Covering 7 9 3\n",
      "Bin Covering 7 9 4\n",
      "9\n"
     ]
    },
    {
     "name": "stderr",
     "output_type": "stream",
     "text": [
      "/nas/home/hrathod/anaconda3/lib/python3.8/site-packages/IPython/core/interactiveshell.py:3146: DtypeWarning: Columns (47) have mixed types.Specify dtype option on import or set low_memory=False.\n",
      "  has_raised = await self.run_ast_nodes(code_ast.body, cell_name,\n"
     ]
    },
    {
     "name": "stdout",
     "output_type": "stream",
     "text": [
      "9\n",
      "Bin Covering 7 9 5\n",
      "16\n"
     ]
    },
    {
     "name": "stderr",
     "output_type": "stream",
     "text": [
      "/nas/home/hrathod/anaconda3/lib/python3.8/site-packages/IPython/core/interactiveshell.py:3146: DtypeWarning: Columns (47) have mixed types.Specify dtype option on import or set low_memory=False.\n",
      "  has_raised = await self.run_ast_nodes(code_ast.body, cell_name,\n"
     ]
    },
    {
     "name": "stdout",
     "output_type": "stream",
     "text": [
      "15\n",
      "Bin Covering 7 9 6\n",
      "57\n"
     ]
    },
    {
     "name": "stderr",
     "output_type": "stream",
     "text": [
      "/nas/home/hrathod/anaconda3/lib/python3.8/site-packages/IPython/core/interactiveshell.py:3146: DtypeWarning: Columns (47) have mixed types.Specify dtype option on import or set low_memory=False.\n",
      "  has_raised = await self.run_ast_nodes(code_ast.body, cell_name,\n"
     ]
    },
    {
     "name": "stdout",
     "output_type": "stream",
     "text": [
      "15\n",
      "Bin Covering 7 9 7\n",
      "345\n"
     ]
    },
    {
     "name": "stderr",
     "output_type": "stream",
     "text": [
      "/nas/home/hrathod/anaconda3/lib/python3.8/site-packages/IPython/core/interactiveshell.py:3146: DtypeWarning: Columns (47) have mixed types.Specify dtype option on import or set low_memory=False.\n",
      "  has_raised = await self.run_ast_nodes(code_ast.body, cell_name,\n"
     ]
    },
    {
     "name": "stdout",
     "output_type": "stream",
     "text": [
      "15\n",
      "Bin Covering 7 9 8\n",
      "718\n"
     ]
    },
    {
     "name": "stderr",
     "output_type": "stream",
     "text": [
      "/nas/home/hrathod/anaconda3/lib/python3.8/site-packages/IPython/core/interactiveshell.py:3146: DtypeWarning: Columns (40,41,42) have mixed types.Specify dtype option on import or set low_memory=False.\n",
      "  has_raised = await self.run_ast_nodes(code_ast.body, cell_name,\n"
     ]
    },
    {
     "name": "stdout",
     "output_type": "stream",
     "text": [
      "15\n",
      "Bin Covering 7 9 9\n",
      "1044\n"
     ]
    },
    {
     "name": "stderr",
     "output_type": "stream",
     "text": [
      "/nas/home/hrathod/anaconda3/lib/python3.8/site-packages/IPython/core/interactiveshell.py:3146: DtypeWarning: Columns (42,47) have mixed types.Specify dtype option on import or set low_memory=False.\n",
      "  has_raised = await self.run_ast_nodes(code_ast.body, cell_name,\n",
      "/nas/home/hrathod/anaconda3/lib/python3.8/site-packages/IPython/core/interactiveshell.py:3146: DtypeWarning: Columns (42,47) have mixed types.Specify dtype option on import or set low_memory=False.\n",
      "  has_raised = await self.run_ast_nodes(code_ast.body, cell_name,\n"
     ]
    },
    {
     "name": "stdout",
     "output_type": "stream",
     "text": [
      "15\n",
      "Bin Covering 8 0 0\n",
      "171\n",
      "15\n",
      "Bin Covering 8 0 1\n",
      "Bin Covering 8 0 2\n",
      "Bin Covering 8 0 3\n",
      "Bin Covering 8 0 4\n",
      "Bin Covering 8 0 5\n",
      "32\n",
      "15\n",
      "Bin Covering 8 0 6\n",
      "21\n"
     ]
    },
    {
     "name": "stderr",
     "output_type": "stream",
     "text": [
      "/nas/home/hrathod/anaconda3/lib/python3.8/site-packages/IPython/core/interactiveshell.py:3146: DtypeWarning: Columns (42,47) have mixed types.Specify dtype option on import or set low_memory=False.\n",
      "  has_raised = await self.run_ast_nodes(code_ast.body, cell_name,\n",
      "/nas/home/hrathod/anaconda3/lib/python3.8/site-packages/IPython/core/interactiveshell.py:3146: DtypeWarning: Columns (27,28,29,34,36,40,41,42) have mixed types.Specify dtype option on import or set low_memory=False.\n",
      "  has_raised = await self.run_ast_nodes(code_ast.body, cell_name,\n"
     ]
    },
    {
     "name": "stdout",
     "output_type": "stream",
     "text": [
      "15\n",
      "Bin Covering 8 0 7\n",
      "68\n",
      "15\n",
      "Bin Covering 8 0 8\n",
      "462\n",
      "15\n",
      "Bin Covering 8 0 9\n",
      "6514\n",
      "15\n",
      "Bin Covering 8 1 0\n",
      "Bin Covering 8 1 1\n",
      "Bin Covering 8 1 2\n",
      "Bin Covering 8 1 3\n",
      "Bin Covering 8 1 4\n",
      "Bin Covering 8 1 5\n",
      "Bin Covering 8 1 6\n",
      "Bin Covering 8 1 7\n",
      "Bin Covering 8 1 8\n",
      "Bin Covering 8 1 9\n",
      "Bin Covering 8 2 0\n",
      "Bin Covering 8 2 1\n",
      "Bin Covering 8 2 2\n",
      "Bin Covering 8 2 3\n",
      "Bin Covering 8 2 4\n",
      "Bin Covering 8 2 5\n",
      "Bin Covering 8 2 6\n",
      "Bin Covering 8 2 7\n",
      "Bin Covering 8 2 8\n",
      "Bin Covering 8 2 9\n",
      "Bin Covering 8 3 0\n",
      "Bin Covering 8 3 1\n",
      "Bin Covering 8 3 2\n",
      "Bin Covering 8 3 3\n",
      "Bin Covering 8 3 4\n",
      "Bin Covering 8 3 5\n",
      "Bin Covering 8 3 6\n",
      "Bin Covering 8 3 7\n",
      "Bin Covering 8 3 8\n",
      "Bin Covering 8 3 9\n",
      "Bin Covering 8 4 0\n",
      "82\n",
      "15\n",
      "Bin Covering 8 4 1\n",
      "Bin Covering 8 4 2\n",
      "Bin Covering 8 4 3\n",
      "Bin Covering 8 4 4\n",
      "Bin Covering 8 4 5\n",
      "1\n",
      "1\n",
      "Bin Covering 8 4 6\n",
      "6\n",
      "6\n",
      "Bin Covering 8 4 7\n",
      "33\n",
      "15\n",
      "Bin Covering 8 4 8\n",
      "14\n"
     ]
    },
    {
     "name": "stderr",
     "output_type": "stream",
     "text": [
      "/nas/home/hrathod/anaconda3/lib/python3.8/site-packages/IPython/core/interactiveshell.py:3146: DtypeWarning: Columns (27,28,29,34,36,40,41,42) have mixed types.Specify dtype option on import or set low_memory=False.\n",
      "  has_raised = await self.run_ast_nodes(code_ast.body, cell_name,\n"
     ]
    },
    {
     "name": "stdout",
     "output_type": "stream",
     "text": [
      "14\n",
      "Bin Covering 8 4 9\n",
      "453\n"
     ]
    },
    {
     "name": "stderr",
     "output_type": "stream",
     "text": [
      "/nas/home/hrathod/anaconda3/lib/python3.8/site-packages/IPython/core/interactiveshell.py:3146: DtypeWarning: Columns (40,41,42,47) have mixed types.Specify dtype option on import or set low_memory=False.\n",
      "  has_raised = await self.run_ast_nodes(code_ast.body, cell_name,\n",
      "/nas/home/hrathod/anaconda3/lib/python3.8/site-packages/IPython/core/interactiveshell.py:3146: DtypeWarning: Columns (40,41,42) have mixed types.Specify dtype option on import or set low_memory=False.\n",
      "  has_raised = await self.run_ast_nodes(code_ast.body, cell_name,\n",
      "/nas/home/hrathod/anaconda3/lib/python3.8/site-packages/IPython/core/interactiveshell.py:3146: DtypeWarning: Columns (40,41,42) have mixed types.Specify dtype option on import or set low_memory=False.\n",
      "  has_raised = await self.run_ast_nodes(code_ast.body, cell_name,\n"
     ]
    },
    {
     "name": "stdout",
     "output_type": "stream",
     "text": [
      "15\n",
      "Bin Covering 8 5 0\n",
      "493\n",
      "15\n",
      "Bin Covering 8 5 1\n",
      "Bin Covering 8 5 2\n",
      "Bin Covering 8 5 3\n",
      "Bin Covering 8 5 4\n",
      "Bin Covering 8 5 5\n",
      "72\n"
     ]
    },
    {
     "name": "stderr",
     "output_type": "stream",
     "text": [
      "/nas/home/hrathod/anaconda3/lib/python3.8/site-packages/IPython/core/interactiveshell.py:3146: DtypeWarning: Columns (42,47) have mixed types.Specify dtype option on import or set low_memory=False.\n",
      "  has_raised = await self.run_ast_nodes(code_ast.body, cell_name,\n",
      "/nas/home/hrathod/anaconda3/lib/python3.8/site-packages/IPython/core/interactiveshell.py:3146: DtypeWarning: Columns (42,47) have mixed types.Specify dtype option on import or set low_memory=False.\n",
      "  has_raised = await self.run_ast_nodes(code_ast.body, cell_name,\n",
      "/nas/home/hrathod/anaconda3/lib/python3.8/site-packages/IPython/core/interactiveshell.py:3146: DtypeWarning: Columns (42,47) have mixed types.Specify dtype option on import or set low_memory=False.\n",
      "  has_raised = await self.run_ast_nodes(code_ast.body, cell_name,\n"
     ]
    },
    {
     "name": "stdout",
     "output_type": "stream",
     "text": [
      "15\n",
      "Bin Covering 8 5 6\n",
      "85\n"
     ]
    },
    {
     "name": "stderr",
     "output_type": "stream",
     "text": [
      "/nas/home/hrathod/anaconda3/lib/python3.8/site-packages/IPython/core/interactiveshell.py:3146: DtypeWarning: Columns (40,41,42,47) have mixed types.Specify dtype option on import or set low_memory=False.\n",
      "  has_raised = await self.run_ast_nodes(code_ast.body, cell_name,\n"
     ]
    },
    {
     "name": "stdout",
     "output_type": "stream",
     "text": [
      "15\n",
      "Bin Covering 8 5 7\n",
      "107\n",
      "15\n",
      "Bin Covering 8 5 8\n",
      "948\n",
      "15\n",
      "Bin Covering 8 5 9\n",
      "46628\n",
      "15\n",
      "Bin Covering 8 6 0\n",
      "Bin Covering 8 6 1\n",
      "Bin Covering 8 6 2\n",
      "Bin Covering 8 6 3\n",
      "Bin Covering 8 6 4\n",
      "Bin Covering 8 6 5\n",
      "Bin Covering 8 6 6\n",
      "Bin Covering 8 6 7\n",
      "Bin Covering 8 6 8\n",
      "Bin Covering 8 6 9\n",
      "Bin Covering 8 7 0\n",
      "204\n",
      "15\n",
      "Bin Covering 8 7 1\n",
      "Bin Covering 8 7 2\n",
      "Bin Covering 8 7 3\n",
      "Bin Covering 8 7 4\n",
      "Bin Covering 8 7 5\n",
      "65\n",
      "15\n",
      "Bin Covering 8 7 6\n",
      "63\n",
      "15\n",
      "Bin Covering 8 7 7\n",
      "81\n"
     ]
    },
    {
     "name": "stderr",
     "output_type": "stream",
     "text": [
      "/nas/home/hrathod/anaconda3/lib/python3.8/site-packages/IPython/core/interactiveshell.py:3146: DtypeWarning: Columns (49) have mixed types.Specify dtype option on import or set low_memory=False.\n",
      "  has_raised = await self.run_ast_nodes(code_ast.body, cell_name,\n"
     ]
    },
    {
     "name": "stdout",
     "output_type": "stream",
     "text": [
      "15\n",
      "Bin Covering 8 7 8\n",
      "662\n"
     ]
    },
    {
     "name": "stderr",
     "output_type": "stream",
     "text": [
      "/nas/home/hrathod/anaconda3/lib/python3.8/site-packages/IPython/core/interactiveshell.py:3146: DtypeWarning: Columns (49) have mixed types.Specify dtype option on import or set low_memory=False.\n",
      "  has_raised = await self.run_ast_nodes(code_ast.body, cell_name,\n"
     ]
    },
    {
     "name": "stdout",
     "output_type": "stream",
     "text": [
      "15\n",
      "Bin Covering 8 7 9\n",
      "29206\n",
      "15\n",
      "Bin Covering 8 8 0\n",
      "58\n",
      "15\n",
      "Bin Covering 8 8 1\n",
      "Bin Covering 8 8 2\n",
      "Bin Covering 8 8 3\n",
      "Bin Covering 8 8 4\n",
      "Bin Covering 8 8 5\n",
      "9\n",
      "9\n",
      "Bin Covering 8 8 6\n",
      "7\n",
      "7\n",
      "Bin Covering 8 8 7\n",
      "16\n",
      "15\n",
      "Bin Covering 8 8 8\n",
      "146\n",
      "15\n",
      "Bin Covering 8 8 9\n",
      "7635\n"
     ]
    },
    {
     "name": "stderr",
     "output_type": "stream",
     "text": [
      "/nas/home/hrathod/anaconda3/lib/python3.8/site-packages/IPython/core/interactiveshell.py:3146: DtypeWarning: Columns (42,43,44,49) have mixed types.Specify dtype option on import or set low_memory=False.\n",
      "  has_raised = await self.run_ast_nodes(code_ast.body, cell_name,\n"
     ]
    },
    {
     "name": "stdout",
     "output_type": "stream",
     "text": [
      "15\n",
      "Bin Covering 8 9 0\n",
      "9\n",
      "9\n",
      "Bin Covering 8 9 1\n",
      "Bin Covering 8 9 2\n",
      "Bin Covering 8 9 3\n",
      "Bin Covering 8 9 4\n",
      "Bin Covering 8 9 5\n",
      "4\n",
      "4\n",
      "Bin Covering 8 9 6\n",
      "Bin Covering 8 9 7\n",
      "5\n",
      "5\n",
      "Bin Covering 8 9 8\n",
      "18\n",
      "15\n",
      "Bin Covering 8 9 9\n",
      "2154\n"
     ]
    },
    {
     "name": "stderr",
     "output_type": "stream",
     "text": [
      "/nas/home/hrathod/anaconda3/lib/python3.8/site-packages/IPython/core/interactiveshell.py:3146: DtypeWarning: Columns (40,41,42) have mixed types.Specify dtype option on import or set low_memory=False.\n",
      "  has_raised = await self.run_ast_nodes(code_ast.body, cell_name,\n"
     ]
    },
    {
     "name": "stdout",
     "output_type": "stream",
     "text": [
      "15\n",
      "Bin Covering 9 0 0\n",
      "585\n"
     ]
    },
    {
     "name": "stderr",
     "output_type": "stream",
     "text": [
      "/nas/home/hrathod/anaconda3/lib/python3.8/site-packages/IPython/core/interactiveshell.py:3146: DtypeWarning: Columns (27,28,29,34,36,40,41,42,47) have mixed types.Specify dtype option on import or set low_memory=False.\n",
      "  has_raised = await self.run_ast_nodes(code_ast.body, cell_name,\n"
     ]
    },
    {
     "name": "stdout",
     "output_type": "stream",
     "text": [
      "15\n",
      "Bin Covering 9 0 1\n",
      "392\n"
     ]
    },
    {
     "name": "stderr",
     "output_type": "stream",
     "text": [
      "/nas/home/hrathod/anaconda3/lib/python3.8/site-packages/IPython/core/interactiveshell.py:3146: DtypeWarning: Columns (40,41,42,47) have mixed types.Specify dtype option on import or set low_memory=False.\n",
      "  has_raised = await self.run_ast_nodes(code_ast.body, cell_name,\n"
     ]
    },
    {
     "name": "stdout",
     "output_type": "stream",
     "text": [
      "15\n",
      "Bin Covering 9 0 2\n",
      "214\n"
     ]
    },
    {
     "name": "stderr",
     "output_type": "stream",
     "text": [
      "/nas/home/hrathod/anaconda3/lib/python3.8/site-packages/IPython/core/interactiveshell.py:3146: DtypeWarning: Columns (42,47) have mixed types.Specify dtype option on import or set low_memory=False.\n",
      "  has_raised = await self.run_ast_nodes(code_ast.body, cell_name,\n"
     ]
    },
    {
     "name": "stdout",
     "output_type": "stream",
     "text": [
      "15\n",
      "Bin Covering 9 0 3\n",
      "164\n",
      "15\n",
      "Bin Covering 9 0 4\n",
      "113\n",
      "15\n",
      "Bin Covering 9 0 5\n",
      "62\n",
      "15\n",
      "Bin Covering 9 0 6\n",
      "18\n"
     ]
    },
    {
     "name": "stderr",
     "output_type": "stream",
     "text": [
      "/nas/home/hrathod/anaconda3/lib/python3.8/site-packages/IPython/core/interactiveshell.py:3146: DtypeWarning: Columns (47) have mixed types.Specify dtype option on import or set low_memory=False.\n",
      "  has_raised = await self.run_ast_nodes(code_ast.body, cell_name,\n"
     ]
    },
    {
     "name": "stdout",
     "output_type": "stream",
     "text": [
      "15\n",
      "Bin Covering 9 0 7\n",
      "30\n",
      "15\n",
      "Bin Covering 9 0 8\n",
      "8\n",
      "8\n",
      "Bin Covering 9 0 9\n",
      "4\n",
      "4\n",
      "Bin Covering 9 1 0\n",
      "296\n"
     ]
    },
    {
     "name": "stderr",
     "output_type": "stream",
     "text": [
      "/nas/home/hrathod/anaconda3/lib/python3.8/site-packages/IPython/core/interactiveshell.py:3146: DtypeWarning: Columns (42,47) have mixed types.Specify dtype option on import or set low_memory=False.\n",
      "  has_raised = await self.run_ast_nodes(code_ast.body, cell_name,\n"
     ]
    },
    {
     "name": "stdout",
     "output_type": "stream",
     "text": [
      "15\n",
      "Bin Covering 9 1 1\n",
      "392\n"
     ]
    },
    {
     "name": "stderr",
     "output_type": "stream",
     "text": [
      "/nas/home/hrathod/anaconda3/lib/python3.8/site-packages/IPython/core/interactiveshell.py:3146: DtypeWarning: Columns (49) have mixed types.Specify dtype option on import or set low_memory=False.\n",
      "  has_raised = await self.run_ast_nodes(code_ast.body, cell_name,\n",
      "/nas/home/hrathod/anaconda3/lib/python3.8/site-packages/IPython/core/interactiveshell.py:3146: DtypeWarning: Columns (47) have mixed types.Specify dtype option on import or set low_memory=False.\n",
      "  has_raised = await self.run_ast_nodes(code_ast.body, cell_name,\n",
      "/nas/home/hrathod/anaconda3/lib/python3.8/site-packages/IPython/core/interactiveshell.py:3146: DtypeWarning: Columns (47) have mixed types.Specify dtype option on import or set low_memory=False.\n",
      "  has_raised = await self.run_ast_nodes(code_ast.body, cell_name,\n"
     ]
    },
    {
     "name": "stdout",
     "output_type": "stream",
     "text": [
      "15\n",
      "Bin Covering 9 1 2\n",
      "357\n"
     ]
    },
    {
     "name": "stderr",
     "output_type": "stream",
     "text": [
      "/nas/home/hrathod/anaconda3/lib/python3.8/site-packages/IPython/core/interactiveshell.py:3146: DtypeWarning: Columns (47) have mixed types.Specify dtype option on import or set low_memory=False.\n",
      "  has_raised = await self.run_ast_nodes(code_ast.body, cell_name,\n"
     ]
    },
    {
     "name": "stdout",
     "output_type": "stream",
     "text": [
      "15\n",
      "Bin Covering 9 1 3\n",
      "246\n"
     ]
    },
    {
     "name": "stderr",
     "output_type": "stream",
     "text": [
      "/nas/home/hrathod/anaconda3/lib/python3.8/site-packages/IPython/core/interactiveshell.py:3146: DtypeWarning: Columns (42,47) have mixed types.Specify dtype option on import or set low_memory=False.\n",
      "  has_raised = await self.run_ast_nodes(code_ast.body, cell_name,\n"
     ]
    },
    {
     "name": "stdout",
     "output_type": "stream",
     "text": [
      "15\n",
      "Bin Covering 9 1 4\n",
      "237\n"
     ]
    },
    {
     "name": "stderr",
     "output_type": "stream",
     "text": [
      "/nas/home/hrathod/anaconda3/lib/python3.8/site-packages/IPython/core/interactiveshell.py:3146: DtypeWarning: Columns (47) have mixed types.Specify dtype option on import or set low_memory=False.\n",
      "  has_raised = await self.run_ast_nodes(code_ast.body, cell_name,\n",
      "/nas/home/hrathod/anaconda3/lib/python3.8/site-packages/IPython/core/interactiveshell.py:3146: DtypeWarning: Columns (47) have mixed types.Specify dtype option on import or set low_memory=False.\n",
      "  has_raised = await self.run_ast_nodes(code_ast.body, cell_name,\n",
      "/nas/home/hrathod/anaconda3/lib/python3.8/site-packages/IPython/core/interactiveshell.py:3146: DtypeWarning: Columns (42,47) have mixed types.Specify dtype option on import or set low_memory=False.\n",
      "  has_raised = await self.run_ast_nodes(code_ast.body, cell_name,\n"
     ]
    },
    {
     "name": "stdout",
     "output_type": "stream",
     "text": [
      "15\n",
      "Bin Covering 9 1 5\n",
      "192\n",
      "15\n",
      "Bin Covering 9 1 6\n",
      "92\n"
     ]
    },
    {
     "name": "stderr",
     "output_type": "stream",
     "text": [
      "/nas/home/hrathod/anaconda3/lib/python3.8/site-packages/IPython/core/interactiveshell.py:3146: DtypeWarning: Columns (42,47) have mixed types.Specify dtype option on import or set low_memory=False.\n",
      "  has_raised = await self.run_ast_nodes(code_ast.body, cell_name,\n"
     ]
    },
    {
     "name": "stdout",
     "output_type": "stream",
     "text": [
      "15\n",
      "Bin Covering 9 1 7\n",
      "45\n",
      "15\n",
      "Bin Covering 9 1 8\n",
      "35\n"
     ]
    },
    {
     "name": "stderr",
     "output_type": "stream",
     "text": [
      "/nas/home/hrathod/anaconda3/lib/python3.8/site-packages/IPython/core/interactiveshell.py:3146: DtypeWarning: Columns (42,47) have mixed types.Specify dtype option on import or set low_memory=False.\n",
      "  has_raised = await self.run_ast_nodes(code_ast.body, cell_name,\n",
      "/nas/home/hrathod/anaconda3/lib/python3.8/site-packages/IPython/core/interactiveshell.py:3146: DtypeWarning: Columns (42,47) have mixed types.Specify dtype option on import or set low_memory=False.\n",
      "  has_raised = await self.run_ast_nodes(code_ast.body, cell_name,\n",
      "/nas/home/hrathod/anaconda3/lib/python3.8/site-packages/IPython/core/interactiveshell.py:3146: DtypeWarning: Columns (42,47) have mixed types.Specify dtype option on import or set low_memory=False.\n",
      "  has_raised = await self.run_ast_nodes(code_ast.body, cell_name,\n",
      "/nas/home/hrathod/anaconda3/lib/python3.8/site-packages/IPython/core/interactiveshell.py:3146: DtypeWarning: Columns (42,47) have mixed types.Specify dtype option on import or set low_memory=False.\n",
      "  has_raised = await self.run_ast_nodes(code_ast.body, cell_name,\n"
     ]
    },
    {
     "name": "stdout",
     "output_type": "stream",
     "text": [
      "15\n",
      "Bin Covering 9 1 9\n",
      "19\n"
     ]
    },
    {
     "name": "stderr",
     "output_type": "stream",
     "text": [
      "/nas/home/hrathod/anaconda3/lib/python3.8/site-packages/IPython/core/interactiveshell.py:3146: DtypeWarning: Columns (42,47) have mixed types.Specify dtype option on import or set low_memory=False.\n",
      "  has_raised = await self.run_ast_nodes(code_ast.body, cell_name,\n"
     ]
    },
    {
     "name": "stdout",
     "output_type": "stream",
     "text": [
      "15\n",
      "Bin Covering 9 2 0\n",
      "161\n",
      "15\n",
      "Bin Covering 9 2 1\n",
      "400\n",
      "15\n",
      "Bin Covering 9 2 2\n",
      "445\n",
      "15\n",
      "Bin Covering 9 2 3\n",
      "330\n"
     ]
    },
    {
     "name": "stderr",
     "output_type": "stream",
     "text": [
      "/nas/home/hrathod/anaconda3/lib/python3.8/site-packages/IPython/core/interactiveshell.py:3146: DtypeWarning: Columns (27,28,29,34,36,40,41,42,47) have mixed types.Specify dtype option on import or set low_memory=False.\n",
      "  has_raised = await self.run_ast_nodes(code_ast.body, cell_name,\n"
     ]
    },
    {
     "name": "stdout",
     "output_type": "stream",
     "text": [
      "15\n",
      "Bin Covering 9 2 4\n",
      "301\n",
      "15\n",
      "Bin Covering 9 2 5\n",
      "276\n",
      "15\n",
      "Bin Covering 9 2 6\n",
      "257\n",
      "15\n",
      "Bin Covering 9 2 7\n",
      "205\n",
      "15\n",
      "Bin Covering 9 2 8\n",
      "91\n"
     ]
    },
    {
     "name": "stderr",
     "output_type": "stream",
     "text": [
      "/nas/home/hrathod/anaconda3/lib/python3.8/site-packages/IPython/core/interactiveshell.py:3146: DtypeWarning: Columns (42,47) have mixed types.Specify dtype option on import or set low_memory=False.\n",
      "  has_raised = await self.run_ast_nodes(code_ast.body, cell_name,\n",
      "/nas/home/hrathod/anaconda3/lib/python3.8/site-packages/IPython/core/interactiveshell.py:3146: DtypeWarning: Columns (42,47) have mixed types.Specify dtype option on import or set low_memory=False.\n",
      "  has_raised = await self.run_ast_nodes(code_ast.body, cell_name,\n"
     ]
    },
    {
     "name": "stdout",
     "output_type": "stream",
     "text": [
      "15\n",
      "Bin Covering 9 2 9\n",
      "33\n"
     ]
    },
    {
     "name": "stderr",
     "output_type": "stream",
     "text": [
      "/nas/home/hrathod/anaconda3/lib/python3.8/site-packages/IPython/core/interactiveshell.py:3146: DtypeWarning: Columns (47) have mixed types.Specify dtype option on import or set low_memory=False.\n",
      "  has_raised = await self.run_ast_nodes(code_ast.body, cell_name,\n",
      "/nas/home/hrathod/anaconda3/lib/python3.8/site-packages/IPython/core/interactiveshell.py:3146: DtypeWarning: Columns (47) have mixed types.Specify dtype option on import or set low_memory=False.\n",
      "  has_raised = await self.run_ast_nodes(code_ast.body, cell_name,\n",
      "/nas/home/hrathod/anaconda3/lib/python3.8/site-packages/IPython/core/interactiveshell.py:3146: DtypeWarning: Columns (47) have mixed types.Specify dtype option on import or set low_memory=False.\n",
      "  has_raised = await self.run_ast_nodes(code_ast.body, cell_name,\n",
      "/nas/home/hrathod/anaconda3/lib/python3.8/site-packages/IPython/core/interactiveshell.py:3146: DtypeWarning: Columns (47) have mixed types.Specify dtype option on import or set low_memory=False.\n",
      "  has_raised = await self.run_ast_nodes(code_ast.body, cell_name,\n"
     ]
    },
    {
     "name": "stdout",
     "output_type": "stream",
     "text": [
      "15\n",
      "Bin Covering 9 3 0\n",
      "119\n",
      "15\n",
      "Bin Covering 9 3 1\n",
      "309\n"
     ]
    },
    {
     "name": "stderr",
     "output_type": "stream",
     "text": [
      "/nas/home/hrathod/anaconda3/lib/python3.8/site-packages/IPython/core/interactiveshell.py:3146: DtypeWarning: Columns (40,41,42) have mixed types.Specify dtype option on import or set low_memory=False.\n",
      "  has_raised = await self.run_ast_nodes(code_ast.body, cell_name,\n"
     ]
    },
    {
     "name": "stdout",
     "output_type": "stream",
     "text": [
      "15\n",
      "Bin Covering 9 3 2\n",
      "441\n",
      "15\n",
      "Bin Covering 9 3 3\n",
      "484\n",
      "15\n",
      "Bin Covering 9 3 4\n",
      "476\n"
     ]
    },
    {
     "name": "stderr",
     "output_type": "stream",
     "text": [
      "/nas/home/hrathod/anaconda3/lib/python3.8/site-packages/IPython/core/interactiveshell.py:3146: DtypeWarning: Columns (47) have mixed types.Specify dtype option on import or set low_memory=False.\n",
      "  has_raised = await self.run_ast_nodes(code_ast.body, cell_name,\n"
     ]
    },
    {
     "name": "stdout",
     "output_type": "stream",
     "text": [
      "15\n",
      "Bin Covering 9 3 5\n",
      "433\n",
      "15\n",
      "Bin Covering 9 3 6\n",
      "444\n",
      "15\n",
      "Bin Covering 9 3 7\n",
      "408\n",
      "15\n",
      "Bin Covering 9 3 8\n",
      "225\n"
     ]
    },
    {
     "name": "stderr",
     "output_type": "stream",
     "text": [
      "/nas/home/hrathod/anaconda3/lib/python3.8/site-packages/IPython/core/interactiveshell.py:3146: DtypeWarning: Columns (42,47) have mixed types.Specify dtype option on import or set low_memory=False.\n",
      "  has_raised = await self.run_ast_nodes(code_ast.body, cell_name,\n"
     ]
    },
    {
     "name": "stdout",
     "output_type": "stream",
     "text": [
      "15\n",
      "Bin Covering 9 3 9\n",
      "118\n",
      "15\n",
      "Bin Covering 9 4 0\n",
      "108\n"
     ]
    },
    {
     "name": "stderr",
     "output_type": "stream",
     "text": [
      "/nas/home/hrathod/anaconda3/lib/python3.8/site-packages/IPython/core/interactiveshell.py:3146: DtypeWarning: Columns (47) have mixed types.Specify dtype option on import or set low_memory=False.\n",
      "  has_raised = await self.run_ast_nodes(code_ast.body, cell_name,\n",
      "/nas/home/hrathod/anaconda3/lib/python3.8/site-packages/IPython/core/interactiveshell.py:3146: DtypeWarning: Columns (47) have mixed types.Specify dtype option on import or set low_memory=False.\n",
      "  has_raised = await self.run_ast_nodes(code_ast.body, cell_name,\n",
      "/nas/home/hrathod/anaconda3/lib/python3.8/site-packages/IPython/core/interactiveshell.py:3146: DtypeWarning: Columns (47) have mixed types.Specify dtype option on import or set low_memory=False.\n",
      "  has_raised = await self.run_ast_nodes(code_ast.body, cell_name,\n"
     ]
    },
    {
     "name": "stdout",
     "output_type": "stream",
     "text": [
      "15\n",
      "Bin Covering 9 4 1\n",
      "334\n",
      "15\n",
      "Bin Covering 9 4 2\n",
      "424\n"
     ]
    },
    {
     "name": "stderr",
     "output_type": "stream",
     "text": [
      "/nas/home/hrathod/anaconda3/lib/python3.8/site-packages/IPython/core/interactiveshell.py:3146: DtypeWarning: Columns (47) have mixed types.Specify dtype option on import or set low_memory=False.\n",
      "  has_raised = await self.run_ast_nodes(code_ast.body, cell_name,\n"
     ]
    },
    {
     "name": "stdout",
     "output_type": "stream",
     "text": [
      "15\n",
      "Bin Covering 9 4 3\n",
      "538\n"
     ]
    },
    {
     "name": "stderr",
     "output_type": "stream",
     "text": [
      "/nas/home/hrathod/anaconda3/lib/python3.8/site-packages/IPython/core/interactiveshell.py:3146: DtypeWarning: Columns (49) have mixed types.Specify dtype option on import or set low_memory=False.\n",
      "  has_raised = await self.run_ast_nodes(code_ast.body, cell_name,\n"
     ]
    },
    {
     "name": "stdout",
     "output_type": "stream",
     "text": [
      "15\n",
      "Bin Covering 9 4 4\n",
      "464\n",
      "15\n",
      "Bin Covering 9 4 5\n",
      "464\n"
     ]
    },
    {
     "name": "stderr",
     "output_type": "stream",
     "text": [
      "/nas/home/hrathod/anaconda3/lib/python3.8/site-packages/IPython/core/interactiveshell.py:3146: DtypeWarning: Columns (27,28,29,34,36,40,41,42,47) have mixed types.Specify dtype option on import or set low_memory=False.\n",
      "  has_raised = await self.run_ast_nodes(code_ast.body, cell_name,\n"
     ]
    },
    {
     "name": "stdout",
     "output_type": "stream",
     "text": [
      "15\n",
      "Bin Covering 9 4 6\n",
      "503\n",
      "15\n",
      "Bin Covering 9 4 7\n",
      "532\n",
      "15\n",
      "Bin Covering 9 4 8\n",
      "485\n"
     ]
    },
    {
     "name": "stderr",
     "output_type": "stream",
     "text": [
      "/nas/home/hrathod/anaconda3/lib/python3.8/site-packages/IPython/core/interactiveshell.py:3146: DtypeWarning: Columns (42,47) have mixed types.Specify dtype option on import or set low_memory=False.\n",
      "  has_raised = await self.run_ast_nodes(code_ast.body, cell_name,\n"
     ]
    },
    {
     "name": "stdout",
     "output_type": "stream",
     "text": [
      "15\n",
      "Bin Covering 9 4 9\n",
      "85\n"
     ]
    },
    {
     "name": "stderr",
     "output_type": "stream",
     "text": [
      "/nas/home/hrathod/anaconda3/lib/python3.8/site-packages/IPython/core/interactiveshell.py:3146: DtypeWarning: Columns (42,47) have mixed types.Specify dtype option on import or set low_memory=False.\n",
      "  has_raised = await self.run_ast_nodes(code_ast.body, cell_name,\n"
     ]
    },
    {
     "name": "stdout",
     "output_type": "stream",
     "text": [
      "15\n",
      "Bin Covering 9 5 0\n",
      "103\n",
      "15\n",
      "Bin Covering 9 5 1\n",
      "325\n"
     ]
    },
    {
     "name": "stderr",
     "output_type": "stream",
     "text": [
      "/nas/home/hrathod/anaconda3/lib/python3.8/site-packages/IPython/core/interactiveshell.py:3146: DtypeWarning: Columns (47) have mixed types.Specify dtype option on import or set low_memory=False.\n",
      "  has_raised = await self.run_ast_nodes(code_ast.body, cell_name,\n"
     ]
    },
    {
     "name": "stdout",
     "output_type": "stream",
     "text": [
      "15\n",
      "Bin Covering 9 5 2\n",
      "411\n"
     ]
    },
    {
     "name": "stderr",
     "output_type": "stream",
     "text": [
      "/nas/home/hrathod/anaconda3/lib/python3.8/site-packages/IPython/core/interactiveshell.py:3146: DtypeWarning: Columns (47) have mixed types.Specify dtype option on import or set low_memory=False.\n",
      "  has_raised = await self.run_ast_nodes(code_ast.body, cell_name,\n"
     ]
    },
    {
     "name": "stdout",
     "output_type": "stream",
     "text": [
      "15\n",
      "Bin Covering 9 5 3\n",
      "563\n",
      "15\n",
      "Bin Covering 9 5 4\n",
      "672\n",
      "15\n",
      "Bin Covering 9 5 5\n",
      "641\n",
      "15\n",
      "Bin Covering 9 5 6\n",
      "592\n",
      "15\n",
      "Bin Covering 9 5 7\n",
      "744\n",
      "15\n",
      "Bin Covering 9 5 8\n",
      "738\n"
     ]
    },
    {
     "name": "stderr",
     "output_type": "stream",
     "text": [
      "/nas/home/hrathod/anaconda3/lib/python3.8/site-packages/IPython/core/interactiveshell.py:3146: DtypeWarning: Columns (40,41,42,47) have mixed types.Specify dtype option on import or set low_memory=False.\n",
      "  has_raised = await self.run_ast_nodes(code_ast.body, cell_name,\n"
     ]
    },
    {
     "name": "stdout",
     "output_type": "stream",
     "text": [
      "15\n",
      "Bin Covering 9 5 9\n",
      "259\n",
      "15\n",
      "Bin Covering 9 6 0\n",
      "62\n"
     ]
    },
    {
     "name": "stderr",
     "output_type": "stream",
     "text": [
      "/nas/home/hrathod/anaconda3/lib/python3.8/site-packages/IPython/core/interactiveshell.py:3146: DtypeWarning: Columns (40,41,42,47) have mixed types.Specify dtype option on import or set low_memory=False.\n",
      "  has_raised = await self.run_ast_nodes(code_ast.body, cell_name,\n",
      "/nas/home/hrathod/anaconda3/lib/python3.8/site-packages/IPython/core/interactiveshell.py:3146: DtypeWarning: Columns (42) have mixed types.Specify dtype option on import or set low_memory=False.\n",
      "  has_raised = await self.run_ast_nodes(code_ast.body, cell_name,\n",
      "/nas/home/hrathod/anaconda3/lib/python3.8/site-packages/IPython/core/interactiveshell.py:3146: DtypeWarning: Columns (42) have mixed types.Specify dtype option on import or set low_memory=False.\n",
      "  has_raised = await self.run_ast_nodes(code_ast.body, cell_name,\n"
     ]
    },
    {
     "name": "stdout",
     "output_type": "stream",
     "text": [
      "15\n",
      "Bin Covering 9 6 1\n",
      "216\n"
     ]
    },
    {
     "name": "stderr",
     "output_type": "stream",
     "text": [
      "/nas/home/hrathod/anaconda3/lib/python3.8/site-packages/IPython/core/interactiveshell.py:3146: DtypeWarning: Columns (42) have mixed types.Specify dtype option on import or set low_memory=False.\n",
      "  has_raised = await self.run_ast_nodes(code_ast.body, cell_name,\n",
      "/nas/home/hrathod/anaconda3/lib/python3.8/site-packages/IPython/core/interactiveshell.py:3146: DtypeWarning: Columns (40,41,42,47) have mixed types.Specify dtype option on import or set low_memory=False.\n",
      "  has_raised = await self.run_ast_nodes(code_ast.body, cell_name,\n",
      "/nas/home/hrathod/anaconda3/lib/python3.8/site-packages/IPython/core/interactiveshell.py:3146: DtypeWarning: Columns (42) have mixed types.Specify dtype option on import or set low_memory=False.\n",
      "  has_raised = await self.run_ast_nodes(code_ast.body, cell_name,\n"
     ]
    },
    {
     "name": "stdout",
     "output_type": "stream",
     "text": [
      "15\n",
      "Bin Covering 9 6 2\n",
      "388\n"
     ]
    },
    {
     "name": "stderr",
     "output_type": "stream",
     "text": [
      "/nas/home/hrathod/anaconda3/lib/python3.8/site-packages/IPython/core/interactiveshell.py:3146: DtypeWarning: Columns (42,47) have mixed types.Specify dtype option on import or set low_memory=False.\n",
      "  has_raised = await self.run_ast_nodes(code_ast.body, cell_name,\n"
     ]
    },
    {
     "name": "stdout",
     "output_type": "stream",
     "text": [
      "15\n",
      "Bin Covering 9 6 3\n",
      "574\n",
      "15\n",
      "Bin Covering 9 6 4\n",
      "749\n"
     ]
    },
    {
     "name": "stderr",
     "output_type": "stream",
     "text": [
      "/nas/home/hrathod/anaconda3/lib/python3.8/site-packages/IPython/core/interactiveshell.py:3146: DtypeWarning: Columns (42) have mixed types.Specify dtype option on import or set low_memory=False.\n",
      "  has_raised = await self.run_ast_nodes(code_ast.body, cell_name,\n",
      "/nas/home/hrathod/anaconda3/lib/python3.8/site-packages/IPython/core/interactiveshell.py:3146: DtypeWarning: Columns (42) have mixed types.Specify dtype option on import or set low_memory=False.\n",
      "  has_raised = await self.run_ast_nodes(code_ast.body, cell_name,\n"
     ]
    },
    {
     "name": "stdout",
     "output_type": "stream",
     "text": [
      "15\n",
      "Bin Covering 9 6 5\n",
      "785\n"
     ]
    },
    {
     "name": "stderr",
     "output_type": "stream",
     "text": [
      "/nas/home/hrathod/anaconda3/lib/python3.8/site-packages/IPython/core/interactiveshell.py:3146: DtypeWarning: Columns (40,41,42,47) have mixed types.Specify dtype option on import or set low_memory=False.\n",
      "  has_raised = await self.run_ast_nodes(code_ast.body, cell_name,\n",
      "/nas/home/hrathod/anaconda3/lib/python3.8/site-packages/IPython/core/interactiveshell.py:3146: DtypeWarning: Columns (42,47) have mixed types.Specify dtype option on import or set low_memory=False.\n",
      "  has_raised = await self.run_ast_nodes(code_ast.body, cell_name,\n"
     ]
    },
    {
     "name": "stdout",
     "output_type": "stream",
     "text": [
      "15\n",
      "Bin Covering 9 6 6\n",
      "856\n",
      "15\n",
      "Bin Covering 9 6 7\n",
      "889\n",
      "15\n",
      "Bin Covering 9 6 8\n",
      "953\n",
      "15\n",
      "Bin Covering 9 6 9\n",
      "443\n",
      "15\n",
      "Bin Covering 9 7 0\n",
      "64\n",
      "15\n",
      "Bin Covering 9 7 1\n",
      "220\n"
     ]
    },
    {
     "name": "stderr",
     "output_type": "stream",
     "text": [
      "/nas/home/hrathod/anaconda3/lib/python3.8/site-packages/IPython/core/interactiveshell.py:3146: DtypeWarning: Columns (42,47) have mixed types.Specify dtype option on import or set low_memory=False.\n",
      "  has_raised = await self.run_ast_nodes(code_ast.body, cell_name,\n"
     ]
    },
    {
     "name": "stdout",
     "output_type": "stream",
     "text": [
      "15\n",
      "Bin Covering 9 7 2\n",
      "435\n",
      "15\n",
      "Bin Covering 9 7 3\n",
      "653\n"
     ]
    },
    {
     "name": "stderr",
     "output_type": "stream",
     "text": [
      "/nas/home/hrathod/anaconda3/lib/python3.8/site-packages/IPython/core/interactiveshell.py:3146: DtypeWarning: Columns (27,28,29,34,36,40,41,42) have mixed types.Specify dtype option on import or set low_memory=False.\n",
      "  has_raised = await self.run_ast_nodes(code_ast.body, cell_name,\n"
     ]
    },
    {
     "name": "stdout",
     "output_type": "stream",
     "text": [
      "15\n",
      "Bin Covering 9 7 4\n",
      "794\n"
     ]
    },
    {
     "name": "stderr",
     "output_type": "stream",
     "text": [
      "/nas/home/hrathod/anaconda3/lib/python3.8/site-packages/IPython/core/interactiveshell.py:3146: DtypeWarning: Columns (42,47) have mixed types.Specify dtype option on import or set low_memory=False.\n",
      "  has_raised = await self.run_ast_nodes(code_ast.body, cell_name,\n"
     ]
    },
    {
     "name": "stdout",
     "output_type": "stream",
     "text": [
      "15\n",
      "Bin Covering 9 7 5\n",
      "983\n",
      "15\n",
      "Bin Covering 9 7 6\n",
      "1051\n"
     ]
    },
    {
     "name": "stderr",
     "output_type": "stream",
     "text": [
      "/nas/home/hrathod/anaconda3/lib/python3.8/site-packages/IPython/core/interactiveshell.py:3146: DtypeWarning: Columns (47) have mixed types.Specify dtype option on import or set low_memory=False.\n",
      "  has_raised = await self.run_ast_nodes(code_ast.body, cell_name,\n"
     ]
    },
    {
     "name": "stdout",
     "output_type": "stream",
     "text": [
      "15\n",
      "Bin Covering 9 7 7\n",
      "1279\n"
     ]
    },
    {
     "name": "stderr",
     "output_type": "stream",
     "text": [
      "/nas/home/hrathod/anaconda3/lib/python3.8/site-packages/IPython/core/interactiveshell.py:3146: DtypeWarning: Columns (42,47) have mixed types.Specify dtype option on import or set low_memory=False.\n",
      "  has_raised = await self.run_ast_nodes(code_ast.body, cell_name,\n"
     ]
    },
    {
     "name": "stdout",
     "output_type": "stream",
     "text": [
      "15\n",
      "Bin Covering 9 7 8\n",
      "1634\n",
      "15\n",
      "Bin Covering 9 7 9\n",
      "609\n",
      "15\n",
      "Bin Covering 9 8 0\n",
      "65\n",
      "15\n",
      "Bin Covering 9 8 1\n",
      "293\n",
      "15\n",
      "Bin Covering 9 8 2\n",
      "463\n"
     ]
    },
    {
     "name": "stderr",
     "output_type": "stream",
     "text": [
      "/nas/home/hrathod/anaconda3/lib/python3.8/site-packages/IPython/core/interactiveshell.py:3146: DtypeWarning: Columns (47) have mixed types.Specify dtype option on import or set low_memory=False.\n",
      "  has_raised = await self.run_ast_nodes(code_ast.body, cell_name,\n",
      "/nas/home/hrathod/anaconda3/lib/python3.8/site-packages/IPython/core/interactiveshell.py:3146: DtypeWarning: Columns (47) have mixed types.Specify dtype option on import or set low_memory=False.\n",
      "  has_raised = await self.run_ast_nodes(code_ast.body, cell_name,\n",
      "/nas/home/hrathod/anaconda3/lib/python3.8/site-packages/IPython/core/interactiveshell.py:3146: DtypeWarning: Columns (47) have mixed types.Specify dtype option on import or set low_memory=False.\n",
      "  has_raised = await self.run_ast_nodes(code_ast.body, cell_name,\n"
     ]
    },
    {
     "name": "stdout",
     "output_type": "stream",
     "text": [
      "15\n",
      "Bin Covering 9 8 3\n",
      "668\n",
      "15\n",
      "Bin Covering 9 8 4\n",
      "979\n"
     ]
    },
    {
     "name": "stderr",
     "output_type": "stream",
     "text": [
      "/nas/home/hrathod/anaconda3/lib/python3.8/site-packages/IPython/core/interactiveshell.py:3146: DtypeWarning: Columns (49) have mixed types.Specify dtype option on import or set low_memory=False.\n",
      "  has_raised = await self.run_ast_nodes(code_ast.body, cell_name,\n"
     ]
    },
    {
     "name": "stdout",
     "output_type": "stream",
     "text": [
      "15\n",
      "Bin Covering 9 8 5\n",
      "1182\n"
     ]
    },
    {
     "name": "stderr",
     "output_type": "stream",
     "text": [
      "/nas/home/hrathod/anaconda3/lib/python3.8/site-packages/IPython/core/interactiveshell.py:3146: DtypeWarning: Columns (27,28,29,34,36,40,41,42) have mixed types.Specify dtype option on import or set low_memory=False.\n",
      "  has_raised = await self.run_ast_nodes(code_ast.body, cell_name,\n"
     ]
    },
    {
     "name": "stdout",
     "output_type": "stream",
     "text": [
      "15\n",
      "Bin Covering 9 8 6\n",
      "1453\n"
     ]
    },
    {
     "name": "stderr",
     "output_type": "stream",
     "text": [
      "/nas/home/hrathod/anaconda3/lib/python3.8/site-packages/IPython/core/interactiveshell.py:3146: DtypeWarning: Columns (47) have mixed types.Specify dtype option on import or set low_memory=False.\n",
      "  has_raised = await self.run_ast_nodes(code_ast.body, cell_name,\n"
     ]
    },
    {
     "name": "stdout",
     "output_type": "stream",
     "text": [
      "15\n",
      "Bin Covering 9 8 7\n",
      "1735\n",
      "15\n",
      "Bin Covering 9 8 8\n",
      "2443\n"
     ]
    },
    {
     "name": "stderr",
     "output_type": "stream",
     "text": [
      "/nas/home/hrathod/anaconda3/lib/python3.8/site-packages/IPython/core/interactiveshell.py:3146: DtypeWarning: Columns (42,47) have mixed types.Specify dtype option on import or set low_memory=False.\n",
      "  has_raised = await self.run_ast_nodes(code_ast.body, cell_name,\n"
     ]
    },
    {
     "name": "stdout",
     "output_type": "stream",
     "text": [
      "15\n",
      "Bin Covering 9 8 9\n",
      "1187\n",
      "15\n",
      "Bin Covering 9 9 0\n",
      "76\n",
      "15\n",
      "Bin Covering 9 9 1\n",
      "366\n",
      "15\n",
      "Bin Covering 9 9 2\n",
      "913\n"
     ]
    },
    {
     "name": "stderr",
     "output_type": "stream",
     "text": [
      "/nas/home/hrathod/anaconda3/lib/python3.8/site-packages/IPython/core/interactiveshell.py:3146: DtypeWarning: Columns (47) have mixed types.Specify dtype option on import or set low_memory=False.\n",
      "  has_raised = await self.run_ast_nodes(code_ast.body, cell_name,\n",
      "/nas/home/hrathod/anaconda3/lib/python3.8/site-packages/IPython/core/interactiveshell.py:3146: DtypeWarning: Columns (42,43,44,49) have mixed types.Specify dtype option on import or set low_memory=False.\n",
      "  has_raised = await self.run_ast_nodes(code_ast.body, cell_name,\n"
     ]
    },
    {
     "name": "stdout",
     "output_type": "stream",
     "text": [
      "15\n",
      "Bin Covering 9 9 3\n",
      "1562\n"
     ]
    },
    {
     "name": "stderr",
     "output_type": "stream",
     "text": [
      "/nas/home/hrathod/anaconda3/lib/python3.8/site-packages/IPython/core/interactiveshell.py:3146: DtypeWarning: Columns (47) have mixed types.Specify dtype option on import or set low_memory=False.\n",
      "  has_raised = await self.run_ast_nodes(code_ast.body, cell_name,\n"
     ]
    },
    {
     "name": "stdout",
     "output_type": "stream",
     "text": [
      "15\n",
      "Bin Covering 9 9 4\n",
      "2166\n",
      "15\n",
      "Bin Covering 9 9 5\n",
      "3317\n",
      "15\n",
      "Bin Covering 9 9 6\n",
      "4872\n",
      "15\n",
      "Bin Covering 9 9 7\n",
      "7238\n",
      "15\n",
      "Bin Covering 9 9 8\n",
      "10694\n",
      "15\n",
      "Bin Covering 9 9 9\n",
      "22781\n",
      "15\n",
      "Bin Covering 10 0 0\n",
      "120\n"
     ]
    },
    {
     "name": "stderr",
     "output_type": "stream",
     "text": [
      "/nas/home/hrathod/anaconda3/lib/python3.8/site-packages/IPython/core/interactiveshell.py:3146: DtypeWarning: Columns (27,28,29,34,36,40,41,42,47) have mixed types.Specify dtype option on import or set low_memory=False.\n",
      "  has_raised = await self.run_ast_nodes(code_ast.body, cell_name,\n",
      "/nas/home/hrathod/anaconda3/lib/python3.8/site-packages/IPython/core/interactiveshell.py:3146: DtypeWarning: Columns (27,28,29,34,36,40,41,42,47) have mixed types.Specify dtype option on import or set low_memory=False.\n",
      "  has_raised = await self.run_ast_nodes(code_ast.body, cell_name,\n",
      "/nas/home/hrathod/anaconda3/lib/python3.8/site-packages/IPython/core/interactiveshell.py:3146: DtypeWarning: Columns (27,28,29,34,36,40,41,42,47) have mixed types.Specify dtype option on import or set low_memory=False.\n",
      "  has_raised = await self.run_ast_nodes(code_ast.body, cell_name,\n",
      "/nas/home/hrathod/anaconda3/lib/python3.8/site-packages/IPython/core/interactiveshell.py:3146: DtypeWarning: Columns (27,28,29,34,36,40,41,42,47) have mixed types.Specify dtype option on import or set low_memory=False.\n",
      "  has_raised = await self.run_ast_nodes(code_ast.body, cell_name,\n",
      "/nas/home/hrathod/anaconda3/lib/python3.8/site-packages/IPython/core/interactiveshell.py:3146: DtypeWarning: Columns (27,28,29,34,36,40,41,42,47) have mixed types.Specify dtype option on import or set low_memory=False.\n",
      "  has_raised = await self.run_ast_nodes(code_ast.body, cell_name,\n",
      "/nas/home/hrathod/anaconda3/lib/python3.8/site-packages/IPython/core/interactiveshell.py:3146: DtypeWarning: Columns (27,28,29,34,36,40,41,42,47) have mixed types.Specify dtype option on import or set low_memory=False.\n",
      "  has_raised = await self.run_ast_nodes(code_ast.body, cell_name,\n",
      "/nas/home/hrathod/anaconda3/lib/python3.8/site-packages/IPython/core/interactiveshell.py:3146: DtypeWarning: Columns (27,28,29,34,36,40,41,42,47) have mixed types.Specify dtype option on import or set low_memory=False.\n",
      "  has_raised = await self.run_ast_nodes(code_ast.body, cell_name,\n",
      "/nas/home/hrathod/anaconda3/lib/python3.8/site-packages/IPython/core/interactiveshell.py:3146: DtypeWarning: Columns (27,28,29,34,36,40,41,42,47) have mixed types.Specify dtype option on import or set low_memory=False.\n",
      "  has_raised = await self.run_ast_nodes(code_ast.body, cell_name,\n",
      "/nas/home/hrathod/anaconda3/lib/python3.8/site-packages/IPython/core/interactiveshell.py:3146: DtypeWarning: Columns (27,28,29,34,36,40,41,42,47) have mixed types.Specify dtype option on import or set low_memory=False.\n",
      "  has_raised = await self.run_ast_nodes(code_ast.body, cell_name,\n",
      "/nas/home/hrathod/anaconda3/lib/python3.8/site-packages/IPython/core/interactiveshell.py:3146: DtypeWarning: Columns (27,28,29,34,36,40,41,42,47) have mixed types.Specify dtype option on import or set low_memory=False.\n",
      "  has_raised = await self.run_ast_nodes(code_ast.body, cell_name,\n"
     ]
    },
    {
     "name": "stdout",
     "output_type": "stream",
     "text": [
      "15\n",
      "Bin Covering 10 0 1\n",
      "15\n"
     ]
    },
    {
     "name": "stderr",
     "output_type": "stream",
     "text": [
      "/nas/home/hrathod/anaconda3/lib/python3.8/site-packages/IPython/core/interactiveshell.py:3146: DtypeWarning: Columns (47) have mixed types.Specify dtype option on import or set low_memory=False.\n",
      "  has_raised = await self.run_ast_nodes(code_ast.body, cell_name,\n"
     ]
    },
    {
     "name": "stdout",
     "output_type": "stream",
     "text": [
      "15\n",
      "Bin Covering 10 0 2\n",
      "61\n",
      "15\n",
      "Bin Covering 10 0 3\n",
      "75\n",
      "15\n",
      "Bin Covering 10 0 4\n",
      "214\n"
     ]
    },
    {
     "name": "stderr",
     "output_type": "stream",
     "text": [
      "/nas/home/hrathod/anaconda3/lib/python3.8/site-packages/IPython/core/interactiveshell.py:3146: DtypeWarning: Columns (42,47) have mixed types.Specify dtype option on import or set low_memory=False.\n",
      "  has_raised = await self.run_ast_nodes(code_ast.body, cell_name,\n"
     ]
    },
    {
     "name": "stdout",
     "output_type": "stream",
     "text": [
      "15\n",
      "Bin Covering 10 0 5\n",
      "373\n",
      "15\n",
      "Bin Covering 10 0 6\n",
      "360\n",
      "15\n",
      "Bin Covering 10 0 7\n",
      "223\n"
     ]
    },
    {
     "name": "stderr",
     "output_type": "stream",
     "text": [
      "/nas/home/hrathod/anaconda3/lib/python3.8/site-packages/IPython/core/interactiveshell.py:3146: DtypeWarning: Columns (40,41,42,47) have mixed types.Specify dtype option on import or set low_memory=False.\n",
      "  has_raised = await self.run_ast_nodes(code_ast.body, cell_name,\n",
      "/nas/home/hrathod/anaconda3/lib/python3.8/site-packages/IPython/core/interactiveshell.py:3146: DtypeWarning: Columns (40,41,42,47) have mixed types.Specify dtype option on import or set low_memory=False.\n",
      "  has_raised = await self.run_ast_nodes(code_ast.body, cell_name,\n"
     ]
    },
    {
     "name": "stdout",
     "output_type": "stream",
     "text": [
      "15\n",
      "Bin Covering 10 0 8\n",
      "99\n",
      "15\n",
      "Bin Covering 10 0 9\n",
      "50\n",
      "15\n",
      "Bin Covering 10 1 0\n",
      "3\n",
      "3\n",
      "Bin Covering 10 1 1\n",
      "11\n"
     ]
    },
    {
     "name": "stderr",
     "output_type": "stream",
     "text": [
      "/nas/home/hrathod/anaconda3/lib/python3.8/site-packages/IPython/core/interactiveshell.py:3146: DtypeWarning: Columns (47) have mixed types.Specify dtype option on import or set low_memory=False.\n",
      "  has_raised = await self.run_ast_nodes(code_ast.body, cell_name,\n"
     ]
    },
    {
     "name": "stdout",
     "output_type": "stream",
     "text": [
      "11\n",
      "Bin Covering 10 1 2\n",
      "41\n"
     ]
    },
    {
     "name": "stderr",
     "output_type": "stream",
     "text": [
      "/nas/home/hrathod/anaconda3/lib/python3.8/site-packages/IPython/core/interactiveshell.py:3146: DtypeWarning: Columns (47) have mixed types.Specify dtype option on import or set low_memory=False.\n",
      "  has_raised = await self.run_ast_nodes(code_ast.body, cell_name,\n",
      "/nas/home/hrathod/anaconda3/lib/python3.8/site-packages/IPython/core/interactiveshell.py:3146: DtypeWarning: Columns (47) have mixed types.Specify dtype option on import or set low_memory=False.\n",
      "  has_raised = await self.run_ast_nodes(code_ast.body, cell_name,\n",
      "/nas/home/hrathod/anaconda3/lib/python3.8/site-packages/IPython/core/interactiveshell.py:3146: DtypeWarning: Columns (47) have mixed types.Specify dtype option on import or set low_memory=False.\n",
      "  has_raised = await self.run_ast_nodes(code_ast.body, cell_name,\n",
      "/nas/home/hrathod/anaconda3/lib/python3.8/site-packages/IPython/core/interactiveshell.py:3146: DtypeWarning: Columns (40,41,42,47) have mixed types.Specify dtype option on import or set low_memory=False.\n",
      "  has_raised = await self.run_ast_nodes(code_ast.body, cell_name,\n",
      "/nas/home/hrathod/anaconda3/lib/python3.8/site-packages/IPython/core/interactiveshell.py:3146: DtypeWarning: Columns (42,47) have mixed types.Specify dtype option on import or set low_memory=False.\n",
      "  has_raised = await self.run_ast_nodes(code_ast.body, cell_name,\n",
      "/nas/home/hrathod/anaconda3/lib/python3.8/site-packages/IPython/core/interactiveshell.py:3146: DtypeWarning: Columns (47) have mixed types.Specify dtype option on import or set low_memory=False.\n",
      "  has_raised = await self.run_ast_nodes(code_ast.body, cell_name,\n",
      "/nas/home/hrathod/anaconda3/lib/python3.8/site-packages/IPython/core/interactiveshell.py:3146: DtypeWarning: Columns (42,47) have mixed types.Specify dtype option on import or set low_memory=False.\n",
      "  has_raised = await self.run_ast_nodes(code_ast.body, cell_name,\n"
     ]
    },
    {
     "name": "stdout",
     "output_type": "stream",
     "text": [
      "15\n",
      "Bin Covering 10 1 3\n",
      "57\n"
     ]
    },
    {
     "name": "stderr",
     "output_type": "stream",
     "text": [
      "/nas/home/hrathod/anaconda3/lib/python3.8/site-packages/IPython/core/interactiveshell.py:3146: DtypeWarning: Columns (47) have mixed types.Specify dtype option on import or set low_memory=False.\n",
      "  has_raised = await self.run_ast_nodes(code_ast.body, cell_name,\n",
      "/nas/home/hrathod/anaconda3/lib/python3.8/site-packages/IPython/core/interactiveshell.py:3146: DtypeWarning: Columns (47) have mixed types.Specify dtype option on import or set low_memory=False.\n",
      "  has_raised = await self.run_ast_nodes(code_ast.body, cell_name,\n"
     ]
    },
    {
     "name": "stdout",
     "output_type": "stream",
     "text": [
      "15\n",
      "Bin Covering 10 1 4\n",
      "206\n"
     ]
    },
    {
     "name": "stderr",
     "output_type": "stream",
     "text": [
      "/nas/home/hrathod/anaconda3/lib/python3.8/site-packages/IPython/core/interactiveshell.py:3146: DtypeWarning: Columns (47) have mixed types.Specify dtype option on import or set low_memory=False.\n",
      "  has_raised = await self.run_ast_nodes(code_ast.body, cell_name,\n",
      "/nas/home/hrathod/anaconda3/lib/python3.8/site-packages/IPython/core/interactiveshell.py:3146: DtypeWarning: Columns (47) have mixed types.Specify dtype option on import or set low_memory=False.\n",
      "  has_raised = await self.run_ast_nodes(code_ast.body, cell_name,\n"
     ]
    },
    {
     "name": "stdout",
     "output_type": "stream",
     "text": [
      "15\n",
      "Bin Covering 10 1 5\n",
      "348\n"
     ]
    },
    {
     "name": "stderr",
     "output_type": "stream",
     "text": [
      "/nas/home/hrathod/anaconda3/lib/python3.8/site-packages/IPython/core/interactiveshell.py:3146: DtypeWarning: Columns (47) have mixed types.Specify dtype option on import or set low_memory=False.\n",
      "  has_raised = await self.run_ast_nodes(code_ast.body, cell_name,\n"
     ]
    },
    {
     "name": "stdout",
     "output_type": "stream",
     "text": [
      "15\n",
      "Bin Covering 10 1 6\n",
      "515\n",
      "15\n",
      "Bin Covering 10 1 7\n",
      "417\n",
      "15\n",
      "Bin Covering 10 1 8\n",
      "269\n",
      "15\n",
      "Bin Covering 10 1 9\n",
      "44\n",
      "15\n",
      "Bin Covering 10 2 0\n",
      "3\n",
      "3\n",
      "Bin Covering 10 2 1\n",
      "35\n"
     ]
    },
    {
     "name": "stderr",
     "output_type": "stream",
     "text": [
      "/nas/home/hrathod/anaconda3/lib/python3.8/site-packages/IPython/core/interactiveshell.py:3146: DtypeWarning: Columns (40,41,42,47) have mixed types.Specify dtype option on import or set low_memory=False.\n",
      "  has_raised = await self.run_ast_nodes(code_ast.body, cell_name,\n"
     ]
    },
    {
     "name": "stdout",
     "output_type": "stream",
     "text": [
      "15\n",
      "Bin Covering 10 2 2\n",
      "39\n"
     ]
    },
    {
     "name": "stderr",
     "output_type": "stream",
     "text": [
      "/nas/home/hrathod/anaconda3/lib/python3.8/site-packages/IPython/core/interactiveshell.py:3146: DtypeWarning: Columns (27,28,29,34,36,40,41,42,47) have mixed types.Specify dtype option on import or set low_memory=False.\n",
      "  has_raised = await self.run_ast_nodes(code_ast.body, cell_name,\n",
      "/nas/home/hrathod/anaconda3/lib/python3.8/site-packages/IPython/core/interactiveshell.py:3146: DtypeWarning: Columns (42,47) have mixed types.Specify dtype option on import or set low_memory=False.\n",
      "  has_raised = await self.run_ast_nodes(code_ast.body, cell_name,\n",
      "/nas/home/hrathod/anaconda3/lib/python3.8/site-packages/IPython/core/interactiveshell.py:3146: DtypeWarning: Columns (27,28,29,34,36,40,41,42,47) have mixed types.Specify dtype option on import or set low_memory=False.\n",
      "  has_raised = await self.run_ast_nodes(code_ast.body, cell_name,\n",
      "/nas/home/hrathod/anaconda3/lib/python3.8/site-packages/IPython/core/interactiveshell.py:3146: DtypeWarning: Columns (27,28,29,34,36,40,41,42,47) have mixed types.Specify dtype option on import or set low_memory=False.\n",
      "  has_raised = await self.run_ast_nodes(code_ast.body, cell_name,\n",
      "/nas/home/hrathod/anaconda3/lib/python3.8/site-packages/IPython/core/interactiveshell.py:3146: DtypeWarning: Columns (42,47) have mixed types.Specify dtype option on import or set low_memory=False.\n",
      "  has_raised = await self.run_ast_nodes(code_ast.body, cell_name,\n"
     ]
    },
    {
     "name": "stdout",
     "output_type": "stream",
     "text": [
      "15\n",
      "Bin Covering 10 2 3\n",
      "129\n"
     ]
    },
    {
     "name": "stderr",
     "output_type": "stream",
     "text": [
      "/nas/home/hrathod/anaconda3/lib/python3.8/site-packages/IPython/core/interactiveshell.py:3146: DtypeWarning: Columns (27,28,29,34,36,40,41,42,47) have mixed types.Specify dtype option on import or set low_memory=False.\n",
      "  has_raised = await self.run_ast_nodes(code_ast.body, cell_name,\n",
      "/nas/home/hrathod/anaconda3/lib/python3.8/site-packages/IPython/core/interactiveshell.py:3146: DtypeWarning: Columns (47) have mixed types.Specify dtype option on import or set low_memory=False.\n",
      "  has_raised = await self.run_ast_nodes(code_ast.body, cell_name,\n",
      "/nas/home/hrathod/anaconda3/lib/python3.8/site-packages/IPython/core/interactiveshell.py:3146: DtypeWarning: Columns (42,47) have mixed types.Specify dtype option on import or set low_memory=False.\n",
      "  has_raised = await self.run_ast_nodes(code_ast.body, cell_name,\n"
     ]
    },
    {
     "name": "stdout",
     "output_type": "stream",
     "text": [
      "15\n",
      "Bin Covering 10 2 4\n",
      "195\n"
     ]
    },
    {
     "name": "stderr",
     "output_type": "stream",
     "text": [
      "/nas/home/hrathod/anaconda3/lib/python3.8/site-packages/IPython/core/interactiveshell.py:3146: DtypeWarning: Columns (42,47) have mixed types.Specify dtype option on import or set low_memory=False.\n",
      "  has_raised = await self.run_ast_nodes(code_ast.body, cell_name,\n",
      "/nas/home/hrathod/anaconda3/lib/python3.8/site-packages/IPython/core/interactiveshell.py:3146: DtypeWarning: Columns (27,28,29,34,36,40,41,42,47) have mixed types.Specify dtype option on import or set low_memory=False.\n",
      "  has_raised = await self.run_ast_nodes(code_ast.body, cell_name,\n",
      "/nas/home/hrathod/anaconda3/lib/python3.8/site-packages/IPython/core/interactiveshell.py:3146: DtypeWarning: Columns (42,47) have mixed types.Specify dtype option on import or set low_memory=False.\n",
      "  has_raised = await self.run_ast_nodes(code_ast.body, cell_name,\n"
     ]
    },
    {
     "name": "stdout",
     "output_type": "stream",
     "text": [
      "15\n",
      "Bin Covering 10 2 5\n",
      "358\n",
      "15\n",
      "Bin Covering 10 2 6\n",
      "582\n"
     ]
    },
    {
     "name": "stderr",
     "output_type": "stream",
     "text": [
      "/nas/home/hrathod/anaconda3/lib/python3.8/site-packages/IPython/core/interactiveshell.py:3146: DtypeWarning: Columns (27,28,29,34,36,40,41,42,47) have mixed types.Specify dtype option on import or set low_memory=False.\n",
      "  has_raised = await self.run_ast_nodes(code_ast.body, cell_name,\n"
     ]
    },
    {
     "name": "stdout",
     "output_type": "stream",
     "text": [
      "15\n",
      "Bin Covering 10 2 7\n",
      "626\n",
      "15\n",
      "Bin Covering 10 2 8\n",
      "433\n",
      "15\n",
      "Bin Covering 10 2 9\n",
      "99\n",
      "15\n",
      "Bin Covering 10 3 0\n",
      "3\n",
      "3\n",
      "Bin Covering 10 3 1\n",
      "28\n",
      "15\n",
      "Bin Covering 10 3 2\n",
      "64\n",
      "15\n",
      "Bin Covering 10 3 3\n",
      "81\n",
      "15\n",
      "Bin Covering 10 3 4\n",
      "198\n",
      "15\n",
      "Bin Covering 10 3 5\n",
      "403\n"
     ]
    },
    {
     "name": "stderr",
     "output_type": "stream",
     "text": [
      "/nas/home/hrathod/anaconda3/lib/python3.8/site-packages/IPython/core/interactiveshell.py:3146: DtypeWarning: Columns (40,41,42,47) have mixed types.Specify dtype option on import or set low_memory=False.\n",
      "  has_raised = await self.run_ast_nodes(code_ast.body, cell_name,\n"
     ]
    },
    {
     "name": "stdout",
     "output_type": "stream",
     "text": [
      "15\n",
      "Bin Covering 10 3 6\n",
      "751\n"
     ]
    },
    {
     "name": "stderr",
     "output_type": "stream",
     "text": [
      "/nas/home/hrathod/anaconda3/lib/python3.8/site-packages/IPython/core/interactiveshell.py:3146: DtypeWarning: Columns (42,47) have mixed types.Specify dtype option on import or set low_memory=False.\n",
      "  has_raised = await self.run_ast_nodes(code_ast.body, cell_name,\n",
      "/nas/home/hrathod/anaconda3/lib/python3.8/site-packages/IPython/core/interactiveshell.py:3146: DtypeWarning: Columns (42,47) have mixed types.Specify dtype option on import or set low_memory=False.\n",
      "  has_raised = await self.run_ast_nodes(code_ast.body, cell_name,\n"
     ]
    },
    {
     "name": "stdout",
     "output_type": "stream",
     "text": [
      "15\n",
      "Bin Covering 10 3 7\n",
      "924\n",
      "15\n",
      "Bin Covering 10 3 8\n",
      "782\n",
      "15\n",
      "Bin Covering 10 3 9\n",
      "223\n",
      "15\n",
      "Bin Covering 10 4 0\n",
      "3\n",
      "3\n",
      "Bin Covering 10 4 1\n",
      "7\n",
      "7\n",
      "Bin Covering 10 4 2\n",
      "35\n",
      "15\n",
      "Bin Covering 10 4 3\n",
      "65\n",
      "15\n",
      "Bin Covering 10 4 4\n",
      "228\n"
     ]
    },
    {
     "name": "stderr",
     "output_type": "stream",
     "text": [
      "/nas/home/hrathod/anaconda3/lib/python3.8/site-packages/IPython/core/interactiveshell.py:3146: DtypeWarning: Columns (42,47) have mixed types.Specify dtype option on import or set low_memory=False.\n",
      "  has_raised = await self.run_ast_nodes(code_ast.body, cell_name,\n"
     ]
    },
    {
     "name": "stdout",
     "output_type": "stream",
     "text": [
      "15\n",
      "Bin Covering 10 4 5\n",
      "401\n",
      "15\n",
      "Bin Covering 10 4 6\n",
      "859\n"
     ]
    },
    {
     "name": "stderr",
     "output_type": "stream",
     "text": [
      "/nas/home/hrathod/anaconda3/lib/python3.8/site-packages/IPython/core/interactiveshell.py:3146: DtypeWarning: Columns (47) have mixed types.Specify dtype option on import or set low_memory=False.\n",
      "  has_raised = await self.run_ast_nodes(code_ast.body, cell_name,\n"
     ]
    },
    {
     "name": "stdout",
     "output_type": "stream",
     "text": [
      "15\n",
      "Bin Covering 10 4 7\n",
      "1081\n",
      "15\n",
      "Bin Covering 10 4 8\n",
      "955\n",
      "15\n",
      "Bin Covering 10 4 9\n",
      "303\n"
     ]
    },
    {
     "name": "stderr",
     "output_type": "stream",
     "text": [
      "/nas/home/hrathod/anaconda3/lib/python3.8/site-packages/IPython/core/interactiveshell.py:3146: DtypeWarning: Columns (40,41,42) have mixed types.Specify dtype option on import or set low_memory=False.\n",
      "  has_raised = await self.run_ast_nodes(code_ast.body, cell_name,\n"
     ]
    },
    {
     "name": "stdout",
     "output_type": "stream",
     "text": [
      "15\n",
      "Bin Covering 10 5 0\n",
      "1\n",
      "1\n",
      "Bin Covering 10 5 1\n",
      "3\n",
      "3\n",
      "Bin Covering 10 5 2\n",
      "23\n",
      "15\n",
      "Bin Covering 10 5 3\n",
      "53\n"
     ]
    },
    {
     "name": "stderr",
     "output_type": "stream",
     "text": [
      "/nas/home/hrathod/anaconda3/lib/python3.8/site-packages/IPython/core/interactiveshell.py:3146: DtypeWarning: Columns (42,47) have mixed types.Specify dtype option on import or set low_memory=False.\n",
      "  has_raised = await self.run_ast_nodes(code_ast.body, cell_name,\n"
     ]
    },
    {
     "name": "stdout",
     "output_type": "stream",
     "text": [
      "15\n",
      "Bin Covering 10 5 4\n",
      "202\n",
      "15\n",
      "Bin Covering 10 5 5\n",
      "510\n"
     ]
    },
    {
     "name": "stderr",
     "output_type": "stream",
     "text": [
      "/nas/home/hrathod/anaconda3/lib/python3.8/site-packages/IPython/core/interactiveshell.py:3146: DtypeWarning: Columns (49) have mixed types.Specify dtype option on import or set low_memory=False.\n",
      "  has_raised = await self.run_ast_nodes(code_ast.body, cell_name,\n"
     ]
    },
    {
     "name": "stdout",
     "output_type": "stream",
     "text": [
      "15\n",
      "Bin Covering 10 5 6\n",
      "816\n"
     ]
    },
    {
     "name": "stderr",
     "output_type": "stream",
     "text": [
      "/nas/home/hrathod/anaconda3/lib/python3.8/site-packages/IPython/core/interactiveshell.py:3146: DtypeWarning: Columns (27,28,29,34,36,40,41,42) have mixed types.Specify dtype option on import or set low_memory=False.\n",
      "  has_raised = await self.run_ast_nodes(code_ast.body, cell_name,\n",
      "/nas/home/hrathod/anaconda3/lib/python3.8/site-packages/IPython/core/interactiveshell.py:3146: DtypeWarning: Columns (47) have mixed types.Specify dtype option on import or set low_memory=False.\n",
      "  has_raised = await self.run_ast_nodes(code_ast.body, cell_name,\n",
      "/nas/home/hrathod/anaconda3/lib/python3.8/site-packages/IPython/core/interactiveshell.py:3146: DtypeWarning: Columns (42,47) have mixed types.Specify dtype option on import or set low_memory=False.\n",
      "  has_raised = await self.run_ast_nodes(code_ast.body, cell_name,\n",
      "/nas/home/hrathod/anaconda3/lib/python3.8/site-packages/IPython/core/interactiveshell.py:3146: DtypeWarning: Columns (27,28,29,34,36,40,41,42) have mixed types.Specify dtype option on import or set low_memory=False.\n",
      "  has_raised = await self.run_ast_nodes(code_ast.body, cell_name,\n"
     ]
    },
    {
     "name": "stdout",
     "output_type": "stream",
     "text": [
      "15\n",
      "Bin Covering 10 5 7\n",
      "1468\n"
     ]
    },
    {
     "name": "stderr",
     "output_type": "stream",
     "text": [
      "/nas/home/hrathod/anaconda3/lib/python3.8/site-packages/IPython/core/interactiveshell.py:3146: DtypeWarning: Columns (42,47) have mixed types.Specify dtype option on import or set low_memory=False.\n",
      "  has_raised = await self.run_ast_nodes(code_ast.body, cell_name,\n"
     ]
    },
    {
     "name": "stdout",
     "output_type": "stream",
     "text": [
      "15\n",
      "Bin Covering 10 5 8\n",
      "1386\n",
      "15\n",
      "Bin Covering 10 5 9\n",
      "586\n",
      "15\n",
      "Bin Covering 10 6 0\n",
      "1\n",
      "1\n",
      "Bin Covering 10 6 1\n",
      "2\n",
      "2\n",
      "Bin Covering 10 6 2\n",
      "19\n",
      "15\n",
      "Bin Covering 10 6 3\n",
      "62\n",
      "15\n",
      "Bin Covering 10 6 4\n",
      "278\n"
     ]
    },
    {
     "name": "stderr",
     "output_type": "stream",
     "text": [
      "/nas/home/hrathod/anaconda3/lib/python3.8/site-packages/IPython/core/interactiveshell.py:3146: DtypeWarning: Columns (27,28,29,34,36,40,41,42,47) have mixed types.Specify dtype option on import or set low_memory=False.\n",
      "  has_raised = await self.run_ast_nodes(code_ast.body, cell_name,\n",
      "/nas/home/hrathod/anaconda3/lib/python3.8/site-packages/IPython/core/interactiveshell.py:3146: DtypeWarning: Columns (27,28,29,34,36,40,41,42,47) have mixed types.Specify dtype option on import or set low_memory=False.\n",
      "  has_raised = await self.run_ast_nodes(code_ast.body, cell_name,\n"
     ]
    },
    {
     "name": "stdout",
     "output_type": "stream",
     "text": [
      "15\n",
      "Bin Covering 10 6 5\n",
      "546\n",
      "15\n",
      "Bin Covering 10 6 6\n",
      "1011\n"
     ]
    },
    {
     "name": "stderr",
     "output_type": "stream",
     "text": [
      "/nas/home/hrathod/anaconda3/lib/python3.8/site-packages/IPython/core/interactiveshell.py:3146: DtypeWarning: Columns (49) have mixed types.Specify dtype option on import or set low_memory=False.\n",
      "  has_raised = await self.run_ast_nodes(code_ast.body, cell_name,\n"
     ]
    },
    {
     "name": "stdout",
     "output_type": "stream",
     "text": [
      "15\n",
      "Bin Covering 10 6 7\n",
      "1407\n",
      "15\n",
      "Bin Covering 10 6 8\n",
      "1845\n"
     ]
    },
    {
     "name": "stderr",
     "output_type": "stream",
     "text": [
      "/nas/home/hrathod/anaconda3/lib/python3.8/site-packages/IPython/core/interactiveshell.py:3146: DtypeWarning: Columns (27,28,29,34,36,40,41,42,47) have mixed types.Specify dtype option on import or set low_memory=False.\n",
      "  has_raised = await self.run_ast_nodes(code_ast.body, cell_name,\n"
     ]
    },
    {
     "name": "stdout",
     "output_type": "stream",
     "text": [
      "15\n",
      "Bin Covering 10 6 9\n",
      "744\n",
      "15\n",
      "Bin Covering 10 7 0\n",
      "4\n"
     ]
    },
    {
     "name": "stderr",
     "output_type": "stream",
     "text": [
      "/nas/home/hrathod/anaconda3/lib/python3.8/site-packages/IPython/core/interactiveshell.py:3146: DtypeWarning: Columns (27,28,29,34,36,40,41,42) have mixed types.Specify dtype option on import or set low_memory=False.\n",
      "  has_raised = await self.run_ast_nodes(code_ast.body, cell_name,\n"
     ]
    },
    {
     "name": "stdout",
     "output_type": "stream",
     "text": [
      "4\n",
      "Bin Covering 10 7 1\n",
      "3\n",
      "3\n",
      "Bin Covering 10 7 2\n",
      "18\n",
      "15\n",
      "Bin Covering 10 7 3\n",
      "54\n",
      "15\n",
      "Bin Covering 10 7 4\n",
      "201\n",
      "15\n",
      "Bin Covering 10 7 5\n",
      "708\n"
     ]
    },
    {
     "name": "stderr",
     "output_type": "stream",
     "text": [
      "/nas/home/hrathod/anaconda3/lib/python3.8/site-packages/IPython/core/interactiveshell.py:3146: DtypeWarning: Columns (42,47) have mixed types.Specify dtype option on import or set low_memory=False.\n",
      "  has_raised = await self.run_ast_nodes(code_ast.body, cell_name,\n"
     ]
    },
    {
     "name": "stdout",
     "output_type": "stream",
     "text": [
      "15\n",
      "Bin Covering 10 7 6\n",
      "1261\n"
     ]
    },
    {
     "name": "stderr",
     "output_type": "stream",
     "text": [
      "/nas/home/hrathod/anaconda3/lib/python3.8/site-packages/IPython/core/interactiveshell.py:3146: DtypeWarning: Columns (47) have mixed types.Specify dtype option on import or set low_memory=False.\n",
      "  has_raised = await self.run_ast_nodes(code_ast.body, cell_name,\n"
     ]
    },
    {
     "name": "stdout",
     "output_type": "stream",
     "text": [
      "15\n",
      "Bin Covering 10 7 7\n",
      "1966\n"
     ]
    },
    {
     "name": "stderr",
     "output_type": "stream",
     "text": [
      "/nas/home/hrathod/anaconda3/lib/python3.8/site-packages/IPython/core/interactiveshell.py:3146: DtypeWarning: Columns (47) have mixed types.Specify dtype option on import or set low_memory=False.\n",
      "  has_raised = await self.run_ast_nodes(code_ast.body, cell_name,\n",
      "/nas/home/hrathod/anaconda3/lib/python3.8/site-packages/IPython/core/interactiveshell.py:3146: DtypeWarning: Columns (42,47) have mixed types.Specify dtype option on import or set low_memory=False.\n",
      "  has_raised = await self.run_ast_nodes(code_ast.body, cell_name,\n"
     ]
    },
    {
     "name": "stdout",
     "output_type": "stream",
     "text": [
      "15\n",
      "Bin Covering 10 7 8\n",
      "2359\n"
     ]
    },
    {
     "name": "stderr",
     "output_type": "stream",
     "text": [
      "/nas/home/hrathod/anaconda3/lib/python3.8/site-packages/IPython/core/interactiveshell.py:3146: DtypeWarning: Columns (42,47) have mixed types.Specify dtype option on import or set low_memory=False.\n",
      "  has_raised = await self.run_ast_nodes(code_ast.body, cell_name,\n"
     ]
    },
    {
     "name": "stdout",
     "output_type": "stream",
     "text": [
      "15\n",
      "Bin Covering 10 7 9\n",
      "1148\n",
      "15\n",
      "Bin Covering 10 8 0\n",
      "Bin Covering 10 8 1\n",
      "Bin Covering 10 8 2\n",
      "26\n",
      "15\n",
      "Bin Covering 10 8 3\n",
      "53\n",
      "15\n",
      "Bin Covering 10 8 4\n",
      "278\n",
      "15\n",
      "Bin Covering 10 8 5\n",
      "783\n"
     ]
    },
    {
     "name": "stderr",
     "output_type": "stream",
     "text": [
      "/nas/home/hrathod/anaconda3/lib/python3.8/site-packages/IPython/core/interactiveshell.py:3146: DtypeWarning: Columns (42,47) have mixed types.Specify dtype option on import or set low_memory=False.\n",
      "  has_raised = await self.run_ast_nodes(code_ast.body, cell_name,\n"
     ]
    },
    {
     "name": "stdout",
     "output_type": "stream",
     "text": [
      "15\n",
      "Bin Covering 10 8 6\n",
      "1452\n",
      "15\n",
      "Bin Covering 10 8 7\n",
      "2639\n"
     ]
    },
    {
     "name": "stderr",
     "output_type": "stream",
     "text": [
      "/nas/home/hrathod/anaconda3/lib/python3.8/site-packages/IPython/core/interactiveshell.py:3146: DtypeWarning: Columns (47) have mixed types.Specify dtype option on import or set low_memory=False.\n",
      "  has_raised = await self.run_ast_nodes(code_ast.body, cell_name,\n"
     ]
    },
    {
     "name": "stdout",
     "output_type": "stream",
     "text": [
      "15\n",
      "Bin Covering 10 8 8\n",
      "3390\n",
      "15\n",
      "Bin Covering 10 8 9\n",
      "1847\n",
      "15\n",
      "Bin Covering 10 9 0\n",
      "2\n",
      "2\n",
      "Bin Covering 10 9 1\n",
      "4\n",
      "4\n",
      "Bin Covering 10 9 2\n",
      "24\n",
      "15\n",
      "Bin Covering 10 9 3\n",
      "40\n",
      "15\n",
      "Bin Covering 10 9 4\n",
      "229\n",
      "15\n",
      "Bin Covering 10 9 5\n",
      "816\n",
      "15\n",
      "Bin Covering 10 9 6\n",
      "2805\n"
     ]
    },
    {
     "name": "stderr",
     "output_type": "stream",
     "text": [
      "/nas/home/hrathod/anaconda3/lib/python3.8/site-packages/IPython/core/interactiveshell.py:3146: DtypeWarning: Columns (42,47) have mixed types.Specify dtype option on import or set low_memory=False.\n",
      "  has_raised = await self.run_ast_nodes(code_ast.body, cell_name,\n"
     ]
    },
    {
     "name": "stdout",
     "output_type": "stream",
     "text": [
      "15\n",
      "Bin Covering 10 9 7\n",
      "9739\n"
     ]
    },
    {
     "name": "stderr",
     "output_type": "stream",
     "text": [
      "/nas/home/hrathod/anaconda3/lib/python3.8/site-packages/IPython/core/interactiveshell.py:3146: DtypeWarning: Columns (47) have mixed types.Specify dtype option on import or set low_memory=False.\n",
      "  has_raised = await self.run_ast_nodes(code_ast.body, cell_name,\n"
     ]
    },
    {
     "name": "stdout",
     "output_type": "stream",
     "text": [
      "15\n",
      "Bin Covering 10 9 8\n",
      "17345\n"
     ]
    },
    {
     "name": "stderr",
     "output_type": "stream",
     "text": [
      "/nas/home/hrathod/anaconda3/lib/python3.8/site-packages/IPython/core/interactiveshell.py:3146: DtypeWarning: Columns (42,47) have mixed types.Specify dtype option on import or set low_memory=False.\n",
      "  has_raised = await self.run_ast_nodes(code_ast.body, cell_name,\n"
     ]
    },
    {
     "name": "stdout",
     "output_type": "stream",
     "text": [
      "15\n",
      "Bin Covering 10 9 9\n",
      "22981\n",
      "15\n",
      "Bin Covering 11 0 0\n",
      "17\n"
     ]
    },
    {
     "name": "stderr",
     "output_type": "stream",
     "text": [
      "/nas/home/hrathod/anaconda3/lib/python3.8/site-packages/IPython/core/interactiveshell.py:3146: DtypeWarning: Columns (40,41,42,47) have mixed types.Specify dtype option on import or set low_memory=False.\n",
      "  has_raised = await self.run_ast_nodes(code_ast.body, cell_name,\n",
      "/nas/home/hrathod/anaconda3/lib/python3.8/site-packages/IPython/core/interactiveshell.py:3146: DtypeWarning: Columns (40,41,42,47) have mixed types.Specify dtype option on import or set low_memory=False.\n",
      "  has_raised = await self.run_ast_nodes(code_ast.body, cell_name,\n"
     ]
    },
    {
     "name": "stdout",
     "output_type": "stream",
     "text": [
      "15\n",
      "Bin Covering 11 0 1\n",
      "Bin Covering 11 0 2\n",
      "Bin Covering 11 0 3\n",
      "Bin Covering 11 0 4\n",
      "Bin Covering 11 0 5\n",
      "5\n",
      "5\n",
      "Bin Covering 11 0 6\n",
      "3\n"
     ]
    },
    {
     "name": "stderr",
     "output_type": "stream",
     "text": [
      "/nas/home/hrathod/anaconda3/lib/python3.8/site-packages/IPython/core/interactiveshell.py:3146: DtypeWarning: Columns (42,47) have mixed types.Specify dtype option on import or set low_memory=False.\n",
      "  has_raised = await self.run_ast_nodes(code_ast.body, cell_name,\n"
     ]
    },
    {
     "name": "stdout",
     "output_type": "stream",
     "text": [
      "3\n",
      "Bin Covering 11 0 7\n",
      "7\n",
      "7\n",
      "Bin Covering 11 0 8\n",
      "37\n"
     ]
    },
    {
     "name": "stderr",
     "output_type": "stream",
     "text": [
      "/nas/home/hrathod/anaconda3/lib/python3.8/site-packages/IPython/core/interactiveshell.py:3146: DtypeWarning: Columns (47) have mixed types.Specify dtype option on import or set low_memory=False.\n",
      "  has_raised = await self.run_ast_nodes(code_ast.body, cell_name,\n"
     ]
    },
    {
     "name": "stdout",
     "output_type": "stream",
     "text": [
      "15\n",
      "Bin Covering 11 0 9\n",
      "1521\n"
     ]
    },
    {
     "name": "stderr",
     "output_type": "stream",
     "text": [
      "/nas/home/hrathod/anaconda3/lib/python3.8/site-packages/IPython/core/interactiveshell.py:3146: DtypeWarning: Columns (27,28,29,34,36,40,41,42,47) have mixed types.Specify dtype option on import or set low_memory=False.\n",
      "  has_raised = await self.run_ast_nodes(code_ast.body, cell_name,\n",
      "/nas/home/hrathod/anaconda3/lib/python3.8/site-packages/IPython/core/interactiveshell.py:3146: DtypeWarning: Columns (42,47) have mixed types.Specify dtype option on import or set low_memory=False.\n",
      "  has_raised = await self.run_ast_nodes(code_ast.body, cell_name,\n"
     ]
    },
    {
     "name": "stdout",
     "output_type": "stream",
     "text": [
      "15\n",
      "Bin Covering 11 1 0\n",
      "19\n",
      "15\n",
      "Bin Covering 11 1 1\n",
      "Bin Covering 11 1 2\n",
      "Bin Covering 11 1 3\n",
      "Bin Covering 11 1 4\n",
      "Bin Covering 11 1 5\n",
      "5\n",
      "5\n",
      "Bin Covering 11 1 6\n",
      "7\n",
      "7\n",
      "Bin Covering 11 1 7\n",
      "9\n",
      "9\n",
      "Bin Covering 11 1 8\n",
      "13\n",
      "13\n",
      "Bin Covering 11 1 9\n",
      "1858\n"
     ]
    },
    {
     "name": "stderr",
     "output_type": "stream",
     "text": [
      "/nas/home/hrathod/anaconda3/lib/python3.8/site-packages/IPython/core/interactiveshell.py:3146: DtypeWarning: Columns (47) have mixed types.Specify dtype option on import or set low_memory=False.\n",
      "  has_raised = await self.run_ast_nodes(code_ast.body, cell_name,\n"
     ]
    },
    {
     "name": "stdout",
     "output_type": "stream",
     "text": [
      "15\n",
      "Bin Covering 11 2 0\n",
      "29\n",
      "15\n",
      "Bin Covering 11 2 1\n",
      "Bin Covering 11 2 2\n",
      "Bin Covering 11 2 3\n",
      "Bin Covering 11 2 4\n",
      "Bin Covering 11 2 5\n",
      "3\n",
      "3\n",
      "Bin Covering 11 2 6\n",
      "4\n",
      "4\n",
      "Bin Covering 11 2 7\n",
      "17\n",
      "15\n",
      "Bin Covering 11 2 8\n",
      "44\n",
      "15\n",
      "Bin Covering 11 2 9\n",
      "2402\n"
     ]
    },
    {
     "name": "stderr",
     "output_type": "stream",
     "text": [
      "/nas/home/hrathod/anaconda3/lib/python3.8/site-packages/IPython/core/interactiveshell.py:3146: DtypeWarning: Columns (42,47) have mixed types.Specify dtype option on import or set low_memory=False.\n",
      "  has_raised = await self.run_ast_nodes(code_ast.body, cell_name,\n"
     ]
    },
    {
     "name": "stdout",
     "output_type": "stream",
     "text": [
      "15\n",
      "Bin Covering 11 3 0\n",
      "57\n",
      "15\n",
      "Bin Covering 11 3 1\n",
      "Bin Covering 11 3 2\n",
      "Bin Covering 11 3 3\n",
      "Bin Covering 11 3 4\n",
      "Bin Covering 11 3 5\n",
      "7\n",
      "7\n",
      "Bin Covering 11 3 6\n",
      "7\n",
      "7\n",
      "Bin Covering 11 3 7\n",
      "18\n",
      "15\n",
      "Bin Covering 11 3 8\n",
      "155\n",
      "15\n",
      "Bin Covering 11 3 9\n",
      "3213\n",
      "15\n",
      "Bin Covering 11 4 0\n",
      "41\n",
      "15\n",
      "Bin Covering 11 4 1\n",
      "Bin Covering 11 4 2\n",
      "Bin Covering 11 4 3\n",
      "Bin Covering 11 4 4\n",
      "Bin Covering 11 4 5\n",
      "7\n"
     ]
    },
    {
     "name": "stderr",
     "output_type": "stream",
     "text": [
      "/nas/home/hrathod/anaconda3/lib/python3.8/site-packages/IPython/core/interactiveshell.py:3146: DtypeWarning: Columns (47) have mixed types.Specify dtype option on import or set low_memory=False.\n",
      "  has_raised = await self.run_ast_nodes(code_ast.body, cell_name,\n"
     ]
    },
    {
     "name": "stdout",
     "output_type": "stream",
     "text": [
      "7\n",
      "Bin Covering 11 4 6\n",
      "4\n",
      "4\n",
      "Bin Covering 11 4 7\n",
      "10\n",
      "10\n",
      "Bin Covering 11 4 8\n",
      "66\n",
      "15\n",
      "Bin Covering 11 4 9\n",
      "3809\n"
     ]
    },
    {
     "name": "stderr",
     "output_type": "stream",
     "text": [
      "/nas/home/hrathod/anaconda3/lib/python3.8/site-packages/IPython/core/interactiveshell.py:3146: DtypeWarning: Columns (42,47) have mixed types.Specify dtype option on import or set low_memory=False.\n",
      "  has_raised = await self.run_ast_nodes(code_ast.body, cell_name,\n"
     ]
    },
    {
     "name": "stdout",
     "output_type": "stream",
     "text": [
      "15\n",
      "Bin Covering 11 5 0\n",
      "66\n"
     ]
    },
    {
     "name": "stderr",
     "output_type": "stream",
     "text": [
      "/nas/home/hrathod/anaconda3/lib/python3.8/site-packages/IPython/core/interactiveshell.py:3146: DtypeWarning: Columns (47) have mixed types.Specify dtype option on import or set low_memory=False.\n",
      "  has_raised = await self.run_ast_nodes(code_ast.body, cell_name,\n",
      "/nas/home/hrathod/anaconda3/lib/python3.8/site-packages/IPython/core/interactiveshell.py:3146: DtypeWarning: Columns (47) have mixed types.Specify dtype option on import or set low_memory=False.\n",
      "  has_raised = await self.run_ast_nodes(code_ast.body, cell_name,\n",
      "/nas/home/hrathod/anaconda3/lib/python3.8/site-packages/IPython/core/interactiveshell.py:3146: DtypeWarning: Columns (42,47) have mixed types.Specify dtype option on import or set low_memory=False.\n",
      "  has_raised = await self.run_ast_nodes(code_ast.body, cell_name,\n"
     ]
    },
    {
     "name": "stdout",
     "output_type": "stream",
     "text": [
      "15\n",
      "Bin Covering 11 5 1\n",
      "Bin Covering 11 5 2\n",
      "Bin Covering 11 5 3\n",
      "Bin Covering 11 5 4\n",
      "Bin Covering 11 5 5\n",
      "11\n",
      "11\n",
      "Bin Covering 11 5 6\n",
      "12\n",
      "12\n",
      "Bin Covering 11 5 7\n",
      "37\n",
      "15\n",
      "Bin Covering 11 5 8\n",
      "123\n",
      "15\n",
      "Bin Covering 11 5 9\n",
      "4799\n"
     ]
    },
    {
     "name": "stderr",
     "output_type": "stream",
     "text": [
      "/nas/home/hrathod/anaconda3/lib/python3.8/site-packages/IPython/core/interactiveshell.py:3146: DtypeWarning: Columns (42,47) have mixed types.Specify dtype option on import or set low_memory=False.\n",
      "  has_raised = await self.run_ast_nodes(code_ast.body, cell_name,\n"
     ]
    },
    {
     "name": "stdout",
     "output_type": "stream",
     "text": [
      "15\n",
      "Bin Covering 11 6 0\n",
      "81\n",
      "15\n",
      "Bin Covering 11 6 1\n",
      "Bin Covering 11 6 2\n",
      "Bin Covering 11 6 3\n",
      "Bin Covering 11 6 4\n",
      "Bin Covering 11 6 5\n",
      "7\n",
      "7\n",
      "Bin Covering 11 6 6\n",
      "14\n",
      "14\n",
      "Bin Covering 11 6 7\n",
      "25\n",
      "15\n",
      "Bin Covering 11 6 8\n",
      "140\n",
      "15\n",
      "Bin Covering 11 6 9\n",
      "5648\n"
     ]
    },
    {
     "name": "stderr",
     "output_type": "stream",
     "text": [
      "/nas/home/hrathod/anaconda3/lib/python3.8/site-packages/IPython/core/interactiveshell.py:3146: DtypeWarning: Columns (42,47) have mixed types.Specify dtype option on import or set low_memory=False.\n",
      "  has_raised = await self.run_ast_nodes(code_ast.body, cell_name,\n",
      "/nas/home/hrathod/anaconda3/lib/python3.8/site-packages/IPython/core/interactiveshell.py:3146: DtypeWarning: Columns (47) have mixed types.Specify dtype option on import or set low_memory=False.\n",
      "  has_raised = await self.run_ast_nodes(code_ast.body, cell_name,\n"
     ]
    },
    {
     "name": "stdout",
     "output_type": "stream",
     "text": [
      "15\n",
      "Bin Covering 11 7 0\n",
      "67\n",
      "15\n",
      "Bin Covering 11 7 1\n",
      "Bin Covering 11 7 2\n",
      "Bin Covering 11 7 3\n",
      "Bin Covering 11 7 4\n",
      "Bin Covering 11 7 5\n",
      "28\n"
     ]
    },
    {
     "name": "stderr",
     "output_type": "stream",
     "text": [
      "/nas/home/hrathod/anaconda3/lib/python3.8/site-packages/IPython/core/interactiveshell.py:3146: DtypeWarning: Columns (42,47) have mixed types.Specify dtype option on import or set low_memory=False.\n",
      "  has_raised = await self.run_ast_nodes(code_ast.body, cell_name,\n",
      "/nas/home/hrathod/anaconda3/lib/python3.8/site-packages/IPython/core/interactiveshell.py:3146: DtypeWarning: Columns (42,47) have mixed types.Specify dtype option on import or set low_memory=False.\n",
      "  has_raised = await self.run_ast_nodes(code_ast.body, cell_name,\n",
      "/nas/home/hrathod/anaconda3/lib/python3.8/site-packages/IPython/core/interactiveshell.py:3146: DtypeWarning: Columns (42,47) have mixed types.Specify dtype option on import or set low_memory=False.\n",
      "  has_raised = await self.run_ast_nodes(code_ast.body, cell_name,\n",
      "/nas/home/hrathod/anaconda3/lib/python3.8/site-packages/IPython/core/interactiveshell.py:3146: DtypeWarning: Columns (42,47) have mixed types.Specify dtype option on import or set low_memory=False.\n",
      "  has_raised = await self.run_ast_nodes(code_ast.body, cell_name,\n"
     ]
    },
    {
     "name": "stdout",
     "output_type": "stream",
     "text": [
      "15\n",
      "Bin Covering 11 7 6\n",
      "21\n"
     ]
    },
    {
     "name": "stderr",
     "output_type": "stream",
     "text": [
      "/nas/home/hrathod/anaconda3/lib/python3.8/site-packages/IPython/core/interactiveshell.py:3146: DtypeWarning: Columns (27,28,29,34,36,40,41,42) have mixed types.Specify dtype option on import or set low_memory=False.\n",
      "  has_raised = await self.run_ast_nodes(code_ast.body, cell_name,\n"
     ]
    },
    {
     "name": "stdout",
     "output_type": "stream",
     "text": [
      "15\n",
      "Bin Covering 11 7 7\n",
      "27\n",
      "15\n",
      "Bin Covering 11 7 8\n",
      "154\n",
      "15\n",
      "Bin Covering 11 7 9\n",
      "7425\n",
      "15\n",
      "Bin Covering 11 8 0\n",
      "110\n",
      "15\n",
      "Bin Covering 11 8 1\n",
      "Bin Covering 11 8 2\n",
      "Bin Covering 11 8 3\n",
      "Bin Covering 11 8 4\n",
      "Bin Covering 11 8 5\n",
      "26\n",
      "15\n",
      "Bin Covering 11 8 6\n",
      "30\n",
      "15\n",
      "Bin Covering 11 8 7\n",
      "42\n",
      "15\n",
      "Bin Covering 11 8 8\n",
      "225\n",
      "15\n",
      "Bin Covering 11 8 9\n",
      "10035\n",
      "15\n",
      "Bin Covering 11 9 0\n",
      "530\n"
     ]
    },
    {
     "name": "stderr",
     "output_type": "stream",
     "text": [
      "/nas/home/hrathod/anaconda3/lib/python3.8/site-packages/IPython/core/interactiveshell.py:3146: DtypeWarning: Columns (47) have mixed types.Specify dtype option on import or set low_memory=False.\n",
      "  has_raised = await self.run_ast_nodes(code_ast.body, cell_name,\n"
     ]
    },
    {
     "name": "stdout",
     "output_type": "stream",
     "text": [
      "15\n",
      "Bin Covering 11 9 1\n",
      "Bin Covering 11 9 2\n",
      "Bin Covering 11 9 3\n",
      "Bin Covering 11 9 4\n",
      "Bin Covering 11 9 5\n",
      "84\n",
      "15\n",
      "Bin Covering 11 9 6\n",
      "80\n",
      "15\n",
      "Bin Covering 11 9 7\n",
      "118\n",
      "15\n",
      "Bin Covering 11 9 8\n",
      "1293\n",
      "15\n",
      "Bin Covering 11 9 9\n",
      "51880\n",
      "15\n",
      "Bin Covering 12 0 0\n",
      "117\n"
     ]
    },
    {
     "name": "stderr",
     "output_type": "stream",
     "text": [
      "/nas/home/hrathod/anaconda3/lib/python3.8/site-packages/IPython/core/interactiveshell.py:3146: DtypeWarning: Columns (27,28,29,34,36,40,41,42,47) have mixed types.Specify dtype option on import or set low_memory=False.\n",
      "  has_raised = await self.run_ast_nodes(code_ast.body, cell_name,\n",
      "/nas/home/hrathod/anaconda3/lib/python3.8/site-packages/IPython/core/interactiveshell.py:3146: DtypeWarning: Columns (27,28,29,34,36,40,41,42,47) have mixed types.Specify dtype option on import or set low_memory=False.\n",
      "  has_raised = await self.run_ast_nodes(code_ast.body, cell_name,\n",
      "/nas/home/hrathod/anaconda3/lib/python3.8/site-packages/IPython/core/interactiveshell.py:3146: DtypeWarning: Columns (27,28,29,34,36,40,41,42,47) have mixed types.Specify dtype option on import or set low_memory=False.\n",
      "  has_raised = await self.run_ast_nodes(code_ast.body, cell_name,\n",
      "/nas/home/hrathod/anaconda3/lib/python3.8/site-packages/IPython/core/interactiveshell.py:3146: DtypeWarning: Columns (27,28,29,34,36,40,41,42,47) have mixed types.Specify dtype option on import or set low_memory=False.\n",
      "  has_raised = await self.run_ast_nodes(code_ast.body, cell_name,\n",
      "/nas/home/hrathod/anaconda3/lib/python3.8/site-packages/IPython/core/interactiveshell.py:3146: DtypeWarning: Columns (27,28,29,34,36,40,41,42,47) have mixed types.Specify dtype option on import or set low_memory=False.\n",
      "  has_raised = await self.run_ast_nodes(code_ast.body, cell_name,\n",
      "/nas/home/hrathod/anaconda3/lib/python3.8/site-packages/IPython/core/interactiveshell.py:3146: DtypeWarning: Columns (27,28,29,34,36,40,41,42,47) have mixed types.Specify dtype option on import or set low_memory=False.\n",
      "  has_raised = await self.run_ast_nodes(code_ast.body, cell_name,\n"
     ]
    },
    {
     "name": "stdout",
     "output_type": "stream",
     "text": [
      "15\n",
      "Bin Covering 12 0 1\n",
      "10\n"
     ]
    },
    {
     "name": "stderr",
     "output_type": "stream",
     "text": [
      "/nas/home/hrathod/anaconda3/lib/python3.8/site-packages/IPython/core/interactiveshell.py:3146: DtypeWarning: Columns (47) have mixed types.Specify dtype option on import or set low_memory=False.\n",
      "  has_raised = await self.run_ast_nodes(code_ast.body, cell_name,\n"
     ]
    },
    {
     "name": "stdout",
     "output_type": "stream",
     "text": [
      "10\n",
      "Bin Covering 12 0 2\n",
      "42\n",
      "15\n",
      "Bin Covering 12 0 3\n",
      "51\n",
      "15\n",
      "Bin Covering 12 0 4\n",
      "155\n"
     ]
    },
    {
     "name": "stderr",
     "output_type": "stream",
     "text": [
      "/nas/home/hrathod/anaconda3/lib/python3.8/site-packages/IPython/core/interactiveshell.py:3146: DtypeWarning: Columns (42,47) have mixed types.Specify dtype option on import or set low_memory=False.\n",
      "  has_raised = await self.run_ast_nodes(code_ast.body, cell_name,\n"
     ]
    },
    {
     "name": "stdout",
     "output_type": "stream",
     "text": [
      "15\n",
      "Bin Covering 12 0 5\n",
      "283\n",
      "15\n",
      "Bin Covering 12 0 6\n",
      "389\n",
      "15\n",
      "Bin Covering 12 0 7\n",
      "334\n",
      "15\n",
      "Bin Covering 12 0 8\n",
      "194\n",
      "15\n",
      "Bin Covering 12 0 9\n",
      "64\n",
      "15\n",
      "Bin Covering 12 1 0\n",
      "5\n"
     ]
    },
    {
     "name": "stderr",
     "output_type": "stream",
     "text": [
      "/nas/home/hrathod/anaconda3/lib/python3.8/site-packages/IPython/core/interactiveshell.py:3146: DtypeWarning: Columns (27,28,29,34,36,40,41,42) have mixed types.Specify dtype option on import or set low_memory=False.\n",
      "  has_raised = await self.run_ast_nodes(code_ast.body, cell_name,\n"
     ]
    },
    {
     "name": "stdout",
     "output_type": "stream",
     "text": [
      "5\n",
      "Bin Covering 12 1 1\n",
      "33\n",
      "15\n",
      "Bin Covering 12 1 2\n",
      "30\n"
     ]
    },
    {
     "name": "stderr",
     "output_type": "stream",
     "text": [
      "/nas/home/hrathod/anaconda3/lib/python3.8/site-packages/IPython/core/interactiveshell.py:3146: DtypeWarning: Columns (47) have mixed types.Specify dtype option on import or set low_memory=False.\n",
      "  has_raised = await self.run_ast_nodes(code_ast.body, cell_name,\n",
      "/nas/home/hrathod/anaconda3/lib/python3.8/site-packages/IPython/core/interactiveshell.py:3146: DtypeWarning: Columns (47) have mixed types.Specify dtype option on import or set low_memory=False.\n",
      "  has_raised = await self.run_ast_nodes(code_ast.body, cell_name,\n",
      "/nas/home/hrathod/anaconda3/lib/python3.8/site-packages/IPython/core/interactiveshell.py:3146: DtypeWarning: Columns (47) have mixed types.Specify dtype option on import or set low_memory=False.\n",
      "  has_raised = await self.run_ast_nodes(code_ast.body, cell_name,\n",
      "/nas/home/hrathod/anaconda3/lib/python3.8/site-packages/IPython/core/interactiveshell.py:3146: DtypeWarning: Columns (47) have mixed types.Specify dtype option on import or set low_memory=False.\n",
      "  has_raised = await self.run_ast_nodes(code_ast.body, cell_name,\n",
      "/nas/home/hrathod/anaconda3/lib/python3.8/site-packages/IPython/core/interactiveshell.py:3146: DtypeWarning: Columns (42,47) have mixed types.Specify dtype option on import or set low_memory=False.\n",
      "  has_raised = await self.run_ast_nodes(code_ast.body, cell_name,\n",
      "/nas/home/hrathod/anaconda3/lib/python3.8/site-packages/IPython/core/interactiveshell.py:3146: DtypeWarning: Columns (42,47) have mixed types.Specify dtype option on import or set low_memory=False.\n",
      "  has_raised = await self.run_ast_nodes(code_ast.body, cell_name,\n",
      "/nas/home/hrathod/anaconda3/lib/python3.8/site-packages/IPython/core/interactiveshell.py:3146: DtypeWarning: Columns (47) have mixed types.Specify dtype option on import or set low_memory=False.\n",
      "  has_raised = await self.run_ast_nodes(code_ast.body, cell_name,\n",
      "/nas/home/hrathod/anaconda3/lib/python3.8/site-packages/IPython/core/interactiveshell.py:3146: DtypeWarning: Columns (47) have mixed types.Specify dtype option on import or set low_memory=False.\n",
      "  has_raised = await self.run_ast_nodes(code_ast.body, cell_name,\n",
      "/nas/home/hrathod/anaconda3/lib/python3.8/site-packages/IPython/core/interactiveshell.py:3146: DtypeWarning: Columns (47) have mixed types.Specify dtype option on import or set low_memory=False.\n",
      "  has_raised = await self.run_ast_nodes(code_ast.body, cell_name,\n"
     ]
    },
    {
     "name": "stdout",
     "output_type": "stream",
     "text": [
      "15\n",
      "Bin Covering 12 1 3\n",
      "78\n"
     ]
    },
    {
     "name": "stderr",
     "output_type": "stream",
     "text": [
      "/nas/home/hrathod/anaconda3/lib/python3.8/site-packages/IPython/core/interactiveshell.py:3146: DtypeWarning: Columns (47) have mixed types.Specify dtype option on import or set low_memory=False.\n",
      "  has_raised = await self.run_ast_nodes(code_ast.body, cell_name,\n"
     ]
    },
    {
     "name": "stdout",
     "output_type": "stream",
     "text": [
      "15\n",
      "Bin Covering 12 1 4\n",
      "181\n"
     ]
    },
    {
     "name": "stderr",
     "output_type": "stream",
     "text": [
      "/nas/home/hrathod/anaconda3/lib/python3.8/site-packages/IPython/core/interactiveshell.py:3146: DtypeWarning: Columns (47) have mixed types.Specify dtype option on import or set low_memory=False.\n",
      "  has_raised = await self.run_ast_nodes(code_ast.body, cell_name,\n",
      "/nas/home/hrathod/anaconda3/lib/python3.8/site-packages/IPython/core/interactiveshell.py:3146: DtypeWarning: Columns (47) have mixed types.Specify dtype option on import or set low_memory=False.\n",
      "  has_raised = await self.run_ast_nodes(code_ast.body, cell_name,\n"
     ]
    },
    {
     "name": "stdout",
     "output_type": "stream",
     "text": [
      "15\n",
      "Bin Covering 12 1 5\n",
      "449\n"
     ]
    },
    {
     "name": "stderr",
     "output_type": "stream",
     "text": [
      "/nas/home/hrathod/anaconda3/lib/python3.8/site-packages/IPython/core/interactiveshell.py:3146: DtypeWarning: Columns (47) have mixed types.Specify dtype option on import or set low_memory=False.\n",
      "  has_raised = await self.run_ast_nodes(code_ast.body, cell_name,\n"
     ]
    },
    {
     "name": "stdout",
     "output_type": "stream",
     "text": [
      "15\n",
      "Bin Covering 12 1 6\n",
      "795\n",
      "15\n",
      "Bin Covering 12 1 7\n",
      "912\n",
      "15\n",
      "Bin Covering 12 1 8\n",
      "644\n",
      "15\n",
      "Bin Covering 12 1 9\n",
      "120\n"
     ]
    },
    {
     "name": "stderr",
     "output_type": "stream",
     "text": [
      "/nas/home/hrathod/anaconda3/lib/python3.8/site-packages/IPython/core/interactiveshell.py:3146: DtypeWarning: Columns (42,47) have mixed types.Specify dtype option on import or set low_memory=False.\n",
      "  has_raised = await self.run_ast_nodes(code_ast.body, cell_name,\n"
     ]
    },
    {
     "name": "stdout",
     "output_type": "stream",
     "text": [
      "15\n",
      "Bin Covering 12 2 0\n",
      "4\n",
      "4\n",
      "Bin Covering 12 2 1\n",
      "3\n"
     ]
    },
    {
     "name": "stderr",
     "output_type": "stream",
     "text": [
      "/nas/home/hrathod/anaconda3/lib/python3.8/site-packages/IPython/core/interactiveshell.py:3146: DtypeWarning: Columns (47) have mixed types.Specify dtype option on import or set low_memory=False.\n",
      "  has_raised = await self.run_ast_nodes(code_ast.body, cell_name,\n"
     ]
    },
    {
     "name": "stdout",
     "output_type": "stream",
     "text": [
      "3\n",
      "Bin Covering 12 2 2\n",
      "41\n"
     ]
    },
    {
     "name": "stderr",
     "output_type": "stream",
     "text": [
      "/nas/home/hrathod/anaconda3/lib/python3.8/site-packages/IPython/core/interactiveshell.py:3146: DtypeWarning: Columns (47) have mixed types.Specify dtype option on import or set low_memory=False.\n",
      "  has_raised = await self.run_ast_nodes(code_ast.body, cell_name,\n",
      "/nas/home/hrathod/anaconda3/lib/python3.8/site-packages/IPython/core/interactiveshell.py:3146: DtypeWarning: Columns (47) have mixed types.Specify dtype option on import or set low_memory=False.\n",
      "  has_raised = await self.run_ast_nodes(code_ast.body, cell_name,\n"
     ]
    },
    {
     "name": "stdout",
     "output_type": "stream",
     "text": [
      "15\n",
      "Bin Covering 12 2 3\n",
      "71\n"
     ]
    },
    {
     "name": "stderr",
     "output_type": "stream",
     "text": [
      "/nas/home/hrathod/anaconda3/lib/python3.8/site-packages/IPython/core/interactiveshell.py:3146: DtypeWarning: Columns (42,47) have mixed types.Specify dtype option on import or set low_memory=False.\n",
      "  has_raised = await self.run_ast_nodes(code_ast.body, cell_name,\n",
      "/nas/home/hrathod/anaconda3/lib/python3.8/site-packages/IPython/core/interactiveshell.py:3146: DtypeWarning: Columns (47) have mixed types.Specify dtype option on import or set low_memory=False.\n",
      "  has_raised = await self.run_ast_nodes(code_ast.body, cell_name,\n"
     ]
    },
    {
     "name": "stdout",
     "output_type": "stream",
     "text": [
      "15\n",
      "Bin Covering 12 2 4\n",
      "191\n"
     ]
    },
    {
     "name": "stderr",
     "output_type": "stream",
     "text": [
      "/nas/home/hrathod/anaconda3/lib/python3.8/site-packages/IPython/core/interactiveshell.py:3146: DtypeWarning: Columns (47) have mixed types.Specify dtype option on import or set low_memory=False.\n",
      "  has_raised = await self.run_ast_nodes(code_ast.body, cell_name,\n",
      "/nas/home/hrathod/anaconda3/lib/python3.8/site-packages/IPython/core/interactiveshell.py:3146: DtypeWarning: Columns (42,47) have mixed types.Specify dtype option on import or set low_memory=False.\n",
      "  has_raised = await self.run_ast_nodes(code_ast.body, cell_name,\n",
      "/nas/home/hrathod/anaconda3/lib/python3.8/site-packages/IPython/core/interactiveshell.py:3146: DtypeWarning: Columns (42,47) have mixed types.Specify dtype option on import or set low_memory=False.\n",
      "  has_raised = await self.run_ast_nodes(code_ast.body, cell_name,\n",
      "/nas/home/hrathod/anaconda3/lib/python3.8/site-packages/IPython/core/interactiveshell.py:3146: DtypeWarning: Columns (47) have mixed types.Specify dtype option on import or set low_memory=False.\n",
      "  has_raised = await self.run_ast_nodes(code_ast.body, cell_name,\n",
      "/nas/home/hrathod/anaconda3/lib/python3.8/site-packages/IPython/core/interactiveshell.py:3146: DtypeWarning: Columns (47) have mixed types.Specify dtype option on import or set low_memory=False.\n",
      "  has_raised = await self.run_ast_nodes(code_ast.body, cell_name,\n"
     ]
    },
    {
     "name": "stdout",
     "output_type": "stream",
     "text": [
      "15\n",
      "Bin Covering 12 2 5\n",
      "446\n",
      "15\n",
      "Bin Covering 12 2 6\n",
      "999\n",
      "15\n",
      "Bin Covering 12 2 7\n",
      "1481\n"
     ]
    },
    {
     "name": "stderr",
     "output_type": "stream",
     "text": [
      "/nas/home/hrathod/anaconda3/lib/python3.8/site-packages/IPython/core/interactiveshell.py:3146: DtypeWarning: Columns (42,47) have mixed types.Specify dtype option on import or set low_memory=False.\n",
      "  has_raised = await self.run_ast_nodes(code_ast.body, cell_name,\n"
     ]
    },
    {
     "name": "stdout",
     "output_type": "stream",
     "text": [
      "15\n",
      "Bin Covering 12 2 8\n",
      "1016\n"
     ]
    },
    {
     "name": "stderr",
     "output_type": "stream",
     "text": [
      "/nas/home/hrathod/anaconda3/lib/python3.8/site-packages/IPython/core/interactiveshell.py:3146: DtypeWarning: Columns (40,41,42,47) have mixed types.Specify dtype option on import or set low_memory=False.\n",
      "  has_raised = await self.run_ast_nodes(code_ast.body, cell_name,\n"
     ]
    },
    {
     "name": "stdout",
     "output_type": "stream",
     "text": [
      "15\n",
      "Bin Covering 12 2 9\n",
      "239\n",
      "15\n",
      "Bin Covering 12 3 0\n",
      "2\n",
      "2\n",
      "Bin Covering 12 3 1\n",
      "7\n",
      "7\n",
      "Bin Covering 12 3 2\n",
      "13\n"
     ]
    },
    {
     "name": "stderr",
     "output_type": "stream",
     "text": [
      "/nas/home/hrathod/anaconda3/lib/python3.8/site-packages/IPython/core/interactiveshell.py:3146: DtypeWarning: Columns (27,28,29,34,36,40,41,42,47) have mixed types.Specify dtype option on import or set low_memory=False.\n",
      "  has_raised = await self.run_ast_nodes(code_ast.body, cell_name,\n",
      "/nas/home/hrathod/anaconda3/lib/python3.8/site-packages/IPython/core/interactiveshell.py:3146: DtypeWarning: Columns (40,41,42,47) have mixed types.Specify dtype option on import or set low_memory=False.\n",
      "  has_raised = await self.run_ast_nodes(code_ast.body, cell_name,\n",
      "/nas/home/hrathod/anaconda3/lib/python3.8/site-packages/IPython/core/interactiveshell.py:3146: DtypeWarning: Columns (27,28,29,34,36,40,41,42,47) have mixed types.Specify dtype option on import or set low_memory=False.\n",
      "  has_raised = await self.run_ast_nodes(code_ast.body, cell_name,\n"
     ]
    },
    {
     "name": "stdout",
     "output_type": "stream",
     "text": [
      "13\n",
      "Bin Covering 12 3 3\n",
      "72\n"
     ]
    },
    {
     "name": "stderr",
     "output_type": "stream",
     "text": [
      "/nas/home/hrathod/anaconda3/lib/python3.8/site-packages/IPython/core/interactiveshell.py:3146: DtypeWarning: Columns (47) have mixed types.Specify dtype option on import or set low_memory=False.\n",
      "  has_raised = await self.run_ast_nodes(code_ast.body, cell_name,\n",
      "/nas/home/hrathod/anaconda3/lib/python3.8/site-packages/IPython/core/interactiveshell.py:3146: DtypeWarning: Columns (27,28,29,34,36,40,41,42,47) have mixed types.Specify dtype option on import or set low_memory=False.\n",
      "  has_raised = await self.run_ast_nodes(code_ast.body, cell_name,\n"
     ]
    },
    {
     "name": "stdout",
     "output_type": "stream",
     "text": [
      "15\n",
      "Bin Covering 12 3 4\n",
      "215\n"
     ]
    },
    {
     "name": "stderr",
     "output_type": "stream",
     "text": [
      "/nas/home/hrathod/anaconda3/lib/python3.8/site-packages/IPython/core/interactiveshell.py:3146: DtypeWarning: Columns (42,47) have mixed types.Specify dtype option on import or set low_memory=False.\n",
      "  has_raised = await self.run_ast_nodes(code_ast.body, cell_name,\n"
     ]
    },
    {
     "name": "stdout",
     "output_type": "stream",
     "text": [
      "15\n",
      "Bin Covering 12 3 5\n",
      "468\n",
      "15\n",
      "Bin Covering 12 3 6\n",
      "1086\n"
     ]
    },
    {
     "name": "stderr",
     "output_type": "stream",
     "text": [
      "/nas/home/hrathod/anaconda3/lib/python3.8/site-packages/IPython/core/interactiveshell.py:3146: DtypeWarning: Columns (42,47) have mixed types.Specify dtype option on import or set low_memory=False.\n",
      "  has_raised = await self.run_ast_nodes(code_ast.body, cell_name,\n"
     ]
    },
    {
     "name": "stdout",
     "output_type": "stream",
     "text": [
      "15\n",
      "Bin Covering 12 3 7\n",
      "1869\n",
      "15\n",
      "Bin Covering 12 3 8\n",
      "1582\n",
      "15\n",
      "Bin Covering 12 3 9\n",
      "468\n",
      "15\n",
      "Bin Covering 12 4 0\n",
      "1\n",
      "1\n",
      "Bin Covering 12 4 1\n",
      "3\n",
      "3\n",
      "Bin Covering 12 4 2\n",
      "10\n",
      "10\n",
      "Bin Covering 12 4 3\n",
      "55\n",
      "15\n",
      "Bin Covering 12 4 4\n",
      "176\n",
      "15\n",
      "Bin Covering 12 4 5\n",
      "537\n"
     ]
    },
    {
     "name": "stderr",
     "output_type": "stream",
     "text": [
      "/nas/home/hrathod/anaconda3/lib/python3.8/site-packages/IPython/core/interactiveshell.py:3146: DtypeWarning: Columns (47) have mixed types.Specify dtype option on import or set low_memory=False.\n",
      "  has_raised = await self.run_ast_nodes(code_ast.body, cell_name,\n"
     ]
    },
    {
     "name": "stdout",
     "output_type": "stream",
     "text": [
      "15\n",
      "Bin Covering 12 4 6\n",
      "1158\n"
     ]
    },
    {
     "name": "stderr",
     "output_type": "stream",
     "text": [
      "/nas/home/hrathod/anaconda3/lib/python3.8/site-packages/IPython/core/interactiveshell.py:3146: DtypeWarning: Columns (40,41,42,47) have mixed types.Specify dtype option on import or set low_memory=False.\n",
      "  has_raised = await self.run_ast_nodes(code_ast.body, cell_name,\n"
     ]
    },
    {
     "name": "stdout",
     "output_type": "stream",
     "text": [
      "15\n",
      "Bin Covering 12 4 7\n",
      "2136\n",
      "15\n",
      "Bin Covering 12 4 8\n",
      "2229\n"
     ]
    },
    {
     "name": "stderr",
     "output_type": "stream",
     "text": [
      "/nas/home/hrathod/anaconda3/lib/python3.8/site-packages/IPython/core/interactiveshell.py:3146: DtypeWarning: Columns (42,47) have mixed types.Specify dtype option on import or set low_memory=False.\n",
      "  has_raised = await self.run_ast_nodes(code_ast.body, cell_name,\n"
     ]
    },
    {
     "name": "stdout",
     "output_type": "stream",
     "text": [
      "15\n",
      "Bin Covering 12 4 9\n",
      "646\n"
     ]
    },
    {
     "name": "stderr",
     "output_type": "stream",
     "text": [
      "/nas/home/hrathod/anaconda3/lib/python3.8/site-packages/IPython/core/interactiveshell.py:3146: DtypeWarning: Columns (42,47) have mixed types.Specify dtype option on import or set low_memory=False.\n",
      "  has_raised = await self.run_ast_nodes(code_ast.body, cell_name,\n",
      "/nas/home/hrathod/anaconda3/lib/python3.8/site-packages/IPython/core/interactiveshell.py:3146: DtypeWarning: Columns (42,47) have mixed types.Specify dtype option on import or set low_memory=False.\n",
      "  has_raised = await self.run_ast_nodes(code_ast.body, cell_name,\n"
     ]
    },
    {
     "name": "stdout",
     "output_type": "stream",
     "text": [
      "15\n",
      "Bin Covering 12 5 0\n",
      "1\n",
      "1\n",
      "Bin Covering 12 5 1\n",
      "8\n"
     ]
    },
    {
     "name": "stderr",
     "output_type": "stream",
     "text": [
      "/nas/home/hrathod/anaconda3/lib/python3.8/site-packages/IPython/core/interactiveshell.py:3146: DtypeWarning: Columns (40,41,42,47) have mixed types.Specify dtype option on import or set low_memory=False.\n",
      "  has_raised = await self.run_ast_nodes(code_ast.body, cell_name,\n"
     ]
    },
    {
     "name": "stdout",
     "output_type": "stream",
     "text": [
      "8\n",
      "Bin Covering 12 5 2\n",
      "21\n"
     ]
    },
    {
     "name": "stderr",
     "output_type": "stream",
     "text": [
      "/nas/home/hrathod/anaconda3/lib/python3.8/site-packages/IPython/core/interactiveshell.py:3146: DtypeWarning: Columns (42,47) have mixed types.Specify dtype option on import or set low_memory=False.\n",
      "  has_raised = await self.run_ast_nodes(code_ast.body, cell_name,\n"
     ]
    },
    {
     "name": "stdout",
     "output_type": "stream",
     "text": [
      "15\n",
      "Bin Covering 12 5 3\n",
      "59\n",
      "15\n",
      "Bin Covering 12 5 4\n",
      "201\n",
      "15\n",
      "Bin Covering 12 5 5\n",
      "522\n",
      "15\n",
      "Bin Covering 12 5 6\n",
      "1204\n"
     ]
    },
    {
     "name": "stderr",
     "output_type": "stream",
     "text": [
      "/nas/home/hrathod/anaconda3/lib/python3.8/site-packages/IPython/core/interactiveshell.py:3146: DtypeWarning: Columns (42,47) have mixed types.Specify dtype option on import or set low_memory=False.\n",
      "  has_raised = await self.run_ast_nodes(code_ast.body, cell_name,\n"
     ]
    },
    {
     "name": "stdout",
     "output_type": "stream",
     "text": [
      "15\n",
      "Bin Covering 12 5 7\n",
      "2282\n"
     ]
    },
    {
     "name": "stderr",
     "output_type": "stream",
     "text": [
      "/nas/home/hrathod/anaconda3/lib/python3.8/site-packages/IPython/core/interactiveshell.py:3146: DtypeWarning: Columns (47) have mixed types.Specify dtype option on import or set low_memory=False.\n",
      "  has_raised = await self.run_ast_nodes(code_ast.body, cell_name,\n",
      "/nas/home/hrathod/anaconda3/lib/python3.8/site-packages/IPython/core/interactiveshell.py:3146: DtypeWarning: Columns (40,41,42,47) have mixed types.Specify dtype option on import or set low_memory=False.\n",
      "  has_raised = await self.run_ast_nodes(code_ast.body, cell_name,\n"
     ]
    },
    {
     "name": "stdout",
     "output_type": "stream",
     "text": [
      "15\n",
      "Bin Covering 12 5 8\n",
      "2869\n"
     ]
    },
    {
     "name": "stderr",
     "output_type": "stream",
     "text": [
      "/nas/home/hrathod/anaconda3/lib/python3.8/site-packages/IPython/core/interactiveshell.py:3146: DtypeWarning: Columns (47) have mixed types.Specify dtype option on import or set low_memory=False.\n",
      "  has_raised = await self.run_ast_nodes(code_ast.body, cell_name,\n"
     ]
    },
    {
     "name": "stdout",
     "output_type": "stream",
     "text": [
      "15\n",
      "Bin Covering 12 5 9\n",
      "1168\n",
      "15\n",
      "Bin Covering 12 6 0\n",
      "5\n",
      "5\n",
      "Bin Covering 12 6 1\n",
      "17\n",
      "15\n",
      "Bin Covering 12 6 2\n",
      "69\n"
     ]
    },
    {
     "name": "stderr",
     "output_type": "stream",
     "text": [
      "/nas/home/hrathod/anaconda3/lib/python3.8/site-packages/IPython/core/interactiveshell.py:3146: DtypeWarning: Columns (42,47) have mixed types.Specify dtype option on import or set low_memory=False.\n",
      "  has_raised = await self.run_ast_nodes(code_ast.body, cell_name,\n",
      "/nas/home/hrathod/anaconda3/lib/python3.8/site-packages/IPython/core/interactiveshell.py:3146: DtypeWarning: Columns (42,47) have mixed types.Specify dtype option on import or set low_memory=False.\n",
      "  has_raised = await self.run_ast_nodes(code_ast.body, cell_name,\n",
      "/nas/home/hrathod/anaconda3/lib/python3.8/site-packages/IPython/core/interactiveshell.py:3146: DtypeWarning: Columns (49) have mixed types.Specify dtype option on import or set low_memory=False.\n",
      "  has_raised = await self.run_ast_nodes(code_ast.body, cell_name,\n"
     ]
    },
    {
     "name": "stdout",
     "output_type": "stream",
     "text": [
      "15\n",
      "Bin Covering 12 6 3\n",
      "94\n"
     ]
    },
    {
     "name": "stderr",
     "output_type": "stream",
     "text": [
      "/nas/home/hrathod/anaconda3/lib/python3.8/site-packages/IPython/core/interactiveshell.py:3146: DtypeWarning: Columns (42,47) have mixed types.Specify dtype option on import or set low_memory=False.\n",
      "  has_raised = await self.run_ast_nodes(code_ast.body, cell_name,\n",
      "/nas/home/hrathod/anaconda3/lib/python3.8/site-packages/IPython/core/interactiveshell.py:3146: DtypeWarning: Columns (42,47) have mixed types.Specify dtype option on import or set low_memory=False.\n",
      "  has_raised = await self.run_ast_nodes(code_ast.body, cell_name,\n"
     ]
    },
    {
     "name": "stdout",
     "output_type": "stream",
     "text": [
      "15\n",
      "Bin Covering 12 6 4\n",
      "222\n",
      "15\n",
      "Bin Covering 12 6 5\n",
      "497\n",
      "15\n",
      "Bin Covering 12 6 6\n",
      "1187\n",
      "15\n",
      "Bin Covering 12 6 7\n",
      "2502\n",
      "15\n",
      "Bin Covering 12 6 8\n",
      "3599\n"
     ]
    },
    {
     "name": "stderr",
     "output_type": "stream",
     "text": [
      "/nas/home/hrathod/anaconda3/lib/python3.8/site-packages/IPython/core/interactiveshell.py:3146: DtypeWarning: Columns (42,47) have mixed types.Specify dtype option on import or set low_memory=False.\n",
      "  has_raised = await self.run_ast_nodes(code_ast.body, cell_name,\n",
      "/nas/home/hrathod/anaconda3/lib/python3.8/site-packages/IPython/core/interactiveshell.py:3146: DtypeWarning: Columns (47) have mixed types.Specify dtype option on import or set low_memory=False.\n",
      "  has_raised = await self.run_ast_nodes(code_ast.body, cell_name,\n"
     ]
    },
    {
     "name": "stdout",
     "output_type": "stream",
     "text": [
      "15\n",
      "Bin Covering 12 6 9\n",
      "1946\n",
      "15\n",
      "Bin Covering 12 7 0\n",
      "4\n",
      "4\n",
      "Bin Covering 12 7 1\n",
      "19\n",
      "15\n",
      "Bin Covering 12 7 2\n",
      "49\n"
     ]
    },
    {
     "name": "stderr",
     "output_type": "stream",
     "text": [
      "/nas/home/hrathod/anaconda3/lib/python3.8/site-packages/IPython/core/interactiveshell.py:3146: DtypeWarning: Columns (49) have mixed types.Specify dtype option on import or set low_memory=False.\n",
      "  has_raised = await self.run_ast_nodes(code_ast.body, cell_name,\n"
     ]
    },
    {
     "name": "stdout",
     "output_type": "stream",
     "text": [
      "15\n",
      "Bin Covering 12 7 3\n",
      "93\n",
      "15\n",
      "Bin Covering 12 7 4\n",
      "358\n",
      "15\n",
      "Bin Covering 12 7 5\n",
      "734\n",
      "15\n",
      "Bin Covering 12 7 6\n",
      "1331\n",
      "15\n",
      "Bin Covering 12 7 7\n",
      "3108\n"
     ]
    },
    {
     "name": "stderr",
     "output_type": "stream",
     "text": [
      "/nas/home/hrathod/anaconda3/lib/python3.8/site-packages/IPython/core/interactiveshell.py:3146: DtypeWarning: Columns (42,47) have mixed types.Specify dtype option on import or set low_memory=False.\n",
      "  has_raised = await self.run_ast_nodes(code_ast.body, cell_name,\n"
     ]
    },
    {
     "name": "stdout",
     "output_type": "stream",
     "text": [
      "15\n",
      "Bin Covering 12 7 8\n",
      "4501\n",
      "15\n",
      "Bin Covering 12 7 9\n",
      "2908\n",
      "15\n",
      "Bin Covering 12 8 0\n",
      "Bin Covering 12 8 1\n",
      "7\n",
      "7\n",
      "Bin Covering 12 8 2\n",
      "46\n",
      "15\n",
      "Bin Covering 12 8 3\n",
      "62\n",
      "15\n",
      "Bin Covering 12 8 4\n",
      "419\n",
      "15\n",
      "Bin Covering 12 8 5\n",
      "1034\n"
     ]
    },
    {
     "name": "stderr",
     "output_type": "stream",
     "text": [
      "/nas/home/hrathod/anaconda3/lib/python3.8/site-packages/IPython/core/interactiveshell.py:3146: DtypeWarning: Columns (42,47) have mixed types.Specify dtype option on import or set low_memory=False.\n",
      "  has_raised = await self.run_ast_nodes(code_ast.body, cell_name,\n"
     ]
    },
    {
     "name": "stdout",
     "output_type": "stream",
     "text": [
      "15\n",
      "Bin Covering 12 8 6\n",
      "1660\n"
     ]
    },
    {
     "name": "stderr",
     "output_type": "stream",
     "text": [
      "/nas/home/hrathod/anaconda3/lib/python3.8/site-packages/IPython/core/interactiveshell.py:3146: DtypeWarning: Columns (42,47) have mixed types.Specify dtype option on import or set low_memory=False.\n",
      "  has_raised = await self.run_ast_nodes(code_ast.body, cell_name,\n",
      "/nas/home/hrathod/anaconda3/lib/python3.8/site-packages/IPython/core/interactiveshell.py:3146: DtypeWarning: Columns (27,28,29,34,36,40,41,42,47) have mixed types.Specify dtype option on import or set low_memory=False.\n",
      "  has_raised = await self.run_ast_nodes(code_ast.body, cell_name,\n"
     ]
    },
    {
     "name": "stdout",
     "output_type": "stream",
     "text": [
      "15\n",
      "Bin Covering 12 8 7\n",
      "3573\n",
      "15\n",
      "Bin Covering 12 8 8\n",
      "5857\n"
     ]
    },
    {
     "name": "stderr",
     "output_type": "stream",
     "text": [
      "/nas/home/hrathod/anaconda3/lib/python3.8/site-packages/IPython/core/interactiveshell.py:3146: DtypeWarning: Columns (47) have mixed types.Specify dtype option on import or set low_memory=False.\n",
      "  has_raised = await self.run_ast_nodes(code_ast.body, cell_name,\n"
     ]
    },
    {
     "name": "stdout",
     "output_type": "stream",
     "text": [
      "15\n",
      "Bin Covering 12 8 9\n",
      "4648\n"
     ]
    },
    {
     "name": "stderr",
     "output_type": "stream",
     "text": [
      "/nas/home/hrathod/anaconda3/lib/python3.8/site-packages/IPython/core/interactiveshell.py:3146: DtypeWarning: Columns (40,41,42,47) have mixed types.Specify dtype option on import or set low_memory=False.\n",
      "  has_raised = await self.run_ast_nodes(code_ast.body, cell_name,\n"
     ]
    },
    {
     "name": "stdout",
     "output_type": "stream",
     "text": [
      "15\n",
      "Bin Covering 12 9 0\n",
      "1\n",
      "1\n",
      "Bin Covering 12 9 1\n",
      "1\n",
      "1\n",
      "Bin Covering 12 9 2\n",
      "29\n",
      "15\n",
      "Bin Covering 12 9 3\n",
      "34\n",
      "15\n",
      "Bin Covering 12 9 4\n",
      "111\n",
      "15\n",
      "Bin Covering 12 9 5\n",
      "276\n",
      "15\n",
      "Bin Covering 12 9 6\n",
      "603\n",
      "15\n",
      "Bin Covering 12 9 7\n",
      "2293\n",
      "15\n",
      "Bin Covering 12 9 8\n",
      "6372\n",
      "15\n",
      "Bin Covering 12 9 9\n",
      "15818\n",
      "15\n",
      "Bin Covering 13 0 0\n",
      "7\n",
      "7\n",
      "Bin Covering 13 0 1\n",
      "Bin Covering 13 0 2\n",
      "Bin Covering 13 0 3\n",
      "Bin Covering 13 0 4\n",
      "Bin Covering 13 0 5\n",
      "1\n",
      "1\n",
      "Bin Covering 13 0 6\n",
      "5\n",
      "5\n",
      "Bin Covering 13 0 7\n",
      "22\n",
      "15\n",
      "Bin Covering 13 0 8\n",
      "23\n",
      "15\n",
      "Bin Covering 13 0 9\n",
      "1581\n"
     ]
    },
    {
     "name": "stderr",
     "output_type": "stream",
     "text": [
      "/nas/home/hrathod/anaconda3/lib/python3.8/site-packages/IPython/core/interactiveshell.py:3146: DtypeWarning: Columns (27,28,29,34,36,40,41,42,47) have mixed types.Specify dtype option on import or set low_memory=False.\n",
      "  has_raised = await self.run_ast_nodes(code_ast.body, cell_name,\n",
      "/nas/home/hrathod/anaconda3/lib/python3.8/site-packages/IPython/core/interactiveshell.py:3146: DtypeWarning: Columns (47) have mixed types.Specify dtype option on import or set low_memory=False.\n",
      "  has_raised = await self.run_ast_nodes(code_ast.body, cell_name,\n"
     ]
    },
    {
     "name": "stdout",
     "output_type": "stream",
     "text": [
      "15\n",
      "Bin Covering 13 1 0\n",
      "27\n",
      "15\n",
      "Bin Covering 13 1 1\n",
      "Bin Covering 13 1 2\n",
      "Bin Covering 13 1 3\n",
      "Bin Covering 13 1 4\n",
      "Bin Covering 13 1 5\n",
      "6\n",
      "6\n",
      "Bin Covering 13 1 6\n",
      "7\n",
      "7\n",
      "Bin Covering 13 1 7\n",
      "14\n",
      "14\n",
      "Bin Covering 13 1 8\n",
      "33\n",
      "15\n",
      "Bin Covering 13 1 9\n",
      "3160\n"
     ]
    },
    {
     "name": "stderr",
     "output_type": "stream",
     "text": [
      "/nas/home/hrathod/anaconda3/lib/python3.8/site-packages/IPython/core/interactiveshell.py:3146: DtypeWarning: Columns (49) have mixed types.Specify dtype option on import or set low_memory=False.\n",
      "  has_raised = await self.run_ast_nodes(code_ast.body, cell_name,\n"
     ]
    },
    {
     "name": "stdout",
     "output_type": "stream",
     "text": [
      "15\n",
      "Bin Covering 13 2 0\n",
      "66\n",
      "15\n",
      "Bin Covering 13 2 1\n",
      "Bin Covering 13 2 2\n",
      "Bin Covering 13 2 3\n",
      "Bin Covering 13 2 4\n",
      "Bin Covering 13 2 5\n",
      "13\n"
     ]
    },
    {
     "name": "stderr",
     "output_type": "stream",
     "text": [
      "/nas/home/hrathod/anaconda3/lib/python3.8/site-packages/IPython/core/interactiveshell.py:3146: DtypeWarning: Columns (49) have mixed types.Specify dtype option on import or set low_memory=False.\n",
      "  has_raised = await self.run_ast_nodes(code_ast.body, cell_name,\n"
     ]
    },
    {
     "name": "stdout",
     "output_type": "stream",
     "text": [
      "13\n",
      "Bin Covering 13 2 6\n",
      "4\n"
     ]
    },
    {
     "name": "stderr",
     "output_type": "stream",
     "text": [
      "/nas/home/hrathod/anaconda3/lib/python3.8/site-packages/IPython/core/interactiveshell.py:3146: DtypeWarning: Columns (42,47) have mixed types.Specify dtype option on import or set low_memory=False.\n",
      "  has_raised = await self.run_ast_nodes(code_ast.body, cell_name,\n"
     ]
    },
    {
     "name": "stdout",
     "output_type": "stream",
     "text": [
      "4\n",
      "Bin Covering 13 2 7\n",
      "19\n",
      "15\n",
      "Bin Covering 13 2 8\n",
      "65\n",
      "15\n",
      "Bin Covering 13 2 9\n",
      "4324\n"
     ]
    },
    {
     "name": "stderr",
     "output_type": "stream",
     "text": [
      "/nas/home/hrathod/anaconda3/lib/python3.8/site-packages/IPython/core/interactiveshell.py:3146: DtypeWarning: Columns (27,28,29,34,36,40,41,42,47) have mixed types.Specify dtype option on import or set low_memory=False.\n",
      "  has_raised = await self.run_ast_nodes(code_ast.body, cell_name,\n",
      "/nas/home/hrathod/anaconda3/lib/python3.8/site-packages/IPython/core/interactiveshell.py:3146: DtypeWarning: Columns (47) have mixed types.Specify dtype option on import or set low_memory=False.\n",
      "  has_raised = await self.run_ast_nodes(code_ast.body, cell_name,\n",
      "/nas/home/hrathod/anaconda3/lib/python3.8/site-packages/IPython/core/interactiveshell.py:3146: DtypeWarning: Columns (42,43,44,49) have mixed types.Specify dtype option on import or set low_memory=False.\n",
      "  has_raised = await self.run_ast_nodes(code_ast.body, cell_name,\n"
     ]
    },
    {
     "name": "stdout",
     "output_type": "stream",
     "text": [
      "15\n",
      "Bin Covering 13 3 0\n",
      "90\n"
     ]
    },
    {
     "name": "stderr",
     "output_type": "stream",
     "text": [
      "/nas/home/hrathod/anaconda3/lib/python3.8/site-packages/IPython/core/interactiveshell.py:3146: DtypeWarning: Columns (47) have mixed types.Specify dtype option on import or set low_memory=False.\n",
      "  has_raised = await self.run_ast_nodes(code_ast.body, cell_name,\n"
     ]
    },
    {
     "name": "stdout",
     "output_type": "stream",
     "text": [
      "15\n",
      "Bin Covering 13 3 1\n",
      "Bin Covering 13 3 2\n",
      "Bin Covering 13 3 3\n",
      "Bin Covering 13 3 4\n",
      "Bin Covering 13 3 5\n",
      "15\n",
      "15\n",
      "Bin Covering 13 3 6\n",
      "14\n"
     ]
    },
    {
     "name": "stderr",
     "output_type": "stream",
     "text": [
      "/nas/home/hrathod/anaconda3/lib/python3.8/site-packages/IPython/core/interactiveshell.py:3146: DtypeWarning: Columns (27,28,29,34,36,40,41,42) have mixed types.Specify dtype option on import or set low_memory=False.\n",
      "  has_raised = await self.run_ast_nodes(code_ast.body, cell_name,\n"
     ]
    },
    {
     "name": "stdout",
     "output_type": "stream",
     "text": [
      "14\n",
      "Bin Covering 13 3 7\n",
      "31\n",
      "15\n",
      "Bin Covering 13 3 8\n",
      "143\n",
      "15\n",
      "Bin Covering 13 3 9\n",
      "5489\n"
     ]
    },
    {
     "name": "stderr",
     "output_type": "stream",
     "text": [
      "/nas/home/hrathod/anaconda3/lib/python3.8/site-packages/IPython/core/interactiveshell.py:3146: DtypeWarning: Columns (40,41,42,47) have mixed types.Specify dtype option on import or set low_memory=False.\n",
      "  has_raised = await self.run_ast_nodes(code_ast.body, cell_name,\n",
      "/nas/home/hrathod/anaconda3/lib/python3.8/site-packages/IPython/core/interactiveshell.py:3146: DtypeWarning: Columns (47) have mixed types.Specify dtype option on import or set low_memory=False.\n",
      "  has_raised = await self.run_ast_nodes(code_ast.body, cell_name,\n"
     ]
    },
    {
     "name": "stdout",
     "output_type": "stream",
     "text": [
      "15\n",
      "Bin Covering 13 4 0\n",
      "59\n",
      "15\n",
      "Bin Covering 13 4 1\n",
      "Bin Covering 13 4 2\n",
      "Bin Covering 13 4 3\n",
      "Bin Covering 13 4 4\n",
      "Bin Covering 13 4 5\n",
      "23\n"
     ]
    },
    {
     "name": "stderr",
     "output_type": "stream",
     "text": [
      "/nas/home/hrathod/anaconda3/lib/python3.8/site-packages/IPython/core/interactiveshell.py:3146: DtypeWarning: Columns (42,47) have mixed types.Specify dtype option on import or set low_memory=False.\n",
      "  has_raised = await self.run_ast_nodes(code_ast.body, cell_name,\n"
     ]
    },
    {
     "name": "stdout",
     "output_type": "stream",
     "text": [
      "15\n",
      "Bin Covering 13 4 6\n",
      "28\n",
      "15\n",
      "Bin Covering 13 4 7\n",
      "32\n",
      "15\n",
      "Bin Covering 13 4 8\n",
      "172\n",
      "15\n",
      "Bin Covering 13 4 9\n",
      "6637\n"
     ]
    },
    {
     "name": "stderr",
     "output_type": "stream",
     "text": [
      "/nas/home/hrathod/anaconda3/lib/python3.8/site-packages/IPython/core/interactiveshell.py:3146: DtypeWarning: Columns (42,47) have mixed types.Specify dtype option on import or set low_memory=False.\n",
      "  has_raised = await self.run_ast_nodes(code_ast.body, cell_name,\n"
     ]
    },
    {
     "name": "stdout",
     "output_type": "stream",
     "text": [
      "15\n",
      "Bin Covering 13 5 0\n",
      "107\n",
      "15\n",
      "Bin Covering 13 5 1\n",
      "Bin Covering 13 5 2\n",
      "Bin Covering 13 5 3\n",
      "Bin Covering 13 5 4\n",
      "Bin Covering 13 5 5\n",
      "16\n",
      "15\n",
      "Bin Covering 13 5 6\n",
      "27\n",
      "15\n",
      "Bin Covering 13 5 7\n",
      "37\n",
      "15\n",
      "Bin Covering 13 5 8\n",
      "193\n",
      "15\n",
      "Bin Covering 13 5 9\n",
      "7955\n",
      "15\n",
      "Bin Covering 13 6 0\n",
      "139\n",
      "15\n",
      "Bin Covering 13 6 1\n",
      "Bin Covering 13 6 2\n",
      "Bin Covering 13 6 3\n",
      "Bin Covering 13 6 4\n",
      "Bin Covering 13 6 5\n",
      "29\n"
     ]
    },
    {
     "name": "stderr",
     "output_type": "stream",
     "text": [
      "/nas/home/hrathod/anaconda3/lib/python3.8/site-packages/IPython/core/interactiveshell.py:3146: DtypeWarning: Columns (47) have mixed types.Specify dtype option on import or set low_memory=False.\n",
      "  has_raised = await self.run_ast_nodes(code_ast.body, cell_name,\n"
     ]
    },
    {
     "name": "stdout",
     "output_type": "stream",
     "text": [
      "15\n",
      "Bin Covering 13 6 6\n",
      "32\n",
      "15\n",
      "Bin Covering 13 6 7\n",
      "35\n",
      "15\n",
      "Bin Covering 13 6 8\n",
      "282\n",
      "15\n",
      "Bin Covering 13 6 9\n",
      "9621\n"
     ]
    },
    {
     "name": "stderr",
     "output_type": "stream",
     "text": [
      "/nas/home/hrathod/anaconda3/lib/python3.8/site-packages/IPython/core/interactiveshell.py:3146: DtypeWarning: Columns (47) have mixed types.Specify dtype option on import or set low_memory=False.\n",
      "  has_raised = await self.run_ast_nodes(code_ast.body, cell_name,\n"
     ]
    },
    {
     "name": "stdout",
     "output_type": "stream",
     "text": [
      "15\n",
      "Bin Covering 13 7 0\n",
      "117\n",
      "15\n",
      "Bin Covering 13 7 1\n",
      "Bin Covering 13 7 2\n",
      "Bin Covering 13 7 3\n",
      "Bin Covering 13 7 4\n",
      "Bin Covering 13 7 5\n",
      "31\n"
     ]
    },
    {
     "name": "stderr",
     "output_type": "stream",
     "text": [
      "/nas/home/hrathod/anaconda3/lib/python3.8/site-packages/IPython/core/interactiveshell.py:3146: DtypeWarning: Columns (42,47) have mixed types.Specify dtype option on import or set low_memory=False.\n",
      "  has_raised = await self.run_ast_nodes(code_ast.body, cell_name,\n",
      "/nas/home/hrathod/anaconda3/lib/python3.8/site-packages/IPython/core/interactiveshell.py:3146: DtypeWarning: Columns (42,47) have mixed types.Specify dtype option on import or set low_memory=False.\n",
      "  has_raised = await self.run_ast_nodes(code_ast.body, cell_name,\n",
      "/nas/home/hrathod/anaconda3/lib/python3.8/site-packages/IPython/core/interactiveshell.py:3146: DtypeWarning: Columns (42,47) have mixed types.Specify dtype option on import or set low_memory=False.\n",
      "  has_raised = await self.run_ast_nodes(code_ast.body, cell_name,\n"
     ]
    },
    {
     "name": "stdout",
     "output_type": "stream",
     "text": [
      "15\n",
      "Bin Covering 13 7 6\n",
      "25\n"
     ]
    },
    {
     "name": "stderr",
     "output_type": "stream",
     "text": [
      "/nas/home/hrathod/anaconda3/lib/python3.8/site-packages/IPython/core/interactiveshell.py:3146: DtypeWarning: Columns (40,41,42,47) have mixed types.Specify dtype option on import or set low_memory=False.\n",
      "  has_raised = await self.run_ast_nodes(code_ast.body, cell_name,\n",
      "/nas/home/hrathod/anaconda3/lib/python3.8/site-packages/IPython/core/interactiveshell.py:3146: DtypeWarning: Columns (40,41,42,47) have mixed types.Specify dtype option on import or set low_memory=False.\n",
      "  has_raised = await self.run_ast_nodes(code_ast.body, cell_name,\n"
     ]
    },
    {
     "name": "stdout",
     "output_type": "stream",
     "text": [
      "15\n",
      "Bin Covering 13 7 7\n",
      "31\n",
      "15\n",
      "Bin Covering 13 7 8\n",
      "326\n",
      "15\n",
      "Bin Covering 13 7 9\n",
      "12575\n",
      "15\n",
      "Bin Covering 13 8 0\n",
      "134\n",
      "15\n",
      "Bin Covering 13 8 1\n",
      "Bin Covering 13 8 2\n",
      "Bin Covering 13 8 3\n",
      "Bin Covering 13 8 4\n",
      "Bin Covering 13 8 5\n",
      "25\n",
      "15\n",
      "Bin Covering 13 8 6\n",
      "24\n",
      "15\n",
      "Bin Covering 13 8 7\n",
      "42\n",
      "15\n",
      "Bin Covering 13 8 8\n",
      "489\n",
      "15\n",
      "Bin Covering 13 8 9\n",
      "16592\n"
     ]
    },
    {
     "name": "stderr",
     "output_type": "stream",
     "text": [
      "/nas/home/hrathod/anaconda3/lib/python3.8/site-packages/IPython/core/interactiveshell.py:3146: DtypeWarning: Columns (42,47) have mixed types.Specify dtype option on import or set low_memory=False.\n",
      "  has_raised = await self.run_ast_nodes(code_ast.body, cell_name,\n"
     ]
    },
    {
     "name": "stdout",
     "output_type": "stream",
     "text": [
      "15\n",
      "Bin Covering 13 9 0\n",
      "271\n",
      "15\n",
      "Bin Covering 13 9 1\n",
      "Bin Covering 13 9 2\n",
      "Bin Covering 13 9 3\n",
      "Bin Covering 13 9 4\n",
      "Bin Covering 13 9 5\n",
      "24\n",
      "15\n",
      "Bin Covering 13 9 6\n",
      "16\n",
      "15\n",
      "Bin Covering 13 9 7\n",
      "47\n",
      "15\n",
      "Bin Covering 13 9 8\n",
      "524\n",
      "15\n",
      "Bin Covering 13 9 9\n",
      "24656\n"
     ]
    },
    {
     "name": "stderr",
     "output_type": "stream",
     "text": [
      "/nas/home/hrathod/anaconda3/lib/python3.8/site-packages/IPython/core/interactiveshell.py:3146: DtypeWarning: Columns (42,47) have mixed types.Specify dtype option on import or set low_memory=False.\n",
      "  has_raised = await self.run_ast_nodes(code_ast.body, cell_name,\n"
     ]
    },
    {
     "name": "stdout",
     "output_type": "stream",
     "text": [
      "15\n",
      "Bin Covering 14 0 0\n",
      "4\n",
      "4\n",
      "Bin Covering 14 0 1\n",
      "Bin Covering 14 0 2\n",
      "Bin Covering 14 0 3\n",
      "Bin Covering 14 0 4\n",
      "Bin Covering 14 0 5\n",
      "1\n",
      "1\n",
      "Bin Covering 14 0 6\n",
      "Bin Covering 14 0 7\n",
      "3\n",
      "3\n",
      "Bin Covering 14 0 8\n",
      "20\n",
      "15\n",
      "Bin Covering 14 0 9\n",
      "112\n"
     ]
    },
    {
     "name": "stderr",
     "output_type": "stream",
     "text": [
      "/nas/home/hrathod/anaconda3/lib/python3.8/site-packages/IPython/core/interactiveshell.py:3146: DtypeWarning: Columns (27,28,29,34,36,40,41,42,47) have mixed types.Specify dtype option on import or set low_memory=False.\n",
      "  has_raised = await self.run_ast_nodes(code_ast.body, cell_name,\n",
      "/nas/home/hrathod/anaconda3/lib/python3.8/site-packages/IPython/core/interactiveshell.py:3146: DtypeWarning: Columns (27,28,29,34,36,40,41,42,47) have mixed types.Specify dtype option on import or set low_memory=False.\n",
      "  has_raised = await self.run_ast_nodes(code_ast.body, cell_name,\n",
      "/nas/home/hrathod/anaconda3/lib/python3.8/site-packages/IPython/core/interactiveshell.py:3146: DtypeWarning: Columns (27,28,29,34,36,40,41,42,47) have mixed types.Specify dtype option on import or set low_memory=False.\n",
      "  has_raised = await self.run_ast_nodes(code_ast.body, cell_name,\n",
      "/nas/home/hrathod/anaconda3/lib/python3.8/site-packages/IPython/core/interactiveshell.py:3146: DtypeWarning: Columns (27,28,29,34,36,40,41,42,47) have mixed types.Specify dtype option on import or set low_memory=False.\n",
      "  has_raised = await self.run_ast_nodes(code_ast.body, cell_name,\n",
      "/nas/home/hrathod/anaconda3/lib/python3.8/site-packages/IPython/core/interactiveshell.py:3146: DtypeWarning: Columns (27,28,29,34,36,40,41,42,47) have mixed types.Specify dtype option on import or set low_memory=False.\n",
      "  has_raised = await self.run_ast_nodes(code_ast.body, cell_name,\n",
      "/nas/home/hrathod/anaconda3/lib/python3.8/site-packages/IPython/core/interactiveshell.py:3146: DtypeWarning: Columns (27,28,29,34,36,40,41,42,47) have mixed types.Specify dtype option on import or set low_memory=False.\n",
      "  has_raised = await self.run_ast_nodes(code_ast.body, cell_name,\n"
     ]
    },
    {
     "name": "stdout",
     "output_type": "stream",
     "text": [
      "15\n",
      "Bin Covering 14 1 0\n",
      "Bin Covering 14 1 1\n",
      "Bin Covering 14 1 2\n",
      "Bin Covering 14 1 3\n",
      "Bin Covering 14 1 4\n",
      "Bin Covering 14 1 5\n",
      "Bin Covering 14 1 6\n",
      "Bin Covering 14 1 7\n",
      "Bin Covering 14 1 8\n",
      "Bin Covering 14 1 9\n",
      "108\n",
      "15\n",
      "Bin Covering 14 2 0\n",
      "1\n",
      "1\n",
      "Bin Covering 14 2 1\n",
      "Bin Covering 14 2 2\n",
      "Bin Covering 14 2 3\n",
      "Bin Covering 14 2 4\n",
      "Bin Covering 14 2 5\n",
      "Bin Covering 14 2 6\n",
      "Bin Covering 14 2 7\n",
      "Bin Covering 14 2 8\n",
      "Bin Covering 14 2 9\n",
      "349\n",
      "15\n",
      "Bin Covering 14 3 0\n",
      "Bin Covering 14 3 1\n",
      "Bin Covering 14 3 2\n",
      "Bin Covering 14 3 3\n",
      "Bin Covering 14 3 4\n",
      "Bin Covering 14 3 5\n",
      "1\n",
      "1\n",
      "Bin Covering 14 3 6\n",
      "2\n",
      "2\n",
      "Bin Covering 14 3 7\n",
      "Bin Covering 14 3 8\n",
      "4\n",
      "4\n",
      "Bin Covering 14 3 9\n",
      "662\n"
     ]
    },
    {
     "name": "stderr",
     "output_type": "stream",
     "text": [
      "/nas/home/hrathod/anaconda3/lib/python3.8/site-packages/IPython/core/interactiveshell.py:3146: DtypeWarning: Columns (47) have mixed types.Specify dtype option on import or set low_memory=False.\n",
      "  has_raised = await self.run_ast_nodes(code_ast.body, cell_name,\n",
      "/nas/home/hrathod/anaconda3/lib/python3.8/site-packages/IPython/core/interactiveshell.py:3146: DtypeWarning: Columns (42,47) have mixed types.Specify dtype option on import or set low_memory=False.\n",
      "  has_raised = await self.run_ast_nodes(code_ast.body, cell_name,\n"
     ]
    },
    {
     "name": "stdout",
     "output_type": "stream",
     "text": [
      "15\n",
      "Bin Covering 14 4 0\n",
      "17\n",
      "15\n",
      "Bin Covering 14 4 1\n",
      "Bin Covering 14 4 2\n",
      "Bin Covering 14 4 3\n",
      "Bin Covering 14 4 4\n",
      "Bin Covering 14 4 5\n",
      "2\n"
     ]
    },
    {
     "name": "stderr",
     "output_type": "stream",
     "text": [
      "/nas/home/hrathod/anaconda3/lib/python3.8/site-packages/IPython/core/interactiveshell.py:3146: DtypeWarning: Columns (49) have mixed types.Specify dtype option on import or set low_memory=False.\n",
      "  has_raised = await self.run_ast_nodes(code_ast.body, cell_name,\n"
     ]
    },
    {
     "name": "stdout",
     "output_type": "stream",
     "text": [
      "2\n",
      "Bin Covering 14 4 6\n",
      "2\n"
     ]
    },
    {
     "name": "stderr",
     "output_type": "stream",
     "text": [
      "/nas/home/hrathod/anaconda3/lib/python3.8/site-packages/IPython/core/interactiveshell.py:3146: DtypeWarning: Columns (42,47) have mixed types.Specify dtype option on import or set low_memory=False.\n",
      "  has_raised = await self.run_ast_nodes(code_ast.body, cell_name,\n"
     ]
    },
    {
     "name": "stdout",
     "output_type": "stream",
     "text": [
      "2\n",
      "Bin Covering 14 4 7\n",
      "4\n",
      "4\n",
      "Bin Covering 14 4 8\n",
      "25\n",
      "15\n",
      "Bin Covering 14 4 9\n",
      "2179\n",
      "15\n",
      "Bin Covering 14 5 0\n",
      "42\n",
      "15\n",
      "Bin Covering 14 5 1\n",
      "Bin Covering 14 5 2\n",
      "Bin Covering 14 5 3\n",
      "Bin Covering 14 5 4\n",
      "Bin Covering 14 5 5\n",
      "1\n",
      "1\n",
      "Bin Covering 14 5 6\n",
      "8\n",
      "8\n",
      "Bin Covering 14 5 7\n",
      "6\n",
      "6\n",
      "Bin Covering 14 5 8\n",
      "56\n",
      "15\n",
      "Bin Covering 14 5 9\n",
      "5133\n"
     ]
    },
    {
     "name": "stderr",
     "output_type": "stream",
     "text": [
      "/nas/home/hrathod/anaconda3/lib/python3.8/site-packages/IPython/core/interactiveshell.py:3146: DtypeWarning: Columns (27,28,29,34,36,40,41,42,47) have mixed types.Specify dtype option on import or set low_memory=False.\n",
      "  has_raised = await self.run_ast_nodes(code_ast.body, cell_name,\n"
     ]
    },
    {
     "name": "stdout",
     "output_type": "stream",
     "text": [
      "15\n",
      "Bin Covering 14 6 0\n",
      "146\n",
      "15\n",
      "Bin Covering 14 6 1\n",
      "Bin Covering 14 6 2\n",
      "Bin Covering 14 6 3\n",
      "Bin Covering 14 6 4\n",
      "Bin Covering 14 6 5\n",
      "28\n",
      "15\n",
      "Bin Covering 14 6 6\n",
      "28\n",
      "15\n",
      "Bin Covering 14 6 7\n",
      "50\n",
      "15\n",
      "Bin Covering 14 6 8\n",
      "230\n",
      "15\n",
      "Bin Covering 14 6 9\n",
      "9930\n",
      "15\n",
      "Bin Covering 14 7 0\n",
      "297\n",
      "15\n",
      "Bin Covering 14 7 1\n",
      "Bin Covering 14 7 2\n",
      "Bin Covering 14 7 3\n",
      "Bin Covering 14 7 4\n",
      "Bin Covering 14 7 5\n",
      "59\n"
     ]
    },
    {
     "name": "stderr",
     "output_type": "stream",
     "text": [
      "/nas/home/hrathod/anaconda3/lib/python3.8/site-packages/IPython/core/interactiveshell.py:3146: DtypeWarning: Columns (47) have mixed types.Specify dtype option on import or set low_memory=False.\n",
      "  has_raised = await self.run_ast_nodes(code_ast.body, cell_name,\n"
     ]
    },
    {
     "name": "stdout",
     "output_type": "stream",
     "text": [
      "15\n",
      "Bin Covering 14 7 6\n",
      "53\n"
     ]
    },
    {
     "name": "stderr",
     "output_type": "stream",
     "text": [
      "/nas/home/hrathod/anaconda3/lib/python3.8/site-packages/IPython/core/interactiveshell.py:3146: DtypeWarning: Columns (40,41,42,47) have mixed types.Specify dtype option on import or set low_memory=False.\n",
      "  has_raised = await self.run_ast_nodes(code_ast.body, cell_name,\n",
      "/nas/home/hrathod/anaconda3/lib/python3.8/site-packages/IPython/core/interactiveshell.py:3146: DtypeWarning: Columns (40,41,42,47) have mixed types.Specify dtype option on import or set low_memory=False.\n",
      "  has_raised = await self.run_ast_nodes(code_ast.body, cell_name,\n"
     ]
    },
    {
     "name": "stdout",
     "output_type": "stream",
     "text": [
      "15\n",
      "Bin Covering 14 7 7\n",
      "118\n"
     ]
    },
    {
     "name": "stderr",
     "output_type": "stream",
     "text": [
      "/nas/home/hrathod/anaconda3/lib/python3.8/site-packages/IPython/core/interactiveshell.py:3146: DtypeWarning: Columns (49) have mixed types.Specify dtype option on import or set low_memory=False.\n",
      "  has_raised = await self.run_ast_nodes(code_ast.body, cell_name,\n"
     ]
    },
    {
     "name": "stdout",
     "output_type": "stream",
     "text": [
      "15\n",
      "Bin Covering 14 7 8\n",
      "725\n",
      "15\n",
      "Bin Covering 14 7 9\n",
      "19238\n"
     ]
    },
    {
     "name": "stderr",
     "output_type": "stream",
     "text": [
      "/nas/home/hrathod/anaconda3/lib/python3.8/site-packages/IPython/core/interactiveshell.py:3146: DtypeWarning: Columns (47) have mixed types.Specify dtype option on import or set low_memory=False.\n",
      "  has_raised = await self.run_ast_nodes(code_ast.body, cell_name,\n"
     ]
    },
    {
     "name": "stdout",
     "output_type": "stream",
     "text": [
      "15\n",
      "Bin Covering 14 8 0\n",
      "344\n",
      "15\n",
      "Bin Covering 14 8 1\n",
      "Bin Covering 14 8 2\n",
      "Bin Covering 14 8 3\n",
      "Bin Covering 14 8 4\n",
      "Bin Covering 14 8 5\n",
      "64\n"
     ]
    },
    {
     "name": "stderr",
     "output_type": "stream",
     "text": [
      "/nas/home/hrathod/anaconda3/lib/python3.8/site-packages/IPython/core/interactiveshell.py:3146: DtypeWarning: Columns (42,47) have mixed types.Specify dtype option on import or set low_memory=False.\n",
      "  has_raised = await self.run_ast_nodes(code_ast.body, cell_name,\n",
      "/nas/home/hrathod/anaconda3/lib/python3.8/site-packages/IPython/core/interactiveshell.py:3146: DtypeWarning: Columns (42,47) have mixed types.Specify dtype option on import or set low_memory=False.\n",
      "  has_raised = await self.run_ast_nodes(code_ast.body, cell_name,\n"
     ]
    },
    {
     "name": "stdout",
     "output_type": "stream",
     "text": [
      "15\n",
      "Bin Covering 14 8 6\n",
      "60\n",
      "15\n",
      "Bin Covering 14 8 7\n",
      "91\n",
      "15\n",
      "Bin Covering 14 8 8\n",
      "896\n",
      "15\n",
      "Bin Covering 14 8 9\n",
      "27408\n",
      "15\n",
      "Bin Covering 14 9 0\n",
      "166\n",
      "15\n",
      "Bin Covering 14 9 1\n",
      "Bin Covering 14 9 2\n",
      "Bin Covering 14 9 3\n",
      "Bin Covering 14 9 4\n",
      "Bin Covering 14 9 5\n",
      "27\n",
      "15\n",
      "Bin Covering 14 9 6\n",
      "29\n",
      "15\n",
      "Bin Covering 14 9 7\n",
      "38\n",
      "15\n",
      "Bin Covering 14 9 8\n",
      "294\n",
      "15\n",
      "Bin Covering 14 9 9\n",
      "27471\n"
     ]
    },
    {
     "name": "stderr",
     "output_type": "stream",
     "text": [
      "/nas/home/hrathod/anaconda3/lib/python3.8/site-packages/IPython/core/interactiveshell.py:3146: DtypeWarning: Columns (27,28,29,34,36,40,41,42,47) have mixed types.Specify dtype option on import or set low_memory=False.\n",
      "  has_raised = await self.run_ast_nodes(code_ast.body, cell_name,\n",
      "/nas/home/hrathod/anaconda3/lib/python3.8/site-packages/IPython/core/interactiveshell.py:3146: DtypeWarning: Columns (42,47) have mixed types.Specify dtype option on import or set low_memory=False.\n",
      "  has_raised = await self.run_ast_nodes(code_ast.body, cell_name,\n"
     ]
    },
    {
     "name": "stdout",
     "output_type": "stream",
     "text": [
      "15\n",
      "Bin Covering 15 0 0\n",
      "371\n",
      "15\n",
      "Bin Covering 15 0 1\n",
      "Bin Covering 15 0 2\n",
      "Bin Covering 15 0 3\n",
      "Bin Covering 15 0 4\n",
      "Bin Covering 15 0 5\n",
      "102\n",
      "15\n",
      "Bin Covering 15 0 6\n",
      "Bin Covering 15 0 7\n",
      "28\n",
      "15\n",
      "Bin Covering 15 0 8\n",
      "Bin Covering 15 0 9\n",
      "1\n",
      "1\n",
      "Bin Covering 15 1 0\n",
      "Bin Covering 15 1 1\n",
      "Bin Covering 15 1 2\n",
      "Bin Covering 15 1 3\n",
      "Bin Covering 15 1 4\n",
      "Bin Covering 15 1 5\n",
      "Bin Covering 15 1 6\n",
      "Bin Covering 15 1 7\n",
      "Bin Covering 15 1 8\n",
      "Bin Covering 15 1 9\n",
      "Bin Covering 15 2 0\n",
      "Bin Covering 15 2 1\n",
      "Bin Covering 15 2 2\n",
      "Bin Covering 15 2 3\n",
      "Bin Covering 15 2 4\n",
      "Bin Covering 15 2 5\n",
      "Bin Covering 15 2 6\n",
      "Bin Covering 15 2 7\n",
      "Bin Covering 15 2 8\n",
      "Bin Covering 15 2 9\n",
      "Bin Covering 15 3 0\n",
      "Bin Covering 15 3 1\n",
      "Bin Covering 15 3 2\n",
      "Bin Covering 15 3 3\n",
      "Bin Covering 15 3 4\n",
      "Bin Covering 15 3 5\n",
      "Bin Covering 15 3 6\n",
      "Bin Covering 15 3 7\n",
      "Bin Covering 15 3 8\n",
      "Bin Covering 15 3 9\n",
      "Bin Covering 15 4 0\n",
      "Bin Covering 15 4 1\n",
      "Bin Covering 15 4 2\n",
      "Bin Covering 15 4 3\n",
      "Bin Covering 15 4 4\n",
      "Bin Covering 15 4 5\n",
      "Bin Covering 15 4 6\n",
      "Bin Covering 15 4 7\n",
      "Bin Covering 15 4 8\n",
      "Bin Covering 15 4 9\n",
      "Bin Covering 15 5 0\n",
      "49\n",
      "15\n",
      "Bin Covering 15 5 1\n",
      "Bin Covering 15 5 2\n",
      "Bin Covering 15 5 3\n",
      "Bin Covering 15 5 4\n",
      "Bin Covering 15 5 5\n",
      "11\n",
      "11\n",
      "Bin Covering 15 5 6\n",
      "Bin Covering 15 5 7\n",
      "3\n",
      "3\n",
      "Bin Covering 15 5 8\n",
      "Bin Covering 15 5 9\n",
      "Bin Covering 15 6 0\n",
      "33\n"
     ]
    },
    {
     "name": "stderr",
     "output_type": "stream",
     "text": [
      "/nas/home/hrathod/anaconda3/lib/python3.8/site-packages/IPython/core/interactiveshell.py:3146: DtypeWarning: Columns (47) have mixed types.Specify dtype option on import or set low_memory=False.\n",
      "  has_raised = await self.run_ast_nodes(code_ast.body, cell_name,\n"
     ]
    },
    {
     "name": "stdout",
     "output_type": "stream",
     "text": [
      "15\n",
      "Bin Covering 15 6 1\n",
      "Bin Covering 15 6 2\n",
      "Bin Covering 15 6 3\n",
      "Bin Covering 15 6 4\n",
      "Bin Covering 15 6 5\n",
      "13\n",
      "13\n",
      "Bin Covering 15 6 6\n",
      "Bin Covering 15 6 7\n",
      "3\n",
      "3\n",
      "Bin Covering 15 6 8\n",
      "1\n",
      "1\n",
      "Bin Covering 15 6 9\n",
      "Bin Covering 15 7 0\n",
      "403\n",
      "15\n",
      "Bin Covering 15 7 1\n",
      "Bin Covering 15 7 2\n",
      "Bin Covering 15 7 3\n",
      "Bin Covering 15 7 4\n",
      "Bin Covering 15 7 5\n",
      "51\n",
      "15\n",
      "Bin Covering 15 7 6\n",
      "Bin Covering 15 7 7\n",
      "15\n",
      "15\n",
      "Bin Covering 15 7 8\n",
      "2\n",
      "2\n",
      "Bin Covering 15 7 9\n",
      "Bin Covering 15 8 0\n",
      "748\n"
     ]
    },
    {
     "name": "stderr",
     "output_type": "stream",
     "text": [
      "/nas/home/hrathod/anaconda3/lib/python3.8/site-packages/IPython/core/interactiveshell.py:3146: DtypeWarning: Columns (49) have mixed types.Specify dtype option on import or set low_memory=False.\n",
      "  has_raised = await self.run_ast_nodes(code_ast.body, cell_name,\n"
     ]
    },
    {
     "name": "stdout",
     "output_type": "stream",
     "text": [
      "15\n",
      "Bin Covering 15 8 1\n",
      "Bin Covering 15 8 2\n",
      "Bin Covering 15 8 3\n",
      "Bin Covering 15 8 4\n",
      "Bin Covering 15 8 5\n",
      "283\n",
      "15\n",
      "Bin Covering 15 8 6\n",
      "Bin Covering 15 8 7\n",
      "78\n",
      "15\n",
      "Bin Covering 15 8 8\n",
      "9\n",
      "9\n",
      "Bin Covering 15 8 9\n",
      "1\n",
      "1\n",
      "Bin Covering 15 9 0\n",
      "84319\n"
     ]
    },
    {
     "name": "stderr",
     "output_type": "stream",
     "text": [
      "/nas/home/hrathod/anaconda3/lib/python3.8/site-packages/IPython/core/interactiveshell.py:3146: DtypeWarning: Columns (47) have mixed types.Specify dtype option on import or set low_memory=False.\n",
      "  has_raised = await self.run_ast_nodes(code_ast.body, cell_name,\n",
      "/nas/home/hrathod/anaconda3/lib/python3.8/site-packages/IPython/core/interactiveshell.py:3146: DtypeWarning: Columns (40,41,42) have mixed types.Specify dtype option on import or set low_memory=False.\n",
      "  has_raised = await self.run_ast_nodes(code_ast.body, cell_name,\n"
     ]
    },
    {
     "name": "stdout",
     "output_type": "stream",
     "text": [
      "15\n",
      "Bin Covering 15 9 1\n",
      "Bin Covering 15 9 2\n",
      "Bin Covering 15 9 3\n",
      "Bin Covering 15 9 4\n",
      "Bin Covering 15 9 5\n",
      "8214\n",
      "15\n",
      "Bin Covering 15 9 6\n",
      "Bin Covering 15 9 7\n",
      "1582\n",
      "15\n",
      "Bin Covering 15 9 8\n",
      "193\n",
      "15\n",
      "Bin Covering 15 9 9\n",
      "19\n",
      "15\n",
      "Bin Covering 16 0 0\n",
      "188\n",
      "15\n",
      "Bin Covering 16 0 1\n",
      "Bin Covering 16 0 2\n",
      "Bin Covering 16 0 3\n",
      "Bin Covering 16 0 4\n",
      "Bin Covering 16 0 5\n",
      "8\n"
     ]
    },
    {
     "name": "stderr",
     "output_type": "stream",
     "text": [
      "/nas/home/hrathod/anaconda3/lib/python3.8/site-packages/IPython/core/interactiveshell.py:3146: DtypeWarning: Columns (42,47) have mixed types.Specify dtype option on import or set low_memory=False.\n",
      "  has_raised = await self.run_ast_nodes(code_ast.body, cell_name,\n"
     ]
    },
    {
     "name": "stdout",
     "output_type": "stream",
     "text": [
      "8\n",
      "Bin Covering 16 0 6\n",
      "7\n",
      "7\n",
      "Bin Covering 16 0 7\n",
      "34\n",
      "15\n",
      "Bin Covering 16 0 8\n",
      "50\n",
      "15\n",
      "Bin Covering 16 0 9\n",
      "215\n",
      "15\n",
      "Bin Covering 16 1 0\n",
      "Bin Covering 16 1 1\n",
      "Bin Covering 16 1 2\n",
      "Bin Covering 16 1 3\n",
      "Bin Covering 16 1 4\n",
      "Bin Covering 16 1 5\n",
      "Bin Covering 16 1 6\n",
      "Bin Covering 16 1 7\n",
      "Bin Covering 16 1 8\n",
      "Bin Covering 16 1 9\n",
      "Bin Covering 16 2 0\n",
      "Bin Covering 16 2 1\n",
      "Bin Covering 16 2 2\n",
      "Bin Covering 16 2 3\n",
      "Bin Covering 16 2 4\n",
      "Bin Covering 16 2 5\n",
      "Bin Covering 16 2 6\n",
      "Bin Covering 16 2 7\n",
      "Bin Covering 16 2 8\n",
      "Bin Covering 16 2 9\n",
      "Bin Covering 16 3 0\n",
      "Bin Covering 16 3 1\n",
      "Bin Covering 16 3 2\n",
      "Bin Covering 16 3 3\n",
      "Bin Covering 16 3 4\n",
      "Bin Covering 16 3 5\n",
      "Bin Covering 16 3 6\n",
      "Bin Covering 16 3 7\n",
      "Bin Covering 16 3 8\n",
      "Bin Covering 16 3 9\n",
      "Bin Covering 16 4 0\n",
      "Bin Covering 16 4 1\n",
      "Bin Covering 16 4 2\n",
      "Bin Covering 16 4 3\n",
      "Bin Covering 16 4 4\n",
      "Bin Covering 16 4 5\n",
      "Bin Covering 16 4 6\n",
      "Bin Covering 16 4 7\n",
      "Bin Covering 16 4 8\n",
      "Bin Covering 16 4 9\n",
      "Bin Covering 16 5 0\n",
      "7\n",
      "7\n",
      "Bin Covering 16 5 1\n",
      "Bin Covering 16 5 2\n",
      "Bin Covering 16 5 3\n",
      "Bin Covering 16 5 4\n",
      "Bin Covering 16 5 5\n",
      "12\n",
      "12\n",
      "Bin Covering 16 5 6\n",
      "1\n",
      "1\n",
      "Bin Covering 16 5 7\n",
      "1\n",
      "1\n",
      "Bin Covering 16 5 8\n",
      "1\n",
      "1\n",
      "Bin Covering 16 5 9\n",
      "41\n",
      "15\n",
      "Bin Covering 16 6 0\n",
      "Bin Covering 16 6 1\n",
      "Bin Covering 16 6 2\n",
      "Bin Covering 16 6 3\n",
      "Bin Covering 16 6 4\n",
      "Bin Covering 16 6 5\n",
      "Bin Covering 16 6 6\n",
      "10\n",
      "10\n",
      "Bin Covering 16 6 7\n",
      "5\n",
      "5\n",
      "Bin Covering 16 6 8\n",
      "6\n",
      "6\n",
      "Bin Covering 16 6 9\n",
      "29\n"
     ]
    },
    {
     "name": "stderr",
     "output_type": "stream",
     "text": [
      "/nas/home/hrathod/anaconda3/lib/python3.8/site-packages/IPython/core/interactiveshell.py:3146: DtypeWarning: Columns (47) have mixed types.Specify dtype option on import or set low_memory=False.\n",
      "  has_raised = await self.run_ast_nodes(code_ast.body, cell_name,\n",
      "/nas/home/hrathod/anaconda3/lib/python3.8/site-packages/IPython/core/interactiveshell.py:3146: DtypeWarning: Columns (47) have mixed types.Specify dtype option on import or set low_memory=False.\n",
      "  has_raised = await self.run_ast_nodes(code_ast.body, cell_name,\n"
     ]
    },
    {
     "name": "stdout",
     "output_type": "stream",
     "text": [
      "15\n",
      "Bin Covering 16 7 0\n",
      "29\n",
      "15\n",
      "Bin Covering 16 7 1\n",
      "Bin Covering 16 7 2\n",
      "Bin Covering 16 7 3\n",
      "Bin Covering 16 7 4\n",
      "Bin Covering 16 7 5\n",
      "18\n",
      "15\n",
      "Bin Covering 16 7 6\n",
      "2\n",
      "2\n",
      "Bin Covering 16 7 7\n",
      "91\n",
      "15\n",
      "Bin Covering 16 7 8\n",
      "12\n",
      "12\n",
      "Bin Covering 16 7 9\n",
      "319\n",
      "15\n",
      "Bin Covering 16 8 0\n",
      "106\n",
      "15\n",
      "Bin Covering 16 8 1\n",
      "Bin Covering 16 8 2\n",
      "Bin Covering 16 8 3\n",
      "Bin Covering 16 8 4\n",
      "Bin Covering 16 8 5\n",
      "5\n",
      "5\n",
      "Bin Covering 16 8 6\n",
      "21\n",
      "15\n",
      "Bin Covering 16 8 7\n",
      "35\n",
      "15\n",
      "Bin Covering 16 8 8\n",
      "534\n",
      "15\n",
      "Bin Covering 16 8 9\n",
      "418\n"
     ]
    },
    {
     "name": "stderr",
     "output_type": "stream",
     "text": [
      "/nas/home/hrathod/anaconda3/lib/python3.8/site-packages/IPython/core/interactiveshell.py:3146: DtypeWarning: Columns (42,47) have mixed types.Specify dtype option on import or set low_memory=False.\n",
      "  has_raised = await self.run_ast_nodes(code_ast.body, cell_name,\n"
     ]
    },
    {
     "name": "stdout",
     "output_type": "stream",
     "text": [
      "15\n",
      "Bin Covering 16 9 0\n",
      "10543\n",
      "15\n",
      "Bin Covering 16 9 1\n",
      "Bin Covering 16 9 2\n",
      "Bin Covering 16 9 3\n",
      "Bin Covering 16 9 4\n",
      "Bin Covering 16 9 5\n",
      "559\n",
      "15\n",
      "Bin Covering 16 9 6\n",
      "815\n"
     ]
    },
    {
     "name": "stderr",
     "output_type": "stream",
     "text": [
      "/nas/home/hrathod/anaconda3/lib/python3.8/site-packages/IPython/core/interactiveshell.py:3146: DtypeWarning: Columns (40,41,42,47) have mixed types.Specify dtype option on import or set low_memory=False.\n",
      "  has_raised = await self.run_ast_nodes(code_ast.body, cell_name,\n"
     ]
    },
    {
     "name": "stdout",
     "output_type": "stream",
     "text": [
      "15\n",
      "Bin Covering 16 9 7\n",
      "3399\n",
      "15\n",
      "Bin Covering 16 9 8\n",
      "3829\n",
      "15\n",
      "Bin Covering 16 9 9\n",
      "75182\n",
      "15\n",
      "Bin Covering 17 0 0\n",
      "4577\n"
     ]
    },
    {
     "name": "stderr",
     "output_type": "stream",
     "text": [
      "/nas/home/hrathod/anaconda3/lib/python3.8/site-packages/IPython/core/interactiveshell.py:3146: DtypeWarning: Columns (42,47) have mixed types.Specify dtype option on import or set low_memory=False.\n",
      "  has_raised = await self.run_ast_nodes(code_ast.body, cell_name,\n"
     ]
    },
    {
     "name": "stdout",
     "output_type": "stream",
     "text": [
      "15\n",
      "Bin Covering 17 0 1\n",
      "Bin Covering 17 0 2\n",
      "Bin Covering 17 0 3\n",
      "Bin Covering 17 0 4\n",
      "Bin Covering 17 0 5\n",
      "1515\n",
      "15\n",
      "Bin Covering 17 0 6\n",
      "Bin Covering 17 0 7\n",
      "1038\n",
      "15\n",
      "Bin Covering 17 0 8\n",
      "126\n",
      "15\n",
      "Bin Covering 17 0 9\n",
      "12\n",
      "12\n",
      "Bin Covering 17 1 0\n",
      "Bin Covering 17 1 1\n",
      "Bin Covering 17 1 2\n",
      "Bin Covering 17 1 3\n",
      "Bin Covering 17 1 4\n",
      "Bin Covering 17 1 5\n",
      "Bin Covering 17 1 6\n",
      "Bin Covering 17 1 7\n",
      "Bin Covering 17 1 8\n",
      "Bin Covering 17 1 9\n",
      "Bin Covering 17 2 0\n",
      "Bin Covering 17 2 1\n",
      "Bin Covering 17 2 2\n",
      "Bin Covering 17 2 3\n",
      "Bin Covering 17 2 4\n",
      "Bin Covering 17 2 5\n",
      "Bin Covering 17 2 6\n",
      "Bin Covering 17 2 7\n",
      "Bin Covering 17 2 8\n",
      "Bin Covering 17 2 9\n",
      "Bin Covering 17 3 0\n",
      "Bin Covering 17 3 1\n",
      "Bin Covering 17 3 2\n",
      "Bin Covering 17 3 3\n",
      "Bin Covering 17 3 4\n",
      "Bin Covering 17 3 5\n",
      "Bin Covering 17 3 6\n",
      "Bin Covering 17 3 7\n",
      "Bin Covering 17 3 8\n",
      "Bin Covering 17 3 9\n",
      "Bin Covering 17 4 0\n",
      "545\n"
     ]
    },
    {
     "name": "stderr",
     "output_type": "stream",
     "text": [
      "/nas/home/hrathod/anaconda3/lib/python3.8/site-packages/IPython/core/interactiveshell.py:3146: DtypeWarning: Columns (40,41,42,47) have mixed types.Specify dtype option on import or set low_memory=False.\n",
      "  has_raised = await self.run_ast_nodes(code_ast.body, cell_name,\n",
      "/nas/home/hrathod/anaconda3/lib/python3.8/site-packages/IPython/core/interactiveshell.py:3146: DtypeWarning: Columns (40,41,42) have mixed types.Specify dtype option on import or set low_memory=False.\n",
      "  has_raised = await self.run_ast_nodes(code_ast.body, cell_name,\n"
     ]
    },
    {
     "name": "stdout",
     "output_type": "stream",
     "text": [
      "15\n",
      "Bin Covering 17 4 1\n",
      "Bin Covering 17 4 2\n",
      "Bin Covering 17 4 3\n",
      "Bin Covering 17 4 4\n",
      "Bin Covering 17 4 5\n",
      "42\n",
      "15\n",
      "Bin Covering 17 4 6\n",
      "Bin Covering 17 4 7\n",
      "2\n",
      "2\n",
      "Bin Covering 17 4 8\n",
      "Bin Covering 17 4 9\n",
      "Bin Covering 17 5 0\n",
      "43231\n",
      "15\n",
      "Bin Covering 17 5 1\n",
      "Bin Covering 17 5 2\n",
      "Bin Covering 17 5 3\n",
      "Bin Covering 17 5 4\n",
      "Bin Covering 17 5 5\n",
      "4601\n",
      "15\n",
      "Bin Covering 17 5 6\n",
      "Bin Covering 17 5 7\n",
      "449\n",
      "15\n",
      "Bin Covering 17 5 8\n",
      "43\n",
      "15\n",
      "Bin Covering 17 5 9\n",
      "9\n",
      "9\n",
      "Bin Covering 17 6 0\n",
      "Bin Covering 17 6 1\n",
      "Bin Covering 17 6 2\n",
      "Bin Covering 17 6 3\n",
      "Bin Covering 17 6 4\n",
      "Bin Covering 17 6 5\n",
      "Bin Covering 17 6 6\n",
      "Bin Covering 17 6 7\n",
      "Bin Covering 17 6 8\n",
      "Bin Covering 17 6 9\n",
      "Bin Covering 17 7 0\n",
      "28156\n"
     ]
    },
    {
     "name": "stderr",
     "output_type": "stream",
     "text": [
      "/nas/home/hrathod/anaconda3/lib/python3.8/site-packages/IPython/core/interactiveshell.py:3146: DtypeWarning: Columns (42,47) have mixed types.Specify dtype option on import or set low_memory=False.\n",
      "  has_raised = await self.run_ast_nodes(code_ast.body, cell_name,\n"
     ]
    },
    {
     "name": "stdout",
     "output_type": "stream",
     "text": [
      "15\n",
      "Bin Covering 17 7 1\n",
      "Bin Covering 17 7 2\n",
      "Bin Covering 17 7 3\n",
      "Bin Covering 17 7 4\n",
      "Bin Covering 17 7 5\n",
      "1959\n"
     ]
    },
    {
     "name": "stderr",
     "output_type": "stream",
     "text": [
      "/nas/home/hrathod/anaconda3/lib/python3.8/site-packages/IPython/core/interactiveshell.py:3146: DtypeWarning: Columns (27,28,29,34,36,40,41,42) have mixed types.Specify dtype option on import or set low_memory=False.\n",
      "  has_raised = await self.run_ast_nodes(code_ast.body, cell_name,\n"
     ]
    },
    {
     "name": "stdout",
     "output_type": "stream",
     "text": [
      "15\n",
      "Bin Covering 17 7 6\n",
      "Bin Covering 17 7 7\n",
      "131\n",
      "15\n",
      "Bin Covering 17 7 8\n",
      "35\n",
      "15\n",
      "Bin Covering 17 7 9\n",
      "Bin Covering 17 8 0\n",
      "7430\n"
     ]
    },
    {
     "name": "stderr",
     "output_type": "stream",
     "text": [
      "/nas/home/hrathod/anaconda3/lib/python3.8/site-packages/IPython/core/interactiveshell.py:3146: DtypeWarning: Columns (27,28,29,34,36,40,41,42) have mixed types.Specify dtype option on import or set low_memory=False.\n",
      "  has_raised = await self.run_ast_nodes(code_ast.body, cell_name,\n"
     ]
    },
    {
     "name": "stdout",
     "output_type": "stream",
     "text": [
      "15\n",
      "Bin Covering 17 8 1\n",
      "Bin Covering 17 8 2\n",
      "Bin Covering 17 8 3\n",
      "Bin Covering 17 8 4\n",
      "Bin Covering 17 8 5\n",
      "373\n",
      "15\n",
      "Bin Covering 17 8 6\n",
      "Bin Covering 17 8 7\n",
      "67\n",
      "15\n",
      "Bin Covering 17 8 8\n",
      "1\n",
      "1\n",
      "Bin Covering 17 8 9\n",
      "Bin Covering 17 9 0\n",
      "1984\n"
     ]
    },
    {
     "name": "stderr",
     "output_type": "stream",
     "text": [
      "/nas/home/hrathod/anaconda3/lib/python3.8/site-packages/IPython/core/interactiveshell.py:3146: DtypeWarning: Columns (47) have mixed types.Specify dtype option on import or set low_memory=False.\n",
      "  has_raised = await self.run_ast_nodes(code_ast.body, cell_name,\n",
      "/nas/home/hrathod/anaconda3/lib/python3.8/site-packages/IPython/core/interactiveshell.py:3146: DtypeWarning: Columns (42,47) have mixed types.Specify dtype option on import or set low_memory=False.\n",
      "  has_raised = await self.run_ast_nodes(code_ast.body, cell_name,\n"
     ]
    },
    {
     "name": "stdout",
     "output_type": "stream",
     "text": [
      "15\n",
      "Bin Covering 17 9 1\n",
      "Bin Covering 17 9 2\n",
      "Bin Covering 17 9 3\n",
      "Bin Covering 17 9 4\n",
      "Bin Covering 17 9 5\n",
      "184\n",
      "15\n",
      "Bin Covering 17 9 6\n",
      "Bin Covering 17 9 7\n",
      "22\n",
      "15\n",
      "Bin Covering 17 9 8\n",
      "Bin Covering 17 9 9\n",
      "Bin Covering 18 0 0\n",
      "979\n",
      "15\n",
      "Bin Covering 18 0 1\n",
      "Bin Covering 18 0 2\n",
      "Bin Covering 18 0 3\n",
      "Bin Covering 18 0 4\n",
      "Bin Covering 18 0 5\n",
      "107\n",
      "15\n",
      "Bin Covering 18 0 6\n",
      "81\n"
     ]
    },
    {
     "name": "stderr",
     "output_type": "stream",
     "text": [
      "/nas/home/hrathod/anaconda3/lib/python3.8/site-packages/IPython/core/interactiveshell.py:3146: DtypeWarning: Columns (49) have mixed types.Specify dtype option on import or set low_memory=False.\n",
      "  has_raised = await self.run_ast_nodes(code_ast.body, cell_name,\n"
     ]
    },
    {
     "name": "stdout",
     "output_type": "stream",
     "text": [
      "15\n",
      "Bin Covering 18 0 7\n",
      "262\n",
      "15\n",
      "Bin Covering 18 0 8\n",
      "422\n"
     ]
    },
    {
     "name": "stderr",
     "output_type": "stream",
     "text": [
      "/nas/home/hrathod/anaconda3/lib/python3.8/site-packages/IPython/core/interactiveshell.py:3146: DtypeWarning: Columns (49) have mixed types.Specify dtype option on import or set low_memory=False.\n",
      "  has_raised = await self.run_ast_nodes(code_ast.body, cell_name,\n"
     ]
    },
    {
     "name": "stdout",
     "output_type": "stream",
     "text": [
      "15\n",
      "Bin Covering 18 0 9\n",
      "5417\n",
      "15\n",
      "Bin Covering 18 1 0\n",
      "Bin Covering 18 1 1\n",
      "Bin Covering 18 1 2\n",
      "Bin Covering 18 1 3\n",
      "Bin Covering 18 1 4\n",
      "Bin Covering 18 1 5\n",
      "Bin Covering 18 1 6\n",
      "Bin Covering 18 1 7\n",
      "Bin Covering 18 1 8\n",
      "Bin Covering 18 1 9\n",
      "Bin Covering 18 2 0\n",
      "Bin Covering 18 2 1\n",
      "Bin Covering 18 2 2\n",
      "Bin Covering 18 2 3\n",
      "Bin Covering 18 2 4\n",
      "Bin Covering 18 2 5\n",
      "Bin Covering 18 2 6\n",
      "Bin Covering 18 2 7\n",
      "Bin Covering 18 2 8\n",
      "Bin Covering 18 2 9\n",
      "Bin Covering 18 3 0\n",
      "Bin Covering 18 3 1\n",
      "Bin Covering 18 3 2\n",
      "Bin Covering 18 3 3\n",
      "Bin Covering 18 3 4\n",
      "Bin Covering 18 3 5\n",
      "Bin Covering 18 3 6\n",
      "Bin Covering 18 3 7\n",
      "Bin Covering 18 3 8\n",
      "Bin Covering 18 3 9\n",
      "Bin Covering 18 4 0\n",
      "144\n"
     ]
    },
    {
     "name": "stderr",
     "output_type": "stream",
     "text": [
      "/nas/home/hrathod/anaconda3/lib/python3.8/site-packages/IPython/core/interactiveshell.py:3146: DtypeWarning: Columns (40,41,42,47) have mixed types.Specify dtype option on import or set low_memory=False.\n",
      "  has_raised = await self.run_ast_nodes(code_ast.body, cell_name,\n",
      "/nas/home/hrathod/anaconda3/lib/python3.8/site-packages/IPython/core/interactiveshell.py:3146: DtypeWarning: Columns (40,41,42,47) have mixed types.Specify dtype option on import or set low_memory=False.\n",
      "  has_raised = await self.run_ast_nodes(code_ast.body, cell_name,\n",
      "/nas/home/hrathod/anaconda3/lib/python3.8/site-packages/IPython/core/interactiveshell.py:3146: DtypeWarning: Columns (40,41,42,47) have mixed types.Specify dtype option on import or set low_memory=False.\n",
      "  has_raised = await self.run_ast_nodes(code_ast.body, cell_name,\n",
      "/nas/home/hrathod/anaconda3/lib/python3.8/site-packages/IPython/core/interactiveshell.py:3146: DtypeWarning: Columns (40,41,42,47) have mixed types.Specify dtype option on import or set low_memory=False.\n",
      "  has_raised = await self.run_ast_nodes(code_ast.body, cell_name,\n",
      "/nas/home/hrathod/anaconda3/lib/python3.8/site-packages/IPython/core/interactiveshell.py:3146: DtypeWarning: Columns (40,41,42,47) have mixed types.Specify dtype option on import or set low_memory=False.\n",
      "  has_raised = await self.run_ast_nodes(code_ast.body, cell_name,\n",
      "/nas/home/hrathod/anaconda3/lib/python3.8/site-packages/IPython/core/interactiveshell.py:3146: DtypeWarning: Columns (40,41,42,47) have mixed types.Specify dtype option on import or set low_memory=False.\n",
      "  has_raised = await self.run_ast_nodes(code_ast.body, cell_name,\n",
      "/nas/home/hrathod/anaconda3/lib/python3.8/site-packages/IPython/core/interactiveshell.py:3146: DtypeWarning: Columns (40,41,42,47) have mixed types.Specify dtype option on import or set low_memory=False.\n",
      "  has_raised = await self.run_ast_nodes(code_ast.body, cell_name,\n",
      "/nas/home/hrathod/anaconda3/lib/python3.8/site-packages/IPython/core/interactiveshell.py:3146: DtypeWarning: Columns (40,41,42,47) have mixed types.Specify dtype option on import or set low_memory=False.\n",
      "  has_raised = await self.run_ast_nodes(code_ast.body, cell_name,\n"
     ]
    },
    {
     "name": "stdout",
     "output_type": "stream",
     "text": [
      "15\n",
      "Bin Covering 18 4 1\n",
      "Bin Covering 18 4 2\n",
      "Bin Covering 18 4 3\n",
      "Bin Covering 18 4 4\n",
      "Bin Covering 18 4 5\n",
      "5\n",
      "5\n",
      "Bin Covering 18 4 6\n",
      "6\n",
      "6\n",
      "Bin Covering 18 4 7\n",
      "33\n",
      "15\n",
      "Bin Covering 18 4 8\n",
      "119\n"
     ]
    },
    {
     "name": "stderr",
     "output_type": "stream",
     "text": [
      "/nas/home/hrathod/anaconda3/lib/python3.8/site-packages/IPython/core/interactiveshell.py:3146: DtypeWarning: Columns (40,41,42) have mixed types.Specify dtype option on import or set low_memory=False.\n",
      "  has_raised = await self.run_ast_nodes(code_ast.body, cell_name,\n",
      "/nas/home/hrathod/anaconda3/lib/python3.8/site-packages/IPython/core/interactiveshell.py:3146: DtypeWarning: Columns (40,41,42) have mixed types.Specify dtype option on import or set low_memory=False.\n",
      "  has_raised = await self.run_ast_nodes(code_ast.body, cell_name,\n",
      "/nas/home/hrathod/anaconda3/lib/python3.8/site-packages/IPython/core/interactiveshell.py:3146: DtypeWarning: Columns (40,41,42) have mixed types.Specify dtype option on import or set low_memory=False.\n",
      "  has_raised = await self.run_ast_nodes(code_ast.body, cell_name,\n"
     ]
    },
    {
     "name": "stdout",
     "output_type": "stream",
     "text": [
      "15\n",
      "Bin Covering 18 4 9\n",
      "282\n",
      "15\n",
      "Bin Covering 18 5 0\n",
      "3530\n",
      "15\n",
      "Bin Covering 18 5 1\n",
      "Bin Covering 18 5 2\n",
      "Bin Covering 18 5 3\n",
      "Bin Covering 18 5 4\n",
      "Bin Covering 18 5 5\n",
      "213\n",
      "15\n",
      "Bin Covering 18 5 6\n",
      "386\n",
      "15\n",
      "Bin Covering 18 5 7\n",
      "1603\n"
     ]
    },
    {
     "name": "stderr",
     "output_type": "stream",
     "text": [
      "/nas/home/hrathod/anaconda3/lib/python3.8/site-packages/IPython/core/interactiveshell.py:3146: DtypeWarning: Columns (47) have mixed types.Specify dtype option on import or set low_memory=False.\n",
      "  has_raised = await self.run_ast_nodes(code_ast.body, cell_name,\n"
     ]
    },
    {
     "name": "stdout",
     "output_type": "stream",
     "text": [
      "15\n",
      "Bin Covering 18 5 8\n",
      "1752\n"
     ]
    },
    {
     "name": "stderr",
     "output_type": "stream",
     "text": [
      "/nas/home/hrathod/anaconda3/lib/python3.8/site-packages/IPython/core/interactiveshell.py:3146: DtypeWarning: Columns (42,43,44,49) have mixed types.Specify dtype option on import or set low_memory=False.\n",
      "  has_raised = await self.run_ast_nodes(code_ast.body, cell_name,\n",
      "/nas/home/hrathod/anaconda3/lib/python3.8/site-packages/IPython/core/interactiveshell.py:3146: DtypeWarning: Columns (42,43,44,49) have mixed types.Specify dtype option on import or set low_memory=False.\n",
      "  has_raised = await self.run_ast_nodes(code_ast.body, cell_name,\n"
     ]
    },
    {
     "name": "stdout",
     "output_type": "stream",
     "text": [
      "15\n",
      "Bin Covering 18 5 9\n",
      "40849\n"
     ]
    },
    {
     "name": "stderr",
     "output_type": "stream",
     "text": [
      "/nas/home/hrathod/anaconda3/lib/python3.8/site-packages/IPython/core/interactiveshell.py:3146: DtypeWarning: Columns (27,28,29,34,36,40,41,42,47) have mixed types.Specify dtype option on import or set low_memory=False.\n",
      "  has_raised = await self.run_ast_nodes(code_ast.body, cell_name,\n",
      "/nas/home/hrathod/anaconda3/lib/python3.8/site-packages/IPython/core/interactiveshell.py:3146: DtypeWarning: Columns (47) have mixed types.Specify dtype option on import or set low_memory=False.\n",
      "  has_raised = await self.run_ast_nodes(code_ast.body, cell_name,\n"
     ]
    },
    {
     "name": "stdout",
     "output_type": "stream",
     "text": [
      "15\n",
      "Bin Covering 18 6 0\n",
      "Bin Covering 18 6 1\n",
      "Bin Covering 18 6 2\n",
      "Bin Covering 18 6 3\n",
      "Bin Covering 18 6 4\n",
      "Bin Covering 18 6 5\n",
      "Bin Covering 18 6 6\n",
      "Bin Covering 18 6 7\n",
      "Bin Covering 18 6 8\n",
      "Bin Covering 18 6 9\n",
      "Bin Covering 18 7 0\n",
      "4475\n",
      "15\n",
      "Bin Covering 18 7 1\n",
      "Bin Covering 18 7 2\n",
      "Bin Covering 18 7 3\n",
      "Bin Covering 18 7 4\n",
      "Bin Covering 18 7 5\n",
      "211\n",
      "15\n",
      "Bin Covering 18 7 6\n",
      "288\n",
      "15\n",
      "Bin Covering 18 7 7\n",
      "1053\n",
      "15\n",
      "Bin Covering 18 7 8\n",
      "1530\n"
     ]
    },
    {
     "name": "stderr",
     "output_type": "stream",
     "text": [
      "/nas/home/hrathod/anaconda3/lib/python3.8/site-packages/IPython/core/interactiveshell.py:3146: DtypeWarning: Columns (27,28,29,34,36,40,41,42,47) have mixed types.Specify dtype option on import or set low_memory=False.\n",
      "  has_raised = await self.run_ast_nodes(code_ast.body, cell_name,\n"
     ]
    },
    {
     "name": "stdout",
     "output_type": "stream",
     "text": [
      "15\n",
      "Bin Covering 18 7 9\n",
      "22724\n",
      "15\n",
      "Bin Covering 18 8 0\n",
      "1343\n",
      "15\n",
      "Bin Covering 18 8 1\n",
      "Bin Covering 18 8 2\n",
      "Bin Covering 18 8 3\n",
      "Bin Covering 18 8 4\n",
      "Bin Covering 18 8 5\n",
      "42\n",
      "15\n",
      "Bin Covering 18 8 6\n",
      "66\n",
      "15\n",
      "Bin Covering 18 8 7\n",
      "347\n"
     ]
    },
    {
     "name": "stderr",
     "output_type": "stream",
     "text": [
      "/nas/home/hrathod/anaconda3/lib/python3.8/site-packages/IPython/core/interactiveshell.py:3146: DtypeWarning: Columns (42,43,44,49) have mixed types.Specify dtype option on import or set low_memory=False.\n",
      "  has_raised = await self.run_ast_nodes(code_ast.body, cell_name,\n",
      "/nas/home/hrathod/anaconda3/lib/python3.8/site-packages/IPython/core/interactiveshell.py:3146: DtypeWarning: Columns (40,41,42) have mixed types.Specify dtype option on import or set low_memory=False.\n",
      "  has_raised = await self.run_ast_nodes(code_ast.body, cell_name,\n"
     ]
    },
    {
     "name": "stdout",
     "output_type": "stream",
     "text": [
      "15\n",
      "Bin Covering 18 8 8\n",
      "434\n"
     ]
    },
    {
     "name": "stderr",
     "output_type": "stream",
     "text": [
      "/nas/home/hrathod/anaconda3/lib/python3.8/site-packages/IPython/core/interactiveshell.py:3146: DtypeWarning: Columns (42,43,44,49) have mixed types.Specify dtype option on import or set low_memory=False.\n",
      "  has_raised = await self.run_ast_nodes(code_ast.body, cell_name,\n"
     ]
    },
    {
     "name": "stdout",
     "output_type": "stream",
     "text": [
      "15\n",
      "Bin Covering 18 8 9\n",
      "5639\n",
      "15\n",
      "Bin Covering 18 9 0\n",
      "402\n"
     ]
    },
    {
     "name": "stderr",
     "output_type": "stream",
     "text": [
      "/nas/home/hrathod/anaconda3/lib/python3.8/site-packages/IPython/core/interactiveshell.py:3146: DtypeWarning: Columns (27,28,29,34,36,40,41,42,47) have mixed types.Specify dtype option on import or set low_memory=False.\n",
      "  has_raised = await self.run_ast_nodes(code_ast.body, cell_name,\n",
      "/nas/home/hrathod/anaconda3/lib/python3.8/site-packages/IPython/core/interactiveshell.py:3146: DtypeWarning: Columns (27,28,29,34,36,40,41,42,47) have mixed types.Specify dtype option on import or set low_memory=False.\n",
      "  has_raised = await self.run_ast_nodes(code_ast.body, cell_name,\n",
      "/nas/home/hrathod/anaconda3/lib/python3.8/site-packages/IPython/core/interactiveshell.py:3146: DtypeWarning: Columns (40,41,42,47) have mixed types.Specify dtype option on import or set low_memory=False.\n",
      "  has_raised = await self.run_ast_nodes(code_ast.body, cell_name,\n"
     ]
    },
    {
     "name": "stdout",
     "output_type": "stream",
     "text": [
      "15\n",
      "Bin Covering 18 9 1\n",
      "Bin Covering 18 9 2\n",
      "Bin Covering 18 9 3\n",
      "Bin Covering 18 9 4\n",
      "Bin Covering 18 9 5\n",
      "24\n"
     ]
    },
    {
     "name": "stderr",
     "output_type": "stream",
     "text": [
      "/nas/home/hrathod/anaconda3/lib/python3.8/site-packages/IPython/core/interactiveshell.py:3146: DtypeWarning: Columns (42,47) have mixed types.Specify dtype option on import or set low_memory=False.\n",
      "  has_raised = await self.run_ast_nodes(code_ast.body, cell_name,\n"
     ]
    },
    {
     "name": "stdout",
     "output_type": "stream",
     "text": [
      "15\n",
      "Bin Covering 18 9 6\n",
      "29\n"
     ]
    },
    {
     "name": "stderr",
     "output_type": "stream",
     "text": [
      "/nas/home/hrathod/anaconda3/lib/python3.8/site-packages/IPython/core/interactiveshell.py:3146: DtypeWarning: Columns (42,47) have mixed types.Specify dtype option on import or set low_memory=False.\n",
      "  has_raised = await self.run_ast_nodes(code_ast.body, cell_name,\n",
      "/nas/home/hrathod/anaconda3/lib/python3.8/site-packages/IPython/core/interactiveshell.py:3146: DtypeWarning: Columns (42,47) have mixed types.Specify dtype option on import or set low_memory=False.\n",
      "  has_raised = await self.run_ast_nodes(code_ast.body, cell_name,\n",
      "/nas/home/hrathod/anaconda3/lib/python3.8/site-packages/IPython/core/interactiveshell.py:3146: DtypeWarning: Columns (42,47) have mixed types.Specify dtype option on import or set low_memory=False.\n",
      "  has_raised = await self.run_ast_nodes(code_ast.body, cell_name,\n"
     ]
    },
    {
     "name": "stdout",
     "output_type": "stream",
     "text": [
      "15\n",
      "Bin Covering 18 9 7\n",
      "267\n",
      "15\n",
      "Bin Covering 18 9 8\n",
      "175\n"
     ]
    },
    {
     "name": "stderr",
     "output_type": "stream",
     "text": [
      "/nas/home/hrathod/anaconda3/lib/python3.8/site-packages/IPython/core/interactiveshell.py:3146: DtypeWarning: Columns (40,41,42) have mixed types.Specify dtype option on import or set low_memory=False.\n",
      "  has_raised = await self.run_ast_nodes(code_ast.body, cell_name,\n",
      "/nas/home/hrathod/anaconda3/lib/python3.8/site-packages/IPython/core/interactiveshell.py:3146: DtypeWarning: Columns (42,47) have mixed types.Specify dtype option on import or set low_memory=False.\n",
      "  has_raised = await self.run_ast_nodes(code_ast.body, cell_name,\n"
     ]
    },
    {
     "name": "stdout",
     "output_type": "stream",
     "text": [
      "15\n",
      "Bin Covering 18 9 9\n",
      "1293\n",
      "15\n",
      "Bin Covering 19 0 0\n",
      "1532\n",
      "15\n",
      "Bin Covering 19 0 1\n",
      "Bin Covering 19 0 2\n",
      "Bin Covering 19 0 3\n",
      "Bin Covering 19 0 4\n",
      "Bin Covering 19 0 5\n",
      "57\n",
      "15\n",
      "Bin Covering 19 0 6\n",
      "Bin Covering 19 0 7\n",
      "1\n",
      "1\n",
      "Bin Covering 19 0 8\n",
      "Bin Covering 19 0 9\n",
      "Bin Covering 19 1 0\n",
      "1854\n",
      "15\n",
      "Bin Covering 19 1 1\n",
      "Bin Covering 19 1 2\n",
      "Bin Covering 19 1 3\n",
      "Bin Covering 19 1 4\n",
      "Bin Covering 19 1 5\n",
      "53\n",
      "15\n",
      "Bin Covering 19 1 6\n",
      "Bin Covering 19 1 7\n",
      "2\n",
      "2\n",
      "Bin Covering 19 1 8\n",
      "2\n",
      "2\n",
      "Bin Covering 19 1 9\n",
      "Bin Covering 19 2 0\n",
      "2375\n"
     ]
    },
    {
     "name": "stderr",
     "output_type": "stream",
     "text": [
      "/nas/home/hrathod/anaconda3/lib/python3.8/site-packages/IPython/core/interactiveshell.py:3146: DtypeWarning: Columns (42,47) have mixed types.Specify dtype option on import or set low_memory=False.\n",
      "  has_raised = await self.run_ast_nodes(code_ast.body, cell_name,\n"
     ]
    },
    {
     "name": "stdout",
     "output_type": "stream",
     "text": [
      "15\n",
      "Bin Covering 19 2 1\n",
      "Bin Covering 19 2 2\n",
      "Bin Covering 19 2 3\n",
      "Bin Covering 19 2 4\n",
      "Bin Covering 19 2 5\n",
      "110\n",
      "15\n",
      "Bin Covering 19 2 6\n",
      "Bin Covering 19 2 7\n",
      "11\n"
     ]
    },
    {
     "name": "stderr",
     "output_type": "stream",
     "text": [
      "/nas/home/hrathod/anaconda3/lib/python3.8/site-packages/IPython/core/interactiveshell.py:3146: DtypeWarning: Columns (40,41,42) have mixed types.Specify dtype option on import or set low_memory=False.\n",
      "  has_raised = await self.run_ast_nodes(code_ast.body, cell_name,\n"
     ]
    },
    {
     "name": "stdout",
     "output_type": "stream",
     "text": [
      "11\n",
      "Bin Covering 19 2 8\n",
      "2\n",
      "2\n",
      "Bin Covering 19 2 9\n",
      "1\n",
      "1\n",
      "Bin Covering 19 3 0\n",
      "3196\n",
      "15\n",
      "Bin Covering 19 3 1\n",
      "Bin Covering 19 3 2\n",
      "Bin Covering 19 3 3\n",
      "Bin Covering 19 3 4\n",
      "Bin Covering 19 3 5\n",
      "236\n",
      "15\n",
      "Bin Covering 19 3 6\n",
      "Bin Covering 19 3 7\n",
      "25\n",
      "15\n",
      "Bin Covering 19 3 8\n",
      "Bin Covering 19 3 9\n",
      "Bin Covering 19 4 0\n",
      "3690\n",
      "15\n",
      "Bin Covering 19 4 1\n",
      "Bin Covering 19 4 2\n",
      "Bin Covering 19 4 3\n",
      "Bin Covering 19 4 4\n",
      "Bin Covering 19 4 5\n",
      "214\n",
      "15\n",
      "Bin Covering 19 4 6\n",
      "Bin Covering 19 4 7\n",
      "33\n",
      "15\n",
      "Bin Covering 19 4 8\n",
      "Bin Covering 19 4 9\n",
      "Bin Covering 19 5 0\n",
      "4694\n",
      "15\n",
      "Bin Covering 19 5 1\n",
      "Bin Covering 19 5 2\n",
      "Bin Covering 19 5 3\n",
      "Bin Covering 19 5 4\n",
      "Bin Covering 19 5 5\n",
      "307\n"
     ]
    },
    {
     "name": "stderr",
     "output_type": "stream",
     "text": [
      "/nas/home/hrathod/anaconda3/lib/python3.8/site-packages/IPython/core/interactiveshell.py:3146: DtypeWarning: Columns (42,47) have mixed types.Specify dtype option on import or set low_memory=False.\n",
      "  has_raised = await self.run_ast_nodes(code_ast.body, cell_name,\n"
     ]
    },
    {
     "name": "stdout",
     "output_type": "stream",
     "text": [
      "15\n",
      "Bin Covering 19 5 6\n",
      "Bin Covering 19 5 7\n",
      "41\n",
      "15\n",
      "Bin Covering 19 5 8\n",
      "5\n",
      "5\n",
      "Bin Covering 19 5 9\n",
      "1\n",
      "1\n",
      "Bin Covering 19 6 0\n",
      "5411\n",
      "15\n",
      "Bin Covering 19 6 1\n",
      "Bin Covering 19 6 2\n",
      "Bin Covering 19 6 3\n",
      "Bin Covering 19 6 4\n",
      "Bin Covering 19 6 5\n",
      "381\n"
     ]
    },
    {
     "name": "stderr",
     "output_type": "stream",
     "text": [
      "/nas/home/hrathod/anaconda3/lib/python3.8/site-packages/IPython/core/interactiveshell.py:3146: DtypeWarning: Columns (40,41,42,47) have mixed types.Specify dtype option on import or set low_memory=False.\n",
      "  has_raised = await self.run_ast_nodes(code_ast.body, cell_name,\n"
     ]
    },
    {
     "name": "stdout",
     "output_type": "stream",
     "text": [
      "15\n",
      "Bin Covering 19 6 6\n",
      "Bin Covering 19 6 7\n",
      "110\n",
      "15\n",
      "Bin Covering 19 6 8\n",
      "13\n",
      "13\n",
      "Bin Covering 19 6 9\n",
      "Bin Covering 19 7 0\n",
      "7119\n",
      "15\n",
      "Bin Covering 19 7 1\n",
      "Bin Covering 19 7 2\n",
      "Bin Covering 19 7 3\n",
      "Bin Covering 19 7 4\n",
      "Bin Covering 19 7 5\n",
      "453\n",
      "15\n",
      "Bin Covering 19 7 6\n",
      "Bin Covering 19 7 7\n",
      "128\n",
      "15\n",
      "Bin Covering 19 7 8\n",
      "14\n",
      "14\n",
      "Bin Covering 19 7 9\n",
      "8\n",
      "8\n",
      "Bin Covering 19 8 0\n",
      "9345\n",
      "15\n",
      "Bin Covering 19 8 1\n",
      "Bin Covering 19 8 2\n",
      "Bin Covering 19 8 3\n",
      "Bin Covering 19 8 4\n",
      "Bin Covering 19 8 5\n",
      "937\n",
      "15\n",
      "Bin Covering 19 8 6\n",
      "Bin Covering 19 8 7\n",
      "174\n",
      "15\n",
      "Bin Covering 19 8 8\n",
      "11\n",
      "11\n",
      "Bin Covering 19 8 9\n",
      "1\n",
      "1\n",
      "Bin Covering 19 9 0\n",
      "46707\n",
      "15\n",
      "Bin Covering 19 9 1\n",
      "Bin Covering 19 9 2\n",
      "Bin Covering 19 9 3\n",
      "Bin Covering 19 9 4\n",
      "Bin Covering 19 9 5\n",
      "5926\n",
      "15\n",
      "Bin Covering 19 9 6\n",
      "Bin Covering 19 9 7\n",
      "1184\n",
      "15\n",
      "Bin Covering 19 9 8\n",
      "158\n",
      "15\n",
      "Bin Covering 19 9 9\n",
      "10\n",
      "10\n",
      "Bin Covering 20 0 0\n",
      "226\n",
      "15\n",
      "Bin Covering 20 0 1\n",
      "Bin Covering 20 0 2\n",
      "Bin Covering 20 0 3\n",
      "Bin Covering 20 0 4\n",
      "Bin Covering 20 0 5\n",
      "6\n",
      "6\n",
      "Bin Covering 20 0 6\n",
      "34\n",
      "15\n",
      "Bin Covering 20 0 7\n",
      "67\n",
      "15\n",
      "Bin Covering 20 0 8\n",
      "69\n",
      "15\n",
      "Bin Covering 20 0 9\n",
      "1188\n",
      "15\n",
      "Bin Covering 20 1 0\n",
      "238\n"
     ]
    },
    {
     "name": "stderr",
     "output_type": "stream",
     "text": [
      "/nas/home/hrathod/anaconda3/lib/python3.8/site-packages/IPython/core/interactiveshell.py:3146: DtypeWarning: Columns (49) have mixed types.Specify dtype option on import or set low_memory=False.\n",
      "  has_raised = await self.run_ast_nodes(code_ast.body, cell_name,\n"
     ]
    },
    {
     "name": "stdout",
     "output_type": "stream",
     "text": [
      "15\n",
      "Bin Covering 20 1 1\n",
      "Bin Covering 20 1 2\n",
      "Bin Covering 20 1 3\n",
      "Bin Covering 20 1 4\n",
      "Bin Covering 20 1 5\n",
      "8\n",
      "8\n",
      "Bin Covering 20 1 6\n",
      "9\n",
      "9\n",
      "Bin Covering 20 1 7\n",
      "49\n"
     ]
    },
    {
     "name": "stderr",
     "output_type": "stream",
     "text": [
      "/nas/home/hrathod/anaconda3/lib/python3.8/site-packages/IPython/core/interactiveshell.py:3146: DtypeWarning: Columns (42,47) have mixed types.Specify dtype option on import or set low_memory=False.\n",
      "  has_raised = await self.run_ast_nodes(code_ast.body, cell_name,\n"
     ]
    },
    {
     "name": "stdout",
     "output_type": "stream",
     "text": [
      "15\n",
      "Bin Covering 20 1 8\n",
      "46\n",
      "15\n",
      "Bin Covering 20 1 9\n",
      "1561\n",
      "15\n",
      "Bin Covering 20 2 0\n",
      "141\n"
     ]
    },
    {
     "name": "stderr",
     "output_type": "stream",
     "text": [
      "/nas/home/hrathod/anaconda3/lib/python3.8/site-packages/IPython/core/interactiveshell.py:3146: DtypeWarning: Columns (40,41,42,47) have mixed types.Specify dtype option on import or set low_memory=False.\n",
      "  has_raised = await self.run_ast_nodes(code_ast.body, cell_name,\n"
     ]
    },
    {
     "name": "stdout",
     "output_type": "stream",
     "text": [
      "15\n",
      "Bin Covering 20 2 1\n",
      "Bin Covering 20 2 2\n",
      "Bin Covering 20 2 3\n",
      "Bin Covering 20 2 4\n",
      "Bin Covering 20 2 5\n",
      "10\n",
      "10\n",
      "Bin Covering 20 2 6\n",
      "14\n",
      "14\n",
      "Bin Covering 20 2 7\n",
      "57\n",
      "15\n",
      "Bin Covering 20 2 8\n",
      "116\n",
      "15\n",
      "Bin Covering 20 2 9\n",
      "2161\n",
      "15\n",
      "Bin Covering 20 3 0\n",
      "243\n",
      "15\n",
      "Bin Covering 20 3 1\n",
      "Bin Covering 20 3 2\n",
      "Bin Covering 20 3 3\n",
      "Bin Covering 20 3 4\n",
      "Bin Covering 20 3 5\n",
      "15\n",
      "15\n",
      "Bin Covering 20 3 6\n",
      "24\n"
     ]
    },
    {
     "name": "stderr",
     "output_type": "stream",
     "text": [
      "/nas/home/hrathod/anaconda3/lib/python3.8/site-packages/IPython/core/interactiveshell.py:3146: DtypeWarning: Columns (42,47) have mixed types.Specify dtype option on import or set low_memory=False.\n",
      "  has_raised = await self.run_ast_nodes(code_ast.body, cell_name,\n"
     ]
    },
    {
     "name": "stdout",
     "output_type": "stream",
     "text": [
      "15\n",
      "Bin Covering 20 3 7\n",
      "96\n"
     ]
    },
    {
     "name": "stderr",
     "output_type": "stream",
     "text": [
      "/nas/home/hrathod/anaconda3/lib/python3.8/site-packages/IPython/core/interactiveshell.py:3146: DtypeWarning: Columns (40,41,42) have mixed types.Specify dtype option on import or set low_memory=False.\n",
      "  has_raised = await self.run_ast_nodes(code_ast.body, cell_name,\n",
      "/nas/home/hrathod/anaconda3/lib/python3.8/site-packages/IPython/core/interactiveshell.py:3146: DtypeWarning: Columns (40,41,42,47) have mixed types.Specify dtype option on import or set low_memory=False.\n",
      "  has_raised = await self.run_ast_nodes(code_ast.body, cell_name,\n"
     ]
    },
    {
     "name": "stdout",
     "output_type": "stream",
     "text": [
      "15\n",
      "Bin Covering 20 3 8\n",
      "181\n",
      "15\n",
      "Bin Covering 20 3 9\n",
      "2898\n",
      "15\n",
      "Bin Covering 20 4 0\n",
      "345\n",
      "15\n",
      "Bin Covering 20 4 1\n",
      "Bin Covering 20 4 2\n",
      "Bin Covering 20 4 3\n",
      "Bin Covering 20 4 4\n",
      "Bin Covering 20 4 5\n",
      "21\n",
      "15\n",
      "Bin Covering 20 4 6\n",
      "18\n",
      "15\n",
      "Bin Covering 20 4 7\n",
      "123\n",
      "15\n",
      "Bin Covering 20 4 8\n",
      "118\n",
      "15\n",
      "Bin Covering 20 4 9\n",
      "3312\n"
     ]
    },
    {
     "name": "stderr",
     "output_type": "stream",
     "text": [
      "/nas/home/hrathod/anaconda3/lib/python3.8/site-packages/IPython/core/interactiveshell.py:3146: DtypeWarning: Columns (42,47) have mixed types.Specify dtype option on import or set low_memory=False.\n",
      "  has_raised = await self.run_ast_nodes(code_ast.body, cell_name,\n"
     ]
    },
    {
     "name": "stdout",
     "output_type": "stream",
     "text": [
      "15\n",
      "Bin Covering 20 5 0\n",
      "373\n",
      "15\n",
      "Bin Covering 20 5 1\n",
      "Bin Covering 20 5 2\n",
      "Bin Covering 20 5 3\n",
      "Bin Covering 20 5 4\n",
      "Bin Covering 20 5 5\n",
      "12\n"
     ]
    },
    {
     "name": "stderr",
     "output_type": "stream",
     "text": [
      "/nas/home/hrathod/anaconda3/lib/python3.8/site-packages/IPython/core/interactiveshell.py:3146: DtypeWarning: Columns (42,47) have mixed types.Specify dtype option on import or set low_memory=False.\n",
      "  has_raised = await self.run_ast_nodes(code_ast.body, cell_name,\n"
     ]
    },
    {
     "name": "stdout",
     "output_type": "stream",
     "text": [
      "12\n",
      "Bin Covering 20 5 6\n",
      "24\n"
     ]
    },
    {
     "name": "stderr",
     "output_type": "stream",
     "text": [
      "/nas/home/hrathod/anaconda3/lib/python3.8/site-packages/IPython/core/interactiveshell.py:3146: DtypeWarning: Columns (40,41,42) have mixed types.Specify dtype option on import or set low_memory=False.\n",
      "  has_raised = await self.run_ast_nodes(code_ast.body, cell_name,\n",
      "/nas/home/hrathod/anaconda3/lib/python3.8/site-packages/IPython/core/interactiveshell.py:3146: DtypeWarning: Columns (42,47) have mixed types.Specify dtype option on import or set low_memory=False.\n",
      "  has_raised = await self.run_ast_nodes(code_ast.body, cell_name,\n"
     ]
    },
    {
     "name": "stdout",
     "output_type": "stream",
     "text": [
      "15\n",
      "Bin Covering 20 5 7\n",
      "107\n",
      "15\n",
      "Bin Covering 20 5 8\n",
      "185\n",
      "15\n",
      "Bin Covering 20 5 9\n",
      "4347\n",
      "15\n",
      "Bin Covering 20 6 0\n",
      "476\n",
      "15\n",
      "Bin Covering 20 6 1\n",
      "Bin Covering 20 6 2\n",
      "Bin Covering 20 6 3\n",
      "Bin Covering 20 6 4\n",
      "Bin Covering 20 6 5\n",
      "27\n",
      "15\n",
      "Bin Covering 20 6 6\n",
      "53\n",
      "15\n",
      "Bin Covering 20 6 7\n",
      "164\n",
      "15\n",
      "Bin Covering 20 6 8\n",
      "176\n",
      "15\n",
      "Bin Covering 20 6 9\n",
      "5019\n",
      "15\n",
      "Bin Covering 20 7 0\n",
      "608\n",
      "15\n",
      "Bin Covering 20 7 1\n",
      "Bin Covering 20 7 2\n",
      "Bin Covering 20 7 3\n",
      "Bin Covering 20 7 4\n",
      "Bin Covering 20 7 5\n",
      "26\n",
      "15\n",
      "Bin Covering 20 7 6\n",
      "89\n",
      "15\n",
      "Bin Covering 20 7 7\n",
      "209\n"
     ]
    },
    {
     "name": "stderr",
     "output_type": "stream",
     "text": [
      "/nas/home/hrathod/anaconda3/lib/python3.8/site-packages/IPython/core/interactiveshell.py:3146: DtypeWarning: Columns (47) have mixed types.Specify dtype option on import or set low_memory=False.\n",
      "  has_raised = await self.run_ast_nodes(code_ast.body, cell_name,\n"
     ]
    },
    {
     "name": "stdout",
     "output_type": "stream",
     "text": [
      "15\n",
      "Bin Covering 20 7 8\n",
      "311\n"
     ]
    },
    {
     "name": "stderr",
     "output_type": "stream",
     "text": [
      "/nas/home/hrathod/anaconda3/lib/python3.8/site-packages/IPython/core/interactiveshell.py:3146: DtypeWarning: Columns (47) have mixed types.Specify dtype option on import or set low_memory=False.\n",
      "  has_raised = await self.run_ast_nodes(code_ast.body, cell_name,\n"
     ]
    },
    {
     "name": "stdout",
     "output_type": "stream",
     "text": [
      "15\n",
      "Bin Covering 20 7 9\n",
      "6479\n",
      "15\n",
      "Bin Covering 20 8 0\n",
      "997\n",
      "15\n",
      "Bin Covering 20 8 1\n",
      "Bin Covering 20 8 2\n",
      "Bin Covering 20 8 3\n",
      "Bin Covering 20 8 4\n",
      "Bin Covering 20 8 5\n",
      "63\n",
      "15\n",
      "Bin Covering 20 8 6\n",
      "117\n"
     ]
    },
    {
     "name": "stderr",
     "output_type": "stream",
     "text": [
      "/nas/home/hrathod/anaconda3/lib/python3.8/site-packages/IPython/core/interactiveshell.py:3146: DtypeWarning: Columns (49) have mixed types.Specify dtype option on import or set low_memory=False.\n",
      "  has_raised = await self.run_ast_nodes(code_ast.body, cell_name,\n"
     ]
    },
    {
     "name": "stdout",
     "output_type": "stream",
     "text": [
      "15\n",
      "Bin Covering 20 8 7\n",
      "381\n"
     ]
    },
    {
     "name": "stderr",
     "output_type": "stream",
     "text": [
      "/nas/home/hrathod/anaconda3/lib/python3.8/site-packages/IPython/core/interactiveshell.py:3146: DtypeWarning: Columns (42,47) have mixed types.Specify dtype option on import or set low_memory=False.\n",
      "  has_raised = await self.run_ast_nodes(code_ast.body, cell_name,\n"
     ]
    },
    {
     "name": "stdout",
     "output_type": "stream",
     "text": [
      "15\n",
      "Bin Covering 20 8 8\n",
      "387\n",
      "15\n",
      "Bin Covering 20 8 9\n",
      "8523\n"
     ]
    },
    {
     "name": "stderr",
     "output_type": "stream",
     "text": [
      "/nas/home/hrathod/anaconda3/lib/python3.8/site-packages/IPython/core/interactiveshell.py:3146: DtypeWarning: Columns (47) have mixed types.Specify dtype option on import or set low_memory=False.\n",
      "  has_raised = await self.run_ast_nodes(code_ast.body, cell_name,\n"
     ]
    },
    {
     "name": "stdout",
     "output_type": "stream",
     "text": [
      "15\n",
      "Bin Covering 20 9 0\n",
      "7226\n"
     ]
    },
    {
     "name": "stderr",
     "output_type": "stream",
     "text": [
      "/nas/home/hrathod/anaconda3/lib/python3.8/site-packages/IPython/core/interactiveshell.py:3146: DtypeWarning: Columns (40,41,42,47) have mixed types.Specify dtype option on import or set low_memory=False.\n",
      "  has_raised = await self.run_ast_nodes(code_ast.body, cell_name,\n",
      "/nas/home/hrathod/anaconda3/lib/python3.8/site-packages/IPython/core/interactiveshell.py:3146: DtypeWarning: Columns (42,47) have mixed types.Specify dtype option on import or set low_memory=False.\n",
      "  has_raised = await self.run_ast_nodes(code_ast.body, cell_name,\n"
     ]
    },
    {
     "name": "stdout",
     "output_type": "stream",
     "text": [
      "15\n",
      "Bin Covering 20 9 1\n",
      "Bin Covering 20 9 2\n",
      "Bin Covering 20 9 3\n",
      "Bin Covering 20 9 4\n",
      "Bin Covering 20 9 5\n",
      "414\n",
      "15\n",
      "Bin Covering 20 9 6\n",
      "474\n",
      "15\n",
      "Bin Covering 20 9 7\n",
      "2312\n",
      "15\n",
      "Bin Covering 20 9 8\n",
      "2843\n"
     ]
    },
    {
     "name": "stderr",
     "output_type": "stream",
     "text": [
      "/nas/home/hrathod/anaconda3/lib/python3.8/site-packages/IPython/core/interactiveshell.py:3146: DtypeWarning: Columns (42,43,44,49) have mixed types.Specify dtype option on import or set low_memory=False.\n",
      "  has_raised = await self.run_ast_nodes(code_ast.body, cell_name,\n",
      "/nas/home/hrathod/anaconda3/lib/python3.8/site-packages/IPython/core/interactiveshell.py:3146: DtypeWarning: Columns (42,43,44,49) have mixed types.Specify dtype option on import or set low_memory=False.\n",
      "  has_raised = await self.run_ast_nodes(code_ast.body, cell_name,\n",
      "/nas/home/hrathod/anaconda3/lib/python3.8/site-packages/IPython/core/interactiveshell.py:3146: DtypeWarning: Columns (42,43,44,49) have mixed types.Specify dtype option on import or set low_memory=False.\n",
      "  has_raised = await self.run_ast_nodes(code_ast.body, cell_name,\n"
     ]
    },
    {
     "name": "stdout",
     "output_type": "stream",
     "text": [
      "15\n",
      "Bin Covering 20 9 9\n",
      "40716\n",
      "15\n",
      "Bin Covering 21 0 0\n",
      "1621\n",
      "15\n",
      "Bin Covering 21 0 1\n",
      "Bin Covering 21 0 2\n",
      "Bin Covering 21 0 3\n",
      "Bin Covering 21 0 4\n",
      "Bin Covering 21 0 5\n",
      "18\n",
      "15\n",
      "Bin Covering 21 0 6\n",
      "Bin Covering 21 0 7\n",
      "Bin Covering 21 0 8\n",
      "Bin Covering 21 0 9\n",
      "Bin Covering 21 1 0\n",
      "3162\n"
     ]
    },
    {
     "name": "stderr",
     "output_type": "stream",
     "text": [
      "/nas/home/hrathod/anaconda3/lib/python3.8/site-packages/IPython/core/interactiveshell.py:3146: DtypeWarning: Columns (40,41,42,47) have mixed types.Specify dtype option on import or set low_memory=False.\n",
      "  has_raised = await self.run_ast_nodes(code_ast.body, cell_name,\n",
      "/nas/home/hrathod/anaconda3/lib/python3.8/site-packages/IPython/core/interactiveshell.py:3146: DtypeWarning: Columns (40,41,42,47) have mixed types.Specify dtype option on import or set low_memory=False.\n",
      "  has_raised = await self.run_ast_nodes(code_ast.body, cell_name,\n"
     ]
    },
    {
     "name": "stdout",
     "output_type": "stream",
     "text": [
      "15\n",
      "Bin Covering 21 1 1\n",
      "Bin Covering 21 1 2\n",
      "Bin Covering 21 1 3\n",
      "Bin Covering 21 1 4\n",
      "Bin Covering 21 1 5\n",
      "79\n"
     ]
    },
    {
     "name": "stderr",
     "output_type": "stream",
     "text": [
      "/nas/home/hrathod/anaconda3/lib/python3.8/site-packages/IPython/core/interactiveshell.py:3146: DtypeWarning: Columns (40,41,42,47) have mixed types.Specify dtype option on import or set low_memory=False.\n",
      "  has_raised = await self.run_ast_nodes(code_ast.body, cell_name,\n"
     ]
    },
    {
     "name": "stdout",
     "output_type": "stream",
     "text": [
      "15\n",
      "Bin Covering 21 1 6\n",
      "Bin Covering 21 1 7\n",
      "6\n"
     ]
    },
    {
     "name": "stderr",
     "output_type": "stream",
     "text": [
      "/nas/home/hrathod/anaconda3/lib/python3.8/site-packages/IPython/core/interactiveshell.py:3146: DtypeWarning: Columns (40,41,42) have mixed types.Specify dtype option on import or set low_memory=False.\n",
      "  has_raised = await self.run_ast_nodes(code_ast.body, cell_name,\n"
     ]
    },
    {
     "name": "stdout",
     "output_type": "stream",
     "text": [
      "6\n",
      "Bin Covering 21 1 8\n",
      "Bin Covering 21 1 9\n",
      "Bin Covering 21 2 0\n",
      "4280\n",
      "15\n",
      "Bin Covering 21 2 1\n",
      "Bin Covering 21 2 2\n",
      "Bin Covering 21 2 3\n",
      "Bin Covering 21 2 4\n",
      "Bin Covering 21 2 5\n",
      "192\n"
     ]
    },
    {
     "name": "stderr",
     "output_type": "stream",
     "text": [
      "/nas/home/hrathod/anaconda3/lib/python3.8/site-packages/IPython/core/interactiveshell.py:3146: DtypeWarning: Columns (40,41,42,47) have mixed types.Specify dtype option on import or set low_memory=False.\n",
      "  has_raised = await self.run_ast_nodes(code_ast.body, cell_name,\n"
     ]
    },
    {
     "name": "stdout",
     "output_type": "stream",
     "text": [
      "15\n",
      "Bin Covering 21 2 6\n",
      "Bin Covering 21 2 7\n",
      "17\n",
      "15\n",
      "Bin Covering 21 2 8\n",
      "2\n",
      "2\n",
      "Bin Covering 21 2 9\n",
      "Bin Covering 21 3 0\n",
      "5422\n"
     ]
    },
    {
     "name": "stderr",
     "output_type": "stream",
     "text": [
      "/nas/home/hrathod/anaconda3/lib/python3.8/site-packages/IPython/core/interactiveshell.py:3146: DtypeWarning: Columns (49) have mixed types.Specify dtype option on import or set low_memory=False.\n",
      "  has_raised = await self.run_ast_nodes(code_ast.body, cell_name,\n"
     ]
    },
    {
     "name": "stdout",
     "output_type": "stream",
     "text": [
      "15\n",
      "Bin Covering 21 3 1\n",
      "Bin Covering 21 3 2\n",
      "Bin Covering 21 3 3\n",
      "Bin Covering 21 3 4\n",
      "Bin Covering 21 3 5\n",
      "310\n"
     ]
    },
    {
     "name": "stderr",
     "output_type": "stream",
     "text": [
      "/nas/home/hrathod/anaconda3/lib/python3.8/site-packages/IPython/core/interactiveshell.py:3146: DtypeWarning: Columns (47) have mixed types.Specify dtype option on import or set low_memory=False.\n",
      "  has_raised = await self.run_ast_nodes(code_ast.body, cell_name,\n"
     ]
    },
    {
     "name": "stdout",
     "output_type": "stream",
     "text": [
      "15\n",
      "Bin Covering 21 3 6\n",
      "Bin Covering 21 3 7\n",
      "46\n",
      "15\n",
      "Bin Covering 21 3 8\n",
      "4\n",
      "4\n",
      "Bin Covering 21 3 9\n",
      "Bin Covering 21 4 0\n",
      "6404\n",
      "15\n",
      "Bin Covering 21 4 1\n",
      "Bin Covering 21 4 2\n",
      "Bin Covering 21 4 3\n",
      "Bin Covering 21 4 4\n",
      "Bin Covering 21 4 5\n",
      "457\n",
      "15\n",
      "Bin Covering 21 4 6\n",
      "Bin Covering 21 4 7\n",
      "78\n",
      "15\n",
      "Bin Covering 21 4 8\n",
      "12\n",
      "12\n",
      "Bin Covering 21 4 9\n",
      "Bin Covering 21 5 0\n",
      "7606\n",
      "15\n",
      "Bin Covering 21 5 1\n",
      "Bin Covering 21 5 2\n",
      "Bin Covering 21 5 3\n",
      "Bin Covering 21 5 4\n",
      "Bin Covering 21 5 5\n",
      "592\n",
      "15\n",
      "Bin Covering 21 5 6\n",
      "Bin Covering 21 5 7\n",
      "134\n",
      "15\n",
      "Bin Covering 21 5 8\n",
      "2\n",
      "2\n",
      "Bin Covering 21 5 9\n",
      "1\n",
      "1\n",
      "Bin Covering 21 6 0\n",
      "8764\n"
     ]
    },
    {
     "name": "stderr",
     "output_type": "stream",
     "text": [
      "/nas/home/hrathod/anaconda3/lib/python3.8/site-packages/IPython/core/interactiveshell.py:3146: DtypeWarning: Columns (40,41,42,47) have mixed types.Specify dtype option on import or set low_memory=False.\n",
      "  has_raised = await self.run_ast_nodes(code_ast.body, cell_name,\n"
     ]
    },
    {
     "name": "stdout",
     "output_type": "stream",
     "text": [
      "15\n",
      "Bin Covering 21 6 1\n",
      "Bin Covering 21 6 2\n",
      "Bin Covering 21 6 3\n",
      "Bin Covering 21 6 4\n",
      "Bin Covering 21 6 5\n",
      "1097\n",
      "15\n",
      "Bin Covering 21 6 6\n",
      "Bin Covering 21 6 7\n",
      "246\n",
      "15\n",
      "Bin Covering 21 6 8\n",
      "26\n",
      "15\n",
      "Bin Covering 21 6 9\n",
      "5\n",
      "5\n",
      "Bin Covering 21 7 0\n",
      "11383\n",
      "15\n",
      "Bin Covering 21 7 1\n",
      "Bin Covering 21 7 2\n",
      "Bin Covering 21 7 3\n",
      "Bin Covering 21 7 4\n",
      "Bin Covering 21 7 5\n",
      "1410\n",
      "15\n",
      "Bin Covering 21 7 6\n",
      "Bin Covering 21 7 7\n",
      "267\n",
      "15\n",
      "Bin Covering 21 7 8\n",
      "40\n",
      "15\n",
      "Bin Covering 21 7 9\n",
      "5\n",
      "5\n",
      "Bin Covering 21 8 0\n",
      "14971\n",
      "15\n",
      "Bin Covering 21 8 1\n",
      "Bin Covering 21 8 2\n",
      "Bin Covering 21 8 3\n",
      "Bin Covering 21 8 4\n",
      "Bin Covering 21 8 5\n",
      "1904\n"
     ]
    },
    {
     "name": "stderr",
     "output_type": "stream",
     "text": [
      "/nas/home/hrathod/anaconda3/lib/python3.8/site-packages/IPython/core/interactiveshell.py:3146: DtypeWarning: Columns (42,47) have mixed types.Specify dtype option on import or set low_memory=False.\n",
      "  has_raised = await self.run_ast_nodes(code_ast.body, cell_name,\n"
     ]
    },
    {
     "name": "stdout",
     "output_type": "stream",
     "text": [
      "15\n",
      "Bin Covering 21 8 6\n",
      "Bin Covering 21 8 7\n",
      "363\n",
      "15\n",
      "Bin Covering 21 8 8\n",
      "64\n",
      "15\n",
      "Bin Covering 21 8 9\n",
      "4\n",
      "4\n",
      "Bin Covering 21 9 0\n",
      "22310\n",
      "15\n",
      "Bin Covering 21 9 1\n",
      "Bin Covering 21 9 2\n",
      "Bin Covering 21 9 3\n",
      "Bin Covering 21 9 4\n",
      "Bin Covering 21 9 5\n",
      "2615\n",
      "15\n",
      "Bin Covering 21 9 6\n",
      "Bin Covering 21 9 7\n",
      "552\n",
      "15\n",
      "Bin Covering 21 9 8\n",
      "55\n",
      "15\n",
      "Bin Covering 21 9 9\n",
      "6\n",
      "6\n",
      "Bin Covering 22 0 0\n",
      "347\n",
      "15\n",
      "Bin Covering 22 0 1\n",
      "Bin Covering 22 0 2\n",
      "Bin Covering 22 0 3\n",
      "Bin Covering 22 0 4\n",
      "Bin Covering 22 0 5\n",
      "13\n",
      "13\n",
      "Bin Covering 22 0 6\n",
      "30\n",
      "15\n",
      "Bin Covering 22 0 7\n",
      "119\n",
      "15\n",
      "Bin Covering 22 0 8\n",
      "123\n"
     ]
    },
    {
     "name": "stderr",
     "output_type": "stream",
     "text": [
      "/nas/home/hrathod/anaconda3/lib/python3.8/site-packages/IPython/core/interactiveshell.py:3146: DtypeWarning: Columns (42,47) have mixed types.Specify dtype option on import or set low_memory=False.\n",
      "  has_raised = await self.run_ast_nodes(code_ast.body, cell_name,\n"
     ]
    },
    {
     "name": "stdout",
     "output_type": "stream",
     "text": [
      "15\n",
      "Bin Covering 22 0 9\n",
      "1007\n"
     ]
    },
    {
     "name": "stderr",
     "output_type": "stream",
     "text": [
      "/nas/home/hrathod/anaconda3/lib/python3.8/site-packages/IPython/core/interactiveshell.py:3146: DtypeWarning: Columns (47) have mixed types.Specify dtype option on import or set low_memory=False.\n",
      "  has_raised = await self.run_ast_nodes(code_ast.body, cell_name,\n"
     ]
    },
    {
     "name": "stdout",
     "output_type": "stream",
     "text": [
      "15\n",
      "Bin Covering 22 1 0\n",
      "591\n",
      "15\n",
      "Bin Covering 22 1 1\n",
      "Bin Covering 22 1 2\n",
      "Bin Covering 22 1 3\n",
      "Bin Covering 22 1 4\n",
      "Bin Covering 22 1 5\n",
      "10\n",
      "10\n",
      "Bin Covering 22 1 6\n",
      "26\n"
     ]
    },
    {
     "name": "stderr",
     "output_type": "stream",
     "text": [
      "/nas/home/hrathod/anaconda3/lib/python3.8/site-packages/IPython/core/interactiveshell.py:3146: DtypeWarning: Columns (40,41,42) have mixed types.Specify dtype option on import or set low_memory=False.\n",
      "  has_raised = await self.run_ast_nodes(code_ast.body, cell_name,\n"
     ]
    },
    {
     "name": "stdout",
     "output_type": "stream",
     "text": [
      "15\n",
      "Bin Covering 22 1 7\n",
      "126\n",
      "15\n",
      "Bin Covering 22 1 8\n",
      "212\n"
     ]
    },
    {
     "name": "stderr",
     "output_type": "stream",
     "text": [
      "/nas/home/hrathod/anaconda3/lib/python3.8/site-packages/IPython/core/interactiveshell.py:3146: DtypeWarning: Columns (47) have mixed types.Specify dtype option on import or set low_memory=False.\n",
      "  has_raised = await self.run_ast_nodes(code_ast.body, cell_name,\n"
     ]
    },
    {
     "name": "stdout",
     "output_type": "stream",
     "text": [
      "15\n",
      "Bin Covering 22 1 9\n",
      "2282\n"
     ]
    },
    {
     "name": "stderr",
     "output_type": "stream",
     "text": [
      "/nas/home/hrathod/anaconda3/lib/python3.8/site-packages/IPython/core/interactiveshell.py:3146: DtypeWarning: Columns (49) have mixed types.Specify dtype option on import or set low_memory=False.\n",
      "  has_raised = await self.run_ast_nodes(code_ast.body, cell_name,\n"
     ]
    },
    {
     "name": "stdout",
     "output_type": "stream",
     "text": [
      "15\n",
      "Bin Covering 22 2 0\n",
      "700\n",
      "15\n",
      "Bin Covering 22 2 1\n",
      "Bin Covering 22 2 2\n",
      "Bin Covering 22 2 3\n",
      "Bin Covering 22 2 4\n",
      "Bin Covering 22 2 5\n",
      "32\n",
      "15\n",
      "Bin Covering 22 2 6\n",
      "47\n"
     ]
    },
    {
     "name": "stderr",
     "output_type": "stream",
     "text": [
      "/nas/home/hrathod/anaconda3/lib/python3.8/site-packages/IPython/core/interactiveshell.py:3146: DtypeWarning: Columns (49) have mixed types.Specify dtype option on import or set low_memory=False.\n",
      "  has_raised = await self.run_ast_nodes(code_ast.body, cell_name,\n",
      "/nas/home/hrathod/anaconda3/lib/python3.8/site-packages/IPython/core/interactiveshell.py:3146: DtypeWarning: Columns (49) have mixed types.Specify dtype option on import or set low_memory=False.\n",
      "  has_raised = await self.run_ast_nodes(code_ast.body, cell_name,\n"
     ]
    },
    {
     "name": "stdout",
     "output_type": "stream",
     "text": [
      "15\n",
      "Bin Covering 22 2 7\n",
      "195\n"
     ]
    },
    {
     "name": "stderr",
     "output_type": "stream",
     "text": [
      "/nas/home/hrathod/anaconda3/lib/python3.8/site-packages/IPython/core/interactiveshell.py:3146: DtypeWarning: Columns (47) have mixed types.Specify dtype option on import or set low_memory=False.\n",
      "  has_raised = await self.run_ast_nodes(code_ast.body, cell_name,\n",
      "/nas/home/hrathod/anaconda3/lib/python3.8/site-packages/IPython/core/interactiveshell.py:3146: DtypeWarning: Columns (47) have mixed types.Specify dtype option on import or set low_memory=False.\n",
      "  has_raised = await self.run_ast_nodes(code_ast.body, cell_name,\n",
      "/nas/home/hrathod/anaconda3/lib/python3.8/site-packages/IPython/core/interactiveshell.py:3146: DtypeWarning: Columns (47) have mixed types.Specify dtype option on import or set low_memory=False.\n",
      "  has_raised = await self.run_ast_nodes(code_ast.body, cell_name,\n",
      "/nas/home/hrathod/anaconda3/lib/python3.8/site-packages/IPython/core/interactiveshell.py:3146: DtypeWarning: Columns (47) have mixed types.Specify dtype option on import or set low_memory=False.\n",
      "  has_raised = await self.run_ast_nodes(code_ast.body, cell_name,\n"
     ]
    },
    {
     "name": "stdout",
     "output_type": "stream",
     "text": [
      "15\n",
      "Bin Covering 22 2 8\n",
      "288\n"
     ]
    },
    {
     "name": "stderr",
     "output_type": "stream",
     "text": [
      "/nas/home/hrathod/anaconda3/lib/python3.8/site-packages/IPython/core/interactiveshell.py:3146: DtypeWarning: Columns (42,43,44,49) have mixed types.Specify dtype option on import or set low_memory=False.\n",
      "  has_raised = await self.run_ast_nodes(code_ast.body, cell_name,\n",
      "/nas/home/hrathod/anaconda3/lib/python3.8/site-packages/IPython/core/interactiveshell.py:3146: DtypeWarning: Columns (42,43,44,49) have mixed types.Specify dtype option on import or set low_memory=False.\n",
      "  has_raised = await self.run_ast_nodes(code_ast.body, cell_name,\n"
     ]
    },
    {
     "name": "stdout",
     "output_type": "stream",
     "text": [
      "15\n",
      "Bin Covering 22 2 9\n",
      "3229\n"
     ]
    },
    {
     "name": "stderr",
     "output_type": "stream",
     "text": [
      "/nas/home/hrathod/anaconda3/lib/python3.8/site-packages/IPython/core/interactiveshell.py:3146: DtypeWarning: Columns (47) have mixed types.Specify dtype option on import or set low_memory=False.\n",
      "  has_raised = await self.run_ast_nodes(code_ast.body, cell_name,\n"
     ]
    },
    {
     "name": "stdout",
     "output_type": "stream",
     "text": [
      "15\n",
      "Bin Covering 22 3 0\n",
      "789\n"
     ]
    },
    {
     "name": "stderr",
     "output_type": "stream",
     "text": [
      "/nas/home/hrathod/anaconda3/lib/python3.8/site-packages/IPython/core/interactiveshell.py:3146: DtypeWarning: Columns (49) have mixed types.Specify dtype option on import or set low_memory=False.\n",
      "  has_raised = await self.run_ast_nodes(code_ast.body, cell_name,\n"
     ]
    },
    {
     "name": "stdout",
     "output_type": "stream",
     "text": [
      "15\n",
      "Bin Covering 22 3 1\n",
      "Bin Covering 22 3 2\n",
      "Bin Covering 22 3 3\n",
      "Bin Covering 22 3 4\n",
      "Bin Covering 22 3 5\n",
      "27\n"
     ]
    },
    {
     "name": "stderr",
     "output_type": "stream",
     "text": [
      "/nas/home/hrathod/anaconda3/lib/python3.8/site-packages/IPython/core/interactiveshell.py:3146: DtypeWarning: Columns (27,28,29,34,36,40,41,42,47) have mixed types.Specify dtype option on import or set low_memory=False.\n",
      "  has_raised = await self.run_ast_nodes(code_ast.body, cell_name,\n",
      "/nas/home/hrathod/anaconda3/lib/python3.8/site-packages/IPython/core/interactiveshell.py:3146: DtypeWarning: Columns (49) have mixed types.Specify dtype option on import or set low_memory=False.\n",
      "  has_raised = await self.run_ast_nodes(code_ast.body, cell_name,\n"
     ]
    },
    {
     "name": "stdout",
     "output_type": "stream",
     "text": [
      "15\n",
      "Bin Covering 22 3 6\n",
      "43\n",
      "15\n",
      "Bin Covering 22 3 7\n",
      "184\n"
     ]
    },
    {
     "name": "stderr",
     "output_type": "stream",
     "text": [
      "/nas/home/hrathod/anaconda3/lib/python3.8/site-packages/IPython/core/interactiveshell.py:3146: DtypeWarning: Columns (49) have mixed types.Specify dtype option on import or set low_memory=False.\n",
      "  has_raised = await self.run_ast_nodes(code_ast.body, cell_name,\n"
     ]
    },
    {
     "name": "stdout",
     "output_type": "stream",
     "text": [
      "15\n",
      "Bin Covering 22 3 8\n",
      "270\n"
     ]
    },
    {
     "name": "stderr",
     "output_type": "stream",
     "text": [
      "/nas/home/hrathod/anaconda3/lib/python3.8/site-packages/IPython/core/interactiveshell.py:3146: DtypeWarning: Columns (27,28,29,34,36,40,41,42) have mixed types.Specify dtype option on import or set low_memory=False.\n",
      "  has_raised = await self.run_ast_nodes(code_ast.body, cell_name,\n"
     ]
    },
    {
     "name": "stdout",
     "output_type": "stream",
     "text": [
      "15\n",
      "Bin Covering 22 3 9\n",
      "4469\n"
     ]
    },
    {
     "name": "stderr",
     "output_type": "stream",
     "text": [
      "/nas/home/hrathod/anaconda3/lib/python3.8/site-packages/IPython/core/interactiveshell.py:3146: DtypeWarning: Columns (49) have mixed types.Specify dtype option on import or set low_memory=False.\n",
      "  has_raised = await self.run_ast_nodes(code_ast.body, cell_name,\n"
     ]
    },
    {
     "name": "stdout",
     "output_type": "stream",
     "text": [
      "15\n",
      "Bin Covering 22 4 0\n",
      "868\n"
     ]
    },
    {
     "name": "stderr",
     "output_type": "stream",
     "text": [
      "/nas/home/hrathod/anaconda3/lib/python3.8/site-packages/IPython/core/interactiveshell.py:3146: DtypeWarning: Columns (40,41,42) have mixed types.Specify dtype option on import or set low_memory=False.\n",
      "  has_raised = await self.run_ast_nodes(code_ast.body, cell_name,\n",
      "/nas/home/hrathod/anaconda3/lib/python3.8/site-packages/IPython/core/interactiveshell.py:3146: DtypeWarning: Columns (47) have mixed types.Specify dtype option on import or set low_memory=False.\n",
      "  has_raised = await self.run_ast_nodes(code_ast.body, cell_name,\n"
     ]
    },
    {
     "name": "stdout",
     "output_type": "stream",
     "text": [
      "15\n",
      "Bin Covering 22 4 1\n",
      "Bin Covering 22 4 2\n",
      "Bin Covering 22 4 3\n",
      "Bin Covering 22 4 4\n",
      "Bin Covering 22 4 5\n",
      "52\n",
      "15\n",
      "Bin Covering 22 4 6\n",
      "71\n",
      "15\n",
      "Bin Covering 22 4 7\n",
      "192\n",
      "15\n",
      "Bin Covering 22 4 8\n",
      "278\n"
     ]
    },
    {
     "name": "stderr",
     "output_type": "stream",
     "text": [
      "/nas/home/hrathod/anaconda3/lib/python3.8/site-packages/IPython/core/interactiveshell.py:3146: DtypeWarning: Columns (49) have mixed types.Specify dtype option on import or set low_memory=False.\n",
      "  has_raised = await self.run_ast_nodes(code_ast.body, cell_name,\n",
      "/nas/home/hrathod/anaconda3/lib/python3.8/site-packages/IPython/core/interactiveshell.py:3146: DtypeWarning: Columns (49) have mixed types.Specify dtype option on import or set low_memory=False.\n",
      "  has_raised = await self.run_ast_nodes(code_ast.body, cell_name,\n"
     ]
    },
    {
     "name": "stdout",
     "output_type": "stream",
     "text": [
      "15\n",
      "Bin Covering 22 4 9\n",
      "5490\n",
      "15\n",
      "Bin Covering 22 5 0\n",
      "906\n",
      "15\n",
      "Bin Covering 22 5 1\n",
      "Bin Covering 22 5 2\n",
      "Bin Covering 22 5 3\n",
      "Bin Covering 22 5 4\n",
      "Bin Covering 22 5 5\n",
      "71\n",
      "15\n",
      "Bin Covering 22 5 6\n",
      "81\n",
      "15\n",
      "Bin Covering 22 5 7\n",
      "223\n",
      "15\n",
      "Bin Covering 22 5 8\n",
      "370\n",
      "15\n",
      "Bin Covering 22 5 9\n",
      "6684\n"
     ]
    },
    {
     "name": "stderr",
     "output_type": "stream",
     "text": [
      "/nas/home/hrathod/anaconda3/lib/python3.8/site-packages/IPython/core/interactiveshell.py:3146: DtypeWarning: Columns (47) have mixed types.Specify dtype option on import or set low_memory=False.\n",
      "  has_raised = await self.run_ast_nodes(code_ast.body, cell_name,\n"
     ]
    },
    {
     "name": "stdout",
     "output_type": "stream",
     "text": [
      "15\n",
      "Bin Covering 22 6 0\n",
      "932\n",
      "15\n",
      "Bin Covering 22 6 1\n",
      "Bin Covering 22 6 2\n",
      "Bin Covering 22 6 3\n",
      "Bin Covering 22 6 4\n",
      "Bin Covering 22 6 5\n",
      "66\n",
      "15\n",
      "Bin Covering 22 6 6\n",
      "90\n"
     ]
    },
    {
     "name": "stderr",
     "output_type": "stream",
     "text": [
      "/nas/home/hrathod/anaconda3/lib/python3.8/site-packages/IPython/core/interactiveshell.py:3146: DtypeWarning: Columns (49) have mixed types.Specify dtype option on import or set low_memory=False.\n",
      "  has_raised = await self.run_ast_nodes(code_ast.body, cell_name,\n"
     ]
    },
    {
     "name": "stdout",
     "output_type": "stream",
     "text": [
      "15\n",
      "Bin Covering 22 6 7\n",
      "214\n",
      "15\n",
      "Bin Covering 22 6 8\n",
      "375\n",
      "15\n",
      "Bin Covering 22 6 9\n",
      "8461\n"
     ]
    },
    {
     "name": "stderr",
     "output_type": "stream",
     "text": [
      "/nas/home/hrathod/anaconda3/lib/python3.8/site-packages/IPython/core/interactiveshell.py:3146: DtypeWarning: Columns (47) have mixed types.Specify dtype option on import or set low_memory=False.\n",
      "  has_raised = await self.run_ast_nodes(code_ast.body, cell_name,\n"
     ]
    },
    {
     "name": "stdout",
     "output_type": "stream",
     "text": [
      "15\n",
      "Bin Covering 22 7 0\n",
      "1165\n"
     ]
    },
    {
     "name": "stderr",
     "output_type": "stream",
     "text": [
      "/nas/home/hrathod/anaconda3/lib/python3.8/site-packages/IPython/core/interactiveshell.py:3146: DtypeWarning: Columns (42,47) have mixed types.Specify dtype option on import or set low_memory=False.\n",
      "  has_raised = await self.run_ast_nodes(code_ast.body, cell_name,\n"
     ]
    },
    {
     "name": "stdout",
     "output_type": "stream",
     "text": [
      "15\n",
      "Bin Covering 22 7 1\n",
      "Bin Covering 22 7 2\n",
      "Bin Covering 22 7 3\n",
      "Bin Covering 22 7 4\n",
      "Bin Covering 22 7 5\n",
      "56\n",
      "15\n",
      "Bin Covering 22 7 6\n",
      "98\n",
      "15\n",
      "Bin Covering 22 7 7\n",
      "325\n",
      "15\n",
      "Bin Covering 22 7 8\n",
      "418\n"
     ]
    },
    {
     "name": "stderr",
     "output_type": "stream",
     "text": [
      "/nas/home/hrathod/anaconda3/lib/python3.8/site-packages/IPython/core/interactiveshell.py:3146: DtypeWarning: Columns (40,41,42,47) have mixed types.Specify dtype option on import or set low_memory=False.\n",
      "  has_raised = await self.run_ast_nodes(code_ast.body, cell_name,\n"
     ]
    },
    {
     "name": "stdout",
     "output_type": "stream",
     "text": [
      "15\n",
      "Bin Covering 22 7 9\n",
      "11043\n",
      "15\n",
      "Bin Covering 22 8 0\n",
      "1180\n",
      "15\n",
      "Bin Covering 22 8 1\n",
      "Bin Covering 22 8 2\n",
      "Bin Covering 22 8 3\n",
      "Bin Covering 22 8 4\n",
      "Bin Covering 22 8 5\n",
      "72\n"
     ]
    },
    {
     "name": "stderr",
     "output_type": "stream",
     "text": [
      "/nas/home/hrathod/anaconda3/lib/python3.8/site-packages/IPython/core/interactiveshell.py:3146: DtypeWarning: Columns (27,28,29,34,36,40,41,42,47) have mixed types.Specify dtype option on import or set low_memory=False.\n",
      "  has_raised = await self.run_ast_nodes(code_ast.body, cell_name,\n"
     ]
    },
    {
     "name": "stdout",
     "output_type": "stream",
     "text": [
      "15\n",
      "Bin Covering 22 8 6\n",
      "152\n",
      "15\n",
      "Bin Covering 22 8 7\n",
      "465\n",
      "15\n",
      "Bin Covering 22 8 8\n",
      "615\n",
      "15\n",
      "Bin Covering 22 8 9\n",
      "14822\n",
      "15\n",
      "Bin Covering 22 9 0\n",
      "3395\n",
      "15\n",
      "Bin Covering 22 9 1\n",
      "Bin Covering 22 9 2\n",
      "Bin Covering 22 9 3\n",
      "Bin Covering 22 9 4\n",
      "Bin Covering 22 9 5\n",
      "203\n",
      "15\n",
      "Bin Covering 22 9 6\n",
      "218\n"
     ]
    },
    {
     "name": "stderr",
     "output_type": "stream",
     "text": [
      "/nas/home/hrathod/anaconda3/lib/python3.8/site-packages/IPython/core/interactiveshell.py:3146: DtypeWarning: Columns (40,41,42,47) have mixed types.Specify dtype option on import or set low_memory=False.\n",
      "  has_raised = await self.run_ast_nodes(code_ast.body, cell_name,\n",
      "/nas/home/hrathod/anaconda3/lib/python3.8/site-packages/IPython/core/interactiveshell.py:3146: DtypeWarning: Columns (40,41,42,47) have mixed types.Specify dtype option on import or set low_memory=False.\n",
      "  has_raised = await self.run_ast_nodes(code_ast.body, cell_name,\n",
      "/nas/home/hrathod/anaconda3/lib/python3.8/site-packages/IPython/core/interactiveshell.py:3146: DtypeWarning: Columns (40,41,42,47) have mixed types.Specify dtype option on import or set low_memory=False.\n",
      "  has_raised = await self.run_ast_nodes(code_ast.body, cell_name,\n",
      "/nas/home/hrathod/anaconda3/lib/python3.8/site-packages/IPython/core/interactiveshell.py:3146: DtypeWarning: Columns (40,41,42,47) have mixed types.Specify dtype option on import or set low_memory=False.\n",
      "  has_raised = await self.run_ast_nodes(code_ast.body, cell_name,\n"
     ]
    },
    {
     "name": "stdout",
     "output_type": "stream",
     "text": [
      "15\n",
      "Bin Covering 22 9 7\n",
      "1522\n",
      "15\n",
      "Bin Covering 22 9 8\n",
      "1483\n",
      "15\n",
      "Bin Covering 22 9 9\n",
      "18717\n"
     ]
    },
    {
     "name": "stderr",
     "output_type": "stream",
     "text": [
      "/nas/home/hrathod/anaconda3/lib/python3.8/site-packages/IPython/core/interactiveshell.py:3146: DtypeWarning: Columns (42,47) have mixed types.Specify dtype option on import or set low_memory=False.\n",
      "  has_raised = await self.run_ast_nodes(code_ast.body, cell_name,\n"
     ]
    },
    {
     "name": "stdout",
     "output_type": "stream",
     "text": [
      "15\n",
      "Bin Covering 23 0 0\n",
      "140\n"
     ]
    },
    {
     "name": "stderr",
     "output_type": "stream",
     "text": [
      "/nas/home/hrathod/anaconda3/lib/python3.8/site-packages/IPython/core/interactiveshell.py:3146: DtypeWarning: Columns (27,28,29,34,36,40,41,42,47) have mixed types.Specify dtype option on import or set low_memory=False.\n",
      "  has_raised = await self.run_ast_nodes(code_ast.body, cell_name,\n",
      "/nas/home/hrathod/anaconda3/lib/python3.8/site-packages/IPython/core/interactiveshell.py:3146: DtypeWarning: Columns (27,28,29,34,36,40,41,42,47) have mixed types.Specify dtype option on import or set low_memory=False.\n",
      "  has_raised = await self.run_ast_nodes(code_ast.body, cell_name,\n"
     ]
    },
    {
     "name": "stdout",
     "output_type": "stream",
     "text": [
      "15\n",
      "Bin Covering 23 0 1\n",
      "Bin Covering 23 0 2\n",
      "Bin Covering 23 0 3\n",
      "Bin Covering 23 0 4\n",
      "Bin Covering 23 0 5\n",
      "Bin Covering 23 0 6\n",
      "Bin Covering 23 0 7\n",
      "Bin Covering 23 0 8\n",
      "Bin Covering 23 0 9\n",
      "Bin Covering 23 1 0\n",
      "107\n",
      "15\n",
      "Bin Covering 23 1 1\n",
      "Bin Covering 23 1 2\n",
      "Bin Covering 23 1 3\n",
      "Bin Covering 23 1 4\n",
      "Bin Covering 23 1 5\n",
      "1\n",
      "1\n",
      "Bin Covering 23 1 6\n",
      "Bin Covering 23 1 7\n",
      "Bin Covering 23 1 8\n",
      "Bin Covering 23 1 9\n",
      "Bin Covering 23 2 0\n",
      "348\n"
     ]
    },
    {
     "name": "stderr",
     "output_type": "stream",
     "text": [
      "/nas/home/hrathod/anaconda3/lib/python3.8/site-packages/IPython/core/interactiveshell.py:3146: DtypeWarning: Columns (40,41,42,47) have mixed types.Specify dtype option on import or set low_memory=False.\n",
      "  has_raised = await self.run_ast_nodes(code_ast.body, cell_name,\n",
      "/nas/home/hrathod/anaconda3/lib/python3.8/site-packages/IPython/core/interactiveshell.py:3146: DtypeWarning: Columns (47) have mixed types.Specify dtype option on import or set low_memory=False.\n",
      "  has_raised = await self.run_ast_nodes(code_ast.body, cell_name,\n"
     ]
    },
    {
     "name": "stdout",
     "output_type": "stream",
     "text": [
      "15\n",
      "Bin Covering 23 2 1\n",
      "Bin Covering 23 2 2\n",
      "Bin Covering 23 2 3\n",
      "Bin Covering 23 2 4\n",
      "Bin Covering 23 2 5\n",
      "2\n",
      "2\n",
      "Bin Covering 23 2 6\n",
      "Bin Covering 23 2 7\n",
      "Bin Covering 23 2 8\n",
      "Bin Covering 23 2 9\n",
      "Bin Covering 23 3 0\n",
      "658\n",
      "15\n",
      "Bin Covering 23 3 1\n",
      "Bin Covering 23 3 2\n",
      "Bin Covering 23 3 3\n",
      "Bin Covering 23 3 4\n",
      "Bin Covering 23 3 5\n",
      "9\n",
      "9\n",
      "Bin Covering 23 3 6\n",
      "Bin Covering 23 3 7\n",
      "2\n",
      "2\n",
      "Bin Covering 23 3 8\n",
      "Bin Covering 23 3 9\n",
      "Bin Covering 23 4 0\n",
      "2183\n",
      "15\n",
      "Bin Covering 23 4 1\n",
      "Bin Covering 23 4 2\n",
      "Bin Covering 23 4 3\n",
      "Bin Covering 23 4 4\n",
      "Bin Covering 23 4 5\n",
      "43\n",
      "15\n",
      "Bin Covering 23 4 6\n",
      "Bin Covering 23 4 7\n",
      "3\n",
      "3\n",
      "Bin Covering 23 4 8\n",
      "Bin Covering 23 4 9\n",
      "Bin Covering 23 5 0\n",
      "5046\n"
     ]
    },
    {
     "name": "stderr",
     "output_type": "stream",
     "text": [
      "/nas/home/hrathod/anaconda3/lib/python3.8/site-packages/IPython/core/interactiveshell.py:3146: DtypeWarning: Columns (42,47) have mixed types.Specify dtype option on import or set low_memory=False.\n",
      "  has_raised = await self.run_ast_nodes(code_ast.body, cell_name,\n"
     ]
    },
    {
     "name": "stdout",
     "output_type": "stream",
     "text": [
      "15\n",
      "Bin Covering 23 5 1\n",
      "Bin Covering 23 5 2\n",
      "Bin Covering 23 5 3\n",
      "Bin Covering 23 5 4\n",
      "Bin Covering 23 5 5\n",
      "176\n",
      "15\n",
      "Bin Covering 23 5 6\n",
      "Bin Covering 23 5 7\n",
      "22\n",
      "15\n",
      "Bin Covering 23 5 8\n",
      "2\n",
      "2\n",
      "Bin Covering 23 5 9\n",
      "Bin Covering 23 6 0\n",
      "9520\n"
     ]
    },
    {
     "name": "stderr",
     "output_type": "stream",
     "text": [
      "/nas/home/hrathod/anaconda3/lib/python3.8/site-packages/IPython/core/interactiveshell.py:3146: DtypeWarning: Columns (49) have mixed types.Specify dtype option on import or set low_memory=False.\n",
      "  has_raised = await self.run_ast_nodes(code_ast.body, cell_name,\n"
     ]
    },
    {
     "name": "stdout",
     "output_type": "stream",
     "text": [
      "15\n",
      "Bin Covering 23 6 1\n",
      "Bin Covering 23 6 2\n",
      "Bin Covering 23 6 3\n",
      "Bin Covering 23 6 4\n",
      "Bin Covering 23 6 5\n",
      "719\n",
      "15\n",
      "Bin Covering 23 6 6\n",
      "Bin Covering 23 6 7\n",
      "158\n",
      "15\n",
      "Bin Covering 23 6 8\n",
      "14\n",
      "14\n",
      "Bin Covering 23 6 9\n",
      "1\n",
      "1\n",
      "Bin Covering 23 7 0\n",
      "17883\n"
     ]
    },
    {
     "name": "stderr",
     "output_type": "stream",
     "text": [
      "/nas/home/hrathod/anaconda3/lib/python3.8/site-packages/IPython/core/interactiveshell.py:3146: DtypeWarning: Columns (42,47) have mixed types.Specify dtype option on import or set low_memory=False.\n",
      "  has_raised = await self.run_ast_nodes(code_ast.body, cell_name,\n"
     ]
    },
    {
     "name": "stdout",
     "output_type": "stream",
     "text": [
      "15\n",
      "Bin Covering 23 7 1\n",
      "Bin Covering 23 7 2\n",
      "Bin Covering 23 7 3\n",
      "Bin Covering 23 7 4\n",
      "Bin Covering 23 7 5\n",
      "2094\n",
      "15\n",
      "Bin Covering 23 7 6\n",
      "Bin Covering 23 7 7\n",
      "463\n",
      "15\n",
      "Bin Covering 23 7 8\n",
      "43\n",
      "15\n",
      "Bin Covering 23 7 9\n",
      "7\n",
      "7\n",
      "Bin Covering 23 8 0\n",
      "24740\n"
     ]
    },
    {
     "name": "stderr",
     "output_type": "stream",
     "text": [
      "/nas/home/hrathod/anaconda3/lib/python3.8/site-packages/IPython/core/interactiveshell.py:3146: DtypeWarning: Columns (42,47) have mixed types.Specify dtype option on import or set low_memory=False.\n",
      "  has_raised = await self.run_ast_nodes(code_ast.body, cell_name,\n",
      "/nas/home/hrathod/anaconda3/lib/python3.8/site-packages/IPython/core/interactiveshell.py:3146: DtypeWarning: Columns (42,47) have mixed types.Specify dtype option on import or set low_memory=False.\n",
      "  has_raised = await self.run_ast_nodes(code_ast.body, cell_name,\n"
     ]
    },
    {
     "name": "stdout",
     "output_type": "stream",
     "text": [
      "15\n",
      "Bin Covering 23 8 1\n",
      "Bin Covering 23 8 2\n",
      "Bin Covering 23 8 3\n",
      "Bin Covering 23 8 4\n",
      "Bin Covering 23 8 5\n",
      "3365\n",
      "15\n",
      "Bin Covering 23 8 6\n",
      "Bin Covering 23 8 7\n",
      "652\n",
      "15\n",
      "Bin Covering 23 8 8\n",
      "98\n",
      "15\n",
      "Bin Covering 23 8 9\n",
      "8\n",
      "8\n",
      "Bin Covering 23 9 0\n",
      "25298\n",
      "15\n",
      "Bin Covering 23 9 1\n",
      "Bin Covering 23 9 2\n",
      "Bin Covering 23 9 3\n",
      "Bin Covering 23 9 4\n",
      "Bin Covering 23 9 5\n",
      "2265\n",
      "15\n",
      "Bin Covering 23 9 6\n",
      "Bin Covering 23 9 7\n",
      "409\n",
      "15\n",
      "Bin Covering 23 9 8\n",
      "48\n",
      "15\n",
      "Bin Covering 23 9 9\n",
      "5\n",
      "5\n",
      "Bin Covering 24 0 0\n",
      "5\n",
      "5\n",
      "Bin Covering 24 0 1\n",
      "Bin Covering 24 0 2\n",
      "Bin Covering 24 0 3\n",
      "Bin Covering 24 0 4\n",
      "Bin Covering 24 0 5\n",
      "1\n",
      "1\n",
      "Bin Covering 24 0 6\n",
      "1\n",
      "1\n",
      "Bin Covering 24 0 7\n",
      "4\n",
      "4\n",
      "Bin Covering 24 0 8\n",
      "8\n",
      "8\n",
      "Bin Covering 24 0 9\n",
      "121\n"
     ]
    },
    {
     "name": "stderr",
     "output_type": "stream",
     "text": [
      "/nas/home/hrathod/anaconda3/lib/python3.8/site-packages/IPython/core/interactiveshell.py:3146: DtypeWarning: Columns (27,28,29,34,36,40,41,42,47) have mixed types.Specify dtype option on import or set low_memory=False.\n",
      "  has_raised = await self.run_ast_nodes(code_ast.body, cell_name,\n",
      "/nas/home/hrathod/anaconda3/lib/python3.8/site-packages/IPython/core/interactiveshell.py:3146: DtypeWarning: Columns (27,28,29,34,36,40,41,42,47) have mixed types.Specify dtype option on import or set low_memory=False.\n",
      "  has_raised = await self.run_ast_nodes(code_ast.body, cell_name,\n",
      "/nas/home/hrathod/anaconda3/lib/python3.8/site-packages/IPython/core/interactiveshell.py:3146: DtypeWarning: Columns (27,28,29,34,36,40,41,42,47) have mixed types.Specify dtype option on import or set low_memory=False.\n",
      "  has_raised = await self.run_ast_nodes(code_ast.body, cell_name,\n"
     ]
    },
    {
     "name": "stdout",
     "output_type": "stream",
     "text": [
      "15\n",
      "Bin Covering 24 1 0\n",
      "Bin Covering 24 1 1\n",
      "Bin Covering 24 1 2\n",
      "Bin Covering 24 1 3\n",
      "Bin Covering 24 1 4\n",
      "Bin Covering 24 1 5\n",
      "Bin Covering 24 1 6\n",
      "Bin Covering 24 1 7\n",
      "Bin Covering 24 1 8\n",
      "Bin Covering 24 1 9\n",
      "108\n",
      "15\n",
      "Bin Covering 24 2 0\n",
      "2\n",
      "2\n",
      "Bin Covering 24 2 1\n",
      "Bin Covering 24 2 2\n",
      "Bin Covering 24 2 3\n",
      "Bin Covering 24 2 4\n",
      "Bin Covering 24 2 5\n",
      "Bin Covering 24 2 6\n",
      "Bin Covering 24 2 7\n",
      "1\n",
      "1\n",
      "Bin Covering 24 2 8\n",
      "Bin Covering 24 2 9\n",
      "347\n"
     ]
    },
    {
     "name": "stderr",
     "output_type": "stream",
     "text": [
      "/nas/home/hrathod/anaconda3/lib/python3.8/site-packages/IPython/core/interactiveshell.py:3146: DtypeWarning: Columns (40,41,42,47) have mixed types.Specify dtype option on import or set low_memory=False.\n",
      "  has_raised = await self.run_ast_nodes(code_ast.body, cell_name,\n",
      "/nas/home/hrathod/anaconda3/lib/python3.8/site-packages/IPython/core/interactiveshell.py:3146: DtypeWarning: Columns (42,47) have mixed types.Specify dtype option on import or set low_memory=False.\n",
      "  has_raised = await self.run_ast_nodes(code_ast.body, cell_name,\n",
      "/nas/home/hrathod/anaconda3/lib/python3.8/site-packages/IPython/core/interactiveshell.py:3146: DtypeWarning: Columns (47) have mixed types.Specify dtype option on import or set low_memory=False.\n",
      "  has_raised = await self.run_ast_nodes(code_ast.body, cell_name,\n"
     ]
    },
    {
     "name": "stdout",
     "output_type": "stream",
     "text": [
      "15\n",
      "Bin Covering 24 3 0\n",
      "10\n"
     ]
    },
    {
     "name": "stderr",
     "output_type": "stream",
     "text": [
      "/nas/home/hrathod/anaconda3/lib/python3.8/site-packages/IPython/core/interactiveshell.py:3146: DtypeWarning: Columns (42,47) have mixed types.Specify dtype option on import or set low_memory=False.\n",
      "  has_raised = await self.run_ast_nodes(code_ast.body, cell_name,\n"
     ]
    },
    {
     "name": "stdout",
     "output_type": "stream",
     "text": [
      "10\n",
      "Bin Covering 24 3 1\n",
      "Bin Covering 24 3 2\n",
      "Bin Covering 24 3 3\n",
      "Bin Covering 24 3 4\n",
      "Bin Covering 24 3 5\n",
      "1\n",
      "1\n",
      "Bin Covering 24 3 6\n",
      "Bin Covering 24 3 7\n",
      "1\n",
      "1\n",
      "Bin Covering 24 3 8\n",
      "13\n",
      "13\n",
      "Bin Covering 24 3 9\n",
      "644\n",
      "15\n",
      "Bin Covering 24 4 0\n",
      "71\n",
      "15\n",
      "Bin Covering 24 4 1\n",
      "Bin Covering 24 4 2\n",
      "Bin Covering 24 4 3\n",
      "Bin Covering 24 4 4\n",
      "Bin Covering 24 4 5\n",
      "6\n",
      "6\n",
      "Bin Covering 24 4 6\n",
      "22\n",
      "15\n",
      "Bin Covering 24 4 7\n",
      "49\n",
      "15\n",
      "Bin Covering 24 4 8\n",
      "62\n",
      "15\n",
      "Bin Covering 24 4 9\n",
      "2019\n",
      "15\n",
      "Bin Covering 24 5 0\n",
      "205\n",
      "15\n",
      "Bin Covering 24 5 1\n",
      "Bin Covering 24 5 2\n",
      "Bin Covering 24 5 3\n",
      "Bin Covering 24 5 4\n",
      "Bin Covering 24 5 5\n",
      "9\n",
      "9\n",
      "Bin Covering 24 5 6\n",
      "16\n",
      "15\n",
      "Bin Covering 24 5 7\n",
      "60\n",
      "15\n",
      "Bin Covering 24 5 8\n",
      "132\n",
      "15\n",
      "Bin Covering 24 5 9\n",
      "4824\n",
      "15\n",
      "Bin Covering 24 6 0\n",
      "810\n",
      "15\n",
      "Bin Covering 24 6 1\n",
      "Bin Covering 24 6 2\n",
      "Bin Covering 24 6 3\n",
      "Bin Covering 24 6 4\n",
      "Bin Covering 24 6 5\n",
      "43\n",
      "15\n",
      "Bin Covering 24 6 6\n",
      "87\n",
      "15\n",
      "Bin Covering 24 6 7\n",
      "293\n",
      "15\n",
      "Bin Covering 24 6 8\n",
      "327\n"
     ]
    },
    {
     "name": "stderr",
     "output_type": "stream",
     "text": [
      "/nas/home/hrathod/anaconda3/lib/python3.8/site-packages/IPython/core/interactiveshell.py:3146: DtypeWarning: Columns (42,47) have mixed types.Specify dtype option on import or set low_memory=False.\n",
      "  has_raised = await self.run_ast_nodes(code_ast.body, cell_name,\n"
     ]
    },
    {
     "name": "stdout",
     "output_type": "stream",
     "text": [
      "15\n",
      "Bin Covering 24 6 9\n",
      "8852\n"
     ]
    },
    {
     "name": "stderr",
     "output_type": "stream",
     "text": [
      "/nas/home/hrathod/anaconda3/lib/python3.8/site-packages/IPython/core/interactiveshell.py:3146: DtypeWarning: Columns (42,47) have mixed types.Specify dtype option on import or set low_memory=False.\n",
      "  has_raised = await self.run_ast_nodes(code_ast.body, cell_name,\n"
     ]
    },
    {
     "name": "stdout",
     "output_type": "stream",
     "text": [
      "15\n",
      "Bin Covering 24 7 0\n",
      "2346\n",
      "15\n",
      "Bin Covering 24 7 1\n",
      "Bin Covering 24 7 2\n",
      "Bin Covering 24 7 3\n",
      "Bin Covering 24 7 4\n",
      "Bin Covering 24 7 5\n",
      "136\n"
     ]
    },
    {
     "name": "stderr",
     "output_type": "stream",
     "text": [
      "/nas/home/hrathod/anaconda3/lib/python3.8/site-packages/IPython/core/interactiveshell.py:3146: DtypeWarning: Columns (40,41,42) have mixed types.Specify dtype option on import or set low_memory=False.\n",
      "  has_raised = await self.run_ast_nodes(code_ast.body, cell_name,\n",
      "/nas/home/hrathod/anaconda3/lib/python3.8/site-packages/IPython/core/interactiveshell.py:3146: DtypeWarning: Columns (27,28,29,34,36,40,41,42,47) have mixed types.Specify dtype option on import or set low_memory=False.\n",
      "  has_raised = await self.run_ast_nodes(code_ast.body, cell_name,\n"
     ]
    },
    {
     "name": "stdout",
     "output_type": "stream",
     "text": [
      "15\n",
      "Bin Covering 24 7 6\n",
      "202\n",
      "15\n",
      "Bin Covering 24 7 7\n",
      "538\n",
      "15\n",
      "Bin Covering 24 7 8\n",
      "844\n"
     ]
    },
    {
     "name": "stderr",
     "output_type": "stream",
     "text": [
      "/nas/home/hrathod/anaconda3/lib/python3.8/site-packages/IPython/core/interactiveshell.py:3146: DtypeWarning: Columns (42,43,44,49) have mixed types.Specify dtype option on import or set low_memory=False.\n",
      "  has_raised = await self.run_ast_nodes(code_ast.body, cell_name,\n"
     ]
    },
    {
     "name": "stdout",
     "output_type": "stream",
     "text": [
      "15\n",
      "Bin Covering 24 7 9\n",
      "16424\n"
     ]
    },
    {
     "name": "stderr",
     "output_type": "stream",
     "text": [
      "/nas/home/hrathod/anaconda3/lib/python3.8/site-packages/IPython/core/interactiveshell.py:3146: DtypeWarning: Columns (42,47) have mixed types.Specify dtype option on import or set low_memory=False.\n",
      "  has_raised = await self.run_ast_nodes(code_ast.body, cell_name,\n",
      "/nas/home/hrathod/anaconda3/lib/python3.8/site-packages/IPython/core/interactiveshell.py:3146: DtypeWarning: Columns (42) have mixed types.Specify dtype option on import or set low_memory=False.\n",
      "  has_raised = await self.run_ast_nodes(code_ast.body, cell_name,\n"
     ]
    },
    {
     "name": "stdout",
     "output_type": "stream",
     "text": [
      "15\n",
      "Bin Covering 24 8 0\n",
      "3649\n",
      "15\n",
      "Bin Covering 24 8 1\n",
      "Bin Covering 24 8 2\n",
      "Bin Covering 24 8 3\n",
      "Bin Covering 24 8 4\n",
      "Bin Covering 24 8 5\n",
      "208\n",
      "15\n",
      "Bin Covering 24 8 6\n",
      "240\n",
      "15\n",
      "Bin Covering 24 8 7\n",
      "1063\n"
     ]
    },
    {
     "name": "stderr",
     "output_type": "stream",
     "text": [
      "/nas/home/hrathod/anaconda3/lib/python3.8/site-packages/IPython/core/interactiveshell.py:3146: DtypeWarning: Columns (47) have mixed types.Specify dtype option on import or set low_memory=False.\n",
      "  has_raised = await self.run_ast_nodes(code_ast.body, cell_name,\n"
     ]
    },
    {
     "name": "stdout",
     "output_type": "stream",
     "text": [
      "15\n",
      "Bin Covering 24 8 8\n",
      "1622\n"
     ]
    },
    {
     "name": "stderr",
     "output_type": "stream",
     "text": [
      "/nas/home/hrathod/anaconda3/lib/python3.8/site-packages/IPython/core/interactiveshell.py:3146: DtypeWarning: Columns (42,43,44,49) have mixed types.Specify dtype option on import or set low_memory=False.\n",
      "  has_raised = await self.run_ast_nodes(code_ast.body, cell_name,\n"
     ]
    },
    {
     "name": "stdout",
     "output_type": "stream",
     "text": [
      "15\n",
      "Bin Covering 24 8 9\n",
      "22081\n"
     ]
    },
    {
     "name": "stderr",
     "output_type": "stream",
     "text": [
      "/nas/home/hrathod/anaconda3/lib/python3.8/site-packages/IPython/core/interactiveshell.py:3146: DtypeWarning: Columns (47) have mixed types.Specify dtype option on import or set low_memory=False.\n",
      "  has_raised = await self.run_ast_nodes(code_ast.body, cell_name,\n"
     ]
    },
    {
     "name": "stdout",
     "output_type": "stream",
     "text": [
      "15\n",
      "Bin Covering 24 9 0\n",
      "3775\n"
     ]
    },
    {
     "name": "stderr",
     "output_type": "stream",
     "text": [
      "/nas/home/hrathod/anaconda3/lib/python3.8/site-packages/IPython/core/interactiveshell.py:3146: DtypeWarning: Columns (40,41,42,47) have mixed types.Specify dtype option on import or set low_memory=False.\n",
      "  has_raised = await self.run_ast_nodes(code_ast.body, cell_name,\n"
     ]
    },
    {
     "name": "stdout",
     "output_type": "stream",
     "text": [
      "15\n",
      "Bin Covering 24 9 1\n",
      "Bin Covering 24 9 2\n",
      "Bin Covering 24 9 3\n",
      "Bin Covering 24 9 4\n",
      "Bin Covering 24 9 5\n",
      "198\n",
      "15\n",
      "Bin Covering 24 9 6\n",
      "288\n",
      "15\n",
      "Bin Covering 24 9 7\n",
      "1556\n",
      "15\n",
      "Bin Covering 24 9 8\n",
      "1424\n"
     ]
    },
    {
     "name": "stderr",
     "output_type": "stream",
     "text": [
      "/nas/home/hrathod/anaconda3/lib/python3.8/site-packages/IPython/core/interactiveshell.py:3146: DtypeWarning: Columns (40,41,42) have mixed types.Specify dtype option on import or set low_memory=False.\n",
      "  has_raised = await self.run_ast_nodes(code_ast.body, cell_name,\n",
      "/nas/home/hrathod/anaconda3/lib/python3.8/site-packages/IPython/core/interactiveshell.py:3146: DtypeWarning: Columns (40,41,42) have mixed types.Specify dtype option on import or set low_memory=False.\n",
      "  has_raised = await self.run_ast_nodes(code_ast.body, cell_name,\n"
     ]
    },
    {
     "name": "stdout",
     "output_type": "stream",
     "text": [
      "15\n",
      "Bin Covering 24 9 9\n",
      "20784\n",
      "15\n",
      "Bin Covering 25 0 0\n",
      "814\n",
      "15\n",
      "Bin Covering 25 0 1\n",
      "Bin Covering 25 0 2\n",
      "Bin Covering 25 0 3\n",
      "Bin Covering 25 0 4\n",
      "Bin Covering 25 0 5\n",
      "151\n",
      "15\n",
      "Bin Covering 25 0 6\n",
      "Bin Covering 25 0 7\n",
      "51\n",
      "15\n",
      "Bin Covering 25 0 8\n",
      "Bin Covering 25 0 9\n",
      "1\n",
      "1\n",
      "Bin Covering 25 1 0\n",
      "Bin Covering 25 1 1\n",
      "Bin Covering 25 1 2\n",
      "Bin Covering 25 1 3\n",
      "Bin Covering 25 1 4\n",
      "Bin Covering 25 1 5\n",
      "Bin Covering 25 1 6\n",
      "Bin Covering 25 1 7\n",
      "Bin Covering 25 1 8\n",
      "Bin Covering 25 1 9\n",
      "Bin Covering 25 2 0\n",
      "Bin Covering 25 2 1\n",
      "Bin Covering 25 2 2\n",
      "Bin Covering 25 2 3\n",
      "Bin Covering 25 2 4\n",
      "Bin Covering 25 2 5\n",
      "Bin Covering 25 2 6\n",
      "Bin Covering 25 2 7\n",
      "Bin Covering 25 2 8\n",
      "Bin Covering 25 2 9\n",
      "Bin Covering 25 3 0\n",
      "Bin Covering 25 3 1\n",
      "Bin Covering 25 3 2\n",
      "Bin Covering 25 3 3\n",
      "Bin Covering 25 3 4\n",
      "Bin Covering 25 3 5\n",
      "Bin Covering 25 3 6\n",
      "Bin Covering 25 3 7\n",
      "Bin Covering 25 3 8\n",
      "Bin Covering 25 3 9\n",
      "Bin Covering 25 4 0\n",
      "Bin Covering 25 4 1\n",
      "Bin Covering 25 4 2\n",
      "Bin Covering 25 4 3\n",
      "Bin Covering 25 4 4\n",
      "Bin Covering 25 4 5\n",
      "Bin Covering 25 4 6\n",
      "Bin Covering 25 4 7\n",
      "Bin Covering 25 4 8\n",
      "Bin Covering 25 4 9\n",
      "Bin Covering 25 5 0\n",
      "145\n"
     ]
    },
    {
     "name": "stderr",
     "output_type": "stream",
     "text": [
      "/nas/home/hrathod/anaconda3/lib/python3.8/site-packages/IPython/core/interactiveshell.py:3146: DtypeWarning: Columns (42,47) have mixed types.Specify dtype option on import or set low_memory=False.\n",
      "  has_raised = await self.run_ast_nodes(code_ast.body, cell_name,\n"
     ]
    },
    {
     "name": "stdout",
     "output_type": "stream",
     "text": [
      "15\n",
      "Bin Covering 25 5 1\n",
      "Bin Covering 25 5 2\n",
      "Bin Covering 25 5 3\n",
      "Bin Covering 25 5 4\n",
      "Bin Covering 25 5 5\n",
      "34\n",
      "15\n",
      "Bin Covering 25 5 6\n",
      "Bin Covering 25 5 7\n",
      "4\n",
      "4\n",
      "Bin Covering 25 5 8\n",
      "Bin Covering 25 5 9\n",
      "Bin Covering 25 6 0\n",
      "147\n",
      "15\n",
      "Bin Covering 25 6 1\n",
      "Bin Covering 25 6 2\n",
      "Bin Covering 25 6 3\n",
      "Bin Covering 25 6 4\n",
      "Bin Covering 25 6 5\n",
      "28\n",
      "15\n",
      "Bin Covering 25 6 6\n",
      "Bin Covering 25 6 7\n",
      "6\n",
      "6\n",
      "Bin Covering 25 6 8\n",
      "Bin Covering 25 6 9\n",
      "1\n",
      "1\n",
      "Bin Covering 25 7 0\n",
      "211\n",
      "15\n",
      "Bin Covering 25 7 1\n",
      "Bin Covering 25 7 2\n",
      "Bin Covering 25 7 3\n",
      "Bin Covering 25 7 4\n",
      "Bin Covering 25 7 5\n",
      "84\n",
      "15\n",
      "Bin Covering 25 7 6\n",
      "Bin Covering 25 7 7\n",
      "14\n",
      "14\n",
      "Bin Covering 25 7 8\n",
      "1\n",
      "1\n",
      "Bin Covering 25 7 9\n",
      "Bin Covering 25 8 0\n",
      "1383\n"
     ]
    },
    {
     "name": "stderr",
     "output_type": "stream",
     "text": [
      "/nas/home/hrathod/anaconda3/lib/python3.8/site-packages/IPython/core/interactiveshell.py:3146: DtypeWarning: Columns (49) have mixed types.Specify dtype option on import or set low_memory=False.\n",
      "  has_raised = await self.run_ast_nodes(code_ast.body, cell_name,\n"
     ]
    },
    {
     "name": "stdout",
     "output_type": "stream",
     "text": [
      "15\n",
      "Bin Covering 25 8 1\n",
      "Bin Covering 25 8 2\n",
      "Bin Covering 25 8 3\n",
      "Bin Covering 25 8 4\n",
      "Bin Covering 25 8 5\n",
      "624\n",
      "15\n",
      "Bin Covering 25 8 6\n",
      "Bin Covering 25 8 7\n",
      "204\n",
      "15\n",
      "Bin Covering 25 8 8\n",
      "35\n",
      "15\n",
      "Bin Covering 25 8 9\n",
      "4\n",
      "4\n",
      "Bin Covering 25 9 0\n",
      "83223\n",
      "15\n",
      "Bin Covering 25 9 1\n",
      "Bin Covering 25 9 2\n",
      "Bin Covering 25 9 3\n",
      "Bin Covering 25 9 4\n",
      "Bin Covering 25 9 5\n",
      "7753\n",
      "15\n",
      "Bin Covering 25 9 6\n",
      "Bin Covering 25 9 7\n",
      "1430\n",
      "15\n",
      "Bin Covering 25 9 8\n",
      "169\n",
      "15\n",
      "Bin Covering 25 9 9\n",
      "15\n",
      "15\n",
      "Bin Covering 26 0 0\n",
      "185\n",
      "15\n",
      "Bin Covering 26 0 1\n",
      "Bin Covering 26 0 2\n",
      "Bin Covering 26 0 3\n",
      "Bin Covering 26 0 4\n",
      "Bin Covering 26 0 5\n",
      "24\n",
      "15\n",
      "Bin Covering 26 0 6\n",
      "7\n",
      "7\n",
      "Bin Covering 26 0 7\n",
      "45\n",
      "15\n",
      "Bin Covering 26 0 8\n",
      "63\n",
      "15\n",
      "Bin Covering 26 0 9\n",
      "693\n",
      "15\n",
      "Bin Covering 26 1 0\n",
      "Bin Covering 26 1 1\n",
      "Bin Covering 26 1 2\n",
      "Bin Covering 26 1 3\n",
      "Bin Covering 26 1 4\n",
      "Bin Covering 26 1 5\n",
      "Bin Covering 26 1 6\n",
      "Bin Covering 26 1 7\n",
      "Bin Covering 26 1 8\n",
      "Bin Covering 26 1 9\n",
      "Bin Covering 26 2 0\n",
      "Bin Covering 26 2 1\n",
      "Bin Covering 26 2 2\n",
      "Bin Covering 26 2 3\n",
      "Bin Covering 26 2 4\n",
      "Bin Covering 26 2 5\n",
      "Bin Covering 26 2 6\n",
      "Bin Covering 26 2 7\n",
      "Bin Covering 26 2 8\n",
      "Bin Covering 26 2 9\n",
      "Bin Covering 26 3 0\n",
      "Bin Covering 26 3 1\n",
      "Bin Covering 26 3 2\n",
      "Bin Covering 26 3 3\n",
      "Bin Covering 26 3 4\n",
      "Bin Covering 26 3 5\n",
      "Bin Covering 26 3 6\n",
      "Bin Covering 26 3 7\n",
      "Bin Covering 26 3 8\n",
      "Bin Covering 26 3 9\n",
      "Bin Covering 26 4 0\n",
      "Bin Covering 26 4 1\n",
      "Bin Covering 26 4 2\n",
      "Bin Covering 26 4 3\n",
      "Bin Covering 26 4 4\n",
      "Bin Covering 26 4 5\n",
      "Bin Covering 26 4 6\n",
      "Bin Covering 26 4 7\n",
      "Bin Covering 26 4 8\n",
      "Bin Covering 26 4 9\n",
      "Bin Covering 26 5 0\n",
      "13\n"
     ]
    },
    {
     "name": "stderr",
     "output_type": "stream",
     "text": [
      "/nas/home/hrathod/anaconda3/lib/python3.8/site-packages/IPython/core/interactiveshell.py:3146: DtypeWarning: Columns (49) have mixed types.Specify dtype option on import or set low_memory=False.\n",
      "  has_raised = await self.run_ast_nodes(code_ast.body, cell_name,\n"
     ]
    },
    {
     "name": "stdout",
     "output_type": "stream",
     "text": [
      "13\n",
      "Bin Covering 26 5 1\n",
      "Bin Covering 26 5 2\n",
      "Bin Covering 26 5 3\n",
      "Bin Covering 26 5 4\n",
      "Bin Covering 26 5 5\n",
      "2\n",
      "2\n",
      "Bin Covering 26 5 6\n",
      "Bin Covering 26 5 7\n",
      "7\n",
      "7\n",
      "Bin Covering 26 5 8\n",
      "15\n",
      "15\n",
      "Bin Covering 26 5 9\n",
      "146\n",
      "15\n",
      "Bin Covering 26 6 0\n",
      "14\n",
      "14\n",
      "Bin Covering 26 6 1\n",
      "Bin Covering 26 6 2\n",
      "Bin Covering 26 6 3\n",
      "Bin Covering 26 6 4\n",
      "Bin Covering 26 6 5\n",
      "2\n",
      "2\n",
      "Bin Covering 26 6 6\n",
      "5\n",
      "5\n",
      "Bin Covering 26 6 7\n",
      "8\n",
      "8\n",
      "Bin Covering 26 6 8\n",
      "15\n",
      "15\n",
      "Bin Covering 26 6 9\n",
      "138\n"
     ]
    },
    {
     "name": "stderr",
     "output_type": "stream",
     "text": [
      "/nas/home/hrathod/anaconda3/lib/python3.8/site-packages/IPython/core/interactiveshell.py:3146: DtypeWarning: Columns (40,41,42,47) have mixed types.Specify dtype option on import or set low_memory=False.\n",
      "  has_raised = await self.run_ast_nodes(code_ast.body, cell_name,\n"
     ]
    },
    {
     "name": "stdout",
     "output_type": "stream",
     "text": [
      "15\n",
      "Bin Covering 26 7 0\n",
      "29\n",
      "15\n",
      "Bin Covering 26 7 1\n",
      "Bin Covering 26 7 2\n",
      "Bin Covering 26 7 3\n",
      "Bin Covering 26 7 4\n",
      "Bin Covering 26 7 5\n",
      "1\n",
      "1\n",
      "Bin Covering 26 7 6\n",
      "7\n",
      "7\n",
      "Bin Covering 26 7 7\n",
      "39\n",
      "15\n",
      "Bin Covering 26 7 8\n",
      "54\n",
      "15\n",
      "Bin Covering 26 7 9\n",
      "180\n",
      "15\n",
      "Bin Covering 26 8 0\n",
      "220\n",
      "15\n",
      "Bin Covering 26 8 1\n",
      "Bin Covering 26 8 2\n",
      "Bin Covering 26 8 3\n",
      "Bin Covering 26 8 4\n",
      "Bin Covering 26 8 5\n",
      "32\n",
      "15\n",
      "Bin Covering 26 8 6\n",
      "21\n",
      "15\n",
      "Bin Covering 26 8 7\n",
      "101\n",
      "15\n",
      "Bin Covering 26 8 8\n",
      "287\n",
      "15\n",
      "Bin Covering 26 8 9\n",
      "1589\n",
      "15\n",
      "Bin Covering 26 9 0\n",
      "10412\n"
     ]
    },
    {
     "name": "stderr",
     "output_type": "stream",
     "text": [
      "/nas/home/hrathod/anaconda3/lib/python3.8/site-packages/IPython/core/interactiveshell.py:3146: DtypeWarning: Columns (47) have mixed types.Specify dtype option on import or set low_memory=False.\n",
      "  has_raised = await self.run_ast_nodes(code_ast.body, cell_name,\n"
     ]
    },
    {
     "name": "stdout",
     "output_type": "stream",
     "text": [
      "15\n",
      "Bin Covering 26 9 1\n",
      "Bin Covering 26 9 2\n",
      "Bin Covering 26 9 3\n",
      "Bin Covering 26 9 4\n",
      "Bin Covering 26 9 5\n",
      "541\n",
      "15\n",
      "Bin Covering 26 9 6\n",
      "816\n"
     ]
    },
    {
     "name": "stderr",
     "output_type": "stream",
     "text": [
      "/nas/home/hrathod/anaconda3/lib/python3.8/site-packages/IPython/core/interactiveshell.py:3146: DtypeWarning: Columns (40,41,42,47) have mixed types.Specify dtype option on import or set low_memory=False.\n",
      "  has_raised = await self.run_ast_nodes(code_ast.body, cell_name,\n",
      "/nas/home/hrathod/anaconda3/lib/python3.8/site-packages/IPython/core/interactiveshell.py:3146: DtypeWarning: Columns (40,41,42,47) have mixed types.Specify dtype option on import or set low_memory=False.\n",
      "  has_raised = await self.run_ast_nodes(code_ast.body, cell_name,\n",
      "/nas/home/hrathod/anaconda3/lib/python3.8/site-packages/IPython/core/interactiveshell.py:3146: DtypeWarning: Columns (40,41,42,47) have mixed types.Specify dtype option on import or set low_memory=False.\n",
      "  has_raised = await self.run_ast_nodes(code_ast.body, cell_name,\n"
     ]
    },
    {
     "name": "stdout",
     "output_type": "stream",
     "text": [
      "15\n",
      "Bin Covering 26 9 7\n",
      "3365\n",
      "15\n",
      "Bin Covering 26 9 8\n",
      "3998\n",
      "15\n",
      "Bin Covering 26 9 9\n",
      "73458\n",
      "15\n",
      "Bin Covering 27 0 0\n",
      "9718\n",
      "15\n",
      "Bin Covering 27 0 1\n",
      "Bin Covering 27 0 2\n",
      "Bin Covering 27 0 3\n",
      "Bin Covering 27 0 4\n",
      "Bin Covering 27 0 5\n",
      "534\n"
     ]
    },
    {
     "name": "stderr",
     "output_type": "stream",
     "text": [
      "/nas/home/hrathod/anaconda3/lib/python3.8/site-packages/IPython/core/interactiveshell.py:3146: DtypeWarning: Columns (27,28,29,34,36,40,41,42,47) have mixed types.Specify dtype option on import or set low_memory=False.\n",
      "  has_raised = await self.run_ast_nodes(code_ast.body, cell_name,\n"
     ]
    },
    {
     "name": "stdout",
     "output_type": "stream",
     "text": [
      "15\n",
      "Bin Covering 27 0 6\n",
      "741\n"
     ]
    },
    {
     "name": "stderr",
     "output_type": "stream",
     "text": [
      "/nas/home/hrathod/anaconda3/lib/python3.8/site-packages/IPython/core/interactiveshell.py:3146: DtypeWarning: Columns (40,41,42,47) have mixed types.Specify dtype option on import or set low_memory=False.\n",
      "  has_raised = await self.run_ast_nodes(code_ast.body, cell_name,\n",
      "/nas/home/hrathod/anaconda3/lib/python3.8/site-packages/IPython/core/interactiveshell.py:3146: DtypeWarning: Columns (40,41,42,47) have mixed types.Specify dtype option on import or set low_memory=False.\n",
      "  has_raised = await self.run_ast_nodes(code_ast.body, cell_name,\n"
     ]
    },
    {
     "name": "stdout",
     "output_type": "stream",
     "text": [
      "15\n",
      "Bin Covering 27 0 7\n",
      "3011\n"
     ]
    },
    {
     "name": "stderr",
     "output_type": "stream",
     "text": [
      "/nas/home/hrathod/anaconda3/lib/python3.8/site-packages/IPython/core/interactiveshell.py:3146: DtypeWarning: Columns (40,41,42,47) have mixed types.Specify dtype option on import or set low_memory=False.\n",
      "  has_raised = await self.run_ast_nodes(code_ast.body, cell_name,\n"
     ]
    },
    {
     "name": "stdout",
     "output_type": "stream",
     "text": [
      "15\n",
      "Bin Covering 27 0 8\n",
      "3813\n"
     ]
    },
    {
     "name": "stderr",
     "output_type": "stream",
     "text": [
      "/nas/home/hrathod/anaconda3/lib/python3.8/site-packages/IPython/core/interactiveshell.py:3146: DtypeWarning: Columns (40,41,42) have mixed types.Specify dtype option on import or set low_memory=False.\n",
      "  has_raised = await self.run_ast_nodes(code_ast.body, cell_name,\n"
     ]
    },
    {
     "name": "stdout",
     "output_type": "stream",
     "text": [
      "15\n",
      "Bin Covering 27 0 9\n",
      "68106\n"
     ]
    },
    {
     "name": "stderr",
     "output_type": "stream",
     "text": [
      "/nas/home/hrathod/anaconda3/lib/python3.8/site-packages/IPython/core/interactiveshell.py:3146: DtypeWarning: Columns (27,28,29,34,36,40,41,42,47) have mixed types.Specify dtype option on import or set low_memory=False.\n",
      "  has_raised = await self.run_ast_nodes(code_ast.body, cell_name,\n"
     ]
    },
    {
     "name": "stdout",
     "output_type": "stream",
     "text": [
      "15\n",
      "Bin Covering 27 1 0\n",
      "Bin Covering 27 1 1\n",
      "Bin Covering 27 1 2\n",
      "Bin Covering 27 1 3\n",
      "Bin Covering 27 1 4\n",
      "Bin Covering 27 1 5\n",
      "Bin Covering 27 1 6\n",
      "Bin Covering 27 1 7\n",
      "Bin Covering 27 1 8\n",
      "Bin Covering 27 1 9\n",
      "Bin Covering 27 2 0\n",
      "Bin Covering 27 2 1\n",
      "Bin Covering 27 2 2\n",
      "Bin Covering 27 2 3\n",
      "Bin Covering 27 2 4\n",
      "Bin Covering 27 2 5\n",
      "Bin Covering 27 2 6\n",
      "Bin Covering 27 2 7\n",
      "Bin Covering 27 2 8\n",
      "Bin Covering 27 2 9\n",
      "Bin Covering 27 3 0\n",
      "Bin Covering 27 3 1\n",
      "Bin Covering 27 3 2\n",
      "Bin Covering 27 3 3\n",
      "Bin Covering 27 3 4\n",
      "Bin Covering 27 3 5\n",
      "Bin Covering 27 3 6\n",
      "Bin Covering 27 3 7\n",
      "Bin Covering 27 3 8\n",
      "Bin Covering 27 3 9\n",
      "Bin Covering 27 4 0\n",
      "Bin Covering 27 4 1\n",
      "Bin Covering 27 4 2\n",
      "Bin Covering 27 4 3\n",
      "Bin Covering 27 4 4\n",
      "Bin Covering 27 4 5\n",
      "Bin Covering 27 4 6\n",
      "Bin Covering 27 4 7\n",
      "Bin Covering 27 4 8\n",
      "Bin Covering 27 4 9\n",
      "Bin Covering 27 5 0\n",
      "914\n",
      "15\n",
      "Bin Covering 27 5 1\n",
      "Bin Covering 27 5 2\n",
      "Bin Covering 27 5 3\n",
      "Bin Covering 27 5 4\n",
      "Bin Covering 27 5 5\n",
      "49\n",
      "15\n",
      "Bin Covering 27 5 6\n",
      "90\n",
      "15\n",
      "Bin Covering 27 5 7\n",
      "423\n",
      "15\n",
      "Bin Covering 27 5 8\n",
      "499\n",
      "15\n",
      "Bin Covering 27 5 9\n",
      "6699\n",
      "15\n",
      "Bin Covering 27 6 0\n",
      "Bin Covering 27 6 1\n",
      "Bin Covering 27 6 2\n",
      "Bin Covering 27 6 3\n",
      "Bin Covering 27 6 4\n",
      "Bin Covering 27 6 5\n",
      "Bin Covering 27 6 6\n",
      "Bin Covering 27 6 7\n",
      "Bin Covering 27 6 8\n",
      "Bin Covering 27 6 9\n",
      "Bin Covering 27 7 0\n",
      "209\n",
      "15\n",
      "Bin Covering 27 7 1\n",
      "Bin Covering 27 7 2\n",
      "Bin Covering 27 7 3\n",
      "Bin Covering 27 7 4\n",
      "Bin Covering 27 7 5\n",
      "19\n",
      "15\n",
      "Bin Covering 27 7 6\n",
      "22\n",
      "15\n",
      "Bin Covering 27 7 7\n",
      "110\n",
      "15\n",
      "Bin Covering 27 7 8\n",
      "103\n",
      "15\n",
      "Bin Covering 27 7 9\n",
      "1246\n",
      "15\n",
      "Bin Covering 27 8 0\n",
      "30\n",
      "15\n",
      "Bin Covering 27 8 1\n",
      "Bin Covering 27 8 2\n",
      "Bin Covering 27 8 3\n",
      "Bin Covering 27 8 4\n",
      "Bin Covering 27 8 5\n",
      "Bin Covering 27 8 6\n",
      "2\n",
      "2\n",
      "Bin Covering 27 8 7\n",
      "19\n",
      "15\n",
      "Bin Covering 27 8 8\n",
      "14\n",
      "14\n",
      "Bin Covering 27 8 9\n",
      "140\n",
      "15\n",
      "Bin Covering 27 9 0\n",
      "2\n",
      "2\n",
      "Bin Covering 27 9 1\n",
      "Bin Covering 27 9 2\n",
      "Bin Covering 27 9 3\n",
      "Bin Covering 27 9 4\n",
      "Bin Covering 27 9 5\n",
      "Bin Covering 27 9 6\n",
      "1\n",
      "1\n",
      "Bin Covering 27 9 7\n",
      "2\n",
      "2\n",
      "Bin Covering 27 9 8\n",
      "3\n",
      "3\n",
      "Bin Covering 27 9 9\n",
      "13\n",
      "13\n"
     ]
    }
   ],
   "source": [
    "number_of_pos_selected = []\n",
    "positive_pairs = []\n",
    "negative_pairs = []\n",
    "number_of_negatives = []\n",
    "for i in range(len(feature_pairs)):\n",
    "    values = dict_key_pairs[f\"pos_key_feature_pair_{i}\"]\n",
    "    feat1 = dict_feature_pairs[i][0]\n",
    "    feat2 = dict_feature_pairs[i][1]\n",
    "    for m in range(10):\n",
    "        for n in range(10):\n",
    "            print(\"Bin Covering\", i, m, n)\n",
    "            curr = len(values[m][n])\n",
    "            if len(values[m][n]) > 0:\n",
    "                current_bin = values[m][n]\n",
    "                n_pos = 0\n",
    "                random.shuffle(current_bin)\n",
    "                # print(curr)\n",
    "                for j in current_bin:\n",
    "                    time_x = time.time()\n",
    "                    \n",
    "                    n_neg = 0\n",
    "                    if (j not in positive_pairs and curr > 15-n_pos) or (curr <= 15-n_pos):\n",
    "                        # positive_pairs.append(j)\n",
    "                        n_pos += 1\n",
    "                        current_cell = j[:-3]\n",
    "                        # Get the negative pair list for the same bin\n",
    "                        neg_values = dict_key_pairs[f\"neg_key_feature_pair_{i}\"][m][n]\n",
    "                        random.shuffle(neg_values)\n",
    "                        # print(len(neg_values))\n",
    "                        for l in neg_values:\n",
    "                            if l[:-3] == current_cell:\n",
    "                                n_neg += 1\n",
    "                                negative_pairs.append(l)\n",
    "                            if n_neg == 5:\n",
    "                                break\n",
    "                        try:\n",
    "                            # if the file is from the 3000 file corpus\n",
    "                            curr_file_path = file_path + j[2]\n",
    "                            curr_file_df = pd.read_csv(curr_file_path)\n",
    "                        except:\n",
    "                            # if the file is from the 295 files\n",
    "                            curr_file_path = file_path_2 + j[2]\n",
    "                            curr_file_df = pd.read_csv(curr_file_path)\n",
    "                            \n",
    "                        #curr_file_df = pd.read_csv(curr_file_path)\n",
    "                        # Get to the respective cell\n",
    "                        curr_file_df_cell = curr_file_df[curr_file_df['row'] == j[0] & (curr_file_df['column'] == j[1])]\n",
    "                        # Calculate the range of values we need based on the bin numbers\n",
    "                        possible_value_range_for_feat_1 = m/10\n",
    "                        possible_value_range_for_feat_2 = n/10\n",
    "                        curr_df_cell_with_val = curr_file_df_cell[(curr_file_df_cell[feat1] >= possible_value_range_for_feat_1) & (curr_file_df_cell[feat1] <= 1.0) & (curr_file_df_cell[feat2] >= possible_value_range_for_feat_2) & (curr_file_df_cell[feat2] <= 1.0)]\n",
    "                        curr_df_cell_with_val = curr_df_cell_with_val.sample(frac = 1)\n",
    "                        for index, row in curr_df_cell_with_val.iterrows():\n",
    "                            if n_neg < 15:\n",
    "                                negative_pairs.append([int(j[0]), int(j[1]), j[2], row['kg_id'], row['evaluation_label'], row[features].values])\n",
    "                                n_neg += 1\n",
    "                        if n_neg < 15:\n",
    "                            for index, row in curr_file_df_cell.iterrows():\n",
    "                                if n_neg < 15:\n",
    "                                    negative_pairs.append([int(j[0]), int(j[1]), j[2], row['kg_id'], row['evaluation_label'], row[features].values])\n",
    "                                    n_neg += 1\n",
    "                        number_of_negatives.append(n_neg)    \n",
    "                        for p in range(n_neg):\n",
    "                            positive_pairs.append(j)\n",
    "                    time_y = time.time()\n",
    "                    if n_pos == 15:\n",
    "                        break\n",
    "                    curr -= 1\n",
    "                number_of_pos_selected.append(n_pos)\n",
    "                # print(n_pos)\n",
    "                if n_pos > 15:\n",
    "                    break\n",
    "                \n",
    "    # Save the current number of positives and negatives\n",
    "    #pickle.dump(positive_pairs,open('positive_pairs_faster.pkl','wb'))\n",
    "    #pickle.dump(negative_pairs,open('negative_pairs_faster.pkl','wb'))\n",
    "    #pickle.dump(number_of_negatives,open('n_negatives_faster.pkl','wb'))"
   ]
  },
  {
   "cell_type": "code",
   "execution_count": 27,
   "id": "32fda74a",
   "metadata": {},
   "outputs": [],
   "source": [
    "pickle.dump(positive_pairs,open('positive_pairs_faster_2.pkl','wb'))"
   ]
  },
  {
   "cell_type": "code",
   "execution_count": 28,
   "id": "8ec7d1d2",
   "metadata": {},
   "outputs": [],
   "source": [
    "pickle.dump(negative_pairs, open('negative_pairs_faster_2.pkl', 'wb'))"
   ]
  }
 ],
 "metadata": {
  "kernelspec": {
   "display_name": "Python 3",
   "language": "python",
   "name": "python3"
  },
  "language_info": {
   "codemirror_mode": {
    "name": "ipython",
    "version": 3
   },
   "file_extension": ".py",
   "mimetype": "text/x-python",
   "name": "python",
   "nbconvert_exporter": "python",
   "pygments_lexer": "ipython3",
   "version": "3.8.5"
  }
 },
 "nbformat": 4,
 "nbformat_minor": 5
}
